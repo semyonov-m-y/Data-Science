{
 "cells": [
  {
   "cell_type": "markdown",
   "id": "ce2a0977-8373-41c3-986a-62fe2f6c9e19",
   "metadata": {},
   "source": [
    "# Линейная регрессия (рекап)"
   ]
  },
  {
   "cell_type": "markdown",
   "id": "f62df51a-8cee-492a-b357-ad8eb6d7d5ce",
   "metadata": {},
   "source": [
    "# $y = w_1x_1 + w_2x_2 +  ... + w_nx_n$\n",
    "\n",
    "# $y = \\sum_{i=1}^{n} w_ix_i$"
   ]
  },
  {
   "cell_type": "markdown",
   "id": "26280bb6-8884-473f-8c3d-1a1f794d028c",
   "metadata": {},
   "source": [
    "<img src=\"https://i.stack.imgur.com/gzrsx.png\" alt=\"Alternative text\" width=\"800\"/>"
   ]
  },
  {
   "cell_type": "markdown",
   "id": "a1c71b15-6eaf-4eed-8967-e72e05ba4d88",
   "metadata": {},
   "source": [
    "<img src=\"https://hackerwins.github.io/assets/img/2019-08-19-dls-c1-week3/neural-network-representation.png\" alt=\"Alternative text\"  width=\"800\"/>"
   ]
  },
  {
   "cell_type": "markdown",
   "id": "79b38e41-901e-4572-a58f-ba793d0bfa25",
   "metadata": {},
   "source": [
    " $a_1^{[1]} = w_{11}x_1 + w_{21}x_2 + w_{31}x_3$\n",
    "\n",
    "$a_2^{[1]} = w_{12}x_1 + w_{22}x_2 + w_{32}x_3$\n",
    "\n",
    "$a_3^{[1]} = w_{13}x_1 + w_{23}x_2 + w_{33}x_3$\n",
    "\n",
    "$a_4^{[1]} = w_{14}x_1 + w_{24}x_2 + w_{34}x_3$\n",
    "\n",
    "$a^{[2]} = b_1 a_1^{[1]} + b_2 a_2^{[1]} + b_3 a_3^{[1]} + b_4 a_4^{[1]}$\n",
    "\n",
    "\n",
    "\n",
    "$a^{[2]} = b_1 (w_{11}x_1 + w_{21}x_2 + w_{31}x_3) + b_2 (w_{12}x_1 + w_{22}x_2 + w_{32}x_3) + b_3 (w_{13}x_1 + w_{23}x_2 + w_{33}x_3) + b_4 (w_{14}x_1 + w_{24}x_2 + w_{34}x_3)$\n",
    "\n",
    "### Почему не используют линейные глубокие сети?\n",
    "\n",
    "\n",
    "$a^{[2]} = b_1w_{11}x_1 + b_1w_{21}x_2 + b_1w_{31}x_3 + b_2w_{12}x_1 + b_2w_{22}x_2 + b_2w_{32}x_3 + b_3w_{13}x_1 + b_3w_{23}x_2 + b_3w_{33}x_3 +  b_4w_{14}x_1 + b_4w_{24}x_2 + b_4w_{34}x_3$\n",
    "\n",
    "$a^{[2]} = (b_1w_{11}x_1 + b_2w_{12}x_1 + b_3w_{13}x_1 + b_4w_{14}x_1) + (b_1w_{21}x_2 + b_2w_{22}x_2 + b_3w_{23}x_2 + b_4w_{24}x_2) + (b_1w_{31}x_3 + b_2w_{32}x_3 + b_3w_{33}x_3  + b_4w_{34}x_3)$\n",
    "\n",
    "$a^{[2]} = x_1(b_1w_{11} + b_2w_{12} + b_3w_{13} + b_4w_{14}) + x_2(b_1w_{21} + b_2w_{22} + b_3w_{23} + b_4w_{24}) + x_3(b_1w_{31} + b_2w_{32} + b_3w_{33} + b_4w_{34})$\n",
    "\n",
    "$a^{[2]} = C_1 x_1 + C_2 x_2 + C_3 x_3$\n",
    "\n",
    "\n",
    "### Если взять нелинейность\n",
    "\n",
    "\n",
    "$a_1^{[1]} = f_1(w_{11}x_1 + w_{21}x_2 + w_{31}x_3)$\n",
    "\n",
    "$a_2^{[1]} = f_2(w_{12}x_1 + w_{22}x_2 + w_{32}x_3)$\n",
    "\n",
    "$a_3^{[1]} = f_3(w_{13}x_1 + w_{23}x_2 + w_{33}x_3)$\n",
    "\n",
    "$a_4^{[1]} = f_4(w_{14}x_1 + w_{24}x_2 + w_{34}x_3)$\n",
    "\n",
    "$a^{[2]} = b_1 a_1^{[1]} + b_2 a_2^{[1]} + b_3 a_3^{[1]} + b_4 a_4^{[1]}$\n",
    "\n",
    "$a^{[2]} = b_1 f_1 + b_2 f_2 + b_3 f_3 + b_4 f_4$\n",
    "\n",
    "### Попробуйте привести $a^{[2]}$ к виду $C_1 x_1 + C_2 x_2 + C_3 x_3$, если считать, что $f_i(x) = x^2$ или $f_i(x) = \\frac{1}{1+e^{-x}}$"
   ]
  },
  {
   "cell_type": "markdown",
   "id": "f0e3a313-736f-4d47-a437-16a04545a8f7",
   "metadata": {},
   "source": [
    "# Логистическая регрессия или нейрон с нелинейной функцией активации?"
   ]
  },
  {
   "cell_type": "markdown",
   "id": "d2994881-3343-4334-b11f-fd35a96ffeca",
   "metadata": {},
   "source": [
    "<img src=\"https://carpentries-incubator.github.io/ml4bio-workshop/assets/logit_nodes.png\" alt=\"Alternative text\"  width=\"800\"/>"
   ]
  },
  {
   "cell_type": "markdown",
   "id": "7a9adee1-a8ff-4a44-8e9e-19246913dd97",
   "metadata": {},
   "source": [
    "# Алгоритм обратного распространения ошибки"
   ]
  },
  {
   "cell_type": "markdown",
   "id": "a5fbafe9-2075-4786-9e9c-89448cfac2e4",
   "metadata": {},
   "source": [
    "$L = (y - \\hat{y})^2$\n",
    "\n",
    "$\\hat{y} = w_1x_1 + w_2x_2$\n",
    "\n",
    "$L = (y - \\hat{y})^2 = L = (y - (w_1x_1 + w_2x_2))^2$\n",
    "\n",
    "$\\frac{dL}{dw_1} = 2(y - (w_1x_1 + w_2x_2)) (-x_1)$\n",
    "\n",
    "$\\frac{dL}{dw_2} = 2(y - (w_1x_1 + w_2x_2)) (-x_2)$"
   ]
  },
  {
   "cell_type": "markdown",
   "id": "8e004e05-cf9f-4fca-b4cc-f64a49987a13",
   "metadata": {},
   "source": [
    "---\n",
    "$L = (y - \\hat{y})^2$\n",
    "\n",
    "$f_1 = w_1x_1 + w_2x_2$\n",
    "\n",
    "$f_2 = w_3x_1 + w_4x_2$\n",
    "\n",
    "$\\hat{y} = w_5f_1 + w_6f_2$\n",
    "\n",
    "$L = (y - \\hat{y})^2 = L = (y - (w_5f_1 + w_6f_2))^2$\n",
    "\n",
    "$\\frac{dL}{dw_5} = 2(y - (w_5f_1 + w_6f_2)) (-f_1)$\n",
    "\n",
    "$\\frac{dL}{dw_6} = 2(y - (w_5f_1 + w_6f_2)) (-f_2)$\n",
    "\n",
    "\n",
    "$\\frac{dL}{dw_1} = \\frac{dL}{df_1}\\frac{df_1}{dw_1} \\rightarrow$\n",
    "\n",
    "$\\frac{dL}{df_1} = 2(y - (w_5f_1 + w_6f_2)) (-w_5)$\n",
    "\n",
    "$\\frac{df_1}{dw_1} = x_1 \\rightarrow $\n",
    "\n",
    "$\\frac{dL}{dw_1} = \\frac{dL}{df_1}\\frac{df_1}{dw_1} = 2(y - (w_5f_1 + w_6f_2)) (-w_5) * x_1$"
   ]
  },
  {
   "cell_type": "code",
   "execution_count": null,
   "id": "3b417ec0-90ac-4f0b-a771-5791a3f7c69b",
   "metadata": {},
   "outputs": [],
   "source": []
  },
  {
   "cell_type": "markdown",
   "id": "9753cd6c-79e0-4c5e-b2db-2ff3c8464402",
   "metadata": {},
   "source": [
    "# Теперь покажем как это всё высчитывается через torch"
   ]
  },
  {
   "cell_type": "code",
   "execution_count": 1,
   "id": "f0378122-41de-4ab8-8750-3775489333f2",
   "metadata": {
    "tags": []
   },
   "outputs": [],
   "source": [
    "import torch\n",
    "import math\n",
    "import matplotlib.pyplot as plt"
   ]
  },
  {
   "cell_type": "markdown",
   "id": "ad176cd1-7aad-4208-a473-254611aca247",
   "metadata": {},
   "source": [
    "1. $\\bar{a}$ - vector\n",
    "\n",
    "2. $\\bar{b} = sin(\\bar{a})$\n",
    "\n",
    "3. $\\bar{c} = 2 * \\bar{b}$\n",
    "\n",
    "4. $\\bar{d} = \\bar{c} + 1$\n",
    "\n",
    "5. $out = \\sum d_i$ - scalar"
   ]
  },
  {
   "cell_type": "code",
   "execution_count": 2,
   "id": "c35fd9ec-39bf-45c2-8bed-019ddf95781a",
   "metadata": {
    "tags": []
   },
   "outputs": [
    {
     "data": {
      "text/plain": [
       "tensor([0.0000, 0.2618, 0.5236, 0.7854, 1.0472, 1.3090, 1.5708, 1.8326, 2.0944,\n",
       "        2.3562, 2.6180, 2.8798, 3.1416, 3.4034, 3.6652, 3.9270, 4.1888, 4.4506,\n",
       "        4.7124, 4.9742, 5.2360, 5.4978, 5.7596, 6.0214, 6.2832],\n",
       "       requires_grad=True)"
      ]
     },
     "execution_count": 2,
     "metadata": {},
     "output_type": "execute_result"
    }
   ],
   "source": [
    "a = torch.linspace(0., 2.* math.pi, steps=25, requires_grad=True)\n",
    "a"
   ]
  },
  {
   "cell_type": "code",
   "execution_count": 3,
   "id": "4fbc0cf1-1c46-4a38-a261-7c66e694777f",
   "metadata": {
    "tags": []
   },
   "outputs": [
    {
     "name": "stdout",
     "output_type": "stream",
     "text": [
      "None\n"
     ]
    }
   ],
   "source": [
    "print(a.grad)"
   ]
  },
  {
   "cell_type": "code",
   "execution_count": 4,
   "id": "abac14fb-ee8d-42a6-9997-ab514469344a",
   "metadata": {
    "tags": []
   },
   "outputs": [
    {
     "data": {
      "text/plain": [
       "tensor([ 0.0000e+00,  2.5882e-01,  5.0000e-01,  7.0711e-01,  8.6603e-01,\n",
       "         9.6593e-01,  1.0000e+00,  9.6593e-01,  8.6603e-01,  7.0711e-01,\n",
       "         5.0000e-01,  2.5882e-01, -8.7423e-08, -2.5882e-01, -5.0000e-01,\n",
       "        -7.0711e-01, -8.6603e-01, -9.6593e-01, -1.0000e+00, -9.6593e-01,\n",
       "        -8.6603e-01, -7.0711e-01, -5.0000e-01, -2.5882e-01,  1.7485e-07],\n",
       "       grad_fn=<SinBackward0>)"
      ]
     },
     "execution_count": 4,
     "metadata": {},
     "output_type": "execute_result"
    }
   ],
   "source": [
    "b = torch.sin(a)\n",
    "b"
   ]
  },
  {
   "cell_type": "code",
   "execution_count": 5,
   "id": "f88068b8",
   "metadata": {},
   "outputs": [],
   "source": [
    "# a.detach().numpy()"
   ]
  },
  {
   "cell_type": "code",
   "execution_count": 6,
   "id": "4995d0ee-e004-42a0-a9dc-3c4268582516",
   "metadata": {
    "tags": []
   },
   "outputs": [
    {
     "data": {
      "text/plain": [
       "[<matplotlib.lines.Line2D at 0x2bd9d42d5e0>]"
      ]
     },
     "execution_count": 6,
     "metadata": {},
     "output_type": "execute_result"
    },
    {
     "data": {
      "image/png": "[encoded data removed]",
      "text/plain": [
       "<Figure size 640x480 with 1 Axes>"
      ]
     },
     "metadata": {},
     "output_type": "display_data"
    }
   ],
   "source": [
    "plt.plot(a.detach(), b.detach())"
   ]
  },
  {
   "cell_type": "code",
   "execution_count": 7,
   "id": "fb11abb9-6e0d-4eb8-aad8-07a8c7acddb9",
   "metadata": {
    "tags": []
   },
   "outputs": [
    {
     "name": "stdout",
     "output_type": "stream",
     "text": [
      "tensor([ 0.0000e+00,  5.1764e-01,  1.0000e+00,  1.4142e+00,  1.7321e+00,\n",
      "         1.9319e+00,  2.0000e+00,  1.9319e+00,  1.7321e+00,  1.4142e+00,\n",
      "         1.0000e+00,  5.1764e-01, -1.7485e-07, -5.1764e-01, -1.0000e+00,\n",
      "        -1.4142e+00, -1.7321e+00, -1.9319e+00, -2.0000e+00, -1.9319e+00,\n",
      "        -1.7321e+00, -1.4142e+00, -1.0000e+00, -5.1764e-01,  3.4969e-07],\n",
      "       grad_fn=<MulBackward0>)\n",
      "tensor([ 1.0000e+00,  1.5176e+00,  2.0000e+00,  2.4142e+00,  2.7321e+00,\n",
      "         2.9319e+00,  3.0000e+00,  2.9319e+00,  2.7321e+00,  2.4142e+00,\n",
      "         2.0000e+00,  1.5176e+00,  1.0000e+00,  4.8236e-01, -3.5763e-07,\n",
      "        -4.1421e-01, -7.3205e-01, -9.3185e-01, -1.0000e+00, -9.3185e-01,\n",
      "        -7.3205e-01, -4.1421e-01,  4.7684e-07,  4.8236e-01,  1.0000e+00],\n",
      "       grad_fn=<AddBackward0>)\n"
     ]
    }
   ],
   "source": [
    "c = 2 * b\n",
    "print(c)\n",
    "\n",
    "d = c + 1\n",
    "print(d)"
   ]
  },
  {
   "cell_type": "code",
   "execution_count": 8,
   "id": "c8e86bfa-d65d-41d6-baae-3495c1c301cb",
   "metadata": {
    "tags": []
   },
   "outputs": [
    {
     "data": {
      "text/plain": [
       "tensor(25., grad_fn=<SumBackward0>)"
      ]
     },
     "execution_count": 8,
     "metadata": {},
     "output_type": "execute_result"
    }
   ],
   "source": [
    "out = d.sum()\n",
    "out"
   ]
  },
  {
   "cell_type": "code",
   "execution_count": 9,
   "id": "ac11318b-88de-47f0-b9e9-ee1398b5b9f9",
   "metadata": {
    "tags": []
   },
   "outputs": [
    {
     "data": {
      "text/plain": [
       "<AddBackward0 at 0x2bd9d3bdd80>"
      ]
     },
     "execution_count": 9,
     "metadata": {},
     "output_type": "execute_result"
    }
   ],
   "source": [
    "d.grad_fn"
   ]
  },
  {
   "cell_type": "code",
   "execution_count": 10,
   "id": "13e259ff-8553-492e-9f5c-d6143a046b37",
   "metadata": {
    "tags": []
   },
   "outputs": [
    {
     "data": {
      "text/plain": [
       "((<MulBackward0 at 0x2bda059d7b0>, 0), (None, 0))"
      ]
     },
     "execution_count": 10,
     "metadata": {},
     "output_type": "execute_result"
    }
   ],
   "source": [
    "d.grad_fn.next_functions"
   ]
  },
  {
   "cell_type": "code",
   "execution_count": 11,
   "id": "4bb49725-8bed-4635-8502-cf99753ca0ca",
   "metadata": {
    "tags": []
   },
   "outputs": [],
   "source": [
    "out.backward()"
   ]
  },
  {
   "cell_type": "code",
   "execution_count": 12,
   "id": "b7a489cc-af08-4f66-b0c5-cad8ba5af2c1",
   "metadata": {
    "tags": []
   },
   "outputs": [
    {
     "data": {
      "text/plain": [
       "tensor([ 2.0000e+00,  1.9319e+00,  1.7321e+00,  1.4142e+00,  1.0000e+00,\n",
       "         5.1764e-01, -8.7423e-08, -5.1764e-01, -1.0000e+00, -1.4142e+00,\n",
       "        -1.7321e+00, -1.9319e+00, -2.0000e+00, -1.9319e+00, -1.7321e+00,\n",
       "        -1.4142e+00, -1.0000e+00, -5.1764e-01,  2.3850e-08,  5.1764e-01,\n",
       "         1.0000e+00,  1.4142e+00,  1.7321e+00,  1.9319e+00,  2.0000e+00])"
      ]
     },
     "execution_count": 12,
     "metadata": {},
     "output_type": "execute_result"
    }
   ],
   "source": [
    "a.grad"
   ]
  },
  {
   "cell_type": "code",
   "execution_count": 13,
   "id": "230a367e-a059-461e-9831-9e35dc798e17",
   "metadata": {
    "tags": []
   },
   "outputs": [
    {
     "data": {
      "text/plain": [
       "[<matplotlib.lines.Line2D at 0x2bda05766c0>]"
      ]
     },
     "execution_count": 13,
     "metadata": {},
     "output_type": "execute_result"
    },
    {
     "data": {
      "image/png": "[encoded data removed]",
      "text/plain": [
       "<Figure size 640x480 with 1 Axes>"
      ]
     },
     "metadata": {},
     "output_type": "display_data"
    }
   ],
   "source": [
    "plt.plot(a.detach(), a.grad.detach())"
   ]
  },
  {
   "cell_type": "markdown",
   "id": "8b584046-3947-4fc1-aac1-15e81b2ce547",
   "metadata": {},
   "source": [
    "$out = \\sum sin(a_i) * 2 +1 $\n",
    "\n",
    "$\\frac{d out}{d a_i} = 2 * cos(a_i)$"
   ]
  },
  {
   "cell_type": "code",
   "execution_count": 14,
   "id": "f6e91942-594b-4463-9dab-264806f08fb6",
   "metadata": {
    "tags": []
   },
   "outputs": [
    {
     "data": {
      "text/plain": [
       "[<matplotlib.lines.Line2D at 0x2bd9d3216d0>]"
      ]
     },
     "execution_count": 14,
     "metadata": {},
     "output_type": "execute_result"
    },
    {
     "data": {
      "image/png": "[encoded data removed]",
      "text/plain": [
       "<Figure size 640x480 with 1 Axes>"
      ]
     },
     "metadata": {},
     "output_type": "display_data"
    }
   ],
   "source": [
    "plt.plot(a.detach(), 2*torch.cos(a).detach())"
   ]
  },
  {
   "cell_type": "code",
   "execution_count": 15,
   "id": "7e75b168-dd61-4f32-8de9-a16884fafa8e",
   "metadata": {
    "tags": []
   },
   "outputs": [],
   "source": [
    "#a = torch.linspace(0., 2.* math.pi, steps=25, requires_grad=True)\n",
    "# Так делать нельзя, иначе будет ошибка\n",
    "#a += 1 #RuntimeError: a leaf Variable that requires grad is being used in an in-place operation."
   ]
  },
  {
   "cell_type": "code",
   "execution_count": null,
   "id": "45c3daa8-0264-43ad-a991-8a629d5a564d",
   "metadata": {},
   "outputs": [],
   "source": []
  },
  {
   "cell_type": "code",
   "execution_count": 16,
   "id": "7215cd4f-b740-498c-8fab-75ee6bae98a9",
   "metadata": {
    "tags": []
   },
   "outputs": [],
   "source": [
    "a = torch.linspace(0., 2.* math.pi, steps=25, requires_grad=True)\n",
    "# Нужно делать так\n",
    "a = a + 1"
   ]
  },
  {
   "cell_type": "code",
   "execution_count": 17,
   "id": "59d7804d-8abb-4375-b8e0-4c0d3ce6a636",
   "metadata": {
    "tags": []
   },
   "outputs": [
    {
     "data": {
      "text/plain": [
       "tensor([1.0000, 1.2618, 1.5236, 1.7854, 2.0472, 2.3090, 2.5708, 2.8326, 3.0944,\n",
       "        3.3562, 3.6180, 3.8798, 4.1416, 4.4034, 4.6652, 4.9270, 5.1888, 5.4506,\n",
       "        5.7124, 5.9742, 6.2360, 6.4978, 6.7596, 7.0214, 7.2832],\n",
       "       grad_fn=<AddBackward0>)"
      ]
     },
     "execution_count": 17,
     "metadata": {},
     "output_type": "execute_result"
    }
   ],
   "source": [
    "a"
   ]
  },
  {
   "cell_type": "code",
   "execution_count": 18,
   "id": "bc136ff5-288b-4c7e-bfee-3af7022a2d3d",
   "metadata": {
    "tags": []
   },
   "outputs": [
    {
     "data": {
      "text/plain": [
       "True"
      ]
     },
     "execution_count": 18,
     "metadata": {},
     "output_type": "execute_result"
    }
   ],
   "source": [
    "torch.randn((3,4), requires_grad=True).requires_grad"
   ]
  },
  {
   "cell_type": "markdown",
   "id": "62ecb4fd-93b7-49a2-b051-7b375313c565",
   "metadata": {},
   "source": [
    "# Напишем нейронную сеть с нуля, используя MNIST"
   ]
  },
  {
   "cell_type": "code",
   "execution_count": 19,
   "id": "47c9126c-1548-4665-b13e-ace6f293bf69",
   "metadata": {},
   "outputs": [],
   "source": [
    "import matplotlib.pyplot as plt\n",
    "import numpy as np\n",
    "\n",
    "import torch\n",
    "import torchvision.datasets as datasets\n",
    "from torch import nn\n",
    "from torch import optim"
   ]
  },
  {
   "cell_type": "code",
   "execution_count": 20,
   "id": "351c33ab-9e19-4530-bbf1-6f3b8b687679",
   "metadata": {},
   "outputs": [
    {
     "name": "stdout",
     "output_type": "stream",
     "text": [
      "Downloading http://yann.lecun.com/exdb/mnist/train-images-idx3-ubyte.gz\n",
      "Downloading http://yann.lecun.com/exdb/mnist/train-labels-idx1-ubyte.gz\n",
      "Downloading http://yann.lecun.com/exdb/mnist/t10k-images-idx3-ubyte.gz\n",
      "Downloading http://yann.lecun.com/exdb/mnist/t10k-labels-idx1-ubyte.gz\n",
      "Processing\n",
      "Done!\n",
      "Files already downloaded\n"
     ]
    },
    {
     "data": {
      "text/plain": [
       "(60000, 10000)"
      ]
     },
     "execution_count": 20,
     "metadata": {},
     "output_type": "execute_result"
    }
   ],
   "source": [
    "# подгрузить данные в train датасет tuple(picture, target)\n",
    "mnist_trainset = datasets.MNIST(root='./data', train=True, download=True, transform=None)\n",
    "# подгрузить данные в test датасет tuple(picture, target)\n",
    "mnist_testset = datasets.MNIST(root='./data', train=False, download=True, transform=None)\n",
    "\n",
    "# выделить таргет для train в отдельную переменную\n",
    "train_target = np.asarray([el[1] for el in mnist_trainset])\n",
    "# выделить таргет для test в отдельную переменную\n",
    "test_target = np.asarray([el[1] for el in mnist_testset])\n",
    "\n",
    "# выделить картинку для train в отдельную переменную. Сделать шкалирование (пиксели от 0 до 255. Сделаем значения от 0 до 1)\n",
    "raw_train_X = np.asarray([np.asarray(el[0])/255 for el in mnist_trainset])\n",
    "# выделить картинку для test в отдельную переменную. Сделать шкалирование (пиксели от 0 до 255. Сделаем значения от 0 до 1)\n",
    "raw_test_X = np.asarray([np.asarray(el[0])/255 for el in mnist_testset])\n",
    "\n",
    "len(mnist_trainset), len(mnist_testset)"
   ]
  },
  {
   "cell_type": "code",
   "execution_count": 21,
   "id": "b09de3ed",
   "metadata": {},
   "outputs": [
    {
     "data": {
      "text/plain": [
       "((60000, 28, 28), (60000,))"
      ]
     },
     "execution_count": 21,
     "metadata": {},
     "output_type": "execute_result"
    }
   ],
   "source": [
    "raw_train_X.shape, train_target.shape"
   ]
  },
  {
   "cell_type": "code",
   "execution_count": 22,
   "id": "7746e474",
   "metadata": {},
   "outputs": [
    {
     "data": {
      "text/plain": [
       "array([5, 0, 4, 1, 9], dtype=int64)"
      ]
     },
     "execution_count": 22,
     "metadata": {},
     "output_type": "execute_result"
    }
   ],
   "source": [
    "train_target[:5]"
   ]
  },
  {
   "cell_type": "code",
   "execution_count": 23,
   "id": "0b66232f-10f9-4c42-8418-ad48e7d1e800",
   "metadata": {},
   "outputs": [
    {
     "data": {
      "text/plain": [
       "<matplotlib.image.AxesImage at 0x2bd9d42ef30>"
      ]
     },
     "execution_count": 23,
     "metadata": {},
     "output_type": "execute_result"
    },
    {
     "data": {
      "image/png": "[encoded data removed]",
      "text/plain": [
       "<Figure size 640x480 with 1 Axes>"
      ]
     },
     "metadata": {},
     "output_type": "display_data"
    }
   ],
   "source": [
    "# отрисуем случайный элемент в датасете\n",
    "rnd_ix = np.random.choice(range(raw_train_X.shape[0]), size=1)[0]\n",
    "plt.imshow(raw_train_X[rnd_ix])"
   ]
  },
  {
   "cell_type": "code",
   "execution_count": 24,
   "id": "b77235d9-638d-41f8-9888-6fb009fb112f",
   "metadata": {},
   "outputs": [
    {
     "data": {
      "text/plain": [
       "(60000, 28, 28)"
      ]
     },
     "execution_count": 24,
     "metadata": {},
     "output_type": "execute_result"
    }
   ],
   "source": [
    "raw_train_X.shape"
   ]
  },
  {
   "cell_type": "code",
   "execution_count": 25,
   "id": "d1ef9b79-7dc9-455f-bcbb-063d9a32c55c",
   "metadata": {},
   "outputs": [
    {
     "data": {
      "text/plain": [
       "784"
      ]
     },
     "execution_count": 25,
     "metadata": {},
     "output_type": "execute_result"
    }
   ],
   "source": [
    "28*28"
   ]
  },
  {
   "cell_type": "code",
   "execution_count": 26,
   "id": "4498ea82-ef1b-49d1-a72c-c64715176c3e",
   "metadata": {},
   "outputs": [
    {
     "data": {
      "text/plain": [
       "((60000, 784), (10000, 784))"
      ]
     },
     "execution_count": 26,
     "metadata": {},
     "output_type": "execute_result"
    }
   ],
   "source": [
    "# вытянем картинку в одномерный вектор\n",
    "train_X = raw_train_X.reshape((raw_train_X.shape[0], raw_train_X.shape[1] * raw_train_X.shape[2])).astype(float)\n",
    "test_X = raw_test_X.reshape((raw_test_X.shape[0], raw_test_X.shape[1] * raw_test_X.shape[2])).astype(float)\n",
    "\n",
    "train_X.shape, test_X.shape"
   ]
  },
  {
   "cell_type": "code",
   "execution_count": 27,
   "id": "cf64f746-4801-46b2-abec-5e0d3dfb82a0",
   "metadata": {},
   "outputs": [
    {
     "data": {
      "text/plain": [
       "array([0.        , 0.        , 0.04313725, 0.74509804, 0.99215686])"
      ]
     },
     "execution_count": 27,
     "metadata": {},
     "output_type": "execute_result"
    }
   ],
   "source": [
    "# пример значений в одномерном векторе\n",
    "train_X[0,345:350]"
   ]
  },
  {
   "cell_type": "markdown",
   "id": "0257c92e-e1a4-4558-b6c4-c79f4b7067fd",
   "metadata": {},
   "source": [
    "# Вариант реализации #1"
   ]
  },
  {
   "cell_type": "code",
   "execution_count": 28,
   "id": "3fcdd897-5ec7-4056-adcd-646d54d39e3b",
   "metadata": {},
   "outputs": [
    {
     "name": "stdout",
     "output_type": "stream",
     "text": [
      "10\n"
     ]
    }
   ],
   "source": [
    "# количество нейронов в первом слое\n",
    "neuron_n_layer1 = 256\n",
    "# количество нейронов во втором (и последнем) слое. Их будет 10, так как таргет у нас от 0 до 9\n",
    "neuron_n_layer2 = train_target.max() + 1\n",
    "print(neuron_n_layer2)\n",
    "\n",
    "# постепенное преобразование матрицы весов к нужному виду\n",
    "#1. с помощью numpy получим матрицу, значения в которой распределены нормально\n",
    "np_w1 = np.random.normal(size=(train_X.shape[1], neuron_n_layer1))\n",
    "#2. преобразуем numpy матрицу в torch тензор. Необходимая обертка, чтобы torch завелся\n",
    "w1 = torch.tensor(np_w1, requires_grad=True, dtype=torch.float32)\n",
    "\n",
    "w2 = torch.tensor(\n",
    "    np.random.normal(size=(neuron_n_layer1, neuron_n_layer2)), requires_grad=True, dtype=torch.float32)"
   ]
  },
  {
   "cell_type": "code",
   "execution_count": 29,
   "id": "8844f112-077a-4bca-829b-d36c8a7f6bb0",
   "metadata": {},
   "outputs": [
    {
     "data": {
      "text/plain": [
       "(torch.Size([784, 256]), torch.Tensor, torch.Size([256, 10]))"
      ]
     },
     "execution_count": 29,
     "metadata": {},
     "output_type": "execute_result"
    }
   ],
   "source": [
    "w1.shape, type(w1), w2.shape"
   ]
  },
  {
   "cell_type": "markdown",
   "id": "6eef89f9-b1d4-48e9-a36f-95b404547244",
   "metadata": {},
   "source": [
    "Формула softmax на выходе нейронки:\n",
    "# $\\frac{e^{-z_i}}{\\sum e^{-z_j}}$"
   ]
  },
  {
   "cell_type": "code",
   "execution_count": 30,
   "id": "4e25a7bf-9854-4864-a631-e667ad78b25f",
   "metadata": {},
   "outputs": [
    {
     "data": {
      "text/plain": [
       "203264"
      ]
     },
     "execution_count": 30,
     "metadata": {},
     "output_type": "execute_result"
    }
   ],
   "source": [
    "# Количество весов в нейронке:\n",
    "784 * 256 + 256 * 10"
   ]
  },
  {
   "cell_type": "code",
   "execution_count": 31,
   "id": "01675282-3165-4f84-83cb-783147a41ad3",
   "metadata": {},
   "outputs": [
    {
     "name": "stdout",
     "output_type": "stream",
     "text": [
      "train_accuracy: 0.109375; test_accuracy: 0.11649999767541885\n",
      "train_accuracy: 0.27734375; test_accuracy: 0.21150000393390656\n",
      "train_accuracy: 0.234375; test_accuracy: 0.26260000467300415\n",
      "train_accuracy: 0.30859375; test_accuracy: 0.31709998846054077\n",
      "train_accuracy: 0.34765625; test_accuracy: 0.3675999939441681\n",
      "train_accuracy: 0.359375; test_accuracy: 0.4050000011920929\n",
      "train_accuracy: 0.40234375; test_accuracy: 0.4422000050544739\n",
      "train_accuracy: 0.44921875; test_accuracy: 0.474700003862381\n",
      "train_accuracy: 0.44921875; test_accuracy: 0.5023999810218811\n",
      "train_accuracy: 0.50390625; test_accuracy: 0.5254999995231628\n",
      "train_accuracy: 0.55078125; test_accuracy: 0.5444999933242798\n",
      "train_accuracy: 0.5078125; test_accuracy: 0.5626999735832214\n",
      "train_accuracy: 0.58984375; test_accuracy: 0.5778999924659729\n",
      "train_accuracy: 0.53515625; test_accuracy: 0.5909000039100647\n",
      "train_accuracy: 0.60546875; test_accuracy: 0.6032999753952026\n",
      "train_accuracy: 0.62890625; test_accuracy: 0.6144999861717224\n",
      "train_accuracy: 0.609375; test_accuracy: 0.6237000226974487\n",
      "train_accuracy: 0.640625; test_accuracy: 0.6353999972343445\n",
      "train_accuracy: 0.71484375; test_accuracy: 0.6434999704360962\n",
      "train_accuracy: 0.5703125; test_accuracy: 0.6535999774932861\n",
      "train_accuracy: 0.640625; test_accuracy: 0.660099983215332\n",
      "train_accuracy: 0.66796875; test_accuracy: 0.6665999889373779\n",
      "train_accuracy: 0.6953125; test_accuracy: 0.671999990940094\n",
      "train_accuracy: 0.6640625; test_accuracy: 0.6789000034332275\n",
      "train_accuracy: 0.7109375; test_accuracy: 0.6843000054359436\n",
      "train_accuracy: 0.6796875; test_accuracy: 0.6887999773025513\n",
      "train_accuracy: 0.69140625; test_accuracy: 0.6949999928474426\n",
      "train_accuracy: 0.71875; test_accuracy: 0.699999988079071\n",
      "train_accuracy: 0.68359375; test_accuracy: 0.7059000134468079\n",
      "train_accuracy: 0.6953125; test_accuracy: 0.7095999717712402\n",
      "train_accuracy: 0.69921875; test_accuracy: 0.7132999897003174\n",
      "train_accuracy: 0.75390625; test_accuracy: 0.7178000211715698\n",
      "train_accuracy: 0.734375; test_accuracy: 0.7207000255584717\n",
      "train_accuracy: 0.67578125; test_accuracy: 0.7251999974250793\n",
      "train_accuracy: 0.734375; test_accuracy: 0.7289999723434448\n",
      "train_accuracy: 0.7734375; test_accuracy: 0.7318000197410583\n",
      "train_accuracy: 0.71875; test_accuracy: 0.73580002784729\n",
      "train_accuracy: 0.75; test_accuracy: 0.7396000027656555\n",
      "train_accuracy: 0.78125; test_accuracy: 0.7419000267982483\n",
      "train_accuracy: 0.765625; test_accuracy: 0.7439000010490417\n",
      "train_accuracy: 0.7578125; test_accuracy: 0.7468000054359436\n",
      "train_accuracy: 0.71484375; test_accuracy: 0.7488999962806702\n",
      "train_accuracy: 0.75; test_accuracy: 0.7512000203132629\n",
      "train_accuracy: 0.75; test_accuracy: 0.7537000179290771\n",
      "train_accuracy: 0.74609375; test_accuracy: 0.7560999989509583\n",
      "train_accuracy: 0.703125; test_accuracy: 0.758899986743927\n",
      "train_accuracy: 0.77734375; test_accuracy: 0.760200023651123\n",
      "train_accuracy: 0.7109375; test_accuracy: 0.7620999813079834\n",
      "train_accuracy: 0.71875; test_accuracy: 0.7649999856948853\n",
      "train_accuracy: 0.75390625; test_accuracy: 0.766700029373169\n"
     ]
    }
   ],
   "source": [
    "# количество эпох\n",
    "epoches = 5000\n",
    "# размер батча во время обучения\n",
    "batch_size = 256\n",
    "# learning rate\n",
    "lr = 1e-2 # 0.01\n",
    "\n",
    "# список, чтобы хранить качество на трейне\n",
    "train_accs = []\n",
    "# список, чтобы хранить качество на тесте\n",
    "test_accs = []\n",
    "\n",
    "# запускаем процесс по эпохам\n",
    "for ix, epoch in enumerate(range(epoches)):\n",
    "    # выбираем случайно batch_size индексов элементов датасета в трейне, которые будем подавать на вход нейронки для обучения\n",
    "    batch_ixs = np.random.choice(range(train_target.shape[0]), size=batch_size, replace=True)\n",
    "    # таргеты на них\n",
    "    batch_target = train_target[batch_ixs]\n",
    "    # картинки, вытянутые в один вектор.\n",
    "    batch_X = train_X[batch_ixs]\n",
    "    # преобразуем картинки и таргеты к нужному виду, чтобы торч работал\n",
    "    batch_y_target = torch.tensor(batch_target, requires_grad=False)\n",
    "    batch_train_X_tensor = torch.tensor(batch_X, dtype=torch.float32, requires_grad=False)\n",
    "    # sigmoid(X_batch * w_1) * w_2 = logits\n",
    "    logit_pred = torch.matmul(torch.matmul(batch_train_X_tensor, w1).sigmoid(), w2)\n",
    "    # y_pred = sigmoid(logits)\n",
    "    y_pred = logit_pred.exp()/(logit_pred.exp().sum(-1)).unsqueeze(-1)  #logit_pred - logit_pred.exp().sum(-1).log().unsqueeze(-1) #\n",
    "    loss =  -y_pred[range(batch_y_target.shape[0]), batch_y_target].log().mean() #-y_pred[range(batch_y_target.shape[0]), batch_y_target].mean() #\n",
    "    \n",
    "    # расчет градиентов\n",
    "    loss.backward()\n",
    "    # обновление весов для первой и второгой матриц\n",
    "    w1.data = w1.data - lr * w1.grad.data\n",
    "    w2.data = w2.data - lr * w2.grad.data\n",
    "    \n",
    "    # обновляем градиенты, которые были посчитаны. Если этого не делать, то они будут накапливаться от итерации к итерации.\n",
    "    w1.grad.data.zero_()\n",
    "    w2.grad.data.zero_()\n",
    "    \n",
    "    # каждую сотую эпоху считаем качество на тесте. Просто \n",
    "    if ix % 100 == 0:\n",
    "        test_y_target = torch.tensor(test_target, requires_grad=False)\n",
    "        test_X_tensor = torch.tensor(test_X, dtype=torch.float32, requires_grad=False)\n",
    "        logit_pred = torch.matmul(torch.matmul(test_X_tensor, w1).sigmoid(), w2)\n",
    "        test_y_pred = logit_pred - logit_pred.exp().sum(-1).log().unsqueeze(-1)\n",
    "        test_accuracy = (test_y_pred.argmax(dim=1) == test_y_target).type(torch.FloatTensor).mean()\n",
    "        \n",
    "        logit_pred = torch.matmul(torch.matmul(batch_train_X_tensor, w1).sigmoid(), w2)\n",
    "        train_y_pred = logit_pred - logit_pred.exp().sum(-1).log().unsqueeze(-1)\n",
    "        train_accuracy = (train_y_pred.argmax(dim=1) == batch_y_target).type(torch.FloatTensor).mean()\n",
    "        print(f\"train_accuracy: {train_accuracy}; test_accuracy: {test_accuracy}\")\n",
    "        \n",
    "        test_accs.append(float(test_accuracy.data))\n",
    "        train_accs.append(float(train_accuracy.data))\n",
    "        # break"
   ]
  },
  {
   "cell_type": "code",
   "execution_count": 32,
   "id": "50219d10-e901-420b-b2ad-4ee282a0f108",
   "metadata": {},
   "outputs": [],
   "source": [
    "test_y_target = torch.tensor(test_target, requires_grad=False)\n",
    "test_X_tensor = torch.tensor(test_X, dtype=torch.float32, requires_grad=False)"
   ]
  },
  {
   "cell_type": "code",
   "execution_count": 33,
   "id": "697444a5-246e-42cb-8edc-b9aae944d666",
   "metadata": {},
   "outputs": [
    {
     "data": {
      "text/plain": [
       "<matplotlib.legend.Legend at 0x2bda6ae0800>"
      ]
     },
     "execution_count": 33,
     "metadata": {},
     "output_type": "execute_result"
    },
    {
     "data": {
      "image/png": "[encoded data removed]",
      "text/plain": [
       "<Figure size 1000x500 with 1 Axes>"
      ]
     },
     "metadata": {},
     "output_type": "display_data"
    }
   ],
   "source": [
    "plt.figure(figsize=(10, 5))\n",
    "plt.grid()\n",
    "plt.plot(train_accs, label='train accuracy')\n",
    "plt.plot(test_accs, label='test accuracy')\n",
    "plt.legend()"
   ]
  },
  {
   "cell_type": "code",
   "execution_count": 34,
   "id": "8004b9d0-2f5f-4df0-b4c6-86b7f0eb4ef6",
   "metadata": {},
   "outputs": [
    {
     "data": {
      "text/plain": [
       "<matplotlib.image.AxesImage at 0x2bd9d42d100>"
      ]
     },
     "execution_count": 34,
     "metadata": {},
     "output_type": "execute_result"
    },
    {
     "data": {
      "image/png": "[encoded data removed]",
      "text/plain": [
       "<Figure size 1000x500 with 1 Axes>"
      ]
     },
     "metadata": {},
     "output_type": "display_data"
    }
   ],
   "source": [
    "test_ix = np.random.choice(range(test_X_tensor.shape[0]), size=1)[0]\n",
    "logit_pred = torch.matmul(torch.matmul(test_X_tensor[test_ix], w1).sigmoid(), w2)\n",
    "test_y_pred = logit_pred - logit_pred.exp().sum(-1).log().unsqueeze(-1)\n",
    "pred_class = float(test_y_pred.argmax().detach().numpy())\n",
    "\n",
    "plt.figure(figsize=(10,5))\n",
    "plt.title(f\"predicted class: {pred_class}\")\n",
    "plt.imshow(raw_test_X[test_ix])"
   ]
  },
  {
   "cell_type": "code",
   "execution_count": null,
   "id": "611c85af-7bbe-4f37-bbf7-f6244477eb78",
   "metadata": {},
   "outputs": [],
   "source": []
  },
  {
   "cell_type": "markdown",
   "id": "9213d8d5-b580-4f3b-b141-c867c7ff4a3f",
   "metadata": {},
   "source": [
    "# Вариант реализации #2 (с модулями torch)"
   ]
  },
  {
   "cell_type": "code",
   "execution_count": 35,
   "id": "e2332d4a-3563-4d23-ae77-aecf3c76d7aa",
   "metadata": {},
   "outputs": [],
   "source": [
    "class MnistModel(nn.Module):\n",
    "    \n",
    "    def __init__(self, input_size, output_size):\n",
    "        super().__init__()\n",
    "        self.fc1 = nn.Linear(input_size, 30)\n",
    "        self.fc2 = nn.Linear(30, output_size)\n",
    "        \n",
    "    def forward(self, x):\n",
    "        x = self.fc1(x)\n",
    "        x = nn.Sigmoid()(x)\n",
    "        x = self.fc2(x)\n",
    "        out = nn.LogSoftmax(dim=1)(x)\n",
    "        return out"
   ]
  },
  {
   "cell_type": "code",
   "execution_count": 36,
   "id": "296610b5-7369-4ddb-a37d-259d0bb1defd",
   "metadata": {},
   "outputs": [],
   "source": [
    "# model = MnistModel(train_X.shape[1], train_target.max()+1)\n",
    "# for el in model.parameters():\n",
    "#     print(el)"
   ]
  },
  {
   "cell_type": "code",
   "execution_count": 37,
   "id": "21f86656-7a2c-4f63-a82d-02fdbc20673e",
   "metadata": {},
   "outputs": [
    {
     "name": "stderr",
     "output_type": "stream",
     "text": [
      "C:\\python-3.12.0rc1-embed-amd64\\python312\\Lib\\site-packages\\tqdm\\auto.py:21: TqdmWarning: IProgress not found. Please update jupyter and ipywidgets. See https://ipywidgets.readthedocs.io/en/stable/user_install.html\n",
      "  from .autonotebook import tqdm as notebook_tqdm\n"
     ]
    },
    {
     "name": "stdout",
     "output_type": "stream",
     "text": [
      "train_accuracy: 0.09375; test_accuracy: 0.08919999748468399\n",
      "train_accuracy: 0.51171875; test_accuracy: 0.5\n",
      "train_accuracy: 0.61328125; test_accuracy: 0.6241000294685364\n",
      "train_accuracy: 0.61328125; test_accuracy: 0.6534000039100647\n",
      "train_accuracy: 0.72265625; test_accuracy: 0.708299994468689\n",
      "train_accuracy: 0.7578125; test_accuracy: 0.7524999976158142\n",
      "train_accuracy: 0.77734375; test_accuracy: 0.7883999943733215\n",
      "train_accuracy: 0.78125; test_accuracy: 0.8130000233650208\n",
      "train_accuracy: 0.8359375; test_accuracy: 0.8270000219345093\n",
      "train_accuracy: 0.80859375; test_accuracy: 0.8392000198364258\n"
     ]
    }
   ],
   "source": [
    "# количество эпох\n",
    "epoches = 5000\n",
    "# размер батча во время обучения\n",
    "batch_size = 256\n",
    "# learning rate\n",
    "lr = 1e-2\n",
    "\n",
    "# список, чтобы хранить качество на трейне\n",
    "train_accs = []\n",
    "# список, чтобы хранить качество на тесте\n",
    "test_accs = []\n",
    "\n",
    "# задаем loss\n",
    "criterion = nn.NLLLoss()\n",
    "\n",
    "# инициализируем модель\n",
    "model = MnistModel(train_X.shape[1], train_target.max()+1)\n",
    "# инициализируем оптимизатор\n",
    "optimizer = optim.SGD(model.parameters(), lr=lr)\n",
    "\n",
    "for ix, epoch in enumerate(range(epoches)):\n",
    "    # выбираем случайно batch_size индексов элементов датасета в трейне, которые будем подавать на вход нейронки для обучения\n",
    "    batch_ixs = np.random.choice(range(train_target.shape[0]), size=batch_size, replace=True)\n",
    "    # таргеты на них\n",
    "    batch_target = train_target[batch_ixs]\n",
    "    # картинки, вытянутые в один вектор.\n",
    "    batch_X = train_X[batch_ixs]\n",
    "    # преобразуем картинки и таргеты к нужному виду, чтобы торч работал\n",
    "    batch_y_target = torch.tensor(batch_target, requires_grad=False)\n",
    "    batch_train_X_tensor = torch.tensor(batch_X, dtype=torch.float32, requires_grad=False)\n",
    "    # обнуляем градиенты, чтобы накопление не шло\n",
    "    optimizer.zero_grad()\n",
    "    # получаем предсказания (умножение матриц и всякое такое)\n",
    "    preds = model.forward(batch_train_X_tensor)\n",
    "    # считаем лосс\n",
    "    loss = criterion(preds, batch_y_target)\n",
    "    # получаем градиенты на веса\n",
    "    loss.backward()\n",
    "    # обновляем веса, исходя из градиентов\n",
    "    optimizer.step()\n",
    "    # отрисовка качества\n",
    "    if ix % 500 == 0:\n",
    "        # torch.no_grad() нужна для того, чтобы модель понимала, что не надо считать градиенты и дополнительные параметры, а использовала то, что уже выучила.\n",
    "        with torch.no_grad():\n",
    "            test_y_pred = torch.exp(model.forward(test_X_tensor))\n",
    "            test_accuracy = (test_y_pred.argmax(dim=1) == test_y_target).type(torch.FloatTensor).mean()\n",
    "\n",
    "            train_y_pred = torch.exp(model.forward(batch_train_X_tensor))\n",
    "            train_accuracy = (train_y_pred.argmax(dim=1) == batch_y_target).type(torch.FloatTensor).mean()\n",
    "            \n",
    "            print(f\"train_accuracy: {train_accuracy}; test_accuracy: {test_accuracy}\")\n",
    "\n",
    "            test_accs.append(float(test_accuracy.data))\n",
    "            train_accs.append(float(train_accuracy.data))\n",
    "        # break"
   ]
  },
  {
   "cell_type": "code",
   "execution_count": 38,
   "id": "438fbae0-edda-47cf-8031-a331d527a24c",
   "metadata": {},
   "outputs": [],
   "source": [
    "test_y_target = torch.tensor(test_target)\n",
    "test_X_tensor = torch.tensor(test_X, dtype=torch.float32)"
   ]
  },
  {
   "cell_type": "code",
   "execution_count": 39,
   "id": "480bfded-3eb5-4240-aae7-58a5a62f2c26",
   "metadata": {},
   "outputs": [
    {
     "data": {
      "image/png": "[encoded data removed]",
      "text/plain": [
       "<Figure size 1000x500 with 1 Axes>"
      ]
     },
     "metadata": {},
     "output_type": "display_data"
    }
   ],
   "source": [
    "with torch.no_grad():\n",
    "    test_ix = np.random.choice(range(test_X_tensor.shape[0]), size=1)[0]\n",
    "    logit_pred = model.forward(test_X_tensor[test_ix][None,:])\n",
    "    pred_class = float(logit_pred.argmax().detach().numpy())\n",
    "    pred_class\n",
    "\n",
    "    plt.figure(figsize=(10,5))\n",
    "    plt.title(f\"predicted class: {pred_class}\")\n",
    "    plt.imshow(raw_test_X[test_ix])"
   ]
  },
  {
   "cell_type": "code",
   "execution_count": null,
   "id": "f5c8fcc1-92e6-4d42-9fd4-2468f44c664c",
   "metadata": {},
   "outputs": [],
   "source": []
  }
 ],
 "metadata": {
  "kernelspec": {
   "display_name": "Python 3 (ipykernel)",
   "language": "python",
   "name": "python3"
  },
  "language_info": {
   "codemirror_mode": {
    "name": "ipython",
    "version": 3
   },
   "file_extension": ".py",
   "mimetype": "text/x-python",
   "name": "python",
   "nbconvert_exporter": "python",
   "pygments_lexer": "ipython3",
   "version": "3.12.0"
  }
 },
 "nbformat": 4,
 "nbformat_minor": 5
}
