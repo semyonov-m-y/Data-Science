{
  "nbformat": 4,
  "nbformat_minor": 0,
  "metadata": {
    "colab": {
      "provenance": [],
      "toc_visible": true
    },
    "kernelspec": {
      "name": "python3",
      "display_name": "Python 3"
    },
    "accelerator": "GPU"
  },
  "cells": [
    {
      "cell_type": "markdown",
      "metadata": {
        "id": "Ah7dy1kFL2H9"
      },
      "source": [
        "# Оптимизация гиперпараметров нейросети с помощью [Keras Tuner](https://github.com/keras-team/keras-tuner)\n",
        "\n",
        "\n",
        "Чтобы запускать и редактировать код, сохраните копию этого ноутбука себе (File->Save a copy in Drive...). Свою копию вы сможете изменять и запускать.\n",
        "\n",
        "Не забудьте подключить GPU, чтобы сеть обучалась быстрее (Runtime -> Change Runtime Type -> Hardware Accelerator -> GPU).\n",
        "\n"
      ]
    },
    {
      "cell_type": "markdown",
      "metadata": {
        "id": "Om0LL5DEZfEo"
      },
      "source": [
        "## Гиперпараметры обучения нейронной сети\n",
        "\n",
        "- Количество слоев нейронной сети\n",
        "- Количество нейронов в каждом слое\n",
        "- Функции активации, которые используются в слоях\n",
        "- Тип оптимизатора при обучении нейронной сети\n",
        "- Количество эпох обучения"
      ]
    },
    {
      "cell_type": "markdown",
      "metadata": {
        "id": "eVmxmhjuia9a"
      },
      "source": [
        "## Установка Keras Tuner"
      ]
    },
    {
      "cell_type": "code",
      "metadata": {
        "id": "ftLg2Tt0Rejk",
        "colab": {
          "base_uri": "https://localhost:8080/"
        },
        "outputId": "4949b630-6c65-4735-d8c3-714e4dc5bd1b"
      },
      "source": [
        "pip install -U keras-tuner"
      ],
      "execution_count": 52,
      "outputs": [
        {
          "output_type": "stream",
          "name": "stdout",
          "text": [
            "Requirement already satisfied: keras-tuner in /usr/local/lib/python3.10/dist-packages (1.4.7)\n",
            "Requirement already satisfied: keras in /usr/local/lib/python3.10/dist-packages (from keras-tuner) (2.15.0)\n",
            "Requirement already satisfied: packaging in /usr/local/lib/python3.10/dist-packages (from keras-tuner) (24.0)\n",
            "Requirement already satisfied: requests in /usr/local/lib/python3.10/dist-packages (from keras-tuner) (2.31.0)\n",
            "Requirement already satisfied: kt-legacy in /usr/local/lib/python3.10/dist-packages (from keras-tuner) (1.0.5)\n",
            "Requirement already satisfied: charset-normalizer<4,>=2 in /usr/local/lib/python3.10/dist-packages (from requests->keras-tuner) (3.3.2)\n",
            "Requirement already satisfied: idna<4,>=2.5 in /usr/local/lib/python3.10/dist-packages (from requests->keras-tuner) (3.7)\n",
            "Requirement already satisfied: urllib3<3,>=1.21.1 in /usr/local/lib/python3.10/dist-packages (from requests->keras-tuner) (2.0.7)\n",
            "Requirement already satisfied: certifi>=2017.4.17 in /usr/local/lib/python3.10/dist-packages (from requests->keras-tuner) (2024.2.2)\n"
          ]
        }
      ]
    },
    {
      "cell_type": "markdown",
      "metadata": {
        "id": "TRs9p254BLSu"
      },
      "source": [
        "## Подключаем нужные пакеты"
      ]
    },
    {
      "cell_type": "code",
      "metadata": {
        "id": "qrfd6FzSLrE2",
        "colab": {
          "base_uri": "https://localhost:8080/"
        },
        "outputId": "f497dc5c-020d-4bb0-d13b-62bd61996458"
      },
      "source": [
        "%tensorflow_version 2.x\n",
        "from tensorflow.keras.datasets import fashion_mnist\n",
        "from tensorflow.keras.models import Sequential\n",
        "from tensorflow.keras.layers import Dense\n",
        "from tensorflow.keras import utils\n",
        "from google.colab import files\n",
        "from keras import layers\n",
        "from kerastuner.tuners import RandomSearch, Hyperband, BayesianOptimization\n",
        "import numpy as np"
      ],
      "execution_count": 53,
      "outputs": [
        {
          "output_type": "stream",
          "name": "stdout",
          "text": [
            "Colab only includes TensorFlow 2.x; %tensorflow_version has no effect.\n"
          ]
        }
      ]
    },
    {
      "cell_type": "markdown",
      "metadata": {
        "id": "xiurjCBVMDTG"
      },
      "source": [
        "## Подготовка данных для обучения сети"
      ]
    },
    {
      "cell_type": "code",
      "metadata": {
        "id": "E5L3LUIi8PDV"
      },
      "source": [
        "(x_train, y_train), (x_test, y_test) = fashion_mnist.load_data()"
      ],
      "execution_count": 54,
      "outputs": []
    },
    {
      "cell_type": "code",
      "metadata": {
        "id": "6Z52YG_1kXbi"
      },
      "source": [
        "x_train = x_train.reshape(60000, 784)\n",
        "x_test = x_test.reshape(10000, 784)\n",
        "x_train = x_train / 255\n",
        "x_test = x_test / 255\n",
        "y_train = utils.to_categorical(y_train, 10)\n",
        "y_test = utils.to_categorical(y_test, 10)"
      ],
      "execution_count": 55,
      "outputs": []
    },
    {
      "cell_type": "markdown",
      "metadata": {
        "id": "rpEltSGUkJAG"
      },
      "source": [
        "## Задаем функцию создания нейронной сети"
      ]
    },
    {
      "cell_type": "code",
      "metadata": {
        "id": "Sd62W3GOQtKU"
      },
      "source": [
        "def build_model(hp):\n",
        "    model = Sequential()\n",
        "    activation_choice = hp.Choice('activation', values=['relu', 'sigmoid', 'tanh', 'elu', 'selu'])\n",
        "    model.add(Dense(units=hp.Int('units_input',    # Полносвязный слой с разным количеством нейронов\n",
        "                                   min_value=512,    # минимальное количество нейронов - 128\n",
        "                                   max_value=1024,   # максимальное количество - 1024\n",
        "                                   step=32),\n",
        "                    input_dim=784,\n",
        "                    activation=activation_choice))\n",
        "    model.add(Dense(units=hp.Int('units_hidden',\n",
        "                                   min_value=128,\n",
        "                                   max_value=600,\n",
        "                                   step=32),\n",
        "                    activation=activation_choice))\n",
        "    model.add(Dense(10, activation='softmax'))\n",
        "    model.compile(\n",
        "        optimizer=hp.Choice('optimizer', values=['adam','rmsprop','SGD']),\n",
        "        loss='categorical_crossentropy',\n",
        "        metrics=['accuracy'])\n",
        "    return model"
      ],
      "execution_count": 56,
      "outputs": []
    },
    {
      "cell_type": "markdown",
      "metadata": {
        "id": "lFw-0sZsmFOJ"
      },
      "source": [
        "## Создаем tuner\n",
        "\n",
        "Доступные типы тюнеров:\n",
        "- RandomSearch - случайный поиск.\n",
        "- Hyperband - алгоритм оптимизации на основе многорукого бандита, Li, Lisha, and Kevin Jamieson. [\"Hyperband: A Novel Bandit-Based Approach to Hyperparameter Optimization.\"Journal of Machine Learning Research 18 (2018): 1-52](http://jmlr.org/papers/v18/16-558.html).\n",
        "- BayesianOptimization - [байесовская оптимизация](https://en.wikipedia.org/wiki/Bayesian_optimization)."
      ]
    },
    {
      "cell_type": "code",
      "metadata": {
        "id": "OZwA47cOQz4b",
        "colab": {
          "base_uri": "https://localhost:8080/"
        },
        "outputId": "9ee6afe9-948a-499a-faa8-696ff2b6cb94"
      },
      "source": [
        "tuner = RandomSearch(\n",
        "    build_model,                 # функция создания модели\n",
        "    objective='val_accuracy',    # метрика, которую нужно оптимизировать -\n",
        "                                 # доля правильных ответов на проверочном наборе данных\n",
        "    max_trials=80,               # максимальное количество запусков обучения\n",
        "    directory='test_directory'   # каталог, куда сохраняются обученные сети\n",
        "    )"
      ],
      "execution_count": 57,
      "outputs": [
        {
          "output_type": "stream",
          "name": "stdout",
          "text": [
            "Reloading Tuner from test_directory/untitled_project/tuner0.json\n"
          ]
        }
      ]
    },
    {
      "cell_type": "markdown",
      "metadata": {
        "id": "-znOiwDZB1C5"
      },
      "source": [
        "## Запускаем подбор гиперпараметров"
      ]
    },
    {
      "cell_type": "markdown",
      "metadata": {
        "id": "63MVEBFYmdpB"
      },
      "source": [
        "Пространство поиска"
      ]
    },
    {
      "cell_type": "code",
      "metadata": {
        "id": "JeJ87qoVB4PV",
        "colab": {
          "base_uri": "https://localhost:8080/"
        },
        "outputId": "c2d53aa4-c71d-48bc-d813-27cebbf0e010"
      },
      "source": [
        "tuner.search_space_summary()"
      ],
      "execution_count": 58,
      "outputs": [
        {
          "output_type": "stream",
          "name": "stdout",
          "text": [
            "Search space summary\n",
            "Default search space size: 4\n",
            "activation (Choice)\n",
            "{'default': 'relu', 'conditions': [], 'values': ['relu', 'sigmoid', 'tanh', 'elu', 'selu'], 'ordered': False}\n",
            "units_input (Int)\n",
            "{'default': None, 'conditions': [], 'min_value': 512, 'max_value': 1024, 'step': 32, 'sampling': 'linear'}\n",
            "units_hidden (Int)\n",
            "{'default': None, 'conditions': [], 'min_value': 128, 'max_value': 600, 'step': 32, 'sampling': 'linear'}\n",
            "optimizer (Choice)\n",
            "{'default': 'adam', 'conditions': [], 'values': ['adam', 'rmsprop', 'SGD'], 'ordered': False}\n"
          ]
        }
      ]
    },
    {
      "cell_type": "markdown",
      "metadata": {
        "id": "EfT4ecI8n5Ga"
      },
      "source": [
        "Подбор гиперпараметров"
      ]
    },
    {
      "cell_type": "code",
      "metadata": {
        "id": "NEFHVKDBB-Z9"
      },
      "source": [
        "tuner.search(x_train,                  # Данные для обучения\n",
        "             y_train,                  # Правильные ответы\n",
        "             batch_size=256,           # Размер мини-выборки\n",
        "             epochs=20,                # Количество эпох обучения\n",
        "             validation_split=0.2,     # Часть данных, которая будет использоваться для проверки\n",
        "             )"
      ],
      "execution_count": 59,
      "outputs": []
    },
    {
      "cell_type": "markdown",
      "metadata": {
        "id": "KlPTC0r3pLyB"
      },
      "source": [
        "## Выбираем лучшую модель"
      ]
    },
    {
      "cell_type": "code",
      "metadata": {
        "id": "i1TDBMF6ORNW",
        "colab": {
          "base_uri": "https://localhost:8080/"
        },
        "outputId": "59724c2e-b5cd-4be0-90ca-f2e03e0f5ba7"
      },
      "source": [
        "tuner.results_summary()"
      ],
      "execution_count": 60,
      "outputs": [
        {
          "output_type": "stream",
          "name": "stdout",
          "text": [
            "Results summary\n",
            "Results in test_directory/untitled_project\n",
            "Showing 10 best trials\n",
            "Objective(name=\"val_accuracy\", direction=\"max\")\n",
            "\n",
            "Trial 05 summary\n",
            "Hyperparameters:\n",
            "activation: relu\n",
            "units_input: 1024\n",
            "units_hidden: 416\n",
            "optimizer: adam\n",
            "Score: 0.9003333449363708\n",
            "\n",
            "Trial 16 summary\n",
            "Hyperparameters:\n",
            "activation: relu\n",
            "units_input: 800\n",
            "units_hidden: 160\n",
            "optimizer: adam\n",
            "Score: 0.8981666564941406\n",
            "\n",
            "Trial 18 summary\n",
            "Hyperparameters:\n",
            "activation: relu\n",
            "units_input: 640\n",
            "units_hidden: 224\n",
            "optimizer: adam\n",
            "Score: 0.8977500200271606\n",
            "\n",
            "Trial 65 summary\n",
            "Hyperparameters:\n",
            "activation: relu\n",
            "units_input: 800\n",
            "units_hidden: 512\n",
            "optimizer: adam\n",
            "Score: 0.8977500200271606\n",
            "\n",
            "Trial 11 summary\n",
            "Hyperparameters:\n",
            "activation: tanh\n",
            "units_input: 576\n",
            "units_hidden: 256\n",
            "optimizer: adam\n",
            "Score: 0.8976666927337646\n",
            "\n",
            "Trial 15 summary\n",
            "Hyperparameters:\n",
            "activation: relu\n",
            "units_input: 736\n",
            "units_hidden: 224\n",
            "optimizer: adam\n",
            "Score: 0.8974999785423279\n",
            "\n",
            "Trial 20 summary\n",
            "Hyperparameters:\n",
            "activation: relu\n",
            "units_input: 896\n",
            "units_hidden: 128\n",
            "optimizer: adam\n",
            "Score: 0.8969166874885559\n",
            "\n",
            "Trial 68 summary\n",
            "Hyperparameters:\n",
            "activation: relu\n",
            "units_input: 512\n",
            "units_hidden: 480\n",
            "optimizer: adam\n",
            "Score: 0.8964166641235352\n",
            "\n",
            "Trial 19 summary\n",
            "Hyperparameters:\n",
            "activation: tanh\n",
            "units_input: 800\n",
            "units_hidden: 384\n",
            "optimizer: adam\n",
            "Score: 0.8963333368301392\n",
            "\n",
            "Trial 75 summary\n",
            "Hyperparameters:\n",
            "activation: relu\n",
            "units_input: 512\n",
            "units_hidden: 192\n",
            "optimizer: rmsprop\n",
            "Score: 0.8962500095367432\n"
          ]
        }
      ]
    },
    {
      "cell_type": "markdown",
      "metadata": {
        "id": "_it8FZ8epSue"
      },
      "source": [
        "Получаем три лучших модели"
      ]
    },
    {
      "cell_type": "code",
      "metadata": {
        "id": "31_zCfjqQVL6"
      },
      "source": [
        "models = tuner.get_best_models(num_models=3)"
      ],
      "execution_count": 61,
      "outputs": []
    },
    {
      "cell_type": "markdown",
      "metadata": {
        "id": "Oje7bSQppVkF"
      },
      "source": [
        "Оцениваем качество модели на тестовых данных"
      ]
    },
    {
      "cell_type": "code",
      "metadata": {
        "id": "CUoo7iM-bBht",
        "colab": {
          "base_uri": "https://localhost:8080/"
        },
        "outputId": "8a83a53f-1c01-4848-c7d4-1a59ad7d5bac"
      },
      "source": [
        "for model in models:\n",
        "  model.summary()\n",
        "  model.evaluate(x_test, y_test)\n",
        "  print()"
      ],
      "execution_count": 62,
      "outputs": [
        {
          "output_type": "stream",
          "name": "stdout",
          "text": [
            "Model: \"sequential\"\n",
            "_________________________________________________________________\n",
            " Layer (type)                Output Shape              Param #   \n",
            "=================================================================\n",
            " dense (Dense)               (None, 1024)              803840    \n",
            "                                                                 \n",
            " dense_1 (Dense)             (None, 416)               426400    \n",
            "                                                                 \n",
            " dense_2 (Dense)             (None, 10)                4170      \n",
            "                                                                 \n",
            "=================================================================\n",
            "Total params: 1234410 (4.71 MB)\n",
            "Trainable params: 1234410 (4.71 MB)\n",
            "Non-trainable params: 0 (0.00 Byte)\n",
            "_________________________________________________________________\n",
            "313/313 [==============================] - 1s 3ms/step - loss: 0.3633 - accuracy: 0.8922\n",
            "\n",
            "Model: \"sequential\"\n",
            "_________________________________________________________________\n",
            " Layer (type)                Output Shape              Param #   \n",
            "=================================================================\n",
            " dense (Dense)               (None, 800)               628000    \n",
            "                                                                 \n",
            " dense_1 (Dense)             (None, 160)               128160    \n",
            "                                                                 \n",
            " dense_2 (Dense)             (None, 10)                1610      \n",
            "                                                                 \n",
            "=================================================================\n",
            "Total params: 757770 (2.89 MB)\n",
            "Trainable params: 757770 (2.89 MB)\n",
            "Non-trainable params: 0 (0.00 Byte)\n",
            "_________________________________________________________________\n",
            "313/313 [==============================] - 1s 2ms/step - loss: 0.3409 - accuracy: 0.8905\n",
            "\n",
            "Model: \"sequential\"\n",
            "_________________________________________________________________\n",
            " Layer (type)                Output Shape              Param #   \n",
            "=================================================================\n",
            " dense (Dense)               (None, 640)               502400    \n",
            "                                                                 \n",
            " dense_1 (Dense)             (None, 224)               143584    \n",
            "                                                                 \n",
            " dense_2 (Dense)             (None, 10)                2250      \n",
            "                                                                 \n",
            "=================================================================\n",
            "Total params: 648234 (2.47 MB)\n",
            "Trainable params: 648234 (2.47 MB)\n",
            "Non-trainable params: 0 (0.00 Byte)\n",
            "_________________________________________________________________\n",
            "313/313 [==============================] - 2s 5ms/step - loss: 0.3547 - accuracy: 0.8905\n",
            "\n"
          ]
        }
      ]
    }
  ]
}