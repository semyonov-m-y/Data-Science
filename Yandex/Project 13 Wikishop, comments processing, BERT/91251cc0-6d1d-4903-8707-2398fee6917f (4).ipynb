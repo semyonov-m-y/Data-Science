{
 "cells": [
  {
   "cell_type": "markdown",
   "metadata": {
    "toc": true
   },
   "source": [
    "<h1>Содержание<span class=\"tocSkip\"></span></h1>\n",
    "<div class=\"toc\"><ul class=\"toc-item\"><li><span><a href=\"#Подготовка\" data-toc-modified-id=\"Подготовка-1\"><span class=\"toc-item-num\">1&nbsp;&nbsp;</span>Подготовка</a></span></li><li><span><a href=\"#Обучение\" data-toc-modified-id=\"Обучение-2\"><span class=\"toc-item-num\">2&nbsp;&nbsp;</span>Обучение</a></span><ul class=\"toc-item\"><li><span><a href=\"#LogisticRegression\" data-toc-modified-id=\"LogisticRegression-2.1\"><span class=\"toc-item-num\">2.1&nbsp;&nbsp;</span>LogisticRegression</a></span></li><li><span><a href=\"#RandomForestClassifier\" data-toc-modified-id=\"RandomForestClassifier-2.2\"><span class=\"toc-item-num\">2.2&nbsp;&nbsp;</span>RandomForestClassifier</a></span></li></ul></li><li><span><a href=\"#Тестирование-выбранной-модели\" data-toc-modified-id=\"Тестирование-выбранной-модели-3\"><span class=\"toc-item-num\">3&nbsp;&nbsp;</span>Тестирование выбранной модели</a></span></li><li><span><a href=\"#Вывод-без-BERT\" data-toc-modified-id=\"Вывод-без-BERT-4\"><span class=\"toc-item-num\">4&nbsp;&nbsp;</span>Вывод без BERT</a></span></li><li><span><a href=\"#Вывод-с-BERT\" data-toc-modified-id=\"Вывод-с-BERT-5\"><span class=\"toc-item-num\">5&nbsp;&nbsp;</span>Вывод с BERT</a></span></li><li><span><a href=\"#Итоговый-вывод\" data-toc-modified-id=\"Итоговый-вывод-6\"><span class=\"toc-item-num\">6&nbsp;&nbsp;</span>Итоговый вывод</a></span></li></ul></div>"
   ]
  },
  {
   "cell_type": "markdown",
   "metadata": {},
   "source": [
    "# Проект для «Викишоп» без BERT"
   ]
  },
  {
   "cell_type": "markdown",
   "metadata": {},
   "source": [
    "Интернет-магазин «Викишоп» запускает новый сервис. Теперь пользователи могут редактировать и дополнять описания товаров, как в вики-сообществах. То есть клиенты предлагают свои правки и комментируют изменения других. Магазину нужен инструмент, который будет искать токсичные комментарии и отправлять их на модерацию. \n",
    "\n",
    "Обучите модель классифицировать комментарии на позитивные и негативные. В вашем распоряжении набор данных с разметкой о токсичности правок.\n",
    "\n",
    "Постройте модель со значением метрики качества *F1* не меньше 0.75. \n",
    "\n",
    "**Инструкция по выполнению проекта**\n",
    "\n",
    "1. Загрузим и подготовим данные.\n",
    "2. Обучим разные модели. \n",
    "3. Сделаем выводы.\n",
    "\n",
    "**Описание данных**\n",
    "\n",
    "Данные находятся в файле `toxic_comments.csv`. Столбец *text* в нём содержит текст комментария, а *toxic* — целевой признак."
   ]
  },
  {
   "cell_type": "markdown",
   "metadata": {},
   "source": [
    "## Подготовка"
   ]
  },
  {
   "cell_type": "code",
   "execution_count": 1,
   "metadata": {},
   "outputs": [],
   "source": [
    "! pip install -qU evaluate"
   ]
  },
  {
   "cell_type": "code",
   "execution_count": 2,
   "metadata": {},
   "outputs": [],
   "source": [
    "#! pip install -qU numpy==1.24.0"
   ]
  },
  {
   "cell_type": "code",
   "execution_count": 3,
   "metadata": {},
   "outputs": [],
   "source": [
    "#! pip install -qU spacy==3.2.0"
   ]
  },
  {
   "cell_type": "code",
   "execution_count": 4,
   "metadata": {},
   "outputs": [],
   "source": [
    "# Работа с массивами\n",
    "import numpy as np\n",
    "# Обработка и анализ данных\n",
    "import pandas as pd\n",
    "# Оценка времени выполнения кода\n",
    "import time \n",
    "# Загрузка датафрейма\n",
    "import os \n",
    "# Обработка естественного языка (NLP – Natural Language Processing)\n",
    "import spacy\n",
    "# Работа с регулярными выражениями\n",
    "import re \n",
    "# Индикатор выполнения процессов\n",
    "from tqdm.notebook import tqdm\n",
    "\n",
    "# NLTK\n",
    "import nltk\n",
    "from nltk.corpus import stopwords as nltk_stopwords\n",
    "from nltk.stem import WordNetLemmatizer\n",
    "\n",
    "# BERT\n",
    "import torch\n",
    "import transformers\n",
    "from transformers import (AutoTokenizer, DataCollatorWithPadding,\n",
    "                          AutoModelForSequenceClassification,\n",
    "                          TrainingArguments, Trainer)\n",
    "import evaluate\n",
    "\n",
    "# Импорт элементов библиотеки Scikit-Learn\n",
    "from sklearn.metrics import classification_report, confusion_matrix\n",
    "# Классификатор случайного леса\n",
    "from sklearn.ensemble import RandomForestClassifier\n",
    "# Работа с датафреймом\n",
    "from sklearn.model_selection import train_test_split, cross_val_score, GridSearchCV\n",
    "# TfidfVectorizer — преобразует текст в векторы объектов\n",
    "# TfidfTransformer — тип модели для построения трансформатора TF-IDF\n",
    "from sklearn.feature_extraction.text import TfidfVectorizer, TfidfTransformer\n",
    "# Автоматизация раздельного декодирования признаков\n",
    "from sklearn.compose import(ColumnTransformer)\n",
    "# Функция для поддержки экспериментальной функции HavingGridSearchSV\n",
    "from sklearn.experimental import enable_halving_search_cv\n",
    "# Ускоренная автоматизация поиска лучших моделей и их параметров\n",
    "from sklearn.model_selection import HalvingGridSearchCV\n",
    "# Модель логистической регрессии\n",
    "from sklearn.linear_model import LogisticRegression\n",
    "# Улучшенный классификатор для не сбалансированных классов\n",
    "from sklearn.naive_bayes import ComplementNB \n",
    "# Предобработка данных\n",
    "from sklearn.preprocessing import(\n",
    "    StandardScaler # стандартизация\n",
    ")\n",
    "# Объедининяет несколько этапов обработки данных и моделирования в один последовательный процесс\n",
    "from sklearn.pipeline import Pipeline\n",
    "\n",
    "# CatBoost (Яндекс). Классификация\n",
    "from catboost import CatBoostClassifier \n",
    "\n",
    "# Метрика F1 - среднегармоническое между precision_score и recall_score\n",
    "from sklearn.metrics import f1_score \n",
    "\n",
    "# Визуализация графиков\n",
    "import seaborn as sns\n",
    "import matplotlib\n",
    "%matplotlib inline\n",
    "from matplotlib import pyplot as plt\n",
    "from matplotlib import rcParams, rcParamsDefault\n",
    "from pandas.plotting import scatter_matrix\n",
    "\n",
    "# Игнорирование всех предупреждений\n",
    "from warnings import simplefilter\n",
    "\n",
    "# Стоп слова\n",
    "from nltk.corpus import stopwords as nltk_stopwords\n",
    "\n",
    "from datasets import Dataset, Features, ClassLabel"
   ]
  },
  {
   "cell_type": "code",
   "execution_count": 5,
   "metadata": {},
   "outputs": [
    {
     "data": {
      "text/plain": [
       "False"
      ]
     },
     "execution_count": 5,
     "metadata": {},
     "output_type": "execute_result"
    }
   ],
   "source": [
    "spacy.prefer_gpu()"
   ]
  },
  {
   "cell_type": "code",
   "execution_count": 6,
   "metadata": {},
   "outputs": [],
   "source": [
    "# Инизиализируем параллельное выполнение операций в Pandas \n",
    "#pandarallel.initialize(progress_bar=True)\n",
    "\n",
    "# Снимем ограничение на количество столбцов\n",
    "pd.set_option('display.max_columns', None)\n",
    "\n",
    "# Снимем ограничение на ширину столбцов\n",
    "pd.set_option('display.max_colwidth', None)\n",
    "\n",
    "# Игнорируем предупреждения\n",
    "pd.set_option('chained_assignment', None)\n",
    "\n",
    "# Игнорировать все предупреждения\n",
    "simplefilter(action='ignore', category=FutureWarning)"
   ]
  },
  {
   "cell_type": "code",
   "execution_count": 7,
   "metadata": {},
   "outputs": [],
   "source": [
    "# Загрузим данные\n",
    "try:\n",
    "    df = pd.read_csv('toxic_comments.csv', index_col=[0])\n",
    "except:\n",
    "    df = pd.read_csv('/datasets/toxic_comments.csv', index_col=[0])"
   ]
  },
  {
   "cell_type": "code",
   "execution_count": 8,
   "metadata": {},
   "outputs": [],
   "source": [
    "data = df"
   ]
  },
  {
   "cell_type": "code",
   "execution_count": 9,
   "metadata": {},
   "outputs": [],
   "source": [
    "SEED = 12345"
   ]
  },
  {
   "cell_type": "code",
   "execution_count": 10,
   "metadata": {},
   "outputs": [
    {
     "name": "stdout",
     "output_type": "stream",
     "text": [
      "(159292, 2)\n"
     ]
    }
   ],
   "source": [
    "print(df.shape)"
   ]
  },
  {
   "cell_type": "code",
   "execution_count": 11,
   "metadata": {},
   "outputs": [
    {
     "name": "stdout",
     "output_type": "stream",
     "text": [
      "                                                                                                                                                                                                                                                                        text  \\\n",
      "0  Explanation\\nWhy the edits made under my username Hardcore Metallica Fan were reverted? They weren't vandalisms, just closure on some GAs after I voted at New York Dolls FAC. And please don't remove the template from the talk page since I'm retired now.89.205.38.27   \n",
      "1                                                                                                                                                           D'aww! He matches this background colour I'm seemingly stuck with. Thanks.  (talk) 21:51, January 11, 2016 (UTC)   \n",
      "2                                  Hey man, I'm really not trying to edit war. It's just that this guy is constantly removing relevant information and talking to me through edits instead of my talk page. He seems to care more about the formatting than the actual info.   \n",
      "\n",
      "   toxic  \n",
      "0      0  \n",
      "1      0  \n",
      "2      0  \n",
      "\n",
      "Информация датасета:\n",
      "<class 'pandas.core.frame.DataFrame'>\n",
      "Int64Index: 159292 entries, 0 to 159450\n",
      "Data columns (total 2 columns):\n",
      " #   Column  Non-Null Count   Dtype \n",
      "---  ------  --------------   ----- \n",
      " 0   text    159292 non-null  object\n",
      " 1   toxic   159292 non-null  int64 \n",
      "dtypes: int64(1), object(1)\n",
      "memory usage: 3.6+ MB\n",
      "None\n",
      "\n",
      "Описание датасета:\n",
      "               toxic\n",
      "count  159292.000000\n",
      "mean        0.101612\n",
      "std         0.302139\n",
      "min         0.000000\n",
      "25%         0.000000\n",
      "50%         0.000000\n",
      "75%         0.000000\n",
      "max         1.000000\n",
      "\n",
      "Количествово пропусков:text     0\n",
      "toxic    0\n",
      "dtype: int64\n",
      "\n",
      "Количествово дубликатов:0\n",
      "\n",
      "Уникальные значения датасета:\n",
      "text     159292\n",
      "toxic         2\n",
      "dtype: int64\n"
     ]
    }
   ],
   "source": [
    "print(df.head(3))\n",
    "print()\n",
    "print('Информация датасета:')\n",
    "print(df.info())\n",
    "print()\n",
    "print('Описание датасета:')\n",
    "print(df.describe())\n",
    "print()\n",
    "print(f'Количествово пропусков:{df.isna().sum()}') \n",
    "print()\n",
    "print(f'Количествово дубликатов:{df.duplicated().sum()}')\n",
    "print()\n",
    "print('Уникальные значения датасета:')\n",
    "print(df.nunique())"
   ]
  },
  {
   "cell_type": "code",
   "execution_count": 12,
   "metadata": {},
   "outputs": [
    {
     "data": {
      "image/png": "[encoded data removed]",
      "text/plain": [
       "<Figure size 432x288 with 1 Axes>"
      ]
     },
     "metadata": {},
     "output_type": "display_data"
    }
   ],
   "source": [
    "# распределение токсичности комментариев\n",
    "plt.pie(df['toxic'].value_counts(),\n",
    "        labels=['Позитивные', 'Негативные'],\n",
    "        autopct='%1.1f%%',\n",
    "        startangle=18,\n",
    "        explode=(0.5, 0),\n",
    "        shadow=True,\n",
    "        radius=1.10)\n",
    "plt.title('Распределение типов комментариев');"
   ]
  },
  {
   "cell_type": "markdown",
   "metadata": {},
   "source": [
    "Лемматизация комментариев. Отключение лишних операций и использование spacy ускоряет процесс лемматизации."
   ]
  },
  {
   "cell_type": "code",
   "execution_count": 13,
   "metadata": {},
   "outputs": [],
   "source": [
    "sp = spacy.load('en_core_web_sm', disable=['parser', 'ner'])"
   ]
  },
  {
   "cell_type": "markdown",
   "metadata": {},
   "source": [
    "<div> \n",
    "\n",
    "Еще один способ ускорить лемматизацию - использовать spaCy pipeline (https://spacy.io/usage/processing-pipelines)\n",
    "    \n",
    "    \n",
    "    lemm_texts = []\n",
    "    total = data.shape[0]\n",
    "    nlp_pipe = nlp.pipe(data['text'].values, disable = ['ner', 'parser'])\n",
    "    \n",
    "    for doc in tqdm(nlp_pipe, total=total):\n",
    "        lemm_text = \" \".join([token.lemma_ for token in doc])    \n",
    "        lemm_texts.append(lemm_text) \n",
    "    \n",
    "</div>"
   ]
  },
  {
   "cell_type": "code",
   "execution_count": 14,
   "metadata": {},
   "outputs": [],
   "source": [
    "# Напишем функцию для очистки текстов от лишних символов\n",
    "def clear_text(text): \n",
    "    temp_text = re.sub(r'[^a-zA-Z ]', ' ', text)\n",
    "    temp_text = \" \".join(temp_text.split())    \n",
    "    return temp_text\n",
    "\n",
    "# Напишем функцию для лемматизации текста\n",
    "def lemmatize(text):\n",
    "    doc = sp(text) \n",
    "    lem_text = ' '.join([token.lemma_ for token in doc]).lower()\n",
    "    return lem_text"
   ]
  },
  {
   "cell_type": "code",
   "execution_count": 15,
   "metadata": {},
   "outputs": [],
   "source": [
    "# Удалим из датасета возможные значения NaN\n",
    "df = df.dropna()"
   ]
  },
  {
   "cell_type": "markdown",
   "metadata": {},
   "source": [
    "Подготовка признаков"
   ]
  },
  {
   "cell_type": "code",
   "execution_count": 16,
   "metadata": {},
   "outputs": [],
   "source": [
    "features = df['text']\n",
    "target = df['toxic']"
   ]
  },
  {
   "cell_type": "code",
   "execution_count": 17,
   "metadata": {},
   "outputs": [],
   "source": [
    "# Разделим данные\n",
    "features_train, features_test, target_train, target_test = train_test_split(features, target,\n",
    "                                                    test_size=0.2, random_state=SEED, stratify=target)"
   ]
  },
  {
   "cell_type": "code",
   "execution_count": 18,
   "metadata": {},
   "outputs": [],
   "source": [
    "# Создадим TF-IDF векторизатор со стоп словами \n",
    "count_tf_idf = TfidfVectorizer(stop_words='english') "
   ]
  },
  {
   "cell_type": "code",
   "execution_count": 19,
   "metadata": {},
   "outputs": [],
   "source": [
    "features_train_vector = count_tf_idf.fit_transform(features_train)\n",
    "features_test_vector = count_tf_idf.transform(features_test)"
   ]
  },
  {
   "cell_type": "markdown",
   "metadata": {},
   "source": [
    "**Промежуточный вывод**\n",
    "\n",
    "- В таблице 159 292 объектов.\n",
    "- Дубликатов и пропусков нет.\n",
    "- В таблице 2 столбца: toxic, text.\n",
    "- Почти 90% твитов не токсичны.То есть в предоставленных данных имеется дисбаланс классов.\n",
    "- Язык комментариев - английский.\n",
    "- В строках содержатся различные спецсимволы, которые необходимо обработать."
   ]
  },
  {
   "cell_type": "markdown",
   "metadata": {},
   "source": [
    "## Обучение"
   ]
  },
  {
   "cell_type": "markdown",
   "metadata": {},
   "source": [
    "Для экономии времени и ресурсов (а также по рекомендации преподавателя), проверим лишь 2 модели"
   ]
  },
  {
   "cell_type": "markdown",
   "metadata": {},
   "source": [
    "### LogisticRegression"
   ]
  },
  {
   "cell_type": "code",
   "execution_count": 20,
   "metadata": {},
   "outputs": [],
   "source": [
    "reg_model = LogisticRegression(class_weight='balanced', max_iter=220, random_state=SEED, verbose=1)\n",
    "reg_param = {'C':[3.9, 7.7, 9.8]}"
   ]
  },
  {
   "cell_type": "code",
   "execution_count": 21,
   "metadata": {},
   "outputs": [],
   "source": [
    "# Переберем параметры\n",
    "pipeline = Pipeline([\n",
    "    ('tfidf', TfidfVectorizer(min_df=1)),\n",
    "    ('model', reg_model)])\n",
    "grid_reg = GridSearchCV(reg_model, param_grid=reg_param, scoring='f1', cv=4, n_jobs=-1)"
   ]
  },
  {
   "cell_type": "code",
   "execution_count": 22,
   "metadata": {},
   "outputs": [
    {
     "name": "stderr",
     "output_type": "stream",
     "text": [
      "[Parallel(n_jobs=1)]: Using backend SequentialBackend with 1 concurrent workers.\n"
     ]
    },
    {
     "name": "stdout",
     "output_type": "stream",
     "text": [
      "RUNNING THE L-BFGS-B CODE\n",
      "\n",
      "           * * *\n",
      "\n",
      "Machine precision = 2.220D-16\n",
      " N =       165480     M =           10\n",
      "\n",
      "At X0         0 variables are exactly at the bounds\n",
      "\n",
      "At iterate    0    f=  6.62468D+04    |proj g|=  1.06109D+03\n"
     ]
    },
    {
     "name": "stderr",
     "output_type": "stream",
     "text": [
      " This problem is unconstrained.\n"
     ]
    },
    {
     "name": "stdout",
     "output_type": "stream",
     "text": [
      "\n",
      "At iterate   50    f=  1.44245D+04    |proj g|=  8.58146D+00\n",
      "\n",
      "At iterate  100    f=  1.43224D+04    |proj g|=  8.42398D+00\n",
      "\n",
      "At iterate  150    f=  1.43208D+04    |proj g|=  1.08097D+00\n",
      "\n",
      "           * * *\n",
      "\n",
      "Tit   = total number of iterations\n",
      "Tnf   = total number of function evaluations\n",
      "Tnint = total number of segments explored during Cauchy searches\n",
      "Skip  = number of BFGS updates skipped\n",
      "Nact  = number of active bounds at final generalized Cauchy point\n",
      "Projg = norm of the final projected gradient\n",
      "F     = final function value\n",
      "\n",
      "           * * *\n",
      "\n",
      "   N    Tit     Tnf  Tnint  Skip  Nact     Projg        F\n",
      "*****    185    226      1     0     0   2.291D-01   1.432D+04\n",
      "  F =   14320.702617342424     \n",
      "\n",
      "CONVERGENCE: REL_REDUCTION_OF_F_<=_FACTR*EPSMCH             \n"
     ]
    },
    {
     "name": "stderr",
     "output_type": "stream",
     "text": [
      "[Parallel(n_jobs=1)]: Done   1 out of   1 | elapsed:  1.5min finished\n",
      "[Parallel(n_jobs=1)]: Using backend SequentialBackend with 1 concurrent workers.\n"
     ]
    },
    {
     "name": "stdout",
     "output_type": "stream",
     "text": [
      "RUNNING THE L-BFGS-B CODE\n",
      "\n",
      "           * * *\n",
      "\n",
      "Machine precision = 2.220D-16\n",
      " N =       165480     M =           10\n",
      "\n",
      "At X0         0 variables are exactly at the bounds\n",
      "\n",
      "At iterate    0    f=  6.62475D+04    |proj g|=  1.03419D+03\n"
     ]
    },
    {
     "name": "stderr",
     "output_type": "stream",
     "text": [
      " This problem is unconstrained.\n"
     ]
    },
    {
     "name": "stdout",
     "output_type": "stream",
     "text": [
      "\n",
      "At iterate   50    f=  1.42376D+04    |proj g|=  3.96450D+01\n",
      "\n",
      "At iterate  100    f=  1.42005D+04    |proj g|=  5.41886D-01\n",
      "\n",
      "At iterate  150    f=  1.42001D+04    |proj g|=  5.50821D-01\n",
      "\n",
      "           * * *\n",
      "\n",
      "Tit   = total number of iterations\n",
      "Tnf   = total number of function evaluations\n",
      "Tnint = total number of segments explored during Cauchy searches\n",
      "Skip  = number of BFGS updates skipped\n",
      "Nact  = number of active bounds at final generalized Cauchy point\n",
      "Projg = norm of the final projected gradient\n",
      "F     = final function value\n",
      "\n",
      "           * * *\n",
      "\n",
      "   N    Tit     Tnf  Tnint  Skip  Nact     Projg        F\n",
      "*****    181    219      1     0     0   1.247D-02   1.420D+04\n",
      "  F =   14200.074332918219     \n",
      "\n",
      "CONVERGENCE: REL_REDUCTION_OF_F_<=_FACTR*EPSMCH             \n"
     ]
    },
    {
     "name": "stderr",
     "output_type": "stream",
     "text": [
      "[Parallel(n_jobs=1)]: Done   1 out of   1 | elapsed:  1.5min finished\n",
      "[Parallel(n_jobs=1)]: Using backend SequentialBackend with 1 concurrent workers.\n"
     ]
    },
    {
     "name": "stdout",
     "output_type": "stream",
     "text": [
      "RUNNING THE L-BFGS-B CODE\n",
      "\n",
      "           * * *\n",
      "\n",
      "Machine precision = 2.220D-16\n",
      " N =       165480     M =           10\n",
      "\n",
      "At X0         0 variables are exactly at the bounds\n",
      "\n",
      "At iterate    0    f=  6.62475D+04    |proj g|=  1.05206D+03\n"
     ]
    },
    {
     "name": "stderr",
     "output_type": "stream",
     "text": [
      " This problem is unconstrained.\n"
     ]
    },
    {
     "name": "stdout",
     "output_type": "stream",
     "text": [
      "\n",
      "At iterate   50    f=  1.42589D+04    |proj g|=  1.44561D+01\n",
      "\n",
      "At iterate  100    f=  1.41076D+04    |proj g|=  2.46040D+01\n",
      "\n",
      "At iterate  150    f=  1.40935D+04    |proj g|=  4.57407D+00\n",
      "\n",
      "At iterate  200    f=  1.40929D+04    |proj g|=  2.70977D+00\n",
      "\n",
      "           * * *\n",
      "\n",
      "Tit   = total number of iterations\n",
      "Tnf   = total number of function evaluations\n",
      "Tnint = total number of segments explored during Cauchy searches\n",
      "Skip  = number of BFGS updates skipped\n",
      "Nact  = number of active bounds at final generalized Cauchy point\n",
      "Projg = norm of the final projected gradient\n",
      "F     = final function value\n",
      "\n",
      "           * * *\n",
      "\n",
      "   N    Tit     Tnf  Tnint  Skip  Nact     Projg        F\n",
      "*****    220    258      1     0     0   9.119D-01   1.409D+04\n",
      "  F =   14092.864779728163     \n",
      "\n",
      "STOP: TOTAL NO. of ITERATIONS REACHED LIMIT                 \n"
     ]
    },
    {
     "name": "stderr",
     "output_type": "stream",
     "text": [
      "/opt/conda/lib/python3.9/site-packages/sklearn/linear_model/_logistic.py:763: ConvergenceWarning: lbfgs failed to converge (status=1):\n",
      "STOP: TOTAL NO. of ITERATIONS REACHED LIMIT.\n",
      "\n",
      "Increase the number of iterations (max_iter) or scale the data as shown in:\n",
      "    https://scikit-learn.org/stable/modules/preprocessing.html\n",
      "Please also refer to the documentation for alternative solver options:\n",
      "    https://scikit-learn.org/stable/modules/linear_model.html#logistic-regression\n",
      "  n_iter_i = _check_optimize_result(\n",
      "[Parallel(n_jobs=1)]: Done   1 out of   1 | elapsed:  1.7min finished\n",
      "[Parallel(n_jobs=1)]: Using backend SequentialBackend with 1 concurrent workers.\n",
      " This problem is unconstrained.\n"
     ]
    },
    {
     "name": "stdout",
     "output_type": "stream",
     "text": [
      "RUNNING THE L-BFGS-B CODE\n",
      "\n",
      "           * * *\n",
      "\n",
      "Machine precision = 2.220D-16\n",
      " N =       165480     M =           10\n",
      "\n",
      "At X0         0 variables are exactly at the bounds\n",
      "\n",
      "At iterate    0    f=  6.62475D+04    |proj g|=  1.06605D+03\n",
      "\n",
      "At iterate   50    f=  1.42815D+04    |proj g|=  3.30581D+01\n",
      "\n",
      "At iterate  100    f=  1.41726D+04    |proj g|=  7.01517D+00\n",
      "\n",
      "At iterate  150    f=  1.41720D+04    |proj g|=  1.33537D-01\n",
      "\n",
      "           * * *\n",
      "\n",
      "Tit   = total number of iterations\n",
      "Tnf   = total number of function evaluations\n",
      "Tnint = total number of segments explored during Cauchy searches\n",
      "Skip  = number of BFGS updates skipped\n",
      "Nact  = number of active bounds at final generalized Cauchy point\n",
      "Projg = norm of the final projected gradient\n",
      "F     = final function value\n",
      "\n",
      "           * * *\n",
      "\n",
      "   N    Tit     Tnf  Tnint  Skip  Nact     Projg        F\n",
      "*****    175    209      1     0     0   7.532D-01   1.417D+04\n",
      "  F =   14172.018439176129     \n",
      "\n",
      "CONVERGENCE: REL_REDUCTION_OF_F_<=_FACTR*EPSMCH             \n"
     ]
    },
    {
     "name": "stderr",
     "output_type": "stream",
     "text": [
      "[Parallel(n_jobs=1)]: Done   1 out of   1 | elapsed:  1.4min finished\n",
      "[Parallel(n_jobs=1)]: Using backend SequentialBackend with 1 concurrent workers.\n",
      " This problem is unconstrained.\n"
     ]
    },
    {
     "name": "stdout",
     "output_type": "stream",
     "text": [
      "RUNNING THE L-BFGS-B CODE\n",
      "\n",
      "           * * *\n",
      "\n",
      "Machine precision = 2.220D-16\n",
      " N =       165480     M =           10\n",
      "\n",
      "At X0         0 variables are exactly at the bounds\n",
      "\n",
      "At iterate    0    f=  6.62468D+04    |proj g|=  1.06109D+03\n",
      "\n",
      "At iterate   50    f=  1.15464D+04    |proj g|=  6.33426D+01\n",
      "\n",
      "At iterate  100    f=  1.11413D+04    |proj g|=  1.24222D+01\n",
      "\n",
      "At iterate  150    f=  1.11328D+04    |proj g|=  1.24476D+01\n",
      "\n",
      "At iterate  200    f=  1.11320D+04    |proj g|=  1.37699D+00\n",
      "\n",
      "           * * *\n",
      "\n",
      "Tit   = total number of iterations\n",
      "Tnf   = total number of function evaluations\n",
      "Tnint = total number of segments explored during Cauchy searches\n",
      "Skip  = number of BFGS updates skipped\n",
      "Nact  = number of active bounds at final generalized Cauchy point\n",
      "Projg = norm of the final projected gradient\n",
      "F     = final function value\n",
      "\n",
      "           * * *\n",
      "\n",
      "   N    Tit     Tnf  Tnint  Skip  Nact     Projg        F\n",
      "*****    212    244      1     0     0   5.405D-01   1.113D+04\n",
      "  F =   11131.992788803655     \n",
      "\n",
      "CONVERGENCE: REL_REDUCTION_OF_F_<=_FACTR*EPSMCH             \n"
     ]
    },
    {
     "name": "stderr",
     "output_type": "stream",
     "text": [
      "[Parallel(n_jobs=1)]: Done   1 out of   1 | elapsed:  1.6min finished\n",
      "[Parallel(n_jobs=1)]: Using backend SequentialBackend with 1 concurrent workers.\n"
     ]
    },
    {
     "name": "stdout",
     "output_type": "stream",
     "text": [
      "RUNNING THE L-BFGS-B CODE\n",
      "\n",
      "           * * *\n",
      "\n",
      "Machine precision = 2.220D-16\n",
      " N =       165480     M =           10\n",
      "\n",
      "At X0         0 variables are exactly at the bounds\n",
      "\n",
      "At iterate    0    f=  6.62475D+04    |proj g|=  1.03419D+03\n"
     ]
    },
    {
     "name": "stderr",
     "output_type": "stream",
     "text": [
      " This problem is unconstrained.\n"
     ]
    },
    {
     "name": "stdout",
     "output_type": "stream",
     "text": [
      "\n",
      "At iterate   50    f=  1.19286D+04    |proj g|=  3.72944D+01\n",
      "\n",
      "At iterate  100    f=  1.10361D+04    |proj g|=  9.63440D-01\n",
      "\n",
      "At iterate  150    f=  1.10324D+04    |proj g|=  6.15059D-01\n",
      "\n",
      "At iterate  200    f=  1.10323D+04    |proj g|=  2.22768D-01\n",
      "\n",
      "           * * *\n",
      "\n",
      "Tit   = total number of iterations\n",
      "Tnf   = total number of function evaluations\n",
      "Tnint = total number of segments explored during Cauchy searches\n",
      "Skip  = number of BFGS updates skipped\n",
      "Nact  = number of active bounds at final generalized Cauchy point\n",
      "Projg = norm of the final projected gradient\n",
      "F     = final function value\n",
      "\n",
      "           * * *\n",
      "\n",
      "   N    Tit     Tnf  Tnint  Skip  Nact     Projg        F\n",
      "*****    220    260      1     0     0   1.929D-01   1.103D+04\n",
      "  F =   11032.247533834052     \n",
      "\n",
      "STOP: TOTAL NO. of ITERATIONS REACHED LIMIT                 \n"
     ]
    },
    {
     "name": "stderr",
     "output_type": "stream",
     "text": [
      "/opt/conda/lib/python3.9/site-packages/sklearn/linear_model/_logistic.py:763: ConvergenceWarning: lbfgs failed to converge (status=1):\n",
      "STOP: TOTAL NO. of ITERATIONS REACHED LIMIT.\n",
      "\n",
      "Increase the number of iterations (max_iter) or scale the data as shown in:\n",
      "    https://scikit-learn.org/stable/modules/preprocessing.html\n",
      "Please also refer to the documentation for alternative solver options:\n",
      "    https://scikit-learn.org/stable/modules/linear_model.html#logistic-regression\n",
      "  n_iter_i = _check_optimize_result(\n",
      "[Parallel(n_jobs=1)]: Done   1 out of   1 | elapsed:  1.7min finished\n",
      "[Parallel(n_jobs=1)]: Using backend SequentialBackend with 1 concurrent workers.\n",
      " This problem is unconstrained.\n"
     ]
    },
    {
     "name": "stdout",
     "output_type": "stream",
     "text": [
      "RUNNING THE L-BFGS-B CODE\n",
      "\n",
      "           * * *\n",
      "\n",
      "Machine precision = 2.220D-16\n",
      " N =       165480     M =           10\n",
      "\n",
      "At X0         0 variables are exactly at the bounds\n",
      "\n",
      "At iterate    0    f=  6.62475D+04    |proj g|=  1.05206D+03\n",
      "\n",
      "At iterate   50    f=  1.12022D+04    |proj g|=  5.56151D+01\n",
      "\n",
      "At iterate  100    f=  1.09442D+04    |proj g|=  2.49781D+01\n",
      "\n",
      "At iterate  150    f=  1.09309D+04    |proj g|=  9.29745D-01\n",
      "\n",
      "At iterate  200    f=  1.09295D+04    |proj g|=  8.89473D-01\n",
      "\n",
      "           * * *\n",
      "\n",
      "Tit   = total number of iterations\n",
      "Tnf   = total number of function evaluations\n",
      "Tnint = total number of segments explored during Cauchy searches\n",
      "Skip  = number of BFGS updates skipped\n",
      "Nact  = number of active bounds at final generalized Cauchy point\n",
      "Projg = norm of the final projected gradient\n",
      "F     = final function value\n",
      "\n",
      "           * * *\n",
      "\n",
      "   N    Tit     Tnf  Tnint  Skip  Nact     Projg        F\n",
      "*****    220    261      1     0     0   1.292D+00   1.093D+04\n",
      "  F =   10929.445146594124     \n",
      "\n",
      "STOP: TOTAL NO. of ITERATIONS REACHED LIMIT                 \n"
     ]
    },
    {
     "name": "stderr",
     "output_type": "stream",
     "text": [
      "/opt/conda/lib/python3.9/site-packages/sklearn/linear_model/_logistic.py:763: ConvergenceWarning: lbfgs failed to converge (status=1):\n",
      "STOP: TOTAL NO. of ITERATIONS REACHED LIMIT.\n",
      "\n",
      "Increase the number of iterations (max_iter) or scale the data as shown in:\n",
      "    https://scikit-learn.org/stable/modules/preprocessing.html\n",
      "Please also refer to the documentation for alternative solver options:\n",
      "    https://scikit-learn.org/stable/modules/linear_model.html#logistic-regression\n",
      "  n_iter_i = _check_optimize_result(\n",
      "[Parallel(n_jobs=1)]: Done   1 out of   1 | elapsed:  1.7min finished\n",
      "[Parallel(n_jobs=1)]: Using backend SequentialBackend with 1 concurrent workers.\n"
     ]
    },
    {
     "name": "stdout",
     "output_type": "stream",
     "text": [
      "RUNNING THE L-BFGS-B CODE\n",
      "\n",
      "           * * *\n",
      "\n",
      "Machine precision = 2.220D-16\n",
      " N =       165480     M =           10\n",
      "\n",
      "At X0         0 variables are exactly at the bounds\n",
      "\n",
      "At iterate    0    f=  6.62475D+04    |proj g|=  1.06605D+03\n"
     ]
    },
    {
     "name": "stderr",
     "output_type": "stream",
     "text": [
      " This problem is unconstrained.\n"
     ]
    },
    {
     "name": "stdout",
     "output_type": "stream",
     "text": [
      "\n",
      "At iterate   50    f=  1.15709D+04    |proj g|=  4.35832D+01\n",
      "\n",
      "At iterate  100    f=  1.10369D+04    |proj g|=  6.30489D+01\n",
      "\n",
      "At iterate  150    f=  1.10049D+04    |proj g|=  1.03891D+00\n",
      "\n",
      "At iterate  200    f=  1.10015D+04    |proj g|=  1.54684D-01\n",
      "\n",
      "           * * *\n",
      "\n",
      "Tit   = total number of iterations\n",
      "Tnf   = total number of function evaluations\n",
      "Tnint = total number of segments explored during Cauchy searches\n",
      "Skip  = number of BFGS updates skipped\n",
      "Nact  = number of active bounds at final generalized Cauchy point\n",
      "Projg = norm of the final projected gradient\n",
      "F     = final function value\n",
      "\n",
      "           * * *\n",
      "\n",
      "   N    Tit     Tnf  Tnint  Skip  Nact     Projg        F\n",
      "*****    220    263      1     0     0   8.067D-02   1.100D+04\n",
      "  F =   11001.470209455725     \n",
      "\n",
      "STOP: TOTAL NO. of ITERATIONS REACHED LIMIT                 \n"
     ]
    },
    {
     "name": "stderr",
     "output_type": "stream",
     "text": [
      "/opt/conda/lib/python3.9/site-packages/sklearn/linear_model/_logistic.py:763: ConvergenceWarning: lbfgs failed to converge (status=1):\n",
      "STOP: TOTAL NO. of ITERATIONS REACHED LIMIT.\n",
      "\n",
      "Increase the number of iterations (max_iter) or scale the data as shown in:\n",
      "    https://scikit-learn.org/stable/modules/preprocessing.html\n",
      "Please also refer to the documentation for alternative solver options:\n",
      "    https://scikit-learn.org/stable/modules/linear_model.html#logistic-regression\n",
      "  n_iter_i = _check_optimize_result(\n",
      "[Parallel(n_jobs=1)]: Done   1 out of   1 | elapsed:  1.7min finished\n",
      "[Parallel(n_jobs=1)]: Using backend SequentialBackend with 1 concurrent workers.\n"
     ]
    },
    {
     "name": "stdout",
     "output_type": "stream",
     "text": [
      "RUNNING THE L-BFGS-B CODE\n",
      "\n",
      "           * * *\n",
      "\n",
      "Machine precision = 2.220D-16\n",
      " N =       165480     M =           10\n",
      "\n",
      "At X0         0 variables are exactly at the bounds\n",
      "\n",
      "At iterate    0    f=  6.62468D+04    |proj g|=  1.06109D+03\n"
     ]
    },
    {
     "name": "stderr",
     "output_type": "stream",
     "text": [
      " This problem is unconstrained.\n"
     ]
    },
    {
     "name": "stdout",
     "output_type": "stream",
     "text": [
      "\n",
      "At iterate   50    f=  1.07681D+04    |proj g|=  3.56830D+02\n",
      "\n",
      "At iterate  100    f=  1.01633D+04    |proj g|=  3.03850D+01\n",
      "\n",
      "At iterate  150    f=  1.01368D+04    |proj g|=  1.14076D+01\n",
      "\n",
      "At iterate  200    f=  1.01353D+04    |proj g|=  2.32729D-01\n",
      "\n",
      "           * * *\n",
      "\n",
      "Tit   = total number of iterations\n",
      "Tnf   = total number of function evaluations\n",
      "Tnint = total number of segments explored during Cauchy searches\n",
      "Skip  = number of BFGS updates skipped\n",
      "Nact  = number of active bounds at final generalized Cauchy point\n",
      "Projg = norm of the final projected gradient\n",
      "F     = final function value\n",
      "\n",
      "           * * *\n",
      "\n",
      "   N    Tit     Tnf  Tnint  Skip  Nact     Projg        F\n",
      "*****    220    254      1     0     0   2.143D+00   1.014D+04\n",
      "  F =   10135.210480927219     \n",
      "\n",
      "STOP: TOTAL NO. of ITERATIONS REACHED LIMIT                 \n"
     ]
    },
    {
     "name": "stderr",
     "output_type": "stream",
     "text": [
      "/opt/conda/lib/python3.9/site-packages/sklearn/linear_model/_logistic.py:763: ConvergenceWarning: lbfgs failed to converge (status=1):\n",
      "STOP: TOTAL NO. of ITERATIONS REACHED LIMIT.\n",
      "\n",
      "Increase the number of iterations (max_iter) or scale the data as shown in:\n",
      "    https://scikit-learn.org/stable/modules/preprocessing.html\n",
      "Please also refer to the documentation for alternative solver options:\n",
      "    https://scikit-learn.org/stable/modules/linear_model.html#logistic-regression\n",
      "  n_iter_i = _check_optimize_result(\n",
      "[Parallel(n_jobs=1)]: Done   1 out of   1 | elapsed:  1.7min finished\n",
      "[Parallel(n_jobs=1)]: Using backend SequentialBackend with 1 concurrent workers.\n",
      " This problem is unconstrained.\n"
     ]
    },
    {
     "name": "stdout",
     "output_type": "stream",
     "text": [
      "RUNNING THE L-BFGS-B CODE\n",
      "\n",
      "           * * *\n",
      "\n",
      "Machine precision = 2.220D-16\n",
      " N =       165480     M =           10\n",
      "\n",
      "At X0         0 variables are exactly at the bounds\n",
      "\n",
      "At iterate    0    f=  6.62475D+04    |proj g|=  1.03419D+03\n",
      "\n",
      "At iterate   50    f=  1.07778D+04    |proj g|=  1.02271D+01\n",
      "\n",
      "At iterate  100    f=  1.00711D+04    |proj g|=  3.06302D+01\n",
      "\n",
      "At iterate  150    f=  1.00450D+04    |proj g|=  7.01277D+00\n",
      "\n",
      "At iterate  200    f=  1.00429D+04    |proj g|=  1.73641D+00\n",
      "\n",
      "           * * *\n",
      "\n",
      "Tit   = total number of iterations\n",
      "Tnf   = total number of function evaluations\n",
      "Tnint = total number of segments explored during Cauchy searches\n",
      "Skip  = number of BFGS updates skipped\n",
      "Nact  = number of active bounds at final generalized Cauchy point\n",
      "Projg = norm of the final projected gradient\n",
      "F     = final function value\n",
      "\n",
      "           * * *\n",
      "\n",
      "   N    Tit     Tnf  Tnint  Skip  Nact     Projg        F\n",
      "*****    220    255      1     0     0   2.326D+00   1.004D+04\n",
      "  F =   10042.739095888524     \n",
      "\n",
      "STOP: TOTAL NO. of ITERATIONS REACHED LIMIT                 \n"
     ]
    },
    {
     "name": "stderr",
     "output_type": "stream",
     "text": [
      "/opt/conda/lib/python3.9/site-packages/sklearn/linear_model/_logistic.py:763: ConvergenceWarning: lbfgs failed to converge (status=1):\n",
      "STOP: TOTAL NO. of ITERATIONS REACHED LIMIT.\n",
      "\n",
      "Increase the number of iterations (max_iter) or scale the data as shown in:\n",
      "    https://scikit-learn.org/stable/modules/preprocessing.html\n",
      "Please also refer to the documentation for alternative solver options:\n",
      "    https://scikit-learn.org/stable/modules/linear_model.html#logistic-regression\n",
      "  n_iter_i = _check_optimize_result(\n",
      "[Parallel(n_jobs=1)]: Done   1 out of   1 | elapsed:  1.6min finished\n",
      "[Parallel(n_jobs=1)]: Using backend SequentialBackend with 1 concurrent workers.\n"
     ]
    },
    {
     "name": "stdout",
     "output_type": "stream",
     "text": [
      "RUNNING THE L-BFGS-B CODE\n",
      "\n",
      "           * * *\n",
      "\n",
      "Machine precision = 2.220D-16\n",
      " N =       165480     M =           10\n",
      "\n",
      "At X0         0 variables are exactly at the bounds\n",
      "\n",
      "At iterate    0    f=  6.62475D+04    |proj g|=  1.05206D+03\n"
     ]
    },
    {
     "name": "stderr",
     "output_type": "stream",
     "text": [
      " This problem is unconstrained.\n"
     ]
    },
    {
     "name": "stdout",
     "output_type": "stream",
     "text": [
      "\n",
      "At iterate   50    f=  1.02699D+04    |proj g|=  9.02392D+01\n",
      "\n",
      "At iterate  100    f=  9.95003D+03    |proj g|=  1.38342D+01\n",
      "\n",
      "At iterate  150    f=  9.94305D+03    |proj g|=  5.93218D+00\n",
      "\n",
      "At iterate  200    f=  9.94223D+03    |proj g|=  7.67696D-01\n",
      "\n",
      "           * * *\n",
      "\n",
      "Tit   = total number of iterations\n",
      "Tnf   = total number of function evaluations\n",
      "Tnint = total number of segments explored during Cauchy searches\n",
      "Skip  = number of BFGS updates skipped\n",
      "Nact  = number of active bounds at final generalized Cauchy point\n",
      "Projg = norm of the final projected gradient\n",
      "F     = final function value\n",
      "\n",
      "           * * *\n",
      "\n",
      "   N    Tit     Tnf  Tnint  Skip  Nact     Projg        F\n",
      "*****    220    258      1     0     0   1.425D+00   9.942D+03\n",
      "  F =   9942.2074752366170     \n",
      "\n",
      "STOP: TOTAL NO. of ITERATIONS REACHED LIMIT                 \n"
     ]
    },
    {
     "name": "stderr",
     "output_type": "stream",
     "text": [
      "/opt/conda/lib/python3.9/site-packages/sklearn/linear_model/_logistic.py:763: ConvergenceWarning: lbfgs failed to converge (status=1):\n",
      "STOP: TOTAL NO. of ITERATIONS REACHED LIMIT.\n",
      "\n",
      "Increase the number of iterations (max_iter) or scale the data as shown in:\n",
      "    https://scikit-learn.org/stable/modules/preprocessing.html\n",
      "Please also refer to the documentation for alternative solver options:\n",
      "    https://scikit-learn.org/stable/modules/linear_model.html#logistic-regression\n",
      "  n_iter_i = _check_optimize_result(\n",
      "[Parallel(n_jobs=1)]: Done   1 out of   1 | elapsed:  1.7min finished\n",
      "[Parallel(n_jobs=1)]: Using backend SequentialBackend with 1 concurrent workers.\n"
     ]
    },
    {
     "name": "stdout",
     "output_type": "stream",
     "text": [
      "RUNNING THE L-BFGS-B CODE\n",
      "\n",
      "           * * *\n",
      "\n",
      "Machine precision = 2.220D-16\n",
      " N =       165480     M =           10\n",
      "\n",
      "At X0         0 variables are exactly at the bounds\n",
      "\n",
      "At iterate    0    f=  6.62475D+04    |proj g|=  1.06605D+03\n"
     ]
    },
    {
     "name": "stderr",
     "output_type": "stream",
     "text": [
      " This problem is unconstrained.\n"
     ]
    },
    {
     "name": "stdout",
     "output_type": "stream",
     "text": [
      "\n",
      "At iterate   50    f=  1.01985D+04    |proj g|=  1.10279D+02\n",
      "\n",
      "At iterate  100    f=  1.00256D+04    |proj g|=  4.81593D+01\n",
      "\n",
      "At iterate  150    f=  1.00111D+04    |proj g|=  5.17751D+00\n",
      "\n",
      "At iterate  200    f=  1.00098D+04    |proj g|=  4.19323D-01\n",
      "\n",
      "           * * *\n",
      "\n",
      "Tit   = total number of iterations\n",
      "Tnf   = total number of function evaluations\n",
      "Tnint = total number of segments explored during Cauchy searches\n",
      "Skip  = number of BFGS updates skipped\n",
      "Nact  = number of active bounds at final generalized Cauchy point\n",
      "Projg = norm of the final projected gradient\n",
      "F     = final function value\n",
      "\n",
      "           * * *\n",
      "\n",
      "   N    Tit     Tnf  Tnint  Skip  Nact     Projg        F\n",
      "*****    220    259      1     0     0   4.159D-01   1.001D+04\n",
      "  F =   10009.629034711863     \n",
      "\n",
      "STOP: TOTAL NO. of ITERATIONS REACHED LIMIT                 \n"
     ]
    },
    {
     "name": "stderr",
     "output_type": "stream",
     "text": [
      "/opt/conda/lib/python3.9/site-packages/sklearn/linear_model/_logistic.py:763: ConvergenceWarning: lbfgs failed to converge (status=1):\n",
      "STOP: TOTAL NO. of ITERATIONS REACHED LIMIT.\n",
      "\n",
      "Increase the number of iterations (max_iter) or scale the data as shown in:\n",
      "    https://scikit-learn.org/stable/modules/preprocessing.html\n",
      "Please also refer to the documentation for alternative solver options:\n",
      "    https://scikit-learn.org/stable/modules/linear_model.html#logistic-regression\n",
      "  n_iter_i = _check_optimize_result(\n",
      "[Parallel(n_jobs=1)]: Done   1 out of   1 | elapsed:  1.7min finished\n",
      "[Parallel(n_jobs=1)]: Using backend SequentialBackend with 1 concurrent workers.\n"
     ]
    },
    {
     "name": "stdout",
     "output_type": "stream",
     "text": [
      "RUNNING THE L-BFGS-B CODE\n",
      "\n",
      "           * * *\n",
      "\n",
      "Machine precision = 2.220D-16\n",
      " N =       165480     M =           10\n",
      "\n",
      "At X0         0 variables are exactly at the bounds\n",
      "\n",
      "At iterate    0    f=  8.83298D+04    |proj g|=  1.40446D+03\n"
     ]
    },
    {
     "name": "stderr",
     "output_type": "stream",
     "text": [
      " This problem is unconstrained.\n"
     ]
    },
    {
     "name": "stdout",
     "output_type": "stream",
     "text": [
      "\n",
      "At iterate   50    f=  1.50294D+04    |proj g|=  4.89632D+01\n",
      "\n",
      "At iterate  100    f=  1.46614D+04    |proj g|=  4.87124D+01\n",
      "\n",
      "At iterate  150    f=  1.46438D+04    |proj g|=  5.69567D+00\n",
      "\n",
      "At iterate  200    f=  1.46422D+04    |proj g|=  9.15526D-01\n",
      "\n",
      "           * * *\n",
      "\n",
      "Tit   = total number of iterations\n",
      "Tnf   = total number of function evaluations\n",
      "Tnint = total number of segments explored during Cauchy searches\n",
      "Skip  = number of BFGS updates skipped\n",
      "Nact  = number of active bounds at final generalized Cauchy point\n",
      "Projg = norm of the final projected gradient\n",
      "F     = final function value\n",
      "\n",
      "           * * *\n",
      "\n",
      "   N    Tit     Tnf  Tnint  Skip  Nact     Projg        F\n",
      "*****    220    263      1     0     0   5.388D-01   1.464D+04\n",
      "  F =   14642.137234631560     \n",
      "\n",
      "STOP: TOTAL NO. of ITERATIONS REACHED LIMIT                 \n"
     ]
    },
    {
     "name": "stderr",
     "output_type": "stream",
     "text": [
      "/opt/conda/lib/python3.9/site-packages/sklearn/linear_model/_logistic.py:763: ConvergenceWarning: lbfgs failed to converge (status=1):\n",
      "STOP: TOTAL NO. of ITERATIONS REACHED LIMIT.\n",
      "\n",
      "Increase the number of iterations (max_iter) or scale the data as shown in:\n",
      "    https://scikit-learn.org/stable/modules/preprocessing.html\n",
      "Please also refer to the documentation for alternative solver options:\n",
      "    https://scikit-learn.org/stable/modules/linear_model.html#logistic-regression\n",
      "  n_iter_i = _check_optimize_result(\n",
      "[Parallel(n_jobs=1)]: Done   1 out of   1 | elapsed:  1.9min finished\n"
     ]
    },
    {
     "data": {
      "text/plain": [
       "GridSearchCV(cv=4,\n",
       "             estimator=LogisticRegression(class_weight='balanced', max_iter=220,\n",
       "                                          random_state=12345, verbose=1),\n",
       "             n_jobs=-1, param_grid={'C': [3.9, 7.7, 9.8]}, scoring='f1')"
      ]
     },
     "execution_count": 22,
     "metadata": {},
     "output_type": "execute_result"
    }
   ],
   "source": [
    "# Обучим модель\n",
    "grid_reg.fit(features_train_vector, target_train)"
   ]
  },
  {
   "cell_type": "code",
   "execution_count": 23,
   "metadata": {},
   "outputs": [
    {
     "data": {
      "text/plain": [
       "0.7681116861757981"
      ]
     },
     "execution_count": 23,
     "metadata": {},
     "output_type": "execute_result"
    }
   ],
   "source": [
    "grid_reg.best_score_"
   ]
  },
  {
   "cell_type": "code",
   "execution_count": 24,
   "metadata": {},
   "outputs": [
    {
     "data": {
      "text/plain": [
       "{'C': 7.7}"
      ]
     },
     "execution_count": 24,
     "metadata": {},
     "output_type": "execute_result"
    }
   ],
   "source": [
    "grid_reg.best_params_"
   ]
  },
  {
   "cell_type": "markdown",
   "metadata": {},
   "source": [
    "### RandomForestClassifier"
   ]
  },
  {
   "cell_type": "code",
   "execution_count": 25,
   "metadata": {},
   "outputs": [],
   "source": [
    "forest_model = RandomForestClassifier(random_state=SEED, class_weight='balanced', verbose=1)\n",
    "forest_param = {'max_depth':[10, 15, 20],\n",
    "                'n_estimators':[100, 200, 300],\n",
    "                'max_features': [3, 5, 8]}"
   ]
  },
  {
   "cell_type": "code",
   "execution_count": 26,
   "metadata": {},
   "outputs": [],
   "source": [
    "# Переберем параметры\n",
    "pipeline = Pipeline([\n",
    "    ('tfidf', TfidfVectorizer(min_df=1)),\n",
    "    ('model', forest_model)])\n",
    "grid_forest = GridSearchCV(forest_model, param_grid=forest_param, scoring='f1', cv=4, n_jobs=-1)"
   ]
  },
  {
   "cell_type": "code",
   "execution_count": 27,
   "metadata": {},
   "outputs": [
    {
     "name": "stderr",
     "output_type": "stream",
     "text": [
      "[Parallel(n_jobs=1)]: Using backend SequentialBackend with 1 concurrent workers.\n",
      "[Parallel(n_jobs=1)]: Done 100 out of 100 | elapsed:    2.0s finished\n",
      "[Parallel(n_jobs=1)]: Using backend SequentialBackend with 1 concurrent workers.\n",
      "[Parallel(n_jobs=1)]: Done 100 out of 100 | elapsed:    0.5s finished\n",
      "[Parallel(n_jobs=1)]: Using backend SequentialBackend with 1 concurrent workers.\n",
      "[Parallel(n_jobs=1)]: Done 100 out of 100 | elapsed:    2.1s finished\n",
      "[Parallel(n_jobs=1)]: Using backend SequentialBackend with 1 concurrent workers.\n",
      "[Parallel(n_jobs=1)]: Done 100 out of 100 | elapsed:    0.4s finished\n",
      "[Parallel(n_jobs=1)]: Using backend SequentialBackend with 1 concurrent workers.\n",
      "[Parallel(n_jobs=1)]: Done 100 out of 100 | elapsed:    2.0s finished\n",
      "[Parallel(n_jobs=1)]: Using backend SequentialBackend with 1 concurrent workers.\n",
      "[Parallel(n_jobs=1)]: Done 100 out of 100 | elapsed:    0.5s finished\n",
      "[Parallel(n_jobs=1)]: Using backend SequentialBackend with 1 concurrent workers.\n",
      "[Parallel(n_jobs=1)]: Done 100 out of 100 | elapsed:    2.1s finished\n",
      "[Parallel(n_jobs=1)]: Using backend SequentialBackend with 1 concurrent workers.\n",
      "[Parallel(n_jobs=1)]: Done 100 out of 100 | elapsed:    0.5s finished\n",
      "[Parallel(n_jobs=1)]: Using backend SequentialBackend with 1 concurrent workers.\n",
      "[Parallel(n_jobs=1)]: Done 200 out of 200 | elapsed:    4.0s finished\n",
      "[Parallel(n_jobs=1)]: Using backend SequentialBackend with 1 concurrent workers.\n",
      "[Parallel(n_jobs=1)]: Done 200 out of 200 | elapsed:    0.9s finished\n",
      "[Parallel(n_jobs=1)]: Using backend SequentialBackend with 1 concurrent workers.\n",
      "[Parallel(n_jobs=1)]: Done 200 out of 200 | elapsed:    4.1s finished\n",
      "[Parallel(n_jobs=1)]: Using backend SequentialBackend with 1 concurrent workers.\n",
      "[Parallel(n_jobs=1)]: Done 200 out of 200 | elapsed:    0.9s finished\n",
      "[Parallel(n_jobs=1)]: Using backend SequentialBackend with 1 concurrent workers.\n",
      "[Parallel(n_jobs=1)]: Done 200 out of 200 | elapsed:    4.0s finished\n",
      "[Parallel(n_jobs=1)]: Using backend SequentialBackend with 1 concurrent workers.\n",
      "[Parallel(n_jobs=1)]: Done 200 out of 200 | elapsed:    0.9s finished\n",
      "[Parallel(n_jobs=1)]: Using backend SequentialBackend with 1 concurrent workers.\n",
      "[Parallel(n_jobs=1)]: Done 200 out of 200 | elapsed:    4.2s finished\n",
      "[Parallel(n_jobs=1)]: Using backend SequentialBackend with 1 concurrent workers.\n",
      "[Parallel(n_jobs=1)]: Done 200 out of 200 | elapsed:    0.9s finished\n",
      "[Parallel(n_jobs=1)]: Using backend SequentialBackend with 1 concurrent workers.\n",
      "[Parallel(n_jobs=1)]: Done 300 out of 300 | elapsed:    6.2s finished\n",
      "[Parallel(n_jobs=1)]: Using backend SequentialBackend with 1 concurrent workers.\n",
      "[Parallel(n_jobs=1)]: Done 300 out of 300 | elapsed:    1.4s finished\n",
      "[Parallel(n_jobs=1)]: Using backend SequentialBackend with 1 concurrent workers.\n",
      "[Parallel(n_jobs=1)]: Done 300 out of 300 | elapsed:    6.2s finished\n",
      "[Parallel(n_jobs=1)]: Using backend SequentialBackend with 1 concurrent workers.\n",
      "[Parallel(n_jobs=1)]: Done 300 out of 300 | elapsed:    1.3s finished\n",
      "[Parallel(n_jobs=1)]: Using backend SequentialBackend with 1 concurrent workers.\n",
      "[Parallel(n_jobs=1)]: Done 300 out of 300 | elapsed:    6.1s finished\n",
      "[Parallel(n_jobs=1)]: Using backend SequentialBackend with 1 concurrent workers.\n",
      "[Parallel(n_jobs=1)]: Done 300 out of 300 | elapsed:    1.4s finished\n",
      "[Parallel(n_jobs=1)]: Using backend SequentialBackend with 1 concurrent workers.\n",
      "[Parallel(n_jobs=1)]: Done 300 out of 300 | elapsed:    6.1s finished\n",
      "[Parallel(n_jobs=1)]: Using backend SequentialBackend with 1 concurrent workers.\n",
      "[Parallel(n_jobs=1)]: Done 300 out of 300 | elapsed:    1.3s finished\n",
      "[Parallel(n_jobs=1)]: Using backend SequentialBackend with 1 concurrent workers.\n",
      "[Parallel(n_jobs=1)]: Done 100 out of 100 | elapsed:    2.4s finished\n",
      "[Parallel(n_jobs=1)]: Using backend SequentialBackend with 1 concurrent workers.\n",
      "[Parallel(n_jobs=1)]: Done 100 out of 100 | elapsed:    0.5s finished\n",
      "[Parallel(n_jobs=1)]: Using backend SequentialBackend with 1 concurrent workers.\n",
      "[Parallel(n_jobs=1)]: Done 100 out of 100 | elapsed:    2.6s finished\n",
      "[Parallel(n_jobs=1)]: Using backend SequentialBackend with 1 concurrent workers.\n",
      "[Parallel(n_jobs=1)]: Done 100 out of 100 | elapsed:    0.5s finished\n",
      "[Parallel(n_jobs=1)]: Using backend SequentialBackend with 1 concurrent workers.\n",
      "[Parallel(n_jobs=1)]: Done 100 out of 100 | elapsed:    2.6s finished\n",
      "[Parallel(n_jobs=1)]: Using backend SequentialBackend with 1 concurrent workers.\n",
      "[Parallel(n_jobs=1)]: Done 100 out of 100 | elapsed:    0.5s finished\n",
      "[Parallel(n_jobs=1)]: Using backend SequentialBackend with 1 concurrent workers.\n",
      "[Parallel(n_jobs=1)]: Done 100 out of 100 | elapsed:    2.5s finished\n",
      "[Parallel(n_jobs=1)]: Using backend SequentialBackend with 1 concurrent workers.\n",
      "[Parallel(n_jobs=1)]: Done 100 out of 100 | elapsed:    0.5s finished\n",
      "[Parallel(n_jobs=1)]: Using backend SequentialBackend with 1 concurrent workers.\n",
      "[Parallel(n_jobs=1)]: Done 200 out of 200 | elapsed:    5.0s finished\n",
      "[Parallel(n_jobs=1)]: Using backend SequentialBackend with 1 concurrent workers.\n",
      "[Parallel(n_jobs=1)]: Done 200 out of 200 | elapsed:    1.0s finished\n",
      "[Parallel(n_jobs=1)]: Using backend SequentialBackend with 1 concurrent workers.\n",
      "[Parallel(n_jobs=1)]: Done 200 out of 200 | elapsed:    5.0s finished\n",
      "[Parallel(n_jobs=1)]: Using backend SequentialBackend with 1 concurrent workers.\n",
      "[Parallel(n_jobs=1)]: Done 200 out of 200 | elapsed:    0.9s finished\n",
      "[Parallel(n_jobs=1)]: Using backend SequentialBackend with 1 concurrent workers.\n",
      "[Parallel(n_jobs=1)]: Done 200 out of 200 | elapsed:    5.0s finished\n",
      "[Parallel(n_jobs=1)]: Using backend SequentialBackend with 1 concurrent workers.\n",
      "[Parallel(n_jobs=1)]: Done 200 out of 200 | elapsed:    0.9s finished\n",
      "[Parallel(n_jobs=1)]: Using backend SequentialBackend with 1 concurrent workers.\n",
      "[Parallel(n_jobs=1)]: Done 200 out of 200 | elapsed:    4.9s finished\n",
      "[Parallel(n_jobs=1)]: Using backend SequentialBackend with 1 concurrent workers.\n",
      "[Parallel(n_jobs=1)]: Done 200 out of 200 | elapsed:    0.9s finished\n",
      "[Parallel(n_jobs=1)]: Using backend SequentialBackend with 1 concurrent workers.\n",
      "[Parallel(n_jobs=1)]: Done 300 out of 300 | elapsed:    7.4s finished\n",
      "[Parallel(n_jobs=1)]: Using backend SequentialBackend with 1 concurrent workers.\n",
      "[Parallel(n_jobs=1)]: Done 300 out of 300 | elapsed:    1.6s finished\n",
      "[Parallel(n_jobs=1)]: Using backend SequentialBackend with 1 concurrent workers.\n",
      "[Parallel(n_jobs=1)]: Done 300 out of 300 | elapsed:    7.6s finished\n",
      "[Parallel(n_jobs=1)]: Using backend SequentialBackend with 1 concurrent workers.\n",
      "[Parallel(n_jobs=1)]: Done 300 out of 300 | elapsed:    1.4s finished\n",
      "[Parallel(n_jobs=1)]: Using backend SequentialBackend with 1 concurrent workers.\n",
      "[Parallel(n_jobs=1)]: Done 300 out of 300 | elapsed:    7.4s finished\n",
      "[Parallel(n_jobs=1)]: Using backend SequentialBackend with 1 concurrent workers.\n",
      "[Parallel(n_jobs=1)]: Done 300 out of 300 | elapsed:    1.4s finished\n",
      "[Parallel(n_jobs=1)]: Using backend SequentialBackend with 1 concurrent workers.\n",
      "[Parallel(n_jobs=1)]: Done 300 out of 300 | elapsed:    7.7s finished\n",
      "[Parallel(n_jobs=1)]: Using backend SequentialBackend with 1 concurrent workers.\n",
      "[Parallel(n_jobs=1)]: Done 300 out of 300 | elapsed:    1.4s finished\n",
      "[Parallel(n_jobs=1)]: Using backend SequentialBackend with 1 concurrent workers.\n",
      "[Parallel(n_jobs=1)]: Done 100 out of 100 | elapsed:    3.1s finished\n",
      "[Parallel(n_jobs=1)]: Using backend SequentialBackend with 1 concurrent workers.\n",
      "[Parallel(n_jobs=1)]: Done 100 out of 100 | elapsed:    0.5s finished\n",
      "[Parallel(n_jobs=1)]: Using backend SequentialBackend with 1 concurrent workers.\n",
      "[Parallel(n_jobs=1)]: Done 100 out of 100 | elapsed:    3.1s finished\n",
      "[Parallel(n_jobs=1)]: Using backend SequentialBackend with 1 concurrent workers.\n",
      "[Parallel(n_jobs=1)]: Done 100 out of 100 | elapsed:    0.4s finished\n",
      "[Parallel(n_jobs=1)]: Using backend SequentialBackend with 1 concurrent workers.\n",
      "[Parallel(n_jobs=1)]: Done 100 out of 100 | elapsed:    3.1s finished\n",
      "[Parallel(n_jobs=1)]: Using backend SequentialBackend with 1 concurrent workers.\n",
      "[Parallel(n_jobs=1)]: Done 100 out of 100 | elapsed:    0.6s finished\n",
      "[Parallel(n_jobs=1)]: Using backend SequentialBackend with 1 concurrent workers.\n",
      "[Parallel(n_jobs=1)]: Done 100 out of 100 | elapsed:    3.0s finished\n",
      "[Parallel(n_jobs=1)]: Using backend SequentialBackend with 1 concurrent workers.\n",
      "[Parallel(n_jobs=1)]: Done 100 out of 100 | elapsed:    0.5s finished\n",
      "[Parallel(n_jobs=1)]: Using backend SequentialBackend with 1 concurrent workers.\n",
      "[Parallel(n_jobs=1)]: Done 200 out of 200 | elapsed:    5.9s finished\n",
      "[Parallel(n_jobs=1)]: Using backend SequentialBackend with 1 concurrent workers.\n",
      "[Parallel(n_jobs=1)]: Done 200 out of 200 | elapsed:    0.9s finished\n",
      "[Parallel(n_jobs=1)]: Using backend SequentialBackend with 1 concurrent workers.\n",
      "[Parallel(n_jobs=1)]: Done 200 out of 200 | elapsed:    6.0s finished\n",
      "[Parallel(n_jobs=1)]: Using backend SequentialBackend with 1 concurrent workers.\n",
      "[Parallel(n_jobs=1)]: Done 200 out of 200 | elapsed:    0.9s finished\n",
      "[Parallel(n_jobs=1)]: Using backend SequentialBackend with 1 concurrent workers.\n",
      "[Parallel(n_jobs=1)]: Done 200 out of 200 | elapsed:    5.9s finished\n",
      "[Parallel(n_jobs=1)]: Using backend SequentialBackend with 1 concurrent workers.\n",
      "[Parallel(n_jobs=1)]: Done 200 out of 200 | elapsed:    0.9s finished\n",
      "[Parallel(n_jobs=1)]: Using backend SequentialBackend with 1 concurrent workers.\n",
      "[Parallel(n_jobs=1)]: Done 200 out of 200 | elapsed:    6.0s finished\n",
      "[Parallel(n_jobs=1)]: Using backend SequentialBackend with 1 concurrent workers.\n",
      "[Parallel(n_jobs=1)]: Done 200 out of 200 | elapsed:    0.9s finished\n",
      "[Parallel(n_jobs=1)]: Using backend SequentialBackend with 1 concurrent workers.\n",
      "[Parallel(n_jobs=1)]: Done 300 out of 300 | elapsed:    8.9s finished\n",
      "[Parallel(n_jobs=1)]: Using backend SequentialBackend with 1 concurrent workers.\n",
      "[Parallel(n_jobs=1)]: Done 300 out of 300 | elapsed:    1.4s finished\n",
      "[Parallel(n_jobs=1)]: Using backend SequentialBackend with 1 concurrent workers.\n",
      "[Parallel(n_jobs=1)]: Done 300 out of 300 | elapsed:    8.9s finished\n",
      "[Parallel(n_jobs=1)]: Using backend SequentialBackend with 1 concurrent workers.\n",
      "[Parallel(n_jobs=1)]: Done 300 out of 300 | elapsed:    1.3s finished\n",
      "[Parallel(n_jobs=1)]: Using backend SequentialBackend with 1 concurrent workers.\n",
      "[Parallel(n_jobs=1)]: Done 300 out of 300 | elapsed:    9.1s finished\n",
      "[Parallel(n_jobs=1)]: Using backend SequentialBackend with 1 concurrent workers.\n",
      "[Parallel(n_jobs=1)]: Done 300 out of 300 | elapsed:    1.3s finished\n",
      "[Parallel(n_jobs=1)]: Using backend SequentialBackend with 1 concurrent workers.\n",
      "[Parallel(n_jobs=1)]: Done 300 out of 300 | elapsed:    8.9s finished\n",
      "[Parallel(n_jobs=1)]: Using backend SequentialBackend with 1 concurrent workers.\n",
      "[Parallel(n_jobs=1)]: Done 300 out of 300 | elapsed:    1.4s finished\n",
      "[Parallel(n_jobs=1)]: Using backend SequentialBackend with 1 concurrent workers.\n",
      "[Parallel(n_jobs=1)]: Done 100 out of 100 | elapsed:    2.7s finished\n",
      "[Parallel(n_jobs=1)]: Using backend SequentialBackend with 1 concurrent workers.\n",
      "[Parallel(n_jobs=1)]: Done 100 out of 100 | elapsed:    0.5s finished\n",
      "[Parallel(n_jobs=1)]: Using backend SequentialBackend with 1 concurrent workers.\n",
      "[Parallel(n_jobs=1)]: Done 100 out of 100 | elapsed:    2.7s finished\n",
      "[Parallel(n_jobs=1)]: Using backend SequentialBackend with 1 concurrent workers.\n",
      "[Parallel(n_jobs=1)]: Done 100 out of 100 | elapsed:    0.5s finished\n",
      "[Parallel(n_jobs=1)]: Using backend SequentialBackend with 1 concurrent workers.\n",
      "[Parallel(n_jobs=1)]: Done 100 out of 100 | elapsed:    2.9s finished\n",
      "[Parallel(n_jobs=1)]: Using backend SequentialBackend with 1 concurrent workers.\n",
      "[Parallel(n_jobs=1)]: Done 100 out of 100 | elapsed:    0.5s finished\n",
      "[Parallel(n_jobs=1)]: Using backend SequentialBackend with 1 concurrent workers.\n",
      "[Parallel(n_jobs=1)]: Done 100 out of 100 | elapsed:    2.8s finished\n",
      "[Parallel(n_jobs=1)]: Using backend SequentialBackend with 1 concurrent workers.\n",
      "[Parallel(n_jobs=1)]: Done 100 out of 100 | elapsed:    0.5s finished\n",
      "[Parallel(n_jobs=1)]: Using backend SequentialBackend with 1 concurrent workers.\n",
      "[Parallel(n_jobs=1)]: Done 200 out of 200 | elapsed:    5.3s finished\n",
      "[Parallel(n_jobs=1)]: Using backend SequentialBackend with 1 concurrent workers.\n",
      "[Parallel(n_jobs=1)]: Done 200 out of 200 | elapsed:    0.9s finished\n",
      "[Parallel(n_jobs=1)]: Using backend SequentialBackend with 1 concurrent workers.\n",
      "[Parallel(n_jobs=1)]: Done 200 out of 200 | elapsed:    5.4s finished\n",
      "[Parallel(n_jobs=1)]: Using backend SequentialBackend with 1 concurrent workers.\n",
      "[Parallel(n_jobs=1)]: Done 200 out of 200 | elapsed:    1.0s finished\n",
      "[Parallel(n_jobs=1)]: Using backend SequentialBackend with 1 concurrent workers.\n",
      "[Parallel(n_jobs=1)]: Done 200 out of 200 | elapsed:    5.4s finished\n",
      "[Parallel(n_jobs=1)]: Using backend SequentialBackend with 1 concurrent workers.\n",
      "[Parallel(n_jobs=1)]: Done 200 out of 200 | elapsed:    0.9s finished\n",
      "[Parallel(n_jobs=1)]: Using backend SequentialBackend with 1 concurrent workers.\n",
      "[Parallel(n_jobs=1)]: Done 200 out of 200 | elapsed:    5.4s finished\n",
      "[Parallel(n_jobs=1)]: Using backend SequentialBackend with 1 concurrent workers.\n",
      "[Parallel(n_jobs=1)]: Done 200 out of 200 | elapsed:    0.9s finished\n",
      "[Parallel(n_jobs=1)]: Using backend SequentialBackend with 1 concurrent workers.\n",
      "[Parallel(n_jobs=1)]: Done 300 out of 300 | elapsed:    8.2s finished\n",
      "[Parallel(n_jobs=1)]: Using backend SequentialBackend with 1 concurrent workers.\n",
      "[Parallel(n_jobs=1)]: Done 300 out of 300 | elapsed:    1.4s finished\n",
      "[Parallel(n_jobs=1)]: Using backend SequentialBackend with 1 concurrent workers.\n",
      "[Parallel(n_jobs=1)]: Done 300 out of 300 | elapsed:    8.2s finished\n",
      "[Parallel(n_jobs=1)]: Using backend SequentialBackend with 1 concurrent workers.\n",
      "[Parallel(n_jobs=1)]: Done 300 out of 300 | elapsed:    1.4s finished\n",
      "[Parallel(n_jobs=1)]: Using backend SequentialBackend with 1 concurrent workers.\n",
      "[Parallel(n_jobs=1)]: Done 300 out of 300 | elapsed:    8.1s finished\n",
      "[Parallel(n_jobs=1)]: Using backend SequentialBackend with 1 concurrent workers.\n",
      "[Parallel(n_jobs=1)]: Done 300 out of 300 | elapsed:    1.4s finished\n",
      "[Parallel(n_jobs=1)]: Using backend SequentialBackend with 1 concurrent workers.\n",
      "[Parallel(n_jobs=1)]: Done 300 out of 300 | elapsed:    8.1s finished\n",
      "[Parallel(n_jobs=1)]: Using backend SequentialBackend with 1 concurrent workers.\n",
      "[Parallel(n_jobs=1)]: Done 300 out of 300 | elapsed:    1.5s finished\n",
      "[Parallel(n_jobs=1)]: Using backend SequentialBackend with 1 concurrent workers.\n",
      "[Parallel(n_jobs=1)]: Done 100 out of 100 | elapsed:    3.3s finished\n",
      "[Parallel(n_jobs=1)]: Using backend SequentialBackend with 1 concurrent workers.\n",
      "[Parallel(n_jobs=1)]: Done 100 out of 100 | elapsed:    0.5s finished\n",
      "[Parallel(n_jobs=1)]: Using backend SequentialBackend with 1 concurrent workers.\n",
      "[Parallel(n_jobs=1)]: Done 100 out of 100 | elapsed:    3.4s finished\n",
      "[Parallel(n_jobs=1)]: Using backend SequentialBackend with 1 concurrent workers.\n",
      "[Parallel(n_jobs=1)]: Done 100 out of 100 | elapsed:    0.5s finished\n",
      "[Parallel(n_jobs=1)]: Using backend SequentialBackend with 1 concurrent workers.\n",
      "[Parallel(n_jobs=1)]: Done 100 out of 100 | elapsed:    3.5s finished\n",
      "[Parallel(n_jobs=1)]: Using backend SequentialBackend with 1 concurrent workers.\n",
      "[Parallel(n_jobs=1)]: Done 100 out of 100 | elapsed:    0.5s finished\n",
      "[Parallel(n_jobs=1)]: Using backend SequentialBackend with 1 concurrent workers.\n",
      "[Parallel(n_jobs=1)]: Done 100 out of 100 | elapsed:    3.3s finished\n",
      "[Parallel(n_jobs=1)]: Using backend SequentialBackend with 1 concurrent workers.\n",
      "[Parallel(n_jobs=1)]: Done 100 out of 100 | elapsed:    0.5s finished\n",
      "[Parallel(n_jobs=1)]: Using backend SequentialBackend with 1 concurrent workers.\n",
      "[Parallel(n_jobs=1)]: Done 200 out of 200 | elapsed:    6.9s finished\n",
      "[Parallel(n_jobs=1)]: Using backend SequentialBackend with 1 concurrent workers.\n",
      "[Parallel(n_jobs=1)]: Done 200 out of 200 | elapsed:    1.0s finished\n",
      "[Parallel(n_jobs=1)]: Using backend SequentialBackend with 1 concurrent workers.\n",
      "[Parallel(n_jobs=1)]: Done 200 out of 200 | elapsed:    6.8s finished\n",
      "[Parallel(n_jobs=1)]: Using backend SequentialBackend with 1 concurrent workers.\n",
      "[Parallel(n_jobs=1)]: Done 200 out of 200 | elapsed:    0.9s finished\n",
      "[Parallel(n_jobs=1)]: Using backend SequentialBackend with 1 concurrent workers.\n",
      "[Parallel(n_jobs=1)]: Done 200 out of 200 | elapsed:    6.8s finished\n",
      "[Parallel(n_jobs=1)]: Using backend SequentialBackend with 1 concurrent workers.\n",
      "[Parallel(n_jobs=1)]: Done 200 out of 200 | elapsed:    1.0s finished\n",
      "[Parallel(n_jobs=1)]: Using backend SequentialBackend with 1 concurrent workers.\n",
      "[Parallel(n_jobs=1)]: Done 200 out of 200 | elapsed:    6.8s finished\n",
      "[Parallel(n_jobs=1)]: Using backend SequentialBackend with 1 concurrent workers.\n",
      "[Parallel(n_jobs=1)]: Done 200 out of 200 | elapsed:    1.0s finished\n",
      "[Parallel(n_jobs=1)]: Using backend SequentialBackend with 1 concurrent workers.\n",
      "[Parallel(n_jobs=1)]: Done 300 out of 300 | elapsed:   10.1s finished\n",
      "[Parallel(n_jobs=1)]: Using backend SequentialBackend with 1 concurrent workers.\n",
      "[Parallel(n_jobs=1)]: Done 300 out of 300 | elapsed:    1.5s finished\n",
      "[Parallel(n_jobs=1)]: Using backend SequentialBackend with 1 concurrent workers.\n",
      "[Parallel(n_jobs=1)]: Done 300 out of 300 | elapsed:   10.4s finished\n",
      "[Parallel(n_jobs=1)]: Using backend SequentialBackend with 1 concurrent workers.\n",
      "[Parallel(n_jobs=1)]: Done 300 out of 300 | elapsed:    1.5s finished\n",
      "[Parallel(n_jobs=1)]: Using backend SequentialBackend with 1 concurrent workers.\n",
      "[Parallel(n_jobs=1)]: Done 300 out of 300 | elapsed:   10.2s finished\n",
      "[Parallel(n_jobs=1)]: Using backend SequentialBackend with 1 concurrent workers.\n",
      "[Parallel(n_jobs=1)]: Done 300 out of 300 | elapsed:    1.4s finished\n",
      "[Parallel(n_jobs=1)]: Using backend SequentialBackend with 1 concurrent workers.\n",
      "[Parallel(n_jobs=1)]: Done 300 out of 300 | elapsed:   10.3s finished\n",
      "[Parallel(n_jobs=1)]: Using backend SequentialBackend with 1 concurrent workers.\n",
      "[Parallel(n_jobs=1)]: Done 300 out of 300 | elapsed:    1.5s finished\n",
      "[Parallel(n_jobs=1)]: Using backend SequentialBackend with 1 concurrent workers.\n",
      "[Parallel(n_jobs=1)]: Done 100 out of 100 | elapsed:    4.3s finished\n",
      "[Parallel(n_jobs=1)]: Using backend SequentialBackend with 1 concurrent workers.\n",
      "[Parallel(n_jobs=1)]: Done 100 out of 100 | elapsed:    0.5s finished\n",
      "[Parallel(n_jobs=1)]: Using backend SequentialBackend with 1 concurrent workers.\n",
      "[Parallel(n_jobs=1)]: Done 100 out of 100 | elapsed:    4.2s finished\n",
      "[Parallel(n_jobs=1)]: Using backend SequentialBackend with 1 concurrent workers.\n",
      "[Parallel(n_jobs=1)]: Done 100 out of 100 | elapsed:    0.5s finished\n",
      "[Parallel(n_jobs=1)]: Using backend SequentialBackend with 1 concurrent workers.\n",
      "[Parallel(n_jobs=1)]: Done 100 out of 100 | elapsed:    4.2s finished\n",
      "[Parallel(n_jobs=1)]: Using backend SequentialBackend with 1 concurrent workers.\n",
      "[Parallel(n_jobs=1)]: Done 100 out of 100 | elapsed:    0.5s finished\n",
      "[Parallel(n_jobs=1)]: Using backend SequentialBackend with 1 concurrent workers.\n",
      "[Parallel(n_jobs=1)]: Done 100 out of 100 | elapsed:    4.1s finished\n",
      "[Parallel(n_jobs=1)]: Using backend SequentialBackend with 1 concurrent workers.\n",
      "[Parallel(n_jobs=1)]: Done 100 out of 100 | elapsed:    0.5s finished\n",
      "[Parallel(n_jobs=1)]: Using backend SequentialBackend with 1 concurrent workers.\n",
      "[Parallel(n_jobs=1)]: Done 200 out of 200 | elapsed:    8.6s finished\n",
      "[Parallel(n_jobs=1)]: Using backend SequentialBackend with 1 concurrent workers.\n",
      "[Parallel(n_jobs=1)]: Done 200 out of 200 | elapsed:    1.0s finished\n",
      "[Parallel(n_jobs=1)]: Using backend SequentialBackend with 1 concurrent workers.\n",
      "[Parallel(n_jobs=1)]: Done 200 out of 200 | elapsed:    8.5s finished\n",
      "[Parallel(n_jobs=1)]: Using backend SequentialBackend with 1 concurrent workers.\n",
      "[Parallel(n_jobs=1)]: Done 200 out of 200 | elapsed:    0.9s finished\n",
      "[Parallel(n_jobs=1)]: Using backend SequentialBackend with 1 concurrent workers.\n",
      "[Parallel(n_jobs=1)]: Done 200 out of 200 | elapsed:    8.5s finished\n",
      "[Parallel(n_jobs=1)]: Using backend SequentialBackend with 1 concurrent workers.\n",
      "[Parallel(n_jobs=1)]: Done 200 out of 200 | elapsed:    0.9s finished\n",
      "[Parallel(n_jobs=1)]: Using backend SequentialBackend with 1 concurrent workers.\n",
      "[Parallel(n_jobs=1)]: Done 200 out of 200 | elapsed:    8.5s finished\n",
      "[Parallel(n_jobs=1)]: Using backend SequentialBackend with 1 concurrent workers.\n",
      "[Parallel(n_jobs=1)]: Done 200 out of 200 | elapsed:    1.0s finished\n",
      "[Parallel(n_jobs=1)]: Using backend SequentialBackend with 1 concurrent workers.\n",
      "[Parallel(n_jobs=1)]: Done 300 out of 300 | elapsed:   12.8s finished\n",
      "[Parallel(n_jobs=1)]: Using backend SequentialBackend with 1 concurrent workers.\n",
      "[Parallel(n_jobs=1)]: Done 300 out of 300 | elapsed:    1.4s finished\n",
      "[Parallel(n_jobs=1)]: Using backend SequentialBackend with 1 concurrent workers.\n",
      "[Parallel(n_jobs=1)]: Done 300 out of 300 | elapsed:   12.5s finished\n",
      "[Parallel(n_jobs=1)]: Using backend SequentialBackend with 1 concurrent workers.\n",
      "[Parallel(n_jobs=1)]: Done 300 out of 300 | elapsed:    1.4s finished\n",
      "[Parallel(n_jobs=1)]: Using backend SequentialBackend with 1 concurrent workers.\n",
      "[Parallel(n_jobs=1)]: Done 300 out of 300 | elapsed:   12.6s finished\n",
      "[Parallel(n_jobs=1)]: Using backend SequentialBackend with 1 concurrent workers.\n",
      "[Parallel(n_jobs=1)]: Done 300 out of 300 | elapsed:    1.4s finished\n",
      "[Parallel(n_jobs=1)]: Using backend SequentialBackend with 1 concurrent workers.\n",
      "[Parallel(n_jobs=1)]: Done 300 out of 300 | elapsed:   12.7s finished\n",
      "[Parallel(n_jobs=1)]: Using backend SequentialBackend with 1 concurrent workers.\n",
      "[Parallel(n_jobs=1)]: Done 300 out of 300 | elapsed:    1.4s finished\n",
      "[Parallel(n_jobs=1)]: Using backend SequentialBackend with 1 concurrent workers.\n",
      "[Parallel(n_jobs=1)]: Done 100 out of 100 | elapsed:    3.4s finished\n",
      "[Parallel(n_jobs=1)]: Using backend SequentialBackend with 1 concurrent workers.\n",
      "[Parallel(n_jobs=1)]: Done 100 out of 100 | elapsed:    0.5s finished\n",
      "[Parallel(n_jobs=1)]: Using backend SequentialBackend with 1 concurrent workers.\n",
      "[Parallel(n_jobs=1)]: Done 100 out of 100 | elapsed:    3.3s finished\n",
      "[Parallel(n_jobs=1)]: Using backend SequentialBackend with 1 concurrent workers.\n",
      "[Parallel(n_jobs=1)]: Done 100 out of 100 | elapsed:    0.6s finished\n",
      "[Parallel(n_jobs=1)]: Using backend SequentialBackend with 1 concurrent workers.\n",
      "[Parallel(n_jobs=1)]: Done 100 out of 100 | elapsed:    3.5s finished\n",
      "[Parallel(n_jobs=1)]: Using backend SequentialBackend with 1 concurrent workers.\n",
      "[Parallel(n_jobs=1)]: Done 100 out of 100 | elapsed:    0.5s finished\n",
      "[Parallel(n_jobs=1)]: Using backend SequentialBackend with 1 concurrent workers.\n",
      "[Parallel(n_jobs=1)]: Done 100 out of 100 | elapsed:    3.4s finished\n",
      "[Parallel(n_jobs=1)]: Using backend SequentialBackend with 1 concurrent workers.\n",
      "[Parallel(n_jobs=1)]: Done 100 out of 100 | elapsed:    0.5s finished\n",
      "[Parallel(n_jobs=1)]: Using backend SequentialBackend with 1 concurrent workers.\n",
      "[Parallel(n_jobs=1)]: Done 200 out of 200 | elapsed:    6.8s finished\n",
      "[Parallel(n_jobs=1)]: Using backend SequentialBackend with 1 concurrent workers.\n",
      "[Parallel(n_jobs=1)]: Done 200 out of 200 | elapsed:    1.0s finished\n",
      "[Parallel(n_jobs=1)]: Using backend SequentialBackend with 1 concurrent workers.\n",
      "[Parallel(n_jobs=1)]: Done 200 out of 200 | elapsed:    6.8s finished\n",
      "[Parallel(n_jobs=1)]: Using backend SequentialBackend with 1 concurrent workers.\n",
      "[Parallel(n_jobs=1)]: Done 200 out of 200 | elapsed:    1.0s finished\n",
      "[Parallel(n_jobs=1)]: Using backend SequentialBackend with 1 concurrent workers.\n",
      "[Parallel(n_jobs=1)]: Done 200 out of 200 | elapsed:    6.8s finished\n",
      "[Parallel(n_jobs=1)]: Using backend SequentialBackend with 1 concurrent workers.\n",
      "[Parallel(n_jobs=1)]: Done 200 out of 200 | elapsed:    1.0s finished\n",
      "[Parallel(n_jobs=1)]: Using backend SequentialBackend with 1 concurrent workers.\n",
      "[Parallel(n_jobs=1)]: Done 200 out of 200 | elapsed:    6.8s finished\n",
      "[Parallel(n_jobs=1)]: Using backend SequentialBackend with 1 concurrent workers.\n",
      "[Parallel(n_jobs=1)]: Done 200 out of 200 | elapsed:    1.0s finished\n",
      "[Parallel(n_jobs=1)]: Using backend SequentialBackend with 1 concurrent workers.\n",
      "[Parallel(n_jobs=1)]: Done 300 out of 300 | elapsed:   10.4s finished\n",
      "[Parallel(n_jobs=1)]: Using backend SequentialBackend with 1 concurrent workers.\n",
      "[Parallel(n_jobs=1)]: Done 300 out of 300 | elapsed:    1.5s finished\n",
      "[Parallel(n_jobs=1)]: Using backend SequentialBackend with 1 concurrent workers.\n",
      "[Parallel(n_jobs=1)]: Done 300 out of 300 | elapsed:   10.1s finished\n",
      "[Parallel(n_jobs=1)]: Using backend SequentialBackend with 1 concurrent workers.\n",
      "[Parallel(n_jobs=1)]: Done 300 out of 300 | elapsed:    1.5s finished\n",
      "[Parallel(n_jobs=1)]: Using backend SequentialBackend with 1 concurrent workers.\n",
      "[Parallel(n_jobs=1)]: Done 300 out of 300 | elapsed:    9.9s finished\n",
      "[Parallel(n_jobs=1)]: Using backend SequentialBackend with 1 concurrent workers.\n",
      "[Parallel(n_jobs=1)]: Done 300 out of 300 | elapsed:    1.4s finished\n",
      "[Parallel(n_jobs=1)]: Using backend SequentialBackend with 1 concurrent workers.\n",
      "[Parallel(n_jobs=1)]: Done 300 out of 300 | elapsed:   10.1s finished\n",
      "[Parallel(n_jobs=1)]: Using backend SequentialBackend with 1 concurrent workers.\n",
      "[Parallel(n_jobs=1)]: Done 300 out of 300 | elapsed:    1.4s finished\n",
      "[Parallel(n_jobs=1)]: Using backend SequentialBackend with 1 concurrent workers.\n",
      "[Parallel(n_jobs=1)]: Done 100 out of 100 | elapsed:    4.3s finished\n",
      "[Parallel(n_jobs=1)]: Using backend SequentialBackend with 1 concurrent workers.\n",
      "[Parallel(n_jobs=1)]: Done 100 out of 100 | elapsed:    0.5s finished\n",
      "[Parallel(n_jobs=1)]: Using backend SequentialBackend with 1 concurrent workers.\n",
      "[Parallel(n_jobs=1)]: Done 100 out of 100 | elapsed:    4.4s finished\n",
      "[Parallel(n_jobs=1)]: Using backend SequentialBackend with 1 concurrent workers.\n",
      "[Parallel(n_jobs=1)]: Done 100 out of 100 | elapsed:    0.5s finished\n",
      "[Parallel(n_jobs=1)]: Using backend SequentialBackend with 1 concurrent workers.\n",
      "[Parallel(n_jobs=1)]: Done 100 out of 100 | elapsed:    4.4s finished\n",
      "[Parallel(n_jobs=1)]: Using backend SequentialBackend with 1 concurrent workers.\n",
      "[Parallel(n_jobs=1)]: Done 100 out of 100 | elapsed:    0.5s finished\n",
      "[Parallel(n_jobs=1)]: Using backend SequentialBackend with 1 concurrent workers.\n",
      "[Parallel(n_jobs=1)]: Done 100 out of 100 | elapsed:    4.2s finished\n",
      "[Parallel(n_jobs=1)]: Using backend SequentialBackend with 1 concurrent workers.\n",
      "[Parallel(n_jobs=1)]: Done 100 out of 100 | elapsed:    0.6s finished\n",
      "[Parallel(n_jobs=1)]: Using backend SequentialBackend with 1 concurrent workers.\n",
      "[Parallel(n_jobs=1)]: Done 200 out of 200 | elapsed:    8.5s finished\n",
      "[Parallel(n_jobs=1)]: Using backend SequentialBackend with 1 concurrent workers.\n",
      "[Parallel(n_jobs=1)]: Done 200 out of 200 | elapsed:    1.0s finished\n",
      "[Parallel(n_jobs=1)]: Using backend SequentialBackend with 1 concurrent workers.\n",
      "[Parallel(n_jobs=1)]: Done 200 out of 200 | elapsed:    8.8s finished\n",
      "[Parallel(n_jobs=1)]: Using backend SequentialBackend with 1 concurrent workers.\n",
      "[Parallel(n_jobs=1)]: Done 200 out of 200 | elapsed:    1.0s finished\n",
      "[Parallel(n_jobs=1)]: Using backend SequentialBackend with 1 concurrent workers.\n",
      "[Parallel(n_jobs=1)]: Done 200 out of 200 | elapsed:    8.6s finished\n",
      "[Parallel(n_jobs=1)]: Using backend SequentialBackend with 1 concurrent workers.\n",
      "[Parallel(n_jobs=1)]: Done 200 out of 200 | elapsed:    1.0s finished\n",
      "[Parallel(n_jobs=1)]: Using backend SequentialBackend with 1 concurrent workers.\n",
      "[Parallel(n_jobs=1)]: Done 200 out of 200 | elapsed:    8.7s finished\n",
      "[Parallel(n_jobs=1)]: Using backend SequentialBackend with 1 concurrent workers.\n",
      "[Parallel(n_jobs=1)]: Done 200 out of 200 | elapsed:    1.0s finished\n",
      "[Parallel(n_jobs=1)]: Using backend SequentialBackend with 1 concurrent workers.\n",
      "[Parallel(n_jobs=1)]: Done 300 out of 300 | elapsed:   12.8s finished\n",
      "[Parallel(n_jobs=1)]: Using backend SequentialBackend with 1 concurrent workers.\n",
      "[Parallel(n_jobs=1)]: Done 300 out of 300 | elapsed:    1.6s finished\n",
      "[Parallel(n_jobs=1)]: Using backend SequentialBackend with 1 concurrent workers.\n",
      "[Parallel(n_jobs=1)]: Done 300 out of 300 | elapsed:   13.1s finished\n",
      "[Parallel(n_jobs=1)]: Using backend SequentialBackend with 1 concurrent workers.\n",
      "[Parallel(n_jobs=1)]: Done 300 out of 300 | elapsed:    1.5s finished\n",
      "[Parallel(n_jobs=1)]: Using backend SequentialBackend with 1 concurrent workers.\n",
      "[Parallel(n_jobs=1)]: Done 300 out of 300 | elapsed:   13.1s finished\n",
      "[Parallel(n_jobs=1)]: Using backend SequentialBackend with 1 concurrent workers.\n",
      "[Parallel(n_jobs=1)]: Done 300 out of 300 | elapsed:    1.5s finished\n",
      "[Parallel(n_jobs=1)]: Using backend SequentialBackend with 1 concurrent workers.\n",
      "[Parallel(n_jobs=1)]: Done 300 out of 300 | elapsed:   12.9s finished\n",
      "[Parallel(n_jobs=1)]: Using backend SequentialBackend with 1 concurrent workers.\n",
      "[Parallel(n_jobs=1)]: Done 300 out of 300 | elapsed:    1.5s finished\n",
      "[Parallel(n_jobs=1)]: Using backend SequentialBackend with 1 concurrent workers.\n",
      "[Parallel(n_jobs=1)]: Done 100 out of 100 | elapsed:    5.4s finished\n",
      "[Parallel(n_jobs=1)]: Using backend SequentialBackend with 1 concurrent workers.\n",
      "[Parallel(n_jobs=1)]: Done 100 out of 100 | elapsed:    0.5s finished\n",
      "[Parallel(n_jobs=1)]: Using backend SequentialBackend with 1 concurrent workers.\n",
      "[Parallel(n_jobs=1)]: Done 100 out of 100 | elapsed:    5.4s finished\n",
      "[Parallel(n_jobs=1)]: Using backend SequentialBackend with 1 concurrent workers.\n",
      "[Parallel(n_jobs=1)]: Done 100 out of 100 | elapsed:    0.5s finished\n",
      "[Parallel(n_jobs=1)]: Using backend SequentialBackend with 1 concurrent workers.\n",
      "[Parallel(n_jobs=1)]: Done 100 out of 100 | elapsed:    5.5s finished\n",
      "[Parallel(n_jobs=1)]: Using backend SequentialBackend with 1 concurrent workers.\n",
      "[Parallel(n_jobs=1)]: Done 100 out of 100 | elapsed:    0.5s finished\n",
      "[Parallel(n_jobs=1)]: Using backend SequentialBackend with 1 concurrent workers.\n",
      "[Parallel(n_jobs=1)]: Done 100 out of 100 | elapsed:    5.5s finished\n",
      "[Parallel(n_jobs=1)]: Using backend SequentialBackend with 1 concurrent workers.\n",
      "[Parallel(n_jobs=1)]: Done 100 out of 100 | elapsed:    0.6s finished\n",
      "[Parallel(n_jobs=1)]: Using backend SequentialBackend with 1 concurrent workers.\n",
      "[Parallel(n_jobs=1)]: Done 200 out of 200 | elapsed:   11.0s finished\n",
      "[Parallel(n_jobs=1)]: Using backend SequentialBackend with 1 concurrent workers.\n",
      "[Parallel(n_jobs=1)]: Done 200 out of 200 | elapsed:    1.1s finished\n",
      "[Parallel(n_jobs=1)]: Using backend SequentialBackend with 1 concurrent workers.\n",
      "[Parallel(n_jobs=1)]: Done 200 out of 200 | elapsed:   10.9s finished\n",
      "[Parallel(n_jobs=1)]: Using backend SequentialBackend with 1 concurrent workers.\n",
      "[Parallel(n_jobs=1)]: Done 200 out of 200 | elapsed:    1.0s finished\n",
      "[Parallel(n_jobs=1)]: Using backend SequentialBackend with 1 concurrent workers.\n",
      "[Parallel(n_jobs=1)]: Done 200 out of 200 | elapsed:   10.6s finished\n",
      "[Parallel(n_jobs=1)]: Using backend SequentialBackend with 1 concurrent workers.\n",
      "[Parallel(n_jobs=1)]: Done 200 out of 200 | elapsed:    1.0s finished\n",
      "[Parallel(n_jobs=1)]: Using backend SequentialBackend with 1 concurrent workers.\n",
      "[Parallel(n_jobs=1)]: Done 200 out of 200 | elapsed:   10.9s finished\n",
      "[Parallel(n_jobs=1)]: Using backend SequentialBackend with 1 concurrent workers.\n",
      "[Parallel(n_jobs=1)]: Done 200 out of 200 | elapsed:    1.0s finished\n",
      "[Parallel(n_jobs=1)]: Using backend SequentialBackend with 1 concurrent workers.\n",
      "[Parallel(n_jobs=1)]: Done 300 out of 300 | elapsed:   16.0s finished\n",
      "[Parallel(n_jobs=1)]: Using backend SequentialBackend with 1 concurrent workers.\n",
      "[Parallel(n_jobs=1)]: Done 300 out of 300 | elapsed:    1.5s finished\n",
      "[Parallel(n_jobs=1)]: Using backend SequentialBackend with 1 concurrent workers.\n",
      "[Parallel(n_jobs=1)]: Done 300 out of 300 | elapsed:   15.8s finished\n",
      "[Parallel(n_jobs=1)]: Using backend SequentialBackend with 1 concurrent workers.\n",
      "[Parallel(n_jobs=1)]: Done 300 out of 300 | elapsed:    1.5s finished\n",
      "[Parallel(n_jobs=1)]: Using backend SequentialBackend with 1 concurrent workers.\n",
      "[Parallel(n_jobs=1)]: Done 300 out of 300 | elapsed:   15.9s finished\n",
      "[Parallel(n_jobs=1)]: Using backend SequentialBackend with 1 concurrent workers.\n",
      "[Parallel(n_jobs=1)]: Done 300 out of 300 | elapsed:    1.5s finished\n",
      "[Parallel(n_jobs=1)]: Using backend SequentialBackend with 1 concurrent workers.\n",
      "[Parallel(n_jobs=1)]: Done 300 out of 300 | elapsed:   16.0s finished\n",
      "[Parallel(n_jobs=1)]: Using backend SequentialBackend with 1 concurrent workers.\n",
      "[Parallel(n_jobs=1)]: Done 300 out of 300 | elapsed:    1.5s finished\n",
      "[Parallel(n_jobs=1)]: Using backend SequentialBackend with 1 concurrent workers.\n",
      "[Parallel(n_jobs=1)]: Done 300 out of 300 | elapsed:    7.0s finished\n"
     ]
    },
    {
     "data": {
      "text/plain": [
       "GridSearchCV(cv=4,\n",
       "             estimator=RandomForestClassifier(class_weight='balanced',\n",
       "                                              random_state=12345, verbose=1),\n",
       "             n_jobs=-1,\n",
       "             param_grid={'max_depth': [10, 15, 20], 'max_features': [3, 5, 8],\n",
       "                         'n_estimators': [100, 200, 300]},\n",
       "             scoring='f1')"
      ]
     },
     "execution_count": 27,
     "metadata": {},
     "output_type": "execute_result"
    }
   ],
   "source": [
    "# Обучим модель\n",
    "grid_forest.fit(features_train_vector, target_train)"
   ]
  },
  {
   "cell_type": "code",
   "execution_count": 28,
   "metadata": {},
   "outputs": [
    {
     "data": {
      "text/plain": [
       "0.30304318597356483"
      ]
     },
     "execution_count": 28,
     "metadata": {},
     "output_type": "execute_result"
    }
   ],
   "source": [
    "grid_forest.best_score_"
   ]
  },
  {
   "cell_type": "code",
   "execution_count": 29,
   "metadata": {},
   "outputs": [
    {
     "data": {
      "text/plain": [
       "{'max_depth': 20, 'max_features': 8, 'n_estimators': 300}"
      ]
     },
     "execution_count": 29,
     "metadata": {},
     "output_type": "execute_result"
    }
   ],
   "source": [
    "grid_forest.best_params_"
   ]
  },
  {
   "cell_type": "markdown",
   "metadata": {},
   "source": [
    "## Тестирование выбранной модели"
   ]
  },
  {
   "cell_type": "code",
   "execution_count": 30,
   "metadata": {},
   "outputs": [],
   "source": [
    "test_predict = grid_reg.predict(features_test_vector)"
   ]
  },
  {
   "cell_type": "code",
   "execution_count": 31,
   "metadata": {},
   "outputs": [
    {
     "name": "stdout",
     "output_type": "stream",
     "text": [
      "Значение f1 = 0.7780996523754344 удовлетворяет требования заказчика!\n"
     ]
    }
   ],
   "source": [
    "# Зададим пороговое значения, которое предъявил заказчик:\n",
    "test_f1 = f1_score(target_test, test_predict)\n",
    "\n",
    "if test_f1 <= 0.75:\n",
    "    print(f'Значение f1 = {test_f1} не удовлетворяет требования заказчика!')\n",
    "else:\n",
    "    print(f'Значение f1 = {test_f1} удовлетворяет требования заказчика!')"
   ]
  },
  {
   "cell_type": "markdown",
   "metadata": {},
   "source": [
    "## Вывод без BERT\n",
    "\n",
    "В ходе тестирования модель Логистическая регрессия показала значение метрики f1 = 0.7780996523754344, что выше порогового значения, обозначенного заказчиками.\n",
    "\n",
    "Линейная модель обучается в разы быстрее Случайного дерева и имеет лучшие результаты."
   ]
  },
  {
   "cell_type": "markdown",
   "metadata": {},
   "source": [
    "# Проект для «Викишоп» c BERT"
   ]
  },
  {
   "cell_type": "code",
   "execution_count": 32,
   "metadata": {},
   "outputs": [],
   "source": [
    "# Подготовим к использованию данные обработки естественного языка\n",
    "TOKENIZER = AutoTokenizer.from_pretrained(\"distilbert-base-uncased\")"
   ]
  },
  {
   "cell_type": "code",
   "execution_count": 33,
   "metadata": {},
   "outputs": [],
   "source": [
    "# Делаем выборки одинаковой длины\n",
    "DATA_COLLATOR = DataCollatorWithPadding(tokenizer=TOKENIZER)"
   ]
  },
  {
   "cell_type": "code",
   "execution_count": 34,
   "metadata": {},
   "outputs": [],
   "source": [
    "# Добавляем оценщик\n",
    "F1 = evaluate.load(\"f1\")"
   ]
  },
  {
   "cell_type": "code",
   "execution_count": 35,
   "metadata": {},
   "outputs": [],
   "source": [
    "def preprocess(examples):\n",
    "    return TOKENIZER(examples[\"text\"], truncation=True)"
   ]
  },
  {
   "cell_type": "code",
   "execution_count": 36,
   "metadata": {},
   "outputs": [],
   "source": [
    "def compute_metrics(eval_pred):\n",
    "    predictions, labels = eval_pred\n",
    "    predictions = np.argmax(predictions, axis=1)\n",
    "    return F1.compute(predictions=predictions, references=labels)"
   ]
  },
  {
   "cell_type": "code",
   "execution_count": 37,
   "metadata": {},
   "outputs": [
    {
     "data": {
      "text/html": [
       "<div>\n",
       "<style scoped>\n",
       "    .dataframe tbody tr th:only-of-type {\n",
       "        vertical-align: middle;\n",
       "    }\n",
       "\n",
       "    .dataframe tbody tr th {\n",
       "        vertical-align: top;\n",
       "    }\n",
       "\n",
       "    .dataframe thead th {\n",
       "        text-align: right;\n",
       "    }\n",
       "</style>\n",
       "<table border=\"1\" class=\"dataframe\">\n",
       "  <thead>\n",
       "    <tr style=\"text-align: right;\">\n",
       "      <th></th>\n",
       "      <th>text</th>\n",
       "      <th>toxic</th>\n",
       "    </tr>\n",
       "  </thead>\n",
       "  <tbody>\n",
       "    <tr>\n",
       "      <th>0</th>\n",
       "      <td>Explanation Why the edits made under my username Hardcore Metallica Fan were reverted They weren t vandalisms just closure on some GAs after I voted at New York Dolls FAC And please don t remove the template from the talk page since I m retired now</td>\n",
       "      <td>0</td>\n",
       "    </tr>\n",
       "    <tr>\n",
       "      <th>1</th>\n",
       "      <td>D aww He matches this background colour I m seemingly stuck with Thanks talk January UTC</td>\n",
       "      <td>0</td>\n",
       "    </tr>\n",
       "    <tr>\n",
       "      <th>2</th>\n",
       "      <td>Hey man I m really not trying to edit war It s just that this guy is constantly removing relevant information and talking to me through edits instead of my talk page He seems to care more about the formatting than the actual info</td>\n",
       "      <td>0</td>\n",
       "    </tr>\n",
       "    <tr>\n",
       "      <th>3</th>\n",
       "      <td>More I can t make any real suggestions on improvement I wondered if the section statistics should be later on or a subsection of types of accidents I think the references may need tidying so that they are all in the exact same format ie date format etc I can do that later on if no one else does first if you have any preferences for formatting style on references or want to do it yourself please let me know There appears to be a backlog on articles for review so I guess there may be a delay until a reviewer turns up It s listed in the relevant form eg Wikipedia Good article nominations Transport</td>\n",
       "      <td>0</td>\n",
       "    </tr>\n",
       "    <tr>\n",
       "      <th>4</th>\n",
       "      <td>You sir are my hero Any chance you remember what page that s on</td>\n",
       "      <td>0</td>\n",
       "    </tr>\n",
       "  </tbody>\n",
       "</table>\n",
       "</div>"
      ],
      "text/plain": [
       "                                                                                                                                                                                                                                                                                                                                                                                                                                                                                                                                                                                                                        text  \\\n",
       "0                                                                                                                                                                                                                                                                                                                                                                   Explanation Why the edits made under my username Hardcore Metallica Fan were reverted They weren t vandalisms just closure on some GAs after I voted at New York Dolls FAC And please don t remove the template from the talk page since I m retired now   \n",
       "1                                                                                                                                                                                                                                                                                                                                                                                                                                                                                                                                   D aww He matches this background colour I m seemingly stuck with Thanks talk January UTC   \n",
       "2                                                                                                                                                                                                                                                                                                                                                                                      Hey man I m really not trying to edit war It s just that this guy is constantly removing relevant information and talking to me through edits instead of my talk page He seems to care more about the formatting than the actual info   \n",
       "3  More I can t make any real suggestions on improvement I wondered if the section statistics should be later on or a subsection of types of accidents I think the references may need tidying so that they are all in the exact same format ie date format etc I can do that later on if no one else does first if you have any preferences for formatting style on references or want to do it yourself please let me know There appears to be a backlog on articles for review so I guess there may be a delay until a reviewer turns up It s listed in the relevant form eg Wikipedia Good article nominations Transport   \n",
       "4                                                                                                                                                                                                                                                                                                                                                                                                                                                                                                                                                            You sir are my hero Any chance you remember what page that s on   \n",
       "\n",
       "   toxic  \n",
       "0      0  \n",
       "1      0  \n",
       "2      0  \n",
       "3      0  \n",
       "4      0  "
      ]
     },
     "execution_count": 37,
     "metadata": {},
     "output_type": "execute_result"
    }
   ],
   "source": [
    "# Преобразуем наши данные\n",
    "data['text'] = data['text'].apply(clear_text)\n",
    "data.head()"
   ]
  },
  {
   "cell_type": "code",
   "execution_count": 38,
   "metadata": {},
   "outputs": [
    {
     "data": {
      "application/vnd.jupyter.widget-view+json": {
       "model_id": "d06b3fb627c248ca80ab5e5cd8664729",
       "version_major": 2,
       "version_minor": 0
      },
      "text/plain": [
       "Stringifying the column:   0%|          | 0/127433 [00:00<?, ? examples/s]"
      ]
     },
     "metadata": {},
     "output_type": "display_data"
    },
    {
     "data": {
      "application/vnd.jupyter.widget-view+json": {
       "model_id": "05189ec7e44941e19b109250eeee3145",
       "version_major": 2,
       "version_minor": 0
      },
      "text/plain": [
       "Casting to class labels:   0%|          | 0/127433 [00:00<?, ? examples/s]"
      ]
     },
     "metadata": {},
     "output_type": "display_data"
    },
    {
     "data": {
      "application/vnd.jupyter.widget-view+json": {
       "model_id": "0cef8e9f897c47d99941498b1cfcf7a2",
       "version_major": 2,
       "version_minor": 0
      },
      "text/plain": [
       "Stringifying the column:   0%|          | 0/31859 [00:00<?, ? examples/s]"
      ]
     },
     "metadata": {},
     "output_type": "display_data"
    },
    {
     "data": {
      "application/vnd.jupyter.widget-view+json": {
       "model_id": "75a562f362824e8ba0a7f16726b80f68",
       "version_major": 2,
       "version_minor": 0
      },
      "text/plain": [
       "Casting to class labels:   0%|          | 0/31859 [00:00<?, ? examples/s]"
      ]
     },
     "metadata": {},
     "output_type": "display_data"
    }
   ],
   "source": [
    "# Разделим данные\n",
    "train, test = train_test_split(data, test_size=0.2, random_state=SEED, stratify=data['toxic'])\n",
    "train = Dataset.from_pandas(train.rename({'toxic': 'labels'},\n",
    "                                         axis=1)).class_encode_column(\"labels\")\n",
    "test = Dataset.from_pandas(test.rename({'toxic': 'labels'},\n",
    "                                       axis=1)).class_encode_column(\"labels\")"
   ]
  },
  {
   "cell_type": "code",
   "execution_count": 39,
   "metadata": {},
   "outputs": [
    {
     "data": {
      "application/vnd.jupyter.widget-view+json": {
       "model_id": "414ab668123b4b56bfd288a9b677ac8b",
       "version_major": 2,
       "version_minor": 0
      },
      "text/plain": [
       "Map:   0%|          | 0/127433 [00:00<?, ? examples/s]"
      ]
     },
     "metadata": {},
     "output_type": "display_data"
    },
    {
     "data": {
      "application/vnd.jupyter.widget-view+json": {
       "model_id": "73e31ebe498e432fba7bcedd251eca8b",
       "version_major": 2,
       "version_minor": 0
      },
      "text/plain": [
       "Map:   0%|          | 0/31859 [00:00<?, ? examples/s]"
      ]
     },
     "metadata": {},
     "output_type": "display_data"
    },
    {
     "name": "stdout",
     "output_type": "stream",
     "text": [
      "CPU times: user 40 s, sys: 363 ms, total: 40.3 s\n",
      "Wall time: 41 s\n"
     ]
    }
   ],
   "source": [
    "%%time\n",
    "\n",
    "tokenized_train = train.map(preprocess, batched=True)\n",
    "tokenized_test = test.map(preprocess, batched=True)"
   ]
  },
  {
   "cell_type": "code",
   "execution_count": 40,
   "metadata": {},
   "outputs": [],
   "source": [
    "# Создадим метки \n",
    "id2label = {0: \"NON-TOXIC\", 1: \"TOXIC\"}\n",
    "label2id = {\"NON-TOXIC\": 0, \"TOXIC\": 1}"
   ]
  },
  {
   "cell_type": "code",
   "execution_count": 41,
   "metadata": {},
   "outputs": [
    {
     "name": "stderr",
     "output_type": "stream",
     "text": [
      "Some weights of the model checkpoint at distilbert-base-uncased were not used when initializing DistilBertForSequenceClassification: ['vocab_projector.weight', 'vocab_projector.bias', 'vocab_layer_norm.weight', 'vocab_transform.bias', 'vocab_layer_norm.bias', 'vocab_transform.weight']\n",
      "- This IS expected if you are initializing DistilBertForSequenceClassification from the checkpoint of a model trained on another task or with another architecture (e.g. initializing a BertForSequenceClassification model from a BertForPreTraining model).\n",
      "- This IS NOT expected if you are initializing DistilBertForSequenceClassification from the checkpoint of a model that you expect to be exactly identical (initializing a BertForSequenceClassification model from a BertForSequenceClassification model).\n",
      "Some weights of DistilBertForSequenceClassification were not initialized from the model checkpoint at distilbert-base-uncased and are newly initialized: ['pre_classifier.weight', 'classifier.weight', 'pre_classifier.bias', 'classifier.bias']\n",
      "You should probably TRAIN this model on a down-stream task to be able to use it for predictions and inference.\n"
     ]
    },
    {
     "ename": "RuntimeError",
     "evalue": "Found no NVIDIA driver on your system. Please check that you have an NVIDIA GPU and installed a driver from http://www.nvidia.com/Download/index.aspx",
     "output_type": "error",
     "traceback": [
      "\u001b[0;31m---------------------------------------------------------------------------\u001b[0m",
      "\u001b[0;31mRuntimeError\u001b[0m                              Traceback (most recent call last)",
      "\u001b[0;32m/tmp/ipykernel_234/2208260907.py\u001b[0m in \u001b[0;36m<module>\u001b[0;34m\u001b[0m\n\u001b[1;32m      1\u001b[0m \u001b[0;31m# Зададим модель\u001b[0m\u001b[0;34m\u001b[0m\u001b[0;34m\u001b[0m\u001b[0;34m\u001b[0m\u001b[0m\n\u001b[0;32m----> 2\u001b[0;31m model = AutoModelForSequenceClassification.from_pretrained(\n\u001b[0m\u001b[1;32m      3\u001b[0m     \u001b[0;34m\"distilbert-base-uncased\"\u001b[0m\u001b[0;34m,\u001b[0m \u001b[0mnum_labels\u001b[0m\u001b[0;34m=\u001b[0m\u001b[0;36m2\u001b[0m\u001b[0;34m,\u001b[0m \u001b[0mid2label\u001b[0m\u001b[0;34m=\u001b[0m\u001b[0mid2label\u001b[0m\u001b[0;34m,\u001b[0m\u001b[0;34m\u001b[0m\u001b[0;34m\u001b[0m\u001b[0m\n\u001b[1;32m      4\u001b[0m     label2id=label2id).to(\"cuda\")\n",
      "\u001b[0;32m/opt/conda/lib/python3.9/site-packages/torch/nn/modules/module.py\u001b[0m in \u001b[0;36mto\u001b[0;34m(self, *args, **kwargs)\u001b[0m\n\u001b[1;32m    897\u001b[0m             \u001b[0;32mreturn\u001b[0m \u001b[0mt\u001b[0m\u001b[0;34m.\u001b[0m\u001b[0mto\u001b[0m\u001b[0;34m(\u001b[0m\u001b[0mdevice\u001b[0m\u001b[0;34m,\u001b[0m \u001b[0mdtype\u001b[0m \u001b[0;32mif\u001b[0m \u001b[0mt\u001b[0m\u001b[0;34m.\u001b[0m\u001b[0mis_floating_point\u001b[0m\u001b[0;34m(\u001b[0m\u001b[0;34m)\u001b[0m \u001b[0;32mor\u001b[0m \u001b[0mt\u001b[0m\u001b[0;34m.\u001b[0m\u001b[0mis_complex\u001b[0m\u001b[0;34m(\u001b[0m\u001b[0;34m)\u001b[0m \u001b[0;32melse\u001b[0m \u001b[0;32mNone\u001b[0m\u001b[0;34m,\u001b[0m \u001b[0mnon_blocking\u001b[0m\u001b[0;34m)\u001b[0m\u001b[0;34m\u001b[0m\u001b[0;34m\u001b[0m\u001b[0m\n\u001b[1;32m    898\u001b[0m \u001b[0;34m\u001b[0m\u001b[0m\n\u001b[0;32m--> 899\u001b[0;31m         \u001b[0;32mreturn\u001b[0m \u001b[0mself\u001b[0m\u001b[0;34m.\u001b[0m\u001b[0m_apply\u001b[0m\u001b[0;34m(\u001b[0m\u001b[0mconvert\u001b[0m\u001b[0;34m)\u001b[0m\u001b[0;34m\u001b[0m\u001b[0;34m\u001b[0m\u001b[0m\n\u001b[0m\u001b[1;32m    900\u001b[0m \u001b[0;34m\u001b[0m\u001b[0m\n\u001b[1;32m    901\u001b[0m     def register_backward_hook(\n",
      "\u001b[0;32m/opt/conda/lib/python3.9/site-packages/torch/nn/modules/module.py\u001b[0m in \u001b[0;36m_apply\u001b[0;34m(self, fn)\u001b[0m\n\u001b[1;32m    568\u001b[0m     \u001b[0;32mdef\u001b[0m \u001b[0m_apply\u001b[0m\u001b[0;34m(\u001b[0m\u001b[0mself\u001b[0m\u001b[0;34m,\u001b[0m \u001b[0mfn\u001b[0m\u001b[0;34m)\u001b[0m\u001b[0;34m:\u001b[0m\u001b[0;34m\u001b[0m\u001b[0;34m\u001b[0m\u001b[0m\n\u001b[1;32m    569\u001b[0m         \u001b[0;32mfor\u001b[0m \u001b[0mmodule\u001b[0m \u001b[0;32min\u001b[0m \u001b[0mself\u001b[0m\u001b[0;34m.\u001b[0m\u001b[0mchildren\u001b[0m\u001b[0;34m(\u001b[0m\u001b[0;34m)\u001b[0m\u001b[0;34m:\u001b[0m\u001b[0;34m\u001b[0m\u001b[0;34m\u001b[0m\u001b[0m\n\u001b[0;32m--> 570\u001b[0;31m             \u001b[0mmodule\u001b[0m\u001b[0;34m.\u001b[0m\u001b[0m_apply\u001b[0m\u001b[0;34m(\u001b[0m\u001b[0mfn\u001b[0m\u001b[0;34m)\u001b[0m\u001b[0;34m\u001b[0m\u001b[0;34m\u001b[0m\u001b[0m\n\u001b[0m\u001b[1;32m    571\u001b[0m \u001b[0;34m\u001b[0m\u001b[0m\n\u001b[1;32m    572\u001b[0m         \u001b[0;32mdef\u001b[0m \u001b[0mcompute_should_use_set_data\u001b[0m\u001b[0;34m(\u001b[0m\u001b[0mtensor\u001b[0m\u001b[0;34m,\u001b[0m \u001b[0mtensor_applied\u001b[0m\u001b[0;34m)\u001b[0m\u001b[0;34m:\u001b[0m\u001b[0;34m\u001b[0m\u001b[0;34m\u001b[0m\u001b[0m\n",
      "\u001b[0;32m/opt/conda/lib/python3.9/site-packages/torch/nn/modules/module.py\u001b[0m in \u001b[0;36m_apply\u001b[0;34m(self, fn)\u001b[0m\n\u001b[1;32m    568\u001b[0m     \u001b[0;32mdef\u001b[0m \u001b[0m_apply\u001b[0m\u001b[0;34m(\u001b[0m\u001b[0mself\u001b[0m\u001b[0;34m,\u001b[0m \u001b[0mfn\u001b[0m\u001b[0;34m)\u001b[0m\u001b[0;34m:\u001b[0m\u001b[0;34m\u001b[0m\u001b[0;34m\u001b[0m\u001b[0m\n\u001b[1;32m    569\u001b[0m         \u001b[0;32mfor\u001b[0m \u001b[0mmodule\u001b[0m \u001b[0;32min\u001b[0m \u001b[0mself\u001b[0m\u001b[0;34m.\u001b[0m\u001b[0mchildren\u001b[0m\u001b[0;34m(\u001b[0m\u001b[0;34m)\u001b[0m\u001b[0;34m:\u001b[0m\u001b[0;34m\u001b[0m\u001b[0;34m\u001b[0m\u001b[0m\n\u001b[0;32m--> 570\u001b[0;31m             \u001b[0mmodule\u001b[0m\u001b[0;34m.\u001b[0m\u001b[0m_apply\u001b[0m\u001b[0;34m(\u001b[0m\u001b[0mfn\u001b[0m\u001b[0;34m)\u001b[0m\u001b[0;34m\u001b[0m\u001b[0;34m\u001b[0m\u001b[0m\n\u001b[0m\u001b[1;32m    571\u001b[0m \u001b[0;34m\u001b[0m\u001b[0m\n\u001b[1;32m    572\u001b[0m         \u001b[0;32mdef\u001b[0m \u001b[0mcompute_should_use_set_data\u001b[0m\u001b[0;34m(\u001b[0m\u001b[0mtensor\u001b[0m\u001b[0;34m,\u001b[0m \u001b[0mtensor_applied\u001b[0m\u001b[0;34m)\u001b[0m\u001b[0;34m:\u001b[0m\u001b[0;34m\u001b[0m\u001b[0;34m\u001b[0m\u001b[0m\n",
      "\u001b[0;32m/opt/conda/lib/python3.9/site-packages/torch/nn/modules/module.py\u001b[0m in \u001b[0;36m_apply\u001b[0;34m(self, fn)\u001b[0m\n\u001b[1;32m    568\u001b[0m     \u001b[0;32mdef\u001b[0m \u001b[0m_apply\u001b[0m\u001b[0;34m(\u001b[0m\u001b[0mself\u001b[0m\u001b[0;34m,\u001b[0m \u001b[0mfn\u001b[0m\u001b[0;34m)\u001b[0m\u001b[0;34m:\u001b[0m\u001b[0;34m\u001b[0m\u001b[0;34m\u001b[0m\u001b[0m\n\u001b[1;32m    569\u001b[0m         \u001b[0;32mfor\u001b[0m \u001b[0mmodule\u001b[0m \u001b[0;32min\u001b[0m \u001b[0mself\u001b[0m\u001b[0;34m.\u001b[0m\u001b[0mchildren\u001b[0m\u001b[0;34m(\u001b[0m\u001b[0;34m)\u001b[0m\u001b[0;34m:\u001b[0m\u001b[0;34m\u001b[0m\u001b[0;34m\u001b[0m\u001b[0m\n\u001b[0;32m--> 570\u001b[0;31m             \u001b[0mmodule\u001b[0m\u001b[0;34m.\u001b[0m\u001b[0m_apply\u001b[0m\u001b[0;34m(\u001b[0m\u001b[0mfn\u001b[0m\u001b[0;34m)\u001b[0m\u001b[0;34m\u001b[0m\u001b[0;34m\u001b[0m\u001b[0m\n\u001b[0m\u001b[1;32m    571\u001b[0m \u001b[0;34m\u001b[0m\u001b[0m\n\u001b[1;32m    572\u001b[0m         \u001b[0;32mdef\u001b[0m \u001b[0mcompute_should_use_set_data\u001b[0m\u001b[0;34m(\u001b[0m\u001b[0mtensor\u001b[0m\u001b[0;34m,\u001b[0m \u001b[0mtensor_applied\u001b[0m\u001b[0;34m)\u001b[0m\u001b[0;34m:\u001b[0m\u001b[0;34m\u001b[0m\u001b[0;34m\u001b[0m\u001b[0m\n",
      "\u001b[0;32m/opt/conda/lib/python3.9/site-packages/torch/nn/modules/module.py\u001b[0m in \u001b[0;36m_apply\u001b[0;34m(self, fn)\u001b[0m\n\u001b[1;32m    591\u001b[0m             \u001b[0;31m# `with torch.no_grad():`\u001b[0m\u001b[0;34m\u001b[0m\u001b[0;34m\u001b[0m\u001b[0;34m\u001b[0m\u001b[0m\n\u001b[1;32m    592\u001b[0m             \u001b[0;32mwith\u001b[0m \u001b[0mtorch\u001b[0m\u001b[0;34m.\u001b[0m\u001b[0mno_grad\u001b[0m\u001b[0;34m(\u001b[0m\u001b[0;34m)\u001b[0m\u001b[0;34m:\u001b[0m\u001b[0;34m\u001b[0m\u001b[0;34m\u001b[0m\u001b[0m\n\u001b[0;32m--> 593\u001b[0;31m                 \u001b[0mparam_applied\u001b[0m \u001b[0;34m=\u001b[0m \u001b[0mfn\u001b[0m\u001b[0;34m(\u001b[0m\u001b[0mparam\u001b[0m\u001b[0;34m)\u001b[0m\u001b[0;34m\u001b[0m\u001b[0;34m\u001b[0m\u001b[0m\n\u001b[0m\u001b[1;32m    594\u001b[0m             \u001b[0mshould_use_set_data\u001b[0m \u001b[0;34m=\u001b[0m \u001b[0mcompute_should_use_set_data\u001b[0m\u001b[0;34m(\u001b[0m\u001b[0mparam\u001b[0m\u001b[0;34m,\u001b[0m \u001b[0mparam_applied\u001b[0m\u001b[0;34m)\u001b[0m\u001b[0;34m\u001b[0m\u001b[0;34m\u001b[0m\u001b[0m\n\u001b[1;32m    595\u001b[0m             \u001b[0;32mif\u001b[0m \u001b[0mshould_use_set_data\u001b[0m\u001b[0;34m:\u001b[0m\u001b[0;34m\u001b[0m\u001b[0;34m\u001b[0m\u001b[0m\n",
      "\u001b[0;32m/opt/conda/lib/python3.9/site-packages/torch/nn/modules/module.py\u001b[0m in \u001b[0;36mconvert\u001b[0;34m(t)\u001b[0m\n\u001b[1;32m    895\u001b[0m                 return t.to(device, dtype if t.is_floating_point() or t.is_complex() else None,\n\u001b[1;32m    896\u001b[0m                             non_blocking, memory_format=convert_to_format)\n\u001b[0;32m--> 897\u001b[0;31m             \u001b[0;32mreturn\u001b[0m \u001b[0mt\u001b[0m\u001b[0;34m.\u001b[0m\u001b[0mto\u001b[0m\u001b[0;34m(\u001b[0m\u001b[0mdevice\u001b[0m\u001b[0;34m,\u001b[0m \u001b[0mdtype\u001b[0m \u001b[0;32mif\u001b[0m \u001b[0mt\u001b[0m\u001b[0;34m.\u001b[0m\u001b[0mis_floating_point\u001b[0m\u001b[0;34m(\u001b[0m\u001b[0;34m)\u001b[0m \u001b[0;32mor\u001b[0m \u001b[0mt\u001b[0m\u001b[0;34m.\u001b[0m\u001b[0mis_complex\u001b[0m\u001b[0;34m(\u001b[0m\u001b[0;34m)\u001b[0m \u001b[0;32melse\u001b[0m \u001b[0;32mNone\u001b[0m\u001b[0;34m,\u001b[0m \u001b[0mnon_blocking\u001b[0m\u001b[0;34m)\u001b[0m\u001b[0;34m\u001b[0m\u001b[0;34m\u001b[0m\u001b[0m\n\u001b[0m\u001b[1;32m    898\u001b[0m \u001b[0;34m\u001b[0m\u001b[0m\n\u001b[1;32m    899\u001b[0m         \u001b[0;32mreturn\u001b[0m \u001b[0mself\u001b[0m\u001b[0;34m.\u001b[0m\u001b[0m_apply\u001b[0m\u001b[0;34m(\u001b[0m\u001b[0mconvert\u001b[0m\u001b[0;34m)\u001b[0m\u001b[0;34m\u001b[0m\u001b[0;34m\u001b[0m\u001b[0m\n",
      "\u001b[0;32m/opt/conda/lib/python3.9/site-packages/torch/cuda/__init__.py\u001b[0m in \u001b[0;36m_lazy_init\u001b[0;34m()\u001b[0m\n\u001b[1;32m    212\u001b[0m         \u001b[0;31m# This function throws if there's a driver initialization error, no GPUs\u001b[0m\u001b[0;34m\u001b[0m\u001b[0;34m\u001b[0m\u001b[0;34m\u001b[0m\u001b[0m\n\u001b[1;32m    213\u001b[0m         \u001b[0;31m# are found or any other error occurs\u001b[0m\u001b[0;34m\u001b[0m\u001b[0;34m\u001b[0m\u001b[0;34m\u001b[0m\u001b[0m\n\u001b[0;32m--> 214\u001b[0;31m         \u001b[0mtorch\u001b[0m\u001b[0;34m.\u001b[0m\u001b[0m_C\u001b[0m\u001b[0;34m.\u001b[0m\u001b[0m_cuda_init\u001b[0m\u001b[0;34m(\u001b[0m\u001b[0;34m)\u001b[0m\u001b[0;34m\u001b[0m\u001b[0;34m\u001b[0m\u001b[0m\n\u001b[0m\u001b[1;32m    215\u001b[0m         \u001b[0;31m# Some of the queued calls may reentrantly call _lazy_init();\u001b[0m\u001b[0;34m\u001b[0m\u001b[0;34m\u001b[0m\u001b[0;34m\u001b[0m\u001b[0m\n\u001b[1;32m    216\u001b[0m         \u001b[0;31m# we need to just return without initializing in that case.\u001b[0m\u001b[0;34m\u001b[0m\u001b[0;34m\u001b[0m\u001b[0;34m\u001b[0m\u001b[0m\n",
      "\u001b[0;31mRuntimeError\u001b[0m: Found no NVIDIA driver on your system. Please check that you have an NVIDIA GPU and installed a driver from http://www.nvidia.com/Download/index.aspx"
     ]
    }
   ],
   "source": [
    "# Зададим модель\n",
    "model = AutoModelForSequenceClassification.from_pretrained(\n",
    "    \"distilbert-base-uncased\", num_labels=2, id2label=id2label,\n",
    "    label2id=label2id).to(\"cuda\")"
   ]
  },
  {
   "cell_type": "code",
   "execution_count": null,
   "metadata": {},
   "outputs": [],
   "source": [
    "# Введем параметры для обучения модели\n",
    "training_args = TrainingArguments(output_dir=\"my_model\",\n",
    "                                  learning_rate=3e-5,\n",
    "                                  per_device_train_batch_size=10,\n",
    "                                  per_device_eval_batch_size=10,\n",
    "                                  num_train_epochs=5,\n",
    "                                  evaluation_strategy=\"no\",\n",
    "                                  save_strategy=\"no\")"
   ]
  },
  {
   "cell_type": "code",
   "execution_count": null,
   "metadata": {},
   "outputs": [],
   "source": [
    "# Обучим модель\n",
    "trainer = Trainer(\n",
    "    model=model,\n",
    "    args=training_args,\n",
    "    train_dataset=tokenized_train, \n",
    "    tokenizer=TOKENIZER,\n",
    "    data_collator=DATA_COLLATOR,\n",
    ")\n",
    "\n",
    "trainer.train()"
   ]
  },
  {
   "cell_type": "code",
   "execution_count": null,
   "metadata": {},
   "outputs": [],
   "source": [
    "# Посмотрим какие будут предсказания\n",
    "predictions = trainer.predict(tokenized_test)\n",
    "predicted_labels = (predictions.predictions[:, 1] > 0).astype(int)"
   ]
  },
  {
   "cell_type": "code",
   "execution_count": null,
   "metadata": {},
   "outputs": [],
   "source": [
    "# Выведем полученные данные\n",
    "# Отобразим текстовый отчет по основным показателям классификации\n",
    "print(classification_report(tokenized_test['labels'], predicted_labels))\n",
    "# Оценим точность классификации\n",
    "sns.heatmap(confusion_matrix(tokenized_test['labels'], predicted_labels, normalize='true'),\n",
    "            annot=True, fmt='0.2%')\n",
    "plt.show()"
   ]
  },
  {
   "cell_type": "markdown",
   "metadata": {},
   "source": [
    "## Вывод с BERT\n",
    "\n",
    "Таким образом разработан инструмент проверки комментариев на токсичность с BERT. Проект с BERT выполнялся локально из-за ограниченных ресурсов платформы.\n",
    "На отложенной тестовой выборке модель показала значение метрики F1 = 0.83, что выше порога 0.75."
   ]
  },
  {
   "cell_type": "markdown",
   "metadata": {},
   "source": [
    "## Итоговый вывод\n",
    "\n",
    "\n",
    "В результате выполнения проекта решена задача и достигнута цель -  найдена модель, которая удовлетворяет требованиям заказчика: \n",
    "\n",
    "**Для проекта без BERT это:**\n",
    "\n",
    "Логистическая регрессия с параметрами: {'C': 7.7, class_weight='balanced'}\n",
    "f1 = 0.7780996523754344\n",
    "\n",
    "**Для проекта с BERT:**\n",
    "F1 = 0.83\n",
    "\n",
    "Итого, BERT в нашем случае показал большее качество. Однако для проекта с BERT нужны вычислительные мощности и считается всё очень долго. Поэтому выбирать заказчику - если нужен быстрый результат, то выбираем проект без BERT, иначе с BERT.\n",
    "\n",
    "В ходе проекта было выполнено и выявлено:\n",
    "- В таблице 159 292 объектов.\n",
    "- Дубликатов и пропусков нет.\n",
    "- В таблице 2 столбца: toxic, text.\n",
    "- Почти 90% твитов не токсичны. То есть в предоставленных данных имеется дисбаланс классов.\n",
    "- Язык комментариев - английский.\n",
    "- В строках содержатся различные спецсимволы, которые необходимо обработать.\n",
    "- Выбран способ баланса классов, сформированы выборки.\n",
    "- Обучены модели и выбрана лучшая из них.\n",
    "- Выведены параметры качества модели.\n",
    "- Предложено 2 варианта проекта - с BERT и без него"
   ]
  },
  {
   "cell_type": "markdown",
   "metadata": {},
   "source": [
    "Значение метрики F1 достигло необходимого значения только у модели LogisticRegression. Модель Random Forest Classifier не справилась с поставленной задачей.\n",
    "Из-за большого количества наблюдений и их сложной структуры мощности обычного компьютера периодически не хватает для полноценного анализа, из-за этого время обучения и работы возрастает, и не все модели можно детально рассмотреть."
   ]
  }
 ],
 "metadata": {
  "ExecuteTimeLog": [
   {
    "duration": 10840,
    "start_time": "2024-03-12T14:59:52.965Z"
   },
   {
    "duration": 0,
    "start_time": "2024-03-12T15:00:03.807Z"
   },
   {
    "duration": 0,
    "start_time": "2024-03-12T15:00:03.809Z"
   },
   {
    "duration": 0,
    "start_time": "2024-03-12T15:00:03.814Z"
   },
   {
    "duration": 1,
    "start_time": "2024-03-12T15:00:03.815Z"
   },
   {
    "duration": 0,
    "start_time": "2024-03-12T15:00:03.817Z"
   },
   {
    "duration": 0,
    "start_time": "2024-03-12T15:00:03.818Z"
   },
   {
    "duration": 0,
    "start_time": "2024-03-12T15:00:03.819Z"
   },
   {
    "duration": 2770,
    "start_time": "2024-03-12T19:56:58.253Z"
   },
   {
    "duration": 172,
    "start_time": "2024-03-12T19:57:01.026Z"
   },
   {
    "duration": 0,
    "start_time": "2024-03-12T19:57:01.200Z"
   },
   {
    "duration": 0,
    "start_time": "2024-03-12T19:57:01.202Z"
   },
   {
    "duration": 0,
    "start_time": "2024-03-12T19:57:01.203Z"
   },
   {
    "duration": 0,
    "start_time": "2024-03-12T19:57:01.204Z"
   },
   {
    "duration": 0,
    "start_time": "2024-03-12T19:57:01.214Z"
   },
   {
    "duration": 0,
    "start_time": "2024-03-12T19:57:01.216Z"
   },
   {
    "duration": 2937,
    "start_time": "2024-03-12T20:04:58.095Z"
   },
   {
    "duration": 0,
    "start_time": "2024-03-12T20:05:01.034Z"
   },
   {
    "duration": 0,
    "start_time": "2024-03-12T20:05:01.035Z"
   },
   {
    "duration": 0,
    "start_time": "2024-03-12T20:05:01.036Z"
   },
   {
    "duration": 0,
    "start_time": "2024-03-12T20:05:01.037Z"
   },
   {
    "duration": 0,
    "start_time": "2024-03-12T20:05:01.038Z"
   },
   {
    "duration": 0,
    "start_time": "2024-03-12T20:05:01.039Z"
   },
   {
    "duration": 0,
    "start_time": "2024-03-12T20:05:01.040Z"
   },
   {
    "duration": 2618,
    "start_time": "2024-03-12T20:18:02.145Z"
   },
   {
    "duration": 170,
    "start_time": "2024-03-12T20:18:04.765Z"
   },
   {
    "duration": 0,
    "start_time": "2024-03-12T20:18:04.937Z"
   },
   {
    "duration": 0,
    "start_time": "2024-03-12T20:18:04.938Z"
   },
   {
    "duration": 0,
    "start_time": "2024-03-12T20:18:04.939Z"
   },
   {
    "duration": 0,
    "start_time": "2024-03-12T20:18:04.940Z"
   },
   {
    "duration": 0,
    "start_time": "2024-03-12T20:18:04.941Z"
   },
   {
    "duration": 0,
    "start_time": "2024-03-12T20:18:04.942Z"
   },
   {
    "duration": 2643,
    "start_time": "2024-03-12T20:19:18.005Z"
   },
   {
    "duration": 3,
    "start_time": "2024-03-12T20:19:20.650Z"
   },
   {
    "duration": 2399,
    "start_time": "2024-03-12T20:19:20.655Z"
   },
   {
    "duration": 3,
    "start_time": "2024-03-12T20:19:23.056Z"
   },
   {
    "duration": 8,
    "start_time": "2024-03-12T20:19:23.061Z"
   },
   {
    "duration": 493,
    "start_time": "2024-03-12T20:19:23.070Z"
   },
   {
    "duration": 125,
    "start_time": "2024-03-12T20:19:23.564Z"
   },
   {
    "duration": 2186,
    "start_time": "2024-03-12T20:19:23.691Z"
   },
   {
    "duration": 4,
    "start_time": "2024-03-12T20:25:31.866Z"
   },
   {
    "duration": 5084,
    "start_time": "2024-03-13T10:15:04.936Z"
   },
   {
    "duration": 0,
    "start_time": "2024-03-13T10:15:10.023Z"
   },
   {
    "duration": 0,
    "start_time": "2024-03-13T10:15:10.026Z"
   },
   {
    "duration": 0,
    "start_time": "2024-03-13T10:15:10.028Z"
   },
   {
    "duration": 0,
    "start_time": "2024-03-13T10:15:10.030Z"
   },
   {
    "duration": 0,
    "start_time": "2024-03-13T10:15:10.031Z"
   },
   {
    "duration": 0,
    "start_time": "2024-03-13T10:15:10.033Z"
   },
   {
    "duration": 0,
    "start_time": "2024-03-13T10:15:10.034Z"
   },
   {
    "duration": 0,
    "start_time": "2024-03-13T10:15:10.036Z"
   },
   {
    "duration": 0,
    "start_time": "2024-03-13T10:15:10.037Z"
   },
   {
    "duration": 0,
    "start_time": "2024-03-13T10:15:10.039Z"
   },
   {
    "duration": 0,
    "start_time": "2024-03-13T10:15:10.040Z"
   },
   {
    "duration": 0,
    "start_time": "2024-03-13T10:15:10.040Z"
   },
   {
    "duration": 0,
    "start_time": "2024-03-13T10:15:10.041Z"
   },
   {
    "duration": 0,
    "start_time": "2024-03-13T10:15:10.043Z"
   },
   {
    "duration": 0,
    "start_time": "2024-03-13T10:15:10.044Z"
   },
   {
    "duration": 0,
    "start_time": "2024-03-13T10:15:10.045Z"
   },
   {
    "duration": 0,
    "start_time": "2024-03-13T10:15:10.046Z"
   },
   {
    "duration": 4534,
    "start_time": "2024-03-13T10:15:58.942Z"
   },
   {
    "duration": 6,
    "start_time": "2024-03-13T10:16:03.479Z"
   },
   {
    "duration": 15,
    "start_time": "2024-03-13T10:16:03.487Z"
   },
   {
    "duration": 2390,
    "start_time": "2024-03-13T10:16:03.504Z"
   },
   {
    "duration": 3,
    "start_time": "2024-03-13T10:16:05.896Z"
   },
   {
    "duration": 7,
    "start_time": "2024-03-13T10:16:05.900Z"
   },
   {
    "duration": 494,
    "start_time": "2024-03-13T10:16:05.908Z"
   },
   {
    "duration": 123,
    "start_time": "2024-03-13T10:16:06.403Z"
   },
   {
    "duration": 2125,
    "start_time": "2024-03-13T10:16:06.528Z"
   },
   {
    "duration": 539,
    "start_time": "2024-03-13T10:16:08.654Z"
   },
   {
    "duration": 5,
    "start_time": "2024-03-13T10:16:09.196Z"
   },
   {
    "duration": 47,
    "start_time": "2024-03-13T10:16:09.203Z"
   },
   {
    "duration": 26,
    "start_time": "2024-03-13T10:16:09.252Z"
   },
   {
    "duration": 47,
    "start_time": "2024-03-13T10:16:09.281Z"
   },
   {
    "duration": 1573,
    "start_time": "2024-03-13T10:16:09.330Z"
   },
   {
    "duration": 0,
    "start_time": "2024-03-13T10:16:10.905Z"
   },
   {
    "duration": 0,
    "start_time": "2024-03-13T10:16:10.906Z"
   },
   {
    "duration": 0,
    "start_time": "2024-03-13T10:16:10.907Z"
   },
   {
    "duration": 4916,
    "start_time": "2024-03-13T10:18:46.411Z"
   },
   {
    "duration": 4,
    "start_time": "2024-03-13T10:18:51.329Z"
   },
   {
    "duration": 7,
    "start_time": "2024-03-13T10:18:51.335Z"
   },
   {
    "duration": 1068,
    "start_time": "2024-03-13T10:18:51.343Z"
   },
   {
    "duration": 3,
    "start_time": "2024-03-13T10:18:52.413Z"
   },
   {
    "duration": 23,
    "start_time": "2024-03-13T10:18:52.417Z"
   },
   {
    "duration": 485,
    "start_time": "2024-03-13T10:18:52.441Z"
   },
   {
    "duration": 115,
    "start_time": "2024-03-13T10:18:52.928Z"
   },
   {
    "duration": 2218,
    "start_time": "2024-03-13T10:18:53.045Z"
   },
   {
    "duration": 513,
    "start_time": "2024-03-13T10:18:55.265Z"
   },
   {
    "duration": 3,
    "start_time": "2024-03-13T10:18:55.780Z"
   },
   {
    "duration": 49,
    "start_time": "2024-03-13T10:18:55.785Z"
   },
   {
    "duration": 73,
    "start_time": "2024-03-13T10:18:55.836Z"
   },
   {
    "duration": 42,
    "start_time": "2024-03-13T10:18:55.911Z"
   },
   {
    "duration": 309,
    "start_time": "2024-03-13T10:18:55.955Z"
   },
   {
    "duration": 0,
    "start_time": "2024-03-13T10:18:56.266Z"
   },
   {
    "duration": 0,
    "start_time": "2024-03-13T10:18:56.267Z"
   },
   {
    "duration": 0,
    "start_time": "2024-03-13T10:18:56.268Z"
   },
   {
    "duration": 4853,
    "start_time": "2024-03-13T10:21:43.823Z"
   },
   {
    "duration": 8,
    "start_time": "2024-03-13T10:21:48.678Z"
   },
   {
    "duration": 12,
    "start_time": "2024-03-13T10:21:48.688Z"
   },
   {
    "duration": 997,
    "start_time": "2024-03-13T10:21:48.702Z"
   },
   {
    "duration": 3,
    "start_time": "2024-03-13T10:21:49.700Z"
   },
   {
    "duration": 15,
    "start_time": "2024-03-13T10:21:49.704Z"
   },
   {
    "duration": 481,
    "start_time": "2024-03-13T10:21:49.720Z"
   },
   {
    "duration": 114,
    "start_time": "2024-03-13T10:21:50.203Z"
   },
   {
    "duration": 2217,
    "start_time": "2024-03-13T10:21:50.319Z"
   },
   {
    "duration": 555,
    "start_time": "2024-03-13T10:21:52.538Z"
   },
   {
    "duration": 4,
    "start_time": "2024-03-13T10:21:53.094Z"
   },
   {
    "duration": 47,
    "start_time": "2024-03-13T10:21:53.099Z"
   },
   {
    "duration": 29,
    "start_time": "2024-03-13T10:21:53.148Z"
   },
   {
    "duration": 49,
    "start_time": "2024-03-13T10:21:53.178Z"
   },
   {
    "duration": 363,
    "start_time": "2024-03-13T10:21:53.228Z"
   },
   {
    "duration": 0,
    "start_time": "2024-03-13T10:21:53.592Z"
   },
   {
    "duration": 0,
    "start_time": "2024-03-13T10:21:53.593Z"
   },
   {
    "duration": 0,
    "start_time": "2024-03-13T10:21:53.594Z"
   },
   {
    "duration": 4674,
    "start_time": "2024-03-13T10:22:45.874Z"
   },
   {
    "duration": 8,
    "start_time": "2024-03-13T10:22:50.551Z"
   },
   {
    "duration": 50,
    "start_time": "2024-03-13T10:22:50.561Z"
   },
   {
    "duration": 937,
    "start_time": "2024-03-13T10:22:50.613Z"
   },
   {
    "duration": 3,
    "start_time": "2024-03-13T10:22:51.552Z"
   },
   {
    "duration": 14,
    "start_time": "2024-03-13T10:22:51.557Z"
   },
   {
    "duration": 505,
    "start_time": "2024-03-13T10:22:51.573Z"
   },
   {
    "duration": 118,
    "start_time": "2024-03-13T10:22:52.080Z"
   },
   {
    "duration": 2144,
    "start_time": "2024-03-13T10:22:52.200Z"
   },
   {
    "duration": 526,
    "start_time": "2024-03-13T10:22:54.346Z"
   },
   {
    "duration": 4,
    "start_time": "2024-03-13T10:22:54.875Z"
   },
   {
    "duration": 43,
    "start_time": "2024-03-13T10:22:54.881Z"
   },
   {
    "duration": 29,
    "start_time": "2024-03-13T10:22:54.925Z"
   },
   {
    "duration": 39,
    "start_time": "2024-03-13T10:22:54.957Z"
   },
   {
    "duration": 174,
    "start_time": "2024-03-13T10:22:54.997Z"
   },
   {
    "duration": 67,
    "start_time": "2024-03-13T10:22:55.173Z"
   },
   {
    "duration": 329,
    "start_time": "2024-03-13T10:22:55.242Z"
   },
   {
    "duration": 0,
    "start_time": "2024-03-13T10:22:55.573Z"
   },
   {
    "duration": 4875,
    "start_time": "2024-03-13T10:23:35.110Z"
   },
   {
    "duration": 8,
    "start_time": "2024-03-13T10:23:39.987Z"
   },
   {
    "duration": 36,
    "start_time": "2024-03-13T10:23:39.997Z"
   },
   {
    "duration": 971,
    "start_time": "2024-03-13T10:23:40.034Z"
   },
   {
    "duration": 2,
    "start_time": "2024-03-13T10:23:41.007Z"
   },
   {
    "duration": 31,
    "start_time": "2024-03-13T10:23:41.011Z"
   },
   {
    "duration": 533,
    "start_time": "2024-03-13T10:23:41.044Z"
   },
   {
    "duration": 114,
    "start_time": "2024-03-13T10:23:41.579Z"
   },
   {
    "duration": 2160,
    "start_time": "2024-03-13T10:23:41.695Z"
   },
   {
    "duration": 501,
    "start_time": "2024-03-13T10:23:43.856Z"
   },
   {
    "duration": 4,
    "start_time": "2024-03-13T10:23:44.359Z"
   },
   {
    "duration": 69,
    "start_time": "2024-03-13T10:23:44.364Z"
   },
   {
    "duration": 28,
    "start_time": "2024-03-13T10:23:44.435Z"
   },
   {
    "duration": 48,
    "start_time": "2024-03-13T10:23:44.466Z"
   },
   {
    "duration": 135,
    "start_time": "2024-03-13T10:23:44.516Z"
   },
   {
    "duration": 61,
    "start_time": "2024-03-13T10:23:44.653Z"
   },
   {
    "duration": 2,
    "start_time": "2024-03-13T10:23:44.716Z"
   },
   {
    "duration": 7911,
    "start_time": "2024-03-13T10:23:44.720Z"
   },
   {
    "duration": 4840,
    "start_time": "2024-03-13T10:32:36.804Z"
   },
   {
    "duration": 8,
    "start_time": "2024-03-13T10:32:41.646Z"
   },
   {
    "duration": 53,
    "start_time": "2024-03-13T10:32:41.655Z"
   },
   {
    "duration": 989,
    "start_time": "2024-03-13T10:32:41.710Z"
   },
   {
    "duration": 3,
    "start_time": "2024-03-13T10:32:42.701Z"
   },
   {
    "duration": 21,
    "start_time": "2024-03-13T10:32:42.705Z"
   },
   {
    "duration": 690,
    "start_time": "2024-03-13T10:32:42.728Z"
   },
   {
    "duration": 134,
    "start_time": "2024-03-13T10:32:43.423Z"
   },
   {
    "duration": 2280,
    "start_time": "2024-03-13T10:32:43.559Z"
   },
   {
    "duration": 533,
    "start_time": "2024-03-13T10:32:45.842Z"
   },
   {
    "duration": 4,
    "start_time": "2024-03-13T10:32:46.377Z"
   },
   {
    "duration": 66,
    "start_time": "2024-03-13T10:32:46.383Z"
   },
   {
    "duration": 47,
    "start_time": "2024-03-13T10:32:46.451Z"
   },
   {
    "duration": 73,
    "start_time": "2024-03-13T10:32:46.500Z"
   },
   {
    "duration": 165,
    "start_time": "2024-03-13T10:32:46.575Z"
   },
   {
    "duration": 60,
    "start_time": "2024-03-13T10:32:46.742Z"
   },
   {
    "duration": 3,
    "start_time": "2024-03-13T10:32:46.803Z"
   },
   {
    "duration": 7859,
    "start_time": "2024-03-13T10:32:46.807Z"
   },
   {
    "duration": 3,
    "start_time": "2024-03-13T10:32:54.668Z"
   },
   {
    "duration": 384,
    "start_time": "2024-03-13T10:32:54.673Z"
   },
   {
    "duration": 0,
    "start_time": "2024-03-13T10:32:55.058Z"
   },
   {
    "duration": 0,
    "start_time": "2024-03-13T10:32:55.060Z"
   },
   {
    "duration": 0,
    "start_time": "2024-03-13T10:32:55.061Z"
   },
   {
    "duration": 0,
    "start_time": "2024-03-13T10:32:55.062Z"
   },
   {
    "duration": 0,
    "start_time": "2024-03-13T10:32:55.063Z"
   },
   {
    "duration": 0,
    "start_time": "2024-03-13T10:32:55.064Z"
   },
   {
    "duration": 0,
    "start_time": "2024-03-13T10:32:55.066Z"
   },
   {
    "duration": 0,
    "start_time": "2024-03-13T10:32:55.067Z"
   },
   {
    "duration": 4773,
    "start_time": "2024-03-13T10:34:12.217Z"
   },
   {
    "duration": 9,
    "start_time": "2024-03-13T10:34:16.993Z"
   },
   {
    "duration": 5,
    "start_time": "2024-03-13T10:34:17.003Z"
   },
   {
    "duration": 947,
    "start_time": "2024-03-13T10:34:17.010Z"
   },
   {
    "duration": 2,
    "start_time": "2024-03-13T10:34:17.959Z"
   },
   {
    "duration": 29,
    "start_time": "2024-03-13T10:34:17.963Z"
   },
   {
    "duration": 535,
    "start_time": "2024-03-13T10:34:17.993Z"
   },
   {
    "duration": 118,
    "start_time": "2024-03-13T10:34:18.530Z"
   },
   {
    "duration": 2220,
    "start_time": "2024-03-13T10:34:18.650Z"
   },
   {
    "duration": 547,
    "start_time": "2024-03-13T10:34:20.872Z"
   },
   {
    "duration": 4,
    "start_time": "2024-03-13T10:34:21.423Z"
   },
   {
    "duration": 43,
    "start_time": "2024-03-13T10:34:21.428Z"
   },
   {
    "duration": 31,
    "start_time": "2024-03-13T10:34:21.473Z"
   },
   {
    "duration": 51,
    "start_time": "2024-03-13T10:34:21.507Z"
   },
   {
    "duration": 153,
    "start_time": "2024-03-13T10:34:21.561Z"
   },
   {
    "duration": 61,
    "start_time": "2024-03-13T10:34:21.716Z"
   },
   {
    "duration": 3,
    "start_time": "2024-03-13T10:34:21.779Z"
   },
   {
    "duration": 8134,
    "start_time": "2024-03-13T10:34:21.783Z"
   },
   {
    "duration": 3,
    "start_time": "2024-03-13T10:34:29.918Z"
   },
   {
    "duration": 7,
    "start_time": "2024-03-13T10:34:29.922Z"
   },
   {
    "duration": 4762,
    "start_time": "2024-03-13T10:43:35.239Z"
   },
   {
    "duration": 8,
    "start_time": "2024-03-13T10:43:40.002Z"
   },
   {
    "duration": 36,
    "start_time": "2024-03-13T10:43:40.012Z"
   },
   {
    "duration": 1007,
    "start_time": "2024-03-13T10:43:40.050Z"
   },
   {
    "duration": 3,
    "start_time": "2024-03-13T10:43:41.059Z"
   },
   {
    "duration": 31,
    "start_time": "2024-03-13T10:43:41.063Z"
   },
   {
    "duration": 524,
    "start_time": "2024-03-13T10:43:41.095Z"
   },
   {
    "duration": 123,
    "start_time": "2024-03-13T10:43:41.623Z"
   },
   {
    "duration": 2284,
    "start_time": "2024-03-13T10:43:41.748Z"
   },
   {
    "duration": 527,
    "start_time": "2024-03-13T10:43:44.033Z"
   },
   {
    "duration": 4,
    "start_time": "2024-03-13T10:43:44.562Z"
   },
   {
    "duration": 29,
    "start_time": "2024-03-13T10:43:44.567Z"
   },
   {
    "duration": 10,
    "start_time": "2024-03-13T10:43:44.598Z"
   },
   {
    "duration": 40,
    "start_time": "2024-03-13T10:43:44.610Z"
   },
   {
    "duration": 211,
    "start_time": "2024-03-13T10:43:44.652Z"
   },
   {
    "duration": 65,
    "start_time": "2024-03-13T10:43:44.864Z"
   },
   {
    "duration": 3,
    "start_time": "2024-03-13T10:43:44.931Z"
   },
   {
    "duration": 7766,
    "start_time": "2024-03-13T10:43:44.935Z"
   },
   {
    "duration": 3,
    "start_time": "2024-03-13T10:43:52.703Z"
   },
   {
    "duration": 5,
    "start_time": "2024-03-13T10:43:52.707Z"
   },
   {
    "duration": 1550915,
    "start_time": "2024-03-13T10:43:52.714Z"
   },
   {
    "duration": 91,
    "start_time": "2024-03-13T11:09:43.634Z"
   },
   {
    "duration": 5,
    "start_time": "2024-03-13T11:09:43.727Z"
   },
   {
    "duration": 6,
    "start_time": "2024-03-13T11:09:43.734Z"
   },
   {
    "duration": 363,
    "start_time": "2024-03-13T11:09:43.741Z"
   },
   {
    "duration": 0,
    "start_time": "2024-03-13T11:09:44.106Z"
   },
   {
    "duration": 0,
    "start_time": "2024-03-13T11:09:44.107Z"
   },
   {
    "duration": 0,
    "start_time": "2024-03-13T11:09:44.108Z"
   },
   {
    "duration": 4935,
    "start_time": "2024-03-13T12:07:50.529Z"
   },
   {
    "duration": 11,
    "start_time": "2024-03-13T12:07:55.466Z"
   },
   {
    "duration": 5,
    "start_time": "2024-03-13T12:07:55.479Z"
   },
   {
    "duration": 1000,
    "start_time": "2024-03-13T12:07:55.486Z"
   },
   {
    "duration": 2,
    "start_time": "2024-03-13T12:07:56.489Z"
   },
   {
    "duration": 12,
    "start_time": "2024-03-13T12:07:56.493Z"
   },
   {
    "duration": 537,
    "start_time": "2024-03-13T12:07:56.506Z"
   },
   {
    "duration": 129,
    "start_time": "2024-03-13T12:07:57.045Z"
   },
   {
    "duration": 2640,
    "start_time": "2024-03-13T12:07:57.175Z"
   },
   {
    "duration": 533,
    "start_time": "2024-03-13T12:07:59.817Z"
   },
   {
    "duration": 4,
    "start_time": "2024-03-13T12:08:00.351Z"
   },
   {
    "duration": 53,
    "start_time": "2024-03-13T12:08:00.356Z"
   },
   {
    "duration": 70,
    "start_time": "2024-03-13T12:08:00.411Z"
   },
   {
    "duration": 88,
    "start_time": "2024-03-13T12:08:00.483Z"
   },
   {
    "duration": 229,
    "start_time": "2024-03-13T12:08:00.573Z"
   },
   {
    "duration": 76,
    "start_time": "2024-03-13T12:08:00.803Z"
   },
   {
    "duration": 3,
    "start_time": "2024-03-13T12:08:00.880Z"
   },
   {
    "duration": 8031,
    "start_time": "2024-03-13T12:08:00.885Z"
   },
   {
    "duration": 5,
    "start_time": "2024-03-13T12:08:08.918Z"
   },
   {
    "duration": 350,
    "start_time": "2024-03-13T12:08:08.925Z"
   },
   {
    "duration": 0,
    "start_time": "2024-03-13T12:08:09.276Z"
   },
   {
    "duration": 0,
    "start_time": "2024-03-13T12:08:09.278Z"
   },
   {
    "duration": 0,
    "start_time": "2024-03-13T12:08:09.279Z"
   },
   {
    "duration": 0,
    "start_time": "2024-03-13T12:08:09.280Z"
   },
   {
    "duration": 0,
    "start_time": "2024-03-13T12:08:09.281Z"
   },
   {
    "duration": 0,
    "start_time": "2024-03-13T12:08:09.282Z"
   },
   {
    "duration": 0,
    "start_time": "2024-03-13T12:08:09.284Z"
   },
   {
    "duration": 0,
    "start_time": "2024-03-13T12:08:09.284Z"
   },
   {
    "duration": 0,
    "start_time": "2024-03-13T12:08:09.286Z"
   },
   {
    "duration": 4864,
    "start_time": "2024-03-13T12:10:24.007Z"
   },
   {
    "duration": 7,
    "start_time": "2024-03-13T12:10:28.873Z"
   },
   {
    "duration": 43,
    "start_time": "2024-03-13T12:10:28.882Z"
   },
   {
    "duration": 975,
    "start_time": "2024-03-13T12:10:28.927Z"
   },
   {
    "duration": 2,
    "start_time": "2024-03-13T12:10:29.904Z"
   },
   {
    "duration": 16,
    "start_time": "2024-03-13T12:10:29.908Z"
   },
   {
    "duration": 532,
    "start_time": "2024-03-13T12:10:29.925Z"
   },
   {
    "duration": 119,
    "start_time": "2024-03-13T12:10:30.458Z"
   },
   {
    "duration": 2244,
    "start_time": "2024-03-13T12:10:30.579Z"
   },
   {
    "duration": 540,
    "start_time": "2024-03-13T12:10:32.825Z"
   },
   {
    "duration": 3,
    "start_time": "2024-03-13T12:10:33.367Z"
   },
   {
    "duration": 244,
    "start_time": "2024-03-13T12:10:33.372Z"
   },
   {
    "duration": 251,
    "start_time": "2024-03-13T12:10:33.618Z"
   },
   {
    "duration": 76,
    "start_time": "2024-03-13T12:10:33.871Z"
   },
   {
    "duration": 131,
    "start_time": "2024-03-13T12:10:33.949Z"
   },
   {
    "duration": 62,
    "start_time": "2024-03-13T12:10:34.082Z"
   },
   {
    "duration": 3,
    "start_time": "2024-03-13T12:10:34.145Z"
   },
   {
    "duration": 7955,
    "start_time": "2024-03-13T12:10:34.150Z"
   },
   {
    "duration": 3,
    "start_time": "2024-03-13T12:10:42.106Z"
   },
   {
    "duration": 40,
    "start_time": "2024-03-13T12:10:42.111Z"
   },
   {
    "duration": 1295924,
    "start_time": "2024-03-13T12:10:42.153Z"
   },
   {
    "duration": 0,
    "start_time": "2024-03-13T12:32:18.080Z"
   },
   {
    "duration": 0,
    "start_time": "2024-03-13T12:32:18.081Z"
   },
   {
    "duration": 0,
    "start_time": "2024-03-13T12:32:18.082Z"
   },
   {
    "duration": 0,
    "start_time": "2024-03-13T12:32:18.083Z"
   },
   {
    "duration": 0,
    "start_time": "2024-03-13T12:32:18.084Z"
   },
   {
    "duration": 0,
    "start_time": "2024-03-13T12:32:18.086Z"
   },
   {
    "duration": 0,
    "start_time": "2024-03-13T12:32:18.087Z"
   },
   {
    "duration": 0,
    "start_time": "2024-03-13T12:32:18.088Z"
   },
   {
    "duration": 4828,
    "start_time": "2024-03-13T12:32:24.455Z"
   },
   {
    "duration": 8,
    "start_time": "2024-03-13T12:32:29.285Z"
   },
   {
    "duration": 6,
    "start_time": "2024-03-13T12:32:29.294Z"
   },
   {
    "duration": 966,
    "start_time": "2024-03-13T12:32:29.302Z"
   },
   {
    "duration": 3,
    "start_time": "2024-03-13T12:32:30.270Z"
   },
   {
    "duration": 60,
    "start_time": "2024-03-13T12:32:30.275Z"
   },
   {
    "duration": 587,
    "start_time": "2024-03-13T12:32:30.337Z"
   },
   {
    "duration": 122,
    "start_time": "2024-03-13T12:32:30.925Z"
   },
   {
    "duration": 2337,
    "start_time": "2024-03-13T12:32:31.049Z"
   },
   {
    "duration": 557,
    "start_time": "2024-03-13T12:32:33.389Z"
   },
   {
    "duration": 3,
    "start_time": "2024-03-13T12:32:33.948Z"
   },
   {
    "duration": 153,
    "start_time": "2024-03-13T12:32:33.953Z"
   },
   {
    "duration": 26,
    "start_time": "2024-03-13T12:32:34.108Z"
   },
   {
    "duration": 49,
    "start_time": "2024-03-13T12:32:34.135Z"
   },
   {
    "duration": 124,
    "start_time": "2024-03-13T12:32:34.185Z"
   },
   {
    "duration": 70,
    "start_time": "2024-03-13T12:32:34.311Z"
   },
   {
    "duration": 3,
    "start_time": "2024-03-13T12:32:34.382Z"
   },
   {
    "duration": 7942,
    "start_time": "2024-03-13T12:32:34.386Z"
   },
   {
    "duration": 3,
    "start_time": "2024-03-13T12:32:42.329Z"
   },
   {
    "duration": 27,
    "start_time": "2024-03-13T12:32:42.334Z"
   },
   {
    "duration": 1550370,
    "start_time": "2024-03-13T12:32:42.362Z"
   },
   {
    "duration": 4,
    "start_time": "2024-03-13T12:58:32.824Z"
   },
   {
    "duration": 100,
    "start_time": "2024-03-13T12:58:32.830Z"
   },
   {
    "duration": 15,
    "start_time": "2024-03-13T12:58:32.932Z"
   },
   {
    "duration": 26,
    "start_time": "2024-03-13T12:58:32.948Z"
   },
   {
    "duration": 630510,
    "start_time": "2024-03-13T12:58:32.976Z"
   },
   {
    "duration": 4,
    "start_time": "2024-03-13T13:09:03.488Z"
   },
   {
    "duration": 22,
    "start_time": "2024-03-13T13:09:03.495Z"
   },
   {
    "duration": 6,
    "start_time": "2024-03-13T13:15:14.414Z"
   },
   {
    "duration": 16,
    "start_time": "2024-03-13T13:15:15.685Z"
   },
   {
    "duration": 75,
    "start_time": "2024-03-13T13:15:29.646Z"
   },
   {
    "duration": 4832,
    "start_time": "2024-03-13T17:44:51.337Z"
   },
   {
    "duration": 7,
    "start_time": "2024-03-13T17:44:56.171Z"
   },
   {
    "duration": 11,
    "start_time": "2024-03-13T17:44:56.180Z"
   },
   {
    "duration": 998,
    "start_time": "2024-03-13T17:44:56.192Z"
   },
   {
    "duration": 3,
    "start_time": "2024-03-13T17:44:57.192Z"
   },
   {
    "duration": 6,
    "start_time": "2024-03-13T17:44:57.196Z"
   },
   {
    "duration": 5,
    "start_time": "2024-03-13T17:44:57.203Z"
   },
   {
    "duration": 530,
    "start_time": "2024-03-13T17:44:57.210Z"
   },
   {
    "duration": 121,
    "start_time": "2024-03-13T17:44:57.741Z"
   },
   {
    "duration": 2592,
    "start_time": "2024-03-13T17:44:57.863Z"
   },
   {
    "duration": 574,
    "start_time": "2024-03-13T17:45:00.457Z"
   },
   {
    "duration": 4,
    "start_time": "2024-03-13T17:45:01.032Z"
   },
   {
    "duration": 221,
    "start_time": "2024-03-13T17:45:01.038Z"
   },
   {
    "duration": 320,
    "start_time": "2024-03-13T17:45:01.263Z"
   },
   {
    "duration": 66,
    "start_time": "2024-03-13T17:45:01.584Z"
   },
   {
    "duration": 25,
    "start_time": "2024-03-13T17:45:01.652Z"
   },
   {
    "duration": 8453,
    "start_time": "2024-03-13T17:45:01.679Z"
   },
   {
    "duration": 3,
    "start_time": "2024-03-13T17:45:10.133Z"
   },
   {
    "duration": 347,
    "start_time": "2024-03-13T17:45:10.138Z"
   },
   {
    "duration": 0,
    "start_time": "2024-03-13T17:45:10.487Z"
   },
   {
    "duration": 0,
    "start_time": "2024-03-13T17:45:10.488Z"
   },
   {
    "duration": 0,
    "start_time": "2024-03-13T17:45:10.489Z"
   },
   {
    "duration": 0,
    "start_time": "2024-03-13T17:45:10.490Z"
   },
   {
    "duration": 0,
    "start_time": "2024-03-13T17:45:10.491Z"
   },
   {
    "duration": 0,
    "start_time": "2024-03-13T17:45:10.492Z"
   },
   {
    "duration": 0,
    "start_time": "2024-03-13T17:45:10.493Z"
   },
   {
    "duration": 0,
    "start_time": "2024-03-13T17:45:10.494Z"
   },
   {
    "duration": 0,
    "start_time": "2024-03-13T17:45:10.495Z"
   },
   {
    "duration": 0,
    "start_time": "2024-03-13T17:45:10.496Z"
   },
   {
    "duration": 0,
    "start_time": "2024-03-13T17:45:10.497Z"
   },
   {
    "duration": 0,
    "start_time": "2024-03-13T17:45:10.498Z"
   },
   {
    "duration": 0,
    "start_time": "2024-03-13T17:45:10.499Z"
   },
   {
    "duration": 0,
    "start_time": "2024-03-13T17:45:10.523Z"
   },
   {
    "duration": 0,
    "start_time": "2024-03-13T17:45:10.524Z"
   },
   {
    "duration": 0,
    "start_time": "2024-03-13T17:45:10.525Z"
   },
   {
    "duration": 0,
    "start_time": "2024-03-13T17:45:10.526Z"
   },
   {
    "duration": 0,
    "start_time": "2024-03-13T17:45:10.527Z"
   },
   {
    "duration": 0,
    "start_time": "2024-03-13T17:45:10.528Z"
   },
   {
    "duration": 0,
    "start_time": "2024-03-13T17:45:10.529Z"
   },
   {
    "duration": 0,
    "start_time": "2024-03-13T17:45:10.530Z"
   },
   {
    "duration": 0,
    "start_time": "2024-03-13T17:45:10.531Z"
   },
   {
    "duration": 0,
    "start_time": "2024-03-13T17:45:10.532Z"
   },
   {
    "duration": 1,
    "start_time": "2024-03-13T17:45:10.533Z"
   },
   {
    "duration": 0,
    "start_time": "2024-03-13T17:45:10.534Z"
   },
   {
    "duration": 0,
    "start_time": "2024-03-13T17:45:10.535Z"
   },
   {
    "duration": 0,
    "start_time": "2024-03-13T17:45:10.536Z"
   },
   {
    "duration": 4914,
    "start_time": "2024-03-13T17:46:40.169Z"
   },
   {
    "duration": 8,
    "start_time": "2024-03-13T17:46:45.085Z"
   },
   {
    "duration": 20,
    "start_time": "2024-03-13T17:46:45.094Z"
   },
   {
    "duration": 1046,
    "start_time": "2024-03-13T17:46:45.115Z"
   },
   {
    "duration": 2,
    "start_time": "2024-03-13T17:46:46.164Z"
   },
   {
    "duration": 33,
    "start_time": "2024-03-13T17:46:46.168Z"
   },
   {
    "duration": 29,
    "start_time": "2024-03-13T17:46:46.203Z"
   },
   {
    "duration": 528,
    "start_time": "2024-03-13T17:46:46.234Z"
   },
   {
    "duration": 125,
    "start_time": "2024-03-13T17:46:46.764Z"
   },
   {
    "duration": 2266,
    "start_time": "2024-03-13T17:46:46.891Z"
   },
   {
    "duration": 545,
    "start_time": "2024-03-13T17:46:49.158Z"
   },
   {
    "duration": 4,
    "start_time": "2024-03-13T17:46:49.704Z"
   },
   {
    "duration": 48,
    "start_time": "2024-03-13T17:46:49.709Z"
   },
   {
    "duration": 136,
    "start_time": "2024-03-13T17:46:49.760Z"
   },
   {
    "duration": 59,
    "start_time": "2024-03-13T17:46:49.898Z"
   },
   {
    "duration": 3,
    "start_time": "2024-03-13T17:46:49.959Z"
   },
   {
    "duration": 7673,
    "start_time": "2024-03-13T17:46:49.963Z"
   },
   {
    "duration": 2,
    "start_time": "2024-03-13T17:46:57.637Z"
   },
   {
    "duration": 5440,
    "start_time": "2024-03-13T17:46:57.641Z"
   },
   {
    "duration": 337,
    "start_time": "2024-03-13T17:47:03.083Z"
   },
   {
    "duration": 0,
    "start_time": "2024-03-13T17:47:03.422Z"
   },
   {
    "duration": 0,
    "start_time": "2024-03-13T17:47:03.423Z"
   },
   {
    "duration": 0,
    "start_time": "2024-03-13T17:47:03.424Z"
   },
   {
    "duration": 0,
    "start_time": "2024-03-13T17:47:03.425Z"
   },
   {
    "duration": 1,
    "start_time": "2024-03-13T17:47:03.426Z"
   },
   {
    "duration": 0,
    "start_time": "2024-03-13T17:47:03.428Z"
   },
   {
    "duration": 0,
    "start_time": "2024-03-13T17:47:03.429Z"
   },
   {
    "duration": 0,
    "start_time": "2024-03-13T17:47:03.430Z"
   },
   {
    "duration": 0,
    "start_time": "2024-03-13T17:47:03.431Z"
   },
   {
    "duration": 0,
    "start_time": "2024-03-13T17:47:03.432Z"
   },
   {
    "duration": 0,
    "start_time": "2024-03-13T17:47:03.433Z"
   },
   {
    "duration": 0,
    "start_time": "2024-03-13T17:47:03.434Z"
   },
   {
    "duration": 0,
    "start_time": "2024-03-13T17:47:03.435Z"
   },
   {
    "duration": 0,
    "start_time": "2024-03-13T17:47:03.436Z"
   },
   {
    "duration": 0,
    "start_time": "2024-03-13T17:47:03.438Z"
   },
   {
    "duration": 0,
    "start_time": "2024-03-13T17:47:03.439Z"
   },
   {
    "duration": 0,
    "start_time": "2024-03-13T17:47:03.440Z"
   },
   {
    "duration": 0,
    "start_time": "2024-03-13T17:47:03.441Z"
   },
   {
    "duration": 0,
    "start_time": "2024-03-13T17:47:03.442Z"
   },
   {
    "duration": 0,
    "start_time": "2024-03-13T17:47:03.443Z"
   },
   {
    "duration": 0,
    "start_time": "2024-03-13T17:47:03.444Z"
   },
   {
    "duration": 0,
    "start_time": "2024-03-13T17:47:03.445Z"
   },
   {
    "duration": 0,
    "start_time": "2024-03-13T17:47:03.445Z"
   },
   {
    "duration": 0,
    "start_time": "2024-03-13T17:47:03.446Z"
   },
   {
    "duration": 0,
    "start_time": "2024-03-13T17:47:03.447Z"
   },
   {
    "duration": 0,
    "start_time": "2024-03-13T17:47:03.448Z"
   },
   {
    "duration": 4786,
    "start_time": "2024-03-13T17:54:25.257Z"
   },
   {
    "duration": 0,
    "start_time": "2024-03-13T17:54:30.045Z"
   },
   {
    "duration": 0,
    "start_time": "2024-03-13T17:54:30.047Z"
   },
   {
    "duration": 0,
    "start_time": "2024-03-13T17:54:30.048Z"
   },
   {
    "duration": 0,
    "start_time": "2024-03-13T17:54:30.049Z"
   },
   {
    "duration": 0,
    "start_time": "2024-03-13T17:54:30.050Z"
   },
   {
    "duration": 0,
    "start_time": "2024-03-13T17:54:30.051Z"
   },
   {
    "duration": 0,
    "start_time": "2024-03-13T17:54:30.052Z"
   },
   {
    "duration": 0,
    "start_time": "2024-03-13T17:54:30.053Z"
   },
   {
    "duration": 0,
    "start_time": "2024-03-13T17:54:30.054Z"
   },
   {
    "duration": 0,
    "start_time": "2024-03-13T17:54:30.056Z"
   },
   {
    "duration": 0,
    "start_time": "2024-03-13T17:54:30.056Z"
   },
   {
    "duration": 0,
    "start_time": "2024-03-13T17:54:30.057Z"
   },
   {
    "duration": 0,
    "start_time": "2024-03-13T17:54:30.058Z"
   },
   {
    "duration": 0,
    "start_time": "2024-03-13T17:54:30.059Z"
   },
   {
    "duration": 0,
    "start_time": "2024-03-13T17:54:30.061Z"
   },
   {
    "duration": 0,
    "start_time": "2024-03-13T17:54:30.061Z"
   },
   {
    "duration": 0,
    "start_time": "2024-03-13T17:54:30.062Z"
   },
   {
    "duration": 0,
    "start_time": "2024-03-13T17:54:30.063Z"
   },
   {
    "duration": 0,
    "start_time": "2024-03-13T17:54:30.064Z"
   },
   {
    "duration": 0,
    "start_time": "2024-03-13T17:54:30.065Z"
   },
   {
    "duration": 0,
    "start_time": "2024-03-13T17:54:30.066Z"
   },
   {
    "duration": 0,
    "start_time": "2024-03-13T17:54:30.067Z"
   },
   {
    "duration": 0,
    "start_time": "2024-03-13T17:54:30.068Z"
   },
   {
    "duration": 0,
    "start_time": "2024-03-13T17:54:30.069Z"
   },
   {
    "duration": 0,
    "start_time": "2024-03-13T17:54:30.070Z"
   },
   {
    "duration": 0,
    "start_time": "2024-03-13T17:54:30.071Z"
   },
   {
    "duration": 0,
    "start_time": "2024-03-13T17:54:30.072Z"
   },
   {
    "duration": 0,
    "start_time": "2024-03-13T17:54:30.073Z"
   },
   {
    "duration": 0,
    "start_time": "2024-03-13T17:54:30.123Z"
   },
   {
    "duration": 0,
    "start_time": "2024-03-13T17:54:30.124Z"
   },
   {
    "duration": 0,
    "start_time": "2024-03-13T17:54:30.125Z"
   },
   {
    "duration": 0,
    "start_time": "2024-03-13T17:54:30.126Z"
   },
   {
    "duration": 0,
    "start_time": "2024-03-13T17:54:30.127Z"
   },
   {
    "duration": 0,
    "start_time": "2024-03-13T17:54:30.128Z"
   },
   {
    "duration": 0,
    "start_time": "2024-03-13T17:54:30.129Z"
   },
   {
    "duration": 0,
    "start_time": "2024-03-13T17:54:30.130Z"
   },
   {
    "duration": 0,
    "start_time": "2024-03-13T17:54:30.131Z"
   },
   {
    "duration": 0,
    "start_time": "2024-03-13T17:54:30.132Z"
   },
   {
    "duration": 0,
    "start_time": "2024-03-13T17:54:30.133Z"
   },
   {
    "duration": 0,
    "start_time": "2024-03-13T17:54:30.134Z"
   },
   {
    "duration": 0,
    "start_time": "2024-03-13T17:54:30.135Z"
   },
   {
    "duration": 0,
    "start_time": "2024-03-13T17:54:30.136Z"
   },
   {
    "duration": 0,
    "start_time": "2024-03-13T17:54:30.138Z"
   },
   {
    "duration": 0,
    "start_time": "2024-03-13T17:54:30.139Z"
   },
   {
    "duration": 0,
    "start_time": "2024-03-13T17:54:30.140Z"
   },
   {
    "duration": 16404,
    "start_time": "2024-03-13T17:56:46.376Z"
   },
   {
    "duration": 5500,
    "start_time": "2024-03-13T17:57:02.782Z"
   },
   {
    "duration": 9,
    "start_time": "2024-03-13T17:57:08.283Z"
   },
   {
    "duration": 8,
    "start_time": "2024-03-13T17:57:08.293Z"
   },
   {
    "duration": 945,
    "start_time": "2024-03-13T17:57:08.303Z"
   },
   {
    "duration": 2,
    "start_time": "2024-03-13T17:57:09.250Z"
   },
   {
    "duration": 7,
    "start_time": "2024-03-13T17:57:09.254Z"
   },
   {
    "duration": 4,
    "start_time": "2024-03-13T17:57:09.263Z"
   },
   {
    "duration": 529,
    "start_time": "2024-03-13T17:57:09.268Z"
   },
   {
    "duration": 123,
    "start_time": "2024-03-13T17:57:09.799Z"
   },
   {
    "duration": 2412,
    "start_time": "2024-03-13T17:57:09.924Z"
   },
   {
    "duration": 711,
    "start_time": "2024-03-13T17:57:12.337Z"
   },
   {
    "duration": 4,
    "start_time": "2024-03-13T17:57:13.049Z"
   },
   {
    "duration": 86,
    "start_time": "2024-03-13T17:57:13.057Z"
   },
   {
    "duration": 196,
    "start_time": "2024-03-13T17:57:13.145Z"
   },
   {
    "duration": 63,
    "start_time": "2024-03-13T17:57:13.343Z"
   },
   {
    "duration": 3,
    "start_time": "2024-03-13T17:57:13.408Z"
   },
   {
    "duration": 8011,
    "start_time": "2024-03-13T17:57:13.413Z"
   },
   {
    "duration": 3,
    "start_time": "2024-03-13T17:57:21.426Z"
   },
   {
    "duration": 4296,
    "start_time": "2024-03-13T17:57:21.430Z"
   },
   {
    "duration": 1481,
    "start_time": "2024-03-13T17:57:25.728Z"
   },
   {
    "duration": 3,
    "start_time": "2024-03-13T17:57:27.211Z"
   },
   {
    "duration": 12,
    "start_time": "2024-03-13T17:57:27.215Z"
   },
   {
    "duration": 10,
    "start_time": "2024-03-13T17:57:27.229Z"
   },
   {
    "duration": 19,
    "start_time": "2024-03-13T17:57:27.241Z"
   },
   {
    "duration": 3,
    "start_time": "2024-03-13T17:57:27.261Z"
   },
   {
    "duration": 29,
    "start_time": "2024-03-13T17:57:27.266Z"
   },
   {
    "duration": 417,
    "start_time": "2024-03-13T17:57:27.298Z"
   },
   {
    "duration": 0,
    "start_time": "2024-03-13T17:57:27.716Z"
   },
   {
    "duration": 0,
    "start_time": "2024-03-13T17:57:27.718Z"
   },
   {
    "duration": 0,
    "start_time": "2024-03-13T17:57:27.723Z"
   },
   {
    "duration": 0,
    "start_time": "2024-03-13T17:57:27.724Z"
   },
   {
    "duration": 0,
    "start_time": "2024-03-13T17:57:27.725Z"
   },
   {
    "duration": 0,
    "start_time": "2024-03-13T17:57:27.726Z"
   },
   {
    "duration": 0,
    "start_time": "2024-03-13T17:57:27.727Z"
   },
   {
    "duration": 0,
    "start_time": "2024-03-13T17:57:27.728Z"
   },
   {
    "duration": 0,
    "start_time": "2024-03-13T17:57:27.729Z"
   },
   {
    "duration": 0,
    "start_time": "2024-03-13T17:57:27.730Z"
   },
   {
    "duration": 0,
    "start_time": "2024-03-13T17:57:27.731Z"
   },
   {
    "duration": 0,
    "start_time": "2024-03-13T17:57:27.732Z"
   },
   {
    "duration": 0,
    "start_time": "2024-03-13T17:57:27.734Z"
   },
   {
    "duration": 0,
    "start_time": "2024-03-13T17:57:27.735Z"
   },
   {
    "duration": 0,
    "start_time": "2024-03-13T17:57:27.736Z"
   },
   {
    "duration": 0,
    "start_time": "2024-03-13T17:57:27.737Z"
   },
   {
    "duration": 0,
    "start_time": "2024-03-13T17:57:27.738Z"
   },
   {
    "duration": 0,
    "start_time": "2024-03-13T17:57:27.739Z"
   },
   {
    "duration": 0,
    "start_time": "2024-03-13T17:57:27.740Z"
   },
   {
    "duration": 3241,
    "start_time": "2024-03-13T17:58:46.490Z"
   },
   {
    "duration": 20940,
    "start_time": "2024-03-13T17:58:49.733Z"
   },
   {
    "duration": 6507,
    "start_time": "2024-03-13T17:59:10.675Z"
   },
   {
    "duration": 210,
    "start_time": "2024-03-13T17:59:17.184Z"
   },
   {
    "duration": 17,
    "start_time": "2024-03-13T17:59:17.396Z"
   },
   {
    "duration": 997,
    "start_time": "2024-03-13T17:59:17.415Z"
   },
   {
    "duration": 3,
    "start_time": "2024-03-13T17:59:18.414Z"
   },
   {
    "duration": 2,
    "start_time": "2024-03-13T17:59:18.423Z"
   },
   {
    "duration": 9,
    "start_time": "2024-03-13T17:59:18.426Z"
   },
   {
    "duration": 518,
    "start_time": "2024-03-13T17:59:18.437Z"
   },
   {
    "duration": 127,
    "start_time": "2024-03-13T17:59:18.956Z"
   },
   {
    "duration": 2490,
    "start_time": "2024-03-13T17:59:19.085Z"
   },
   {
    "duration": 564,
    "start_time": "2024-03-13T17:59:21.577Z"
   },
   {
    "duration": 3,
    "start_time": "2024-03-13T17:59:22.145Z"
   },
   {
    "duration": 40,
    "start_time": "2024-03-13T17:59:22.150Z"
   },
   {
    "duration": 126,
    "start_time": "2024-03-13T17:59:22.192Z"
   },
   {
    "duration": 69,
    "start_time": "2024-03-13T17:59:22.319Z"
   },
   {
    "duration": 2,
    "start_time": "2024-03-13T17:59:22.390Z"
   },
   {
    "duration": 8156,
    "start_time": "2024-03-13T17:59:22.394Z"
   },
   {
    "duration": 3,
    "start_time": "2024-03-13T17:59:30.552Z"
   },
   {
    "duration": 3960,
    "start_time": "2024-03-13T17:59:30.556Z"
   },
   {
    "duration": 1380,
    "start_time": "2024-03-13T17:59:34.518Z"
   },
   {
    "duration": 3,
    "start_time": "2024-03-13T17:59:35.900Z"
   },
   {
    "duration": 10,
    "start_time": "2024-03-13T17:59:35.904Z"
   },
   {
    "duration": 7,
    "start_time": "2024-03-13T17:59:35.915Z"
   },
   {
    "duration": 15,
    "start_time": "2024-03-13T17:59:35.924Z"
   },
   {
    "duration": 3,
    "start_time": "2024-03-13T17:59:35.940Z"
   },
   {
    "duration": 21,
    "start_time": "2024-03-13T17:59:35.945Z"
   },
   {
    "duration": 406,
    "start_time": "2024-03-13T17:59:35.967Z"
   },
   {
    "duration": 0,
    "start_time": "2024-03-13T17:59:36.375Z"
   },
   {
    "duration": 0,
    "start_time": "2024-03-13T17:59:36.376Z"
   },
   {
    "duration": 0,
    "start_time": "2024-03-13T17:59:36.377Z"
   },
   {
    "duration": 0,
    "start_time": "2024-03-13T17:59:36.378Z"
   },
   {
    "duration": 0,
    "start_time": "2024-03-13T17:59:36.379Z"
   },
   {
    "duration": 0,
    "start_time": "2024-03-13T17:59:36.380Z"
   },
   {
    "duration": 0,
    "start_time": "2024-03-13T17:59:36.381Z"
   },
   {
    "duration": 0,
    "start_time": "2024-03-13T17:59:36.382Z"
   },
   {
    "duration": 0,
    "start_time": "2024-03-13T17:59:36.383Z"
   },
   {
    "duration": 0,
    "start_time": "2024-03-13T17:59:36.384Z"
   },
   {
    "duration": 0,
    "start_time": "2024-03-13T17:59:36.385Z"
   },
   {
    "duration": 0,
    "start_time": "2024-03-13T17:59:36.386Z"
   },
   {
    "duration": 0,
    "start_time": "2024-03-13T17:59:36.387Z"
   },
   {
    "duration": 0,
    "start_time": "2024-03-13T17:59:36.388Z"
   },
   {
    "duration": 0,
    "start_time": "2024-03-13T17:59:36.389Z"
   },
   {
    "duration": 0,
    "start_time": "2024-03-13T17:59:36.389Z"
   },
   {
    "duration": 0,
    "start_time": "2024-03-13T17:59:36.390Z"
   },
   {
    "duration": 0,
    "start_time": "2024-03-13T17:59:36.391Z"
   },
   {
    "duration": 0,
    "start_time": "2024-03-13T17:59:36.392Z"
   },
   {
    "duration": 3342,
    "start_time": "2024-03-13T18:00:24.191Z"
   },
   {
    "duration": 3161,
    "start_time": "2024-03-13T18:00:27.536Z"
   },
   {
    "duration": 6982,
    "start_time": "2024-03-13T18:00:30.700Z"
   },
   {
    "duration": 205,
    "start_time": "2024-03-13T18:00:37.684Z"
   },
   {
    "duration": 17,
    "start_time": "2024-03-13T18:00:37.891Z"
   },
   {
    "duration": 950,
    "start_time": "2024-03-13T18:00:37.910Z"
   },
   {
    "duration": 3,
    "start_time": "2024-03-13T18:00:38.861Z"
   },
   {
    "duration": 13,
    "start_time": "2024-03-13T18:00:38.865Z"
   },
   {
    "duration": 9,
    "start_time": "2024-03-13T18:00:38.880Z"
   },
   {
    "duration": 478,
    "start_time": "2024-03-13T18:00:38.891Z"
   },
   {
    "duration": 123,
    "start_time": "2024-03-13T18:00:39.371Z"
   },
   {
    "duration": 2261,
    "start_time": "2024-03-13T18:00:39.495Z"
   },
   {
    "duration": 512,
    "start_time": "2024-03-13T18:00:41.758Z"
   },
   {
    "duration": 4,
    "start_time": "2024-03-13T18:00:42.272Z"
   },
   {
    "duration": 56,
    "start_time": "2024-03-13T18:00:42.277Z"
   },
   {
    "duration": 143,
    "start_time": "2024-03-13T18:00:42.335Z"
   },
   {
    "duration": 69,
    "start_time": "2024-03-13T18:00:42.480Z"
   },
   {
    "duration": 3,
    "start_time": "2024-03-13T18:00:42.551Z"
   },
   {
    "duration": 7746,
    "start_time": "2024-03-13T18:00:42.556Z"
   },
   {
    "duration": 3,
    "start_time": "2024-03-13T18:00:50.304Z"
   },
   {
    "duration": 3816,
    "start_time": "2024-03-13T18:00:50.308Z"
   },
   {
    "duration": 1234,
    "start_time": "2024-03-13T18:00:54.126Z"
   },
   {
    "duration": 3,
    "start_time": "2024-03-13T18:00:55.362Z"
   },
   {
    "duration": 26,
    "start_time": "2024-03-13T18:00:55.366Z"
   },
   {
    "duration": 14,
    "start_time": "2024-03-13T18:00:55.394Z"
   },
   {
    "duration": 21,
    "start_time": "2024-03-13T18:00:55.410Z"
   },
   {
    "duration": 3,
    "start_time": "2024-03-13T18:00:55.432Z"
   },
   {
    "duration": 15,
    "start_time": "2024-03-13T18:00:55.439Z"
   },
   {
    "duration": 401,
    "start_time": "2024-03-13T18:00:55.456Z"
   },
   {
    "duration": 0,
    "start_time": "2024-03-13T18:00:55.859Z"
   },
   {
    "duration": 0,
    "start_time": "2024-03-13T18:00:55.860Z"
   },
   {
    "duration": 0,
    "start_time": "2024-03-13T18:00:55.862Z"
   },
   {
    "duration": 0,
    "start_time": "2024-03-13T18:00:55.863Z"
   },
   {
    "duration": 0,
    "start_time": "2024-03-13T18:00:55.864Z"
   },
   {
    "duration": 0,
    "start_time": "2024-03-13T18:00:55.866Z"
   },
   {
    "duration": 0,
    "start_time": "2024-03-13T18:00:55.867Z"
   },
   {
    "duration": 0,
    "start_time": "2024-03-13T18:00:55.869Z"
   },
   {
    "duration": 0,
    "start_time": "2024-03-13T18:00:55.870Z"
   },
   {
    "duration": 0,
    "start_time": "2024-03-13T18:00:55.871Z"
   },
   {
    "duration": 0,
    "start_time": "2024-03-13T18:00:55.873Z"
   },
   {
    "duration": 0,
    "start_time": "2024-03-13T18:00:55.874Z"
   },
   {
    "duration": 0,
    "start_time": "2024-03-13T18:00:55.875Z"
   },
   {
    "duration": 0,
    "start_time": "2024-03-13T18:00:55.877Z"
   },
   {
    "duration": 0,
    "start_time": "2024-03-13T18:00:55.878Z"
   },
   {
    "duration": 0,
    "start_time": "2024-03-13T18:00:55.879Z"
   },
   {
    "duration": 0,
    "start_time": "2024-03-13T18:00:55.882Z"
   },
   {
    "duration": 0,
    "start_time": "2024-03-13T18:00:55.883Z"
   },
   {
    "duration": 0,
    "start_time": "2024-03-13T18:00:55.884Z"
   },
   {
    "duration": 3348,
    "start_time": "2024-03-13T18:05:32.419Z"
   },
   {
    "duration": 3320,
    "start_time": "2024-03-13T18:05:35.770Z"
   },
   {
    "duration": 7022,
    "start_time": "2024-03-13T18:05:39.092Z"
   },
   {
    "duration": 0,
    "start_time": "2024-03-13T18:05:46.122Z"
   },
   {
    "duration": 0,
    "start_time": "2024-03-13T18:05:46.123Z"
   },
   {
    "duration": 0,
    "start_time": "2024-03-13T18:05:46.124Z"
   },
   {
    "duration": 0,
    "start_time": "2024-03-13T18:05:46.125Z"
   },
   {
    "duration": 0,
    "start_time": "2024-03-13T18:05:46.126Z"
   },
   {
    "duration": 0,
    "start_time": "2024-03-13T18:05:46.127Z"
   },
   {
    "duration": 0,
    "start_time": "2024-03-13T18:05:46.128Z"
   },
   {
    "duration": 0,
    "start_time": "2024-03-13T18:05:46.130Z"
   },
   {
    "duration": 0,
    "start_time": "2024-03-13T18:05:46.131Z"
   },
   {
    "duration": 0,
    "start_time": "2024-03-13T18:05:46.132Z"
   },
   {
    "duration": 0,
    "start_time": "2024-03-13T18:05:46.133Z"
   },
   {
    "duration": 0,
    "start_time": "2024-03-13T18:05:46.134Z"
   },
   {
    "duration": 0,
    "start_time": "2024-03-13T18:05:46.135Z"
   },
   {
    "duration": 0,
    "start_time": "2024-03-13T18:05:46.136Z"
   },
   {
    "duration": 0,
    "start_time": "2024-03-13T18:05:46.138Z"
   },
   {
    "duration": 0,
    "start_time": "2024-03-13T18:05:46.138Z"
   },
   {
    "duration": 0,
    "start_time": "2024-03-13T18:05:46.140Z"
   },
   {
    "duration": 0,
    "start_time": "2024-03-13T18:05:46.141Z"
   },
   {
    "duration": 0,
    "start_time": "2024-03-13T18:05:46.142Z"
   },
   {
    "duration": 0,
    "start_time": "2024-03-13T18:05:46.143Z"
   },
   {
    "duration": 0,
    "start_time": "2024-03-13T18:05:46.144Z"
   },
   {
    "duration": 0,
    "start_time": "2024-03-13T18:05:46.146Z"
   },
   {
    "duration": 0,
    "start_time": "2024-03-13T18:05:46.147Z"
   },
   {
    "duration": 0,
    "start_time": "2024-03-13T18:05:46.148Z"
   },
   {
    "duration": 0,
    "start_time": "2024-03-13T18:05:46.149Z"
   },
   {
    "duration": 0,
    "start_time": "2024-03-13T18:05:46.150Z"
   },
   {
    "duration": 0,
    "start_time": "2024-03-13T18:05:46.151Z"
   },
   {
    "duration": 0,
    "start_time": "2024-03-13T18:05:46.153Z"
   },
   {
    "duration": 0,
    "start_time": "2024-03-13T18:05:46.154Z"
   },
   {
    "duration": 0,
    "start_time": "2024-03-13T18:05:46.155Z"
   },
   {
    "duration": 0,
    "start_time": "2024-03-13T18:05:46.156Z"
   },
   {
    "duration": 0,
    "start_time": "2024-03-13T18:05:46.157Z"
   },
   {
    "duration": 0,
    "start_time": "2024-03-13T18:05:46.159Z"
   },
   {
    "duration": 0,
    "start_time": "2024-03-13T18:05:46.160Z"
   },
   {
    "duration": 0,
    "start_time": "2024-03-13T18:05:46.223Z"
   },
   {
    "duration": 0,
    "start_time": "2024-03-13T18:05:46.224Z"
   },
   {
    "duration": 0,
    "start_time": "2024-03-13T18:05:46.225Z"
   },
   {
    "duration": 0,
    "start_time": "2024-03-13T18:05:46.227Z"
   },
   {
    "duration": 0,
    "start_time": "2024-03-13T18:05:46.228Z"
   },
   {
    "duration": 0,
    "start_time": "2024-03-13T18:05:46.229Z"
   },
   {
    "duration": 0,
    "start_time": "2024-03-13T18:05:46.231Z"
   },
   {
    "duration": 0,
    "start_time": "2024-03-13T18:05:46.232Z"
   },
   {
    "duration": 0,
    "start_time": "2024-03-13T18:05:46.233Z"
   },
   {
    "duration": 0,
    "start_time": "2024-03-13T18:05:46.235Z"
   },
   {
    "duration": 0,
    "start_time": "2024-03-13T18:05:46.236Z"
   },
   {
    "duration": 3116,
    "start_time": "2024-03-13T18:08:06.695Z"
   },
   {
    "duration": 3144,
    "start_time": "2024-03-13T18:08:09.813Z"
   },
   {
    "duration": 81,
    "start_time": "2024-03-13T18:08:12.962Z"
   },
   {
    "duration": 0,
    "start_time": "2024-03-13T18:08:13.045Z"
   },
   {
    "duration": 0,
    "start_time": "2024-03-13T18:08:13.047Z"
   },
   {
    "duration": 0,
    "start_time": "2024-03-13T18:08:13.048Z"
   },
   {
    "duration": 0,
    "start_time": "2024-03-13T18:08:13.049Z"
   },
   {
    "duration": 0,
    "start_time": "2024-03-13T18:08:13.051Z"
   },
   {
    "duration": 0,
    "start_time": "2024-03-13T18:08:13.052Z"
   },
   {
    "duration": 0,
    "start_time": "2024-03-13T18:08:13.053Z"
   },
   {
    "duration": 0,
    "start_time": "2024-03-13T18:08:13.054Z"
   },
   {
    "duration": 0,
    "start_time": "2024-03-13T18:08:13.055Z"
   },
   {
    "duration": 0,
    "start_time": "2024-03-13T18:08:13.056Z"
   },
   {
    "duration": 0,
    "start_time": "2024-03-13T18:08:13.057Z"
   },
   {
    "duration": 0,
    "start_time": "2024-03-13T18:08:13.058Z"
   },
   {
    "duration": 0,
    "start_time": "2024-03-13T18:08:13.059Z"
   },
   {
    "duration": 0,
    "start_time": "2024-03-13T18:08:13.060Z"
   },
   {
    "duration": 0,
    "start_time": "2024-03-13T18:08:13.061Z"
   },
   {
    "duration": 0,
    "start_time": "2024-03-13T18:08:13.062Z"
   },
   {
    "duration": 0,
    "start_time": "2024-03-13T18:08:13.063Z"
   },
   {
    "duration": 0,
    "start_time": "2024-03-13T18:08:13.064Z"
   },
   {
    "duration": 0,
    "start_time": "2024-03-13T18:08:13.065Z"
   },
   {
    "duration": 0,
    "start_time": "2024-03-13T18:08:13.066Z"
   },
   {
    "duration": 0,
    "start_time": "2024-03-13T18:08:13.067Z"
   },
   {
    "duration": 0,
    "start_time": "2024-03-13T18:08:13.067Z"
   },
   {
    "duration": 0,
    "start_time": "2024-03-13T18:08:13.069Z"
   },
   {
    "duration": 0,
    "start_time": "2024-03-13T18:08:13.070Z"
   },
   {
    "duration": 0,
    "start_time": "2024-03-13T18:08:13.071Z"
   },
   {
    "duration": 0,
    "start_time": "2024-03-13T18:08:13.072Z"
   },
   {
    "duration": 0,
    "start_time": "2024-03-13T18:08:13.073Z"
   },
   {
    "duration": 0,
    "start_time": "2024-03-13T18:08:13.074Z"
   },
   {
    "duration": 0,
    "start_time": "2024-03-13T18:08:13.075Z"
   },
   {
    "duration": 0,
    "start_time": "2024-03-13T18:08:13.077Z"
   },
   {
    "duration": 0,
    "start_time": "2024-03-13T18:08:13.078Z"
   },
   {
    "duration": 0,
    "start_time": "2024-03-13T18:08:13.079Z"
   },
   {
    "duration": 0,
    "start_time": "2024-03-13T18:08:13.080Z"
   },
   {
    "duration": 0,
    "start_time": "2024-03-13T18:08:13.081Z"
   },
   {
    "duration": 0,
    "start_time": "2024-03-13T18:08:13.123Z"
   },
   {
    "duration": 0,
    "start_time": "2024-03-13T18:08:13.125Z"
   },
   {
    "duration": 0,
    "start_time": "2024-03-13T18:08:13.126Z"
   },
   {
    "duration": 0,
    "start_time": "2024-03-13T18:08:13.127Z"
   },
   {
    "duration": 0,
    "start_time": "2024-03-13T18:08:13.128Z"
   },
   {
    "duration": 0,
    "start_time": "2024-03-13T18:08:13.130Z"
   },
   {
    "duration": 0,
    "start_time": "2024-03-13T18:08:13.131Z"
   },
   {
    "duration": 0,
    "start_time": "2024-03-13T18:08:13.132Z"
   },
   {
    "duration": 0,
    "start_time": "2024-03-13T18:08:13.133Z"
   },
   {
    "duration": 0,
    "start_time": "2024-03-13T18:08:13.134Z"
   },
   {
    "duration": 0,
    "start_time": "2024-03-13T18:08:13.135Z"
   },
   {
    "duration": 3061,
    "start_time": "2024-03-13T18:10:21.055Z"
   },
   {
    "duration": 3205,
    "start_time": "2024-03-13T18:10:24.118Z"
   },
   {
    "duration": 82,
    "start_time": "2024-03-13T18:10:27.325Z"
   },
   {
    "duration": 0,
    "start_time": "2024-03-13T18:10:27.411Z"
   },
   {
    "duration": 0,
    "start_time": "2024-03-13T18:10:27.413Z"
   },
   {
    "duration": 0,
    "start_time": "2024-03-13T18:10:27.414Z"
   },
   {
    "duration": 0,
    "start_time": "2024-03-13T18:10:27.416Z"
   },
   {
    "duration": 0,
    "start_time": "2024-03-13T18:10:27.417Z"
   },
   {
    "duration": 0,
    "start_time": "2024-03-13T18:10:27.419Z"
   },
   {
    "duration": 0,
    "start_time": "2024-03-13T18:10:27.420Z"
   },
   {
    "duration": 0,
    "start_time": "2024-03-13T18:10:27.421Z"
   },
   {
    "duration": 0,
    "start_time": "2024-03-13T18:10:27.423Z"
   },
   {
    "duration": 0,
    "start_time": "2024-03-13T18:10:27.424Z"
   },
   {
    "duration": 0,
    "start_time": "2024-03-13T18:10:27.426Z"
   },
   {
    "duration": 0,
    "start_time": "2024-03-13T18:10:27.427Z"
   },
   {
    "duration": 0,
    "start_time": "2024-03-13T18:10:27.429Z"
   },
   {
    "duration": 0,
    "start_time": "2024-03-13T18:10:27.430Z"
   },
   {
    "duration": 1,
    "start_time": "2024-03-13T18:10:27.431Z"
   },
   {
    "duration": 0,
    "start_time": "2024-03-13T18:10:27.433Z"
   },
   {
    "duration": 0,
    "start_time": "2024-03-13T18:10:27.434Z"
   },
   {
    "duration": 0,
    "start_time": "2024-03-13T18:10:27.436Z"
   },
   {
    "duration": 0,
    "start_time": "2024-03-13T18:10:27.437Z"
   },
   {
    "duration": 0,
    "start_time": "2024-03-13T18:10:27.439Z"
   },
   {
    "duration": 0,
    "start_time": "2024-03-13T18:10:27.440Z"
   },
   {
    "duration": 0,
    "start_time": "2024-03-13T18:10:27.441Z"
   },
   {
    "duration": 0,
    "start_time": "2024-03-13T18:10:27.443Z"
   },
   {
    "duration": 0,
    "start_time": "2024-03-13T18:10:27.444Z"
   },
   {
    "duration": 0,
    "start_time": "2024-03-13T18:10:27.445Z"
   },
   {
    "duration": 0,
    "start_time": "2024-03-13T18:10:27.447Z"
   },
   {
    "duration": 0,
    "start_time": "2024-03-13T18:10:27.448Z"
   },
   {
    "duration": 0,
    "start_time": "2024-03-13T18:10:27.450Z"
   },
   {
    "duration": 0,
    "start_time": "2024-03-13T18:10:27.451Z"
   },
   {
    "duration": 0,
    "start_time": "2024-03-13T18:10:27.452Z"
   },
   {
    "duration": 0,
    "start_time": "2024-03-13T18:10:27.454Z"
   },
   {
    "duration": 0,
    "start_time": "2024-03-13T18:10:27.455Z"
   },
   {
    "duration": 0,
    "start_time": "2024-03-13T18:10:27.457Z"
   },
   {
    "duration": 0,
    "start_time": "2024-03-13T18:10:27.458Z"
   },
   {
    "duration": 0,
    "start_time": "2024-03-13T18:10:27.459Z"
   },
   {
    "duration": 0,
    "start_time": "2024-03-13T18:10:27.461Z"
   },
   {
    "duration": 0,
    "start_time": "2024-03-13T18:10:27.462Z"
   },
   {
    "duration": 0,
    "start_time": "2024-03-13T18:10:27.464Z"
   },
   {
    "duration": 0,
    "start_time": "2024-03-13T18:10:27.525Z"
   },
   {
    "duration": 0,
    "start_time": "2024-03-13T18:10:27.526Z"
   },
   {
    "duration": 0,
    "start_time": "2024-03-13T18:10:27.528Z"
   },
   {
    "duration": 0,
    "start_time": "2024-03-13T18:10:27.529Z"
   },
   {
    "duration": 0,
    "start_time": "2024-03-13T18:10:27.531Z"
   },
   {
    "duration": 0,
    "start_time": "2024-03-13T18:10:27.533Z"
   },
   {
    "duration": 0,
    "start_time": "2024-03-13T18:10:27.534Z"
   },
   {
    "duration": 3107,
    "start_time": "2024-03-13T18:19:42.888Z"
   },
   {
    "duration": 3134,
    "start_time": "2024-03-13T18:19:45.998Z"
   },
   {
    "duration": 2168,
    "start_time": "2024-03-13T18:19:49.134Z"
   },
   {
    "duration": 6782,
    "start_time": "2024-03-13T18:19:51.304Z"
   },
   {
    "duration": 0,
    "start_time": "2024-03-13T18:19:58.089Z"
   },
   {
    "duration": 0,
    "start_time": "2024-03-13T18:19:58.090Z"
   },
   {
    "duration": 0,
    "start_time": "2024-03-13T18:19:58.091Z"
   },
   {
    "duration": 0,
    "start_time": "2024-03-13T18:19:58.093Z"
   },
   {
    "duration": 0,
    "start_time": "2024-03-13T18:19:58.094Z"
   },
   {
    "duration": 0,
    "start_time": "2024-03-13T18:19:58.096Z"
   },
   {
    "duration": 0,
    "start_time": "2024-03-13T18:19:58.097Z"
   },
   {
    "duration": 0,
    "start_time": "2024-03-13T18:19:58.098Z"
   },
   {
    "duration": 0,
    "start_time": "2024-03-13T18:19:58.099Z"
   },
   {
    "duration": 0,
    "start_time": "2024-03-13T18:19:58.101Z"
   },
   {
    "duration": 0,
    "start_time": "2024-03-13T18:19:58.102Z"
   },
   {
    "duration": 0,
    "start_time": "2024-03-13T18:19:58.123Z"
   },
   {
    "duration": 0,
    "start_time": "2024-03-13T18:19:58.124Z"
   },
   {
    "duration": 0,
    "start_time": "2024-03-13T18:19:58.126Z"
   },
   {
    "duration": 0,
    "start_time": "2024-03-13T18:19:58.128Z"
   },
   {
    "duration": 0,
    "start_time": "2024-03-13T18:19:58.129Z"
   },
   {
    "duration": 0,
    "start_time": "2024-03-13T18:19:58.131Z"
   },
   {
    "duration": 0,
    "start_time": "2024-03-13T18:19:58.132Z"
   },
   {
    "duration": 0,
    "start_time": "2024-03-13T18:19:58.134Z"
   },
   {
    "duration": 0,
    "start_time": "2024-03-13T18:19:58.135Z"
   },
   {
    "duration": 0,
    "start_time": "2024-03-13T18:19:58.136Z"
   },
   {
    "duration": 0,
    "start_time": "2024-03-13T18:19:58.137Z"
   },
   {
    "duration": 0,
    "start_time": "2024-03-13T18:19:58.138Z"
   },
   {
    "duration": 0,
    "start_time": "2024-03-13T18:19:58.140Z"
   },
   {
    "duration": 0,
    "start_time": "2024-03-13T18:19:58.141Z"
   },
   {
    "duration": 0,
    "start_time": "2024-03-13T18:19:58.143Z"
   },
   {
    "duration": 0,
    "start_time": "2024-03-13T18:19:58.144Z"
   },
   {
    "duration": 0,
    "start_time": "2024-03-13T18:19:58.146Z"
   },
   {
    "duration": 0,
    "start_time": "2024-03-13T18:19:58.147Z"
   },
   {
    "duration": 0,
    "start_time": "2024-03-13T18:19:58.148Z"
   },
   {
    "duration": 0,
    "start_time": "2024-03-13T18:19:58.149Z"
   },
   {
    "duration": 0,
    "start_time": "2024-03-13T18:19:58.150Z"
   },
   {
    "duration": 0,
    "start_time": "2024-03-13T18:19:58.151Z"
   },
   {
    "duration": 0,
    "start_time": "2024-03-13T18:19:58.152Z"
   },
   {
    "duration": 0,
    "start_time": "2024-03-13T18:19:58.153Z"
   },
   {
    "duration": 0,
    "start_time": "2024-03-13T18:19:58.154Z"
   },
   {
    "duration": 0,
    "start_time": "2024-03-13T18:19:58.155Z"
   },
   {
    "duration": 0,
    "start_time": "2024-03-13T18:19:58.156Z"
   },
   {
    "duration": 0,
    "start_time": "2024-03-13T18:19:58.157Z"
   },
   {
    "duration": 0,
    "start_time": "2024-03-13T18:19:58.158Z"
   },
   {
    "duration": 0,
    "start_time": "2024-03-13T18:19:58.159Z"
   },
   {
    "duration": 0,
    "start_time": "2024-03-13T18:19:58.223Z"
   },
   {
    "duration": 0,
    "start_time": "2024-03-13T18:19:58.224Z"
   },
   {
    "duration": 0,
    "start_time": "2024-03-13T18:19:58.225Z"
   },
   {
    "duration": 0,
    "start_time": "2024-03-13T18:19:58.227Z"
   },
   {
    "duration": 3106,
    "start_time": "2024-03-13T18:21:56.984Z"
   },
   {
    "duration": 3258,
    "start_time": "2024-03-13T18:22:00.093Z"
   },
   {
    "duration": 2062,
    "start_time": "2024-03-13T18:22:03.355Z"
   },
   {
    "duration": 6675,
    "start_time": "2024-03-13T18:22:05.420Z"
   },
   {
    "duration": 0,
    "start_time": "2024-03-13T18:22:12.098Z"
   },
   {
    "duration": 0,
    "start_time": "2024-03-13T18:22:12.099Z"
   },
   {
    "duration": 0,
    "start_time": "2024-03-13T18:22:12.100Z"
   },
   {
    "duration": 0,
    "start_time": "2024-03-13T18:22:12.102Z"
   },
   {
    "duration": 0,
    "start_time": "2024-03-13T18:22:12.103Z"
   },
   {
    "duration": 0,
    "start_time": "2024-03-13T18:22:12.104Z"
   },
   {
    "duration": 0,
    "start_time": "2024-03-13T18:22:12.105Z"
   },
   {
    "duration": 0,
    "start_time": "2024-03-13T18:22:12.107Z"
   },
   {
    "duration": 0,
    "start_time": "2024-03-13T18:22:12.108Z"
   },
   {
    "duration": 0,
    "start_time": "2024-03-13T18:22:12.123Z"
   },
   {
    "duration": 0,
    "start_time": "2024-03-13T18:22:12.124Z"
   },
   {
    "duration": 0,
    "start_time": "2024-03-13T18:22:12.125Z"
   },
   {
    "duration": 0,
    "start_time": "2024-03-13T18:22:12.127Z"
   },
   {
    "duration": 0,
    "start_time": "2024-03-13T18:22:12.128Z"
   },
   {
    "duration": 0,
    "start_time": "2024-03-13T18:22:12.129Z"
   },
   {
    "duration": 0,
    "start_time": "2024-03-13T18:22:12.129Z"
   },
   {
    "duration": 0,
    "start_time": "2024-03-13T18:22:12.130Z"
   },
   {
    "duration": 0,
    "start_time": "2024-03-13T18:22:12.131Z"
   },
   {
    "duration": 0,
    "start_time": "2024-03-13T18:22:12.133Z"
   },
   {
    "duration": 0,
    "start_time": "2024-03-13T18:22:12.134Z"
   },
   {
    "duration": 0,
    "start_time": "2024-03-13T18:22:12.134Z"
   },
   {
    "duration": 0,
    "start_time": "2024-03-13T18:22:12.136Z"
   },
   {
    "duration": 0,
    "start_time": "2024-03-13T18:22:12.137Z"
   },
   {
    "duration": 0,
    "start_time": "2024-03-13T18:22:12.138Z"
   },
   {
    "duration": 0,
    "start_time": "2024-03-13T18:22:12.139Z"
   },
   {
    "duration": 0,
    "start_time": "2024-03-13T18:22:12.140Z"
   },
   {
    "duration": 0,
    "start_time": "2024-03-13T18:22:12.141Z"
   },
   {
    "duration": 0,
    "start_time": "2024-03-13T18:22:12.142Z"
   },
   {
    "duration": 0,
    "start_time": "2024-03-13T18:22:12.143Z"
   },
   {
    "duration": 0,
    "start_time": "2024-03-13T18:22:12.144Z"
   },
   {
    "duration": 0,
    "start_time": "2024-03-13T18:22:12.145Z"
   },
   {
    "duration": 0,
    "start_time": "2024-03-13T18:22:12.146Z"
   },
   {
    "duration": 0,
    "start_time": "2024-03-13T18:22:12.147Z"
   },
   {
    "duration": 0,
    "start_time": "2024-03-13T18:22:12.148Z"
   },
   {
    "duration": 1,
    "start_time": "2024-03-13T18:22:12.149Z"
   },
   {
    "duration": 0,
    "start_time": "2024-03-13T18:22:12.151Z"
   },
   {
    "duration": 0,
    "start_time": "2024-03-13T18:22:12.152Z"
   },
   {
    "duration": 0,
    "start_time": "2024-03-13T18:22:12.153Z"
   },
   {
    "duration": 0,
    "start_time": "2024-03-13T18:22:12.154Z"
   },
   {
    "duration": 0,
    "start_time": "2024-03-13T18:22:12.155Z"
   },
   {
    "duration": 0,
    "start_time": "2024-03-13T18:22:12.156Z"
   },
   {
    "duration": 0,
    "start_time": "2024-03-13T18:22:12.159Z"
   },
   {
    "duration": 0,
    "start_time": "2024-03-13T18:22:12.160Z"
   },
   {
    "duration": 0,
    "start_time": "2024-03-13T18:22:12.223Z"
   },
   {
    "duration": 0,
    "start_time": "2024-03-13T18:22:12.225Z"
   },
   {
    "duration": 3110,
    "start_time": "2024-03-13T18:22:42.605Z"
   },
   {
    "duration": 3147,
    "start_time": "2024-03-13T18:22:45.717Z"
   },
   {
    "duration": 6925,
    "start_time": "2024-03-13T18:22:48.868Z"
   },
   {
    "duration": 6489,
    "start_time": "2024-03-13T18:22:55.796Z"
   },
   {
    "duration": 0,
    "start_time": "2024-03-13T18:23:02.287Z"
   },
   {
    "duration": 0,
    "start_time": "2024-03-13T18:23:02.289Z"
   },
   {
    "duration": 0,
    "start_time": "2024-03-13T18:23:02.290Z"
   },
   {
    "duration": 0,
    "start_time": "2024-03-13T18:23:02.291Z"
   },
   {
    "duration": 0,
    "start_time": "2024-03-13T18:23:02.292Z"
   },
   {
    "duration": 0,
    "start_time": "2024-03-13T18:23:02.293Z"
   },
   {
    "duration": 0,
    "start_time": "2024-03-13T18:23:02.294Z"
   },
   {
    "duration": 0,
    "start_time": "2024-03-13T18:23:02.295Z"
   },
   {
    "duration": 0,
    "start_time": "2024-03-13T18:23:02.296Z"
   },
   {
    "duration": 0,
    "start_time": "2024-03-13T18:23:02.297Z"
   },
   {
    "duration": 0,
    "start_time": "2024-03-13T18:23:02.298Z"
   },
   {
    "duration": 0,
    "start_time": "2024-03-13T18:23:02.299Z"
   },
   {
    "duration": 0,
    "start_time": "2024-03-13T18:23:02.301Z"
   },
   {
    "duration": 0,
    "start_time": "2024-03-13T18:23:02.323Z"
   },
   {
    "duration": 0,
    "start_time": "2024-03-13T18:23:02.324Z"
   },
   {
    "duration": 0,
    "start_time": "2024-03-13T18:23:02.325Z"
   },
   {
    "duration": 0,
    "start_time": "2024-03-13T18:23:02.327Z"
   },
   {
    "duration": 0,
    "start_time": "2024-03-13T18:23:02.328Z"
   },
   {
    "duration": 0,
    "start_time": "2024-03-13T18:23:02.329Z"
   },
   {
    "duration": 0,
    "start_time": "2024-03-13T18:23:02.330Z"
   },
   {
    "duration": 0,
    "start_time": "2024-03-13T18:23:02.331Z"
   },
   {
    "duration": 0,
    "start_time": "2024-03-13T18:23:02.332Z"
   },
   {
    "duration": 0,
    "start_time": "2024-03-13T18:23:02.333Z"
   },
   {
    "duration": 0,
    "start_time": "2024-03-13T18:23:02.334Z"
   },
   {
    "duration": 0,
    "start_time": "2024-03-13T18:23:02.335Z"
   },
   {
    "duration": 0,
    "start_time": "2024-03-13T18:23:02.337Z"
   },
   {
    "duration": 0,
    "start_time": "2024-03-13T18:23:02.338Z"
   },
   {
    "duration": 0,
    "start_time": "2024-03-13T18:23:02.339Z"
   },
   {
    "duration": 0,
    "start_time": "2024-03-13T18:23:02.340Z"
   },
   {
    "duration": 0,
    "start_time": "2024-03-13T18:23:02.341Z"
   },
   {
    "duration": 0,
    "start_time": "2024-03-13T18:23:02.342Z"
   },
   {
    "duration": 0,
    "start_time": "2024-03-13T18:23:02.343Z"
   },
   {
    "duration": 0,
    "start_time": "2024-03-13T18:23:02.344Z"
   },
   {
    "duration": 0,
    "start_time": "2024-03-13T18:23:02.346Z"
   },
   {
    "duration": 0,
    "start_time": "2024-03-13T18:23:02.348Z"
   },
   {
    "duration": 0,
    "start_time": "2024-03-13T18:23:02.349Z"
   },
   {
    "duration": 0,
    "start_time": "2024-03-13T18:23:02.350Z"
   },
   {
    "duration": 0,
    "start_time": "2024-03-13T18:23:02.351Z"
   },
   {
    "duration": 0,
    "start_time": "2024-03-13T18:23:02.352Z"
   },
   {
    "duration": 0,
    "start_time": "2024-03-13T18:23:02.353Z"
   },
   {
    "duration": 0,
    "start_time": "2024-03-13T18:23:02.354Z"
   },
   {
    "duration": 0,
    "start_time": "2024-03-13T18:23:02.355Z"
   },
   {
    "duration": 1,
    "start_time": "2024-03-13T18:23:02.355Z"
   },
   {
    "duration": 0,
    "start_time": "2024-03-13T18:23:02.356Z"
   },
   {
    "duration": 0,
    "start_time": "2024-03-13T18:23:02.358Z"
   },
   {
    "duration": 3151,
    "start_time": "2024-03-13T18:23:33.789Z"
   },
   {
    "duration": 3121,
    "start_time": "2024-03-13T18:23:36.942Z"
   },
   {
    "duration": 2886,
    "start_time": "2024-03-13T18:23:40.065Z"
   },
   {
    "duration": 6578,
    "start_time": "2024-03-13T18:23:42.953Z"
   },
   {
    "duration": 0,
    "start_time": "2024-03-13T18:23:49.535Z"
   },
   {
    "duration": 0,
    "start_time": "2024-03-13T18:23:49.536Z"
   },
   {
    "duration": 0,
    "start_time": "2024-03-13T18:23:49.538Z"
   },
   {
    "duration": 0,
    "start_time": "2024-03-13T18:23:49.540Z"
   },
   {
    "duration": 0,
    "start_time": "2024-03-13T18:23:49.542Z"
   },
   {
    "duration": 0,
    "start_time": "2024-03-13T18:23:49.543Z"
   },
   {
    "duration": 0,
    "start_time": "2024-03-13T18:23:49.544Z"
   },
   {
    "duration": 0,
    "start_time": "2024-03-13T18:23:49.545Z"
   },
   {
    "duration": 0,
    "start_time": "2024-03-13T18:23:49.546Z"
   },
   {
    "duration": 0,
    "start_time": "2024-03-13T18:23:49.548Z"
   },
   {
    "duration": 0,
    "start_time": "2024-03-13T18:23:49.550Z"
   },
   {
    "duration": 0,
    "start_time": "2024-03-13T18:23:49.551Z"
   },
   {
    "duration": 0,
    "start_time": "2024-03-13T18:23:49.553Z"
   },
   {
    "duration": 0,
    "start_time": "2024-03-13T18:23:49.554Z"
   },
   {
    "duration": 0,
    "start_time": "2024-03-13T18:23:49.555Z"
   },
   {
    "duration": 0,
    "start_time": "2024-03-13T18:23:49.556Z"
   },
   {
    "duration": 0,
    "start_time": "2024-03-13T18:23:49.557Z"
   },
   {
    "duration": 0,
    "start_time": "2024-03-13T18:23:49.558Z"
   },
   {
    "duration": 0,
    "start_time": "2024-03-13T18:23:49.559Z"
   },
   {
    "duration": 0,
    "start_time": "2024-03-13T18:23:49.561Z"
   },
   {
    "duration": 0,
    "start_time": "2024-03-13T18:23:49.562Z"
   },
   {
    "duration": 0,
    "start_time": "2024-03-13T18:23:49.563Z"
   },
   {
    "duration": 0,
    "start_time": "2024-03-13T18:23:49.565Z"
   },
   {
    "duration": 0,
    "start_time": "2024-03-13T18:23:49.566Z"
   },
   {
    "duration": 0,
    "start_time": "2024-03-13T18:23:49.567Z"
   },
   {
    "duration": 0,
    "start_time": "2024-03-13T18:23:49.568Z"
   },
   {
    "duration": 0,
    "start_time": "2024-03-13T18:23:49.622Z"
   },
   {
    "duration": 0,
    "start_time": "2024-03-13T18:23:49.624Z"
   },
   {
    "duration": 0,
    "start_time": "2024-03-13T18:23:49.625Z"
   },
   {
    "duration": 0,
    "start_time": "2024-03-13T18:23:49.626Z"
   },
   {
    "duration": 0,
    "start_time": "2024-03-13T18:23:49.627Z"
   },
   {
    "duration": 0,
    "start_time": "2024-03-13T18:23:49.628Z"
   },
   {
    "duration": 0,
    "start_time": "2024-03-13T18:23:49.629Z"
   },
   {
    "duration": 0,
    "start_time": "2024-03-13T18:23:49.630Z"
   },
   {
    "duration": 0,
    "start_time": "2024-03-13T18:23:49.631Z"
   },
   {
    "duration": 0,
    "start_time": "2024-03-13T18:23:49.633Z"
   },
   {
    "duration": 1,
    "start_time": "2024-03-13T18:23:49.633Z"
   },
   {
    "duration": 0,
    "start_time": "2024-03-13T18:23:49.635Z"
   },
   {
    "duration": 0,
    "start_time": "2024-03-13T18:23:49.636Z"
   },
   {
    "duration": 0,
    "start_time": "2024-03-13T18:23:49.637Z"
   },
   {
    "duration": 0,
    "start_time": "2024-03-13T18:23:49.638Z"
   },
   {
    "duration": 0,
    "start_time": "2024-03-13T18:23:49.639Z"
   },
   {
    "duration": 0,
    "start_time": "2024-03-13T18:23:49.640Z"
   },
   {
    "duration": 0,
    "start_time": "2024-03-13T18:23:49.641Z"
   },
   {
    "duration": 0,
    "start_time": "2024-03-13T18:23:49.642Z"
   },
   {
    "duration": 3256,
    "start_time": "2024-03-13T18:25:26.625Z"
   },
   {
    "duration": 3218,
    "start_time": "2024-03-13T18:25:29.885Z"
   },
   {
    "duration": 6519,
    "start_time": "2024-03-13T18:25:33.105Z"
   },
   {
    "duration": 10184,
    "start_time": "2024-03-13T18:25:39.626Z"
   },
   {
    "duration": 6696,
    "start_time": "2024-03-13T18:25:49.813Z"
   },
   {
    "duration": 0,
    "start_time": "2024-03-13T18:25:56.513Z"
   },
   {
    "duration": 0,
    "start_time": "2024-03-13T18:25:56.514Z"
   },
   {
    "duration": 0,
    "start_time": "2024-03-13T18:25:56.516Z"
   },
   {
    "duration": 0,
    "start_time": "2024-03-13T18:25:56.517Z"
   },
   {
    "duration": 0,
    "start_time": "2024-03-13T18:25:56.518Z"
   },
   {
    "duration": 0,
    "start_time": "2024-03-13T18:25:56.518Z"
   },
   {
    "duration": 0,
    "start_time": "2024-03-13T18:25:56.519Z"
   },
   {
    "duration": 0,
    "start_time": "2024-03-13T18:25:56.519Z"
   },
   {
    "duration": 0,
    "start_time": "2024-03-13T18:25:56.520Z"
   },
   {
    "duration": 0,
    "start_time": "2024-03-13T18:25:56.523Z"
   },
   {
    "duration": 0,
    "start_time": "2024-03-13T18:25:56.524Z"
   },
   {
    "duration": 0,
    "start_time": "2024-03-13T18:25:56.526Z"
   },
   {
    "duration": 0,
    "start_time": "2024-03-13T18:25:56.527Z"
   },
   {
    "duration": 0,
    "start_time": "2024-03-13T18:25:56.528Z"
   },
   {
    "duration": 0,
    "start_time": "2024-03-13T18:25:56.529Z"
   },
   {
    "duration": 0,
    "start_time": "2024-03-13T18:25:56.530Z"
   },
   {
    "duration": 0,
    "start_time": "2024-03-13T18:25:56.531Z"
   },
   {
    "duration": 0,
    "start_time": "2024-03-13T18:25:56.533Z"
   },
   {
    "duration": 0,
    "start_time": "2024-03-13T18:25:56.534Z"
   },
   {
    "duration": 0,
    "start_time": "2024-03-13T18:25:56.535Z"
   },
   {
    "duration": 0,
    "start_time": "2024-03-13T18:25:56.535Z"
   },
   {
    "duration": 0,
    "start_time": "2024-03-13T18:25:56.536Z"
   },
   {
    "duration": 0,
    "start_time": "2024-03-13T18:25:56.537Z"
   },
   {
    "duration": 0,
    "start_time": "2024-03-13T18:25:56.538Z"
   },
   {
    "duration": 0,
    "start_time": "2024-03-13T18:25:56.540Z"
   },
   {
    "duration": 0,
    "start_time": "2024-03-13T18:25:56.541Z"
   },
   {
    "duration": 0,
    "start_time": "2024-03-13T18:25:56.542Z"
   },
   {
    "duration": 0,
    "start_time": "2024-03-13T18:25:56.543Z"
   },
   {
    "duration": 0,
    "start_time": "2024-03-13T18:25:56.544Z"
   },
   {
    "duration": 0,
    "start_time": "2024-03-13T18:25:56.545Z"
   },
   {
    "duration": 0,
    "start_time": "2024-03-13T18:25:56.546Z"
   },
   {
    "duration": 0,
    "start_time": "2024-03-13T18:25:56.548Z"
   },
   {
    "duration": 0,
    "start_time": "2024-03-13T18:25:56.549Z"
   },
   {
    "duration": 0,
    "start_time": "2024-03-13T18:25:56.551Z"
   },
   {
    "duration": 0,
    "start_time": "2024-03-13T18:25:56.553Z"
   },
   {
    "duration": 0,
    "start_time": "2024-03-13T18:25:56.554Z"
   },
   {
    "duration": 0,
    "start_time": "2024-03-13T18:25:56.555Z"
   },
   {
    "duration": 0,
    "start_time": "2024-03-13T18:25:56.557Z"
   },
   {
    "duration": 0,
    "start_time": "2024-03-13T18:25:56.558Z"
   },
   {
    "duration": 0,
    "start_time": "2024-03-13T18:25:56.560Z"
   },
   {
    "duration": 0,
    "start_time": "2024-03-13T18:25:56.624Z"
   },
   {
    "duration": 0,
    "start_time": "2024-03-13T18:25:56.625Z"
   },
   {
    "duration": 0,
    "start_time": "2024-03-13T18:25:56.627Z"
   },
   {
    "duration": 0,
    "start_time": "2024-03-13T18:25:56.628Z"
   },
   {
    "duration": 0,
    "start_time": "2024-03-13T18:25:56.630Z"
   },
   {
    "duration": 7962,
    "start_time": "2024-03-13T18:27:33.847Z"
   },
   {
    "duration": 3104,
    "start_time": "2024-03-13T18:27:53.549Z"
   },
   {
    "duration": 3094,
    "start_time": "2024-03-13T18:27:56.655Z"
   },
   {
    "duration": 4017,
    "start_time": "2024-03-13T18:27:59.751Z"
   },
   {
    "duration": 3639,
    "start_time": "2024-03-13T18:28:03.771Z"
   },
   {
    "duration": 6492,
    "start_time": "2024-03-13T18:28:07.413Z"
   },
   {
    "duration": 0,
    "start_time": "2024-03-13T18:28:13.907Z"
   },
   {
    "duration": 0,
    "start_time": "2024-03-13T18:28:13.909Z"
   },
   {
    "duration": 0,
    "start_time": "2024-03-13T18:28:13.910Z"
   },
   {
    "duration": 0,
    "start_time": "2024-03-13T18:28:13.910Z"
   },
   {
    "duration": 0,
    "start_time": "2024-03-13T18:28:13.911Z"
   },
   {
    "duration": 0,
    "start_time": "2024-03-13T18:28:13.912Z"
   },
   {
    "duration": 0,
    "start_time": "2024-03-13T18:28:13.923Z"
   },
   {
    "duration": 0,
    "start_time": "2024-03-13T18:28:13.924Z"
   },
   {
    "duration": 0,
    "start_time": "2024-03-13T18:28:13.925Z"
   },
   {
    "duration": 0,
    "start_time": "2024-03-13T18:28:13.927Z"
   },
   {
    "duration": 0,
    "start_time": "2024-03-13T18:28:13.928Z"
   },
   {
    "duration": 0,
    "start_time": "2024-03-13T18:28:13.929Z"
   },
   {
    "duration": 0,
    "start_time": "2024-03-13T18:28:13.931Z"
   },
   {
    "duration": 0,
    "start_time": "2024-03-13T18:28:13.932Z"
   },
   {
    "duration": 0,
    "start_time": "2024-03-13T18:28:13.933Z"
   },
   {
    "duration": 0,
    "start_time": "2024-03-13T18:28:13.934Z"
   },
   {
    "duration": 0,
    "start_time": "2024-03-13T18:28:13.935Z"
   },
   {
    "duration": 0,
    "start_time": "2024-03-13T18:28:13.936Z"
   },
   {
    "duration": 0,
    "start_time": "2024-03-13T18:28:13.937Z"
   },
   {
    "duration": 0,
    "start_time": "2024-03-13T18:28:13.938Z"
   },
   {
    "duration": 0,
    "start_time": "2024-03-13T18:28:13.940Z"
   },
   {
    "duration": 0,
    "start_time": "2024-03-13T18:28:13.941Z"
   },
   {
    "duration": 0,
    "start_time": "2024-03-13T18:28:13.942Z"
   },
   {
    "duration": 0,
    "start_time": "2024-03-13T18:28:13.943Z"
   },
   {
    "duration": 0,
    "start_time": "2024-03-13T18:28:13.945Z"
   },
   {
    "duration": 0,
    "start_time": "2024-03-13T18:28:13.946Z"
   },
   {
    "duration": 0,
    "start_time": "2024-03-13T18:28:13.947Z"
   },
   {
    "duration": 0,
    "start_time": "2024-03-13T18:28:13.949Z"
   },
   {
    "duration": 0,
    "start_time": "2024-03-13T18:28:13.950Z"
   },
   {
    "duration": 0,
    "start_time": "2024-03-13T18:28:13.951Z"
   },
   {
    "duration": 0,
    "start_time": "2024-03-13T18:28:13.953Z"
   },
   {
    "duration": 0,
    "start_time": "2024-03-13T18:28:13.954Z"
   },
   {
    "duration": 0,
    "start_time": "2024-03-13T18:28:13.955Z"
   },
   {
    "duration": 0,
    "start_time": "2024-03-13T18:28:13.956Z"
   },
   {
    "duration": 0,
    "start_time": "2024-03-13T18:28:13.957Z"
   },
   {
    "duration": 0,
    "start_time": "2024-03-13T18:28:13.959Z"
   },
   {
    "duration": 0,
    "start_time": "2024-03-13T18:28:13.959Z"
   },
   {
    "duration": 0,
    "start_time": "2024-03-13T18:28:14.023Z"
   },
   {
    "duration": 0,
    "start_time": "2024-03-13T18:28:14.025Z"
   },
   {
    "duration": 0,
    "start_time": "2024-03-13T18:28:14.026Z"
   },
   {
    "duration": 0,
    "start_time": "2024-03-13T18:28:14.027Z"
   },
   {
    "duration": 0,
    "start_time": "2024-03-13T18:28:14.028Z"
   },
   {
    "duration": 0,
    "start_time": "2024-03-13T18:28:14.029Z"
   },
   {
    "duration": 0,
    "start_time": "2024-03-13T18:28:14.029Z"
   },
   {
    "duration": 0,
    "start_time": "2024-03-13T18:28:14.030Z"
   },
   {
    "duration": 3126,
    "start_time": "2024-03-13T18:29:48.600Z"
   },
   {
    "duration": 3126,
    "start_time": "2024-03-13T18:29:51.728Z"
   },
   {
    "duration": 6379,
    "start_time": "2024-03-13T18:29:54.857Z"
   },
   {
    "duration": 3855,
    "start_time": "2024-03-13T18:30:01.239Z"
   },
   {
    "duration": 6670,
    "start_time": "2024-03-13T18:30:05.096Z"
   },
   {
    "duration": 0,
    "start_time": "2024-03-13T18:30:11.770Z"
   },
   {
    "duration": 0,
    "start_time": "2024-03-13T18:30:11.771Z"
   },
   {
    "duration": 0,
    "start_time": "2024-03-13T18:30:11.772Z"
   },
   {
    "duration": 0,
    "start_time": "2024-03-13T18:30:11.773Z"
   },
   {
    "duration": 0,
    "start_time": "2024-03-13T18:30:11.774Z"
   },
   {
    "duration": 0,
    "start_time": "2024-03-13T18:30:11.775Z"
   },
   {
    "duration": 0,
    "start_time": "2024-03-13T18:30:11.776Z"
   },
   {
    "duration": 0,
    "start_time": "2024-03-13T18:30:11.778Z"
   },
   {
    "duration": 0,
    "start_time": "2024-03-13T18:30:11.779Z"
   },
   {
    "duration": 0,
    "start_time": "2024-03-13T18:30:11.779Z"
   },
   {
    "duration": 0,
    "start_time": "2024-03-13T18:30:11.781Z"
   },
   {
    "duration": 0,
    "start_time": "2024-03-13T18:30:11.781Z"
   },
   {
    "duration": 0,
    "start_time": "2024-03-13T18:30:11.782Z"
   },
   {
    "duration": 0,
    "start_time": "2024-03-13T18:30:11.783Z"
   },
   {
    "duration": 0,
    "start_time": "2024-03-13T18:30:11.784Z"
   },
   {
    "duration": 0,
    "start_time": "2024-03-13T18:30:11.785Z"
   },
   {
    "duration": 0,
    "start_time": "2024-03-13T18:30:11.786Z"
   },
   {
    "duration": 0,
    "start_time": "2024-03-13T18:30:11.787Z"
   },
   {
    "duration": 0,
    "start_time": "2024-03-13T18:30:11.788Z"
   },
   {
    "duration": 0,
    "start_time": "2024-03-13T18:30:11.789Z"
   },
   {
    "duration": 0,
    "start_time": "2024-03-13T18:30:11.789Z"
   },
   {
    "duration": 0,
    "start_time": "2024-03-13T18:30:11.790Z"
   },
   {
    "duration": 0,
    "start_time": "2024-03-13T18:30:11.790Z"
   },
   {
    "duration": 0,
    "start_time": "2024-03-13T18:30:11.822Z"
   },
   {
    "duration": 0,
    "start_time": "2024-03-13T18:30:11.824Z"
   },
   {
    "duration": 0,
    "start_time": "2024-03-13T18:30:11.825Z"
   },
   {
    "duration": 0,
    "start_time": "2024-03-13T18:30:11.826Z"
   },
   {
    "duration": 0,
    "start_time": "2024-03-13T18:30:11.827Z"
   },
   {
    "duration": 0,
    "start_time": "2024-03-13T18:30:11.828Z"
   },
   {
    "duration": 0,
    "start_time": "2024-03-13T18:30:11.829Z"
   },
   {
    "duration": 0,
    "start_time": "2024-03-13T18:30:11.830Z"
   },
   {
    "duration": 0,
    "start_time": "2024-03-13T18:30:11.831Z"
   },
   {
    "duration": 0,
    "start_time": "2024-03-13T18:30:11.832Z"
   },
   {
    "duration": 0,
    "start_time": "2024-03-13T18:30:11.833Z"
   },
   {
    "duration": 0,
    "start_time": "2024-03-13T18:30:11.834Z"
   },
   {
    "duration": 0,
    "start_time": "2024-03-13T18:30:11.835Z"
   },
   {
    "duration": 0,
    "start_time": "2024-03-13T18:30:11.836Z"
   },
   {
    "duration": 0,
    "start_time": "2024-03-13T18:30:11.837Z"
   },
   {
    "duration": 0,
    "start_time": "2024-03-13T18:30:11.838Z"
   },
   {
    "duration": 0,
    "start_time": "2024-03-13T18:30:11.839Z"
   },
   {
    "duration": 0,
    "start_time": "2024-03-13T18:30:11.841Z"
   },
   {
    "duration": 0,
    "start_time": "2024-03-13T18:30:11.841Z"
   },
   {
    "duration": 0,
    "start_time": "2024-03-13T18:30:11.842Z"
   },
   {
    "duration": 0,
    "start_time": "2024-03-13T18:30:11.843Z"
   },
   {
    "duration": 0,
    "start_time": "2024-03-13T18:30:11.845Z"
   },
   {
    "duration": 3146,
    "start_time": "2024-03-13T18:35:35.592Z"
   },
   {
    "duration": 3232,
    "start_time": "2024-03-13T18:35:38.741Z"
   },
   {
    "duration": 3788,
    "start_time": "2024-03-13T18:35:41.975Z"
   },
   {
    "duration": 3811,
    "start_time": "2024-03-13T18:35:45.766Z"
   },
   {
    "duration": 5577,
    "start_time": "2024-03-13T18:35:49.580Z"
   },
   {
    "duration": 204,
    "start_time": "2024-03-13T18:35:55.159Z"
   },
   {
    "duration": 4,
    "start_time": "2024-03-13T18:35:55.365Z"
   },
   {
    "duration": 941,
    "start_time": "2024-03-13T18:35:55.370Z"
   },
   {
    "duration": 2,
    "start_time": "2024-03-13T18:35:56.313Z"
   },
   {
    "duration": 10,
    "start_time": "2024-03-13T18:35:56.317Z"
   },
   {
    "duration": 3,
    "start_time": "2024-03-13T18:35:56.329Z"
   },
   {
    "duration": 491,
    "start_time": "2024-03-13T18:35:56.334Z"
   },
   {
    "duration": 119,
    "start_time": "2024-03-13T18:35:56.827Z"
   },
   {
    "duration": 2559,
    "start_time": "2024-03-13T18:35:56.950Z"
   },
   {
    "duration": 531,
    "start_time": "2024-03-13T18:35:59.511Z"
   },
   {
    "duration": 5,
    "start_time": "2024-03-13T18:36:00.044Z"
   },
   {
    "duration": 94,
    "start_time": "2024-03-13T18:36:00.050Z"
   },
   {
    "duration": 178,
    "start_time": "2024-03-13T18:36:00.145Z"
   },
   {
    "duration": 109,
    "start_time": "2024-03-13T18:36:00.325Z"
   },
   {
    "duration": 37,
    "start_time": "2024-03-13T18:36:00.437Z"
   },
   {
    "duration": 7953,
    "start_time": "2024-03-13T18:36:00.475Z"
   },
   {
    "duration": 2,
    "start_time": "2024-03-13T18:36:08.430Z"
   },
   {
    "duration": 4314,
    "start_time": "2024-03-13T18:36:08.434Z"
   },
   {
    "duration": 1461,
    "start_time": "2024-03-13T18:36:12.750Z"
   },
   {
    "duration": 3,
    "start_time": "2024-03-13T18:36:14.213Z"
   },
   {
    "duration": 18,
    "start_time": "2024-03-13T18:36:14.217Z"
   },
   {
    "duration": 10,
    "start_time": "2024-03-13T18:36:14.236Z"
   },
   {
    "duration": 25,
    "start_time": "2024-03-13T18:36:14.247Z"
   },
   {
    "duration": 23,
    "start_time": "2024-03-13T18:36:14.273Z"
   },
   {
    "duration": 10,
    "start_time": "2024-03-13T18:36:14.297Z"
   },
   {
    "duration": 373,
    "start_time": "2024-03-13T18:36:14.309Z"
   },
   {
    "duration": 0,
    "start_time": "2024-03-13T18:36:14.685Z"
   },
   {
    "duration": 0,
    "start_time": "2024-03-13T18:36:14.686Z"
   },
   {
    "duration": 0,
    "start_time": "2024-03-13T18:36:14.687Z"
   },
   {
    "duration": 0,
    "start_time": "2024-03-13T18:36:14.688Z"
   },
   {
    "duration": 0,
    "start_time": "2024-03-13T18:36:14.689Z"
   },
   {
    "duration": 0,
    "start_time": "2024-03-13T18:36:14.690Z"
   },
   {
    "duration": 0,
    "start_time": "2024-03-13T18:36:14.691Z"
   },
   {
    "duration": 0,
    "start_time": "2024-03-13T18:36:14.692Z"
   },
   {
    "duration": 0,
    "start_time": "2024-03-13T18:36:14.693Z"
   },
   {
    "duration": 0,
    "start_time": "2024-03-13T18:36:14.694Z"
   },
   {
    "duration": 0,
    "start_time": "2024-03-13T18:36:14.695Z"
   },
   {
    "duration": 0,
    "start_time": "2024-03-13T18:36:14.696Z"
   },
   {
    "duration": 0,
    "start_time": "2024-03-13T18:36:14.697Z"
   },
   {
    "duration": 0,
    "start_time": "2024-03-13T18:36:14.723Z"
   },
   {
    "duration": 0,
    "start_time": "2024-03-13T18:36:14.724Z"
   },
   {
    "duration": 0,
    "start_time": "2024-03-13T18:36:14.725Z"
   },
   {
    "duration": 0,
    "start_time": "2024-03-13T18:36:14.726Z"
   },
   {
    "duration": 0,
    "start_time": "2024-03-13T18:36:14.727Z"
   },
   {
    "duration": 0,
    "start_time": "2024-03-13T18:36:14.728Z"
   },
   {
    "duration": 3394,
    "start_time": "2024-03-13T18:37:39.016Z"
   },
   {
    "duration": 3234,
    "start_time": "2024-03-13T18:37:42.412Z"
   },
   {
    "duration": 3959,
    "start_time": "2024-03-13T18:37:45.648Z"
   },
   {
    "duration": 3759,
    "start_time": "2024-03-13T18:37:49.610Z"
   },
   {
    "duration": 5968,
    "start_time": "2024-03-13T18:37:53.372Z"
   },
   {
    "duration": 215,
    "start_time": "2024-03-13T18:37:59.342Z"
   },
   {
    "duration": 11,
    "start_time": "2024-03-13T18:37:59.559Z"
   },
   {
    "duration": 927,
    "start_time": "2024-03-13T18:37:59.572Z"
   },
   {
    "duration": 3,
    "start_time": "2024-03-13T18:38:00.501Z"
   },
   {
    "duration": 71,
    "start_time": "2024-03-13T18:38:00.507Z"
   },
   {
    "duration": 33,
    "start_time": "2024-03-13T18:38:00.580Z"
   },
   {
    "duration": 534,
    "start_time": "2024-03-13T18:38:00.615Z"
   },
   {
    "duration": 126,
    "start_time": "2024-03-13T18:38:01.151Z"
   },
   {
    "duration": 2426,
    "start_time": "2024-03-13T18:38:01.279Z"
   },
   {
    "duration": 506,
    "start_time": "2024-03-13T18:38:03.707Z"
   },
   {
    "duration": 10,
    "start_time": "2024-03-13T18:38:04.215Z"
   },
   {
    "duration": 33,
    "start_time": "2024-03-13T18:38:04.226Z"
   },
   {
    "duration": 138,
    "start_time": "2024-03-13T18:38:04.261Z"
   },
   {
    "duration": 59,
    "start_time": "2024-03-13T18:38:04.401Z"
   },
   {
    "duration": 2,
    "start_time": "2024-03-13T18:38:04.463Z"
   },
   {
    "duration": 7781,
    "start_time": "2024-03-13T18:38:04.467Z"
   },
   {
    "duration": 3,
    "start_time": "2024-03-13T18:38:12.249Z"
   },
   {
    "duration": 3378,
    "start_time": "2024-03-13T18:38:12.254Z"
   },
   {
    "duration": 1200,
    "start_time": "2024-03-13T18:38:15.634Z"
   },
   {
    "duration": 3,
    "start_time": "2024-03-13T18:38:16.835Z"
   },
   {
    "duration": 4,
    "start_time": "2024-03-13T18:38:16.840Z"
   },
   {
    "duration": 4,
    "start_time": "2024-03-13T18:38:16.845Z"
   },
   {
    "duration": 14,
    "start_time": "2024-03-13T18:38:16.852Z"
   },
   {
    "duration": 3,
    "start_time": "2024-03-13T18:38:16.867Z"
   },
   {
    "duration": 9,
    "start_time": "2024-03-13T18:38:16.871Z"
   },
   {
    "duration": 1551,
    "start_time": "2024-03-13T18:38:16.881Z"
   },
   {
    "duration": 445,
    "start_time": "2024-03-13T18:38:18.434Z"
   },
   {
    "duration": 0,
    "start_time": "2024-03-13T18:38:18.881Z"
   },
   {
    "duration": 0,
    "start_time": "2024-03-13T18:38:18.882Z"
   },
   {
    "duration": 0,
    "start_time": "2024-03-13T18:38:18.883Z"
   },
   {
    "duration": 0,
    "start_time": "2024-03-13T18:38:18.884Z"
   },
   {
    "duration": 0,
    "start_time": "2024-03-13T18:38:18.885Z"
   },
   {
    "duration": 0,
    "start_time": "2024-03-13T18:38:18.886Z"
   },
   {
    "duration": 0,
    "start_time": "2024-03-13T18:38:18.887Z"
   },
   {
    "duration": 0,
    "start_time": "2024-03-13T18:38:18.888Z"
   },
   {
    "duration": 0,
    "start_time": "2024-03-13T18:38:18.889Z"
   },
   {
    "duration": 0,
    "start_time": "2024-03-13T18:38:18.890Z"
   },
   {
    "duration": 0,
    "start_time": "2024-03-13T18:38:18.891Z"
   },
   {
    "duration": 0,
    "start_time": "2024-03-13T18:38:18.892Z"
   },
   {
    "duration": 0,
    "start_time": "2024-03-13T18:38:18.893Z"
   },
   {
    "duration": 0,
    "start_time": "2024-03-13T18:38:18.894Z"
   },
   {
    "duration": 0,
    "start_time": "2024-03-13T18:38:18.895Z"
   },
   {
    "duration": 0,
    "start_time": "2024-03-13T18:38:18.897Z"
   },
   {
    "duration": 0,
    "start_time": "2024-03-13T18:38:18.923Z"
   },
   {
    "duration": 0,
    "start_time": "2024-03-13T18:38:18.924Z"
   },
   {
    "duration": 3119,
    "start_time": "2024-03-13T18:41:53.304Z"
   },
   {
    "duration": 3280,
    "start_time": "2024-03-13T18:41:56.425Z"
   },
   {
    "duration": 4028,
    "start_time": "2024-03-13T18:41:59.707Z"
   },
   {
    "duration": 3915,
    "start_time": "2024-03-13T18:42:03.737Z"
   },
   {
    "duration": 5628,
    "start_time": "2024-03-13T18:42:07.655Z"
   },
   {
    "duration": 200,
    "start_time": "2024-03-13T18:42:13.285Z"
   },
   {
    "duration": 10,
    "start_time": "2024-03-13T18:42:13.487Z"
   },
   {
    "duration": 1003,
    "start_time": "2024-03-13T18:42:13.502Z"
   },
   {
    "duration": 3,
    "start_time": "2024-03-13T18:42:14.507Z"
   },
   {
    "duration": 7,
    "start_time": "2024-03-13T18:42:14.511Z"
   },
   {
    "duration": 9,
    "start_time": "2024-03-13T18:42:14.519Z"
   },
   {
    "duration": 507,
    "start_time": "2024-03-13T18:42:14.529Z"
   },
   {
    "duration": 136,
    "start_time": "2024-03-13T18:42:15.038Z"
   },
   {
    "duration": 2371,
    "start_time": "2024-03-13T18:42:15.177Z"
   },
   {
    "duration": 537,
    "start_time": "2024-03-13T18:42:17.550Z"
   },
   {
    "duration": 4,
    "start_time": "2024-03-13T18:42:18.090Z"
   },
   {
    "duration": 39,
    "start_time": "2024-03-13T18:42:18.096Z"
   },
   {
    "duration": 258,
    "start_time": "2024-03-13T18:42:18.136Z"
   },
   {
    "duration": 61,
    "start_time": "2024-03-13T18:42:18.396Z"
   },
   {
    "duration": 3,
    "start_time": "2024-03-13T18:42:18.459Z"
   },
   {
    "duration": 7766,
    "start_time": "2024-03-13T18:42:18.464Z"
   },
   {
    "duration": 3,
    "start_time": "2024-03-13T18:42:26.232Z"
   },
   {
    "duration": 3208,
    "start_time": "2024-03-13T18:42:26.236Z"
   },
   {
    "duration": 1191,
    "start_time": "2024-03-13T18:42:29.446Z"
   },
   {
    "duration": 3,
    "start_time": "2024-03-13T18:42:30.640Z"
   },
   {
    "duration": 95,
    "start_time": "2024-03-13T18:42:30.645Z"
   },
   {
    "duration": 79,
    "start_time": "2024-03-13T18:42:30.743Z"
   },
   {
    "duration": 95,
    "start_time": "2024-03-13T18:42:30.823Z"
   },
   {
    "duration": 34,
    "start_time": "2024-03-13T18:42:30.920Z"
   },
   {
    "duration": 47,
    "start_time": "2024-03-13T18:42:30.956Z"
   },
   {
    "duration": 1464,
    "start_time": "2024-03-13T18:42:31.005Z"
   },
   {
    "duration": 3190,
    "start_time": "2024-03-13T18:44:10.682Z"
   },
   {
    "duration": 3190,
    "start_time": "2024-03-13T18:44:13.875Z"
   },
   {
    "duration": 3886,
    "start_time": "2024-03-13T18:44:17.067Z"
   },
   {
    "duration": 3732,
    "start_time": "2024-03-13T18:44:20.956Z"
   },
   {
    "duration": 8277,
    "start_time": "2024-03-13T18:44:24.691Z"
   },
   {
    "duration": 215,
    "start_time": "2024-03-13T18:44:32.970Z"
   },
   {
    "duration": 71,
    "start_time": "2024-03-13T18:44:33.187Z"
   },
   {
    "duration": 2476,
    "start_time": "2024-03-13T18:44:33.259Z"
   },
   {
    "duration": 3,
    "start_time": "2024-03-13T18:44:35.736Z"
   },
   {
    "duration": 13,
    "start_time": "2024-03-13T18:44:35.742Z"
   },
   {
    "duration": 28,
    "start_time": "2024-03-13T18:44:35.757Z"
   },
   {
    "duration": 539,
    "start_time": "2024-03-13T18:44:35.787Z"
   },
   {
    "duration": 144,
    "start_time": "2024-03-13T18:44:36.327Z"
   },
   {
    "duration": 2480,
    "start_time": "2024-03-13T18:44:36.473Z"
   },
   {
    "duration": 511,
    "start_time": "2024-03-13T18:44:38.955Z"
   },
   {
    "duration": 4,
    "start_time": "2024-03-13T18:44:39.468Z"
   },
   {
    "duration": 34,
    "start_time": "2024-03-13T18:44:39.473Z"
   },
   {
    "duration": 171,
    "start_time": "2024-03-13T18:44:39.509Z"
   },
   {
    "duration": 64,
    "start_time": "2024-03-13T18:44:39.682Z"
   },
   {
    "duration": 3,
    "start_time": "2024-03-13T18:44:39.748Z"
   },
   {
    "duration": 7954,
    "start_time": "2024-03-13T18:44:39.753Z"
   },
   {
    "duration": 3,
    "start_time": "2024-03-13T18:44:47.709Z"
   },
   {
    "duration": 3298,
    "start_time": "2024-03-13T18:44:47.713Z"
   },
   {
    "duration": 1162,
    "start_time": "2024-03-13T18:44:51.013Z"
   },
   {
    "duration": 3,
    "start_time": "2024-03-13T18:44:52.176Z"
   },
   {
    "duration": 16,
    "start_time": "2024-03-13T18:44:52.181Z"
   },
   {
    "duration": 12,
    "start_time": "2024-03-13T18:44:52.199Z"
   },
   {
    "duration": 40,
    "start_time": "2024-03-13T18:44:52.215Z"
   },
   {
    "duration": 3,
    "start_time": "2024-03-13T18:44:52.256Z"
   },
   {
    "duration": 17,
    "start_time": "2024-03-13T18:44:52.261Z"
   },
   {
    "duration": 1452,
    "start_time": "2024-03-13T18:44:52.280Z"
   },
   {
    "duration": 3516,
    "start_time": "2024-03-13T19:23:02.622Z"
   },
   {
    "duration": 3149,
    "start_time": "2024-03-13T19:23:06.141Z"
   },
   {
    "duration": 3913,
    "start_time": "2024-03-13T19:23:09.293Z"
   },
   {
    "duration": 3798,
    "start_time": "2024-03-13T19:23:13.209Z"
   },
   {
    "duration": 8260,
    "start_time": "2024-03-13T19:23:17.010Z"
   },
   {
    "duration": 222,
    "start_time": "2024-03-13T19:23:25.272Z"
   },
   {
    "duration": 20,
    "start_time": "2024-03-13T19:23:25.496Z"
   },
   {
    "duration": 2496,
    "start_time": "2024-03-13T19:23:25.517Z"
   },
   {
    "duration": 3,
    "start_time": "2024-03-13T19:23:28.015Z"
   },
   {
    "duration": 21,
    "start_time": "2024-03-13T19:23:28.020Z"
   },
   {
    "duration": 26,
    "start_time": "2024-03-13T19:23:28.042Z"
   },
   {
    "duration": 575,
    "start_time": "2024-03-13T19:23:28.070Z"
   },
   {
    "duration": 139,
    "start_time": "2024-03-13T19:23:28.647Z"
   },
   {
    "duration": 2672,
    "start_time": "2024-03-13T19:23:28.788Z"
   },
   {
    "duration": 608,
    "start_time": "2024-03-13T19:23:31.461Z"
   },
   {
    "duration": 4,
    "start_time": "2024-03-13T19:23:32.071Z"
   },
   {
    "duration": 74,
    "start_time": "2024-03-13T19:23:32.076Z"
   },
   {
    "duration": 174,
    "start_time": "2024-03-13T19:23:32.151Z"
   },
   {
    "duration": 65,
    "start_time": "2024-03-13T19:23:32.327Z"
   },
   {
    "duration": 12,
    "start_time": "2024-03-13T19:23:32.394Z"
   },
   {
    "duration": 8266,
    "start_time": "2024-03-13T19:23:32.408Z"
   },
   {
    "duration": 3,
    "start_time": "2024-03-13T19:23:40.676Z"
   },
   {
    "duration": 4138,
    "start_time": "2024-03-13T19:23:40.681Z"
   },
   {
    "duration": 3,
    "start_time": "2024-03-13T19:23:44.822Z"
   },
   {
    "duration": 1379,
    "start_time": "2024-03-13T19:23:44.827Z"
   },
   {
    "duration": 3,
    "start_time": "2024-03-13T19:23:46.208Z"
   },
   {
    "duration": 15,
    "start_time": "2024-03-13T19:23:46.212Z"
   },
   {
    "duration": 7,
    "start_time": "2024-03-13T19:23:46.230Z"
   },
   {
    "duration": 21,
    "start_time": "2024-03-13T19:23:46.239Z"
   },
   {
    "duration": 3,
    "start_time": "2024-03-13T19:23:46.262Z"
   },
   {
    "duration": 10,
    "start_time": "2024-03-13T19:23:46.266Z"
   },
   {
    "duration": 1586,
    "start_time": "2024-03-13T19:23:46.278Z"
   },
   {
    "duration": 4,
    "start_time": "2024-03-14T07:20:22.641Z"
   },
   {
    "duration": 4,
    "start_time": "2024-03-14T07:20:22.646Z"
   },
   {
    "duration": 3,
    "start_time": "2024-03-14T07:20:22.651Z"
   },
   {
    "duration": 2,
    "start_time": "2024-03-14T07:20:22.656Z"
   },
   {
    "duration": 4710,
    "start_time": "2024-03-14T07:20:22.660Z"
   },
   {
    "duration": 0,
    "start_time": "2024-03-14T07:20:27.373Z"
   },
   {
    "duration": 0,
    "start_time": "2024-03-14T07:20:27.374Z"
   },
   {
    "duration": 0,
    "start_time": "2024-03-14T07:20:27.375Z"
   },
   {
    "duration": 0,
    "start_time": "2024-03-14T07:20:27.376Z"
   },
   {
    "duration": 0,
    "start_time": "2024-03-14T07:20:27.376Z"
   },
   {
    "duration": 0,
    "start_time": "2024-03-14T07:20:27.378Z"
   },
   {
    "duration": 0,
    "start_time": "2024-03-14T07:20:27.378Z"
   },
   {
    "duration": 0,
    "start_time": "2024-03-14T07:20:27.379Z"
   },
   {
    "duration": 0,
    "start_time": "2024-03-14T07:20:27.380Z"
   },
   {
    "duration": 0,
    "start_time": "2024-03-14T07:20:27.381Z"
   },
   {
    "duration": 0,
    "start_time": "2024-03-14T07:20:27.382Z"
   },
   {
    "duration": 0,
    "start_time": "2024-03-14T07:20:27.383Z"
   },
   {
    "duration": 0,
    "start_time": "2024-03-14T07:20:27.384Z"
   },
   {
    "duration": 0,
    "start_time": "2024-03-14T07:20:27.385Z"
   },
   {
    "duration": 0,
    "start_time": "2024-03-14T07:20:27.386Z"
   },
   {
    "duration": 0,
    "start_time": "2024-03-14T07:20:27.386Z"
   },
   {
    "duration": 0,
    "start_time": "2024-03-14T07:20:27.387Z"
   },
   {
    "duration": 0,
    "start_time": "2024-03-14T07:20:27.388Z"
   },
   {
    "duration": 0,
    "start_time": "2024-03-14T07:20:27.389Z"
   },
   {
    "duration": 0,
    "start_time": "2024-03-14T07:20:27.390Z"
   },
   {
    "duration": 0,
    "start_time": "2024-03-14T07:20:27.391Z"
   },
   {
    "duration": 0,
    "start_time": "2024-03-14T07:20:27.392Z"
   },
   {
    "duration": 0,
    "start_time": "2024-03-14T07:20:27.393Z"
   },
   {
    "duration": 0,
    "start_time": "2024-03-14T07:20:27.394Z"
   },
   {
    "duration": 0,
    "start_time": "2024-03-14T07:20:27.395Z"
   },
   {
    "duration": 0,
    "start_time": "2024-03-14T07:20:27.395Z"
   },
   {
    "duration": 0,
    "start_time": "2024-03-14T07:20:27.396Z"
   },
   {
    "duration": 0,
    "start_time": "2024-03-14T07:20:27.397Z"
   },
   {
    "duration": 0,
    "start_time": "2024-03-14T07:20:27.398Z"
   },
   {
    "duration": 0,
    "start_time": "2024-03-14T07:20:27.399Z"
   },
   {
    "duration": 0,
    "start_time": "2024-03-14T07:20:27.400Z"
   },
   {
    "duration": 0,
    "start_time": "2024-03-14T07:20:27.401Z"
   },
   {
    "duration": 0,
    "start_time": "2024-03-14T07:20:27.401Z"
   },
   {
    "duration": 0,
    "start_time": "2024-03-14T07:20:27.402Z"
   },
   {
    "duration": 0,
    "start_time": "2024-03-14T07:20:27.403Z"
   },
   {
    "duration": 0,
    "start_time": "2024-03-14T07:20:27.405Z"
   },
   {
    "duration": 0,
    "start_time": "2024-03-14T07:20:27.405Z"
   },
   {
    "duration": 0,
    "start_time": "2024-03-14T07:20:27.407Z"
   },
   {
    "duration": 0,
    "start_time": "2024-03-14T07:20:27.408Z"
   },
   {
    "duration": 0,
    "start_time": "2024-03-14T07:20:27.409Z"
   },
   {
    "duration": 0,
    "start_time": "2024-03-14T07:20:27.410Z"
   },
   {
    "duration": 0,
    "start_time": "2024-03-14T07:20:27.411Z"
   },
   {
    "duration": 15194,
    "start_time": "2024-03-14T07:21:55.178Z"
   },
   {
    "duration": 3,
    "start_time": "2024-03-14T07:22:10.375Z"
   },
   {
    "duration": 6,
    "start_time": "2024-03-14T07:22:10.380Z"
   },
   {
    "duration": 5518,
    "start_time": "2024-03-14T07:22:10.388Z"
   },
   {
    "duration": 8,
    "start_time": "2024-03-14T07:22:15.908Z"
   },
   {
    "duration": 23,
    "start_time": "2024-03-14T07:22:15.917Z"
   },
   {
    "duration": 2323,
    "start_time": "2024-03-14T07:22:15.941Z"
   },
   {
    "duration": 2,
    "start_time": "2024-03-14T07:22:18.266Z"
   },
   {
    "duration": 16,
    "start_time": "2024-03-14T07:22:18.270Z"
   },
   {
    "duration": 14,
    "start_time": "2024-03-14T07:22:18.289Z"
   },
   {
    "duration": 447,
    "start_time": "2024-03-14T07:22:18.305Z"
   },
   {
    "duration": 104,
    "start_time": "2024-03-14T07:22:18.753Z"
   },
   {
    "duration": 2066,
    "start_time": "2024-03-14T07:22:18.864Z"
   },
   {
    "duration": 678,
    "start_time": "2024-03-14T07:22:20.932Z"
   },
   {
    "duration": 4,
    "start_time": "2024-03-14T07:22:21.612Z"
   },
   {
    "duration": 37,
    "start_time": "2024-03-14T07:22:21.618Z"
   },
   {
    "duration": 138,
    "start_time": "2024-03-14T07:22:21.657Z"
   },
   {
    "duration": 65,
    "start_time": "2024-03-14T07:22:21.797Z"
   },
   {
    "duration": 3,
    "start_time": "2024-03-14T07:22:21.864Z"
   },
   {
    "duration": 7205,
    "start_time": "2024-03-14T07:22:21.868Z"
   },
   {
    "duration": 3,
    "start_time": "2024-03-14T07:22:29.074Z"
   },
   {
    "duration": 25,
    "start_time": "2024-03-14T07:22:29.078Z"
   },
   {
    "duration": 1509879,
    "start_time": "2024-03-14T07:22:29.104Z"
   },
   {
    "duration": 82,
    "start_time": "2024-03-14T07:47:38.985Z"
   },
   {
    "duration": 7,
    "start_time": "2024-03-14T07:47:39.068Z"
   },
   {
    "duration": 3,
    "start_time": "2024-03-14T07:47:39.077Z"
   },
   {
    "duration": 35,
    "start_time": "2024-03-14T07:47:39.082Z"
   },
   {
    "duration": 585352,
    "start_time": "2024-03-14T07:47:39.164Z"
   },
   {
    "duration": 5,
    "start_time": "2024-03-14T07:57:24.518Z"
   },
   {
    "duration": 12,
    "start_time": "2024-03-14T07:57:24.524Z"
   },
   {
    "duration": 9,
    "start_time": "2024-03-14T07:57:24.537Z"
   },
   {
    "duration": 30,
    "start_time": "2024-03-14T07:57:24.547Z"
   },
   {
    "duration": 4955,
    "start_time": "2024-03-14T07:57:24.579Z"
   },
   {
    "duration": 2,
    "start_time": "2024-03-14T07:57:29.536Z"
   },
   {
    "duration": 1640,
    "start_time": "2024-03-14T07:57:29.540Z"
   },
   {
    "duration": 2,
    "start_time": "2024-03-14T07:57:31.182Z"
   },
   {
    "duration": 70,
    "start_time": "2024-03-14T07:57:31.185Z"
   },
   {
    "duration": 2218,
    "start_time": "2024-03-14T07:57:31.257Z"
   },
   {
    "duration": 47,
    "start_time": "2024-03-14T08:11:01.297Z"
   },
   {
    "duration": 2963,
    "start_time": "2024-03-14T08:13:54.708Z"
   },
   {
    "duration": 4,
    "start_time": "2024-03-14T08:13:57.673Z"
   },
   {
    "duration": 7,
    "start_time": "2024-03-14T08:13:57.678Z"
   },
   {
    "duration": 7287,
    "start_time": "2024-03-14T08:13:57.687Z"
   },
   {
    "duration": 8,
    "start_time": "2024-03-14T08:14:04.975Z"
   },
   {
    "duration": 10,
    "start_time": "2024-03-14T08:14:04.984Z"
   },
   {
    "duration": 2325,
    "start_time": "2024-03-14T08:14:04.995Z"
   },
   {
    "duration": 2,
    "start_time": "2024-03-14T08:14:07.322Z"
   },
   {
    "duration": 19,
    "start_time": "2024-03-14T08:14:07.326Z"
   },
   {
    "duration": 16,
    "start_time": "2024-03-14T08:14:07.348Z"
   },
   {
    "duration": 508,
    "start_time": "2024-03-14T08:14:07.365Z"
   },
   {
    "duration": 109,
    "start_time": "2024-03-14T08:14:07.875Z"
   },
   {
    "duration": 2154,
    "start_time": "2024-03-14T08:14:07.986Z"
   },
   {
    "duration": 680,
    "start_time": "2024-03-14T08:14:10.142Z"
   },
   {
    "duration": 4,
    "start_time": "2024-03-14T08:14:10.824Z"
   },
   {
    "duration": 42,
    "start_time": "2024-03-14T08:14:10.829Z"
   },
   {
    "duration": 135,
    "start_time": "2024-03-14T08:14:10.872Z"
   },
   {
    "duration": 57,
    "start_time": "2024-03-14T08:14:11.009Z"
   },
   {
    "duration": 3,
    "start_time": "2024-03-14T08:14:11.067Z"
   },
   {
    "duration": 7313,
    "start_time": "2024-03-14T08:14:11.072Z"
   },
   {
    "duration": 3,
    "start_time": "2024-03-14T08:14:18.386Z"
   },
   {
    "duration": 34,
    "start_time": "2024-03-14T08:14:18.391Z"
   },
   {
    "duration": 1231746,
    "start_time": "2024-03-14T08:14:18.426Z"
   },
   {
    "duration": 3,
    "start_time": "2024-03-14T08:34:50.266Z"
   },
   {
    "duration": 5,
    "start_time": "2024-03-14T08:34:50.271Z"
   },
   {
    "duration": 7,
    "start_time": "2024-03-14T08:34:50.277Z"
   },
   {
    "duration": 22,
    "start_time": "2024-03-14T08:34:50.285Z"
   },
   {
    "duration": 880272,
    "start_time": "2024-03-14T08:34:50.310Z"
   },
   {
    "duration": 4,
    "start_time": "2024-03-14T08:49:30.584Z"
   },
   {
    "duration": 44,
    "start_time": "2024-03-14T08:49:30.589Z"
   },
   {
    "duration": 43,
    "start_time": "2024-03-14T08:49:30.634Z"
   },
   {
    "duration": 47,
    "start_time": "2024-03-14T08:49:30.679Z"
   },
   {
    "duration": 3272,
    "start_time": "2024-03-14T08:49:30.727Z"
   },
   {
    "duration": 2,
    "start_time": "2024-03-14T08:49:34.001Z"
   },
   {
    "duration": 1224,
    "start_time": "2024-03-14T08:49:34.005Z"
   },
   {
    "duration": 3,
    "start_time": "2024-03-14T08:49:35.231Z"
   },
   {
    "duration": 13,
    "start_time": "2024-03-14T08:49:35.235Z"
   },
   {
    "duration": 2095,
    "start_time": "2024-03-14T08:49:35.250Z"
   },
   {
    "duration": 2975,
    "start_time": "2024-03-14T11:39:01.973Z"
   },
   {
    "duration": 2,
    "start_time": "2024-03-14T11:39:04.950Z"
   },
   {
    "duration": 29,
    "start_time": "2024-03-14T11:39:04.954Z"
   },
   {
    "duration": 6356,
    "start_time": "2024-03-14T11:39:04.985Z"
   },
   {
    "duration": 8,
    "start_time": "2024-03-14T11:39:11.342Z"
   },
   {
    "duration": 5,
    "start_time": "2024-03-14T11:39:11.351Z"
   },
   {
    "duration": 2401,
    "start_time": "2024-03-14T11:39:11.357Z"
   },
   {
    "duration": 3,
    "start_time": "2024-03-14T11:39:13.760Z"
   },
   {
    "duration": 5,
    "start_time": "2024-03-14T11:39:13.764Z"
   },
   {
    "duration": 8,
    "start_time": "2024-03-14T11:39:13.771Z"
   },
   {
    "duration": 464,
    "start_time": "2024-03-14T11:39:13.781Z"
   },
   {
    "duration": 108,
    "start_time": "2024-03-14T11:39:14.246Z"
   },
   {
    "duration": 667,
    "start_time": "2024-03-14T11:39:14.356Z"
   },
   {
    "duration": 4,
    "start_time": "2024-03-14T11:39:15.024Z"
   },
   {
    "duration": 98,
    "start_time": "2024-03-14T11:39:15.029Z"
   },
   {
    "duration": 3,
    "start_time": "2024-03-14T11:39:15.128Z"
   },
   {
    "duration": 68,
    "start_time": "2024-03-14T11:39:15.133Z"
   },
   {
    "duration": 3,
    "start_time": "2024-03-14T11:39:15.203Z"
   },
   {
    "duration": 7161,
    "start_time": "2024-03-14T11:39:15.207Z"
   },
   {
    "duration": 2,
    "start_time": "2024-03-14T11:39:22.370Z"
   },
   {
    "duration": 5,
    "start_time": "2024-03-14T11:39:22.374Z"
   },
   {
    "duration": 1298085,
    "start_time": "2024-03-14T11:39:22.381Z"
   },
   {
    "duration": 4,
    "start_time": "2024-03-14T12:01:00.467Z"
   },
   {
    "duration": 116,
    "start_time": "2024-03-14T12:01:00.473Z"
   },
   {
    "duration": 168,
    "start_time": "2024-03-14T12:01:00.590Z"
   },
   {
    "duration": 49,
    "start_time": "2024-03-14T12:01:00.760Z"
   },
   {
    "duration": 853477,
    "start_time": "2024-03-14T12:01:00.811Z"
   },
   {
    "duration": 4,
    "start_time": "2024-03-14T12:15:14.292Z"
   },
   {
    "duration": 19,
    "start_time": "2024-03-14T12:15:14.297Z"
   },
   {
    "duration": 16,
    "start_time": "2024-03-14T12:15:14.317Z"
   },
   {
    "duration": 22,
    "start_time": "2024-03-14T12:15:14.335Z"
   },
   {
    "duration": 3189,
    "start_time": "2024-03-14T12:15:14.359Z"
   },
   {
    "duration": 3,
    "start_time": "2024-03-14T12:15:17.549Z"
   },
   {
    "duration": 1273,
    "start_time": "2024-03-14T12:15:17.553Z"
   },
   {
    "duration": 3,
    "start_time": "2024-03-14T12:15:18.828Z"
   },
   {
    "duration": 5,
    "start_time": "2024-03-14T12:15:18.832Z"
   },
   {
    "duration": 2097,
    "start_time": "2024-03-14T12:15:18.838Z"
   },
   {
    "duration": 1494,
    "start_time": "2024-03-14T12:15:20.936Z"
   },
   {
    "duration": 41187,
    "start_time": "2024-03-14T12:15:22.432Z"
   },
   {
    "duration": 3,
    "start_time": "2024-03-14T12:16:03.621Z"
   },
   {
    "duration": 6145,
    "start_time": "2024-03-14T12:16:03.625Z"
   },
   {
    "duration": 0,
    "start_time": "2024-03-14T12:16:09.772Z"
   },
   {
    "duration": 0,
    "start_time": "2024-03-14T12:16:09.774Z"
   },
   {
    "duration": 0,
    "start_time": "2024-03-14T12:16:09.775Z"
   },
   {
    "duration": 0,
    "start_time": "2024-03-14T12:16:09.777Z"
   },
   {
    "duration": 3070,
    "start_time": "2024-03-14T12:18:54.127Z"
   },
   {
    "duration": 2,
    "start_time": "2024-03-14T12:18:57.200Z"
   },
   {
    "duration": 3,
    "start_time": "2024-03-14T12:18:57.205Z"
   },
   {
    "duration": 5473,
    "start_time": "2024-03-14T12:18:57.210Z"
   },
   {
    "duration": 8,
    "start_time": "2024-03-14T12:19:02.684Z"
   },
   {
    "duration": 30,
    "start_time": "2024-03-14T12:19:02.694Z"
   },
   {
    "duration": 906,
    "start_time": "2024-03-14T12:19:02.725Z"
   },
   {
    "duration": 3,
    "start_time": "2024-03-14T12:19:03.632Z"
   },
   {
    "duration": 24,
    "start_time": "2024-03-14T12:19:03.636Z"
   },
   {
    "duration": 15,
    "start_time": "2024-03-14T12:19:03.662Z"
   },
   {
    "duration": 495,
    "start_time": "2024-03-14T12:19:03.678Z"
   },
   {
    "duration": 111,
    "start_time": "2024-03-14T12:19:04.175Z"
   },
   {
    "duration": 697,
    "start_time": "2024-03-14T12:19:04.289Z"
   },
   {
    "duration": 3,
    "start_time": "2024-03-14T12:19:04.988Z"
   },
   {
    "duration": 39,
    "start_time": "2024-03-14T12:19:04.993Z"
   },
   {
    "duration": 3,
    "start_time": "2024-03-14T12:19:05.033Z"
   },
   {
    "duration": 85,
    "start_time": "2024-03-14T12:19:05.037Z"
   },
   {
    "duration": 3,
    "start_time": "2024-03-14T12:19:05.123Z"
   },
   {
    "duration": 7088,
    "start_time": "2024-03-14T12:19:05.127Z"
   },
   {
    "duration": 4,
    "start_time": "2024-03-14T12:19:12.216Z"
   },
   {
    "duration": 21,
    "start_time": "2024-03-14T12:19:12.221Z"
   },
   {
    "duration": 1299525,
    "start_time": "2024-03-14T12:19:12.244Z"
   },
   {
    "duration": 4,
    "start_time": "2024-03-14T12:40:51.771Z"
   },
   {
    "duration": 9,
    "start_time": "2024-03-14T12:40:51.777Z"
   },
   {
    "duration": 6,
    "start_time": "2024-03-14T12:40:51.787Z"
   },
   {
    "duration": 4,
    "start_time": "2024-03-14T12:40:51.795Z"
   },
   {
    "duration": 873155,
    "start_time": "2024-03-14T12:40:51.801Z"
   },
   {
    "duration": 8,
    "start_time": "2024-03-14T12:55:24.958Z"
   },
   {
    "duration": 6,
    "start_time": "2024-03-14T12:55:24.967Z"
   },
   {
    "duration": 7,
    "start_time": "2024-03-14T12:55:24.974Z"
   },
   {
    "duration": 13,
    "start_time": "2024-03-14T12:55:24.982Z"
   },
   {
    "duration": 2994,
    "start_time": "2024-03-14T12:55:24.996Z"
   },
   {
    "duration": 3,
    "start_time": "2024-03-14T12:55:27.992Z"
   },
   {
    "duration": 1160,
    "start_time": "2024-03-14T12:55:27.997Z"
   },
   {
    "duration": 2,
    "start_time": "2024-03-14T12:55:29.159Z"
   },
   {
    "duration": 6,
    "start_time": "2024-03-14T12:55:29.163Z"
   },
   {
    "duration": 2099,
    "start_time": "2024-03-14T12:55:29.170Z"
   },
   {
    "duration": 1460,
    "start_time": "2024-03-14T12:55:31.271Z"
   },
   {
    "duration": 40962,
    "start_time": "2024-03-14T12:55:32.732Z"
   },
   {
    "duration": 3,
    "start_time": "2024-03-14T12:56:13.698Z"
   },
   {
    "duration": 2012,
    "start_time": "2024-03-14T12:56:13.702Z"
   },
   {
    "duration": 0,
    "start_time": "2024-03-14T12:56:15.716Z"
   },
   {
    "duration": 0,
    "start_time": "2024-03-14T12:56:15.717Z"
   },
   {
    "duration": 0,
    "start_time": "2024-03-14T12:56:15.718Z"
   },
   {
    "duration": 0,
    "start_time": "2024-03-14T12:56:15.719Z"
   }
  ],
  "kernelspec": {
   "display_name": "Python 3 (ipykernel)",
   "language": "python",
   "name": "python3"
  },
  "language_info": {
   "codemirror_mode": {
    "name": "ipython",
    "version": 3
   },
   "file_extension": ".py",
   "mimetype": "text/x-python",
   "name": "python",
   "nbconvert_exporter": "python",
   "pygments_lexer": "ipython3",
   "version": "3.12.0"
  },
  "toc": {
   "base_numbering": 1,
   "nav_menu": {},
   "number_sections": true,
   "sideBar": true,
   "skip_h1_title": true,
   "title_cell": "Содержание",
   "title_sidebar": "Contents",
   "toc_cell": true,
   "toc_position": {
    "height": "calc(100% - 180px)",
    "left": "10px",
    "top": "150px",
    "width": "302.391px"
   },
   "toc_section_display": true,
   "toc_window_display": false
  }
 },
 "nbformat": 4,
 "nbformat_minor": 4
}
