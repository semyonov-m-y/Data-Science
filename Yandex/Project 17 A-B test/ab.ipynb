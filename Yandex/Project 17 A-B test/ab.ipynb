{
 "cells": [
  {
   "cell_type": "markdown",
   "metadata": {},
   "source": [
    "# A/B тестирование \n",
    "\n",
    "Наша задача - провести оценку результатов A/B теста. В нашем распоряжении датасет с действиями пользователей, техническое задание и несколько вспомогательных датасетов. \n",
    "\n",
    "Нам требуется:\n",
    "- оценить корректность проведения теста\n",
    "- проанализировать результаты теста\n",
    "\n",
    "Чтобы оценить корректность, проверим:\n",
    "- пересечение тестовой аудитории с конкурирующим тестом\n",
    "- совпадение теста и маркетинговых событий, другие проблемы временных границ теста\n",
    "\n",
    "Цель исследования - оценка влияния улучшений рекомендательной системы на конверсию. "
   ]
  },
  {
   "cell_type": "markdown",
   "metadata": {},
   "source": [
    "## Техническое задание\n",
    "- Название теста: `recommender_system_test`;\n",
    "- группы: А — контрольная, B — новая платёжная воронка;\n",
    "- дата запуска: 2020-12-07;\n",
    "- дата остановки набора новых пользователей: 2020-12-21;\n",
    "- дата остановки: 2021-01-04;\n",
    "- аудитория: 15% новых пользователей из региона EU;\n",
    "- назначение теста: тестирование изменений, связанных с внедрением улучшенной рекомендательной системы;\n",
    "- ожидаемое количество участников теста: 6000;\n",
    "- ожидаемый эффект: за 14 дней с момента регистрации пользователи покажут улучшение каждой метрики не менее, чем на 10%:\n",
    "  - конверсии в просмотр карточек товаров — событие `product_page`,\n",
    "  - просмотры корзины — `product_cart`,\n",
    "  - покупки — `purchase`."
   ]
  },
  {
   "cell_type": "markdown",
   "metadata": {},
   "source": [
    "## Изучение данных из файлов"
   ]
  },
  {
   "cell_type": "code",
   "execution_count": 1,
   "metadata": {},
   "outputs": [],
   "source": [
    "# импорт библиотек\n",
    "import pandas as pd\n",
    "import numpy as np\n",
    "import matplotlib.pyplot as plt\n",
    "import seaborn as sns\n",
    "from scipy import stats as st\n",
    "import datetime as dt\n",
    "from IPython.display import display_html\n",
    "pd.set_option('display.max_columns', 30)\n",
    "pd.set_option(\"display.float_format\", \"{:.3f}\".format)\n",
    "from statsmodels.stats.proportion import proportions_ztest\n",
    "\n",
    "import warnings\n",
    "warnings.simplefilter('ignore')"
   ]
  },
  {
   "cell_type": "code",
   "execution_count": 2,
   "metadata": {},
   "outputs": [],
   "source": [
    "# чтение файла с данными и сохранение в датафреймы\n",
    "events = pd.read_csv('../../yandex-praktikum-sources/final_ab_events.csv')\n",
    "n_u = pd.read_csv('../../yandex-praktikum-sources/final_ab_new_users.csv')\n",
    "part = pd.read_csv('../../yandex-praktikum-sources/final_ab_participants.csv')\n",
    "m_events = pd.read_csv('../../yandex-praktikum-sources/final_ab_marketing_events.csv')"
   ]
  },
  {
   "cell_type": "code",
   "execution_count": 3,
   "metadata": {
    "scrolled": false
   },
   "outputs": [
    {
     "name": "stdout",
     "output_type": "stream",
     "text": [
      "Название датафрейма events, количество дубликатов 0\n"
     ]
    },
    {
     "data": {
      "text/html": [
       "<div>\n",
       "<style scoped>\n",
       "    .dataframe tbody tr th:only-of-type {\n",
       "        vertical-align: middle;\n",
       "    }\n",
       "\n",
       "    .dataframe tbody tr th {\n",
       "        vertical-align: top;\n",
       "    }\n",
       "\n",
       "    .dataframe thead th {\n",
       "        text-align: right;\n",
       "    }\n",
       "</style>\n",
       "<table border=\"1\" class=\"dataframe\">\n",
       "  <thead>\n",
       "    <tr style=\"text-align: right;\">\n",
       "      <th></th>\n",
       "      <th>user_id</th>\n",
       "      <th>event_dt</th>\n",
       "      <th>event_name</th>\n",
       "      <th>details</th>\n",
       "    </tr>\n",
       "  </thead>\n",
       "  <tbody>\n",
       "    <tr>\n",
       "      <th>0</th>\n",
       "      <td>E1BDDCE0DAFA2679</td>\n",
       "      <td>2020-12-07 20:22:03</td>\n",
       "      <td>purchase</td>\n",
       "      <td>99.990</td>\n",
       "    </tr>\n",
       "    <tr>\n",
       "      <th>1</th>\n",
       "      <td>7B6452F081F49504</td>\n",
       "      <td>2020-12-07 09:22:53</td>\n",
       "      <td>purchase</td>\n",
       "      <td>9.990</td>\n",
       "    </tr>\n",
       "    <tr>\n",
       "      <th>2</th>\n",
       "      <td>9CD9F34546DF254C</td>\n",
       "      <td>2020-12-07 12:59:29</td>\n",
       "      <td>purchase</td>\n",
       "      <td>4.990</td>\n",
       "    </tr>\n",
       "    <tr>\n",
       "      <th>3</th>\n",
       "      <td>96F27A054B191457</td>\n",
       "      <td>2020-12-07 04:02:40</td>\n",
       "      <td>purchase</td>\n",
       "      <td>4.990</td>\n",
       "    </tr>\n",
       "    <tr>\n",
       "      <th>4</th>\n",
       "      <td>1FD7660FDF94CA1F</td>\n",
       "      <td>2020-12-07 10:15:09</td>\n",
       "      <td>purchase</td>\n",
       "      <td>4.990</td>\n",
       "    </tr>\n",
       "  </tbody>\n",
       "</table>\n",
       "</div>"
      ],
      "text/plain": [
       "            user_id             event_dt event_name  details\n",
       "0  E1BDDCE0DAFA2679  2020-12-07 20:22:03   purchase   99.990\n",
       "1  7B6452F081F49504  2020-12-07 09:22:53   purchase    9.990\n",
       "2  9CD9F34546DF254C  2020-12-07 12:59:29   purchase    4.990\n",
       "3  96F27A054B191457  2020-12-07 04:02:40   purchase    4.990\n",
       "4  1FD7660FDF94CA1F  2020-12-07 10:15:09   purchase    4.990"
      ]
     },
     "metadata": {},
     "output_type": "display_data"
    },
    {
     "name": "stdout",
     "output_type": "stream",
     "text": [
      "<class 'pandas.core.frame.DataFrame'>\n",
      "RangeIndex: 440317 entries, 0 to 440316\n",
      "Data columns (total 4 columns):\n",
      " #   Column      Non-Null Count   Dtype  \n",
      "---  ------      --------------   -----  \n",
      " 0   user_id     440317 non-null  object \n",
      " 1   event_dt    440317 non-null  object \n",
      " 2   event_name  440317 non-null  object \n",
      " 3   details     62740 non-null   float64\n",
      "dtypes: float64(1), object(3)\n",
      "memory usage: 13.4+ MB\n"
     ]
    },
    {
     "data": {
      "text/plain": [
       "None"
      ]
     },
     "metadata": {},
     "output_type": "display_data"
    },
    {
     "name": "stdout",
     "output_type": "stream",
     "text": [
      "- - - - - - - - - - - - - - - - - - - - - - - - - - - - - - - - - - - - - - - - - - - - - - - - - - \n",
      "Название датафрейма new users, количество дубликатов 0\n"
     ]
    },
    {
     "data": {
      "text/html": [
       "<div>\n",
       "<style scoped>\n",
       "    .dataframe tbody tr th:only-of-type {\n",
       "        vertical-align: middle;\n",
       "    }\n",
       "\n",
       "    .dataframe tbody tr th {\n",
       "        vertical-align: top;\n",
       "    }\n",
       "\n",
       "    .dataframe thead th {\n",
       "        text-align: right;\n",
       "    }\n",
       "</style>\n",
       "<table border=\"1\" class=\"dataframe\">\n",
       "  <thead>\n",
       "    <tr style=\"text-align: right;\">\n",
       "      <th></th>\n",
       "      <th>user_id</th>\n",
       "      <th>first_date</th>\n",
       "      <th>region</th>\n",
       "      <th>device</th>\n",
       "    </tr>\n",
       "  </thead>\n",
       "  <tbody>\n",
       "    <tr>\n",
       "      <th>0</th>\n",
       "      <td>D72A72121175D8BE</td>\n",
       "      <td>2020-12-07</td>\n",
       "      <td>EU</td>\n",
       "      <td>PC</td>\n",
       "    </tr>\n",
       "    <tr>\n",
       "      <th>1</th>\n",
       "      <td>F1C668619DFE6E65</td>\n",
       "      <td>2020-12-07</td>\n",
       "      <td>N.America</td>\n",
       "      <td>Android</td>\n",
       "    </tr>\n",
       "    <tr>\n",
       "      <th>2</th>\n",
       "      <td>2E1BF1D4C37EA01F</td>\n",
       "      <td>2020-12-07</td>\n",
       "      <td>EU</td>\n",
       "      <td>PC</td>\n",
       "    </tr>\n",
       "    <tr>\n",
       "      <th>3</th>\n",
       "      <td>50734A22C0C63768</td>\n",
       "      <td>2020-12-07</td>\n",
       "      <td>EU</td>\n",
       "      <td>iPhone</td>\n",
       "    </tr>\n",
       "    <tr>\n",
       "      <th>4</th>\n",
       "      <td>E1BDDCE0DAFA2679</td>\n",
       "      <td>2020-12-07</td>\n",
       "      <td>N.America</td>\n",
       "      <td>iPhone</td>\n",
       "    </tr>\n",
       "  </tbody>\n",
       "</table>\n",
       "</div>"
      ],
      "text/plain": [
       "            user_id  first_date     region   device\n",
       "0  D72A72121175D8BE  2020-12-07         EU       PC\n",
       "1  F1C668619DFE6E65  2020-12-07  N.America  Android\n",
       "2  2E1BF1D4C37EA01F  2020-12-07         EU       PC\n",
       "3  50734A22C0C63768  2020-12-07         EU   iPhone\n",
       "4  E1BDDCE0DAFA2679  2020-12-07  N.America   iPhone"
      ]
     },
     "metadata": {},
     "output_type": "display_data"
    },
    {
     "name": "stdout",
     "output_type": "stream",
     "text": [
      "<class 'pandas.core.frame.DataFrame'>\n",
      "RangeIndex: 61733 entries, 0 to 61732\n",
      "Data columns (total 4 columns):\n",
      " #   Column      Non-Null Count  Dtype \n",
      "---  ------      --------------  ----- \n",
      " 0   user_id     61733 non-null  object\n",
      " 1   first_date  61733 non-null  object\n",
      " 2   region      61733 non-null  object\n",
      " 3   device      61733 non-null  object\n",
      "dtypes: object(4)\n",
      "memory usage: 1.9+ MB\n"
     ]
    },
    {
     "data": {
      "text/plain": [
       "None"
      ]
     },
     "metadata": {},
     "output_type": "display_data"
    },
    {
     "name": "stdout",
     "output_type": "stream",
     "text": [
      "- - - - - - - - - - - - - - - - - - - - - - - - - - - - - - - - - - - - - - - - - - - - - - - - - - \n",
      "Название датафрейма participants, количество дубликатов 0\n"
     ]
    },
    {
     "data": {
      "text/html": [
       "<div>\n",
       "<style scoped>\n",
       "    .dataframe tbody tr th:only-of-type {\n",
       "        vertical-align: middle;\n",
       "    }\n",
       "\n",
       "    .dataframe tbody tr th {\n",
       "        vertical-align: top;\n",
       "    }\n",
       "\n",
       "    .dataframe thead th {\n",
       "        text-align: right;\n",
       "    }\n",
       "</style>\n",
       "<table border=\"1\" class=\"dataframe\">\n",
       "  <thead>\n",
       "    <tr style=\"text-align: right;\">\n",
       "      <th></th>\n",
       "      <th>user_id</th>\n",
       "      <th>group</th>\n",
       "      <th>ab_test</th>\n",
       "    </tr>\n",
       "  </thead>\n",
       "  <tbody>\n",
       "    <tr>\n",
       "      <th>0</th>\n",
       "      <td>D1ABA3E2887B6A73</td>\n",
       "      <td>A</td>\n",
       "      <td>recommender_system_test</td>\n",
       "    </tr>\n",
       "    <tr>\n",
       "      <th>1</th>\n",
       "      <td>A7A3664BD6242119</td>\n",
       "      <td>A</td>\n",
       "      <td>recommender_system_test</td>\n",
       "    </tr>\n",
       "    <tr>\n",
       "      <th>2</th>\n",
       "      <td>DABC14FDDFADD29E</td>\n",
       "      <td>A</td>\n",
       "      <td>recommender_system_test</td>\n",
       "    </tr>\n",
       "    <tr>\n",
       "      <th>3</th>\n",
       "      <td>04988C5DF189632E</td>\n",
       "      <td>A</td>\n",
       "      <td>recommender_system_test</td>\n",
       "    </tr>\n",
       "    <tr>\n",
       "      <th>4</th>\n",
       "      <td>482F14783456D21B</td>\n",
       "      <td>B</td>\n",
       "      <td>recommender_system_test</td>\n",
       "    </tr>\n",
       "  </tbody>\n",
       "</table>\n",
       "</div>"
      ],
      "text/plain": [
       "            user_id group                  ab_test\n",
       "0  D1ABA3E2887B6A73     A  recommender_system_test\n",
       "1  A7A3664BD6242119     A  recommender_system_test\n",
       "2  DABC14FDDFADD29E     A  recommender_system_test\n",
       "3  04988C5DF189632E     A  recommender_system_test\n",
       "4  482F14783456D21B     B  recommender_system_test"
      ]
     },
     "metadata": {},
     "output_type": "display_data"
    },
    {
     "name": "stdout",
     "output_type": "stream",
     "text": [
      "<class 'pandas.core.frame.DataFrame'>\n",
      "RangeIndex: 18268 entries, 0 to 18267\n",
      "Data columns (total 3 columns):\n",
      " #   Column   Non-Null Count  Dtype \n",
      "---  ------   --------------  ----- \n",
      " 0   user_id  18268 non-null  object\n",
      " 1   group    18268 non-null  object\n",
      " 2   ab_test  18268 non-null  object\n",
      "dtypes: object(3)\n",
      "memory usage: 428.3+ KB\n"
     ]
    },
    {
     "data": {
      "text/plain": [
       "None"
      ]
     },
     "metadata": {},
     "output_type": "display_data"
    },
    {
     "name": "stdout",
     "output_type": "stream",
     "text": [
      "- - - - - - - - - - - - - - - - - - - - - - - - - - - - - - - - - - - - - - - - - - - - - - - - - - \n",
      "Название датафрейма marketing events, количество дубликатов 0\n"
     ]
    },
    {
     "data": {
      "text/html": [
       "<div>\n",
       "<style scoped>\n",
       "    .dataframe tbody tr th:only-of-type {\n",
       "        vertical-align: middle;\n",
       "    }\n",
       "\n",
       "    .dataframe tbody tr th {\n",
       "        vertical-align: top;\n",
       "    }\n",
       "\n",
       "    .dataframe thead th {\n",
       "        text-align: right;\n",
       "    }\n",
       "</style>\n",
       "<table border=\"1\" class=\"dataframe\">\n",
       "  <thead>\n",
       "    <tr style=\"text-align: right;\">\n",
       "      <th></th>\n",
       "      <th>name</th>\n",
       "      <th>regions</th>\n",
       "      <th>start_dt</th>\n",
       "      <th>finish_dt</th>\n",
       "    </tr>\n",
       "  </thead>\n",
       "  <tbody>\n",
       "    <tr>\n",
       "      <th>0</th>\n",
       "      <td>Christmas&amp;New Year Promo</td>\n",
       "      <td>EU, N.America</td>\n",
       "      <td>2020-12-25</td>\n",
       "      <td>2021-01-03</td>\n",
       "    </tr>\n",
       "    <tr>\n",
       "      <th>1</th>\n",
       "      <td>St. Valentine's Day Giveaway</td>\n",
       "      <td>EU, CIS, APAC, N.America</td>\n",
       "      <td>2020-02-14</td>\n",
       "      <td>2020-02-16</td>\n",
       "    </tr>\n",
       "    <tr>\n",
       "      <th>2</th>\n",
       "      <td>St. Patric's Day Promo</td>\n",
       "      <td>EU, N.America</td>\n",
       "      <td>2020-03-17</td>\n",
       "      <td>2020-03-19</td>\n",
       "    </tr>\n",
       "    <tr>\n",
       "      <th>3</th>\n",
       "      <td>Easter Promo</td>\n",
       "      <td>EU, CIS, APAC, N.America</td>\n",
       "      <td>2020-04-12</td>\n",
       "      <td>2020-04-19</td>\n",
       "    </tr>\n",
       "    <tr>\n",
       "      <th>4</th>\n",
       "      <td>4th of July Promo</td>\n",
       "      <td>N.America</td>\n",
       "      <td>2020-07-04</td>\n",
       "      <td>2020-07-11</td>\n",
       "    </tr>\n",
       "  </tbody>\n",
       "</table>\n",
       "</div>"
      ],
      "text/plain": [
       "                           name                   regions    start_dt  \\\n",
       "0      Christmas&New Year Promo             EU, N.America  2020-12-25   \n",
       "1  St. Valentine's Day Giveaway  EU, CIS, APAC, N.America  2020-02-14   \n",
       "2        St. Patric's Day Promo             EU, N.America  2020-03-17   \n",
       "3                  Easter Promo  EU, CIS, APAC, N.America  2020-04-12   \n",
       "4             4th of July Promo                 N.America  2020-07-04   \n",
       "\n",
       "    finish_dt  \n",
       "0  2021-01-03  \n",
       "1  2020-02-16  \n",
       "2  2020-03-19  \n",
       "3  2020-04-19  \n",
       "4  2020-07-11  "
      ]
     },
     "metadata": {},
     "output_type": "display_data"
    },
    {
     "name": "stdout",
     "output_type": "stream",
     "text": [
      "<class 'pandas.core.frame.DataFrame'>\n",
      "RangeIndex: 14 entries, 0 to 13\n",
      "Data columns (total 4 columns):\n",
      " #   Column     Non-Null Count  Dtype \n",
      "---  ------     --------------  ----- \n",
      " 0   name       14 non-null     object\n",
      " 1   regions    14 non-null     object\n",
      " 2   start_dt   14 non-null     object\n",
      " 3   finish_dt  14 non-null     object\n",
      "dtypes: object(4)\n",
      "memory usage: 576.0+ bytes\n"
     ]
    },
    {
     "data": {
      "text/plain": [
       "None"
      ]
     },
     "metadata": {},
     "output_type": "display_data"
    },
    {
     "name": "stdout",
     "output_type": "stream",
     "text": [
      "- - - - - - - - - - - - - - - - - - - - - - - - - - - - - - - - - - - - - - - - - - - - - - - - - - \n"
     ]
    }
   ],
   "source": [
    "# просмотр информации о таблицах и проверка наличия дубликатов\n",
    "d = {'events' : events, 'new users' : n_u, 'participants' : part, 'marketing events':m_events}\n",
    "for a, i in d.items():\n",
    "    print(f'Название датафрейма {a}, количество дубликатов {i.duplicated().sum()}')\n",
    "    display(i.head())\n",
    "    display(i.info())\n",
    "    print('- ' * 50)"
   ]
  },
  {
   "cell_type": "markdown",
   "metadata": {},
   "source": [
    "Согласно документации к данным:\n",
    "\n",
    "Таблица `final_ab_marketing_events.csv` — календарь маркетинговых событий на 2020 год. <br>\n",
    "Структура файла:\n",
    "- `name` — название маркетингового события;\n",
    "- `regions` — регионы, в которых будет проводиться рекламная кампания;\n",
    "- `start_dt` — дата начала кампании;\n",
    "- `finish_dt` — дата завершения кампании.\n",
    "\n",
    "Таблица `final_ab_new_users.csv` — пользователи, зарегистрировавшиеся с 7 по 21 декабря 2020 года.<br>\n",
    "Структура файла:\n",
    "- `user_id` — идентификатор пользователя;\n",
    "- `first_date` — дата регистрации;\n",
    "- `region` — регион пользователя;\n",
    "- `device` — устройство, с которого происходила регистрация.\n",
    "\n",
    "Таблица `final_ab_events.csv` — действия новых пользователей в период с 7 декабря 2020 по 4 января 2021 года.<br>\n",
    "Структура файла:\n",
    "- `user_id` — идентификатор пользователя;\n",
    "- `event_dt` — дата и время покупки;\n",
    "- `event_name` — тип события;\n",
    "- `details` — дополнительные данные о событии. Например, для покупок, `purchase`, в этом поле хранится стоимость покупки в долларах.\n",
    "\n",
    "Таблица `final_ab_participants.csv` — таблица участников тестов.<br>\n",
    "Структура файла:\n",
    "- `user_id` — идентификатор пользователя;\n",
    "- `ab_test` — название теста;\n",
    "- `group` — группа пользователя.\n",
    "\n",
    "Из просмотра информации о таблицах можно увидеть, что пропуски есть только в таблице `events`, столбце `details`, но так как это поле содержит дополнительную информацию, ничего страшного в пропусках нет. \n",
    "\n",
    "Полных дубликатов в таблицах нет.\n",
    "\n",
    "Столбцы с датами можно преобразовать к временнОму типу данных."
   ]
  },
  {
   "cell_type": "code",
   "execution_count": 4,
   "metadata": {},
   "outputs": [],
   "source": [
    "# преобразование данных о времени\n",
    "events['event_dt'] = pd.to_datetime(events['event_dt'])\n",
    "n_u['first_date'] = pd.to_datetime(n_u['first_date'])\n",
    "m_events['start_dt'] = pd.to_datetime(m_events['start_dt'])\n",
    "m_events['finish_dt'] = pd.to_datetime(m_events['finish_dt'])"
   ]
  },
  {
   "cell_type": "markdown",
   "metadata": {},
   "source": [
    "## Оценка соответствия теста техническому заданию"
   ]
  },
  {
   "cell_type": "markdown",
   "metadata": {},
   "source": [
    "### Время проведения теста\n",
    "\n",
    "Проверим, что во время проведения теста не было иных маркетинговых мероприятий, которые могли бы повлиять на результат."
   ]
  },
  {
   "cell_type": "code",
   "execution_count": 5,
   "metadata": {},
   "outputs": [],
   "source": [
    "# сохраним в переменные временные рамки теста: начало, конец, и конец набора пользователей\n",
    "t_start = dt.date(2020, 12, 7)\n",
    "t_finish = dt.date(2021, 1, 4)\n",
    "reg_finish = dt.date(2020, 12, 21)"
   ]
  },
  {
   "cell_type": "code",
   "execution_count": 6,
   "metadata": {},
   "outputs": [
    {
     "data": {
      "text/html": [
       "<div>\n",
       "<style scoped>\n",
       "    .dataframe tbody tr th:only-of-type {\n",
       "        vertical-align: middle;\n",
       "    }\n",
       "\n",
       "    .dataframe tbody tr th {\n",
       "        vertical-align: top;\n",
       "    }\n",
       "\n",
       "    .dataframe thead th {\n",
       "        text-align: right;\n",
       "    }\n",
       "</style>\n",
       "<table border=\"1\" class=\"dataframe\">\n",
       "  <thead>\n",
       "    <tr style=\"text-align: right;\">\n",
       "      <th></th>\n",
       "      <th>name</th>\n",
       "      <th>regions</th>\n",
       "      <th>start_dt</th>\n",
       "      <th>finish_dt</th>\n",
       "    </tr>\n",
       "  </thead>\n",
       "  <tbody>\n",
       "  </tbody>\n",
       "</table>\n",
       "</div>"
      ],
      "text/plain": [
       "Empty DataFrame\n",
       "Columns: [name, regions, start_dt, finish_dt]\n",
       "Index: []"
      ]
     },
     "execution_count": 6,
     "metadata": {},
     "output_type": "execute_result"
    }
   ],
   "source": [
    "# маркетинговые события от начала до конца набора пользователей\n",
    "m_events.query('not(start_dt > @reg_finish or finish_dt < @t_start)')"
   ]
  },
  {
   "cell_type": "code",
   "execution_count": 7,
   "metadata": {},
   "outputs": [
    {
     "data": {
      "text/html": [
       "<div>\n",
       "<style scoped>\n",
       "    .dataframe tbody tr th:only-of-type {\n",
       "        vertical-align: middle;\n",
       "    }\n",
       "\n",
       "    .dataframe tbody tr th {\n",
       "        vertical-align: top;\n",
       "    }\n",
       "\n",
       "    .dataframe thead th {\n",
       "        text-align: right;\n",
       "    }\n",
       "</style>\n",
       "<table border=\"1\" class=\"dataframe\">\n",
       "  <thead>\n",
       "    <tr style=\"text-align: right;\">\n",
       "      <th></th>\n",
       "      <th>name</th>\n",
       "      <th>regions</th>\n",
       "      <th>start_dt</th>\n",
       "      <th>finish_dt</th>\n",
       "    </tr>\n",
       "  </thead>\n",
       "  <tbody>\n",
       "    <tr>\n",
       "      <th>0</th>\n",
       "      <td>Christmas&amp;New Year Promo</td>\n",
       "      <td>EU, N.America</td>\n",
       "      <td>2020-12-25</td>\n",
       "      <td>2021-01-03</td>\n",
       "    </tr>\n",
       "    <tr>\n",
       "      <th>10</th>\n",
       "      <td>CIS New Year Gift Lottery</td>\n",
       "      <td>CIS</td>\n",
       "      <td>2020-12-30</td>\n",
       "      <td>2021-01-07</td>\n",
       "    </tr>\n",
       "  </tbody>\n",
       "</table>\n",
       "</div>"
      ],
      "text/plain": [
       "                         name        regions   start_dt  finish_dt\n",
       "0    Christmas&New Year Promo  EU, N.America 2020-12-25 2021-01-03\n",
       "10  CIS New Year Gift Lottery            CIS 2020-12-30 2021-01-07"
      ]
     },
     "execution_count": 7,
     "metadata": {},
     "output_type": "execute_result"
    }
   ],
   "source": [
    "# маркетинговые события от начала до конца теста\n",
    "m_events.query('not(start_dt > @t_finish or finish_dt < @t_start)')"
   ]
  },
  {
   "cell_type": "markdown",
   "metadata": {},
   "source": [
    "Во время набора пользователей на тест маркетинговых мероприятий не было, но в период с 25 декабря до 3 января проходили сразу две акции - рождественское и новогоднее промо в Европе и Североной Америке и новогодняя лотерея в СНГ. Возможно, эти акции повлияли на пользователей в последнюю неделю теста. "
   ]
  },
  {
   "cell_type": "markdown",
   "metadata": {},
   "source": [
    "### Выборка участников нужного теста\n",
    "\n",
    "Проверим, участники каких тестов есть в таблице `participants`."
   ]
  },
  {
   "cell_type": "code",
   "execution_count": 8,
   "metadata": {},
   "outputs": [
    {
     "data": {
      "text/plain": [
       "array(['recommender_system_test', 'interface_eu_test'], dtype=object)"
      ]
     },
     "execution_count": 8,
     "metadata": {},
     "output_type": "execute_result"
    }
   ],
   "source": [
    "part['ab_test'].unique()"
   ]
  },
  {
   "cell_type": "markdown",
   "metadata": {},
   "source": [
    "Мы видим, что в таблице участники двух тестов - интересующий нас тест улучшений рекомендательной системы и другой, видимо, тест изменений интерфейса "
   ]
  },
  {
   "cell_type": "code",
   "execution_count": 9,
   "metadata": {},
   "outputs": [
    {
     "name": "stdout",
     "output_type": "stream",
     "text": [
      "Пользователи, участвовавшие сразу в двух тестах: 1602\n",
      "Пользователи, участвовашие только в тесте изменений интерфейса: 9965\n",
      "Пользователи, участвовавшие только в тесте рекомендательной системы: 5099\n"
     ]
    }
   ],
   "source": [
    "# создадим сводную таблицу по уникальным пользователям\n",
    "tests_groups = part.sort_values(by='ab_test').groupby('user_id').agg({'ab_test':['last', 'nunique']}).reset_index()\n",
    "# переименуем столбцы\n",
    "tests_groups.set_axis(['user_id', 'test', 'tests_count'], axis='columns', inplace=True)\n",
    "\n",
    "print(f'Пользователи, участвовавшие сразу в двух тестах: {len(tests_groups.query(\"tests_count == 2\"))}')\n",
    "\n",
    "q = '(test == \"interface_eu_test\") and (tests_count == 1)'\n",
    "print(f'Пользователи, участвовашие только в тесте изменений интерфейса: {len(tests_groups.query(q))}')\n",
    "\n",
    "q = '(test == \"recommender_system_test\") and (tests_count == 1)'\n",
    "print(f'Пользователи, участвовавшие только в тесте рекомендательной системы: {len(tests_groups.query(q))}')"
   ]
  },
  {
   "cell_type": "markdown",
   "metadata": {},
   "source": [
    "Всего таблице 16666 пользователей, из которых 1602 участвовали в обоих тестах, 9965 - в тесте изменений интерфейса и 5099 - в интересующем нас тесте улучшений рекомендаций. 5099 - на 15% меньше, чем ожидаемые 6000.  \n",
    "\n",
    "Можем оставить в тесте тех пользователей, которые были в контрольной группе второго теста и их коснулись только важные для нас изменения.\n",
    "\n",
    "Для дальнейшего анализа отсеем лишних пользователей."
   ]
  },
  {
   "cell_type": "code",
   "execution_count": 10,
   "metadata": {},
   "outputs": [
    {
     "name": "stdout",
     "output_type": "stream",
     "text": [
      "Пользователи, участвовавшие в двух тестах, но в тесте интерфейса попавшие в контрольную группу: 819\n"
     ]
    }
   ],
   "source": [
    "interface_test_a = list(part.query('ab_test==\"interface_eu_test\" and group==\"A\"')['user_id'])\n",
    "q = '(tests_count == 2) and (user_id in @interface_test_a)'\n",
    "print(f'Пользователи, участвовавшие в двух тестах, но в тесте интерфейса попавшие в контрольную группу: {len(tests_groups.query(q))}')"
   ]
  },
  {
   "cell_type": "code",
   "execution_count": 11,
   "metadata": {},
   "outputs": [
    {
     "data": {
      "text/html": [
       "<div>\n",
       "<style scoped>\n",
       "    .dataframe tbody tr th:only-of-type {\n",
       "        vertical-align: middle;\n",
       "    }\n",
       "\n",
       "    .dataframe tbody tr th {\n",
       "        vertical-align: top;\n",
       "    }\n",
       "\n",
       "    .dataframe thead th {\n",
       "        text-align: right;\n",
       "    }\n",
       "</style>\n",
       "<table border=\"1\" class=\"dataframe\">\n",
       "  <thead>\n",
       "    <tr style=\"text-align: right;\">\n",
       "      <th></th>\n",
       "      <th>user_id</th>\n",
       "      <th>group</th>\n",
       "      <th>ab_test</th>\n",
       "    </tr>\n",
       "  </thead>\n",
       "  <tbody>\n",
       "    <tr>\n",
       "      <th>0</th>\n",
       "      <td>D1ABA3E2887B6A73</td>\n",
       "      <td>A</td>\n",
       "      <td>recommender_system_test</td>\n",
       "    </tr>\n",
       "    <tr>\n",
       "      <th>1</th>\n",
       "      <td>A7A3664BD6242119</td>\n",
       "      <td>A</td>\n",
       "      <td>recommender_system_test</td>\n",
       "    </tr>\n",
       "    <tr>\n",
       "      <th>2</th>\n",
       "      <td>DABC14FDDFADD29E</td>\n",
       "      <td>A</td>\n",
       "      <td>recommender_system_test</td>\n",
       "    </tr>\n",
       "    <tr>\n",
       "      <th>3</th>\n",
       "      <td>04988C5DF189632E</td>\n",
       "      <td>A</td>\n",
       "      <td>recommender_system_test</td>\n",
       "    </tr>\n",
       "    <tr>\n",
       "      <th>4</th>\n",
       "      <td>482F14783456D21B</td>\n",
       "      <td>B</td>\n",
       "      <td>recommender_system_test</td>\n",
       "    </tr>\n",
       "  </tbody>\n",
       "</table>\n",
       "</div>"
      ],
      "text/plain": [
       "            user_id group                  ab_test\n",
       "0  D1ABA3E2887B6A73     A  recommender_system_test\n",
       "1  A7A3664BD6242119     A  recommender_system_test\n",
       "2  DABC14FDDFADD29E     A  recommender_system_test\n",
       "3  04988C5DF189632E     A  recommender_system_test\n",
       "4  482F14783456D21B     B  recommender_system_test"
      ]
     },
     "execution_count": 11,
     "metadata": {},
     "output_type": "execute_result"
    }
   ],
   "source": [
    "recom_test_users = list(tests_groups.query('(test == \"recommender_system_test\" and tests_count == 1) or (tests_count == 2) and (user_id in @interface_test_a)')['user_id'])\n",
    "target_users = part.query('user_id in @recom_test_users and ab_test == \"recommender_system_test\"')\n",
    "\n",
    "target_users.head()"
   ]
  },
  {
   "cell_type": "markdown",
   "metadata": {},
   "source": [
    "### Распределение пользователей по группам \n",
    "\n",
    "Проверим, нет ли пользователей, попавших одновременно в обе группы."
   ]
  },
  {
   "cell_type": "code",
   "execution_count": 12,
   "metadata": {},
   "outputs": [
    {
     "name": "stdout",
     "output_type": "stream",
     "text": [
      "Всего уникальных пользователей среди участников теста: 5918\n",
      "Пользователей, попавших в обе группы: 0\n",
      "Доля неверно распределенных пользователей 0.00%\n"
     ]
    }
   ],
   "source": [
    "doubles = target_users.groupby('user_id').agg({'group' : 'nunique', 'ab_test':'nunique'}).reset_index()\n",
    "doubles = doubles[(doubles.ab_test == 1) & (doubles.group == 2)]\n",
    "print(f'Всего уникальных пользователей среди участников теста: {len(target_users[\"user_id\"].unique())}')\n",
    "print(f'Пользователей, попавших в обе группы: {len(doubles)}')\n",
    "print(f'Доля неверно распределенных пользователей {len(doubles) / len(target_users[\"user_id\"].unique()):.2%}')"
   ]
  },
  {
   "cell_type": "markdown",
   "metadata": {},
   "source": [
    "Пользователей, попавших в обе группы, нет. Участники распределены корректно.\n",
    "\n",
    "Проверим также, что пользователи распределены по группам равномерно."
   ]
  },
  {
   "cell_type": "code",
   "execution_count": 13,
   "metadata": {},
   "outputs": [
    {
     "data": {
      "text/html": [
       "<div>\n",
       "<style scoped>\n",
       "    .dataframe tbody tr th:only-of-type {\n",
       "        vertical-align: middle;\n",
       "    }\n",
       "\n",
       "    .dataframe tbody tr th {\n",
       "        vertical-align: top;\n",
       "    }\n",
       "\n",
       "    .dataframe thead th {\n",
       "        text-align: right;\n",
       "    }\n",
       "</style>\n",
       "<table border=\"1\" class=\"dataframe\">\n",
       "  <thead>\n",
       "    <tr style=\"text-align: right;\">\n",
       "      <th></th>\n",
       "      <th>group</th>\n",
       "      <th>user_id</th>\n",
       "      <th>%_total</th>\n",
       "    </tr>\n",
       "  </thead>\n",
       "  <tbody>\n",
       "    <tr>\n",
       "      <th>0</th>\n",
       "      <td>A</td>\n",
       "      <td>3385</td>\n",
       "      <td>0.572</td>\n",
       "    </tr>\n",
       "    <tr>\n",
       "      <th>1</th>\n",
       "      <td>B</td>\n",
       "      <td>2533</td>\n",
       "      <td>0.428</td>\n",
       "    </tr>\n",
       "  </tbody>\n",
       "</table>\n",
       "</div>"
      ],
      "text/plain": [
       "  group  user_id  %_total\n",
       "0     A     3385    0.572\n",
       "1     B     2533    0.428"
      ]
     },
     "execution_count": 13,
     "metadata": {},
     "output_type": "execute_result"
    }
   ],
   "source": [
    "test_parts = target_users.groupby('group').agg({'user_id':'nunique'}).reset_index()\n",
    "test_parts['%_total'] = test_parts['user_id'] / test_parts.user_id.sum()\n",
    "test_parts"
   ]
  },
  {
   "cell_type": "markdown",
   "metadata": {},
   "source": [
    "Распределение не слишком ровное - пользователей в группе А на треть больше, чем в группе B."
   ]
  },
  {
   "cell_type": "markdown",
   "metadata": {},
   "source": [
    "### Распределение пользователей по регионам\n",
    "\n",
    "Проверим, что выполнено условие ТЗ - в тест попали 15% новых пользователей из региона EU. Поделим количество пользователей из Европы, попавших в тест, на общее количество пользователей из Европы, при условии, что дата их регистрации попадает в интервал набора пользователей."
   ]
  },
  {
   "cell_type": "code",
   "execution_count": 14,
   "metadata": {},
   "outputs": [
    {
     "data": {
      "text/plain": [
       "0.13150684931506848"
      ]
     },
     "execution_count": 14,
     "metadata": {},
     "output_type": "execute_result"
    }
   ],
   "source": [
    "(\n",
    "    len(n_u.query('(user_id in @recom_test_users) and (region == \"EU\") and (first_date <= @reg_finish) and (first_date >= @t_start)')) \n",
    "    / len(n_u.query('(region == \"EU\") and (first_date <= @reg_finish) and (first_date >= @t_start)'))\n",
    ")"
   ]
  },
  {
   "cell_type": "markdown",
   "metadata": {},
   "source": [
    "Около 13% новых пользователей из Европы, зарегистрировавшихся с 7 по 21 декабря, попали в тест. Это меньше, чем доля по ТЗ - 15%."
   ]
  },
  {
   "cell_type": "markdown",
   "metadata": {},
   "source": [
    "### Распределение событий по времени"
   ]
  },
  {
   "cell_type": "code",
   "execution_count": 15,
   "metadata": {},
   "outputs": [],
   "source": [
    "events['date'] = events['event_dt'].dt.date"
   ]
  },
  {
   "cell_type": "code",
   "execution_count": 16,
   "metadata": {},
   "outputs": [
    {
     "data": {
      "image/png": "[encoded data removed]",
      "text/plain": [
       "<Figure size 1080x504 with 1 Axes>"
      ]
     },
     "metadata": {
      "needs_background": "light"
     },
     "output_type": "display_data"
    }
   ],
   "source": [
    "plt.figure(figsize=(15, 7))\n",
    "sns.histplot(x='date', data=events, palette='crest')\n",
    "plt.title('Распределение событий по времени')\n",
    "plt.xlabel('Дата')\n",
    "plt.ylabel('Количество событий')\n",
    "plt.show()"
   ]
  },
  {
   "cell_type": "markdown",
   "metadata": {},
   "source": [
    "В целом события распределены равномерно, пик около 21 декабря объясним ажиотажем перед Рождеством. \n",
    "\n",
    "Однако несмотря на то, что окончание теста заявлено 4 января, события в таблице заказчиваются 30 декабря."
   ]
  },
  {
   "cell_type": "markdown",
   "metadata": {},
   "source": [
    "### Выводы \n",
    "\n",
    "Корректность проведения теста можно оценить как не очень высокую. \n",
    "\n",
    "1. Число новых пользователей, участвовавших в тесте, меньше ожидаемого - 5099 вместо 6000;\n",
    "2. Распределение пользователей по группам (контрольной и тестовой) неравномерное, контрольная группа в полтора раза больше тестовой;\n",
    "3. Доля новых пользователей из Европы, попавших в тест - 11% вместо ожидаемых 15%;\n",
    "4. Во время проведения теста проводились маркетинговые кампании, которые могли исказить результаты теста;\n",
    "1. События в собранных данных обрываются раньше озвученного окончания теста.\n",
    "\n",
    "Таким образом, условия, указанные в техническом задании, не выполнены. \n",
    "\n",
    "Проанализировать результаты теста все еще возможно, но оценка результатов, возможно, будет искаженной. "
   ]
  },
  {
   "cell_type": "code",
   "execution_count": 17,
   "metadata": {},
   "outputs": [
    {
     "data": {
      "text/plain": [
       "440317"
      ]
     },
     "execution_count": 17,
     "metadata": {},
     "output_type": "execute_result"
    }
   ],
   "source": [
    "# всего число событий в данных\n",
    "len(events)"
   ]
  },
  {
   "cell_type": "code",
   "execution_count": 18,
   "metadata": {},
   "outputs": [],
   "source": [
    "# присоединим дату первого визита\n",
    "events = events.merge(n_u[['user_id', 'first_date']], on='user_id', how='left')\n",
    "events['date'] = pd.to_datetime(events['date'])\n",
    "# подсчитаем временной промежуток от первого до текущего события\n",
    "events['delta'] = events['date'] - events['first_date']"
   ]
  },
  {
   "cell_type": "code",
   "execution_count": 19,
   "metadata": {},
   "outputs": [
    {
     "data": {
      "text/plain": [
       "424906"
      ]
     },
     "execution_count": 19,
     "metadata": {},
     "output_type": "execute_result"
    }
   ],
   "source": [
    "# зададим горизонт - 14 дней\n",
    "d14 = pd.Timedelta(days=14)\n",
    "# отфильтруем те, которые в него не попадают\n",
    "events = events[events['delta'] <= d14].copy()\n",
    "# посмотрим, сколько осталось событий\n",
    "len(events)"
   ]
  },
  {
   "cell_type": "markdown",
   "metadata": {},
   "source": [
    "Временным горизонтом в 14 дней мы отсеиваем около 5% событий."
   ]
  },
  {
   "cell_type": "markdown",
   "metadata": {},
   "source": [
    "## Анализ A/B теста"
   ]
  },
  {
   "cell_type": "markdown",
   "metadata": {},
   "source": [
    "### Подготовка исходных таблиц"
   ]
  },
  {
   "cell_type": "markdown",
   "metadata": {},
   "source": [
    "Создадим таблицы с событиями, связанными соответственно с пользователями групп А и В теста."
   ]
  },
  {
   "cell_type": "code",
   "execution_count": 20,
   "metadata": {},
   "outputs": [
    {
     "name": "stdout",
     "output_type": "stream",
     "text": [
      "<class 'pandas.core.frame.DataFrame'>\n",
      "Int64Index: 16821 entries, 5 to 440267\n",
      "Data columns (total 7 columns):\n",
      " #   Column      Non-Null Count  Dtype          \n",
      "---  ------      --------------  -----          \n",
      " 0   user_id     16821 non-null  object         \n",
      " 1   event_dt    16821 non-null  datetime64[ns] \n",
      " 2   event_name  16821 non-null  object         \n",
      " 3   details     2319 non-null   float64        \n",
      " 4   date        16821 non-null  object         \n",
      " 5   first_date  16821 non-null  datetime64[ns] \n",
      " 6   delta       16821 non-null  timedelta64[ns]\n",
      "dtypes: datetime64[ns](2), float64(1), object(3), timedelta64[ns](1)\n",
      "memory usage: 1.0+ MB\n"
     ]
    }
   ],
   "source": [
    "a = list(target_users.query('group == \"A\"')['user_id'])\n",
    "events_a = events.query('user_id in @a')\n",
    "events_a['date'] = events_a['event_dt'].dt.date\n",
    "events_a.info()"
   ]
  },
  {
   "cell_type": "code",
   "execution_count": 21,
   "metadata": {},
   "outputs": [
    {
     "data": {
      "text/html": [
       "<div>\n",
       "<style scoped>\n",
       "    .dataframe tbody tr th:only-of-type {\n",
       "        vertical-align: middle;\n",
       "    }\n",
       "\n",
       "    .dataframe tbody tr th {\n",
       "        vertical-align: top;\n",
       "    }\n",
       "\n",
       "    .dataframe thead th {\n",
       "        text-align: right;\n",
       "    }\n",
       "</style>\n",
       "<table border=\"1\" class=\"dataframe\">\n",
       "  <thead>\n",
       "    <tr style=\"text-align: right;\">\n",
       "      <th></th>\n",
       "      <th>user_id</th>\n",
       "      <th>event_dt</th>\n",
       "      <th>event_name</th>\n",
       "      <th>details</th>\n",
       "      <th>date</th>\n",
       "      <th>first_date</th>\n",
       "      <th>delta</th>\n",
       "    </tr>\n",
       "  </thead>\n",
       "  <tbody>\n",
       "    <tr>\n",
       "      <th>5</th>\n",
       "      <td>831887FE7F2D6CBA</td>\n",
       "      <td>2020-12-07 06:50:29</td>\n",
       "      <td>purchase</td>\n",
       "      <td>4.990</td>\n",
       "      <td>2020-12-07</td>\n",
       "      <td>2020-12-07</td>\n",
       "      <td>0 days</td>\n",
       "    </tr>\n",
       "    <tr>\n",
       "      <th>17</th>\n",
       "      <td>3C5DD0288AC4FE23</td>\n",
       "      <td>2020-12-07 19:42:40</td>\n",
       "      <td>purchase</td>\n",
       "      <td>4.990</td>\n",
       "      <td>2020-12-07</td>\n",
       "      <td>2020-12-07</td>\n",
       "      <td>0 days</td>\n",
       "    </tr>\n",
       "    <tr>\n",
       "      <th>71</th>\n",
       "      <td>2B06EB547B7AAD08</td>\n",
       "      <td>2020-12-07 21:36:38</td>\n",
       "      <td>purchase</td>\n",
       "      <td>4.990</td>\n",
       "      <td>2020-12-07</td>\n",
       "      <td>2020-12-07</td>\n",
       "      <td>0 days</td>\n",
       "    </tr>\n",
       "    <tr>\n",
       "      <th>106</th>\n",
       "      <td>538F954F6B3AECE4</td>\n",
       "      <td>2020-12-07 07:12:05</td>\n",
       "      <td>purchase</td>\n",
       "      <td>4.990</td>\n",
       "      <td>2020-12-07</td>\n",
       "      <td>2020-12-07</td>\n",
       "      <td>0 days</td>\n",
       "    </tr>\n",
       "    <tr>\n",
       "      <th>269</th>\n",
       "      <td>DD5EBF41B1DCCB0E</td>\n",
       "      <td>2020-12-07 19:21:29</td>\n",
       "      <td>purchase</td>\n",
       "      <td>4.990</td>\n",
       "      <td>2020-12-07</td>\n",
       "      <td>2020-12-07</td>\n",
       "      <td>0 days</td>\n",
       "    </tr>\n",
       "  </tbody>\n",
       "</table>\n",
       "</div>"
      ],
      "text/plain": [
       "              user_id            event_dt event_name  details        date  \\\n",
       "5    831887FE7F2D6CBA 2020-12-07 06:50:29   purchase    4.990  2020-12-07   \n",
       "17   3C5DD0288AC4FE23 2020-12-07 19:42:40   purchase    4.990  2020-12-07   \n",
       "71   2B06EB547B7AAD08 2020-12-07 21:36:38   purchase    4.990  2020-12-07   \n",
       "106  538F954F6B3AECE4 2020-12-07 07:12:05   purchase    4.990  2020-12-07   \n",
       "269  DD5EBF41B1DCCB0E 2020-12-07 19:21:29   purchase    4.990  2020-12-07   \n",
       "\n",
       "    first_date  delta  \n",
       "5   2020-12-07 0 days  \n",
       "17  2020-12-07 0 days  \n",
       "71  2020-12-07 0 days  \n",
       "106 2020-12-07 0 days  \n",
       "269 2020-12-07 0 days  "
      ]
     },
     "execution_count": 21,
     "metadata": {},
     "output_type": "execute_result"
    }
   ],
   "source": [
    "events_a.head()"
   ]
  },
  {
   "cell_type": "code",
   "execution_count": 22,
   "metadata": {},
   "outputs": [
    {
     "name": "stdout",
     "output_type": "stream",
     "text": [
      "<class 'pandas.core.frame.DataFrame'>\n",
      "Int64Index: 4455 entries, 58 to 440096\n",
      "Data columns (total 7 columns):\n",
      " #   Column      Non-Null Count  Dtype          \n",
      "---  ------      --------------  -----          \n",
      " 0   user_id     4455 non-null   object         \n",
      " 1   event_dt    4455 non-null   datetime64[ns] \n",
      " 2   event_name  4455 non-null   object         \n",
      " 3   details     547 non-null    float64        \n",
      " 4   date        4455 non-null   object         \n",
      " 5   first_date  4455 non-null   datetime64[ns] \n",
      " 6   delta       4455 non-null   timedelta64[ns]\n",
      "dtypes: datetime64[ns](2), float64(1), object(3), timedelta64[ns](1)\n",
      "memory usage: 278.4+ KB\n"
     ]
    }
   ],
   "source": [
    "b = list(target_users.query('group == \"B\"')['user_id'])\n",
    "events_b = events.query('user_id in @b')\n",
    "events_b['date'] = events_b['event_dt'].dt.date\n",
    "events_b.info()"
   ]
  },
  {
   "cell_type": "code",
   "execution_count": 23,
   "metadata": {},
   "outputs": [
    {
     "data": {
      "text/html": [
       "<div>\n",
       "<style scoped>\n",
       "    .dataframe tbody tr th:only-of-type {\n",
       "        vertical-align: middle;\n",
       "    }\n",
       "\n",
       "    .dataframe tbody tr th {\n",
       "        vertical-align: top;\n",
       "    }\n",
       "\n",
       "    .dataframe thead th {\n",
       "        text-align: right;\n",
       "    }\n",
       "</style>\n",
       "<table border=\"1\" class=\"dataframe\">\n",
       "  <thead>\n",
       "    <tr style=\"text-align: right;\">\n",
       "      <th></th>\n",
       "      <th>user_id</th>\n",
       "      <th>event_dt</th>\n",
       "      <th>event_name</th>\n",
       "      <th>details</th>\n",
       "      <th>date</th>\n",
       "      <th>first_date</th>\n",
       "      <th>delta</th>\n",
       "    </tr>\n",
       "  </thead>\n",
       "  <tbody>\n",
       "    <tr>\n",
       "      <th>58</th>\n",
       "      <td>49EA242586C87836</td>\n",
       "      <td>2020-12-07 06:31:24</td>\n",
       "      <td>purchase</td>\n",
       "      <td>99.990</td>\n",
       "      <td>2020-12-07</td>\n",
       "      <td>2020-12-07</td>\n",
       "      <td>0 days</td>\n",
       "    </tr>\n",
       "    <tr>\n",
       "      <th>74</th>\n",
       "      <td>A640F31CAC7823A6</td>\n",
       "      <td>2020-12-07 18:48:26</td>\n",
       "      <td>purchase</td>\n",
       "      <td>4.990</td>\n",
       "      <td>2020-12-07</td>\n",
       "      <td>2020-12-07</td>\n",
       "      <td>0 days</td>\n",
       "    </tr>\n",
       "    <tr>\n",
       "      <th>118</th>\n",
       "      <td>A9908F62C41613A8</td>\n",
       "      <td>2020-12-07 11:26:47</td>\n",
       "      <td>purchase</td>\n",
       "      <td>9.990</td>\n",
       "      <td>2020-12-07</td>\n",
       "      <td>2020-12-07</td>\n",
       "      <td>0 days</td>\n",
       "    </tr>\n",
       "    <tr>\n",
       "      <th>146</th>\n",
       "      <td>0997EC1C4850B27B</td>\n",
       "      <td>2020-12-07 08:01:55</td>\n",
       "      <td>purchase</td>\n",
       "      <td>4.990</td>\n",
       "      <td>2020-12-07</td>\n",
       "      <td>2020-12-07</td>\n",
       "      <td>0 days</td>\n",
       "    </tr>\n",
       "    <tr>\n",
       "      <th>155</th>\n",
       "      <td>C7CB2F1BA42F102B</td>\n",
       "      <td>2020-12-07 03:05:05</td>\n",
       "      <td>purchase</td>\n",
       "      <td>99.990</td>\n",
       "      <td>2020-12-07</td>\n",
       "      <td>2020-12-07</td>\n",
       "      <td>0 days</td>\n",
       "    </tr>\n",
       "  </tbody>\n",
       "</table>\n",
       "</div>"
      ],
      "text/plain": [
       "              user_id            event_dt event_name  details        date  \\\n",
       "58   49EA242586C87836 2020-12-07 06:31:24   purchase   99.990  2020-12-07   \n",
       "74   A640F31CAC7823A6 2020-12-07 18:48:26   purchase    4.990  2020-12-07   \n",
       "118  A9908F62C41613A8 2020-12-07 11:26:47   purchase    9.990  2020-12-07   \n",
       "146  0997EC1C4850B27B 2020-12-07 08:01:55   purchase    4.990  2020-12-07   \n",
       "155  C7CB2F1BA42F102B 2020-12-07 03:05:05   purchase   99.990  2020-12-07   \n",
       "\n",
       "    first_date  delta  \n",
       "58  2020-12-07 0 days  \n",
       "74  2020-12-07 0 days  \n",
       "118 2020-12-07 0 days  \n",
       "146 2020-12-07 0 days  \n",
       "155 2020-12-07 0 days  "
      ]
     },
     "execution_count": 23,
     "metadata": {},
     "output_type": "execute_result"
    }
   ],
   "source": [
    "events_b.head()"
   ]
  },
  {
   "cell_type": "markdown",
   "metadata": {},
   "source": [
    "Уже по информации о полученных таблицах видно, что неравномерность разбивки играет роль - событий в большей группе больше почти в три раза."
   ]
  },
  {
   "cell_type": "code",
   "execution_count": 24,
   "metadata": {},
   "outputs": [
    {
     "data": {
      "image/png": "[encoded data removed]",
      "text/plain": [
       "<Figure size 1080x360 with 1 Axes>"
      ]
     },
     "metadata": {
      "needs_background": "light"
     },
     "output_type": "display_data"
    }
   ],
   "source": [
    "# распределение событий в выборках\n",
    "fig, ax = plt.subplots(sharex=True, figsize=(15, 5))\n",
    "sns.histplot(x='date', data=events_a, label='group a')\n",
    "sns.histplot(x='date', data=events_b, label='group b')\n",
    "plt.title('Распределение событий в выборках')\n",
    "plt.xlabel('дата')\n",
    "plt.ylabel('Пользователи')\n",
    "plt.legend(loc='upper left')\n",
    "plt.show()"
   ]
  },
  {
   "cell_type": "markdown",
   "metadata": {},
   "source": [
    "В группе B события по времени распределены более равномерно, чем в группе А - в ней можно заметить резкий скачок 14 декабря. \n",
    "\n",
    "Проверим, нормально ли распределены события по пользователям в выборках, и есть ли разница в том, сколько событий приходится на пользователя."
   ]
  },
  {
   "cell_type": "code",
   "execution_count": 25,
   "metadata": {},
   "outputs": [
    {
     "name": "stdout",
     "output_type": "stream",
     "text": [
      "p-значение:  1.6049962930547426e-33\n",
      "Отвергаем нулевую гипотезу: распределение группы А не нормально\n",
      "p-значение:  1.552992746696575e-25\n",
      "Отвергаем нулевую гипотезу: распределение группы B не нормально\n"
     ]
    }
   ],
   "source": [
    "# проверим распределения на нормальность\n",
    "alpha = 0.05  # критический уровень статистической значимости\n",
    "\n",
    "p_value = st.shapiro(list(events_a.groupby('user_id')['event_name'].count()))[1]\n",
    "\n",
    "print('p-значение: ', p_value)\n",
    "\n",
    "if p_value < alpha:\n",
    "    print('Отвергаем нулевую гипотезу: распределение группы А не нормально')\n",
    "else:\n",
    "    print('Не получилось отвергнуть нулевую гипотезу, распределение группы А нормально') \n",
    "    \n",
    "p_value = st.shapiro(list(events_b.groupby('user_id')['event_name'].count()))[1]\n",
    "\n",
    "print('p-значение: ', p_value)\n",
    "\n",
    "if p_value < alpha:\n",
    "    print('Отвергаем нулевую гипотезу: распределение группы B не нормально')\n",
    "else:\n",
    "    print('Не получилось отвергнуть нулевую гипотезу, распределение группы B нормально') "
   ]
  },
  {
   "cell_type": "code",
   "execution_count": 26,
   "metadata": {},
   "outputs": [
    {
     "name": "stdout",
     "output_type": "stream",
     "text": [
      "p-значение:  1.7919101265767045e-26\n",
      "Отвергаем нулевую гипотезу: разница статистически значима\n"
     ]
    }
   ],
   "source": [
    "# сравним выборки с помощтю U-критерия\n",
    "results = st.mannwhitneyu(list(events_a.groupby('user_id')['event_name'].count()),\n",
    "                          list(events_b.groupby('user_id')['event_name'].count()))\n",
    "\n",
    "print('p-значение: ', results.pvalue)\n",
    "\n",
    "if results.pvalue < alpha:\n",
    "    print('Отвергаем нулевую гипотезу: разница статистически значима')\n",
    "else:\n",
    "    print(\n",
    "        'Не получилось отвергнуть нулевую гипотезу, вывод о различии сделать нельзя'\n",
    "    ) "
   ]
  },
  {
   "cell_type": "code",
   "execution_count": 27,
   "metadata": {},
   "outputs": [
    {
     "data": {
      "image/png": "[encoded data removed]",
      "text/plain": [
       "<Figure size 1080x360 with 1 Axes>"
      ]
     },
     "metadata": {
      "needs_background": "light"
     },
     "output_type": "display_data"
    }
   ],
   "source": [
    "# построим графики\n",
    "fig, ax = plt.subplots(sharex=True, figsize=(15, 5))\n",
    "ax.hist(events_a.groupby('user_id')['event_name'].count(), label='group a', alpha=0.5, density=True)\n",
    "ax.hist(events_b.groupby('user_id')['event_name'].count(), label='group b', alpha=0.5, density=True)\n",
    "plt.title('Распределение событий в выборках')\n",
    "plt.xlabel('число событий')\n",
    "plt.ylabel('Пользователи')\n",
    "plt.legend(loc='upper left')\n",
    "plt.show()"
   ]
  },
  {
   "cell_type": "code",
   "execution_count": 28,
   "metadata": {},
   "outputs": [
    {
     "name": "stdout",
     "output_type": "stream",
     "text": [
      "6.945086705202312\n",
      "5.41970802919708\n"
     ]
    }
   ],
   "source": [
    "print(events_a.groupby('user_id')['event_name'].count().mean())\n",
    "print(events_b.groupby('user_id')['event_name'].count().mean())"
   ]
  },
  {
   "cell_type": "markdown",
   "metadata": {},
   "source": [
    "Таким образом, события по пользователям распределены не только не нормально, но и по-разному в  зависимости от группы."
   ]
  },
  {
   "cell_type": "markdown",
   "metadata": {},
   "source": [
    "### Кумулятивные метрики - новые пользователи"
   ]
  },
  {
   "cell_type": "markdown",
   "metadata": {},
   "source": [
    "Подсчитаем прирост количества новых пользователей от начала теста в каждой группе."
   ]
  },
  {
   "cell_type": "code",
   "execution_count": 29,
   "metadata": {},
   "outputs": [],
   "source": [
    "# отделим информацию о новых пользователях по группам теста\n",
    "new_users_a = n_u.query('user_id in @a')\n",
    "new_users_b = n_u.query('user_id in @b')"
   ]
  },
  {
   "cell_type": "code",
   "execution_count": 30,
   "metadata": {
    "scrolled": true
   },
   "outputs": [],
   "source": [
    "# группа А\n",
    "new_users_a_cummulative = new_users_a.groupby('first_date')['user_id'].count().reset_index()\n",
    "new_users_a_cummulative['new_users'] = new_users_a_cummulative['user_id'].cumsum()\n",
    "# new_users_a_cummulative"
   ]
  },
  {
   "cell_type": "code",
   "execution_count": 31,
   "metadata": {
    "scrolled": true
   },
   "outputs": [],
   "source": [
    "# группа B\n",
    "new_users_b_cummulative = new_users_b.groupby('first_date')['user_id'].count().reset_index()\n",
    "new_users_b_cummulative['new_users'] = new_users_b_cummulative['user_id'].cumsum()\n",
    "# new_users_b_cummulative"
   ]
  },
  {
   "cell_type": "code",
   "execution_count": 32,
   "metadata": {},
   "outputs": [
    {
     "data": {
      "image/png": "[encoded data removed]",
      "text/plain": [
       "<Figure size 1080x360 with 1 Axes>"
      ]
     },
     "metadata": {
      "needs_background": "light"
     },
     "output_type": "display_data"
    }
   ],
   "source": [
    "# построим графики\n",
    "fig, ax = plt.subplots(figsize=(15, 5))\n",
    "ax.plot(new_users_a_cummulative.first_date, new_users_a_cummulative.new_users, label = 'A')\n",
    "ax.plot(new_users_b_cummulative.first_date, new_users_b_cummulative.new_users, label = 'B')\n",
    "plt.legend()\n",
    "plt.axvline(x=reg_finish, color='black', linestyle='--')\n",
    "plt.title('Прирост новых пользователей')\n",
    "plt.show()"
   ]
  },
  {
   "cell_type": "markdown",
   "metadata": {},
   "source": [
    "### Кумулятивные метрики - логины"
   ]
  },
  {
   "cell_type": "markdown",
   "metadata": {},
   "source": [
    "Подсчитаем прирост входов в систему новых пользователей."
   ]
  },
  {
   "cell_type": "code",
   "execution_count": 33,
   "metadata": {},
   "outputs": [],
   "source": [
    "# группа А\n",
    "login_agg_a = (\n",
    "    events_a.apply(lambda x:events_a[np.logical_and(events_a['date'] < x['date'], \n",
    "                                                    events_a['event_name'] == 'login')]\n",
    "                   .agg({'date' : 'max', 'user_id' : 'nunique'}), axis=1).sort_values('date')\n",
    ")\n",
    "login_agg_a = login_agg_a.groupby('date')[['user_id']].mean().reset_index()\n",
    "# login_agg_a = login_agg_a.query('date <= @reg_finish')"
   ]
  },
  {
   "cell_type": "code",
   "execution_count": 34,
   "metadata": {},
   "outputs": [],
   "source": [
    "# группа B\n",
    "login_agg_b = (\n",
    "    events_b.apply(lambda x:events_b[np.logical_and(events_b['date'] < x['date'], \n",
    "                                                    events_b['event_name'] == 'login')]\n",
    "                   .agg({'date' : 'max', 'user_id' : 'nunique'}), axis=1).sort_values('date')\n",
    ")\n",
    "login_agg_b = login_agg_b.groupby('date')[['user_id']].mean().reset_index()\n",
    "# login_agg_b = login_agg_b.query('date <= @reg_finish')"
   ]
  },
  {
   "cell_type": "code",
   "execution_count": 35,
   "metadata": {},
   "outputs": [
    {
     "data": {
      "image/png": "[encoded data removed]",
      "text/plain": [
       "<Figure size 1080x360 with 1 Axes>"
      ]
     },
     "metadata": {
      "needs_background": "light"
     },
     "output_type": "display_data"
    }
   ],
   "source": [
    "# построим графики\n",
    "fig, ax = plt.subplots(figsize=(15, 5))\n",
    "ax.plot(login_agg_a.date, login_agg_a.user_id, label = 'A')\n",
    "ax.plot(login_agg_b.date, login_agg_b.user_id, label = 'B')\n",
    "plt.legend()\n",
    "plt.axvline(x=reg_finish, color='black', linestyle='--')\n",
    "plt.title('Прирост входов в систему')\n",
    "plt.show()"
   ]
  },
  {
   "cell_type": "markdown",
   "metadata": {},
   "source": [
    "### Кумулятивные метрики - просмотры товаров"
   ]
  },
  {
   "cell_type": "markdown",
   "metadata": {},
   "source": [
    "Подсчитаем прирост просмотров страниц товара новыми пользователями. "
   ]
  },
  {
   "cell_type": "code",
   "execution_count": 36,
   "metadata": {},
   "outputs": [],
   "source": [
    "# группа А\n",
    "product_views_agg_a = (\n",
    "    events_a.apply(lambda x:events_a[np.logical_and(events_a['date'] < x['date'], \n",
    "                                                    events_a['event_name'] == 'product_page')]\n",
    "                   .agg({'date' : 'max', 'user_id' : 'nunique'}), axis=1).sort_values('date')\n",
    ")\n",
    "product_views_agg_a = product_views_agg_a.groupby('date')[['user_id']].mean().reset_index()\n",
    "# product_views_agg_a = product_views_agg_a.query('date <= @reg_finish')"
   ]
  },
  {
   "cell_type": "code",
   "execution_count": 37,
   "metadata": {},
   "outputs": [],
   "source": [
    "# группа B\n",
    "product_views_agg_b = (\n",
    "    events_b.apply(lambda x:events_b[np.logical_and(events_b['date'] < x['date'], \n",
    "                                                    events_b['event_name'] == 'product_page')]\n",
    "                   .agg({'date' : 'max', 'user_id' : 'nunique'}), axis=1).sort_values('date')\n",
    ")\n",
    "product_views_agg_b = product_views_agg_b.groupby('date')[['user_id']].mean().reset_index()\n",
    "# product_views_agg_b = product_views_agg_b.query('date <= @reg_finish')"
   ]
  },
  {
   "cell_type": "code",
   "execution_count": 38,
   "metadata": {},
   "outputs": [
    {
     "data": {
      "image/png": "[encoded data removed]",
      "text/plain": [
       "<Figure size 1080x360 with 1 Axes>"
      ]
     },
     "metadata": {
      "needs_background": "light"
     },
     "output_type": "display_data"
    }
   ],
   "source": [
    "# построим графики\n",
    "fig, ax = plt.subplots(figsize=(15, 5))\n",
    "ax.plot(product_views_agg_a.date, product_views_agg_a.user_id, label = 'A')\n",
    "ax.plot(product_views_agg_b.date, product_views_agg_b.user_id, label = 'B')\n",
    "plt.legend()\n",
    "plt.axvline(x=reg_finish, color='black', linestyle='--')\n",
    "plt.title('Прирост просмотров страниц товаров')\n",
    "plt.show()"
   ]
  },
  {
   "cell_type": "markdown",
   "metadata": {},
   "source": [
    "### Кумулятивные метрики - просмотры корзины"
   ]
  },
  {
   "cell_type": "markdown",
   "metadata": {},
   "source": [
    "Подсчитаем прирост просмотров страницы корзины новыми пользователями. "
   ]
  },
  {
   "cell_type": "code",
   "execution_count": 39,
   "metadata": {},
   "outputs": [],
   "source": [
    "# группа А\n",
    "cart_views_agg_a = (\n",
    "    events_a.apply(lambda x:events_a[np.logical_and(events_a['date'] < x['date'], \n",
    "                                                    events_a['event_name'] == 'product_cart')]\n",
    "                   .agg({'date' : 'max', 'user_id' : 'nunique'}), axis=1).sort_values('date')\n",
    ")\n",
    "cart_views_agg_a = cart_views_agg_a.groupby('date')[['user_id']].mean().reset_index()\n",
    "# cart_views_agg_a = cart_views_agg_a.query('date <= @reg_finish')"
   ]
  },
  {
   "cell_type": "code",
   "execution_count": 40,
   "metadata": {},
   "outputs": [],
   "source": [
    "# группа B\n",
    "cart_views_agg_b = (\n",
    "    events_b.apply(lambda x:events_b[np.logical_and(events_b['date'] < x['date'], \n",
    "                                                    events_b['event_name'] == 'product_cart')]\n",
    "                   .agg({'date' : 'max', 'user_id' : 'nunique'}), axis=1).sort_values('date')\n",
    ")\n",
    "cart_views_agg_b = cart_views_agg_b.groupby('date')[['user_id']].mean().reset_index()\n",
    "# cart_views_agg_b = cart_views_agg_b.query('date <= @reg_finish')"
   ]
  },
  {
   "cell_type": "code",
   "execution_count": 41,
   "metadata": {},
   "outputs": [
    {
     "data": {
      "image/png": "[encoded data removed]",
      "text/plain": [
       "<Figure size 1080x360 with 1 Axes>"
      ]
     },
     "metadata": {
      "needs_background": "light"
     },
     "output_type": "display_data"
    }
   ],
   "source": [
    "# построим графики\n",
    "fig, ax = plt.subplots(figsize=(15, 5))\n",
    "ax.plot(cart_views_agg_a.date, cart_views_agg_a.user_id, label = 'A')\n",
    "ax.plot(cart_views_agg_b.date, cart_views_agg_b.user_id, label = 'B')\n",
    "plt.legend()\n",
    "plt.axvline(x=reg_finish, color='black', linestyle='--')\n",
    "plt.title('Прирост просмотров корзины')\n",
    "plt.show()"
   ]
  },
  {
   "cell_type": "markdown",
   "metadata": {},
   "source": [
    "### Кумулятивные метрики - покупки"
   ]
  },
  {
   "cell_type": "markdown",
   "metadata": {},
   "source": [
    "Подсчитаем еще одну кумулятивную метрику - прирост количества совершенных новыми пользователями покупок. "
   ]
  },
  {
   "cell_type": "code",
   "execution_count": 42,
   "metadata": {},
   "outputs": [],
   "source": [
    "# группа А\n",
    "purchase_agg_a = (\n",
    "    events_a.apply(lambda x:events_a[np.logical_and(events_a['date'] < x['date'], \n",
    "                                                    events_a['event_name'] == 'purchase')]\n",
    "                   .agg({'date' : 'max', 'user_id' : 'nunique'}), axis=1).sort_values('date')\n",
    ")\n",
    "purchase_agg_a = purchase_agg_a.groupby('date')[['user_id']].mean().reset_index()\n",
    "# purchase_agg_a = purchase_agg_a.query('date <= @reg_finish')"
   ]
  },
  {
   "cell_type": "code",
   "execution_count": 43,
   "metadata": {},
   "outputs": [],
   "source": [
    "# группа B\n",
    "purchase_agg_b = (\n",
    "    events_b.apply(lambda x:events_b[np.logical_and(events_b['date'] < x['date'], \n",
    "                                                    events_b['event_name'] == 'purchase')]\n",
    "                   .agg({'date' : 'max', 'user_id' : 'nunique'}), axis=1).sort_values('date')\n",
    ")\n",
    "purchase_agg_b = purchase_agg_b.groupby('date')[['user_id']].mean().reset_index()\n",
    "# purchase_agg_b = purchase_agg_b.query('date <= @reg_finish')"
   ]
  },
  {
   "cell_type": "code",
   "execution_count": 44,
   "metadata": {},
   "outputs": [
    {
     "data": {
      "image/png": "[encoded data removed]",
      "text/plain": [
       "<Figure size 1080x360 with 1 Axes>"
      ]
     },
     "metadata": {
      "needs_background": "light"
     },
     "output_type": "display_data"
    }
   ],
   "source": [
    "# построим графики\n",
    "fig, ax = plt.subplots(figsize=(15, 5))\n",
    "ax.plot(purchase_agg_a.date, purchase_agg_a.user_id, label = 'A')\n",
    "ax.plot(purchase_agg_b.date, purchase_agg_b.user_id, label = 'B')\n",
    "plt.legend()\n",
    "plt.axvline(x=reg_finish, color='black', linestyle='--')\n",
    "plt.title('Прирост заказов')\n",
    "plt.show()"
   ]
  },
  {
   "cell_type": "markdown",
   "metadata": {},
   "source": [
    "### Кумулятивные метрики - выручка"
   ]
  },
  {
   "cell_type": "markdown",
   "metadata": {},
   "source": [
    "Подсчитаем еще одну кумулятивную метрику - прирост выручки."
   ]
  },
  {
   "cell_type": "code",
   "execution_count": 45,
   "metadata": {},
   "outputs": [],
   "source": [
    "# группа А\n",
    "revenue_agg_a = (\n",
    "    events_a.apply(lambda x:events_a[events_a['date'] < x['date']]\n",
    "                   .agg({'date' : 'max', 'details' : 'sum'}), axis=1).sort_values('date')\n",
    ")\n",
    "revenue_agg_a = revenue_agg_a.groupby('date')[['details']].mean().reset_index()\n",
    "# revenue_agg_a = revenue_agg_a.query('date <= @reg_finish')"
   ]
  },
  {
   "cell_type": "code",
   "execution_count": 46,
   "metadata": {},
   "outputs": [],
   "source": [
    "# группа B\n",
    "revenue_agg_b = (\n",
    "    events_b.apply(lambda x:events_b[events_b['date'] < x['date']]\n",
    "                   .agg({'date' : 'max', 'details' : 'sum'}), axis=1).sort_values('date')\n",
    ")\n",
    "revenue_agg_b = revenue_agg_b.groupby('date')[['details']].mean().reset_index()\n",
    "# revenue_agg_b = revenue_agg_b.query('date <= @reg_finish')"
   ]
  },
  {
   "cell_type": "code",
   "execution_count": 47,
   "metadata": {},
   "outputs": [
    {
     "data": {
      "image/png": "[encoded data removed]",
      "text/plain": [
       "<Figure size 1080x360 with 1 Axes>"
      ]
     },
     "metadata": {
      "needs_background": "light"
     },
     "output_type": "display_data"
    }
   ],
   "source": [
    "# построим графики\n",
    "fig, ax = plt.subplots(figsize=(15, 5))\n",
    "ax.plot(revenue_agg_a.date, revenue_agg_a.details, label = 'A')\n",
    "ax.plot(revenue_agg_b.date, revenue_agg_b.details, label = 'B')\n",
    "plt.legend()\n",
    "plt.axvline(x=reg_finish, color='black', linestyle='--')\n",
    "plt.title('Кумулятивная выручка')\n",
    "plt.show()"
   ]
  },
  {
   "cell_type": "markdown",
   "metadata": {},
   "source": [
    "Выручка в обеих группах увеличивается на протяжении всего теста без резких всплесков."
   ]
  },
  {
   "cell_type": "markdown",
   "metadata": {},
   "source": [
    "### Кумулятивный средний чек\n",
    "\n",
    "Построим графики среднего чека по группам — разделим кумулятивную выручку на кумулятивное число заказов"
   ]
  },
  {
   "cell_type": "code",
   "execution_count": 48,
   "metadata": {},
   "outputs": [
    {
     "data": {
      "image/png": "[encoded data removed]",
      "text/plain": [
       "<Figure size 1080x360 with 1 Axes>"
      ]
     },
     "metadata": {
      "needs_background": "light"
     },
     "output_type": "display_data"
    }
   ],
   "source": [
    "fig, ax = plt.subplots(figsize=(15, 5))\n",
    "ax.plot(revenue_agg_a.date, revenue_agg_a.details / purchase_agg_a.user_id, label = 'A')\n",
    "ax.plot(revenue_agg_b.date, revenue_agg_b.details / purchase_agg_b.user_id, label = 'B')\n",
    "plt.legend()\n",
    "plt.title('Кумулятивный средний чек')\n",
    "plt.show()"
   ]
  },
  {
   "cell_type": "markdown",
   "metadata": {},
   "source": [
    "Средний чек в обеих группах подрос, но в группе B стабильно ниже на пртяжении всего периода данных. \n",
    "\n",
    "В группе А в районе 14 декаюря можно заметить падение - видимо, большой приток пользователей с небольшими заказами размыл средний чек."
   ]
  },
  {
   "cell_type": "markdown",
   "metadata": {},
   "source": [
    "### Относительные метрики"
   ]
  },
  {
   "cell_type": "code",
   "execution_count": 49,
   "metadata": {},
   "outputs": [],
   "source": [
    "# соберем полученные данные по дням в единые таблицы\n",
    "a_cummulative = new_users_a_cummulative.rename(columns={'first_date':'date','user_id':'daily_new_users'})\n",
    "\n",
    "login_agg_a['date'] = pd.to_datetime(login_agg_a['date'])\n",
    "a_cummulative = pd.merge(a_cummulative, login_agg_a, on='date', how='outer').rename(columns={'user_id':'logins'})\n",
    "\n",
    "a_cummulative['product_views'] = product_views_agg_a['user_id']\n",
    "a_cummulative['cart_views'] = cart_views_agg_a['user_id']\n",
    "a_cummulative['purchases'] = purchase_agg_a['user_id']\n",
    "a_cummulative['revenue'] = revenue_agg_a['details']\n",
    "\n",
    "a_cummulative = a_cummulative.fillna(0)\n",
    "# a_cummulative"
   ]
  },
  {
   "cell_type": "code",
   "execution_count": 50,
   "metadata": {},
   "outputs": [],
   "source": [
    "# соберем полученные данные по дням в единые таблицы\n",
    "# соберем полученные данные по дням в единые таблицы\n",
    "b_cummulative = new_users_b_cummulative.rename(columns={'first_date':'date','user_id':'daily_new_users'})\n",
    "login_agg_b['date'] = pd.to_datetime(login_agg_b['date'])\n",
    "b_cummulative = pd.merge(b_cummulative, login_agg_b, on='date', how='outer').rename(columns={'user_id':'logins'})\n",
    "\n",
    "b_cummulative['product_views'] = product_views_agg_b['user_id']\n",
    "b_cummulative['cart_views'] = cart_views_agg_b['user_id']\n",
    "b_cummulative['purchases'] = purchase_agg_b['user_id']\n",
    "b_cummulative['revenue'] = revenue_agg_b['details']\n",
    "\n",
    "b_cummulative = b_cummulative.fillna(0)\n",
    "# b_cummulative"
   ]
  },
  {
   "cell_type": "code",
   "execution_count": 51,
   "metadata": {},
   "outputs": [],
   "source": [
    "# конверсия в просмотр карточек товаров\n",
    "a_cummulative['conv_pr_page'] = a_cummulative['product_views'] / a_cummulative['new_users']\n",
    "b_cummulative['conv_pr_page'] = b_cummulative['product_views'] / b_cummulative['new_users']\n",
    "\n",
    "# конверсия в просмотр корзины\n",
    "a_cummulative['conv_cart'] = a_cummulative['cart_views'] / a_cummulative['new_users']\n",
    "b_cummulative['conv_cart'] = b_cummulative['cart_views'] / b_cummulative['new_users']\n",
    "\n",
    "# конверсия в покупки\n",
    "a_cummulative['conv_purchase'] = a_cummulative['purchases'] / a_cummulative['new_users']\n",
    "b_cummulative['conv_purchase'] = b_cummulative['purchases'] / b_cummulative['new_users']"
   ]
  },
  {
   "cell_type": "code",
   "execution_count": 52,
   "metadata": {},
   "outputs": [
    {
     "data": {
      "text/html": [
       "<div>\n",
       "<style scoped>\n",
       "    .dataframe tbody tr th:only-of-type {\n",
       "        vertical-align: middle;\n",
       "    }\n",
       "\n",
       "    .dataframe tbody tr th {\n",
       "        vertical-align: top;\n",
       "    }\n",
       "\n",
       "    .dataframe thead th {\n",
       "        text-align: right;\n",
       "    }\n",
       "</style>\n",
       "<table border=\"1\" class=\"dataframe\">\n",
       "  <thead>\n",
       "    <tr style=\"text-align: right;\">\n",
       "      <th></th>\n",
       "      <th>date</th>\n",
       "      <th>daily_new_users</th>\n",
       "      <th>new_users</th>\n",
       "      <th>logins</th>\n",
       "      <th>product_views</th>\n",
       "      <th>cart_views</th>\n",
       "      <th>purchases</th>\n",
       "      <th>revenue</th>\n",
       "      <th>conv_pr_page</th>\n",
       "      <th>conv_cart</th>\n",
       "      <th>conv_purchase</th>\n",
       "    </tr>\n",
       "  </thead>\n",
       "  <tbody>\n",
       "    <tr>\n",
       "      <th>0</th>\n",
       "      <td>2020-12-07</td>\n",
       "      <td>237.000</td>\n",
       "      <td>237.000</td>\n",
       "      <td>146.000</td>\n",
       "      <td>95.000</td>\n",
       "      <td>42.000</td>\n",
       "      <td>54.000</td>\n",
       "      <td>679.460</td>\n",
       "      <td>0.401</td>\n",
       "      <td>0.177</td>\n",
       "      <td>0.228</td>\n",
       "    </tr>\n",
       "    <tr>\n",
       "      <th>1</th>\n",
       "      <td>2020-12-08</td>\n",
       "      <td>134.000</td>\n",
       "      <td>371.000</td>\n",
       "      <td>190.000</td>\n",
       "      <td>115.000</td>\n",
       "      <td>56.000</td>\n",
       "      <td>63.000</td>\n",
       "      <td>1139.160</td>\n",
       "      <td>0.310</td>\n",
       "      <td>0.151</td>\n",
       "      <td>0.170</td>\n",
       "    </tr>\n",
       "    <tr>\n",
       "      <th>2</th>\n",
       "      <td>2020-12-09</td>\n",
       "      <td>96.000</td>\n",
       "      <td>467.000</td>\n",
       "      <td>265.000</td>\n",
       "      <td>159.000</td>\n",
       "      <td>75.000</td>\n",
       "      <td>78.000</td>\n",
       "      <td>1518.830</td>\n",
       "      <td>0.340</td>\n",
       "      <td>0.161</td>\n",
       "      <td>0.167</td>\n",
       "    </tr>\n",
       "    <tr>\n",
       "      <th>3</th>\n",
       "      <td>2020-12-10</td>\n",
       "      <td>174.000</td>\n",
       "      <td>641.000</td>\n",
       "      <td>298.000</td>\n",
       "      <td>170.000</td>\n",
       "      <td>81.000</td>\n",
       "      <td>85.000</td>\n",
       "      <td>2138.610</td>\n",
       "      <td>0.265</td>\n",
       "      <td>0.126</td>\n",
       "      <td>0.133</td>\n",
       "    </tr>\n",
       "    <tr>\n",
       "      <th>4</th>\n",
       "      <td>2020-12-11</td>\n",
       "      <td>102.000</td>\n",
       "      <td>743.000</td>\n",
       "      <td>317.000</td>\n",
       "      <td>180.000</td>\n",
       "      <td>85.000</td>\n",
       "      <td>87.000</td>\n",
       "      <td>2213.490</td>\n",
       "      <td>0.242</td>\n",
       "      <td>0.114</td>\n",
       "      <td>0.117</td>\n",
       "    </tr>\n",
       "    <tr>\n",
       "      <th>5</th>\n",
       "      <td>2020-12-12</td>\n",
       "      <td>185.000</td>\n",
       "      <td>928.000</td>\n",
       "      <td>363.000</td>\n",
       "      <td>204.000</td>\n",
       "      <td>92.000</td>\n",
       "      <td>97.000</td>\n",
       "      <td>2523.270</td>\n",
       "      <td>0.220</td>\n",
       "      <td>0.099</td>\n",
       "      <td>0.105</td>\n",
       "    </tr>\n",
       "    <tr>\n",
       "      <th>6</th>\n",
       "      <td>2020-12-13</td>\n",
       "      <td>213.000</td>\n",
       "      <td>1141.000</td>\n",
       "      <td>379.000</td>\n",
       "      <td>210.000</td>\n",
       "      <td>95.000</td>\n",
       "      <td>101.000</td>\n",
       "      <td>2813.080</td>\n",
       "      <td>0.184</td>\n",
       "      <td>0.083</td>\n",
       "      <td>0.089</td>\n",
       "    </tr>\n",
       "    <tr>\n",
       "      <th>7</th>\n",
       "      <td>2020-12-14</td>\n",
       "      <td>248.000</td>\n",
       "      <td>1389.000</td>\n",
       "      <td>446.000</td>\n",
       "      <td>245.000</td>\n",
       "      <td>116.000</td>\n",
       "      <td>118.000</td>\n",
       "      <td>3572.770</td>\n",
       "      <td>0.176</td>\n",
       "      <td>0.084</td>\n",
       "      <td>0.085</td>\n",
       "    </tr>\n",
       "    <tr>\n",
       "      <th>8</th>\n",
       "      <td>2020-12-15</td>\n",
       "      <td>131.000</td>\n",
       "      <td>1520.000</td>\n",
       "      <td>474.000</td>\n",
       "      <td>258.000</td>\n",
       "      <td>121.000</td>\n",
       "      <td>126.000</td>\n",
       "      <td>4807.520</td>\n",
       "      <td>0.170</td>\n",
       "      <td>0.080</td>\n",
       "      <td>0.083</td>\n",
       "    </tr>\n",
       "    <tr>\n",
       "      <th>9</th>\n",
       "      <td>2020-12-16</td>\n",
       "      <td>103.000</td>\n",
       "      <td>1623.000</td>\n",
       "      <td>561.000</td>\n",
       "      <td>316.000</td>\n",
       "      <td>157.000</td>\n",
       "      <td>153.000</td>\n",
       "      <td>6322.070</td>\n",
       "      <td>0.195</td>\n",
       "      <td>0.097</td>\n",
       "      <td>0.094</td>\n",
       "    </tr>\n",
       "    <tr>\n",
       "      <th>10</th>\n",
       "      <td>2020-12-17</td>\n",
       "      <td>127.000</td>\n",
       "      <td>1750.000</td>\n",
       "      <td>593.000</td>\n",
       "      <td>332.000</td>\n",
       "      <td>172.000</td>\n",
       "      <td>163.000</td>\n",
       "      <td>6676.790</td>\n",
       "      <td>0.190</td>\n",
       "      <td>0.098</td>\n",
       "      <td>0.093</td>\n",
       "    </tr>\n",
       "    <tr>\n",
       "      <th>11</th>\n",
       "      <td>2020-12-18</td>\n",
       "      <td>155.000</td>\n",
       "      <td>1905.000</td>\n",
       "      <td>640.000</td>\n",
       "      <td>354.000</td>\n",
       "      <td>186.000</td>\n",
       "      <td>174.000</td>\n",
       "      <td>6921.540</td>\n",
       "      <td>0.186</td>\n",
       "      <td>0.098</td>\n",
       "      <td>0.091</td>\n",
       "    </tr>\n",
       "    <tr>\n",
       "      <th>12</th>\n",
       "      <td>2020-12-19</td>\n",
       "      <td>165.000</td>\n",
       "      <td>2070.000</td>\n",
       "      <td>678.000</td>\n",
       "      <td>376.000</td>\n",
       "      <td>197.000</td>\n",
       "      <td>181.000</td>\n",
       "      <td>7086.280</td>\n",
       "      <td>0.182</td>\n",
       "      <td>0.095</td>\n",
       "      <td>0.087</td>\n",
       "    </tr>\n",
       "    <tr>\n",
       "      <th>13</th>\n",
       "      <td>2020-12-20</td>\n",
       "      <td>190.000</td>\n",
       "      <td>2260.000</td>\n",
       "      <td>734.000</td>\n",
       "      <td>409.000</td>\n",
       "      <td>207.000</td>\n",
       "      <td>200.000</td>\n",
       "      <td>7880.940</td>\n",
       "      <td>0.181</td>\n",
       "      <td>0.092</td>\n",
       "      <td>0.088</td>\n",
       "    </tr>\n",
       "    <tr>\n",
       "      <th>14</th>\n",
       "      <td>2020-12-21</td>\n",
       "      <td>273.000</td>\n",
       "      <td>2533.000</td>\n",
       "      <td>821.000</td>\n",
       "      <td>459.000</td>\n",
       "      <td>225.000</td>\n",
       "      <td>226.000</td>\n",
       "      <td>10105.420</td>\n",
       "      <td>0.181</td>\n",
       "      <td>0.089</td>\n",
       "      <td>0.089</td>\n",
       "    </tr>\n",
       "    <tr>\n",
       "      <th>15</th>\n",
       "      <td>2020-12-22</td>\n",
       "      <td>0.000</td>\n",
       "      <td>0.000</td>\n",
       "      <td>821.000</td>\n",
       "      <td>459.000</td>\n",
       "      <td>225.000</td>\n",
       "      <td>226.000</td>\n",
       "      <td>10335.180</td>\n",
       "      <td>inf</td>\n",
       "      <td>inf</td>\n",
       "      <td>inf</td>\n",
       "    </tr>\n",
       "    <tr>\n",
       "      <th>16</th>\n",
       "      <td>2020-12-23</td>\n",
       "      <td>0.000</td>\n",
       "      <td>0.000</td>\n",
       "      <td>821.000</td>\n",
       "      <td>459.000</td>\n",
       "      <td>225.000</td>\n",
       "      <td>226.000</td>\n",
       "      <td>10535.000</td>\n",
       "      <td>inf</td>\n",
       "      <td>inf</td>\n",
       "      <td>inf</td>\n",
       "    </tr>\n",
       "    <tr>\n",
       "      <th>17</th>\n",
       "      <td>2020-12-24</td>\n",
       "      <td>0.000</td>\n",
       "      <td>0.000</td>\n",
       "      <td>821.000</td>\n",
       "      <td>459.000</td>\n",
       "      <td>225.000</td>\n",
       "      <td>226.000</td>\n",
       "      <td>10609.870</td>\n",
       "      <td>inf</td>\n",
       "      <td>inf</td>\n",
       "      <td>inf</td>\n",
       "    </tr>\n",
       "    <tr>\n",
       "      <th>18</th>\n",
       "      <td>2020-12-25</td>\n",
       "      <td>0.000</td>\n",
       "      <td>0.000</td>\n",
       "      <td>821.000</td>\n",
       "      <td>459.000</td>\n",
       "      <td>225.000</td>\n",
       "      <td>226.000</td>\n",
       "      <td>10844.790</td>\n",
       "      <td>inf</td>\n",
       "      <td>inf</td>\n",
       "      <td>inf</td>\n",
       "    </tr>\n",
       "    <tr>\n",
       "      <th>19</th>\n",
       "      <td>2020-12-26</td>\n",
       "      <td>0.000</td>\n",
       "      <td>0.000</td>\n",
       "      <td>821.000</td>\n",
       "      <td>459.000</td>\n",
       "      <td>225.000</td>\n",
       "      <td>226.000</td>\n",
       "      <td>10864.750</td>\n",
       "      <td>inf</td>\n",
       "      <td>inf</td>\n",
       "      <td>inf</td>\n",
       "    </tr>\n",
       "    <tr>\n",
       "      <th>20</th>\n",
       "      <td>2020-12-27</td>\n",
       "      <td>0.000</td>\n",
       "      <td>0.000</td>\n",
       "      <td>821.000</td>\n",
       "      <td>459.000</td>\n",
       "      <td>225.000</td>\n",
       "      <td>226.000</td>\n",
       "      <td>12009.640</td>\n",
       "      <td>inf</td>\n",
       "      <td>inf</td>\n",
       "      <td>inf</td>\n",
       "    </tr>\n",
       "    <tr>\n",
       "      <th>21</th>\n",
       "      <td>2020-12-28</td>\n",
       "      <td>0.000</td>\n",
       "      <td>0.000</td>\n",
       "      <td>821.000</td>\n",
       "      <td>459.000</td>\n",
       "      <td>225.000</td>\n",
       "      <td>226.000</td>\n",
       "      <td>12139.590</td>\n",
       "      <td>inf</td>\n",
       "      <td>inf</td>\n",
       "      <td>inf</td>\n",
       "    </tr>\n",
       "  </tbody>\n",
       "</table>\n",
       "</div>"
      ],
      "text/plain": [
       "         date  daily_new_users  new_users  logins  product_views  cart_views  \\\n",
       "0  2020-12-07          237.000    237.000 146.000         95.000      42.000   \n",
       "1  2020-12-08          134.000    371.000 190.000        115.000      56.000   \n",
       "2  2020-12-09           96.000    467.000 265.000        159.000      75.000   \n",
       "3  2020-12-10          174.000    641.000 298.000        170.000      81.000   \n",
       "4  2020-12-11          102.000    743.000 317.000        180.000      85.000   \n",
       "5  2020-12-12          185.000    928.000 363.000        204.000      92.000   \n",
       "6  2020-12-13          213.000   1141.000 379.000        210.000      95.000   \n",
       "7  2020-12-14          248.000   1389.000 446.000        245.000     116.000   \n",
       "8  2020-12-15          131.000   1520.000 474.000        258.000     121.000   \n",
       "9  2020-12-16          103.000   1623.000 561.000        316.000     157.000   \n",
       "10 2020-12-17          127.000   1750.000 593.000        332.000     172.000   \n",
       "11 2020-12-18          155.000   1905.000 640.000        354.000     186.000   \n",
       "12 2020-12-19          165.000   2070.000 678.000        376.000     197.000   \n",
       "13 2020-12-20          190.000   2260.000 734.000        409.000     207.000   \n",
       "14 2020-12-21          273.000   2533.000 821.000        459.000     225.000   \n",
       "15 2020-12-22            0.000      0.000 821.000        459.000     225.000   \n",
       "16 2020-12-23            0.000      0.000 821.000        459.000     225.000   \n",
       "17 2020-12-24            0.000      0.000 821.000        459.000     225.000   \n",
       "18 2020-12-25            0.000      0.000 821.000        459.000     225.000   \n",
       "19 2020-12-26            0.000      0.000 821.000        459.000     225.000   \n",
       "20 2020-12-27            0.000      0.000 821.000        459.000     225.000   \n",
       "21 2020-12-28            0.000      0.000 821.000        459.000     225.000   \n",
       "\n",
       "    purchases   revenue  conv_pr_page  conv_cart  conv_purchase  \n",
       "0      54.000   679.460         0.401      0.177          0.228  \n",
       "1      63.000  1139.160         0.310      0.151          0.170  \n",
       "2      78.000  1518.830         0.340      0.161          0.167  \n",
       "3      85.000  2138.610         0.265      0.126          0.133  \n",
       "4      87.000  2213.490         0.242      0.114          0.117  \n",
       "5      97.000  2523.270         0.220      0.099          0.105  \n",
       "6     101.000  2813.080         0.184      0.083          0.089  \n",
       "7     118.000  3572.770         0.176      0.084          0.085  \n",
       "8     126.000  4807.520         0.170      0.080          0.083  \n",
       "9     153.000  6322.070         0.195      0.097          0.094  \n",
       "10    163.000  6676.790         0.190      0.098          0.093  \n",
       "11    174.000  6921.540         0.186      0.098          0.091  \n",
       "12    181.000  7086.280         0.182      0.095          0.087  \n",
       "13    200.000  7880.940         0.181      0.092          0.088  \n",
       "14    226.000 10105.420         0.181      0.089          0.089  \n",
       "15    226.000 10335.180           inf        inf            inf  \n",
       "16    226.000 10535.000           inf        inf            inf  \n",
       "17    226.000 10609.870           inf        inf            inf  \n",
       "18    226.000 10844.790           inf        inf            inf  \n",
       "19    226.000 10864.750           inf        inf            inf  \n",
       "20    226.000 12009.640           inf        inf            inf  \n",
       "21    226.000 12139.590           inf        inf            inf  "
      ]
     },
     "execution_count": 52,
     "metadata": {},
     "output_type": "execute_result"
    }
   ],
   "source": [
    "b_cummulative"
   ]
  },
  {
   "cell_type": "markdown",
   "metadata": {},
   "source": [
    "Построим графики конверсий для всех этапов движения пользователя."
   ]
  },
  {
   "cell_type": "code",
   "execution_count": 53,
   "metadata": {},
   "outputs": [
    {
     "data": {
      "image/png": "[encoded data removed]",
      "text/plain": [
       "<Figure size 1080x360 with 1 Axes>"
      ]
     },
     "metadata": {
      "needs_background": "light"
     },
     "output_type": "display_data"
    }
   ],
   "source": [
    "fig, ax = plt.subplots(figsize=(15, 5))\n",
    "ax.plot(a_cummulative.date, a_cummulative.conv_pr_page, label = 'A')\n",
    "ax.plot(b_cummulative.date, b_cummulative.conv_pr_page, label = 'B')\n",
    "plt.legend()\n",
    "plt.title('Конверсия просмотров карточек товаров')\n",
    "plt.show()"
   ]
  },
  {
   "cell_type": "code",
   "execution_count": 54,
   "metadata": {},
   "outputs": [
    {
     "data": {
      "image/png": "[encoded data removed]",
      "text/plain": [
       "<Figure size 1080x360 with 1 Axes>"
      ]
     },
     "metadata": {
      "needs_background": "light"
     },
     "output_type": "display_data"
    }
   ],
   "source": [
    "fig, ax = plt.subplots(figsize=(15, 5))\n",
    "ax.plot(a_cummulative.date, a_cummulative.conv_cart, label = 'A')\n",
    "ax.plot(b_cummulative.date, b_cummulative.conv_cart, label = 'B')\n",
    "plt.legend()\n",
    "plt.title('Конверсия просмотров корзины')\n",
    "plt.show()"
   ]
  },
  {
   "cell_type": "code",
   "execution_count": 55,
   "metadata": {},
   "outputs": [
    {
     "data": {
      "image/png": "[encoded data removed]",
      "text/plain": [
       "<Figure size 1080x360 with 1 Axes>"
      ]
     },
     "metadata": {
      "needs_background": "light"
     },
     "output_type": "display_data"
    }
   ],
   "source": [
    "fig, ax = plt.subplots(figsize=(15, 5))\n",
    "ax.plot(a_cummulative.date, a_cummulative.conv_purchase, label = 'A')\n",
    "ax.plot(b_cummulative.date, b_cummulative.conv_purchase, label = 'B')\n",
    "plt.legend()\n",
    "plt.title('Конверсия покупок')\n",
    "plt.show()"
   ]
  },
  {
   "cell_type": "markdown",
   "metadata": {},
   "source": [
    "Построим график прироста конверсий в группе B относительно группы А."
   ]
  },
  {
   "cell_type": "code",
   "execution_count": 56,
   "metadata": {},
   "outputs": [],
   "source": [
    "end_date = min(a_cummulative['date'].max(), b_cummulative['date'].max())"
   ]
  },
  {
   "cell_type": "code",
   "execution_count": 57,
   "metadata": {},
   "outputs": [
    {
     "data": {
      "image/png": "[encoded data removed]",
      "text/plain": [
       "<Figure size 1080x360 with 1 Axes>"
      ]
     },
     "metadata": {
      "needs_background": "light"
     },
     "output_type": "display_data"
    }
   ],
   "source": [
    "fig, ax = plt.subplots(figsize=(15, 5))\n",
    "ax.plot(a_cummulative.query('date <= @end_date').date, \n",
    "        b_cummulative.query('date <= @end_date')['conv_pr_page']/a_cummulative.query('date <= @end_date')['conv_pr_page'] - 1)\n",
    "plt.title('Относительный прирост конверсии в просмотры карточек товаров группы B относительно группы A')\n",
    "plt.ylim(-0.7, 0.7)\n",
    "plt.axhline(y=0, color='black', linestyle='--')\n",
    "plt.show()"
   ]
  },
  {
   "cell_type": "code",
   "execution_count": 58,
   "metadata": {},
   "outputs": [
    {
     "data": {
      "image/png": "[encoded data removed]",
      "text/plain": [
       "<Figure size 1080x360 with 1 Axes>"
      ]
     },
     "metadata": {
      "needs_background": "light"
     },
     "output_type": "display_data"
    }
   ],
   "source": [
    "fig, ax = plt.subplots(figsize=(15, 5))\n",
    "ax.plot(a_cummulative.query('date <= @end_date').date, \n",
    "        b_cummulative.query('date <= @end_date')['conv_cart']/a_cummulative.query('date <= @end_date')['conv_cart'] - 1)\n",
    "plt.title('Относительный прирост конверсии в просмотры корзины группы B относительно группы A')\n",
    "plt.ylim(-0.7, 0.7)\n",
    "plt.axhline(y=0, color='black', linestyle='--')\n",
    "plt.show()"
   ]
  },
  {
   "cell_type": "code",
   "execution_count": 59,
   "metadata": {},
   "outputs": [
    {
     "data": {
      "image/png": "[encoded data removed]",
      "text/plain": [
       "<Figure size 1080x360 with 1 Axes>"
      ]
     },
     "metadata": {
      "needs_background": "light"
     },
     "output_type": "display_data"
    }
   ],
   "source": [
    "fig, ax = plt.subplots(figsize=(15, 5))\n",
    "ax.plot(a_cummulative.query('date <= @end_date').date, \n",
    "        b_cummulative.query('date <= @end_date')['conv_purchase']/a_cummulative.query('date <= @end_date')['conv_purchase'] - 1)\n",
    "plt.title('Относительный прирост конверсии в покупки группы B относительно группы A')\n",
    "plt.ylim(-0.7, 0.7)\n",
    "plt.axhline(y=0, color='black', linestyle='--')\n",
    "plt.show()"
   ]
  },
  {
   "cell_type": "markdown",
   "metadata": {},
   "source": [
    "### Выводы \n",
    "\n",
    "По всем метрикам группа B заметно проигрывает группе А. В тестовой группе был небольшой прирост конверсий в первые дни теста, но к концу значения оказались ниже стартовых. \n",
    "\n",
    "Скачок в распределении событий 14 декабря заметен на всех графиках - в этот момент все метрики группы А резко идут вверх, хотя до этого начинали снижаться."
   ]
  },
  {
   "cell_type": "markdown",
   "metadata": {},
   "source": [
    "## Конверсия в воронке событий"
   ]
  },
  {
   "cell_type": "markdown",
   "metadata": {},
   "source": [
    "Посмотрим еще раз, каике события встречаются в логах."
   ]
  },
  {
   "cell_type": "code",
   "execution_count": 60,
   "metadata": {},
   "outputs": [
    {
     "data": {
      "text/plain": [
       "array(['purchase', 'product_cart', 'product_page', 'login'], dtype=object)"
      ]
     },
     "execution_count": 60,
     "metadata": {},
     "output_type": "execute_result"
    }
   ],
   "source": [
    "events['event_name'].unique() "
   ]
  },
  {
   "cell_type": "markdown",
   "metadata": {},
   "source": [
    "Событий четыре:\n",
    "- `login` - вход пользователя в систему\n",
    "- `product_page` - просмотр карточки товара\n",
    "- `product_cart` - просмотр корзины\n",
    "- `purchase` - покупка\n",
    "\n",
    "События образуют последовательную цепочку движения пользователя по приложению. \n",
    "\n",
    "Посмотрим, как на самом деле пользователи двигаются по приложению."
   ]
  },
  {
   "cell_type": "code",
   "execution_count": 61,
   "metadata": {},
   "outputs": [],
   "source": [
    "# функция для составления \n",
    "def sequence(data, user):\n",
    "#     sorted_data = data.sort_values(by=['user_id', 'event_dt'])\n",
    "    sorted_user = data[data['user_id']==user].sort_values(by='event_dt')\n",
    "    return sorted_user['event_name'].drop_duplicates().to_list()"
   ]
  },
  {
   "cell_type": "code",
   "execution_count": 62,
   "metadata": {},
   "outputs": [
    {
     "data": {
      "text/plain": [
       "[login]                                          444\n",
       "[login, product_page]                            395\n",
       "[product_page, login]                            322\n",
       "[purchase, login, product_page]                  223\n",
       "[purchase, login]                                156\n",
       "[purchase, product_page, login]                  153\n",
       "[login, product_cart]                             98\n",
       "[login, product_cart, product_page]               93\n",
       "[product_cart, login]                             71\n",
       "[product_cart, product_page, login]               69\n",
       "[product_cart, login, product_page]               58\n",
       "[product_page, login, product_cart]               57\n",
       "[purchase, login, product_cart, product_page]     52\n",
       "[purchase, login, product_cart]                   45\n",
       "[login, product_page, product_cart]               42\n",
       "Name: path, dtype: int64"
      ]
     },
     "execution_count": 62,
     "metadata": {},
     "output_type": "execute_result"
    }
   ],
   "source": [
    "# это место очень долго считается, поэтому я применю функцию только к части событий\n",
    "# порядок популярности остается +- такой же\n",
    "sequence_empty=[]\n",
    "for i in events_a.user_id.unique():\n",
    "    sequence_empty.append([i, sequence(events_a, i)])\n",
    "\n",
    "path_data = pd.DataFrame(sequence_empty,columns=['user_id', 'path'])\n",
    "# посмотрим, что получилось\n",
    "path_data['path'].value_counts().head(15)"
   ]
  },
  {
   "cell_type": "markdown",
   "metadata": {},
   "source": [
    "Четвертым по популярности идет порядок `purchase`, `login`, `product_page`, что вообще-то не очень логично."
   ]
  },
  {
   "cell_type": "code",
   "execution_count": 63,
   "metadata": {},
   "outputs": [
    {
     "data": {
      "text/html": [
       "<div>\n",
       "<style scoped>\n",
       "    .dataframe tbody tr th:only-of-type {\n",
       "        vertical-align: middle;\n",
       "    }\n",
       "\n",
       "    .dataframe tbody tr th {\n",
       "        vertical-align: top;\n",
       "    }\n",
       "\n",
       "    .dataframe thead th {\n",
       "        text-align: right;\n",
       "    }\n",
       "</style>\n",
       "<table border=\"1\" class=\"dataframe\">\n",
       "  <thead>\n",
       "    <tr style=\"text-align: right;\">\n",
       "      <th></th>\n",
       "      <th>event_name</th>\n",
       "      <th>users_count</th>\n",
       "      <th>%</th>\n",
       "      <th>funnel</th>\n",
       "    </tr>\n",
       "  </thead>\n",
       "  <tbody>\n",
       "    <tr>\n",
       "      <th>0</th>\n",
       "      <td>login</td>\n",
       "      <td>58683</td>\n",
       "      <td>0.951</td>\n",
       "      <td>1.000</td>\n",
       "    </tr>\n",
       "    <tr>\n",
       "      <th>1</th>\n",
       "      <td>product_page</td>\n",
       "      <td>38918</td>\n",
       "      <td>0.630</td>\n",
       "      <td>0.663</td>\n",
       "    </tr>\n",
       "    <tr>\n",
       "      <th>2</th>\n",
       "      <td>purchase</td>\n",
       "      <td>19565</td>\n",
       "      <td>0.317</td>\n",
       "      <td>0.503</td>\n",
       "    </tr>\n",
       "    <tr>\n",
       "      <th>3</th>\n",
       "      <td>product_cart</td>\n",
       "      <td>19280</td>\n",
       "      <td>0.312</td>\n",
       "      <td>0.985</td>\n",
       "    </tr>\n",
       "  </tbody>\n",
       "</table>\n",
       "</div>"
      ],
      "text/plain": [
       "     event_name  users_count     %  funnel\n",
       "0         login        58683 0.951   1.000\n",
       "1  product_page        38918 0.630   0.663\n",
       "2      purchase        19565 0.317   0.503\n",
       "3  product_cart        19280 0.312   0.985"
      ]
     },
     "execution_count": 63,
     "metadata": {},
     "output_type": "execute_result"
    }
   ],
   "source": [
    "# сгруппируем таблицу по событиям\n",
    "event_users = events.groupby('event_name').agg({'user_id':'nunique'}).reset_index()\n",
    "event_users.set_axis(['event_name', 'users_count'], axis='columns', inplace=True)\n",
    "# добавитим столбец - какая доля уникальных пользователей совершала это событие\n",
    "event_users['%'] = event_users.users_count / n_u['user_id'].nunique()\n",
    "event_users = event_users.sort_values('users_count', ascending=False).reset_index(drop=True)\n",
    "\n",
    "# построим воронку\n",
    "event_users['funnel'] = 1\n",
    "for i in range(1, 4):\n",
    "    event_users.loc[i, 'funnel'] = event_users.loc[i, 'users_count'] /  (event_users.loc[i-1, 'users_count'])\n",
    "\n",
    "event_users"
   ]
  },
  {
   "cell_type": "code",
   "execution_count": 64,
   "metadata": {},
   "outputs": [
    {
     "data": {
      "image/png": "[encoded data removed]",
      "text/plain": [
       "<Figure size 1080x504 with 1 Axes>"
      ]
     },
     "metadata": {
      "needs_background": "light"
     },
     "output_type": "display_data"
    }
   ],
   "source": [
    "# построим график\n",
    "plt.figure(figsize=(15, 7))\n",
    "sns.barplot(data=event_users.loc[0:3], x='event_name', y='users_count', palette='crest')\n",
    "plt.title('Движение пользователей по приложению')\n",
    "plt.xlabel('События')\n",
    "plt.ylabel('Количество пользователей')\n",
    "plt.show()"
   ]
  },
  {
   "cell_type": "markdown",
   "metadata": {},
   "source": [
    "Почти все новые пользователи залогинились в приложении, две трети смотрели карточки продуктов, треть - страницу корзины и совершала покупку, причем покупки совершало более количество пользователей, чем смотрело корзину. \n",
    "\n",
    "Всего покупку совершает 32% пользователей."
   ]
  },
  {
   "cell_type": "markdown",
   "metadata": {},
   "source": [
    "## Анализ результатов эксперимента"
   ]
  },
  {
   "cell_type": "markdown",
   "metadata": {},
   "source": [
    "Для каждого события подсчитаем, какая доля пользователей в каждой группе его совершила, и проверим, является ли отличие между группами статистически достоверным.\n",
    "\n",
    "**Гипотеза H0**: между долями нет значимой разницы <br>\n",
    "**Гипотеза H1**: между долями есть значимая разница"
   ]
  },
  {
   "cell_type": "code",
   "execution_count": 65,
   "metadata": {},
   "outputs": [
    {
     "data": {
      "text/html": [
       "<div>\n",
       "<style scoped>\n",
       "    .dataframe tbody tr th:only-of-type {\n",
       "        vertical-align: middle;\n",
       "    }\n",
       "\n",
       "    .dataframe tbody tr th {\n",
       "        vertical-align: top;\n",
       "    }\n",
       "\n",
       "    .dataframe thead th {\n",
       "        text-align: right;\n",
       "    }\n",
       "</style>\n",
       "<table border=\"1\" class=\"dataframe\">\n",
       "  <thead>\n",
       "    <tr style=\"text-align: right;\">\n",
       "      <th>group</th>\n",
       "      <th>event_name</th>\n",
       "      <th>A</th>\n",
       "      <th>B</th>\n",
       "      <th>total</th>\n",
       "    </tr>\n",
       "  </thead>\n",
       "  <tbody>\n",
       "    <tr>\n",
       "      <th>0</th>\n",
       "      <td>login</td>\n",
       "      <td>2422</td>\n",
       "      <td>821</td>\n",
       "      <td>3243</td>\n",
       "    </tr>\n",
       "    <tr>\n",
       "      <th>1</th>\n",
       "      <td>product_page</td>\n",
       "      <td>1571</td>\n",
       "      <td>459</td>\n",
       "      <td>2030</td>\n",
       "    </tr>\n",
       "    <tr>\n",
       "      <th>2</th>\n",
       "      <td>product_cart</td>\n",
       "      <td>728</td>\n",
       "      <td>225</td>\n",
       "      <td>953</td>\n",
       "    </tr>\n",
       "    <tr>\n",
       "      <th>3</th>\n",
       "      <td>purchase</td>\n",
       "      <td>773</td>\n",
       "      <td>226</td>\n",
       "      <td>999</td>\n",
       "    </tr>\n",
       "  </tbody>\n",
       "</table>\n",
       "</div>"
      ],
      "text/plain": [
       "group    event_name     A    B  total\n",
       "0             login  2422  821   3243\n",
       "1      product_page  1571  459   2030\n",
       "2      product_cart   728  225    953\n",
       "3          purchase   773  226    999"
      ]
     },
     "execution_count": 65,
     "metadata": {},
     "output_type": "execute_result"
    }
   ],
   "source": [
    "events_groups = (events\n",
    "                 .merge(target_users[['user_id','group']], on='user_id')\n",
    "                 .pivot_table(index='event_name', columns='group', values='user_id', aggfunc='nunique')\n",
    "                 .reset_index().sort_values('A', ascending=False).reset_index(drop=True))\n",
    "events_groups = events_groups.reindex([0, 1, 3, 2]).reset_index(drop=True)\n",
    "events_groups['total'] = events_groups['A'] + events_groups['B']\n",
    "events_groups"
   ]
  },
  {
   "cell_type": "code",
   "execution_count": 66,
   "metadata": {},
   "outputs": [
    {
     "data": {
      "text/html": [
       "<div>\n",
       "<style scoped>\n",
       "    .dataframe tbody tr th:only-of-type {\n",
       "        vertical-align: middle;\n",
       "    }\n",
       "\n",
       "    .dataframe tbody tr th {\n",
       "        vertical-align: top;\n",
       "    }\n",
       "\n",
       "    .dataframe thead th {\n",
       "        text-align: right;\n",
       "    }\n",
       "</style>\n",
       "<table border=\"1\" class=\"dataframe\">\n",
       "  <thead>\n",
       "    <tr style=\"text-align: right;\">\n",
       "      <th>group</th>\n",
       "      <th>event_name</th>\n",
       "      <th>A</th>\n",
       "      <th>B</th>\n",
       "      <th>total</th>\n",
       "      <th>p-value</th>\n",
       "    </tr>\n",
       "  </thead>\n",
       "  <tbody>\n",
       "    <tr>\n",
       "      <th>0</th>\n",
       "      <td>login</td>\n",
       "      <td>2422</td>\n",
       "      <td>821</td>\n",
       "      <td>3243</td>\n",
       "      <td>NaN</td>\n",
       "    </tr>\n",
       "    <tr>\n",
       "      <th>1</th>\n",
       "      <td>product_page</td>\n",
       "      <td>1571</td>\n",
       "      <td>459</td>\n",
       "      <td>2030</td>\n",
       "      <td>0.000</td>\n",
       "    </tr>\n",
       "    <tr>\n",
       "      <th>2</th>\n",
       "      <td>product_cart</td>\n",
       "      <td>728</td>\n",
       "      <td>225</td>\n",
       "      <td>953</td>\n",
       "      <td>0.149</td>\n",
       "    </tr>\n",
       "    <tr>\n",
       "      <th>3</th>\n",
       "      <td>purchase</td>\n",
       "      <td>773</td>\n",
       "      <td>226</td>\n",
       "      <td>999</td>\n",
       "      <td>0.019</td>\n",
       "    </tr>\n",
       "  </tbody>\n",
       "</table>\n",
       "</div>"
      ],
      "text/plain": [
       "group    event_name     A    B  total  p-value\n",
       "0             login  2422  821   3243      NaN\n",
       "1      product_page  1571  459   2030    0.000\n",
       "2      product_cart   728  225    953    0.149\n",
       "3          purchase   773  226    999    0.019"
      ]
     },
     "execution_count": 66,
     "metadata": {},
     "output_type": "execute_result"
    }
   ],
   "source": [
    "# статистическое сравнение долей \n",
    "\n",
    "events_groups['p-value'] = events_groups.apply(lambda row:(proportions_ztest(np.array([row['A'],\n",
    "                                                                                       row['B']]),\n",
    "                                                                             np.array([events_groups.loc[0, 'A'],\n",
    "                                                                                       events_groups.loc[0, 'B']])))[1], axis=1)\n",
    "events_groups"
   ]
  },
  {
   "cell_type": "markdown",
   "metadata": {},
   "source": [
    "Так как в нашем эксперименте 3 этапа в воронке, то используя поправку Бонферрони, значение alpha следует уменьшить до 0,016. \n",
    "\n",
    "- Для просмотра карточек товаров p-value = 0 и это меньше как 0.05, так и 0.016\n",
    "- Для просмотров корзины p-value больше 0,05\n",
    "- Для заказов p-value меньше 0.05, но больше 0.016\n",
    "\n",
    "Следовательно, нулевую гипотезу не удалось отвергнуть для просмотров корзины и покупок, но не для просмотров карточек товаров. \n",
    "\n",
    "Статистические значимые различия между группами есть только на этапе просмотров карточек товаров, а при просмотре корзины и при покупках статистически значимых различий нет. "
   ]
  },
  {
   "cell_type": "markdown",
   "metadata": {},
   "source": [
    "## Выводы \n",
    "\n",
    "Почти все новые пользователи (95%) залогинились в приложении, 63% смотрели карточки продуктов, 31% - страницу корзины и 32% совершали покупку, покупки совершало более количество пользователей, чем смотрело корзину.\n",
    "\n",
    "Всего покупку совершает 32% пользователей.\n",
    "\n",
    "Корректность проведения теста можно оценить как не очень высокую.\n",
    "\n",
    "- Число новых пользователей, участвовавших в тесте, немного меньше ожидаемого - 5918 вместо 6000;\n",
    "- Распределение пользователей по группам (контрольной и тестовой) неравномерное, контрольная группа в полтора раза больше тестовой;\n",
    "- Доля новых пользователей из Европы, попавших в тест - 13% вместо ожидаемых 15%;\n",
    "- Во время проведения теста проводились маркетинговые кампании, которые могли исказить результаты теста;\n",
    "- События в собранных данных обрываются раньше озвученного окончания теста.\n",
    "Таким образом, условия, указанные в техническом задании, не выполнены.\n",
    "\n",
    "Кроме того, пользователи, попавшие в разные группы, проявляют разную активность в приложении, в группе B пользователи в среднем менее активны - совершают меньше действий, чем в группе А (5.5 против 6.9). \n",
    "\n",
    "По конверсии на каждом этапе группа B заметно проигрывает группе А. В тестовой группе был небольшой прирост конверсий в первые дни теста, но к концу значения оказались ниже стартовых.\n",
    "\n",
    "В группе А 14 декабря происходит некий скачок в количестве новых пользоватеей, который отражается на графиках конверсий всех этапов - в этот момент все метрики группы А резко идут вверх, хотя до этого начинали снижаться.\n",
    "\n",
    "Статистические значимые различия между группами есть только на этапе просмотров карточек товаров, а при просмотре корзины и при покупках статистически значимых различий нет. Таким образом, можно сделать вывод, что ожидаемого эффекта улучшенная рекомендательная система не достигла. "
   ]
  }
 ],
 "metadata": {
  "ExecuteTimeLog": [
   {
    "duration": 1444,
    "start_time": "2022-05-17T11:38:47.018Z"
   },
   {
    "duration": 705,
    "start_time": "2022-05-17T11:38:48.464Z"
   },
   {
    "duration": 592,
    "start_time": "2022-05-17T11:38:49.617Z"
   },
   {
    "duration": 181,
    "start_time": "2022-05-17T11:38:53.963Z"
   },
   {
    "duration": 5,
    "start_time": "2022-05-17T11:38:55.807Z"
   },
   {
    "duration": 16,
    "start_time": "2022-05-17T11:38:56.603Z"
   },
   {
    "duration": 16,
    "start_time": "2022-05-17T11:38:58.886Z"
   },
   {
    "duration": 8,
    "start_time": "2022-05-17T11:39:01.109Z"
   },
   {
    "duration": 52,
    "start_time": "2022-05-17T11:39:02.662Z"
   },
   {
    "duration": 23,
    "start_time": "2022-05-17T11:39:04.288Z"
   },
   {
    "duration": 31,
    "start_time": "2022-05-17T11:39:06.116Z"
   },
   {
    "duration": 23,
    "start_time": "2022-05-17T11:39:07.551Z"
   },
   {
    "duration": 47,
    "start_time": "2022-05-17T11:39:09.848Z"
   },
   {
    "duration": 244,
    "start_time": "2022-05-17T11:39:11.689Z"
   },
   {
    "duration": 1272,
    "start_time": "2022-05-17T11:39:13.015Z"
   },
   {
    "duration": 143,
    "start_time": "2022-05-17T11:39:16.461Z"
   },
   {
    "duration": 12,
    "start_time": "2022-05-17T11:39:18.331Z"
   },
   {
    "duration": 58,
    "start_time": "2022-05-17T11:39:19.485Z"
   },
   {
    "duration": 12,
    "start_time": "2022-05-17T11:39:21.150Z"
   },
   {
    "duration": 450,
    "start_time": "2022-05-17T11:39:22.552Z"
   },
   {
    "duration": 17,
    "start_time": "2022-05-17T11:39:25.242Z"
   },
   {
    "duration": 19,
    "start_time": "2022-05-17T11:39:26.759Z"
   },
   {
    "duration": 326,
    "start_time": "2022-05-17T11:39:27.862Z"
   },
   {
    "duration": 25,
    "start_time": "2022-05-17T11:39:30.181Z"
   },
   {
    "duration": 13,
    "start_time": "2022-05-17T11:39:31.504Z"
   },
   {
    "duration": 13,
    "start_time": "2022-05-17T11:39:32.143Z"
   },
   {
    "duration": 412,
    "start_time": "2022-05-17T11:39:32.601Z"
   },
   {
    "duration": 91441,
    "start_time": "2022-05-17T11:39:34.943Z"
   },
   {
    "duration": 21714,
    "start_time": "2022-05-17T11:41:06.387Z"
   },
   {
    "duration": 562,
    "start_time": "2022-05-17T11:41:28.104Z"
   },
   {
    "duration": 92088,
    "start_time": "2022-05-17T11:42:56.127Z"
   },
   {
    "duration": 20943,
    "start_time": "2022-05-17T11:44:28.219Z"
   },
   {
    "duration": 392,
    "start_time": "2022-05-17T11:44:49.164Z"
   },
   {
    "duration": 108347,
    "start_time": "2022-05-17T11:46:49.134Z"
   },
   {
    "duration": 20648,
    "start_time": "2022-05-17T11:48:37.485Z"
   },
   {
    "duration": 423,
    "start_time": "2022-05-17T11:48:58.136Z"
   },
   {
    "duration": 77712,
    "start_time": "2022-05-17T11:49:01.903Z"
   },
   {
    "duration": 14419,
    "start_time": "2022-05-17T11:50:19.618Z"
   },
   {
    "duration": 431,
    "start_time": "2022-05-17T11:50:34.039Z"
   },
   {
    "duration": 58532,
    "start_time": "2022-05-17T11:51:21.047Z"
   },
   {
    "duration": 16297,
    "start_time": "2022-05-17T11:52:19.581Z"
   },
   {
    "duration": 475,
    "start_time": "2022-05-17T11:52:35.881Z"
   },
   {
    "duration": 439,
    "start_time": "2022-05-17T11:52:40.736Z"
   },
   {
    "duration": 24,
    "start_time": "2022-05-17T11:52:43.464Z"
   },
   {
    "duration": 156,
    "start_time": "2022-05-17T11:52:44.417Z"
   },
   {
    "duration": 20,
    "start_time": "2022-05-17T11:52:50.322Z"
   },
   {
    "duration": 20,
    "start_time": "2022-05-17T11:53:32.937Z"
   },
   {
    "duration": 13,
    "start_time": "2022-05-17T11:53:34.529Z"
   },
   {
    "duration": 296,
    "start_time": "2022-05-17T11:53:36.607Z"
   },
   {
    "duration": 305,
    "start_time": "2022-05-17T11:53:38.472Z"
   },
   {
    "duration": 303,
    "start_time": "2022-05-17T11:53:39.608Z"
   },
   {
    "duration": 4,
    "start_time": "2022-05-17T11:53:41.285Z"
   },
   {
    "duration": 405,
    "start_time": "2022-05-17T11:53:42.361Z"
   },
   {
    "duration": 424,
    "start_time": "2022-05-17T11:53:43.502Z"
   },
   {
    "duration": 397,
    "start_time": "2022-05-17T11:53:44.942Z"
   },
   {
    "duration": 41,
    "start_time": "2022-05-17T11:53:47.547Z"
   },
   {
    "duration": 5,
    "start_time": "2022-05-17T11:53:49.003Z"
   },
   {
    "duration": 7140,
    "start_time": "2022-05-17T11:53:50.193Z"
   },
   {
    "duration": 232,
    "start_time": "2022-05-17T11:54:02.229Z"
   },
   {
    "duration": 262,
    "start_time": "2022-05-17T11:54:03.268Z"
   },
   {
    "duration": 190,
    "start_time": "2022-05-17T11:54:06.115Z"
   },
   {
    "duration": 19,
    "start_time": "2022-05-17T11:54:07.817Z"
   },
   {
    "duration": 1237,
    "start_time": "2022-05-18T09:09:55.544Z"
   },
   {
    "duration": 655,
    "start_time": "2022-05-18T09:09:56.783Z"
   },
   {
    "duration": 488,
    "start_time": "2022-05-18T09:09:57.440Z"
   },
   {
    "duration": 164,
    "start_time": "2022-05-18T09:09:57.930Z"
   },
   {
    "duration": 6,
    "start_time": "2022-05-18T09:09:58.096Z"
   },
   {
    "duration": 14,
    "start_time": "2022-05-18T09:09:58.106Z"
   },
   {
    "duration": 12,
    "start_time": "2022-05-18T09:09:58.122Z"
   },
   {
    "duration": 6,
    "start_time": "2022-05-18T09:09:58.136Z"
   },
   {
    "duration": 91,
    "start_time": "2022-05-18T09:09:58.144Z"
   },
   {
    "duration": 17,
    "start_time": "2022-05-18T09:09:58.241Z"
   },
   {
    "duration": 34,
    "start_time": "2022-05-18T09:09:58.260Z"
   },
   {
    "duration": 16,
    "start_time": "2022-05-18T09:09:58.305Z"
   },
   {
    "duration": 33,
    "start_time": "2022-05-18T09:09:58.323Z"
   },
   {
    "duration": 163,
    "start_time": "2022-05-18T09:09:58.360Z"
   },
   {
    "duration": 1086,
    "start_time": "2022-05-18T09:09:58.525Z"
   },
   {
    "duration": 110,
    "start_time": "2022-05-18T09:09:59.613Z"
   },
   {
    "duration": 12,
    "start_time": "2022-05-18T09:09:59.725Z"
   },
   {
    "duration": 71,
    "start_time": "2022-05-18T09:09:59.739Z"
   },
   {
    "duration": 10,
    "start_time": "2022-05-18T09:09:59.812Z"
   },
   {
    "duration": 371,
    "start_time": "2022-05-18T09:09:59.823Z"
   },
   {
    "duration": 17,
    "start_time": "2022-05-18T09:10:00.195Z"
   },
   {
    "duration": 22,
    "start_time": "2022-05-18T09:10:00.213Z"
   },
   {
    "duration": 267,
    "start_time": "2022-05-18T09:10:00.237Z"
   },
   {
    "duration": 18,
    "start_time": "2022-05-18T09:10:00.506Z"
   },
   {
    "duration": 6,
    "start_time": "2022-05-18T09:10:00.526Z"
   },
   {
    "duration": 16,
    "start_time": "2022-05-18T09:10:00.533Z"
   },
   {
    "duration": 388,
    "start_time": "2022-05-18T09:10:00.551Z"
   },
   {
    "duration": 62862,
    "start_time": "2022-05-18T09:10:00.941Z"
   },
   {
    "duration": 10302,
    "start_time": "2022-05-18T09:11:03.805Z"
   },
   {
    "duration": 307,
    "start_time": "2022-05-18T09:11:14.109Z"
   },
   {
    "duration": 56562,
    "start_time": "2022-05-18T09:11:14.418Z"
   },
   {
    "duration": 9674,
    "start_time": "2022-05-18T09:12:10.984Z"
   },
   {
    "duration": 333,
    "start_time": "2022-05-18T09:12:20.659Z"
   },
   {
    "duration": 54019,
    "start_time": "2022-05-18T09:12:20.994Z"
   },
   {
    "duration": 9726,
    "start_time": "2022-05-18T09:13:15.015Z"
   },
   {
    "duration": 288,
    "start_time": "2022-05-18T09:13:24.742Z"
   },
   {
    "duration": 52042,
    "start_time": "2022-05-18T09:13:25.032Z"
   },
   {
    "duration": 9477,
    "start_time": "2022-05-18T09:14:17.077Z"
   },
   {
    "duration": 377,
    "start_time": "2022-05-18T09:14:26.556Z"
   },
   {
    "duration": 44326,
    "start_time": "2022-05-18T09:14:26.936Z"
   },
   {
    "duration": 8989,
    "start_time": "2022-05-18T09:15:11.267Z"
   },
   {
    "duration": 345,
    "start_time": "2022-05-18T09:15:20.258Z"
   },
   {
    "duration": 218,
    "start_time": "2022-05-18T09:15:20.607Z"
   },
   {
    "duration": 13,
    "start_time": "2022-05-18T09:15:20.826Z"
   },
   {
    "duration": 15,
    "start_time": "2022-05-18T09:15:20.841Z"
   },
   {
    "duration": 34,
    "start_time": "2022-05-18T09:15:20.858Z"
   },
   {
    "duration": 21,
    "start_time": "2022-05-18T09:15:20.893Z"
   },
   {
    "duration": 373,
    "start_time": "2022-05-18T09:15:20.916Z"
   },
   {
    "duration": 214,
    "start_time": "2022-05-18T09:15:21.294Z"
   },
   {
    "duration": 239,
    "start_time": "2022-05-18T09:15:21.510Z"
   },
   {
    "duration": 4,
    "start_time": "2022-05-18T09:15:21.750Z"
   },
   {
    "duration": 350,
    "start_time": "2022-05-18T09:15:21.757Z"
   },
   {
    "duration": 329,
    "start_time": "2022-05-18T09:15:22.109Z"
   },
   {
    "duration": 386,
    "start_time": "2022-05-18T09:15:22.440Z"
   },
   {
    "duration": 32,
    "start_time": "2022-05-18T09:15:22.828Z"
   },
   {
    "duration": 3,
    "start_time": "2022-05-18T09:15:22.862Z"
   },
   {
    "duration": 4966,
    "start_time": "2022-05-18T09:15:22.866Z"
   },
   {
    "duration": 240,
    "start_time": "2022-05-18T09:15:27.834Z"
   },
   {
    "duration": 252,
    "start_time": "2022-05-18T09:15:28.076Z"
   },
   {
    "duration": 192,
    "start_time": "2022-05-18T09:15:28.331Z"
   },
   {
    "duration": 13,
    "start_time": "2022-05-18T09:15:28.525Z"
   },
   {
    "duration": 1338,
    "start_time": "2022-05-18T11:15:02.168Z"
   },
   {
    "duration": 860,
    "start_time": "2022-05-18T11:15:03.508Z"
   },
   {
    "duration": 444,
    "start_time": "2022-05-18T11:15:04.370Z"
   },
   {
    "duration": 121,
    "start_time": "2022-05-18T11:15:04.817Z"
   },
   {
    "duration": 3,
    "start_time": "2022-05-18T11:15:04.939Z"
   },
   {
    "duration": 21,
    "start_time": "2022-05-18T11:15:04.944Z"
   },
   {
    "duration": 10,
    "start_time": "2022-05-18T11:15:04.967Z"
   },
   {
    "duration": 8,
    "start_time": "2022-05-18T11:15:04.978Z"
   },
   {
    "duration": 37,
    "start_time": "2022-05-18T11:15:04.988Z"
   },
   {
    "duration": 35,
    "start_time": "2022-05-18T11:15:05.027Z"
   },
   {
    "duration": 13,
    "start_time": "2022-05-18T11:15:05.063Z"
   },
   {
    "duration": 10,
    "start_time": "2022-05-18T11:15:05.078Z"
   },
   {
    "duration": 28,
    "start_time": "2022-05-18T11:15:05.089Z"
   },
   {
    "duration": 140,
    "start_time": "2022-05-18T11:15:05.119Z"
   },
   {
    "duration": 918,
    "start_time": "2022-05-18T11:15:05.260Z"
   },
   {
    "duration": 100,
    "start_time": "2022-05-18T11:15:06.180Z"
   },
   {
    "duration": 8,
    "start_time": "2022-05-18T11:15:06.282Z"
   },
   {
    "duration": 45,
    "start_time": "2022-05-18T11:15:06.292Z"
   },
   {
    "duration": 21,
    "start_time": "2022-05-18T11:15:06.339Z"
   },
   {
    "duration": 292,
    "start_time": "2022-05-18T11:15:06.362Z"
   },
   {
    "duration": 13,
    "start_time": "2022-05-18T11:15:06.655Z"
   },
   {
    "duration": 14,
    "start_time": "2022-05-18T11:15:06.669Z"
   },
   {
    "duration": 221,
    "start_time": "2022-05-18T11:15:06.685Z"
   },
   {
    "duration": 15,
    "start_time": "2022-05-18T11:15:06.908Z"
   },
   {
    "duration": 6,
    "start_time": "2022-05-18T11:15:06.925Z"
   },
   {
    "duration": 9,
    "start_time": "2022-05-18T11:15:06.932Z"
   },
   {
    "duration": 353,
    "start_time": "2022-05-18T11:15:06.958Z"
   },
   {
    "duration": 61019,
    "start_time": "2022-05-18T11:15:07.316Z"
   },
   {
    "duration": 9675,
    "start_time": "2022-05-18T11:16:08.336Z"
   },
   {
    "duration": 283,
    "start_time": "2022-05-18T11:16:18.012Z"
   },
   {
    "duration": 53577,
    "start_time": "2022-05-18T11:16:18.297Z"
   },
   {
    "duration": 9176,
    "start_time": "2022-05-18T11:17:11.876Z"
   },
   {
    "duration": 295,
    "start_time": "2022-05-18T11:17:21.054Z"
   },
   {
    "duration": 49586,
    "start_time": "2022-05-18T11:17:21.358Z"
   },
   {
    "duration": 8821,
    "start_time": "2022-05-18T11:18:10.946Z"
   },
   {
    "duration": 313,
    "start_time": "2022-05-18T11:18:19.769Z"
   },
   {
    "duration": 48683,
    "start_time": "2022-05-18T11:18:20.083Z"
   },
   {
    "duration": 9212,
    "start_time": "2022-05-18T11:19:08.768Z"
   },
   {
    "duration": 291,
    "start_time": "2022-05-18T11:19:17.982Z"
   },
   {
    "duration": 42433,
    "start_time": "2022-05-18T11:19:18.275Z"
   },
   {
    "duration": 7780,
    "start_time": "2022-05-18T11:20:00.710Z"
   },
   {
    "duration": 288,
    "start_time": "2022-05-18T11:20:08.491Z"
   },
   {
    "duration": 183,
    "start_time": "2022-05-18T11:20:08.780Z"
   },
   {
    "duration": 14,
    "start_time": "2022-05-18T11:20:08.964Z"
   },
   {
    "duration": 19,
    "start_time": "2022-05-18T11:20:08.980Z"
   },
   {
    "duration": 21,
    "start_time": "2022-05-18T11:20:09.001Z"
   },
   {
    "duration": 22,
    "start_time": "2022-05-18T11:20:09.024Z"
   },
   {
    "duration": 210,
    "start_time": "2022-05-18T11:20:09.048Z"
   },
   {
    "duration": 191,
    "start_time": "2022-05-18T11:20:09.260Z"
   },
   {
    "duration": 188,
    "start_time": "2022-05-18T11:20:09.453Z"
   },
   {
    "duration": 4,
    "start_time": "2022-05-18T11:20:09.642Z"
   },
   {
    "duration": 293,
    "start_time": "2022-05-18T11:20:09.659Z"
   },
   {
    "duration": 302,
    "start_time": "2022-05-18T11:20:09.959Z"
   },
   {
    "duration": 287,
    "start_time": "2022-05-18T11:20:10.262Z"
   },
   {
    "duration": 30,
    "start_time": "2022-05-18T11:20:10.551Z"
   },
   {
    "duration": 33,
    "start_time": "2022-05-18T11:20:10.583Z"
   },
   {
    "duration": 4740,
    "start_time": "2022-05-18T11:20:10.619Z"
   },
   {
    "duration": 181,
    "start_time": "2022-05-18T11:20:15.361Z"
   },
   {
    "duration": 180,
    "start_time": "2022-05-18T11:20:15.544Z"
   },
   {
    "duration": 137,
    "start_time": "2022-05-18T11:20:15.726Z"
   },
   {
    "duration": 12,
    "start_time": "2022-05-18T11:20:15.864Z"
   },
   {
    "duration": 9,
    "start_time": "2022-05-18T11:22:08.789Z"
   },
   {
    "duration": 55,
    "start_time": "2022-05-18T11:24:32.561Z"
   },
   {
    "duration": 19,
    "start_time": "2022-05-18T11:24:48.756Z"
   },
   {
    "duration": 19,
    "start_time": "2022-05-18T11:26:24.186Z"
   },
   {
    "duration": 19,
    "start_time": "2022-05-18T11:27:54.952Z"
   },
   {
    "duration": 24,
    "start_time": "2022-05-18T11:29:10.712Z"
   },
   {
    "duration": 40,
    "start_time": "2022-05-18T11:30:01.185Z"
   },
   {
    "duration": 21,
    "start_time": "2022-05-18T11:30:08.614Z"
   },
   {
    "duration": 15,
    "start_time": "2022-05-18T11:30:19.176Z"
   },
   {
    "duration": 18,
    "start_time": "2022-05-18T11:31:40.374Z"
   },
   {
    "duration": 28,
    "start_time": "2022-05-18T11:31:54.891Z"
   },
   {
    "duration": 14,
    "start_time": "2022-05-18T11:39:01.449Z"
   },
   {
    "duration": 19,
    "start_time": "2022-05-18T11:39:10.507Z"
   },
   {
    "duration": 72,
    "start_time": "2022-05-18T11:40:10.752Z"
   },
   {
    "duration": 26,
    "start_time": "2022-05-18T11:40:15.829Z"
   },
   {
    "duration": 21,
    "start_time": "2022-05-18T11:40:32.995Z"
   },
   {
    "duration": 17,
    "start_time": "2022-05-18T11:40:57.542Z"
   },
   {
    "duration": 46,
    "start_time": "2022-05-18T11:42:00.771Z"
   },
   {
    "duration": 14,
    "start_time": "2022-05-18T11:42:05.609Z"
   },
   {
    "duration": 20,
    "start_time": "2022-05-18T11:42:08.213Z"
   },
   {
    "duration": 18,
    "start_time": "2022-05-18T11:42:13.468Z"
   },
   {
    "duration": 12,
    "start_time": "2022-05-18T11:42:44.689Z"
   },
   {
    "duration": 639,
    "start_time": "2022-05-18T11:43:38.059Z"
   },
   {
    "duration": 4,
    "start_time": "2022-05-18T11:43:42.347Z"
   },
   {
    "duration": 8,
    "start_time": "2022-05-18T11:44:02.989Z"
   },
   {
    "duration": 26,
    "start_time": "2022-05-18T11:44:56.762Z"
   },
   {
    "duration": 9,
    "start_time": "2022-05-18T11:44:59.129Z"
   },
   {
    "duration": 6,
    "start_time": "2022-05-18T11:45:07.632Z"
   },
   {
    "duration": 17,
    "start_time": "2022-05-18T11:45:13.843Z"
   },
   {
    "duration": 15,
    "start_time": "2022-05-18T11:45:28.355Z"
   },
   {
    "duration": 22,
    "start_time": "2022-05-18T11:46:45.877Z"
   },
   {
    "duration": 16,
    "start_time": "2022-05-18T12:05:50.886Z"
   },
   {
    "duration": 35,
    "start_time": "2022-05-18T12:05:52.943Z"
   },
   {
    "duration": 18,
    "start_time": "2022-05-18T12:05:55.175Z"
   },
   {
    "duration": 15,
    "start_time": "2022-05-18T12:05:57.529Z"
   },
   {
    "duration": 26,
    "start_time": "2022-05-18T12:06:02.229Z"
   },
   {
    "duration": 135,
    "start_time": "2022-05-18T12:06:05.315Z"
   },
   {
    "duration": 1078,
    "start_time": "2022-05-18T12:06:06.209Z"
   },
   {
    "duration": 77,
    "start_time": "2022-05-18T12:06:16.313Z"
   },
   {
    "duration": 13,
    "start_time": "2022-05-18T12:06:18.076Z"
   },
   {
    "duration": 70,
    "start_time": "2022-05-18T12:06:19.831Z"
   },
   {
    "duration": 15,
    "start_time": "2022-05-18T12:06:21.502Z"
   },
   {
    "duration": 317,
    "start_time": "2022-05-18T12:06:23.781Z"
   },
   {
    "duration": 23,
    "start_time": "2022-05-18T12:06:27.565Z"
   },
   {
    "duration": 21,
    "start_time": "2022-05-18T12:06:32.576Z"
   },
   {
    "duration": 212,
    "start_time": "2022-05-18T12:06:35.207Z"
   },
   {
    "duration": 21,
    "start_time": "2022-05-18T12:06:39.958Z"
   },
   {
    "duration": 8,
    "start_time": "2022-05-18T12:06:41.491Z"
   },
   {
    "duration": 8,
    "start_time": "2022-05-18T12:06:42.237Z"
   },
   {
    "duration": 360,
    "start_time": "2022-05-18T12:06:43.325Z"
   },
   {
    "duration": 67,
    "start_time": "2022-05-18T12:11:13.263Z"
   },
   {
    "duration": 43,
    "start_time": "2022-05-18T12:11:19.107Z"
   },
   {
    "duration": 265,
    "start_time": "2022-05-18T12:11:28.764Z"
   },
   {
    "duration": 16,
    "start_time": "2022-05-18T12:13:13.026Z"
   },
   {
    "duration": 60,
    "start_time": "2022-05-18T12:13:28.785Z"
   },
   {
    "duration": 18,
    "start_time": "2022-05-18T12:14:55.585Z"
   },
   {
    "duration": 50,
    "start_time": "2022-05-18T12:16:11.790Z"
   },
   {
    "duration": 63,
    "start_time": "2022-05-18T12:16:13.498Z"
   },
   {
    "duration": 10,
    "start_time": "2022-05-18T12:16:32.844Z"
   },
   {
    "duration": 61,
    "start_time": "2022-05-18T12:19:16.330Z"
   },
   {
    "duration": 72,
    "start_time": "2022-05-18T12:19:28.253Z"
   },
   {
    "duration": 15,
    "start_time": "2022-05-18T12:19:30.106Z"
   },
   {
    "duration": 1328,
    "start_time": "2022-05-18T12:20:21.845Z"
   },
   {
    "duration": 714,
    "start_time": "2022-05-18T12:20:24.471Z"
   },
   {
    "duration": 489,
    "start_time": "2022-05-18T12:20:26.096Z"
   },
   {
    "duration": 132,
    "start_time": "2022-05-18T12:20:29.534Z"
   },
   {
    "duration": 4,
    "start_time": "2022-05-18T12:20:32.825Z"
   },
   {
    "duration": 12,
    "start_time": "2022-05-18T12:20:34.105Z"
   },
   {
    "duration": 11,
    "start_time": "2022-05-18T12:20:35.433Z"
   },
   {
    "duration": 8,
    "start_time": "2022-05-18T12:20:38.561Z"
   },
   {
    "duration": 58,
    "start_time": "2022-05-18T12:20:40.056Z"
   },
   {
    "duration": 13,
    "start_time": "2022-05-18T12:20:52.980Z"
   },
   {
    "duration": 5,
    "start_time": "2022-05-18T12:20:55.241Z"
   },
   {
    "duration": 46,
    "start_time": "2022-05-18T12:20:57.679Z"
   },
   {
    "duration": 30,
    "start_time": "2022-05-18T12:21:01.855Z"
   },
   {
    "duration": 26,
    "start_time": "2022-05-18T12:21:02.991Z"
   },
   {
    "duration": 25,
    "start_time": "2022-05-18T12:21:04.553Z"
   },
   {
    "duration": 13,
    "start_time": "2022-05-18T12:21:05.998Z"
   },
   {
    "duration": 33,
    "start_time": "2022-05-18T12:21:07.378Z"
   },
   {
    "duration": 130,
    "start_time": "2022-05-18T12:21:10.874Z"
   },
   {
    "duration": 1043,
    "start_time": "2022-05-18T12:21:11.792Z"
   },
   {
    "duration": 4,
    "start_time": "2022-05-18T12:21:32.516Z"
   },
   {
    "duration": 298,
    "start_time": "2022-05-18T12:23:13.770Z"
   },
   {
    "duration": 577,
    "start_time": "2022-05-18T12:23:48.619Z"
   },
   {
    "duration": 107,
    "start_time": "2022-05-18T12:23:54.788Z"
   },
   {
    "duration": 133,
    "start_time": "2022-05-18T12:24:07.939Z"
   },
   {
    "duration": 806,
    "start_time": "2022-05-18T12:24:08.885Z"
   },
   {
    "duration": 304,
    "start_time": "2022-05-18T12:24:19.628Z"
   },
   {
    "duration": 50,
    "start_time": "2022-05-18T12:24:49.049Z"
   },
   {
    "duration": 13,
    "start_time": "2022-05-18T12:24:50.873Z"
   },
   {
    "duration": 52,
    "start_time": "2022-05-18T12:24:51.523Z"
   },
   {
    "duration": 11,
    "start_time": "2022-05-18T12:24:52.293Z"
   },
   {
    "duration": 306,
    "start_time": "2022-05-18T12:24:54.401Z"
   },
   {
    "duration": 22,
    "start_time": "2022-05-18T12:24:58.776Z"
   },
   {
    "duration": 21,
    "start_time": "2022-05-18T12:24:59.691Z"
   },
   {
    "duration": 223,
    "start_time": "2022-05-18T12:25:00.597Z"
   },
   {
    "duration": 15,
    "start_time": "2022-05-18T12:25:11.370Z"
   },
   {
    "duration": 9,
    "start_time": "2022-05-18T12:25:13.121Z"
   },
   {
    "duration": 7,
    "start_time": "2022-05-18T12:25:13.908Z"
   },
   {
    "duration": 303,
    "start_time": "2022-05-18T12:25:15.573Z"
   },
   {
    "duration": 77638,
    "start_time": "2022-05-18T12:25:18.158Z"
   },
   {
    "duration": 12005,
    "start_time": "2022-05-18T12:26:35.798Z"
   },
   {
    "duration": 281,
    "start_time": "2022-05-18T12:26:47.805Z"
   },
   {
    "duration": 72319,
    "start_time": "2022-05-18T12:26:48.087Z"
   },
   {
    "duration": 11278,
    "start_time": "2022-05-18T12:28:00.408Z"
   },
   {
    "duration": 298,
    "start_time": "2022-05-18T12:28:11.688Z"
   },
   {
    "duration": 65794,
    "start_time": "2022-05-18T12:28:25.288Z"
   },
   {
    "duration": 10891,
    "start_time": "2022-05-18T12:29:31.084Z"
   },
   {
    "duration": 313,
    "start_time": "2022-05-18T12:29:41.977Z"
   },
   {
    "duration": 65787,
    "start_time": "2022-05-18T12:29:54.800Z"
   },
   {
    "duration": 10835,
    "start_time": "2022-05-18T12:31:00.589Z"
   },
   {
    "duration": 331,
    "start_time": "2022-05-18T12:31:11.425Z"
   },
   {
    "duration": 56003,
    "start_time": "2022-05-18T12:31:25.800Z"
   },
   {
    "duration": 9484,
    "start_time": "2022-05-18T12:32:21.805Z"
   },
   {
    "duration": 314,
    "start_time": "2022-05-18T12:32:31.291Z"
   },
   {
    "duration": 200,
    "start_time": "2022-05-18T12:32:35.507Z"
   },
   {
    "duration": 13,
    "start_time": "2022-05-18T12:32:40.485Z"
   },
   {
    "duration": 13,
    "start_time": "2022-05-18T12:32:42.028Z"
   },
   {
    "duration": 11,
    "start_time": "2022-05-18T12:32:43.388Z"
   },
   {
    "duration": 16,
    "start_time": "2022-05-18T12:33:02.990Z"
   },
   {
    "duration": 364,
    "start_time": "2022-05-18T12:33:05.482Z"
   },
   {
    "duration": 237,
    "start_time": "2022-05-18T12:33:06.350Z"
   },
   {
    "duration": 204,
    "start_time": "2022-05-18T12:33:08.398Z"
   },
   {
    "duration": 305,
    "start_time": "2022-05-18T12:33:10.532Z"
   },
   {
    "duration": 6,
    "start_time": "2022-05-18T12:33:12.804Z"
   },
   {
    "duration": 357,
    "start_time": "2022-05-18T12:33:14.338Z"
   },
   {
    "duration": 288,
    "start_time": "2022-05-18T12:33:16.892Z"
   },
   {
    "duration": 292,
    "start_time": "2022-05-18T12:33:19.179Z"
   },
   {
    "duration": 22,
    "start_time": "2022-05-18T12:33:24.707Z"
   },
   {
    "duration": 3,
    "start_time": "2022-05-18T12:33:26.775Z"
   },
   {
    "duration": 6130,
    "start_time": "2022-05-18T12:33:27.876Z"
   },
   {
    "duration": 147,
    "start_time": "2022-05-18T12:33:47.946Z"
   },
   {
    "duration": 154,
    "start_time": "2022-05-18T12:33:50.028Z"
   },
   {
    "duration": 133,
    "start_time": "2022-05-18T12:33:58.405Z"
   },
   {
    "duration": 13,
    "start_time": "2022-05-18T12:34:00.342Z"
   },
   {
    "duration": 4,
    "start_time": "2022-05-18T12:36:27.149Z"
   },
   {
    "duration": 20,
    "start_time": "2022-05-18T12:40:29.176Z"
   },
   {
    "duration": 17,
    "start_time": "2022-05-18T12:40:34.438Z"
   },
   {
    "duration": 17,
    "start_time": "2022-05-18T12:41:15.875Z"
   },
   {
    "duration": 27,
    "start_time": "2022-05-18T12:41:41.987Z"
   },
   {
    "duration": 11,
    "start_time": "2022-05-18T12:41:51.177Z"
   }
  ],
  "kernelspec": {
   "display_name": "Python 3",
   "language": "python",
   "name": "python3"
  },
  "language_info": {
   "codemirror_mode": {
    "name": "ipython",
    "version": 3
   },
   "file_extension": ".py",
   "mimetype": "text/x-python",
   "name": "python",
   "nbconvert_exporter": "python",
   "pygments_lexer": "ipython3",
   "version": "3.8.5"
  },
  "toc": {
   "base_numbering": 1,
   "nav_menu": {},
   "number_sections": true,
   "sideBar": true,
   "skip_h1_title": true,
   "title_cell": "Table of Contents",
   "title_sidebar": "Contents",
   "toc_cell": false,
   "toc_position": {},
   "toc_section_display": true,
   "toc_window_display": false
  }
 },
 "nbformat": 4,
 "nbformat_minor": 4
}
