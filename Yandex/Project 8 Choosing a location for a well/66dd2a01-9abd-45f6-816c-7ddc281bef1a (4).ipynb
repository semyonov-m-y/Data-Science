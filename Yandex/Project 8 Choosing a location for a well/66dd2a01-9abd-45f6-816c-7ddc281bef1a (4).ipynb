{
 "cells": [
  {
   "cell_type": "markdown",
   "metadata": {},
   "source": [
    "# Выбор локации для скважины"
   ]
  },
  {
   "cell_type": "markdown",
   "metadata": {},
   "source": [
    "Допустим, вы работаете в добывающей компании «ГлавРосГосНефть». Нужно решить, где бурить новую скважину.\n",
    "\n",
    "Вам предоставлены пробы нефти в трёх регионах: в каждом 10 000 месторождений, где измерили качество нефти и объём её запасов. Постройте модель машинного обучения, которая поможет определить регион, где добыча принесёт наибольшую прибыль. Проанализируйте возможную прибыль и риски техникой *Bootstrap.*\n",
    "\n",
    "**Шаги для выбора локации:**\n",
    "\n",
    "- В избранном регионе ищут месторождения, для каждого определяют значения признаков;\n",
    "- Строят модель и оценивают объём запасов;\n",
    "- Выбирают месторождения с самым высокими оценками значений. Количество месторождений зависит от бюджета компании и стоимости разработки одной скважины;\n",
    "- Прибыль равна суммарной прибыли отобранных месторождений.\n",
    "\n",
    "**Шаги выполнения проекта:**\n",
    "1.\tЗагрузим и подготовим данные.\n",
    "2.\tОбучим и проверим модель для каждого региона:\n",
    "2.1. Разобьём данные на обучающую и валидационную выборки в соотношении 75:25.\n",
    "2.2. Обучим модель и сделаем предсказания на валидационной выборке.\n",
    "2.3. Сохраним предсказания и правильные ответы на валидационной выборке.\n",
    "2.4. Напечатаем на экране средний запас предсказанного сырья и RMSE модели.\n",
    "2.5. Проанализируем результаты.\n",
    "3.\tПодготовимся к расчёту прибыли:\n",
    "3.1. Все ключевые значения для расчётов сохраним в отдельных переменных.\n",
    "3.2. Рассчитаем достаточный объём сырья для безубыточной разработки новой скважины. Сравним полученный объём сырья со средним запасом в каждом регионе. \n",
    "3.3. Напишем выводы по этапу подготовки расчёта прибыли.\n",
    "4.\tНапишем функцию для расчёта прибыли по выбранным скважинам и предсказаниям модели:\n",
    "4.1. Выберем скважины с максимальными значениями предсказаний. \n",
    "4.2. Просуммируем целевое значение объёма сырья, соответствующее этим предсказаниям.\n",
    "4.3. Рассчитаем прибыль для полученного объёма сырья.\n",
    "5.\tПосчитаем риски и прибыль для каждого региона:\n",
    "5.1. Применим технику Bootstrap с 1000 выборок, чтобы найти распределение прибыли.\n",
    "5.2. Найдем среднюю прибыль, 95%-й доверительный интервал и риск убытков. Убыток — это отрицательная прибыль.\n",
    "5.3. Напишем выводы: предложим регион для разработки скважин и обоснуем выбор.\n",
    "\n",
    "**Описание данных**\n",
    "\n",
    "Данные геологоразведки трёх регионов находятся в файлах: \n",
    "\n",
    "•\t/datasets/geo_data_0.csv. Скачать датасет\n",
    "\n",
    "•\t/datasets/geo_data_1.csv. Скачать датасет\n",
    "\n",
    "•\t/datasets/geo_data_2.csv. Скачать датасет\n",
    "\n",
    "•\tid — уникальный идентификатор скважины;\n",
    "\n",
    "•\tf0, f1, f2 — три признака точек (неважно, что они означают, но сами признаки значимы);\n",
    "\n",
    "•\tproduct — объём запасов в скважине (тыс. баррелей).\n",
    "\n",
    "Условия задачи:\n",
    "\n",
    "•\tДля обучения модели подходит только линейная регрессия (остальные — недостаточно предсказуемые).\n",
    "\n",
    "•\tПри разведке региона исследуют 500 точек, из которых с помощью машинного обучения выбирают 200 лучших для разработки.\n",
    "\n",
    "•\tБюджет на разработку скважин в регионе — 10 млрд рублей.\n",
    "\n",
    "•\tПри нынешних ценах один баррель сырья приносит 450 рублей дохода. Доход с каждой единицы продукта составляет 450 тыс.\n",
    "рублей, поскольку объём указан в тысячах баррелей.\n",
    "\n",
    "•\tПосле оценки рисков нужно оставить лишь те регионы, в которых вероятность убытков меньше 2.5%. Среди них выбирают регион с наибольшей средней прибылью.\n",
    "\n",
    "Данные синтетические: детали контрактов и характеристики месторождений не разглашаются.\n"
   ]
  },
  {
   "cell_type": "markdown",
   "metadata": {},
   "source": [
    "## Загрузка и подготовка данных"
   ]
  },
  {
   "cell_type": "code",
   "execution_count": 1,
   "metadata": {},
   "outputs": [],
   "source": [
    "# Импортируем необходимые библиотеки\n",
    "import pandas as pd\n",
    "import numpy as np\n",
    "import matplotlib.pyplot as plt\n",
    "import seaborn as sns\n",
    "import warnings\n",
    "from tqdm import tqdm_notebook\n",
    "from scipy import stats as st\n",
    "from sklearn.model_selection import train_test_split\n",
    "from sklearn.linear_model import LinearRegression\n",
    "from sklearn.metrics import mean_squared_error\n",
    "from sklearn.preprocessing import StandardScaler\n",
    "warnings.filterwarnings(\"ignore\")"
   ]
  },
  {
   "cell_type": "code",
   "execution_count": 2,
   "metadata": {},
   "outputs": [],
   "source": [
    "# Снимем ограничение на количество столбцов\n",
    "pd.set_option('display.max_columns', None)\n",
    "\n",
    "# Снимем ограничение на ширину столбцов\n",
    "pd.set_option('display.max_colwidth', None)\n",
    "\n",
    "# Игнорируем предупреждения\n",
    "pd.set_option('chained_assignment', None)"
   ]
  },
  {
   "cell_type": "code",
   "execution_count": 3,
   "metadata": {},
   "outputs": [],
   "source": [
    "# Загрузим данные\n",
    "try:\n",
    "    for i in range(3):\n",
    "        globals()[f'region{i + 1}'] = pd.read_csv(f'/datasets/geo_data_{i}.csv')    \n",
    "except:\n",
    "    for i in range(3):\n",
    "        globals()[f'region{i + 1}'] = pd.read_csv(f'geo_data_{i}.csv')"
   ]
  },
  {
   "cell_type": "code",
   "execution_count": 5,
   "metadata": {
    "scrolled": false
   },
   "outputs": [
    {
     "name": "stdout",
     "output_type": "stream",
     "text": [
      "Данные региона 1 :\n",
      "Данные датасета:\n",
      "      id        f0        f1        f2     product\n",
      "0  txEyH  0.705745 -0.497823  1.221170  105.280062\n",
      "1  2acmU  1.334711 -0.340164  4.365080   73.037750\n",
      "2  409Wp  1.022732  0.151990  1.419926   85.265647\n",
      "3  iJLyR -0.032172  0.139033  2.978566  168.620776\n",
      "4  Xdl7t  1.988431  0.155413  4.751769  154.036647\n",
      "\n",
      "Информация датасета:\n",
      "<class 'pandas.core.frame.DataFrame'>\n",
      "RangeIndex: 100000 entries, 0 to 99999\n",
      "Data columns (total 5 columns):\n",
      " #   Column   Non-Null Count   Dtype  \n",
      "---  ------   --------------   -----  \n",
      " 0   id       100000 non-null  object \n",
      " 1   f0       100000 non-null  float64\n",
      " 2   f1       100000 non-null  float64\n",
      " 3   f2       100000 non-null  float64\n",
      " 4   product  100000 non-null  float64\n",
      "dtypes: float64(4), object(1)\n",
      "memory usage: 3.8+ MB\n",
      "None\n",
      "\n",
      "Описание датасета:\n",
      "                  f0             f1             f2        product\n",
      "count  100000.000000  100000.000000  100000.000000  100000.000000\n",
      "mean        0.500419       0.250143       2.502647      92.500000\n",
      "std         0.871832       0.504433       3.248248      44.288691\n",
      "min        -1.408605      -0.848218     -12.088328       0.000000\n",
      "25%        -0.072580      -0.200881       0.287748      56.497507\n",
      "50%         0.502360       0.250252       2.515969      91.849972\n",
      "75%         1.073581       0.700646       4.715088     128.564089\n",
      "max         2.362331       1.343769      16.003790     185.364347\n",
      "\n",
      "Количествово пропусков:id         0\n",
      "f0         0\n",
      "f1         0\n",
      "f2         0\n",
      "product    0\n",
      "dtype: int64\n",
      "\n",
      "Количествово дубликатов:0\n",
      "\n",
      "Уникальные значения датасета:\n",
      "id          99990\n",
      "f0         100000\n",
      "f1         100000\n",
      "f2         100000\n",
      "product    100000\n",
      "dtype: int64\n",
      "\n",
      "               f0        f1        f2   product\n",
      "f0       1.000000 -0.440723 -0.003153  0.143536\n",
      "f1      -0.440723  1.000000  0.001724 -0.192356\n",
      "f2      -0.003153  0.001724  1.000000  0.483663\n",
      "product  0.143536 -0.192356  0.483663  1.000000\n"
     ]
    },
    {
     "data": {
      "image/png": "[encoded data removed]",
      "text/plain": [
       "<Figure size 1080x360 with 2 Axes>"
      ]
     },
     "metadata": {
      "needs_background": "light"
     },
     "output_type": "display_data"
    },
    {
     "data": {
      "image/png": "[encoded data removed]",
      "text/plain": [
       "<Figure size 1080x360 with 4 Axes>"
      ]
     },
     "metadata": {
      "needs_background": "light"
     },
     "output_type": "display_data"
    },
    {
     "name": "stdout",
     "output_type": "stream",
     "text": [
      "**************************************************************************\n",
      "Данные региона 2 :\n",
      "Данные датасета:\n",
      "      id         f0         f1        f2     product\n",
      "0  kBEdx -15.001348  -8.276000 -0.005876    3.179103\n",
      "1  62mP7  14.272088  -3.475083  0.999183   26.953261\n",
      "2  vyE1P   6.263187  -5.948386  5.001160  134.766305\n",
      "3  KcrkZ -13.081196 -11.506057  4.999415  137.945408\n",
      "4  AHL4O  12.702195  -8.147433  5.004363  134.766305\n",
      "\n",
      "Информация датасета:\n",
      "<class 'pandas.core.frame.DataFrame'>\n",
      "RangeIndex: 100000 entries, 0 to 99999\n",
      "Data columns (total 5 columns):\n",
      " #   Column   Non-Null Count   Dtype  \n",
      "---  ------   --------------   -----  \n",
      " 0   id       100000 non-null  object \n",
      " 1   f0       100000 non-null  float64\n",
      " 2   f1       100000 non-null  float64\n",
      " 3   f2       100000 non-null  float64\n",
      " 4   product  100000 non-null  float64\n",
      "dtypes: float64(4), object(1)\n",
      "memory usage: 3.8+ MB\n",
      "None\n",
      "\n",
      "Описание датасета:\n",
      "                  f0             f1             f2        product\n",
      "count  100000.000000  100000.000000  100000.000000  100000.000000\n",
      "mean        1.141296      -4.796579       2.494541      68.825000\n",
      "std         8.965932       5.119872       1.703572      45.944423\n",
      "min       -31.609576     -26.358598      -0.018144       0.000000\n",
      "25%        -6.298551      -8.267985       1.000021      26.953261\n",
      "50%         1.153055      -4.813172       2.011479      57.085625\n",
      "75%         8.621015      -1.332816       3.999904     107.813044\n",
      "max        29.421755      18.734063       5.019721     137.945408\n",
      "\n",
      "Количествово пропусков:id         0\n",
      "f0         0\n",
      "f1         0\n",
      "f2         0\n",
      "product    0\n",
      "dtype: int64\n",
      "\n",
      "Количествово дубликатов:0\n",
      "\n",
      "Уникальные значения датасета:\n",
      "id          99996\n",
      "f0         100000\n",
      "f1         100000\n",
      "f2         100000\n",
      "product        12\n",
      "dtype: int64\n",
      "\n",
      "               f0        f1        f2   product\n",
      "f0       1.000000  0.182287 -0.001777 -0.030491\n",
      "f1       0.182287  1.000000 -0.002595 -0.010155\n",
      "f2      -0.001777 -0.002595  1.000000  0.999397\n",
      "product -0.030491 -0.010155  0.999397  1.000000\n"
     ]
    },
    {
     "data": {
      "image/png": "[encoded data removed]",
      "text/plain": [
       "<Figure size 1080x360 with 2 Axes>"
      ]
     },
     "metadata": {
      "needs_background": "light"
     },
     "output_type": "display_data"
    },
    {
     "data": {
      "image/png": "[encoded data removed]",
      "text/plain": [
       "<Figure size 1080x360 with 4 Axes>"
      ]
     },
     "metadata": {
      "needs_background": "light"
     },
     "output_type": "display_data"
    },
    {
     "name": "stdout",
     "output_type": "stream",
     "text": [
      "**************************************************************************\n",
      "Данные региона 3 :\n",
      "Данные датасета:\n",
      "      id        f0        f1        f2     product\n",
      "0  fwXo0 -1.146987  0.963328 -0.828965   27.758673\n",
      "1  WJtFt  0.262778  0.269839 -2.530187   56.069697\n",
      "2  ovLUW  0.194587  0.289035 -5.586433   62.871910\n",
      "3  q6cA6  2.236060 -0.553760  0.930038  114.572842\n",
      "4  WPMUX -0.515993  1.716266  5.899011  149.600746\n",
      "\n",
      "Информация датасета:\n",
      "<class 'pandas.core.frame.DataFrame'>\n",
      "RangeIndex: 100000 entries, 0 to 99999\n",
      "Data columns (total 5 columns):\n",
      " #   Column   Non-Null Count   Dtype  \n",
      "---  ------   --------------   -----  \n",
      " 0   id       100000 non-null  object \n",
      " 1   f0       100000 non-null  float64\n",
      " 2   f1       100000 non-null  float64\n",
      " 3   f2       100000 non-null  float64\n",
      " 4   product  100000 non-null  float64\n",
      "dtypes: float64(4), object(1)\n",
      "memory usage: 3.8+ MB\n",
      "None\n",
      "\n",
      "Описание датасета:\n",
      "                  f0             f1             f2        product\n",
      "count  100000.000000  100000.000000  100000.000000  100000.000000\n",
      "mean        0.002023      -0.002081       2.495128      95.000000\n",
      "std         1.732045       1.730417       3.473445      44.749921\n",
      "min        -8.760004      -7.084020     -11.970335       0.000000\n",
      "25%        -1.162288      -1.174820       0.130359      59.450441\n",
      "50%         0.009424      -0.009482       2.484236      94.925613\n",
      "75%         1.158535       1.163678       4.858794     130.595027\n",
      "max         7.238262       7.844801      16.739402     190.029838\n",
      "\n",
      "Количествово пропусков:id         0\n",
      "f0         0\n",
      "f1         0\n",
      "f2         0\n",
      "product    0\n",
      "dtype: int64\n",
      "\n",
      "Количествово дубликатов:0\n",
      "\n",
      "Уникальные значения датасета:\n",
      "id          99996\n",
      "f0         100000\n",
      "f1         100000\n",
      "f2         100000\n",
      "product    100000\n",
      "dtype: int64\n",
      "\n",
      "               f0        f1        f2   product\n",
      "f0       1.000000  0.000528 -0.000448 -0.001987\n",
      "f1       0.000528  1.000000  0.000779 -0.001012\n",
      "f2      -0.000448  0.000779  1.000000  0.445871\n",
      "product -0.001987 -0.001012  0.445871  1.000000\n"
     ]
    },
    {
     "data": {
      "image/png": "[encoded data removed]",
      "text/plain": [
       "<Figure size 1080x360 with 2 Axes>"
      ]
     },
     "metadata": {
      "needs_background": "light"
     },
     "output_type": "display_data"
    },
    {
     "data": {
      "image/png": "[encoded data removed]",
      "text/plain": [
       "<Figure size 1080x360 with 4 Axes>"
      ]
     },
     "metadata": {
      "needs_background": "light"
     },
     "output_type": "display_data"
    },
    {
     "name": "stdout",
     "output_type": "stream",
     "text": [
      "**************************************************************************\n"
     ]
    }
   ],
   "source": [
    "# Посмотрим загруженные данные\n",
    "reg = 1\n",
    "for data in [region1, region2, region3]:\n",
    "    print('Данные региона', reg, ':')\n",
    "    print('Данные датасета:')\n",
    "    print(data.head())\n",
    "    print()\n",
    "    print('Информация датасета:')\n",
    "    print(data.info())\n",
    "    print()\n",
    "    print('Описание датасета:')\n",
    "    print(data.describe())\n",
    "    print()\n",
    "    print(f'Количествово пропусков:{data.isna().sum()}') \n",
    "    print()\n",
    "    print(f'Количествово дубликатов:{data.duplicated().sum()}')\n",
    "    print()\n",
    "    print('Уникальные значения датасета:')\n",
    "    print(data.nunique())\n",
    "    print()\n",
    "    corr_matrix = data.corr()\n",
    "    print(corr_matrix)\n",
    "    fig, ax = plt.subplots(figsize=(15, 5))\n",
    "    sns.heatmap(corr_matrix, annot=True, cmap=\"Spectral\")\n",
    "    ax.set(title='Тепловая карта значимых признаков и объема запаса нефти в скважинах (product)')\n",
    "    \n",
    "    data.hist(figsize=(15, 5), bins=100, color='green')\n",
    "    plt.title('Количество добываемой нефти в скважинах региона')\n",
    "    plt.xlabel('Количество скважин региона')\n",
    "    plt.ylabel('Количество добываемой нефти')\n",
    "    plt.show()\n",
    "    print('**************************************************************************')\n",
    "    reg += 1;"
   ]
  },
  {
   "cell_type": "markdown",
   "metadata": {},
   "source": [
    "Явных дубликатов нет, но проверим, есть ли наличие неявных."
   ]
  },
  {
   "cell_type": "code",
   "execution_count": 6,
   "metadata": {},
   "outputs": [
    {
     "name": "stdout",
     "output_type": "stream",
     "text": [
      "AGS9W    2\n",
      "bxg6G    2\n",
      "TtcGQ    2\n",
      "bsk9y    2\n",
      "A5aEY    2\n",
      "Name: id, dtype: int64\n",
      "wt4Uk    2\n",
      "bfPNe    2\n",
      "LHZR0    2\n",
      "5ltQ6    2\n",
      "gnhKA    1\n",
      "Name: id, dtype: int64\n",
      "KUPhW    2\n",
      "Vcm5J    2\n",
      "xCHr8    2\n",
      "VF7Jo    2\n",
      "0EC0g    1\n",
      "Name: id, dtype: int64\n"
     ]
    }
   ],
   "source": [
    "print(region1['id'].value_counts().head())\n",
    "print(region2['id'].value_counts().head())\n",
    "print(region3['id'].value_counts().head())"
   ]
  },
  {
   "cell_type": "code",
   "execution_count": 7,
   "metadata": {},
   "outputs": [
    {
     "name": "stdout",
     "output_type": "stream",
     "text": [
      "          id        f0        f1        f2    product\n",
      "1949   QcMuo  0.506563 -0.323775 -2.215583  75.496502\n",
      "63593  QcMuo  0.635635 -0.473422  0.862670  64.578675\n",
      "\n",
      "          id         f0        f1        f2     product\n",
      "47591  wt4Uk  -9.091098 -8.109279 -0.002314    3.179103\n",
      "82873  wt4Uk  10.259972 -9.376355  4.994297  134.766305\n",
      "\n",
      "          id        f0        f1        f2     product\n",
      "45404  KUPhW  0.231846 -1.698941  4.990775   11.716299\n",
      "55967  KUPhW  1.211150  3.176408  5.543540  132.831802\n"
     ]
    }
   ],
   "source": [
    "# Посмотрим рандомные данные\n",
    "print(region1.query('id == \"QcMuo\"'))\n",
    "print()\n",
    "print(region2.query('id == \"wt4Uk\"'))\n",
    "print()\n",
    "print(region3.query('id == \"KUPhW\"'))"
   ]
  },
  {
   "cell_type": "markdown",
   "metadata": {},
   "source": [
    "В датасетах есть сведения о скважинах с одинаковыми именами, но разными признаками. Возможно это ошибка заполнения данных. Таких дублирующихся скважин немного, поэтому удалим их, оставив только уникальные. На качество модели удаление такого небольшого количества данных повлиять не должно."
   ]
  },
  {
   "cell_type": "code",
   "execution_count": 8,
   "metadata": {},
   "outputs": [
    {
     "name": "stdout",
     "output_type": "stream",
     "text": [
      "(100000, 5)\n",
      "(100000, 5)\n",
      "(100000, 5)\n"
     ]
    }
   ],
   "source": [
    "# Отобразим размер датасетов до удаления\n",
    "print(region1.shape)\n",
    "print(region2.shape)\n",
    "print(region3.shape)"
   ]
  },
  {
   "cell_type": "code",
   "execution_count": 9,
   "metadata": {},
   "outputs": [],
   "source": [
    "# Напишем функцию для удаления наблюдений с дублирующимися id\n",
    "def remove_double (data):\n",
    "    names = data['id'].value_counts().reset_index()\n",
    "    unique_names = names.query('id == 1')['index'].to_list()\n",
    "    data.query('id in @unique_names', inplace=True)"
   ]
  },
  {
   "cell_type": "code",
   "execution_count": 10,
   "metadata": {},
   "outputs": [
    {
     "name": "stdout",
     "output_type": "stream",
     "text": [
      "(99980, 5)\n",
      "(99992, 5)\n",
      "(99992, 5)\n"
     ]
    }
   ],
   "source": [
    "# Применим функцию ко всем трем датасетам и проверим, как что они изменились\n",
    "remove_double(region1)\n",
    "print(region1.shape)\n",
    "remove_double(region2)\n",
    "print(region2.shape)\n",
    "remove_double(region3)\n",
    "print(region3.shape)"
   ]
  },
  {
   "cell_type": "code",
   "execution_count": 11,
   "metadata": {},
   "outputs": [],
   "source": [
    "# Удалим из каждого датафрейма столбец id, так как он для нас бесполезен\n",
    "region1 = region1.drop(['id'], axis=1)\n",
    "region2 = region2.drop(['id'], axis=1)\n",
    "region3 = region3.drop(['id'], axis=1)"
   ]
  },
  {
   "cell_type": "code",
   "execution_count": 12,
   "metadata": {},
   "outputs": [
    {
     "data": {
      "image/png": "[encoded data removed]",
      "text/plain": [
       "<Figure size 720x360 with 1 Axes>"
      ]
     },
     "metadata": {
      "needs_background": "light"
     },
     "output_type": "display_data"
    },
    {
     "data": {
      "image/png": "[encoded data removed]",
      "text/plain": [
       "<Figure size 720x360 with 1 Axes>"
      ]
     },
     "metadata": {
      "needs_background": "light"
     },
     "output_type": "display_data"
    },
    {
     "data": {
      "image/png": "[encoded data removed]",
      "text/plain": [
       "<Figure size 720x360 with 1 Axes>"
      ]
     },
     "metadata": {
      "needs_background": "light"
     },
     "output_type": "display_data"
    }
   ],
   "source": [
    "# Посмотрим на выбросы в признаках\n",
    "plt.figure(figsize=(10,5))\n",
    "sns.boxplot(data=[region1.f0, region2.f0, region3.f0], palette='Accent_r', orient='h')\n",
    "plt.title('Ящики с усами для признака f0')\n",
    "plt.show()\n",
    "\n",
    "plt.figure(figsize=(10,5))\n",
    "sns.boxplot(data=[region1.f1, region2.f1, region3.f1], palette='BrBG_r', orient='h')\n",
    "plt.title('Ящики с усами для признака f1')\n",
    "plt.show()\n",
    "\n",
    "plt.figure(figsize=(10,5))\n",
    "sns.boxplot(data=[region1.f2, region2.f2, region3.f2], palette='PiYG_r', orient='h')\n",
    "plt.title('Ящики с усами для признака f2')\n",
    "plt.show()"
   ]
  },
  {
   "cell_type": "markdown",
   "metadata": {},
   "source": [
    "Есть выбросы/явные \"хвосты\":\n",
    "\n",
    "- в столбце f2 датафреймов region1 и region3\n",
    "- в столбце f1 датафреймов region2 и region3\n",
    "- в столбце f0 датафрейма region3"
   ]
  },
  {
   "cell_type": "markdown",
   "metadata": {},
   "source": [
    "**Итог:**  \n",
    "\n",
    "Импортировали все необходимые инструменты, загрузили датасеты и ознакомились с ними. Видим, что:\n",
    "\n",
    "- В трех датасетах отсутствуют явные дубликаты, а неявные в id мы удалили, как и сам столбец id после этого\n",
    "- Гистограммы демонстрируют, что распределения переменных существенно различаются для каждого региона. В частности, некоторые аномалии в данных, такие как в столбцах `f2` и `product` во втором датасете могут препятствовать обучению.\n",
    "- Показатели корреляции регионов 1 и 3 похожи, сильной корреляции данных (мультиколлинеарности) нет, больше всего зависит целевой признак product от признака f2. А в регионе 2 заметна неправдоподобная взаимосвязь этих двух признаков - единица. Это может быть связано с тем, что данные синтетические, в реальной жизни такой коэффициент корреляции сложно представить. Либо это человеческая/техническая ошибка заполнения/обработки/передачи данных.\n",
    "- Не ясно, что такое f0, f1, f2. А выбросов в них очень много. Это могут быть человеческие или технические ошибки при заполнении данных. Сложно сказать какое влияние может оказать удаление этих данных, поэтому их не трогаем."
   ]
  },
  {
   "cell_type": "markdown",
   "metadata": {},
   "source": [
    "## Обучение и проверка модели"
   ]
  },
  {
   "cell_type": "markdown",
   "metadata": {},
   "source": [
    "Как и требовалось в условии задачи, будем обучать модель с помощью линейной регрессии. Напишем функцию, которая разобьет данные на обучающую и валидационную выборки в соотношении 75:25, а затем обучит модель и сделает предсказания на валидационной выборке."
   ]
  },
  {
   "cell_type": "code",
   "execution_count": 13,
   "metadata": {},
   "outputs": [],
   "source": [
    "targets = []\n",
    "predictions = []\n",
    "\n",
    "def train_test_model_func(): \n",
    "    reg = 1\n",
    "    \n",
    "    for data in [region1, region2, region3]:\n",
    "        predictions_valid = 0\n",
    "        target_valid = 0\n",
    "\n",
    "        # Создаём датасеты с признаками для трех регионов значения целового признака\n",
    "        features = data.drop(['product'], axis=1)\n",
    "        # Создаём датасеты с целевым призаком \n",
    "        target = data['product']\n",
    "\n",
    "        # Разобьём на тренировочную (0.75) и валидационную (0.25) выборку \n",
    "        features_train, features_valid, target_train, target_valid = train_test_split(\n",
    "            features, target, test_size=0.25, random_state=12345) \n",
    "        \n",
    "        targets.append(target_valid)\n",
    "        \n",
    "        # Масштабирование признаки перед обучением модели\n",
    "        scaler = StandardScaler()\n",
    "\n",
    "        scaler.fit(features_train)\n",
    "        features_train = scaler.transform(features_train)\n",
    "        features_valid = scaler.transform(features_valid)\n",
    "\n",
    "        # Обучим модель линейной регрессии\n",
    "        model = LinearRegression() \n",
    "        model.fit(features_train, target_train) \n",
    "        predictions_valid = model.predict(features_valid)\n",
    "\n",
    "        predictions.append(predictions_valid)\n",
    "        \n",
    "        # Найдём RMSE\n",
    "        rmse = mean_squared_error(target_valid, predictions_valid)**0.5\n",
    "\n",
    "        print('Данные региона', reg, ':')\n",
    "        print('RMSE на валидационной выборке =', round(rmse, 3))\n",
    "        print('Средний предсказанный запас сырья =', round(target_valid.mean(), 3), 'тысяч баррелей')\n",
    "        print('Средний реальный запас сырья = ', round(target.mean(),3), 'тысяч баррелей')\n",
    "        print('Разница между реальным и предсказанным запасами сырья =', \n",
    "              round(target.mean() - target_valid.mean(), 3), 'тысяч баррелей')\n",
    "        print('***********************************************************************************************')\n",
    "        reg += 1\n",
    "\n",
    "    return predictions, targets"
   ]
  },
  {
   "cell_type": "code",
   "execution_count": 14,
   "metadata": {},
   "outputs": [
    {
     "name": "stdout",
     "output_type": "stream",
     "text": [
      "Данные региона 1 :\n",
      "RMSE на валидационной выборке = 37.717\n",
      "Средний предсказанный запас сырья = 92.393 тысяч баррелей\n",
      "Средний реальный запас сырья =  92.499 тысяч баррелей\n",
      "Разница между реальным и предсказанным запасами сырья = 0.106 тысяч баррелей\n",
      "***********************************************************************************************\n",
      "Данные региона 2 :\n",
      "RMSE на валидационной выборке = 0.891\n",
      "Средний предсказанный запас сырья = 68.98 тысяч баррелей\n",
      "Средний реальный запас сырья =  68.824 тысяч баррелей\n",
      "Разница между реальным и предсказанным запасами сырья = -0.156 тысяч баррелей\n",
      "***********************************************************************************************\n",
      "Данные региона 3 :\n",
      "RMSE на валидационной выборке = 39.976\n",
      "Средний предсказанный запас сырья = 94.548 тысяч баррелей\n",
      "Средний реальный запас сырья =  94.999 тысяч баррелей\n",
      "Разница между реальным и предсказанным запасами сырья = 0.451 тысяч баррелей\n",
      "***********************************************************************************************\n"
     ]
    },
    {
     "data": {
      "text/plain": [
       "([array([ 62.28661337,  70.42817752,  87.34956247, ...,  95.05743312,\n",
       "          78.94454642, 115.48299868]),\n",
       "  array([ 55.97173467,  54.63363312,  54.67483347, ..., 110.00204638,\n",
       "         137.90166257,   0.51133538]),\n",
       "  array([ 42.98902811,  95.46229171, 109.40809048, ...,  85.50757813,\n",
       "         111.31955742,  75.94431003])],\n",
       " [6169      61.171722\n",
       "  29916     94.192535\n",
       "  49569    137.742601\n",
       "  47001     10.936404\n",
       "  5723      49.611033\n",
       "              ...    \n",
       "  78253     12.229729\n",
       "  1870     123.241718\n",
       "  24146     59.061651\n",
       "  2502      53.837329\n",
       "  92485    114.154577\n",
       "  Name: product, Length: 24995, dtype: float64,\n",
       "  20914     57.085625\n",
       "  65272     57.085625\n",
       "  16622     53.906522\n",
       "  66091    134.766305\n",
       "  72146     84.038886\n",
       "              ...    \n",
       "  25268      0.000000\n",
       "  7869     110.992147\n",
       "  62036    110.992147\n",
       "  45142    137.945408\n",
       "  35823      0.000000\n",
       "  Name: product, Length: 24998, dtype: float64,\n",
       "  20912     37.147754\n",
       "  65274     55.498481\n",
       "  16620     60.024016\n",
       "  66093     33.638710\n",
       "  72148    109.242324\n",
       "              ...    \n",
       "  25266    110.321550\n",
       "  7866      38.047492\n",
       "  62038    138.282933\n",
       "  45142    147.345577\n",
       "  35822     65.334912\n",
       "  Name: product, Length: 24998, dtype: float64])"
      ]
     },
     "execution_count": 14,
     "metadata": {},
     "output_type": "execute_result"
    }
   ],
   "source": [
    "train_test_model_func()"
   ]
  },
  {
   "cell_type": "markdown",
   "metadata": {},
   "source": [
    "**Итог:**\n",
    "\n",
    "- разбили данные на обучающую и валидационную выборки\n",
    "- обучили модели и сделали предсказания, сохранили их и правильные ответы\n",
    "- посчитали средний запас сырья для каждого региона по предсказаниям и RMSE\n",
    "- качественнее всего модель отработала для региона №2, здесь метрика RMSE с самым маленьким значением. Это значит, что лучше всего модель работает в этом регионе. Это произошло за счет почти прямой корреляции признака f2 с целевым. В остальных регионах RMSE гораздо выше - видимо, есть шумы, и модель не может учесть какие-то важные параметры, лежащие в основе данных. Обычно чем ниже значение mse/rmse, тем более лучший прогноз был получен. Более высокое значение mse/rmse свидетельствует о более выраженном разбросе данных\n",
    "- средний предсказанный запас сырья больше всего у регионов 1 и 3, больше 90 тысяч бареллей. RMSE же получилось почти 40%"
   ]
  },
  {
   "cell_type": "markdown",
   "metadata": {},
   "source": [
    "## Подготовка к расчёту прибыли"
   ]
  },
  {
   "cell_type": "markdown",
   "metadata": {},
   "source": [
    "Наиболее часто для анализа финансовой результативности деятельности организации/проекта используются: оборот (выручка), себестоимость, валовая прибыль, валовая маржинальность, операционная прибыль, операционная маржинальность, чистая прибыль, ROI (возврат на инвестиции).\n",
    "\n",
    "Исходные данные есть только по одному (первому) показателю: точкой безубыточности для региона является оборот (выручка) в размере 10 млрд. рублей. С учетом стоимости единицы продукта в 450 тыс. руб. рассчитаем, какое количество единиц продукта должно быть добыто для достижения безубыточности региона.\n",
    "\n",
    "С учетом этой информации объявим ключевые переменные для расчетов:"
   ]
  },
  {
   "cell_type": "code",
   "execution_count": 15,
   "metadata": {},
   "outputs": [],
   "source": [
    "# Бюджет на разработку нефтяных скважин в отдельно взятом регионе, руб.\n",
    "BUDGET = 10_000_000_000\n",
    "\n",
    "# Стоимость одной единицы продукта (тысячи баррелей), руб.\n",
    "PRODUCT_COST = 450_000\n",
    "\n",
    "# Стоимость одного барреля, руб.\n",
    "BARREL_COST = 450\n",
    "\n",
    "# Соличество скважин для разведки при применении Bootstrap\n",
    "WELLS_EXPLORATION = 500\n",
    "\n",
    "# Количество лучших скважин в отдельно взятом регионе\n",
    "WELLS_BEST = 200\n",
    "\n",
    "# Количество итераций при применении Bootstrap\n",
    "ITERATIONS = 1000"
   ]
  },
  {
   "cell_type": "code",
   "execution_count": 16,
   "metadata": {
    "scrolled": true
   },
   "outputs": [
    {
     "name": "stdout",
     "output_type": "stream",
     "text": [
      "Достаточный объём сырья для безубыточной разработки =       111.11 тыс. баррелей\n",
      "\n",
      "Средний запас в регионе 1 =           92.50 тыс. баррелей\n",
      "Процент скважин с объёмом больше чем порог =           36.58%\n",
      "Количество скважин в объёмом больше чем порог =           36576\n"
     ]
    },
    {
     "data": {
      "image/png": "[encoded data removed]",
      "text/plain": [
       "<Figure size 432x288 with 1 Axes>"
      ]
     },
     "metadata": {
      "needs_background": "light"
     },
     "output_type": "display_data"
    },
    {
     "name": "stdout",
     "output_type": "stream",
     "text": [
      "***********************************************************************************************\n",
      "\n",
      "Средний запас в регионе 2 =           68.82 тыс. баррелей\n",
      "Процент скважин с объёмом больше чем порог =           16.54%\n",
      "Количество скважин в объёмом больше чем порог =           16536\n"
     ]
    },
    {
     "data": {
      "image/png": "[encoded data removed]",
      "text/plain": [
       "<Figure size 360x216 with 1 Axes>"
      ]
     },
     "metadata": {},
     "output_type": "display_data"
    },
    {
     "name": "stdout",
     "output_type": "stream",
     "text": [
      "***********************************************************************************************\n",
      "\n",
      "Средний запас в регионе 3 =           95.00 тыс. баррелей\n",
      "Процент скважин с объёмом больше чем порог =           38.18%\n",
      "Количество скважин в объёмом больше чем порог =           38173\n"
     ]
    },
    {
     "data": {
      "image/png": "[encoded data removed]",
      "text/plain": [
       "<Figure size 360x216 with 1 Axes>"
      ]
     },
     "metadata": {},
     "output_type": "display_data"
    },
    {
     "name": "stdout",
     "output_type": "stream",
     "text": [
      "***********************************************************************************************\n"
     ]
    }
   ],
   "source": [
    "regions = ['region1', 'region2', 'region3']\n",
    "data = [region1, region2, region3]\n",
    "\n",
    "break_even = BUDGET / (PRODUCT_COST * WELLS_BEST)\n",
    "print(f'Достаточный объём сырья для безубыточной разработки = \\\n",
    "      {break_even:.2f} тыс. баррелей')\n",
    "reg = 1\n",
    "for name, data in zip(regions, data):\n",
    "    print()\n",
    "    print(f'Средний запас в регионе {reg} = \\\n",
    "          {data[\"product\"].mean():.2f} тыс. баррелей')\n",
    "    print(f'Процент скважин с объёмом больше чем порог = \\\n",
    "          {len(data.query(\"product > @break_even\")) / len(data):.2%}')\n",
    "    print(f'Количество скважин в объёмом больше чем порог = \\\n",
    "          {len(data.query(\"product > @break_even\"))}')\n",
    "    \n",
    "    # Результаты расчета среднего запаса предсказанонго сырья\n",
    "    mean_stock = pd.DataFrame(\n",
    "        {'1': ['Регион', data[\"product\"].mean()],\n",
    "         '2': ['Перспективный регион', break_even]\n",
    "        }\n",
    "    )\n",
    "\n",
    "    mean_stock = mean_stock.T\n",
    "    mean_stock.columns = ['Регион', \n",
    "                          'Средний запас предсказанного сырья на одну скважину, тыс. баррелей']\n",
    "\n",
    "    bar_values = mean_stock['Средний запас предсказанного сырья на одну скважину, тыс. баррелей']\n",
    "    d = sns.barplot(data = mean_stock,\n",
    "        x = 'Средний запас предсказанного сырья на одну скважину, тыс. баррелей',\n",
    "        y = 'Регион',\n",
    "        palette = \"CMRmap\")\n",
    "    sns.set(rc={'figure.figsize':(5,3)})\n",
    "    d.axes.set_title('Средний запас предсказанного сырья на одну скважину по регионам, тыс. бар.')\n",
    "    d.set_xlabel('Средний запас предсказанного сырья на одну скважину, тыс. баррелей', fontsize=10)\n",
    "    d.set_ylabel('Сравнение регионов', fontsize=10)\n",
    "    d.tick_params(labelsize=10)\n",
    "    plt.show()\n",
    "    print('***********************************************************************************************')\n",
    "    reg += 1"
   ]
  },
  {
   "cell_type": "markdown",
   "metadata": {},
   "source": [
    "**Итоги**\n",
    "\n",
    "- Обобщены ключевые финансовые условия задания\n",
    "- Ключевые значения для расчетов сохранены в отдельные переменные\n",
    "- Рассчитано прогнозируемое общее количество добываемых единиц продукта\n",
    "- Для обеспечения безубыточности средняя добыча нефти в 200 лучших точках (скважинах) должна составить 111.11 единиц продукта (тыс. баррелей). Средний предскзазанный результат добычи продукта по всем скважинам региона 1 составляет 92.5 тыс. баррелей, региона 2: 68.82 тыс. баррелей, региона 3: 95 тыс. баррелей. Кроме того, из 500 скважин лишь 200 (40%) имеют запасы выше порога."
   ]
  },
  {
   "cell_type": "markdown",
   "metadata": {},
   "source": [
    "## Расчёт прибыли и рисков "
   ]
  },
  {
   "cell_type": "markdown",
   "metadata": {},
   "source": [
    "Чтобы оценить риски и прибыль используем технику Bootstrap. Создаем 1000 выборок из 500 произвольных скважин с региона по прогнозируемым запасам. Из них берем топ 200, находим их реальные показатели объемов, находим суммарную прибыль для каждой выборки и строим распределение. Посмотрим на 95%-й доверительный интервал и риск убытков."
   ]
  },
  {
   "cell_type": "code",
   "execution_count": 17,
   "metadata": {},
   "outputs": [],
   "source": [
    "# Напишем функцию, которая на основе предсказаний, доходов и кол-ва скважин считает прибыль\n",
    "def profit_func(target, quantity, revenue, count): \n",
    "    # Сортируем предсказания по скважинам по убыванию\n",
    "    wells_sorted = quantity.sort_values(ascending=False) \n",
    "    # Отбираем срезом до count индексы скважин с максимальными значениями предсказаний \n",
    "    selected = target[wells_sorted.index][:count]\n",
    "\n",
    "    # DEBUG\n",
    "    if target[wells_sorted.index].shape[0] != wells_sorted.shape[0]:\n",
    "        print(\"Несоответствие формы! Форма выбранных целей:\", target[wells_sorted.index].shape)\n",
    "\n",
    "    return revenue * selected.sum() - BUDGET                  "
   ]
  },
  {
   "cell_type": "code",
   "execution_count": 20,
   "metadata": {},
   "outputs": [
    {
     "data": {
      "application/vnd.jupyter.widget-view+json": {
       "model_id": "521077f45f6f43e6b8a57fd180f240c2",
       "version_major": 2,
       "version_minor": 0
      },
      "text/plain": [
       "  0%|          | 0/3 [00:00<?, ?it/s]"
      ]
     },
     "metadata": {},
     "output_type": "display_data"
    },
    {
     "name": "stdout",
     "output_type": "stream",
     "text": [
      "Для региона 1 :\n"
     ]
    },
    {
     "data": {
      "image/png": "[encoded data removed]",
      "text/plain": [
       "<Figure size 1080x360 with 1 Axes>"
      ]
     },
     "metadata": {},
     "output_type": "display_data"
    },
    {
     "name": "stdout",
     "output_type": "stream",
     "text": [
      "Средняя валовая прибыль с 200 лучших скважин = 431538186.583 млн. рублей.\n",
      "95% доверительный интервал лежит между [ -80924626.514 : 941037638.4 ] млн. рублей.\n",
      "Риск убытков = 5.5 %\n",
      "***********************************************************************************************\n",
      "Для региона 2 :\n"
     ]
    },
    {
     "data": {
      "image/png": "[encoded data removed]",
      "text/plain": [
       "<Figure size 1080x360 with 1 Axes>"
      ]
     },
     "metadata": {},
     "output_type": "display_data"
    },
    {
     "name": "stdout",
     "output_type": "stream",
     "text": [
      "Средняя валовая прибыль с 200 лучших скважин = 477948839.230 млн. рублей.\n",
      "95% доверительный интервал лежит между [ 51741836.325 : 897944131.398 ] млн. рублей.\n",
      "Риск убытков = 2.0 %\n",
      "***********************************************************************************************\n",
      "Для региона 3 :\n"
     ]
    },
    {
     "data": {
      "image/png": "[encoded data removed]",
      "text/plain": [
       "<Figure size 1080x360 with 1 Axes>"
      ]
     },
     "metadata": {},
     "output_type": "display_data"
    },
    {
     "name": "stdout",
     "output_type": "stream",
     "text": [
      "Средняя валовая прибыль с 200 лучших скважин = 322147249.353 млн. рублей.\n",
      "95% доверительный интервал лежит между [ -173464433.945 : 843529290.071 ] млн. рублей.\n",
      "Риск убытков = 12.3 %\n",
      "***********************************************************************************************\n"
     ]
    }
   ],
   "source": [
    "reg = 1\n",
    "\n",
    "for data in tqdm_notebook([region1, region2, region3]):\n",
    "    \n",
    "    state = np.random.RandomState(12345)\n",
    "    \n",
    "    values = []\n",
    "    # Переводим массивы предсказаний и целевого признака в pd.Series\n",
    "    predictions_valid_ = pd.Series(predictions[reg - 1])                                                 \n",
    "    target_valid_ = pd.Series(targets[reg - 1]).reset_index(drop=True)\n",
    "    \n",
    "    for i in range(1000):\n",
    "        target_subsample = target_valid_.sample(n=500, replace=True, random_state=state)\n",
    "        pred_subsample = predictions_valid_[target_subsample.index]\n",
    "        target_subsample = target_subsample.reset_index(drop=True)\n",
    "        pred_subsample = pred_subsample.reset_index(drop=True)\n",
    "        values.append(profit_func(target_subsample, pred_subsample, PRODUCT_COST, WELLS_BEST))\n",
    "\n",
    "    values = pd.Series(values)\n",
    "\n",
    "    mean_200 = values.mean()\n",
    "    lower_border = values.quantile(.025)\n",
    "    upper_border = values.quantile(.975)\n",
    "    loss_risk = st.percentileofscore(values, 0)\n",
    "    \n",
    "    print('Для региона', reg, ':')\n",
    "    \n",
    "    # Визуализируем\n",
    "    values.hist(figsize=(15,5), bins=50, color='green')\n",
    "    plt.grid(True)\n",
    "    plt.axvline(values.quantile(0.025), color='red')\n",
    "    plt.axvline(values.quantile(0.975), color='yellow')\n",
    "    plt.legend(['Нижняя граница 95%-го доверительного интервала', \n",
    "                'Верхняя граница 95%-го доверительного интервала', \n",
    "                f'Распределение прибыли для региона {reg}'])\n",
    "    plt.xlabel('Прибыль, руб.')\n",
    "    plt.ylabel('Количество скважин из 200')\n",
    "    plt.title(f'Распределение прибыли для региона {reg}')\n",
    "    plt.show()\n",
    "\n",
    "    print(f'Средняя валовая прибыль с 200 лучших скважин = {mean_200:.3f} млн. рублей.')\n",
    "    print('95% доверительный интервал лежит между [', round(lower_border, 3), ':', \n",
    "          round(upper_border, 3), '] млн. рублей.')\n",
    "    print('Риск убытков =', loss_risk, '%')\n",
    "    print('***********************************************************************************************')\n",
    "    reg += 1"
   ]
  },
  {
   "cell_type": "markdown",
   "metadata": {},
   "source": [
    "**Итог**\n",
    "\n",
    "Проанализировав данные, сравнив риски и доходность с помощью технологии Bootstrap, мы определили, что можно порекомендовать регион 2 для разработки, так как:\n",
    "\n",
    "- Вероятность убытков в нем 1.4%, то есть меньше 2.5%\n",
    "- Средняя выручка наибольшая 535246952.329 млн. рублей\n",
    "- У регионов 1 и 3 вероятность убытков больше 2.5%, поэтому их нельзя рекомендовать для разработки при текущих условиях. Особенно третий регион, так как у этого региона нибольший процент риска - 11.4%."
   ]
  },
  {
   "cell_type": "markdown",
   "metadata": {},
   "source": [
    "## Итоговый вывод"
   ]
  },
  {
   "cell_type": "markdown",
   "metadata": {},
   "source": [
    "В результате выполнения проекта решена задача и достигнута цель - выбран 2 регион для потенциальной разработки, поскольку вероятность убытков там составила менее 2.5%. Также выручка в этом регионе наибольшая. ML модель в этом регионе с большей вероятностью правильно определяет наилучшие нефтерождения и она очень хорошо отсеивает убыточные.\n",
    "\n",
    "По поводу ML моделей в других регионах они могут сильно ошибаться с предсказаниеми и мы начнём разрабатывать изначально убыточные нефтерождения. Если будет решено разрабатывать нефтерождения в других регионах (из-за более высоких средних показателей количества нефти), то рекомендуется собрать новые/более качественные данные для обучения ML модели. Иначе вероятность финансовых потерь будет очень высока.\n",
    "\n",
    "Выполнены следующие этапы:\n",
    "\n",
    "- Исходные данные загружены, проанализированы и обработаны\n",
    "- Обучена модель линейной регрессии для каждого региона\n",
    "- Данные разбиты на тренировочные и валидационные\n",
    "- Признаки отмасштабированы\n",
    "- Обучена модель, получены предсказания\n",
    "- Получен средний запас предсказанного сырья и RMSE всех моделей\n",
    "- Выполнены предварительные вычисления для расчета прибыли\n",
    "- Все ключевые значения для расчётов сохранены в отдельных переменных\n",
    "- Расчитан достаточный объём сырья для безубыточной разработки новой скважины - 111.11 тыс. баррелей\n",
    "- Выполнено сравнение полученного объёма сырья со средним запасом в каждом регионе\n",
    "- Расчитана прибыль и риски убыточной разработки для каждого региона\n",
    "- Рассчитана средняя прибыль, 95%-й доверительный интервал и риск убытков\n",
    "- Предложен регион для разработки скважин"
   ]
  },
  {
   "cell_type": "markdown",
   "metadata": {},
   "source": [
    "## Чек-лист готовности проекта"
   ]
  },
  {
   "cell_type": "markdown",
   "metadata": {},
   "source": [
    "Поставьте 'x' в выполненных пунктах. Далее нажмите Shift+Enter."
   ]
  },
  {
   "cell_type": "markdown",
   "metadata": {},
   "source": [
    "- [x]  Jupyter Notebook открыт\n",
    "- [x]  Весь код выполняется без ошибок\n",
    "- [x]  Ячейки с кодом расположены в порядке исполнения\n",
    "- [x]  Выполнен шаг 1: данные подготовлены\n",
    "- [x]  Выполнен шаг 2: модели обучены и проверены\n",
    "    - [x]  Данные корректно разбиты на обучающую и валидационную выборки\n",
    "    - [x]  Модели обучены, предсказания сделаны\n",
    "    - [x]  Предсказания и правильные ответы на валидационной выборке сохранены\n",
    "    - [x]  На экране напечатаны результаты\n",
    "    - [x]  Сделаны выводы\n",
    "- [x]  Выполнен шаг 3: проведена подготовка к расчёту прибыли\n",
    "    - [x]  Для всех ключевых значений созданы константы Python\n",
    "    - [x]  Посчитано минимальное среднее количество продукта в месторождениях региона, достаточное для разработки\n",
    "    - [x]  По предыдущему пункту сделаны выводы\n",
    "    - [x]  Написана функция расчёта прибыли\n",
    "- [x]  Выполнен шаг 4: посчитаны риски и прибыль\n",
    "    - [x]  Проведена процедура *Bootstrap*\n",
    "    - [x]  Все параметры бутстрепа соответствуют условию\n",
    "    - [x]  Найдены все нужные величины\n",
    "    - [x]  Предложен регион для разработки месторождения\n",
    "    - [x]  Выбор региона обоснован"
   ]
  }
 ],
 "metadata": {
  "ExecuteTimeLog": [
   {
    "duration": 1478,
    "start_time": "2024-01-27T11:20:47.320Z"
   },
   {
    "duration": 1592,
    "start_time": "2024-01-27T11:20:48.801Z"
   },
   {
    "duration": 100,
    "start_time": "2024-01-27T11:20:50.395Z"
   },
   {
    "duration": 1514,
    "start_time": "2024-01-28T15:55:47.016Z"
   },
   {
    "duration": 3,
    "start_time": "2024-01-28T15:55:48.532Z"
   },
   {
    "duration": 764,
    "start_time": "2024-01-28T15:55:48.536Z"
   },
   {
    "duration": 261,
    "start_time": "2024-01-28T15:55:49.301Z"
   },
   {
    "duration": 1327,
    "start_time": "2024-01-28T16:02:18.934Z"
   },
   {
    "duration": 3,
    "start_time": "2024-01-28T16:02:20.263Z"
   },
   {
    "duration": 411,
    "start_time": "2024-01-28T16:02:20.267Z"
   },
   {
    "duration": 282,
    "start_time": "2024-01-28T16:02:20.680Z"
   },
   {
    "duration": 110,
    "start_time": "2024-01-28T16:02:20.963Z"
   },
   {
    "duration": 1357,
    "start_time": "2024-01-28T16:02:49.736Z"
   },
   {
    "duration": 3,
    "start_time": "2024-01-28T16:02:51.095Z"
   },
   {
    "duration": 394,
    "start_time": "2024-01-28T16:02:51.099Z"
   },
   {
    "duration": 266,
    "start_time": "2024-01-28T16:02:51.495Z"
   },
   {
    "duration": 3050,
    "start_time": "2024-01-28T16:02:51.763Z"
   },
   {
    "duration": 1283,
    "start_time": "2024-01-28T16:04:03.677Z"
   },
   {
    "duration": 3,
    "start_time": "2024-01-28T16:04:04.961Z"
   },
   {
    "duration": 385,
    "start_time": "2024-01-28T16:04:04.965Z"
   },
   {
    "duration": 261,
    "start_time": "2024-01-28T16:04:05.352Z"
   },
   {
    "duration": 3075,
    "start_time": "2024-01-28T16:04:05.615Z"
   },
   {
    "duration": 1249,
    "start_time": "2024-01-28T16:05:19.302Z"
   },
   {
    "duration": 3,
    "start_time": "2024-01-28T16:05:20.552Z"
   },
   {
    "duration": 403,
    "start_time": "2024-01-28T16:05:20.556Z"
   },
   {
    "duration": 252,
    "start_time": "2024-01-28T16:05:20.961Z"
   },
   {
    "duration": 3187,
    "start_time": "2024-01-28T16:05:21.214Z"
   },
   {
    "duration": 1299,
    "start_time": "2024-01-28T16:11:54.257Z"
   },
   {
    "duration": 3,
    "start_time": "2024-01-28T16:11:55.558Z"
   },
   {
    "duration": 389,
    "start_time": "2024-01-28T16:11:55.562Z"
   },
   {
    "duration": 270,
    "start_time": "2024-01-28T16:11:55.953Z"
   },
   {
    "duration": 1433,
    "start_time": "2024-01-28T16:11:56.225Z"
   },
   {
    "duration": 1257,
    "start_time": "2024-01-28T16:12:31.078Z"
   },
   {
    "duration": 3,
    "start_time": "2024-01-28T16:12:32.336Z"
   },
   {
    "duration": 403,
    "start_time": "2024-01-28T16:12:32.340Z"
   },
   {
    "duration": 262,
    "start_time": "2024-01-28T16:12:32.745Z"
   },
   {
    "duration": 1386,
    "start_time": "2024-01-28T16:12:33.008Z"
   },
   {
    "duration": 1226,
    "start_time": "2024-01-28T16:12:52.194Z"
   },
   {
    "duration": 2,
    "start_time": "2024-01-28T16:12:53.422Z"
   },
   {
    "duration": 377,
    "start_time": "2024-01-28T16:12:53.426Z"
   },
   {
    "duration": 261,
    "start_time": "2024-01-28T16:12:53.804Z"
   },
   {
    "duration": 3793,
    "start_time": "2024-01-28T16:12:54.066Z"
   },
   {
    "duration": 1272,
    "start_time": "2024-01-28T16:14:48.071Z"
   },
   {
    "duration": 3,
    "start_time": "2024-01-28T16:14:49.345Z"
   },
   {
    "duration": 381,
    "start_time": "2024-01-28T16:14:49.349Z"
   },
   {
    "duration": 262,
    "start_time": "2024-01-28T16:14:49.732Z"
   },
   {
    "duration": 3636,
    "start_time": "2024-01-28T16:14:49.996Z"
   },
   {
    "duration": 1320,
    "start_time": "2024-01-28T16:55:38.889Z"
   },
   {
    "duration": 4,
    "start_time": "2024-01-28T16:55:40.212Z"
   },
   {
    "duration": 407,
    "start_time": "2024-01-28T16:55:40.217Z"
   },
   {
    "duration": 3781,
    "start_time": "2024-01-28T16:55:40.626Z"
   },
   {
    "duration": 1339,
    "start_time": "2024-01-28T18:02:01.584Z"
   },
   {
    "duration": 3,
    "start_time": "2024-01-28T18:02:02.925Z"
   },
   {
    "duration": 1372,
    "start_time": "2024-01-28T18:02:02.929Z"
   },
   {
    "duration": 4128,
    "start_time": "2024-01-28T18:02:04.302Z"
   },
   {
    "duration": 173,
    "start_time": "2024-01-28T18:02:08.433Z"
   },
   {
    "duration": 122,
    "start_time": "2024-01-28T18:02:08.607Z"
   },
   {
    "duration": 0,
    "start_time": "2024-01-28T18:02:08.731Z"
   },
   {
    "duration": 0,
    "start_time": "2024-01-28T18:02:08.732Z"
   },
   {
    "duration": 1258,
    "start_time": "2024-01-28T18:05:30.406Z"
   },
   {
    "duration": 2,
    "start_time": "2024-01-28T18:05:31.666Z"
   },
   {
    "duration": 746,
    "start_time": "2024-01-28T18:05:31.669Z"
   },
   {
    "duration": 3551,
    "start_time": "2024-01-28T18:05:32.417Z"
   },
   {
    "duration": 133,
    "start_time": "2024-01-28T18:05:35.970Z"
   },
   {
    "duration": 15,
    "start_time": "2024-01-28T18:05:36.105Z"
   },
   {
    "duration": 3,
    "start_time": "2024-01-28T18:05:36.121Z"
   },
   {
    "duration": 247,
    "start_time": "2024-01-28T18:05:36.125Z"
   },
   {
    "duration": 12,
    "start_time": "2024-01-28T18:06:43.369Z"
   },
   {
    "duration": 1396,
    "start_time": "2024-01-28T18:07:42.154Z"
   },
   {
    "duration": 3,
    "start_time": "2024-01-28T18:07:43.552Z"
   },
   {
    "duration": 383,
    "start_time": "2024-01-28T18:07:43.556Z"
   },
   {
    "duration": 3515,
    "start_time": "2024-01-28T18:07:43.941Z"
   },
   {
    "duration": 146,
    "start_time": "2024-01-28T18:07:47.458Z"
   },
   {
    "duration": 15,
    "start_time": "2024-01-28T18:07:47.606Z"
   },
   {
    "duration": 60,
    "start_time": "2024-01-28T18:07:47.622Z"
   },
   {
    "duration": 10,
    "start_time": "2024-01-28T18:07:47.685Z"
   },
   {
    "duration": 239,
    "start_time": "2024-01-28T18:07:47.696Z"
   },
   {
    "duration": 1329,
    "start_time": "2024-01-28T18:12:22.855Z"
   },
   {
    "duration": 3,
    "start_time": "2024-01-28T18:12:24.185Z"
   },
   {
    "duration": 421,
    "start_time": "2024-01-28T18:12:24.190Z"
   },
   {
    "duration": 3691,
    "start_time": "2024-01-28T18:12:24.613Z"
   },
   {
    "duration": 133,
    "start_time": "2024-01-28T18:12:28.306Z"
   },
   {
    "duration": 28,
    "start_time": "2024-01-28T18:12:28.441Z"
   },
   {
    "duration": 6,
    "start_time": "2024-01-28T18:12:28.471Z"
   },
   {
    "duration": 37,
    "start_time": "2024-01-28T18:12:28.478Z"
   },
   {
    "duration": 286,
    "start_time": "2024-01-28T18:12:28.516Z"
   },
   {
    "duration": 97,
    "start_time": "2024-01-28T18:26:22.135Z"
   },
   {
    "duration": 46,
    "start_time": "2024-01-28T18:27:06.176Z"
   },
   {
    "duration": 1309,
    "start_time": "2024-01-28T18:27:17.444Z"
   },
   {
    "duration": 2,
    "start_time": "2024-01-28T18:27:18.755Z"
   },
   {
    "duration": 377,
    "start_time": "2024-01-28T18:27:18.761Z"
   },
   {
    "duration": 183,
    "start_time": "2024-01-28T18:27:19.140Z"
   },
   {
    "duration": 0,
    "start_time": "2024-01-28T18:27:19.324Z"
   },
   {
    "duration": 0,
    "start_time": "2024-01-28T18:27:19.326Z"
   },
   {
    "duration": 1,
    "start_time": "2024-01-28T18:27:19.326Z"
   },
   {
    "duration": 0,
    "start_time": "2024-01-28T18:27:19.328Z"
   },
   {
    "duration": 0,
    "start_time": "2024-01-28T18:27:19.329Z"
   },
   {
    "duration": 0,
    "start_time": "2024-01-28T18:27:19.344Z"
   },
   {
    "duration": 0,
    "start_time": "2024-01-28T18:27:19.345Z"
   },
   {
    "duration": 1273,
    "start_time": "2024-01-28T18:27:51.451Z"
   },
   {
    "duration": 3,
    "start_time": "2024-01-28T18:27:52.725Z"
   },
   {
    "duration": 387,
    "start_time": "2024-01-28T18:27:52.729Z"
   },
   {
    "duration": 3628,
    "start_time": "2024-01-28T18:27:53.117Z"
   },
   {
    "duration": 116,
    "start_time": "2024-01-28T18:27:56.747Z"
   },
   {
    "duration": 15,
    "start_time": "2024-01-28T18:27:56.864Z"
   },
   {
    "duration": 18,
    "start_time": "2024-01-28T18:27:56.880Z"
   },
   {
    "duration": 17,
    "start_time": "2024-01-28T18:27:56.900Z"
   },
   {
    "duration": 238,
    "start_time": "2024-01-28T18:27:56.918Z"
   },
   {
    "duration": 10,
    "start_time": "2024-01-28T18:27:57.158Z"
   },
   {
    "duration": 375,
    "start_time": "2024-01-28T18:27:57.170Z"
   },
   {
    "duration": 1291,
    "start_time": "2024-01-28T18:30:47.355Z"
   },
   {
    "duration": 3,
    "start_time": "2024-01-28T18:30:48.648Z"
   },
   {
    "duration": 469,
    "start_time": "2024-01-28T18:30:48.653Z"
   },
   {
    "duration": 3800,
    "start_time": "2024-01-28T18:30:49.124Z"
   },
   {
    "duration": 141,
    "start_time": "2024-01-28T18:30:52.926Z"
   },
   {
    "duration": 14,
    "start_time": "2024-01-28T18:30:53.069Z"
   },
   {
    "duration": 2,
    "start_time": "2024-01-28T18:30:53.085Z"
   },
   {
    "duration": 5,
    "start_time": "2024-01-28T18:30:53.089Z"
   },
   {
    "duration": 243,
    "start_time": "2024-01-28T18:30:53.096Z"
   },
   {
    "duration": 11,
    "start_time": "2024-01-28T18:30:53.345Z"
   },
   {
    "duration": 297,
    "start_time": "2024-01-28T18:30:53.357Z"
   },
   {
    "duration": 1336,
    "start_time": "2024-01-28T18:40:26.403Z"
   },
   {
    "duration": 4,
    "start_time": "2024-01-28T18:40:27.741Z"
   },
   {
    "duration": 365,
    "start_time": "2024-01-28T18:40:27.747Z"
   },
   {
    "duration": 3749,
    "start_time": "2024-01-28T18:40:28.114Z"
   },
   {
    "duration": 123,
    "start_time": "2024-01-28T18:40:31.865Z"
   },
   {
    "duration": 116,
    "start_time": "2024-01-28T18:40:31.990Z"
   },
   {
    "duration": 31,
    "start_time": "2024-01-28T18:40:32.108Z"
   },
   {
    "duration": 23,
    "start_time": "2024-01-28T18:40:32.140Z"
   },
   {
    "duration": 262,
    "start_time": "2024-01-28T18:40:32.164Z"
   },
   {
    "duration": 12,
    "start_time": "2024-01-28T18:40:32.428Z"
   },
   {
    "duration": 347,
    "start_time": "2024-01-28T18:40:32.441Z"
   },
   {
    "duration": 360,
    "start_time": "2024-01-28T18:40:32.790Z"
   },
   {
    "duration": 339,
    "start_time": "2024-01-28T18:44:11.118Z"
   },
   {
    "duration": 1284,
    "start_time": "2024-01-28T18:53:06.687Z"
   },
   {
    "duration": 2,
    "start_time": "2024-01-28T18:53:07.973Z"
   },
   {
    "duration": 370,
    "start_time": "2024-01-28T18:53:07.976Z"
   },
   {
    "duration": 3515,
    "start_time": "2024-01-28T18:53:08.347Z"
   },
   {
    "duration": 125,
    "start_time": "2024-01-28T18:53:11.864Z"
   },
   {
    "duration": 14,
    "start_time": "2024-01-28T18:53:11.991Z"
   },
   {
    "duration": 23,
    "start_time": "2024-01-28T18:53:12.006Z"
   },
   {
    "duration": 5,
    "start_time": "2024-01-28T18:53:12.030Z"
   },
   {
    "duration": 252,
    "start_time": "2024-01-28T18:53:12.037Z"
   },
   {
    "duration": 11,
    "start_time": "2024-01-28T18:53:12.291Z"
   },
   {
    "duration": 360,
    "start_time": "2024-01-28T18:53:12.304Z"
   },
   {
    "duration": 289,
    "start_time": "2024-01-28T18:53:12.665Z"
   },
   {
    "duration": 1253,
    "start_time": "2024-01-28T19:08:17.099Z"
   },
   {
    "duration": 3,
    "start_time": "2024-01-28T19:08:18.354Z"
   },
   {
    "duration": 369,
    "start_time": "2024-01-28T19:08:18.358Z"
   },
   {
    "duration": 3592,
    "start_time": "2024-01-28T19:08:18.728Z"
   },
   {
    "duration": 127,
    "start_time": "2024-01-28T19:08:22.322Z"
   },
   {
    "duration": 17,
    "start_time": "2024-01-28T19:08:22.450Z"
   },
   {
    "duration": 4,
    "start_time": "2024-01-28T19:08:22.469Z"
   },
   {
    "duration": 5,
    "start_time": "2024-01-28T19:08:22.474Z"
   },
   {
    "duration": 271,
    "start_time": "2024-01-28T19:08:22.480Z"
   },
   {
    "duration": 11,
    "start_time": "2024-01-28T19:08:22.752Z"
   },
   {
    "duration": 367,
    "start_time": "2024-01-28T19:08:22.765Z"
   },
   {
    "duration": 322,
    "start_time": "2024-01-28T19:08:23.133Z"
   },
   {
    "duration": 88,
    "start_time": "2024-01-28T19:08:23.458Z"
   },
   {
    "duration": 97,
    "start_time": "2024-01-28T19:08:23.550Z"
   },
   {
    "duration": 106,
    "start_time": "2024-01-28T19:08:23.648Z"
   },
   {
    "duration": 0,
    "start_time": "2024-01-28T19:08:23.756Z"
   },
   {
    "duration": 0,
    "start_time": "2024-01-28T19:08:23.757Z"
   },
   {
    "duration": 0,
    "start_time": "2024-01-28T19:08:23.758Z"
   },
   {
    "duration": 0,
    "start_time": "2024-01-28T19:08:23.759Z"
   },
   {
    "duration": 1264,
    "start_time": "2024-01-28T19:09:16.385Z"
   },
   {
    "duration": 3,
    "start_time": "2024-01-28T19:09:17.651Z"
   },
   {
    "duration": 378,
    "start_time": "2024-01-28T19:09:17.656Z"
   },
   {
    "duration": 3693,
    "start_time": "2024-01-28T19:09:18.036Z"
   },
   {
    "duration": 138,
    "start_time": "2024-01-28T19:09:21.731Z"
   },
   {
    "duration": 15,
    "start_time": "2024-01-28T19:09:21.870Z"
   },
   {
    "duration": 9,
    "start_time": "2024-01-28T19:09:21.887Z"
   },
   {
    "duration": 8,
    "start_time": "2024-01-28T19:09:21.898Z"
   },
   {
    "duration": 258,
    "start_time": "2024-01-28T19:09:21.907Z"
   },
   {
    "duration": 11,
    "start_time": "2024-01-28T19:09:22.167Z"
   },
   {
    "duration": 365,
    "start_time": "2024-01-28T19:09:22.180Z"
   },
   {
    "duration": 399,
    "start_time": "2024-01-28T19:09:22.547Z"
   },
   {
    "duration": 4,
    "start_time": "2024-01-28T19:09:22.948Z"
   },
   {
    "duration": 33,
    "start_time": "2024-01-28T19:09:23.045Z"
   },
   {
    "duration": 125,
    "start_time": "2024-01-28T19:09:23.079Z"
   },
   {
    "duration": 0,
    "start_time": "2024-01-28T19:09:23.206Z"
   },
   {
    "duration": 0,
    "start_time": "2024-01-28T19:09:23.207Z"
   },
   {
    "duration": 0,
    "start_time": "2024-01-28T19:09:23.207Z"
   },
   {
    "duration": 0,
    "start_time": "2024-01-28T19:09:23.208Z"
   },
   {
    "duration": 1349,
    "start_time": "2024-01-28T19:11:42.488Z"
   },
   {
    "duration": 4,
    "start_time": "2024-01-28T19:11:43.841Z"
   },
   {
    "duration": 388,
    "start_time": "2024-01-28T19:11:43.852Z"
   },
   {
    "duration": 3875,
    "start_time": "2024-01-28T19:11:44.241Z"
   },
   {
    "duration": 141,
    "start_time": "2024-01-28T19:11:48.117Z"
   },
   {
    "duration": 15,
    "start_time": "2024-01-28T19:11:48.260Z"
   },
   {
    "duration": 12,
    "start_time": "2024-01-28T19:11:48.276Z"
   },
   {
    "duration": 5,
    "start_time": "2024-01-28T19:11:48.289Z"
   },
   {
    "duration": 236,
    "start_time": "2024-01-28T19:11:48.296Z"
   },
   {
    "duration": 21,
    "start_time": "2024-01-28T19:11:48.534Z"
   },
   {
    "duration": 383,
    "start_time": "2024-01-28T19:11:48.557Z"
   },
   {
    "duration": 212,
    "start_time": "2024-01-28T19:11:48.953Z"
   },
   {
    "duration": 7,
    "start_time": "2024-01-28T19:11:49.246Z"
   },
   {
    "duration": 99,
    "start_time": "2024-01-28T19:11:49.254Z"
   },
   {
    "duration": 8,
    "start_time": "2024-01-28T19:11:49.356Z"
   },
   {
    "duration": 13,
    "start_time": "2024-01-28T19:11:49.365Z"
   },
   {
    "duration": 13,
    "start_time": "2024-01-28T19:11:49.379Z"
   },
   {
    "duration": 29,
    "start_time": "2024-01-28T19:11:49.393Z"
   },
   {
    "duration": 141,
    "start_time": "2024-01-28T19:11:49.423Z"
   },
   {
    "duration": 1298,
    "start_time": "2024-01-28T19:18:51.024Z"
   },
   {
    "duration": 3,
    "start_time": "2024-01-28T19:18:52.323Z"
   },
   {
    "duration": 359,
    "start_time": "2024-01-28T19:18:52.327Z"
   },
   {
    "duration": 3628,
    "start_time": "2024-01-28T19:18:52.688Z"
   },
   {
    "duration": 127,
    "start_time": "2024-01-28T19:18:56.318Z"
   },
   {
    "duration": 14,
    "start_time": "2024-01-28T19:18:56.446Z"
   },
   {
    "duration": 26,
    "start_time": "2024-01-28T19:18:56.462Z"
   },
   {
    "duration": 52,
    "start_time": "2024-01-28T19:18:56.489Z"
   },
   {
    "duration": 250,
    "start_time": "2024-01-28T19:18:56.543Z"
   },
   {
    "duration": 10,
    "start_time": "2024-01-28T19:18:56.795Z"
   },
   {
    "duration": 433,
    "start_time": "2024-01-28T19:18:56.807Z"
   },
   {
    "duration": 321,
    "start_time": "2024-01-28T19:18:57.241Z"
   },
   {
    "duration": 82,
    "start_time": "2024-01-28T19:18:57.564Z"
   },
   {
    "duration": 108,
    "start_time": "2024-01-28T19:18:57.650Z"
   },
   {
    "duration": 12,
    "start_time": "2024-01-28T19:18:57.759Z"
   },
   {
    "duration": 11,
    "start_time": "2024-01-28T19:18:57.772Z"
   },
   {
    "duration": 4,
    "start_time": "2024-01-28T19:18:57.784Z"
   },
   {
    "duration": 12,
    "start_time": "2024-01-28T19:18:57.790Z"
   },
   {
    "duration": 120,
    "start_time": "2024-01-28T19:18:57.803Z"
   },
   {
    "duration": 3,
    "start_time": "2024-01-28T19:18:57.924Z"
   },
   {
    "duration": 104,
    "start_time": "2024-01-28T19:18:57.929Z"
   },
   {
    "duration": 3,
    "start_time": "2024-01-28T19:30:13.393Z"
   },
   {
    "duration": 20,
    "start_time": "2024-01-28T19:30:13.978Z"
   },
   {
    "duration": 1279,
    "start_time": "2024-01-28T19:30:36.186Z"
   },
   {
    "duration": 3,
    "start_time": "2024-01-28T19:30:37.467Z"
   },
   {
    "duration": 383,
    "start_time": "2024-01-28T19:30:37.471Z"
   },
   {
    "duration": 3627,
    "start_time": "2024-01-28T19:30:37.856Z"
   },
   {
    "duration": 122,
    "start_time": "2024-01-28T19:30:41.484Z"
   },
   {
    "duration": 49,
    "start_time": "2024-01-28T19:30:41.607Z"
   },
   {
    "duration": 9,
    "start_time": "2024-01-28T19:30:41.658Z"
   },
   {
    "duration": 5,
    "start_time": "2024-01-28T19:30:41.668Z"
   },
   {
    "duration": 244,
    "start_time": "2024-01-28T19:30:41.674Z"
   },
   {
    "duration": 11,
    "start_time": "2024-01-28T19:30:41.921Z"
   },
   {
    "duration": 354,
    "start_time": "2024-01-28T19:30:41.933Z"
   },
   {
    "duration": 270,
    "start_time": "2024-01-28T19:30:42.289Z"
   },
   {
    "duration": 4,
    "start_time": "2024-01-28T19:30:42.646Z"
   },
   {
    "duration": 120,
    "start_time": "2024-01-28T19:30:42.652Z"
   },
   {
    "duration": 79,
    "start_time": "2024-01-28T19:30:42.774Z"
   },
   {
    "duration": 8,
    "start_time": "2024-01-28T19:30:42.855Z"
   },
   {
    "duration": 23,
    "start_time": "2024-01-28T19:30:42.865Z"
   },
   {
    "duration": 14,
    "start_time": "2024-01-28T19:30:42.890Z"
   },
   {
    "duration": 134,
    "start_time": "2024-01-28T19:30:42.905Z"
   },
   {
    "duration": 1719,
    "start_time": "2024-01-29T07:03:13.667Z"
   },
   {
    "duration": 3,
    "start_time": "2024-01-29T07:03:15.388Z"
   },
   {
    "duration": 1630,
    "start_time": "2024-01-29T07:03:15.393Z"
   },
   {
    "duration": 4495,
    "start_time": "2024-01-29T07:03:17.025Z"
   },
   {
    "duration": 186,
    "start_time": "2024-01-29T07:03:21.522Z"
   },
   {
    "duration": 18,
    "start_time": "2024-01-29T07:03:21.709Z"
   },
   {
    "duration": 4,
    "start_time": "2024-01-29T07:03:21.728Z"
   },
   {
    "duration": 7,
    "start_time": "2024-01-29T07:03:21.734Z"
   },
   {
    "duration": 425,
    "start_time": "2024-01-29T07:03:21.743Z"
   },
   {
    "duration": 21,
    "start_time": "2024-01-29T07:03:22.170Z"
   },
   {
    "duration": 476,
    "start_time": "2024-01-29T07:03:22.193Z"
   },
   {
    "duration": 510,
    "start_time": "2024-01-29T07:03:22.671Z"
   },
   {
    "duration": 6,
    "start_time": "2024-01-29T07:03:23.183Z"
   },
   {
    "duration": 119,
    "start_time": "2024-01-29T07:03:23.194Z"
   },
   {
    "duration": 4,
    "start_time": "2024-01-29T07:03:23.315Z"
   },
   {
    "duration": 10,
    "start_time": "2024-01-29T07:03:23.321Z"
   },
   {
    "duration": 4,
    "start_time": "2024-01-29T07:03:23.334Z"
   },
   {
    "duration": 13,
    "start_time": "2024-01-29T07:03:23.340Z"
   },
   {
    "duration": 180,
    "start_time": "2024-01-29T07:03:23.354Z"
   },
   {
    "duration": 3,
    "start_time": "2024-01-29T07:03:23.537Z"
   },
   {
    "duration": 6,
    "start_time": "2024-01-29T07:03:23.542Z"
   },
   {
    "duration": 1446,
    "start_time": "2024-01-29T07:04:49.080Z"
   },
   {
    "duration": 3,
    "start_time": "2024-01-29T07:04:50.528Z"
   },
   {
    "duration": 451,
    "start_time": "2024-01-29T07:04:50.533Z"
   },
   {
    "duration": 113,
    "start_time": "2024-01-29T07:04:50.987Z"
   },
   {
    "duration": 0,
    "start_time": "2024-01-29T07:04:51.102Z"
   },
   {
    "duration": 0,
    "start_time": "2024-01-29T07:04:51.103Z"
   },
   {
    "duration": 0,
    "start_time": "2024-01-29T07:04:51.104Z"
   },
   {
    "duration": 0,
    "start_time": "2024-01-29T07:04:51.106Z"
   },
   {
    "duration": 0,
    "start_time": "2024-01-29T07:04:51.107Z"
   },
   {
    "duration": 0,
    "start_time": "2024-01-29T07:04:51.108Z"
   },
   {
    "duration": 0,
    "start_time": "2024-01-29T07:04:51.109Z"
   },
   {
    "duration": 0,
    "start_time": "2024-01-29T07:04:51.110Z"
   },
   {
    "duration": 0,
    "start_time": "2024-01-29T07:04:51.111Z"
   },
   {
    "duration": 0,
    "start_time": "2024-01-29T07:04:51.113Z"
   },
   {
    "duration": 0,
    "start_time": "2024-01-29T07:04:51.115Z"
   },
   {
    "duration": 0,
    "start_time": "2024-01-29T07:04:51.116Z"
   },
   {
    "duration": 0,
    "start_time": "2024-01-29T07:04:51.117Z"
   },
   {
    "duration": 0,
    "start_time": "2024-01-29T07:04:51.118Z"
   },
   {
    "duration": 0,
    "start_time": "2024-01-29T07:04:51.119Z"
   },
   {
    "duration": 0,
    "start_time": "2024-01-29T07:04:51.121Z"
   },
   {
    "duration": 0,
    "start_time": "2024-01-29T07:04:51.122Z"
   },
   {
    "duration": 1450,
    "start_time": "2024-01-29T07:05:27.871Z"
   },
   {
    "duration": 3,
    "start_time": "2024-01-29T07:05:29.323Z"
   },
   {
    "duration": 434,
    "start_time": "2024-01-29T07:05:29.327Z"
   },
   {
    "duration": 4333,
    "start_time": "2024-01-29T07:05:29.762Z"
   },
   {
    "duration": 166,
    "start_time": "2024-01-29T07:05:34.097Z"
   },
   {
    "duration": 24,
    "start_time": "2024-01-29T07:05:34.265Z"
   },
   {
    "duration": 3,
    "start_time": "2024-01-29T07:05:34.290Z"
   },
   {
    "duration": 21,
    "start_time": "2024-01-29T07:05:34.295Z"
   },
   {
    "duration": 317,
    "start_time": "2024-01-29T07:05:34.317Z"
   },
   {
    "duration": 13,
    "start_time": "2024-01-29T07:05:34.636Z"
   },
   {
    "duration": 485,
    "start_time": "2024-01-29T07:05:34.650Z"
   },
   {
    "duration": 358,
    "start_time": "2024-01-29T07:05:35.136Z"
   },
   {
    "duration": 84,
    "start_time": "2024-01-29T07:05:35.497Z"
   },
   {
    "duration": 136,
    "start_time": "2024-01-29T07:05:35.586Z"
   },
   {
    "duration": 4,
    "start_time": "2024-01-29T07:05:35.723Z"
   },
   {
    "duration": 34,
    "start_time": "2024-01-29T07:05:35.728Z"
   },
   {
    "duration": 25,
    "start_time": "2024-01-29T07:05:35.763Z"
   },
   {
    "duration": 17,
    "start_time": "2024-01-29T07:05:35.789Z"
   },
   {
    "duration": 211,
    "start_time": "2024-01-29T07:05:35.808Z"
   },
   {
    "duration": 4,
    "start_time": "2024-01-29T07:05:36.020Z"
   },
   {
    "duration": 34,
    "start_time": "2024-01-29T07:05:36.025Z"
   },
   {
    "duration": 1357,
    "start_time": "2024-01-29T07:13:13.239Z"
   },
   {
    "duration": 3,
    "start_time": "2024-01-29T07:13:14.598Z"
   },
   {
    "duration": 431,
    "start_time": "2024-01-29T07:13:14.603Z"
   },
   {
    "duration": 4362,
    "start_time": "2024-01-29T07:13:15.037Z"
   },
   {
    "duration": 182,
    "start_time": "2024-01-29T07:13:19.401Z"
   },
   {
    "duration": 17,
    "start_time": "2024-01-29T07:13:19.585Z"
   },
   {
    "duration": 3,
    "start_time": "2024-01-29T07:13:19.604Z"
   },
   {
    "duration": 7,
    "start_time": "2024-01-29T07:13:19.608Z"
   },
   {
    "duration": 346,
    "start_time": "2024-01-29T07:13:19.617Z"
   },
   {
    "duration": 20,
    "start_time": "2024-01-29T07:13:19.966Z"
   },
   {
    "duration": 437,
    "start_time": "2024-01-29T07:13:19.988Z"
   },
   {
    "duration": 356,
    "start_time": "2024-01-29T07:13:20.426Z"
   },
   {
    "duration": 6,
    "start_time": "2024-01-29T07:13:20.784Z"
   },
   {
    "duration": 38,
    "start_time": "2024-01-29T07:13:20.880Z"
   },
   {
    "duration": 3,
    "start_time": "2024-01-29T07:13:20.920Z"
   },
   {
    "duration": 17,
    "start_time": "2024-01-29T07:13:20.924Z"
   },
   {
    "duration": 8,
    "start_time": "2024-01-29T07:13:20.943Z"
   },
   {
    "duration": 16,
    "start_time": "2024-01-29T07:13:20.952Z"
   },
   {
    "duration": 159,
    "start_time": "2024-01-29T07:13:20.970Z"
   },
   {
    "duration": 4,
    "start_time": "2024-01-29T07:13:21.131Z"
   },
   {
    "duration": 19,
    "start_time": "2024-01-29T07:13:21.136Z"
   },
   {
    "duration": 1455,
    "start_time": "2024-01-29T07:16:38.746Z"
   },
   {
    "duration": 3,
    "start_time": "2024-01-29T07:16:40.203Z"
   },
   {
    "duration": 442,
    "start_time": "2024-01-29T07:16:40.208Z"
   },
   {
    "duration": 4366,
    "start_time": "2024-01-29T07:16:40.652Z"
   },
   {
    "duration": 180,
    "start_time": "2024-01-29T07:16:45.020Z"
   },
   {
    "duration": 17,
    "start_time": "2024-01-29T07:16:45.202Z"
   },
   {
    "duration": 4,
    "start_time": "2024-01-29T07:16:45.221Z"
   },
   {
    "duration": 26,
    "start_time": "2024-01-29T07:16:45.226Z"
   },
   {
    "duration": 321,
    "start_time": "2024-01-29T07:16:45.254Z"
   },
   {
    "duration": 13,
    "start_time": "2024-01-29T07:16:45.580Z"
   },
   {
    "duration": 425,
    "start_time": "2024-01-29T07:16:45.594Z"
   },
   {
    "duration": 367,
    "start_time": "2024-01-29T07:16:46.020Z"
   },
   {
    "duration": 92,
    "start_time": "2024-01-29T07:16:46.389Z"
   },
   {
    "duration": 115,
    "start_time": "2024-01-29T07:16:46.484Z"
   },
   {
    "duration": 3,
    "start_time": "2024-01-29T07:16:46.601Z"
   },
   {
    "duration": 44,
    "start_time": "2024-01-29T07:16:46.605Z"
   },
   {
    "duration": 7,
    "start_time": "2024-01-29T07:16:46.650Z"
   },
   {
    "duration": 29,
    "start_time": "2024-01-29T07:16:46.658Z"
   },
   {
    "duration": 150,
    "start_time": "2024-01-29T07:16:46.689Z"
   },
   {
    "duration": 3,
    "start_time": "2024-01-29T07:16:46.841Z"
   },
   {
    "duration": 28,
    "start_time": "2024-01-29T07:16:46.845Z"
   },
   {
    "duration": 1483,
    "start_time": "2024-01-29T07:18:56.942Z"
   },
   {
    "duration": 3,
    "start_time": "2024-01-29T07:18:58.427Z"
   },
   {
    "duration": 438,
    "start_time": "2024-01-29T07:18:58.431Z"
   },
   {
    "duration": 4473,
    "start_time": "2024-01-29T07:18:58.871Z"
   },
   {
    "duration": 174,
    "start_time": "2024-01-29T07:19:03.347Z"
   },
   {
    "duration": 17,
    "start_time": "2024-01-29T07:19:03.523Z"
   },
   {
    "duration": 4,
    "start_time": "2024-01-29T07:19:03.541Z"
   },
   {
    "duration": 11,
    "start_time": "2024-01-29T07:19:03.547Z"
   },
   {
    "duration": 324,
    "start_time": "2024-01-29T07:19:03.559Z"
   },
   {
    "duration": 14,
    "start_time": "2024-01-29T07:19:03.885Z"
   },
   {
    "duration": 439,
    "start_time": "2024-01-29T07:19:03.900Z"
   },
   {
    "duration": 452,
    "start_time": "2024-01-29T07:19:04.341Z"
   },
   {
    "duration": 90,
    "start_time": "2024-01-29T07:19:04.795Z"
   },
   {
    "duration": 128,
    "start_time": "2024-01-29T07:19:04.889Z"
   },
   {
    "duration": 4,
    "start_time": "2024-01-29T07:19:05.018Z"
   },
   {
    "duration": 14,
    "start_time": "2024-01-29T07:19:05.024Z"
   },
   {
    "duration": 11,
    "start_time": "2024-01-29T07:19:05.039Z"
   },
   {
    "duration": 30,
    "start_time": "2024-01-29T07:19:05.052Z"
   },
   {
    "duration": 148,
    "start_time": "2024-01-29T07:19:05.083Z"
   },
   {
    "duration": 2,
    "start_time": "2024-01-29T07:19:05.233Z"
   },
   {
    "duration": 23,
    "start_time": "2024-01-29T07:19:05.237Z"
   },
   {
    "duration": 136,
    "start_time": "2024-01-29T07:22:08.981Z"
   },
   {
    "duration": 1456,
    "start_time": "2024-01-29T07:22:17.768Z"
   },
   {
    "duration": 3,
    "start_time": "2024-01-29T07:22:19.226Z"
   },
   {
    "duration": 434,
    "start_time": "2024-01-29T07:22:19.231Z"
   },
   {
    "duration": 4404,
    "start_time": "2024-01-29T07:22:19.667Z"
   },
   {
    "duration": 174,
    "start_time": "2024-01-29T07:22:24.073Z"
   },
   {
    "duration": 36,
    "start_time": "2024-01-29T07:22:24.249Z"
   },
   {
    "duration": 3,
    "start_time": "2024-01-29T07:22:24.287Z"
   },
   {
    "duration": 7,
    "start_time": "2024-01-29T07:22:24.291Z"
   },
   {
    "duration": 333,
    "start_time": "2024-01-29T07:22:24.300Z"
   },
   {
    "duration": 13,
    "start_time": "2024-01-29T07:22:24.635Z"
   },
   {
    "duration": 413,
    "start_time": "2024-01-29T07:22:24.649Z"
   },
   {
    "duration": 425,
    "start_time": "2024-01-29T07:22:25.064Z"
   },
   {
    "duration": 92,
    "start_time": "2024-01-29T07:22:25.491Z"
   },
   {
    "duration": 132,
    "start_time": "2024-01-29T07:22:25.586Z"
   },
   {
    "duration": 5,
    "start_time": "2024-01-29T07:22:25.720Z"
   },
   {
    "duration": 33,
    "start_time": "2024-01-29T07:22:25.732Z"
   },
   {
    "duration": 12,
    "start_time": "2024-01-29T07:22:25.767Z"
   },
   {
    "duration": 18,
    "start_time": "2024-01-29T07:22:25.781Z"
   },
   {
    "duration": 174,
    "start_time": "2024-01-29T07:22:25.801Z"
   },
   {
    "duration": 3,
    "start_time": "2024-01-29T07:22:25.980Z"
   },
   {
    "duration": 11,
    "start_time": "2024-01-29T07:22:25.985Z"
   },
   {
    "duration": 132,
    "start_time": "2024-01-29T07:22:46.949Z"
   },
   {
    "duration": 1470,
    "start_time": "2024-01-29T07:22:52.036Z"
   },
   {
    "duration": 3,
    "start_time": "2024-01-29T07:22:53.508Z"
   },
   {
    "duration": 416,
    "start_time": "2024-01-29T07:22:53.513Z"
   },
   {
    "duration": 4424,
    "start_time": "2024-01-29T07:22:53.932Z"
   },
   {
    "duration": 184,
    "start_time": "2024-01-29T07:22:58.358Z"
   },
   {
    "duration": 24,
    "start_time": "2024-01-29T07:22:58.543Z"
   },
   {
    "duration": 4,
    "start_time": "2024-01-29T07:22:58.580Z"
   },
   {
    "duration": 7,
    "start_time": "2024-01-29T07:22:58.585Z"
   },
   {
    "duration": 366,
    "start_time": "2024-01-29T07:22:58.594Z"
   },
   {
    "duration": 21,
    "start_time": "2024-01-29T07:22:58.963Z"
   },
   {
    "duration": 421,
    "start_time": "2024-01-29T07:22:58.986Z"
   },
   {
    "duration": 386,
    "start_time": "2024-01-29T07:22:59.408Z"
   },
   {
    "duration": 85,
    "start_time": "2024-01-29T07:22:59.796Z"
   },
   {
    "duration": 114,
    "start_time": "2024-01-29T07:22:59.884Z"
   },
   {
    "duration": 4,
    "start_time": "2024-01-29T07:22:59.999Z"
   },
   {
    "duration": 66,
    "start_time": "2024-01-29T07:23:00.004Z"
   },
   {
    "duration": 49,
    "start_time": "2024-01-29T07:23:00.072Z"
   },
   {
    "duration": 59,
    "start_time": "2024-01-29T07:23:00.123Z"
   },
   {
    "duration": 304,
    "start_time": "2024-01-29T07:23:00.183Z"
   },
   {
    "duration": 5,
    "start_time": "2024-01-29T07:23:00.488Z"
   },
   {
    "duration": 147,
    "start_time": "2024-01-29T07:23:00.495Z"
   },
   {
    "duration": 1432,
    "start_time": "2024-01-29T07:23:05.538Z"
   },
   {
    "duration": 9,
    "start_time": "2024-01-29T07:23:06.972Z"
   },
   {
    "duration": 426,
    "start_time": "2024-01-29T07:23:06.985Z"
   },
   {
    "duration": 4379,
    "start_time": "2024-01-29T07:23:07.413Z"
   },
   {
    "duration": 180,
    "start_time": "2024-01-29T07:23:11.794Z"
   },
   {
    "duration": 25,
    "start_time": "2024-01-29T07:23:11.980Z"
   },
   {
    "duration": 3,
    "start_time": "2024-01-29T07:23:12.007Z"
   },
   {
    "duration": 3,
    "start_time": "2024-01-29T07:23:12.012Z"
   },
   {
    "duration": 378,
    "start_time": "2024-01-29T07:23:12.017Z"
   },
   {
    "duration": 19,
    "start_time": "2024-01-29T07:23:12.397Z"
   },
   {
    "duration": 431,
    "start_time": "2024-01-29T07:23:12.418Z"
   },
   {
    "duration": 438,
    "start_time": "2024-01-29T07:23:12.851Z"
   },
   {
    "duration": 4,
    "start_time": "2024-01-29T07:23:13.383Z"
   },
   {
    "duration": 117,
    "start_time": "2024-01-29T07:23:13.391Z"
   },
   {
    "duration": 4,
    "start_time": "2024-01-29T07:23:13.509Z"
   },
   {
    "duration": 13,
    "start_time": "2024-01-29T07:23:13.514Z"
   },
   {
    "duration": 11,
    "start_time": "2024-01-29T07:23:13.528Z"
   },
   {
    "duration": 13,
    "start_time": "2024-01-29T07:23:13.540Z"
   },
   {
    "duration": 164,
    "start_time": "2024-01-29T07:23:13.554Z"
   },
   {
    "duration": 4,
    "start_time": "2024-01-29T07:23:13.719Z"
   },
   {
    "duration": 4,
    "start_time": "2024-01-29T07:23:13.724Z"
   },
   {
    "duration": 1442,
    "start_time": "2024-01-29T07:28:47.679Z"
   },
   {
    "duration": 3,
    "start_time": "2024-01-29T07:28:49.123Z"
   },
   {
    "duration": 442,
    "start_time": "2024-01-29T07:28:49.128Z"
   },
   {
    "duration": 4373,
    "start_time": "2024-01-29T07:28:49.572Z"
   },
   {
    "duration": 179,
    "start_time": "2024-01-29T07:28:53.947Z"
   },
   {
    "duration": 25,
    "start_time": "2024-01-29T07:28:54.128Z"
   },
   {
    "duration": 4,
    "start_time": "2024-01-29T07:28:54.154Z"
   },
   {
    "duration": 24,
    "start_time": "2024-01-29T07:28:54.160Z"
   },
   {
    "duration": 339,
    "start_time": "2024-01-29T07:28:54.185Z"
   },
   {
    "duration": 13,
    "start_time": "2024-01-29T07:28:54.527Z"
   },
   {
    "duration": 446,
    "start_time": "2024-01-29T07:28:54.542Z"
   },
   {
    "duration": 398,
    "start_time": "2024-01-29T07:28:54.989Z"
   },
   {
    "duration": 92,
    "start_time": "2024-01-29T07:28:55.389Z"
   },
   {
    "duration": 118,
    "start_time": "2024-01-29T07:28:55.483Z"
   },
   {
    "duration": 4,
    "start_time": "2024-01-29T07:28:55.602Z"
   },
   {
    "duration": 18,
    "start_time": "2024-01-29T07:28:55.607Z"
   },
   {
    "duration": 6,
    "start_time": "2024-01-29T07:28:55.626Z"
   },
   {
    "duration": 18,
    "start_time": "2024-01-29T07:28:55.633Z"
   },
   {
    "duration": 158,
    "start_time": "2024-01-29T07:28:55.652Z"
   },
   {
    "duration": 3,
    "start_time": "2024-01-29T07:28:55.812Z"
   },
   {
    "duration": 9,
    "start_time": "2024-01-29T07:28:55.816Z"
   },
   {
    "duration": 1444,
    "start_time": "2024-01-29T07:30:03.273Z"
   },
   {
    "duration": 3,
    "start_time": "2024-01-29T07:30:04.719Z"
   },
   {
    "duration": 417,
    "start_time": "2024-01-29T07:30:04.724Z"
   },
   {
    "duration": 4389,
    "start_time": "2024-01-29T07:30:05.143Z"
   },
   {
    "duration": 166,
    "start_time": "2024-01-29T07:30:09.533Z"
   },
   {
    "duration": 23,
    "start_time": "2024-01-29T07:30:09.701Z"
   },
   {
    "duration": 3,
    "start_time": "2024-01-29T07:30:09.725Z"
   },
   {
    "duration": 5,
    "start_time": "2024-01-29T07:30:09.730Z"
   },
   {
    "duration": 323,
    "start_time": "2024-01-29T07:30:09.736Z"
   },
   {
    "duration": 20,
    "start_time": "2024-01-29T07:30:10.062Z"
   },
   {
    "duration": 414,
    "start_time": "2024-01-29T07:30:10.084Z"
   },
   {
    "duration": 391,
    "start_time": "2024-01-29T07:30:10.499Z"
   },
   {
    "duration": 88,
    "start_time": "2024-01-29T07:30:10.893Z"
   },
   {
    "duration": 129,
    "start_time": "2024-01-29T07:30:10.984Z"
   },
   {
    "duration": 3,
    "start_time": "2024-01-29T07:30:11.115Z"
   },
   {
    "duration": 10,
    "start_time": "2024-01-29T07:30:11.119Z"
   },
   {
    "duration": 4,
    "start_time": "2024-01-29T07:30:11.131Z"
   },
   {
    "duration": 12,
    "start_time": "2024-01-29T07:30:11.138Z"
   },
   {
    "duration": 189,
    "start_time": "2024-01-29T07:30:11.152Z"
   },
   {
    "duration": 4,
    "start_time": "2024-01-29T07:30:11.342Z"
   },
   {
    "duration": 8,
    "start_time": "2024-01-29T07:30:11.347Z"
   },
   {
    "duration": 1479,
    "start_time": "2024-01-29T07:35:17.450Z"
   },
   {
    "duration": 3,
    "start_time": "2024-01-29T07:35:18.931Z"
   },
   {
    "duration": 434,
    "start_time": "2024-01-29T07:35:18.935Z"
   },
   {
    "duration": 4423,
    "start_time": "2024-01-29T07:35:19.381Z"
   },
   {
    "duration": 168,
    "start_time": "2024-01-29T07:35:23.807Z"
   },
   {
    "duration": 24,
    "start_time": "2024-01-29T07:35:23.980Z"
   },
   {
    "duration": 3,
    "start_time": "2024-01-29T07:35:24.006Z"
   },
   {
    "duration": 8,
    "start_time": "2024-01-29T07:35:24.010Z"
   },
   {
    "duration": 340,
    "start_time": "2024-01-29T07:35:24.019Z"
   },
   {
    "duration": 13,
    "start_time": "2024-01-29T07:35:24.360Z"
   },
   {
    "duration": 427,
    "start_time": "2024-01-29T07:35:24.374Z"
   },
   {
    "duration": 287,
    "start_time": "2024-01-29T07:35:24.803Z"
   },
   {
    "duration": 88,
    "start_time": "2024-01-29T07:35:25.093Z"
   },
   {
    "duration": 133,
    "start_time": "2024-01-29T07:35:25.187Z"
   },
   {
    "duration": 3,
    "start_time": "2024-01-29T07:35:25.322Z"
   },
   {
    "duration": 35,
    "start_time": "2024-01-29T07:35:25.326Z"
   },
   {
    "duration": 6,
    "start_time": "2024-01-29T07:35:25.363Z"
   },
   {
    "duration": 24,
    "start_time": "2024-01-29T07:35:25.370Z"
   },
   {
    "duration": 171,
    "start_time": "2024-01-29T07:35:25.396Z"
   },
   {
    "duration": 3,
    "start_time": "2024-01-29T07:35:25.568Z"
   },
   {
    "duration": 3,
    "start_time": "2024-01-29T07:35:25.580Z"
   },
   {
    "duration": 373,
    "start_time": "2024-01-29T07:37:57.609Z"
   },
   {
    "duration": 1454,
    "start_time": "2024-01-29T11:49:23.621Z"
   },
   {
    "duration": 5,
    "start_time": "2024-01-29T11:49:25.077Z"
   },
   {
    "duration": 437,
    "start_time": "2024-01-29T11:49:25.083Z"
   },
   {
    "duration": 4481,
    "start_time": "2024-01-29T11:49:25.522Z"
   },
   {
    "duration": 215,
    "start_time": "2024-01-29T11:49:30.005Z"
   },
   {
    "duration": 32,
    "start_time": "2024-01-29T11:49:30.222Z"
   },
   {
    "duration": 71,
    "start_time": "2024-01-29T11:49:30.256Z"
   },
   {
    "duration": 163,
    "start_time": "2024-01-29T11:49:30.329Z"
   },
   {
    "duration": 563,
    "start_time": "2024-01-29T11:49:30.494Z"
   },
   {
    "duration": 21,
    "start_time": "2024-01-29T11:49:31.060Z"
   },
   {
    "duration": 475,
    "start_time": "2024-01-29T11:49:31.083Z"
   },
   {
    "duration": 143,
    "start_time": "2024-01-29T11:49:31.560Z"
   },
   {
    "duration": 0,
    "start_time": "2024-01-29T11:49:31.705Z"
   },
   {
    "duration": 0,
    "start_time": "2024-01-29T11:49:31.706Z"
   },
   {
    "duration": 0,
    "start_time": "2024-01-29T11:49:31.708Z"
   },
   {
    "duration": 0,
    "start_time": "2024-01-29T11:49:31.709Z"
   },
   {
    "duration": 0,
    "start_time": "2024-01-29T11:49:31.710Z"
   },
   {
    "duration": 0,
    "start_time": "2024-01-29T11:49:31.711Z"
   },
   {
    "duration": 0,
    "start_time": "2024-01-29T11:49:31.712Z"
   },
   {
    "duration": 0,
    "start_time": "2024-01-29T11:49:31.713Z"
   },
   {
    "duration": 0,
    "start_time": "2024-01-29T11:49:31.714Z"
   },
   {
    "duration": 1499,
    "start_time": "2024-01-29T11:50:37.087Z"
   },
   {
    "duration": 3,
    "start_time": "2024-01-29T11:50:38.588Z"
   },
   {
    "duration": 476,
    "start_time": "2024-01-29T11:50:38.593Z"
   },
   {
    "duration": 4511,
    "start_time": "2024-01-29T11:50:39.071Z"
   },
   {
    "duration": 189,
    "start_time": "2024-01-29T11:50:43.585Z"
   },
   {
    "duration": 25,
    "start_time": "2024-01-29T11:50:43.776Z"
   },
   {
    "duration": 5,
    "start_time": "2024-01-29T11:50:43.802Z"
   },
   {
    "duration": 4,
    "start_time": "2024-01-29T11:50:43.809Z"
   },
   {
    "duration": 367,
    "start_time": "2024-01-29T11:50:43.814Z"
   },
   {
    "duration": 12,
    "start_time": "2024-01-29T11:50:44.183Z"
   },
   {
    "duration": 444,
    "start_time": "2024-01-29T11:50:44.197Z"
   },
   {
    "duration": 449,
    "start_time": "2024-01-29T11:50:44.643Z"
   },
   {
    "duration": 100,
    "start_time": "2024-01-29T11:50:45.094Z"
   },
   {
    "duration": 24,
    "start_time": "2024-01-29T11:50:45.282Z"
   },
   {
    "duration": 4,
    "start_time": "2024-01-29T11:50:45.308Z"
   },
   {
    "duration": 22,
    "start_time": "2024-01-29T11:50:45.314Z"
   },
   {
    "duration": 12,
    "start_time": "2024-01-29T11:50:45.337Z"
   },
   {
    "duration": 17,
    "start_time": "2024-01-29T11:50:45.351Z"
   },
   {
    "duration": 161,
    "start_time": "2024-01-29T11:50:45.369Z"
   },
   {
    "duration": 4,
    "start_time": "2024-01-29T11:50:45.532Z"
   },
   {
    "duration": 18,
    "start_time": "2024-01-29T11:50:45.537Z"
   },
   {
    "duration": 1498,
    "start_time": "2024-01-29T12:07:29.502Z"
   },
   {
    "duration": 3,
    "start_time": "2024-01-29T12:07:31.002Z"
   },
   {
    "duration": 465,
    "start_time": "2024-01-29T12:07:31.007Z"
   },
   {
    "duration": 4434,
    "start_time": "2024-01-29T12:07:31.474Z"
   },
   {
    "duration": 172,
    "start_time": "2024-01-29T12:07:35.910Z"
   },
   {
    "duration": 23,
    "start_time": "2024-01-29T12:07:36.084Z"
   },
   {
    "duration": 4,
    "start_time": "2024-01-29T12:07:36.108Z"
   },
   {
    "duration": 7,
    "start_time": "2024-01-29T12:07:36.113Z"
   },
   {
    "duration": 343,
    "start_time": "2024-01-29T12:07:36.122Z"
   },
   {
    "duration": 18,
    "start_time": "2024-01-29T12:07:36.467Z"
   },
   {
    "duration": 419,
    "start_time": "2024-01-29T12:07:36.487Z"
   },
   {
    "duration": 280,
    "start_time": "2024-01-29T12:07:36.907Z"
   },
   {
    "duration": 0,
    "start_time": "2024-01-29T12:07:37.189Z"
   },
   {
    "duration": 0,
    "start_time": "2024-01-29T12:07:37.190Z"
   },
   {
    "duration": 0,
    "start_time": "2024-01-29T12:07:37.191Z"
   },
   {
    "duration": 0,
    "start_time": "2024-01-29T12:07:37.191Z"
   },
   {
    "duration": 0,
    "start_time": "2024-01-29T12:07:37.192Z"
   },
   {
    "duration": 0,
    "start_time": "2024-01-29T12:07:37.193Z"
   },
   {
    "duration": 0,
    "start_time": "2024-01-29T12:07:37.194Z"
   },
   {
    "duration": 0,
    "start_time": "2024-01-29T12:07:37.195Z"
   },
   {
    "duration": 0,
    "start_time": "2024-01-29T12:07:37.196Z"
   },
   {
    "duration": 395,
    "start_time": "2024-01-29T12:09:31.694Z"
   },
   {
    "duration": 118,
    "start_time": "2024-01-29T12:10:17.264Z"
   },
   {
    "duration": 1470,
    "start_time": "2024-01-29T12:18:16.100Z"
   },
   {
    "duration": 3,
    "start_time": "2024-01-29T12:18:17.572Z"
   },
   {
    "duration": 428,
    "start_time": "2024-01-29T12:18:17.576Z"
   },
   {
    "duration": 4448,
    "start_time": "2024-01-29T12:18:18.006Z"
   },
   {
    "duration": 175,
    "start_time": "2024-01-29T12:18:22.455Z"
   },
   {
    "duration": 23,
    "start_time": "2024-01-29T12:18:22.632Z"
   },
   {
    "duration": 4,
    "start_time": "2024-01-29T12:18:22.656Z"
   },
   {
    "duration": 4,
    "start_time": "2024-01-29T12:18:22.680Z"
   },
   {
    "duration": 297,
    "start_time": "2024-01-29T12:18:22.685Z"
   },
   {
    "duration": 13,
    "start_time": "2024-01-29T12:18:22.984Z"
   },
   {
    "duration": 454,
    "start_time": "2024-01-29T12:18:22.998Z"
   },
   {
    "duration": 441,
    "start_time": "2024-01-29T12:18:23.454Z"
   },
   {
    "duration": 84,
    "start_time": "2024-01-29T12:18:23.897Z"
   },
   {
    "duration": 116,
    "start_time": "2024-01-29T12:18:23.987Z"
   },
   {
    "duration": 4,
    "start_time": "2024-01-29T12:18:24.104Z"
   },
   {
    "duration": 11,
    "start_time": "2024-01-29T12:18:24.110Z"
   },
   {
    "duration": 8,
    "start_time": "2024-01-29T12:18:24.122Z"
   },
   {
    "duration": 12,
    "start_time": "2024-01-29T12:18:24.131Z"
   },
   {
    "duration": 169,
    "start_time": "2024-01-29T12:18:24.145Z"
   },
   {
    "duration": 4,
    "start_time": "2024-01-29T12:18:24.316Z"
   },
   {
    "duration": 6,
    "start_time": "2024-01-29T12:18:24.321Z"
   },
   {
    "duration": 3,
    "start_time": "2024-01-29T12:22:37.320Z"
   },
   {
    "duration": 25,
    "start_time": "2024-01-29T12:22:37.978Z"
   },
   {
    "duration": 3,
    "start_time": "2024-01-29T12:22:55.698Z"
   },
   {
    "duration": 6,
    "start_time": "2024-01-29T12:22:57.922Z"
   },
   {
    "duration": 4,
    "start_time": "2024-01-29T12:23:10.554Z"
   },
   {
    "duration": 10,
    "start_time": "2024-01-29T12:23:13.889Z"
   },
   {
    "duration": 164,
    "start_time": "2024-01-29T12:23:17.506Z"
   },
   {
    "duration": 3,
    "start_time": "2024-01-29T12:25:51.954Z"
   },
   {
    "duration": 23,
    "start_time": "2024-01-29T12:25:52.427Z"
   },
   {
    "duration": 4,
    "start_time": "2024-01-29T12:26:51.826Z"
   },
   {
    "duration": 1752,
    "start_time": "2024-01-29T12:30:45.133Z"
   },
   {
    "duration": 1555,
    "start_time": "2024-01-29T12:31:16.076Z"
   },
   {
    "duration": 32,
    "start_time": "2024-01-29T12:33:06.782Z"
   },
   {
    "duration": 28,
    "start_time": "2024-01-29T12:33:32.373Z"
   },
   {
    "duration": 25,
    "start_time": "2024-01-29T12:37:11.685Z"
   },
   {
    "duration": 26,
    "start_time": "2024-01-29T12:37:21.934Z"
   },
   {
    "duration": 24,
    "start_time": "2024-01-29T12:38:24.390Z"
   },
   {
    "duration": 24,
    "start_time": "2024-01-29T12:39:12.568Z"
   },
   {
    "duration": 31,
    "start_time": "2024-01-29T12:39:32.738Z"
   },
   {
    "duration": 21,
    "start_time": "2024-01-29T12:40:09.415Z"
   },
   {
    "duration": 28,
    "start_time": "2024-01-29T12:43:22.662Z"
   },
   {
    "duration": 25,
    "start_time": "2024-01-29T12:43:38.158Z"
   },
   {
    "duration": 28,
    "start_time": "2024-01-29T12:44:12.679Z"
   },
   {
    "duration": 30,
    "start_time": "2024-01-29T12:44:41.982Z"
   },
   {
    "duration": 47,
    "start_time": "2024-01-29T12:44:47.230Z"
   },
   {
    "duration": 1561,
    "start_time": "2024-01-29T12:46:17.483Z"
   },
   {
    "duration": 4,
    "start_time": "2024-01-29T12:46:19.046Z"
   },
   {
    "duration": 469,
    "start_time": "2024-01-29T12:46:19.051Z"
   },
   {
    "duration": 4878,
    "start_time": "2024-01-29T12:46:19.522Z"
   },
   {
    "duration": 219,
    "start_time": "2024-01-29T12:46:24.402Z"
   },
   {
    "duration": 34,
    "start_time": "2024-01-29T12:46:24.623Z"
   },
   {
    "duration": 24,
    "start_time": "2024-01-29T12:46:24.660Z"
   },
   {
    "duration": 16,
    "start_time": "2024-01-29T12:46:24.687Z"
   },
   {
    "duration": 434,
    "start_time": "2024-01-29T12:46:24.704Z"
   },
   {
    "duration": 17,
    "start_time": "2024-01-29T12:46:25.141Z"
   },
   {
    "duration": 514,
    "start_time": "2024-01-29T12:46:25.160Z"
   },
   {
    "duration": 516,
    "start_time": "2024-01-29T12:46:25.675Z"
   },
   {
    "duration": 76,
    "start_time": "2024-01-29T12:46:26.206Z"
   },
   {
    "duration": 35,
    "start_time": "2024-01-29T12:46:26.288Z"
   },
   {
    "duration": 157,
    "start_time": "2024-01-29T12:46:26.325Z"
   },
   {
    "duration": 0,
    "start_time": "2024-01-29T12:46:26.485Z"
   },
   {
    "duration": 0,
    "start_time": "2024-01-29T12:46:26.487Z"
   },
   {
    "duration": 0,
    "start_time": "2024-01-29T12:46:26.489Z"
   },
   {
    "duration": 0,
    "start_time": "2024-01-29T12:46:26.491Z"
   },
   {
    "duration": 0,
    "start_time": "2024-01-29T12:46:26.492Z"
   },
   {
    "duration": 0,
    "start_time": "2024-01-29T12:46:26.495Z"
   },
   {
    "duration": 0,
    "start_time": "2024-01-29T12:46:26.496Z"
   },
   {
    "duration": 20,
    "start_time": "2024-01-29T12:46:42.944Z"
   },
   {
    "duration": 24,
    "start_time": "2024-01-29T12:47:16.216Z"
   },
   {
    "duration": 34,
    "start_time": "2024-01-29T12:50:54.903Z"
   },
   {
    "duration": 131,
    "start_time": "2024-01-29T12:51:10.753Z"
   },
   {
    "duration": 29,
    "start_time": "2024-01-29T12:52:55.962Z"
   },
   {
    "duration": 1411,
    "start_time": "2024-01-29T12:55:12.049Z"
   },
   {
    "duration": 1394,
    "start_time": "2024-01-29T12:55:52.201Z"
   },
   {
    "duration": 568,
    "start_time": "2024-01-29T12:56:24.746Z"
   },
   {
    "duration": 529,
    "start_time": "2024-01-29T12:59:04.458Z"
   },
   {
    "duration": 536,
    "start_time": "2024-01-29T13:01:43.459Z"
   },
   {
    "duration": 530,
    "start_time": "2024-01-29T13:02:23.563Z"
   },
   {
    "duration": 28,
    "start_time": "2024-01-29T13:04:52.971Z"
   },
   {
    "duration": 29,
    "start_time": "2024-01-29T13:04:59.540Z"
   },
   {
    "duration": 27,
    "start_time": "2024-01-29T13:05:04.275Z"
   },
   {
    "duration": 27,
    "start_time": "2024-01-29T13:05:06.428Z"
   },
   {
    "duration": 27,
    "start_time": "2024-01-29T13:05:08.202Z"
   },
   {
    "duration": 38,
    "start_time": "2024-01-29T13:05:09.995Z"
   },
   {
    "duration": 25,
    "start_time": "2024-01-29T13:05:14.610Z"
   },
   {
    "duration": 27,
    "start_time": "2024-01-29T13:05:21.883Z"
   },
   {
    "duration": 1468,
    "start_time": "2024-01-29T13:05:25.563Z"
   },
   {
    "duration": 27,
    "start_time": "2024-01-29T13:05:45.235Z"
   },
   {
    "duration": 25,
    "start_time": "2024-01-29T13:05:57.547Z"
   },
   {
    "duration": 621,
    "start_time": "2024-01-29T13:06:03.171Z"
   },
   {
    "duration": 28,
    "start_time": "2024-01-29T13:06:24.043Z"
   },
   {
    "duration": 516,
    "start_time": "2024-01-29T13:06:44.037Z"
   },
   {
    "duration": 30,
    "start_time": "2024-01-29T13:08:38.693Z"
   },
   {
    "duration": 512,
    "start_time": "2024-01-29T13:09:07.396Z"
   },
   {
    "duration": 27,
    "start_time": "2024-01-29T13:09:32.541Z"
   },
   {
    "duration": 522,
    "start_time": "2024-01-29T13:09:38.127Z"
   },
   {
    "duration": 527,
    "start_time": "2024-01-29T13:19:33.263Z"
   },
   {
    "duration": 609,
    "start_time": "2024-01-29T13:19:37.022Z"
   },
   {
    "duration": 512,
    "start_time": "2024-01-29T13:20:54.887Z"
   },
   {
    "duration": 28,
    "start_time": "2024-01-29T13:21:27.190Z"
   },
   {
    "duration": 502,
    "start_time": "2024-01-29T13:21:49.487Z"
   },
   {
    "duration": 567,
    "start_time": "2024-01-29T13:22:01.678Z"
   },
   {
    "duration": 490,
    "start_time": "2024-01-29T13:29:35.947Z"
   },
   {
    "duration": 17,
    "start_time": "2024-01-29T13:55:09.137Z"
   },
   {
    "duration": 14,
    "start_time": "2024-01-29T13:56:53.322Z"
   },
   {
    "duration": 15,
    "start_time": "2024-01-29T13:57:04.431Z"
   },
   {
    "duration": 1482,
    "start_time": "2024-01-29T13:57:19.043Z"
   },
   {
    "duration": 3,
    "start_time": "2024-01-29T13:58:20.930Z"
   },
   {
    "duration": 9,
    "start_time": "2024-01-29T13:58:41.474Z"
   },
   {
    "duration": 9,
    "start_time": "2024-01-29T13:59:54.887Z"
   },
   {
    "duration": 9,
    "start_time": "2024-01-29T14:00:29.508Z"
   },
   {
    "duration": 14,
    "start_time": "2024-01-29T14:00:52.086Z"
   },
   {
    "duration": 3,
    "start_time": "2024-01-29T14:02:57.709Z"
   },
   {
    "duration": 4,
    "start_time": "2024-01-29T14:03:18.885Z"
   },
   {
    "duration": 15,
    "start_time": "2024-01-29T14:03:26.703Z"
   },
   {
    "duration": 1478,
    "start_time": "2024-01-29T14:03:33.411Z"
   },
   {
    "duration": 3,
    "start_time": "2024-01-29T14:03:34.891Z"
   },
   {
    "duration": 460,
    "start_time": "2024-01-29T14:03:34.895Z"
   },
   {
    "duration": 4412,
    "start_time": "2024-01-29T14:03:35.356Z"
   },
   {
    "duration": 171,
    "start_time": "2024-01-29T14:03:39.779Z"
   },
   {
    "duration": 36,
    "start_time": "2024-01-29T14:03:39.952Z"
   },
   {
    "duration": 4,
    "start_time": "2024-01-29T14:03:39.989Z"
   },
   {
    "duration": 34,
    "start_time": "2024-01-29T14:03:39.994Z"
   },
   {
    "duration": 339,
    "start_time": "2024-01-29T14:03:40.029Z"
   },
   {
    "duration": 17,
    "start_time": "2024-01-29T14:03:40.371Z"
   },
   {
    "duration": 440,
    "start_time": "2024-01-29T14:03:40.389Z"
   },
   {
    "duration": 363,
    "start_time": "2024-01-29T14:03:40.830Z"
   },
   {
    "duration": 86,
    "start_time": "2024-01-29T14:03:41.195Z"
   },
   {
    "duration": 697,
    "start_time": "2024-01-29T14:03:41.286Z"
   },
   {
    "duration": 4,
    "start_time": "2024-01-29T14:03:41.984Z"
   },
   {
    "duration": 163,
    "start_time": "2024-01-29T14:03:41.989Z"
   },
   {
    "duration": 0,
    "start_time": "2024-01-29T14:03:42.153Z"
   },
   {
    "duration": 0,
    "start_time": "2024-01-29T14:03:42.155Z"
   },
   {
    "duration": 0,
    "start_time": "2024-01-29T14:03:42.156Z"
   },
   {
    "duration": 39,
    "start_time": "2024-01-29T14:04:48.094Z"
   },
   {
    "duration": 4,
    "start_time": "2024-01-29T14:09:41.121Z"
   },
   {
    "duration": 3,
    "start_time": "2024-01-29T14:09:48.936Z"
   },
   {
    "duration": 9,
    "start_time": "2024-01-29T14:10:13.673Z"
   },
   {
    "duration": 13,
    "start_time": "2024-01-29T14:10:22.761Z"
   },
   {
    "duration": 4,
    "start_time": "2024-01-29T14:11:35.826Z"
   },
   {
    "duration": 13,
    "start_time": "2024-01-29T14:11:36.674Z"
   },
   {
    "duration": 3,
    "start_time": "2024-01-29T14:11:47.105Z"
   },
   {
    "duration": 21,
    "start_time": "2024-01-29T14:11:47.585Z"
   },
   {
    "duration": 4,
    "start_time": "2024-01-29T14:12:42.330Z"
   },
   {
    "duration": 3,
    "start_time": "2024-01-29T14:12:42.827Z"
   },
   {
    "duration": 1582,
    "start_time": "2024-01-29T14:12:43.409Z"
   },
   {
    "duration": 3,
    "start_time": "2024-01-29T14:14:40.523Z"
   },
   {
    "duration": 4,
    "start_time": "2024-01-29T14:14:42.026Z"
   },
   {
    "duration": 22,
    "start_time": "2024-01-29T14:14:42.651Z"
   },
   {
    "duration": 5,
    "start_time": "2024-01-29T14:15:12.530Z"
   },
   {
    "duration": 3,
    "start_time": "2024-01-29T14:15:13.018Z"
   },
   {
    "duration": 18,
    "start_time": "2024-01-29T14:15:13.475Z"
   },
   {
    "duration": 69,
    "start_time": "2024-01-29T14:18:48.725Z"
   },
   {
    "duration": 124,
    "start_time": "2024-01-29T14:19:06.861Z"
   },
   {
    "duration": 114,
    "start_time": "2024-01-29T14:20:18.372Z"
   },
   {
    "duration": 503,
    "start_time": "2024-01-29T14:20:29.077Z"
   },
   {
    "duration": 3,
    "start_time": "2024-01-29T14:20:52.741Z"
   },
   {
    "duration": 3,
    "start_time": "2024-01-29T14:20:53.717Z"
   },
   {
    "duration": 18,
    "start_time": "2024-01-29T14:20:54.496Z"
   },
   {
    "duration": 1491,
    "start_time": "2024-01-29T14:21:29.258Z"
   },
   {
    "duration": 3,
    "start_time": "2024-01-29T14:21:30.752Z"
   },
   {
    "duration": 495,
    "start_time": "2024-01-29T14:21:30.757Z"
   },
   {
    "duration": 4356,
    "start_time": "2024-01-29T14:21:31.254Z"
   },
   {
    "duration": 204,
    "start_time": "2024-01-29T14:21:35.612Z"
   },
   {
    "duration": 24,
    "start_time": "2024-01-29T14:21:35.817Z"
   },
   {
    "duration": 3,
    "start_time": "2024-01-29T14:21:35.843Z"
   },
   {
    "duration": 31,
    "start_time": "2024-01-29T14:21:35.848Z"
   },
   {
    "duration": 356,
    "start_time": "2024-01-29T14:21:35.881Z"
   },
   {
    "duration": 13,
    "start_time": "2024-01-29T14:21:36.238Z"
   },
   {
    "duration": 430,
    "start_time": "2024-01-29T14:21:36.253Z"
   },
   {
    "duration": 411,
    "start_time": "2024-01-29T14:21:36.685Z"
   },
   {
    "duration": 4,
    "start_time": "2024-01-29T14:21:37.180Z"
   },
   {
    "duration": 680,
    "start_time": "2024-01-29T14:21:37.189Z"
   },
   {
    "duration": 10,
    "start_time": "2024-01-29T14:21:37.871Z"
   },
   {
    "duration": 5,
    "start_time": "2024-01-29T14:21:37.882Z"
   },
   {
    "duration": 141,
    "start_time": "2024-01-29T14:21:37.888Z"
   },
   {
    "duration": 0,
    "start_time": "2024-01-29T14:21:38.031Z"
   },
   {
    "duration": 0,
    "start_time": "2024-01-29T14:21:38.033Z"
   },
   {
    "duration": 0,
    "start_time": "2024-01-29T14:21:38.034Z"
   },
   {
    "duration": 0,
    "start_time": "2024-01-29T14:21:38.036Z"
   },
   {
    "duration": 0,
    "start_time": "2024-01-29T14:21:38.038Z"
   },
   {
    "duration": 17,
    "start_time": "2024-01-29T14:22:30.342Z"
   },
   {
    "duration": 4,
    "start_time": "2024-01-29T14:22:59.613Z"
   },
   {
    "duration": 4,
    "start_time": "2024-01-29T14:23:00.357Z"
   },
   {
    "duration": 1019,
    "start_time": "2024-01-29T14:23:01.181Z"
   },
   {
    "duration": 7,
    "start_time": "2024-01-29T14:23:10.533Z"
   },
   {
    "duration": 3,
    "start_time": "2024-01-29T14:23:11.045Z"
   },
   {
    "duration": 3,
    "start_time": "2024-01-29T14:23:11.477Z"
   },
   {
    "duration": 1007,
    "start_time": "2024-01-29T14:23:12.021Z"
   },
   {
    "duration": 10,
    "start_time": "2024-01-29T14:24:08.695Z"
   },
   {
    "duration": 4,
    "start_time": "2024-01-29T14:24:09.513Z"
   },
   {
    "duration": 5,
    "start_time": "2024-01-29T14:24:09.950Z"
   },
   {
    "duration": 2875,
    "start_time": "2024-01-29T14:24:10.358Z"
   },
   {
    "duration": 4,
    "start_time": "2024-01-29T14:24:39.054Z"
   },
   {
    "duration": 5,
    "start_time": "2024-01-29T14:25:01.959Z"
   },
   {
    "duration": 5,
    "start_time": "2024-01-29T14:25:16.781Z"
   },
   {
    "duration": 1484,
    "start_time": "2024-01-29T14:25:41.873Z"
   },
   {
    "duration": 3,
    "start_time": "2024-01-29T14:25:43.359Z"
   },
   {
    "duration": 450,
    "start_time": "2024-01-29T14:25:43.364Z"
   },
   {
    "duration": 4478,
    "start_time": "2024-01-29T14:25:43.816Z"
   },
   {
    "duration": 167,
    "start_time": "2024-01-29T14:25:48.295Z"
   },
   {
    "duration": 30,
    "start_time": "2024-01-29T14:25:48.464Z"
   },
   {
    "duration": 4,
    "start_time": "2024-01-29T14:25:48.496Z"
   },
   {
    "duration": 6,
    "start_time": "2024-01-29T14:25:48.501Z"
   },
   {
    "duration": 338,
    "start_time": "2024-01-29T14:25:48.508Z"
   },
   {
    "duration": 13,
    "start_time": "2024-01-29T14:25:48.849Z"
   },
   {
    "duration": 428,
    "start_time": "2024-01-29T14:25:48.863Z"
   },
   {
    "duration": 493,
    "start_time": "2024-01-29T14:25:49.293Z"
   },
   {
    "duration": 92,
    "start_time": "2024-01-29T14:25:49.789Z"
   },
   {
    "duration": 592,
    "start_time": "2024-01-29T14:25:49.882Z"
   },
   {
    "duration": 5,
    "start_time": "2024-01-29T14:25:50.476Z"
   },
   {
    "duration": 10,
    "start_time": "2024-01-29T14:25:50.482Z"
   },
   {
    "duration": 2848,
    "start_time": "2024-01-29T14:25:50.494Z"
   },
   {
    "duration": 4,
    "start_time": "2024-01-29T14:25:53.343Z"
   },
   {
    "duration": 7,
    "start_time": "2024-01-29T14:25:53.349Z"
   },
   {
    "duration": 167,
    "start_time": "2024-01-29T14:25:53.357Z"
   },
   {
    "duration": 0,
    "start_time": "2024-01-29T14:25:53.525Z"
   },
   {
    "duration": 0,
    "start_time": "2024-01-29T14:25:53.526Z"
   },
   {
    "duration": 0,
    "start_time": "2024-01-29T14:25:53.527Z"
   },
   {
    "duration": 57,
    "start_time": "2024-01-29T15:02:19.925Z"
   },
   {
    "duration": 74,
    "start_time": "2024-01-29T15:02:40.508Z"
   },
   {
    "duration": 105,
    "start_time": "2024-01-29T15:02:53.684Z"
   },
   {
    "duration": 44,
    "start_time": "2024-01-29T15:03:15.540Z"
   },
   {
    "duration": 812,
    "start_time": "2024-01-29T15:03:36.684Z"
   },
   {
    "duration": 443,
    "start_time": "2024-01-29T15:04:26.461Z"
   },
   {
    "duration": 1448,
    "start_time": "2024-01-29T15:05:58.093Z"
   },
   {
    "duration": 11,
    "start_time": "2024-01-29T15:06:39.468Z"
   },
   {
    "duration": 1494,
    "start_time": "2024-01-29T15:07:05.829Z"
   },
   {
    "duration": 1481,
    "start_time": "2024-01-29T15:07:21.588Z"
   },
   {
    "duration": 3,
    "start_time": "2024-01-29T15:07:23.071Z"
   },
   {
    "duration": 430,
    "start_time": "2024-01-29T15:07:23.075Z"
   },
   {
    "duration": 4443,
    "start_time": "2024-01-29T15:07:23.508Z"
   },
   {
    "duration": 175,
    "start_time": "2024-01-29T15:07:27.953Z"
   },
   {
    "duration": 22,
    "start_time": "2024-01-29T15:07:28.130Z"
   },
   {
    "duration": 3,
    "start_time": "2024-01-29T15:07:28.154Z"
   },
   {
    "duration": 21,
    "start_time": "2024-01-29T15:07:28.159Z"
   },
   {
    "duration": 319,
    "start_time": "2024-01-29T15:07:28.182Z"
   },
   {
    "duration": 14,
    "start_time": "2024-01-29T15:07:28.505Z"
   },
   {
    "duration": 465,
    "start_time": "2024-01-29T15:07:28.521Z"
   },
   {
    "duration": 295,
    "start_time": "2024-01-29T15:07:28.988Z"
   },
   {
    "duration": 0,
    "start_time": "2024-01-29T15:07:29.285Z"
   },
   {
    "duration": 0,
    "start_time": "2024-01-29T15:07:29.287Z"
   },
   {
    "duration": 0,
    "start_time": "2024-01-29T15:07:29.289Z"
   },
   {
    "duration": 0,
    "start_time": "2024-01-29T15:07:29.290Z"
   },
   {
    "duration": 0,
    "start_time": "2024-01-29T15:07:29.291Z"
   },
   {
    "duration": 0,
    "start_time": "2024-01-29T15:07:29.293Z"
   },
   {
    "duration": 0,
    "start_time": "2024-01-29T15:07:29.295Z"
   },
   {
    "duration": 0,
    "start_time": "2024-01-29T15:07:29.296Z"
   },
   {
    "duration": 0,
    "start_time": "2024-01-29T15:07:29.297Z"
   },
   {
    "duration": 0,
    "start_time": "2024-01-29T15:07:29.299Z"
   },
   {
    "duration": 0,
    "start_time": "2024-01-29T15:07:29.300Z"
   },
   {
    "duration": 0,
    "start_time": "2024-01-29T15:07:29.302Z"
   },
   {
    "duration": 0,
    "start_time": "2024-01-29T15:07:29.302Z"
   },
   {
    "duration": 1597,
    "start_time": "2024-01-29T15:07:56.997Z"
   },
   {
    "duration": 1491,
    "start_time": "2024-01-29T15:08:18.014Z"
   },
   {
    "duration": 1417,
    "start_time": "2024-01-29T15:11:10.686Z"
   },
   {
    "duration": 1523,
    "start_time": "2024-01-29T15:11:44.135Z"
   },
   {
    "duration": 1617,
    "start_time": "2024-01-29T15:11:54.263Z"
   },
   {
    "duration": 1450,
    "start_time": "2024-01-29T15:12:02.555Z"
   },
   {
    "duration": 4,
    "start_time": "2024-01-29T15:12:04.007Z"
   },
   {
    "duration": 439,
    "start_time": "2024-01-29T15:12:04.012Z"
   },
   {
    "duration": 4447,
    "start_time": "2024-01-29T15:12:04.453Z"
   },
   {
    "duration": 175,
    "start_time": "2024-01-29T15:12:08.903Z"
   },
   {
    "duration": 24,
    "start_time": "2024-01-29T15:12:09.080Z"
   },
   {
    "duration": 4,
    "start_time": "2024-01-29T15:12:09.105Z"
   },
   {
    "duration": 9,
    "start_time": "2024-01-29T15:12:09.111Z"
   },
   {
    "duration": 320,
    "start_time": "2024-01-29T15:12:09.122Z"
   },
   {
    "duration": 13,
    "start_time": "2024-01-29T15:12:09.443Z"
   },
   {
    "duration": 447,
    "start_time": "2024-01-29T15:12:09.458Z"
   },
   {
    "duration": 276,
    "start_time": "2024-01-29T15:12:09.907Z"
   },
   {
    "duration": 0,
    "start_time": "2024-01-29T15:12:10.186Z"
   },
   {
    "duration": 0,
    "start_time": "2024-01-29T15:12:10.187Z"
   },
   {
    "duration": 0,
    "start_time": "2024-01-29T15:12:10.189Z"
   },
   {
    "duration": 0,
    "start_time": "2024-01-29T15:12:10.190Z"
   },
   {
    "duration": 0,
    "start_time": "2024-01-29T15:12:10.191Z"
   },
   {
    "duration": 0,
    "start_time": "2024-01-29T15:12:10.193Z"
   },
   {
    "duration": 0,
    "start_time": "2024-01-29T15:12:10.195Z"
   },
   {
    "duration": 0,
    "start_time": "2024-01-29T15:12:10.196Z"
   },
   {
    "duration": 0,
    "start_time": "2024-01-29T15:12:10.198Z"
   },
   {
    "duration": 0,
    "start_time": "2024-01-29T15:12:10.199Z"
   },
   {
    "duration": 0,
    "start_time": "2024-01-29T15:12:10.201Z"
   },
   {
    "duration": 0,
    "start_time": "2024-01-29T15:12:10.202Z"
   },
   {
    "duration": 0,
    "start_time": "2024-01-29T15:12:10.204Z"
   },
   {
    "duration": 1443,
    "start_time": "2024-01-29T15:12:34.522Z"
   },
   {
    "duration": 174,
    "start_time": "2024-01-29T15:19:41.106Z"
   },
   {
    "duration": 412,
    "start_time": "2024-01-29T15:20:00.985Z"
   },
   {
    "duration": 9,
    "start_time": "2024-01-29T15:20:04.658Z"
   },
   {
    "duration": 1501,
    "start_time": "2024-01-29T15:27:00.453Z"
   },
   {
    "duration": 4,
    "start_time": "2024-01-29T15:27:01.956Z"
   },
   {
    "duration": 529,
    "start_time": "2024-01-29T15:27:01.961Z"
   },
   {
    "duration": 4489,
    "start_time": "2024-01-29T15:27:02.491Z"
   },
   {
    "duration": 196,
    "start_time": "2024-01-29T15:27:06.982Z"
   },
   {
    "duration": 24,
    "start_time": "2024-01-29T15:27:07.180Z"
   },
   {
    "duration": 4,
    "start_time": "2024-01-29T15:27:07.205Z"
   },
   {
    "duration": 5,
    "start_time": "2024-01-29T15:27:07.210Z"
   },
   {
    "duration": 349,
    "start_time": "2024-01-29T15:27:07.217Z"
   },
   {
    "duration": 20,
    "start_time": "2024-01-29T15:27:07.568Z"
   },
   {
    "duration": 435,
    "start_time": "2024-01-29T15:27:07.591Z"
   },
   {
    "duration": 370,
    "start_time": "2024-01-29T15:27:08.028Z"
   },
   {
    "duration": 5,
    "start_time": "2024-01-29T15:27:08.481Z"
   },
   {
    "duration": 686,
    "start_time": "2024-01-29T15:27:08.490Z"
   },
   {
    "duration": 288,
    "start_time": "2024-01-29T15:27:09.179Z"
   },
   {
    "duration": 0,
    "start_time": "2024-01-29T15:27:09.480Z"
   },
   {
    "duration": 0,
    "start_time": "2024-01-29T15:27:09.481Z"
   },
   {
    "duration": 0,
    "start_time": "2024-01-29T15:27:09.482Z"
   },
   {
    "duration": 0,
    "start_time": "2024-01-29T15:27:09.483Z"
   },
   {
    "duration": 0,
    "start_time": "2024-01-29T15:27:09.484Z"
   },
   {
    "duration": 0,
    "start_time": "2024-01-29T15:27:09.485Z"
   },
   {
    "duration": 0,
    "start_time": "2024-01-29T15:27:09.486Z"
   },
   {
    "duration": 0,
    "start_time": "2024-01-29T15:27:09.487Z"
   },
   {
    "duration": 0,
    "start_time": "2024-01-29T15:27:09.487Z"
   },
   {
    "duration": 0,
    "start_time": "2024-01-29T15:27:09.488Z"
   },
   {
    "duration": 84,
    "start_time": "2024-01-29T15:32:05.100Z"
   },
   {
    "duration": 98,
    "start_time": "2024-01-29T15:32:22.484Z"
   },
   {
    "duration": 71,
    "start_time": "2024-01-29T15:33:13.915Z"
   },
   {
    "duration": 6,
    "start_time": "2024-01-29T15:33:49.628Z"
   },
   {
    "duration": 4746,
    "start_time": "2024-01-29T15:33:50.314Z"
   },
   {
    "duration": 6086,
    "start_time": "2024-01-29T15:36:18.318Z"
   },
   {
    "duration": 6296,
    "start_time": "2024-01-29T15:38:08.038Z"
   },
   {
    "duration": 6259,
    "start_time": "2024-01-29T15:39:58.872Z"
   },
   {
    "duration": 6287,
    "start_time": "2024-01-29T15:41:40.720Z"
   },
   {
    "duration": 6514,
    "start_time": "2024-01-29T15:42:26.698Z"
   },
   {
    "duration": 6249,
    "start_time": "2024-01-29T15:42:52.288Z"
   },
   {
    "duration": 6186,
    "start_time": "2024-01-29T15:43:40.161Z"
   },
   {
    "duration": 6221,
    "start_time": "2024-01-29T15:44:37.738Z"
   },
   {
    "duration": 6237,
    "start_time": "2024-01-29T15:45:48.306Z"
   },
   {
    "duration": 6229,
    "start_time": "2024-01-29T15:46:49.763Z"
   },
   {
    "duration": 6238,
    "start_time": "2024-01-29T15:47:58.592Z"
   },
   {
    "duration": 6156,
    "start_time": "2024-01-29T16:08:09.106Z"
   },
   {
    "duration": 6056,
    "start_time": "2024-01-29T16:08:47.482Z"
   },
   {
    "duration": 101,
    "start_time": "2024-01-29T16:11:36.158Z"
   },
   {
    "duration": 105,
    "start_time": "2024-01-29T16:11:51.778Z"
   },
   {
    "duration": 260,
    "start_time": "2024-01-29T16:12:06.122Z"
   },
   {
    "duration": 31,
    "start_time": "2024-01-29T16:12:16.906Z"
   },
   {
    "duration": 1537,
    "start_time": "2024-01-29T16:12:36.458Z"
   },
   {
    "duration": 3,
    "start_time": "2024-01-29T16:12:37.997Z"
   },
   {
    "duration": 432,
    "start_time": "2024-01-29T16:12:38.002Z"
   },
   {
    "duration": 4457,
    "start_time": "2024-01-29T16:12:38.436Z"
   },
   {
    "duration": 206,
    "start_time": "2024-01-29T16:12:42.895Z"
   },
   {
    "duration": 26,
    "start_time": "2024-01-29T16:12:43.103Z"
   },
   {
    "duration": 4,
    "start_time": "2024-01-29T16:12:43.131Z"
   },
   {
    "duration": 15,
    "start_time": "2024-01-29T16:12:43.136Z"
   },
   {
    "duration": 362,
    "start_time": "2024-01-29T16:12:43.153Z"
   },
   {
    "duration": 13,
    "start_time": "2024-01-29T16:12:43.517Z"
   },
   {
    "duration": 423,
    "start_time": "2024-01-29T16:12:43.532Z"
   },
   {
    "duration": 441,
    "start_time": "2024-01-29T16:12:43.957Z"
   },
   {
    "duration": 9,
    "start_time": "2024-01-29T16:12:44.483Z"
   },
   {
    "duration": 135,
    "start_time": "2024-01-29T16:12:44.580Z"
   },
   {
    "duration": 0,
    "start_time": "2024-01-29T16:12:44.717Z"
   },
   {
    "duration": 0,
    "start_time": "2024-01-29T16:12:44.719Z"
   },
   {
    "duration": 1452,
    "start_time": "2024-01-29T16:13:30.008Z"
   },
   {
    "duration": 3,
    "start_time": "2024-01-29T16:13:31.462Z"
   },
   {
    "duration": 506,
    "start_time": "2024-01-29T16:13:31.467Z"
   },
   {
    "duration": 4437,
    "start_time": "2024-01-29T16:13:31.975Z"
   },
   {
    "duration": 183,
    "start_time": "2024-01-29T16:13:36.414Z"
   },
   {
    "duration": 25,
    "start_time": "2024-01-29T16:13:36.599Z"
   },
   {
    "duration": 4,
    "start_time": "2024-01-29T16:13:36.625Z"
   },
   {
    "duration": 5,
    "start_time": "2024-01-29T16:13:36.630Z"
   },
   {
    "duration": 336,
    "start_time": "2024-01-29T16:13:36.637Z"
   },
   {
    "duration": 13,
    "start_time": "2024-01-29T16:13:36.979Z"
   },
   {
    "duration": 450,
    "start_time": "2024-01-29T16:13:36.995Z"
   },
   {
    "duration": 440,
    "start_time": "2024-01-29T16:13:37.447Z"
   },
   {
    "duration": 93,
    "start_time": "2024-01-29T16:13:37.889Z"
   },
   {
    "duration": 659,
    "start_time": "2024-01-29T16:13:37.986Z"
   },
   {
    "duration": 3,
    "start_time": "2024-01-29T16:13:38.647Z"
   },
   {
    "duration": 6178,
    "start_time": "2024-01-29T16:13:38.653Z"
   },
   {
    "duration": 499,
    "start_time": "2024-01-29T17:23:59.923Z"
   },
   {
    "duration": 1548,
    "start_time": "2024-01-29T17:49:25.576Z"
   },
   {
    "duration": 4,
    "start_time": "2024-01-29T17:49:27.125Z"
   },
   {
    "duration": 438,
    "start_time": "2024-01-29T17:49:27.130Z"
   },
   {
    "duration": 4404,
    "start_time": "2024-01-29T17:49:27.570Z"
   },
   {
    "duration": 187,
    "start_time": "2024-01-29T17:49:31.979Z"
   },
   {
    "duration": 31,
    "start_time": "2024-01-29T17:49:32.168Z"
   },
   {
    "duration": 78,
    "start_time": "2024-01-29T17:49:32.201Z"
   },
   {
    "duration": 44,
    "start_time": "2024-01-29T17:49:32.281Z"
   },
   {
    "duration": 371,
    "start_time": "2024-01-29T17:49:32.327Z"
   },
   {
    "duration": 13,
    "start_time": "2024-01-29T17:49:32.699Z"
   },
   {
    "duration": 453,
    "start_time": "2024-01-29T17:49:32.714Z"
   },
   {
    "duration": 419,
    "start_time": "2024-01-29T17:49:33.169Z"
   },
   {
    "duration": 92,
    "start_time": "2024-01-29T17:49:33.590Z"
   },
   {
    "duration": 652,
    "start_time": "2024-01-29T17:49:33.686Z"
   },
   {
    "duration": 4,
    "start_time": "2024-01-29T17:49:34.340Z"
   },
   {
    "duration": 6230,
    "start_time": "2024-01-29T17:49:34.345Z"
   },
   {
    "duration": 1465,
    "start_time": "2024-01-29T18:05:38.487Z"
   },
   {
    "duration": 4,
    "start_time": "2024-01-29T18:05:39.954Z"
   },
   {
    "duration": 428,
    "start_time": "2024-01-29T18:05:39.959Z"
   },
   {
    "duration": 4467,
    "start_time": "2024-01-29T18:05:40.389Z"
   },
   {
    "duration": 188,
    "start_time": "2024-01-29T18:05:44.858Z"
   },
   {
    "duration": 33,
    "start_time": "2024-01-29T18:05:45.048Z"
   },
   {
    "duration": 8,
    "start_time": "2024-01-29T18:05:45.083Z"
   },
   {
    "duration": 25,
    "start_time": "2024-01-29T18:05:45.092Z"
   },
   {
    "duration": 351,
    "start_time": "2024-01-29T18:05:45.119Z"
   },
   {
    "duration": 17,
    "start_time": "2024-01-29T18:05:45.473Z"
   },
   {
    "duration": 457,
    "start_time": "2024-01-29T18:05:45.492Z"
   },
   {
    "duration": 437,
    "start_time": "2024-01-29T18:05:45.952Z"
   },
   {
    "duration": 7,
    "start_time": "2024-01-29T18:05:46.482Z"
   },
   {
    "duration": 667,
    "start_time": "2024-01-29T18:05:46.492Z"
   },
   {
    "duration": 4,
    "start_time": "2024-01-29T18:05:47.161Z"
   },
   {
    "duration": 6166,
    "start_time": "2024-01-29T18:05:47.167Z"
   },
   {
    "duration": 1481,
    "start_time": "2024-01-29T18:08:53.971Z"
   },
   {
    "duration": 3,
    "start_time": "2024-01-29T18:08:55.454Z"
   },
   {
    "duration": 421,
    "start_time": "2024-01-29T18:08:55.459Z"
   },
   {
    "duration": 4471,
    "start_time": "2024-01-29T18:08:55.882Z"
   },
   {
    "duration": 229,
    "start_time": "2024-01-29T18:09:00.355Z"
   },
   {
    "duration": 28,
    "start_time": "2024-01-29T18:09:00.587Z"
   },
   {
    "duration": 35,
    "start_time": "2024-01-29T18:09:00.617Z"
   },
   {
    "duration": 67,
    "start_time": "2024-01-29T18:09:00.654Z"
   },
   {
    "duration": 429,
    "start_time": "2024-01-29T18:09:00.722Z"
   },
   {
    "duration": 25,
    "start_time": "2024-01-29T18:09:01.155Z"
   },
   {
    "duration": 459,
    "start_time": "2024-01-29T18:09:01.182Z"
   },
   {
    "duration": 448,
    "start_time": "2024-01-29T18:09:01.642Z"
   },
   {
    "duration": 89,
    "start_time": "2024-01-29T18:09:02.093Z"
   },
   {
    "duration": 709,
    "start_time": "2024-01-29T18:09:02.184Z"
   },
   {
    "duration": 3,
    "start_time": "2024-01-29T18:09:02.895Z"
   },
   {
    "duration": 6243,
    "start_time": "2024-01-29T18:09:02.900Z"
   },
   {
    "duration": 1300,
    "start_time": "2024-01-29T21:21:31.622Z"
   },
   {
    "duration": 4,
    "start_time": "2024-01-29T21:21:32.925Z"
   },
   {
    "duration": 1687,
    "start_time": "2024-01-29T21:21:32.930Z"
   },
   {
    "duration": 424,
    "start_time": "2024-01-29T21:21:34.620Z"
   },
   {
    "duration": 4294,
    "start_time": "2024-01-29T21:21:47.861Z"
   },
   {
    "duration": 1301,
    "start_time": "2024-01-29T21:26:32.993Z"
   },
   {
    "duration": 3,
    "start_time": "2024-01-29T21:26:34.296Z"
   },
   {
    "duration": 422,
    "start_time": "2024-01-29T21:26:34.301Z"
   },
   {
    "duration": 400,
    "start_time": "2024-01-29T21:26:34.725Z"
   },
   {
    "duration": 4189,
    "start_time": "2024-01-29T21:26:35.127Z"
   },
   {
    "duration": 148,
    "start_time": "2024-01-29T21:26:39.318Z"
   },
   {
    "duration": 33,
    "start_time": "2024-01-29T21:26:39.467Z"
   },
   {
    "duration": 3,
    "start_time": "2024-01-29T21:26:39.502Z"
   },
   {
    "duration": 28,
    "start_time": "2024-01-29T21:26:39.507Z"
   },
   {
    "duration": 305,
    "start_time": "2024-01-29T21:26:39.538Z"
   },
   {
    "duration": 13,
    "start_time": "2024-01-29T21:26:39.844Z"
   },
   {
    "duration": 410,
    "start_time": "2024-01-29T21:26:39.859Z"
   },
   {
    "duration": 449,
    "start_time": "2024-01-29T21:26:40.270Z"
   },
   {
    "duration": 94,
    "start_time": "2024-01-29T21:26:40.800Z"
   },
   {
    "duration": 569,
    "start_time": "2024-01-29T21:26:40.897Z"
   },
   {
    "duration": 4,
    "start_time": "2024-01-29T21:26:41.468Z"
   },
   {
    "duration": 9689,
    "start_time": "2024-01-29T21:26:41.473Z"
   },
   {
    "duration": 1158,
    "start_time": "2024-01-29T21:27:59.646Z"
   },
   {
    "duration": 3,
    "start_time": "2024-01-29T21:28:00.806Z"
   },
   {
    "duration": 531,
    "start_time": "2024-01-29T21:28:00.811Z"
   },
   {
    "duration": 383,
    "start_time": "2024-01-29T21:28:01.345Z"
   },
   {
    "duration": 4307,
    "start_time": "2024-01-29T21:28:01.729Z"
   },
   {
    "duration": 146,
    "start_time": "2024-01-29T21:28:06.038Z"
   },
   {
    "duration": 31,
    "start_time": "2024-01-29T21:28:06.185Z"
   },
   {
    "duration": 4,
    "start_time": "2024-01-29T21:28:06.218Z"
   },
   {
    "duration": 13,
    "start_time": "2024-01-29T21:28:06.224Z"
   },
   {
    "duration": 309,
    "start_time": "2024-01-29T21:28:06.240Z"
   },
   {
    "duration": 13,
    "start_time": "2024-01-29T21:28:06.551Z"
   },
   {
    "duration": 415,
    "start_time": "2024-01-29T21:28:06.565Z"
   },
   {
    "duration": 414,
    "start_time": "2024-01-29T21:28:06.981Z"
   },
   {
    "duration": 8,
    "start_time": "2024-01-29T21:28:07.397Z"
   },
   {
    "duration": 620,
    "start_time": "2024-01-29T21:28:07.407Z"
   },
   {
    "duration": 5,
    "start_time": "2024-01-29T21:28:08.029Z"
   },
   {
    "duration": 11591,
    "start_time": "2024-01-29T21:28:08.036Z"
   },
   {
    "duration": 7,
    "start_time": "2024-01-29T21:29:43.636Z"
   },
   {
    "duration": 7,
    "start_time": "2024-01-29T21:30:07.058Z"
   },
   {
    "duration": 1519,
    "start_time": "2024-01-31T07:09:01.510Z"
   },
   {
    "duration": 3,
    "start_time": "2024-01-31T07:09:03.031Z"
   },
   {
    "duration": 1632,
    "start_time": "2024-01-31T07:09:03.035Z"
   },
   {
    "duration": 368,
    "start_time": "2024-01-31T07:09:04.669Z"
   },
   {
    "duration": 4142,
    "start_time": "2024-01-31T07:09:05.039Z"
   },
   {
    "duration": 156,
    "start_time": "2024-01-31T07:09:09.183Z"
   },
   {
    "duration": 26,
    "start_time": "2024-01-31T07:09:09.341Z"
   },
   {
    "duration": 4,
    "start_time": "2024-01-31T07:09:09.369Z"
   },
   {
    "duration": 7,
    "start_time": "2024-01-31T07:09:09.375Z"
   },
   {
    "duration": 284,
    "start_time": "2024-01-31T07:09:09.384Z"
   },
   {
    "duration": 11,
    "start_time": "2024-01-31T07:09:09.670Z"
   },
   {
    "duration": 389,
    "start_time": "2024-01-31T07:09:09.682Z"
   },
   {
    "duration": 402,
    "start_time": "2024-01-31T07:09:10.072Z"
   },
   {
    "duration": 87,
    "start_time": "2024-01-31T07:09:10.476Z"
   },
   {
    "duration": 608,
    "start_time": "2024-01-31T07:09:10.565Z"
   },
   {
    "duration": 5,
    "start_time": "2024-01-31T07:09:11.175Z"
   },
   {
    "duration": 18,
    "start_time": "2024-01-31T07:09:11.181Z"
   },
   {
    "duration": 13,
    "start_time": "2024-01-31T07:09:11.201Z"
   },
   {
    "duration": 10467,
    "start_time": "2024-01-31T07:09:11.216Z"
   },
   {
    "duration": 1435,
    "start_time": "2024-01-31T07:17:09.205Z"
   },
   {
    "duration": 3,
    "start_time": "2024-01-31T07:17:10.642Z"
   },
   {
    "duration": 112,
    "start_time": "2024-01-31T07:17:10.648Z"
   },
   {
    "duration": 0,
    "start_time": "2024-01-31T07:17:10.762Z"
   },
   {
    "duration": 0,
    "start_time": "2024-01-31T07:17:10.763Z"
   },
   {
    "duration": 0,
    "start_time": "2024-01-31T07:17:10.764Z"
   },
   {
    "duration": 0,
    "start_time": "2024-01-31T07:17:10.765Z"
   },
   {
    "duration": 0,
    "start_time": "2024-01-31T07:17:10.767Z"
   },
   {
    "duration": 0,
    "start_time": "2024-01-31T07:17:10.768Z"
   },
   {
    "duration": 0,
    "start_time": "2024-01-31T07:17:10.769Z"
   },
   {
    "duration": 0,
    "start_time": "2024-01-31T07:17:10.771Z"
   },
   {
    "duration": 0,
    "start_time": "2024-01-31T07:17:10.773Z"
   },
   {
    "duration": 0,
    "start_time": "2024-01-31T07:17:10.774Z"
   },
   {
    "duration": 0,
    "start_time": "2024-01-31T07:17:10.775Z"
   },
   {
    "duration": 0,
    "start_time": "2024-01-31T07:17:10.777Z"
   },
   {
    "duration": 0,
    "start_time": "2024-01-31T07:17:10.778Z"
   },
   {
    "duration": 1,
    "start_time": "2024-01-31T07:17:10.779Z"
   },
   {
    "duration": 0,
    "start_time": "2024-01-31T07:17:10.781Z"
   },
   {
    "duration": 0,
    "start_time": "2024-01-31T07:17:10.782Z"
   },
   {
    "duration": 1314,
    "start_time": "2024-01-31T07:17:49.182Z"
   },
   {
    "duration": 3,
    "start_time": "2024-01-31T07:17:50.498Z"
   },
   {
    "duration": 401,
    "start_time": "2024-01-31T07:17:50.502Z"
   },
   {
    "duration": 347,
    "start_time": "2024-01-31T07:17:50.905Z"
   },
   {
    "duration": 112,
    "start_time": "2024-01-31T07:17:51.258Z"
   },
   {
    "duration": 0,
    "start_time": "2024-01-31T07:17:51.372Z"
   },
   {
    "duration": 0,
    "start_time": "2024-01-31T07:17:51.373Z"
   },
   {
    "duration": 0,
    "start_time": "2024-01-31T07:17:51.375Z"
   },
   {
    "duration": 0,
    "start_time": "2024-01-31T07:17:51.376Z"
   },
   {
    "duration": 0,
    "start_time": "2024-01-31T07:17:51.377Z"
   },
   {
    "duration": 0,
    "start_time": "2024-01-31T07:17:51.379Z"
   },
   {
    "duration": 0,
    "start_time": "2024-01-31T07:17:51.380Z"
   },
   {
    "duration": 0,
    "start_time": "2024-01-31T07:17:51.382Z"
   },
   {
    "duration": 0,
    "start_time": "2024-01-31T07:17:51.383Z"
   },
   {
    "duration": 0,
    "start_time": "2024-01-31T07:17:51.384Z"
   },
   {
    "duration": 0,
    "start_time": "2024-01-31T07:17:51.386Z"
   },
   {
    "duration": 0,
    "start_time": "2024-01-31T07:17:51.387Z"
   },
   {
    "duration": 0,
    "start_time": "2024-01-31T07:17:51.389Z"
   },
   {
    "duration": 0,
    "start_time": "2024-01-31T07:17:51.390Z"
   },
   {
    "duration": 1395,
    "start_time": "2024-01-31T07:18:55.184Z"
   },
   {
    "duration": 3,
    "start_time": "2024-01-31T07:18:56.581Z"
   },
   {
    "duration": 541,
    "start_time": "2024-01-31T07:18:56.585Z"
   },
   {
    "duration": 0,
    "start_time": "2024-01-31T07:18:57.128Z"
   },
   {
    "duration": 0,
    "start_time": "2024-01-31T07:18:57.129Z"
   },
   {
    "duration": 0,
    "start_time": "2024-01-31T07:18:57.130Z"
   },
   {
    "duration": 0,
    "start_time": "2024-01-31T07:18:57.131Z"
   },
   {
    "duration": 0,
    "start_time": "2024-01-31T07:18:57.132Z"
   },
   {
    "duration": 0,
    "start_time": "2024-01-31T07:18:57.133Z"
   },
   {
    "duration": 0,
    "start_time": "2024-01-31T07:18:57.134Z"
   },
   {
    "duration": 0,
    "start_time": "2024-01-31T07:18:57.135Z"
   },
   {
    "duration": 0,
    "start_time": "2024-01-31T07:18:57.136Z"
   },
   {
    "duration": 0,
    "start_time": "2024-01-31T07:18:57.137Z"
   },
   {
    "duration": 0,
    "start_time": "2024-01-31T07:18:57.138Z"
   },
   {
    "duration": 0,
    "start_time": "2024-01-31T07:18:57.158Z"
   },
   {
    "duration": 0,
    "start_time": "2024-01-31T07:18:57.159Z"
   },
   {
    "duration": 0,
    "start_time": "2024-01-31T07:18:57.160Z"
   },
   {
    "duration": 0,
    "start_time": "2024-01-31T07:18:57.161Z"
   },
   {
    "duration": 0,
    "start_time": "2024-01-31T07:18:57.162Z"
   },
   {
    "duration": 1358,
    "start_time": "2024-01-31T07:19:49.611Z"
   },
   {
    "duration": 3,
    "start_time": "2024-01-31T07:19:50.971Z"
   },
   {
    "duration": 408,
    "start_time": "2024-01-31T07:19:50.975Z"
   },
   {
    "duration": 340,
    "start_time": "2024-01-31T07:19:51.386Z"
   },
   {
    "duration": 3962,
    "start_time": "2024-01-31T07:19:51.727Z"
   },
   {
    "duration": 139,
    "start_time": "2024-01-31T07:19:55.691Z"
   },
   {
    "duration": 30,
    "start_time": "2024-01-31T07:19:55.832Z"
   },
   {
    "duration": 3,
    "start_time": "2024-01-31T07:19:55.863Z"
   },
   {
    "duration": 13,
    "start_time": "2024-01-31T07:19:55.867Z"
   },
   {
    "duration": 279,
    "start_time": "2024-01-31T07:19:55.882Z"
   },
   {
    "duration": 12,
    "start_time": "2024-01-31T07:19:56.163Z"
   },
   {
    "duration": 396,
    "start_time": "2024-01-31T07:19:56.176Z"
   },
   {
    "duration": 393,
    "start_time": "2024-01-31T07:19:56.573Z"
   },
   {
    "duration": 96,
    "start_time": "2024-01-31T07:19:56.968Z"
   },
   {
    "duration": 623,
    "start_time": "2024-01-31T07:19:57.066Z"
   },
   {
    "duration": 4,
    "start_time": "2024-01-31T07:19:57.691Z"
   },
   {
    "duration": 9,
    "start_time": "2024-01-31T07:19:57.696Z"
   },
   {
    "duration": 38,
    "start_time": "2024-01-31T07:19:57.706Z"
   },
   {
    "duration": 10432,
    "start_time": "2024-01-31T07:19:57.746Z"
   },
   {
    "duration": 108,
    "start_time": "2024-01-31T07:47:28.168Z"
   },
   {
    "duration": 95,
    "start_time": "2024-01-31T07:47:52.511Z"
   },
   {
    "duration": 103,
    "start_time": "2024-01-31T09:36:13.369Z"
   },
   {
    "duration": 1455,
    "start_time": "2024-01-31T09:56:26.365Z"
   },
   {
    "duration": 3,
    "start_time": "2024-01-31T09:56:27.822Z"
   },
   {
    "duration": 434,
    "start_time": "2024-01-31T09:56:27.827Z"
   },
   {
    "duration": 346,
    "start_time": "2024-01-31T09:56:28.263Z"
   },
   {
    "duration": 4144,
    "start_time": "2024-01-31T09:56:28.611Z"
   },
   {
    "duration": 160,
    "start_time": "2024-01-31T09:56:32.757Z"
   },
   {
    "duration": 22,
    "start_time": "2024-01-31T09:56:32.918Z"
   },
   {
    "duration": 4,
    "start_time": "2024-01-31T09:56:32.942Z"
   },
   {
    "duration": 25,
    "start_time": "2024-01-31T09:56:32.959Z"
   },
   {
    "duration": 317,
    "start_time": "2024-01-31T09:56:32.986Z"
   },
   {
    "duration": 12,
    "start_time": "2024-01-31T09:56:33.304Z"
   },
   {
    "duration": 384,
    "start_time": "2024-01-31T09:56:33.318Z"
   },
   {
    "duration": 372,
    "start_time": "2024-01-31T09:56:33.704Z"
   },
   {
    "duration": 81,
    "start_time": "2024-01-31T09:56:34.078Z"
   },
   {
    "duration": 621,
    "start_time": "2024-01-31T09:56:34.161Z"
   },
   {
    "duration": 3,
    "start_time": "2024-01-31T09:56:34.783Z"
   },
   {
    "duration": 7,
    "start_time": "2024-01-31T09:56:34.788Z"
   },
   {
    "duration": 6,
    "start_time": "2024-01-31T09:56:34.797Z"
   },
   {
    "duration": 10662,
    "start_time": "2024-01-31T09:56:34.805Z"
   },
   {
    "duration": 1318,
    "start_time": "2024-01-31T10:09:09.900Z"
   },
   {
    "duration": 4,
    "start_time": "2024-01-31T10:09:11.221Z"
   },
   {
    "duration": 407,
    "start_time": "2024-01-31T10:09:11.226Z"
   },
   {
    "duration": 368,
    "start_time": "2024-01-31T10:09:11.636Z"
   },
   {
    "duration": 4118,
    "start_time": "2024-01-31T10:09:12.005Z"
   },
   {
    "duration": 158,
    "start_time": "2024-01-31T10:09:16.125Z"
   },
   {
    "duration": 25,
    "start_time": "2024-01-31T10:09:16.285Z"
   },
   {
    "duration": 3,
    "start_time": "2024-01-31T10:09:16.312Z"
   },
   {
    "duration": 18,
    "start_time": "2024-01-31T10:09:16.316Z"
   },
   {
    "duration": 293,
    "start_time": "2024-01-31T10:09:16.336Z"
   },
   {
    "duration": 13,
    "start_time": "2024-01-31T10:09:16.631Z"
   },
   {
    "duration": 388,
    "start_time": "2024-01-31T10:09:16.645Z"
   },
   {
    "duration": 437,
    "start_time": "2024-01-31T10:09:17.034Z"
   },
   {
    "duration": 87,
    "start_time": "2024-01-31T10:09:17.473Z"
   },
   {
    "duration": 610,
    "start_time": "2024-01-31T10:09:17.562Z"
   },
   {
    "duration": 4,
    "start_time": "2024-01-31T10:09:18.173Z"
   },
   {
    "duration": 7,
    "start_time": "2024-01-31T10:09:18.179Z"
   },
   {
    "duration": 9,
    "start_time": "2024-01-31T10:09:18.187Z"
   },
   {
    "duration": 10798,
    "start_time": "2024-01-31T10:09:18.198Z"
   },
   {
    "duration": 1359,
    "start_time": "2024-01-31T10:10:43.048Z"
   },
   {
    "duration": 3,
    "start_time": "2024-01-31T10:10:44.409Z"
   },
   {
    "duration": 412,
    "start_time": "2024-01-31T10:10:44.413Z"
   },
   {
    "duration": 340,
    "start_time": "2024-01-31T10:10:44.827Z"
   },
   {
    "duration": 4100,
    "start_time": "2024-01-31T10:10:45.169Z"
   },
   {
    "duration": 178,
    "start_time": "2024-01-31T10:10:49.271Z"
   },
   {
    "duration": 33,
    "start_time": "2024-01-31T10:10:49.451Z"
   },
   {
    "duration": 4,
    "start_time": "2024-01-31T10:10:49.486Z"
   },
   {
    "duration": 5,
    "start_time": "2024-01-31T10:10:49.491Z"
   },
   {
    "duration": 345,
    "start_time": "2024-01-31T10:10:49.498Z"
   },
   {
    "duration": 15,
    "start_time": "2024-01-31T10:10:49.844Z"
   },
   {
    "duration": 405,
    "start_time": "2024-01-31T10:10:49.860Z"
   },
   {
    "duration": 400,
    "start_time": "2024-01-31T10:10:50.267Z"
   },
   {
    "duration": 90,
    "start_time": "2024-01-31T10:10:50.670Z"
   },
   {
    "duration": 620,
    "start_time": "2024-01-31T10:10:50.762Z"
   },
   {
    "duration": 4,
    "start_time": "2024-01-31T10:10:51.383Z"
   },
   {
    "duration": 11,
    "start_time": "2024-01-31T10:10:51.388Z"
   },
   {
    "duration": 15,
    "start_time": "2024-01-31T10:10:51.401Z"
   },
   {
    "duration": 10410,
    "start_time": "2024-01-31T10:10:51.417Z"
   },
   {
    "duration": 1335,
    "start_time": "2024-01-31T10:11:28.191Z"
   },
   {
    "duration": 3,
    "start_time": "2024-01-31T10:11:29.528Z"
   },
   {
    "duration": 398,
    "start_time": "2024-01-31T10:11:29.532Z"
   },
   {
    "duration": 359,
    "start_time": "2024-01-31T10:11:29.931Z"
   },
   {
    "duration": 4058,
    "start_time": "2024-01-31T10:11:30.292Z"
   },
   {
    "duration": 167,
    "start_time": "2024-01-31T10:11:34.351Z"
   },
   {
    "duration": 22,
    "start_time": "2024-01-31T10:11:34.519Z"
   },
   {
    "duration": 18,
    "start_time": "2024-01-31T10:11:34.542Z"
   },
   {
    "duration": 15,
    "start_time": "2024-01-31T10:11:34.561Z"
   },
   {
    "duration": 298,
    "start_time": "2024-01-31T10:11:34.578Z"
   },
   {
    "duration": 13,
    "start_time": "2024-01-31T10:11:34.877Z"
   },
   {
    "duration": 391,
    "start_time": "2024-01-31T10:11:34.891Z"
   },
   {
    "duration": 378,
    "start_time": "2024-01-31T10:11:35.283Z"
   },
   {
    "duration": 4,
    "start_time": "2024-01-31T10:11:35.663Z"
   },
   {
    "duration": 598,
    "start_time": "2024-01-31T10:11:35.670Z"
   },
   {
    "duration": 4,
    "start_time": "2024-01-31T10:11:36.270Z"
   },
   {
    "duration": 26,
    "start_time": "2024-01-31T10:11:36.276Z"
   },
   {
    "duration": 29,
    "start_time": "2024-01-31T10:11:36.304Z"
   },
   {
    "duration": 5384,
    "start_time": "2024-01-31T10:11:36.335Z"
   },
   {
    "duration": 1424,
    "start_time": "2024-01-31T10:12:31.673Z"
   },
   {
    "duration": 3,
    "start_time": "2024-01-31T10:12:33.099Z"
   },
   {
    "duration": 390,
    "start_time": "2024-01-31T10:12:33.103Z"
   },
   {
    "duration": 349,
    "start_time": "2024-01-31T10:12:33.495Z"
   },
   {
    "duration": 3980,
    "start_time": "2024-01-31T10:12:33.846Z"
   },
   {
    "duration": 144,
    "start_time": "2024-01-31T10:12:37.827Z"
   },
   {
    "duration": 21,
    "start_time": "2024-01-31T10:12:37.973Z"
   },
   {
    "duration": 3,
    "start_time": "2024-01-31T10:12:37.995Z"
   },
   {
    "duration": 5,
    "start_time": "2024-01-31T10:12:37.999Z"
   },
   {
    "duration": 276,
    "start_time": "2024-01-31T10:12:38.006Z"
   },
   {
    "duration": 12,
    "start_time": "2024-01-31T10:12:38.284Z"
   },
   {
    "duration": 384,
    "start_time": "2024-01-31T10:12:38.297Z"
   },
   {
    "duration": 384,
    "start_time": "2024-01-31T10:12:38.683Z"
   },
   {
    "duration": 91,
    "start_time": "2024-01-31T10:12:39.069Z"
   },
   {
    "duration": 605,
    "start_time": "2024-01-31T10:12:39.162Z"
   },
   {
    "duration": 4,
    "start_time": "2024-01-31T10:12:39.768Z"
   },
   {
    "duration": 8,
    "start_time": "2024-01-31T10:12:39.773Z"
   },
   {
    "duration": 5,
    "start_time": "2024-01-31T10:12:39.783Z"
   },
   {
    "duration": 5468,
    "start_time": "2024-01-31T10:12:39.790Z"
   },
   {
    "duration": 1409,
    "start_time": "2024-01-31T10:29:29.035Z"
   },
   {
    "duration": 3,
    "start_time": "2024-01-31T10:29:30.446Z"
   },
   {
    "duration": 488,
    "start_time": "2024-01-31T10:29:30.451Z"
   },
   {
    "duration": 385,
    "start_time": "2024-01-31T10:29:30.941Z"
   },
   {
    "duration": 4132,
    "start_time": "2024-01-31T10:29:31.327Z"
   },
   {
    "duration": 186,
    "start_time": "2024-01-31T10:29:35.461Z"
   },
   {
    "duration": 30,
    "start_time": "2024-01-31T10:29:35.649Z"
   },
   {
    "duration": 4,
    "start_time": "2024-01-31T10:29:35.681Z"
   },
   {
    "duration": 11,
    "start_time": "2024-01-31T10:29:35.686Z"
   },
   {
    "duration": 298,
    "start_time": "2024-01-31T10:29:35.699Z"
   },
   {
    "duration": 12,
    "start_time": "2024-01-31T10:29:35.999Z"
   },
   {
    "duration": 407,
    "start_time": "2024-01-31T10:29:36.012Z"
   },
   {
    "duration": 98,
    "start_time": "2024-01-31T10:29:36.420Z"
   },
   {
    "duration": 0,
    "start_time": "2024-01-31T10:29:36.519Z"
   },
   {
    "duration": 0,
    "start_time": "2024-01-31T10:29:36.521Z"
   },
   {
    "duration": 0,
    "start_time": "2024-01-31T10:29:36.522Z"
   },
   {
    "duration": 0,
    "start_time": "2024-01-31T10:29:36.523Z"
   },
   {
    "duration": 0,
    "start_time": "2024-01-31T10:29:36.524Z"
   },
   {
    "duration": 0,
    "start_time": "2024-01-31T10:29:36.525Z"
   },
   {
    "duration": 1381,
    "start_time": "2024-01-31T10:31:48.884Z"
   },
   {
    "duration": 2,
    "start_time": "2024-01-31T10:31:50.268Z"
   },
   {
    "duration": 413,
    "start_time": "2024-01-31T10:31:50.274Z"
   },
   {
    "duration": 387,
    "start_time": "2024-01-31T10:31:50.689Z"
   },
   {
    "duration": 4268,
    "start_time": "2024-01-31T10:31:51.077Z"
   },
   {
    "duration": 193,
    "start_time": "2024-01-31T10:31:55.347Z"
   },
   {
    "duration": 45,
    "start_time": "2024-01-31T10:31:55.542Z"
   },
   {
    "duration": 4,
    "start_time": "2024-01-31T10:31:55.588Z"
   },
   {
    "duration": 6,
    "start_time": "2024-01-31T10:31:55.595Z"
   },
   {
    "duration": 301,
    "start_time": "2024-01-31T10:31:55.602Z"
   },
   {
    "duration": 13,
    "start_time": "2024-01-31T10:31:55.905Z"
   },
   {
    "duration": 410,
    "start_time": "2024-01-31T10:31:55.920Z"
   },
   {
    "duration": 6,
    "start_time": "2024-01-31T10:31:56.331Z"
   },
   {
    "duration": 312,
    "start_time": "2024-01-31T10:31:56.338Z"
   },
   {
    "duration": 0,
    "start_time": "2024-01-31T10:31:56.652Z"
   },
   {
    "duration": 0,
    "start_time": "2024-01-31T10:31:56.660Z"
   },
   {
    "duration": 0,
    "start_time": "2024-01-31T10:31:56.661Z"
   },
   {
    "duration": 0,
    "start_time": "2024-01-31T10:31:56.662Z"
   },
   {
    "duration": 0,
    "start_time": "2024-01-31T10:31:56.664Z"
   },
   {
    "duration": 0,
    "start_time": "2024-01-31T10:31:56.665Z"
   },
   {
    "duration": 1343,
    "start_time": "2024-01-31T10:32:14.995Z"
   },
   {
    "duration": 3,
    "start_time": "2024-01-31T10:32:16.340Z"
   },
   {
    "duration": 414,
    "start_time": "2024-01-31T10:32:16.345Z"
   },
   {
    "duration": 354,
    "start_time": "2024-01-31T10:32:16.762Z"
   },
   {
    "duration": 4232,
    "start_time": "2024-01-31T10:32:17.117Z"
   },
   {
    "duration": 214,
    "start_time": "2024-01-31T10:32:21.350Z"
   },
   {
    "duration": 24,
    "start_time": "2024-01-31T10:32:21.565Z"
   },
   {
    "duration": 13,
    "start_time": "2024-01-31T10:32:21.591Z"
   },
   {
    "duration": 19,
    "start_time": "2024-01-31T10:32:21.606Z"
   },
   {
    "duration": 335,
    "start_time": "2024-01-31T10:32:21.627Z"
   },
   {
    "duration": 15,
    "start_time": "2024-01-31T10:32:21.964Z"
   },
   {
    "duration": 464,
    "start_time": "2024-01-31T10:32:21.981Z"
   },
   {
    "duration": 12,
    "start_time": "2024-01-31T10:32:22.447Z"
   },
   {
    "duration": 108,
    "start_time": "2024-01-31T10:32:22.461Z"
   },
   {
    "duration": 90,
    "start_time": "2024-01-31T10:32:22.571Z"
   },
   {
    "duration": 569,
    "start_time": "2024-01-31T10:32:22.662Z"
   },
   {
    "duration": 3,
    "start_time": "2024-01-31T10:32:23.233Z"
   },
   {
    "duration": 22,
    "start_time": "2024-01-31T10:32:23.238Z"
   },
   {
    "duration": 30,
    "start_time": "2024-01-31T10:32:23.261Z"
   },
   {
    "duration": 140,
    "start_time": "2024-01-31T10:32:23.292Z"
   },
   {
    "duration": 6,
    "start_time": "2024-01-31T10:33:16.874Z"
   },
   {
    "duration": 480,
    "start_time": "2024-01-31T10:33:20.880Z"
   },
   {
    "duration": 1359,
    "start_time": "2024-01-31T10:33:31.075Z"
   },
   {
    "duration": 3,
    "start_time": "2024-01-31T10:33:32.436Z"
   },
   {
    "duration": 395,
    "start_time": "2024-01-31T10:33:32.441Z"
   },
   {
    "duration": 366,
    "start_time": "2024-01-31T10:33:32.838Z"
   },
   {
    "duration": 3957,
    "start_time": "2024-01-31T10:33:33.206Z"
   },
   {
    "duration": 139,
    "start_time": "2024-01-31T10:33:37.165Z"
   },
   {
    "duration": 21,
    "start_time": "2024-01-31T10:33:37.306Z"
   },
   {
    "duration": 4,
    "start_time": "2024-01-31T10:33:37.329Z"
   },
   {
    "duration": 34,
    "start_time": "2024-01-31T10:33:37.334Z"
   },
   {
    "duration": 290,
    "start_time": "2024-01-31T10:33:37.371Z"
   },
   {
    "duration": 12,
    "start_time": "2024-01-31T10:33:37.663Z"
   },
   {
    "duration": 415,
    "start_time": "2024-01-31T10:33:37.677Z"
   },
   {
    "duration": 6,
    "start_time": "2024-01-31T10:33:38.094Z"
   },
   {
    "duration": 557,
    "start_time": "2024-01-31T10:33:38.101Z"
   },
   {
    "duration": 6,
    "start_time": "2024-01-31T10:33:38.661Z"
   },
   {
    "duration": 651,
    "start_time": "2024-01-31T10:33:38.668Z"
   },
   {
    "duration": 3,
    "start_time": "2024-01-31T10:33:39.320Z"
   },
   {
    "duration": 27,
    "start_time": "2024-01-31T10:33:39.324Z"
   },
   {
    "duration": 40,
    "start_time": "2024-01-31T10:33:39.352Z"
   },
   {
    "duration": 144,
    "start_time": "2024-01-31T10:33:39.394Z"
   },
   {
    "duration": 1382,
    "start_time": "2024-01-31T10:35:05.323Z"
   },
   {
    "duration": 3,
    "start_time": "2024-01-31T10:35:06.707Z"
   },
   {
    "duration": 389,
    "start_time": "2024-01-31T10:35:06.711Z"
   },
   {
    "duration": 360,
    "start_time": "2024-01-31T10:35:07.102Z"
   },
   {
    "duration": 4078,
    "start_time": "2024-01-31T10:35:07.464Z"
   },
   {
    "duration": 173,
    "start_time": "2024-01-31T10:35:11.544Z"
   },
   {
    "duration": 24,
    "start_time": "2024-01-31T10:35:11.719Z"
   },
   {
    "duration": 17,
    "start_time": "2024-01-31T10:35:11.744Z"
   },
   {
    "duration": 4,
    "start_time": "2024-01-31T10:35:11.763Z"
   },
   {
    "duration": 314,
    "start_time": "2024-01-31T10:35:11.769Z"
   },
   {
    "duration": 12,
    "start_time": "2024-01-31T10:35:12.084Z"
   },
   {
    "duration": 393,
    "start_time": "2024-01-31T10:35:12.097Z"
   },
   {
    "duration": 97,
    "start_time": "2024-01-31T10:35:12.492Z"
   },
   {
    "duration": 0,
    "start_time": "2024-01-31T10:35:12.590Z"
   },
   {
    "duration": 0,
    "start_time": "2024-01-31T10:35:12.592Z"
   },
   {
    "duration": 0,
    "start_time": "2024-01-31T10:35:12.592Z"
   },
   {
    "duration": 0,
    "start_time": "2024-01-31T10:35:12.594Z"
   },
   {
    "duration": 0,
    "start_time": "2024-01-31T10:35:12.595Z"
   },
   {
    "duration": 0,
    "start_time": "2024-01-31T10:35:12.596Z"
   },
   {
    "duration": 0,
    "start_time": "2024-01-31T10:35:12.597Z"
   },
   {
    "duration": 1375,
    "start_time": "2024-01-31T10:35:46.537Z"
   },
   {
    "duration": 3,
    "start_time": "2024-01-31T10:35:47.914Z"
   },
   {
    "duration": 394,
    "start_time": "2024-01-31T10:35:47.918Z"
   },
   {
    "duration": 343,
    "start_time": "2024-01-31T10:35:48.314Z"
   },
   {
    "duration": 3984,
    "start_time": "2024-01-31T10:35:48.659Z"
   },
   {
    "duration": 150,
    "start_time": "2024-01-31T10:35:52.645Z"
   },
   {
    "duration": 22,
    "start_time": "2024-01-31T10:35:52.796Z"
   },
   {
    "duration": 3,
    "start_time": "2024-01-31T10:35:52.819Z"
   },
   {
    "duration": 16,
    "start_time": "2024-01-31T10:35:52.823Z"
   },
   {
    "duration": 262,
    "start_time": "2024-01-31T10:35:52.841Z"
   },
   {
    "duration": 13,
    "start_time": "2024-01-31T10:35:53.104Z"
   },
   {
    "duration": 378,
    "start_time": "2024-01-31T10:35:53.118Z"
   },
   {
    "duration": 6,
    "start_time": "2024-01-31T10:35:53.498Z"
   },
   {
    "duration": 373,
    "start_time": "2024-01-31T10:35:53.505Z"
   },
   {
    "duration": 94,
    "start_time": "2024-01-31T10:35:53.965Z"
   },
   {
    "duration": 517,
    "start_time": "2024-01-31T10:35:54.061Z"
   },
   {
    "duration": 3,
    "start_time": "2024-01-31T10:35:54.580Z"
   },
   {
    "duration": 13,
    "start_time": "2024-01-31T10:35:54.585Z"
   },
   {
    "duration": 11,
    "start_time": "2024-01-31T10:35:54.599Z"
   },
   {
    "duration": 5293,
    "start_time": "2024-01-31T10:35:54.612Z"
   },
   {
    "duration": 1397,
    "start_time": "2024-01-31T10:39:30.818Z"
   },
   {
    "duration": 3,
    "start_time": "2024-01-31T10:39:32.217Z"
   },
   {
    "duration": 422,
    "start_time": "2024-01-31T10:39:32.221Z"
   },
   {
    "duration": 341,
    "start_time": "2024-01-31T10:39:32.645Z"
   },
   {
    "duration": 4038,
    "start_time": "2024-01-31T10:39:32.988Z"
   },
   {
    "duration": 152,
    "start_time": "2024-01-31T10:39:37.028Z"
   },
   {
    "duration": 22,
    "start_time": "2024-01-31T10:39:37.182Z"
   },
   {
    "duration": 7,
    "start_time": "2024-01-31T10:39:37.205Z"
   },
   {
    "duration": 7,
    "start_time": "2024-01-31T10:39:37.214Z"
   },
   {
    "duration": 321,
    "start_time": "2024-01-31T10:39:37.223Z"
   },
   {
    "duration": 14,
    "start_time": "2024-01-31T10:39:37.546Z"
   },
   {
    "duration": 390,
    "start_time": "2024-01-31T10:39:37.562Z"
   },
   {
    "duration": 6,
    "start_time": "2024-01-31T10:39:37.953Z"
   },
   {
    "duration": 502,
    "start_time": "2024-01-31T10:39:37.960Z"
   },
   {
    "duration": 93,
    "start_time": "2024-01-31T10:39:38.466Z"
   },
   {
    "duration": 551,
    "start_time": "2024-01-31T10:39:38.561Z"
   },
   {
    "duration": 3,
    "start_time": "2024-01-31T10:39:39.114Z"
   },
   {
    "duration": 10,
    "start_time": "2024-01-31T10:39:39.118Z"
   },
   {
    "duration": 8,
    "start_time": "2024-01-31T10:39:39.129Z"
   },
   {
    "duration": 1229,
    "start_time": "2024-01-31T10:39:39.138Z"
   },
   {
    "duration": 1332,
    "start_time": "2024-01-31T11:30:36.214Z"
   },
   {
    "duration": 3,
    "start_time": "2024-01-31T11:30:37.547Z"
   },
   {
    "duration": 409,
    "start_time": "2024-01-31T11:30:37.552Z"
   },
   {
    "duration": 370,
    "start_time": "2024-01-31T11:30:37.963Z"
   },
   {
    "duration": 4084,
    "start_time": "2024-01-31T11:30:38.335Z"
   },
   {
    "duration": 154,
    "start_time": "2024-01-31T11:30:42.420Z"
   },
   {
    "duration": 22,
    "start_time": "2024-01-31T11:30:42.575Z"
   },
   {
    "duration": 3,
    "start_time": "2024-01-31T11:30:42.599Z"
   },
   {
    "duration": 19,
    "start_time": "2024-01-31T11:30:42.604Z"
   },
   {
    "duration": 315,
    "start_time": "2024-01-31T11:30:42.625Z"
   },
   {
    "duration": 12,
    "start_time": "2024-01-31T11:30:42.941Z"
   },
   {
    "duration": 370,
    "start_time": "2024-01-31T11:30:42.959Z"
   },
   {
    "duration": 6,
    "start_time": "2024-01-31T11:30:43.331Z"
   },
   {
    "duration": 132,
    "start_time": "2024-01-31T11:30:43.338Z"
   },
   {
    "duration": 0,
    "start_time": "2024-01-31T11:30:43.472Z"
   },
   {
    "duration": 0,
    "start_time": "2024-01-31T11:30:43.474Z"
   },
   {
    "duration": 0,
    "start_time": "2024-01-31T11:30:43.475Z"
   },
   {
    "duration": 0,
    "start_time": "2024-01-31T11:30:43.476Z"
   },
   {
    "duration": 0,
    "start_time": "2024-01-31T11:30:43.478Z"
   },
   {
    "duration": 0,
    "start_time": "2024-01-31T11:30:43.479Z"
   },
   {
    "duration": 1408,
    "start_time": "2024-01-31T11:32:23.766Z"
   },
   {
    "duration": 4,
    "start_time": "2024-01-31T11:32:25.175Z"
   },
   {
    "duration": 427,
    "start_time": "2024-01-31T11:32:25.181Z"
   },
   {
    "duration": 363,
    "start_time": "2024-01-31T11:32:25.610Z"
   },
   {
    "duration": 4045,
    "start_time": "2024-01-31T11:32:25.975Z"
   },
   {
    "duration": 165,
    "start_time": "2024-01-31T11:32:30.022Z"
   },
   {
    "duration": 34,
    "start_time": "2024-01-31T11:32:30.189Z"
   },
   {
    "duration": 16,
    "start_time": "2024-01-31T11:32:30.225Z"
   },
   {
    "duration": 33,
    "start_time": "2024-01-31T11:32:30.244Z"
   },
   {
    "duration": 354,
    "start_time": "2024-01-31T11:32:30.280Z"
   },
   {
    "duration": 12,
    "start_time": "2024-01-31T11:32:30.636Z"
   },
   {
    "duration": 387,
    "start_time": "2024-01-31T11:32:30.658Z"
   },
   {
    "duration": 12,
    "start_time": "2024-01-31T11:32:31.047Z"
   },
   {
    "duration": 502,
    "start_time": "2024-01-31T11:32:31.060Z"
   },
   {
    "duration": 93,
    "start_time": "2024-01-31T11:32:31.568Z"
   },
   {
    "duration": 637,
    "start_time": "2024-01-31T11:32:31.662Z"
   },
   {
    "duration": 3,
    "start_time": "2024-01-31T11:32:32.300Z"
   },
   {
    "duration": 89,
    "start_time": "2024-01-31T11:32:32.305Z"
   },
   {
    "duration": 13,
    "start_time": "2024-01-31T11:32:32.395Z"
   },
   {
    "duration": 141,
    "start_time": "2024-01-31T11:32:32.409Z"
   },
   {
    "duration": 1459,
    "start_time": "2024-01-31T11:46:01.881Z"
   },
   {
    "duration": 3,
    "start_time": "2024-01-31T11:46:03.342Z"
   },
   {
    "duration": 510,
    "start_time": "2024-01-31T11:46:03.346Z"
   },
   {
    "duration": 361,
    "start_time": "2024-01-31T11:46:03.857Z"
   },
   {
    "duration": 4091,
    "start_time": "2024-01-31T11:46:04.221Z"
   },
   {
    "duration": 176,
    "start_time": "2024-01-31T11:46:08.314Z"
   },
   {
    "duration": 23,
    "start_time": "2024-01-31T11:46:08.491Z"
   },
   {
    "duration": 4,
    "start_time": "2024-01-31T11:46:08.515Z"
   },
   {
    "duration": 4,
    "start_time": "2024-01-31T11:46:08.520Z"
   },
   {
    "duration": 304,
    "start_time": "2024-01-31T11:46:08.525Z"
   },
   {
    "duration": 12,
    "start_time": "2024-01-31T11:46:08.830Z"
   },
   {
    "duration": 386,
    "start_time": "2024-01-31T11:46:08.844Z"
   },
   {
    "duration": 7,
    "start_time": "2024-01-31T11:46:09.231Z"
   },
   {
    "duration": 521,
    "start_time": "2024-01-31T11:46:09.240Z"
   },
   {
    "duration": 4,
    "start_time": "2024-01-31T11:46:09.763Z"
   },
   {
    "duration": 536,
    "start_time": "2024-01-31T11:46:09.859Z"
   },
   {
    "duration": 4,
    "start_time": "2024-01-31T11:46:10.397Z"
   },
   {
    "duration": 62,
    "start_time": "2024-01-31T11:46:10.403Z"
   },
   {
    "duration": 35,
    "start_time": "2024-01-31T11:46:10.467Z"
   },
   {
    "duration": 142,
    "start_time": "2024-01-31T11:46:10.504Z"
   },
   {
    "duration": 1390,
    "start_time": "2024-01-31T11:46:40.066Z"
   },
   {
    "duration": 3,
    "start_time": "2024-01-31T11:46:41.458Z"
   },
   {
    "duration": 408,
    "start_time": "2024-01-31T11:46:41.463Z"
   },
   {
    "duration": 382,
    "start_time": "2024-01-31T11:46:41.873Z"
   },
   {
    "duration": 4057,
    "start_time": "2024-01-31T11:46:42.257Z"
   },
   {
    "duration": 158,
    "start_time": "2024-01-31T11:46:46.316Z"
   },
   {
    "duration": 21,
    "start_time": "2024-01-31T11:46:46.476Z"
   },
   {
    "duration": 37,
    "start_time": "2024-01-31T11:46:46.499Z"
   },
   {
    "duration": 40,
    "start_time": "2024-01-31T11:46:46.537Z"
   },
   {
    "duration": 323,
    "start_time": "2024-01-31T11:46:46.579Z"
   },
   {
    "duration": 12,
    "start_time": "2024-01-31T11:46:46.904Z"
   },
   {
    "duration": 426,
    "start_time": "2024-01-31T11:46:46.918Z"
   },
   {
    "duration": 7,
    "start_time": "2024-01-31T11:46:47.345Z"
   },
   {
    "duration": 503,
    "start_time": "2024-01-31T11:46:47.358Z"
   },
   {
    "duration": 4,
    "start_time": "2024-01-31T11:46:47.863Z"
   },
   {
    "duration": 544,
    "start_time": "2024-01-31T11:46:47.959Z"
   },
   {
    "duration": 3,
    "start_time": "2024-01-31T11:46:48.505Z"
   },
   {
    "duration": 27,
    "start_time": "2024-01-31T11:46:48.510Z"
   },
   {
    "duration": 24,
    "start_time": "2024-01-31T11:46:48.539Z"
   },
   {
    "duration": 1939,
    "start_time": "2024-01-31T11:46:48.565Z"
   },
   {
    "duration": 1352,
    "start_time": "2024-01-31T11:47:57.839Z"
   },
   {
    "duration": 3,
    "start_time": "2024-01-31T11:47:59.193Z"
   },
   {
    "duration": 390,
    "start_time": "2024-01-31T11:47:59.200Z"
   },
   {
    "duration": 374,
    "start_time": "2024-01-31T11:47:59.591Z"
   },
   {
    "duration": 4176,
    "start_time": "2024-01-31T11:47:59.966Z"
   },
   {
    "duration": 151,
    "start_time": "2024-01-31T11:48:04.143Z"
   },
   {
    "duration": 21,
    "start_time": "2024-01-31T11:48:04.295Z"
   },
   {
    "duration": 50,
    "start_time": "2024-01-31T11:48:04.318Z"
   },
   {
    "duration": 3,
    "start_time": "2024-01-31T11:48:04.370Z"
   },
   {
    "duration": 275,
    "start_time": "2024-01-31T11:48:04.374Z"
   },
   {
    "duration": 16,
    "start_time": "2024-01-31T11:48:04.650Z"
   },
   {
    "duration": 387,
    "start_time": "2024-01-31T11:48:04.668Z"
   },
   {
    "duration": 7,
    "start_time": "2024-01-31T11:48:05.056Z"
   },
   {
    "duration": 497,
    "start_time": "2024-01-31T11:48:05.065Z"
   },
   {
    "duration": 94,
    "start_time": "2024-01-31T11:48:05.564Z"
   },
   {
    "duration": 545,
    "start_time": "2024-01-31T11:48:05.660Z"
   },
   {
    "duration": 4,
    "start_time": "2024-01-31T11:48:06.206Z"
   },
   {
    "duration": 9,
    "start_time": "2024-01-31T11:48:06.211Z"
   },
   {
    "duration": 14,
    "start_time": "2024-01-31T11:48:06.221Z"
   },
   {
    "duration": 1968,
    "start_time": "2024-01-31T11:48:06.237Z"
   },
   {
    "duration": 1409,
    "start_time": "2024-01-31T11:48:45.884Z"
   },
   {
    "duration": 3,
    "start_time": "2024-01-31T11:48:47.295Z"
   },
   {
    "duration": 422,
    "start_time": "2024-01-31T11:48:47.300Z"
   },
   {
    "duration": 356,
    "start_time": "2024-01-31T11:48:47.724Z"
   },
   {
    "duration": 4217,
    "start_time": "2024-01-31T11:48:48.082Z"
   },
   {
    "duration": 163,
    "start_time": "2024-01-31T11:48:52.300Z"
   },
   {
    "duration": 22,
    "start_time": "2024-01-31T11:48:52.464Z"
   },
   {
    "duration": 3,
    "start_time": "2024-01-31T11:48:52.488Z"
   },
   {
    "duration": 3,
    "start_time": "2024-01-31T11:48:52.493Z"
   },
   {
    "duration": 323,
    "start_time": "2024-01-31T11:48:52.498Z"
   },
   {
    "duration": 12,
    "start_time": "2024-01-31T11:48:52.823Z"
   },
   {
    "duration": 386,
    "start_time": "2024-01-31T11:48:52.836Z"
   },
   {
    "duration": 6,
    "start_time": "2024-01-31T11:48:53.224Z"
   },
   {
    "duration": 628,
    "start_time": "2024-01-31T11:48:53.231Z"
   },
   {
    "duration": 4,
    "start_time": "2024-01-31T11:48:53.861Z"
   },
   {
    "duration": 525,
    "start_time": "2024-01-31T11:48:53.867Z"
   },
   {
    "duration": 4,
    "start_time": "2024-01-31T11:48:54.393Z"
   },
   {
    "duration": 9,
    "start_time": "2024-01-31T11:48:54.398Z"
   },
   {
    "duration": 35,
    "start_time": "2024-01-31T11:48:54.408Z"
   },
   {
    "duration": 2027,
    "start_time": "2024-01-31T11:48:54.445Z"
   },
   {
    "duration": 1346,
    "start_time": "2024-01-31T11:49:35.278Z"
   },
   {
    "duration": 3,
    "start_time": "2024-01-31T11:49:36.626Z"
   },
   {
    "duration": 408,
    "start_time": "2024-01-31T11:49:36.630Z"
   },
   {
    "duration": 377,
    "start_time": "2024-01-31T11:49:37.040Z"
   },
   {
    "duration": 4135,
    "start_time": "2024-01-31T11:49:37.419Z"
   },
   {
    "duration": 144,
    "start_time": "2024-01-31T11:49:41.559Z"
   },
   {
    "duration": 21,
    "start_time": "2024-01-31T11:49:41.704Z"
   },
   {
    "duration": 13,
    "start_time": "2024-01-31T11:49:41.726Z"
   },
   {
    "duration": 6,
    "start_time": "2024-01-31T11:49:41.740Z"
   },
   {
    "duration": 326,
    "start_time": "2024-01-31T11:49:41.748Z"
   },
   {
    "duration": 12,
    "start_time": "2024-01-31T11:49:42.076Z"
   },
   {
    "duration": 396,
    "start_time": "2024-01-31T11:49:42.089Z"
   },
   {
    "duration": 7,
    "start_time": "2024-01-31T11:49:42.487Z"
   },
   {
    "duration": 465,
    "start_time": "2024-01-31T11:49:42.496Z"
   },
   {
    "duration": 6,
    "start_time": "2024-01-31T11:49:42.965Z"
   },
   {
    "duration": 540,
    "start_time": "2024-01-31T11:49:43.060Z"
   },
   {
    "duration": 4,
    "start_time": "2024-01-31T11:49:43.602Z"
   },
   {
    "duration": 16,
    "start_time": "2024-01-31T11:49:43.607Z"
   },
   {
    "duration": 6,
    "start_time": "2024-01-31T11:49:43.624Z"
   },
   {
    "duration": 1896,
    "start_time": "2024-01-31T11:49:43.632Z"
   },
   {
    "duration": 8,
    "start_time": "2024-01-31T11:50:36.112Z"
   },
   {
    "duration": 7,
    "start_time": "2024-01-31T11:51:56.296Z"
   },
   {
    "duration": 4,
    "start_time": "2024-01-31T11:51:57.360Z"
   },
   {
    "duration": 511,
    "start_time": "2024-01-31T11:51:58.153Z"
   },
   {
    "duration": 6,
    "start_time": "2024-01-31T11:52:35.793Z"
   },
   {
    "duration": 501,
    "start_time": "2024-01-31T11:52:36.360Z"
   },
   {
    "duration": 8,
    "start_time": "2024-01-31T11:52:37.345Z"
   },
   {
    "duration": 1357,
    "start_time": "2024-01-31T11:53:08.145Z"
   },
   {
    "duration": 4,
    "start_time": "2024-01-31T11:53:09.504Z"
   },
   {
    "duration": 393,
    "start_time": "2024-01-31T11:53:09.510Z"
   },
   {
    "duration": 366,
    "start_time": "2024-01-31T11:53:09.905Z"
   },
   {
    "duration": 4077,
    "start_time": "2024-01-31T11:53:10.273Z"
   },
   {
    "duration": 157,
    "start_time": "2024-01-31T11:53:14.351Z"
   },
   {
    "duration": 22,
    "start_time": "2024-01-31T11:53:14.509Z"
   },
   {
    "duration": 3,
    "start_time": "2024-01-31T11:53:14.532Z"
   },
   {
    "duration": 9,
    "start_time": "2024-01-31T11:53:14.536Z"
   },
   {
    "duration": 275,
    "start_time": "2024-01-31T11:53:14.558Z"
   },
   {
    "duration": 12,
    "start_time": "2024-01-31T11:53:14.834Z"
   },
   {
    "duration": 406,
    "start_time": "2024-01-31T11:53:14.847Z"
   },
   {
    "duration": 9,
    "start_time": "2024-01-31T11:53:15.254Z"
   },
   {
    "duration": 495,
    "start_time": "2024-01-31T11:53:15.265Z"
   },
   {
    "duration": 5,
    "start_time": "2024-01-31T11:53:15.762Z"
   },
   {
    "duration": 621,
    "start_time": "2024-01-31T11:53:15.768Z"
   },
   {
    "duration": 3,
    "start_time": "2024-01-31T11:53:16.390Z"
   },
   {
    "duration": 12,
    "start_time": "2024-01-31T11:53:16.394Z"
   },
   {
    "duration": 17,
    "start_time": "2024-01-31T11:53:16.407Z"
   },
   {
    "duration": 1975,
    "start_time": "2024-01-31T11:53:16.425Z"
   },
   {
    "duration": 1708,
    "start_time": "2024-01-31T11:54:50.170Z"
   },
   {
    "duration": 1404,
    "start_time": "2024-01-31T11:59:17.312Z"
   },
   {
    "duration": 3,
    "start_time": "2024-01-31T11:59:18.718Z"
   },
   {
    "duration": 400,
    "start_time": "2024-01-31T11:59:18.723Z"
   },
   {
    "duration": 370,
    "start_time": "2024-01-31T11:59:19.124Z"
   },
   {
    "duration": 4082,
    "start_time": "2024-01-31T11:59:19.497Z"
   },
   {
    "duration": 168,
    "start_time": "2024-01-31T11:59:23.580Z"
   },
   {
    "duration": 23,
    "start_time": "2024-01-31T11:59:23.758Z"
   },
   {
    "duration": 4,
    "start_time": "2024-01-31T11:59:23.782Z"
   },
   {
    "duration": 5,
    "start_time": "2024-01-31T11:59:23.787Z"
   },
   {
    "duration": 317,
    "start_time": "2024-01-31T11:59:23.794Z"
   },
   {
    "duration": 13,
    "start_time": "2024-01-31T11:59:24.113Z"
   },
   {
    "duration": 404,
    "start_time": "2024-01-31T11:59:24.127Z"
   },
   {
    "duration": 6,
    "start_time": "2024-01-31T11:59:24.533Z"
   },
   {
    "duration": 706,
    "start_time": "2024-01-31T11:59:24.541Z"
   },
   {
    "duration": 0,
    "start_time": "2024-01-31T11:59:25.259Z"
   },
   {
    "duration": 0,
    "start_time": "2024-01-31T11:59:25.260Z"
   },
   {
    "duration": 0,
    "start_time": "2024-01-31T11:59:25.261Z"
   },
   {
    "duration": 0,
    "start_time": "2024-01-31T11:59:25.263Z"
   },
   {
    "duration": 0,
    "start_time": "2024-01-31T11:59:25.264Z"
   },
   {
    "duration": 0,
    "start_time": "2024-01-31T11:59:25.265Z"
   },
   {
    "duration": 0,
    "start_time": "2024-01-31T11:59:25.266Z"
   },
   {
    "duration": 0,
    "start_time": "2024-01-31T11:59:25.267Z"
   },
   {
    "duration": 1374,
    "start_time": "2024-01-31T11:59:47.220Z"
   },
   {
    "duration": 3,
    "start_time": "2024-01-31T11:59:48.596Z"
   },
   {
    "duration": 422,
    "start_time": "2024-01-31T11:59:48.600Z"
   },
   {
    "duration": 337,
    "start_time": "2024-01-31T11:59:49.024Z"
   },
   {
    "duration": 4059,
    "start_time": "2024-01-31T11:59:49.362Z"
   },
   {
    "duration": 166,
    "start_time": "2024-01-31T11:59:53.422Z"
   },
   {
    "duration": 22,
    "start_time": "2024-01-31T11:59:53.589Z"
   },
   {
    "duration": 33,
    "start_time": "2024-01-31T11:59:53.612Z"
   },
   {
    "duration": 19,
    "start_time": "2024-01-31T11:59:53.646Z"
   },
   {
    "duration": 287,
    "start_time": "2024-01-31T11:59:53.667Z"
   },
   {
    "duration": 12,
    "start_time": "2024-01-31T11:59:53.956Z"
   },
   {
    "duration": 409,
    "start_time": "2024-01-31T11:59:53.969Z"
   },
   {
    "duration": 6,
    "start_time": "2024-01-31T11:59:54.379Z"
   },
   {
    "duration": 574,
    "start_time": "2024-01-31T11:59:54.387Z"
   },
   {
    "duration": 98,
    "start_time": "2024-01-31T11:59:54.963Z"
   },
   {
    "duration": 48,
    "start_time": "2024-01-31T11:59:55.062Z"
   },
   {
    "duration": 49,
    "start_time": "2024-01-31T11:59:55.111Z"
   },
   {
    "duration": 628,
    "start_time": "2024-01-31T11:59:55.162Z"
   },
   {
    "duration": 3,
    "start_time": "2024-01-31T11:59:55.792Z"
   },
   {
    "duration": 44,
    "start_time": "2024-01-31T11:59:55.796Z"
   },
   {
    "duration": 39,
    "start_time": "2024-01-31T11:59:55.842Z"
   },
   {
    "duration": 5425,
    "start_time": "2024-01-31T11:59:55.883Z"
   },
   {
    "duration": 1381,
    "start_time": "2024-01-31T12:01:29.184Z"
   },
   {
    "duration": 3,
    "start_time": "2024-01-31T12:01:30.567Z"
   },
   {
    "duration": 465,
    "start_time": "2024-01-31T12:01:30.571Z"
   },
   {
    "duration": 370,
    "start_time": "2024-01-31T12:01:31.039Z"
   },
   {
    "duration": 3974,
    "start_time": "2024-01-31T12:01:31.411Z"
   },
   {
    "duration": 145,
    "start_time": "2024-01-31T12:01:35.387Z"
   },
   {
    "duration": 32,
    "start_time": "2024-01-31T12:01:35.533Z"
   },
   {
    "duration": 4,
    "start_time": "2024-01-31T12:01:35.566Z"
   },
   {
    "duration": 28,
    "start_time": "2024-01-31T12:01:35.571Z"
   },
   {
    "duration": 283,
    "start_time": "2024-01-31T12:01:35.601Z"
   },
   {
    "duration": 12,
    "start_time": "2024-01-31T12:01:35.886Z"
   },
   {
    "duration": 404,
    "start_time": "2024-01-31T12:01:35.899Z"
   },
   {
    "duration": 7,
    "start_time": "2024-01-31T12:01:36.304Z"
   },
   {
    "duration": 553,
    "start_time": "2024-01-31T12:01:36.312Z"
   },
   {
    "duration": 94,
    "start_time": "2024-01-31T12:01:36.869Z"
   },
   {
    "duration": 25,
    "start_time": "2024-01-31T12:01:36.964Z"
   },
   {
    "duration": 30,
    "start_time": "2024-01-31T12:01:36.991Z"
   },
   {
    "duration": 544,
    "start_time": "2024-01-31T12:01:37.022Z"
   },
   {
    "duration": 3,
    "start_time": "2024-01-31T12:01:37.568Z"
   },
   {
    "duration": 32,
    "start_time": "2024-01-31T12:01:37.573Z"
   },
   {
    "duration": 6,
    "start_time": "2024-01-31T12:01:37.607Z"
   },
   {
    "duration": 5392,
    "start_time": "2024-01-31T12:01:37.614Z"
   },
   {
    "duration": 1391,
    "start_time": "2024-01-31T12:08:10.409Z"
   },
   {
    "duration": 3,
    "start_time": "2024-01-31T12:08:11.802Z"
   },
   {
    "duration": 431,
    "start_time": "2024-01-31T12:08:11.807Z"
   },
   {
    "duration": 369,
    "start_time": "2024-01-31T12:08:12.240Z"
   },
   {
    "duration": 3989,
    "start_time": "2024-01-31T12:08:12.611Z"
   },
   {
    "duration": 168,
    "start_time": "2024-01-31T12:08:16.602Z"
   },
   {
    "duration": 22,
    "start_time": "2024-01-31T12:08:16.772Z"
   },
   {
    "duration": 3,
    "start_time": "2024-01-31T12:08:16.796Z"
   },
   {
    "duration": 5,
    "start_time": "2024-01-31T12:08:16.800Z"
   },
   {
    "duration": 296,
    "start_time": "2024-01-31T12:08:16.807Z"
   },
   {
    "duration": 15,
    "start_time": "2024-01-31T12:08:17.105Z"
   },
   {
    "duration": 406,
    "start_time": "2024-01-31T12:08:17.122Z"
   },
   {
    "duration": 6,
    "start_time": "2024-01-31T12:08:17.530Z"
   },
   {
    "duration": 525,
    "start_time": "2024-01-31T12:08:17.538Z"
   },
   {
    "duration": 97,
    "start_time": "2024-01-31T12:08:18.065Z"
   },
   {
    "duration": 40,
    "start_time": "2024-01-31T12:08:18.164Z"
   },
   {
    "duration": 70,
    "start_time": "2024-01-31T12:08:18.206Z"
   },
   {
    "duration": 603,
    "start_time": "2024-01-31T12:08:18.278Z"
   },
   {
    "duration": 3,
    "start_time": "2024-01-31T12:08:18.883Z"
   },
   {
    "duration": 20,
    "start_time": "2024-01-31T12:08:18.888Z"
   },
   {
    "duration": 9,
    "start_time": "2024-01-31T12:08:18.910Z"
   },
   {
    "duration": 5360,
    "start_time": "2024-01-31T12:08:18.920Z"
   },
   {
    "duration": 4170,
    "start_time": "2024-01-31T12:11:03.390Z"
   },
   {
    "duration": 4202,
    "start_time": "2024-01-31T12:11:36.148Z"
   },
   {
    "duration": 2006,
    "start_time": "2024-01-31T18:11:36.430Z"
   },
   {
    "duration": 4,
    "start_time": "2024-01-31T18:11:38.438Z"
   },
   {
    "duration": 1742,
    "start_time": "2024-01-31T18:11:38.443Z"
   },
   {
    "duration": 453,
    "start_time": "2024-01-31T18:11:40.194Z"
   },
   {
    "duration": 4945,
    "start_time": "2024-01-31T18:11:40.649Z"
   },
   {
    "duration": 194,
    "start_time": "2024-01-31T18:11:45.596Z"
   },
   {
    "duration": 25,
    "start_time": "2024-01-31T18:11:45.794Z"
   },
   {
    "duration": 3,
    "start_time": "2024-01-31T18:11:45.820Z"
   },
   {
    "duration": 8,
    "start_time": "2024-01-31T18:11:45.825Z"
   },
   {
    "duration": 336,
    "start_time": "2024-01-31T18:11:45.835Z"
   },
   {
    "duration": 28,
    "start_time": "2024-01-31T18:11:46.172Z"
   },
   {
    "duration": 460,
    "start_time": "2024-01-31T18:11:46.202Z"
   },
   {
    "duration": 7,
    "start_time": "2024-01-31T18:11:46.664Z"
   },
   {
    "duration": 519,
    "start_time": "2024-01-31T18:11:46.681Z"
   },
   {
    "duration": 82,
    "start_time": "2024-01-31T18:11:47.202Z"
   },
   {
    "duration": 649,
    "start_time": "2024-01-31T18:11:47.287Z"
   },
   {
    "duration": 5,
    "start_time": "2024-01-31T18:11:47.938Z"
   },
   {
    "duration": 12,
    "start_time": "2024-01-31T18:11:47.945Z"
   },
   {
    "duration": 35,
    "start_time": "2024-01-31T18:11:47.959Z"
   },
   {
    "duration": 12191,
    "start_time": "2024-01-31T18:11:47.996Z"
   },
   {
    "duration": 1824,
    "start_time": "2024-01-31T18:15:23.220Z"
   },
   {
    "duration": 5,
    "start_time": "2024-01-31T18:15:25.046Z"
   },
   {
    "duration": 456,
    "start_time": "2024-01-31T18:15:25.053Z"
   },
   {
    "duration": 437,
    "start_time": "2024-01-31T18:15:25.511Z"
   },
   {
    "duration": 4826,
    "start_time": "2024-01-31T18:15:25.949Z"
   },
   {
    "duration": 241,
    "start_time": "2024-01-31T18:15:30.781Z"
   },
   {
    "duration": 25,
    "start_time": "2024-01-31T18:15:31.024Z"
   },
   {
    "duration": 60,
    "start_time": "2024-01-31T18:15:31.051Z"
   },
   {
    "duration": 66,
    "start_time": "2024-01-31T18:15:31.113Z"
   },
   {
    "duration": 412,
    "start_time": "2024-01-31T18:15:31.188Z"
   },
   {
    "duration": 13,
    "start_time": "2024-01-31T18:15:31.601Z"
   },
   {
    "duration": 548,
    "start_time": "2024-01-31T18:15:31.615Z"
   },
   {
    "duration": 8,
    "start_time": "2024-01-31T18:15:32.165Z"
   },
   {
    "duration": 508,
    "start_time": "2024-01-31T18:15:32.181Z"
   },
   {
    "duration": 92,
    "start_time": "2024-01-31T18:15:32.696Z"
   },
   {
    "duration": 623,
    "start_time": "2024-01-31T18:15:32.794Z"
   },
   {
    "duration": 4,
    "start_time": "2024-01-31T18:15:33.419Z"
   },
   {
    "duration": 15,
    "start_time": "2024-01-31T18:15:33.425Z"
   },
   {
    "duration": 7,
    "start_time": "2024-01-31T18:15:33.441Z"
   },
   {
    "duration": 12644,
    "start_time": "2024-01-31T18:15:33.450Z"
   },
   {
    "duration": 1739,
    "start_time": "2024-01-31T18:16:05.795Z"
   },
   {
    "duration": 3,
    "start_time": "2024-01-31T18:16:07.537Z"
   },
   {
    "duration": 461,
    "start_time": "2024-01-31T18:16:07.542Z"
   },
   {
    "duration": 403,
    "start_time": "2024-01-31T18:16:08.005Z"
   },
   {
    "duration": 4749,
    "start_time": "2024-01-31T18:16:08.410Z"
   },
   {
    "duration": 179,
    "start_time": "2024-01-31T18:16:13.161Z"
   },
   {
    "duration": 24,
    "start_time": "2024-01-31T18:16:13.342Z"
   },
   {
    "duration": 26,
    "start_time": "2024-01-31T18:16:13.367Z"
   },
   {
    "duration": 9,
    "start_time": "2024-01-31T18:16:13.395Z"
   },
   {
    "duration": 322,
    "start_time": "2024-01-31T18:16:13.405Z"
   },
   {
    "duration": 13,
    "start_time": "2024-01-31T18:16:13.729Z"
   },
   {
    "duration": 471,
    "start_time": "2024-01-31T18:16:13.744Z"
   },
   {
    "duration": 8,
    "start_time": "2024-01-31T18:16:14.216Z"
   },
   {
    "duration": 459,
    "start_time": "2024-01-31T18:16:14.227Z"
   },
   {
    "duration": 6,
    "start_time": "2024-01-31T18:16:14.691Z"
   },
   {
    "duration": 714,
    "start_time": "2024-01-31T18:16:14.698Z"
   },
   {
    "duration": 5,
    "start_time": "2024-01-31T18:16:15.414Z"
   },
   {
    "duration": 20,
    "start_time": "2024-01-31T18:16:15.421Z"
   },
   {
    "duration": 21,
    "start_time": "2024-01-31T18:16:15.443Z"
   },
   {
    "duration": 204,
    "start_time": "2024-01-31T18:16:15.466Z"
   },
   {
    "duration": 1749,
    "start_time": "2024-01-31T18:16:54.592Z"
   },
   {
    "duration": 4,
    "start_time": "2024-01-31T18:16:56.343Z"
   },
   {
    "duration": 518,
    "start_time": "2024-01-31T18:16:56.349Z"
   },
   {
    "duration": 422,
    "start_time": "2024-01-31T18:16:56.869Z"
   },
   {
    "duration": 4836,
    "start_time": "2024-01-31T18:16:57.292Z"
   },
   {
    "duration": 197,
    "start_time": "2024-01-31T18:17:02.130Z"
   },
   {
    "duration": 66,
    "start_time": "2024-01-31T18:17:02.329Z"
   },
   {
    "duration": 29,
    "start_time": "2024-01-31T18:17:02.397Z"
   },
   {
    "duration": 26,
    "start_time": "2024-01-31T18:17:02.428Z"
   },
   {
    "duration": 369,
    "start_time": "2024-01-31T18:17:02.456Z"
   },
   {
    "duration": 13,
    "start_time": "2024-01-31T18:17:02.827Z"
   },
   {
    "duration": 480,
    "start_time": "2024-01-31T18:17:02.841Z"
   },
   {
    "duration": 8,
    "start_time": "2024-01-31T18:17:03.323Z"
   },
   {
    "duration": 448,
    "start_time": "2024-01-31T18:17:03.332Z"
   },
   {
    "duration": 6,
    "start_time": "2024-01-31T18:17:03.793Z"
   },
   {
    "duration": 684,
    "start_time": "2024-01-31T18:17:03.881Z"
   },
   {
    "duration": 4,
    "start_time": "2024-01-31T18:17:04.566Z"
   },
   {
    "duration": 16,
    "start_time": "2024-01-31T18:17:04.579Z"
   },
   {
    "duration": 33,
    "start_time": "2024-01-31T18:17:04.597Z"
   },
   {
    "duration": 169,
    "start_time": "2024-01-31T18:17:04.632Z"
   },
   {
    "duration": 1769,
    "start_time": "2024-01-31T18:20:07.005Z"
   },
   {
    "duration": 11,
    "start_time": "2024-01-31T18:20:08.777Z"
   },
   {
    "duration": 507,
    "start_time": "2024-01-31T18:20:08.793Z"
   },
   {
    "duration": 404,
    "start_time": "2024-01-31T18:20:09.304Z"
   },
   {
    "duration": 4702,
    "start_time": "2024-01-31T18:20:09.710Z"
   },
   {
    "duration": 204,
    "start_time": "2024-01-31T18:20:14.414Z"
   },
   {
    "duration": 24,
    "start_time": "2024-01-31T18:20:14.620Z"
   },
   {
    "duration": 12,
    "start_time": "2024-01-31T18:20:14.646Z"
   },
   {
    "duration": 5,
    "start_time": "2024-01-31T18:20:14.660Z"
   },
   {
    "duration": 375,
    "start_time": "2024-01-31T18:20:14.684Z"
   },
   {
    "duration": 24,
    "start_time": "2024-01-31T18:20:15.060Z"
   },
   {
    "duration": 440,
    "start_time": "2024-01-31T18:20:15.092Z"
   },
   {
    "duration": 8,
    "start_time": "2024-01-31T18:20:15.533Z"
   },
   {
    "duration": 440,
    "start_time": "2024-01-31T18:20:15.542Z"
   },
   {
    "duration": 4,
    "start_time": "2024-01-31T18:20:15.983Z"
   },
   {
    "duration": 709,
    "start_time": "2024-01-31T18:20:15.990Z"
   },
   {
    "duration": 5,
    "start_time": "2024-01-31T18:20:16.700Z"
   },
   {
    "duration": 19,
    "start_time": "2024-01-31T18:20:16.706Z"
   },
   {
    "duration": 14,
    "start_time": "2024-01-31T18:20:16.727Z"
   },
   {
    "duration": 6069,
    "start_time": "2024-01-31T18:20:16.742Z"
   },
   {
    "duration": 1663,
    "start_time": "2024-01-31T18:20:42.839Z"
   },
   {
    "duration": 4,
    "start_time": "2024-01-31T18:20:44.505Z"
   },
   {
    "duration": 488,
    "start_time": "2024-01-31T18:20:44.510Z"
   },
   {
    "duration": 425,
    "start_time": "2024-01-31T18:20:45.000Z"
   },
   {
    "duration": 4709,
    "start_time": "2024-01-31T18:20:45.427Z"
   },
   {
    "duration": 193,
    "start_time": "2024-01-31T18:20:50.138Z"
   },
   {
    "duration": 25,
    "start_time": "2024-01-31T18:20:50.333Z"
   },
   {
    "duration": 7,
    "start_time": "2024-01-31T18:20:50.360Z"
   },
   {
    "duration": 5,
    "start_time": "2024-01-31T18:20:50.380Z"
   },
   {
    "duration": 432,
    "start_time": "2024-01-31T18:20:50.393Z"
   },
   {
    "duration": 18,
    "start_time": "2024-01-31T18:20:50.827Z"
   },
   {
    "duration": 459,
    "start_time": "2024-01-31T18:20:50.847Z"
   },
   {
    "duration": 7,
    "start_time": "2024-01-31T18:20:51.308Z"
   },
   {
    "duration": 466,
    "start_time": "2024-01-31T18:20:51.317Z"
   },
   {
    "duration": 7,
    "start_time": "2024-01-31T18:20:51.788Z"
   },
   {
    "duration": 653,
    "start_time": "2024-01-31T18:20:51.883Z"
   },
   {
    "duration": 6,
    "start_time": "2024-01-31T18:20:52.538Z"
   },
   {
    "duration": 13,
    "start_time": "2024-01-31T18:20:52.545Z"
   },
   {
    "duration": 32,
    "start_time": "2024-01-31T18:20:52.560Z"
   },
   {
    "duration": 12481,
    "start_time": "2024-01-31T18:20:52.594Z"
   },
   {
    "duration": 1552,
    "start_time": "2024-01-31T18:39:13.951Z"
   },
   {
    "duration": 4,
    "start_time": "2024-01-31T18:39:15.505Z"
   },
   {
    "duration": 1633,
    "start_time": "2024-01-31T18:39:15.512Z"
   },
   {
    "duration": 383,
    "start_time": "2024-01-31T18:39:17.147Z"
   },
   {
    "duration": 4110,
    "start_time": "2024-01-31T18:39:17.531Z"
   },
   {
    "duration": 145,
    "start_time": "2024-01-31T18:39:21.642Z"
   },
   {
    "duration": 27,
    "start_time": "2024-01-31T18:39:21.788Z"
   },
   {
    "duration": 3,
    "start_time": "2024-01-31T18:39:21.817Z"
   },
   {
    "duration": 6,
    "start_time": "2024-01-31T18:39:21.822Z"
   },
   {
    "duration": 284,
    "start_time": "2024-01-31T18:39:21.831Z"
   },
   {
    "duration": 12,
    "start_time": "2024-01-31T18:39:22.117Z"
   },
   {
    "duration": 418,
    "start_time": "2024-01-31T18:39:22.130Z"
   },
   {
    "duration": 6,
    "start_time": "2024-01-31T18:39:22.550Z"
   },
   {
    "duration": 540,
    "start_time": "2024-01-31T18:39:22.558Z"
   },
   {
    "duration": 94,
    "start_time": "2024-01-31T18:39:23.100Z"
   },
   {
    "duration": 549,
    "start_time": "2024-01-31T18:39:23.196Z"
   },
   {
    "duration": 4,
    "start_time": "2024-01-31T18:39:23.746Z"
   },
   {
    "duration": 32,
    "start_time": "2024-01-31T18:39:23.751Z"
   },
   {
    "duration": 52,
    "start_time": "2024-01-31T18:39:23.784Z"
   },
   {
    "duration": 10315,
    "start_time": "2024-01-31T18:39:23.837Z"
   },
   {
    "duration": 1400,
    "start_time": "2024-01-31T18:39:54.197Z"
   },
   {
    "duration": 3,
    "start_time": "2024-01-31T18:39:55.599Z"
   },
   {
    "duration": 443,
    "start_time": "2024-01-31T18:39:55.603Z"
   },
   {
    "duration": 398,
    "start_time": "2024-01-31T18:39:56.049Z"
   },
   {
    "duration": 4219,
    "start_time": "2024-01-31T18:39:56.449Z"
   },
   {
    "duration": 166,
    "start_time": "2024-01-31T18:40:00.669Z"
   },
   {
    "duration": 23,
    "start_time": "2024-01-31T18:40:00.837Z"
   },
   {
    "duration": 55,
    "start_time": "2024-01-31T18:40:00.862Z"
   },
   {
    "duration": 36,
    "start_time": "2024-01-31T18:40:00.919Z"
   },
   {
    "duration": 332,
    "start_time": "2024-01-31T18:40:00.957Z"
   },
   {
    "duration": 12,
    "start_time": "2024-01-31T18:40:01.294Z"
   },
   {
    "duration": 453,
    "start_time": "2024-01-31T18:40:01.308Z"
   },
   {
    "duration": 8,
    "start_time": "2024-01-31T18:40:01.763Z"
   },
   {
    "duration": 629,
    "start_time": "2024-01-31T18:40:01.772Z"
   },
   {
    "duration": 91,
    "start_time": "2024-01-31T18:40:02.404Z"
   },
   {
    "duration": 817,
    "start_time": "2024-01-31T18:40:02.497Z"
   },
   {
    "duration": 5,
    "start_time": "2024-01-31T18:40:03.316Z"
   },
   {
    "duration": 71,
    "start_time": "2024-01-31T18:40:03.323Z"
   },
   {
    "duration": 33,
    "start_time": "2024-01-31T18:40:03.395Z"
   },
   {
    "duration": 5698,
    "start_time": "2024-01-31T18:40:03.430Z"
   },
   {
    "duration": 1325,
    "start_time": "2024-01-31T18:40:33.391Z"
   },
   {
    "duration": 3,
    "start_time": "2024-01-31T18:40:34.718Z"
   },
   {
    "duration": 415,
    "start_time": "2024-01-31T18:40:34.723Z"
   },
   {
    "duration": 356,
    "start_time": "2024-01-31T18:40:35.140Z"
   },
   {
    "duration": 4227,
    "start_time": "2024-01-31T18:40:35.497Z"
   },
   {
    "duration": 137,
    "start_time": "2024-01-31T18:40:39.725Z"
   },
   {
    "duration": 30,
    "start_time": "2024-01-31T18:40:39.864Z"
   },
   {
    "duration": 4,
    "start_time": "2024-01-31T18:40:39.895Z"
   },
   {
    "duration": 15,
    "start_time": "2024-01-31T18:40:39.900Z"
   },
   {
    "duration": 277,
    "start_time": "2024-01-31T18:40:39.917Z"
   },
   {
    "duration": 13,
    "start_time": "2024-01-31T18:40:40.196Z"
   },
   {
    "duration": 397,
    "start_time": "2024-01-31T18:40:40.211Z"
   },
   {
    "duration": 7,
    "start_time": "2024-01-31T18:40:40.609Z"
   },
   {
    "duration": 488,
    "start_time": "2024-01-31T18:40:40.617Z"
   },
   {
    "duration": 86,
    "start_time": "2024-01-31T18:40:41.108Z"
   },
   {
    "duration": 564,
    "start_time": "2024-01-31T18:40:41.196Z"
   },
   {
    "duration": 6,
    "start_time": "2024-01-31T18:40:41.762Z"
   },
   {
    "duration": 8,
    "start_time": "2024-01-31T18:40:41.769Z"
   },
   {
    "duration": 19,
    "start_time": "2024-01-31T18:40:41.779Z"
   },
   {
    "duration": 5643,
    "start_time": "2024-01-31T18:40:41.799Z"
   },
   {
    "duration": 1389,
    "start_time": "2024-01-31T18:42:44.459Z"
   },
   {
    "duration": 3,
    "start_time": "2024-01-31T18:42:45.850Z"
   },
   {
    "duration": 401,
    "start_time": "2024-01-31T18:42:45.855Z"
   },
   {
    "duration": 342,
    "start_time": "2024-01-31T18:42:46.258Z"
   },
   {
    "duration": 4130,
    "start_time": "2024-01-31T18:42:46.602Z"
   },
   {
    "duration": 138,
    "start_time": "2024-01-31T18:42:50.734Z"
   },
   {
    "duration": 30,
    "start_time": "2024-01-31T18:42:50.873Z"
   },
   {
    "duration": 18,
    "start_time": "2024-01-31T18:42:50.904Z"
   },
   {
    "duration": 15,
    "start_time": "2024-01-31T18:42:50.924Z"
   },
   {
    "duration": 262,
    "start_time": "2024-01-31T18:42:50.941Z"
   },
   {
    "duration": 11,
    "start_time": "2024-01-31T18:42:51.204Z"
   },
   {
    "duration": 406,
    "start_time": "2024-01-31T18:42:51.217Z"
   },
   {
    "duration": 6,
    "start_time": "2024-01-31T18:42:51.625Z"
   },
   {
    "duration": 466,
    "start_time": "2024-01-31T18:42:51.633Z"
   },
   {
    "duration": 93,
    "start_time": "2024-01-31T18:42:52.101Z"
   },
   {
    "duration": 517,
    "start_time": "2024-01-31T18:42:52.196Z"
   },
   {
    "duration": 3,
    "start_time": "2024-01-31T18:42:52.715Z"
   },
   {
    "duration": 39,
    "start_time": "2024-01-31T18:42:52.720Z"
   },
   {
    "duration": 26,
    "start_time": "2024-01-31T18:42:52.761Z"
   },
   {
    "duration": 5321,
    "start_time": "2024-01-31T18:42:52.789Z"
   },
   {
    "duration": 1447,
    "start_time": "2024-01-31T18:44:29.517Z"
   },
   {
    "duration": 3,
    "start_time": "2024-01-31T18:44:30.966Z"
   },
   {
    "duration": 508,
    "start_time": "2024-01-31T18:44:30.970Z"
   },
   {
    "duration": 386,
    "start_time": "2024-01-31T18:44:31.481Z"
   },
   {
    "duration": 4321,
    "start_time": "2024-01-31T18:44:31.868Z"
   },
   {
    "duration": 169,
    "start_time": "2024-01-31T18:44:36.190Z"
   },
   {
    "duration": 22,
    "start_time": "2024-01-31T18:44:36.360Z"
   },
   {
    "duration": 4,
    "start_time": "2024-01-31T18:44:36.394Z"
   },
   {
    "duration": 22,
    "start_time": "2024-01-31T18:44:36.400Z"
   },
   {
    "duration": 318,
    "start_time": "2024-01-31T18:44:36.424Z"
   },
   {
    "duration": 12,
    "start_time": "2024-01-31T18:44:36.744Z"
   },
   {
    "duration": 433,
    "start_time": "2024-01-31T18:44:36.757Z"
   },
   {
    "duration": 12,
    "start_time": "2024-01-31T18:44:37.194Z"
   },
   {
    "duration": 494,
    "start_time": "2024-01-31T18:44:37.208Z"
   },
   {
    "duration": 5,
    "start_time": "2024-01-31T18:44:37.704Z"
   },
   {
    "duration": 651,
    "start_time": "2024-01-31T18:44:37.713Z"
   },
   {
    "duration": 4,
    "start_time": "2024-01-31T18:44:38.365Z"
   },
   {
    "duration": 12,
    "start_time": "2024-01-31T18:44:38.370Z"
   },
   {
    "duration": 14,
    "start_time": "2024-01-31T18:44:38.383Z"
   },
   {
    "duration": 5767,
    "start_time": "2024-01-31T18:44:38.399Z"
   },
   {
    "duration": 1700,
    "start_time": "2024-01-31T19:32:08.993Z"
   },
   {
    "duration": 4,
    "start_time": "2024-01-31T19:32:10.695Z"
   },
   {
    "duration": 475,
    "start_time": "2024-01-31T19:32:10.701Z"
   },
   {
    "duration": 428,
    "start_time": "2024-01-31T19:32:11.178Z"
   },
   {
    "duration": 4724,
    "start_time": "2024-01-31T19:32:11.607Z"
   },
   {
    "duration": 192,
    "start_time": "2024-01-31T19:32:16.332Z"
   },
   {
    "duration": 32,
    "start_time": "2024-01-31T19:32:16.525Z"
   },
   {
    "duration": 4,
    "start_time": "2024-01-31T19:32:16.558Z"
   },
   {
    "duration": 29,
    "start_time": "2024-01-31T19:32:16.564Z"
   },
   {
    "duration": 335,
    "start_time": "2024-01-31T19:32:16.598Z"
   },
   {
    "duration": 13,
    "start_time": "2024-01-31T19:32:16.934Z"
   },
   {
    "duration": 465,
    "start_time": "2024-01-31T19:32:16.949Z"
   },
   {
    "duration": 7,
    "start_time": "2024-01-31T19:32:17.416Z"
   },
   {
    "duration": 458,
    "start_time": "2024-01-31T19:32:17.424Z"
   },
   {
    "duration": 7,
    "start_time": "2024-01-31T19:32:17.883Z"
   },
   {
    "duration": 689,
    "start_time": "2024-01-31T19:32:17.892Z"
   },
   {
    "duration": 9,
    "start_time": "2024-01-31T19:32:18.587Z"
   },
   {
    "duration": 14,
    "start_time": "2024-01-31T19:32:18.598Z"
   },
   {
    "duration": 6,
    "start_time": "2024-01-31T19:32:18.614Z"
   },
   {
    "duration": 6123,
    "start_time": "2024-01-31T19:32:18.621Z"
   },
   {
    "duration": 1748,
    "start_time": "2024-01-31T19:37:37.005Z"
   },
   {
    "duration": 4,
    "start_time": "2024-01-31T19:37:38.756Z"
   },
   {
    "duration": 461,
    "start_time": "2024-01-31T19:37:38.762Z"
   },
   {
    "duration": 434,
    "start_time": "2024-01-31T19:37:39.225Z"
   },
   {
    "duration": 4945,
    "start_time": "2024-01-31T19:37:39.661Z"
   },
   {
    "duration": 206,
    "start_time": "2024-01-31T19:37:44.608Z"
   },
   {
    "duration": 35,
    "start_time": "2024-01-31T19:37:44.816Z"
   },
   {
    "duration": 4,
    "start_time": "2024-01-31T19:37:44.854Z"
   },
   {
    "duration": 24,
    "start_time": "2024-01-31T19:37:44.860Z"
   },
   {
    "duration": 433,
    "start_time": "2024-01-31T19:37:44.887Z"
   },
   {
    "duration": 13,
    "start_time": "2024-01-31T19:37:45.321Z"
   },
   {
    "duration": 465,
    "start_time": "2024-01-31T19:37:45.336Z"
   },
   {
    "duration": 7,
    "start_time": "2024-01-31T19:37:45.803Z"
   },
   {
    "duration": 396,
    "start_time": "2024-01-31T19:37:45.811Z"
   },
   {
    "duration": 7,
    "start_time": "2024-01-31T19:37:46.209Z"
   },
   {
    "duration": 726,
    "start_time": "2024-01-31T19:37:46.281Z"
   },
   {
    "duration": 4,
    "start_time": "2024-01-31T19:37:47.009Z"
   },
   {
    "duration": 11,
    "start_time": "2024-01-31T19:37:47.014Z"
   },
   {
    "duration": 8,
    "start_time": "2024-01-31T19:37:47.026Z"
   },
   {
    "duration": 6214,
    "start_time": "2024-01-31T19:37:47.036Z"
   },
   {
    "duration": 10,
    "start_time": "2024-01-31T19:37:53.252Z"
   },
   {
    "duration": 1694,
    "start_time": "2024-01-31T19:50:24.599Z"
   },
   {
    "duration": 4,
    "start_time": "2024-01-31T19:50:26.295Z"
   },
   {
    "duration": 462,
    "start_time": "2024-01-31T19:50:26.300Z"
   },
   {
    "duration": 398,
    "start_time": "2024-01-31T19:50:26.764Z"
   },
   {
    "duration": 4685,
    "start_time": "2024-01-31T19:50:27.163Z"
   },
   {
    "duration": 177,
    "start_time": "2024-01-31T19:50:31.849Z"
   },
   {
    "duration": 27,
    "start_time": "2024-01-31T19:50:32.027Z"
   },
   {
    "duration": 4,
    "start_time": "2024-01-31T19:50:32.055Z"
   },
   {
    "duration": 12,
    "start_time": "2024-01-31T19:50:32.080Z"
   },
   {
    "duration": 326,
    "start_time": "2024-01-31T19:50:32.095Z"
   },
   {
    "duration": 13,
    "start_time": "2024-01-31T19:50:32.423Z"
   },
   {
    "duration": 471,
    "start_time": "2024-01-31T19:50:32.438Z"
   },
   {
    "duration": 6,
    "start_time": "2024-01-31T19:50:32.911Z"
   },
   {
    "duration": 579,
    "start_time": "2024-01-31T19:50:32.919Z"
   },
   {
    "duration": 85,
    "start_time": "2024-01-31T19:50:33.503Z"
   },
   {
    "duration": 622,
    "start_time": "2024-01-31T19:50:33.592Z"
   },
   {
    "duration": 4,
    "start_time": "2024-01-31T19:50:34.216Z"
   },
   {
    "duration": 10,
    "start_time": "2024-01-31T19:50:34.221Z"
   },
   {
    "duration": 7,
    "start_time": "2024-01-31T19:50:34.233Z"
   },
   {
    "duration": 5896,
    "start_time": "2024-01-31T19:50:34.242Z"
   },
   {
    "duration": 13,
    "start_time": "2024-01-31T19:50:40.140Z"
   },
   {
    "duration": 1660,
    "start_time": "2024-01-31T19:51:06.169Z"
   },
   {
    "duration": 3,
    "start_time": "2024-01-31T19:51:07.831Z"
   },
   {
    "duration": 431,
    "start_time": "2024-01-31T19:51:07.835Z"
   },
   {
    "duration": 419,
    "start_time": "2024-01-31T19:51:08.269Z"
   },
   {
    "duration": 4570,
    "start_time": "2024-01-31T19:51:08.690Z"
   },
   {
    "duration": 166,
    "start_time": "2024-01-31T19:51:13.262Z"
   },
   {
    "duration": 23,
    "start_time": "2024-01-31T19:51:13.430Z"
   },
   {
    "duration": 3,
    "start_time": "2024-01-31T19:51:13.454Z"
   },
   {
    "duration": 4,
    "start_time": "2024-01-31T19:51:13.459Z"
   },
   {
    "duration": 324,
    "start_time": "2024-01-31T19:51:13.481Z"
   },
   {
    "duration": 13,
    "start_time": "2024-01-31T19:51:13.807Z"
   },
   {
    "duration": 445,
    "start_time": "2024-01-31T19:51:13.821Z"
   },
   {
    "duration": 14,
    "start_time": "2024-01-31T19:51:14.268Z"
   },
   {
    "duration": 503,
    "start_time": "2024-01-31T19:51:14.284Z"
   },
   {
    "duration": 92,
    "start_time": "2024-01-31T19:51:14.789Z"
   },
   {
    "duration": 578,
    "start_time": "2024-01-31T19:51:14.883Z"
   },
   {
    "duration": 5,
    "start_time": "2024-01-31T19:51:15.463Z"
   },
   {
    "duration": 11,
    "start_time": "2024-01-31T19:51:15.480Z"
   },
   {
    "duration": 9,
    "start_time": "2024-01-31T19:51:15.493Z"
   },
   {
    "duration": 5771,
    "start_time": "2024-01-31T19:51:15.504Z"
   },
   {
    "duration": 9,
    "start_time": "2024-01-31T19:51:21.281Z"
   },
   {
    "duration": 1752,
    "start_time": "2024-02-01T06:55:58.478Z"
   },
   {
    "duration": 4,
    "start_time": "2024-02-01T06:56:00.232Z"
   },
   {
    "duration": 852,
    "start_time": "2024-02-01T06:56:00.238Z"
   },
   {
    "duration": 413,
    "start_time": "2024-02-01T06:56:01.092Z"
   },
   {
    "duration": 4530,
    "start_time": "2024-02-01T06:56:01.507Z"
   },
   {
    "duration": 181,
    "start_time": "2024-02-01T06:56:06.039Z"
   },
   {
    "duration": 23,
    "start_time": "2024-02-01T06:56:06.222Z"
   },
   {
    "duration": 22,
    "start_time": "2024-02-01T06:56:06.247Z"
   },
   {
    "duration": 6,
    "start_time": "2024-02-01T06:56:06.273Z"
   },
   {
    "duration": 331,
    "start_time": "2024-02-01T06:56:06.281Z"
   },
   {
    "duration": 12,
    "start_time": "2024-02-01T06:56:06.614Z"
   },
   {
    "duration": 462,
    "start_time": "2024-02-01T06:56:06.628Z"
   },
   {
    "duration": 8,
    "start_time": "2024-02-01T06:56:07.095Z"
   },
   {
    "duration": 460,
    "start_time": "2024-02-01T06:56:07.106Z"
   },
   {
    "duration": 8,
    "start_time": "2024-02-01T06:56:07.573Z"
   },
   {
    "duration": 619,
    "start_time": "2024-02-01T06:56:07.588Z"
   },
   {
    "duration": 4,
    "start_time": "2024-02-01T06:56:08.210Z"
   },
   {
    "duration": 16,
    "start_time": "2024-02-01T06:56:08.215Z"
   },
   {
    "duration": 29,
    "start_time": "2024-02-01T06:56:08.232Z"
   },
   {
    "duration": 178,
    "start_time": "2024-02-01T06:56:08.264Z"
   },
   {
    "duration": 0,
    "start_time": "2024-02-01T06:56:08.444Z"
   },
   {
    "duration": 5,
    "start_time": "2024-02-01T06:58:23.800Z"
   },
   {
    "duration": 6557,
    "start_time": "2024-02-01T06:58:56.691Z"
   },
   {
    "duration": 1443,
    "start_time": "2024-02-01T07:00:08.072Z"
   },
   {
    "duration": 3,
    "start_time": "2024-02-01T07:00:09.517Z"
   },
   {
    "duration": 454,
    "start_time": "2024-02-01T07:00:09.522Z"
   },
   {
    "duration": 460,
    "start_time": "2024-02-01T07:00:09.978Z"
   },
   {
    "duration": 4573,
    "start_time": "2024-02-01T07:00:10.440Z"
   },
   {
    "duration": 228,
    "start_time": "2024-02-01T07:00:15.015Z"
   },
   {
    "duration": 48,
    "start_time": "2024-02-01T07:00:15.245Z"
   },
   {
    "duration": 5,
    "start_time": "2024-02-01T07:00:15.294Z"
   },
   {
    "duration": 44,
    "start_time": "2024-02-01T07:00:15.300Z"
   },
   {
    "duration": 459,
    "start_time": "2024-02-01T07:00:15.346Z"
   },
   {
    "duration": 15,
    "start_time": "2024-02-01T07:00:15.807Z"
   },
   {
    "duration": 523,
    "start_time": "2024-02-01T07:00:15.824Z"
   },
   {
    "duration": 6,
    "start_time": "2024-02-01T07:00:16.349Z"
   },
   {
    "duration": 530,
    "start_time": "2024-02-01T07:00:16.367Z"
   },
   {
    "duration": 62,
    "start_time": "2024-02-01T07:00:16.905Z"
   },
   {
    "duration": 701,
    "start_time": "2024-02-01T07:00:16.972Z"
   },
   {
    "duration": 5,
    "start_time": "2024-02-01T07:00:17.675Z"
   },
   {
    "duration": 25,
    "start_time": "2024-02-01T07:00:17.681Z"
   },
   {
    "duration": 18,
    "start_time": "2024-02-01T07:00:17.708Z"
   },
   {
    "duration": 6415,
    "start_time": "2024-02-01T07:00:17.728Z"
   },
   {
    "duration": 34,
    "start_time": "2024-02-01T07:00:24.145Z"
   }
  ],
  "kernelspec": {
   "display_name": "Python 3 (ipykernel)",
   "language": "python",
   "name": "python3"
  },
  "language_info": {
   "codemirror_mode": {
    "name": "ipython",
    "version": 3
   },
   "file_extension": ".py",
   "mimetype": "text/x-python",
   "name": "python",
   "nbconvert_exporter": "python",
   "pygments_lexer": "ipython3",
   "version": "3.9.5"
  },
  "toc": {
   "base_numbering": 1,
   "nav_menu": {},
   "number_sections": true,
   "sideBar": true,
   "skip_h1_title": true,
   "title_cell": "Table of Contents",
   "title_sidebar": "Contents",
   "toc_cell": false,
   "toc_position": {},
   "toc_section_display": true,
   "toc_window_display": false
  }
 },
 "nbformat": 4,
 "nbformat_minor": 2
}
