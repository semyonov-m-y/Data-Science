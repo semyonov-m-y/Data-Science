{
 "cells": [
  {
   "cell_type": "markdown",
   "metadata": {},
   "source": [
    "# Рекомендация тарифов"
   ]
  },
  {
   "cell_type": "markdown",
   "metadata": {},
   "source": [
    "**Описание проекта**\n",
    "\n",
    "Оператор мобильной связи «Мегалайн» выяснил: многие клиенты пользуются архивными тарифами. Они хотят построить систему, способную проанализировать поведение клиентов и предложить пользователям новый тариф: «Смарт» или «Ультра».\n",
    "В нашем распоряжении данные о поведении клиентов, которые уже перешли на эти тарифы (из проекта курса «Статистический анализ данных»). Нужно построить модель для задачи классификации, которая выберет подходящий тариф. Предобработка данных не понадобится — мы её уже сделали.\n",
    "Построим модель с максимально большим значением accuracy. Чтобы сдать проект успешно, нужно довести долю правильных ответов по крайней мере до 0.75. Проверим accuracy на тестовой выборке самостоятельно.\n",
    "\n",
    "**Шаги выполнения проекта**\n",
    "\n",
    "1) Откроем файл с данными и изучим его. Путь к файлу: /datasets/users_behavior.csv.\n",
    "\n",
    "2) Разделим исходные данные на обучающую, валидационную и тестовую выборки.\n",
    "\n",
    "3) Исследуем качество разных моделей, меняя гиперпараметры. Кратко напишем выводы исследования.\n",
    "\n",
    "4) Проверим качество модели на тестовой выборке.\n",
    "\n",
    "5) Дополнительное задание: проверим модели на вменяемость.\n",
    "\n",
    "6) Сделаем общий вывод.\n",
    "\n",
    "**Описание данных**\n",
    "\n",
    "Каждый объект в наборе данных — это информация о поведении одного пользователя за месяц. Известно:\n",
    "\n",
    "сalls — количество звонков,\n",
    "\n",
    "minutes — суммарная длительность звонков в минутах,\n",
    "\n",
    "messages — количество sms-сообщений,\n",
    "\n",
    "mb_used — израсходованный интернет-трафик в Мб,\n",
    "\n",
    "is_ultra — каким тарифом пользовался в течение месяца («Ультра» — 1, «Смарт» — 0)."
   ]
  },
  {
   "cell_type": "markdown",
   "metadata": {},
   "source": [
    "## Откроем и изучим файл"
   ]
  },
  {
   "cell_type": "code",
   "execution_count": 1,
   "metadata": {},
   "outputs": [],
   "source": [
    "! pip install -q phik"
   ]
  },
  {
   "cell_type": "code",
   "execution_count": 2,
   "metadata": {},
   "outputs": [],
   "source": [
    "# Импортируем необходимые библиотеки\n",
    "import pandas as pd\n",
    "import numpy as np\n",
    "from sklearn.model_selection import train_test_split, StratifiedKFold\n",
    "\n",
    "from sklearn.tree import DecisionTreeClassifier\n",
    "from sklearn.linear_model import LogisticRegression\n",
    "from sklearn.ensemble import RandomForestClassifier\n",
    "from sklearn.dummy import DummyClassifier\n",
    "import matplotlib.pyplot as plt\n",
    "import seaborn as sns\n",
    "import phik"
   ]
  },
  {
   "cell_type": "code",
   "execution_count": 3,
   "metadata": {},
   "outputs": [
    {
     "name": "stdout",
     "output_type": "stream",
     "text": [
      "Датасет успешно загружен\n"
     ]
    }
   ],
   "source": [
    "try:\n",
    "    df = pd.read_csv('users_behavior.csv') \n",
    "    print(\"Датасет успешно загружен\")\n",
    "except:\n",
    "    df = pd.read_csv('/datasets/users_behavior.csv') \n",
    "    print(\"Датасет успешно загружен\")"
   ]
  },
  {
   "cell_type": "code",
   "execution_count": 4,
   "metadata": {},
   "outputs": [
    {
     "data": {
      "text/html": [
       "<div>\n",
       "<style scoped>\n",
       "    .dataframe tbody tr th:only-of-type {\n",
       "        vertical-align: middle;\n",
       "    }\n",
       "\n",
       "    .dataframe tbody tr th {\n",
       "        vertical-align: top;\n",
       "    }\n",
       "\n",
       "    .dataframe thead th {\n",
       "        text-align: right;\n",
       "    }\n",
       "</style>\n",
       "<table border=\"1\" class=\"dataframe\">\n",
       "  <thead>\n",
       "    <tr style=\"text-align: right;\">\n",
       "      <th></th>\n",
       "      <th>calls</th>\n",
       "      <th>minutes</th>\n",
       "      <th>messages</th>\n",
       "      <th>mb_used</th>\n",
       "      <th>is_ultra</th>\n",
       "    </tr>\n",
       "  </thead>\n",
       "  <tbody>\n",
       "    <tr>\n",
       "      <th>0</th>\n",
       "      <td>40.0</td>\n",
       "      <td>311.90</td>\n",
       "      <td>83.0</td>\n",
       "      <td>19915.42</td>\n",
       "      <td>0</td>\n",
       "    </tr>\n",
       "    <tr>\n",
       "      <th>1</th>\n",
       "      <td>85.0</td>\n",
       "      <td>516.75</td>\n",
       "      <td>56.0</td>\n",
       "      <td>22696.96</td>\n",
       "      <td>0</td>\n",
       "    </tr>\n",
       "    <tr>\n",
       "      <th>2</th>\n",
       "      <td>77.0</td>\n",
       "      <td>467.66</td>\n",
       "      <td>86.0</td>\n",
       "      <td>21060.45</td>\n",
       "      <td>0</td>\n",
       "    </tr>\n",
       "    <tr>\n",
       "      <th>3</th>\n",
       "      <td>106.0</td>\n",
       "      <td>745.53</td>\n",
       "      <td>81.0</td>\n",
       "      <td>8437.39</td>\n",
       "      <td>1</td>\n",
       "    </tr>\n",
       "    <tr>\n",
       "      <th>4</th>\n",
       "      <td>66.0</td>\n",
       "      <td>418.74</td>\n",
       "      <td>1.0</td>\n",
       "      <td>14502.75</td>\n",
       "      <td>0</td>\n",
       "    </tr>\n",
       "  </tbody>\n",
       "</table>\n",
       "</div>"
      ],
      "text/plain": [
       "   calls  minutes  messages   mb_used  is_ultra\n",
       "0   40.0   311.90      83.0  19915.42         0\n",
       "1   85.0   516.75      56.0  22696.96         0\n",
       "2   77.0   467.66      86.0  21060.45         0\n",
       "3  106.0   745.53      81.0   8437.39         1\n",
       "4   66.0   418.74       1.0  14502.75         0"
      ]
     },
     "execution_count": 4,
     "metadata": {},
     "output_type": "execute_result"
    }
   ],
   "source": [
    "# Посмотрим часть загруженных данных\n",
    "df.head()"
   ]
  },
  {
   "cell_type": "code",
   "execution_count": 5,
   "metadata": {},
   "outputs": [
    {
     "name": "stdout",
     "output_type": "stream",
     "text": [
      "<class 'pandas.core.frame.DataFrame'>\n",
      "RangeIndex: 3214 entries, 0 to 3213\n",
      "Data columns (total 5 columns):\n",
      " #   Column    Non-Null Count  Dtype  \n",
      "---  ------    --------------  -----  \n",
      " 0   calls     3214 non-null   float64\n",
      " 1   minutes   3214 non-null   float64\n",
      " 2   messages  3214 non-null   float64\n",
      " 3   mb_used   3214 non-null   float64\n",
      " 4   is_ultra  3214 non-null   int64  \n",
      "dtypes: float64(4), int64(1)\n",
      "memory usage: 125.7 KB\n"
     ]
    }
   ],
   "source": [
    "# Посмотрим информацию по датасету\n",
    "df.info()"
   ]
  },
  {
   "cell_type": "code",
   "execution_count": 6,
   "metadata": {},
   "outputs": [
    {
     "data": {
      "text/html": [
       "<div>\n",
       "<style scoped>\n",
       "    .dataframe tbody tr th:only-of-type {\n",
       "        vertical-align: middle;\n",
       "    }\n",
       "\n",
       "    .dataframe tbody tr th {\n",
       "        vertical-align: top;\n",
       "    }\n",
       "\n",
       "    .dataframe thead th {\n",
       "        text-align: right;\n",
       "    }\n",
       "</style>\n",
       "<table border=\"1\" class=\"dataframe\">\n",
       "  <thead>\n",
       "    <tr style=\"text-align: right;\">\n",
       "      <th></th>\n",
       "      <th>calls</th>\n",
       "      <th>minutes</th>\n",
       "      <th>messages</th>\n",
       "      <th>mb_used</th>\n",
       "      <th>is_ultra</th>\n",
       "    </tr>\n",
       "  </thead>\n",
       "  <tbody>\n",
       "    <tr>\n",
       "      <th>count</th>\n",
       "      <td>3214.000000</td>\n",
       "      <td>3214.000000</td>\n",
       "      <td>3214.000000</td>\n",
       "      <td>3214.000000</td>\n",
       "      <td>3214.000000</td>\n",
       "    </tr>\n",
       "    <tr>\n",
       "      <th>mean</th>\n",
       "      <td>63.038892</td>\n",
       "      <td>438.208787</td>\n",
       "      <td>38.281269</td>\n",
       "      <td>17207.673836</td>\n",
       "      <td>0.306472</td>\n",
       "    </tr>\n",
       "    <tr>\n",
       "      <th>std</th>\n",
       "      <td>33.236368</td>\n",
       "      <td>234.569872</td>\n",
       "      <td>36.148326</td>\n",
       "      <td>7570.968246</td>\n",
       "      <td>0.461100</td>\n",
       "    </tr>\n",
       "    <tr>\n",
       "      <th>min</th>\n",
       "      <td>0.000000</td>\n",
       "      <td>0.000000</td>\n",
       "      <td>0.000000</td>\n",
       "      <td>0.000000</td>\n",
       "      <td>0.000000</td>\n",
       "    </tr>\n",
       "    <tr>\n",
       "      <th>25%</th>\n",
       "      <td>40.000000</td>\n",
       "      <td>274.575000</td>\n",
       "      <td>9.000000</td>\n",
       "      <td>12491.902500</td>\n",
       "      <td>0.000000</td>\n",
       "    </tr>\n",
       "    <tr>\n",
       "      <th>50%</th>\n",
       "      <td>62.000000</td>\n",
       "      <td>430.600000</td>\n",
       "      <td>30.000000</td>\n",
       "      <td>16943.235000</td>\n",
       "      <td>0.000000</td>\n",
       "    </tr>\n",
       "    <tr>\n",
       "      <th>75%</th>\n",
       "      <td>82.000000</td>\n",
       "      <td>571.927500</td>\n",
       "      <td>57.000000</td>\n",
       "      <td>21424.700000</td>\n",
       "      <td>1.000000</td>\n",
       "    </tr>\n",
       "    <tr>\n",
       "      <th>max</th>\n",
       "      <td>244.000000</td>\n",
       "      <td>1632.060000</td>\n",
       "      <td>224.000000</td>\n",
       "      <td>49745.730000</td>\n",
       "      <td>1.000000</td>\n",
       "    </tr>\n",
       "  </tbody>\n",
       "</table>\n",
       "</div>"
      ],
      "text/plain": [
       "             calls      minutes     messages       mb_used     is_ultra\n",
       "count  3214.000000  3214.000000  3214.000000   3214.000000  3214.000000\n",
       "mean     63.038892   438.208787    38.281269  17207.673836     0.306472\n",
       "std      33.236368   234.569872    36.148326   7570.968246     0.461100\n",
       "min       0.000000     0.000000     0.000000      0.000000     0.000000\n",
       "25%      40.000000   274.575000     9.000000  12491.902500     0.000000\n",
       "50%      62.000000   430.600000    30.000000  16943.235000     0.000000\n",
       "75%      82.000000   571.927500    57.000000  21424.700000     1.000000\n",
       "max     244.000000  1632.060000   224.000000  49745.730000     1.000000"
      ]
     },
     "execution_count": 6,
     "metadata": {},
     "output_type": "execute_result"
    }
   ],
   "source": [
    "# Посмотрим информацию по датасету\n",
    "df.describe()"
   ]
  },
  {
   "cell_type": "code",
   "execution_count": 7,
   "metadata": {},
   "outputs": [],
   "source": [
    "# Изменим тип столбца messages на int\n",
    "df['messages'] = df['messages'].astype(\"int\")"
   ]
  },
  {
   "cell_type": "code",
   "execution_count": 8,
   "metadata": {},
   "outputs": [
    {
     "data": {
      "text/plain": [
       "0"
      ]
     },
     "execution_count": 8,
     "metadata": {},
     "output_type": "execute_result"
    }
   ],
   "source": [
    "# Проверим наличие дубликатов\n",
    "df.duplicated().sum()"
   ]
  },
  {
   "cell_type": "code",
   "execution_count": 9,
   "metadata": {},
   "outputs": [
    {
     "data": {
      "text/plain": [
       "calls       0\n",
       "minutes     0\n",
       "messages    0\n",
       "mb_used     0\n",
       "is_ultra    0\n",
       "dtype: int64"
      ]
     },
     "execution_count": 9,
     "metadata": {},
     "output_type": "execute_result"
    }
   ],
   "source": [
    "# Проверим наличие пропусков\n",
    "df.isna().sum()"
   ]
  },
  {
   "cell_type": "code",
   "execution_count": 10,
   "metadata": {},
   "outputs": [
    {
     "data": {
      "text/plain": [
       "0    2229\n",
       "1     985\n",
       "Name: is_ultra, dtype: int64"
      ]
     },
     "execution_count": 10,
     "metadata": {},
     "output_type": "execute_result"
    }
   ],
   "source": [
    "df['is_ultra'].value_counts()"
   ]
  },
  {
   "cell_type": "markdown",
   "metadata": {},
   "source": [
    "Видим, что выборка перешедших на тариф \"Ультра\" не сбалансирована - дисбаланс в 2.26 раза"
   ]
  },
  {
   "cell_type": "code",
   "execution_count": 11,
   "metadata": {},
   "outputs": [
    {
     "data": {
      "text/html": [
       "<div>\n",
       "<style scoped>\n",
       "    .dataframe tbody tr th:only-of-type {\n",
       "        vertical-align: middle;\n",
       "    }\n",
       "\n",
       "    .dataframe tbody tr th {\n",
       "        vertical-align: top;\n",
       "    }\n",
       "\n",
       "    .dataframe thead th {\n",
       "        text-align: right;\n",
       "    }\n",
       "</style>\n",
       "<table border=\"1\" class=\"dataframe\">\n",
       "  <thead>\n",
       "    <tr style=\"text-align: right;\">\n",
       "      <th></th>\n",
       "      <th>calls</th>\n",
       "      <th>minutes</th>\n",
       "      <th>messages</th>\n",
       "      <th>mb_used</th>\n",
       "      <th>is_ultra</th>\n",
       "    </tr>\n",
       "  </thead>\n",
       "  <tbody>\n",
       "    <tr>\n",
       "      <th>calls</th>\n",
       "      <td>1.000000</td>\n",
       "      <td>0.982083</td>\n",
       "      <td>0.177385</td>\n",
       "      <td>0.286442</td>\n",
       "      <td>0.207122</td>\n",
       "    </tr>\n",
       "    <tr>\n",
       "      <th>minutes</th>\n",
       "      <td>0.982083</td>\n",
       "      <td>1.000000</td>\n",
       "      <td>0.173110</td>\n",
       "      <td>0.280967</td>\n",
       "      <td>0.206955</td>\n",
       "    </tr>\n",
       "    <tr>\n",
       "      <th>messages</th>\n",
       "      <td>0.177385</td>\n",
       "      <td>0.173110</td>\n",
       "      <td>1.000000</td>\n",
       "      <td>0.195721</td>\n",
       "      <td>0.203830</td>\n",
       "    </tr>\n",
       "    <tr>\n",
       "      <th>mb_used</th>\n",
       "      <td>0.286442</td>\n",
       "      <td>0.280967</td>\n",
       "      <td>0.195721</td>\n",
       "      <td>1.000000</td>\n",
       "      <td>0.198568</td>\n",
       "    </tr>\n",
       "    <tr>\n",
       "      <th>is_ultra</th>\n",
       "      <td>0.207122</td>\n",
       "      <td>0.206955</td>\n",
       "      <td>0.203830</td>\n",
       "      <td>0.198568</td>\n",
       "      <td>1.000000</td>\n",
       "    </tr>\n",
       "  </tbody>\n",
       "</table>\n",
       "</div>"
      ],
      "text/plain": [
       "             calls   minutes  messages   mb_used  is_ultra\n",
       "calls     1.000000  0.982083  0.177385  0.286442  0.207122\n",
       "minutes   0.982083  1.000000  0.173110  0.280967  0.206955\n",
       "messages  0.177385  0.173110  1.000000  0.195721  0.203830\n",
       "mb_used   0.286442  0.280967  0.195721  1.000000  0.198568\n",
       "is_ultra  0.207122  0.206955  0.203830  0.198568  1.000000"
      ]
     },
     "execution_count": 11,
     "metadata": {},
     "output_type": "execute_result"
    }
   ],
   "source": [
    "# Посмотрим корреляцию между параметрами датасета\n",
    "df.corr()"
   ]
  },
  {
   "cell_type": "markdown",
   "metadata": {},
   "source": [
    "Так как признак is_ultra по своей сути бинарный, то для него лучше подойдет корреляцис Спирмена.\n",
    "\n",
    "Существуют разные коэффициенты корреляции, и не все из них универсальны. Например, корреляция Пирсона не подходит для категориальных признаков. Есть и более гибкие инструменты: так, коэффициент корреляции Фи находит взаимосвязь между категориальными, порядковыми и интервальными признаками. Чем ближе его значение по модулю к 1, тем сильнее связь. Используем этот передовой метод определения корреляции."
   ]
  },
  {
   "cell_type": "code",
   "execution_count": 12,
   "metadata": {},
   "outputs": [
    {
     "name": "stdout",
     "output_type": "stream",
     "text": [
      "interval columns not set, guessing: ['calls', 'minutes', 'messages', 'mb_used', 'is_ultra']\n"
     ]
    },
    {
     "data": {
      "text/html": [
       "<div>\n",
       "<style scoped>\n",
       "    .dataframe tbody tr th:only-of-type {\n",
       "        vertical-align: middle;\n",
       "    }\n",
       "\n",
       "    .dataframe tbody tr th {\n",
       "        vertical-align: top;\n",
       "    }\n",
       "\n",
       "    .dataframe thead th {\n",
       "        text-align: right;\n",
       "    }\n",
       "</style>\n",
       "<table border=\"1\" class=\"dataframe\">\n",
       "  <thead>\n",
       "    <tr style=\"text-align: right;\">\n",
       "      <th></th>\n",
       "      <th>calls</th>\n",
       "      <th>minutes</th>\n",
       "      <th>messages</th>\n",
       "      <th>mb_used</th>\n",
       "      <th>is_ultra</th>\n",
       "    </tr>\n",
       "  </thead>\n",
       "  <tbody>\n",
       "    <tr>\n",
       "      <th>calls</th>\n",
       "      <td>1.000000</td>\n",
       "      <td>0.974802</td>\n",
       "      <td>0.338665</td>\n",
       "      <td>0.521018</td>\n",
       "      <td>0.474416</td>\n",
       "    </tr>\n",
       "    <tr>\n",
       "      <th>minutes</th>\n",
       "      <td>0.974802</td>\n",
       "      <td>1.000000</td>\n",
       "      <td>0.333215</td>\n",
       "      <td>0.509414</td>\n",
       "      <td>0.456533</td>\n",
       "    </tr>\n",
       "    <tr>\n",
       "      <th>messages</th>\n",
       "      <td>0.338665</td>\n",
       "      <td>0.333215</td>\n",
       "      <td>1.000000</td>\n",
       "      <td>0.333689</td>\n",
       "      <td>0.373726</td>\n",
       "    </tr>\n",
       "    <tr>\n",
       "      <th>mb_used</th>\n",
       "      <td>0.521018</td>\n",
       "      <td>0.509414</td>\n",
       "      <td>0.333689</td>\n",
       "      <td>1.000000</td>\n",
       "      <td>0.493928</td>\n",
       "    </tr>\n",
       "    <tr>\n",
       "      <th>is_ultra</th>\n",
       "      <td>0.474416</td>\n",
       "      <td>0.456533</td>\n",
       "      <td>0.373726</td>\n",
       "      <td>0.493928</td>\n",
       "      <td>1.000000</td>\n",
       "    </tr>\n",
       "  </tbody>\n",
       "</table>\n",
       "</div>"
      ],
      "text/plain": [
       "             calls   minutes  messages   mb_used  is_ultra\n",
       "calls     1.000000  0.974802  0.338665  0.521018  0.474416\n",
       "minutes   0.974802  1.000000  0.333215  0.509414  0.456533\n",
       "messages  0.338665  0.333215  1.000000  0.333689  0.373726\n",
       "mb_used   0.521018  0.509414  0.333689  1.000000  0.493928\n",
       "is_ultra  0.474416  0.456533  0.373726  0.493928  1.000000"
      ]
     },
     "execution_count": 12,
     "metadata": {},
     "output_type": "execute_result"
    }
   ],
   "source": [
    "df.phik_matrix() "
   ]
  },
  {
   "cell_type": "markdown",
   "metadata": {},
   "source": [
    "Построим матрицу рассеяния, но избавимся от текстового представления python-объектов типа <AxesSubplot:xlabel='real_age'>\n",
    "или Text(0.5, 1, 'Матрица рассеяния параметров датасета'). Это можно сделать достаточно просто, если добавить точку с запятой после последней команды в ячейке.    "
   ]
  },
  {
   "cell_type": "code",
   "execution_count": 13,
   "metadata": {},
   "outputs": [
    {
     "data": {
      "image/png": "[encoded data removed]",
      "text/plain": [
       "<Figure size 764.5x720 with 20 Axes>"
      ]
     },
     "metadata": {
      "needs_background": "light"
     },
     "output_type": "display_data"
    }
   ],
   "source": [
    "graph = sns.pairplot(df, hue='is_ultra', diag_kind=\"hist\")\n",
    "graph.fig.suptitle(\"Матрица рассеяния параметров датасета\", y=1);"
   ]
  },
  {
   "cell_type": "markdown",
   "metadata": {},
   "source": [
    "**Вывод**\n",
    "\n",
    "- Пропущенных значений и дубликатов нет. \n",
    "- Типы столбцов в порядке. Можно сразу без дополнительной предоработки приступать к их анализу. \n",
    "- Очевидна линейная зависимость между звонками и минутами, чем больше звонков - тем больше минут. "
   ]
  },
  {
   "cell_type": "markdown",
   "metadata": {},
   "source": [
    "## Разобьём данные на выборки"
   ]
  },
  {
   "cell_type": "markdown",
   "metadata": {},
   "source": [
    "Нам необходимо разбить данные на 3 выборки - обучающую, валидационную и тестовую.\n",
    "\n",
    "Сначала возьмем от датасета 60% наблюдений - это будет обучающая выборка. Оставщиеся 40% поделим пополам - на тестовую и валидационную выборки. Получим разбивку данных в соотношении 60/20/20."
   ]
  },
  {
   "cell_type": "code",
   "execution_count": 14,
   "metadata": {},
   "outputs": [],
   "source": [
    "# Разобъем выборки на train(60%) и тест(40%)\n",
    "df_train, df_test = train_test_split(df, test_size=0.4, random_state=777, stratify=df['is_ultra'])\n",
    "features = df_test.drop('is_ultra', axis=1)\n",
    "target = df_test['is_ultra']"
   ]
  },
  {
   "cell_type": "code",
   "execution_count": 15,
   "metadata": {},
   "outputs": [],
   "source": [
    "# Разобъем выборки на val(20%) и test(20%)\n",
    "features_valid, features_test, target_valid, target_test = train_test_split(\n",
    "    features, target, test_size=0.5, random_state=777, stratify=target\n",
    ")\n",
    "features_train = df_train.drop('is_ultra', axis=1)\n",
    "target_train = df_train['is_ultra']"
   ]
  },
  {
   "cell_type": "markdown",
   "metadata": {},
   "source": [
    "Обучающая выборка:"
   ]
  },
  {
   "cell_type": "code",
   "execution_count": 16,
   "metadata": {},
   "outputs": [
    {
     "data": {
      "text/plain": [
       "(1928, 4)"
      ]
     },
     "execution_count": 16,
     "metadata": {},
     "output_type": "execute_result"
    }
   ],
   "source": [
    "features_train.shape"
   ]
  },
  {
   "cell_type": "code",
   "execution_count": 17,
   "metadata": {},
   "outputs": [
    {
     "data": {
      "text/plain": [
       "(1928,)"
      ]
     },
     "execution_count": 17,
     "metadata": {},
     "output_type": "execute_result"
    }
   ],
   "source": [
    "target_train.shape"
   ]
  },
  {
   "cell_type": "markdown",
   "metadata": {},
   "source": [
    "Валидационная выборка:"
   ]
  },
  {
   "cell_type": "code",
   "execution_count": 18,
   "metadata": {},
   "outputs": [
    {
     "data": {
      "text/plain": [
       "(643, 4)"
      ]
     },
     "execution_count": 18,
     "metadata": {},
     "output_type": "execute_result"
    }
   ],
   "source": [
    "features_valid.shape"
   ]
  },
  {
   "cell_type": "code",
   "execution_count": 19,
   "metadata": {},
   "outputs": [
    {
     "data": {
      "text/plain": [
       "(643,)"
      ]
     },
     "execution_count": 19,
     "metadata": {},
     "output_type": "execute_result"
    }
   ],
   "source": [
    "target_valid.shape"
   ]
  },
  {
   "cell_type": "markdown",
   "metadata": {},
   "source": [
    "Тестовая выборка:"
   ]
  },
  {
   "cell_type": "code",
   "execution_count": 20,
   "metadata": {},
   "outputs": [
    {
     "data": {
      "text/plain": [
       "(643, 4)"
      ]
     },
     "execution_count": 20,
     "metadata": {},
     "output_type": "execute_result"
    }
   ],
   "source": [
    "features_test.shape"
   ]
  },
  {
   "cell_type": "code",
   "execution_count": 21,
   "metadata": {},
   "outputs": [
    {
     "data": {
      "text/plain": [
       "(643,)"
      ]
     },
     "execution_count": 21,
     "metadata": {},
     "output_type": "execute_result"
    }
   ],
   "source": [
    "target_test.shape"
   ]
  },
  {
   "cell_type": "markdown",
   "metadata": {},
   "source": [
    "**Итог:**\n",
    "- данные разбили на 3 части в соотношении 60/20/20\n",
    "- дисбалланс в данных оставили"
   ]
  },
  {
   "cell_type": "markdown",
   "metadata": {},
   "source": [
    "## Исследуем модели"
   ]
  },
  {
   "cell_type": "markdown",
   "metadata": {},
   "source": [
    "Так как у нас есть обучающий набор данных и целевой признак, который нужно предсказать по остальным признакам (тариф («Смарт» или «Ультра»)), то наша задача - это задача «Обучение с учителем». Используем задачу классификации.\n",
    "\n",
    "Для решения задач классификации есть три метода:\n",
    "\n",
    "- логистическая регрессия\n",
    "- решающее дерево\n",
    "- случайный лес\n",
    "\n",
    "Посмотрим какая модель покажет себя лучше остальных."
   ]
  },
  {
   "cell_type": "markdown",
   "metadata": {},
   "source": [
    "### Логистическая регрессия (LogisticRegression)"
   ]
  },
  {
   "cell_type": "code",
   "execution_count": 22,
   "metadata": {},
   "outputs": [
    {
     "name": "stdout",
     "output_type": "stream",
     "text": [
      "Качество: 0.6982892690513219\n"
     ]
    }
   ],
   "source": [
    "# Так как датасет маленький, выбираем solver='liblinear'\n",
    "model_logistic = LogisticRegression(solver='liblinear', random_state=777)\n",
    "model_logistic.fit(features_train, target_train)\n",
    "result_logistic = model_logistic.score(features_valid, target_valid)\n",
    "\n",
    "print('Качество:', result_logistic)"
   ]
  },
  {
   "cell_type": "markdown",
   "metadata": {},
   "source": [
    "### Решающее дерево (DecisionTreeClassifier)"
   ]
  },
  {
   "cell_type": "code",
   "execution_count": 23,
   "metadata": {},
   "outputs": [
    {
     "name": "stdout",
     "output_type": "stream",
     "text": [
      "Глубина дерева: 9\n",
      "Качество: 0.7869362363919129\n"
     ]
    }
   ],
   "source": [
    "best_accuracy = 0\n",
    "best_depth = 0\n",
    "for depth in range(1,15):\n",
    "    model = DecisionTreeClassifier(max_depth=depth, random_state=777)\n",
    "    model.fit(features_train, target_train)\n",
    "    accuracy = model.score(features_valid, target_valid)\n",
    "    if accuracy > best_accuracy:\n",
    "        best_accuracy = accuracy\n",
    "        best_depth = depth\n",
    "        \n",
    "print(\"Глубина дерева:\", best_depth)\n",
    "print(\"Качество:\", best_accuracy)"
   ]
  },
  {
   "cell_type": "markdown",
   "metadata": {},
   "source": [
    "### Случайный лес (RandomForestClassifier)"
   ]
  },
  {
   "cell_type": "code",
   "execution_count": 24,
   "metadata": {},
   "outputs": [
    {
     "name": "stdout",
     "output_type": "stream",
     "text": [
      "Глубина дерева: 8\n",
      "Количество деревьев: 40\n",
      "Минимум объектов в узле: 2\n",
      "Качество: 0.8118195956454122\n"
     ]
    }
   ],
   "source": [
    "best_accuracy = 0\n",
    "best_depth = 0\n",
    "for depth in range(1,10):\n",
    "    for est in range(5,45,5):\n",
    "        for sample in range(2,5):\n",
    "            model = RandomForestClassifier(max_depth=depth, n_estimators=est, min_samples_leaf=sample, random_state=777)\n",
    "            model.fit(features_train, target_train)\n",
    "            accuracy = model.score(features_valid, target_valid)\n",
    "            if accuracy > best_accuracy:\n",
    "                best_accuracy = accuracy\n",
    "                best_depth = depth\n",
    "                best_est = est\n",
    "                best_sample = sample\n",
    "                \n",
    "print(\"Глубина дерева:\", best_depth)\n",
    "print(\"Количество деревьев:\", best_est)\n",
    "print(\"Минимум объектов в узле:\", best_sample)\n",
    "print(\"Качество:\", best_accuracy)"
   ]
  },
  {
   "cell_type": "markdown",
   "metadata": {},
   "source": [
    "**Вывод**\n",
    "Обучая три разные модели были полученны лучшие метрики качества для каждой из них. Лучшее качество 0.8118195956454122 показала модель Случайный лес. Обучается модель дольше остальных, но так как у нас датасет небольшой, то это для нас не критично. Второе место по качеству заняла модель Решающее дерево - 0.7869362363919129. И худшее качество показала модель Логистическая регрессия - 0.6982892690513219. Лишь две модели из трех прошли минимальный требуемый порог в 0,75 на тренировочных данных."
   ]
  },
  {
   "cell_type": "markdown",
   "metadata": {},
   "source": [
    "## Проверим модель на тестовой выборке"
   ]
  },
  {
   "cell_type": "markdown",
   "metadata": {},
   "source": [
    "Проверим лучшую выбранную модель на тестовой выборке"
   ]
  },
  {
   "cell_type": "code",
   "execution_count": 25,
   "metadata": {},
   "outputs": [
    {
     "name": "stdout",
     "output_type": "stream",
     "text": [
      "Качество: 0.8211508553654744\n",
      "Максимальная глубина дерева: 9\n",
      "Количество деревьев в лесу: 5\n",
      "Минимальное количество выборок, необходимых для конечного узла: 2\n"
     ]
    }
   ],
   "source": [
    "# Случайный лес\n",
    "best_accuracy_rf = 0\n",
    "best_depth = 0\n",
    "for depth in range(1,10):\n",
    "    for est in range(5,45,5):\n",
    "        for sample in range(2,5):\n",
    "            model = RandomForestClassifier(max_depth=depth, n_estimators=est, min_samples_leaf=sample, random_state=777)\n",
    "            model.fit(features_train, target_train)\n",
    "            accuracy = model.score(features_test, target_test)\n",
    "            if accuracy > best_accuracy_rf:\n",
    "                best_accuracy_rf = accuracy\n",
    "                best_depth = depth\n",
    "                best_est = est\n",
    "                best_sample = sample\n",
    "\n",
    "print(\"Качество:\", best_accuracy_rf)\n",
    "print(\"Максимальная глубина дерева:\", best_depth)\n",
    "print(\"Количество деревьев в лесу:\", best_est)\n",
    "print(\"Минимальное количество выборок, необходимых для конечного узла:\", best_sample)"
   ]
  },
  {
   "cell_type": "markdown",
   "metadata": {},
   "source": [
    "**Вывод**\n",
    "\n",
    "На тестовой выборке Случайный лес показал себя немного лучше, чем на тренировочной - качество: 0.8211508553654744, а на тренировочной было 0.8118195956454122. Однако так или иначе мы превысили по качеству требуемый порог в 0,75."
   ]
  },
  {
   "cell_type": "markdown",
   "metadata": {},
   "source": [
    "## (бонус) Проверим модели на адекватность"
   ]
  },
  {
   "cell_type": "markdown",
   "metadata": {},
   "source": [
    "Для проверки наших 3-х моделей сравним их со стандартной готовым классификатором для обучения DummyClassifier. Эта простейшая модель которую можно построить в начале работы, она предсказывает наиболее часто встречающийся класс. Так мы получим контрольные данные для сравнительной оценки построенной нами более сложной модели. Используем три разные стратегии генерации прогнозов:\n",
    "\n",
    "1) “most_frequent”: predict метод всегда возвращает наиболее часто используемую метку класса в наблюдаемом параметре y аргумент, переданный в fit. Метод predict_proba возвращает соответствующий вектор в кодировке one-hot.\n",
    "\n",
    "2) “stratified”: predict_proba метод случайным образом выбирает однозначные векторы из полиномиального распределения, параметризованного эмпирическим классом априорных вероятностей. predictМетод возвращает метку класса, которая получила вероятность один в однократном векторе из predict_proba. Следовательно, каждая строка выборки обоих методов независима и распределена одинаково.\n",
    "\n",
    "3) “uniform”: генерирует случайным образом однородные прогнозы из списка уникальных классов, наблюдаемых в y, т. е. каждый класс имеет равную вероятность."
   ]
  },
  {
   "cell_type": "code",
   "execution_count": 26,
   "metadata": {},
   "outputs": [
    {
     "name": "stdout",
     "output_type": "stream",
     "text": [
      "Лучшая стратегия : most_frequent\n",
      "Качество наивного прогноза : 0.6936236391912908\n",
      "Качество нашего прогноза : 0.8211508553654744\n"
     ]
    }
   ],
   "source": [
    "best_accuracy = 0\n",
    "best_depth = 0\n",
    "best_startegy = None\n",
    "\n",
    "for strategy in ['most_frequent', 'uniform', 'stratified']:\n",
    "    model = DummyClassifier(strategy=strategy, random_state=777)\n",
    "    model.fit(features_train, target_train)\n",
    "    naive_accuracy = model.score(features_test, target_test)\n",
    "    if naive_accuracy > best_accuracy:\n",
    "        best_accuracy = naive_accuracy\n",
    "        best_depth = depth\n",
    "        best_startegy = strategy\n",
    "        \n",
    "print(\"Лучшая стратегия :\", best_startegy)        \n",
    "print(\"Качество наивного прогноза :\", best_accuracy)\n",
    "print(\"Качество нашего прогноза :\", best_accuracy_rf)"
   ]
  },
  {
   "cell_type": "markdown",
   "metadata": {},
   "source": [
    "**Вывод**\n",
    "\n",
    "Мы видим что доля правильных ответов моделей выше, чем у нашего наивного предположения, считаем все модели адекватными. А если сравнивать лишь с выбранной моделью Случайных лес, то каждая стратегия генерации прогноза показала гораздо худший результат качества на наивном предположении, чем качество нашего прогноза, равное 0.8211508553654744. Соответственно, делаем вывод, что наша модель адекватна."
   ]
  },
  {
   "cell_type": "markdown",
   "metadata": {},
   "source": [
    "## Общий вывод"
   ]
  },
  {
   "cell_type": "markdown",
   "metadata": {},
   "source": [
    "В подготовленном датасете с данными о поведении клиентов, которые уже перешли на тарифы Смарт и Ультра, наша задача состояла в том, чтобы построить модель (классификации), которая выберет подходящий тариф с максимально большим значением accuracy (больше 0.75). Данные уже были подготовлены, поэтому с ними мы ничего не делали.\n",
    "\n",
    "В первом же пункте нашего исследования мы увидели, что присутствует дисбаланс классов. Но с ним мы ничего не делаем.\n",
    "\n",
    "Во втором пункте нашего исследования мы разбили наш датасет на выборки:\n",
    "- features_train - на которой мы обучали нашу модель\n",
    "- target_train - на которой мы проверяли нашу модель (валидационная выборка)\n",
    "- features_valid - целевой признак обучающей выборки (на нем мы также обучали нашу модель)\n",
    "- target_valid - целевой признак валидационной выборки\n",
    "- features_test - фичи тестовой модели, которые мы передавали нашей обученной модели (с уже настроенными гиперпараметрами)\n",
    "- target_test - целевой признак тестовой выборки (для проверки параметра accuracy)\n",
    "\n",
    "У нас получились данные для обучения, валидационная выборка и тестовая выборка.\n",
    "\n",
    "В третьем и четвертом пункте мы иссоедовали модели на тренировочных и тестовых данных. Были проверены три модели: логистическая регрессия, случайный лес, деревья решений. Наилучшее качество (0.8211508553654744) достигается при использовании RandomForest (Случайный лес) с параметрками:\n",
    "- Максимальная глубина дерева: 9\n",
    "- Количество деревьев в лесу: 5\n",
    "- Минимальное количество выборок, необходимых для конечного узла: 2\n",
    "\n",
    "Хотя эта модель работает дольше всего, выбрали её из-за точности и благодаря тому, что датасет небольшой и время его работы для нас в данном случае не критично.\n",
    "\n",
    "Качество модели \"Решающее дерево\" - наилучшее \"accuracy\" на валидационной выборке = 0.7869362363919129\n",
    "\n",
    "Качество модели \"Логистическая регрессия\" - наилучшее \"accuracy\" на валидационной выборке = = 0.6982892690513219 (самое низкое качество из всех трёх моделей, хотя она и самая быстрая)\n",
    "\n",
    "Проверка модели на адекватность в пятом пункте нашего исследования показала, что качество наивного прогноза (DummyClassifier) гораздо хуже (0.6936236391912908) даже на лучшей стратегии most_frequent, чем качество любой из наших моделей и особенно Случайного леса. Соответственно, делаем вывод, что наша модель адекватна."
   ]
  }
 ],
 "metadata": {
  "ExecuteTimeLog": [
   {
    "duration": 1122,
    "start_time": "2024-01-16T08:10:32.364Z"
   },
   {
    "duration": 178,
    "start_time": "2024-01-16T08:10:33.488Z"
   },
   {
    "duration": 0,
    "start_time": "2024-01-16T08:10:33.670Z"
   },
   {
    "duration": 0,
    "start_time": "2024-01-16T08:10:33.671Z"
   },
   {
    "duration": 0,
    "start_time": "2024-01-16T08:10:33.672Z"
   },
   {
    "duration": 0,
    "start_time": "2024-01-16T08:10:33.673Z"
   },
   {
    "duration": 0,
    "start_time": "2024-01-16T08:10:33.674Z"
   },
   {
    "duration": 0,
    "start_time": "2024-01-16T08:10:33.676Z"
   },
   {
    "duration": 0,
    "start_time": "2024-01-16T08:10:33.677Z"
   },
   {
    "duration": 0,
    "start_time": "2024-01-16T08:10:33.678Z"
   },
   {
    "duration": 0,
    "start_time": "2024-01-16T08:10:33.679Z"
   },
   {
    "duration": 0,
    "start_time": "2024-01-16T08:10:33.680Z"
   },
   {
    "duration": 0,
    "start_time": "2024-01-16T08:10:33.681Z"
   },
   {
    "duration": 1360,
    "start_time": "2024-01-16T08:11:08.234Z"
   },
   {
    "duration": 104,
    "start_time": "2024-01-16T08:11:09.595Z"
   },
   {
    "duration": 15,
    "start_time": "2024-01-16T08:11:09.701Z"
   },
   {
    "duration": 10,
    "start_time": "2024-01-16T08:11:09.719Z"
   },
   {
    "duration": 23,
    "start_time": "2024-01-16T08:11:09.731Z"
   },
   {
    "duration": 4,
    "start_time": "2024-01-16T08:11:09.755Z"
   },
   {
    "duration": 9,
    "start_time": "2024-01-16T08:11:09.761Z"
   },
   {
    "duration": 5,
    "start_time": "2024-01-16T08:11:09.772Z"
   },
   {
    "duration": 115,
    "start_time": "2024-01-16T08:11:09.779Z"
   },
   {
    "duration": 0,
    "start_time": "2024-01-16T08:11:09.896Z"
   },
   {
    "duration": 0,
    "start_time": "2024-01-16T08:11:09.897Z"
   },
   {
    "duration": 0,
    "start_time": "2024-01-16T08:11:09.898Z"
   },
   {
    "duration": 0,
    "start_time": "2024-01-16T08:11:09.899Z"
   },
   {
    "duration": 1068,
    "start_time": "2024-01-16T08:14:15.384Z"
   },
   {
    "duration": 75,
    "start_time": "2024-01-16T08:14:16.453Z"
   },
   {
    "duration": 16,
    "start_time": "2024-01-16T08:14:16.529Z"
   },
   {
    "duration": 18,
    "start_time": "2024-01-16T08:14:16.547Z"
   },
   {
    "duration": 25,
    "start_time": "2024-01-16T08:14:16.566Z"
   },
   {
    "duration": 3,
    "start_time": "2024-01-16T08:14:16.592Z"
   },
   {
    "duration": 16,
    "start_time": "2024-01-16T08:14:16.596Z"
   },
   {
    "duration": 6,
    "start_time": "2024-01-16T08:14:16.614Z"
   },
   {
    "duration": 5,
    "start_time": "2024-01-16T08:14:16.621Z"
   },
   {
    "duration": 10,
    "start_time": "2024-01-16T08:14:16.628Z"
   },
   {
    "duration": 1853,
    "start_time": "2024-01-16T08:14:16.639Z"
   },
   {
    "duration": 0,
    "start_time": "2024-01-16T08:14:18.494Z"
   },
   {
    "duration": 0,
    "start_time": "2024-01-16T08:14:18.495Z"
   },
   {
    "duration": 1341,
    "start_time": "2024-01-16T08:16:39.361Z"
   },
   {
    "duration": 72,
    "start_time": "2024-01-16T08:16:40.704Z"
   },
   {
    "duration": 11,
    "start_time": "2024-01-16T08:16:40.778Z"
   },
   {
    "duration": 37,
    "start_time": "2024-01-16T08:16:40.791Z"
   },
   {
    "duration": 44,
    "start_time": "2024-01-16T08:16:40.830Z"
   },
   {
    "duration": 15,
    "start_time": "2024-01-16T08:16:40.875Z"
   },
   {
    "duration": 29,
    "start_time": "2024-01-16T08:16:40.892Z"
   },
   {
    "duration": 15,
    "start_time": "2024-01-16T08:16:40.923Z"
   },
   {
    "duration": 40,
    "start_time": "2024-01-16T08:16:40.939Z"
   },
   {
    "duration": 30,
    "start_time": "2024-01-16T08:16:40.981Z"
   },
   {
    "duration": 1391,
    "start_time": "2024-01-16T08:16:41.013Z"
   },
   {
    "duration": 102,
    "start_time": "2024-01-16T08:16:42.406Z"
   },
   {
    "duration": 0,
    "start_time": "2024-01-16T08:16:42.510Z"
   },
   {
    "duration": 1349,
    "start_time": "2024-01-16T08:32:37.763Z"
   },
   {
    "duration": 73,
    "start_time": "2024-01-16T08:32:39.114Z"
   },
   {
    "duration": 12,
    "start_time": "2024-01-16T08:32:39.188Z"
   },
   {
    "duration": 11,
    "start_time": "2024-01-16T08:32:39.201Z"
   },
   {
    "duration": 27,
    "start_time": "2024-01-16T08:32:39.214Z"
   },
   {
    "duration": 3,
    "start_time": "2024-01-16T08:32:39.242Z"
   },
   {
    "duration": 20,
    "start_time": "2024-01-16T08:32:39.246Z"
   },
   {
    "duration": 6,
    "start_time": "2024-01-16T08:32:39.267Z"
   },
   {
    "duration": 19,
    "start_time": "2024-01-16T08:32:39.274Z"
   },
   {
    "duration": 11,
    "start_time": "2024-01-16T08:32:39.294Z"
   },
   {
    "duration": 1382,
    "start_time": "2024-01-16T08:32:39.306Z"
   },
   {
    "duration": 4,
    "start_time": "2024-01-16T08:32:40.690Z"
   },
   {
    "duration": 6,
    "start_time": "2024-01-16T08:32:40.695Z"
   },
   {
    "duration": 1375,
    "start_time": "2024-01-16T08:32:54.689Z"
   },
   {
    "duration": 78,
    "start_time": "2024-01-16T08:32:56.066Z"
   },
   {
    "duration": 13,
    "start_time": "2024-01-16T08:32:56.145Z"
   },
   {
    "duration": 41,
    "start_time": "2024-01-16T08:32:56.160Z"
   },
   {
    "duration": 28,
    "start_time": "2024-01-16T08:32:56.202Z"
   },
   {
    "duration": 17,
    "start_time": "2024-01-16T08:32:56.231Z"
   },
   {
    "duration": 43,
    "start_time": "2024-01-16T08:32:56.250Z"
   },
   {
    "duration": 8,
    "start_time": "2024-01-16T08:32:56.295Z"
   },
   {
    "duration": 20,
    "start_time": "2024-01-16T08:32:56.305Z"
   },
   {
    "duration": 21,
    "start_time": "2024-01-16T08:32:56.327Z"
   },
   {
    "duration": 1502,
    "start_time": "2024-01-16T08:32:56.350Z"
   },
   {
    "duration": 0,
    "start_time": "2024-01-16T08:32:57.854Z"
   },
   {
    "duration": 0,
    "start_time": "2024-01-16T08:32:57.855Z"
   },
   {
    "duration": 1359,
    "start_time": "2024-01-16T08:33:18.958Z"
   },
   {
    "duration": 74,
    "start_time": "2024-01-16T08:33:20.318Z"
   },
   {
    "duration": 12,
    "start_time": "2024-01-16T08:33:20.394Z"
   },
   {
    "duration": 20,
    "start_time": "2024-01-16T08:33:20.408Z"
   },
   {
    "duration": 21,
    "start_time": "2024-01-16T08:33:20.430Z"
   },
   {
    "duration": 3,
    "start_time": "2024-01-16T08:33:20.453Z"
   },
   {
    "duration": 13,
    "start_time": "2024-01-16T08:33:20.458Z"
   },
   {
    "duration": 8,
    "start_time": "2024-01-16T08:33:20.472Z"
   },
   {
    "duration": 5,
    "start_time": "2024-01-16T08:33:20.481Z"
   },
   {
    "duration": 12,
    "start_time": "2024-01-16T08:33:20.488Z"
   },
   {
    "duration": 1451,
    "start_time": "2024-01-16T08:33:20.501Z"
   },
   {
    "duration": 5,
    "start_time": "2024-01-16T08:33:21.954Z"
   },
   {
    "duration": 7,
    "start_time": "2024-01-16T08:33:21.960Z"
   },
   {
    "duration": 1314,
    "start_time": "2024-01-16T12:55:49.665Z"
   },
   {
    "duration": 73,
    "start_time": "2024-01-16T12:55:50.981Z"
   },
   {
    "duration": 14,
    "start_time": "2024-01-16T12:55:51.055Z"
   },
   {
    "duration": 17,
    "start_time": "2024-01-16T12:55:51.070Z"
   },
   {
    "duration": 23,
    "start_time": "2024-01-16T12:55:51.090Z"
   },
   {
    "duration": 3,
    "start_time": "2024-01-16T12:55:51.115Z"
   },
   {
    "duration": 8,
    "start_time": "2024-01-16T12:55:51.120Z"
   },
   {
    "duration": 6,
    "start_time": "2024-01-16T12:55:51.129Z"
   },
   {
    "duration": 5,
    "start_time": "2024-01-16T12:55:51.156Z"
   },
   {
    "duration": 13,
    "start_time": "2024-01-16T12:55:51.162Z"
   },
   {
    "duration": 1427,
    "start_time": "2024-01-16T12:55:51.177Z"
   },
   {
    "duration": 4,
    "start_time": "2024-01-16T12:55:52.606Z"
   },
   {
    "duration": 6,
    "start_time": "2024-01-16T12:55:52.611Z"
   },
   {
    "duration": 102,
    "start_time": "2024-01-16T12:55:52.619Z"
   },
   {
    "duration": 0,
    "start_time": "2024-01-16T12:55:52.722Z"
   },
   {
    "duration": 0,
    "start_time": "2024-01-16T12:55:52.723Z"
   },
   {
    "duration": 1368,
    "start_time": "2024-01-16T12:56:11.526Z"
   },
   {
    "duration": 75,
    "start_time": "2024-01-16T12:56:12.896Z"
   },
   {
    "duration": 13,
    "start_time": "2024-01-16T12:56:12.972Z"
   },
   {
    "duration": 10,
    "start_time": "2024-01-16T12:56:12.987Z"
   },
   {
    "duration": 44,
    "start_time": "2024-01-16T12:56:12.998Z"
   },
   {
    "duration": 3,
    "start_time": "2024-01-16T12:56:13.043Z"
   },
   {
    "duration": 26,
    "start_time": "2024-01-16T12:56:13.047Z"
   },
   {
    "duration": 5,
    "start_time": "2024-01-16T12:56:13.075Z"
   },
   {
    "duration": 9,
    "start_time": "2024-01-16T12:56:13.081Z"
   },
   {
    "duration": 11,
    "start_time": "2024-01-16T12:56:13.092Z"
   },
   {
    "duration": 1412,
    "start_time": "2024-01-16T12:56:13.104Z"
   },
   {
    "duration": 4,
    "start_time": "2024-01-16T12:56:14.518Z"
   },
   {
    "duration": 14,
    "start_time": "2024-01-16T12:56:14.523Z"
   },
   {
    "duration": 14,
    "start_time": "2024-01-16T12:56:14.539Z"
   },
   {
    "duration": 105,
    "start_time": "2024-01-16T12:56:14.555Z"
   },
   {
    "duration": 0,
    "start_time": "2024-01-16T12:56:14.662Z"
   },
   {
    "duration": 1357,
    "start_time": "2024-01-16T12:56:43.920Z"
   },
   {
    "duration": 77,
    "start_time": "2024-01-16T12:56:45.278Z"
   },
   {
    "duration": 13,
    "start_time": "2024-01-16T12:56:45.356Z"
   },
   {
    "duration": 13,
    "start_time": "2024-01-16T12:56:45.370Z"
   },
   {
    "duration": 23,
    "start_time": "2024-01-16T12:56:45.385Z"
   },
   {
    "duration": 3,
    "start_time": "2024-01-16T12:56:45.409Z"
   },
   {
    "duration": 12,
    "start_time": "2024-01-16T12:56:45.414Z"
   },
   {
    "duration": 10,
    "start_time": "2024-01-16T12:56:45.428Z"
   },
   {
    "duration": 7,
    "start_time": "2024-01-16T12:56:45.456Z"
   },
   {
    "duration": 24,
    "start_time": "2024-01-16T12:56:45.464Z"
   },
   {
    "duration": 1374,
    "start_time": "2024-01-16T12:56:45.490Z"
   },
   {
    "duration": 4,
    "start_time": "2024-01-16T12:56:46.866Z"
   },
   {
    "duration": 21,
    "start_time": "2024-01-16T12:56:46.871Z"
   },
   {
    "duration": 6,
    "start_time": "2024-01-16T12:56:46.895Z"
   },
   {
    "duration": 16,
    "start_time": "2024-01-16T12:56:46.902Z"
   },
   {
    "duration": 121,
    "start_time": "2024-01-16T12:56:46.920Z"
   },
   {
    "duration": 1316,
    "start_time": "2024-01-16T12:57:39.106Z"
   },
   {
    "duration": 83,
    "start_time": "2024-01-16T12:57:40.424Z"
   },
   {
    "duration": 13,
    "start_time": "2024-01-16T12:57:40.508Z"
   },
   {
    "duration": 11,
    "start_time": "2024-01-16T12:57:40.523Z"
   },
   {
    "duration": 23,
    "start_time": "2024-01-16T12:57:40.535Z"
   },
   {
    "duration": 8,
    "start_time": "2024-01-16T12:57:40.559Z"
   },
   {
    "duration": 8,
    "start_time": "2024-01-16T12:57:40.569Z"
   },
   {
    "duration": 6,
    "start_time": "2024-01-16T12:57:40.578Z"
   },
   {
    "duration": 4,
    "start_time": "2024-01-16T12:57:40.586Z"
   },
   {
    "duration": 32,
    "start_time": "2024-01-16T12:57:40.592Z"
   },
   {
    "duration": 1403,
    "start_time": "2024-01-16T12:57:40.625Z"
   },
   {
    "duration": 5,
    "start_time": "2024-01-16T12:57:42.031Z"
   },
   {
    "duration": 5,
    "start_time": "2024-01-16T12:57:42.038Z"
   },
   {
    "duration": 11,
    "start_time": "2024-01-16T12:57:42.044Z"
   },
   {
    "duration": 7,
    "start_time": "2024-01-16T12:57:42.056Z"
   },
   {
    "duration": 115,
    "start_time": "2024-01-16T12:57:42.065Z"
   },
   {
    "duration": 1391,
    "start_time": "2024-01-16T12:58:19.976Z"
   },
   {
    "duration": 75,
    "start_time": "2024-01-16T12:58:21.368Z"
   },
   {
    "duration": 14,
    "start_time": "2024-01-16T12:58:21.444Z"
   },
   {
    "duration": 17,
    "start_time": "2024-01-16T12:58:21.460Z"
   },
   {
    "duration": 43,
    "start_time": "2024-01-16T12:58:21.480Z"
   },
   {
    "duration": 4,
    "start_time": "2024-01-16T12:58:21.524Z"
   },
   {
    "duration": 26,
    "start_time": "2024-01-16T12:58:21.529Z"
   },
   {
    "duration": 22,
    "start_time": "2024-01-16T12:58:21.557Z"
   },
   {
    "duration": 24,
    "start_time": "2024-01-16T12:58:21.580Z"
   },
   {
    "duration": 31,
    "start_time": "2024-01-16T12:58:21.605Z"
   },
   {
    "duration": 1403,
    "start_time": "2024-01-16T12:58:21.637Z"
   },
   {
    "duration": 4,
    "start_time": "2024-01-16T12:58:23.041Z"
   },
   {
    "duration": 12,
    "start_time": "2024-01-16T12:58:23.047Z"
   },
   {
    "duration": 25,
    "start_time": "2024-01-16T12:58:23.061Z"
   },
   {
    "duration": 12,
    "start_time": "2024-01-16T12:58:23.089Z"
   },
   {
    "duration": 5,
    "start_time": "2024-01-16T12:58:23.103Z"
   },
   {
    "duration": 6,
    "start_time": "2024-01-16T13:08:33.276Z"
   },
   {
    "duration": 7,
    "start_time": "2024-01-16T13:08:34.052Z"
   },
   {
    "duration": 6,
    "start_time": "2024-01-16T13:12:26.948Z"
   },
   {
    "duration": 6,
    "start_time": "2024-01-16T13:12:27.723Z"
   },
   {
    "duration": 4,
    "start_time": "2024-01-16T13:12:27.924Z"
   },
   {
    "duration": 4,
    "start_time": "2024-01-16T13:12:28.708Z"
   },
   {
    "duration": 4,
    "start_time": "2024-01-16T13:12:29.429Z"
   },
   {
    "duration": 4,
    "start_time": "2024-01-16T13:12:50.276Z"
   },
   {
    "duration": 3,
    "start_time": "2024-01-16T13:12:50.925Z"
   },
   {
    "duration": 5,
    "start_time": "2024-01-16T13:14:09.934Z"
   },
   {
    "duration": 7,
    "start_time": "2024-01-16T13:14:10.341Z"
   },
   {
    "duration": 4,
    "start_time": "2024-01-16T13:14:11.309Z"
   },
   {
    "duration": 3,
    "start_time": "2024-01-16T13:14:12.653Z"
   },
   {
    "duration": 125,
    "start_time": "2024-01-16T13:14:13.269Z"
   },
   {
    "duration": 4,
    "start_time": "2024-01-16T13:14:13.733Z"
   },
   {
    "duration": 4,
    "start_time": "2024-01-16T13:14:15.780Z"
   },
   {
    "duration": 4,
    "start_time": "2024-01-16T13:14:16.887Z"
   },
   {
    "duration": 4,
    "start_time": "2024-01-16T13:14:17.437Z"
   },
   {
    "duration": 3,
    "start_time": "2024-01-16T13:50:19.940Z"
   },
   {
    "duration": 13,
    "start_time": "2024-01-16T14:03:00.247Z"
   },
   {
    "duration": 105,
    "start_time": "2024-01-16T14:03:02.126Z"
   },
   {
    "duration": 11467,
    "start_time": "2024-01-16T14:03:06.262Z"
   },
   {
    "duration": 13,
    "start_time": "2024-01-16T14:06:49.711Z"
   },
   {
    "duration": 106,
    "start_time": "2024-01-16T14:06:51.904Z"
   },
   {
    "duration": 11374,
    "start_time": "2024-01-16T14:06:56.871Z"
   },
   {
    "duration": 13,
    "start_time": "2024-01-16T14:33:23.670Z"
   },
   {
    "duration": 99,
    "start_time": "2024-01-16T14:33:25.125Z"
   },
   {
    "duration": 11374,
    "start_time": "2024-01-16T14:33:26.348Z"
   },
   {
    "duration": 13,
    "start_time": "2024-01-16T14:34:16.301Z"
   },
   {
    "duration": 28,
    "start_time": "2024-01-16T14:38:48.644Z"
   },
   {
    "duration": 100,
    "start_time": "2024-01-16T14:38:57.942Z"
   },
   {
    "duration": 205,
    "start_time": "2024-01-16T14:39:06.460Z"
   },
   {
    "duration": 313,
    "start_time": "2024-01-16T14:39:11.216Z"
   },
   {
    "duration": 100,
    "start_time": "2024-01-16T14:39:16.540Z"
   },
   {
    "duration": 2,
    "start_time": "2024-01-16T14:45:34.548Z"
   },
   {
    "duration": 14,
    "start_time": "2024-01-16T14:45:35.435Z"
   },
   {
    "duration": 100,
    "start_time": "2024-01-16T14:45:36.340Z"
   },
   {
    "duration": 11349,
    "start_time": "2024-01-16T14:45:37.907Z"
   },
   {
    "duration": 117,
    "start_time": "2024-01-16T14:45:49.258Z"
   },
   {
    "duration": 1669,
    "start_time": "2024-01-17T06:12:06.724Z"
   },
   {
    "duration": 149,
    "start_time": "2024-01-17T06:12:08.395Z"
   },
   {
    "duration": 16,
    "start_time": "2024-01-17T06:12:08.546Z"
   },
   {
    "duration": 16,
    "start_time": "2024-01-17T06:12:08.564Z"
   },
   {
    "duration": 32,
    "start_time": "2024-01-17T06:12:08.583Z"
   },
   {
    "duration": 4,
    "start_time": "2024-01-17T06:12:08.617Z"
   },
   {
    "duration": 55,
    "start_time": "2024-01-17T06:12:08.623Z"
   },
   {
    "duration": 13,
    "start_time": "2024-01-17T06:12:08.679Z"
   },
   {
    "duration": 6,
    "start_time": "2024-01-17T06:12:08.694Z"
   },
   {
    "duration": 14,
    "start_time": "2024-01-17T06:12:08.702Z"
   },
   {
    "duration": 1601,
    "start_time": "2024-01-17T06:12:08.718Z"
   },
   {
    "duration": 6,
    "start_time": "2024-01-17T06:12:10.321Z"
   },
   {
    "duration": 6,
    "start_time": "2024-01-17T06:12:10.329Z"
   },
   {
    "duration": 4,
    "start_time": "2024-01-17T06:12:10.358Z"
   },
   {
    "duration": 12,
    "start_time": "2024-01-17T06:12:10.364Z"
   },
   {
    "duration": 5,
    "start_time": "2024-01-17T06:12:10.378Z"
   },
   {
    "duration": 9,
    "start_time": "2024-01-17T06:12:10.384Z"
   },
   {
    "duration": 4,
    "start_time": "2024-01-17T06:12:10.395Z"
   },
   {
    "duration": 8,
    "start_time": "2024-01-17T06:12:10.401Z"
   },
   {
    "duration": 38,
    "start_time": "2024-01-17T06:12:10.411Z"
   },
   {
    "duration": 119,
    "start_time": "2024-01-17T06:12:10.451Z"
   },
   {
    "duration": 13247,
    "start_time": "2024-01-17T06:12:10.572Z"
   },
   {
    "duration": 42,
    "start_time": "2024-01-17T06:12:23.821Z"
   },
   {
    "duration": 14,
    "start_time": "2024-01-17T06:12:23.865Z"
   },
   {
    "duration": 142,
    "start_time": "2024-01-17T06:12:23.881Z"
   },
   {
    "duration": 59,
    "start_time": "2024-01-17T06:13:46.952Z"
   },
   {
    "duration": 20,
    "start_time": "2024-01-17T06:13:47.490Z"
   },
   {
    "duration": 155,
    "start_time": "2024-01-17T06:13:47.994Z"
   },
   {
    "duration": 173,
    "start_time": "2024-01-17T06:17:40.032Z"
   },
   {
    "duration": 175,
    "start_time": "2024-01-17T06:17:54.440Z"
   },
   {
    "duration": 172,
    "start_time": "2024-01-17T06:18:06.000Z"
   },
   {
    "duration": 151,
    "start_time": "2024-01-17T06:18:12.632Z"
   },
   {
    "duration": 109,
    "start_time": "2024-01-17T06:18:29.016Z"
   },
   {
    "duration": 165,
    "start_time": "2024-01-17T06:18:35.952Z"
   },
   {
    "duration": 77,
    "start_time": "2024-01-17T06:18:42.432Z"
   },
   {
    "duration": 113,
    "start_time": "2024-01-17T06:18:48.408Z"
   },
   {
    "duration": 15,
    "start_time": "2024-01-17T06:18:58.320Z"
   },
   {
    "duration": 17,
    "start_time": "2024-01-17T06:19:04.324Z"
   },
   {
    "duration": 16,
    "start_time": "2024-01-17T06:19:10.504Z"
   },
   {
    "duration": 15,
    "start_time": "2024-01-17T06:19:27.833Z"
   },
   {
    "duration": 15,
    "start_time": "2024-01-17T06:19:32.568Z"
   },
   {
    "duration": 15,
    "start_time": "2024-01-17T06:19:39.312Z"
   },
   {
    "duration": 14,
    "start_time": "2024-01-17T06:19:44.624Z"
   },
   {
    "duration": 18,
    "start_time": "2024-01-17T06:19:50.256Z"
   },
   {
    "duration": 17,
    "start_time": "2024-01-17T06:19:55.144Z"
   },
   {
    "duration": 15,
    "start_time": "2024-01-17T06:20:01.157Z"
   },
   {
    "duration": 16,
    "start_time": "2024-01-17T06:20:21.104Z"
   },
   {
    "duration": 35,
    "start_time": "2024-01-17T06:20:25.721Z"
   },
   {
    "duration": 16,
    "start_time": "2024-01-17T06:20:30.721Z"
   },
   {
    "duration": 110,
    "start_time": "2024-01-17T06:20:41.724Z"
   },
   {
    "duration": 111,
    "start_time": "2024-01-17T06:20:46.793Z"
   },
   {
    "duration": 114,
    "start_time": "2024-01-17T06:20:50.873Z"
   },
   {
    "duration": 111,
    "start_time": "2024-01-17T06:20:58.962Z"
   },
   {
    "duration": 112,
    "start_time": "2024-01-17T06:21:03.634Z"
   },
   {
    "duration": 6,
    "start_time": "2024-01-17T06:34:24.016Z"
   },
   {
    "duration": 8,
    "start_time": "2024-01-17T06:37:22.346Z"
   },
   {
    "duration": 8,
    "start_time": "2024-01-17T06:37:25.163Z"
   },
   {
    "duration": 6,
    "start_time": "2024-01-17T06:37:26.465Z"
   },
   {
    "duration": 1486,
    "start_time": "2024-01-17T07:11:23.019Z"
   },
   {
    "duration": 72,
    "start_time": "2024-01-17T07:11:24.507Z"
   },
   {
    "duration": 14,
    "start_time": "2024-01-17T07:11:24.580Z"
   },
   {
    "duration": 15,
    "start_time": "2024-01-17T07:11:24.596Z"
   },
   {
    "duration": 27,
    "start_time": "2024-01-17T07:11:24.613Z"
   },
   {
    "duration": 4,
    "start_time": "2024-01-17T07:11:24.642Z"
   },
   {
    "duration": 15,
    "start_time": "2024-01-17T07:11:24.658Z"
   },
   {
    "duration": 7,
    "start_time": "2024-01-17T07:11:24.676Z"
   },
   {
    "duration": 8,
    "start_time": "2024-01-17T07:11:24.685Z"
   },
   {
    "duration": 20,
    "start_time": "2024-01-17T07:11:24.695Z"
   },
   {
    "duration": 1742,
    "start_time": "2024-01-17T07:11:24.716Z"
   },
   {
    "duration": 8,
    "start_time": "2024-01-17T07:11:26.461Z"
   },
   {
    "duration": 7,
    "start_time": "2024-01-17T07:11:26.472Z"
   },
   {
    "duration": 4,
    "start_time": "2024-01-17T07:11:26.483Z"
   },
   {
    "duration": 5,
    "start_time": "2024-01-17T07:11:26.489Z"
   },
   {
    "duration": 5,
    "start_time": "2024-01-17T07:11:26.496Z"
   },
   {
    "duration": 8,
    "start_time": "2024-01-17T07:11:26.503Z"
   },
   {
    "duration": 47,
    "start_time": "2024-01-17T07:11:26.513Z"
   },
   {
    "duration": 7,
    "start_time": "2024-01-17T07:11:26.563Z"
   },
   {
    "duration": 15,
    "start_time": "2024-01-17T07:11:26.574Z"
   },
   {
    "duration": 140,
    "start_time": "2024-01-17T07:11:26.591Z"
   },
   {
    "duration": 13668,
    "start_time": "2024-01-17T07:11:26.733Z"
   },
   {
    "duration": 33,
    "start_time": "2024-01-17T07:11:40.403Z"
   },
   {
    "duration": 31,
    "start_time": "2024-01-17T07:11:40.437Z"
   },
   {
    "duration": 128,
    "start_time": "2024-01-17T07:11:40.471Z"
   },
   {
    "duration": 6,
    "start_time": "2024-01-17T07:11:40.601Z"
   },
   {
    "duration": 15,
    "start_time": "2024-01-17T07:11:40.609Z"
   },
   {
    "duration": 6,
    "start_time": "2024-01-17T07:11:40.626Z"
   },
   {
    "duration": 3408,
    "start_time": "2024-01-17T10:42:23.387Z"
   },
   {
    "duration": 129,
    "start_time": "2024-01-17T10:42:26.798Z"
   },
   {
    "duration": 21,
    "start_time": "2024-01-17T10:42:26.929Z"
   },
   {
    "duration": 17,
    "start_time": "2024-01-17T10:42:26.952Z"
   },
   {
    "duration": 33,
    "start_time": "2024-01-17T10:42:26.972Z"
   },
   {
    "duration": 6,
    "start_time": "2024-01-17T10:42:27.006Z"
   },
   {
    "duration": 25,
    "start_time": "2024-01-17T10:42:27.014Z"
   },
   {
    "duration": 20,
    "start_time": "2024-01-17T10:42:27.041Z"
   },
   {
    "duration": 22,
    "start_time": "2024-01-17T10:42:27.062Z"
   },
   {
    "duration": 13,
    "start_time": "2024-01-17T10:42:27.086Z"
   },
   {
    "duration": 2127,
    "start_time": "2024-01-17T10:42:27.100Z"
   },
   {
    "duration": 7,
    "start_time": "2024-01-17T10:42:29.229Z"
   },
   {
    "duration": 24,
    "start_time": "2024-01-17T10:42:29.238Z"
   },
   {
    "duration": 5,
    "start_time": "2024-01-17T10:42:29.265Z"
   },
   {
    "duration": 19,
    "start_time": "2024-01-17T10:42:29.271Z"
   },
   {
    "duration": 17,
    "start_time": "2024-01-17T10:42:29.292Z"
   },
   {
    "duration": 6,
    "start_time": "2024-01-17T10:42:29.311Z"
   },
   {
    "duration": 5,
    "start_time": "2024-01-17T10:42:29.319Z"
   },
   {
    "duration": 5,
    "start_time": "2024-01-17T10:42:29.326Z"
   },
   {
    "duration": 26,
    "start_time": "2024-01-17T10:42:29.333Z"
   },
   {
    "duration": 149,
    "start_time": "2024-01-17T10:42:29.361Z"
   },
   {
    "duration": 2875,
    "start_time": "2024-01-17T10:43:34.532Z"
   },
   {
    "duration": 45,
    "start_time": "2024-01-17T10:43:37.409Z"
   },
   {
    "duration": 16,
    "start_time": "2024-01-17T10:43:37.456Z"
   },
   {
    "duration": 16,
    "start_time": "2024-01-17T10:43:37.473Z"
   },
   {
    "duration": 27,
    "start_time": "2024-01-17T10:43:37.492Z"
   },
   {
    "duration": 4,
    "start_time": "2024-01-17T10:43:37.520Z"
   },
   {
    "duration": 39,
    "start_time": "2024-01-17T10:43:37.526Z"
   },
   {
    "duration": 9,
    "start_time": "2024-01-17T10:43:37.566Z"
   },
   {
    "duration": 10,
    "start_time": "2024-01-17T10:43:37.577Z"
   },
   {
    "duration": 16,
    "start_time": "2024-01-17T10:43:37.589Z"
   },
   {
    "duration": 2176,
    "start_time": "2024-01-17T10:43:37.606Z"
   },
   {
    "duration": 6,
    "start_time": "2024-01-17T10:43:39.784Z"
   },
   {
    "duration": 55,
    "start_time": "2024-01-17T10:43:39.792Z"
   },
   {
    "duration": 18,
    "start_time": "2024-01-17T10:43:39.850Z"
   },
   {
    "duration": 7,
    "start_time": "2024-01-17T10:43:39.870Z"
   },
   {
    "duration": 11,
    "start_time": "2024-01-17T10:43:39.878Z"
   },
   {
    "duration": 20,
    "start_time": "2024-01-17T10:43:39.891Z"
   },
   {
    "duration": 11,
    "start_time": "2024-01-17T10:43:39.912Z"
   },
   {
    "duration": 5,
    "start_time": "2024-01-17T10:43:39.925Z"
   },
   {
    "duration": 15,
    "start_time": "2024-01-17T10:43:39.931Z"
   },
   {
    "duration": 164,
    "start_time": "2024-01-17T10:43:39.948Z"
   },
   {
    "duration": 13404,
    "start_time": "2024-01-17T10:43:40.113Z"
   },
   {
    "duration": 241,
    "start_time": "2024-01-17T10:43:53.519Z"
   },
   {
    "duration": 110,
    "start_time": "2024-01-17T10:43:53.762Z"
   },
   {
    "duration": 128,
    "start_time": "2024-01-17T10:43:53.874Z"
   },
   {
    "duration": 6,
    "start_time": "2024-01-17T10:43:54.004Z"
   },
   {
    "duration": 9,
    "start_time": "2024-01-17T10:43:54.012Z"
   },
   {
    "duration": 5,
    "start_time": "2024-01-17T10:43:54.023Z"
   },
   {
    "duration": 1502,
    "start_time": "2024-01-17T10:51:40.448Z"
   },
   {
    "duration": 74,
    "start_time": "2024-01-17T10:51:41.952Z"
   },
   {
    "duration": 15,
    "start_time": "2024-01-17T10:51:42.028Z"
   },
   {
    "duration": 11,
    "start_time": "2024-01-17T10:51:42.045Z"
   },
   {
    "duration": 24,
    "start_time": "2024-01-17T10:51:42.058Z"
   },
   {
    "duration": 3,
    "start_time": "2024-01-17T10:51:42.084Z"
   },
   {
    "duration": 7,
    "start_time": "2024-01-17T10:51:42.089Z"
   },
   {
    "duration": 5,
    "start_time": "2024-01-17T10:51:42.098Z"
   },
   {
    "duration": 10,
    "start_time": "2024-01-17T10:51:42.105Z"
   },
   {
    "duration": 53,
    "start_time": "2024-01-17T10:51:42.118Z"
   },
   {
    "duration": 140,
    "start_time": "2024-01-17T10:51:42.174Z"
   },
   {
    "duration": 0,
    "start_time": "2024-01-17T10:51:42.316Z"
   },
   {
    "duration": 0,
    "start_time": "2024-01-17T10:51:42.317Z"
   },
   {
    "duration": 0,
    "start_time": "2024-01-17T10:51:42.319Z"
   },
   {
    "duration": 1,
    "start_time": "2024-01-17T10:51:42.320Z"
   },
   {
    "duration": 0,
    "start_time": "2024-01-17T10:51:42.322Z"
   },
   {
    "duration": 0,
    "start_time": "2024-01-17T10:51:42.324Z"
   },
   {
    "duration": 0,
    "start_time": "2024-01-17T10:51:42.325Z"
   },
   {
    "duration": 0,
    "start_time": "2024-01-17T10:51:42.327Z"
   },
   {
    "duration": 0,
    "start_time": "2024-01-17T10:51:42.328Z"
   },
   {
    "duration": 0,
    "start_time": "2024-01-17T10:51:42.330Z"
   },
   {
    "duration": 0,
    "start_time": "2024-01-17T10:51:42.358Z"
   },
   {
    "duration": 0,
    "start_time": "2024-01-17T10:51:42.360Z"
   },
   {
    "duration": 0,
    "start_time": "2024-01-17T10:51:42.362Z"
   },
   {
    "duration": 0,
    "start_time": "2024-01-17T10:51:42.363Z"
   },
   {
    "duration": 0,
    "start_time": "2024-01-17T10:51:42.364Z"
   },
   {
    "duration": 0,
    "start_time": "2024-01-17T10:51:42.365Z"
   },
   {
    "duration": 0,
    "start_time": "2024-01-17T10:51:42.366Z"
   },
   {
    "duration": 0,
    "start_time": "2024-01-17T10:51:42.367Z"
   },
   {
    "duration": 0,
    "start_time": "2024-01-17T10:51:42.368Z"
   },
   {
    "duration": 1479,
    "start_time": "2024-01-17T10:52:43.772Z"
   },
   {
    "duration": 102,
    "start_time": "2024-01-17T10:52:45.253Z"
   },
   {
    "duration": 14,
    "start_time": "2024-01-17T10:52:45.357Z"
   },
   {
    "duration": 23,
    "start_time": "2024-01-17T10:52:45.373Z"
   },
   {
    "duration": 25,
    "start_time": "2024-01-17T10:52:45.398Z"
   },
   {
    "duration": 14,
    "start_time": "2024-01-17T10:52:45.425Z"
   },
   {
    "duration": 31,
    "start_time": "2024-01-17T10:52:45.441Z"
   },
   {
    "duration": 7,
    "start_time": "2024-01-17T10:52:45.474Z"
   },
   {
    "duration": 7,
    "start_time": "2024-01-17T10:52:45.483Z"
   },
   {
    "duration": 38,
    "start_time": "2024-01-17T10:52:45.491Z"
   },
   {
    "duration": 146,
    "start_time": "2024-01-17T10:52:45.531Z"
   },
   {
    "duration": 0,
    "start_time": "2024-01-17T10:52:45.679Z"
   },
   {
    "duration": 0,
    "start_time": "2024-01-17T10:52:45.680Z"
   },
   {
    "duration": 0,
    "start_time": "2024-01-17T10:52:45.682Z"
   },
   {
    "duration": 0,
    "start_time": "2024-01-17T10:52:45.683Z"
   },
   {
    "duration": 0,
    "start_time": "2024-01-17T10:52:45.684Z"
   },
   {
    "duration": 0,
    "start_time": "2024-01-17T10:52:45.685Z"
   },
   {
    "duration": 0,
    "start_time": "2024-01-17T10:52:45.686Z"
   },
   {
    "duration": 0,
    "start_time": "2024-01-17T10:52:45.687Z"
   },
   {
    "duration": 0,
    "start_time": "2024-01-17T10:52:45.689Z"
   },
   {
    "duration": 0,
    "start_time": "2024-01-17T10:52:45.690Z"
   },
   {
    "duration": 0,
    "start_time": "2024-01-17T10:52:45.692Z"
   },
   {
    "duration": 0,
    "start_time": "2024-01-17T10:52:45.694Z"
   },
   {
    "duration": 0,
    "start_time": "2024-01-17T10:52:45.695Z"
   },
   {
    "duration": 0,
    "start_time": "2024-01-17T10:52:45.697Z"
   },
   {
    "duration": 0,
    "start_time": "2024-01-17T10:52:45.698Z"
   },
   {
    "duration": 0,
    "start_time": "2024-01-17T10:52:45.700Z"
   },
   {
    "duration": 0,
    "start_time": "2024-01-17T10:52:45.701Z"
   },
   {
    "duration": 0,
    "start_time": "2024-01-17T10:52:45.703Z"
   },
   {
    "duration": 0,
    "start_time": "2024-01-17T10:52:45.705Z"
   },
   {
    "duration": 0,
    "start_time": "2024-01-17T10:52:45.706Z"
   },
   {
    "duration": 3750,
    "start_time": "2024-01-17T10:53:01.482Z"
   },
   {
    "duration": 1455,
    "start_time": "2024-01-17T10:53:09.359Z"
   },
   {
    "duration": 62,
    "start_time": "2024-01-17T10:53:10.818Z"
   },
   {
    "duration": 15,
    "start_time": "2024-01-17T10:53:10.882Z"
   },
   {
    "duration": 15,
    "start_time": "2024-01-17T10:53:10.900Z"
   },
   {
    "duration": 24,
    "start_time": "2024-01-17T10:53:10.916Z"
   },
   {
    "duration": 4,
    "start_time": "2024-01-17T10:53:10.941Z"
   },
   {
    "duration": 26,
    "start_time": "2024-01-17T10:53:10.947Z"
   },
   {
    "duration": 13,
    "start_time": "2024-01-17T10:53:10.975Z"
   },
   {
    "duration": 10,
    "start_time": "2024-01-17T10:53:10.990Z"
   },
   {
    "duration": 19,
    "start_time": "2024-01-17T10:53:11.003Z"
   },
   {
    "duration": 2642,
    "start_time": "2024-01-17T10:53:11.023Z"
   },
   {
    "duration": 147,
    "start_time": "2024-01-17T10:53:13.667Z"
   },
   {
    "duration": 1577,
    "start_time": "2024-01-17T10:53:13.815Z"
   },
   {
    "duration": 5458,
    "start_time": "2024-01-17T10:53:15.394Z"
   },
   {
    "duration": 6,
    "start_time": "2024-01-17T10:53:20.858Z"
   },
   {
    "duration": 7,
    "start_time": "2024-01-17T10:53:20.866Z"
   },
   {
    "duration": 11,
    "start_time": "2024-01-17T10:53:20.875Z"
   },
   {
    "duration": 6,
    "start_time": "2024-01-17T10:53:20.888Z"
   },
   {
    "duration": 7,
    "start_time": "2024-01-17T10:53:20.895Z"
   },
   {
    "duration": 7,
    "start_time": "2024-01-17T10:53:20.904Z"
   },
   {
    "duration": 46,
    "start_time": "2024-01-17T10:53:20.913Z"
   },
   {
    "duration": 4,
    "start_time": "2024-01-17T10:53:20.961Z"
   },
   {
    "duration": 17,
    "start_time": "2024-01-17T10:53:20.967Z"
   },
   {
    "duration": 153,
    "start_time": "2024-01-17T10:53:20.986Z"
   },
   {
    "duration": 13692,
    "start_time": "2024-01-17T10:53:21.141Z"
   },
   {
    "duration": 41,
    "start_time": "2024-01-17T10:53:34.835Z"
   },
   {
    "duration": 15,
    "start_time": "2024-01-17T10:53:34.878Z"
   },
   {
    "duration": 129,
    "start_time": "2024-01-17T10:53:34.896Z"
   },
   {
    "duration": 7,
    "start_time": "2024-01-17T10:53:35.026Z"
   },
   {
    "duration": 28,
    "start_time": "2024-01-17T10:53:35.034Z"
   },
   {
    "duration": 11,
    "start_time": "2024-01-17T10:53:35.064Z"
   },
   {
    "duration": 6061,
    "start_time": "2024-01-17T10:57:12.650Z"
   },
   {
    "duration": 5249,
    "start_time": "2024-01-17T10:57:35.612Z"
   },
   {
    "duration": 5859,
    "start_time": "2024-01-17T10:57:50.738Z"
   },
   {
    "duration": 6304,
    "start_time": "2024-01-17T11:00:12.183Z"
   },
   {
    "duration": 6222,
    "start_time": "2024-01-17T11:00:47.730Z"
   },
   {
    "duration": 6483,
    "start_time": "2024-01-17T11:00:59.851Z"
   },
   {
    "duration": 101,
    "start_time": "2024-01-17T11:09:53.235Z"
   },
   {
    "duration": 9,
    "start_time": "2024-01-17T11:11:58.477Z"
   },
   {
    "duration": 125,
    "start_time": "2024-01-17T11:12:00.403Z"
   },
   {
    "duration": 6,
    "start_time": "2024-01-17T11:12:29.205Z"
   },
   {
    "duration": 2694,
    "start_time": "2024-01-17T11:12:41.225Z"
   },
   {
    "duration": 1718,
    "start_time": "2024-01-17T11:12:43.921Z"
   },
   {
    "duration": 71,
    "start_time": "2024-01-17T11:12:45.640Z"
   },
   {
    "duration": 14,
    "start_time": "2024-01-17T11:12:45.714Z"
   },
   {
    "duration": 11,
    "start_time": "2024-01-17T11:12:45.729Z"
   },
   {
    "duration": 27,
    "start_time": "2024-01-17T11:12:45.742Z"
   },
   {
    "duration": 3,
    "start_time": "2024-01-17T11:12:45.771Z"
   },
   {
    "duration": 8,
    "start_time": "2024-01-17T11:12:45.776Z"
   },
   {
    "duration": 7,
    "start_time": "2024-01-17T11:12:45.785Z"
   },
   {
    "duration": 6,
    "start_time": "2024-01-17T11:12:45.795Z"
   },
   {
    "duration": 12,
    "start_time": "2024-01-17T11:12:45.803Z"
   },
   {
    "duration": 135,
    "start_time": "2024-01-17T11:12:45.816Z"
   },
   {
    "duration": 5830,
    "start_time": "2024-01-17T11:12:45.953Z"
   },
   {
    "duration": 9,
    "start_time": "2024-01-17T11:12:51.785Z"
   },
   {
    "duration": 152,
    "start_time": "2024-01-17T11:12:51.797Z"
   },
   {
    "duration": 0,
    "start_time": "2024-01-17T11:12:51.952Z"
   },
   {
    "duration": 0,
    "start_time": "2024-01-17T11:12:51.953Z"
   },
   {
    "duration": 0,
    "start_time": "2024-01-17T11:12:51.955Z"
   },
   {
    "duration": 0,
    "start_time": "2024-01-17T11:12:51.959Z"
   },
   {
    "duration": 0,
    "start_time": "2024-01-17T11:12:51.960Z"
   },
   {
    "duration": 0,
    "start_time": "2024-01-17T11:12:51.962Z"
   },
   {
    "duration": 0,
    "start_time": "2024-01-17T11:12:51.963Z"
   },
   {
    "duration": 0,
    "start_time": "2024-01-17T11:12:51.965Z"
   },
   {
    "duration": 0,
    "start_time": "2024-01-17T11:12:51.967Z"
   },
   {
    "duration": 0,
    "start_time": "2024-01-17T11:12:51.968Z"
   },
   {
    "duration": 0,
    "start_time": "2024-01-17T11:12:51.970Z"
   },
   {
    "duration": 0,
    "start_time": "2024-01-17T11:12:51.972Z"
   },
   {
    "duration": 0,
    "start_time": "2024-01-17T11:12:51.973Z"
   },
   {
    "duration": 0,
    "start_time": "2024-01-17T11:12:51.975Z"
   },
   {
    "duration": 0,
    "start_time": "2024-01-17T11:12:51.976Z"
   },
   {
    "duration": 10,
    "start_time": "2024-01-17T11:14:35.175Z"
   },
   {
    "duration": 92,
    "start_time": "2024-01-17T11:18:16.342Z"
   },
   {
    "duration": 74,
    "start_time": "2024-01-17T11:18:18.062Z"
   },
   {
    "duration": 22,
    "start_time": "2024-01-17T11:30:02.884Z"
   },
   {
    "duration": 2852,
    "start_time": "2024-01-17T11:30:14.230Z"
   },
   {
    "duration": 1587,
    "start_time": "2024-01-17T11:30:17.085Z"
   },
   {
    "duration": 69,
    "start_time": "2024-01-17T11:30:18.674Z"
   },
   {
    "duration": 26,
    "start_time": "2024-01-17T11:30:18.745Z"
   },
   {
    "duration": 12,
    "start_time": "2024-01-17T11:30:18.774Z"
   },
   {
    "duration": 35,
    "start_time": "2024-01-17T11:30:18.788Z"
   },
   {
    "duration": 4,
    "start_time": "2024-01-17T11:30:18.824Z"
   },
   {
    "duration": 14,
    "start_time": "2024-01-17T11:30:18.830Z"
   },
   {
    "duration": 22,
    "start_time": "2024-01-17T11:30:18.847Z"
   },
   {
    "duration": 10,
    "start_time": "2024-01-17T11:30:18.871Z"
   },
   {
    "duration": 20,
    "start_time": "2024-01-17T11:30:18.883Z"
   },
   {
    "duration": 124,
    "start_time": "2024-01-17T11:30:18.904Z"
   },
   {
    "duration": 6288,
    "start_time": "2024-01-17T11:30:19.030Z"
   },
   {
    "duration": 7,
    "start_time": "2024-01-17T11:30:25.321Z"
   },
   {
    "duration": 56,
    "start_time": "2024-01-17T11:30:25.330Z"
   },
   {
    "duration": 4,
    "start_time": "2024-01-17T11:30:25.388Z"
   },
   {
    "duration": 4,
    "start_time": "2024-01-17T11:30:25.394Z"
   },
   {
    "duration": 5,
    "start_time": "2024-01-17T11:30:25.400Z"
   },
   {
    "duration": 6,
    "start_time": "2024-01-17T11:30:25.406Z"
   },
   {
    "duration": 12,
    "start_time": "2024-01-17T11:30:25.414Z"
   },
   {
    "duration": 23,
    "start_time": "2024-01-17T11:30:25.428Z"
   },
   {
    "duration": 22,
    "start_time": "2024-01-17T11:30:25.453Z"
   },
   {
    "duration": 129,
    "start_time": "2024-01-17T11:30:25.477Z"
   },
   {
    "duration": 13538,
    "start_time": "2024-01-17T11:30:25.608Z"
   },
   {
    "duration": 127,
    "start_time": "2024-01-17T11:30:39.148Z"
   },
   {
    "duration": 19,
    "start_time": "2024-01-17T11:30:39.276Z"
   },
   {
    "duration": 22,
    "start_time": "2024-01-17T11:30:39.296Z"
   },
   {
    "duration": 22,
    "start_time": "2024-01-17T11:30:39.320Z"
   },
   {
    "duration": 2565,
    "start_time": "2024-01-17T11:46:05.891Z"
   },
   {
    "duration": 1489,
    "start_time": "2024-01-17T11:46:08.459Z"
   },
   {
    "duration": 63,
    "start_time": "2024-01-17T11:46:09.950Z"
   },
   {
    "duration": 13,
    "start_time": "2024-01-17T11:46:10.015Z"
   },
   {
    "duration": 12,
    "start_time": "2024-01-17T11:46:10.030Z"
   },
   {
    "duration": 34,
    "start_time": "2024-01-17T11:46:10.043Z"
   },
   {
    "duration": 4,
    "start_time": "2024-01-17T11:46:10.078Z"
   },
   {
    "duration": 11,
    "start_time": "2024-01-17T11:46:10.084Z"
   },
   {
    "duration": 8,
    "start_time": "2024-01-17T11:46:10.096Z"
   },
   {
    "duration": 6,
    "start_time": "2024-01-17T11:46:10.107Z"
   },
   {
    "duration": 19,
    "start_time": "2024-01-17T11:46:10.114Z"
   },
   {
    "duration": 127,
    "start_time": "2024-01-17T11:46:10.135Z"
   },
   {
    "duration": 5762,
    "start_time": "2024-01-17T11:46:10.263Z"
   },
   {
    "duration": 8,
    "start_time": "2024-01-17T11:46:16.026Z"
   },
   {
    "duration": 36,
    "start_time": "2024-01-17T11:46:16.036Z"
   },
   {
    "duration": 9,
    "start_time": "2024-01-17T11:46:16.074Z"
   },
   {
    "duration": 19,
    "start_time": "2024-01-17T11:46:16.086Z"
   },
   {
    "duration": 16,
    "start_time": "2024-01-17T11:46:16.108Z"
   },
   {
    "duration": 7,
    "start_time": "2024-01-17T11:46:16.125Z"
   },
   {
    "duration": 8,
    "start_time": "2024-01-17T11:46:16.134Z"
   },
   {
    "duration": 9,
    "start_time": "2024-01-17T11:46:16.144Z"
   },
   {
    "duration": 17,
    "start_time": "2024-01-17T11:46:16.155Z"
   },
   {
    "duration": 117,
    "start_time": "2024-01-17T11:46:16.174Z"
   },
   {
    "duration": 12973,
    "start_time": "2024-01-17T11:46:16.293Z"
   },
   {
    "duration": 124,
    "start_time": "2024-01-17T11:46:29.267Z"
   },
   {
    "duration": 17,
    "start_time": "2024-01-17T11:46:29.392Z"
   },
   {
    "duration": 48,
    "start_time": "2024-01-17T11:46:29.411Z"
   },
   {
    "duration": 17,
    "start_time": "2024-01-17T11:46:29.463Z"
   },
   {
    "duration": 114,
    "start_time": "2024-01-17T11:49:01.554Z"
   },
   {
    "duration": 2703,
    "start_time": "2024-01-17T11:49:12.937Z"
   },
   {
    "duration": 1570,
    "start_time": "2024-01-17T11:49:15.643Z"
   },
   {
    "duration": 70,
    "start_time": "2024-01-17T11:49:17.215Z"
   },
   {
    "duration": 15,
    "start_time": "2024-01-17T11:49:17.287Z"
   },
   {
    "duration": 18,
    "start_time": "2024-01-17T11:49:17.303Z"
   },
   {
    "duration": 25,
    "start_time": "2024-01-17T11:49:17.322Z"
   },
   {
    "duration": 4,
    "start_time": "2024-01-17T11:49:17.348Z"
   },
   {
    "duration": 26,
    "start_time": "2024-01-17T11:49:17.354Z"
   },
   {
    "duration": 17,
    "start_time": "2024-01-17T11:49:17.383Z"
   },
   {
    "duration": 20,
    "start_time": "2024-01-17T11:49:17.404Z"
   },
   {
    "duration": 23,
    "start_time": "2024-01-17T11:49:17.427Z"
   },
   {
    "duration": 125,
    "start_time": "2024-01-17T11:49:17.452Z"
   },
   {
    "duration": 5962,
    "start_time": "2024-01-17T11:49:17.578Z"
   },
   {
    "duration": 17,
    "start_time": "2024-01-17T11:49:23.542Z"
   },
   {
    "duration": 27,
    "start_time": "2024-01-17T11:49:23.562Z"
   },
   {
    "duration": 15,
    "start_time": "2024-01-17T11:49:23.591Z"
   },
   {
    "duration": 9,
    "start_time": "2024-01-17T11:49:23.607Z"
   },
   {
    "duration": 15,
    "start_time": "2024-01-17T11:49:23.618Z"
   },
   {
    "duration": 28,
    "start_time": "2024-01-17T11:49:23.634Z"
   },
   {
    "duration": 42,
    "start_time": "2024-01-17T11:49:23.664Z"
   },
   {
    "duration": 30,
    "start_time": "2024-01-17T11:49:23.708Z"
   },
   {
    "duration": 17,
    "start_time": "2024-01-17T11:49:23.739Z"
   },
   {
    "duration": 119,
    "start_time": "2024-01-17T11:49:23.758Z"
   },
   {
    "duration": 13027,
    "start_time": "2024-01-17T11:49:23.878Z"
   },
   {
    "duration": 130,
    "start_time": "2024-01-17T11:49:36.907Z"
   },
   {
    "duration": 24,
    "start_time": "2024-01-17T11:49:37.039Z"
   },
   {
    "duration": 20,
    "start_time": "2024-01-17T11:49:37.065Z"
   },
   {
    "duration": 20,
    "start_time": "2024-01-17T11:49:37.088Z"
   },
   {
    "duration": 2658,
    "start_time": "2024-01-17T11:50:47.958Z"
   },
   {
    "duration": 1520,
    "start_time": "2024-01-17T11:50:50.618Z"
   },
   {
    "duration": 70,
    "start_time": "2024-01-17T11:50:52.140Z"
   },
   {
    "duration": 17,
    "start_time": "2024-01-17T11:50:52.212Z"
   },
   {
    "duration": 16,
    "start_time": "2024-01-17T11:50:52.231Z"
   },
   {
    "duration": 37,
    "start_time": "2024-01-17T11:50:52.250Z"
   },
   {
    "duration": 4,
    "start_time": "2024-01-17T11:50:52.289Z"
   },
   {
    "duration": 19,
    "start_time": "2024-01-17T11:50:52.295Z"
   },
   {
    "duration": 7,
    "start_time": "2024-01-17T11:50:52.316Z"
   },
   {
    "duration": 8,
    "start_time": "2024-01-17T11:50:52.325Z"
   },
   {
    "duration": 25,
    "start_time": "2024-01-17T11:50:52.334Z"
   },
   {
    "duration": 127,
    "start_time": "2024-01-17T11:50:52.361Z"
   },
   {
    "duration": 5957,
    "start_time": "2024-01-17T11:50:52.490Z"
   },
   {
    "duration": 14,
    "start_time": "2024-01-17T11:50:58.449Z"
   },
   {
    "duration": 7,
    "start_time": "2024-01-17T11:50:58.465Z"
   },
   {
    "duration": 25,
    "start_time": "2024-01-17T11:50:58.474Z"
   },
   {
    "duration": 11,
    "start_time": "2024-01-17T11:50:58.501Z"
   },
   {
    "duration": 14,
    "start_time": "2024-01-17T11:50:58.514Z"
   },
   {
    "duration": 24,
    "start_time": "2024-01-17T11:50:58.530Z"
   },
   {
    "duration": 31,
    "start_time": "2024-01-17T11:50:58.556Z"
   },
   {
    "duration": 11,
    "start_time": "2024-01-17T11:50:58.589Z"
   },
   {
    "duration": 13,
    "start_time": "2024-01-17T11:50:58.601Z"
   },
   {
    "duration": 119,
    "start_time": "2024-01-17T11:50:58.615Z"
   },
   {
    "duration": 12975,
    "start_time": "2024-01-17T11:50:58.735Z"
   },
   {
    "duration": 125,
    "start_time": "2024-01-17T11:51:11.712Z"
   },
   {
    "duration": 25,
    "start_time": "2024-01-17T11:51:11.839Z"
   },
   {
    "duration": 21,
    "start_time": "2024-01-17T11:51:11.866Z"
   },
   {
    "duration": 17,
    "start_time": "2024-01-17T11:51:11.890Z"
   },
   {
    "duration": 2712,
    "start_time": "2024-01-17T11:55:15.956Z"
   },
   {
    "duration": 1530,
    "start_time": "2024-01-17T11:55:18.671Z"
   },
   {
    "duration": 69,
    "start_time": "2024-01-17T11:55:20.203Z"
   },
   {
    "duration": 15,
    "start_time": "2024-01-17T11:55:20.274Z"
   },
   {
    "duration": 11,
    "start_time": "2024-01-17T11:55:20.291Z"
   },
   {
    "duration": 26,
    "start_time": "2024-01-17T11:55:20.303Z"
   },
   {
    "duration": 3,
    "start_time": "2024-01-17T11:55:20.331Z"
   },
   {
    "duration": 25,
    "start_time": "2024-01-17T11:55:20.335Z"
   },
   {
    "duration": 6,
    "start_time": "2024-01-17T11:55:20.362Z"
   },
   {
    "duration": 6,
    "start_time": "2024-01-17T11:55:20.372Z"
   },
   {
    "duration": 16,
    "start_time": "2024-01-17T11:55:20.380Z"
   },
   {
    "duration": 144,
    "start_time": "2024-01-17T11:55:20.398Z"
   },
   {
    "duration": 6019,
    "start_time": "2024-01-17T11:55:20.544Z"
   },
   {
    "duration": 1629,
    "start_time": "2024-01-17T11:55:26.565Z"
   },
   {
    "duration": 9,
    "start_time": "2024-01-17T11:55:28.196Z"
   },
   {
    "duration": 8,
    "start_time": "2024-01-17T11:55:28.207Z"
   },
   {
    "duration": 5,
    "start_time": "2024-01-17T11:55:28.217Z"
   },
   {
    "duration": 37,
    "start_time": "2024-01-17T11:55:28.224Z"
   },
   {
    "duration": 11,
    "start_time": "2024-01-17T11:55:28.263Z"
   },
   {
    "duration": 9,
    "start_time": "2024-01-17T11:55:28.276Z"
   },
   {
    "duration": 18,
    "start_time": "2024-01-17T11:55:28.286Z"
   },
   {
    "duration": 8,
    "start_time": "2024-01-17T11:55:28.305Z"
   },
   {
    "duration": 19,
    "start_time": "2024-01-17T11:55:28.315Z"
   },
   {
    "duration": 144,
    "start_time": "2024-01-17T11:55:28.336Z"
   },
   {
    "duration": 13068,
    "start_time": "2024-01-17T11:55:28.482Z"
   },
   {
    "duration": 1497,
    "start_time": "2024-01-17T11:55:41.551Z"
   },
   {
    "duration": 21,
    "start_time": "2024-01-17T11:55:43.049Z"
   },
   {
    "duration": 20,
    "start_time": "2024-01-17T11:55:43.073Z"
   },
   {
    "duration": 16,
    "start_time": "2024-01-17T11:55:43.095Z"
   },
   {
    "duration": 1336,
    "start_time": "2024-01-17T11:55:53.333Z"
   },
   {
    "duration": 12881,
    "start_time": "2024-01-17T11:56:46.423Z"
   },
   {
    "duration": 13095,
    "start_time": "2024-01-17T11:57:20.401Z"
   },
   {
    "duration": 2674,
    "start_time": "2024-01-17T11:58:24.396Z"
   },
   {
    "duration": 1491,
    "start_time": "2024-01-17T11:58:27.073Z"
   },
   {
    "duration": 68,
    "start_time": "2024-01-17T11:58:28.566Z"
   },
   {
    "duration": 14,
    "start_time": "2024-01-17T11:58:28.636Z"
   },
   {
    "duration": 11,
    "start_time": "2024-01-17T11:58:28.653Z"
   },
   {
    "duration": 29,
    "start_time": "2024-01-17T11:58:28.665Z"
   },
   {
    "duration": 5,
    "start_time": "2024-01-17T11:58:28.696Z"
   },
   {
    "duration": 8,
    "start_time": "2024-01-17T11:58:28.703Z"
   },
   {
    "duration": 6,
    "start_time": "2024-01-17T11:58:28.713Z"
   },
   {
    "duration": 9,
    "start_time": "2024-01-17T11:58:28.720Z"
   },
   {
    "duration": 38,
    "start_time": "2024-01-17T11:58:28.730Z"
   },
   {
    "duration": 129,
    "start_time": "2024-01-17T11:58:28.770Z"
   },
   {
    "duration": 5913,
    "start_time": "2024-01-17T11:58:28.901Z"
   },
   {
    "duration": 1628,
    "start_time": "2024-01-17T11:58:34.816Z"
   },
   {
    "duration": 15,
    "start_time": "2024-01-17T11:58:36.446Z"
   },
   {
    "duration": 9,
    "start_time": "2024-01-17T11:58:36.462Z"
   },
   {
    "duration": 38,
    "start_time": "2024-01-17T11:58:36.473Z"
   },
   {
    "duration": 12,
    "start_time": "2024-01-17T11:58:36.512Z"
   },
   {
    "duration": 21,
    "start_time": "2024-01-17T11:58:36.525Z"
   },
   {
    "duration": 29,
    "start_time": "2024-01-17T11:58:36.548Z"
   },
   {
    "duration": 42,
    "start_time": "2024-01-17T11:58:36.579Z"
   },
   {
    "duration": 110,
    "start_time": "2024-01-17T11:58:36.623Z"
   },
   {
    "duration": 26,
    "start_time": "2024-01-17T11:58:36.735Z"
   },
   {
    "duration": 124,
    "start_time": "2024-01-17T11:58:36.762Z"
   },
   {
    "duration": 12898,
    "start_time": "2024-01-17T11:58:36.888Z"
   },
   {
    "duration": 12875,
    "start_time": "2024-01-17T11:58:49.787Z"
   },
   {
    "duration": 16,
    "start_time": "2024-01-17T11:59:02.663Z"
   },
   {
    "duration": 67,
    "start_time": "2024-01-17T11:59:02.681Z"
   },
   {
    "duration": 105,
    "start_time": "2024-01-17T11:59:02.750Z"
   },
   {
    "duration": 2662,
    "start_time": "2024-01-17T12:04:57.298Z"
   },
   {
    "duration": 1515,
    "start_time": "2024-01-17T12:04:59.962Z"
   },
   {
    "duration": 89,
    "start_time": "2024-01-17T12:05:01.481Z"
   },
   {
    "duration": 13,
    "start_time": "2024-01-17T12:05:01.573Z"
   },
   {
    "duration": 28,
    "start_time": "2024-01-17T12:05:01.588Z"
   },
   {
    "duration": 52,
    "start_time": "2024-01-17T12:05:01.618Z"
   },
   {
    "duration": 8,
    "start_time": "2024-01-17T12:05:01.673Z"
   },
   {
    "duration": 29,
    "start_time": "2024-01-17T12:05:01.683Z"
   },
   {
    "duration": 26,
    "start_time": "2024-01-17T12:05:01.716Z"
   },
   {
    "duration": 26,
    "start_time": "2024-01-17T12:05:01.744Z"
   },
   {
    "duration": 32,
    "start_time": "2024-01-17T12:05:01.772Z"
   },
   {
    "duration": 136,
    "start_time": "2024-01-17T12:05:01.806Z"
   },
   {
    "duration": 6031,
    "start_time": "2024-01-17T12:05:01.944Z"
   },
   {
    "duration": 1697,
    "start_time": "2024-01-17T12:05:07.977Z"
   },
   {
    "duration": 7,
    "start_time": "2024-01-17T12:05:09.677Z"
   },
   {
    "duration": 37,
    "start_time": "2024-01-17T12:05:09.686Z"
   },
   {
    "duration": 23,
    "start_time": "2024-01-17T12:05:09.725Z"
   },
   {
    "duration": 14,
    "start_time": "2024-01-17T12:05:09.750Z"
   },
   {
    "duration": 14,
    "start_time": "2024-01-17T12:05:09.767Z"
   },
   {
    "duration": 10,
    "start_time": "2024-01-17T12:05:09.783Z"
   },
   {
    "duration": 5,
    "start_time": "2024-01-17T12:05:09.795Z"
   },
   {
    "duration": 9,
    "start_time": "2024-01-17T12:05:09.802Z"
   },
   {
    "duration": 38,
    "start_time": "2024-01-17T12:05:09.813Z"
   },
   {
    "duration": 133,
    "start_time": "2024-01-17T12:05:09.854Z"
   },
   {
    "duration": 13175,
    "start_time": "2024-01-17T12:05:09.989Z"
   },
   {
    "duration": 12968,
    "start_time": "2024-01-17T12:05:23.166Z"
   },
   {
    "duration": 24,
    "start_time": "2024-01-17T12:05:36.137Z"
   },
   {
    "duration": 20,
    "start_time": "2024-01-17T12:05:36.163Z"
   },
   {
    "duration": 19,
    "start_time": "2024-01-17T12:05:36.185Z"
   },
   {
    "duration": 13542,
    "start_time": "2024-01-17T12:14:17.400Z"
   },
   {
    "duration": 2702,
    "start_time": "2024-01-17T12:14:42.375Z"
   },
   {
    "duration": 1609,
    "start_time": "2024-01-17T12:14:45.079Z"
   },
   {
    "duration": 66,
    "start_time": "2024-01-17T12:14:46.689Z"
   },
   {
    "duration": 15,
    "start_time": "2024-01-17T12:14:46.757Z"
   },
   {
    "duration": 12,
    "start_time": "2024-01-17T12:14:46.774Z"
   },
   {
    "duration": 52,
    "start_time": "2024-01-17T12:14:46.787Z"
   },
   {
    "duration": 4,
    "start_time": "2024-01-17T12:14:46.840Z"
   },
   {
    "duration": 18,
    "start_time": "2024-01-17T12:14:46.846Z"
   },
   {
    "duration": 7,
    "start_time": "2024-01-17T12:14:46.866Z"
   },
   {
    "duration": 25,
    "start_time": "2024-01-17T12:14:46.875Z"
   },
   {
    "duration": 43,
    "start_time": "2024-01-17T12:14:46.903Z"
   },
   {
    "duration": 144,
    "start_time": "2024-01-17T12:14:46.948Z"
   },
   {
    "duration": 6377,
    "start_time": "2024-01-17T12:14:47.094Z"
   },
   {
    "duration": 1775,
    "start_time": "2024-01-17T12:14:53.473Z"
   },
   {
    "duration": 10,
    "start_time": "2024-01-17T12:14:55.250Z"
   },
   {
    "duration": 7,
    "start_time": "2024-01-17T12:14:55.262Z"
   },
   {
    "duration": 9,
    "start_time": "2024-01-17T12:14:55.271Z"
   },
   {
    "duration": 5,
    "start_time": "2024-01-17T12:14:55.282Z"
   },
   {
    "duration": 5,
    "start_time": "2024-01-17T12:14:55.289Z"
   },
   {
    "duration": 21,
    "start_time": "2024-01-17T12:14:55.296Z"
   },
   {
    "duration": 7,
    "start_time": "2024-01-17T12:14:55.318Z"
   },
   {
    "duration": 52,
    "start_time": "2024-01-17T12:14:55.327Z"
   },
   {
    "duration": 15,
    "start_time": "2024-01-17T12:14:55.381Z"
   },
   {
    "duration": 119,
    "start_time": "2024-01-17T12:14:55.398Z"
   },
   {
    "duration": 13318,
    "start_time": "2024-01-17T12:14:55.519Z"
   },
   {
    "duration": 13409,
    "start_time": "2024-01-17T12:15:08.840Z"
   },
   {
    "duration": 28,
    "start_time": "2024-01-17T12:15:22.251Z"
   },
   {
    "duration": 23,
    "start_time": "2024-01-17T12:15:22.284Z"
   },
   {
    "duration": 24,
    "start_time": "2024-01-17T12:15:22.309Z"
   },
   {
    "duration": 17,
    "start_time": "2024-01-17T12:17:31.280Z"
   },
   {
    "duration": 22,
    "start_time": "2024-01-17T12:17:35.200Z"
   },
   {
    "duration": 19,
    "start_time": "2024-01-17T12:17:39.808Z"
   },
   {
    "duration": 2711,
    "start_time": "2024-01-17T12:18:59.257Z"
   },
   {
    "duration": 1636,
    "start_time": "2024-01-17T12:19:01.971Z"
   },
   {
    "duration": 71,
    "start_time": "2024-01-17T12:19:03.608Z"
   },
   {
    "duration": 16,
    "start_time": "2024-01-17T12:19:03.681Z"
   },
   {
    "duration": 24,
    "start_time": "2024-01-17T12:19:03.698Z"
   },
   {
    "duration": 35,
    "start_time": "2024-01-17T12:19:03.724Z"
   },
   {
    "duration": 4,
    "start_time": "2024-01-17T12:19:03.761Z"
   },
   {
    "duration": 38,
    "start_time": "2024-01-17T12:19:03.766Z"
   },
   {
    "duration": 27,
    "start_time": "2024-01-17T12:19:03.807Z"
   },
   {
    "duration": 19,
    "start_time": "2024-01-17T12:19:03.837Z"
   },
   {
    "duration": 50,
    "start_time": "2024-01-17T12:19:03.857Z"
   },
   {
    "duration": 124,
    "start_time": "2024-01-17T12:19:03.909Z"
   },
   {
    "duration": 6008,
    "start_time": "2024-01-17T12:19:04.035Z"
   },
   {
    "duration": 1585,
    "start_time": "2024-01-17T12:19:10.045Z"
   },
   {
    "duration": 9,
    "start_time": "2024-01-17T12:19:11.632Z"
   },
   {
    "duration": 21,
    "start_time": "2024-01-17T12:19:11.643Z"
   },
   {
    "duration": 18,
    "start_time": "2024-01-17T12:19:11.666Z"
   },
   {
    "duration": 4,
    "start_time": "2024-01-17T12:19:11.686Z"
   },
   {
    "duration": 11,
    "start_time": "2024-01-17T12:19:11.692Z"
   },
   {
    "duration": 14,
    "start_time": "2024-01-17T12:19:11.705Z"
   },
   {
    "duration": 7,
    "start_time": "2024-01-17T12:19:11.721Z"
   },
   {
    "duration": 23,
    "start_time": "2024-01-17T12:19:11.730Z"
   },
   {
    "duration": 17,
    "start_time": "2024-01-17T12:19:11.755Z"
   },
   {
    "duration": 132,
    "start_time": "2024-01-17T12:19:11.774Z"
   },
   {
    "duration": 13138,
    "start_time": "2024-01-17T12:19:11.908Z"
   },
   {
    "duration": 13213,
    "start_time": "2024-01-17T12:19:25.047Z"
   },
   {
    "duration": 16,
    "start_time": "2024-01-17T12:19:38.261Z"
   },
   {
    "duration": 41,
    "start_time": "2024-01-17T12:19:38.280Z"
   },
   {
    "duration": 39,
    "start_time": "2024-01-17T12:19:38.323Z"
   },
   {
    "duration": 2650,
    "start_time": "2024-01-17T12:21:12.556Z"
   },
   {
    "duration": 1500,
    "start_time": "2024-01-17T12:21:15.208Z"
   },
   {
    "duration": 75,
    "start_time": "2024-01-17T12:21:16.710Z"
   },
   {
    "duration": 19,
    "start_time": "2024-01-17T12:21:16.787Z"
   },
   {
    "duration": 12,
    "start_time": "2024-01-17T12:21:16.809Z"
   },
   {
    "duration": 50,
    "start_time": "2024-01-17T12:21:16.822Z"
   },
   {
    "duration": 14,
    "start_time": "2024-01-17T12:21:16.875Z"
   },
   {
    "duration": 22,
    "start_time": "2024-01-17T12:21:16.891Z"
   },
   {
    "duration": 11,
    "start_time": "2024-01-17T12:21:16.915Z"
   },
   {
    "duration": 17,
    "start_time": "2024-01-17T12:21:16.929Z"
   },
   {
    "duration": 22,
    "start_time": "2024-01-17T12:21:16.948Z"
   },
   {
    "duration": 135,
    "start_time": "2024-01-17T12:21:16.972Z"
   },
   {
    "duration": 5892,
    "start_time": "2024-01-17T12:21:17.108Z"
   },
   {
    "duration": 1587,
    "start_time": "2024-01-17T12:21:23.002Z"
   },
   {
    "duration": 7,
    "start_time": "2024-01-17T12:21:24.591Z"
   },
   {
    "duration": 13,
    "start_time": "2024-01-17T12:21:24.600Z"
   },
   {
    "duration": 4,
    "start_time": "2024-01-17T12:21:24.615Z"
   },
   {
    "duration": 5,
    "start_time": "2024-01-17T12:21:24.620Z"
   },
   {
    "duration": 35,
    "start_time": "2024-01-17T12:21:24.626Z"
   },
   {
    "duration": 10,
    "start_time": "2024-01-17T12:21:24.662Z"
   },
   {
    "duration": 5,
    "start_time": "2024-01-17T12:21:24.674Z"
   },
   {
    "duration": 5,
    "start_time": "2024-01-17T12:21:24.680Z"
   },
   {
    "duration": 15,
    "start_time": "2024-01-17T12:21:24.687Z"
   },
   {
    "duration": 132,
    "start_time": "2024-01-17T12:21:24.703Z"
   },
   {
    "duration": 12936,
    "start_time": "2024-01-17T12:21:24.837Z"
   },
   {
    "duration": 12972,
    "start_time": "2024-01-17T12:21:37.775Z"
   },
   {
    "duration": 25,
    "start_time": "2024-01-17T12:21:50.749Z"
   },
   {
    "duration": 59,
    "start_time": "2024-01-17T12:21:50.777Z"
   },
   {
    "duration": 18,
    "start_time": "2024-01-17T12:21:50.838Z"
   },
   {
    "duration": 2613,
    "start_time": "2024-01-17T12:22:21.138Z"
   },
   {
    "duration": 1499,
    "start_time": "2024-01-17T12:22:23.753Z"
   },
   {
    "duration": 69,
    "start_time": "2024-01-17T12:22:25.253Z"
   },
   {
    "duration": 14,
    "start_time": "2024-01-17T12:22:25.324Z"
   },
   {
    "duration": 11,
    "start_time": "2024-01-17T12:22:25.340Z"
   },
   {
    "duration": 23,
    "start_time": "2024-01-17T12:22:25.352Z"
   },
   {
    "duration": 3,
    "start_time": "2024-01-17T12:22:25.377Z"
   },
   {
    "duration": 28,
    "start_time": "2024-01-17T12:22:25.382Z"
   },
   {
    "duration": 8,
    "start_time": "2024-01-17T12:22:25.411Z"
   },
   {
    "duration": 6,
    "start_time": "2024-01-17T12:22:25.421Z"
   },
   {
    "duration": 22,
    "start_time": "2024-01-17T12:22:25.429Z"
   },
   {
    "duration": 131,
    "start_time": "2024-01-17T12:22:25.453Z"
   },
   {
    "duration": 5795,
    "start_time": "2024-01-17T12:22:25.585Z"
   },
   {
    "duration": 1606,
    "start_time": "2024-01-17T12:22:31.382Z"
   },
   {
    "duration": 7,
    "start_time": "2024-01-17T12:22:32.990Z"
   },
   {
    "duration": 78,
    "start_time": "2024-01-17T12:22:32.999Z"
   },
   {
    "duration": 44,
    "start_time": "2024-01-17T12:22:33.079Z"
   },
   {
    "duration": 45,
    "start_time": "2024-01-17T12:22:33.125Z"
   },
   {
    "duration": 34,
    "start_time": "2024-01-17T12:22:33.171Z"
   },
   {
    "duration": 22,
    "start_time": "2024-01-17T12:22:33.207Z"
   },
   {
    "duration": 54,
    "start_time": "2024-01-17T12:22:33.231Z"
   },
   {
    "duration": 22,
    "start_time": "2024-01-17T12:22:33.287Z"
   },
   {
    "duration": 58,
    "start_time": "2024-01-17T12:22:33.311Z"
   },
   {
    "duration": 132,
    "start_time": "2024-01-17T12:22:33.371Z"
   },
   {
    "duration": 13012,
    "start_time": "2024-01-17T12:22:33.505Z"
   },
   {
    "duration": 12910,
    "start_time": "2024-01-17T12:22:46.519Z"
   },
   {
    "duration": 30,
    "start_time": "2024-01-17T12:22:59.431Z"
   },
   {
    "duration": 21,
    "start_time": "2024-01-17T12:22:59.464Z"
   },
   {
    "duration": 25,
    "start_time": "2024-01-17T12:22:59.486Z"
   },
   {
    "duration": 2782,
    "start_time": "2024-01-17T12:25:28.792Z"
   },
   {
    "duration": 1592,
    "start_time": "2024-01-17T12:25:31.576Z"
   },
   {
    "duration": 75,
    "start_time": "2024-01-17T12:25:33.170Z"
   },
   {
    "duration": 14,
    "start_time": "2024-01-17T12:25:33.248Z"
   },
   {
    "duration": 12,
    "start_time": "2024-01-17T12:25:33.264Z"
   },
   {
    "duration": 30,
    "start_time": "2024-01-17T12:25:33.277Z"
   },
   {
    "duration": 4,
    "start_time": "2024-01-17T12:25:33.309Z"
   },
   {
    "duration": 12,
    "start_time": "2024-01-17T12:25:33.315Z"
   },
   {
    "duration": 32,
    "start_time": "2024-01-17T12:25:33.329Z"
   },
   {
    "duration": 18,
    "start_time": "2024-01-17T12:25:33.364Z"
   },
   {
    "duration": 17,
    "start_time": "2024-01-17T12:25:33.384Z"
   },
   {
    "duration": 174,
    "start_time": "2024-01-17T12:25:33.403Z"
   },
   {
    "duration": 6082,
    "start_time": "2024-01-17T12:25:33.578Z"
   },
   {
    "duration": 1651,
    "start_time": "2024-01-17T12:25:39.661Z"
   },
   {
    "duration": 8,
    "start_time": "2024-01-17T12:25:41.314Z"
   },
   {
    "duration": 109,
    "start_time": "2024-01-17T12:25:41.323Z"
   },
   {
    "duration": 32,
    "start_time": "2024-01-17T12:25:41.434Z"
   },
   {
    "duration": 38,
    "start_time": "2024-01-17T12:25:41.468Z"
   },
   {
    "duration": 30,
    "start_time": "2024-01-17T12:25:41.508Z"
   },
   {
    "duration": 53,
    "start_time": "2024-01-17T12:25:41.540Z"
   },
   {
    "duration": 16,
    "start_time": "2024-01-17T12:25:41.595Z"
   },
   {
    "duration": 41,
    "start_time": "2024-01-17T12:25:41.613Z"
   },
   {
    "duration": 37,
    "start_time": "2024-01-17T12:25:41.656Z"
   },
   {
    "duration": 127,
    "start_time": "2024-01-17T12:25:41.695Z"
   },
   {
    "duration": 13584,
    "start_time": "2024-01-17T12:25:41.824Z"
   },
   {
    "duration": 13340,
    "start_time": "2024-01-17T12:25:55.410Z"
   },
   {
    "duration": 16,
    "start_time": "2024-01-17T12:26:08.759Z"
   },
   {
    "duration": 20,
    "start_time": "2024-01-17T12:26:08.778Z"
   },
   {
    "duration": 16,
    "start_time": "2024-01-17T12:26:08.800Z"
   },
   {
    "duration": 6628,
    "start_time": "2024-01-17T18:44:45.291Z"
   },
   {
    "duration": 4039,
    "start_time": "2024-01-17T18:44:51.921Z"
   },
   {
    "duration": 65,
    "start_time": "2024-01-17T18:44:55.962Z"
   },
   {
    "duration": 53,
    "start_time": "2024-01-17T18:44:56.029Z"
   },
   {
    "duration": 12,
    "start_time": "2024-01-17T18:44:56.084Z"
   },
   {
    "duration": 86,
    "start_time": "2024-01-17T18:44:56.097Z"
   },
   {
    "duration": 4,
    "start_time": "2024-01-17T18:44:56.185Z"
   },
   {
    "duration": 20,
    "start_time": "2024-01-17T18:44:56.191Z"
   },
   {
    "duration": 13,
    "start_time": "2024-01-17T18:44:56.212Z"
   },
   {
    "duration": 61,
    "start_time": "2024-01-17T18:44:56.226Z"
   },
   {
    "duration": 12,
    "start_time": "2024-01-17T18:44:56.289Z"
   },
   {
    "duration": 317,
    "start_time": "2024-01-17T18:44:56.302Z"
   },
   {
    "duration": 17672,
    "start_time": "2024-01-17T18:44:56.621Z"
   },
   {
    "duration": 4299,
    "start_time": "2024-01-17T18:45:14.297Z"
   },
   {
    "duration": 7,
    "start_time": "2024-01-17T18:45:18.598Z"
   },
   {
    "duration": 7,
    "start_time": "2024-01-17T18:45:18.607Z"
   },
   {
    "duration": 78,
    "start_time": "2024-01-17T18:45:18.615Z"
   },
   {
    "duration": 4,
    "start_time": "2024-01-17T18:45:18.695Z"
   },
   {
    "duration": 5,
    "start_time": "2024-01-17T18:45:18.701Z"
   },
   {
    "duration": 3,
    "start_time": "2024-01-17T18:45:18.708Z"
   },
   {
    "duration": 70,
    "start_time": "2024-01-17T18:45:18.713Z"
   },
   {
    "duration": 11,
    "start_time": "2024-01-17T18:45:18.785Z"
   },
   {
    "duration": 20,
    "start_time": "2024-01-17T18:45:18.797Z"
   },
   {
    "duration": 293,
    "start_time": "2024-01-17T18:45:18.819Z"
   },
   {
    "duration": 27007,
    "start_time": "2024-01-17T18:45:19.114Z"
   },
   {
    "duration": 27175,
    "start_time": "2024-01-17T18:45:46.122Z"
   },
   {
    "duration": 16,
    "start_time": "2024-01-17T18:46:13.298Z"
   },
   {
    "duration": 84,
    "start_time": "2024-01-17T18:46:13.315Z"
   },
   {
    "duration": 17,
    "start_time": "2024-01-17T18:46:13.401Z"
   },
   {
    "duration": 3326,
    "start_time": "2024-01-18T06:46:49.080Z"
   },
   {
    "duration": 2444,
    "start_time": "2024-01-18T06:47:00.068Z"
   },
   {
    "duration": 1540,
    "start_time": "2024-01-18T06:47:02.514Z"
   },
   {
    "duration": 151,
    "start_time": "2024-01-18T06:47:04.056Z"
   },
   {
    "duration": 14,
    "start_time": "2024-01-18T06:47:04.209Z"
   },
   {
    "duration": 14,
    "start_time": "2024-01-18T06:47:04.225Z"
   },
   {
    "duration": 25,
    "start_time": "2024-01-18T06:47:04.241Z"
   },
   {
    "duration": 4,
    "start_time": "2024-01-18T06:47:04.268Z"
   },
   {
    "duration": 15,
    "start_time": "2024-01-18T06:47:04.274Z"
   },
   {
    "duration": 16,
    "start_time": "2024-01-18T06:47:04.292Z"
   },
   {
    "duration": 31,
    "start_time": "2024-01-18T06:47:04.311Z"
   },
   {
    "duration": 26,
    "start_time": "2024-01-18T06:47:04.343Z"
   },
   {
    "duration": 128,
    "start_time": "2024-01-18T06:47:04.371Z"
   },
   {
    "duration": 5375,
    "start_time": "2024-01-18T06:47:04.500Z"
   },
   {
    "duration": 1422,
    "start_time": "2024-01-18T06:47:09.876Z"
   },
   {
    "duration": 7,
    "start_time": "2024-01-18T06:47:11.300Z"
   },
   {
    "duration": 32,
    "start_time": "2024-01-18T06:47:11.309Z"
   },
   {
    "duration": 22,
    "start_time": "2024-01-18T06:47:11.342Z"
   },
   {
    "duration": 30,
    "start_time": "2024-01-18T06:47:11.366Z"
   },
   {
    "duration": 28,
    "start_time": "2024-01-18T06:47:11.398Z"
   },
   {
    "duration": 17,
    "start_time": "2024-01-18T06:47:11.428Z"
   },
   {
    "duration": 8,
    "start_time": "2024-01-18T06:47:11.447Z"
   },
   {
    "duration": 10,
    "start_time": "2024-01-18T06:47:11.457Z"
   },
   {
    "duration": 23,
    "start_time": "2024-01-18T06:47:11.468Z"
   },
   {
    "duration": 127,
    "start_time": "2024-01-18T06:47:11.492Z"
   },
   {
    "duration": 11956,
    "start_time": "2024-01-18T06:47:11.621Z"
   },
   {
    "duration": 11802,
    "start_time": "2024-01-18T06:47:23.579Z"
   },
   {
    "duration": 19,
    "start_time": "2024-01-18T06:47:35.382Z"
   },
   {
    "duration": 18,
    "start_time": "2024-01-18T06:47:35.405Z"
   },
   {
    "duration": 22,
    "start_time": "2024-01-18T06:47:35.424Z"
   },
   {
    "duration": 5294,
    "start_time": "2024-01-18T06:48:23.464Z"
   },
   {
    "duration": 9,
    "start_time": "2024-01-18T06:56:38.578Z"
   },
   {
    "duration": 113,
    "start_time": "2024-01-18T06:58:09.259Z"
   },
   {
    "duration": 8,
    "start_time": "2024-01-18T07:01:43.588Z"
   },
   {
    "duration": 2351,
    "start_time": "2024-01-18T07:04:08.185Z"
   },
   {
    "duration": 1432,
    "start_time": "2024-01-18T07:04:10.539Z"
   },
   {
    "duration": 71,
    "start_time": "2024-01-18T07:04:11.973Z"
   },
   {
    "duration": 12,
    "start_time": "2024-01-18T07:04:12.046Z"
   },
   {
    "duration": 16,
    "start_time": "2024-01-18T07:04:12.059Z"
   },
   {
    "duration": 32,
    "start_time": "2024-01-18T07:04:12.077Z"
   },
   {
    "duration": 3,
    "start_time": "2024-01-18T07:04:12.111Z"
   },
   {
    "duration": 18,
    "start_time": "2024-01-18T07:04:12.116Z"
   },
   {
    "duration": 6,
    "start_time": "2024-01-18T07:04:12.136Z"
   },
   {
    "duration": 12,
    "start_time": "2024-01-18T07:04:12.144Z"
   },
   {
    "duration": 19,
    "start_time": "2024-01-18T07:04:12.158Z"
   },
   {
    "duration": 104,
    "start_time": "2024-01-18T07:04:12.178Z"
   },
   {
    "duration": 5319,
    "start_time": "2024-01-18T07:04:12.284Z"
   },
   {
    "duration": 6,
    "start_time": "2024-01-18T07:04:17.605Z"
   },
   {
    "duration": 21,
    "start_time": "2024-01-18T07:04:17.613Z"
   },
   {
    "duration": 29,
    "start_time": "2024-01-18T07:04:17.635Z"
   },
   {
    "duration": 39,
    "start_time": "2024-01-18T07:04:17.665Z"
   },
   {
    "duration": 8,
    "start_time": "2024-01-18T07:04:17.705Z"
   },
   {
    "duration": 6,
    "start_time": "2024-01-18T07:04:17.714Z"
   },
   {
    "duration": 5,
    "start_time": "2024-01-18T07:04:17.722Z"
   },
   {
    "duration": 9,
    "start_time": "2024-01-18T07:04:17.728Z"
   },
   {
    "duration": 12,
    "start_time": "2024-01-18T07:04:17.738Z"
   },
   {
    "duration": 103,
    "start_time": "2024-01-18T07:04:17.751Z"
   },
   {
    "duration": 11570,
    "start_time": "2024-01-18T07:04:17.855Z"
   },
   {
    "duration": 11892,
    "start_time": "2024-01-18T07:04:29.426Z"
   },
   {
    "duration": 8,
    "start_time": "2024-01-18T07:04:41.319Z"
   }
  ],
  "kernelspec": {
   "display_name": "Python 3 (ipykernel)",
   "language": "python",
   "name": "python3"
  },
  "language_info": {
   "codemirror_mode": {
    "name": "ipython",
    "version": 3
   },
   "file_extension": ".py",
   "mimetype": "text/x-python",
   "name": "python",
   "nbconvert_exporter": "python",
   "pygments_lexer": "ipython3",
   "version": "3.12.0"
  },
  "toc": {
   "base_numbering": 1,
   "nav_menu": {},
   "number_sections": true,
   "sideBar": true,
   "skip_h1_title": true,
   "title_cell": "Table of Contents",
   "title_sidebar": "Contents",
   "toc_cell": false,
   "toc_position": {},
   "toc_section_display": true,
   "toc_window_display": false
  }
 },
 "nbformat": 4,
 "nbformat_minor": 4
}
