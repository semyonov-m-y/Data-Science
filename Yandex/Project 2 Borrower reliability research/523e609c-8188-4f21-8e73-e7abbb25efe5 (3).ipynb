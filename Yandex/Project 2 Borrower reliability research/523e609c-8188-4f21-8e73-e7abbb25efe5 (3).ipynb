{
 "cells": [
  {
   "cell_type": "markdown",
   "id": "c73810b4",
   "metadata": {
    "deletable": false,
    "editable": false,
    "id": "c81daeeb"
   },
   "source": [
    "# Исследование надежности заемщиков\n"
   ]
  },
  {
   "cell_type": "markdown",
   "id": "c64683a9",
   "metadata": {},
   "source": [
    "**Описание проекта**\n",
    "Заказчик — кредитный отдел банка. Нужно разобраться, влияет ли семейное положение и количество детей клиента на факт погашения кредита в срок. Входные данные от банка — статистика о платёжеспособности клиентов.\n",
    "Результаты исследования будут учтены при построении модели кредитного скоринга — специальной системы, которая оценивает способность потенциального заёмщика вернуть кредит банку.\n",
    "\n",
    "**Описание данных**\n",
    "•\tchildren — количество детей в семье\n",
    "•\tdays_employed — общий трудовой стаж в днях\n",
    "•\tdob_years — возраст клиента в годах\n",
    "•\teducation — уровень образования клиента\n",
    "•\teducation_id — идентификатор уровня образования\n",
    "•\tfamily_status — семейное положение\n",
    "•\tfamily_status_id — идентификатор семейного положения\n",
    "•\tgender — пол клиента\n",
    "•\tincome_type — тип занятости\n",
    "•\tdebt — имел ли задолженность по возврату кредитов\n",
    "•\ttotal_income — ежемесячный доход\n",
    "•\tpurpose — цель получения кредита\n",
    "\n",
    "**Цель исследования** — ответить на вопросы:\n",
    "\n",
    "- Есть ли зависимость между наличием детей и возвратом кредита в срок?\n",
    "- Есть ли зависимость между семейным положением и возвратом кредита в срок?\n",
    "- Есть ли зависимость между уровнем дохода и возвратом кредита в срок?\n",
    "- Как разные цели кредита влияют на его возврат в срок?\n",
    "\n",
    "**Порядок исследования**\n",
    "\n",
    "Входные данные от банка — статистика о платёжеспособности клиентов — получены из файла data.csv. Качество предоставляемых данных никто гарантировать не может. Поэтому перед тем, как отвечать на вопрсоы исследования и делать вывод, понадобится обзор данных.\n",
    "\n",
    "Проверим данные на пропуски, выбросы, дубли и оценим их влияние на исследование. Затем, на этапе предобработки, поищем возможность исправить самые критичные ошибки данных.\n",
    "\n",
    "После ответа на поставленные цели исследования, сделаем общий вывод.\n",
    "\n",
    "Таким образом, исследование пройдёт в четыре этапа:\n",
    "\n",
    "    1) Обзор данных\n",
    "    2) Предобработка данных\n",
    "    3) Ответы на вопросы исследования\n",
    "    4) Общий вывод"
   ]
  },
  {
   "cell_type": "markdown",
   "id": "ea513418",
   "metadata": {
    "deletable": false,
    "editable": false,
    "id": "827c20bf"
   },
   "source": [
    "Во второй части проекта вы выполните шаги 3 и 4. Их вручную проверит ревьюер.\n",
    "Чтобы вам не пришлось писать код заново для шагов 1 и 2, мы добавили авторские решения в ячейки с кодом. \n",
    "\n"
   ]
  },
  {
   "cell_type": "markdown",
   "id": "1a2b4b5c",
   "metadata": {
    "deletable": false,
    "editable": false,
    "id": "744d7639"
   },
   "source": [
    "## Откройте таблицу и изучите общую информацию о данных"
   ]
  },
  {
   "cell_type": "markdown",
   "id": "be544c5d",
   "metadata": {
    "deletable": false,
    "editable": false,
    "id": "e7a14c31"
   },
   "source": [
    "**Задание 1. Импортируйте библиотеку pandas. Считайте данные из csv-файла в датафрейм и сохраните в переменную `data`. Путь к файлу:**\n",
    "\n",
    "`/datasets/data.csv`"
   ]
  },
  {
   "cell_type": "code",
   "execution_count": 1,
   "id": "9f08cd6b",
   "metadata": {
    "deletable": false,
    "id": "7bcf75c9"
   },
   "outputs": [],
   "source": [
    "import pandas as pd\n",
    "import seaborn as sns\n",
    "import matplotlib.pyplot as plt\n",
    "import plotly.express as px\n",
    "\n",
    "try:\n",
    "    data = pd.read_csv('/datasets/data.csv')\n",
    "except:\n",
    "    data = pd.read_csv('https://code.s3.yandex.net/datasets/data.csv')"
   ]
  },
  {
   "cell_type": "markdown",
   "id": "1a4d4573",
   "metadata": {
    "deletable": false,
    "editable": false,
    "id": "b8038fe3"
   },
   "source": [
    "**Задание 2. Выведите первые 20 строчек датафрейма `data` на экран.**"
   ]
  },
  {
   "cell_type": "code",
   "execution_count": 2,
   "id": "1f17e773",
   "metadata": {
    "deletable": false,
    "id": "2a7cab99",
    "outputId": "1a8f3ef2-d323-4ec2-ddf7-89670b5944c4"
   },
   "outputs": [
    {
     "data": {
      "text/html": [
       "<div>\n",
       "<style scoped>\n",
       "    .dataframe tbody tr th:only-of-type {\n",
       "        vertical-align: middle;\n",
       "    }\n",
       "\n",
       "    .dataframe tbody tr th {\n",
       "        vertical-align: top;\n",
       "    }\n",
       "\n",
       "    .dataframe thead th {\n",
       "        text-align: right;\n",
       "    }\n",
       "</style>\n",
       "<table border=\"1\" class=\"dataframe\">\n",
       "  <thead>\n",
       "    <tr style=\"text-align: right;\">\n",
       "      <th></th>\n",
       "      <th>children</th>\n",
       "      <th>days_employed</th>\n",
       "      <th>dob_years</th>\n",
       "      <th>education</th>\n",
       "      <th>education_id</th>\n",
       "      <th>family_status</th>\n",
       "      <th>family_status_id</th>\n",
       "      <th>gender</th>\n",
       "      <th>income_type</th>\n",
       "      <th>debt</th>\n",
       "      <th>total_income</th>\n",
       "      <th>purpose</th>\n",
       "    </tr>\n",
       "  </thead>\n",
       "  <tbody>\n",
       "    <tr>\n",
       "      <th>0</th>\n",
       "      <td>1</td>\n",
       "      <td>-8437.673028</td>\n",
       "      <td>42</td>\n",
       "      <td>высшее</td>\n",
       "      <td>0</td>\n",
       "      <td>женат / замужем</td>\n",
       "      <td>0</td>\n",
       "      <td>F</td>\n",
       "      <td>сотрудник</td>\n",
       "      <td>0</td>\n",
       "      <td>253875.639453</td>\n",
       "      <td>покупка жилья</td>\n",
       "    </tr>\n",
       "    <tr>\n",
       "      <th>1</th>\n",
       "      <td>1</td>\n",
       "      <td>-4024.803754</td>\n",
       "      <td>36</td>\n",
       "      <td>среднее</td>\n",
       "      <td>1</td>\n",
       "      <td>женат / замужем</td>\n",
       "      <td>0</td>\n",
       "      <td>F</td>\n",
       "      <td>сотрудник</td>\n",
       "      <td>0</td>\n",
       "      <td>112080.014102</td>\n",
       "      <td>приобретение автомобиля</td>\n",
       "    </tr>\n",
       "    <tr>\n",
       "      <th>2</th>\n",
       "      <td>0</td>\n",
       "      <td>-5623.422610</td>\n",
       "      <td>33</td>\n",
       "      <td>Среднее</td>\n",
       "      <td>1</td>\n",
       "      <td>женат / замужем</td>\n",
       "      <td>0</td>\n",
       "      <td>M</td>\n",
       "      <td>сотрудник</td>\n",
       "      <td>0</td>\n",
       "      <td>145885.952297</td>\n",
       "      <td>покупка жилья</td>\n",
       "    </tr>\n",
       "    <tr>\n",
       "      <th>3</th>\n",
       "      <td>3</td>\n",
       "      <td>-4124.747207</td>\n",
       "      <td>32</td>\n",
       "      <td>среднее</td>\n",
       "      <td>1</td>\n",
       "      <td>женат / замужем</td>\n",
       "      <td>0</td>\n",
       "      <td>M</td>\n",
       "      <td>сотрудник</td>\n",
       "      <td>0</td>\n",
       "      <td>267628.550329</td>\n",
       "      <td>дополнительное образование</td>\n",
       "    </tr>\n",
       "    <tr>\n",
       "      <th>4</th>\n",
       "      <td>0</td>\n",
       "      <td>340266.072047</td>\n",
       "      <td>53</td>\n",
       "      <td>среднее</td>\n",
       "      <td>1</td>\n",
       "      <td>гражданский брак</td>\n",
       "      <td>1</td>\n",
       "      <td>F</td>\n",
       "      <td>пенсионер</td>\n",
       "      <td>0</td>\n",
       "      <td>158616.077870</td>\n",
       "      <td>сыграть свадьбу</td>\n",
       "    </tr>\n",
       "    <tr>\n",
       "      <th>5</th>\n",
       "      <td>0</td>\n",
       "      <td>-926.185831</td>\n",
       "      <td>27</td>\n",
       "      <td>высшее</td>\n",
       "      <td>0</td>\n",
       "      <td>гражданский брак</td>\n",
       "      <td>1</td>\n",
       "      <td>M</td>\n",
       "      <td>компаньон</td>\n",
       "      <td>0</td>\n",
       "      <td>255763.565419</td>\n",
       "      <td>покупка жилья</td>\n",
       "    </tr>\n",
       "    <tr>\n",
       "      <th>6</th>\n",
       "      <td>0</td>\n",
       "      <td>-2879.202052</td>\n",
       "      <td>43</td>\n",
       "      <td>высшее</td>\n",
       "      <td>0</td>\n",
       "      <td>женат / замужем</td>\n",
       "      <td>0</td>\n",
       "      <td>F</td>\n",
       "      <td>компаньон</td>\n",
       "      <td>0</td>\n",
       "      <td>240525.971920</td>\n",
       "      <td>операции с жильем</td>\n",
       "    </tr>\n",
       "    <tr>\n",
       "      <th>7</th>\n",
       "      <td>0</td>\n",
       "      <td>-152.779569</td>\n",
       "      <td>50</td>\n",
       "      <td>СРЕДНЕЕ</td>\n",
       "      <td>1</td>\n",
       "      <td>женат / замужем</td>\n",
       "      <td>0</td>\n",
       "      <td>M</td>\n",
       "      <td>сотрудник</td>\n",
       "      <td>0</td>\n",
       "      <td>135823.934197</td>\n",
       "      <td>образование</td>\n",
       "    </tr>\n",
       "    <tr>\n",
       "      <th>8</th>\n",
       "      <td>2</td>\n",
       "      <td>-6929.865299</td>\n",
       "      <td>35</td>\n",
       "      <td>ВЫСШЕЕ</td>\n",
       "      <td>0</td>\n",
       "      <td>гражданский брак</td>\n",
       "      <td>1</td>\n",
       "      <td>F</td>\n",
       "      <td>сотрудник</td>\n",
       "      <td>0</td>\n",
       "      <td>95856.832424</td>\n",
       "      <td>на проведение свадьбы</td>\n",
       "    </tr>\n",
       "    <tr>\n",
       "      <th>9</th>\n",
       "      <td>0</td>\n",
       "      <td>-2188.756445</td>\n",
       "      <td>41</td>\n",
       "      <td>среднее</td>\n",
       "      <td>1</td>\n",
       "      <td>женат / замужем</td>\n",
       "      <td>0</td>\n",
       "      <td>M</td>\n",
       "      <td>сотрудник</td>\n",
       "      <td>0</td>\n",
       "      <td>144425.938277</td>\n",
       "      <td>покупка жилья для семьи</td>\n",
       "    </tr>\n",
       "    <tr>\n",
       "      <th>10</th>\n",
       "      <td>2</td>\n",
       "      <td>-4171.483647</td>\n",
       "      <td>36</td>\n",
       "      <td>высшее</td>\n",
       "      <td>0</td>\n",
       "      <td>женат / замужем</td>\n",
       "      <td>0</td>\n",
       "      <td>M</td>\n",
       "      <td>компаньон</td>\n",
       "      <td>0</td>\n",
       "      <td>113943.491460</td>\n",
       "      <td>покупка недвижимости</td>\n",
       "    </tr>\n",
       "    <tr>\n",
       "      <th>11</th>\n",
       "      <td>0</td>\n",
       "      <td>-792.701887</td>\n",
       "      <td>40</td>\n",
       "      <td>среднее</td>\n",
       "      <td>1</td>\n",
       "      <td>женат / замужем</td>\n",
       "      <td>0</td>\n",
       "      <td>F</td>\n",
       "      <td>сотрудник</td>\n",
       "      <td>0</td>\n",
       "      <td>77069.234271</td>\n",
       "      <td>покупка коммерческой недвижимости</td>\n",
       "    </tr>\n",
       "    <tr>\n",
       "      <th>12</th>\n",
       "      <td>0</td>\n",
       "      <td>NaN</td>\n",
       "      <td>65</td>\n",
       "      <td>среднее</td>\n",
       "      <td>1</td>\n",
       "      <td>гражданский брак</td>\n",
       "      <td>1</td>\n",
       "      <td>M</td>\n",
       "      <td>пенсионер</td>\n",
       "      <td>0</td>\n",
       "      <td>NaN</td>\n",
       "      <td>сыграть свадьбу</td>\n",
       "    </tr>\n",
       "    <tr>\n",
       "      <th>13</th>\n",
       "      <td>0</td>\n",
       "      <td>-1846.641941</td>\n",
       "      <td>54</td>\n",
       "      <td>неоконченное высшее</td>\n",
       "      <td>2</td>\n",
       "      <td>женат / замужем</td>\n",
       "      <td>0</td>\n",
       "      <td>F</td>\n",
       "      <td>сотрудник</td>\n",
       "      <td>0</td>\n",
       "      <td>130458.228857</td>\n",
       "      <td>приобретение автомобиля</td>\n",
       "    </tr>\n",
       "    <tr>\n",
       "      <th>14</th>\n",
       "      <td>0</td>\n",
       "      <td>-1844.956182</td>\n",
       "      <td>56</td>\n",
       "      <td>высшее</td>\n",
       "      <td>0</td>\n",
       "      <td>гражданский брак</td>\n",
       "      <td>1</td>\n",
       "      <td>F</td>\n",
       "      <td>компаньон</td>\n",
       "      <td>1</td>\n",
       "      <td>165127.911772</td>\n",
       "      <td>покупка жилой недвижимости</td>\n",
       "    </tr>\n",
       "    <tr>\n",
       "      <th>15</th>\n",
       "      <td>1</td>\n",
       "      <td>-972.364419</td>\n",
       "      <td>26</td>\n",
       "      <td>среднее</td>\n",
       "      <td>1</td>\n",
       "      <td>женат / замужем</td>\n",
       "      <td>0</td>\n",
       "      <td>F</td>\n",
       "      <td>сотрудник</td>\n",
       "      <td>0</td>\n",
       "      <td>116820.904450</td>\n",
       "      <td>строительство собственной недвижимости</td>\n",
       "    </tr>\n",
       "    <tr>\n",
       "      <th>16</th>\n",
       "      <td>0</td>\n",
       "      <td>-1719.934226</td>\n",
       "      <td>35</td>\n",
       "      <td>среднее</td>\n",
       "      <td>1</td>\n",
       "      <td>женат / замужем</td>\n",
       "      <td>0</td>\n",
       "      <td>F</td>\n",
       "      <td>сотрудник</td>\n",
       "      <td>0</td>\n",
       "      <td>289202.704229</td>\n",
       "      <td>недвижимость</td>\n",
       "    </tr>\n",
       "    <tr>\n",
       "      <th>17</th>\n",
       "      <td>0</td>\n",
       "      <td>-2369.999720</td>\n",
       "      <td>33</td>\n",
       "      <td>высшее</td>\n",
       "      <td>0</td>\n",
       "      <td>гражданский брак</td>\n",
       "      <td>1</td>\n",
       "      <td>M</td>\n",
       "      <td>сотрудник</td>\n",
       "      <td>0</td>\n",
       "      <td>90410.586745</td>\n",
       "      <td>строительство недвижимости</td>\n",
       "    </tr>\n",
       "    <tr>\n",
       "      <th>18</th>\n",
       "      <td>0</td>\n",
       "      <td>400281.136913</td>\n",
       "      <td>53</td>\n",
       "      <td>среднее</td>\n",
       "      <td>1</td>\n",
       "      <td>вдовец / вдова</td>\n",
       "      <td>2</td>\n",
       "      <td>F</td>\n",
       "      <td>пенсионер</td>\n",
       "      <td>0</td>\n",
       "      <td>56823.777243</td>\n",
       "      <td>на покупку подержанного автомобиля</td>\n",
       "    </tr>\n",
       "    <tr>\n",
       "      <th>19</th>\n",
       "      <td>0</td>\n",
       "      <td>-10038.818549</td>\n",
       "      <td>48</td>\n",
       "      <td>СРЕДНЕЕ</td>\n",
       "      <td>1</td>\n",
       "      <td>в разводе</td>\n",
       "      <td>3</td>\n",
       "      <td>F</td>\n",
       "      <td>сотрудник</td>\n",
       "      <td>0</td>\n",
       "      <td>242831.107982</td>\n",
       "      <td>на покупку своего автомобиля</td>\n",
       "    </tr>\n",
       "  </tbody>\n",
       "</table>\n",
       "</div>"
      ],
      "text/plain": [
       "    children  days_employed  dob_years            education  education_id  \\\n",
       "0          1   -8437.673028         42               высшее             0   \n",
       "1          1   -4024.803754         36              среднее             1   \n",
       "2          0   -5623.422610         33              Среднее             1   \n",
       "3          3   -4124.747207         32              среднее             1   \n",
       "4          0  340266.072047         53              среднее             1   \n",
       "5          0    -926.185831         27               высшее             0   \n",
       "6          0   -2879.202052         43               высшее             0   \n",
       "7          0    -152.779569         50              СРЕДНЕЕ             1   \n",
       "8          2   -6929.865299         35               ВЫСШЕЕ             0   \n",
       "9          0   -2188.756445         41              среднее             1   \n",
       "10         2   -4171.483647         36               высшее             0   \n",
       "11         0    -792.701887         40              среднее             1   \n",
       "12         0            NaN         65              среднее             1   \n",
       "13         0   -1846.641941         54  неоконченное высшее             2   \n",
       "14         0   -1844.956182         56               высшее             0   \n",
       "15         1    -972.364419         26              среднее             1   \n",
       "16         0   -1719.934226         35              среднее             1   \n",
       "17         0   -2369.999720         33               высшее             0   \n",
       "18         0  400281.136913         53              среднее             1   \n",
       "19         0  -10038.818549         48              СРЕДНЕЕ             1   \n",
       "\n",
       "       family_status  family_status_id gender income_type  debt  \\\n",
       "0    женат / замужем                 0      F   сотрудник     0   \n",
       "1    женат / замужем                 0      F   сотрудник     0   \n",
       "2    женат / замужем                 0      M   сотрудник     0   \n",
       "3    женат / замужем                 0      M   сотрудник     0   \n",
       "4   гражданский брак                 1      F   пенсионер     0   \n",
       "5   гражданский брак                 1      M   компаньон     0   \n",
       "6    женат / замужем                 0      F   компаньон     0   \n",
       "7    женат / замужем                 0      M   сотрудник     0   \n",
       "8   гражданский брак                 1      F   сотрудник     0   \n",
       "9    женат / замужем                 0      M   сотрудник     0   \n",
       "10   женат / замужем                 0      M   компаньон     0   \n",
       "11   женат / замужем                 0      F   сотрудник     0   \n",
       "12  гражданский брак                 1      M   пенсионер     0   \n",
       "13   женат / замужем                 0      F   сотрудник     0   \n",
       "14  гражданский брак                 1      F   компаньон     1   \n",
       "15   женат / замужем                 0      F   сотрудник     0   \n",
       "16   женат / замужем                 0      F   сотрудник     0   \n",
       "17  гражданский брак                 1      M   сотрудник     0   \n",
       "18    вдовец / вдова                 2      F   пенсионер     0   \n",
       "19         в разводе                 3      F   сотрудник     0   \n",
       "\n",
       "     total_income                                 purpose  \n",
       "0   253875.639453                           покупка жилья  \n",
       "1   112080.014102                 приобретение автомобиля  \n",
       "2   145885.952297                           покупка жилья  \n",
       "3   267628.550329              дополнительное образование  \n",
       "4   158616.077870                         сыграть свадьбу  \n",
       "5   255763.565419                           покупка жилья  \n",
       "6   240525.971920                       операции с жильем  \n",
       "7   135823.934197                             образование  \n",
       "8    95856.832424                   на проведение свадьбы  \n",
       "9   144425.938277                 покупка жилья для семьи  \n",
       "10  113943.491460                    покупка недвижимости  \n",
       "11   77069.234271       покупка коммерческой недвижимости  \n",
       "12            NaN                         сыграть свадьбу  \n",
       "13  130458.228857                 приобретение автомобиля  \n",
       "14  165127.911772              покупка жилой недвижимости  \n",
       "15  116820.904450  строительство собственной недвижимости  \n",
       "16  289202.704229                            недвижимость  \n",
       "17   90410.586745              строительство недвижимости  \n",
       "18   56823.777243      на покупку подержанного автомобиля  \n",
       "19  242831.107982            на покупку своего автомобиля  "
      ]
     },
     "execution_count": 2,
     "metadata": {},
     "output_type": "execute_result"
    }
   ],
   "source": [
    "data.head(20)"
   ]
  },
  {
   "cell_type": "markdown",
   "id": "a676d251",
   "metadata": {
    "deletable": false,
    "editable": false,
    "id": "1c12e233"
   },
   "source": [
    "**Задание 3. Выведите основную информацию о датафрейме с помощью метода `info()`.**"
   ]
  },
  {
   "cell_type": "code",
   "execution_count": 3,
   "id": "35e5cb00",
   "metadata": {
    "deletable": false,
    "id": "2b757bca",
    "outputId": "15376089-8dad-46c9-b520-c05248d43158"
   },
   "outputs": [
    {
     "name": "stdout",
     "output_type": "stream",
     "text": [
      "<class 'pandas.core.frame.DataFrame'>\n",
      "RangeIndex: 21525 entries, 0 to 21524\n",
      "Data columns (total 12 columns):\n",
      " #   Column            Non-Null Count  Dtype  \n",
      "---  ------            --------------  -----  \n",
      " 0   children          21525 non-null  int64  \n",
      " 1   days_employed     19351 non-null  float64\n",
      " 2   dob_years         21525 non-null  int64  \n",
      " 3   education         21525 non-null  object \n",
      " 4   education_id      21525 non-null  int64  \n",
      " 5   family_status     21525 non-null  object \n",
      " 6   family_status_id  21525 non-null  int64  \n",
      " 7   gender            21525 non-null  object \n",
      " 8   income_type       21525 non-null  object \n",
      " 9   debt              21525 non-null  int64  \n",
      " 10  total_income      19351 non-null  float64\n",
      " 11  purpose           21525 non-null  object \n",
      "dtypes: float64(2), int64(5), object(5)\n",
      "memory usage: 2.0+ MB\n"
     ]
    }
   ],
   "source": [
    "data.info()"
   ]
  },
  {
   "cell_type": "markdown",
   "id": "07244f45",
   "metadata": {},
   "source": [
    "По полученным данных видно, что:\n",
    "    - количество столбцов соответствует ожидаемому, \n",
    "    - данных очень мало - всего 21525 строк\n",
    "    - имеем дело с тремя типами данных - float64 (в 2 столбцах), int64 (в 5 столбцах), object (в 5 столбцах)\n",
    "    - в столбцах days_employed и total_income имеются значения NaN - значения отсутствуют"
   ]
  },
  {
   "cell_type": "markdown",
   "id": "e6ff3a65",
   "metadata": {
    "deletable": false,
    "editable": false,
    "id": "333ec665"
   },
   "source": [
    "## Предобработка данных"
   ]
  },
  {
   "cell_type": "markdown",
   "id": "dfa6a998",
   "metadata": {
    "deletable": false,
    "editable": false,
    "id": "02d92d53"
   },
   "source": [
    "### Удаление пропусков"
   ]
  },
  {
   "cell_type": "markdown",
   "id": "9db3893c",
   "metadata": {
    "deletable": false,
    "editable": false,
    "id": "cd84967c"
   },
   "source": [
    "**Задание 4. Выведите количество пропущенных значений для каждого столбца. Используйте комбинацию двух методов.**"
   ]
  },
  {
   "cell_type": "code",
   "execution_count": 4,
   "id": "4a7194ba",
   "metadata": {
    "deletable": false,
    "id": "7f9b2309",
    "outputId": "81f4d817-781c-465c-ed15-91ce4446810d"
   },
   "outputs": [
    {
     "data": {
      "text/plain": [
       "children               0\n",
       "days_employed       2174\n",
       "dob_years              0\n",
       "education              0\n",
       "education_id           0\n",
       "family_status          0\n",
       "family_status_id       0\n",
       "gender                 0\n",
       "income_type            0\n",
       "debt                   0\n",
       "total_income        2174\n",
       "purpose                0\n",
       "dtype: int64"
      ]
     },
     "execution_count": 4,
     "metadata": {},
     "output_type": "execute_result"
    }
   ],
   "source": [
    "data.isna().sum()"
   ]
  },
  {
   "cell_type": "markdown",
   "id": "719246bd",
   "metadata": {
    "deletable": false,
    "editable": false,
    "id": "db86e27b"
   },
   "source": [
    "**Задание 5. В двух столбцах есть пропущенные значения. Один из них — `days_employed`. Пропуски в этом столбце вы обработаете на следующем этапе. Другой столбец с пропущенными значениями — `total_income` — хранит данные о доходах. На сумму дохода сильнее всего влияет тип занятости, поэтому заполнить пропуски в этом столбце нужно медианным значением по каждому типу из столбца `income_type`. Например, у человека с типом занятости `сотрудник` пропуск в столбце `total_income` должен быть заполнен медианным доходом среди всех записей с тем же типом.**"
   ]
  },
  {
   "cell_type": "code",
   "execution_count": 5,
   "id": "02622544",
   "metadata": {
    "deletable": false,
    "id": "42006a93"
   },
   "outputs": [],
   "source": [
    "for t in data['income_type'].unique():\n",
    "    data.loc[(data['income_type'] == t) & (data['total_income'].isna()), 'total_income'] = \\\n",
    "    data.loc[(data['income_type'] == t), 'total_income'].median()"
   ]
  },
  {
   "cell_type": "markdown",
   "id": "4fd810b4",
   "metadata": {
    "deletable": false,
    "editable": false,
    "id": "89da5ece"
   },
   "source": [
    "### Обработка аномальных значений"
   ]
  },
  {
   "cell_type": "markdown",
   "id": "74c71b81",
   "metadata": {
    "deletable": false,
    "editable": false,
    "id": "57964554"
   },
   "source": [
    "**Задание 6. В данных могут встречаться артефакты (аномалии) — значения, которые не отражают действительность и появились по какой-то ошибке. таким артефактом будет отрицательное количество дней трудового стажа в столбце `days_employed`. Для реальных данных это нормально. Обработайте значения в этом столбце: замените все отрицательные значения положительными с помощью метода `abs()`.**"
   ]
  },
  {
   "cell_type": "code",
   "execution_count": 6,
   "id": "68f4343f",
   "metadata": {
    "deletable": false,
    "id": "f6f055bf"
   },
   "outputs": [],
   "source": [
    "data['days_employed'] = data['days_employed'].abs()"
   ]
  },
  {
   "cell_type": "markdown",
   "id": "fbfd0bb4",
   "metadata": {
    "deletable": false,
    "editable": false,
    "id": "6107dd2f"
   },
   "source": [
    "**Задание 7. Для каждого типа занятости выведите медианное значение трудового стажа `days_employed` в днях.**"
   ]
  },
  {
   "cell_type": "code",
   "execution_count": 7,
   "id": "d0450441",
   "metadata": {
    "deletable": false,
    "id": "85a5faf6",
    "outputId": "801ef80e-522b-4668-f34e-565af7432bcf"
   },
   "outputs": [
    {
     "data": {
      "text/plain": [
       "income_type\n",
       "безработный        366413.652744\n",
       "в декрете            3296.759962\n",
       "госслужащий          2689.368353\n",
       "компаньон            1547.382223\n",
       "пенсионер          365213.306266\n",
       "предприниматель       520.848083\n",
       "сотрудник            1574.202821\n",
       "студент               578.751554\n",
       "Name: days_employed, dtype: float64"
      ]
     },
     "execution_count": 7,
     "metadata": {},
     "output_type": "execute_result"
    }
   ],
   "source": [
    "data.groupby('income_type')['days_employed'].agg('median')"
   ]
  },
  {
   "cell_type": "markdown",
   "id": "8f01717c",
   "metadata": {
    "deletable": false,
    "editable": false,
    "id": "38d1a030"
   },
   "source": [
    "У двух типов (безработные и пенсионеры) получатся аномально большие значения. Исправить такие значения сложно, поэтому оставьте их как есть. Тем более этот столбец не понадобится вам для исследования."
   ]
  },
  {
   "cell_type": "markdown",
   "id": "d2c8b9c6",
   "metadata": {
    "deletable": false,
    "editable": false,
    "id": "d8a9f147"
   },
   "source": [
    "**Задание 8. Выведите перечень уникальных значений столбца `children`.**"
   ]
  },
  {
   "cell_type": "code",
   "execution_count": 8,
   "id": "cdc708df",
   "metadata": {
    "deletable": false,
    "id": "ef5056eb",
    "outputId": "6975b15c-7f95-4697-d16d-a0c79b657b03"
   },
   "outputs": [
    {
     "data": {
      "text/plain": [
       "array([ 1,  0,  3,  2, -1,  4, 20,  5])"
      ]
     },
     "execution_count": 8,
     "metadata": {},
     "output_type": "execute_result"
    }
   ],
   "source": [
    "data['children'].unique()"
   ]
  },
  {
   "cell_type": "markdown",
   "id": "a14315f0",
   "metadata": {
    "deletable": false,
    "editable": false,
    "id": "40b9ebf2"
   },
   "source": [
    "**Задание 9. В столбце `children` есть два аномальных значения. Удалите строки, в которых встречаются такие аномальные значения из датафрейма `data`.**"
   ]
  },
  {
   "cell_type": "code",
   "execution_count": 9,
   "id": "f42a2c8a",
   "metadata": {
    "deletable": false,
    "id": "3ff9801d"
   },
   "outputs": [],
   "source": [
    "data = data[(data['children'] != -1) & (data['children'] != 20)]"
   ]
  },
  {
   "cell_type": "markdown",
   "id": "60634cd6",
   "metadata": {
    "deletable": false,
    "editable": false,
    "id": "bbc4d0ce"
   },
   "source": [
    "**Задание 10. Ещё раз выведите перечень уникальных значений столбца `children`, чтобы убедиться, что артефакты удалены.**"
   ]
  },
  {
   "cell_type": "code",
   "execution_count": 10,
   "id": "b1bb7ee9",
   "metadata": {
    "deletable": false,
    "id": "ad4fa8b7",
    "outputId": "b2097101-d49d-44d9-901b-32a65c9463d1"
   },
   "outputs": [
    {
     "data": {
      "text/plain": [
       "array([1, 0, 3, 2, 4, 5])"
      ]
     },
     "execution_count": 10,
     "metadata": {},
     "output_type": "execute_result"
    }
   ],
   "source": [
    "data['children'].unique()"
   ]
  },
  {
   "cell_type": "markdown",
   "id": "748a8c84",
   "metadata": {
    "deletable": false,
    "editable": false,
    "id": "75440b63"
   },
   "source": [
    "### Удаление пропусков (продолжение)"
   ]
  },
  {
   "cell_type": "markdown",
   "id": "69bf8ff3",
   "metadata": {
    "deletable": false,
    "editable": false,
    "id": "f4ea573f"
   },
   "source": [
    "**Задание 11. Заполните пропуски в столбце `days_employed` медианными значениями по каждого типа занятости `income_type`.**"
   ]
  },
  {
   "cell_type": "code",
   "execution_count": 11,
   "id": "ad934cb4",
   "metadata": {
    "deletable": false,
    "id": "af6b1a7e"
   },
   "outputs": [],
   "source": [
    "for t in data['income_type'].unique():\n",
    "    data.loc[(data['income_type'] == t) & (data['days_employed'].isna()), 'days_employed'] = \\\n",
    "    data.loc[(data['income_type'] == t), 'days_employed'].median()"
   ]
  },
  {
   "cell_type": "markdown",
   "id": "ea00e383",
   "metadata": {
    "deletable": false,
    "editable": false,
    "id": "2753f40d"
   },
   "source": [
    "**Задание 12. Убедитесь, что все пропуски заполнены. Проверьте себя и ещё раз выведите количество пропущенных значений для каждого столбца с помощью двух методов.**"
   ]
  },
  {
   "cell_type": "code",
   "execution_count": 12,
   "id": "af281d11",
   "metadata": {
    "deletable": false,
    "id": "55f78bc2",
    "outputId": "8da1e4e1-358e-4e87-98c9-f261bce0a7b2"
   },
   "outputs": [
    {
     "data": {
      "text/plain": [
       "children            0\n",
       "days_employed       0\n",
       "dob_years           0\n",
       "education           0\n",
       "education_id        0\n",
       "family_status       0\n",
       "family_status_id    0\n",
       "gender              0\n",
       "income_type         0\n",
       "debt                0\n",
       "total_income        0\n",
       "purpose             0\n",
       "dtype: int64"
      ]
     },
     "execution_count": 12,
     "metadata": {},
     "output_type": "execute_result"
    }
   ],
   "source": [
    "data.isna().sum()"
   ]
  },
  {
   "cell_type": "markdown",
   "id": "9ff11157",
   "metadata": {
    "deletable": false,
    "editable": false,
    "id": "ddc81e43"
   },
   "source": [
    "### Изменение типов данных"
   ]
  },
  {
   "cell_type": "markdown",
   "id": "cedae217",
   "metadata": {
    "deletable": false,
    "editable": false,
    "id": "42d19d24"
   },
   "source": [
    "**Задание 13. Замените вещественный тип данных в столбце `total_income` на целочисленный с помощью метода `astype()`.**"
   ]
  },
  {
   "cell_type": "code",
   "execution_count": 13,
   "id": "d31955d8",
   "metadata": {
    "deletable": false,
    "id": "920b65ad"
   },
   "outputs": [],
   "source": [
    "data['total_income'] = data['total_income'].astype(int)"
   ]
  },
  {
   "cell_type": "markdown",
   "id": "420ca99d",
   "metadata": {
    "deletable": false,
    "editable": false,
    "id": "80c420ba"
   },
   "source": [
    "### Обработка дубликатов"
   ]
  },
  {
   "cell_type": "markdown",
   "id": "b16620b7",
   "metadata": {
    "deletable": false,
    "editable": false
   },
   "source": [
    "**Задание 14. Обработайте неявные дубликаты в столбце `education`. В этом столбце есть одни и те же значения, но записанные по-разному: с использованием заглавных и строчных букв. Приведите их к нижнему регистру. Проверьте остальные столбцы.**"
   ]
  },
  {
   "cell_type": "code",
   "execution_count": 14,
   "id": "09786a31",
   "metadata": {
    "deletable": false
   },
   "outputs": [],
   "source": [
    "data['education'] = data['education'].str.lower()"
   ]
  },
  {
   "cell_type": "markdown",
   "id": "61a934ed",
   "metadata": {
    "deletable": false,
    "editable": false,
    "id": "dc587695"
   },
   "source": [
    "**Задание 15. Выведите на экран количество строк-дубликатов в данных. Если такие строки присутствуют, удалите их.**"
   ]
  },
  {
   "cell_type": "code",
   "execution_count": 15,
   "id": "ee3dc336",
   "metadata": {
    "deletable": false,
    "id": "3ee445e4",
    "outputId": "9684deba-1934-42d1-99e1-cda61740f822"
   },
   "outputs": [
    {
     "data": {
      "text/plain": [
       "71"
      ]
     },
     "execution_count": 15,
     "metadata": {},
     "output_type": "execute_result"
    }
   ],
   "source": [
    "data.duplicated().sum()"
   ]
  },
  {
   "cell_type": "code",
   "execution_count": 16,
   "id": "f1f6275c",
   "metadata": {
    "deletable": false,
    "id": "8575fe05"
   },
   "outputs": [],
   "source": [
    "data = data.drop_duplicates()"
   ]
  },
  {
   "cell_type": "markdown",
   "id": "9e3a27ab",
   "metadata": {
    "deletable": false,
    "editable": false,
    "id": "9904cf55"
   },
   "source": [
    "### Категоризация данных"
   ]
  },
  {
   "cell_type": "markdown",
   "id": "ac0af964",
   "metadata": {
    "deletable": false,
    "editable": false,
    "id": "72fcc8a2"
   },
   "source": [
    "**Задание 16. На основании диапазонов, указанных ниже, создайте в датафрейме `data` столбец `total_income_category` с категориями:**\n",
    "\n",
    "- 0–30000 — `'E'`;\n",
    "- 30001–50000 — `'D'`;\n",
    "- 50001–200000 — `'C'`;\n",
    "- 200001–1000000 — `'B'`;\n",
    "- 1000001 и выше — `'A'`.\n",
    "\n",
    "\n",
    "**Например, кредитополучателю с доходом 25000 нужно назначить категорию `'E'`, а клиенту, получающему 235000, — `'B'`. Используйте собственную функцию с именем `categorize_income()` и метод `apply()`.**"
   ]
  },
  {
   "cell_type": "code",
   "execution_count": 17,
   "id": "c586ca1a",
   "metadata": {
    "deletable": false,
    "id": "e1771346"
   },
   "outputs": [],
   "source": [
    "def categorize_income(income):\n",
    "    try:\n",
    "        if 0 <= income <= 30000:\n",
    "            return 'E'\n",
    "        elif 30001 <= income <= 50000:\n",
    "            return 'D'\n",
    "        elif 50001 <= income <= 200000:\n",
    "            return 'C'\n",
    "        elif 200001 <= income <= 1000000:\n",
    "            return 'B'\n",
    "        elif income >= 1000001:\n",
    "            return 'A'\n",
    "    except:\n",
    "        pass"
   ]
  },
  {
   "cell_type": "code",
   "execution_count": 18,
   "id": "e5484e9c",
   "metadata": {
    "deletable": false,
    "id": "d5f3586d"
   },
   "outputs": [],
   "source": [
    "data['total_income_category'] = data['total_income'].apply(categorize_income)"
   ]
  },
  {
   "cell_type": "markdown",
   "id": "7f58a033",
   "metadata": {
    "deletable": false,
    "editable": false,
    "id": "dde49b5c"
   },
   "source": [
    "**Задание 17. Выведите на экран перечень уникальных целей взятия кредита из столбца `purpose`.**"
   ]
  },
  {
   "cell_type": "code",
   "execution_count": 19,
   "id": "bc87c964",
   "metadata": {
    "deletable": false,
    "id": "f67ce9b3",
    "outputId": "673c12d9-7d7e-4ae0-9812-c622c89dd244"
   },
   "outputs": [
    {
     "data": {
      "text/plain": [
       "array(['покупка жилья', 'приобретение автомобиля',\n",
       "       'дополнительное образование', 'сыграть свадьбу',\n",
       "       'операции с жильем', 'образование', 'на проведение свадьбы',\n",
       "       'покупка жилья для семьи', 'покупка недвижимости',\n",
       "       'покупка коммерческой недвижимости', 'покупка жилой недвижимости',\n",
       "       'строительство собственной недвижимости', 'недвижимость',\n",
       "       'строительство недвижимости', 'на покупку подержанного автомобиля',\n",
       "       'на покупку своего автомобиля',\n",
       "       'операции с коммерческой недвижимостью',\n",
       "       'строительство жилой недвижимости', 'жилье',\n",
       "       'операции со своей недвижимостью', 'автомобили',\n",
       "       'заняться образованием', 'сделка с подержанным автомобилем',\n",
       "       'получение образования', 'автомобиль', 'свадьба',\n",
       "       'получение дополнительного образования', 'покупка своего жилья',\n",
       "       'операции с недвижимостью', 'получение высшего образования',\n",
       "       'свой автомобиль', 'сделка с автомобилем',\n",
       "       'профильное образование', 'высшее образование',\n",
       "       'покупка жилья для сдачи', 'на покупку автомобиля', 'ремонт жилью',\n",
       "       'заняться высшим образованием'], dtype=object)"
      ]
     },
     "execution_count": 19,
     "metadata": {},
     "output_type": "execute_result"
    }
   ],
   "source": [
    "data['purpose'].unique()"
   ]
  },
  {
   "cell_type": "markdown",
   "id": "fcd51a10",
   "metadata": {
    "deletable": false,
    "editable": false,
    "id": "85d0aef0"
   },
   "source": [
    "**Задание 18. Создайте функцию, которая на основании данных из столбца `purpose` сформирует новый столбец `purpose_category`, в который войдут следующие категории:**\n",
    "\n",
    "- `'операции с автомобилем'`,\n",
    "- `'операции с недвижимостью'`,\n",
    "- `'проведение свадьбы'`,\n",
    "- `'получение образования'`.\n",
    "\n",
    "**Например, если в столбце `purpose` находится подстрока `'на покупку автомобиля'`, то в столбце `purpose_category` должна появиться строка `'операции с автомобилем'`.**\n",
    "\n",
    "**Используйте собственную функцию с именем `categorize_purpose()` и метод `apply()`. Изучите данные в столбце `purpose` и определите, какие подстроки помогут вам правильно определить категорию.**"
   ]
  },
  {
   "cell_type": "code",
   "execution_count": 20,
   "id": "75deca96",
   "metadata": {
    "deletable": false,
    "id": "e149fab4"
   },
   "outputs": [],
   "source": [
    "def categorize_purpose(row):\n",
    "    try:\n",
    "        if 'автом' in row:\n",
    "            return 'операции с автомобилем'\n",
    "        elif 'жил' in row or 'недвиж' in row:\n",
    "            return 'операции с недвижимостью'\n",
    "        elif 'свад' in row:\n",
    "            return 'проведение свадьбы'\n",
    "        elif 'образов' in row:\n",
    "            return 'получение образования'\n",
    "    except:\n",
    "        return 'нет категории'"
   ]
  },
  {
   "cell_type": "code",
   "execution_count": 21,
   "id": "848dab8a",
   "metadata": {
    "deletable": false,
    "id": "bf36e69b"
   },
   "outputs": [],
   "source": [
    "data['purpose_category'] = data['purpose'].apply(categorize_purpose)"
   ]
  },
  {
   "cell_type": "markdown",
   "id": "ed8e321c",
   "metadata": {},
   "source": [
    "Данные обработаны - мы избавились от пропусков, дубликатов, аномальных значений, категоризировали данные и привели их к необходимому типу.\n",
    "Можно приступать к исследованию."
   ]
  },
  {
   "cell_type": "markdown",
   "id": "4ff31a2e",
   "metadata": {
    "deletable": false,
    "editable": false,
    "id": "09b242bf"
   },
   "source": [
    "### Шаг 3. Исследуйте данные и ответьте на вопросы"
   ]
  },
  {
   "cell_type": "markdown",
   "id": "b17bc3e3",
   "metadata": {
    "deletable": false,
    "editable": false,
    "id": "c5d66278"
   },
   "source": [
    "#### 3.1 Есть ли зависимость между количеством детей и возвратом кредита в срок?"
   ]
  },
  {
   "cell_type": "code",
   "execution_count": 22,
   "id": "a02790b5",
   "metadata": {
    "deletable": false,
    "id": "2cacfc4a"
   },
   "outputs": [
    {
     "data": {
      "text/plain": [
       "0    14091\n",
       "1     4808\n",
       "2     2052\n",
       "3      330\n",
       "4       41\n",
       "5        9\n",
       "Name: children, dtype: int64"
      ]
     },
     "execution_count": 22,
     "metadata": {},
     "output_type": "execute_result"
    }
   ],
   "source": [
    "# Найдём уникальные значения в столбце children\n",
    "data.children.value_counts()"
   ]
  },
  {
   "cell_type": "code",
   "execution_count": 23,
   "id": "06e47550",
   "metadata": {},
   "outputs": [],
   "source": [
    "# Создадим столбец children_amount_category, который разобьет количество детей на категории и поместим в него данные \n",
    "#при помощи функции map\n",
    "data['children_amount_category'] = data['children'].map({0 : 'Нет детей', 1 : '1 ребенок', 2 : '2 ребенка', 3 : '3 ребенка', \\\n",
    "                                                         4 : '4 ребенка', 5 : '5 детей'})"
   ]
  },
  {
   "cell_type": "code",
   "execution_count": 24,
   "id": "1b5ff3fe",
   "metadata": {},
   "outputs": [
    {
     "data": {
      "text/html": [
       "<div>\n",
       "<style scoped>\n",
       "    .dataframe tbody tr th:only-of-type {\n",
       "        vertical-align: middle;\n",
       "    }\n",
       "\n",
       "    .dataframe tbody tr th {\n",
       "        vertical-align: top;\n",
       "    }\n",
       "\n",
       "    .dataframe thead th {\n",
       "        text-align: right;\n",
       "    }\n",
       "</style>\n",
       "<table border=\"1\" class=\"dataframe\">\n",
       "  <thead>\n",
       "    <tr style=\"text-align: right;\">\n",
       "      <th></th>\n",
       "      <th>children_amount_category</th>\n",
       "      <th>children</th>\n",
       "    </tr>\n",
       "  </thead>\n",
       "  <tbody>\n",
       "    <tr>\n",
       "      <th>5</th>\n",
       "      <td>Нет детей</td>\n",
       "      <td>14091</td>\n",
       "    </tr>\n",
       "    <tr>\n",
       "      <th>0</th>\n",
       "      <td>1 ребенок</td>\n",
       "      <td>4808</td>\n",
       "    </tr>\n",
       "    <tr>\n",
       "      <th>1</th>\n",
       "      <td>2 ребенка</td>\n",
       "      <td>2052</td>\n",
       "    </tr>\n",
       "    <tr>\n",
       "      <th>2</th>\n",
       "      <td>3 ребенка</td>\n",
       "      <td>330</td>\n",
       "    </tr>\n",
       "    <tr>\n",
       "      <th>3</th>\n",
       "      <td>4 ребенка</td>\n",
       "      <td>41</td>\n",
       "    </tr>\n",
       "    <tr>\n",
       "      <th>4</th>\n",
       "      <td>5 детей</td>\n",
       "      <td>9</td>\n",
       "    </tr>\n",
       "  </tbody>\n",
       "</table>\n",
       "</div>"
      ],
      "text/plain": [
       "  children_amount_category  children\n",
       "5                Нет детей     14091\n",
       "0                1 ребенок      4808\n",
       "1                2 ребенка      2052\n",
       "2                3 ребенка       330\n",
       "3                4 ребенка        41\n",
       "4                  5 детей         9"
      ]
     },
     "execution_count": 24,
     "metadata": {},
     "output_type": "execute_result"
    }
   ],
   "source": [
    "# Отсортируем созданный столбец по убыванию\n",
    "data.groupby('children_amount_category', as_index=False)['children'].count().sort_values('children', ascending=False)"
   ]
  },
  {
   "cell_type": "code",
   "execution_count": 25,
   "id": "a0fabd6f",
   "metadata": {},
   "outputs": [],
   "source": [
    "# Напишем универсальную функцию, которая подсчитает зависимость между различными параметрами и возвратом кредита в срок\n",
    "def debt_dependense_analysis(data, index):\n",
    "    # Построим сводную таблицу\n",
    "    data_pivot = data.pivot_table(index=index, values='debt', aggfunc=['sum', 'count', 'mean']).reset_index()\n",
    "    \n",
    "    # Для удобства, переименуем столбцы\n",
    "    data_pivot = data_pivot.set_axis([index, 'debt_sum', 'count', 'correlation'], axis='columns')\n",
    "    \n",
    "    # Возвращаем и сортируем по возрастанию\n",
    "    return data_pivot.sort_values('correlation')"
   ]
  },
  {
   "cell_type": "code",
   "execution_count": 26,
   "id": "8d7c7ff7",
   "metadata": {},
   "outputs": [],
   "source": [
    "# Объединим полученные данные и выведем таблицу с ними через универсальную функцию display_data\n",
    "def display_data(column):\n",
    "    display(debt_dependense_analysis(data, column) \\\n",
    "            .style.format({'correlation': '{:.2%}'}) \n",
    "            .background_gradient(cmap='Reds', subset='correlation'))"
   ]
  },
  {
   "cell_type": "code",
   "execution_count": 27,
   "id": "581650dd",
   "metadata": {},
   "outputs": [
    {
     "data": {
      "text/html": [
       "<style  type=\"text/css\" >\n",
       "#T_b30ea_row0_col3{\n",
       "            background-color:  #fff5f0;\n",
       "            color:  #000000;\n",
       "        }#T_b30ea_row1_col3{\n",
       "            background-color:  #c4161c;\n",
       "            color:  #f1f1f1;\n",
       "        }#T_b30ea_row2_col3{\n",
       "            background-color:  #b01217;\n",
       "            color:  #f1f1f1;\n",
       "        }#T_b30ea_row3_col3{\n",
       "            background-color:  #800610;\n",
       "            color:  #f1f1f1;\n",
       "        }#T_b30ea_row4_col3{\n",
       "            background-color:  #75030f;\n",
       "            color:  #f1f1f1;\n",
       "        }#T_b30ea_row5_col3{\n",
       "            background-color:  #67000d;\n",
       "            color:  #f1f1f1;\n",
       "        }</style><table id=\"T_b30ea_\" ><thead>    <tr>        <th class=\"blank level0\" ></th>        <th class=\"col_heading level0 col0\" >children_amount_category</th>        <th class=\"col_heading level0 col1\" >debt_sum</th>        <th class=\"col_heading level0 col2\" >count</th>        <th class=\"col_heading level0 col3\" >correlation</th>    </tr></thead><tbody>\n",
       "                <tr>\n",
       "                        <th id=\"T_b30ea_level0_row0\" class=\"row_heading level0 row0\" >4</th>\n",
       "                        <td id=\"T_b30ea_row0_col0\" class=\"data row0 col0\" >5 детей</td>\n",
       "                        <td id=\"T_b30ea_row0_col1\" class=\"data row0 col1\" >0</td>\n",
       "                        <td id=\"T_b30ea_row0_col2\" class=\"data row0 col2\" >9</td>\n",
       "                        <td id=\"T_b30ea_row0_col3\" class=\"data row0 col3\" >0.00%</td>\n",
       "            </tr>\n",
       "            <tr>\n",
       "                        <th id=\"T_b30ea_level0_row1\" class=\"row_heading level0 row1\" >5</th>\n",
       "                        <td id=\"T_b30ea_row1_col0\" class=\"data row1 col0\" >Нет детей</td>\n",
       "                        <td id=\"T_b30ea_row1_col1\" class=\"data row1 col1\" >1063</td>\n",
       "                        <td id=\"T_b30ea_row1_col2\" class=\"data row1 col2\" >14091</td>\n",
       "                        <td id=\"T_b30ea_row1_col3\" class=\"data row1 col3\" >7.54%</td>\n",
       "            </tr>\n",
       "            <tr>\n",
       "                        <th id=\"T_b30ea_level0_row2\" class=\"row_heading level0 row2\" >2</th>\n",
       "                        <td id=\"T_b30ea_row2_col0\" class=\"data row2 col0\" >3 ребенка</td>\n",
       "                        <td id=\"T_b30ea_row2_col1\" class=\"data row2 col1\" >27</td>\n",
       "                        <td id=\"T_b30ea_row2_col2\" class=\"data row2 col2\" >330</td>\n",
       "                        <td id=\"T_b30ea_row2_col3\" class=\"data row2 col3\" >8.18%</td>\n",
       "            </tr>\n",
       "            <tr>\n",
       "                        <th id=\"T_b30ea_level0_row3\" class=\"row_heading level0 row3\" >0</th>\n",
       "                        <td id=\"T_b30ea_row3_col0\" class=\"data row3 col0\" >1 ребенок</td>\n",
       "                        <td id=\"T_b30ea_row3_col1\" class=\"data row3 col1\" >444</td>\n",
       "                        <td id=\"T_b30ea_row3_col2\" class=\"data row3 col2\" >4808</td>\n",
       "                        <td id=\"T_b30ea_row3_col3\" class=\"data row3 col3\" >9.23%</td>\n",
       "            </tr>\n",
       "            <tr>\n",
       "                        <th id=\"T_b30ea_level0_row4\" class=\"row_heading level0 row4\" >1</th>\n",
       "                        <td id=\"T_b30ea_row4_col0\" class=\"data row4 col0\" >2 ребенка</td>\n",
       "                        <td id=\"T_b30ea_row4_col1\" class=\"data row4 col1\" >194</td>\n",
       "                        <td id=\"T_b30ea_row4_col2\" class=\"data row4 col2\" >2052</td>\n",
       "                        <td id=\"T_b30ea_row4_col3\" class=\"data row4 col3\" >9.45%</td>\n",
       "            </tr>\n",
       "            <tr>\n",
       "                        <th id=\"T_b30ea_level0_row5\" class=\"row_heading level0 row5\" >3</th>\n",
       "                        <td id=\"T_b30ea_row5_col0\" class=\"data row5 col0\" >4 ребенка</td>\n",
       "                        <td id=\"T_b30ea_row5_col1\" class=\"data row5 col1\" >4</td>\n",
       "                        <td id=\"T_b30ea_row5_col2\" class=\"data row5 col2\" >41</td>\n",
       "                        <td id=\"T_b30ea_row5_col3\" class=\"data row5 col3\" >9.76%</td>\n",
       "            </tr>\n",
       "    </tbody></table>"
      ],
      "text/plain": [
       "<pandas.io.formats.style.Styler at 0x7ff0d88c2bb0>"
      ]
     },
     "metadata": {},
     "output_type": "display_data"
    }
   ],
   "source": [
    "# Построим таблицу, которая покажет зависимость между количеством детей и возвратом кредита в срок в процентах\n",
    "display_data('children_amount_category')"
   ]
  },
  {
   "cell_type": "code",
   "execution_count": 28,
   "id": "b4d25fa9",
   "metadata": {},
   "outputs": [],
   "source": [
    "# Напишем универсальную функцию построения диаграммы корелляции данных нам параметров и возврата кредита в срок\n",
    "def multipurpose_barplot(column, graph_data):\n",
    "    plt.figure(figsize=(15,6))\n",
    "    ax = sns.barplot(data = debt_dependense_analysis(data, column), x=column, y='correlation')\n",
    "    ax.set_title(f'Диаграмма корелляции {graph_data} и возврата кредита в срок', \\\n",
    "                 fontdict= { 'fontsize': 12, 'fontweight':'bold'})\n",
    "    sns.despine()"
   ]
  },
  {
   "cell_type": "code",
   "execution_count": 29,
   "id": "56ecb9c2",
   "metadata": {},
   "outputs": [
    {
     "data": {
      "image/png": "[encoded data removed]",
      "text/plain": [
       "<Figure size 1080x432 with 1 Axes>"
      ]
     },
     "metadata": {
      "needs_background": "light"
     },
     "output_type": "display_data"
    }
   ],
   "source": [
    "# Построим диаграмму корелляции количества детей и возврата кредита в срок\n",
    "multipurpose_barplot('children_amount_category', 'количества детей')"
   ]
  },
  {
   "cell_type": "markdown",
   "id": "516b5c3f",
   "metadata": {
    "deletable": false,
    "id": "3a6b99ec"
   },
   "source": [
    "**Вывод:**  Видна прямая зависимость между количеством детей и возвратом кредита в срок. Наличие детей повышает вероятность задолжености. Вероятно, это связано с дополнительными расходами на детей. Также возможно представлены данные для одиноких людей с детьми. Так с увеличением количества детей мы видим увеличение количества просроченных задолженностей, особенно в категории от 0 до 2 детей, хотя люди с 3 детьми чаще платят в срок чем люди с 1 ребенком. Это может быть связано либо с тем, что существуют программы поддержки многодетных семей или количество заемщиков в категории \"многодетный\" для данного сравнения недостаточно и мы не можем сделать по ним корректные выводы. В любом случае, чем больше детей у заемщика, тем меньше у него как действующих, так и погашенных займов. Это утверждение одинаково верно как для «хороших», так и для всех остальных заемщиков. Такие данные содержатся в исследовании аналитического центра микрофинансовой компании «Займер», которым она поделилась с порталом Банки.ру. Бездетные ещё реже пропускают оплату по кредиту, чем люди с детьми. Но это лишь суждение по имеющимся данным. \n",
    "Возможно, нужна большая выборка, чтобы принять правильное решение."
   ]
  },
  {
   "cell_type": "markdown",
   "id": "213c3b82",
   "metadata": {
    "deletable": false,
    "editable": false,
    "id": "97be82ca"
   },
   "source": [
    "#### 3.2 Есть ли зависимость между семейным положением и возвратом кредита в срок?"
   ]
  },
  {
   "cell_type": "code",
   "execution_count": 30,
   "id": "87128b88",
   "metadata": {},
   "outputs": [
    {
     "data": {
      "text/plain": [
       "женат / замужем          12261\n",
       "гражданский брак          4134\n",
       "Не женат / не замужем     2796\n",
       "в разводе                 1189\n",
       "вдовец / вдова             951\n",
       "Name: family_status, dtype: int64"
      ]
     },
     "execution_count": 30,
     "metadata": {},
     "output_type": "execute_result"
    }
   ],
   "source": [
    "# Найдём уникальные значения в столбце family_status\n",
    "data.family_status.value_counts()"
   ]
  },
  {
   "cell_type": "code",
   "execution_count": 31,
   "id": "f0864ba2",
   "metadata": {},
   "outputs": [],
   "source": [
    "# Для однообразного отображения на графиках приведём сроку family_status к нижнему регистру\n",
    "data['family_status'] = data['family_status'].str.lower()"
   ]
  },
  {
   "cell_type": "markdown",
   "id": "a2ce0a58",
   "metadata": {
    "deletable": false,
    "id": "dc3f7ee8"
   },
   "source": []
  },
  {
   "cell_type": "code",
   "execution_count": 32,
   "id": "6a46bea0",
   "metadata": {},
   "outputs": [
    {
     "data": {
      "text/html": [
       "<style  type=\"text/css\" >\n",
       "#T_78db1_row0_col3{\n",
       "            background-color:  #fff5f0;\n",
       "            color:  #000000;\n",
       "        }#T_78db1_row1_col3{\n",
       "            background-color:  #fedccd;\n",
       "            color:  #000000;\n",
       "        }#T_78db1_row2_col3{\n",
       "            background-color:  #fcab8f;\n",
       "            color:  #000000;\n",
       "        }#T_78db1_row3_col3{\n",
       "            background-color:  #aa1016;\n",
       "            color:  #f1f1f1;\n",
       "        }#T_78db1_row4_col3{\n",
       "            background-color:  #67000d;\n",
       "            color:  #f1f1f1;\n",
       "        }</style><table id=\"T_78db1_\" ><thead>    <tr>        <th class=\"blank level0\" ></th>        <th class=\"col_heading level0 col0\" >family_status</th>        <th class=\"col_heading level0 col1\" >debt_sum</th>        <th class=\"col_heading level0 col2\" >count</th>        <th class=\"col_heading level0 col3\" >correlation</th>    </tr></thead><tbody>\n",
       "                <tr>\n",
       "                        <th id=\"T_78db1_level0_row0\" class=\"row_heading level0 row0\" >1</th>\n",
       "                        <td id=\"T_78db1_row0_col0\" class=\"data row0 col0\" >вдовец / вдова</td>\n",
       "                        <td id=\"T_78db1_row0_col1\" class=\"data row0 col1\" >63</td>\n",
       "                        <td id=\"T_78db1_row0_col2\" class=\"data row0 col2\" >951</td>\n",
       "                        <td id=\"T_78db1_row0_col3\" class=\"data row0 col3\" >6.62%</td>\n",
       "            </tr>\n",
       "            <tr>\n",
       "                        <th id=\"T_78db1_level0_row1\" class=\"row_heading level0 row1\" >0</th>\n",
       "                        <td id=\"T_78db1_row1_col0\" class=\"data row1 col0\" >в разводе</td>\n",
       "                        <td id=\"T_78db1_row1_col1\" class=\"data row1 col1\" >84</td>\n",
       "                        <td id=\"T_78db1_row1_col2\" class=\"data row1 col2\" >1189</td>\n",
       "                        <td id=\"T_78db1_row1_col3\" class=\"data row1 col3\" >7.06%</td>\n",
       "            </tr>\n",
       "            <tr>\n",
       "                        <th id=\"T_78db1_level0_row2\" class=\"row_heading level0 row2\" >3</th>\n",
       "                        <td id=\"T_78db1_row2_col0\" class=\"data row2 col0\" >женат / замужем</td>\n",
       "                        <td id=\"T_78db1_row2_col1\" class=\"data row2 col1\" >927</td>\n",
       "                        <td id=\"T_78db1_row2_col2\" class=\"data row2 col2\" >12261</td>\n",
       "                        <td id=\"T_78db1_row2_col3\" class=\"data row2 col3\" >7.56%</td>\n",
       "            </tr>\n",
       "            <tr>\n",
       "                        <th id=\"T_78db1_level0_row3\" class=\"row_heading level0 row3\" >2</th>\n",
       "                        <td id=\"T_78db1_row3_col0\" class=\"data row3 col0\" >гражданский брак</td>\n",
       "                        <td id=\"T_78db1_row3_col1\" class=\"data row3 col1\" >385</td>\n",
       "                        <td id=\"T_78db1_row3_col2\" class=\"data row3 col2\" >4134</td>\n",
       "                        <td id=\"T_78db1_row3_col3\" class=\"data row3 col3\" >9.31%</td>\n",
       "            </tr>\n",
       "            <tr>\n",
       "                        <th id=\"T_78db1_level0_row4\" class=\"row_heading level0 row4\" >4</th>\n",
       "                        <td id=\"T_78db1_row4_col0\" class=\"data row4 col0\" >не женат / не замужем</td>\n",
       "                        <td id=\"T_78db1_row4_col1\" class=\"data row4 col1\" >273</td>\n",
       "                        <td id=\"T_78db1_row4_col2\" class=\"data row4 col2\" >2796</td>\n",
       "                        <td id=\"T_78db1_row4_col3\" class=\"data row4 col3\" >9.76%</td>\n",
       "            </tr>\n",
       "    </tbody></table>"
      ],
      "text/plain": [
       "<pandas.io.formats.style.Styler at 0x7ff0d88eb070>"
      ]
     },
     "metadata": {},
     "output_type": "display_data"
    }
   ],
   "source": [
    "# Построим таблицу, которая покажет зависимость между семейным положением и возвратом кредита в срок в процентах\n",
    "display_data('family_status')"
   ]
  },
  {
   "cell_type": "code",
   "execution_count": 33,
   "id": "f07f0924",
   "metadata": {},
   "outputs": [
    {
     "data": {
      "image/png": "[encoded data removed]",
      "text/plain": [
       "<Figure size 1080x432 with 1 Axes>"
      ]
     },
     "metadata": {
      "needs_background": "light"
     },
     "output_type": "display_data"
    }
   ],
   "source": [
    "# Построим диаграмму корелляции семейного статуса и возврата кредита в срок\n",
    "multipurpose_barplot('family_status', 'семейного статуса')"
   ]
  },
  {
   "cell_type": "markdown",
   "id": "b3ce065f",
   "metadata": {
    "deletable": false,
    "id": "1cef7837"
   },
   "source": [
    "**Вывод:**  Похоже, что люди со статусом Не женат / Не замужем имеют большие шансы на задолженностям по кредитам, что может быть связано с больше свободой действий по распоряжению своими средствами и меньшей ответственностью во время того, когда ты один и нет ни жены/мужа, ни детей. С другой стороны, есть вероятность, что в данных имеется ошибка, ведь не всегда в паспортах стоит печать о браке (причиной тому смена паспорта и человек просто не пошел в загс за печатью). \n",
    "\n",
    "Статус Гражданский брак также показывает меньшую ответственность перед кредиторами, так как тут привелирует больше импульсивных трат, нет совместных накоплений по сравнению с семейными парами.\n",
    "\n",
    "И наоборот, люди в статусе Женат / Замужем, где траты согласованы и более осознанны, показывают большую ответственность перед кредиторами, это может быть связано с тем, что оба супруга управляют бюджетом и потенциальными просрочками по кредитам.\n",
    "\n",
    "Вдовцы / вдовы же со своей стороны также могут продолжать платить кредит за умершего, иногда кредит может быть непосилен в финансовом плане. Также похороны (как дорогое \"мероприятие\") и эмоциональный всплеск могут быть причинами просрочек. Однако в этой категории меньше всего просрочек, что может быть причиной того, что страховые берут на себя часть расходов или же остается наследство.\n",
    "\n",
    "В нашем кейсе однозначно мало данных."
   ]
  },
  {
   "cell_type": "markdown",
   "id": "c6571618",
   "metadata": {
    "deletable": false,
    "editable": false,
    "id": "1e8b2fca"
   },
   "source": [
    "#### 3.3 Есть ли зависимость между уровнем дохода и возвратом кредита в срок?"
   ]
  },
  {
   "cell_type": "markdown",
   "id": "1af3bd5a",
   "metadata": {},
   "source": [
    "*Разделим заемщиков на категории, в зависимости от величины дохода:*\n",
    "\n",
    "0–30000 — 'E';\n",
    "30001–50000 — 'D';\n",
    "50001–200000 — 'C';\n",
    "200001–1000000 — 'B';\n",
    "1000001 и выше — 'A'."
   ]
  },
  {
   "cell_type": "markdown",
   "id": "2dae9144",
   "metadata": {
    "deletable": false,
    "id": "cd7e3720"
   },
   "source": [
    "# Напишем функцию, которая подсчитает зависимость между семейным статусом и возвратом кредита в срок\n",
    "def total_income_vs_debt_dependense_analysis(data, index):\n",
    "    # Построим сводную таблицу\n",
    "    data_total_income_pivot = data.pivot_table(index=index, values='debt', aggfunc=['sum', 'count', 'mean']).reset_index()\n",
    "    \n",
    "    # Для удобства, переименуем столбцы\n",
    "    data_total_income_pivot = data_total_income_pivot. \\\n",
    "        set_axis([index, 'debt_sum', 'count_total_income', 'correlation'], axis='columns')\n",
    "    \n",
    "    # Возвращаем и сортируем по возрастанию\n",
    "    return data_total_income_pivot.sort_values('correlation')"
   ]
  },
  {
   "cell_type": "code",
   "execution_count": 34,
   "id": "fd25816a",
   "metadata": {},
   "outputs": [
    {
     "data": {
      "text/html": [
       "<style  type=\"text/css\" >\n",
       "#T_aaea1_row0_col3{\n",
       "            background-color:  #fff5f0;\n",
       "            color:  #000000;\n",
       "        }#T_aaea1_row1_col3{\n",
       "            background-color:  #fc9e80;\n",
       "            color:  #000000;\n",
       "        }#T_aaea1_row2_col3{\n",
       "            background-color:  #e93529;\n",
       "            color:  #f1f1f1;\n",
       "        }#T_aaea1_row3_col3{\n",
       "            background-color:  #b91419;\n",
       "            color:  #f1f1f1;\n",
       "        }#T_aaea1_row4_col3{\n",
       "            background-color:  #67000d;\n",
       "            color:  #f1f1f1;\n",
       "        }</style><table id=\"T_aaea1_\" ><thead>    <tr>        <th class=\"blank level0\" ></th>        <th class=\"col_heading level0 col0\" >total_income_category</th>        <th class=\"col_heading level0 col1\" >debt_sum</th>        <th class=\"col_heading level0 col2\" >count</th>        <th class=\"col_heading level0 col3\" >correlation</th>    </tr></thead><tbody>\n",
       "                <tr>\n",
       "                        <th id=\"T_aaea1_level0_row0\" class=\"row_heading level0 row0\" >3</th>\n",
       "                        <td id=\"T_aaea1_row0_col0\" class=\"data row0 col0\" >D</td>\n",
       "                        <td id=\"T_aaea1_row0_col1\" class=\"data row0 col1\" >21</td>\n",
       "                        <td id=\"T_aaea1_row0_col2\" class=\"data row0 col2\" >349</td>\n",
       "                        <td id=\"T_aaea1_row0_col3\" class=\"data row0 col3\" >6.02%</td>\n",
       "            </tr>\n",
       "            <tr>\n",
       "                        <th id=\"T_aaea1_level0_row1\" class=\"row_heading level0 row1\" >1</th>\n",
       "                        <td id=\"T_aaea1_row1_col0\" class=\"data row1 col0\" >B</td>\n",
       "                        <td id=\"T_aaea1_row1_col1\" class=\"data row1 col1\" >354</td>\n",
       "                        <td id=\"T_aaea1_row1_col2\" class=\"data row1 col2\" >5014</td>\n",
       "                        <td id=\"T_aaea1_row1_col3\" class=\"data row1 col3\" >7.06%</td>\n",
       "            </tr>\n",
       "            <tr>\n",
       "                        <th id=\"T_aaea1_level0_row2\" class=\"row_heading level0 row2\" >0</th>\n",
       "                        <td id=\"T_aaea1_row2_col0\" class=\"data row2 col0\" >A</td>\n",
       "                        <td id=\"T_aaea1_row2_col1\" class=\"data row2 col1\" >2</td>\n",
       "                        <td id=\"T_aaea1_row2_col2\" class=\"data row2 col2\" >25</td>\n",
       "                        <td id=\"T_aaea1_row2_col3\" class=\"data row2 col3\" >8.00%</td>\n",
       "            </tr>\n",
       "            <tr>\n",
       "                        <th id=\"T_aaea1_level0_row3\" class=\"row_heading level0 row3\" >2</th>\n",
       "                        <td id=\"T_aaea1_row3_col0\" class=\"data row3 col0\" >C</td>\n",
       "                        <td id=\"T_aaea1_row3_col1\" class=\"data row3 col1\" >1353</td>\n",
       "                        <td id=\"T_aaea1_row3_col2\" class=\"data row3 col2\" >15921</td>\n",
       "                        <td id=\"T_aaea1_row3_col3\" class=\"data row3 col3\" >8.50%</td>\n",
       "            </tr>\n",
       "            <tr>\n",
       "                        <th id=\"T_aaea1_level0_row4\" class=\"row_heading level0 row4\" >4</th>\n",
       "                        <td id=\"T_aaea1_row4_col0\" class=\"data row4 col0\" >E</td>\n",
       "                        <td id=\"T_aaea1_row4_col1\" class=\"data row4 col1\" >2</td>\n",
       "                        <td id=\"T_aaea1_row4_col2\" class=\"data row4 col2\" >22</td>\n",
       "                        <td id=\"T_aaea1_row4_col3\" class=\"data row4 col3\" >9.09%</td>\n",
       "            </tr>\n",
       "    </tbody></table>"
      ],
      "text/plain": [
       "<pandas.io.formats.style.Styler at 0x7ff0cb980df0>"
      ]
     },
     "metadata": {},
     "output_type": "display_data"
    }
   ],
   "source": [
    "# Построим таблицу, которая покажет зависимость между доходом и возвратом кредита в срок в процентах\n",
    "display_data('total_income_category')"
   ]
  },
  {
   "cell_type": "code",
   "execution_count": 35,
   "id": "b9b537d0",
   "metadata": {},
   "outputs": [
    {
     "data": {
      "image/png": "[encoded data removed]",
      "text/plain": [
       "<Figure size 1080x432 with 1 Axes>"
      ]
     },
     "metadata": {
      "needs_background": "light"
     },
     "output_type": "display_data"
    }
   ],
   "source": [
    "# Построим диаграмму корелляции уровня дохода и возврата кредита в срок\n",
    "multipurpose_barplot('total_income_category', 'уровня дохода')"
   ]
  },
  {
   "cell_type": "markdown",
   "id": "fd287502",
   "metadata": {
    "deletable": false,
    "id": "e8593def"
   },
   "source": [
    "**Вывод:**  Напомним разбиение по категориям: 0–30000 — 'E'; 30001–50000 — 'D'; 50001–200000 — 'C'; 200001–1000000 — 'B'; 1000001 и выше — 'A'.\n",
    "\n",
    "По категориям А и Е сложно сделать выводы, так как тут маленькая выборка. Здесь либо недостаточно данных, либо люди из данных категорий практически не берут кредиты или они их быстро закрывают и без просрочек.\n",
    "\n",
    "То же самое можно сказать и о категории D - у неё минимальный процент просрочек в оставшихся трех группах. Однако это может быть связано и с малым количеством кредитов, так как доход небольшой, а разбросс сумм в группе всего 20000.\n",
    "\n",
    "Остаются группы В и С. Если судить по ним, то с увеличением дохода снижается и риск просрочки. \n",
    "Возможно дробление на большее количество групп выявило бы более плавную корреляцию, однако изначальный набор данных мал и маловероятно, что это бы помогло. Необходима большая выборка.\n",
    "\n",
    "Но в общем и целом данные показывают, что с уровнем дохода снижается и процент должников."
   ]
  },
  {
   "cell_type": "markdown",
   "id": "68de6552",
   "metadata": {
    "deletable": false,
    "editable": false,
    "id": "99ecbd1f"
   },
   "source": [
    "#### 3.4 Как разные цели кредита влияют на его возврат в срок?"
   ]
  },
  {
   "cell_type": "code",
   "execution_count": 36,
   "id": "1aefc178",
   "metadata": {
    "deletable": false,
    "id": "2b687290"
   },
   "outputs": [
    {
     "data": {
      "text/plain": [
       "операции с недвижимостью    10751\n",
       "операции с автомобилем       4279\n",
       "получение образования        3988\n",
       "проведение свадьбы           2313\n",
       "Name: purpose_category, dtype: int64"
      ]
     },
     "execution_count": 36,
     "metadata": {},
     "output_type": "execute_result"
    }
   ],
   "source": [
    "# Найдём уникальные значения в столбце purpose_category\n",
    "data.purpose_category.value_counts()"
   ]
  },
  {
   "cell_type": "code",
   "execution_count": 37,
   "id": "8f12bcbd",
   "metadata": {},
   "outputs": [
    {
     "data": {
      "text/html": [
       "<style  type=\"text/css\" >\n",
       "#T_152d9_row0_col3{\n",
       "            background-color:  #fff5f0;\n",
       "            color:  #000000;\n",
       "        }#T_152d9_row1_col3{\n",
       "            background-color:  #fca689;\n",
       "            color:  #000000;\n",
       "        }#T_152d9_row2_col3{\n",
       "            background-color:  #7c0510;\n",
       "            color:  #f1f1f1;\n",
       "        }#T_152d9_row3_col3{\n",
       "            background-color:  #67000d;\n",
       "            color:  #f1f1f1;\n",
       "        }</style><table id=\"T_152d9_\" ><thead>    <tr>        <th class=\"blank level0\" ></th>        <th class=\"col_heading level0 col0\" >purpose_category</th>        <th class=\"col_heading level0 col1\" >debt_sum</th>        <th class=\"col_heading level0 col2\" >count</th>        <th class=\"col_heading level0 col3\" >correlation</th>    </tr></thead><tbody>\n",
       "                <tr>\n",
       "                        <th id=\"T_152d9_level0_row0\" class=\"row_heading level0 row0\" >1</th>\n",
       "                        <td id=\"T_152d9_row0_col0\" class=\"data row0 col0\" >операции с недвижимостью</td>\n",
       "                        <td id=\"T_152d9_row0_col1\" class=\"data row0 col1\" >780</td>\n",
       "                        <td id=\"T_152d9_row0_col2\" class=\"data row0 col2\" >10751</td>\n",
       "                        <td id=\"T_152d9_row0_col3\" class=\"data row0 col3\" >7.26%</td>\n",
       "            </tr>\n",
       "            <tr>\n",
       "                        <th id=\"T_152d9_level0_row1\" class=\"row_heading level0 row1\" >3</th>\n",
       "                        <td id=\"T_152d9_row1_col0\" class=\"data row1 col0\" >проведение свадьбы</td>\n",
       "                        <td id=\"T_152d9_row1_col1\" class=\"data row1 col1\" >183</td>\n",
       "                        <td id=\"T_152d9_row1_col2\" class=\"data row1 col2\" >2313</td>\n",
       "                        <td id=\"T_152d9_row1_col3\" class=\"data row1 col3\" >7.91%</td>\n",
       "            </tr>\n",
       "            <tr>\n",
       "                        <th id=\"T_152d9_level0_row2\" class=\"row_heading level0 row2\" >2</th>\n",
       "                        <td id=\"T_152d9_row2_col0\" class=\"data row2 col0\" >получение образования</td>\n",
       "                        <td id=\"T_152d9_row2_col1\" class=\"data row2 col1\" >369</td>\n",
       "                        <td id=\"T_152d9_row2_col2\" class=\"data row2 col2\" >3988</td>\n",
       "                        <td id=\"T_152d9_row2_col3\" class=\"data row2 col3\" >9.25%</td>\n",
       "            </tr>\n",
       "            <tr>\n",
       "                        <th id=\"T_152d9_level0_row3\" class=\"row_heading level0 row3\" >0</th>\n",
       "                        <td id=\"T_152d9_row3_col0\" class=\"data row3 col0\" >операции с автомобилем</td>\n",
       "                        <td id=\"T_152d9_row3_col1\" class=\"data row3 col1\" >400</td>\n",
       "                        <td id=\"T_152d9_row3_col2\" class=\"data row3 col2\" >4279</td>\n",
       "                        <td id=\"T_152d9_row3_col3\" class=\"data row3 col3\" >9.35%</td>\n",
       "            </tr>\n",
       "    </tbody></table>"
      ],
      "text/plain": [
       "<pandas.io.formats.style.Styler at 0x7ff0cb9023d0>"
      ]
     },
     "metadata": {},
     "output_type": "display_data"
    }
   ],
   "source": [
    "# Построим таблицу, которая покажет зависимость между целью кредита и возвратом кредита в срок в процентах\n",
    "display_data('purpose_category')"
   ]
  },
  {
   "cell_type": "code",
   "execution_count": 38,
   "id": "1c270283",
   "metadata": {},
   "outputs": [
    {
     "data": {
      "image/png": "[encoded data removed]",
      "text/plain": [
       "<Figure size 1080x432 with 1 Axes>"
      ]
     },
     "metadata": {
      "needs_background": "light"
     },
     "output_type": "display_data"
    }
   ],
   "source": [
    "# Построим диаграмму корелляции целей кредита и возврата кредита в срок\n",
    "multipurpose_barplot('purpose_category', 'целей кредита')"
   ]
  },
  {
   "cell_type": "markdown",
   "id": "3ebe207b",
   "metadata": {
    "deletable": false,
    "id": "b4bb2ce6"
   },
   "source": [
    "**Вывод:** По графикам видно, что кредиты на автомобили больше всего подвержены риску невозврата. Причиной могут быть как \"серые схемы\" продаж автомобилей, так и аварийные ситуации, увеличивающие затраты заёмщиков.\n",
    "\n",
    "Категория кредитов на образования также является высокорисковой. Такие кредиты часто берут студенты с минимальным заработком или люди без работы для переквалификации и начала работы.\n",
    "\n",
    "Кредиты на свадьбы подвержены риску невозврата меньше, чем первые две категории, но всё равно не относятся к категории с минимальным риском. Это может быть связано с тем, что кредит на свадьбу предполагает высокий процент по кредиту и высокую сумму задолженности на краткий период времени, а также с тем, что нередки случаи разводов после свадьбы в сроки меньшие, чем срок самого кредита.\n",
    "\n",
    "Операции с недвижимостью наименее рисковые и в большинстве из случаев связаны с ипотечным кредитом, а следовательно тут имеют место быть ряд государственных льгот в виде материнского капитала и сниженные проценты от застройщиков, более низкие ставки самих кредитов в банках, а также большая подготовленность граждан к взятию такого кредита (первоначальный взнос). Граждане, которые берут кредит для проведения операций с недвижимостью более отвественно подходят к его погашению, так как это место где они и их семьи будут жить."
   ]
  },
  {
   "cell_type": "markdown",
   "id": "6577abbc",
   "metadata": {
    "deletable": false,
    "editable": false,
    "id": "09c3ac4c"
   },
   "source": [
    "#### 3.5 Приведите возможные причины появления пропусков в исходных данных."
   ]
  },
  {
   "cell_type": "markdown",
   "id": "e3241e75",
   "metadata": {
    "deletable": false,
    "id": "9da2ceda"
   },
   "source": [
    "*Ответ:* Причинами могут быть: неверный ввод данных (как ручной и машинописный), сокрытие информации (например, как говорилось в примере выше, не всегда банковский служащий одназначно знает был ли человек замужем/женат, так как не во всех новых паспортах ставят печати о браках сами брачующие или сами клиенты намеренно могут сокрыть какие-либо данные), множественные манипуляции с данными, присвоение пропускам специальной категории, разные годы заполнения данных, а соответственно и требования к заполнению, отличные способы оформления данных - человеческий фактор; повреждение файла данных при сохранении/передаче/объединении/загрузки/выгрузки данных, технические проблемы - технический фактор. Выбросы, пропуски и дубликаты в исходных данных являются причиной их искажения."
   ]
  },
  {
   "cell_type": "markdown",
   "id": "1710f429",
   "metadata": {
    "deletable": false,
    "editable": false,
    "id": "7b0487d6"
   },
   "source": [
    "#### 3.6 Объясните, почему заполнить пропуски медианным значением — лучшее решение для количественных переменных."
   ]
  },
  {
   "cell_type": "markdown",
   "id": "7a884307",
   "metadata": {
    "deletable": false,
    "id": "7ecf2b8e"
   },
   "source": [
    "*Ответ:* Потому что Медиана игнорирует или же сглаживает случайные или не случайные выбросы, шум и катаклизмы в целом. И если данные имеют нормальное распределение и их количество велико, то медиана будет равняться среднему значению. "
   ]
  },
  {
   "cell_type": "markdown",
   "id": "2ceac2ee",
   "metadata": {
    "deletable": false,
    "editable": false,
    "id": "6db5255a"
   },
   "source": [
    "### Шаг 4. Общий вывод."
   ]
  },
  {
   "cell_type": "markdown",
   "id": "8e27d951",
   "metadata": {
    "deletable": false,
    "id": "bad65432"
   },
   "source": [
    "**В данном проекте исследования надёжности заёмщиков, после первоначальной обработки данных выявлены следующие моменты:**\n",
    " 1) В процессе обработки данных по проекту мы избавились от пропусков, дубликатов, аномальных значений, категоризировали данные и привели их к необходимому типу;\n",
    " \n",
    " 2) Причинами неверных исходных данных могут быть как человеческий фактов, так и технический;\n",
    " \n",
    " 3) Медиана - лучший выбор для заполнения пропусков для количественных переменных из-за устойчивости к выбросам и аномальным значениям;\n",
    " \n",
    " 4) При исследовании данных были выявлены следующие зависимости:\n",
    "    - Бездетные семьи реже пропускают оплату по кредиту и доводят до просрочек. Соответственно наличие детей увеличивает вероятность задолженности;\n",
    " \n",
    "    - Семейные пары подходят к вопросу кредитов более ответственно. С другой стороны холостые люди более подвержены риску просрочить кредит;\n",
    " \n",
    "    - С увеличением дохода уменьшается и вероятность стать должником. А категория граждан с доходом с 50000 до 200000 по данным проекта является наиболее рисковой категорией;\n",
    " \n",
    "    - Больше всего просрочек по кредитам наблюдается в категориях образование и автомобили. Кредиты же, связанные с жильем, возвращают вовремя чаще остальных;\n",
    "    \n",
    "  5) На основании вышеописанного выстраиваются такие портреты заёмщиков:\n",
    "  \n",
    "      А) Рисковый заёмщик (как сам заёмщик, так и объединение с целью кредита):\n",
    "      \n",
    "          - одинок (в статусе Не женат / Не замуже / В гражданском браке)\n",
    "          - берёт высокорисковый кредит (на образование или транспорт)\n",
    "          - имеет 1 и более детей\n",
    "          - зарабатывает до 200000\n",
    "      \n",
    "      В) Надёжный заёмщик:\n",
    "      \n",
    "          - состоит в браке\n",
    "          - берёт малорисковые кредиты осознанно (ипотечные кредиты)\n",
    "          - не имеет детей\n",
    "          - зарабатывает более 200000\n",
    "          \n",
    "   6) **Рекомендации заказчику**: Выше описаны выводы, сделанные на полученных данных. Предполагается, что данных недостаточно для полноценного анализа. Но общепринятые критерии и пункты оценки заёмщиков можно описать так:\n",
    "   \n",
    "   - внимательнее принимать документы от заёмщиков и заполнять данные;\n",
    "   - обязательно требовать первоначальный взнос при сумме кредита равной сумме нескольких месяцев дохода заёмщика и если кредит берётся на материальные нужды (жильё, транспорт) или же подтверждающий документ о принятии бывшим собственником объекта кредитования первоначального взноза, что также укажет на платежеспособность и серьёзность намерений заёмщика;\n",
    "   - учитывать нынешнюю и возможную в будущем годовую ставку по кредиту в перспективе нескольких месяцев, чтобы кредитор не оказался в убытке;\n",
    "   - предлагать увеличенный срок кредита (с лимитом возраста кредита до пенсионного возраста);\n",
    "   - рассчитывать ежемесячный платеж по кредиту не более 40% от дохода заёмщика;\n",
    "   - всесторонее проверять заёмщика на кредитоспособность и прочие пункты, указанные ниже:\n",
    "   \n",
    "       а) запросить анкету заявления на кредит у заёмщика для дальнейшего сравнения поданной им информации на разных этапах проверок;\n",
    "       \n",
    "       б) платежеспособность оценивают по активам гражданина: его свободным деньгам на счетах, имуществе, дополнительных доходах;\n",
    "       \n",
    "       в) наименее рисковая группа - семейная пара или заёмщик плюс хотя бы созаёмщик (обычно 1-3 человека);\n",
    "       \n",
    "       г) обязательная проверка заёмщика и созаёмщиков через БКИ и в отношении постановки на учёт в любом органе (наркодиспансер, МВД и тд);\n",
    "       \n",
    "       д) просить взять заёмщика страховку на случай неуплаты / проблем со здоровьем / лишением жизни или объекта кредита;\n",
    "       \n",
    "       е) провести скоринговую оценку (автоматизированная система оценки клиента);\n",
    "       \n",
    "       ж) проверить наличие текущих кредитов / кредитных карт / обременений на имущество и прочее;\n",
    "       \n",
    "       з) учесть дополнительные комиссии (проценты риэлтору, диллеру, оценщику, дополнительные траты в ближайшем будущем);\n",
    "       \n",
    "       и) брать в рассчёт, что рассчитывать на меньшую ставку сможет тот, кто является зарплатным клиентом банка в котором планируется оформление кредита, если это предполагает политика кредитора;\n",
    "       \n",
    "       к) часто для сотрудников партнерских организаций банка тоже предусмотрены сниженные ставки процента;\n",
    "       \n",
    "       л) непосредственно влияет на величину ставки тип кредита (с поручителем, без обеспечения, с обеспечением), чем больше у банка гарантий, тем ниже ставка.\n",
    "       \n",
    "Если учесть все вышеописанные пункты, то риск займа рисковой группе заёмщиков уменьшится многократно."
   ]
  }
 ],
 "metadata": {
  "ExecuteTimeLog": [
   {
    "duration": 44,
    "start_time": "2023-12-07T13:34:11.264Z"
   },
   {
    "duration": 484,
    "start_time": "2023-12-07T13:34:19.746Z"
   },
   {
    "duration": 19,
    "start_time": "2023-12-07T13:34:20.232Z"
   },
   {
    "duration": 22,
    "start_time": "2023-12-07T13:34:20.253Z"
   },
   {
    "duration": 10,
    "start_time": "2023-12-07T13:34:20.277Z"
   },
   {
    "duration": 29,
    "start_time": "2023-12-07T13:34:20.288Z"
   },
   {
    "duration": 3,
    "start_time": "2023-12-07T13:34:20.319Z"
   },
   {
    "duration": 33,
    "start_time": "2023-12-07T13:34:20.323Z"
   },
   {
    "duration": 6,
    "start_time": "2023-12-07T13:34:20.357Z"
   },
   {
    "duration": 21,
    "start_time": "2023-12-07T13:34:20.364Z"
   },
   {
    "duration": 23,
    "start_time": "2023-12-07T13:34:20.387Z"
   },
   {
    "duration": 99,
    "start_time": "2023-12-07T13:34:20.411Z"
   },
   {
    "duration": 8,
    "start_time": "2023-12-07T13:34:20.511Z"
   },
   {
    "duration": 24,
    "start_time": "2023-12-07T13:34:20.520Z"
   },
   {
    "duration": 31,
    "start_time": "2023-12-07T13:34:20.545Z"
   },
   {
    "duration": 53,
    "start_time": "2023-12-07T13:34:20.577Z"
   },
   {
    "duration": 37,
    "start_time": "2023-12-07T13:34:20.631Z"
   },
   {
    "duration": 3,
    "start_time": "2023-12-07T13:34:20.669Z"
   },
   {
    "duration": 40,
    "start_time": "2023-12-07T13:34:20.673Z"
   },
   {
    "duration": 25,
    "start_time": "2023-12-07T13:34:20.715Z"
   },
   {
    "duration": 28,
    "start_time": "2023-12-07T13:34:20.741Z"
   },
   {
    "duration": 21,
    "start_time": "2023-12-07T13:34:20.770Z"
   },
   {
    "duration": 21,
    "start_time": "2023-12-07T13:34:20.792Z"
   },
   {
    "duration": 11,
    "start_time": "2023-12-07T13:34:20.814Z"
   },
   {
    "duration": 40,
    "start_time": "2023-12-07T13:34:20.826Z"
   },
   {
    "duration": 11,
    "start_time": "2023-12-07T13:34:20.868Z"
   },
   {
    "duration": 18,
    "start_time": "2023-12-07T13:34:28.880Z"
   },
   {
    "duration": 6,
    "start_time": "2023-12-07T13:36:16.729Z"
   },
   {
    "duration": 63,
    "start_time": "2023-12-07T13:37:04.571Z"
   },
   {
    "duration": 12,
    "start_time": "2023-12-07T13:37:20.866Z"
   },
   {
    "duration": 9,
    "start_time": "2023-12-07T13:37:32.497Z"
   },
   {
    "duration": 437,
    "start_time": "2023-12-07T13:37:45.307Z"
   },
   {
    "duration": 21,
    "start_time": "2023-12-07T13:37:45.746Z"
   },
   {
    "duration": 14,
    "start_time": "2023-12-07T13:37:45.768Z"
   },
   {
    "duration": 9,
    "start_time": "2023-12-07T13:37:45.784Z"
   },
   {
    "duration": 31,
    "start_time": "2023-12-07T13:37:45.794Z"
   },
   {
    "duration": 3,
    "start_time": "2023-12-07T13:37:45.827Z"
   },
   {
    "duration": 17,
    "start_time": "2023-12-07T13:37:45.831Z"
   },
   {
    "duration": 21,
    "start_time": "2023-12-07T13:37:45.849Z"
   },
   {
    "duration": 24,
    "start_time": "2023-12-07T13:37:45.872Z"
   },
   {
    "duration": 11,
    "start_time": "2023-12-07T13:37:45.898Z"
   },
   {
    "duration": 43,
    "start_time": "2023-12-07T13:37:45.910Z"
   },
   {
    "duration": 9,
    "start_time": "2023-12-07T13:37:45.955Z"
   },
   {
    "duration": 15,
    "start_time": "2023-12-07T13:37:45.966Z"
   },
   {
    "duration": 18,
    "start_time": "2023-12-07T13:37:45.983Z"
   },
   {
    "duration": 20,
    "start_time": "2023-12-07T13:37:46.002Z"
   },
   {
    "duration": 16,
    "start_time": "2023-12-07T13:37:46.023Z"
   },
   {
    "duration": 4,
    "start_time": "2023-12-07T13:37:46.040Z"
   },
   {
    "duration": 22,
    "start_time": "2023-12-07T13:37:46.045Z"
   },
   {
    "duration": 5,
    "start_time": "2023-12-07T13:37:46.069Z"
   },
   {
    "duration": 9,
    "start_time": "2023-12-07T13:37:46.076Z"
   },
   {
    "duration": 19,
    "start_time": "2023-12-07T13:37:46.087Z"
   },
   {
    "duration": 6,
    "start_time": "2023-12-07T13:37:46.107Z"
   },
   {
    "duration": 9,
    "start_time": "2023-12-07T13:37:46.115Z"
   },
   {
    "duration": 7,
    "start_time": "2023-12-07T13:37:46.125Z"
   },
   {
    "duration": 16,
    "start_time": "2023-12-07T13:37:46.133Z"
   },
   {
    "duration": 63,
    "start_time": "2023-12-07T13:37:49.009Z"
   },
   {
    "duration": 11,
    "start_time": "2023-12-07T13:37:53.216Z"
   },
   {
    "duration": 419,
    "start_time": "2023-12-07T13:37:57.119Z"
   },
   {
    "duration": 19,
    "start_time": "2023-12-07T13:37:57.539Z"
   },
   {
    "duration": 13,
    "start_time": "2023-12-07T13:37:57.559Z"
   },
   {
    "duration": 8,
    "start_time": "2023-12-07T13:37:57.574Z"
   },
   {
    "duration": 41,
    "start_time": "2023-12-07T13:37:57.583Z"
   },
   {
    "duration": 3,
    "start_time": "2023-12-07T13:37:57.625Z"
   },
   {
    "duration": 9,
    "start_time": "2023-12-07T13:37:57.629Z"
   },
   {
    "duration": 5,
    "start_time": "2023-12-07T13:37:57.639Z"
   },
   {
    "duration": 19,
    "start_time": "2023-12-07T13:37:57.645Z"
   },
   {
    "duration": 6,
    "start_time": "2023-12-07T13:37:57.666Z"
   },
   {
    "duration": 42,
    "start_time": "2023-12-07T13:37:57.673Z"
   },
   {
    "duration": 13,
    "start_time": "2023-12-07T13:37:57.717Z"
   },
   {
    "duration": 5,
    "start_time": "2023-12-07T13:37:57.732Z"
   },
   {
    "duration": 35,
    "start_time": "2023-12-07T13:37:57.738Z"
   },
   {
    "duration": 18,
    "start_time": "2023-12-07T13:37:57.774Z"
   },
   {
    "duration": 15,
    "start_time": "2023-12-07T13:37:57.793Z"
   },
   {
    "duration": 3,
    "start_time": "2023-12-07T13:37:57.809Z"
   },
   {
    "duration": 24,
    "start_time": "2023-12-07T13:37:57.813Z"
   },
   {
    "duration": 6,
    "start_time": "2023-12-07T13:37:57.839Z"
   },
   {
    "duration": 3,
    "start_time": "2023-12-07T13:37:57.847Z"
   },
   {
    "duration": 18,
    "start_time": "2023-12-07T13:37:57.851Z"
   },
   {
    "duration": 6,
    "start_time": "2023-12-07T13:37:57.871Z"
   },
   {
    "duration": 2,
    "start_time": "2023-12-07T13:37:57.878Z"
   },
   {
    "duration": 24,
    "start_time": "2023-12-07T13:37:57.881Z"
   },
   {
    "duration": 4,
    "start_time": "2023-12-07T13:37:57.906Z"
   },
   {
    "duration": 63,
    "start_time": "2023-12-07T13:38:31.865Z"
   },
   {
    "duration": 7,
    "start_time": "2023-12-07T13:38:37.859Z"
   },
   {
    "duration": 8,
    "start_time": "2023-12-07T13:38:40.539Z"
   },
   {
    "duration": 440,
    "start_time": "2023-12-07T13:38:45.594Z"
   },
   {
    "duration": 19,
    "start_time": "2023-12-07T13:38:46.036Z"
   },
   {
    "duration": 20,
    "start_time": "2023-12-07T13:38:46.056Z"
   },
   {
    "duration": 7,
    "start_time": "2023-12-07T13:38:46.078Z"
   },
   {
    "duration": 48,
    "start_time": "2023-12-07T13:38:46.087Z"
   },
   {
    "duration": 11,
    "start_time": "2023-12-07T13:38:46.136Z"
   },
   {
    "duration": 42,
    "start_time": "2023-12-07T13:38:46.148Z"
   },
   {
    "duration": 22,
    "start_time": "2023-12-07T13:38:46.192Z"
   },
   {
    "duration": 48,
    "start_time": "2023-12-07T13:38:46.215Z"
   },
   {
    "duration": 17,
    "start_time": "2023-12-07T13:38:46.266Z"
   },
   {
    "duration": 35,
    "start_time": "2023-12-07T13:38:46.284Z"
   },
   {
    "duration": 8,
    "start_time": "2023-12-07T13:38:46.320Z"
   },
   {
    "duration": 17,
    "start_time": "2023-12-07T13:38:46.330Z"
   },
   {
    "duration": 21,
    "start_time": "2023-12-07T13:38:46.348Z"
   },
   {
    "duration": 18,
    "start_time": "2023-12-07T13:38:46.370Z"
   },
   {
    "duration": 16,
    "start_time": "2023-12-07T13:38:46.390Z"
   },
   {
    "duration": 5,
    "start_time": "2023-12-07T13:38:46.407Z"
   },
   {
    "duration": 12,
    "start_time": "2023-12-07T13:38:46.414Z"
   },
   {
    "duration": 9,
    "start_time": "2023-12-07T13:38:46.427Z"
   },
   {
    "duration": 8,
    "start_time": "2023-12-07T13:38:46.437Z"
   },
   {
    "duration": 26,
    "start_time": "2023-12-07T13:38:46.446Z"
   },
   {
    "duration": 12,
    "start_time": "2023-12-07T13:38:46.473Z"
   },
   {
    "duration": 24,
    "start_time": "2023-12-07T13:38:46.486Z"
   },
   {
    "duration": 9,
    "start_time": "2023-12-07T13:38:46.512Z"
   },
   {
    "duration": 6,
    "start_time": "2023-12-07T13:38:46.522Z"
   },
   {
    "duration": 67,
    "start_time": "2023-12-07T13:39:58.274Z"
   },
   {
    "duration": 448,
    "start_time": "2023-12-07T13:40:03.885Z"
   },
   {
    "duration": 20,
    "start_time": "2023-12-07T13:40:04.334Z"
   },
   {
    "duration": 31,
    "start_time": "2023-12-07T13:40:04.355Z"
   },
   {
    "duration": 13,
    "start_time": "2023-12-07T13:40:04.387Z"
   },
   {
    "duration": 54,
    "start_time": "2023-12-07T13:40:04.401Z"
   },
   {
    "duration": 4,
    "start_time": "2023-12-07T13:40:04.456Z"
   },
   {
    "duration": 9,
    "start_time": "2023-12-07T13:40:04.462Z"
   },
   {
    "duration": 4,
    "start_time": "2023-12-07T13:40:04.472Z"
   },
   {
    "duration": 11,
    "start_time": "2023-12-07T13:40:04.477Z"
   },
   {
    "duration": 14,
    "start_time": "2023-12-07T13:40:04.490Z"
   },
   {
    "duration": 45,
    "start_time": "2023-12-07T13:40:04.506Z"
   },
   {
    "duration": 8,
    "start_time": "2023-12-07T13:40:04.553Z"
   },
   {
    "duration": 8,
    "start_time": "2023-12-07T13:40:04.562Z"
   },
   {
    "duration": 14,
    "start_time": "2023-12-07T13:40:04.571Z"
   },
   {
    "duration": 20,
    "start_time": "2023-12-07T13:40:04.586Z"
   },
   {
    "duration": 16,
    "start_time": "2023-12-07T13:40:04.607Z"
   },
   {
    "duration": 3,
    "start_time": "2023-12-07T13:40:04.624Z"
   },
   {
    "duration": 44,
    "start_time": "2023-12-07T13:40:04.628Z"
   },
   {
    "duration": 11,
    "start_time": "2023-12-07T13:40:04.673Z"
   },
   {
    "duration": 9,
    "start_time": "2023-12-07T13:40:04.685Z"
   },
   {
    "duration": 14,
    "start_time": "2023-12-07T13:40:04.696Z"
   },
   {
    "duration": 8,
    "start_time": "2023-12-07T13:40:04.711Z"
   },
   {
    "duration": 73,
    "start_time": "2023-12-07T13:40:04.720Z"
   },
   {
    "duration": 0,
    "start_time": "2023-12-07T13:40:04.794Z"
   },
   {
    "duration": 0,
    "start_time": "2023-12-07T13:40:04.795Z"
   },
   {
    "duration": 473,
    "start_time": "2023-12-07T13:40:21.952Z"
   },
   {
    "duration": 20,
    "start_time": "2023-12-07T13:40:22.427Z"
   },
   {
    "duration": 60,
    "start_time": "2023-12-07T13:40:22.449Z"
   },
   {
    "duration": 20,
    "start_time": "2023-12-07T13:40:22.511Z"
   },
   {
    "duration": 43,
    "start_time": "2023-12-07T13:40:22.532Z"
   },
   {
    "duration": 3,
    "start_time": "2023-12-07T13:40:22.577Z"
   },
   {
    "duration": 22,
    "start_time": "2023-12-07T13:40:22.581Z"
   },
   {
    "duration": 13,
    "start_time": "2023-12-07T13:40:22.604Z"
   },
   {
    "duration": 22,
    "start_time": "2023-12-07T13:40:22.618Z"
   },
   {
    "duration": 8,
    "start_time": "2023-12-07T13:40:22.642Z"
   },
   {
    "duration": 48,
    "start_time": "2023-12-07T13:40:22.652Z"
   },
   {
    "duration": 10,
    "start_time": "2023-12-07T13:40:22.701Z"
   },
   {
    "duration": 14,
    "start_time": "2023-12-07T13:40:22.712Z"
   },
   {
    "duration": 14,
    "start_time": "2023-12-07T13:40:22.727Z"
   },
   {
    "duration": 25,
    "start_time": "2023-12-07T13:40:22.743Z"
   },
   {
    "duration": 16,
    "start_time": "2023-12-07T13:40:22.769Z"
   },
   {
    "duration": 3,
    "start_time": "2023-12-07T13:40:22.786Z"
   },
   {
    "duration": 16,
    "start_time": "2023-12-07T13:40:22.791Z"
   },
   {
    "duration": 31,
    "start_time": "2023-12-07T13:40:22.808Z"
   },
   {
    "duration": 23,
    "start_time": "2023-12-07T13:40:22.840Z"
   },
   {
    "duration": 21,
    "start_time": "2023-12-07T13:40:22.864Z"
   },
   {
    "duration": 25,
    "start_time": "2023-12-07T13:40:22.887Z"
   },
   {
    "duration": 68,
    "start_time": "2023-12-07T13:40:22.913Z"
   },
   {
    "duration": 16,
    "start_time": "2023-12-07T13:40:22.982Z"
   },
   {
    "duration": 27,
    "start_time": "2023-12-07T13:40:22.999Z"
   },
   {
    "duration": 69,
    "start_time": "2023-12-07T13:41:36.869Z"
   },
   {
    "duration": 438,
    "start_time": "2023-12-07T13:41:40.793Z"
   },
   {
    "duration": 19,
    "start_time": "2023-12-07T13:41:41.233Z"
   },
   {
    "duration": 48,
    "start_time": "2023-12-07T13:41:41.253Z"
   },
   {
    "duration": 15,
    "start_time": "2023-12-07T13:41:41.302Z"
   },
   {
    "duration": 28,
    "start_time": "2023-12-07T13:41:41.318Z"
   },
   {
    "duration": 2,
    "start_time": "2023-12-07T13:41:41.348Z"
   },
   {
    "duration": 9,
    "start_time": "2023-12-07T13:41:41.351Z"
   },
   {
    "duration": 9,
    "start_time": "2023-12-07T13:41:41.361Z"
   },
   {
    "duration": 16,
    "start_time": "2023-12-07T13:41:41.371Z"
   },
   {
    "duration": 12,
    "start_time": "2023-12-07T13:41:41.389Z"
   },
   {
    "duration": 31,
    "start_time": "2023-12-07T13:41:41.402Z"
   },
   {
    "duration": 8,
    "start_time": "2023-12-07T13:41:41.434Z"
   },
   {
    "duration": 9,
    "start_time": "2023-12-07T13:41:41.443Z"
   },
   {
    "duration": 22,
    "start_time": "2023-12-07T13:41:41.453Z"
   },
   {
    "duration": 18,
    "start_time": "2023-12-07T13:41:41.476Z"
   },
   {
    "duration": 19,
    "start_time": "2023-12-07T13:41:41.495Z"
   },
   {
    "duration": 3,
    "start_time": "2023-12-07T13:41:41.515Z"
   },
   {
    "duration": 13,
    "start_time": "2023-12-07T13:41:41.519Z"
   },
   {
    "duration": 15,
    "start_time": "2023-12-07T13:41:41.533Z"
   },
   {
    "duration": 10,
    "start_time": "2023-12-07T13:41:41.549Z"
   },
   {
    "duration": 10,
    "start_time": "2023-12-07T13:41:41.561Z"
   },
   {
    "duration": 8,
    "start_time": "2023-12-07T13:41:41.572Z"
   },
   {
    "duration": 7,
    "start_time": "2023-12-07T13:41:41.581Z"
   },
   {
    "duration": 68,
    "start_time": "2023-12-07T13:41:41.590Z"
   },
   {
    "duration": 0,
    "start_time": "2023-12-07T13:41:41.659Z"
   },
   {
    "duration": 431,
    "start_time": "2023-12-07T13:41:49.196Z"
   },
   {
    "duration": 18,
    "start_time": "2023-12-07T13:41:49.629Z"
   },
   {
    "duration": 14,
    "start_time": "2023-12-07T13:41:49.649Z"
   },
   {
    "duration": 8,
    "start_time": "2023-12-07T13:41:49.665Z"
   },
   {
    "duration": 45,
    "start_time": "2023-12-07T13:41:49.674Z"
   },
   {
    "duration": 4,
    "start_time": "2023-12-07T13:41:49.720Z"
   },
   {
    "duration": 13,
    "start_time": "2023-12-07T13:41:49.726Z"
   },
   {
    "duration": 36,
    "start_time": "2023-12-07T13:41:49.740Z"
   },
   {
    "duration": 7,
    "start_time": "2023-12-07T13:41:49.778Z"
   },
   {
    "duration": 6,
    "start_time": "2023-12-07T13:41:49.788Z"
   },
   {
    "duration": 30,
    "start_time": "2023-12-07T13:41:49.795Z"
   },
   {
    "duration": 9,
    "start_time": "2023-12-07T13:41:49.826Z"
   },
   {
    "duration": 42,
    "start_time": "2023-12-07T13:41:49.836Z"
   },
   {
    "duration": 19,
    "start_time": "2023-12-07T13:41:49.880Z"
   },
   {
    "duration": 24,
    "start_time": "2023-12-07T13:41:49.900Z"
   },
   {
    "duration": 16,
    "start_time": "2023-12-07T13:41:49.925Z"
   },
   {
    "duration": 3,
    "start_time": "2023-12-07T13:41:49.942Z"
   },
   {
    "duration": 11,
    "start_time": "2023-12-07T13:41:49.947Z"
   },
   {
    "duration": 5,
    "start_time": "2023-12-07T13:41:49.959Z"
   },
   {
    "duration": 5,
    "start_time": "2023-12-07T13:41:49.965Z"
   },
   {
    "duration": 17,
    "start_time": "2023-12-07T13:41:49.971Z"
   },
   {
    "duration": 6,
    "start_time": "2023-12-07T13:41:49.989Z"
   },
   {
    "duration": 24,
    "start_time": "2023-12-07T13:41:49.996Z"
   },
   {
    "duration": 41,
    "start_time": "2023-12-07T13:41:50.022Z"
   },
   {
    "duration": 8,
    "start_time": "2023-12-07T13:41:50.065Z"
   },
   {
    "duration": 8,
    "start_time": "2023-12-07T13:42:59.370Z"
   },
   {
    "duration": 8,
    "start_time": "2023-12-07T13:43:30.251Z"
   },
   {
    "duration": 5,
    "start_time": "2023-12-07T13:45:28.860Z"
   },
   {
    "duration": 6,
    "start_time": "2023-12-07T13:46:25.635Z"
   },
   {
    "duration": 5,
    "start_time": "2023-12-07T16:43:12.292Z"
   },
   {
    "duration": 63,
    "start_time": "2023-12-07T17:07:15.117Z"
   },
   {
    "duration": 465,
    "start_time": "2023-12-07T17:07:21.932Z"
   },
   {
    "duration": 19,
    "start_time": "2023-12-07T17:07:22.399Z"
   },
   {
    "duration": 41,
    "start_time": "2023-12-07T17:07:22.419Z"
   },
   {
    "duration": 19,
    "start_time": "2023-12-07T17:07:22.462Z"
   },
   {
    "duration": 47,
    "start_time": "2023-12-07T17:07:22.483Z"
   },
   {
    "duration": 3,
    "start_time": "2023-12-07T17:07:22.532Z"
   },
   {
    "duration": 15,
    "start_time": "2023-12-07T17:07:22.537Z"
   },
   {
    "duration": 15,
    "start_time": "2023-12-07T17:07:22.554Z"
   },
   {
    "duration": 20,
    "start_time": "2023-12-07T17:07:22.570Z"
   },
   {
    "duration": 13,
    "start_time": "2023-12-07T17:07:22.592Z"
   },
   {
    "duration": 51,
    "start_time": "2023-12-07T17:07:22.607Z"
   },
   {
    "duration": 7,
    "start_time": "2023-12-07T17:07:22.660Z"
   },
   {
    "duration": 10,
    "start_time": "2023-12-07T17:07:22.668Z"
   },
   {
    "duration": 26,
    "start_time": "2023-12-07T17:07:22.679Z"
   },
   {
    "duration": 28,
    "start_time": "2023-12-07T17:07:22.706Z"
   },
   {
    "duration": 16,
    "start_time": "2023-12-07T17:07:22.735Z"
   },
   {
    "duration": 3,
    "start_time": "2023-12-07T17:07:22.752Z"
   },
   {
    "duration": 20,
    "start_time": "2023-12-07T17:07:22.757Z"
   },
   {
    "duration": 17,
    "start_time": "2023-12-07T17:07:22.778Z"
   },
   {
    "duration": 7,
    "start_time": "2023-12-07T17:07:22.796Z"
   },
   {
    "duration": 45,
    "start_time": "2023-12-07T17:07:22.804Z"
   },
   {
    "duration": 27,
    "start_time": "2023-12-07T17:07:22.850Z"
   },
   {
    "duration": 15,
    "start_time": "2023-12-07T17:07:22.879Z"
   },
   {
    "duration": 0,
    "start_time": "2023-12-07T17:07:22.896Z"
   },
   {
    "duration": 0,
    "start_time": "2023-12-07T17:07:22.896Z"
   },
   {
    "duration": 0,
    "start_time": "2023-12-07T17:07:22.897Z"
   },
   {
    "duration": 0,
    "start_time": "2023-12-07T17:07:22.898Z"
   },
   {
    "duration": 0,
    "start_time": "2023-12-07T17:07:22.899Z"
   },
   {
    "duration": 61,
    "start_time": "2023-12-07T17:07:26.883Z"
   },
   {
    "duration": 6,
    "start_time": "2023-12-07T17:08:34.812Z"
   },
   {
    "duration": 439,
    "start_time": "2023-12-07T17:08:53.089Z"
   },
   {
    "duration": 21,
    "start_time": "2023-12-07T17:08:53.530Z"
   },
   {
    "duration": 35,
    "start_time": "2023-12-07T17:08:53.553Z"
   },
   {
    "duration": 8,
    "start_time": "2023-12-07T17:08:53.590Z"
   },
   {
    "duration": 63,
    "start_time": "2023-12-07T17:08:53.599Z"
   },
   {
    "duration": 3,
    "start_time": "2023-12-07T17:08:53.664Z"
   },
   {
    "duration": 19,
    "start_time": "2023-12-07T17:08:53.668Z"
   },
   {
    "duration": 7,
    "start_time": "2023-12-07T17:08:53.689Z"
   },
   {
    "duration": 27,
    "start_time": "2023-12-07T17:08:53.697Z"
   },
   {
    "duration": 20,
    "start_time": "2023-12-07T17:08:53.727Z"
   },
   {
    "duration": 43,
    "start_time": "2023-12-07T17:08:53.748Z"
   },
   {
    "duration": 14,
    "start_time": "2023-12-07T17:08:53.792Z"
   },
   {
    "duration": 8,
    "start_time": "2023-12-07T17:08:53.808Z"
   },
   {
    "duration": 26,
    "start_time": "2023-12-07T17:08:53.817Z"
   },
   {
    "duration": 41,
    "start_time": "2023-12-07T17:08:53.844Z"
   },
   {
    "duration": 18,
    "start_time": "2023-12-07T17:08:53.886Z"
   },
   {
    "duration": 13,
    "start_time": "2023-12-07T17:08:53.905Z"
   },
   {
    "duration": 20,
    "start_time": "2023-12-07T17:08:53.919Z"
   },
   {
    "duration": 5,
    "start_time": "2023-12-07T17:08:53.941Z"
   },
   {
    "duration": 20,
    "start_time": "2023-12-07T17:08:53.947Z"
   },
   {
    "duration": 10,
    "start_time": "2023-12-07T17:08:53.969Z"
   },
   {
    "duration": 20,
    "start_time": "2023-12-07T17:08:53.980Z"
   },
   {
    "duration": 11,
    "start_time": "2023-12-07T17:08:54.001Z"
   },
   {
    "duration": 0,
    "start_time": "2023-12-07T17:08:54.014Z"
   },
   {
    "duration": 0,
    "start_time": "2023-12-07T17:08:54.015Z"
   },
   {
    "duration": 0,
    "start_time": "2023-12-07T17:08:54.016Z"
   },
   {
    "duration": 0,
    "start_time": "2023-12-07T17:08:54.017Z"
   },
   {
    "duration": 0,
    "start_time": "2023-12-07T17:08:54.019Z"
   },
   {
    "duration": 4,
    "start_time": "2023-12-07T17:09:02.460Z"
   },
   {
    "duration": 3,
    "start_time": "2023-12-07T17:09:13.061Z"
   },
   {
    "duration": 4,
    "start_time": "2023-12-07T17:09:15.554Z"
   },
   {
    "duration": 426,
    "start_time": "2023-12-07T17:09:38.724Z"
   },
   {
    "duration": 20,
    "start_time": "2023-12-07T17:09:39.151Z"
   },
   {
    "duration": 31,
    "start_time": "2023-12-07T17:09:39.172Z"
   },
   {
    "duration": 29,
    "start_time": "2023-12-07T17:09:39.204Z"
   },
   {
    "duration": 31,
    "start_time": "2023-12-07T17:09:39.234Z"
   },
   {
    "duration": 3,
    "start_time": "2023-12-07T17:09:39.266Z"
   },
   {
    "duration": 9,
    "start_time": "2023-12-07T17:09:39.270Z"
   },
   {
    "duration": 20,
    "start_time": "2023-12-07T17:09:39.280Z"
   },
   {
    "duration": 20,
    "start_time": "2023-12-07T17:09:39.302Z"
   },
   {
    "duration": 3,
    "start_time": "2023-12-07T17:09:39.325Z"
   },
   {
    "duration": 28,
    "start_time": "2023-12-07T17:09:39.330Z"
   },
   {
    "duration": 8,
    "start_time": "2023-12-07T17:09:39.360Z"
   },
   {
    "duration": 4,
    "start_time": "2023-12-07T17:09:39.369Z"
   },
   {
    "duration": 13,
    "start_time": "2023-12-07T17:09:39.374Z"
   },
   {
    "duration": 18,
    "start_time": "2023-12-07T17:09:39.388Z"
   },
   {
    "duration": 15,
    "start_time": "2023-12-07T17:09:39.407Z"
   },
   {
    "duration": 3,
    "start_time": "2023-12-07T17:09:39.423Z"
   },
   {
    "duration": 9,
    "start_time": "2023-12-07T17:09:39.428Z"
   },
   {
    "duration": 6,
    "start_time": "2023-12-07T17:09:39.439Z"
   },
   {
    "duration": 3,
    "start_time": "2023-12-07T17:09:39.470Z"
   },
   {
    "duration": 9,
    "start_time": "2023-12-07T17:09:39.475Z"
   },
   {
    "duration": 5,
    "start_time": "2023-12-07T17:09:39.486Z"
   },
   {
    "duration": 5,
    "start_time": "2023-12-07T17:09:39.492Z"
   },
   {
    "duration": 411,
    "start_time": "2023-12-07T17:09:39.498Z"
   },
   {
    "duration": 0,
    "start_time": "2023-12-07T17:09:39.911Z"
   },
   {
    "duration": 0,
    "start_time": "2023-12-07T17:09:39.912Z"
   },
   {
    "duration": 0,
    "start_time": "2023-12-07T17:09:39.914Z"
   },
   {
    "duration": 0,
    "start_time": "2023-12-07T17:09:39.915Z"
   },
   {
    "duration": 3,
    "start_time": "2023-12-07T17:09:43.413Z"
   },
   {
    "duration": 3,
    "start_time": "2023-12-07T17:09:47.580Z"
   },
   {
    "duration": 5,
    "start_time": "2023-12-07T17:11:14.981Z"
   },
   {
    "duration": 3,
    "start_time": "2023-12-07T17:11:17.588Z"
   },
   {
    "duration": 328,
    "start_time": "2023-12-07T17:11:21.771Z"
   },
   {
    "duration": 329,
    "start_time": "2023-12-07T17:12:11.845Z"
   },
   {
    "duration": 8,
    "start_time": "2023-12-07T17:12:43.837Z"
   },
   {
    "duration": 8,
    "start_time": "2023-12-07T17:12:46.212Z"
   },
   {
    "duration": 22,
    "start_time": "2023-12-07T17:12:58.134Z"
   },
   {
    "duration": 347,
    "start_time": "2023-12-07T17:13:29.936Z"
   },
   {
    "duration": 449,
    "start_time": "2023-12-07T17:13:40.594Z"
   },
   {
    "duration": 20,
    "start_time": "2023-12-07T17:13:41.045Z"
   },
   {
    "duration": 11,
    "start_time": "2023-12-07T17:13:41.066Z"
   },
   {
    "duration": 13,
    "start_time": "2023-12-07T17:13:41.079Z"
   },
   {
    "duration": 29,
    "start_time": "2023-12-07T17:13:41.093Z"
   },
   {
    "duration": 3,
    "start_time": "2023-12-07T17:13:41.123Z"
   },
   {
    "duration": 18,
    "start_time": "2023-12-07T17:13:41.127Z"
   },
   {
    "duration": 8,
    "start_time": "2023-12-07T17:13:41.146Z"
   },
   {
    "duration": 29,
    "start_time": "2023-12-07T17:13:41.156Z"
   },
   {
    "duration": 4,
    "start_time": "2023-12-07T17:13:41.189Z"
   },
   {
    "duration": 35,
    "start_time": "2023-12-07T17:13:41.194Z"
   },
   {
    "duration": 8,
    "start_time": "2023-12-07T17:13:41.230Z"
   },
   {
    "duration": 3,
    "start_time": "2023-12-07T17:13:41.239Z"
   },
   {
    "duration": 11,
    "start_time": "2023-12-07T17:13:41.244Z"
   },
   {
    "duration": 21,
    "start_time": "2023-12-07T17:13:41.256Z"
   },
   {
    "duration": 15,
    "start_time": "2023-12-07T17:13:41.278Z"
   },
   {
    "duration": 4,
    "start_time": "2023-12-07T17:13:41.295Z"
   },
   {
    "duration": 10,
    "start_time": "2023-12-07T17:13:41.300Z"
   },
   {
    "duration": 33,
    "start_time": "2023-12-07T17:13:41.311Z"
   },
   {
    "duration": 4,
    "start_time": "2023-12-07T17:13:41.345Z"
   },
   {
    "duration": 20,
    "start_time": "2023-12-07T17:13:41.350Z"
   },
   {
    "duration": 9,
    "start_time": "2023-12-07T17:13:41.372Z"
   },
   {
    "duration": 10,
    "start_time": "2023-12-07T17:13:41.382Z"
   },
   {
    "duration": 394,
    "start_time": "2023-12-07T17:13:41.393Z"
   },
   {
    "duration": 0,
    "start_time": "2023-12-07T17:13:41.789Z"
   },
   {
    "duration": 0,
    "start_time": "2023-12-07T17:13:41.790Z"
   },
   {
    "duration": 0,
    "start_time": "2023-12-07T17:13:41.791Z"
   },
   {
    "duration": 0,
    "start_time": "2023-12-07T17:13:41.792Z"
   },
   {
    "duration": 304,
    "start_time": "2023-12-07T17:43:06.881Z"
   },
   {
    "duration": 450,
    "start_time": "2023-12-07T17:46:55.182Z"
   },
   {
    "duration": 19,
    "start_time": "2023-12-07T17:46:55.634Z"
   },
   {
    "duration": 17,
    "start_time": "2023-12-07T17:46:55.654Z"
   },
   {
    "duration": 28,
    "start_time": "2023-12-07T17:46:55.673Z"
   },
   {
    "duration": 53,
    "start_time": "2023-12-07T17:46:55.702Z"
   },
   {
    "duration": 3,
    "start_time": "2023-12-07T17:46:55.756Z"
   },
   {
    "duration": 35,
    "start_time": "2023-12-07T17:46:55.760Z"
   },
   {
    "duration": 32,
    "start_time": "2023-12-07T17:46:55.797Z"
   },
   {
    "duration": 30,
    "start_time": "2023-12-07T17:46:55.830Z"
   },
   {
    "duration": 33,
    "start_time": "2023-12-07T17:46:55.863Z"
   },
   {
    "duration": 44,
    "start_time": "2023-12-07T17:46:55.897Z"
   },
   {
    "duration": 6,
    "start_time": "2023-12-07T17:46:55.943Z"
   },
   {
    "duration": 15,
    "start_time": "2023-12-07T17:46:55.950Z"
   },
   {
    "duration": 40,
    "start_time": "2023-12-07T17:46:55.966Z"
   },
   {
    "duration": 44,
    "start_time": "2023-12-07T17:46:56.007Z"
   },
   {
    "duration": 16,
    "start_time": "2023-12-07T17:46:56.052Z"
   },
   {
    "duration": 25,
    "start_time": "2023-12-07T17:46:56.069Z"
   },
   {
    "duration": 27,
    "start_time": "2023-12-07T17:46:56.095Z"
   },
   {
    "duration": 28,
    "start_time": "2023-12-07T17:46:56.123Z"
   },
   {
    "duration": 15,
    "start_time": "2023-12-07T17:46:56.152Z"
   },
   {
    "duration": 36,
    "start_time": "2023-12-07T17:46:56.168Z"
   },
   {
    "duration": 19,
    "start_time": "2023-12-07T17:46:56.205Z"
   },
   {
    "duration": 28,
    "start_time": "2023-12-07T17:46:56.225Z"
   },
   {
    "duration": 364,
    "start_time": "2023-12-07T17:46:56.255Z"
   },
   {
    "duration": 0,
    "start_time": "2023-12-07T17:46:56.621Z"
   },
   {
    "duration": 0,
    "start_time": "2023-12-07T17:46:56.622Z"
   },
   {
    "duration": 0,
    "start_time": "2023-12-07T17:46:56.624Z"
   },
   {
    "duration": 0,
    "start_time": "2023-12-07T17:46:56.625Z"
   },
   {
    "duration": 374,
    "start_time": "2023-12-07T17:47:00.602Z"
   },
   {
    "duration": 468,
    "start_time": "2023-12-07T17:48:49.262Z"
   },
   {
    "duration": 18,
    "start_time": "2023-12-07T17:48:49.732Z"
   },
   {
    "duration": 15,
    "start_time": "2023-12-07T17:48:49.751Z"
   },
   {
    "duration": 8,
    "start_time": "2023-12-07T17:48:49.768Z"
   },
   {
    "duration": 38,
    "start_time": "2023-12-07T17:48:49.778Z"
   },
   {
    "duration": 3,
    "start_time": "2023-12-07T17:48:49.817Z"
   },
   {
    "duration": 19,
    "start_time": "2023-12-07T17:48:49.821Z"
   },
   {
    "duration": 4,
    "start_time": "2023-12-07T17:48:49.841Z"
   },
   {
    "duration": 9,
    "start_time": "2023-12-07T17:48:49.847Z"
   },
   {
    "duration": 4,
    "start_time": "2023-12-07T17:48:49.858Z"
   },
   {
    "duration": 39,
    "start_time": "2023-12-07T17:48:49.863Z"
   },
   {
    "duration": 8,
    "start_time": "2023-12-07T17:48:49.903Z"
   },
   {
    "duration": 5,
    "start_time": "2023-12-07T17:48:49.912Z"
   },
   {
    "duration": 22,
    "start_time": "2023-12-07T17:48:49.918Z"
   },
   {
    "duration": 20,
    "start_time": "2023-12-07T17:48:49.941Z"
   },
   {
    "duration": 16,
    "start_time": "2023-12-07T17:48:49.962Z"
   },
   {
    "duration": 2,
    "start_time": "2023-12-07T17:48:49.980Z"
   },
   {
    "duration": 16,
    "start_time": "2023-12-07T17:48:49.984Z"
   },
   {
    "duration": 9,
    "start_time": "2023-12-07T17:48:50.001Z"
   },
   {
    "duration": 70,
    "start_time": "2023-12-07T17:48:50.012Z"
   },
   {
    "duration": 30,
    "start_time": "2023-12-07T17:48:50.083Z"
   },
   {
    "duration": 15,
    "start_time": "2023-12-07T17:48:50.114Z"
   },
   {
    "duration": 30,
    "start_time": "2023-12-07T17:48:50.130Z"
   },
   {
    "duration": 409,
    "start_time": "2023-12-07T17:48:50.161Z"
   },
   {
    "duration": 0,
    "start_time": "2023-12-07T17:48:50.572Z"
   },
   {
    "duration": 0,
    "start_time": "2023-12-07T17:48:50.573Z"
   },
   {
    "duration": 0,
    "start_time": "2023-12-07T17:48:50.574Z"
   },
   {
    "duration": 0,
    "start_time": "2023-12-07T17:48:50.574Z"
   },
   {
    "duration": 294,
    "start_time": "2023-12-07T17:48:54.677Z"
   },
   {
    "duration": 472,
    "start_time": "2023-12-07T17:58:07.648Z"
   },
   {
    "duration": 21,
    "start_time": "2023-12-07T17:58:08.122Z"
   },
   {
    "duration": 23,
    "start_time": "2023-12-07T17:58:08.147Z"
   },
   {
    "duration": 8,
    "start_time": "2023-12-07T17:58:08.171Z"
   },
   {
    "duration": 36,
    "start_time": "2023-12-07T17:58:08.180Z"
   },
   {
    "duration": 2,
    "start_time": "2023-12-07T17:58:08.218Z"
   },
   {
    "duration": 8,
    "start_time": "2023-12-07T17:58:08.222Z"
   },
   {
    "duration": 11,
    "start_time": "2023-12-07T17:58:08.231Z"
   },
   {
    "duration": 23,
    "start_time": "2023-12-07T17:58:08.245Z"
   },
   {
    "duration": 4,
    "start_time": "2023-12-07T17:58:08.269Z"
   },
   {
    "duration": 49,
    "start_time": "2023-12-07T17:58:08.275Z"
   },
   {
    "duration": 8,
    "start_time": "2023-12-07T17:58:08.325Z"
   },
   {
    "duration": 4,
    "start_time": "2023-12-07T17:58:08.334Z"
   },
   {
    "duration": 31,
    "start_time": "2023-12-07T17:58:08.339Z"
   },
   {
    "duration": 21,
    "start_time": "2023-12-07T17:58:08.372Z"
   },
   {
    "duration": 19,
    "start_time": "2023-12-07T17:58:08.395Z"
   },
   {
    "duration": 7,
    "start_time": "2023-12-07T17:58:08.416Z"
   },
   {
    "duration": 27,
    "start_time": "2023-12-07T17:58:08.425Z"
   },
   {
    "duration": 11,
    "start_time": "2023-12-07T17:58:08.453Z"
   },
   {
    "duration": 6,
    "start_time": "2023-12-07T17:58:08.465Z"
   },
   {
    "duration": 9,
    "start_time": "2023-12-07T17:58:08.472Z"
   },
   {
    "duration": 15,
    "start_time": "2023-12-07T17:58:08.483Z"
   },
   {
    "duration": 7,
    "start_time": "2023-12-07T17:58:08.500Z"
   },
   {
    "duration": 14,
    "start_time": "2023-12-07T17:58:08.509Z"
   },
   {
    "duration": 13,
    "start_time": "2023-12-07T17:58:08.524Z"
   },
   {
    "duration": 25,
    "start_time": "2023-12-07T17:58:08.538Z"
   },
   {
    "duration": 8,
    "start_time": "2023-12-07T17:58:08.566Z"
   },
   {
    "duration": 33,
    "start_time": "2023-12-07T17:58:08.575Z"
   },
   {
    "duration": 453,
    "start_time": "2023-12-07T18:00:26.995Z"
   },
   {
    "duration": 21,
    "start_time": "2023-12-07T18:00:27.450Z"
   },
   {
    "duration": 18,
    "start_time": "2023-12-07T18:00:27.475Z"
   },
   {
    "duration": 38,
    "start_time": "2023-12-07T18:00:27.494Z"
   },
   {
    "duration": 88,
    "start_time": "2023-12-07T18:00:27.534Z"
   },
   {
    "duration": 4,
    "start_time": "2023-12-07T18:00:27.624Z"
   },
   {
    "duration": 22,
    "start_time": "2023-12-07T18:00:27.630Z"
   },
   {
    "duration": 20,
    "start_time": "2023-12-07T18:00:27.654Z"
   },
   {
    "duration": 27,
    "start_time": "2023-12-07T18:00:27.680Z"
   },
   {
    "duration": 17,
    "start_time": "2023-12-07T18:00:27.709Z"
   },
   {
    "duration": 68,
    "start_time": "2023-12-07T18:00:27.728Z"
   },
   {
    "duration": 13,
    "start_time": "2023-12-07T18:00:27.798Z"
   },
   {
    "duration": 18,
    "start_time": "2023-12-07T18:00:27.813Z"
   },
   {
    "duration": 27,
    "start_time": "2023-12-07T18:00:27.833Z"
   },
   {
    "duration": 43,
    "start_time": "2023-12-07T18:00:27.861Z"
   },
   {
    "duration": 16,
    "start_time": "2023-12-07T18:00:27.905Z"
   },
   {
    "duration": 17,
    "start_time": "2023-12-07T18:00:27.922Z"
   },
   {
    "duration": 52,
    "start_time": "2023-12-07T18:00:27.940Z"
   },
   {
    "duration": 31,
    "start_time": "2023-12-07T18:00:27.994Z"
   },
   {
    "duration": 36,
    "start_time": "2023-12-07T18:00:28.027Z"
   },
   {
    "duration": 31,
    "start_time": "2023-12-07T18:00:28.064Z"
   },
   {
    "duration": 29,
    "start_time": "2023-12-07T18:00:28.096Z"
   },
   {
    "duration": 78,
    "start_time": "2023-12-07T18:00:28.127Z"
   },
   {
    "duration": 0,
    "start_time": "2023-12-07T18:00:28.206Z"
   },
   {
    "duration": 0,
    "start_time": "2023-12-07T18:00:28.207Z"
   },
   {
    "duration": 0,
    "start_time": "2023-12-07T18:00:28.208Z"
   },
   {
    "duration": 0,
    "start_time": "2023-12-07T18:00:28.209Z"
   },
   {
    "duration": 0,
    "start_time": "2023-12-07T18:00:28.210Z"
   },
   {
    "duration": 506,
    "start_time": "2023-12-07T18:00:47.561Z"
   },
   {
    "duration": 20,
    "start_time": "2023-12-07T18:00:48.071Z"
   },
   {
    "duration": 26,
    "start_time": "2023-12-07T18:00:48.093Z"
   },
   {
    "duration": 35,
    "start_time": "2023-12-07T18:00:48.121Z"
   },
   {
    "duration": 43,
    "start_time": "2023-12-07T18:00:48.157Z"
   },
   {
    "duration": 13,
    "start_time": "2023-12-07T18:00:48.201Z"
   },
   {
    "duration": 61,
    "start_time": "2023-12-07T18:00:48.216Z"
   },
   {
    "duration": 23,
    "start_time": "2023-12-07T18:00:48.278Z"
   },
   {
    "duration": 50,
    "start_time": "2023-12-07T18:00:48.304Z"
   },
   {
    "duration": 25,
    "start_time": "2023-12-07T18:00:48.356Z"
   },
   {
    "duration": 47,
    "start_time": "2023-12-07T18:00:48.382Z"
   },
   {
    "duration": 8,
    "start_time": "2023-12-07T18:00:48.430Z"
   },
   {
    "duration": 14,
    "start_time": "2023-12-07T18:00:48.439Z"
   },
   {
    "duration": 37,
    "start_time": "2023-12-07T18:00:48.455Z"
   },
   {
    "duration": 32,
    "start_time": "2023-12-07T18:00:48.493Z"
   },
   {
    "duration": 15,
    "start_time": "2023-12-07T18:00:48.526Z"
   },
   {
    "duration": 3,
    "start_time": "2023-12-07T18:00:48.542Z"
   },
   {
    "duration": 14,
    "start_time": "2023-12-07T18:00:48.547Z"
   },
   {
    "duration": 22,
    "start_time": "2023-12-07T18:00:48.562Z"
   },
   {
    "duration": 19,
    "start_time": "2023-12-07T18:00:48.585Z"
   },
   {
    "duration": 23,
    "start_time": "2023-12-07T18:00:48.605Z"
   },
   {
    "duration": 19,
    "start_time": "2023-12-07T18:00:48.629Z"
   },
   {
    "duration": 95,
    "start_time": "2023-12-07T18:00:48.649Z"
   },
   {
    "duration": 0,
    "start_time": "2023-12-07T18:00:48.746Z"
   },
   {
    "duration": 0,
    "start_time": "2023-12-07T18:00:48.747Z"
   },
   {
    "duration": 0,
    "start_time": "2023-12-07T18:00:48.749Z"
   },
   {
    "duration": 0,
    "start_time": "2023-12-07T18:00:48.750Z"
   },
   {
    "duration": 0,
    "start_time": "2023-12-07T18:00:48.751Z"
   },
   {
    "duration": 478,
    "start_time": "2023-12-07T18:01:15.053Z"
   },
   {
    "duration": 21,
    "start_time": "2023-12-07T18:01:15.533Z"
   },
   {
    "duration": 19,
    "start_time": "2023-12-07T18:01:15.556Z"
   },
   {
    "duration": 8,
    "start_time": "2023-12-07T18:01:15.577Z"
   },
   {
    "duration": 34,
    "start_time": "2023-12-07T18:01:15.586Z"
   },
   {
    "duration": 4,
    "start_time": "2023-12-07T18:01:15.622Z"
   },
   {
    "duration": 18,
    "start_time": "2023-12-07T18:01:15.627Z"
   },
   {
    "duration": 48,
    "start_time": "2023-12-07T18:01:15.647Z"
   },
   {
    "duration": 11,
    "start_time": "2023-12-07T18:01:15.697Z"
   },
   {
    "duration": 5,
    "start_time": "2023-12-07T18:01:15.712Z"
   },
   {
    "duration": 48,
    "start_time": "2023-12-07T18:01:15.719Z"
   },
   {
    "duration": 8,
    "start_time": "2023-12-07T18:01:15.769Z"
   },
   {
    "duration": 21,
    "start_time": "2023-12-07T18:01:15.779Z"
   },
   {
    "duration": 13,
    "start_time": "2023-12-07T18:01:15.801Z"
   },
   {
    "duration": 28,
    "start_time": "2023-12-07T18:01:15.815Z"
   },
   {
    "duration": 17,
    "start_time": "2023-12-07T18:01:15.845Z"
   },
   {
    "duration": 3,
    "start_time": "2023-12-07T18:01:15.863Z"
   },
   {
    "duration": 9,
    "start_time": "2023-12-07T18:01:15.868Z"
   },
   {
    "duration": 8,
    "start_time": "2023-12-07T18:01:15.878Z"
   },
   {
    "duration": 5,
    "start_time": "2023-12-07T18:01:15.888Z"
   },
   {
    "duration": 9,
    "start_time": "2023-12-07T18:01:15.894Z"
   },
   {
    "duration": 7,
    "start_time": "2023-12-07T18:01:15.904Z"
   },
   {
    "duration": 3,
    "start_time": "2023-12-07T18:01:15.913Z"
   },
   {
    "duration": 388,
    "start_time": "2023-12-07T18:01:15.917Z"
   },
   {
    "duration": 0,
    "start_time": "2023-12-07T18:01:16.307Z"
   },
   {
    "duration": 0,
    "start_time": "2023-12-07T18:01:16.308Z"
   },
   {
    "duration": 0,
    "start_time": "2023-12-07T18:01:16.309Z"
   },
   {
    "duration": 0,
    "start_time": "2023-12-07T18:01:16.310Z"
   },
   {
    "duration": 3,
    "start_time": "2023-12-07T18:03:35.357Z"
   },
   {
    "duration": 3,
    "start_time": "2023-12-07T18:03:39.077Z"
   },
   {
    "duration": 471,
    "start_time": "2023-12-07T18:03:42.980Z"
   },
   {
    "duration": 21,
    "start_time": "2023-12-07T18:03:43.453Z"
   },
   {
    "duration": 39,
    "start_time": "2023-12-07T18:03:43.476Z"
   },
   {
    "duration": 8,
    "start_time": "2023-12-07T18:03:43.517Z"
   },
   {
    "duration": 41,
    "start_time": "2023-12-07T18:03:43.526Z"
   },
   {
    "duration": 3,
    "start_time": "2023-12-07T18:03:43.569Z"
   },
   {
    "duration": 20,
    "start_time": "2023-12-07T18:03:43.574Z"
   },
   {
    "duration": 13,
    "start_time": "2023-12-07T18:03:43.595Z"
   },
   {
    "duration": 26,
    "start_time": "2023-12-07T18:03:43.610Z"
   },
   {
    "duration": 15,
    "start_time": "2023-12-07T18:03:43.639Z"
   },
   {
    "duration": 42,
    "start_time": "2023-12-07T18:03:43.655Z"
   },
   {
    "duration": 8,
    "start_time": "2023-12-07T18:03:43.698Z"
   },
   {
    "duration": 3,
    "start_time": "2023-12-07T18:03:43.708Z"
   },
   {
    "duration": 27,
    "start_time": "2023-12-07T18:03:43.713Z"
   },
   {
    "duration": 23,
    "start_time": "2023-12-07T18:03:43.741Z"
   },
   {
    "duration": 17,
    "start_time": "2023-12-07T18:03:43.765Z"
   },
   {
    "duration": 3,
    "start_time": "2023-12-07T18:03:43.784Z"
   },
   {
    "duration": 33,
    "start_time": "2023-12-07T18:03:43.788Z"
   },
   {
    "duration": 15,
    "start_time": "2023-12-07T18:03:43.823Z"
   },
   {
    "duration": 16,
    "start_time": "2023-12-07T18:03:43.839Z"
   },
   {
    "duration": 16,
    "start_time": "2023-12-07T18:03:43.856Z"
   },
   {
    "duration": 25,
    "start_time": "2023-12-07T18:03:43.873Z"
   },
   {
    "duration": 13,
    "start_time": "2023-12-07T18:03:43.900Z"
   },
   {
    "duration": 366,
    "start_time": "2023-12-07T18:03:43.914Z"
   },
   {
    "duration": 0,
    "start_time": "2023-12-07T18:03:44.281Z"
   },
   {
    "duration": 0,
    "start_time": "2023-12-07T18:03:44.282Z"
   },
   {
    "duration": 0,
    "start_time": "2023-12-07T18:03:44.283Z"
   },
   {
    "duration": 0,
    "start_time": "2023-12-07T18:03:44.285Z"
   },
   {
    "duration": 495,
    "start_time": "2023-12-07T18:07:35.738Z"
   },
   {
    "duration": 19,
    "start_time": "2023-12-07T18:07:36.236Z"
   },
   {
    "duration": 40,
    "start_time": "2023-12-07T18:07:36.257Z"
   },
   {
    "duration": 9,
    "start_time": "2023-12-07T18:07:36.298Z"
   },
   {
    "duration": 28,
    "start_time": "2023-12-07T18:07:36.309Z"
   },
   {
    "duration": 3,
    "start_time": "2023-12-07T18:07:36.339Z"
   },
   {
    "duration": 24,
    "start_time": "2023-12-07T18:07:36.343Z"
   },
   {
    "duration": 16,
    "start_time": "2023-12-07T18:07:36.369Z"
   },
   {
    "duration": 23,
    "start_time": "2023-12-07T18:07:36.386Z"
   },
   {
    "duration": 29,
    "start_time": "2023-12-07T18:07:36.410Z"
   },
   {
    "duration": 46,
    "start_time": "2023-12-07T18:07:36.440Z"
   },
   {
    "duration": 8,
    "start_time": "2023-12-07T18:07:36.488Z"
   },
   {
    "duration": 7,
    "start_time": "2023-12-07T18:07:36.497Z"
   },
   {
    "duration": 9,
    "start_time": "2023-12-07T18:07:36.507Z"
   },
   {
    "duration": 21,
    "start_time": "2023-12-07T18:07:36.517Z"
   },
   {
    "duration": 31,
    "start_time": "2023-12-07T18:07:36.539Z"
   },
   {
    "duration": 3,
    "start_time": "2023-12-07T18:07:36.571Z"
   },
   {
    "duration": 19,
    "start_time": "2023-12-07T18:07:36.575Z"
   },
   {
    "duration": 5,
    "start_time": "2023-12-07T18:07:36.596Z"
   },
   {
    "duration": 15,
    "start_time": "2023-12-07T18:07:36.602Z"
   },
   {
    "duration": 24,
    "start_time": "2023-12-07T18:07:36.619Z"
   },
   {
    "duration": 9,
    "start_time": "2023-12-07T18:07:36.644Z"
   },
   {
    "duration": 12,
    "start_time": "2023-12-07T18:07:36.654Z"
   },
   {
    "duration": 9,
    "start_time": "2023-12-07T18:07:36.668Z"
   },
   {
    "duration": 14,
    "start_time": "2023-12-07T18:07:36.679Z"
   },
   {
    "duration": 7,
    "start_time": "2023-12-07T18:07:36.695Z"
   },
   {
    "duration": 10,
    "start_time": "2023-12-07T18:07:36.703Z"
   },
   {
    "duration": 9,
    "start_time": "2023-12-07T18:07:36.715Z"
   },
   {
    "duration": 480,
    "start_time": "2023-12-07T18:08:20.664Z"
   },
   {
    "duration": 21,
    "start_time": "2023-12-07T18:08:21.145Z"
   },
   {
    "duration": 36,
    "start_time": "2023-12-07T18:08:21.168Z"
   },
   {
    "duration": 27,
    "start_time": "2023-12-07T18:08:21.206Z"
   },
   {
    "duration": 29,
    "start_time": "2023-12-07T18:08:21.235Z"
   },
   {
    "duration": 3,
    "start_time": "2023-12-07T18:08:21.266Z"
   },
   {
    "duration": 12,
    "start_time": "2023-12-07T18:08:21.270Z"
   },
   {
    "duration": 8,
    "start_time": "2023-12-07T18:08:21.283Z"
   },
   {
    "duration": 8,
    "start_time": "2023-12-07T18:08:21.292Z"
   },
   {
    "duration": 3,
    "start_time": "2023-12-07T18:08:21.302Z"
   },
   {
    "duration": 31,
    "start_time": "2023-12-07T18:08:21.306Z"
   },
   {
    "duration": 9,
    "start_time": "2023-12-07T18:08:21.338Z"
   },
   {
    "duration": 4,
    "start_time": "2023-12-07T18:08:21.348Z"
   },
   {
    "duration": 10,
    "start_time": "2023-12-07T18:08:21.370Z"
   },
   {
    "duration": 18,
    "start_time": "2023-12-07T18:08:21.381Z"
   },
   {
    "duration": 16,
    "start_time": "2023-12-07T18:08:21.400Z"
   },
   {
    "duration": 3,
    "start_time": "2023-12-07T18:08:21.417Z"
   },
   {
    "duration": 25,
    "start_time": "2023-12-07T18:08:21.421Z"
   },
   {
    "duration": 7,
    "start_time": "2023-12-07T18:08:21.447Z"
   },
   {
    "duration": 15,
    "start_time": "2023-12-07T18:08:21.455Z"
   },
   {
    "duration": 39,
    "start_time": "2023-12-07T18:08:21.472Z"
   },
   {
    "duration": 4,
    "start_time": "2023-12-07T18:08:21.513Z"
   },
   {
    "duration": 5,
    "start_time": "2023-12-07T18:08:21.518Z"
   },
   {
    "duration": 10,
    "start_time": "2023-12-07T18:08:21.524Z"
   },
   {
    "duration": 20,
    "start_time": "2023-12-07T18:08:21.535Z"
   },
   {
    "duration": 6,
    "start_time": "2023-12-07T18:08:21.557Z"
   },
   {
    "duration": 8,
    "start_time": "2023-12-07T18:08:21.565Z"
   },
   {
    "duration": 6,
    "start_time": "2023-12-07T18:08:21.576Z"
   },
   {
    "duration": 3,
    "start_time": "2023-12-07T18:24:16.225Z"
   },
   {
    "duration": 72,
    "start_time": "2023-12-07T18:24:38.322Z"
   },
   {
    "duration": 435,
    "start_time": "2023-12-07T18:24:54.760Z"
   },
   {
    "duration": 18,
    "start_time": "2023-12-07T18:25:29.203Z"
   },
   {
    "duration": 94,
    "start_time": "2023-12-07T18:27:21.041Z"
   },
   {
    "duration": 431,
    "start_time": "2023-12-07T18:27:39.481Z"
   },
   {
    "duration": 914,
    "start_time": "2023-12-07T18:29:03.826Z"
   },
   {
    "duration": 298,
    "start_time": "2023-12-07T18:29:27.057Z"
   },
   {
    "duration": 4,
    "start_time": "2023-12-07T18:37:54.221Z"
   },
   {
    "duration": 37,
    "start_time": "2023-12-07T18:37:56.027Z"
   },
   {
    "duration": 59,
    "start_time": "2023-12-07T18:38:00.380Z"
   },
   {
    "duration": 4,
    "start_time": "2023-12-07T18:41:41.910Z"
   },
   {
    "duration": 29,
    "start_time": "2023-12-07T18:41:43.764Z"
   },
   {
    "duration": 66,
    "start_time": "2023-12-07T18:42:20.590Z"
   },
   {
    "duration": 299,
    "start_time": "2023-12-07T18:42:23.848Z"
   },
   {
    "duration": 481,
    "start_time": "2023-12-07T19:14:15.929Z"
   },
   {
    "duration": 19,
    "start_time": "2023-12-07T19:14:16.412Z"
   },
   {
    "duration": 22,
    "start_time": "2023-12-07T19:14:16.433Z"
   },
   {
    "duration": 25,
    "start_time": "2023-12-07T19:14:16.457Z"
   },
   {
    "duration": 48,
    "start_time": "2023-12-07T19:14:16.483Z"
   },
   {
    "duration": 10,
    "start_time": "2023-12-07T19:14:16.532Z"
   },
   {
    "duration": 25,
    "start_time": "2023-12-07T19:14:16.543Z"
   },
   {
    "duration": 22,
    "start_time": "2023-12-07T19:14:16.570Z"
   },
   {
    "duration": 19,
    "start_time": "2023-12-07T19:14:16.594Z"
   },
   {
    "duration": 8,
    "start_time": "2023-12-07T19:14:16.617Z"
   },
   {
    "duration": 46,
    "start_time": "2023-12-07T19:14:16.627Z"
   },
   {
    "duration": 10,
    "start_time": "2023-12-07T19:14:16.675Z"
   },
   {
    "duration": 23,
    "start_time": "2023-12-07T19:14:16.686Z"
   },
   {
    "duration": 23,
    "start_time": "2023-12-07T19:14:16.711Z"
   },
   {
    "duration": 31,
    "start_time": "2023-12-07T19:14:16.735Z"
   },
   {
    "duration": 18,
    "start_time": "2023-12-07T19:14:16.768Z"
   },
   {
    "duration": 4,
    "start_time": "2023-12-07T19:14:16.787Z"
   },
   {
    "duration": 14,
    "start_time": "2023-12-07T19:14:16.793Z"
   },
   {
    "duration": 15,
    "start_time": "2023-12-07T19:14:16.808Z"
   },
   {
    "duration": 16,
    "start_time": "2023-12-07T19:14:16.824Z"
   },
   {
    "duration": 20,
    "start_time": "2023-12-07T19:14:16.842Z"
   },
   {
    "duration": 7,
    "start_time": "2023-12-07T19:14:16.863Z"
   },
   {
    "duration": 4,
    "start_time": "2023-12-07T19:14:16.872Z"
   },
   {
    "duration": 25,
    "start_time": "2023-12-07T19:14:16.877Z"
   },
   {
    "duration": 16,
    "start_time": "2023-12-07T19:14:16.904Z"
   },
   {
    "duration": 3,
    "start_time": "2023-12-07T19:14:16.921Z"
   },
   {
    "duration": 290,
    "start_time": "2023-12-07T19:14:16.925Z"
   },
   {
    "duration": 475,
    "start_time": "2023-12-07T19:14:17.218Z"
   },
   {
    "duration": 896,
    "start_time": "2023-12-07T19:14:17.694Z"
   },
   {
    "duration": 8,
    "start_time": "2023-12-07T19:14:18.592Z"
   },
   {
    "duration": 12,
    "start_time": "2023-12-07T19:14:18.601Z"
   },
   {
    "duration": 8,
    "start_time": "2023-12-07T19:14:18.615Z"
   },
   {
    "duration": 5,
    "start_time": "2023-12-07T19:14:36.085Z"
   },
   {
    "duration": 439,
    "start_time": "2023-12-07T19:14:59.721Z"
   },
   {
    "duration": 20,
    "start_time": "2023-12-07T19:15:00.162Z"
   },
   {
    "duration": 90,
    "start_time": "2023-12-07T19:15:00.184Z"
   },
   {
    "duration": 19,
    "start_time": "2023-12-07T19:15:00.276Z"
   },
   {
    "duration": 35,
    "start_time": "2023-12-07T19:15:00.296Z"
   },
   {
    "duration": 56,
    "start_time": "2023-12-07T19:15:00.332Z"
   },
   {
    "duration": 36,
    "start_time": "2023-12-07T19:15:00.389Z"
   },
   {
    "duration": 62,
    "start_time": "2023-12-07T19:15:00.427Z"
   },
   {
    "duration": 36,
    "start_time": "2023-12-07T19:15:00.491Z"
   },
   {
    "duration": 19,
    "start_time": "2023-12-07T19:15:00.531Z"
   },
   {
    "duration": 77,
    "start_time": "2023-12-07T19:15:00.551Z"
   },
   {
    "duration": 212,
    "start_time": "2023-12-07T19:15:00.629Z"
   },
   {
    "duration": 37,
    "start_time": "2023-12-07T19:15:00.843Z"
   },
   {
    "duration": 44,
    "start_time": "2023-12-07T19:15:00.881Z"
   },
   {
    "duration": 64,
    "start_time": "2023-12-07T19:15:00.927Z"
   },
   {
    "duration": 42,
    "start_time": "2023-12-07T19:15:00.992Z"
   },
   {
    "duration": 32,
    "start_time": "2023-12-07T19:15:01.035Z"
   },
   {
    "duration": 89,
    "start_time": "2023-12-07T19:15:01.069Z"
   },
   {
    "duration": 261,
    "start_time": "2023-12-07T19:15:01.160Z"
   },
   {
    "duration": 200,
    "start_time": "2023-12-07T19:15:01.422Z"
   },
   {
    "duration": 138,
    "start_time": "2023-12-07T19:15:01.623Z"
   },
   {
    "duration": 66,
    "start_time": "2023-12-07T19:15:01.762Z"
   },
   {
    "duration": 185,
    "start_time": "2023-12-07T19:15:01.830Z"
   },
   {
    "duration": 183,
    "start_time": "2023-12-07T19:15:02.017Z"
   },
   {
    "duration": 72,
    "start_time": "2023-12-07T19:15:02.202Z"
   },
   {
    "duration": 18,
    "start_time": "2023-12-07T19:15:02.276Z"
   },
   {
    "duration": 327,
    "start_time": "2023-12-07T19:15:02.295Z"
   },
   {
    "duration": 490,
    "start_time": "2023-12-07T19:15:02.625Z"
   },
   {
    "duration": 896,
    "start_time": "2023-12-07T19:15:03.116Z"
   },
   {
    "duration": 8,
    "start_time": "2023-12-07T19:15:04.013Z"
   },
   {
    "duration": 10,
    "start_time": "2023-12-07T19:15:04.022Z"
   },
   {
    "duration": 9,
    "start_time": "2023-12-07T19:15:04.033Z"
   },
   {
    "duration": 745,
    "start_time": "2023-12-08T08:23:56.692Z"
   },
   {
    "duration": 24,
    "start_time": "2023-12-08T08:23:57.439Z"
   },
   {
    "duration": 25,
    "start_time": "2023-12-08T08:23:57.465Z"
   },
   {
    "duration": 12,
    "start_time": "2023-12-08T08:23:57.493Z"
   },
   {
    "duration": 50,
    "start_time": "2023-12-08T08:23:57.507Z"
   },
   {
    "duration": 4,
    "start_time": "2023-12-08T08:23:57.558Z"
   },
   {
    "duration": 11,
    "start_time": "2023-12-08T08:23:57.564Z"
   },
   {
    "duration": 5,
    "start_time": "2023-12-08T08:23:57.577Z"
   },
   {
    "duration": 6,
    "start_time": "2023-12-08T08:23:57.584Z"
   },
   {
    "duration": 4,
    "start_time": "2023-12-08T08:23:57.622Z"
   },
   {
    "duration": 45,
    "start_time": "2023-12-08T08:23:57.628Z"
   },
   {
    "duration": 11,
    "start_time": "2023-12-08T08:23:57.675Z"
   },
   {
    "duration": 9,
    "start_time": "2023-12-08T08:23:57.687Z"
   },
   {
    "duration": 35,
    "start_time": "2023-12-08T08:23:57.697Z"
   },
   {
    "duration": 37,
    "start_time": "2023-12-08T08:23:57.733Z"
   },
   {
    "duration": 19,
    "start_time": "2023-12-08T08:23:57.772Z"
   },
   {
    "duration": 4,
    "start_time": "2023-12-08T08:23:57.793Z"
   },
   {
    "duration": 27,
    "start_time": "2023-12-08T08:23:57.798Z"
   },
   {
    "duration": 22,
    "start_time": "2023-12-08T08:23:57.827Z"
   },
   {
    "duration": 13,
    "start_time": "2023-12-08T08:23:57.851Z"
   },
   {
    "duration": 33,
    "start_time": "2023-12-08T08:23:57.866Z"
   },
   {
    "duration": 7,
    "start_time": "2023-12-08T08:23:57.900Z"
   },
   {
    "duration": 5,
    "start_time": "2023-12-08T08:23:57.909Z"
   },
   {
    "duration": 37,
    "start_time": "2023-12-08T08:23:57.916Z"
   },
   {
    "duration": 18,
    "start_time": "2023-12-08T08:23:57.955Z"
   },
   {
    "duration": 5,
    "start_time": "2023-12-08T08:23:57.975Z"
   },
   {
    "duration": 521,
    "start_time": "2023-12-08T08:23:57.982Z"
   },
   {
    "duration": 579,
    "start_time": "2023-12-08T08:23:58.507Z"
   },
   {
    "duration": 1069,
    "start_time": "2023-12-08T08:23:59.088Z"
   },
   {
    "duration": 9,
    "start_time": "2023-12-08T08:24:00.159Z"
   },
   {
    "duration": 60,
    "start_time": "2023-12-08T08:24:00.170Z"
   },
   {
    "duration": 37,
    "start_time": "2023-12-08T08:24:00.232Z"
   },
   {
    "duration": 35,
    "start_time": "2023-12-08T08:56:25.891Z"
   },
   {
    "duration": 196,
    "start_time": "2023-12-08T08:56:49.936Z"
   },
   {
    "duration": 328,
    "start_time": "2023-12-08T08:58:13.610Z"
   },
   {
    "duration": 481,
    "start_time": "2023-12-08T08:58:20.363Z"
   },
   {
    "duration": 25,
    "start_time": "2023-12-08T08:58:20.846Z"
   },
   {
    "duration": 23,
    "start_time": "2023-12-08T08:58:20.873Z"
   },
   {
    "duration": 21,
    "start_time": "2023-12-08T08:58:20.899Z"
   },
   {
    "duration": 45,
    "start_time": "2023-12-08T08:58:20.921Z"
   },
   {
    "duration": 4,
    "start_time": "2023-12-08T08:58:20.967Z"
   },
   {
    "duration": 23,
    "start_time": "2023-12-08T08:58:20.973Z"
   },
   {
    "duration": 14,
    "start_time": "2023-12-08T08:58:20.998Z"
   },
   {
    "duration": 9,
    "start_time": "2023-12-08T08:58:21.014Z"
   },
   {
    "duration": 24,
    "start_time": "2023-12-08T08:58:21.027Z"
   },
   {
    "duration": 55,
    "start_time": "2023-12-08T08:58:21.052Z"
   },
   {
    "duration": 11,
    "start_time": "2023-12-08T08:58:21.108Z"
   },
   {
    "duration": 43,
    "start_time": "2023-12-08T08:58:21.121Z"
   },
   {
    "duration": 50,
    "start_time": "2023-12-08T08:58:21.165Z"
   },
   {
    "duration": 29,
    "start_time": "2023-12-08T08:58:21.216Z"
   },
   {
    "duration": 38,
    "start_time": "2023-12-08T08:58:21.246Z"
   },
   {
    "duration": 5,
    "start_time": "2023-12-08T08:58:21.285Z"
   },
   {
    "duration": 21,
    "start_time": "2023-12-08T08:58:21.292Z"
   },
   {
    "duration": 6,
    "start_time": "2023-12-08T08:58:21.315Z"
   },
   {
    "duration": 6,
    "start_time": "2023-12-08T08:58:21.323Z"
   },
   {
    "duration": 12,
    "start_time": "2023-12-08T08:58:21.331Z"
   },
   {
    "duration": 6,
    "start_time": "2023-12-08T08:58:21.344Z"
   },
   {
    "duration": 8,
    "start_time": "2023-12-08T08:58:21.352Z"
   },
   {
    "duration": 12,
    "start_time": "2023-12-08T08:58:21.361Z"
   },
   {
    "duration": 21,
    "start_time": "2023-12-08T08:58:21.374Z"
   },
   {
    "duration": 7,
    "start_time": "2023-12-08T08:58:21.397Z"
   },
   {
    "duration": 334,
    "start_time": "2023-12-08T08:58:21.405Z"
   },
   {
    "duration": 563,
    "start_time": "2023-12-08T08:58:21.742Z"
   },
   {
    "duration": 1018,
    "start_time": "2023-12-08T08:58:22.307Z"
   },
   {
    "duration": 0,
    "start_time": "2023-12-08T08:58:23.327Z"
   },
   {
    "duration": 0,
    "start_time": "2023-12-08T08:58:23.329Z"
   },
   {
    "duration": 0,
    "start_time": "2023-12-08T08:58:23.330Z"
   },
   {
    "duration": 0,
    "start_time": "2023-12-08T08:58:23.331Z"
   },
   {
    "duration": 0,
    "start_time": "2023-12-08T08:58:23.332Z"
   },
   {
    "duration": 190,
    "start_time": "2023-12-08T08:59:09.358Z"
   },
   {
    "duration": 370,
    "start_time": "2023-12-08T08:59:33.841Z"
   },
   {
    "duration": 188,
    "start_time": "2023-12-08T09:00:04.371Z"
   },
   {
    "duration": 40,
    "start_time": "2023-12-08T09:02:31.838Z"
   },
   {
    "duration": 41,
    "start_time": "2023-12-08T09:03:13.939Z"
   },
   {
    "duration": 52,
    "start_time": "2023-12-08T09:03:30.397Z"
   },
   {
    "duration": 0,
    "start_time": "2023-12-08T09:03:40.838Z"
   },
   {
    "duration": 0,
    "start_time": "2023-12-08T09:03:40.840Z"
   },
   {
    "duration": 0,
    "start_time": "2023-12-08T09:03:40.841Z"
   },
   {
    "duration": 0,
    "start_time": "2023-12-08T09:03:40.843Z"
   },
   {
    "duration": 0,
    "start_time": "2023-12-08T09:03:40.844Z"
   },
   {
    "duration": 0,
    "start_time": "2023-12-08T09:03:40.846Z"
   },
   {
    "duration": 0,
    "start_time": "2023-12-08T09:03:40.847Z"
   },
   {
    "duration": 0,
    "start_time": "2023-12-08T09:03:40.848Z"
   },
   {
    "duration": 0,
    "start_time": "2023-12-08T09:03:40.850Z"
   },
   {
    "duration": 0,
    "start_time": "2023-12-08T09:03:40.851Z"
   },
   {
    "duration": 0,
    "start_time": "2023-12-08T09:03:40.853Z"
   },
   {
    "duration": 1,
    "start_time": "2023-12-08T09:03:40.854Z"
   },
   {
    "duration": 0,
    "start_time": "2023-12-08T09:03:40.856Z"
   },
   {
    "duration": 0,
    "start_time": "2023-12-08T09:03:40.858Z"
   },
   {
    "duration": 0,
    "start_time": "2023-12-08T09:03:40.859Z"
   },
   {
    "duration": 0,
    "start_time": "2023-12-08T09:03:40.861Z"
   },
   {
    "duration": 0,
    "start_time": "2023-12-08T09:03:40.862Z"
   },
   {
    "duration": 0,
    "start_time": "2023-12-08T09:03:40.864Z"
   },
   {
    "duration": 0,
    "start_time": "2023-12-08T09:03:40.865Z"
   },
   {
    "duration": 0,
    "start_time": "2023-12-08T09:03:40.866Z"
   },
   {
    "duration": 0,
    "start_time": "2023-12-08T09:03:40.867Z"
   },
   {
    "duration": 0,
    "start_time": "2023-12-08T09:03:40.868Z"
   },
   {
    "duration": 0,
    "start_time": "2023-12-08T09:03:40.922Z"
   },
   {
    "duration": 0,
    "start_time": "2023-12-08T09:03:40.923Z"
   },
   {
    "duration": 0,
    "start_time": "2023-12-08T09:03:41.037Z"
   },
   {
    "duration": 0,
    "start_time": "2023-12-08T09:03:41.039Z"
   },
   {
    "duration": 0,
    "start_time": "2023-12-08T09:03:41.039Z"
   },
   {
    "duration": 0,
    "start_time": "2023-12-08T09:03:41.040Z"
   },
   {
    "duration": 0,
    "start_time": "2023-12-08T09:03:41.041Z"
   },
   {
    "duration": 0,
    "start_time": "2023-12-08T09:03:41.043Z"
   },
   {
    "duration": 0,
    "start_time": "2023-12-08T09:03:41.044Z"
   },
   {
    "duration": 0,
    "start_time": "2023-12-08T09:03:41.045Z"
   },
   {
    "duration": 0,
    "start_time": "2023-12-08T09:03:41.047Z"
   },
   {
    "duration": 0,
    "start_time": "2023-12-08T09:03:41.048Z"
   },
   {
    "duration": 39,
    "start_time": "2023-12-08T09:04:01.583Z"
   },
   {
    "duration": 522,
    "start_time": "2023-12-08T09:05:26.001Z"
   },
   {
    "duration": 24,
    "start_time": "2023-12-08T09:05:26.525Z"
   },
   {
    "duration": 41,
    "start_time": "2023-12-08T09:05:26.550Z"
   },
   {
    "duration": 24,
    "start_time": "2023-12-08T09:05:26.594Z"
   },
   {
    "duration": 57,
    "start_time": "2023-12-08T09:05:26.620Z"
   },
   {
    "duration": 4,
    "start_time": "2023-12-08T09:05:26.679Z"
   },
   {
    "duration": 33,
    "start_time": "2023-12-08T09:05:26.684Z"
   },
   {
    "duration": 58,
    "start_time": "2023-12-08T09:05:26.718Z"
   },
   {
    "duration": 47,
    "start_time": "2023-12-08T09:05:26.777Z"
   },
   {
    "duration": 19,
    "start_time": "2023-12-08T09:05:26.828Z"
   },
   {
    "duration": 68,
    "start_time": "2023-12-08T09:05:26.849Z"
   },
   {
    "duration": 11,
    "start_time": "2023-12-08T09:05:26.918Z"
   },
   {
    "duration": 37,
    "start_time": "2023-12-08T09:05:26.931Z"
   },
   {
    "duration": 30,
    "start_time": "2023-12-08T09:05:26.969Z"
   },
   {
    "duration": 39,
    "start_time": "2023-12-08T09:05:27.001Z"
   },
   {
    "duration": 17,
    "start_time": "2023-12-08T09:05:27.042Z"
   },
   {
    "duration": 4,
    "start_time": "2023-12-08T09:05:27.061Z"
   },
   {
    "duration": 65,
    "start_time": "2023-12-08T09:05:27.067Z"
   },
   {
    "duration": 30,
    "start_time": "2023-12-08T09:05:27.134Z"
   },
   {
    "duration": 64,
    "start_time": "2023-12-08T09:05:27.166Z"
   },
   {
    "duration": 34,
    "start_time": "2023-12-08T09:05:27.232Z"
   },
   {
    "duration": 19,
    "start_time": "2023-12-08T09:05:27.268Z"
   },
   {
    "duration": 25,
    "start_time": "2023-12-08T09:05:27.289Z"
   },
   {
    "duration": 18,
    "start_time": "2023-12-08T09:05:27.316Z"
   },
   {
    "duration": 43,
    "start_time": "2023-12-08T09:05:27.335Z"
   },
   {
    "duration": 25,
    "start_time": "2023-12-08T09:05:27.380Z"
   },
   {
    "duration": 330,
    "start_time": "2023-12-08T09:05:27.407Z"
   },
   {
    "duration": 572,
    "start_time": "2023-12-08T09:05:27.740Z"
   },
   {
    "duration": 466,
    "start_time": "2023-12-08T09:07:27.378Z"
   },
   {
    "duration": 25,
    "start_time": "2023-12-08T09:07:27.846Z"
   },
   {
    "duration": 17,
    "start_time": "2023-12-08T09:07:27.872Z"
   },
   {
    "duration": 12,
    "start_time": "2023-12-08T09:07:27.891Z"
   },
   {
    "duration": 39,
    "start_time": "2023-12-08T09:07:27.922Z"
   },
   {
    "duration": 4,
    "start_time": "2023-12-08T09:07:27.962Z"
   },
   {
    "duration": 16,
    "start_time": "2023-12-08T09:07:27.967Z"
   },
   {
    "duration": 4,
    "start_time": "2023-12-08T09:07:27.985Z"
   },
   {
    "duration": 36,
    "start_time": "2023-12-08T09:07:27.990Z"
   },
   {
    "duration": 112,
    "start_time": "2023-12-08T09:07:28.029Z"
   },
   {
    "duration": 42,
    "start_time": "2023-12-08T09:07:28.142Z"
   },
   {
    "duration": 11,
    "start_time": "2023-12-08T09:07:28.185Z"
   },
   {
    "duration": 10,
    "start_time": "2023-12-08T09:07:28.198Z"
   },
   {
    "duration": 48,
    "start_time": "2023-12-08T09:07:28.210Z"
   },
   {
    "duration": 51,
    "start_time": "2023-12-08T09:07:28.260Z"
   },
   {
    "duration": 24,
    "start_time": "2023-12-08T09:07:28.313Z"
   },
   {
    "duration": 16,
    "start_time": "2023-12-08T09:07:28.339Z"
   },
   {
    "duration": 26,
    "start_time": "2023-12-08T09:07:28.356Z"
   },
   {
    "duration": 22,
    "start_time": "2023-12-08T09:07:28.384Z"
   },
   {
    "duration": 18,
    "start_time": "2023-12-08T09:07:28.407Z"
   },
   {
    "duration": 33,
    "start_time": "2023-12-08T09:07:28.426Z"
   },
   {
    "duration": 17,
    "start_time": "2023-12-08T09:07:28.461Z"
   },
   {
    "duration": 12,
    "start_time": "2023-12-08T09:07:28.480Z"
   },
   {
    "duration": 23,
    "start_time": "2023-12-08T09:07:28.494Z"
   },
   {
    "duration": 31,
    "start_time": "2023-12-08T09:07:28.519Z"
   },
   {
    "duration": 13,
    "start_time": "2023-12-08T09:07:28.552Z"
   },
   {
    "duration": 342,
    "start_time": "2023-12-08T09:07:28.567Z"
   },
   {
    "duration": 568,
    "start_time": "2023-12-08T09:07:28.913Z"
   },
   {
    "duration": 853,
    "start_time": "2023-12-08T09:07:29.483Z"
   },
   {
    "duration": 0,
    "start_time": "2023-12-08T09:07:30.337Z"
   },
   {
    "duration": 0,
    "start_time": "2023-12-08T09:07:30.339Z"
   },
   {
    "duration": 0,
    "start_time": "2023-12-08T09:07:30.340Z"
   },
   {
    "duration": 0,
    "start_time": "2023-12-08T09:07:30.341Z"
   },
   {
    "duration": 0,
    "start_time": "2023-12-08T09:07:30.342Z"
   },
   {
    "duration": 480,
    "start_time": "2023-12-08T09:07:45.771Z"
   },
   {
    "duration": 25,
    "start_time": "2023-12-08T09:07:46.254Z"
   },
   {
    "duration": 17,
    "start_time": "2023-12-08T09:07:46.281Z"
   },
   {
    "duration": 32,
    "start_time": "2023-12-08T09:07:46.300Z"
   },
   {
    "duration": 51,
    "start_time": "2023-12-08T09:07:46.333Z"
   },
   {
    "duration": 4,
    "start_time": "2023-12-08T09:07:46.385Z"
   },
   {
    "duration": 18,
    "start_time": "2023-12-08T09:07:46.391Z"
   },
   {
    "duration": 12,
    "start_time": "2023-12-08T09:07:46.412Z"
   },
   {
    "duration": 14,
    "start_time": "2023-12-08T09:07:46.426Z"
   },
   {
    "duration": 7,
    "start_time": "2023-12-08T09:07:46.446Z"
   },
   {
    "duration": 51,
    "start_time": "2023-12-08T09:07:46.455Z"
   },
   {
    "duration": 17,
    "start_time": "2023-12-08T09:07:46.509Z"
   },
   {
    "duration": 14,
    "start_time": "2023-12-08T09:07:46.528Z"
   },
   {
    "duration": 19,
    "start_time": "2023-12-08T09:07:46.544Z"
   },
   {
    "duration": 71,
    "start_time": "2023-12-08T09:07:46.565Z"
   },
   {
    "duration": 24,
    "start_time": "2023-12-08T09:07:46.638Z"
   },
   {
    "duration": 4,
    "start_time": "2023-12-08T09:07:46.663Z"
   },
   {
    "duration": 14,
    "start_time": "2023-12-08T09:07:46.668Z"
   },
   {
    "duration": 6,
    "start_time": "2023-12-08T09:07:46.684Z"
   },
   {
    "duration": 4,
    "start_time": "2023-12-08T09:07:46.692Z"
   },
   {
    "duration": 26,
    "start_time": "2023-12-08T09:07:46.698Z"
   },
   {
    "duration": 16,
    "start_time": "2023-12-08T09:07:46.726Z"
   },
   {
    "duration": 14,
    "start_time": "2023-12-08T09:07:46.744Z"
   },
   {
    "duration": 12,
    "start_time": "2023-12-08T09:07:46.760Z"
   },
   {
    "duration": 24,
    "start_time": "2023-12-08T09:07:46.773Z"
   },
   {
    "duration": 15,
    "start_time": "2023-12-08T09:07:46.799Z"
   },
   {
    "duration": 354,
    "start_time": "2023-12-08T09:07:46.815Z"
   },
   {
    "duration": 573,
    "start_time": "2023-12-08T09:07:47.172Z"
   },
   {
    "duration": 766,
    "start_time": "2023-12-08T09:07:47.747Z"
   },
   {
    "duration": 0,
    "start_time": "2023-12-08T09:07:48.514Z"
   },
   {
    "duration": 0,
    "start_time": "2023-12-08T09:07:48.515Z"
   },
   {
    "duration": 0,
    "start_time": "2023-12-08T09:07:48.522Z"
   },
   {
    "duration": 0,
    "start_time": "2023-12-08T09:07:48.523Z"
   },
   {
    "duration": 0,
    "start_time": "2023-12-08T09:07:48.524Z"
   },
   {
    "duration": 531,
    "start_time": "2023-12-08T09:08:11.014Z"
   },
   {
    "duration": 23,
    "start_time": "2023-12-08T09:08:11.548Z"
   },
   {
    "duration": 19,
    "start_time": "2023-12-08T09:08:11.573Z"
   },
   {
    "duration": 28,
    "start_time": "2023-12-08T09:08:11.595Z"
   },
   {
    "duration": 51,
    "start_time": "2023-12-08T09:08:11.625Z"
   },
   {
    "duration": 4,
    "start_time": "2023-12-08T09:08:11.677Z"
   },
   {
    "duration": 11,
    "start_time": "2023-12-08T09:08:11.683Z"
   },
   {
    "duration": 5,
    "start_time": "2023-12-08T09:08:11.696Z"
   },
   {
    "duration": 26,
    "start_time": "2023-12-08T09:08:11.703Z"
   },
   {
    "duration": 11,
    "start_time": "2023-12-08T09:08:11.733Z"
   },
   {
    "duration": 53,
    "start_time": "2023-12-08T09:08:11.746Z"
   },
   {
    "duration": 23,
    "start_time": "2023-12-08T09:08:11.800Z"
   },
   {
    "duration": 9,
    "start_time": "2023-12-08T09:08:11.825Z"
   },
   {
    "duration": 14,
    "start_time": "2023-12-08T09:08:11.836Z"
   },
   {
    "duration": 45,
    "start_time": "2023-12-08T09:08:11.852Z"
   },
   {
    "duration": 19,
    "start_time": "2023-12-08T09:08:11.898Z"
   },
   {
    "duration": 8,
    "start_time": "2023-12-08T09:08:11.919Z"
   },
   {
    "duration": 35,
    "start_time": "2023-12-08T09:08:11.929Z"
   },
   {
    "duration": 28,
    "start_time": "2023-12-08T09:08:11.965Z"
   },
   {
    "duration": 31,
    "start_time": "2023-12-08T09:08:11.995Z"
   },
   {
    "duration": 27,
    "start_time": "2023-12-08T09:08:12.029Z"
   },
   {
    "duration": 35,
    "start_time": "2023-12-08T09:08:12.057Z"
   },
   {
    "duration": 4,
    "start_time": "2023-12-08T09:08:12.094Z"
   },
   {
    "duration": 9,
    "start_time": "2023-12-08T09:08:12.100Z"
   },
   {
    "duration": 18,
    "start_time": "2023-12-08T09:08:12.111Z"
   },
   {
    "duration": 4,
    "start_time": "2023-12-08T09:08:12.130Z"
   },
   {
    "duration": 360,
    "start_time": "2023-12-08T09:08:12.136Z"
   },
   {
    "duration": 570,
    "start_time": "2023-12-08T09:08:12.499Z"
   },
   {
    "duration": 493,
    "start_time": "2023-12-08T09:09:22.048Z"
   },
   {
    "duration": 35,
    "start_time": "2023-12-08T09:09:22.543Z"
   },
   {
    "duration": 34,
    "start_time": "2023-12-08T09:09:22.580Z"
   },
   {
    "duration": 20,
    "start_time": "2023-12-08T09:09:22.623Z"
   },
   {
    "duration": 66,
    "start_time": "2023-12-08T09:09:22.645Z"
   },
   {
    "duration": 8,
    "start_time": "2023-12-08T09:09:22.713Z"
   },
   {
    "duration": 35,
    "start_time": "2023-12-08T09:09:22.723Z"
   },
   {
    "duration": 19,
    "start_time": "2023-12-08T09:09:22.760Z"
   },
   {
    "duration": 39,
    "start_time": "2023-12-08T09:09:22.781Z"
   },
   {
    "duration": 19,
    "start_time": "2023-12-08T09:09:22.824Z"
   },
   {
    "duration": 74,
    "start_time": "2023-12-08T09:09:22.844Z"
   },
   {
    "duration": 11,
    "start_time": "2023-12-08T09:09:22.920Z"
   },
   {
    "duration": 27,
    "start_time": "2023-12-08T09:09:22.933Z"
   },
   {
    "duration": 34,
    "start_time": "2023-12-08T09:09:22.962Z"
   },
   {
    "duration": 51,
    "start_time": "2023-12-08T09:09:22.998Z"
   },
   {
    "duration": 33,
    "start_time": "2023-12-08T09:09:23.050Z"
   },
   {
    "duration": 13,
    "start_time": "2023-12-08T09:09:23.084Z"
   },
   {
    "duration": 44,
    "start_time": "2023-12-08T09:09:23.099Z"
   },
   {
    "duration": 18,
    "start_time": "2023-12-08T09:09:23.144Z"
   },
   {
    "duration": 13,
    "start_time": "2023-12-08T09:09:23.164Z"
   },
   {
    "duration": 33,
    "start_time": "2023-12-08T09:09:23.179Z"
   },
   {
    "duration": 40,
    "start_time": "2023-12-08T09:09:23.214Z"
   },
   {
    "duration": 23,
    "start_time": "2023-12-08T09:09:23.256Z"
   },
   {
    "duration": 23,
    "start_time": "2023-12-08T09:09:23.281Z"
   },
   {
    "duration": 26,
    "start_time": "2023-12-08T09:09:23.305Z"
   },
   {
    "duration": 21,
    "start_time": "2023-12-08T09:09:23.332Z"
   },
   {
    "duration": 343,
    "start_time": "2023-12-08T09:09:23.355Z"
   },
   {
    "duration": 550,
    "start_time": "2023-12-08T09:09:23.702Z"
   },
   {
    "duration": 525,
    "start_time": "2023-12-08T09:09:49.830Z"
   },
   {
    "duration": 26,
    "start_time": "2023-12-08T09:09:50.357Z"
   },
   {
    "duration": 39,
    "start_time": "2023-12-08T09:09:50.385Z"
   },
   {
    "duration": 24,
    "start_time": "2023-12-08T09:09:50.427Z"
   },
   {
    "duration": 55,
    "start_time": "2023-12-08T09:09:50.453Z"
   },
   {
    "duration": 5,
    "start_time": "2023-12-08T09:09:50.510Z"
   },
   {
    "duration": 45,
    "start_time": "2023-12-08T09:09:50.516Z"
   },
   {
    "duration": 23,
    "start_time": "2023-12-08T09:09:50.563Z"
   },
   {
    "duration": 22,
    "start_time": "2023-12-08T09:09:50.588Z"
   },
   {
    "duration": 41,
    "start_time": "2023-12-08T09:09:50.613Z"
   },
   {
    "duration": 64,
    "start_time": "2023-12-08T09:09:50.656Z"
   },
   {
    "duration": 19,
    "start_time": "2023-12-08T09:09:50.722Z"
   },
   {
    "duration": 11,
    "start_time": "2023-12-08T09:09:50.743Z"
   },
   {
    "duration": 39,
    "start_time": "2023-12-08T09:09:50.756Z"
   },
   {
    "duration": 51,
    "start_time": "2023-12-08T09:09:50.797Z"
   },
   {
    "duration": 28,
    "start_time": "2023-12-08T09:09:50.849Z"
   },
   {
    "duration": 18,
    "start_time": "2023-12-08T09:09:50.879Z"
   },
   {
    "duration": 32,
    "start_time": "2023-12-08T09:09:50.898Z"
   },
   {
    "duration": 15,
    "start_time": "2023-12-08T09:09:50.932Z"
   },
   {
    "duration": 43,
    "start_time": "2023-12-08T09:09:50.949Z"
   },
   {
    "duration": 26,
    "start_time": "2023-12-08T09:09:50.994Z"
   },
   {
    "duration": 39,
    "start_time": "2023-12-08T09:09:51.022Z"
   },
   {
    "duration": 46,
    "start_time": "2023-12-08T09:09:51.063Z"
   },
   {
    "duration": 52,
    "start_time": "2023-12-08T09:09:51.111Z"
   },
   {
    "duration": 46,
    "start_time": "2023-12-08T09:09:51.165Z"
   },
   {
    "duration": 98,
    "start_time": "2023-12-08T09:09:51.213Z"
   },
   {
    "duration": 405,
    "start_time": "2023-12-08T09:09:51.313Z"
   },
   {
    "duration": 621,
    "start_time": "2023-12-08T09:09:51.722Z"
   },
   {
    "duration": 534,
    "start_time": "2023-12-08T09:11:25.452Z"
   },
   {
    "duration": 25,
    "start_time": "2023-12-08T09:11:25.988Z"
   },
   {
    "duration": 19,
    "start_time": "2023-12-08T09:11:26.015Z"
   },
   {
    "duration": 18,
    "start_time": "2023-12-08T09:11:26.037Z"
   },
   {
    "duration": 65,
    "start_time": "2023-12-08T09:11:26.056Z"
   },
   {
    "duration": 3,
    "start_time": "2023-12-08T09:11:26.123Z"
   },
   {
    "duration": 26,
    "start_time": "2023-12-08T09:11:26.128Z"
   },
   {
    "duration": 5,
    "start_time": "2023-12-08T09:11:26.156Z"
   },
   {
    "duration": 10,
    "start_time": "2023-12-08T09:11:26.163Z"
   },
   {
    "duration": 10,
    "start_time": "2023-12-08T09:11:26.177Z"
   },
   {
    "duration": 60,
    "start_time": "2023-12-08T09:11:26.189Z"
   },
   {
    "duration": 11,
    "start_time": "2023-12-08T09:11:26.251Z"
   },
   {
    "duration": 13,
    "start_time": "2023-12-08T09:11:26.264Z"
   },
   {
    "duration": 29,
    "start_time": "2023-12-08T09:11:26.278Z"
   },
   {
    "duration": 58,
    "start_time": "2023-12-08T09:11:26.309Z"
   },
   {
    "duration": 18,
    "start_time": "2023-12-08T09:11:26.369Z"
   },
   {
    "duration": 4,
    "start_time": "2023-12-08T09:11:26.388Z"
   },
   {
    "duration": 16,
    "start_time": "2023-12-08T09:11:26.394Z"
   },
   {
    "duration": 17,
    "start_time": "2023-12-08T09:11:26.412Z"
   },
   {
    "duration": 4,
    "start_time": "2023-12-08T09:11:26.432Z"
   },
   {
    "duration": 13,
    "start_time": "2023-12-08T09:11:26.437Z"
   },
   {
    "duration": 14,
    "start_time": "2023-12-08T09:11:26.452Z"
   },
   {
    "duration": 9,
    "start_time": "2023-12-08T09:11:26.468Z"
   },
   {
    "duration": 15,
    "start_time": "2023-12-08T09:11:26.478Z"
   },
   {
    "duration": 27,
    "start_time": "2023-12-08T09:11:26.494Z"
   },
   {
    "duration": 3,
    "start_time": "2023-12-08T09:11:26.523Z"
   },
   {
    "duration": 373,
    "start_time": "2023-12-08T09:11:26.528Z"
   },
   {
    "duration": 575,
    "start_time": "2023-12-08T09:11:26.904Z"
   },
   {
    "duration": 513,
    "start_time": "2023-12-08T09:14:32.226Z"
   },
   {
    "duration": 25,
    "start_time": "2023-12-08T09:14:32.741Z"
   },
   {
    "duration": 17,
    "start_time": "2023-12-08T09:14:32.768Z"
   },
   {
    "duration": 17,
    "start_time": "2023-12-08T09:14:32.787Z"
   },
   {
    "duration": 55,
    "start_time": "2023-12-08T09:14:32.805Z"
   },
   {
    "duration": 4,
    "start_time": "2023-12-08T09:14:32.861Z"
   },
   {
    "duration": 26,
    "start_time": "2023-12-08T09:14:32.866Z"
   },
   {
    "duration": 12,
    "start_time": "2023-12-08T09:14:32.894Z"
   },
   {
    "duration": 25,
    "start_time": "2023-12-08T09:14:32.908Z"
   },
   {
    "duration": 5,
    "start_time": "2023-12-08T09:14:32.936Z"
   },
   {
    "duration": 69,
    "start_time": "2023-12-08T09:14:32.943Z"
   },
   {
    "duration": 15,
    "start_time": "2023-12-08T09:14:33.013Z"
   },
   {
    "duration": 27,
    "start_time": "2023-12-08T09:14:33.030Z"
   },
   {
    "duration": 35,
    "start_time": "2023-12-08T09:14:33.058Z"
   },
   {
    "duration": 25,
    "start_time": "2023-12-08T09:14:33.094Z"
   },
   {
    "duration": 24,
    "start_time": "2023-12-08T09:14:33.121Z"
   },
   {
    "duration": 11,
    "start_time": "2023-12-08T09:14:33.146Z"
   },
   {
    "duration": 31,
    "start_time": "2023-12-08T09:14:33.158Z"
   },
   {
    "duration": 17,
    "start_time": "2023-12-08T09:14:33.191Z"
   },
   {
    "duration": 14,
    "start_time": "2023-12-08T09:14:33.210Z"
   },
   {
    "duration": 28,
    "start_time": "2023-12-08T09:14:33.226Z"
   },
   {
    "duration": 24,
    "start_time": "2023-12-08T09:14:33.256Z"
   },
   {
    "duration": 12,
    "start_time": "2023-12-08T09:14:33.282Z"
   },
   {
    "duration": 19,
    "start_time": "2023-12-08T09:14:33.296Z"
   },
   {
    "duration": 33,
    "start_time": "2023-12-08T09:14:33.317Z"
   },
   {
    "duration": 11,
    "start_time": "2023-12-08T09:14:33.352Z"
   },
   {
    "duration": 379,
    "start_time": "2023-12-08T09:14:33.364Z"
   },
   {
    "duration": 562,
    "start_time": "2023-12-08T09:14:33.746Z"
   },
   {
    "duration": 803,
    "start_time": "2023-12-08T09:14:34.310Z"
   },
   {
    "duration": 0,
    "start_time": "2023-12-08T09:14:35.115Z"
   },
   {
    "duration": 0,
    "start_time": "2023-12-08T09:14:35.117Z"
   },
   {
    "duration": 0,
    "start_time": "2023-12-08T09:14:35.122Z"
   },
   {
    "duration": 0,
    "start_time": "2023-12-08T09:14:35.124Z"
   },
   {
    "duration": 0,
    "start_time": "2023-12-08T09:14:35.125Z"
   },
   {
    "duration": 555,
    "start_time": "2023-12-08T09:14:54.920Z"
   },
   {
    "duration": 25,
    "start_time": "2023-12-08T09:14:55.476Z"
   },
   {
    "duration": 51,
    "start_time": "2023-12-08T09:14:55.503Z"
   },
   {
    "duration": 20,
    "start_time": "2023-12-08T09:14:55.557Z"
   },
   {
    "duration": 64,
    "start_time": "2023-12-08T09:14:55.579Z"
   },
   {
    "duration": 4,
    "start_time": "2023-12-08T09:14:55.645Z"
   },
   {
    "duration": 12,
    "start_time": "2023-12-08T09:14:55.650Z"
   },
   {
    "duration": 13,
    "start_time": "2023-12-08T09:14:55.664Z"
   },
   {
    "duration": 15,
    "start_time": "2023-12-08T09:14:55.678Z"
   },
   {
    "duration": 14,
    "start_time": "2023-12-08T09:14:55.697Z"
   },
   {
    "duration": 46,
    "start_time": "2023-12-08T09:14:55.713Z"
   },
   {
    "duration": 11,
    "start_time": "2023-12-08T09:14:55.761Z"
   },
   {
    "duration": 12,
    "start_time": "2023-12-08T09:14:55.774Z"
   },
   {
    "duration": 25,
    "start_time": "2023-12-08T09:14:55.788Z"
   },
   {
    "duration": 25,
    "start_time": "2023-12-08T09:14:55.814Z"
   },
   {
    "duration": 19,
    "start_time": "2023-12-08T09:14:55.841Z"
   },
   {
    "duration": 4,
    "start_time": "2023-12-08T09:14:55.861Z"
   },
   {
    "duration": 14,
    "start_time": "2023-12-08T09:14:55.867Z"
   },
   {
    "duration": 6,
    "start_time": "2023-12-08T09:14:55.883Z"
   },
   {
    "duration": 5,
    "start_time": "2023-12-08T09:14:55.890Z"
   },
   {
    "duration": 9,
    "start_time": "2023-12-08T09:14:55.922Z"
   },
   {
    "duration": 11,
    "start_time": "2023-12-08T09:14:55.933Z"
   },
   {
    "duration": 27,
    "start_time": "2023-12-08T09:14:55.946Z"
   },
   {
    "duration": 13,
    "start_time": "2023-12-08T09:14:55.975Z"
   },
   {
    "duration": 22,
    "start_time": "2023-12-08T09:14:55.990Z"
   },
   {
    "duration": 5,
    "start_time": "2023-12-08T09:14:56.014Z"
   },
   {
    "duration": 335,
    "start_time": "2023-12-08T09:14:56.021Z"
   },
   {
    "duration": 577,
    "start_time": "2023-12-08T09:14:56.360Z"
   },
   {
    "duration": 511,
    "start_time": "2023-12-08T09:16:01.180Z"
   },
   {
    "duration": 24,
    "start_time": "2023-12-08T09:16:01.693Z"
   },
   {
    "duration": 59,
    "start_time": "2023-12-08T09:16:01.719Z"
   },
   {
    "duration": 34,
    "start_time": "2023-12-08T09:16:01.780Z"
   },
   {
    "duration": 71,
    "start_time": "2023-12-08T09:16:01.816Z"
   },
   {
    "duration": 3,
    "start_time": "2023-12-08T09:16:01.889Z"
   },
   {
    "duration": 57,
    "start_time": "2023-12-08T09:16:01.894Z"
   },
   {
    "duration": 50,
    "start_time": "2023-12-08T09:16:01.953Z"
   },
   {
    "duration": 61,
    "start_time": "2023-12-08T09:16:02.005Z"
   },
   {
    "duration": 44,
    "start_time": "2023-12-08T09:16:02.070Z"
   },
   {
    "duration": 115,
    "start_time": "2023-12-08T09:16:02.116Z"
   },
   {
    "duration": 62,
    "start_time": "2023-12-08T09:16:02.232Z"
   },
   {
    "duration": 219,
    "start_time": "2023-12-08T09:16:02.296Z"
   },
   {
    "duration": 351,
    "start_time": "2023-12-08T09:16:02.517Z"
   },
   {
    "duration": 756,
    "start_time": "2023-12-08T09:16:02.869Z"
   },
   {
    "duration": 105,
    "start_time": "2023-12-08T09:16:03.626Z"
   },
   {
    "duration": 41,
    "start_time": "2023-12-08T09:16:03.733Z"
   },
   {
    "duration": 23,
    "start_time": "2023-12-08T09:16:03.776Z"
   },
   {
    "duration": 44,
    "start_time": "2023-12-08T09:16:03.801Z"
   },
   {
    "duration": 31,
    "start_time": "2023-12-08T09:16:03.847Z"
   },
   {
    "duration": 41,
    "start_time": "2023-12-08T09:16:03.879Z"
   },
   {
    "duration": 17,
    "start_time": "2023-12-08T09:16:03.922Z"
   },
   {
    "duration": 16,
    "start_time": "2023-12-08T09:16:03.941Z"
   },
   {
    "duration": 19,
    "start_time": "2023-12-08T09:16:03.959Z"
   },
   {
    "duration": 28,
    "start_time": "2023-12-08T09:16:03.980Z"
   },
   {
    "duration": 9,
    "start_time": "2023-12-08T09:16:04.010Z"
   },
   {
    "duration": 341,
    "start_time": "2023-12-08T09:16:04.021Z"
   },
   {
    "duration": 637,
    "start_time": "2023-12-08T09:16:04.365Z"
   },
   {
    "duration": 997,
    "start_time": "2023-12-08T09:16:05.004Z"
   },
   {
    "duration": 0,
    "start_time": "2023-12-08T09:16:06.003Z"
   },
   {
    "duration": 0,
    "start_time": "2023-12-08T09:16:06.005Z"
   },
   {
    "duration": 0,
    "start_time": "2023-12-08T09:16:06.006Z"
   },
   {
    "duration": 0,
    "start_time": "2023-12-08T09:16:06.008Z"
   },
   {
    "duration": 0,
    "start_time": "2023-12-08T09:16:06.009Z"
   },
   {
    "duration": 552,
    "start_time": "2023-12-08T09:17:00.597Z"
   },
   {
    "duration": 25,
    "start_time": "2023-12-08T09:17:01.151Z"
   },
   {
    "duration": 47,
    "start_time": "2023-12-08T09:17:01.177Z"
   },
   {
    "duration": 69,
    "start_time": "2023-12-08T09:17:01.226Z"
   },
   {
    "duration": 85,
    "start_time": "2023-12-08T09:17:01.297Z"
   },
   {
    "duration": 12,
    "start_time": "2023-12-08T09:17:01.384Z"
   },
   {
    "duration": 39,
    "start_time": "2023-12-08T09:17:01.397Z"
   },
   {
    "duration": 51,
    "start_time": "2023-12-08T09:17:01.438Z"
   },
   {
    "duration": 97,
    "start_time": "2023-12-08T09:17:01.491Z"
   },
   {
    "duration": 100,
    "start_time": "2023-12-08T09:17:01.592Z"
   },
   {
    "duration": 127,
    "start_time": "2023-12-08T09:17:01.693Z"
   },
   {
    "duration": 128,
    "start_time": "2023-12-08T09:17:01.822Z"
   },
   {
    "duration": 51,
    "start_time": "2023-12-08T09:17:01.952Z"
   },
   {
    "duration": 151,
    "start_time": "2023-12-08T09:17:02.004Z"
   },
   {
    "duration": 125,
    "start_time": "2023-12-08T09:17:02.157Z"
   },
   {
    "duration": 84,
    "start_time": "2023-12-08T09:17:02.283Z"
   },
   {
    "duration": 163,
    "start_time": "2023-12-08T09:17:02.370Z"
   },
   {
    "duration": 83,
    "start_time": "2023-12-08T09:17:02.534Z"
   },
   {
    "duration": 76,
    "start_time": "2023-12-08T09:17:02.618Z"
   },
   {
    "duration": 7,
    "start_time": "2023-12-08T09:17:02.696Z"
   },
   {
    "duration": 78,
    "start_time": "2023-12-08T09:17:02.704Z"
   },
   {
    "duration": 34,
    "start_time": "2023-12-08T09:17:02.784Z"
   },
   {
    "duration": 132,
    "start_time": "2023-12-08T09:17:02.820Z"
   },
   {
    "duration": 137,
    "start_time": "2023-12-08T09:17:02.954Z"
   },
   {
    "duration": 31,
    "start_time": "2023-12-08T09:17:03.093Z"
   },
   {
    "duration": 4,
    "start_time": "2023-12-08T09:17:03.126Z"
   },
   {
    "duration": 402,
    "start_time": "2023-12-08T09:17:03.132Z"
   },
   {
    "duration": 564,
    "start_time": "2023-12-08T09:17:03.537Z"
   },
   {
    "duration": 1071,
    "start_time": "2023-12-08T09:17:04.103Z"
   },
   {
    "duration": 0,
    "start_time": "2023-12-08T09:17:05.177Z"
   },
   {
    "duration": 0,
    "start_time": "2023-12-08T09:17:05.179Z"
   },
   {
    "duration": 0,
    "start_time": "2023-12-08T09:17:05.180Z"
   },
   {
    "duration": 0,
    "start_time": "2023-12-08T09:17:05.182Z"
   },
   {
    "duration": 0,
    "start_time": "2023-12-08T09:17:05.183Z"
   },
   {
    "duration": 484,
    "start_time": "2023-12-08T09:17:51.452Z"
   },
   {
    "duration": 24,
    "start_time": "2023-12-08T09:17:51.938Z"
   },
   {
    "duration": 35,
    "start_time": "2023-12-08T09:17:51.963Z"
   },
   {
    "duration": 22,
    "start_time": "2023-12-08T09:17:52.000Z"
   },
   {
    "duration": 61,
    "start_time": "2023-12-08T09:17:52.024Z"
   },
   {
    "duration": 4,
    "start_time": "2023-12-08T09:17:52.086Z"
   },
   {
    "duration": 28,
    "start_time": "2023-12-08T09:17:52.092Z"
   },
   {
    "duration": 8,
    "start_time": "2023-12-08T09:17:52.121Z"
   },
   {
    "duration": 13,
    "start_time": "2023-12-08T09:17:52.131Z"
   },
   {
    "duration": 27,
    "start_time": "2023-12-08T09:17:52.147Z"
   },
   {
    "duration": 54,
    "start_time": "2023-12-08T09:17:52.176Z"
   },
   {
    "duration": 11,
    "start_time": "2023-12-08T09:17:52.231Z"
   },
   {
    "duration": 36,
    "start_time": "2023-12-08T09:17:52.243Z"
   },
   {
    "duration": 34,
    "start_time": "2023-12-08T09:17:52.281Z"
   },
   {
    "duration": 37,
    "start_time": "2023-12-08T09:17:52.317Z"
   },
   {
    "duration": 18,
    "start_time": "2023-12-08T09:17:52.356Z"
   },
   {
    "duration": 4,
    "start_time": "2023-12-08T09:17:52.376Z"
   },
   {
    "duration": 33,
    "start_time": "2023-12-08T09:17:52.381Z"
   },
   {
    "duration": 22,
    "start_time": "2023-12-08T09:17:52.415Z"
   },
   {
    "duration": 4,
    "start_time": "2023-12-08T09:17:52.439Z"
   },
   {
    "duration": 30,
    "start_time": "2023-12-08T09:17:52.444Z"
   },
   {
    "duration": 34,
    "start_time": "2023-12-08T09:17:52.476Z"
   },
   {
    "duration": 13,
    "start_time": "2023-12-08T09:17:52.512Z"
   },
   {
    "duration": 28,
    "start_time": "2023-12-08T09:17:52.527Z"
   },
   {
    "duration": 39,
    "start_time": "2023-12-08T09:17:52.557Z"
   },
   {
    "duration": 3,
    "start_time": "2023-12-08T09:17:52.598Z"
   },
   {
    "duration": 324,
    "start_time": "2023-12-08T09:17:52.603Z"
   },
   {
    "duration": 570,
    "start_time": "2023-12-08T09:17:52.931Z"
   },
   {
    "duration": 851,
    "start_time": "2023-12-08T09:17:53.503Z"
   },
   {
    "duration": 8,
    "start_time": "2023-12-08T09:17:54.356Z"
   },
   {
    "duration": 45,
    "start_time": "2023-12-08T09:17:54.365Z"
   },
   {
    "duration": 216,
    "start_time": "2023-12-08T09:17:54.412Z"
   },
   {
    "duration": 11,
    "start_time": "2023-12-08T09:17:54.629Z"
   },
   {
    "duration": 8,
    "start_time": "2023-12-08T09:17:54.641Z"
   },
   {
    "duration": 5,
    "start_time": "2023-12-08T09:26:14.968Z"
   },
   {
    "duration": 519,
    "start_time": "2023-12-08T09:26:21.962Z"
   },
   {
    "duration": 27,
    "start_time": "2023-12-08T09:26:22.483Z"
   },
   {
    "duration": 26,
    "start_time": "2023-12-08T09:26:22.512Z"
   },
   {
    "duration": 12,
    "start_time": "2023-12-08T09:26:22.541Z"
   },
   {
    "duration": 50,
    "start_time": "2023-12-08T09:26:22.555Z"
   },
   {
    "duration": 4,
    "start_time": "2023-12-08T09:26:22.623Z"
   },
   {
    "duration": 30,
    "start_time": "2023-12-08T09:26:22.629Z"
   },
   {
    "duration": 5,
    "start_time": "2023-12-08T09:26:22.661Z"
   },
   {
    "duration": 13,
    "start_time": "2023-12-08T09:26:22.668Z"
   },
   {
    "duration": 5,
    "start_time": "2023-12-08T09:26:22.684Z"
   },
   {
    "duration": 65,
    "start_time": "2023-12-08T09:26:22.691Z"
   },
   {
    "duration": 15,
    "start_time": "2023-12-08T09:26:22.757Z"
   },
   {
    "duration": 28,
    "start_time": "2023-12-08T09:26:22.774Z"
   },
   {
    "duration": 35,
    "start_time": "2023-12-08T09:26:22.804Z"
   },
   {
    "duration": 39,
    "start_time": "2023-12-08T09:26:22.840Z"
   },
   {
    "duration": 18,
    "start_time": "2023-12-08T09:26:22.881Z"
   },
   {
    "duration": 4,
    "start_time": "2023-12-08T09:26:22.901Z"
   },
   {
    "duration": 25,
    "start_time": "2023-12-08T09:26:22.907Z"
   },
   {
    "duration": 9,
    "start_time": "2023-12-08T09:26:22.934Z"
   },
   {
    "duration": 5,
    "start_time": "2023-12-08T09:26:22.945Z"
   },
   {
    "duration": 18,
    "start_time": "2023-12-08T09:26:22.952Z"
   },
   {
    "duration": 8,
    "start_time": "2023-12-08T09:26:22.972Z"
   },
   {
    "duration": 40,
    "start_time": "2023-12-08T09:26:22.982Z"
   },
   {
    "duration": 9,
    "start_time": "2023-12-08T09:26:23.024Z"
   },
   {
    "duration": 31,
    "start_time": "2023-12-08T09:26:23.036Z"
   },
   {
    "duration": 4,
    "start_time": "2023-12-08T09:26:23.069Z"
   },
   {
    "duration": 355,
    "start_time": "2023-12-08T09:26:23.074Z"
   },
   {
    "duration": 629,
    "start_time": "2023-12-08T09:26:23.433Z"
   },
   {
    "duration": 920,
    "start_time": "2023-12-08T09:26:24.064Z"
   },
   {
    "duration": 4,
    "start_time": "2023-12-08T09:26:24.986Z"
   },
   {
    "duration": 47,
    "start_time": "2023-12-08T09:26:24.992Z"
   },
   {
    "duration": 210,
    "start_time": "2023-12-08T09:26:25.041Z"
   },
   {
    "duration": 11,
    "start_time": "2023-12-08T09:26:25.253Z"
   },
   {
    "duration": 10,
    "start_time": "2023-12-08T09:26:25.265Z"
   },
   {
    "duration": 504,
    "start_time": "2023-12-08T09:27:13.314Z"
   },
   {
    "duration": 24,
    "start_time": "2023-12-08T09:27:13.820Z"
   },
   {
    "duration": 54,
    "start_time": "2023-12-08T09:27:13.845Z"
   },
   {
    "duration": 35,
    "start_time": "2023-12-08T09:27:13.901Z"
   },
   {
    "duration": 54,
    "start_time": "2023-12-08T09:27:13.938Z"
   },
   {
    "duration": 4,
    "start_time": "2023-12-08T09:27:13.993Z"
   },
   {
    "duration": 15,
    "start_time": "2023-12-08T09:27:13.999Z"
   },
   {
    "duration": 20,
    "start_time": "2023-12-08T09:27:14.015Z"
   },
   {
    "duration": 28,
    "start_time": "2023-12-08T09:27:14.037Z"
   },
   {
    "duration": 46,
    "start_time": "2023-12-08T09:27:14.068Z"
   },
   {
    "duration": 53,
    "start_time": "2023-12-08T09:27:14.115Z"
   },
   {
    "duration": 10,
    "start_time": "2023-12-08T09:27:14.170Z"
   },
   {
    "duration": 11,
    "start_time": "2023-12-08T09:27:14.182Z"
   },
   {
    "duration": 38,
    "start_time": "2023-12-08T09:27:14.195Z"
   },
   {
    "duration": 86,
    "start_time": "2023-12-08T09:27:14.235Z"
   },
   {
    "duration": 18,
    "start_time": "2023-12-08T09:27:14.322Z"
   },
   {
    "duration": 4,
    "start_time": "2023-12-08T09:27:14.342Z"
   },
   {
    "duration": 25,
    "start_time": "2023-12-08T09:27:14.347Z"
   },
   {
    "duration": 31,
    "start_time": "2023-12-08T09:27:14.374Z"
   },
   {
    "duration": 6,
    "start_time": "2023-12-08T09:27:14.407Z"
   },
   {
    "duration": 15,
    "start_time": "2023-12-08T09:27:14.415Z"
   },
   {
    "duration": 6,
    "start_time": "2023-12-08T09:27:14.432Z"
   },
   {
    "duration": 12,
    "start_time": "2023-12-08T09:27:14.440Z"
   },
   {
    "duration": 24,
    "start_time": "2023-12-08T09:27:14.454Z"
   },
   {
    "duration": 23,
    "start_time": "2023-12-08T09:27:14.480Z"
   },
   {
    "duration": 17,
    "start_time": "2023-12-08T09:27:14.505Z"
   },
   {
    "duration": 350,
    "start_time": "2023-12-08T09:27:14.525Z"
   },
   {
    "duration": 558,
    "start_time": "2023-12-08T09:27:14.880Z"
   },
   {
    "duration": 894,
    "start_time": "2023-12-08T09:27:15.440Z"
   },
   {
    "duration": 4,
    "start_time": "2023-12-08T09:27:16.336Z"
   },
   {
    "duration": 214,
    "start_time": "2023-12-08T09:27:16.342Z"
   },
   {
    "duration": 0,
    "start_time": "2023-12-08T09:27:16.558Z"
   },
   {
    "duration": 0,
    "start_time": "2023-12-08T09:27:16.560Z"
   },
   {
    "duration": 0,
    "start_time": "2023-12-08T09:27:16.561Z"
   },
   {
    "duration": 519,
    "start_time": "2023-12-08T09:28:07.144Z"
   },
   {
    "duration": 27,
    "start_time": "2023-12-08T09:28:07.665Z"
   },
   {
    "duration": 21,
    "start_time": "2023-12-08T09:28:07.694Z"
   },
   {
    "duration": 18,
    "start_time": "2023-12-08T09:28:07.723Z"
   },
   {
    "duration": 55,
    "start_time": "2023-12-08T09:28:07.742Z"
   },
   {
    "duration": 3,
    "start_time": "2023-12-08T09:28:07.799Z"
   },
   {
    "duration": 31,
    "start_time": "2023-12-08T09:28:07.804Z"
   },
   {
    "duration": 24,
    "start_time": "2023-12-08T09:28:07.836Z"
   },
   {
    "duration": 27,
    "start_time": "2023-12-08T09:28:07.861Z"
   },
   {
    "duration": 6,
    "start_time": "2023-12-08T09:28:07.893Z"
   },
   {
    "duration": 39,
    "start_time": "2023-12-08T09:28:07.900Z"
   },
   {
    "duration": 11,
    "start_time": "2023-12-08T09:28:07.941Z"
   },
   {
    "duration": 13,
    "start_time": "2023-12-08T09:28:07.954Z"
   },
   {
    "duration": 15,
    "start_time": "2023-12-08T09:28:07.968Z"
   },
   {
    "duration": 38,
    "start_time": "2023-12-08T09:28:07.985Z"
   },
   {
    "duration": 17,
    "start_time": "2023-12-08T09:28:08.025Z"
   },
   {
    "duration": 5,
    "start_time": "2023-12-08T09:28:08.044Z"
   },
   {
    "duration": 19,
    "start_time": "2023-12-08T09:28:08.051Z"
   },
   {
    "duration": 6,
    "start_time": "2023-12-08T09:28:08.072Z"
   },
   {
    "duration": 4,
    "start_time": "2023-12-08T09:28:08.080Z"
   },
   {
    "duration": 66,
    "start_time": "2023-12-08T09:28:08.085Z"
   },
   {
    "duration": 39,
    "start_time": "2023-12-08T09:28:08.153Z"
   },
   {
    "duration": 24,
    "start_time": "2023-12-08T09:28:08.193Z"
   },
   {
    "duration": 13,
    "start_time": "2023-12-08T09:28:08.218Z"
   },
   {
    "duration": 38,
    "start_time": "2023-12-08T09:28:08.232Z"
   },
   {
    "duration": 20,
    "start_time": "2023-12-08T09:28:08.271Z"
   },
   {
    "duration": 341,
    "start_time": "2023-12-08T09:28:08.293Z"
   },
   {
    "duration": 565,
    "start_time": "2023-12-08T09:28:08.637Z"
   },
   {
    "duration": 827,
    "start_time": "2023-12-08T09:28:09.205Z"
   },
   {
    "duration": 4,
    "start_time": "2023-12-08T09:28:10.034Z"
   },
   {
    "duration": 192,
    "start_time": "2023-12-08T09:28:10.040Z"
   },
   {
    "duration": 0,
    "start_time": "2023-12-08T09:28:10.233Z"
   },
   {
    "duration": 0,
    "start_time": "2023-12-08T09:28:10.235Z"
   },
   {
    "duration": 0,
    "start_time": "2023-12-08T09:28:10.236Z"
   },
   {
    "duration": 539,
    "start_time": "2023-12-08T09:29:41.700Z"
   },
   {
    "duration": 26,
    "start_time": "2023-12-08T09:29:42.241Z"
   },
   {
    "duration": 51,
    "start_time": "2023-12-08T09:29:42.269Z"
   },
   {
    "duration": 44,
    "start_time": "2023-12-08T09:29:42.323Z"
   },
   {
    "duration": 66,
    "start_time": "2023-12-08T09:29:42.370Z"
   },
   {
    "duration": 3,
    "start_time": "2023-12-08T09:29:42.438Z"
   },
   {
    "duration": 41,
    "start_time": "2023-12-08T09:29:42.443Z"
   },
   {
    "duration": 13,
    "start_time": "2023-12-08T09:29:42.486Z"
   },
   {
    "duration": 30,
    "start_time": "2023-12-08T09:29:42.501Z"
   },
   {
    "duration": 29,
    "start_time": "2023-12-08T09:29:42.533Z"
   },
   {
    "duration": 92,
    "start_time": "2023-12-08T09:29:42.564Z"
   },
   {
    "duration": 18,
    "start_time": "2023-12-08T09:29:42.658Z"
   },
   {
    "duration": 12,
    "start_time": "2023-12-08T09:29:42.678Z"
   },
   {
    "duration": 39,
    "start_time": "2023-12-08T09:29:42.694Z"
   },
   {
    "duration": 50,
    "start_time": "2023-12-08T09:29:42.735Z"
   },
   {
    "duration": 35,
    "start_time": "2023-12-08T09:29:42.787Z"
   },
   {
    "duration": 7,
    "start_time": "2023-12-08T09:29:42.826Z"
   },
   {
    "duration": 36,
    "start_time": "2023-12-08T09:29:42.835Z"
   },
   {
    "duration": 43,
    "start_time": "2023-12-08T09:29:42.873Z"
   },
   {
    "duration": 37,
    "start_time": "2023-12-08T09:29:42.918Z"
   },
   {
    "duration": 44,
    "start_time": "2023-12-08T09:29:42.957Z"
   },
   {
    "duration": 24,
    "start_time": "2023-12-08T09:29:43.002Z"
   },
   {
    "duration": 13,
    "start_time": "2023-12-08T09:29:43.029Z"
   },
   {
    "duration": 17,
    "start_time": "2023-12-08T09:29:43.044Z"
   },
   {
    "duration": 27,
    "start_time": "2023-12-08T09:29:43.064Z"
   },
   {
    "duration": 4,
    "start_time": "2023-12-08T09:29:43.093Z"
   },
   {
    "duration": 368,
    "start_time": "2023-12-08T09:29:43.099Z"
   },
   {
    "duration": 658,
    "start_time": "2023-12-08T09:29:43.471Z"
   },
   {
    "duration": 832,
    "start_time": "2023-12-08T09:29:44.131Z"
   },
   {
    "duration": 5,
    "start_time": "2023-12-08T09:29:44.965Z"
   },
   {
    "duration": 510,
    "start_time": "2023-12-08T09:29:44.971Z"
   },
   {
    "duration": 0,
    "start_time": "2023-12-08T09:29:45.483Z"
   },
   {
    "duration": 0,
    "start_time": "2023-12-08T09:29:45.485Z"
   },
   {
    "duration": 0,
    "start_time": "2023-12-08T09:29:45.485Z"
   },
   {
    "duration": 508,
    "start_time": "2023-12-08T09:30:13.868Z"
   },
   {
    "duration": 25,
    "start_time": "2023-12-08T09:30:14.378Z"
   },
   {
    "duration": 35,
    "start_time": "2023-12-08T09:30:14.405Z"
   },
   {
    "duration": 17,
    "start_time": "2023-12-08T09:30:14.443Z"
   },
   {
    "duration": 63,
    "start_time": "2023-12-08T09:30:14.462Z"
   },
   {
    "duration": 4,
    "start_time": "2023-12-08T09:30:14.526Z"
   },
   {
    "duration": 31,
    "start_time": "2023-12-08T09:30:14.532Z"
   },
   {
    "duration": 5,
    "start_time": "2023-12-08T09:30:14.565Z"
   },
   {
    "duration": 21,
    "start_time": "2023-12-08T09:30:14.572Z"
   },
   {
    "duration": 21,
    "start_time": "2023-12-08T09:30:14.598Z"
   },
   {
    "duration": 61,
    "start_time": "2023-12-08T09:30:14.621Z"
   },
   {
    "duration": 12,
    "start_time": "2023-12-08T09:30:14.684Z"
   },
   {
    "duration": 12,
    "start_time": "2023-12-08T09:30:14.698Z"
   },
   {
    "duration": 46,
    "start_time": "2023-12-08T09:30:14.712Z"
   },
   {
    "duration": 28,
    "start_time": "2023-12-08T09:30:14.760Z"
   },
   {
    "duration": 22,
    "start_time": "2023-12-08T09:30:14.790Z"
   },
   {
    "duration": 4,
    "start_time": "2023-12-08T09:30:14.813Z"
   },
   {
    "duration": 17,
    "start_time": "2023-12-08T09:30:14.819Z"
   },
   {
    "duration": 7,
    "start_time": "2023-12-08T09:30:14.838Z"
   },
   {
    "duration": 7,
    "start_time": "2023-12-08T09:30:14.847Z"
   },
   {
    "duration": 12,
    "start_time": "2023-12-08T09:30:14.856Z"
   },
   {
    "duration": 12,
    "start_time": "2023-12-08T09:30:14.870Z"
   },
   {
    "duration": 22,
    "start_time": "2023-12-08T09:30:14.884Z"
   },
   {
    "duration": 21,
    "start_time": "2023-12-08T09:30:14.908Z"
   },
   {
    "duration": 20,
    "start_time": "2023-12-08T09:30:14.930Z"
   },
   {
    "duration": 13,
    "start_time": "2023-12-08T09:30:14.952Z"
   },
   {
    "duration": 388,
    "start_time": "2023-12-08T09:30:14.967Z"
   },
   {
    "duration": 581,
    "start_time": "2023-12-08T09:30:15.359Z"
   },
   {
    "duration": 826,
    "start_time": "2023-12-08T09:30:15.942Z"
   },
   {
    "duration": 4,
    "start_time": "2023-12-08T09:30:16.770Z"
   },
   {
    "duration": 201,
    "start_time": "2023-12-08T09:30:16.775Z"
   },
   {
    "duration": 0,
    "start_time": "2023-12-08T09:30:16.977Z"
   },
   {
    "duration": 0,
    "start_time": "2023-12-08T09:30:16.979Z"
   },
   {
    "duration": 0,
    "start_time": "2023-12-08T09:30:16.980Z"
   },
   {
    "duration": 549,
    "start_time": "2023-12-08T09:31:22.384Z"
   },
   {
    "duration": 25,
    "start_time": "2023-12-08T09:31:22.935Z"
   },
   {
    "duration": 23,
    "start_time": "2023-12-08T09:31:22.961Z"
   },
   {
    "duration": 35,
    "start_time": "2023-12-08T09:31:22.986Z"
   },
   {
    "duration": 44,
    "start_time": "2023-12-08T09:31:23.023Z"
   },
   {
    "duration": 5,
    "start_time": "2023-12-08T09:31:23.069Z"
   },
   {
    "duration": 35,
    "start_time": "2023-12-08T09:31:23.075Z"
   },
   {
    "duration": 16,
    "start_time": "2023-12-08T09:31:23.112Z"
   },
   {
    "duration": 17,
    "start_time": "2023-12-08T09:31:23.130Z"
   },
   {
    "duration": 6,
    "start_time": "2023-12-08T09:31:23.153Z"
   },
   {
    "duration": 65,
    "start_time": "2023-12-08T09:31:23.160Z"
   },
   {
    "duration": 12,
    "start_time": "2023-12-08T09:31:23.227Z"
   },
   {
    "duration": 5,
    "start_time": "2023-12-08T09:31:23.240Z"
   },
   {
    "duration": 23,
    "start_time": "2023-12-08T09:31:23.247Z"
   },
   {
    "duration": 28,
    "start_time": "2023-12-08T09:31:23.272Z"
   },
   {
    "duration": 35,
    "start_time": "2023-12-08T09:31:23.302Z"
   },
   {
    "duration": 4,
    "start_time": "2023-12-08T09:31:23.339Z"
   },
   {
    "duration": 13,
    "start_time": "2023-12-08T09:31:23.345Z"
   },
   {
    "duration": 10,
    "start_time": "2023-12-08T09:31:23.360Z"
   },
   {
    "duration": 4,
    "start_time": "2023-12-08T09:31:23.372Z"
   },
   {
    "duration": 17,
    "start_time": "2023-12-08T09:31:23.378Z"
   },
   {
    "duration": 27,
    "start_time": "2023-12-08T09:31:23.397Z"
   },
   {
    "duration": 16,
    "start_time": "2023-12-08T09:31:23.426Z"
   },
   {
    "duration": 13,
    "start_time": "2023-12-08T09:31:23.443Z"
   },
   {
    "duration": 24,
    "start_time": "2023-12-08T09:31:23.458Z"
   },
   {
    "duration": 10,
    "start_time": "2023-12-08T09:31:23.484Z"
   },
   {
    "duration": 347,
    "start_time": "2023-12-08T09:31:23.496Z"
   },
   {
    "duration": 576,
    "start_time": "2023-12-08T09:31:23.846Z"
   },
   {
    "duration": 893,
    "start_time": "2023-12-08T09:31:24.424Z"
   },
   {
    "duration": 4,
    "start_time": "2023-12-08T09:31:25.319Z"
   },
   {
    "duration": 59,
    "start_time": "2023-12-08T09:31:25.326Z"
   },
   {
    "duration": 227,
    "start_time": "2023-12-08T09:31:25.387Z"
   },
   {
    "duration": 15,
    "start_time": "2023-12-08T09:31:25.616Z"
   },
   {
    "duration": 11,
    "start_time": "2023-12-08T09:31:25.633Z"
   },
   {
    "duration": 559,
    "start_time": "2023-12-08T09:33:58.933Z"
   },
   {
    "duration": 42,
    "start_time": "2023-12-08T09:33:59.495Z"
   },
   {
    "duration": 23,
    "start_time": "2023-12-08T09:33:59.539Z"
   },
   {
    "duration": 12,
    "start_time": "2023-12-08T09:33:59.564Z"
   },
   {
    "duration": 63,
    "start_time": "2023-12-08T09:33:59.578Z"
   },
   {
    "duration": 5,
    "start_time": "2023-12-08T09:33:59.643Z"
   },
   {
    "duration": 12,
    "start_time": "2023-12-08T09:33:59.649Z"
   },
   {
    "duration": 9,
    "start_time": "2023-12-08T09:33:59.663Z"
   },
   {
    "duration": 10,
    "start_time": "2023-12-08T09:33:59.673Z"
   },
   {
    "duration": 17,
    "start_time": "2023-12-08T09:33:59.687Z"
   },
   {
    "duration": 39,
    "start_time": "2023-12-08T09:33:59.722Z"
   },
   {
    "duration": 11,
    "start_time": "2023-12-08T09:33:59.763Z"
   },
   {
    "duration": 4,
    "start_time": "2023-12-08T09:33:59.776Z"
   },
   {
    "duration": 16,
    "start_time": "2023-12-08T09:33:59.782Z"
   },
   {
    "duration": 45,
    "start_time": "2023-12-08T09:33:59.799Z"
   },
   {
    "duration": 20,
    "start_time": "2023-12-08T09:33:59.845Z"
   },
   {
    "duration": 4,
    "start_time": "2023-12-08T09:33:59.867Z"
   },
   {
    "duration": 41,
    "start_time": "2023-12-08T09:33:59.873Z"
   },
   {
    "duration": 9,
    "start_time": "2023-12-08T09:33:59.921Z"
   },
   {
    "duration": 5,
    "start_time": "2023-12-08T09:33:59.932Z"
   },
   {
    "duration": 26,
    "start_time": "2023-12-08T09:33:59.939Z"
   },
   {
    "duration": 10,
    "start_time": "2023-12-08T09:33:59.967Z"
   },
   {
    "duration": 14,
    "start_time": "2023-12-08T09:33:59.978Z"
   },
   {
    "duration": 34,
    "start_time": "2023-12-08T09:33:59.994Z"
   },
   {
    "duration": 43,
    "start_time": "2023-12-08T09:34:00.030Z"
   },
   {
    "duration": 44,
    "start_time": "2023-12-08T09:34:00.075Z"
   },
   {
    "duration": 442,
    "start_time": "2023-12-08T09:34:00.121Z"
   },
   {
    "duration": 211,
    "start_time": "2023-12-08T09:34:00.566Z"
   },
   {
    "duration": 0,
    "start_time": "2023-12-08T09:34:00.779Z"
   },
   {
    "duration": 0,
    "start_time": "2023-12-08T09:34:00.781Z"
   },
   {
    "duration": 1,
    "start_time": "2023-12-08T09:34:00.782Z"
   },
   {
    "duration": 0,
    "start_time": "2023-12-08T09:34:00.784Z"
   },
   {
    "duration": 0,
    "start_time": "2023-12-08T09:34:00.786Z"
   },
   {
    "duration": 0,
    "start_time": "2023-12-08T09:34:00.788Z"
   },
   {
    "duration": 515,
    "start_time": "2023-12-08T09:34:52.469Z"
   },
   {
    "duration": 25,
    "start_time": "2023-12-08T09:34:52.986Z"
   },
   {
    "duration": 148,
    "start_time": "2023-12-08T09:34:53.025Z"
   },
   {
    "duration": 237,
    "start_time": "2023-12-08T09:34:53.175Z"
   },
   {
    "duration": 105,
    "start_time": "2023-12-08T09:34:53.414Z"
   },
   {
    "duration": 5,
    "start_time": "2023-12-08T09:34:53.521Z"
   },
   {
    "duration": 15,
    "start_time": "2023-12-08T09:34:53.530Z"
   },
   {
    "duration": 17,
    "start_time": "2023-12-08T09:34:53.547Z"
   },
   {
    "duration": 32,
    "start_time": "2023-12-08T09:34:53.566Z"
   },
   {
    "duration": 38,
    "start_time": "2023-12-08T09:34:53.601Z"
   },
   {
    "duration": 85,
    "start_time": "2023-12-08T09:34:53.641Z"
   },
   {
    "duration": 17,
    "start_time": "2023-12-08T09:34:53.729Z"
   },
   {
    "duration": 6,
    "start_time": "2023-12-08T09:34:53.748Z"
   },
   {
    "duration": 34,
    "start_time": "2023-12-08T09:34:53.756Z"
   },
   {
    "duration": 51,
    "start_time": "2023-12-08T09:34:53.791Z"
   },
   {
    "duration": 20,
    "start_time": "2023-12-08T09:34:53.844Z"
   },
   {
    "duration": 9,
    "start_time": "2023-12-08T09:34:53.865Z"
   },
   {
    "duration": 36,
    "start_time": "2023-12-08T09:34:53.876Z"
   },
   {
    "duration": 29,
    "start_time": "2023-12-08T09:34:53.914Z"
   },
   {
    "duration": 13,
    "start_time": "2023-12-08T09:34:53.945Z"
   },
   {
    "duration": 15,
    "start_time": "2023-12-08T09:34:53.960Z"
   },
   {
    "duration": 13,
    "start_time": "2023-12-08T09:34:53.977Z"
   },
   {
    "duration": 11,
    "start_time": "2023-12-08T09:34:53.992Z"
   },
   {
    "duration": 43,
    "start_time": "2023-12-08T09:34:54.004Z"
   },
   {
    "duration": 20,
    "start_time": "2023-12-08T09:34:54.049Z"
   },
   {
    "duration": 9,
    "start_time": "2023-12-08T09:34:54.070Z"
   },
   {
    "duration": 347,
    "start_time": "2023-12-08T09:34:54.081Z"
   },
   {
    "duration": 609,
    "start_time": "2023-12-08T09:34:54.433Z"
   },
   {
    "duration": 902,
    "start_time": "2023-12-08T09:34:55.044Z"
   },
   {
    "duration": 4,
    "start_time": "2023-12-08T09:34:55.948Z"
   },
   {
    "duration": 61,
    "start_time": "2023-12-08T09:34:55.954Z"
   },
   {
    "duration": 209,
    "start_time": "2023-12-08T09:34:56.017Z"
   },
   {
    "duration": 16,
    "start_time": "2023-12-08T09:34:56.228Z"
   },
   {
    "duration": 32,
    "start_time": "2023-12-08T09:34:56.247Z"
   },
   {
    "duration": 559,
    "start_time": "2023-12-08T09:36:02.044Z"
   },
   {
    "duration": 24,
    "start_time": "2023-12-08T09:36:02.605Z"
   },
   {
    "duration": 33,
    "start_time": "2023-12-08T09:36:02.631Z"
   },
   {
    "duration": 11,
    "start_time": "2023-12-08T09:36:02.666Z"
   },
   {
    "duration": 44,
    "start_time": "2023-12-08T09:36:02.678Z"
   },
   {
    "duration": 4,
    "start_time": "2023-12-08T09:36:02.724Z"
   },
   {
    "duration": 56,
    "start_time": "2023-12-08T09:36:02.730Z"
   },
   {
    "duration": 10,
    "start_time": "2023-12-08T09:36:02.787Z"
   },
   {
    "duration": 14,
    "start_time": "2023-12-08T09:36:02.799Z"
   },
   {
    "duration": 10,
    "start_time": "2023-12-08T09:36:02.817Z"
   },
   {
    "duration": 38,
    "start_time": "2023-12-08T09:36:02.831Z"
   },
   {
    "duration": 13,
    "start_time": "2023-12-08T09:36:02.871Z"
   },
   {
    "duration": 21,
    "start_time": "2023-12-08T09:36:02.886Z"
   },
   {
    "duration": 14,
    "start_time": "2023-12-08T09:36:02.909Z"
   },
   {
    "duration": 48,
    "start_time": "2023-12-08T09:36:02.925Z"
   },
   {
    "duration": 20,
    "start_time": "2023-12-08T09:36:02.974Z"
   },
   {
    "duration": 82,
    "start_time": "2023-12-08T09:36:02.995Z"
   },
   {
    "duration": 55,
    "start_time": "2023-12-08T09:36:03.078Z"
   },
   {
    "duration": 83,
    "start_time": "2023-12-08T09:36:03.135Z"
   },
   {
    "duration": 37,
    "start_time": "2023-12-08T09:36:03.220Z"
   },
   {
    "duration": 75,
    "start_time": "2023-12-08T09:36:03.259Z"
   },
   {
    "duration": 105,
    "start_time": "2023-12-08T09:36:03.336Z"
   },
   {
    "duration": 30,
    "start_time": "2023-12-08T09:36:03.443Z"
   },
   {
    "duration": 42,
    "start_time": "2023-12-08T09:36:03.475Z"
   },
   {
    "duration": 43,
    "start_time": "2023-12-08T09:36:03.519Z"
   },
   {
    "duration": 5,
    "start_time": "2023-12-08T09:36:03.564Z"
   },
   {
    "duration": 379,
    "start_time": "2023-12-08T09:36:03.571Z"
   },
   {
    "duration": 623,
    "start_time": "2023-12-08T09:36:03.954Z"
   },
   {
    "duration": 830,
    "start_time": "2023-12-08T09:36:04.579Z"
   },
   {
    "duration": 4,
    "start_time": "2023-12-08T09:36:05.411Z"
   },
   {
    "duration": 45,
    "start_time": "2023-12-08T09:36:05.428Z"
   },
   {
    "duration": 263,
    "start_time": "2023-12-08T09:36:05.475Z"
   },
   {
    "duration": 14,
    "start_time": "2023-12-08T09:36:05.741Z"
   },
   {
    "duration": 30,
    "start_time": "2023-12-08T09:36:05.758Z"
   },
   {
    "duration": 537,
    "start_time": "2023-12-08T09:41:31.491Z"
   },
   {
    "duration": 29,
    "start_time": "2023-12-08T09:41:32.031Z"
   },
   {
    "duration": 90,
    "start_time": "2023-12-08T09:41:32.062Z"
   },
   {
    "duration": 20,
    "start_time": "2023-12-08T09:41:32.155Z"
   },
   {
    "duration": 42,
    "start_time": "2023-12-08T09:41:32.177Z"
   },
   {
    "duration": 7,
    "start_time": "2023-12-08T09:41:32.224Z"
   },
   {
    "duration": 24,
    "start_time": "2023-12-08T09:41:32.233Z"
   },
   {
    "duration": 19,
    "start_time": "2023-12-08T09:41:32.259Z"
   },
   {
    "duration": 13,
    "start_time": "2023-12-08T09:41:32.279Z"
   },
   {
    "duration": 5,
    "start_time": "2023-12-08T09:41:32.296Z"
   },
   {
    "duration": 65,
    "start_time": "2023-12-08T09:41:32.303Z"
   },
   {
    "duration": 12,
    "start_time": "2023-12-08T09:41:32.370Z"
   },
   {
    "duration": 15,
    "start_time": "2023-12-08T09:41:32.384Z"
   },
   {
    "duration": 22,
    "start_time": "2023-12-08T09:41:32.401Z"
   },
   {
    "duration": 30,
    "start_time": "2023-12-08T09:41:32.426Z"
   },
   {
    "duration": 18,
    "start_time": "2023-12-08T09:41:32.458Z"
   },
   {
    "duration": 4,
    "start_time": "2023-12-08T09:41:32.477Z"
   },
   {
    "duration": 16,
    "start_time": "2023-12-08T09:41:32.482Z"
   },
   {
    "duration": 27,
    "start_time": "2023-12-08T09:41:32.500Z"
   },
   {
    "duration": 5,
    "start_time": "2023-12-08T09:41:32.530Z"
   },
   {
    "duration": 11,
    "start_time": "2023-12-08T09:41:32.537Z"
   },
   {
    "duration": 14,
    "start_time": "2023-12-08T09:41:32.550Z"
   },
   {
    "duration": 24,
    "start_time": "2023-12-08T09:41:32.565Z"
   },
   {
    "duration": 18,
    "start_time": "2023-12-08T09:41:32.591Z"
   },
   {
    "duration": 22,
    "start_time": "2023-12-08T09:41:32.611Z"
   },
   {
    "duration": 6,
    "start_time": "2023-12-08T09:41:32.635Z"
   },
   {
    "duration": 360,
    "start_time": "2023-12-08T09:41:32.642Z"
   },
   {
    "duration": 612,
    "start_time": "2023-12-08T09:41:33.005Z"
   },
   {
    "duration": 936,
    "start_time": "2023-12-08T09:41:33.619Z"
   },
   {
    "duration": 3,
    "start_time": "2023-12-08T09:41:34.557Z"
   },
   {
    "duration": 41,
    "start_time": "2023-12-08T09:41:34.562Z"
   },
   {
    "duration": 215,
    "start_time": "2023-12-08T09:41:34.605Z"
   },
   {
    "duration": 15,
    "start_time": "2023-12-08T09:41:34.821Z"
   },
   {
    "duration": 12,
    "start_time": "2023-12-08T09:41:34.838Z"
   },
   {
    "duration": 509,
    "start_time": "2023-12-08T09:44:18.748Z"
   },
   {
    "duration": 22,
    "start_time": "2023-12-08T09:44:19.259Z"
   },
   {
    "duration": 17,
    "start_time": "2023-12-08T09:44:19.283Z"
   },
   {
    "duration": 36,
    "start_time": "2023-12-08T09:44:19.302Z"
   },
   {
    "duration": 41,
    "start_time": "2023-12-08T09:44:19.340Z"
   },
   {
    "duration": 3,
    "start_time": "2023-12-08T09:44:19.383Z"
   },
   {
    "duration": 31,
    "start_time": "2023-12-08T09:44:19.388Z"
   },
   {
    "duration": 23,
    "start_time": "2023-12-08T09:44:19.421Z"
   },
   {
    "duration": 16,
    "start_time": "2023-12-08T09:44:19.447Z"
   },
   {
    "duration": 19,
    "start_time": "2023-12-08T09:44:19.468Z"
   },
   {
    "duration": 64,
    "start_time": "2023-12-08T09:44:19.489Z"
   },
   {
    "duration": 11,
    "start_time": "2023-12-08T09:44:19.555Z"
   },
   {
    "duration": 6,
    "start_time": "2023-12-08T09:44:19.568Z"
   },
   {
    "duration": 20,
    "start_time": "2023-12-08T09:44:19.575Z"
   },
   {
    "duration": 58,
    "start_time": "2023-12-08T09:44:19.597Z"
   },
   {
    "duration": 17,
    "start_time": "2023-12-08T09:44:19.657Z"
   },
   {
    "duration": 18,
    "start_time": "2023-12-08T09:44:19.676Z"
   },
   {
    "duration": 28,
    "start_time": "2023-12-08T09:44:19.696Z"
   },
   {
    "duration": 28,
    "start_time": "2023-12-08T09:44:19.726Z"
   },
   {
    "duration": 5,
    "start_time": "2023-12-08T09:44:19.756Z"
   },
   {
    "duration": 28,
    "start_time": "2023-12-08T09:44:19.763Z"
   },
   {
    "duration": 32,
    "start_time": "2023-12-08T09:44:19.793Z"
   },
   {
    "duration": 16,
    "start_time": "2023-12-08T09:44:19.827Z"
   },
   {
    "duration": 33,
    "start_time": "2023-12-08T09:44:19.845Z"
   },
   {
    "duration": 28,
    "start_time": "2023-12-08T09:44:19.880Z"
   },
   {
    "duration": 20,
    "start_time": "2023-12-08T09:44:19.910Z"
   },
   {
    "duration": 357,
    "start_time": "2023-12-08T09:44:19.932Z"
   },
   {
    "duration": 607,
    "start_time": "2023-12-08T09:44:20.292Z"
   },
   {
    "duration": 802,
    "start_time": "2023-12-08T09:44:20.901Z"
   },
   {
    "duration": 4,
    "start_time": "2023-12-08T09:44:21.705Z"
   },
   {
    "duration": 75,
    "start_time": "2023-12-08T09:44:21.711Z"
   },
   {
    "duration": 84,
    "start_time": "2023-12-08T09:44:21.787Z"
   },
   {
    "duration": 236,
    "start_time": "2023-12-08T09:44:21.873Z"
   },
   {
    "duration": 21,
    "start_time": "2023-12-08T09:44:22.111Z"
   },
   {
    "duration": 10,
    "start_time": "2023-12-08T09:44:22.136Z"
   },
   {
    "duration": 521,
    "start_time": "2023-12-08T09:45:23.833Z"
   },
   {
    "duration": 23,
    "start_time": "2023-12-08T09:45:24.356Z"
   },
   {
    "duration": 16,
    "start_time": "2023-12-08T09:45:24.380Z"
   },
   {
    "duration": 27,
    "start_time": "2023-12-08T09:45:24.398Z"
   },
   {
    "duration": 64,
    "start_time": "2023-12-08T09:45:24.427Z"
   },
   {
    "duration": 4,
    "start_time": "2023-12-08T09:45:24.492Z"
   },
   {
    "duration": 11,
    "start_time": "2023-12-08T09:45:24.497Z"
   },
   {
    "duration": 4,
    "start_time": "2023-12-08T09:45:24.510Z"
   },
   {
    "duration": 11,
    "start_time": "2023-12-08T09:45:24.521Z"
   },
   {
    "duration": 6,
    "start_time": "2023-12-08T09:45:24.536Z"
   },
   {
    "duration": 46,
    "start_time": "2023-12-08T09:45:24.545Z"
   },
   {
    "duration": 11,
    "start_time": "2023-12-08T09:45:24.592Z"
   },
   {
    "duration": 6,
    "start_time": "2023-12-08T09:45:24.623Z"
   },
   {
    "duration": 19,
    "start_time": "2023-12-08T09:45:24.631Z"
   },
   {
    "duration": 24,
    "start_time": "2023-12-08T09:45:24.652Z"
   },
   {
    "duration": 17,
    "start_time": "2023-12-08T09:45:24.678Z"
   },
   {
    "duration": 28,
    "start_time": "2023-12-08T09:45:24.697Z"
   },
   {
    "duration": 37,
    "start_time": "2023-12-08T09:45:24.728Z"
   },
   {
    "duration": 10,
    "start_time": "2023-12-08T09:45:24.767Z"
   },
   {
    "duration": 8,
    "start_time": "2023-12-08T09:45:24.778Z"
   },
   {
    "duration": 29,
    "start_time": "2023-12-08T09:45:24.790Z"
   },
   {
    "duration": 14,
    "start_time": "2023-12-08T09:45:24.821Z"
   },
   {
    "duration": 17,
    "start_time": "2023-12-08T09:45:24.837Z"
   },
   {
    "duration": 43,
    "start_time": "2023-12-08T09:45:24.856Z"
   },
   {
    "duration": 23,
    "start_time": "2023-12-08T09:45:24.901Z"
   },
   {
    "duration": 9,
    "start_time": "2023-12-08T09:45:24.927Z"
   },
   {
    "duration": 354,
    "start_time": "2023-12-08T09:45:24.938Z"
   },
   {
    "duration": 577,
    "start_time": "2023-12-08T09:45:25.295Z"
   },
   {
    "duration": 877,
    "start_time": "2023-12-08T09:45:25.874Z"
   },
   {
    "duration": 3,
    "start_time": "2023-12-08T09:45:26.753Z"
   },
   {
    "duration": 45,
    "start_time": "2023-12-08T09:45:26.758Z"
   },
   {
    "duration": 85,
    "start_time": "2023-12-08T09:45:26.805Z"
   },
   {
    "duration": 235,
    "start_time": "2023-12-08T09:45:26.891Z"
   },
   {
    "duration": 14,
    "start_time": "2023-12-08T09:45:27.128Z"
   },
   {
    "duration": 8,
    "start_time": "2023-12-08T09:45:27.144Z"
   },
   {
    "duration": 509,
    "start_time": "2023-12-08T09:46:08.284Z"
   },
   {
    "duration": 24,
    "start_time": "2023-12-08T09:46:08.795Z"
   },
   {
    "duration": 29,
    "start_time": "2023-12-08T09:46:08.821Z"
   },
   {
    "duration": 12,
    "start_time": "2023-12-08T09:46:08.852Z"
   },
   {
    "duration": 45,
    "start_time": "2023-12-08T09:46:08.865Z"
   },
   {
    "duration": 11,
    "start_time": "2023-12-08T09:46:08.911Z"
   },
   {
    "duration": 14,
    "start_time": "2023-12-08T09:46:08.925Z"
   },
   {
    "duration": 9,
    "start_time": "2023-12-08T09:46:08.941Z"
   },
   {
    "duration": 22,
    "start_time": "2023-12-08T09:46:08.951Z"
   },
   {
    "duration": 19,
    "start_time": "2023-12-08T09:46:08.977Z"
   },
   {
    "duration": 59,
    "start_time": "2023-12-08T09:46:08.998Z"
   },
   {
    "duration": 18,
    "start_time": "2023-12-08T09:46:09.059Z"
   },
   {
    "duration": 5,
    "start_time": "2023-12-08T09:46:09.079Z"
   },
   {
    "duration": 16,
    "start_time": "2023-12-08T09:46:09.086Z"
   },
   {
    "duration": 52,
    "start_time": "2023-12-08T09:46:09.104Z"
   },
   {
    "duration": 19,
    "start_time": "2023-12-08T09:46:09.157Z"
   },
   {
    "duration": 4,
    "start_time": "2023-12-08T09:46:09.178Z"
   },
   {
    "duration": 34,
    "start_time": "2023-12-08T09:46:09.184Z"
   },
   {
    "duration": 33,
    "start_time": "2023-12-08T09:46:09.220Z"
   },
   {
    "duration": 9,
    "start_time": "2023-12-08T09:46:09.255Z"
   },
   {
    "duration": 17,
    "start_time": "2023-12-08T09:46:09.266Z"
   },
   {
    "duration": 12,
    "start_time": "2023-12-08T09:46:09.284Z"
   },
   {
    "duration": 40,
    "start_time": "2023-12-08T09:46:09.298Z"
   },
   {
    "duration": 19,
    "start_time": "2023-12-08T09:46:09.341Z"
   },
   {
    "duration": 35,
    "start_time": "2023-12-08T09:46:09.363Z"
   },
   {
    "duration": 37,
    "start_time": "2023-12-08T09:46:09.400Z"
   },
   {
    "duration": 376,
    "start_time": "2023-12-08T09:46:09.440Z"
   },
   {
    "duration": 592,
    "start_time": "2023-12-08T09:46:09.821Z"
   },
   {
    "duration": 881,
    "start_time": "2023-12-08T09:46:10.415Z"
   },
   {
    "duration": 4,
    "start_time": "2023-12-08T09:46:11.298Z"
   },
   {
    "duration": 61,
    "start_time": "2023-12-08T09:46:11.304Z"
   },
   {
    "duration": 219,
    "start_time": "2023-12-08T09:46:11.367Z"
   },
   {
    "duration": 0,
    "start_time": "2023-12-08T09:46:11.588Z"
   },
   {
    "duration": 0,
    "start_time": "2023-12-08T09:46:11.590Z"
   },
   {
    "duration": 0,
    "start_time": "2023-12-08T09:46:11.591Z"
   },
   {
    "duration": 493,
    "start_time": "2023-12-08T09:46:25.044Z"
   },
   {
    "duration": 27,
    "start_time": "2023-12-08T09:46:25.539Z"
   },
   {
    "duration": 17,
    "start_time": "2023-12-08T09:46:25.568Z"
   },
   {
    "duration": 22,
    "start_time": "2023-12-08T09:46:25.587Z"
   },
   {
    "duration": 51,
    "start_time": "2023-12-08T09:46:25.610Z"
   },
   {
    "duration": 4,
    "start_time": "2023-12-08T09:46:25.663Z"
   },
   {
    "duration": 13,
    "start_time": "2023-12-08T09:46:25.669Z"
   },
   {
    "duration": 23,
    "start_time": "2023-12-08T09:46:25.684Z"
   },
   {
    "duration": 14,
    "start_time": "2023-12-08T09:46:25.709Z"
   },
   {
    "duration": 13,
    "start_time": "2023-12-08T09:46:25.729Z"
   },
   {
    "duration": 42,
    "start_time": "2023-12-08T09:46:25.744Z"
   },
   {
    "duration": 13,
    "start_time": "2023-12-08T09:46:25.788Z"
   },
   {
    "duration": 21,
    "start_time": "2023-12-08T09:46:25.803Z"
   },
   {
    "duration": 25,
    "start_time": "2023-12-08T09:46:25.826Z"
   },
   {
    "duration": 29,
    "start_time": "2023-12-08T09:46:25.854Z"
   },
   {
    "duration": 44,
    "start_time": "2023-12-08T09:46:25.885Z"
   },
   {
    "duration": 5,
    "start_time": "2023-12-08T09:46:25.931Z"
   },
   {
    "duration": 18,
    "start_time": "2023-12-08T09:46:25.938Z"
   },
   {
    "duration": 17,
    "start_time": "2023-12-08T09:46:25.958Z"
   },
   {
    "duration": 6,
    "start_time": "2023-12-08T09:46:25.976Z"
   },
   {
    "duration": 25,
    "start_time": "2023-12-08T09:46:25.983Z"
   },
   {
    "duration": 22,
    "start_time": "2023-12-08T09:46:26.010Z"
   },
   {
    "duration": 21,
    "start_time": "2023-12-08T09:46:26.034Z"
   },
   {
    "duration": 28,
    "start_time": "2023-12-08T09:46:26.056Z"
   },
   {
    "duration": 26,
    "start_time": "2023-12-08T09:46:26.086Z"
   },
   {
    "duration": 26,
    "start_time": "2023-12-08T09:46:26.114Z"
   },
   {
    "duration": 357,
    "start_time": "2023-12-08T09:46:26.142Z"
   },
   {
    "duration": 595,
    "start_time": "2023-12-08T09:46:26.502Z"
   },
   {
    "duration": 861,
    "start_time": "2023-12-08T09:46:27.099Z"
   },
   {
    "duration": 4,
    "start_time": "2023-12-08T09:46:27.961Z"
   },
   {
    "duration": 54,
    "start_time": "2023-12-08T09:46:27.967Z"
   },
   {
    "duration": 77,
    "start_time": "2023-12-08T09:46:28.023Z"
   },
   {
    "duration": 259,
    "start_time": "2023-12-08T09:46:28.102Z"
   },
   {
    "duration": 15,
    "start_time": "2023-12-08T09:46:28.363Z"
   },
   {
    "duration": 13,
    "start_time": "2023-12-08T09:46:28.380Z"
   },
   {
    "duration": 527,
    "start_time": "2023-12-08T09:47:34.238Z"
   },
   {
    "duration": 27,
    "start_time": "2023-12-08T09:47:34.767Z"
   },
   {
    "duration": 26,
    "start_time": "2023-12-08T09:47:34.796Z"
   },
   {
    "duration": 13,
    "start_time": "2023-12-08T09:47:34.825Z"
   },
   {
    "duration": 50,
    "start_time": "2023-12-08T09:47:34.840Z"
   },
   {
    "duration": 4,
    "start_time": "2023-12-08T09:47:34.892Z"
   },
   {
    "duration": 28,
    "start_time": "2023-12-08T09:47:34.898Z"
   },
   {
    "duration": 7,
    "start_time": "2023-12-08T09:47:34.932Z"
   },
   {
    "duration": 12,
    "start_time": "2023-12-08T09:47:34.941Z"
   },
   {
    "duration": 6,
    "start_time": "2023-12-08T09:47:34.957Z"
   },
   {
    "duration": 80,
    "start_time": "2023-12-08T09:47:34.964Z"
   },
   {
    "duration": 12,
    "start_time": "2023-12-08T09:47:35.046Z"
   },
   {
    "duration": 9,
    "start_time": "2023-12-08T09:47:35.059Z"
   },
   {
    "duration": 20,
    "start_time": "2023-12-08T09:47:35.069Z"
   },
   {
    "duration": 57,
    "start_time": "2023-12-08T09:47:35.091Z"
   },
   {
    "duration": 18,
    "start_time": "2023-12-08T09:47:35.150Z"
   },
   {
    "duration": 19,
    "start_time": "2023-12-08T09:47:35.170Z"
   },
   {
    "duration": 33,
    "start_time": "2023-12-08T09:47:35.191Z"
   },
   {
    "duration": 34,
    "start_time": "2023-12-08T09:47:35.226Z"
   },
   {
    "duration": 19,
    "start_time": "2023-12-08T09:47:35.261Z"
   },
   {
    "duration": 33,
    "start_time": "2023-12-08T09:47:35.282Z"
   },
   {
    "duration": 23,
    "start_time": "2023-12-08T09:47:35.316Z"
   },
   {
    "duration": 8,
    "start_time": "2023-12-08T09:47:35.342Z"
   },
   {
    "duration": 21,
    "start_time": "2023-12-08T09:47:35.352Z"
   },
   {
    "duration": 23,
    "start_time": "2023-12-08T09:47:35.374Z"
   },
   {
    "duration": 14,
    "start_time": "2023-12-08T09:47:35.399Z"
   },
   {
    "duration": 380,
    "start_time": "2023-12-08T09:47:35.415Z"
   },
   {
    "duration": 611,
    "start_time": "2023-12-08T09:47:35.800Z"
   },
   {
    "duration": 905,
    "start_time": "2023-12-08T09:47:36.412Z"
   },
   {
    "duration": 7,
    "start_time": "2023-12-08T09:47:37.332Z"
   },
   {
    "duration": 60,
    "start_time": "2023-12-08T09:47:37.341Z"
   },
   {
    "duration": 83,
    "start_time": "2023-12-08T09:47:37.402Z"
   },
   {
    "duration": 279,
    "start_time": "2023-12-08T09:47:37.486Z"
   },
   {
    "duration": 11,
    "start_time": "2023-12-08T09:47:37.767Z"
   },
   {
    "duration": 12,
    "start_time": "2023-12-08T09:47:37.780Z"
   },
   {
    "duration": 9,
    "start_time": "2023-12-08T10:13:02.266Z"
   },
   {
    "duration": 6,
    "start_time": "2023-12-08T10:13:51.859Z"
   },
   {
    "duration": 504,
    "start_time": "2023-12-08T10:19:48.051Z"
   },
   {
    "duration": 34,
    "start_time": "2023-12-08T10:19:48.557Z"
   },
   {
    "duration": 35,
    "start_time": "2023-12-08T10:19:48.593Z"
   },
   {
    "duration": 12,
    "start_time": "2023-12-08T10:19:48.630Z"
   },
   {
    "duration": 58,
    "start_time": "2023-12-08T10:19:48.644Z"
   },
   {
    "duration": 4,
    "start_time": "2023-12-08T10:19:48.704Z"
   },
   {
    "duration": 22,
    "start_time": "2023-12-08T10:19:48.710Z"
   },
   {
    "duration": 6,
    "start_time": "2023-12-08T10:19:48.734Z"
   },
   {
    "duration": 11,
    "start_time": "2023-12-08T10:19:48.745Z"
   },
   {
    "duration": 4,
    "start_time": "2023-12-08T10:19:48.760Z"
   },
   {
    "duration": 75,
    "start_time": "2023-12-08T10:19:48.766Z"
   },
   {
    "duration": 13,
    "start_time": "2023-12-08T10:19:48.843Z"
   },
   {
    "duration": 5,
    "start_time": "2023-12-08T10:19:48.858Z"
   },
   {
    "duration": 14,
    "start_time": "2023-12-08T10:19:48.865Z"
   },
   {
    "duration": 46,
    "start_time": "2023-12-08T10:19:48.882Z"
   },
   {
    "duration": 25,
    "start_time": "2023-12-08T10:19:48.930Z"
   },
   {
    "duration": 4,
    "start_time": "2023-12-08T10:19:48.957Z"
   },
   {
    "duration": 20,
    "start_time": "2023-12-08T10:19:48.963Z"
   },
   {
    "duration": 9,
    "start_time": "2023-12-08T10:19:48.985Z"
   },
   {
    "duration": 5,
    "start_time": "2023-12-08T10:19:48.996Z"
   },
   {
    "duration": 19,
    "start_time": "2023-12-08T10:19:49.025Z"
   },
   {
    "duration": 18,
    "start_time": "2023-12-08T10:19:49.047Z"
   },
   {
    "duration": 4,
    "start_time": "2023-12-08T10:19:49.066Z"
   },
   {
    "duration": 14,
    "start_time": "2023-12-08T10:19:49.072Z"
   },
   {
    "duration": 26,
    "start_time": "2023-12-08T10:19:49.088Z"
   },
   {
    "duration": 6,
    "start_time": "2023-12-08T10:19:49.121Z"
   },
   {
    "duration": 351,
    "start_time": "2023-12-08T10:19:49.130Z"
   },
   {
    "duration": 611,
    "start_time": "2023-12-08T10:19:49.485Z"
   },
   {
    "duration": 933,
    "start_time": "2023-12-08T10:19:50.098Z"
   },
   {
    "duration": 11,
    "start_time": "2023-12-08T10:19:51.033Z"
   },
   {
    "duration": 47,
    "start_time": "2023-12-08T10:19:51.047Z"
   },
   {
    "duration": 79,
    "start_time": "2023-12-08T10:19:51.096Z"
   },
   {
    "duration": 80,
    "start_time": "2023-12-08T10:19:51.177Z"
   },
   {
    "duration": 233,
    "start_time": "2023-12-08T10:19:51.259Z"
   },
   {
    "duration": 4,
    "start_time": "2023-12-08T10:19:51.494Z"
   },
   {
    "duration": 4467,
    "start_time": "2023-12-08T10:19:51.500Z"
   },
   {
    "duration": 553,
    "start_time": "2023-12-08T10:19:55.970Z"
   },
   {
    "duration": 564,
    "start_time": "2023-12-08T10:24:30.926Z"
   },
   {
    "duration": 32,
    "start_time": "2023-12-08T10:24:31.493Z"
   },
   {
    "duration": 29,
    "start_time": "2023-12-08T10:24:31.527Z"
   },
   {
    "duration": 12,
    "start_time": "2023-12-08T10:24:31.559Z"
   },
   {
    "duration": 78,
    "start_time": "2023-12-08T10:24:31.572Z"
   },
   {
    "duration": 4,
    "start_time": "2023-12-08T10:24:31.652Z"
   },
   {
    "duration": 21,
    "start_time": "2023-12-08T10:24:31.658Z"
   },
   {
    "duration": 6,
    "start_time": "2023-12-08T10:24:31.681Z"
   },
   {
    "duration": 11,
    "start_time": "2023-12-08T10:24:31.689Z"
   },
   {
    "duration": 15,
    "start_time": "2023-12-08T10:24:31.703Z"
   },
   {
    "duration": 53,
    "start_time": "2023-12-08T10:24:31.725Z"
   },
   {
    "duration": 11,
    "start_time": "2023-12-08T10:24:31.780Z"
   },
   {
    "duration": 7,
    "start_time": "2023-12-08T10:24:31.793Z"
   },
   {
    "duration": 45,
    "start_time": "2023-12-08T10:24:31.802Z"
   },
   {
    "duration": 27,
    "start_time": "2023-12-08T10:24:31.851Z"
   },
   {
    "duration": 29,
    "start_time": "2023-12-08T10:24:31.880Z"
   },
   {
    "duration": 5,
    "start_time": "2023-12-08T10:24:31.911Z"
   },
   {
    "duration": 24,
    "start_time": "2023-12-08T10:24:31.918Z"
   },
   {
    "duration": 7,
    "start_time": "2023-12-08T10:24:31.945Z"
   },
   {
    "duration": 17,
    "start_time": "2023-12-08T10:24:31.954Z"
   },
   {
    "duration": 23,
    "start_time": "2023-12-08T10:24:31.972Z"
   },
   {
    "duration": 14,
    "start_time": "2023-12-08T10:24:31.997Z"
   },
   {
    "duration": 4,
    "start_time": "2023-12-08T10:24:32.013Z"
   },
   {
    "duration": 14,
    "start_time": "2023-12-08T10:24:32.018Z"
   },
   {
    "duration": 21,
    "start_time": "2023-12-08T10:24:32.034Z"
   },
   {
    "duration": 23,
    "start_time": "2023-12-08T10:24:32.057Z"
   },
   {
    "duration": 343,
    "start_time": "2023-12-08T10:24:32.082Z"
   },
   {
    "duration": 622,
    "start_time": "2023-12-08T10:24:32.430Z"
   },
   {
    "duration": 955,
    "start_time": "2023-12-08T10:24:33.054Z"
   },
   {
    "duration": 12,
    "start_time": "2023-12-08T10:24:34.010Z"
   },
   {
    "duration": 26,
    "start_time": "2023-12-08T10:24:34.024Z"
   },
   {
    "duration": 58,
    "start_time": "2023-12-08T10:24:34.052Z"
   },
   {
    "duration": 73,
    "start_time": "2023-12-08T10:24:34.112Z"
   },
   {
    "duration": 232,
    "start_time": "2023-12-08T10:24:34.186Z"
   },
   {
    "duration": 6,
    "start_time": "2023-12-08T10:24:34.422Z"
   },
   {
    "duration": 212,
    "start_time": "2023-12-08T10:24:34.430Z"
   },
   {
    "duration": 0,
    "start_time": "2023-12-08T10:24:34.645Z"
   },
   {
    "duration": 0,
    "start_time": "2023-12-08T10:24:34.646Z"
   },
   {
    "duration": 0,
    "start_time": "2023-12-08T10:24:34.647Z"
   },
   {
    "duration": 563,
    "start_time": "2023-12-08T10:25:05.412Z"
   },
   {
    "duration": 24,
    "start_time": "2023-12-08T10:25:05.977Z"
   },
   {
    "duration": 53,
    "start_time": "2023-12-08T10:25:06.005Z"
   },
   {
    "duration": 38,
    "start_time": "2023-12-08T10:25:06.060Z"
   },
   {
    "duration": 95,
    "start_time": "2023-12-08T10:25:06.100Z"
   },
   {
    "duration": 22,
    "start_time": "2023-12-08T10:25:06.197Z"
   },
   {
    "duration": 43,
    "start_time": "2023-12-08T10:25:06.220Z"
   },
   {
    "duration": 31,
    "start_time": "2023-12-08T10:25:06.265Z"
   },
   {
    "duration": 25,
    "start_time": "2023-12-08T10:25:06.298Z"
   },
   {
    "duration": 61,
    "start_time": "2023-12-08T10:25:06.326Z"
   },
   {
    "duration": 175,
    "start_time": "2023-12-08T10:25:06.389Z"
   },
   {
    "duration": 11,
    "start_time": "2023-12-08T10:25:06.565Z"
   },
   {
    "duration": 24,
    "start_time": "2023-12-08T10:25:06.578Z"
   },
   {
    "duration": 39,
    "start_time": "2023-12-08T10:25:06.604Z"
   },
   {
    "duration": 32,
    "start_time": "2023-12-08T10:25:06.646Z"
   },
   {
    "duration": 19,
    "start_time": "2023-12-08T10:25:06.679Z"
   },
   {
    "duration": 3,
    "start_time": "2023-12-08T10:25:06.700Z"
   },
   {
    "duration": 31,
    "start_time": "2023-12-08T10:25:06.705Z"
   },
   {
    "duration": 13,
    "start_time": "2023-12-08T10:25:06.739Z"
   },
   {
    "duration": 20,
    "start_time": "2023-12-08T10:25:06.753Z"
   },
   {
    "duration": 90,
    "start_time": "2023-12-08T10:25:06.775Z"
   },
   {
    "duration": 26,
    "start_time": "2023-12-08T10:25:06.867Z"
   },
   {
    "duration": 22,
    "start_time": "2023-12-08T10:25:06.895Z"
   },
   {
    "duration": 32,
    "start_time": "2023-12-08T10:25:06.919Z"
   },
   {
    "duration": 25,
    "start_time": "2023-12-08T10:25:06.953Z"
   },
   {
    "duration": 14,
    "start_time": "2023-12-08T10:25:06.979Z"
   },
   {
    "duration": 387,
    "start_time": "2023-12-08T10:25:06.998Z"
   },
   {
    "duration": 611,
    "start_time": "2023-12-08T10:25:07.388Z"
   },
   {
    "duration": 911,
    "start_time": "2023-12-08T10:25:08.001Z"
   },
   {
    "duration": 13,
    "start_time": "2023-12-08T10:25:08.914Z"
   },
   {
    "duration": 5,
    "start_time": "2023-12-08T10:25:08.929Z"
   },
   {
    "duration": 48,
    "start_time": "2023-12-08T10:25:08.936Z"
   },
   {
    "duration": 92,
    "start_time": "2023-12-08T10:25:08.986Z"
   },
   {
    "duration": 246,
    "start_time": "2023-12-08T10:25:09.080Z"
   },
   {
    "duration": 6,
    "start_time": "2023-12-08T10:25:09.328Z"
   },
   {
    "duration": 41,
    "start_time": "2023-12-08T10:25:09.336Z"
   },
   {
    "duration": 269,
    "start_time": "2023-12-08T10:25:09.379Z"
   },
   {
    "duration": 516,
    "start_time": "2023-12-08T10:25:46.114Z"
   },
   {
    "duration": 29,
    "start_time": "2023-12-08T10:25:46.633Z"
   },
   {
    "duration": 19,
    "start_time": "2023-12-08T10:25:46.663Z"
   },
   {
    "duration": 11,
    "start_time": "2023-12-08T10:25:46.684Z"
   },
   {
    "duration": 71,
    "start_time": "2023-12-08T10:25:46.697Z"
   },
   {
    "duration": 3,
    "start_time": "2023-12-08T10:25:46.770Z"
   },
   {
    "duration": 17,
    "start_time": "2023-12-08T10:25:46.775Z"
   },
   {
    "duration": 7,
    "start_time": "2023-12-08T10:25:46.794Z"
   },
   {
    "duration": 26,
    "start_time": "2023-12-08T10:25:46.803Z"
   },
   {
    "duration": 7,
    "start_time": "2023-12-08T10:25:46.834Z"
   },
   {
    "duration": 44,
    "start_time": "2023-12-08T10:25:46.843Z"
   },
   {
    "duration": 37,
    "start_time": "2023-12-08T10:25:46.889Z"
   },
   {
    "duration": 17,
    "start_time": "2023-12-08T10:25:46.928Z"
   },
   {
    "duration": 36,
    "start_time": "2023-12-08T10:25:46.947Z"
   },
   {
    "duration": 32,
    "start_time": "2023-12-08T10:25:46.985Z"
   },
   {
    "duration": 34,
    "start_time": "2023-12-08T10:25:47.018Z"
   },
   {
    "duration": 4,
    "start_time": "2023-12-08T10:25:47.054Z"
   },
   {
    "duration": 54,
    "start_time": "2023-12-08T10:25:47.059Z"
   },
   {
    "duration": 35,
    "start_time": "2023-12-08T10:25:47.114Z"
   },
   {
    "duration": 12,
    "start_time": "2023-12-08T10:25:47.151Z"
   },
   {
    "duration": 47,
    "start_time": "2023-12-08T10:25:47.165Z"
   },
   {
    "duration": 36,
    "start_time": "2023-12-08T10:25:47.213Z"
   },
   {
    "duration": 34,
    "start_time": "2023-12-08T10:25:47.251Z"
   },
   {
    "duration": 26,
    "start_time": "2023-12-08T10:25:47.287Z"
   },
   {
    "duration": 28,
    "start_time": "2023-12-08T10:25:47.314Z"
   },
   {
    "duration": 11,
    "start_time": "2023-12-08T10:25:47.345Z"
   },
   {
    "duration": 359,
    "start_time": "2023-12-08T10:25:47.358Z"
   },
   {
    "duration": 615,
    "start_time": "2023-12-08T10:25:47.724Z"
   },
   {
    "duration": 840,
    "start_time": "2023-12-08T10:25:48.341Z"
   },
   {
    "duration": 8,
    "start_time": "2023-12-08T10:25:49.183Z"
   },
   {
    "duration": 16,
    "start_time": "2023-12-08T10:25:49.192Z"
   },
   {
    "duration": 52,
    "start_time": "2023-12-08T10:25:49.210Z"
   },
   {
    "duration": 78,
    "start_time": "2023-12-08T10:25:49.263Z"
   },
   {
    "duration": 231,
    "start_time": "2023-12-08T10:25:49.344Z"
   },
   {
    "duration": 3,
    "start_time": "2023-12-08T10:25:49.577Z"
   },
   {
    "duration": 46,
    "start_time": "2023-12-08T10:25:49.582Z"
   },
   {
    "duration": 254,
    "start_time": "2023-12-08T10:25:49.633Z"
   },
   {
    "duration": 511,
    "start_time": "2023-12-08T10:27:01.764Z"
   },
   {
    "duration": 24,
    "start_time": "2023-12-08T10:27:02.277Z"
   },
   {
    "duration": 48,
    "start_time": "2023-12-08T10:27:02.303Z"
   },
   {
    "duration": 15,
    "start_time": "2023-12-08T10:27:02.354Z"
   },
   {
    "duration": 44,
    "start_time": "2023-12-08T10:27:02.371Z"
   },
   {
    "duration": 5,
    "start_time": "2023-12-08T10:27:02.417Z"
   },
   {
    "duration": 30,
    "start_time": "2023-12-08T10:27:02.424Z"
   },
   {
    "duration": 9,
    "start_time": "2023-12-08T10:27:02.456Z"
   },
   {
    "duration": 11,
    "start_time": "2023-12-08T10:27:02.467Z"
   },
   {
    "duration": 5,
    "start_time": "2023-12-08T10:27:02.480Z"
   },
   {
    "duration": 46,
    "start_time": "2023-12-08T10:27:02.486Z"
   },
   {
    "duration": 13,
    "start_time": "2023-12-08T10:27:02.533Z"
   },
   {
    "duration": 10,
    "start_time": "2023-12-08T10:27:02.549Z"
   },
   {
    "duration": 26,
    "start_time": "2023-12-08T10:27:02.561Z"
   },
   {
    "duration": 34,
    "start_time": "2023-12-08T10:27:02.589Z"
   },
   {
    "duration": 28,
    "start_time": "2023-12-08T10:27:02.626Z"
   },
   {
    "duration": 7,
    "start_time": "2023-12-08T10:27:02.656Z"
   },
   {
    "duration": 34,
    "start_time": "2023-12-08T10:27:02.665Z"
   },
   {
    "duration": 7,
    "start_time": "2023-12-08T10:27:02.701Z"
   },
   {
    "duration": 18,
    "start_time": "2023-12-08T10:27:02.710Z"
   },
   {
    "duration": 21,
    "start_time": "2023-12-08T10:27:02.730Z"
   },
   {
    "duration": 12,
    "start_time": "2023-12-08T10:27:02.752Z"
   },
   {
    "duration": 13,
    "start_time": "2023-12-08T10:27:02.766Z"
   },
   {
    "duration": 8,
    "start_time": "2023-12-08T10:27:02.781Z"
   },
   {
    "duration": 18,
    "start_time": "2023-12-08T10:27:02.791Z"
   },
   {
    "duration": 4,
    "start_time": "2023-12-08T10:27:02.810Z"
   },
   {
    "duration": 366,
    "start_time": "2023-12-08T10:27:02.816Z"
   },
   {
    "duration": 616,
    "start_time": "2023-12-08T10:27:03.185Z"
   },
   {
    "duration": 962,
    "start_time": "2023-12-08T10:27:03.803Z"
   },
   {
    "duration": 8,
    "start_time": "2023-12-08T10:27:04.767Z"
   },
   {
    "duration": 29,
    "start_time": "2023-12-08T10:27:04.777Z"
   },
   {
    "duration": 63,
    "start_time": "2023-12-08T10:27:04.807Z"
   },
   {
    "duration": 98,
    "start_time": "2023-12-08T10:27:04.872Z"
   },
   {
    "duration": 238,
    "start_time": "2023-12-08T10:27:04.972Z"
   },
   {
    "duration": 14,
    "start_time": "2023-12-08T10:27:05.211Z"
   },
   {
    "duration": 122,
    "start_time": "2023-12-08T10:27:05.228Z"
   },
   {
    "duration": 268,
    "start_time": "2023-12-08T10:27:05.351Z"
   },
   {
    "duration": 305723,
    "start_time": "2023-12-08T10:27:05.623Z"
   },
   {
    "duration": 0,
    "start_time": "2023-12-08T10:32:11.348Z"
   },
   {
    "duration": 540,
    "start_time": "2023-12-08T10:40:23.000Z"
   },
   {
    "duration": 23,
    "start_time": "2023-12-08T10:40:23.543Z"
   },
   {
    "duration": 15,
    "start_time": "2023-12-08T10:40:23.568Z"
   },
   {
    "duration": 11,
    "start_time": "2023-12-08T10:40:23.585Z"
   },
   {
    "duration": 38,
    "start_time": "2023-12-08T10:40:23.622Z"
   },
   {
    "duration": 3,
    "start_time": "2023-12-08T10:40:23.662Z"
   },
   {
    "duration": 21,
    "start_time": "2023-12-08T10:40:23.667Z"
   },
   {
    "duration": 17,
    "start_time": "2023-12-08T10:40:23.690Z"
   },
   {
    "duration": 17,
    "start_time": "2023-12-08T10:40:23.709Z"
   },
   {
    "duration": 12,
    "start_time": "2023-12-08T10:40:23.730Z"
   },
   {
    "duration": 39,
    "start_time": "2023-12-08T10:40:23.744Z"
   },
   {
    "duration": 11,
    "start_time": "2023-12-08T10:40:23.784Z"
   },
   {
    "duration": 32,
    "start_time": "2023-12-08T10:40:23.797Z"
   },
   {
    "duration": 16,
    "start_time": "2023-12-08T10:40:23.831Z"
   },
   {
    "duration": 38,
    "start_time": "2023-12-08T10:40:23.849Z"
   },
   {
    "duration": 19,
    "start_time": "2023-12-08T10:40:23.890Z"
   },
   {
    "duration": 3,
    "start_time": "2023-12-08T10:40:23.911Z"
   },
   {
    "duration": 17,
    "start_time": "2023-12-08T10:40:23.916Z"
   },
   {
    "duration": 7,
    "start_time": "2023-12-08T10:40:23.934Z"
   },
   {
    "duration": 5,
    "start_time": "2023-12-08T10:40:23.943Z"
   },
   {
    "duration": 15,
    "start_time": "2023-12-08T10:40:23.950Z"
   },
   {
    "duration": 9,
    "start_time": "2023-12-08T10:40:23.967Z"
   },
   {
    "duration": 24,
    "start_time": "2023-12-08T10:40:23.978Z"
   },
   {
    "duration": 34,
    "start_time": "2023-12-08T10:40:24.005Z"
   },
   {
    "duration": 24,
    "start_time": "2023-12-08T10:40:24.041Z"
   },
   {
    "duration": 12,
    "start_time": "2023-12-08T10:40:24.067Z"
   },
   {
    "duration": 370,
    "start_time": "2023-12-08T10:40:24.081Z"
   },
   {
    "duration": 595,
    "start_time": "2023-12-08T10:40:24.455Z"
   },
   {
    "duration": 828,
    "start_time": "2023-12-08T10:40:25.051Z"
   },
   {
    "duration": 8,
    "start_time": "2023-12-08T10:40:25.880Z"
   },
   {
    "duration": 7,
    "start_time": "2023-12-08T10:40:25.890Z"
   },
   {
    "duration": 46,
    "start_time": "2023-12-08T10:40:25.899Z"
   },
   {
    "duration": 87,
    "start_time": "2023-12-08T10:40:25.947Z"
   },
   {
    "duration": 225,
    "start_time": "2023-12-08T10:40:26.037Z"
   },
   {
    "duration": 4,
    "start_time": "2023-12-08T10:40:26.264Z"
   },
   {
    "duration": 52,
    "start_time": "2023-12-08T10:40:26.270Z"
   },
   {
    "duration": 220,
    "start_time": "2023-12-08T10:40:26.324Z"
   },
   {
    "duration": 0,
    "start_time": "2023-12-08T10:40:26.545Z"
   },
   {
    "duration": 1,
    "start_time": "2023-12-08T10:40:26.546Z"
   },
   {
    "duration": 496,
    "start_time": "2023-12-08T10:41:04.583Z"
   },
   {
    "duration": 25,
    "start_time": "2023-12-08T10:41:05.081Z"
   },
   {
    "duration": 64,
    "start_time": "2023-12-08T10:41:05.123Z"
   },
   {
    "duration": 41,
    "start_time": "2023-12-08T10:41:05.190Z"
   },
   {
    "duration": 60,
    "start_time": "2023-12-08T10:41:05.233Z"
   },
   {
    "duration": 4,
    "start_time": "2023-12-08T10:41:05.295Z"
   },
   {
    "duration": 22,
    "start_time": "2023-12-08T10:41:05.301Z"
   },
   {
    "duration": 7,
    "start_time": "2023-12-08T10:41:05.325Z"
   },
   {
    "duration": 27,
    "start_time": "2023-12-08T10:41:05.335Z"
   },
   {
    "duration": 28,
    "start_time": "2023-12-08T10:41:05.364Z"
   },
   {
    "duration": 60,
    "start_time": "2023-12-08T10:41:05.393Z"
   },
   {
    "duration": 12,
    "start_time": "2023-12-08T10:41:05.455Z"
   },
   {
    "duration": 23,
    "start_time": "2023-12-08T10:41:05.468Z"
   },
   {
    "duration": 19,
    "start_time": "2023-12-08T10:41:05.492Z"
   },
   {
    "duration": 33,
    "start_time": "2023-12-08T10:41:05.513Z"
   },
   {
    "duration": 19,
    "start_time": "2023-12-08T10:41:05.547Z"
   },
   {
    "duration": 4,
    "start_time": "2023-12-08T10:41:05.567Z"
   },
   {
    "duration": 33,
    "start_time": "2023-12-08T10:41:05.573Z"
   },
   {
    "duration": 26,
    "start_time": "2023-12-08T10:41:05.608Z"
   },
   {
    "duration": 9,
    "start_time": "2023-12-08T10:41:05.636Z"
   },
   {
    "duration": 15,
    "start_time": "2023-12-08T10:41:05.647Z"
   },
   {
    "duration": 34,
    "start_time": "2023-12-08T10:41:05.665Z"
   },
   {
    "duration": 7,
    "start_time": "2023-12-08T10:41:05.701Z"
   },
   {
    "duration": 26,
    "start_time": "2023-12-08T10:41:05.709Z"
   },
   {
    "duration": 23,
    "start_time": "2023-12-08T10:41:05.737Z"
   },
   {
    "duration": 23,
    "start_time": "2023-12-08T10:41:05.762Z"
   },
   {
    "duration": 349,
    "start_time": "2023-12-08T10:41:05.789Z"
   },
   {
    "duration": 552,
    "start_time": "2023-12-08T10:41:06.140Z"
   },
   {
    "duration": 875,
    "start_time": "2023-12-08T10:41:06.694Z"
   },
   {
    "duration": 7,
    "start_time": "2023-12-08T10:41:07.571Z"
   },
   {
    "duration": 26,
    "start_time": "2023-12-08T10:41:07.580Z"
   },
   {
    "duration": 46,
    "start_time": "2023-12-08T10:41:07.608Z"
   },
   {
    "duration": 76,
    "start_time": "2023-12-08T10:41:07.655Z"
   },
   {
    "duration": 226,
    "start_time": "2023-12-08T10:41:07.732Z"
   },
   {
    "duration": 8,
    "start_time": "2023-12-08T10:41:07.964Z"
   },
   {
    "duration": 38,
    "start_time": "2023-12-08T10:41:07.973Z"
   },
   {
    "duration": 69,
    "start_time": "2023-12-08T10:41:08.013Z"
   },
   {
    "duration": 203,
    "start_time": "2023-12-08T10:41:08.084Z"
   },
   {
    "duration": 1,
    "start_time": "2023-12-08T10:41:08.289Z"
   },
   {
    "duration": 468,
    "start_time": "2023-12-08T10:41:27.366Z"
   },
   {
    "duration": 29,
    "start_time": "2023-12-08T10:41:27.836Z"
   },
   {
    "duration": 17,
    "start_time": "2023-12-08T10:41:27.867Z"
   },
   {
    "duration": 11,
    "start_time": "2023-12-08T10:41:27.887Z"
   },
   {
    "duration": 59,
    "start_time": "2023-12-08T10:41:27.900Z"
   },
   {
    "duration": 4,
    "start_time": "2023-12-08T10:41:27.961Z"
   },
   {
    "duration": 12,
    "start_time": "2023-12-08T10:41:27.966Z"
   },
   {
    "duration": 7,
    "start_time": "2023-12-08T10:41:27.980Z"
   },
   {
    "duration": 8,
    "start_time": "2023-12-08T10:41:27.989Z"
   },
   {
    "duration": 5,
    "start_time": "2023-12-08T10:41:28.022Z"
   },
   {
    "duration": 40,
    "start_time": "2023-12-08T10:41:28.029Z"
   },
   {
    "duration": 12,
    "start_time": "2023-12-08T10:41:28.070Z"
   },
   {
    "duration": 10,
    "start_time": "2023-12-08T10:41:28.083Z"
   },
   {
    "duration": 13,
    "start_time": "2023-12-08T10:41:28.122Z"
   },
   {
    "duration": 56,
    "start_time": "2023-12-08T10:41:28.137Z"
   },
   {
    "duration": 39,
    "start_time": "2023-12-08T10:41:28.195Z"
   },
   {
    "duration": 3,
    "start_time": "2023-12-08T10:41:28.236Z"
   },
   {
    "duration": 17,
    "start_time": "2023-12-08T10:41:28.241Z"
   },
   {
    "duration": 15,
    "start_time": "2023-12-08T10:41:28.259Z"
   },
   {
    "duration": 12,
    "start_time": "2023-12-08T10:41:28.276Z"
   },
   {
    "duration": 10,
    "start_time": "2023-12-08T10:41:28.291Z"
   },
   {
    "duration": 8,
    "start_time": "2023-12-08T10:41:28.303Z"
   },
   {
    "duration": 4,
    "start_time": "2023-12-08T10:41:28.323Z"
   },
   {
    "duration": 8,
    "start_time": "2023-12-08T10:41:28.329Z"
   },
   {
    "duration": 21,
    "start_time": "2023-12-08T10:41:28.339Z"
   },
   {
    "duration": 3,
    "start_time": "2023-12-08T10:41:28.362Z"
   },
   {
    "duration": 352,
    "start_time": "2023-12-08T10:41:28.367Z"
   },
   {
    "duration": 558,
    "start_time": "2023-12-08T10:41:28.722Z"
   },
   {
    "duration": 878,
    "start_time": "2023-12-08T10:41:29.282Z"
   },
   {
    "duration": 9,
    "start_time": "2023-12-08T10:41:30.161Z"
   },
   {
    "duration": 84,
    "start_time": "2023-12-08T10:41:30.172Z"
   },
   {
    "duration": 102,
    "start_time": "2023-12-08T10:41:30.258Z"
   },
   {
    "duration": 85,
    "start_time": "2023-12-08T10:41:30.362Z"
   },
   {
    "duration": 225,
    "start_time": "2023-12-08T10:41:30.448Z"
   },
   {
    "duration": 5,
    "start_time": "2023-12-08T10:41:30.676Z"
   },
   {
    "duration": 105,
    "start_time": "2023-12-08T10:41:30.683Z"
   },
   {
    "duration": 119,
    "start_time": "2023-12-08T10:41:30.790Z"
   },
   {
    "duration": 343,
    "start_time": "2023-12-08T10:41:30.910Z"
   },
   {
    "duration": 0,
    "start_time": "2023-12-08T10:41:31.255Z"
   },
   {
    "duration": 525,
    "start_time": "2023-12-08T10:42:06.017Z"
   },
   {
    "duration": 24,
    "start_time": "2023-12-08T10:42:06.543Z"
   },
   {
    "duration": 21,
    "start_time": "2023-12-08T10:42:06.569Z"
   },
   {
    "duration": 24,
    "start_time": "2023-12-08T10:42:06.593Z"
   },
   {
    "duration": 43,
    "start_time": "2023-12-08T10:42:06.618Z"
   },
   {
    "duration": 4,
    "start_time": "2023-12-08T10:42:06.662Z"
   },
   {
    "duration": 14,
    "start_time": "2023-12-08T10:42:06.667Z"
   },
   {
    "duration": 14,
    "start_time": "2023-12-08T10:42:06.683Z"
   },
   {
    "duration": 28,
    "start_time": "2023-12-08T10:42:06.699Z"
   },
   {
    "duration": 17,
    "start_time": "2023-12-08T10:42:06.732Z"
   },
   {
    "duration": 66,
    "start_time": "2023-12-08T10:42:06.751Z"
   },
   {
    "duration": 11,
    "start_time": "2023-12-08T10:42:06.818Z"
   },
   {
    "duration": 32,
    "start_time": "2023-12-08T10:42:06.831Z"
   },
   {
    "duration": 31,
    "start_time": "2023-12-08T10:42:06.865Z"
   },
   {
    "duration": 22,
    "start_time": "2023-12-08T10:42:06.898Z"
   },
   {
    "duration": 30,
    "start_time": "2023-12-08T10:42:06.922Z"
   },
   {
    "duration": 7,
    "start_time": "2023-12-08T10:42:06.954Z"
   },
   {
    "duration": 52,
    "start_time": "2023-12-08T10:42:06.963Z"
   },
   {
    "duration": 15,
    "start_time": "2023-12-08T10:42:07.017Z"
   },
   {
    "duration": 13,
    "start_time": "2023-12-08T10:42:07.034Z"
   },
   {
    "duration": 25,
    "start_time": "2023-12-08T10:42:07.049Z"
   },
   {
    "duration": 20,
    "start_time": "2023-12-08T10:42:07.076Z"
   },
   {
    "duration": 5,
    "start_time": "2023-12-08T10:42:07.098Z"
   },
   {
    "duration": 30,
    "start_time": "2023-12-08T10:42:07.105Z"
   },
   {
    "duration": 56,
    "start_time": "2023-12-08T10:42:07.137Z"
   },
   {
    "duration": 29,
    "start_time": "2023-12-08T10:42:07.195Z"
   },
   {
    "duration": 368,
    "start_time": "2023-12-08T10:42:07.226Z"
   },
   {
    "duration": 561,
    "start_time": "2023-12-08T10:42:07.597Z"
   },
   {
    "duration": 842,
    "start_time": "2023-12-08T10:42:08.160Z"
   },
   {
    "duration": 8,
    "start_time": "2023-12-08T10:42:09.004Z"
   },
   {
    "duration": 13,
    "start_time": "2023-12-08T10:42:09.022Z"
   },
   {
    "duration": 60,
    "start_time": "2023-12-08T10:42:09.037Z"
   },
   {
    "duration": 67,
    "start_time": "2023-12-08T10:42:09.098Z"
   },
   {
    "duration": 215,
    "start_time": "2023-12-08T10:42:09.167Z"
   },
   {
    "duration": 4,
    "start_time": "2023-12-08T10:42:09.383Z"
   },
   {
    "duration": 48,
    "start_time": "2023-12-08T10:42:09.388Z"
   },
   {
    "duration": 72,
    "start_time": "2023-12-08T10:42:09.438Z"
   },
   {
    "duration": 188,
    "start_time": "2023-12-08T10:42:09.522Z"
   },
   {
    "duration": 21,
    "start_time": "2023-12-08T10:42:09.711Z"
   },
   {
    "duration": 526,
    "start_time": "2023-12-08T10:57:39.330Z"
   },
   {
    "duration": 24,
    "start_time": "2023-12-08T10:57:39.858Z"
   },
   {
    "duration": 18,
    "start_time": "2023-12-08T10:57:39.884Z"
   },
   {
    "duration": 14,
    "start_time": "2023-12-08T10:57:39.921Z"
   },
   {
    "duration": 50,
    "start_time": "2023-12-08T10:57:39.937Z"
   },
   {
    "duration": 5,
    "start_time": "2023-12-08T10:57:39.989Z"
   },
   {
    "duration": 58,
    "start_time": "2023-12-08T10:57:39.996Z"
   },
   {
    "duration": 42,
    "start_time": "2023-12-08T10:57:40.056Z"
   },
   {
    "duration": 26,
    "start_time": "2023-12-08T10:57:40.100Z"
   },
   {
    "duration": 28,
    "start_time": "2023-12-08T10:57:40.131Z"
   },
   {
    "duration": 78,
    "start_time": "2023-12-08T10:57:40.161Z"
   },
   {
    "duration": 12,
    "start_time": "2023-12-08T10:57:40.241Z"
   },
   {
    "duration": 24,
    "start_time": "2023-12-08T10:57:40.255Z"
   },
   {
    "duration": 31,
    "start_time": "2023-12-08T10:57:40.281Z"
   },
   {
    "duration": 38,
    "start_time": "2023-12-08T10:57:40.314Z"
   },
   {
    "duration": 29,
    "start_time": "2023-12-08T10:57:40.354Z"
   },
   {
    "duration": 5,
    "start_time": "2023-12-08T10:57:40.385Z"
   },
   {
    "duration": 30,
    "start_time": "2023-12-08T10:57:40.391Z"
   },
   {
    "duration": 10,
    "start_time": "2023-12-08T10:57:40.422Z"
   },
   {
    "duration": 15,
    "start_time": "2023-12-08T10:57:40.434Z"
   },
   {
    "duration": 36,
    "start_time": "2023-12-08T10:57:40.451Z"
   },
   {
    "duration": 12,
    "start_time": "2023-12-08T10:57:40.490Z"
   },
   {
    "duration": 6,
    "start_time": "2023-12-08T10:57:40.504Z"
   },
   {
    "duration": 10,
    "start_time": "2023-12-08T10:57:40.512Z"
   },
   {
    "duration": 18,
    "start_time": "2023-12-08T10:57:40.524Z"
   },
   {
    "duration": 23,
    "start_time": "2023-12-08T10:57:40.544Z"
   },
   {
    "duration": 377,
    "start_time": "2023-12-08T10:57:40.569Z"
   },
   {
    "duration": 616,
    "start_time": "2023-12-08T10:57:40.952Z"
   },
   {
    "duration": 845,
    "start_time": "2023-12-08T10:57:41.571Z"
   },
   {
    "duration": 10,
    "start_time": "2023-12-08T10:57:42.418Z"
   },
   {
    "duration": 26,
    "start_time": "2023-12-08T10:57:42.430Z"
   },
   {
    "duration": 52,
    "start_time": "2023-12-08T10:57:42.458Z"
   },
   {
    "duration": 75,
    "start_time": "2023-12-08T10:57:42.513Z"
   },
   {
    "duration": 218,
    "start_time": "2023-12-08T10:57:42.589Z"
   },
   {
    "duration": 4,
    "start_time": "2023-12-08T10:57:42.808Z"
   },
   {
    "duration": 52,
    "start_time": "2023-12-08T10:57:42.814Z"
   },
   {
    "duration": 77,
    "start_time": "2023-12-08T10:57:42.868Z"
   },
   {
    "duration": 213,
    "start_time": "2023-12-08T10:57:42.946Z"
   },
   {
    "duration": 9,
    "start_time": "2023-12-08T10:57:43.161Z"
   },
   {
    "duration": 540,
    "start_time": "2023-12-08T10:58:57.485Z"
   },
   {
    "duration": 24,
    "start_time": "2023-12-08T10:58:58.028Z"
   },
   {
    "duration": 19,
    "start_time": "2023-12-08T10:58:58.056Z"
   },
   {
    "duration": 14,
    "start_time": "2023-12-08T10:58:58.078Z"
   },
   {
    "duration": 60,
    "start_time": "2023-12-08T10:58:58.095Z"
   },
   {
    "duration": 4,
    "start_time": "2023-12-08T10:58:58.158Z"
   },
   {
    "duration": 18,
    "start_time": "2023-12-08T10:58:58.164Z"
   },
   {
    "duration": 5,
    "start_time": "2023-12-08T10:58:58.185Z"
   },
   {
    "duration": 30,
    "start_time": "2023-12-08T10:58:58.192Z"
   },
   {
    "duration": 5,
    "start_time": "2023-12-08T10:58:58.224Z"
   },
   {
    "duration": 42,
    "start_time": "2023-12-08T10:58:58.231Z"
   },
   {
    "duration": 13,
    "start_time": "2023-12-08T10:58:58.275Z"
   },
   {
    "duration": 31,
    "start_time": "2023-12-08T10:58:58.292Z"
   },
   {
    "duration": 23,
    "start_time": "2023-12-08T10:58:58.325Z"
   },
   {
    "duration": 25,
    "start_time": "2023-12-08T10:58:58.350Z"
   },
   {
    "duration": 24,
    "start_time": "2023-12-08T10:58:58.377Z"
   },
   {
    "duration": 5,
    "start_time": "2023-12-08T10:58:58.402Z"
   },
   {
    "duration": 23,
    "start_time": "2023-12-08T10:58:58.409Z"
   },
   {
    "duration": 12,
    "start_time": "2023-12-08T10:58:58.434Z"
   },
   {
    "duration": 8,
    "start_time": "2023-12-08T10:58:58.448Z"
   },
   {
    "duration": 13,
    "start_time": "2023-12-08T10:58:58.458Z"
   },
   {
    "duration": 7,
    "start_time": "2023-12-08T10:58:58.473Z"
   },
   {
    "duration": 4,
    "start_time": "2023-12-08T10:58:58.482Z"
   },
   {
    "duration": 10,
    "start_time": "2023-12-08T10:58:58.487Z"
   },
   {
    "duration": 39,
    "start_time": "2023-12-08T10:58:58.499Z"
   },
   {
    "duration": 4,
    "start_time": "2023-12-08T10:58:58.539Z"
   },
   {
    "duration": 342,
    "start_time": "2023-12-08T10:58:58.545Z"
   },
   {
    "duration": 553,
    "start_time": "2023-12-08T10:58:58.889Z"
   },
   {
    "duration": 961,
    "start_time": "2023-12-08T10:58:59.443Z"
   },
   {
    "duration": 8,
    "start_time": "2023-12-08T10:59:00.406Z"
   },
   {
    "duration": 79,
    "start_time": "2023-12-08T10:59:00.416Z"
   },
   {
    "duration": 74,
    "start_time": "2023-12-08T10:59:00.497Z"
   },
   {
    "duration": 69,
    "start_time": "2023-12-08T10:59:00.573Z"
   },
   {
    "duration": 224,
    "start_time": "2023-12-08T10:59:00.644Z"
   },
   {
    "duration": 4,
    "start_time": "2023-12-08T10:59:00.870Z"
   },
   {
    "duration": 76,
    "start_time": "2023-12-08T10:59:00.875Z"
   },
   {
    "duration": 92,
    "start_time": "2023-12-08T10:59:00.953Z"
   },
   {
    "duration": 194,
    "start_time": "2023-12-08T10:59:01.047Z"
   },
   {
    "duration": 9,
    "start_time": "2023-12-08T10:59:01.243Z"
   },
   {
    "duration": 549,
    "start_time": "2023-12-08T11:00:00.284Z"
   },
   {
    "duration": 26,
    "start_time": "2023-12-08T11:00:00.835Z"
   },
   {
    "duration": 44,
    "start_time": "2023-12-08T11:00:00.865Z"
   },
   {
    "duration": 63,
    "start_time": "2023-12-08T11:00:00.911Z"
   },
   {
    "duration": 141,
    "start_time": "2023-12-08T11:00:00.977Z"
   },
   {
    "duration": 185,
    "start_time": "2023-12-08T11:00:01.120Z"
   },
   {
    "duration": 273,
    "start_time": "2023-12-08T11:00:01.307Z"
   },
   {
    "duration": 142,
    "start_time": "2023-12-08T11:00:01.581Z"
   },
   {
    "duration": 23,
    "start_time": "2023-12-08T11:00:01.726Z"
   },
   {
    "duration": 134,
    "start_time": "2023-12-08T11:00:01.751Z"
   },
   {
    "duration": 146,
    "start_time": "2023-12-08T11:00:01.887Z"
   },
   {
    "duration": 39,
    "start_time": "2023-12-08T11:00:02.035Z"
   },
   {
    "duration": 138,
    "start_time": "2023-12-08T11:00:02.076Z"
   },
   {
    "duration": 67,
    "start_time": "2023-12-08T11:00:02.216Z"
   },
   {
    "duration": 42,
    "start_time": "2023-12-08T11:00:02.285Z"
   },
   {
    "duration": 25,
    "start_time": "2023-12-08T11:00:02.330Z"
   },
   {
    "duration": 18,
    "start_time": "2023-12-08T11:00:02.357Z"
   },
   {
    "duration": 47,
    "start_time": "2023-12-08T11:00:02.376Z"
   },
   {
    "duration": 28,
    "start_time": "2023-12-08T11:00:02.424Z"
   },
   {
    "duration": 6,
    "start_time": "2023-12-08T11:00:02.454Z"
   },
   {
    "duration": 37,
    "start_time": "2023-12-08T11:00:02.461Z"
   },
   {
    "duration": 25,
    "start_time": "2023-12-08T11:00:02.500Z"
   },
   {
    "duration": 20,
    "start_time": "2023-12-08T11:00:02.527Z"
   },
   {
    "duration": 21,
    "start_time": "2023-12-08T11:00:02.549Z"
   },
   {
    "duration": 25,
    "start_time": "2023-12-08T11:00:02.571Z"
   },
   {
    "duration": 5,
    "start_time": "2023-12-08T11:00:02.598Z"
   },
   {
    "duration": 346,
    "start_time": "2023-12-08T11:00:02.607Z"
   },
   {
    "duration": 600,
    "start_time": "2023-12-08T11:00:02.955Z"
   },
   {
    "duration": 880,
    "start_time": "2023-12-08T11:00:03.557Z"
   },
   {
    "duration": 11,
    "start_time": "2023-12-08T11:00:04.440Z"
   },
   {
    "duration": 14,
    "start_time": "2023-12-08T11:00:04.453Z"
   },
   {
    "duration": 56,
    "start_time": "2023-12-08T11:00:04.469Z"
   },
   {
    "duration": 96,
    "start_time": "2023-12-08T11:00:04.527Z"
   },
   {
    "duration": 221,
    "start_time": "2023-12-08T11:00:04.625Z"
   },
   {
    "duration": 5,
    "start_time": "2023-12-08T11:00:04.848Z"
   },
   {
    "duration": 91,
    "start_time": "2023-12-08T11:00:04.855Z"
   },
   {
    "duration": 87,
    "start_time": "2023-12-08T11:00:04.948Z"
   },
   {
    "duration": 197,
    "start_time": "2023-12-08T11:00:05.036Z"
   },
   {
    "duration": 10,
    "start_time": "2023-12-08T11:00:05.235Z"
   },
   {
    "duration": 8,
    "start_time": "2023-12-08T16:19:02.243Z"
   },
   {
    "duration": 4,
    "start_time": "2023-12-08T16:23:12.548Z"
   },
   {
    "duration": 35,
    "start_time": "2023-12-08T16:24:41.339Z"
   },
   {
    "duration": 70,
    "start_time": "2023-12-08T16:26:10.018Z"
   },
   {
    "duration": 71,
    "start_time": "2023-12-08T16:27:52.646Z"
   },
   {
    "duration": 227,
    "start_time": "2023-12-08T16:28:00.672Z"
   },
   {
    "duration": 1428,
    "start_time": "2023-12-08T18:40:13.052Z"
   },
   {
    "duration": 22,
    "start_time": "2023-12-08T18:40:14.482Z"
   },
   {
    "duration": 28,
    "start_time": "2023-12-08T18:40:14.507Z"
   },
   {
    "duration": 13,
    "start_time": "2023-12-08T18:40:14.538Z"
   },
   {
    "duration": 45,
    "start_time": "2023-12-08T18:40:14.553Z"
   },
   {
    "duration": 23,
    "start_time": "2023-12-08T18:40:14.600Z"
   },
   {
    "duration": 23,
    "start_time": "2023-12-08T18:40:14.625Z"
   },
   {
    "duration": 13,
    "start_time": "2023-12-08T18:40:14.650Z"
   },
   {
    "duration": 24,
    "start_time": "2023-12-08T18:40:14.664Z"
   },
   {
    "duration": 14,
    "start_time": "2023-12-08T18:40:14.690Z"
   },
   {
    "duration": 48,
    "start_time": "2023-12-08T18:40:14.706Z"
   },
   {
    "duration": 13,
    "start_time": "2023-12-08T18:40:14.756Z"
   },
   {
    "duration": 16,
    "start_time": "2023-12-08T18:40:14.771Z"
   },
   {
    "duration": 32,
    "start_time": "2023-12-08T18:40:14.789Z"
   },
   {
    "duration": 33,
    "start_time": "2023-12-08T18:40:14.822Z"
   },
   {
    "duration": 20,
    "start_time": "2023-12-08T18:40:14.857Z"
   },
   {
    "duration": 14,
    "start_time": "2023-12-08T18:40:14.879Z"
   },
   {
    "duration": 24,
    "start_time": "2023-12-08T18:40:14.894Z"
   },
   {
    "duration": 11,
    "start_time": "2023-12-08T18:40:14.920Z"
   },
   {
    "duration": 20,
    "start_time": "2023-12-08T18:40:14.933Z"
   },
   {
    "duration": 17,
    "start_time": "2023-12-08T18:40:14.955Z"
   },
   {
    "duration": 7,
    "start_time": "2023-12-08T18:40:14.974Z"
   },
   {
    "duration": 18,
    "start_time": "2023-12-08T18:40:14.983Z"
   },
   {
    "duration": 103,
    "start_time": "2023-12-08T18:40:15.003Z"
   },
   {
    "duration": 43,
    "start_time": "2023-12-08T18:40:15.108Z"
   },
   {
    "duration": 4,
    "start_time": "2023-12-08T18:40:15.152Z"
   },
   {
    "duration": 75,
    "start_time": "2023-12-08T18:40:15.157Z"
   },
   {
    "duration": 432,
    "start_time": "2023-12-08T18:40:15.235Z"
   },
   {
    "duration": 255,
    "start_time": "2023-12-08T18:40:15.669Z"
   },
   {
    "duration": 8,
    "start_time": "2023-12-08T18:40:15.926Z"
   },
   {
    "duration": 9,
    "start_time": "2023-12-08T18:40:15.935Z"
   },
   {
    "duration": 130,
    "start_time": "2023-12-08T18:40:15.946Z"
   },
   {
    "duration": 77,
    "start_time": "2023-12-08T18:40:16.078Z"
   },
   {
    "duration": 216,
    "start_time": "2023-12-08T18:40:16.157Z"
   },
   {
    "duration": 4,
    "start_time": "2023-12-08T18:40:16.375Z"
   },
   {
    "duration": 50,
    "start_time": "2023-12-08T18:40:16.381Z"
   },
   {
    "duration": 67,
    "start_time": "2023-12-08T18:40:16.433Z"
   },
   {
    "duration": 197,
    "start_time": "2023-12-08T18:40:16.502Z"
   },
   {
    "duration": 8,
    "start_time": "2023-12-08T18:40:16.700Z"
   },
   {
    "duration": 14,
    "start_time": "2023-12-08T18:40:16.709Z"
   },
   {
    "duration": 34,
    "start_time": "2023-12-08T18:40:16.725Z"
   },
   {
    "duration": 81,
    "start_time": "2023-12-08T18:40:16.761Z"
   },
   {
    "duration": 210,
    "start_time": "2023-12-08T18:40:16.844Z"
   },
   {
    "duration": 1421,
    "start_time": "2023-12-08T18:40:48.026Z"
   },
   {
    "duration": 21,
    "start_time": "2023-12-08T18:40:49.449Z"
   },
   {
    "duration": 21,
    "start_time": "2023-12-08T18:40:49.472Z"
   },
   {
    "duration": 11,
    "start_time": "2023-12-08T18:40:49.496Z"
   },
   {
    "duration": 39,
    "start_time": "2023-12-08T18:40:49.523Z"
   },
   {
    "duration": 4,
    "start_time": "2023-12-08T18:40:49.563Z"
   },
   {
    "duration": 37,
    "start_time": "2023-12-08T18:40:49.568Z"
   },
   {
    "duration": 36,
    "start_time": "2023-12-08T18:40:49.607Z"
   },
   {
    "duration": 14,
    "start_time": "2023-12-08T18:40:49.645Z"
   },
   {
    "duration": 10,
    "start_time": "2023-12-08T18:40:49.662Z"
   },
   {
    "duration": 54,
    "start_time": "2023-12-08T18:40:49.673Z"
   },
   {
    "duration": 11,
    "start_time": "2023-12-08T18:40:49.728Z"
   },
   {
    "duration": 9,
    "start_time": "2023-12-08T18:40:49.741Z"
   },
   {
    "duration": 16,
    "start_time": "2023-12-08T18:40:49.752Z"
   },
   {
    "duration": 50,
    "start_time": "2023-12-08T18:40:49.770Z"
   },
   {
    "duration": 18,
    "start_time": "2023-12-08T18:40:49.822Z"
   },
   {
    "duration": 8,
    "start_time": "2023-12-08T18:40:49.842Z"
   },
   {
    "duration": 37,
    "start_time": "2023-12-08T18:40:49.852Z"
   },
   {
    "duration": 12,
    "start_time": "2023-12-08T18:40:49.891Z"
   },
   {
    "duration": 18,
    "start_time": "2023-12-08T18:40:49.905Z"
   },
   {
    "duration": 16,
    "start_time": "2023-12-08T18:40:49.925Z"
   },
   {
    "duration": 12,
    "start_time": "2023-12-08T18:40:49.942Z"
   },
   {
    "duration": 12,
    "start_time": "2023-12-08T18:40:49.956Z"
   },
   {
    "duration": 10,
    "start_time": "2023-12-08T18:40:49.970Z"
   },
   {
    "duration": 27,
    "start_time": "2023-12-08T18:40:49.982Z"
   },
   {
    "duration": 34,
    "start_time": "2023-12-08T18:40:50.011Z"
   },
   {
    "duration": 147,
    "start_time": "2023-12-08T18:40:50.046Z"
   },
   {
    "duration": 400,
    "start_time": "2023-12-08T18:40:50.197Z"
   },
   {
    "duration": 281,
    "start_time": "2023-12-08T18:40:50.598Z"
   },
   {
    "duration": 7,
    "start_time": "2023-12-08T18:40:50.881Z"
   },
   {
    "duration": 24,
    "start_time": "2023-12-08T18:40:50.889Z"
   },
   {
    "duration": 114,
    "start_time": "2023-12-08T18:40:50.914Z"
   },
   {
    "duration": 70,
    "start_time": "2023-12-08T18:40:51.030Z"
   },
   {
    "duration": 234,
    "start_time": "2023-12-08T18:40:51.102Z"
   },
   {
    "duration": 3,
    "start_time": "2023-12-08T18:40:51.338Z"
   },
   {
    "duration": 55,
    "start_time": "2023-12-08T18:40:51.343Z"
   },
   {
    "duration": 72,
    "start_time": "2023-12-08T18:40:51.400Z"
   },
   {
    "duration": 185,
    "start_time": "2023-12-08T18:40:51.474Z"
   },
   {
    "duration": 8,
    "start_time": "2023-12-08T18:40:51.661Z"
   },
   {
    "duration": 40,
    "start_time": "2023-12-08T18:40:51.670Z"
   },
   {
    "duration": 54,
    "start_time": "2023-12-08T18:40:51.712Z"
   },
   {
    "duration": 69,
    "start_time": "2023-12-08T18:40:51.768Z"
   },
   {
    "duration": 207,
    "start_time": "2023-12-08T18:40:51.839Z"
   },
   {
    "duration": 1566,
    "start_time": "2023-12-08T18:55:16.703Z"
   },
   {
    "duration": 19,
    "start_time": "2023-12-08T18:55:18.271Z"
   },
   {
    "duration": 25,
    "start_time": "2023-12-08T18:55:18.291Z"
   },
   {
    "duration": 11,
    "start_time": "2023-12-08T18:55:18.318Z"
   },
   {
    "duration": 37,
    "start_time": "2023-12-08T18:55:18.330Z"
   },
   {
    "duration": 4,
    "start_time": "2023-12-08T18:55:18.368Z"
   },
   {
    "duration": 29,
    "start_time": "2023-12-08T18:55:18.374Z"
   },
   {
    "duration": 11,
    "start_time": "2023-12-08T18:55:18.404Z"
   },
   {
    "duration": 11,
    "start_time": "2023-12-08T18:55:18.417Z"
   },
   {
    "duration": 5,
    "start_time": "2023-12-08T18:55:18.431Z"
   },
   {
    "duration": 38,
    "start_time": "2023-12-08T18:55:18.437Z"
   },
   {
    "duration": 11,
    "start_time": "2023-12-08T18:55:18.476Z"
   },
   {
    "duration": 9,
    "start_time": "2023-12-08T18:55:18.488Z"
   },
   {
    "duration": 35,
    "start_time": "2023-12-08T18:55:18.498Z"
   },
   {
    "duration": 42,
    "start_time": "2023-12-08T18:55:18.534Z"
   },
   {
    "duration": 40,
    "start_time": "2023-12-08T18:55:18.578Z"
   },
   {
    "duration": 14,
    "start_time": "2023-12-08T18:55:18.620Z"
   },
   {
    "duration": 28,
    "start_time": "2023-12-08T18:55:18.636Z"
   },
   {
    "duration": 16,
    "start_time": "2023-12-08T18:55:18.665Z"
   },
   {
    "duration": 9,
    "start_time": "2023-12-08T18:55:18.682Z"
   },
   {
    "duration": 47,
    "start_time": "2023-12-08T18:55:18.693Z"
   },
   {
    "duration": 21,
    "start_time": "2023-12-08T18:55:18.742Z"
   },
   {
    "duration": 21,
    "start_time": "2023-12-08T18:55:18.765Z"
   },
   {
    "duration": 37,
    "start_time": "2023-12-08T18:55:18.788Z"
   },
   {
    "duration": 45,
    "start_time": "2023-12-08T18:55:18.827Z"
   },
   {
    "duration": 16,
    "start_time": "2023-12-08T18:55:18.874Z"
   },
   {
    "duration": 114,
    "start_time": "2023-12-08T18:55:18.892Z"
   },
   {
    "duration": 513,
    "start_time": "2023-12-08T18:55:19.009Z"
   },
   {
    "duration": 275,
    "start_time": "2023-12-08T18:55:19.524Z"
   },
   {
    "duration": 16,
    "start_time": "2023-12-08T18:55:19.800Z"
   },
   {
    "duration": 5,
    "start_time": "2023-12-08T18:55:19.818Z"
   },
   {
    "duration": 126,
    "start_time": "2023-12-08T18:55:19.825Z"
   },
   {
    "duration": 70,
    "start_time": "2023-12-08T18:55:19.953Z"
   },
   {
    "duration": 186,
    "start_time": "2023-12-08T18:55:20.025Z"
   },
   {
    "duration": 4,
    "start_time": "2023-12-08T18:55:20.213Z"
   },
   {
    "duration": 41,
    "start_time": "2023-12-08T18:55:20.218Z"
   },
   {
    "duration": 74,
    "start_time": "2023-12-08T18:55:20.261Z"
   },
   {
    "duration": 170,
    "start_time": "2023-12-08T18:55:20.336Z"
   },
   {
    "duration": 11,
    "start_time": "2023-12-08T18:55:20.507Z"
   },
   {
    "duration": 4,
    "start_time": "2023-12-08T18:55:20.520Z"
   },
   {
    "duration": 54,
    "start_time": "2023-12-08T18:55:20.525Z"
   },
   {
    "duration": 78,
    "start_time": "2023-12-08T18:55:20.581Z"
   },
   {
    "duration": 193,
    "start_time": "2023-12-08T18:55:20.661Z"
   },
   {
    "duration": 41,
    "start_time": "2023-12-09T04:29:07.705Z"
   },
   {
    "duration": 1582,
    "start_time": "2023-12-09T04:29:14.525Z"
   },
   {
    "duration": 17,
    "start_time": "2023-12-09T04:29:18.510Z"
   },
   {
    "duration": 19,
    "start_time": "2023-12-09T04:29:22.038Z"
   },
   {
    "duration": 11,
    "start_time": "2023-12-09T04:29:30.374Z"
   },
   {
    "duration": 11,
    "start_time": "2023-12-09T04:29:49.269Z"
   },
   {
    "duration": 1147,
    "start_time": "2023-12-09T05:05:01.925Z"
   },
   {
    "duration": 16,
    "start_time": "2023-12-09T05:05:03.073Z"
   },
   {
    "duration": 12,
    "start_time": "2023-12-09T05:05:03.091Z"
   },
   {
    "duration": 15,
    "start_time": "2023-12-09T05:05:03.105Z"
   },
   {
    "duration": 33,
    "start_time": "2023-12-09T05:05:03.121Z"
   },
   {
    "duration": 3,
    "start_time": "2023-12-09T05:05:03.155Z"
   },
   {
    "duration": 23,
    "start_time": "2023-12-09T05:05:03.159Z"
   },
   {
    "duration": 20,
    "start_time": "2023-12-09T05:05:03.183Z"
   },
   {
    "duration": 9,
    "start_time": "2023-12-09T05:05:03.204Z"
   },
   {
    "duration": 5,
    "start_time": "2023-12-09T05:05:03.215Z"
   },
   {
    "duration": 32,
    "start_time": "2023-12-09T05:05:03.221Z"
   },
   {
    "duration": 8,
    "start_time": "2023-12-09T05:05:03.254Z"
   },
   {
    "duration": 3,
    "start_time": "2023-12-09T05:05:03.263Z"
   },
   {
    "duration": 10,
    "start_time": "2023-12-09T05:05:03.267Z"
   },
   {
    "duration": 17,
    "start_time": "2023-12-09T05:05:03.278Z"
   },
   {
    "duration": 27,
    "start_time": "2023-12-09T05:05:03.296Z"
   },
   {
    "duration": 3,
    "start_time": "2023-12-09T05:05:03.324Z"
   },
   {
    "duration": 62,
    "start_time": "2023-12-09T05:05:03.328Z"
   },
   {
    "duration": 5,
    "start_time": "2023-12-09T05:05:03.391Z"
   },
   {
    "duration": 3,
    "start_time": "2023-12-09T05:05:03.397Z"
   },
   {
    "duration": 9,
    "start_time": "2023-12-09T05:05:03.401Z"
   },
   {
    "duration": 6,
    "start_time": "2023-12-09T05:05:03.412Z"
   },
   {
    "duration": 3,
    "start_time": "2023-12-09T05:05:03.419Z"
   },
   {
    "duration": 7,
    "start_time": "2023-12-09T05:05:03.423Z"
   },
   {
    "duration": 12,
    "start_time": "2023-12-09T05:05:03.431Z"
   },
   {
    "duration": 2,
    "start_time": "2023-12-09T05:05:03.444Z"
   },
   {
    "duration": 71,
    "start_time": "2023-12-09T05:05:03.447Z"
   },
   {
    "duration": 340,
    "start_time": "2023-12-09T05:05:03.521Z"
   },
   {
    "duration": 209,
    "start_time": "2023-12-09T05:05:03.862Z"
   },
   {
    "duration": 6,
    "start_time": "2023-12-09T05:05:04.072Z"
   },
   {
    "duration": 5,
    "start_time": "2023-12-09T05:05:04.079Z"
   },
   {
    "duration": 84,
    "start_time": "2023-12-09T05:05:04.085Z"
   },
   {
    "duration": 56,
    "start_time": "2023-12-09T05:05:04.171Z"
   },
   {
    "duration": 170,
    "start_time": "2023-12-09T05:05:04.228Z"
   },
   {
    "duration": 3,
    "start_time": "2023-12-09T05:05:04.400Z"
   },
   {
    "duration": 35,
    "start_time": "2023-12-09T05:05:04.404Z"
   },
   {
    "duration": 50,
    "start_time": "2023-12-09T05:05:04.441Z"
   },
   {
    "duration": 158,
    "start_time": "2023-12-09T05:05:04.492Z"
   },
   {
    "duration": 5,
    "start_time": "2023-12-09T05:05:04.652Z"
   },
   {
    "duration": 19,
    "start_time": "2023-12-09T05:05:04.658Z"
   },
   {
    "duration": 52,
    "start_time": "2023-12-09T05:05:04.678Z"
   },
   {
    "duration": 53,
    "start_time": "2023-12-09T05:05:04.731Z"
   },
   {
    "duration": 164,
    "start_time": "2023-12-09T05:05:04.785Z"
   },
   {
    "duration": 1092,
    "start_time": "2023-12-09T05:14:02.802Z"
   },
   {
    "duration": 15,
    "start_time": "2023-12-09T05:14:03.895Z"
   },
   {
    "duration": 19,
    "start_time": "2023-12-09T05:14:03.911Z"
   },
   {
    "duration": 36,
    "start_time": "2023-12-09T05:14:03.932Z"
   },
   {
    "duration": 35,
    "start_time": "2023-12-09T05:14:03.969Z"
   },
   {
    "duration": 3,
    "start_time": "2023-12-09T05:14:04.005Z"
   },
   {
    "duration": 9,
    "start_time": "2023-12-09T05:14:04.010Z"
   },
   {
    "duration": 4,
    "start_time": "2023-12-09T05:14:04.020Z"
   },
   {
    "duration": 6,
    "start_time": "2023-12-09T05:14:04.025Z"
   },
   {
    "duration": 3,
    "start_time": "2023-12-09T05:14:04.034Z"
   },
   {
    "duration": 25,
    "start_time": "2023-12-09T05:14:04.039Z"
   },
   {
    "duration": 7,
    "start_time": "2023-12-09T05:14:04.065Z"
   },
   {
    "duration": 2,
    "start_time": "2023-12-09T05:14:04.074Z"
   },
   {
    "duration": 39,
    "start_time": "2023-12-09T05:14:04.077Z"
   },
   {
    "duration": 15,
    "start_time": "2023-12-09T05:14:04.117Z"
   },
   {
    "duration": 14,
    "start_time": "2023-12-09T05:14:04.133Z"
   },
   {
    "duration": 2,
    "start_time": "2023-12-09T05:14:04.148Z"
   },
   {
    "duration": 9,
    "start_time": "2023-12-09T05:14:04.151Z"
   },
   {
    "duration": 5,
    "start_time": "2023-12-09T05:14:04.161Z"
   },
   {
    "duration": 3,
    "start_time": "2023-12-09T05:14:04.167Z"
   },
   {
    "duration": 9,
    "start_time": "2023-12-09T05:14:04.171Z"
   },
   {
    "duration": 5,
    "start_time": "2023-12-09T05:14:04.181Z"
   },
   {
    "duration": 29,
    "start_time": "2023-12-09T05:14:04.187Z"
   },
   {
    "duration": 8,
    "start_time": "2023-12-09T05:14:04.217Z"
   },
   {
    "duration": 18,
    "start_time": "2023-12-09T05:14:04.226Z"
   },
   {
    "duration": 3,
    "start_time": "2023-12-09T05:14:04.245Z"
   },
   {
    "duration": 67,
    "start_time": "2023-12-09T05:14:04.249Z"
   },
   {
    "duration": 149,
    "start_time": "2023-12-09T05:14:04.319Z"
   },
   {
    "duration": 7,
    "start_time": "2023-12-09T05:14:04.469Z"
   },
   {
    "duration": 4,
    "start_time": "2023-12-09T05:14:04.477Z"
   },
   {
    "duration": 42,
    "start_time": "2023-12-09T05:14:04.482Z"
   },
   {
    "duration": 93,
    "start_time": "2023-12-09T05:14:04.525Z"
   },
   {
    "duration": 0,
    "start_time": "2023-12-09T05:14:04.619Z"
   },
   {
    "duration": 0,
    "start_time": "2023-12-09T05:14:04.621Z"
   },
   {
    "duration": 0,
    "start_time": "2023-12-09T05:14:04.622Z"
   },
   {
    "duration": 0,
    "start_time": "2023-12-09T05:14:04.623Z"
   },
   {
    "duration": 0,
    "start_time": "2023-12-09T05:14:04.625Z"
   },
   {
    "duration": 0,
    "start_time": "2023-12-09T05:14:04.626Z"
   },
   {
    "duration": 0,
    "start_time": "2023-12-09T05:14:04.627Z"
   },
   {
    "duration": 0,
    "start_time": "2023-12-09T05:14:04.628Z"
   },
   {
    "duration": 1178,
    "start_time": "2023-12-09T05:16:21.594Z"
   },
   {
    "duration": 15,
    "start_time": "2023-12-09T05:16:22.773Z"
   },
   {
    "duration": 20,
    "start_time": "2023-12-09T05:16:22.789Z"
   },
   {
    "duration": 7,
    "start_time": "2023-12-09T05:16:22.811Z"
   },
   {
    "duration": 27,
    "start_time": "2023-12-09T05:16:22.819Z"
   },
   {
    "duration": 3,
    "start_time": "2023-12-09T05:16:22.847Z"
   },
   {
    "duration": 8,
    "start_time": "2023-12-09T05:16:22.851Z"
   },
   {
    "duration": 3,
    "start_time": "2023-12-09T05:16:22.860Z"
   },
   {
    "duration": 7,
    "start_time": "2023-12-09T05:16:22.864Z"
   },
   {
    "duration": 3,
    "start_time": "2023-12-09T05:16:22.873Z"
   },
   {
    "duration": 45,
    "start_time": "2023-12-09T05:16:22.877Z"
   },
   {
    "duration": 7,
    "start_time": "2023-12-09T05:16:22.924Z"
   },
   {
    "duration": 7,
    "start_time": "2023-12-09T05:16:22.932Z"
   },
   {
    "duration": 12,
    "start_time": "2023-12-09T05:16:22.940Z"
   },
   {
    "duration": 27,
    "start_time": "2023-12-09T05:16:22.953Z"
   },
   {
    "duration": 15,
    "start_time": "2023-12-09T05:16:22.982Z"
   },
   {
    "duration": 3,
    "start_time": "2023-12-09T05:16:22.998Z"
   },
   {
    "duration": 20,
    "start_time": "2023-12-09T05:16:23.002Z"
   },
   {
    "duration": 14,
    "start_time": "2023-12-09T05:16:23.023Z"
   },
   {
    "duration": 3,
    "start_time": "2023-12-09T05:16:23.039Z"
   },
   {
    "duration": 8,
    "start_time": "2023-12-09T05:16:23.044Z"
   },
   {
    "duration": 5,
    "start_time": "2023-12-09T05:16:23.053Z"
   },
   {
    "duration": 3,
    "start_time": "2023-12-09T05:16:23.060Z"
   },
   {
    "duration": 7,
    "start_time": "2023-12-09T05:16:23.064Z"
   },
   {
    "duration": 24,
    "start_time": "2023-12-09T05:16:23.072Z"
   },
   {
    "duration": 4,
    "start_time": "2023-12-09T05:16:23.097Z"
   },
   {
    "duration": 71,
    "start_time": "2023-12-09T05:16:23.102Z"
   },
   {
    "duration": 158,
    "start_time": "2023-12-09T05:16:23.176Z"
   },
   {
    "duration": 7,
    "start_time": "2023-12-09T05:16:23.335Z"
   },
   {
    "duration": 24,
    "start_time": "2023-12-09T05:16:23.343Z"
   },
   {
    "duration": 40,
    "start_time": "2023-12-09T05:16:23.368Z"
   },
   {
    "duration": 162,
    "start_time": "2023-12-09T05:16:23.409Z"
   },
   {
    "duration": 4,
    "start_time": "2023-12-09T05:16:23.572Z"
   },
   {
    "duration": 29,
    "start_time": "2023-12-09T05:16:23.577Z"
   },
   {
    "duration": 153,
    "start_time": "2023-12-09T05:16:23.607Z"
   },
   {
    "duration": 6,
    "start_time": "2023-12-09T05:16:23.762Z"
   },
   {
    "duration": 4,
    "start_time": "2023-12-09T05:16:23.770Z"
   },
   {
    "duration": 46,
    "start_time": "2023-12-09T05:16:23.775Z"
   },
   {
    "duration": 372,
    "start_time": "2023-12-09T05:16:23.823Z"
   },
   {
    "duration": 209,
    "start_time": "2023-12-09T05:16:24.196Z"
   },
   {
    "duration": 1202,
    "start_time": "2023-12-09T05:18:10.135Z"
   },
   {
    "duration": 15,
    "start_time": "2023-12-09T05:18:11.339Z"
   },
   {
    "duration": 12,
    "start_time": "2023-12-09T05:18:11.355Z"
   },
   {
    "duration": 7,
    "start_time": "2023-12-09T05:18:11.369Z"
   },
   {
    "duration": 29,
    "start_time": "2023-12-09T05:18:11.377Z"
   },
   {
    "duration": 2,
    "start_time": "2023-12-09T05:18:11.408Z"
   },
   {
    "duration": 8,
    "start_time": "2023-12-09T05:18:11.411Z"
   },
   {
    "duration": 3,
    "start_time": "2023-12-09T05:18:11.420Z"
   },
   {
    "duration": 7,
    "start_time": "2023-12-09T05:18:11.424Z"
   },
   {
    "duration": 3,
    "start_time": "2023-12-09T05:18:11.433Z"
   },
   {
    "duration": 27,
    "start_time": "2023-12-09T05:18:11.437Z"
   },
   {
    "duration": 8,
    "start_time": "2023-12-09T05:18:11.465Z"
   },
   {
    "duration": 3,
    "start_time": "2023-12-09T05:18:11.474Z"
   },
   {
    "duration": 9,
    "start_time": "2023-12-09T05:18:11.515Z"
   },
   {
    "duration": 20,
    "start_time": "2023-12-09T05:18:11.525Z"
   },
   {
    "duration": 14,
    "start_time": "2023-12-09T05:18:11.546Z"
   },
   {
    "duration": 3,
    "start_time": "2023-12-09T05:18:11.561Z"
   },
   {
    "duration": 23,
    "start_time": "2023-12-09T05:18:11.565Z"
   },
   {
    "duration": 5,
    "start_time": "2023-12-09T05:18:11.589Z"
   },
   {
    "duration": 3,
    "start_time": "2023-12-09T05:18:11.595Z"
   },
   {
    "duration": 8,
    "start_time": "2023-12-09T05:18:11.615Z"
   },
   {
    "duration": 3,
    "start_time": "2023-12-09T05:18:11.624Z"
   },
   {
    "duration": 6,
    "start_time": "2023-12-09T05:18:11.628Z"
   },
   {
    "duration": 6,
    "start_time": "2023-12-09T05:18:11.636Z"
   },
   {
    "duration": 11,
    "start_time": "2023-12-09T05:18:11.643Z"
   },
   {
    "duration": 2,
    "start_time": "2023-12-09T05:18:11.655Z"
   },
   {
    "duration": 104,
    "start_time": "2023-12-09T05:18:11.658Z"
   },
   {
    "duration": 191,
    "start_time": "2023-12-09T05:18:11.764Z"
   },
   {
    "duration": 6,
    "start_time": "2023-12-09T05:18:11.956Z"
   },
   {
    "duration": 14,
    "start_time": "2023-12-09T05:18:11.963Z"
   },
   {
    "duration": 36,
    "start_time": "2023-12-09T05:18:11.978Z"
   },
   {
    "duration": 172,
    "start_time": "2023-12-09T05:18:12.016Z"
   },
   {
    "duration": 3,
    "start_time": "2023-12-09T05:18:12.189Z"
   },
   {
    "duration": 32,
    "start_time": "2023-12-09T05:18:12.193Z"
   },
   {
    "duration": 148,
    "start_time": "2023-12-09T05:18:12.226Z"
   },
   {
    "duration": 5,
    "start_time": "2023-12-09T05:18:12.376Z"
   },
   {
    "duration": 14,
    "start_time": "2023-12-09T05:18:12.382Z"
   },
   {
    "duration": 31,
    "start_time": "2023-12-09T05:18:12.397Z"
   },
   {
    "duration": 164,
    "start_time": "2023-12-09T05:18:12.429Z"
   },
   {
    "duration": 1159,
    "start_time": "2023-12-09T05:36:30.426Z"
   },
   {
    "duration": 16,
    "start_time": "2023-12-09T05:36:31.587Z"
   },
   {
    "duration": 48,
    "start_time": "2023-12-09T05:36:31.604Z"
   },
   {
    "duration": 32,
    "start_time": "2023-12-09T05:36:31.654Z"
   },
   {
    "duration": 45,
    "start_time": "2023-12-09T05:36:31.687Z"
   },
   {
    "duration": 3,
    "start_time": "2023-12-09T05:36:31.734Z"
   },
   {
    "duration": 38,
    "start_time": "2023-12-09T05:36:31.738Z"
   },
   {
    "duration": 52,
    "start_time": "2023-12-09T05:36:31.778Z"
   },
   {
    "duration": 29,
    "start_time": "2023-12-09T05:36:31.831Z"
   },
   {
    "duration": 50,
    "start_time": "2023-12-09T05:36:31.862Z"
   },
   {
    "duration": 59,
    "start_time": "2023-12-09T05:36:31.913Z"
   },
   {
    "duration": 8,
    "start_time": "2023-12-09T05:36:31.973Z"
   },
   {
    "duration": 29,
    "start_time": "2023-12-09T05:36:31.982Z"
   },
   {
    "duration": 30,
    "start_time": "2023-12-09T05:36:32.012Z"
   },
   {
    "duration": 49,
    "start_time": "2023-12-09T05:36:32.043Z"
   },
   {
    "duration": 24,
    "start_time": "2023-12-09T05:36:32.093Z"
   },
   {
    "duration": 6,
    "start_time": "2023-12-09T05:36:32.118Z"
   },
   {
    "duration": 12,
    "start_time": "2023-12-09T05:36:32.125Z"
   },
   {
    "duration": 25,
    "start_time": "2023-12-09T05:36:32.138Z"
   },
   {
    "duration": 17,
    "start_time": "2023-12-09T05:36:32.164Z"
   },
   {
    "duration": 23,
    "start_time": "2023-12-09T05:36:32.182Z"
   },
   {
    "duration": 10,
    "start_time": "2023-12-09T05:36:32.206Z"
   },
   {
    "duration": 21,
    "start_time": "2023-12-09T05:36:32.217Z"
   },
   {
    "duration": 21633,
    "start_time": "2023-12-09T05:36:32.240Z"
   },
   {
    "duration": 13,
    "start_time": "2023-12-09T05:36:53.874Z"
   },
   {
    "duration": 3,
    "start_time": "2023-12-09T05:36:53.888Z"
   },
   {
    "duration": 402,
    "start_time": "2023-12-09T05:36:53.892Z"
   },
   {
    "duration": 0,
    "start_time": "2023-12-09T05:36:54.297Z"
   },
   {
    "duration": 1,
    "start_time": "2023-12-09T05:36:54.297Z"
   },
   {
    "duration": 0,
    "start_time": "2023-12-09T05:36:54.299Z"
   },
   {
    "duration": 0,
    "start_time": "2023-12-09T05:36:54.300Z"
   },
   {
    "duration": 0,
    "start_time": "2023-12-09T05:36:54.301Z"
   },
   {
    "duration": 0,
    "start_time": "2023-12-09T05:36:54.302Z"
   },
   {
    "duration": 0,
    "start_time": "2023-12-09T05:36:54.303Z"
   },
   {
    "duration": 0,
    "start_time": "2023-12-09T05:36:54.304Z"
   },
   {
    "duration": 0,
    "start_time": "2023-12-09T05:36:54.305Z"
   },
   {
    "duration": 0,
    "start_time": "2023-12-09T05:36:54.306Z"
   },
   {
    "duration": 3,
    "start_time": "2023-12-09T05:36:55.436Z"
   },
   {
    "duration": 1124,
    "start_time": "2023-12-09T05:37:57.577Z"
   },
   {
    "duration": 16,
    "start_time": "2023-12-09T05:37:58.702Z"
   },
   {
    "duration": 15,
    "start_time": "2023-12-09T05:37:58.720Z"
   },
   {
    "duration": 7,
    "start_time": "2023-12-09T05:37:58.737Z"
   },
   {
    "duration": 31,
    "start_time": "2023-12-09T05:37:58.745Z"
   },
   {
    "duration": 2,
    "start_time": "2023-12-09T05:37:58.778Z"
   },
   {
    "duration": 7,
    "start_time": "2023-12-09T05:37:58.781Z"
   },
   {
    "duration": 3,
    "start_time": "2023-12-09T05:37:58.789Z"
   },
   {
    "duration": 6,
    "start_time": "2023-12-09T05:37:58.793Z"
   },
   {
    "duration": 15,
    "start_time": "2023-12-09T05:37:58.801Z"
   },
   {
    "duration": 37,
    "start_time": "2023-12-09T05:37:58.817Z"
   },
   {
    "duration": 7,
    "start_time": "2023-12-09T05:37:58.855Z"
   },
   {
    "duration": 3,
    "start_time": "2023-12-09T05:37:58.863Z"
   },
   {
    "duration": 10,
    "start_time": "2023-12-09T05:37:58.867Z"
   },
   {
    "duration": 19,
    "start_time": "2023-12-09T05:37:58.878Z"
   },
   {
    "duration": 24,
    "start_time": "2023-12-09T05:37:58.898Z"
   },
   {
    "duration": 2,
    "start_time": "2023-12-09T05:37:58.923Z"
   },
   {
    "duration": 25,
    "start_time": "2023-12-09T05:37:58.926Z"
   },
   {
    "duration": 26,
    "start_time": "2023-12-09T05:37:58.952Z"
   },
   {
    "duration": 10,
    "start_time": "2023-12-09T05:37:58.979Z"
   },
   {
    "duration": 10,
    "start_time": "2023-12-09T05:37:58.990Z"
   },
   {
    "duration": 4,
    "start_time": "2023-12-09T05:37:59.001Z"
   },
   {
    "duration": 19,
    "start_time": "2023-12-09T05:37:59.006Z"
   },
   {
    "duration": 11,
    "start_time": "2023-12-09T05:37:59.026Z"
   },
   {
    "duration": 12,
    "start_time": "2023-12-09T05:37:59.038Z"
   },
   {
    "duration": 6,
    "start_time": "2023-12-09T05:37:59.051Z"
   },
   {
    "duration": 84,
    "start_time": "2023-12-09T05:37:59.058Z"
   },
   {
    "duration": 153,
    "start_time": "2023-12-09T05:37:59.144Z"
   },
   {
    "duration": 5,
    "start_time": "2023-12-09T05:37:59.299Z"
   },
   {
    "duration": 3,
    "start_time": "2023-12-09T05:37:59.305Z"
   },
   {
    "duration": 24,
    "start_time": "2023-12-09T05:37:59.315Z"
   },
   {
    "duration": 163,
    "start_time": "2023-12-09T05:37:59.340Z"
   },
   {
    "duration": 30,
    "start_time": "2023-12-09T05:37:59.504Z"
   },
   {
    "duration": 139,
    "start_time": "2023-12-09T05:37:59.535Z"
   },
   {
    "duration": 5,
    "start_time": "2023-12-09T05:37:59.675Z"
   },
   {
    "duration": 47,
    "start_time": "2023-12-09T05:37:59.682Z"
   },
   {
    "duration": 153,
    "start_time": "2023-12-09T05:37:59.731Z"
   },
   {
    "duration": 1125,
    "start_time": "2023-12-09T05:39:36.043Z"
   },
   {
    "duration": 16,
    "start_time": "2023-12-09T05:39:37.169Z"
   },
   {
    "duration": 13,
    "start_time": "2023-12-09T05:39:37.187Z"
   },
   {
    "duration": 11,
    "start_time": "2023-12-09T05:39:37.202Z"
   },
   {
    "duration": 31,
    "start_time": "2023-12-09T05:39:37.215Z"
   },
   {
    "duration": 3,
    "start_time": "2023-12-09T05:39:37.247Z"
   },
   {
    "duration": 13,
    "start_time": "2023-12-09T05:39:37.251Z"
   },
   {
    "duration": 3,
    "start_time": "2023-12-09T05:39:37.265Z"
   },
   {
    "duration": 6,
    "start_time": "2023-12-09T05:39:37.270Z"
   },
   {
    "duration": 3,
    "start_time": "2023-12-09T05:39:37.278Z"
   },
   {
    "duration": 41,
    "start_time": "2023-12-09T05:39:37.282Z"
   },
   {
    "duration": 7,
    "start_time": "2023-12-09T05:39:37.324Z"
   },
   {
    "duration": 4,
    "start_time": "2023-12-09T05:39:37.332Z"
   },
   {
    "duration": 13,
    "start_time": "2023-12-09T05:39:37.337Z"
   },
   {
    "duration": 16,
    "start_time": "2023-12-09T05:39:37.351Z"
   },
   {
    "duration": 14,
    "start_time": "2023-12-09T05:39:37.368Z"
   },
   {
    "duration": 3,
    "start_time": "2023-12-09T05:39:37.383Z"
   },
   {
    "duration": 29,
    "start_time": "2023-12-09T05:39:37.386Z"
   },
   {
    "duration": 5,
    "start_time": "2023-12-09T05:39:37.416Z"
   },
   {
    "duration": 12,
    "start_time": "2023-12-09T05:39:37.422Z"
   },
   {
    "duration": 18,
    "start_time": "2023-12-09T05:39:37.436Z"
   },
   {
    "duration": 4,
    "start_time": "2023-12-09T05:39:37.455Z"
   },
   {
    "duration": 3,
    "start_time": "2023-12-09T05:39:37.460Z"
   },
   {
    "duration": 5,
    "start_time": "2023-12-09T05:39:37.464Z"
   },
   {
    "duration": 13,
    "start_time": "2023-12-09T05:39:37.471Z"
   },
   {
    "duration": 2,
    "start_time": "2023-12-09T05:39:37.485Z"
   },
   {
    "duration": 88,
    "start_time": "2023-12-09T05:39:37.489Z"
   },
   {
    "duration": 0,
    "start_time": "2023-12-09T05:39:37.578Z"
   },
   {
    "duration": 0,
    "start_time": "2023-12-09T05:39:37.579Z"
   },
   {
    "duration": 0,
    "start_time": "2023-12-09T05:39:37.579Z"
   },
   {
    "duration": 0,
    "start_time": "2023-12-09T05:39:37.580Z"
   },
   {
    "duration": 0,
    "start_time": "2023-12-09T05:39:37.581Z"
   },
   {
    "duration": 0,
    "start_time": "2023-12-09T05:39:37.582Z"
   },
   {
    "duration": 0,
    "start_time": "2023-12-09T05:39:37.582Z"
   },
   {
    "duration": 0,
    "start_time": "2023-12-09T05:39:37.583Z"
   },
   {
    "duration": 0,
    "start_time": "2023-12-09T05:39:37.584Z"
   },
   {
    "duration": 0,
    "start_time": "2023-12-09T05:39:37.585Z"
   },
   {
    "duration": 1149,
    "start_time": "2023-12-09T05:39:55.233Z"
   },
   {
    "duration": 15,
    "start_time": "2023-12-09T05:39:56.384Z"
   },
   {
    "duration": 23,
    "start_time": "2023-12-09T05:39:56.401Z"
   },
   {
    "duration": 18,
    "start_time": "2023-12-09T05:39:56.425Z"
   },
   {
    "duration": 38,
    "start_time": "2023-12-09T05:39:56.444Z"
   },
   {
    "duration": 3,
    "start_time": "2023-12-09T05:39:56.484Z"
   },
   {
    "duration": 18,
    "start_time": "2023-12-09T05:39:56.488Z"
   },
   {
    "duration": 8,
    "start_time": "2023-12-09T05:39:56.508Z"
   },
   {
    "duration": 6,
    "start_time": "2023-12-09T05:39:56.517Z"
   },
   {
    "duration": 6,
    "start_time": "2023-12-09T05:39:56.525Z"
   },
   {
    "duration": 29,
    "start_time": "2023-12-09T05:39:56.532Z"
   },
   {
    "duration": 7,
    "start_time": "2023-12-09T05:39:56.563Z"
   },
   {
    "duration": 3,
    "start_time": "2023-12-09T05:39:56.571Z"
   },
   {
    "duration": 14,
    "start_time": "2023-12-09T05:39:56.575Z"
   },
   {
    "duration": 26,
    "start_time": "2023-12-09T05:39:56.591Z"
   },
   {
    "duration": 13,
    "start_time": "2023-12-09T05:39:56.619Z"
   },
   {
    "duration": 3,
    "start_time": "2023-12-09T05:39:56.633Z"
   },
   {
    "duration": 15,
    "start_time": "2023-12-09T05:39:56.637Z"
   },
   {
    "duration": 5,
    "start_time": "2023-12-09T05:39:56.653Z"
   },
   {
    "duration": 9,
    "start_time": "2023-12-09T05:39:56.659Z"
   },
   {
    "duration": 14,
    "start_time": "2023-12-09T05:39:56.669Z"
   },
   {
    "duration": 16,
    "start_time": "2023-12-09T05:39:56.685Z"
   },
   {
    "duration": 10,
    "start_time": "2023-12-09T05:39:56.701Z"
   },
   {
    "duration": 8,
    "start_time": "2023-12-09T05:39:56.712Z"
   },
   {
    "duration": 12,
    "start_time": "2023-12-09T05:39:56.721Z"
   },
   {
    "duration": 2,
    "start_time": "2023-12-09T05:39:56.734Z"
   },
   {
    "duration": 59,
    "start_time": "2023-12-09T05:39:56.737Z"
   },
   {
    "duration": 99,
    "start_time": "2023-12-09T05:39:56.798Z"
   },
   {
    "duration": 0,
    "start_time": "2023-12-09T05:39:56.898Z"
   },
   {
    "duration": 0,
    "start_time": "2023-12-09T05:39:56.899Z"
   },
   {
    "duration": 0,
    "start_time": "2023-12-09T05:39:56.900Z"
   },
   {
    "duration": 0,
    "start_time": "2023-12-09T05:39:56.901Z"
   },
   {
    "duration": 0,
    "start_time": "2023-12-09T05:39:56.901Z"
   },
   {
    "duration": 0,
    "start_time": "2023-12-09T05:39:56.902Z"
   },
   {
    "duration": 0,
    "start_time": "2023-12-09T05:39:56.915Z"
   },
   {
    "duration": 0,
    "start_time": "2023-12-09T05:39:56.916Z"
   },
   {
    "duration": 0,
    "start_time": "2023-12-09T05:39:56.917Z"
   },
   {
    "duration": 1105,
    "start_time": "2023-12-09T05:40:20.469Z"
   },
   {
    "duration": 15,
    "start_time": "2023-12-09T05:40:21.576Z"
   },
   {
    "duration": 11,
    "start_time": "2023-12-09T05:40:21.592Z"
   },
   {
    "duration": 7,
    "start_time": "2023-12-09T05:40:21.604Z"
   },
   {
    "duration": 27,
    "start_time": "2023-12-09T05:40:21.612Z"
   },
   {
    "duration": 3,
    "start_time": "2023-12-09T05:40:21.640Z"
   },
   {
    "duration": 9,
    "start_time": "2023-12-09T05:40:21.644Z"
   },
   {
    "duration": 3,
    "start_time": "2023-12-09T05:40:21.654Z"
   },
   {
    "duration": 5,
    "start_time": "2023-12-09T05:40:21.658Z"
   },
   {
    "duration": 3,
    "start_time": "2023-12-09T05:40:21.665Z"
   },
   {
    "duration": 52,
    "start_time": "2023-12-09T05:40:21.669Z"
   },
   {
    "duration": 7,
    "start_time": "2023-12-09T05:40:21.722Z"
   },
   {
    "duration": 16,
    "start_time": "2023-12-09T05:40:21.730Z"
   },
   {
    "duration": 13,
    "start_time": "2023-12-09T05:40:21.747Z"
   },
   {
    "duration": 15,
    "start_time": "2023-12-09T05:40:21.761Z"
   },
   {
    "duration": 12,
    "start_time": "2023-12-09T05:40:21.778Z"
   },
   {
    "duration": 3,
    "start_time": "2023-12-09T05:40:21.791Z"
   },
   {
    "duration": 21,
    "start_time": "2023-12-09T05:40:21.795Z"
   },
   {
    "duration": 42,
    "start_time": "2023-12-09T05:40:21.817Z"
   },
   {
    "duration": 4,
    "start_time": "2023-12-09T05:40:21.861Z"
   },
   {
    "duration": 34,
    "start_time": "2023-12-09T05:40:21.866Z"
   },
   {
    "duration": 9,
    "start_time": "2023-12-09T05:40:21.901Z"
   },
   {
    "duration": 3,
    "start_time": "2023-12-09T05:40:21.911Z"
   },
   {
    "duration": 13,
    "start_time": "2023-12-09T05:40:21.915Z"
   },
   {
    "duration": 30,
    "start_time": "2023-12-09T05:40:21.929Z"
   },
   {
    "duration": 10,
    "start_time": "2023-12-09T05:40:21.960Z"
   },
   {
    "duration": 64,
    "start_time": "2023-12-09T05:40:21.971Z"
   },
   {
    "duration": 142,
    "start_time": "2023-12-09T05:40:22.037Z"
   },
   {
    "duration": 5,
    "start_time": "2023-12-09T05:40:22.181Z"
   },
   {
    "duration": 5,
    "start_time": "2023-12-09T05:40:22.187Z"
   },
   {
    "duration": 36,
    "start_time": "2023-12-09T05:40:22.194Z"
   },
   {
    "duration": 161,
    "start_time": "2023-12-09T05:40:22.231Z"
   },
   {
    "duration": 34,
    "start_time": "2023-12-09T05:40:22.393Z"
   },
   {
    "duration": 138,
    "start_time": "2023-12-09T05:40:22.428Z"
   },
   {
    "duration": 5,
    "start_time": "2023-12-09T05:40:22.568Z"
   },
   {
    "duration": 28,
    "start_time": "2023-12-09T05:40:22.574Z"
   },
   {
    "duration": 168,
    "start_time": "2023-12-09T05:40:22.603Z"
   },
   {
    "duration": 1182,
    "start_time": "2023-12-09T05:43:57.494Z"
   },
   {
    "duration": 15,
    "start_time": "2023-12-09T05:43:58.678Z"
   },
   {
    "duration": 42,
    "start_time": "2023-12-09T05:43:58.695Z"
   },
   {
    "duration": 8,
    "start_time": "2023-12-09T05:43:58.739Z"
   },
   {
    "duration": 27,
    "start_time": "2023-12-09T05:43:58.749Z"
   },
   {
    "duration": 3,
    "start_time": "2023-12-09T05:43:58.777Z"
   },
   {
    "duration": 7,
    "start_time": "2023-12-09T05:43:58.782Z"
   },
   {
    "duration": 4,
    "start_time": "2023-12-09T05:43:58.790Z"
   },
   {
    "duration": 23,
    "start_time": "2023-12-09T05:43:58.795Z"
   },
   {
    "duration": 4,
    "start_time": "2023-12-09T05:43:58.820Z"
   },
   {
    "duration": 27,
    "start_time": "2023-12-09T05:43:58.825Z"
   },
   {
    "duration": 7,
    "start_time": "2023-12-09T05:43:58.853Z"
   },
   {
    "duration": 3,
    "start_time": "2023-12-09T05:43:58.861Z"
   },
   {
    "duration": 9,
    "start_time": "2023-12-09T05:43:58.865Z"
   },
   {
    "duration": 44,
    "start_time": "2023-12-09T05:43:58.875Z"
   },
   {
    "duration": 15,
    "start_time": "2023-12-09T05:43:58.920Z"
   },
   {
    "duration": 3,
    "start_time": "2023-12-09T05:43:58.936Z"
   },
   {
    "duration": 12,
    "start_time": "2023-12-09T05:43:58.940Z"
   },
   {
    "duration": 6,
    "start_time": "2023-12-09T05:43:58.953Z"
   },
   {
    "duration": 4,
    "start_time": "2023-12-09T05:43:58.960Z"
   },
   {
    "duration": 8,
    "start_time": "2023-12-09T05:43:58.965Z"
   },
   {
    "duration": 4,
    "start_time": "2023-12-09T05:43:58.974Z"
   },
   {
    "duration": 3,
    "start_time": "2023-12-09T05:43:58.979Z"
   },
   {
    "duration": 32,
    "start_time": "2023-12-09T05:43:58.984Z"
   },
   {
    "duration": 11,
    "start_time": "2023-12-09T05:43:59.017Z"
   },
   {
    "duration": 3,
    "start_time": "2023-12-09T05:43:59.029Z"
   },
   {
    "duration": 55,
    "start_time": "2023-12-09T05:43:59.033Z"
   },
   {
    "duration": 162,
    "start_time": "2023-12-09T05:43:59.092Z"
   },
   {
    "duration": 6,
    "start_time": "2023-12-09T05:43:59.256Z"
   },
   {
    "duration": 25,
    "start_time": "2023-12-09T05:43:59.264Z"
   },
   {
    "duration": 178,
    "start_time": "2023-12-09T05:43:59.290Z"
   },
   {
    "duration": 24,
    "start_time": "2023-12-09T05:43:59.469Z"
   },
   {
    "duration": 146,
    "start_time": "2023-12-09T05:43:59.495Z"
   },
   {
    "duration": 5,
    "start_time": "2023-12-09T05:43:59.643Z"
   },
   {
    "duration": 30,
    "start_time": "2023-12-09T05:43:59.649Z"
   },
   {
    "duration": 155,
    "start_time": "2023-12-09T05:43:59.681Z"
   },
   {
    "duration": 1111,
    "start_time": "2023-12-09T05:44:57.886Z"
   },
   {
    "duration": 15,
    "start_time": "2023-12-09T05:44:58.999Z"
   },
   {
    "duration": 12,
    "start_time": "2023-12-09T05:44:59.017Z"
   },
   {
    "duration": 8,
    "start_time": "2023-12-09T05:44:59.031Z"
   },
   {
    "duration": 27,
    "start_time": "2023-12-09T05:44:59.040Z"
   },
   {
    "duration": 3,
    "start_time": "2023-12-09T05:44:59.068Z"
   },
   {
    "duration": 8,
    "start_time": "2023-12-09T05:44:59.072Z"
   },
   {
    "duration": 35,
    "start_time": "2023-12-09T05:44:59.081Z"
   },
   {
    "duration": 5,
    "start_time": "2023-12-09T05:44:59.119Z"
   },
   {
    "duration": 4,
    "start_time": "2023-12-09T05:44:59.125Z"
   },
   {
    "duration": 38,
    "start_time": "2023-12-09T05:44:59.130Z"
   },
   {
    "duration": 7,
    "start_time": "2023-12-09T05:44:59.169Z"
   },
   {
    "duration": 3,
    "start_time": "2023-12-09T05:44:59.177Z"
   },
   {
    "duration": 15,
    "start_time": "2023-12-09T05:44:59.181Z"
   },
   {
    "duration": 32,
    "start_time": "2023-12-09T05:44:59.197Z"
   },
   {
    "duration": 12,
    "start_time": "2023-12-09T05:44:59.231Z"
   },
   {
    "duration": 3,
    "start_time": "2023-12-09T05:44:59.244Z"
   },
   {
    "duration": 8,
    "start_time": "2023-12-09T05:44:59.248Z"
   },
   {
    "duration": 8,
    "start_time": "2023-12-09T05:44:59.257Z"
   },
   {
    "duration": 2,
    "start_time": "2023-12-09T05:44:59.266Z"
   },
   {
    "duration": 7,
    "start_time": "2023-12-09T05:44:59.269Z"
   },
   {
    "duration": 4,
    "start_time": "2023-12-09T05:44:59.277Z"
   },
   {
    "duration": 77,
    "start_time": "2023-12-09T05:44:59.282Z"
   },
   {
    "duration": 0,
    "start_time": "2023-12-09T05:44:59.360Z"
   },
   {
    "duration": 0,
    "start_time": "2023-12-09T05:44:59.361Z"
   },
   {
    "duration": 0,
    "start_time": "2023-12-09T05:44:59.362Z"
   },
   {
    "duration": 0,
    "start_time": "2023-12-09T05:44:59.363Z"
   },
   {
    "duration": 0,
    "start_time": "2023-12-09T05:44:59.364Z"
   },
   {
    "duration": 0,
    "start_time": "2023-12-09T05:44:59.365Z"
   },
   {
    "duration": 0,
    "start_time": "2023-12-09T05:44:59.365Z"
   },
   {
    "duration": 0,
    "start_time": "2023-12-09T05:44:59.366Z"
   },
   {
    "duration": 0,
    "start_time": "2023-12-09T05:44:59.367Z"
   },
   {
    "duration": 0,
    "start_time": "2023-12-09T05:44:59.368Z"
   },
   {
    "duration": 0,
    "start_time": "2023-12-09T05:44:59.368Z"
   },
   {
    "duration": 0,
    "start_time": "2023-12-09T05:44:59.369Z"
   },
   {
    "duration": 0,
    "start_time": "2023-12-09T05:44:59.370Z"
   },
   {
    "duration": 1139,
    "start_time": "2023-12-09T05:45:17.944Z"
   },
   {
    "duration": 16,
    "start_time": "2023-12-09T05:45:19.084Z"
   },
   {
    "duration": 10,
    "start_time": "2023-12-09T05:45:19.102Z"
   },
   {
    "duration": 7,
    "start_time": "2023-12-09T05:45:19.114Z"
   },
   {
    "duration": 36,
    "start_time": "2023-12-09T05:45:19.122Z"
   },
   {
    "duration": 3,
    "start_time": "2023-12-09T05:45:19.160Z"
   },
   {
    "duration": 8,
    "start_time": "2023-12-09T05:45:19.164Z"
   },
   {
    "duration": 3,
    "start_time": "2023-12-09T05:45:19.173Z"
   },
   {
    "duration": 6,
    "start_time": "2023-12-09T05:45:19.177Z"
   },
   {
    "duration": 3,
    "start_time": "2023-12-09T05:45:19.186Z"
   },
   {
    "duration": 47,
    "start_time": "2023-12-09T05:45:19.190Z"
   },
   {
    "duration": 8,
    "start_time": "2023-12-09T05:45:19.238Z"
   },
   {
    "duration": 3,
    "start_time": "2023-12-09T05:45:19.247Z"
   },
   {
    "duration": 9,
    "start_time": "2023-12-09T05:45:19.251Z"
   },
   {
    "duration": 18,
    "start_time": "2023-12-09T05:45:19.261Z"
   },
   {
    "duration": 36,
    "start_time": "2023-12-09T05:45:19.280Z"
   },
   {
    "duration": 3,
    "start_time": "2023-12-09T05:45:19.317Z"
   },
   {
    "duration": 11,
    "start_time": "2023-12-09T05:45:19.321Z"
   },
   {
    "duration": 6,
    "start_time": "2023-12-09T05:45:19.333Z"
   },
   {
    "duration": 3,
    "start_time": "2023-12-09T05:45:19.340Z"
   },
   {
    "duration": 17,
    "start_time": "2023-12-09T05:45:19.344Z"
   },
   {
    "duration": 6,
    "start_time": "2023-12-09T05:45:19.362Z"
   },
   {
    "duration": 2,
    "start_time": "2023-12-09T05:45:19.370Z"
   },
   {
    "duration": 0,
    "start_time": "2023-12-09T05:45:41.359Z"
   },
   {
    "duration": 0,
    "start_time": "2023-12-09T05:45:41.360Z"
   },
   {
    "duration": 0,
    "start_time": "2023-12-09T05:45:41.361Z"
   },
   {
    "duration": 0,
    "start_time": "2023-12-09T05:45:41.362Z"
   },
   {
    "duration": 0,
    "start_time": "2023-12-09T05:45:41.363Z"
   },
   {
    "duration": 0,
    "start_time": "2023-12-09T05:45:41.364Z"
   },
   {
    "duration": 0,
    "start_time": "2023-12-09T05:45:41.365Z"
   },
   {
    "duration": 0,
    "start_time": "2023-12-09T05:45:41.366Z"
   },
   {
    "duration": 0,
    "start_time": "2023-12-09T05:45:41.367Z"
   },
   {
    "duration": 0,
    "start_time": "2023-12-09T05:45:41.368Z"
   },
   {
    "duration": 0,
    "start_time": "2023-12-09T05:45:41.368Z"
   },
   {
    "duration": 0,
    "start_time": "2023-12-09T05:45:41.370Z"
   },
   {
    "duration": 0,
    "start_time": "2023-12-09T05:45:41.370Z"
   },
   {
    "duration": 1145,
    "start_time": "2023-12-09T05:46:46.448Z"
   },
   {
    "duration": 16,
    "start_time": "2023-12-09T05:46:47.594Z"
   },
   {
    "duration": 12,
    "start_time": "2023-12-09T05:46:47.612Z"
   },
   {
    "duration": 7,
    "start_time": "2023-12-09T05:46:47.625Z"
   },
   {
    "duration": 26,
    "start_time": "2023-12-09T05:46:47.633Z"
   },
   {
    "duration": 3,
    "start_time": "2023-12-09T05:46:47.660Z"
   },
   {
    "duration": 7,
    "start_time": "2023-12-09T05:46:47.664Z"
   },
   {
    "duration": 3,
    "start_time": "2023-12-09T05:46:47.673Z"
   },
   {
    "duration": 6,
    "start_time": "2023-12-09T05:46:47.677Z"
   },
   {
    "duration": 3,
    "start_time": "2023-12-09T05:46:47.685Z"
   },
   {
    "duration": 25,
    "start_time": "2023-12-09T05:46:47.715Z"
   },
   {
    "duration": 7,
    "start_time": "2023-12-09T05:46:47.741Z"
   },
   {
    "duration": 3,
    "start_time": "2023-12-09T05:46:47.749Z"
   },
   {
    "duration": 10,
    "start_time": "2023-12-09T05:46:47.753Z"
   },
   {
    "duration": 16,
    "start_time": "2023-12-09T05:46:47.764Z"
   },
   {
    "duration": 36,
    "start_time": "2023-12-09T05:46:47.781Z"
   },
   {
    "duration": 3,
    "start_time": "2023-12-09T05:46:47.818Z"
   },
   {
    "duration": 9,
    "start_time": "2023-12-09T05:46:47.822Z"
   },
   {
    "duration": 5,
    "start_time": "2023-12-09T05:46:47.832Z"
   },
   {
    "duration": 3,
    "start_time": "2023-12-09T05:46:47.838Z"
   },
   {
    "duration": 8,
    "start_time": "2023-12-09T05:46:47.842Z"
   },
   {
    "duration": 5,
    "start_time": "2023-12-09T05:46:47.851Z"
   },
   {
    "duration": 5,
    "start_time": "2023-12-09T05:46:47.857Z"
   },
   {
    "duration": 21453,
    "start_time": "2023-12-09T05:46:47.863Z"
   },
   {
    "duration": 12,
    "start_time": "2023-12-09T05:47:09.318Z"
   },
   {
    "duration": 16,
    "start_time": "2023-12-09T05:47:09.332Z"
   },
   {
    "duration": 385,
    "start_time": "2023-12-09T05:47:09.349Z"
   },
   {
    "duration": 0,
    "start_time": "2023-12-09T05:47:09.736Z"
   },
   {
    "duration": 0,
    "start_time": "2023-12-09T05:47:09.737Z"
   },
   {
    "duration": 0,
    "start_time": "2023-12-09T05:47:09.738Z"
   },
   {
    "duration": 0,
    "start_time": "2023-12-09T05:47:09.739Z"
   },
   {
    "duration": 0,
    "start_time": "2023-12-09T05:47:09.739Z"
   },
   {
    "duration": 0,
    "start_time": "2023-12-09T05:47:09.740Z"
   },
   {
    "duration": 0,
    "start_time": "2023-12-09T05:47:09.741Z"
   },
   {
    "duration": 0,
    "start_time": "2023-12-09T05:47:09.742Z"
   },
   {
    "duration": 0,
    "start_time": "2023-12-09T05:47:09.743Z"
   },
   {
    "duration": 1156,
    "start_time": "2023-12-09T05:48:06.450Z"
   },
   {
    "duration": 14,
    "start_time": "2023-12-09T05:48:07.608Z"
   },
   {
    "duration": 12,
    "start_time": "2023-12-09T05:48:07.623Z"
   },
   {
    "duration": 7,
    "start_time": "2023-12-09T05:48:07.636Z"
   },
   {
    "duration": 27,
    "start_time": "2023-12-09T05:48:07.644Z"
   },
   {
    "duration": 2,
    "start_time": "2023-12-09T05:48:07.672Z"
   },
   {
    "duration": 8,
    "start_time": "2023-12-09T05:48:07.675Z"
   },
   {
    "duration": 5,
    "start_time": "2023-12-09T05:48:07.684Z"
   },
   {
    "duration": 25,
    "start_time": "2023-12-09T05:48:07.690Z"
   },
   {
    "duration": 3,
    "start_time": "2023-12-09T05:48:07.717Z"
   },
   {
    "duration": 30,
    "start_time": "2023-12-09T05:48:07.722Z"
   },
   {
    "duration": 7,
    "start_time": "2023-12-09T05:48:07.754Z"
   },
   {
    "duration": 3,
    "start_time": "2023-12-09T05:48:07.763Z"
   },
   {
    "duration": 11,
    "start_time": "2023-12-09T05:48:07.767Z"
   },
   {
    "duration": 39,
    "start_time": "2023-12-09T05:48:07.779Z"
   },
   {
    "duration": 16,
    "start_time": "2023-12-09T05:48:07.819Z"
   },
   {
    "duration": 3,
    "start_time": "2023-12-09T05:48:07.836Z"
   },
   {
    "duration": 12,
    "start_time": "2023-12-09T05:48:07.841Z"
   },
   {
    "duration": 5,
    "start_time": "2023-12-09T05:48:07.854Z"
   },
   {
    "duration": 31,
    "start_time": "2023-12-09T05:48:07.860Z"
   },
   {
    "duration": 24,
    "start_time": "2023-12-09T05:48:07.892Z"
   },
   {
    "duration": 16,
    "start_time": "2023-12-09T05:48:07.917Z"
   },
   {
    "duration": 17,
    "start_time": "2023-12-09T05:48:07.933Z"
   },
   {
    "duration": 34,
    "start_time": "2023-12-09T05:48:07.951Z"
   },
   {
    "duration": 30,
    "start_time": "2023-12-09T05:48:07.986Z"
   },
   {
    "duration": 3,
    "start_time": "2023-12-09T05:48:08.017Z"
   },
   {
    "duration": 62,
    "start_time": "2023-12-09T05:48:08.021Z"
   },
   {
    "duration": 149,
    "start_time": "2023-12-09T05:48:08.086Z"
   },
   {
    "duration": 5,
    "start_time": "2023-12-09T05:48:08.236Z"
   },
   {
    "duration": 32,
    "start_time": "2023-12-09T05:48:08.242Z"
   },
   {
    "duration": 165,
    "start_time": "2023-12-09T05:48:08.275Z"
   },
   {
    "duration": 23,
    "start_time": "2023-12-09T05:48:08.442Z"
   },
   {
    "duration": 146,
    "start_time": "2023-12-09T05:48:08.467Z"
   },
   {
    "duration": 5,
    "start_time": "2023-12-09T05:48:08.615Z"
   },
   {
    "duration": 29,
    "start_time": "2023-12-09T05:48:08.621Z"
   },
   {
    "duration": 150,
    "start_time": "2023-12-09T05:48:08.651Z"
   },
   {
    "duration": 1142,
    "start_time": "2023-12-09T05:49:37.362Z"
   },
   {
    "duration": 17,
    "start_time": "2023-12-09T05:49:38.506Z"
   },
   {
    "duration": 14,
    "start_time": "2023-12-09T05:49:38.524Z"
   },
   {
    "duration": 7,
    "start_time": "2023-12-09T05:49:38.540Z"
   },
   {
    "duration": 26,
    "start_time": "2023-12-09T05:49:38.548Z"
   },
   {
    "duration": 2,
    "start_time": "2023-12-09T05:49:38.576Z"
   },
   {
    "duration": 8,
    "start_time": "2023-12-09T05:49:38.579Z"
   },
   {
    "duration": 3,
    "start_time": "2023-12-09T05:49:38.588Z"
   },
   {
    "duration": 25,
    "start_time": "2023-12-09T05:49:38.593Z"
   },
   {
    "duration": 3,
    "start_time": "2023-12-09T05:49:38.620Z"
   },
   {
    "duration": 34,
    "start_time": "2023-12-09T05:49:38.624Z"
   },
   {
    "duration": 9,
    "start_time": "2023-12-09T05:49:38.659Z"
   },
   {
    "duration": 6,
    "start_time": "2023-12-09T05:49:38.669Z"
   },
   {
    "duration": 13,
    "start_time": "2023-12-09T05:49:38.676Z"
   },
   {
    "duration": 25,
    "start_time": "2023-12-09T05:49:38.690Z"
   },
   {
    "duration": 14,
    "start_time": "2023-12-09T05:49:38.717Z"
   },
   {
    "duration": 3,
    "start_time": "2023-12-09T05:49:38.732Z"
   },
   {
    "duration": 12,
    "start_time": "2023-12-09T05:49:38.736Z"
   },
   {
    "duration": 6,
    "start_time": "2023-12-09T05:49:38.749Z"
   },
   {
    "duration": 3,
    "start_time": "2023-12-09T05:49:38.757Z"
   },
   {
    "duration": 10,
    "start_time": "2023-12-09T05:49:38.762Z"
   },
   {
    "duration": 6,
    "start_time": "2023-12-09T05:49:38.773Z"
   },
   {
    "duration": 3,
    "start_time": "2023-12-09T05:49:38.780Z"
   },
   {
    "duration": 30,
    "start_time": "2023-12-09T05:49:38.785Z"
   },
   {
    "duration": 14,
    "start_time": "2023-12-09T05:49:38.817Z"
   },
   {
    "duration": 3,
    "start_time": "2023-12-09T05:49:38.833Z"
   },
   {
    "duration": 58,
    "start_time": "2023-12-09T05:49:38.837Z"
   },
   {
    "duration": 169,
    "start_time": "2023-12-09T05:49:38.899Z"
   },
   {
    "duration": 6,
    "start_time": "2023-12-09T05:49:39.069Z"
   },
   {
    "duration": 28,
    "start_time": "2023-12-09T05:49:39.077Z"
   },
   {
    "duration": 185,
    "start_time": "2023-12-09T05:49:39.106Z"
   },
   {
    "duration": 32,
    "start_time": "2023-12-09T05:49:39.293Z"
   },
   {
    "duration": 140,
    "start_time": "2023-12-09T05:49:39.326Z"
   },
   {
    "duration": 6,
    "start_time": "2023-12-09T05:49:39.467Z"
   },
   {
    "duration": 27,
    "start_time": "2023-12-09T05:49:39.474Z"
   },
   {
    "duration": 167,
    "start_time": "2023-12-09T05:49:39.502Z"
   },
   {
    "duration": 1118,
    "start_time": "2023-12-09T06:01:25.592Z"
   },
   {
    "duration": 16,
    "start_time": "2023-12-09T06:01:26.711Z"
   },
   {
    "duration": 12,
    "start_time": "2023-12-09T06:01:26.728Z"
   },
   {
    "duration": 7,
    "start_time": "2023-12-09T06:01:26.742Z"
   },
   {
    "duration": 27,
    "start_time": "2023-12-09T06:01:26.750Z"
   },
   {
    "duration": 2,
    "start_time": "2023-12-09T06:01:26.778Z"
   },
   {
    "duration": 27,
    "start_time": "2023-12-09T06:01:26.781Z"
   },
   {
    "duration": 9,
    "start_time": "2023-12-09T06:01:26.810Z"
   },
   {
    "duration": 20,
    "start_time": "2023-12-09T06:01:26.820Z"
   },
   {
    "duration": 4,
    "start_time": "2023-12-09T06:01:26.843Z"
   },
   {
    "duration": 27,
    "start_time": "2023-12-09T06:01:26.848Z"
   },
   {
    "duration": 16,
    "start_time": "2023-12-09T06:01:26.876Z"
   },
   {
    "duration": 3,
    "start_time": "2023-12-09T06:01:26.894Z"
   },
   {
    "duration": 9,
    "start_time": "2023-12-09T06:01:26.899Z"
   },
   {
    "duration": 17,
    "start_time": "2023-12-09T06:01:26.909Z"
   },
   {
    "duration": 14,
    "start_time": "2023-12-09T06:01:26.927Z"
   },
   {
    "duration": 3,
    "start_time": "2023-12-09T06:01:26.943Z"
   },
   {
    "duration": 17,
    "start_time": "2023-12-09T06:01:26.947Z"
   },
   {
    "duration": 32,
    "start_time": "2023-12-09T06:01:26.965Z"
   },
   {
    "duration": 11,
    "start_time": "2023-12-09T06:01:26.999Z"
   },
   {
    "duration": 26,
    "start_time": "2023-12-09T06:01:27.011Z"
   },
   {
    "duration": 15,
    "start_time": "2023-12-09T06:01:27.039Z"
   },
   {
    "duration": 27,
    "start_time": "2023-12-09T06:01:27.055Z"
   },
   {
    "duration": 17,
    "start_time": "2023-12-09T06:01:27.083Z"
   },
   {
    "duration": 3,
    "start_time": "2023-12-09T06:01:27.101Z"
   },
   {
    "duration": 116,
    "start_time": "2023-12-09T06:01:27.105Z"
   },
   {
    "duration": 0,
    "start_time": "2023-12-09T06:01:27.223Z"
   },
   {
    "duration": 0,
    "start_time": "2023-12-09T06:01:27.223Z"
   },
   {
    "duration": 0,
    "start_time": "2023-12-09T06:01:27.224Z"
   },
   {
    "duration": 0,
    "start_time": "2023-12-09T06:01:27.225Z"
   },
   {
    "duration": 0,
    "start_time": "2023-12-09T06:01:27.226Z"
   },
   {
    "duration": 0,
    "start_time": "2023-12-09T06:01:27.226Z"
   },
   {
    "duration": 0,
    "start_time": "2023-12-09T06:01:27.227Z"
   },
   {
    "duration": 0,
    "start_time": "2023-12-09T06:01:27.227Z"
   },
   {
    "duration": 0,
    "start_time": "2023-12-09T06:01:27.229Z"
   },
   {
    "duration": 1093,
    "start_time": "2023-12-09T06:02:41.597Z"
   },
   {
    "duration": 16,
    "start_time": "2023-12-09T06:02:42.691Z"
   },
   {
    "duration": 12,
    "start_time": "2023-12-09T06:02:42.709Z"
   },
   {
    "duration": 8,
    "start_time": "2023-12-09T06:02:42.723Z"
   },
   {
    "duration": 26,
    "start_time": "2023-12-09T06:02:42.733Z"
   },
   {
    "duration": 2,
    "start_time": "2023-12-09T06:02:42.761Z"
   },
   {
    "duration": 7,
    "start_time": "2023-12-09T06:02:42.765Z"
   },
   {
    "duration": 4,
    "start_time": "2023-12-09T06:02:42.773Z"
   },
   {
    "duration": 37,
    "start_time": "2023-12-09T06:02:42.778Z"
   },
   {
    "duration": 3,
    "start_time": "2023-12-09T06:02:42.818Z"
   },
   {
    "duration": 33,
    "start_time": "2023-12-09T06:02:42.822Z"
   },
   {
    "duration": 8,
    "start_time": "2023-12-09T06:02:42.856Z"
   },
   {
    "duration": 3,
    "start_time": "2023-12-09T06:02:42.866Z"
   },
   {
    "duration": 10,
    "start_time": "2023-12-09T06:02:42.871Z"
   },
   {
    "duration": 42,
    "start_time": "2023-12-09T06:02:42.882Z"
   },
   {
    "duration": 14,
    "start_time": "2023-12-09T06:02:42.926Z"
   },
   {
    "duration": 3,
    "start_time": "2023-12-09T06:02:42.941Z"
   },
   {
    "duration": 11,
    "start_time": "2023-12-09T06:02:42.945Z"
   },
   {
    "duration": 5,
    "start_time": "2023-12-09T06:02:42.957Z"
   },
   {
    "duration": 5,
    "start_time": "2023-12-09T06:02:42.963Z"
   },
   {
    "duration": 14,
    "start_time": "2023-12-09T06:02:42.969Z"
   },
   {
    "duration": 11,
    "start_time": "2023-12-09T06:02:42.984Z"
   },
   {
    "duration": 7,
    "start_time": "2023-12-09T06:02:42.996Z"
   },
   {
    "duration": 21,
    "start_time": "2023-12-09T06:02:43.004Z"
   },
   {
    "duration": 5,
    "start_time": "2023-12-09T06:02:43.027Z"
   },
   {
    "duration": 56,
    "start_time": "2023-12-09T06:02:43.033Z"
   },
   {
    "duration": 167,
    "start_time": "2023-12-09T06:02:43.090Z"
   },
   {
    "duration": 6,
    "start_time": "2023-12-09T06:02:43.260Z"
   },
   {
    "duration": 26,
    "start_time": "2023-12-09T06:02:43.267Z"
   },
   {
    "duration": 173,
    "start_time": "2023-12-09T06:02:43.294Z"
   },
   {
    "duration": 24,
    "start_time": "2023-12-09T06:02:43.469Z"
   },
   {
    "duration": 145,
    "start_time": "2023-12-09T06:02:43.495Z"
   },
   {
    "duration": 5,
    "start_time": "2023-12-09T06:02:43.642Z"
   },
   {
    "duration": 31,
    "start_time": "2023-12-09T06:02:43.649Z"
   },
   {
    "duration": 165,
    "start_time": "2023-12-09T06:02:43.682Z"
   },
   {
    "duration": 1174,
    "start_time": "2023-12-09T06:12:11.808Z"
   },
   {
    "duration": 15,
    "start_time": "2023-12-09T06:12:12.984Z"
   },
   {
    "duration": 48,
    "start_time": "2023-12-09T06:12:13.000Z"
   },
   {
    "duration": 7,
    "start_time": "2023-12-09T06:12:13.049Z"
   },
   {
    "duration": 41,
    "start_time": "2023-12-09T06:12:13.057Z"
   },
   {
    "duration": 2,
    "start_time": "2023-12-09T06:12:13.099Z"
   },
   {
    "duration": 12,
    "start_time": "2023-12-09T06:12:13.103Z"
   },
   {
    "duration": 3,
    "start_time": "2023-12-09T06:12:13.116Z"
   },
   {
    "duration": 5,
    "start_time": "2023-12-09T06:12:13.120Z"
   },
   {
    "duration": 3,
    "start_time": "2023-12-09T06:12:13.127Z"
   },
   {
    "duration": 33,
    "start_time": "2023-12-09T06:12:13.131Z"
   },
   {
    "duration": 9,
    "start_time": "2023-12-09T06:12:13.165Z"
   },
   {
    "duration": 5,
    "start_time": "2023-12-09T06:12:13.175Z"
   },
   {
    "duration": 14,
    "start_time": "2023-12-09T06:12:13.181Z"
   },
   {
    "duration": 30,
    "start_time": "2023-12-09T06:12:13.196Z"
   },
   {
    "duration": 14,
    "start_time": "2023-12-09T06:12:13.227Z"
   },
   {
    "duration": 2,
    "start_time": "2023-12-09T06:12:13.242Z"
   },
   {
    "duration": 9,
    "start_time": "2023-12-09T06:12:13.245Z"
   },
   {
    "duration": 25,
    "start_time": "2023-12-09T06:12:13.255Z"
   },
   {
    "duration": 3,
    "start_time": "2023-12-09T06:12:13.281Z"
   },
   {
    "duration": 10,
    "start_time": "2023-12-09T06:12:13.285Z"
   },
   {
    "duration": 7,
    "start_time": "2023-12-09T06:12:13.296Z"
   },
   {
    "duration": 4,
    "start_time": "2023-12-09T06:12:13.304Z"
   },
   {
    "duration": 13,
    "start_time": "2023-12-09T06:12:13.314Z"
   },
   {
    "duration": 3,
    "start_time": "2023-12-09T06:12:13.328Z"
   },
   {
    "duration": 18,
    "start_time": "2023-12-09T06:12:13.332Z"
   },
   {
    "duration": 165,
    "start_time": "2023-12-09T06:12:13.351Z"
   },
   {
    "duration": 6,
    "start_time": "2023-12-09T06:12:13.518Z"
   },
   {
    "duration": 66,
    "start_time": "2023-12-09T06:12:13.525Z"
   },
   {
    "duration": 164,
    "start_time": "2023-12-09T06:12:13.592Z"
   },
   {
    "duration": 23,
    "start_time": "2023-12-09T06:12:13.757Z"
   },
   {
    "duration": 144,
    "start_time": "2023-12-09T06:12:13.781Z"
   },
   {
    "duration": 5,
    "start_time": "2023-12-09T06:12:13.927Z"
   },
   {
    "duration": 33,
    "start_time": "2023-12-09T06:12:13.933Z"
   },
   {
    "duration": 155,
    "start_time": "2023-12-09T06:12:13.967Z"
   },
   {
    "duration": 1122,
    "start_time": "2023-12-09T06:13:35.662Z"
   },
   {
    "duration": 15,
    "start_time": "2023-12-09T06:13:36.785Z"
   },
   {
    "duration": 12,
    "start_time": "2023-12-09T06:13:36.801Z"
   },
   {
    "duration": 7,
    "start_time": "2023-12-09T06:13:36.815Z"
   },
   {
    "duration": 29,
    "start_time": "2023-12-09T06:13:36.823Z"
   },
   {
    "duration": 2,
    "start_time": "2023-12-09T06:13:36.854Z"
   },
   {
    "duration": 12,
    "start_time": "2023-12-09T06:13:36.857Z"
   },
   {
    "duration": 17,
    "start_time": "2023-12-09T06:13:36.870Z"
   },
   {
    "duration": 18,
    "start_time": "2023-12-09T06:13:36.888Z"
   },
   {
    "duration": 18,
    "start_time": "2023-12-09T06:13:36.909Z"
   },
   {
    "duration": 26,
    "start_time": "2023-12-09T06:13:36.928Z"
   },
   {
    "duration": 7,
    "start_time": "2023-12-09T06:13:36.955Z"
   },
   {
    "duration": 8,
    "start_time": "2023-12-09T06:13:36.963Z"
   },
   {
    "duration": 13,
    "start_time": "2023-12-09T06:13:36.972Z"
   },
   {
    "duration": 19,
    "start_time": "2023-12-09T06:13:36.986Z"
   },
   {
    "duration": 13,
    "start_time": "2023-12-09T06:13:37.007Z"
   },
   {
    "duration": 3,
    "start_time": "2023-12-09T06:13:37.021Z"
   },
   {
    "duration": 25,
    "start_time": "2023-12-09T06:13:37.025Z"
   },
   {
    "duration": 21,
    "start_time": "2023-12-09T06:13:37.051Z"
   },
   {
    "duration": 3,
    "start_time": "2023-12-09T06:13:37.075Z"
   },
   {
    "duration": 19,
    "start_time": "2023-12-09T06:13:37.079Z"
   },
   {
    "duration": 10,
    "start_time": "2023-12-09T06:13:37.100Z"
   },
   {
    "duration": 15,
    "start_time": "2023-12-09T06:13:37.111Z"
   },
   {
    "duration": 23,
    "start_time": "2023-12-09T06:13:37.127Z"
   },
   {
    "duration": 3,
    "start_time": "2023-12-09T06:13:37.151Z"
   },
   {
    "duration": 6,
    "start_time": "2023-12-09T06:13:37.156Z"
   },
   {
    "duration": 71,
    "start_time": "2023-12-09T06:13:37.163Z"
   },
   {
    "duration": 146,
    "start_time": "2023-12-09T06:13:37.237Z"
   },
   {
    "duration": 6,
    "start_time": "2023-12-09T06:13:37.384Z"
   },
   {
    "duration": 34,
    "start_time": "2023-12-09T06:13:37.391Z"
   },
   {
    "duration": 160,
    "start_time": "2023-12-09T06:13:37.426Z"
   },
   {
    "duration": 29,
    "start_time": "2023-12-09T06:13:37.588Z"
   },
   {
    "duration": 136,
    "start_time": "2023-12-09T06:13:37.618Z"
   },
   {
    "duration": 6,
    "start_time": "2023-12-09T06:13:37.755Z"
   },
   {
    "duration": 32,
    "start_time": "2023-12-09T06:13:37.762Z"
   },
   {
    "duration": 161,
    "start_time": "2023-12-09T06:13:37.795Z"
   },
   {
    "duration": 1144,
    "start_time": "2023-12-09T06:24:18.446Z"
   },
   {
    "duration": 15,
    "start_time": "2023-12-09T06:24:19.591Z"
   },
   {
    "duration": 12,
    "start_time": "2023-12-09T06:24:19.607Z"
   },
   {
    "duration": 7,
    "start_time": "2023-12-09T06:24:19.620Z"
   },
   {
    "duration": 49,
    "start_time": "2023-12-09T06:24:19.628Z"
   },
   {
    "duration": 3,
    "start_time": "2023-12-09T06:24:19.678Z"
   },
   {
    "duration": 15,
    "start_time": "2023-12-09T06:24:19.682Z"
   },
   {
    "duration": 6,
    "start_time": "2023-12-09T06:24:19.698Z"
   },
   {
    "duration": 10,
    "start_time": "2023-12-09T06:24:19.705Z"
   },
   {
    "duration": 8,
    "start_time": "2023-12-09T06:24:19.717Z"
   },
   {
    "duration": 47,
    "start_time": "2023-12-09T06:24:19.726Z"
   },
   {
    "duration": 8,
    "start_time": "2023-12-09T06:24:19.774Z"
   },
   {
    "duration": 3,
    "start_time": "2023-12-09T06:24:19.783Z"
   },
   {
    "duration": 8,
    "start_time": "2023-12-09T06:24:19.787Z"
   },
   {
    "duration": 17,
    "start_time": "2023-12-09T06:24:19.796Z"
   },
   {
    "duration": 14,
    "start_time": "2023-12-09T06:24:19.814Z"
   },
   {
    "duration": 3,
    "start_time": "2023-12-09T06:24:19.829Z"
   },
   {
    "duration": 17,
    "start_time": "2023-12-09T06:24:19.833Z"
   },
   {
    "duration": 4,
    "start_time": "2023-12-09T06:24:19.851Z"
   },
   {
    "duration": 3,
    "start_time": "2023-12-09T06:24:19.857Z"
   },
   {
    "duration": 9,
    "start_time": "2023-12-09T06:24:19.861Z"
   },
   {
    "duration": 4,
    "start_time": "2023-12-09T06:24:19.871Z"
   },
   {
    "duration": 4,
    "start_time": "2023-12-09T06:24:19.876Z"
   },
   {
    "duration": 37,
    "start_time": "2023-12-09T06:24:19.881Z"
   },
   {
    "duration": 3,
    "start_time": "2023-12-09T06:24:19.919Z"
   },
   {
    "duration": 8,
    "start_time": "2023-12-09T06:24:19.923Z"
   },
   {
    "duration": 61,
    "start_time": "2023-12-09T06:24:19.932Z"
   },
   {
    "duration": 3,
    "start_time": "2023-12-09T06:24:19.995Z"
   },
   {
    "duration": 160,
    "start_time": "2023-12-09T06:24:19.999Z"
   },
   {
    "duration": 6,
    "start_time": "2023-12-09T06:24:20.160Z"
   },
   {
    "duration": 28,
    "start_time": "2023-12-09T06:24:20.168Z"
   },
   {
    "duration": 197,
    "start_time": "2023-12-09T06:24:20.197Z"
   },
   {
    "duration": 36,
    "start_time": "2023-12-09T06:24:20.395Z"
   },
   {
    "duration": 369,
    "start_time": "2023-12-09T06:24:20.432Z"
   },
   {
    "duration": 313,
    "start_time": "2023-12-09T06:24:20.802Z"
   },
   {
    "duration": 32,
    "start_time": "2023-12-09T06:24:21.117Z"
   },
   {
    "duration": 161,
    "start_time": "2023-12-09T06:24:21.150Z"
   },
   {
    "duration": 1131,
    "start_time": "2023-12-09T06:25:23.117Z"
   },
   {
    "duration": 15,
    "start_time": "2023-12-09T06:25:24.250Z"
   },
   {
    "duration": 11,
    "start_time": "2023-12-09T06:25:24.267Z"
   },
   {
    "duration": 8,
    "start_time": "2023-12-09T06:25:24.279Z"
   },
   {
    "duration": 45,
    "start_time": "2023-12-09T06:25:24.288Z"
   },
   {
    "duration": 2,
    "start_time": "2023-12-09T06:25:24.334Z"
   },
   {
    "duration": 9,
    "start_time": "2023-12-09T06:25:24.337Z"
   },
   {
    "duration": 3,
    "start_time": "2023-12-09T06:25:24.347Z"
   },
   {
    "duration": 8,
    "start_time": "2023-12-09T06:25:24.351Z"
   },
   {
    "duration": 3,
    "start_time": "2023-12-09T06:25:24.361Z"
   },
   {
    "duration": 26,
    "start_time": "2023-12-09T06:25:24.365Z"
   },
   {
    "duration": 25,
    "start_time": "2023-12-09T06:25:24.393Z"
   },
   {
    "duration": 3,
    "start_time": "2023-12-09T06:25:24.419Z"
   },
   {
    "duration": 14,
    "start_time": "2023-12-09T06:25:24.423Z"
   },
   {
    "duration": 16,
    "start_time": "2023-12-09T06:25:24.438Z"
   },
   {
    "duration": 13,
    "start_time": "2023-12-09T06:25:24.456Z"
   },
   {
    "duration": 3,
    "start_time": "2023-12-09T06:25:24.470Z"
   },
   {
    "duration": 24,
    "start_time": "2023-12-09T06:25:24.474Z"
   },
   {
    "duration": 16,
    "start_time": "2023-12-09T06:25:24.499Z"
   },
   {
    "duration": 4,
    "start_time": "2023-12-09T06:25:24.516Z"
   },
   {
    "duration": 7,
    "start_time": "2023-12-09T06:25:24.522Z"
   },
   {
    "duration": 3,
    "start_time": "2023-12-09T06:25:24.531Z"
   },
   {
    "duration": 5,
    "start_time": "2023-12-09T06:25:24.535Z"
   },
   {
    "duration": 22,
    "start_time": "2023-12-09T06:25:24.541Z"
   },
   {
    "duration": 4,
    "start_time": "2023-12-09T06:25:24.564Z"
   },
   {
    "duration": 4,
    "start_time": "2023-12-09T06:25:24.569Z"
   },
   {
    "duration": 76,
    "start_time": "2023-12-09T06:25:24.574Z"
   },
   {
    "duration": 3,
    "start_time": "2023-12-09T06:25:24.653Z"
   },
   {
    "duration": 240,
    "start_time": "2023-12-09T06:25:24.657Z"
   },
   {
    "duration": 0,
    "start_time": "2023-12-09T06:25:24.899Z"
   },
   {
    "duration": 0,
    "start_time": "2023-12-09T06:25:24.900Z"
   },
   {
    "duration": 0,
    "start_time": "2023-12-09T06:25:24.901Z"
   },
   {
    "duration": 0,
    "start_time": "2023-12-09T06:25:24.915Z"
   },
   {
    "duration": 0,
    "start_time": "2023-12-09T06:25:24.916Z"
   },
   {
    "duration": 0,
    "start_time": "2023-12-09T06:25:24.916Z"
   },
   {
    "duration": 0,
    "start_time": "2023-12-09T06:25:24.917Z"
   },
   {
    "duration": 0,
    "start_time": "2023-12-09T06:25:24.918Z"
   },
   {
    "duration": 1112,
    "start_time": "2023-12-09T06:27:53.160Z"
   },
   {
    "duration": 16,
    "start_time": "2023-12-09T06:27:54.273Z"
   },
   {
    "duration": 12,
    "start_time": "2023-12-09T06:27:54.290Z"
   },
   {
    "duration": 8,
    "start_time": "2023-12-09T06:27:54.303Z"
   },
   {
    "duration": 32,
    "start_time": "2023-12-09T06:27:54.312Z"
   },
   {
    "duration": 2,
    "start_time": "2023-12-09T06:27:54.346Z"
   },
   {
    "duration": 7,
    "start_time": "2023-12-09T06:27:54.349Z"
   },
   {
    "duration": 3,
    "start_time": "2023-12-09T06:27:54.357Z"
   },
   {
    "duration": 6,
    "start_time": "2023-12-09T06:27:54.361Z"
   },
   {
    "duration": 3,
    "start_time": "2023-12-09T06:27:54.369Z"
   },
   {
    "duration": 26,
    "start_time": "2023-12-09T06:27:54.373Z"
   },
   {
    "duration": 7,
    "start_time": "2023-12-09T06:27:54.415Z"
   },
   {
    "duration": 3,
    "start_time": "2023-12-09T06:27:54.423Z"
   },
   {
    "duration": 11,
    "start_time": "2023-12-09T06:27:54.427Z"
   },
   {
    "duration": 17,
    "start_time": "2023-12-09T06:27:54.439Z"
   },
   {
    "duration": 13,
    "start_time": "2023-12-09T06:27:54.457Z"
   },
   {
    "duration": 3,
    "start_time": "2023-12-09T06:27:54.471Z"
   },
   {
    "duration": 9,
    "start_time": "2023-12-09T06:27:54.475Z"
   },
   {
    "duration": 30,
    "start_time": "2023-12-09T06:27:54.486Z"
   },
   {
    "duration": 3,
    "start_time": "2023-12-09T06:27:54.517Z"
   },
   {
    "duration": 8,
    "start_time": "2023-12-09T06:27:54.521Z"
   },
   {
    "duration": 5,
    "start_time": "2023-12-09T06:27:54.530Z"
   },
   {
    "duration": 5,
    "start_time": "2023-12-09T06:27:54.536Z"
   },
   {
    "duration": 15,
    "start_time": "2023-12-09T06:27:54.542Z"
   },
   {
    "duration": 3,
    "start_time": "2023-12-09T06:27:54.558Z"
   },
   {
    "duration": 4,
    "start_time": "2023-12-09T06:27:54.562Z"
   },
   {
    "duration": 72,
    "start_time": "2023-12-09T06:27:54.567Z"
   },
   {
    "duration": 3,
    "start_time": "2023-12-09T06:27:54.642Z"
   },
   {
    "duration": 158,
    "start_time": "2023-12-09T06:27:54.646Z"
   },
   {
    "duration": 5,
    "start_time": "2023-12-09T06:27:54.805Z"
   },
   {
    "duration": 25,
    "start_time": "2023-12-09T06:27:54.815Z"
   },
   {
    "duration": 166,
    "start_time": "2023-12-09T06:27:54.841Z"
   },
   {
    "duration": 26,
    "start_time": "2023-12-09T06:27:55.008Z"
   },
   {
    "duration": 140,
    "start_time": "2023-12-09T06:27:55.035Z"
   },
   {
    "duration": 7,
    "start_time": "2023-12-09T06:27:55.176Z"
   },
   {
    "duration": 42,
    "start_time": "2023-12-09T06:27:55.185Z"
   },
   {
    "duration": 153,
    "start_time": "2023-12-09T06:27:55.228Z"
   },
   {
    "duration": 25,
    "start_time": "2023-12-09T06:28:51.353Z"
   },
   {
    "duration": 1102,
    "start_time": "2023-12-09T06:28:56.885Z"
   },
   {
    "duration": 15,
    "start_time": "2023-12-09T06:28:57.988Z"
   },
   {
    "duration": 11,
    "start_time": "2023-12-09T06:28:58.005Z"
   },
   {
    "duration": 8,
    "start_time": "2023-12-09T06:28:58.017Z"
   },
   {
    "duration": 31,
    "start_time": "2023-12-09T06:28:58.026Z"
   },
   {
    "duration": 3,
    "start_time": "2023-12-09T06:28:58.058Z"
   },
   {
    "duration": 10,
    "start_time": "2023-12-09T06:28:58.062Z"
   },
   {
    "duration": 4,
    "start_time": "2023-12-09T06:28:58.073Z"
   },
   {
    "duration": 6,
    "start_time": "2023-12-09T06:28:58.078Z"
   },
   {
    "duration": 2,
    "start_time": "2023-12-09T06:28:58.087Z"
   },
   {
    "duration": 43,
    "start_time": "2023-12-09T06:28:58.091Z"
   },
   {
    "duration": 6,
    "start_time": "2023-12-09T06:28:58.136Z"
   },
   {
    "duration": 5,
    "start_time": "2023-12-09T06:28:58.144Z"
   },
   {
    "duration": 10,
    "start_time": "2023-12-09T06:28:58.150Z"
   },
   {
    "duration": 17,
    "start_time": "2023-12-09T06:28:58.161Z"
   },
   {
    "duration": 18,
    "start_time": "2023-12-09T06:28:58.179Z"
   },
   {
    "duration": 18,
    "start_time": "2023-12-09T06:28:58.198Z"
   },
   {
    "duration": 8,
    "start_time": "2023-12-09T06:28:58.217Z"
   },
   {
    "duration": 6,
    "start_time": "2023-12-09T06:28:58.227Z"
   },
   {
    "duration": 3,
    "start_time": "2023-12-09T06:28:58.234Z"
   },
   {
    "duration": 14,
    "start_time": "2023-12-09T06:28:58.239Z"
   },
   {
    "duration": 6,
    "start_time": "2023-12-09T06:28:58.254Z"
   },
   {
    "duration": 4,
    "start_time": "2023-12-09T06:28:58.261Z"
   },
   {
    "duration": 14,
    "start_time": "2023-12-09T06:28:58.266Z"
   },
   {
    "duration": 3,
    "start_time": "2023-12-09T06:28:58.281Z"
   },
   {
    "duration": 3,
    "start_time": "2023-12-09T06:28:58.285Z"
   },
   {
    "duration": 57,
    "start_time": "2023-12-09T06:28:58.314Z"
   },
   {
    "duration": 3,
    "start_time": "2023-12-09T06:28:58.374Z"
   },
   {
    "duration": 160,
    "start_time": "2023-12-09T06:28:58.378Z"
   },
   {
    "duration": 5,
    "start_time": "2023-12-09T06:28:58.540Z"
   },
   {
    "duration": 41,
    "start_time": "2023-12-09T06:28:58.546Z"
   },
   {
    "duration": 163,
    "start_time": "2023-12-09T06:28:58.588Z"
   },
   {
    "duration": 24,
    "start_time": "2023-12-09T06:28:58.753Z"
   },
   {
    "duration": 142,
    "start_time": "2023-12-09T06:28:58.778Z"
   },
   {
    "duration": 5,
    "start_time": "2023-12-09T06:28:58.921Z"
   },
   {
    "duration": 35,
    "start_time": "2023-12-09T06:28:58.928Z"
   },
   {
    "duration": 158,
    "start_time": "2023-12-09T06:28:58.965Z"
   },
   {
    "duration": 1187,
    "start_time": "2023-12-09T06:31:29.657Z"
   },
   {
    "duration": 16,
    "start_time": "2023-12-09T06:31:30.846Z"
   },
   {
    "duration": 50,
    "start_time": "2023-12-09T06:31:30.865Z"
   },
   {
    "duration": 58,
    "start_time": "2023-12-09T06:31:30.916Z"
   },
   {
    "duration": 72,
    "start_time": "2023-12-09T06:31:30.975Z"
   },
   {
    "duration": 28,
    "start_time": "2023-12-09T06:31:31.048Z"
   },
   {
    "duration": 41,
    "start_time": "2023-12-09T06:31:31.077Z"
   },
   {
    "duration": 71,
    "start_time": "2023-12-09T06:31:31.120Z"
   },
   {
    "duration": 22,
    "start_time": "2023-12-09T06:31:31.194Z"
   },
   {
    "duration": 42,
    "start_time": "2023-12-09T06:31:31.217Z"
   },
   {
    "duration": 46,
    "start_time": "2023-12-09T06:31:31.260Z"
   },
   {
    "duration": 13,
    "start_time": "2023-12-09T06:31:31.307Z"
   },
   {
    "duration": 25,
    "start_time": "2023-12-09T06:31:31.321Z"
   },
   {
    "duration": 31,
    "start_time": "2023-12-09T06:31:31.347Z"
   },
   {
    "duration": 21,
    "start_time": "2023-12-09T06:31:31.380Z"
   },
   {
    "duration": 25,
    "start_time": "2023-12-09T06:31:31.403Z"
   },
   {
    "duration": 38,
    "start_time": "2023-12-09T06:31:31.430Z"
   },
   {
    "duration": 51,
    "start_time": "2023-12-09T06:31:31.469Z"
   },
   {
    "duration": 12,
    "start_time": "2023-12-09T06:31:31.521Z"
   },
   {
    "duration": 20,
    "start_time": "2023-12-09T06:31:31.534Z"
   },
   {
    "duration": 26,
    "start_time": "2023-12-09T06:31:31.555Z"
   },
   {
    "duration": 12,
    "start_time": "2023-12-09T06:31:31.582Z"
   },
   {
    "duration": 35,
    "start_time": "2023-12-09T06:31:31.595Z"
   },
   {
    "duration": 45,
    "start_time": "2023-12-09T06:31:31.631Z"
   },
   {
    "duration": 11,
    "start_time": "2023-12-09T06:31:31.677Z"
   },
   {
    "duration": 28,
    "start_time": "2023-12-09T06:31:31.689Z"
   },
   {
    "duration": 81,
    "start_time": "2023-12-09T06:31:31.719Z"
   },
   {
    "duration": 4,
    "start_time": "2023-12-09T06:31:31.802Z"
   },
   {
    "duration": 160,
    "start_time": "2023-12-09T06:31:31.807Z"
   },
   {
    "duration": 6,
    "start_time": "2023-12-09T06:31:31.968Z"
   },
   {
    "duration": 36,
    "start_time": "2023-12-09T06:31:31.975Z"
   },
   {
    "duration": 169,
    "start_time": "2023-12-09T06:31:32.013Z"
   },
   {
    "duration": 23,
    "start_time": "2023-12-09T06:31:32.184Z"
   },
   {
    "duration": 168,
    "start_time": "2023-12-09T06:31:32.208Z"
   },
   {
    "duration": 6,
    "start_time": "2023-12-09T06:31:32.377Z"
   },
   {
    "duration": 52,
    "start_time": "2023-12-09T06:31:32.384Z"
   },
   {
    "duration": 205,
    "start_time": "2023-12-09T06:31:32.437Z"
   },
   {
    "duration": 1104,
    "start_time": "2023-12-09T06:33:03.907Z"
   },
   {
    "duration": 16,
    "start_time": "2023-12-09T06:33:05.013Z"
   },
   {
    "duration": 12,
    "start_time": "2023-12-09T06:33:05.033Z"
   },
   {
    "duration": 14,
    "start_time": "2023-12-09T06:33:05.046Z"
   },
   {
    "duration": 28,
    "start_time": "2023-12-09T06:33:05.061Z"
   },
   {
    "duration": 2,
    "start_time": "2023-12-09T06:33:05.091Z"
   },
   {
    "duration": 29,
    "start_time": "2023-12-09T06:33:05.095Z"
   },
   {
    "duration": 7,
    "start_time": "2023-12-09T06:33:05.125Z"
   },
   {
    "duration": 14,
    "start_time": "2023-12-09T06:33:05.134Z"
   },
   {
    "duration": 4,
    "start_time": "2023-12-09T06:33:05.149Z"
   },
   {
    "duration": 30,
    "start_time": "2023-12-09T06:33:05.154Z"
   },
   {
    "duration": 8,
    "start_time": "2023-12-09T06:33:05.186Z"
   },
   {
    "duration": 10,
    "start_time": "2023-12-09T06:33:05.195Z"
   },
   {
    "duration": 26,
    "start_time": "2023-12-09T06:33:05.206Z"
   },
   {
    "duration": 24,
    "start_time": "2023-12-09T06:33:05.233Z"
   },
   {
    "duration": 17,
    "start_time": "2023-12-09T06:33:05.259Z"
   },
   {
    "duration": 3,
    "start_time": "2023-12-09T06:33:05.277Z"
   },
   {
    "duration": 13,
    "start_time": "2023-12-09T06:33:05.282Z"
   },
   {
    "duration": 20,
    "start_time": "2023-12-09T06:33:05.296Z"
   },
   {
    "duration": 19,
    "start_time": "2023-12-09T06:33:05.318Z"
   },
   {
    "duration": 28,
    "start_time": "2023-12-09T06:33:05.338Z"
   },
   {
    "duration": 5,
    "start_time": "2023-12-09T06:33:05.368Z"
   },
   {
    "duration": 7,
    "start_time": "2023-12-09T06:33:05.374Z"
   },
   {
    "duration": 17,
    "start_time": "2023-12-09T06:33:05.383Z"
   },
   {
    "duration": 3,
    "start_time": "2023-12-09T06:33:05.402Z"
   },
   {
    "duration": 3,
    "start_time": "2023-12-09T06:33:05.407Z"
   },
   {
    "duration": 57,
    "start_time": "2023-12-09T06:33:05.413Z"
   },
   {
    "duration": 3,
    "start_time": "2023-12-09T06:33:05.471Z"
   },
   {
    "duration": 165,
    "start_time": "2023-12-09T06:33:05.476Z"
   },
   {
    "duration": 6,
    "start_time": "2023-12-09T06:33:05.642Z"
   },
   {
    "duration": 35,
    "start_time": "2023-12-09T06:33:05.649Z"
   },
   {
    "duration": 160,
    "start_time": "2023-12-09T06:33:05.685Z"
   },
   {
    "duration": 24,
    "start_time": "2023-12-09T06:33:05.846Z"
   },
   {
    "duration": 146,
    "start_time": "2023-12-09T06:33:05.871Z"
   },
   {
    "duration": 5,
    "start_time": "2023-12-09T06:33:06.019Z"
   },
   {
    "duration": 29,
    "start_time": "2023-12-09T06:33:06.025Z"
   },
   {
    "duration": 170,
    "start_time": "2023-12-09T06:33:06.055Z"
   },
   {
    "duration": 1119,
    "start_time": "2023-12-09T06:34:27.278Z"
   },
   {
    "duration": 16,
    "start_time": "2023-12-09T06:34:28.398Z"
   },
   {
    "duration": 12,
    "start_time": "2023-12-09T06:34:28.416Z"
   },
   {
    "duration": 8,
    "start_time": "2023-12-09T06:34:28.429Z"
   },
   {
    "duration": 26,
    "start_time": "2023-12-09T06:34:28.438Z"
   },
   {
    "duration": 3,
    "start_time": "2023-12-09T06:34:28.465Z"
   },
   {
    "duration": 15,
    "start_time": "2023-12-09T06:34:28.469Z"
   },
   {
    "duration": 4,
    "start_time": "2023-12-09T06:34:28.485Z"
   },
   {
    "duration": 25,
    "start_time": "2023-12-09T06:34:28.490Z"
   },
   {
    "duration": 5,
    "start_time": "2023-12-09T06:34:28.516Z"
   },
   {
    "duration": 26,
    "start_time": "2023-12-09T06:34:28.522Z"
   },
   {
    "duration": 7,
    "start_time": "2023-12-09T06:34:28.549Z"
   },
   {
    "duration": 21,
    "start_time": "2023-12-09T06:34:28.557Z"
   },
   {
    "duration": 14,
    "start_time": "2023-12-09T06:34:28.581Z"
   },
   {
    "duration": 16,
    "start_time": "2023-12-09T06:34:28.596Z"
   },
   {
    "duration": 14,
    "start_time": "2023-12-09T06:34:28.614Z"
   },
   {
    "duration": 3,
    "start_time": "2023-12-09T06:34:28.629Z"
   },
   {
    "duration": 11,
    "start_time": "2023-12-09T06:34:28.633Z"
   },
   {
    "duration": 7,
    "start_time": "2023-12-09T06:34:28.645Z"
   },
   {
    "duration": 2,
    "start_time": "2023-12-09T06:34:28.654Z"
   },
   {
    "duration": 10,
    "start_time": "2023-12-09T06:34:28.657Z"
   },
   {
    "duration": 8,
    "start_time": "2023-12-09T06:34:28.668Z"
   },
   {
    "duration": 16,
    "start_time": "2023-12-09T06:34:28.677Z"
   },
   {
    "duration": 23,
    "start_time": "2023-12-09T06:34:28.694Z"
   },
   {
    "duration": 3,
    "start_time": "2023-12-09T06:34:28.718Z"
   },
   {
    "duration": 15,
    "start_time": "2023-12-09T06:34:28.723Z"
   },
   {
    "duration": 58,
    "start_time": "2023-12-09T06:34:28.739Z"
   },
   {
    "duration": 3,
    "start_time": "2023-12-09T06:34:28.798Z"
   },
   {
    "duration": 96,
    "start_time": "2023-12-09T06:34:28.802Z"
   },
   {
    "duration": 0,
    "start_time": "2023-12-09T06:34:28.899Z"
   },
   {
    "duration": 0,
    "start_time": "2023-12-09T06:34:28.901Z"
   },
   {
    "duration": 0,
    "start_time": "2023-12-09T06:34:28.902Z"
   },
   {
    "duration": 0,
    "start_time": "2023-12-09T06:34:28.902Z"
   },
   {
    "duration": 0,
    "start_time": "2023-12-09T06:34:28.903Z"
   },
   {
    "duration": 0,
    "start_time": "2023-12-09T06:34:28.904Z"
   },
   {
    "duration": 0,
    "start_time": "2023-12-09T06:34:28.905Z"
   },
   {
    "duration": 0,
    "start_time": "2023-12-09T06:34:28.915Z"
   },
   {
    "duration": 7,
    "start_time": "2023-12-09T06:37:04.886Z"
   },
   {
    "duration": 1182,
    "start_time": "2023-12-09T06:37:10.126Z"
   },
   {
    "duration": 16,
    "start_time": "2023-12-09T06:37:11.309Z"
   },
   {
    "duration": 11,
    "start_time": "2023-12-09T06:37:11.326Z"
   },
   {
    "duration": 7,
    "start_time": "2023-12-09T06:37:11.339Z"
   },
   {
    "duration": 26,
    "start_time": "2023-12-09T06:37:11.347Z"
   },
   {
    "duration": 2,
    "start_time": "2023-12-09T06:37:11.374Z"
   },
   {
    "duration": 9,
    "start_time": "2023-12-09T06:37:11.377Z"
   },
   {
    "duration": 3,
    "start_time": "2023-12-09T06:37:11.387Z"
   },
   {
    "duration": 27,
    "start_time": "2023-12-09T06:37:11.391Z"
   },
   {
    "duration": 3,
    "start_time": "2023-12-09T06:37:11.420Z"
   },
   {
    "duration": 28,
    "start_time": "2023-12-09T06:37:11.424Z"
   },
   {
    "duration": 8,
    "start_time": "2023-12-09T06:37:11.453Z"
   },
   {
    "duration": 10,
    "start_time": "2023-12-09T06:37:11.462Z"
   },
   {
    "duration": 10,
    "start_time": "2023-12-09T06:37:11.473Z"
   },
   {
    "duration": 32,
    "start_time": "2023-12-09T06:37:11.484Z"
   },
   {
    "duration": 13,
    "start_time": "2023-12-09T06:37:11.517Z"
   },
   {
    "duration": 3,
    "start_time": "2023-12-09T06:37:11.531Z"
   },
   {
    "duration": 14,
    "start_time": "2023-12-09T06:37:11.535Z"
   },
   {
    "duration": 5,
    "start_time": "2023-12-09T06:37:11.550Z"
   },
   {
    "duration": 4,
    "start_time": "2023-12-09T06:37:11.556Z"
   },
   {
    "duration": 7,
    "start_time": "2023-12-09T06:37:11.561Z"
   },
   {
    "duration": 4,
    "start_time": "2023-12-09T06:37:11.569Z"
   },
   {
    "duration": 4,
    "start_time": "2023-12-09T06:37:11.574Z"
   },
   {
    "duration": 18,
    "start_time": "2023-12-09T06:37:11.579Z"
   },
   {
    "duration": 17,
    "start_time": "2023-12-09T06:37:11.598Z"
   },
   {
    "duration": 3,
    "start_time": "2023-12-09T06:37:11.617Z"
   },
   {
    "duration": 55,
    "start_time": "2023-12-09T06:37:11.621Z"
   },
   {
    "duration": 3,
    "start_time": "2023-12-09T06:37:11.678Z"
   },
   {
    "duration": 274,
    "start_time": "2023-12-09T06:37:11.682Z"
   },
   {
    "duration": 0,
    "start_time": "2023-12-09T06:37:11.957Z"
   },
   {
    "duration": 0,
    "start_time": "2023-12-09T06:37:11.959Z"
   },
   {
    "duration": 0,
    "start_time": "2023-12-09T06:37:11.960Z"
   },
   {
    "duration": 0,
    "start_time": "2023-12-09T06:37:11.961Z"
   },
   {
    "duration": 0,
    "start_time": "2023-12-09T06:37:11.962Z"
   },
   {
    "duration": 0,
    "start_time": "2023-12-09T06:37:11.963Z"
   },
   {
    "duration": 0,
    "start_time": "2023-12-09T06:37:11.964Z"
   },
   {
    "duration": 0,
    "start_time": "2023-12-09T06:37:11.965Z"
   },
   {
    "duration": 1147,
    "start_time": "2023-12-09T06:39:14.280Z"
   },
   {
    "duration": 16,
    "start_time": "2023-12-09T06:39:15.429Z"
   },
   {
    "duration": 19,
    "start_time": "2023-12-09T06:39:15.446Z"
   },
   {
    "duration": 12,
    "start_time": "2023-12-09T06:39:15.467Z"
   },
   {
    "duration": 48,
    "start_time": "2023-12-09T06:39:15.480Z"
   },
   {
    "duration": 3,
    "start_time": "2023-12-09T06:39:15.529Z"
   },
   {
    "duration": 11,
    "start_time": "2023-12-09T06:39:15.533Z"
   },
   {
    "duration": 3,
    "start_time": "2023-12-09T06:39:15.546Z"
   },
   {
    "duration": 7,
    "start_time": "2023-12-09T06:39:15.551Z"
   },
   {
    "duration": 4,
    "start_time": "2023-12-09T06:39:15.561Z"
   },
   {
    "duration": 50,
    "start_time": "2023-12-09T06:39:15.566Z"
   },
   {
    "duration": 8,
    "start_time": "2023-12-09T06:39:15.618Z"
   },
   {
    "duration": 5,
    "start_time": "2023-12-09T06:39:15.628Z"
   },
   {
    "duration": 22,
    "start_time": "2023-12-09T06:39:15.634Z"
   },
   {
    "duration": 29,
    "start_time": "2023-12-09T06:39:15.657Z"
   },
   {
    "duration": 14,
    "start_time": "2023-12-09T06:39:15.687Z"
   },
   {
    "duration": 8,
    "start_time": "2023-12-09T06:39:15.703Z"
   },
   {
    "duration": 10,
    "start_time": "2023-12-09T06:39:15.712Z"
   },
   {
    "duration": 5,
    "start_time": "2023-12-09T06:39:15.723Z"
   },
   {
    "duration": 12,
    "start_time": "2023-12-09T06:39:15.729Z"
   },
   {
    "duration": 15,
    "start_time": "2023-12-09T06:39:15.742Z"
   },
   {
    "duration": 4,
    "start_time": "2023-12-09T06:39:15.758Z"
   },
   {
    "duration": 4,
    "start_time": "2023-12-09T06:39:15.764Z"
   },
   {
    "duration": 55,
    "start_time": "2023-12-09T06:39:15.769Z"
   },
   {
    "duration": 3,
    "start_time": "2023-12-09T06:39:15.825Z"
   },
   {
    "duration": 17,
    "start_time": "2023-12-09T06:39:15.829Z"
   },
   {
    "duration": 80,
    "start_time": "2023-12-09T06:39:15.847Z"
   },
   {
    "duration": 4,
    "start_time": "2023-12-09T06:39:15.930Z"
   },
   {
    "duration": 251,
    "start_time": "2023-12-09T06:39:15.935Z"
   },
   {
    "duration": 0,
    "start_time": "2023-12-09T06:39:16.188Z"
   },
   {
    "duration": 0,
    "start_time": "2023-12-09T06:39:16.189Z"
   },
   {
    "duration": 0,
    "start_time": "2023-12-09T06:39:16.190Z"
   },
   {
    "duration": 0,
    "start_time": "2023-12-09T06:39:16.192Z"
   },
   {
    "duration": 0,
    "start_time": "2023-12-09T06:39:16.193Z"
   },
   {
    "duration": 0,
    "start_time": "2023-12-09T06:39:16.194Z"
   },
   {
    "duration": 0,
    "start_time": "2023-12-09T06:39:16.195Z"
   },
   {
    "duration": 0,
    "start_time": "2023-12-09T06:39:16.197Z"
   },
   {
    "duration": 1177,
    "start_time": "2023-12-09T06:39:52.332Z"
   },
   {
    "duration": 16,
    "start_time": "2023-12-09T06:39:53.510Z"
   },
   {
    "duration": 11,
    "start_time": "2023-12-09T06:39:53.527Z"
   },
   {
    "duration": 11,
    "start_time": "2023-12-09T06:39:53.540Z"
   },
   {
    "duration": 34,
    "start_time": "2023-12-09T06:39:53.552Z"
   },
   {
    "duration": 2,
    "start_time": "2023-12-09T06:39:53.588Z"
   },
   {
    "duration": 25,
    "start_time": "2023-12-09T06:39:53.591Z"
   },
   {
    "duration": 4,
    "start_time": "2023-12-09T06:39:53.617Z"
   },
   {
    "duration": 7,
    "start_time": "2023-12-09T06:39:53.622Z"
   },
   {
    "duration": 9,
    "start_time": "2023-12-09T06:39:53.631Z"
   },
   {
    "duration": 27,
    "start_time": "2023-12-09T06:39:53.641Z"
   },
   {
    "duration": 8,
    "start_time": "2023-12-09T06:39:53.669Z"
   },
   {
    "duration": 24,
    "start_time": "2023-12-09T06:39:53.678Z"
   },
   {
    "duration": 15,
    "start_time": "2023-12-09T06:39:53.703Z"
   },
   {
    "duration": 26,
    "start_time": "2023-12-09T06:39:53.719Z"
   },
   {
    "duration": 13,
    "start_time": "2023-12-09T06:39:53.746Z"
   },
   {
    "duration": 4,
    "start_time": "2023-12-09T06:39:53.760Z"
   },
   {
    "duration": 15,
    "start_time": "2023-12-09T06:39:53.766Z"
   },
   {
    "duration": 8,
    "start_time": "2023-12-09T06:39:53.782Z"
   },
   {
    "duration": 3,
    "start_time": "2023-12-09T06:39:53.791Z"
   },
   {
    "duration": 8,
    "start_time": "2023-12-09T06:39:53.795Z"
   },
   {
    "duration": 3,
    "start_time": "2023-12-09T06:39:53.804Z"
   },
   {
    "duration": 13,
    "start_time": "2023-12-09T06:39:53.808Z"
   },
   {
    "duration": 23,
    "start_time": "2023-12-09T06:39:53.822Z"
   },
   {
    "duration": 7,
    "start_time": "2023-12-09T06:39:53.846Z"
   },
   {
    "duration": 25,
    "start_time": "2023-12-09T06:39:53.855Z"
   },
   {
    "duration": 71,
    "start_time": "2023-12-09T06:39:53.881Z"
   },
   {
    "duration": 3,
    "start_time": "2023-12-09T06:39:53.954Z"
   },
   {
    "duration": 238,
    "start_time": "2023-12-09T06:39:53.958Z"
   },
   {
    "duration": 0,
    "start_time": "2023-12-09T06:39:54.198Z"
   },
   {
    "duration": 0,
    "start_time": "2023-12-09T06:39:54.199Z"
   },
   {
    "duration": 0,
    "start_time": "2023-12-09T06:39:54.199Z"
   },
   {
    "duration": 0,
    "start_time": "2023-12-09T06:39:54.200Z"
   },
   {
    "duration": 0,
    "start_time": "2023-12-09T06:39:54.215Z"
   },
   {
    "duration": 0,
    "start_time": "2023-12-09T06:39:54.216Z"
   },
   {
    "duration": 0,
    "start_time": "2023-12-09T06:39:54.216Z"
   },
   {
    "duration": 0,
    "start_time": "2023-12-09T06:39:54.217Z"
   },
   {
    "duration": 1111,
    "start_time": "2023-12-09T06:49:32.794Z"
   },
   {
    "duration": 16,
    "start_time": "2023-12-09T06:49:33.907Z"
   },
   {
    "duration": 12,
    "start_time": "2023-12-09T06:49:33.924Z"
   },
   {
    "duration": 20,
    "start_time": "2023-12-09T06:49:33.937Z"
   },
   {
    "duration": 28,
    "start_time": "2023-12-09T06:49:33.958Z"
   },
   {
    "duration": 3,
    "start_time": "2023-12-09T06:49:33.987Z"
   },
   {
    "duration": 9,
    "start_time": "2023-12-09T06:49:33.991Z"
   },
   {
    "duration": 3,
    "start_time": "2023-12-09T06:49:34.000Z"
   },
   {
    "duration": 12,
    "start_time": "2023-12-09T06:49:34.004Z"
   },
   {
    "duration": 3,
    "start_time": "2023-12-09T06:49:34.018Z"
   },
   {
    "duration": 28,
    "start_time": "2023-12-09T06:49:34.022Z"
   },
   {
    "duration": 7,
    "start_time": "2023-12-09T06:49:34.051Z"
   },
   {
    "duration": 4,
    "start_time": "2023-12-09T06:49:34.059Z"
   },
   {
    "duration": 9,
    "start_time": "2023-12-09T06:49:34.064Z"
   },
   {
    "duration": 16,
    "start_time": "2023-12-09T06:49:34.074Z"
   },
   {
    "duration": 34,
    "start_time": "2023-12-09T06:49:34.092Z"
   },
   {
    "duration": 2,
    "start_time": "2023-12-09T06:49:34.128Z"
   },
   {
    "duration": 12,
    "start_time": "2023-12-09T06:49:34.131Z"
   },
   {
    "duration": 12,
    "start_time": "2023-12-09T06:49:34.144Z"
   },
   {
    "duration": 4,
    "start_time": "2023-12-09T06:49:34.157Z"
   },
   {
    "duration": 8,
    "start_time": "2023-12-09T06:49:34.162Z"
   },
   {
    "duration": 17,
    "start_time": "2023-12-09T06:49:34.171Z"
   },
   {
    "duration": 5,
    "start_time": "2023-12-09T06:49:34.189Z"
   },
   {
    "duration": 18,
    "start_time": "2023-12-09T06:49:34.195Z"
   },
   {
    "duration": 3,
    "start_time": "2023-12-09T06:49:34.214Z"
   },
   {
    "duration": 3,
    "start_time": "2023-12-09T06:49:34.218Z"
   },
   {
    "duration": 56,
    "start_time": "2023-12-09T06:49:34.222Z"
   },
   {
    "duration": 74,
    "start_time": "2023-12-09T06:49:34.280Z"
   },
   {
    "duration": 0,
    "start_time": "2023-12-09T06:49:34.356Z"
   },
   {
    "duration": 0,
    "start_time": "2023-12-09T06:49:34.357Z"
   },
   {
    "duration": 0,
    "start_time": "2023-12-09T06:49:34.358Z"
   },
   {
    "duration": 0,
    "start_time": "2023-12-09T06:49:34.359Z"
   },
   {
    "duration": 0,
    "start_time": "2023-12-09T06:49:34.360Z"
   },
   {
    "duration": 0,
    "start_time": "2023-12-09T06:49:34.360Z"
   },
   {
    "duration": 0,
    "start_time": "2023-12-09T06:49:34.362Z"
   },
   {
    "duration": 0,
    "start_time": "2023-12-09T06:49:34.362Z"
   },
   {
    "duration": 0,
    "start_time": "2023-12-09T06:49:34.364Z"
   },
   {
    "duration": 1160,
    "start_time": "2023-12-09T06:50:48.504Z"
   },
   {
    "duration": 17,
    "start_time": "2023-12-09T06:50:49.665Z"
   },
   {
    "duration": 12,
    "start_time": "2023-12-09T06:50:49.683Z"
   },
   {
    "duration": 8,
    "start_time": "2023-12-09T06:50:49.697Z"
   },
   {
    "duration": 34,
    "start_time": "2023-12-09T06:50:49.706Z"
   },
   {
    "duration": 2,
    "start_time": "2023-12-09T06:50:49.742Z"
   },
   {
    "duration": 8,
    "start_time": "2023-12-09T06:50:49.746Z"
   },
   {
    "duration": 3,
    "start_time": "2023-12-09T06:50:49.756Z"
   },
   {
    "duration": 5,
    "start_time": "2023-12-09T06:50:49.760Z"
   },
   {
    "duration": 3,
    "start_time": "2023-12-09T06:50:49.768Z"
   },
   {
    "duration": 53,
    "start_time": "2023-12-09T06:50:49.773Z"
   },
   {
    "duration": 8,
    "start_time": "2023-12-09T06:50:49.827Z"
   },
   {
    "duration": 7,
    "start_time": "2023-12-09T06:50:49.836Z"
   },
   {
    "duration": 12,
    "start_time": "2023-12-09T06:50:49.845Z"
   },
   {
    "duration": 22,
    "start_time": "2023-12-09T06:50:49.858Z"
   },
   {
    "duration": 13,
    "start_time": "2023-12-09T06:50:49.881Z"
   },
   {
    "duration": 3,
    "start_time": "2023-12-09T06:50:49.895Z"
   },
   {
    "duration": 24,
    "start_time": "2023-12-09T06:50:49.899Z"
   },
   {
    "duration": 5,
    "start_time": "2023-12-09T06:50:49.924Z"
   },
   {
    "duration": 7,
    "start_time": "2023-12-09T06:50:49.930Z"
   },
   {
    "duration": 9,
    "start_time": "2023-12-09T06:50:49.938Z"
   },
   {
    "duration": 4,
    "start_time": "2023-12-09T06:50:49.948Z"
   },
   {
    "duration": 6,
    "start_time": "2023-12-09T06:50:49.953Z"
   },
   {
    "duration": 13,
    "start_time": "2023-12-09T06:50:49.960Z"
   },
   {
    "duration": 3,
    "start_time": "2023-12-09T06:50:49.974Z"
   },
   {
    "duration": 5,
    "start_time": "2023-12-09T06:50:49.978Z"
   },
   {
    "duration": 81,
    "start_time": "2023-12-09T06:50:49.984Z"
   },
   {
    "duration": 3,
    "start_time": "2023-12-09T06:50:50.068Z"
   },
   {
    "duration": 237,
    "start_time": "2023-12-09T06:50:50.072Z"
   },
   {
    "duration": 0,
    "start_time": "2023-12-09T06:50:50.310Z"
   },
   {
    "duration": 0,
    "start_time": "2023-12-09T06:50:50.311Z"
   },
   {
    "duration": 0,
    "start_time": "2023-12-09T06:50:50.312Z"
   },
   {
    "duration": 0,
    "start_time": "2023-12-09T06:50:50.314Z"
   },
   {
    "duration": 0,
    "start_time": "2023-12-09T06:50:50.316Z"
   },
   {
    "duration": 0,
    "start_time": "2023-12-09T06:50:50.317Z"
   },
   {
    "duration": 0,
    "start_time": "2023-12-09T06:50:50.317Z"
   },
   {
    "duration": 0,
    "start_time": "2023-12-09T06:50:50.318Z"
   },
   {
    "duration": 1125,
    "start_time": "2023-12-09T06:53:18.558Z"
   },
   {
    "duration": 15,
    "start_time": "2023-12-09T06:53:19.685Z"
   },
   {
    "duration": 12,
    "start_time": "2023-12-09T06:53:19.701Z"
   },
   {
    "duration": 7,
    "start_time": "2023-12-09T06:53:19.714Z"
   },
   {
    "duration": 40,
    "start_time": "2023-12-09T06:53:19.722Z"
   },
   {
    "duration": 3,
    "start_time": "2023-12-09T06:53:19.763Z"
   },
   {
    "duration": 17,
    "start_time": "2023-12-09T06:53:19.767Z"
   },
   {
    "duration": 3,
    "start_time": "2023-12-09T06:53:19.785Z"
   },
   {
    "duration": 9,
    "start_time": "2023-12-09T06:53:19.790Z"
   },
   {
    "duration": 18,
    "start_time": "2023-12-09T06:53:19.801Z"
   },
   {
    "duration": 33,
    "start_time": "2023-12-09T06:53:19.820Z"
   },
   {
    "duration": 8,
    "start_time": "2023-12-09T06:53:19.854Z"
   },
   {
    "duration": 3,
    "start_time": "2023-12-09T06:53:19.863Z"
   },
   {
    "duration": 12,
    "start_time": "2023-12-09T06:53:19.867Z"
   },
   {
    "duration": 16,
    "start_time": "2023-12-09T06:53:19.880Z"
   },
   {
    "duration": 23,
    "start_time": "2023-12-09T06:53:19.897Z"
   },
   {
    "duration": 2,
    "start_time": "2023-12-09T06:53:19.922Z"
   },
   {
    "duration": 12,
    "start_time": "2023-12-09T06:53:19.926Z"
   },
   {
    "duration": 13,
    "start_time": "2023-12-09T06:53:19.939Z"
   },
   {
    "duration": 5,
    "start_time": "2023-12-09T06:53:19.953Z"
   },
   {
    "duration": 25,
    "start_time": "2023-12-09T06:53:19.959Z"
   },
   {
    "duration": 4,
    "start_time": "2023-12-09T06:53:19.985Z"
   },
   {
    "duration": 15,
    "start_time": "2023-12-09T06:53:19.991Z"
   },
   {
    "duration": 37,
    "start_time": "2023-12-09T06:53:20.007Z"
   },
   {
    "duration": 16,
    "start_time": "2023-12-09T06:53:20.046Z"
   },
   {
    "duration": 26,
    "start_time": "2023-12-09T06:53:20.063Z"
   },
   {
    "duration": 61,
    "start_time": "2023-12-09T06:53:20.091Z"
   },
   {
    "duration": 3,
    "start_time": "2023-12-09T06:53:20.155Z"
   },
   {
    "duration": 256,
    "start_time": "2023-12-09T06:53:20.159Z"
   },
   {
    "duration": 0,
    "start_time": "2023-12-09T06:53:20.417Z"
   },
   {
    "duration": 0,
    "start_time": "2023-12-09T06:53:20.418Z"
   },
   {
    "duration": 0,
    "start_time": "2023-12-09T06:53:20.419Z"
   },
   {
    "duration": 0,
    "start_time": "2023-12-09T06:53:20.420Z"
   },
   {
    "duration": 0,
    "start_time": "2023-12-09T06:53:20.422Z"
   },
   {
    "duration": 0,
    "start_time": "2023-12-09T06:53:20.423Z"
   },
   {
    "duration": 0,
    "start_time": "2023-12-09T06:53:20.425Z"
   },
   {
    "duration": 0,
    "start_time": "2023-12-09T06:53:20.426Z"
   },
   {
    "duration": 1081,
    "start_time": "2023-12-09T06:53:51.408Z"
   },
   {
    "duration": 16,
    "start_time": "2023-12-09T06:53:52.490Z"
   },
   {
    "duration": 13,
    "start_time": "2023-12-09T06:53:52.507Z"
   },
   {
    "duration": 11,
    "start_time": "2023-12-09T06:53:52.522Z"
   },
   {
    "duration": 33,
    "start_time": "2023-12-09T06:53:52.534Z"
   },
   {
    "duration": 2,
    "start_time": "2023-12-09T06:53:52.568Z"
   },
   {
    "duration": 8,
    "start_time": "2023-12-09T06:53:52.571Z"
   },
   {
    "duration": 11,
    "start_time": "2023-12-09T06:53:52.580Z"
   },
   {
    "duration": 24,
    "start_time": "2023-12-09T06:53:52.593Z"
   },
   {
    "duration": 3,
    "start_time": "2023-12-09T06:53:52.620Z"
   },
   {
    "duration": 27,
    "start_time": "2023-12-09T06:53:52.625Z"
   },
   {
    "duration": 8,
    "start_time": "2023-12-09T06:53:52.654Z"
   },
   {
    "duration": 3,
    "start_time": "2023-12-09T06:53:52.663Z"
   },
   {
    "duration": 22,
    "start_time": "2023-12-09T06:53:52.667Z"
   },
   {
    "duration": 32,
    "start_time": "2023-12-09T06:53:52.690Z"
   },
   {
    "duration": 14,
    "start_time": "2023-12-09T06:53:52.723Z"
   },
   {
    "duration": 3,
    "start_time": "2023-12-09T06:53:52.738Z"
   },
   {
    "duration": 9,
    "start_time": "2023-12-09T06:53:52.743Z"
   },
   {
    "duration": 5,
    "start_time": "2023-12-09T06:53:52.754Z"
   },
   {
    "duration": 3,
    "start_time": "2023-12-09T06:53:52.761Z"
   },
   {
    "duration": 7,
    "start_time": "2023-12-09T06:53:52.766Z"
   },
   {
    "duration": 5,
    "start_time": "2023-12-09T06:53:52.774Z"
   },
   {
    "duration": 38,
    "start_time": "2023-12-09T06:53:52.780Z"
   },
   {
    "duration": 17,
    "start_time": "2023-12-09T06:53:52.819Z"
   },
   {
    "duration": 3,
    "start_time": "2023-12-09T06:53:52.838Z"
   },
   {
    "duration": 4,
    "start_time": "2023-12-09T06:53:52.842Z"
   },
   {
    "duration": 69,
    "start_time": "2023-12-09T06:53:52.847Z"
   },
   {
    "duration": 3,
    "start_time": "2023-12-09T06:53:52.919Z"
   },
   {
    "duration": 247,
    "start_time": "2023-12-09T06:53:52.923Z"
   },
   {
    "duration": 0,
    "start_time": "2023-12-09T06:53:53.171Z"
   },
   {
    "duration": 0,
    "start_time": "2023-12-09T06:53:53.172Z"
   },
   {
    "duration": 0,
    "start_time": "2023-12-09T06:53:53.173Z"
   },
   {
    "duration": 0,
    "start_time": "2023-12-09T06:53:53.174Z"
   },
   {
    "duration": 0,
    "start_time": "2023-12-09T06:53:53.175Z"
   },
   {
    "duration": 0,
    "start_time": "2023-12-09T06:53:53.176Z"
   },
   {
    "duration": 0,
    "start_time": "2023-12-09T06:53:53.178Z"
   },
   {
    "duration": 0,
    "start_time": "2023-12-09T06:53:53.179Z"
   },
   {
    "duration": 1109,
    "start_time": "2023-12-09T06:55:16.587Z"
   },
   {
    "duration": 15,
    "start_time": "2023-12-09T06:55:17.698Z"
   },
   {
    "duration": 20,
    "start_time": "2023-12-09T06:55:17.714Z"
   },
   {
    "duration": 8,
    "start_time": "2023-12-09T06:55:17.735Z"
   },
   {
    "duration": 27,
    "start_time": "2023-12-09T06:55:17.744Z"
   },
   {
    "duration": 2,
    "start_time": "2023-12-09T06:55:17.772Z"
   },
   {
    "duration": 37,
    "start_time": "2023-12-09T06:55:17.776Z"
   },
   {
    "duration": 8,
    "start_time": "2023-12-09T06:55:17.814Z"
   },
   {
    "duration": 7,
    "start_time": "2023-12-09T06:55:17.823Z"
   },
   {
    "duration": 4,
    "start_time": "2023-12-09T06:55:17.833Z"
   },
   {
    "duration": 32,
    "start_time": "2023-12-09T06:55:17.838Z"
   },
   {
    "duration": 7,
    "start_time": "2023-12-09T06:55:17.871Z"
   },
   {
    "duration": 10,
    "start_time": "2023-12-09T06:55:17.879Z"
   },
   {
    "duration": 14,
    "start_time": "2023-12-09T06:55:17.890Z"
   },
   {
    "duration": 29,
    "start_time": "2023-12-09T06:55:17.905Z"
   },
   {
    "duration": 14,
    "start_time": "2023-12-09T06:55:17.935Z"
   },
   {
    "duration": 3,
    "start_time": "2023-12-09T06:55:17.950Z"
   },
   {
    "duration": 15,
    "start_time": "2023-12-09T06:55:17.954Z"
   },
   {
    "duration": 12,
    "start_time": "2023-12-09T06:55:17.970Z"
   },
   {
    "duration": 4,
    "start_time": "2023-12-09T06:55:17.983Z"
   },
   {
    "duration": 7,
    "start_time": "2023-12-09T06:55:17.988Z"
   },
   {
    "duration": 3,
    "start_time": "2023-12-09T06:55:17.997Z"
   },
   {
    "duration": 3,
    "start_time": "2023-12-09T06:55:18.002Z"
   },
   {
    "duration": 13,
    "start_time": "2023-12-09T06:55:18.015Z"
   },
   {
    "duration": 3,
    "start_time": "2023-12-09T06:55:18.029Z"
   },
   {
    "duration": 5,
    "start_time": "2023-12-09T06:55:18.033Z"
   },
   {
    "duration": 59,
    "start_time": "2023-12-09T06:55:18.039Z"
   },
   {
    "duration": 3,
    "start_time": "2023-12-09T06:55:18.100Z"
   },
   {
    "duration": 225,
    "start_time": "2023-12-09T06:55:18.115Z"
   },
   {
    "duration": 0,
    "start_time": "2023-12-09T06:55:18.341Z"
   },
   {
    "duration": 0,
    "start_time": "2023-12-09T06:55:18.342Z"
   },
   {
    "duration": 0,
    "start_time": "2023-12-09T06:55:18.342Z"
   },
   {
    "duration": 0,
    "start_time": "2023-12-09T06:55:18.343Z"
   },
   {
    "duration": 0,
    "start_time": "2023-12-09T06:55:18.344Z"
   },
   {
    "duration": 0,
    "start_time": "2023-12-09T06:55:18.345Z"
   },
   {
    "duration": 0,
    "start_time": "2023-12-09T06:55:18.346Z"
   },
   {
    "duration": 0,
    "start_time": "2023-12-09T06:55:18.347Z"
   },
   {
    "duration": 1159,
    "start_time": "2023-12-09T06:56:26.920Z"
   },
   {
    "duration": 16,
    "start_time": "2023-12-09T06:56:28.081Z"
   },
   {
    "duration": 20,
    "start_time": "2023-12-09T06:56:28.098Z"
   },
   {
    "duration": 7,
    "start_time": "2023-12-09T06:56:28.119Z"
   },
   {
    "duration": 28,
    "start_time": "2023-12-09T06:56:28.127Z"
   },
   {
    "duration": 3,
    "start_time": "2023-12-09T06:56:28.156Z"
   },
   {
    "duration": 8,
    "start_time": "2023-12-09T06:56:28.160Z"
   },
   {
    "duration": 3,
    "start_time": "2023-12-09T06:56:28.169Z"
   },
   {
    "duration": 6,
    "start_time": "2023-12-09T06:56:28.173Z"
   },
   {
    "duration": 7,
    "start_time": "2023-12-09T06:56:28.181Z"
   },
   {
    "duration": 43,
    "start_time": "2023-12-09T06:56:28.189Z"
   },
   {
    "duration": 7,
    "start_time": "2023-12-09T06:56:28.233Z"
   },
   {
    "duration": 2,
    "start_time": "2023-12-09T06:56:28.241Z"
   },
   {
    "duration": 10,
    "start_time": "2023-12-09T06:56:28.244Z"
   },
   {
    "duration": 16,
    "start_time": "2023-12-09T06:56:28.255Z"
   },
   {
    "duration": 14,
    "start_time": "2023-12-09T06:56:28.272Z"
   },
   {
    "duration": 3,
    "start_time": "2023-12-09T06:56:28.287Z"
   },
   {
    "duration": 27,
    "start_time": "2023-12-09T06:56:28.291Z"
   },
   {
    "duration": 9,
    "start_time": "2023-12-09T06:56:28.319Z"
   },
   {
    "duration": 6,
    "start_time": "2023-12-09T06:56:28.329Z"
   },
   {
    "duration": 14,
    "start_time": "2023-12-09T06:56:28.336Z"
   },
   {
    "duration": 11,
    "start_time": "2023-12-09T06:56:28.351Z"
   },
   {
    "duration": 4,
    "start_time": "2023-12-09T06:56:28.363Z"
   },
   {
    "duration": 14,
    "start_time": "2023-12-09T06:56:28.368Z"
   },
   {
    "duration": 2,
    "start_time": "2023-12-09T06:56:28.383Z"
   },
   {
    "duration": 8,
    "start_time": "2023-12-09T06:56:28.386Z"
   },
   {
    "duration": 63,
    "start_time": "2023-12-09T06:56:28.396Z"
   },
   {
    "duration": 4,
    "start_time": "2023-12-09T06:56:28.461Z"
   },
   {
    "duration": 0,
    "start_time": "2023-12-09T06:56:28.466Z"
   },
   {
    "duration": 0,
    "start_time": "2023-12-09T06:56:28.467Z"
   },
   {
    "duration": 0,
    "start_time": "2023-12-09T06:56:28.468Z"
   },
   {
    "duration": 1,
    "start_time": "2023-12-09T06:56:28.469Z"
   },
   {
    "duration": 0,
    "start_time": "2023-12-09T06:56:28.470Z"
   },
   {
    "duration": 0,
    "start_time": "2023-12-09T06:56:28.471Z"
   },
   {
    "duration": 0,
    "start_time": "2023-12-09T06:56:28.472Z"
   },
   {
    "duration": 0,
    "start_time": "2023-12-09T06:56:28.473Z"
   },
   {
    "duration": 0,
    "start_time": "2023-12-09T06:56:28.474Z"
   },
   {
    "duration": 1132,
    "start_time": "2023-12-09T06:56:44.348Z"
   },
   {
    "duration": 16,
    "start_time": "2023-12-09T06:56:45.481Z"
   },
   {
    "duration": 19,
    "start_time": "2023-12-09T06:56:45.498Z"
   },
   {
    "duration": 13,
    "start_time": "2023-12-09T06:56:45.519Z"
   },
   {
    "duration": 26,
    "start_time": "2023-12-09T06:56:45.533Z"
   },
   {
    "duration": 3,
    "start_time": "2023-12-09T06:56:45.560Z"
   },
   {
    "duration": 10,
    "start_time": "2023-12-09T06:56:45.564Z"
   },
   {
    "duration": 3,
    "start_time": "2023-12-09T06:56:45.575Z"
   },
   {
    "duration": 7,
    "start_time": "2023-12-09T06:56:45.579Z"
   },
   {
    "duration": 3,
    "start_time": "2023-12-09T06:56:45.588Z"
   },
   {
    "duration": 43,
    "start_time": "2023-12-09T06:56:45.592Z"
   },
   {
    "duration": 7,
    "start_time": "2023-12-09T06:56:45.636Z"
   },
   {
    "duration": 6,
    "start_time": "2023-12-09T06:56:45.644Z"
   },
   {
    "duration": 11,
    "start_time": "2023-12-09T06:56:45.651Z"
   },
   {
    "duration": 16,
    "start_time": "2023-12-09T06:56:45.663Z"
   },
   {
    "duration": 13,
    "start_time": "2023-12-09T06:56:45.680Z"
   },
   {
    "duration": 21,
    "start_time": "2023-12-09T06:56:45.694Z"
   },
   {
    "duration": 9,
    "start_time": "2023-12-09T06:56:45.716Z"
   },
   {
    "duration": 12,
    "start_time": "2023-12-09T06:56:45.726Z"
   },
   {
    "duration": 4,
    "start_time": "2023-12-09T06:56:45.739Z"
   },
   {
    "duration": 10,
    "start_time": "2023-12-09T06:56:45.744Z"
   },
   {
    "duration": 6,
    "start_time": "2023-12-09T06:56:45.755Z"
   },
   {
    "duration": 7,
    "start_time": "2023-12-09T06:56:45.761Z"
   },
   {
    "duration": 14,
    "start_time": "2023-12-09T06:56:45.769Z"
   },
   {
    "duration": 10,
    "start_time": "2023-12-09T06:56:45.784Z"
   },
   {
    "duration": 16,
    "start_time": "2023-12-09T06:56:45.795Z"
   },
   {
    "duration": 73,
    "start_time": "2023-12-09T06:56:45.812Z"
   },
   {
    "duration": 4,
    "start_time": "2023-12-09T06:56:45.887Z"
   },
   {
    "duration": 226,
    "start_time": "2023-12-09T06:56:45.892Z"
   },
   {
    "duration": 0,
    "start_time": "2023-12-09T06:56:46.120Z"
   },
   {
    "duration": 0,
    "start_time": "2023-12-09T06:56:46.121Z"
   },
   {
    "duration": 0,
    "start_time": "2023-12-09T06:56:46.121Z"
   },
   {
    "duration": 0,
    "start_time": "2023-12-09T06:56:46.122Z"
   },
   {
    "duration": 0,
    "start_time": "2023-12-09T06:56:46.123Z"
   },
   {
    "duration": 0,
    "start_time": "2023-12-09T06:56:46.124Z"
   },
   {
    "duration": 0,
    "start_time": "2023-12-09T06:56:46.125Z"
   },
   {
    "duration": 1,
    "start_time": "2023-12-09T06:56:46.125Z"
   },
   {
    "duration": 1114,
    "start_time": "2023-12-09T07:00:22.369Z"
   },
   {
    "duration": 17,
    "start_time": "2023-12-09T07:00:23.484Z"
   },
   {
    "duration": 22,
    "start_time": "2023-12-09T07:00:23.502Z"
   },
   {
    "duration": 10,
    "start_time": "2023-12-09T07:00:23.526Z"
   },
   {
    "duration": 27,
    "start_time": "2023-12-09T07:00:23.537Z"
   },
   {
    "duration": 3,
    "start_time": "2023-12-09T07:00:23.565Z"
   },
   {
    "duration": 8,
    "start_time": "2023-12-09T07:00:23.569Z"
   },
   {
    "duration": 12,
    "start_time": "2023-12-09T07:00:23.578Z"
   },
   {
    "duration": 7,
    "start_time": "2023-12-09T07:00:23.591Z"
   },
   {
    "duration": 4,
    "start_time": "2023-12-09T07:00:23.615Z"
   },
   {
    "duration": 27,
    "start_time": "2023-12-09T07:00:23.620Z"
   },
   {
    "duration": 8,
    "start_time": "2023-12-09T07:00:23.649Z"
   },
   {
    "duration": 5,
    "start_time": "2023-12-09T07:00:23.658Z"
   },
   {
    "duration": 10,
    "start_time": "2023-12-09T07:00:23.665Z"
   },
   {
    "duration": 39,
    "start_time": "2023-12-09T07:00:23.677Z"
   },
   {
    "duration": 14,
    "start_time": "2023-12-09T07:00:23.717Z"
   },
   {
    "duration": 3,
    "start_time": "2023-12-09T07:00:23.732Z"
   },
   {
    "duration": 9,
    "start_time": "2023-12-09T07:00:23.737Z"
   },
   {
    "duration": 12,
    "start_time": "2023-12-09T07:00:23.747Z"
   },
   {
    "duration": 3,
    "start_time": "2023-12-09T07:00:23.760Z"
   },
   {
    "duration": 8,
    "start_time": "2023-12-09T07:00:23.764Z"
   },
   {
    "duration": 5,
    "start_time": "2023-12-09T07:00:23.773Z"
   },
   {
    "duration": 4,
    "start_time": "2023-12-09T07:00:23.779Z"
   },
   {
    "duration": 48,
    "start_time": "2023-12-09T07:00:23.784Z"
   },
   {
    "duration": 3,
    "start_time": "2023-12-09T07:00:23.833Z"
   },
   {
    "duration": 5,
    "start_time": "2023-12-09T07:00:23.837Z"
   },
   {
    "duration": 58,
    "start_time": "2023-12-09T07:00:23.843Z"
   },
   {
    "duration": 3,
    "start_time": "2023-12-09T07:00:23.903Z"
   },
   {
    "duration": 229,
    "start_time": "2023-12-09T07:00:23.907Z"
   },
   {
    "duration": 0,
    "start_time": "2023-12-09T07:00:24.137Z"
   },
   {
    "duration": 0,
    "start_time": "2023-12-09T07:00:24.138Z"
   },
   {
    "duration": 0,
    "start_time": "2023-12-09T07:00:24.139Z"
   },
   {
    "duration": 0,
    "start_time": "2023-12-09T07:00:24.139Z"
   },
   {
    "duration": 0,
    "start_time": "2023-12-09T07:00:24.140Z"
   },
   {
    "duration": 0,
    "start_time": "2023-12-09T07:00:24.141Z"
   },
   {
    "duration": 0,
    "start_time": "2023-12-09T07:00:24.142Z"
   },
   {
    "duration": 0,
    "start_time": "2023-12-09T07:00:24.143Z"
   },
   {
    "duration": 1183,
    "start_time": "2023-12-09T07:00:39.630Z"
   },
   {
    "duration": 15,
    "start_time": "2023-12-09T07:00:40.815Z"
   },
   {
    "duration": 49,
    "start_time": "2023-12-09T07:00:40.831Z"
   },
   {
    "duration": 7,
    "start_time": "2023-12-09T07:00:40.882Z"
   },
   {
    "duration": 27,
    "start_time": "2023-12-09T07:00:40.890Z"
   },
   {
    "duration": 3,
    "start_time": "2023-12-09T07:00:40.918Z"
   },
   {
    "duration": 23,
    "start_time": "2023-12-09T07:00:40.922Z"
   },
   {
    "duration": 8,
    "start_time": "2023-12-09T07:00:40.946Z"
   },
   {
    "duration": 7,
    "start_time": "2023-12-09T07:00:40.955Z"
   },
   {
    "duration": 3,
    "start_time": "2023-12-09T07:00:40.964Z"
   },
   {
    "duration": 38,
    "start_time": "2023-12-09T07:00:40.968Z"
   },
   {
    "duration": 7,
    "start_time": "2023-12-09T07:00:41.008Z"
   },
   {
    "duration": 3,
    "start_time": "2023-12-09T07:00:41.016Z"
   },
   {
    "duration": 14,
    "start_time": "2023-12-09T07:00:41.020Z"
   },
   {
    "duration": 20,
    "start_time": "2023-12-09T07:00:41.035Z"
   },
   {
    "duration": 13,
    "start_time": "2023-12-09T07:00:41.056Z"
   },
   {
    "duration": 3,
    "start_time": "2023-12-09T07:00:41.070Z"
   },
   {
    "duration": 11,
    "start_time": "2023-12-09T07:00:41.074Z"
   },
   {
    "duration": 5,
    "start_time": "2023-12-09T07:00:41.086Z"
   },
   {
    "duration": 3,
    "start_time": "2023-12-09T07:00:41.092Z"
   },
   {
    "duration": 6,
    "start_time": "2023-12-09T07:00:41.115Z"
   },
   {
    "duration": 11,
    "start_time": "2023-12-09T07:00:41.122Z"
   },
   {
    "duration": 3,
    "start_time": "2023-12-09T07:00:41.135Z"
   },
   {
    "duration": 20,
    "start_time": "2023-12-09T07:00:41.139Z"
   },
   {
    "duration": 2,
    "start_time": "2023-12-09T07:00:41.160Z"
   },
   {
    "duration": 5,
    "start_time": "2023-12-09T07:00:41.164Z"
   },
   {
    "duration": 69,
    "start_time": "2023-12-09T07:00:41.170Z"
   },
   {
    "duration": 3,
    "start_time": "2023-12-09T07:00:41.242Z"
   },
   {
    "duration": 238,
    "start_time": "2023-12-09T07:00:41.246Z"
   },
   {
    "duration": 0,
    "start_time": "2023-12-09T07:00:41.486Z"
   },
   {
    "duration": 0,
    "start_time": "2023-12-09T07:00:41.487Z"
   },
   {
    "duration": 0,
    "start_time": "2023-12-09T07:00:41.488Z"
   },
   {
    "duration": 0,
    "start_time": "2023-12-09T07:00:41.489Z"
   },
   {
    "duration": 0,
    "start_time": "2023-12-09T07:00:41.490Z"
   },
   {
    "duration": 0,
    "start_time": "2023-12-09T07:00:41.490Z"
   },
   {
    "duration": 0,
    "start_time": "2023-12-09T07:00:41.491Z"
   },
   {
    "duration": 0,
    "start_time": "2023-12-09T07:00:41.492Z"
   },
   {
    "duration": 1132,
    "start_time": "2023-12-09T07:01:26.669Z"
   },
   {
    "duration": 16,
    "start_time": "2023-12-09T07:01:27.802Z"
   },
   {
    "duration": 12,
    "start_time": "2023-12-09T07:01:27.821Z"
   },
   {
    "duration": 8,
    "start_time": "2023-12-09T07:01:27.834Z"
   },
   {
    "duration": 30,
    "start_time": "2023-12-09T07:01:27.844Z"
   },
   {
    "duration": 3,
    "start_time": "2023-12-09T07:01:27.875Z"
   },
   {
    "duration": 14,
    "start_time": "2023-12-09T07:01:27.879Z"
   },
   {
    "duration": 3,
    "start_time": "2023-12-09T07:01:27.895Z"
   },
   {
    "duration": 6,
    "start_time": "2023-12-09T07:01:27.914Z"
   },
   {
    "duration": 3,
    "start_time": "2023-12-09T07:01:27.921Z"
   },
   {
    "duration": 38,
    "start_time": "2023-12-09T07:01:27.925Z"
   },
   {
    "duration": 7,
    "start_time": "2023-12-09T07:01:27.964Z"
   },
   {
    "duration": 3,
    "start_time": "2023-12-09T07:01:27.973Z"
   },
   {
    "duration": 17,
    "start_time": "2023-12-09T07:01:27.977Z"
   },
   {
    "duration": 29,
    "start_time": "2023-12-09T07:01:27.995Z"
   },
   {
    "duration": 14,
    "start_time": "2023-12-09T07:01:28.025Z"
   },
   {
    "duration": 3,
    "start_time": "2023-12-09T07:01:28.041Z"
   },
   {
    "duration": 11,
    "start_time": "2023-12-09T07:01:28.045Z"
   },
   {
    "duration": 10,
    "start_time": "2023-12-09T07:01:28.057Z"
   },
   {
    "duration": 3,
    "start_time": "2023-12-09T07:01:28.068Z"
   },
   {
    "duration": 8,
    "start_time": "2023-12-09T07:01:28.072Z"
   },
   {
    "duration": 17,
    "start_time": "2023-12-09T07:01:28.082Z"
   },
   {
    "duration": 24,
    "start_time": "2023-12-09T07:01:28.100Z"
   },
   {
    "duration": 15,
    "start_time": "2023-12-09T07:01:28.125Z"
   },
   {
    "duration": 6,
    "start_time": "2023-12-09T07:01:28.141Z"
   },
   {
    "duration": 9,
    "start_time": "2023-12-09T07:01:28.148Z"
   },
   {
    "duration": 63,
    "start_time": "2023-12-09T07:01:28.160Z"
   },
   {
    "duration": 3,
    "start_time": "2023-12-09T07:01:28.224Z"
   },
   {
    "duration": 234,
    "start_time": "2023-12-09T07:01:28.229Z"
   },
   {
    "duration": 0,
    "start_time": "2023-12-09T07:01:28.464Z"
   },
   {
    "duration": 0,
    "start_time": "2023-12-09T07:01:28.465Z"
   },
   {
    "duration": 0,
    "start_time": "2023-12-09T07:01:28.466Z"
   },
   {
    "duration": 0,
    "start_time": "2023-12-09T07:01:28.466Z"
   },
   {
    "duration": 0,
    "start_time": "2023-12-09T07:01:28.467Z"
   },
   {
    "duration": 0,
    "start_time": "2023-12-09T07:01:28.468Z"
   },
   {
    "duration": 0,
    "start_time": "2023-12-09T07:01:28.469Z"
   },
   {
    "duration": 0,
    "start_time": "2023-12-09T07:01:28.469Z"
   },
   {
    "duration": 1132,
    "start_time": "2023-12-09T07:01:55.324Z"
   },
   {
    "duration": 15,
    "start_time": "2023-12-09T07:01:56.458Z"
   },
   {
    "duration": 16,
    "start_time": "2023-12-09T07:01:56.474Z"
   },
   {
    "duration": 7,
    "start_time": "2023-12-09T07:01:56.491Z"
   },
   {
    "duration": 32,
    "start_time": "2023-12-09T07:01:56.499Z"
   },
   {
    "duration": 3,
    "start_time": "2023-12-09T07:01:56.532Z"
   },
   {
    "duration": 19,
    "start_time": "2023-12-09T07:01:56.536Z"
   },
   {
    "duration": 7,
    "start_time": "2023-12-09T07:01:56.556Z"
   },
   {
    "duration": 8,
    "start_time": "2023-12-09T07:01:56.564Z"
   },
   {
    "duration": 3,
    "start_time": "2023-12-09T07:01:56.574Z"
   },
   {
    "duration": 30,
    "start_time": "2023-12-09T07:01:56.578Z"
   },
   {
    "duration": 7,
    "start_time": "2023-12-09T07:01:56.609Z"
   },
   {
    "duration": 4,
    "start_time": "2023-12-09T07:01:56.617Z"
   },
   {
    "duration": 11,
    "start_time": "2023-12-09T07:01:56.622Z"
   },
   {
    "duration": 28,
    "start_time": "2023-12-09T07:01:56.634Z"
   },
   {
    "duration": 14,
    "start_time": "2023-12-09T07:01:56.663Z"
   },
   {
    "duration": 3,
    "start_time": "2023-12-09T07:01:56.678Z"
   },
   {
    "duration": 17,
    "start_time": "2023-12-09T07:01:56.682Z"
   },
   {
    "duration": 9,
    "start_time": "2023-12-09T07:01:56.700Z"
   },
   {
    "duration": 6,
    "start_time": "2023-12-09T07:01:56.710Z"
   },
   {
    "duration": 7,
    "start_time": "2023-12-09T07:01:56.717Z"
   },
   {
    "duration": 19,
    "start_time": "2023-12-09T07:01:56.725Z"
   },
   {
    "duration": 4,
    "start_time": "2023-12-09T07:01:56.745Z"
   },
   {
    "duration": 20,
    "start_time": "2023-12-09T07:01:56.750Z"
   },
   {
    "duration": 3,
    "start_time": "2023-12-09T07:01:56.771Z"
   },
   {
    "duration": 13,
    "start_time": "2023-12-09T07:01:56.775Z"
   },
   {
    "duration": 59,
    "start_time": "2023-12-09T07:01:56.789Z"
   },
   {
    "duration": 3,
    "start_time": "2023-12-09T07:01:56.851Z"
   },
   {
    "duration": 233,
    "start_time": "2023-12-09T07:01:56.855Z"
   },
   {
    "duration": 0,
    "start_time": "2023-12-09T07:01:57.089Z"
   },
   {
    "duration": 0,
    "start_time": "2023-12-09T07:01:57.090Z"
   },
   {
    "duration": 0,
    "start_time": "2023-12-09T07:01:57.091Z"
   },
   {
    "duration": 0,
    "start_time": "2023-12-09T07:01:57.092Z"
   },
   {
    "duration": 0,
    "start_time": "2023-12-09T07:01:57.093Z"
   },
   {
    "duration": 0,
    "start_time": "2023-12-09T07:01:57.093Z"
   },
   {
    "duration": 0,
    "start_time": "2023-12-09T07:01:57.094Z"
   },
   {
    "duration": 0,
    "start_time": "2023-12-09T07:01:57.095Z"
   },
   {
    "duration": 1164,
    "start_time": "2023-12-09T07:03:06.142Z"
   },
   {
    "duration": 15,
    "start_time": "2023-12-09T07:03:07.307Z"
   },
   {
    "duration": 12,
    "start_time": "2023-12-09T07:03:07.324Z"
   },
   {
    "duration": 7,
    "start_time": "2023-12-09T07:03:07.337Z"
   },
   {
    "duration": 27,
    "start_time": "2023-12-09T07:03:07.346Z"
   },
   {
    "duration": 2,
    "start_time": "2023-12-09T07:03:07.374Z"
   },
   {
    "duration": 13,
    "start_time": "2023-12-09T07:03:07.377Z"
   },
   {
    "duration": 14,
    "start_time": "2023-12-09T07:03:07.391Z"
   },
   {
    "duration": 12,
    "start_time": "2023-12-09T07:03:07.406Z"
   },
   {
    "duration": 3,
    "start_time": "2023-12-09T07:03:07.419Z"
   },
   {
    "duration": 27,
    "start_time": "2023-12-09T07:03:07.423Z"
   },
   {
    "duration": 7,
    "start_time": "2023-12-09T07:03:07.451Z"
   },
   {
    "duration": 5,
    "start_time": "2023-12-09T07:03:07.459Z"
   },
   {
    "duration": 14,
    "start_time": "2023-12-09T07:03:07.466Z"
   },
   {
    "duration": 17,
    "start_time": "2023-12-09T07:03:07.481Z"
   },
   {
    "duration": 27,
    "start_time": "2023-12-09T07:03:07.499Z"
   },
   {
    "duration": 3,
    "start_time": "2023-12-09T07:03:07.527Z"
   },
   {
    "duration": 9,
    "start_time": "2023-12-09T07:03:07.531Z"
   },
   {
    "duration": 4,
    "start_time": "2023-12-09T07:03:07.542Z"
   },
   {
    "duration": 3,
    "start_time": "2023-12-09T07:03:07.547Z"
   },
   {
    "duration": 10,
    "start_time": "2023-12-09T07:03:07.551Z"
   },
   {
    "duration": 9,
    "start_time": "2023-12-09T07:03:07.562Z"
   },
   {
    "duration": 5,
    "start_time": "2023-12-09T07:03:07.572Z"
   },
   {
    "duration": 19,
    "start_time": "2023-12-09T07:03:07.578Z"
   },
   {
    "duration": 10,
    "start_time": "2023-12-09T07:03:07.598Z"
   },
   {
    "duration": 14,
    "start_time": "2023-12-09T07:03:07.615Z"
   },
   {
    "duration": 60,
    "start_time": "2023-12-09T07:03:07.631Z"
   },
   {
    "duration": 66,
    "start_time": "2023-12-09T07:03:07.693Z"
   },
   {
    "duration": 0,
    "start_time": "2023-12-09T07:03:07.760Z"
   },
   {
    "duration": 0,
    "start_time": "2023-12-09T07:03:07.761Z"
   },
   {
    "duration": 0,
    "start_time": "2023-12-09T07:03:07.762Z"
   },
   {
    "duration": 0,
    "start_time": "2023-12-09T07:03:07.763Z"
   },
   {
    "duration": 0,
    "start_time": "2023-12-09T07:03:07.764Z"
   },
   {
    "duration": 0,
    "start_time": "2023-12-09T07:03:07.764Z"
   },
   {
    "duration": 0,
    "start_time": "2023-12-09T07:03:07.765Z"
   },
   {
    "duration": 0,
    "start_time": "2023-12-09T07:03:07.766Z"
   },
   {
    "duration": 0,
    "start_time": "2023-12-09T07:03:07.767Z"
   },
   {
    "duration": 1168,
    "start_time": "2023-12-09T07:03:27.035Z"
   },
   {
    "duration": 17,
    "start_time": "2023-12-09T07:03:28.205Z"
   },
   {
    "duration": 22,
    "start_time": "2023-12-09T07:03:28.223Z"
   },
   {
    "duration": 8,
    "start_time": "2023-12-09T07:03:28.247Z"
   },
   {
    "duration": 27,
    "start_time": "2023-12-09T07:03:28.256Z"
   },
   {
    "duration": 3,
    "start_time": "2023-12-09T07:03:28.284Z"
   },
   {
    "duration": 8,
    "start_time": "2023-12-09T07:03:28.289Z"
   },
   {
    "duration": 17,
    "start_time": "2023-12-09T07:03:28.299Z"
   },
   {
    "duration": 32,
    "start_time": "2023-12-09T07:03:28.317Z"
   },
   {
    "duration": 3,
    "start_time": "2023-12-09T07:03:28.352Z"
   },
   {
    "duration": 26,
    "start_time": "2023-12-09T07:03:28.356Z"
   },
   {
    "duration": 7,
    "start_time": "2023-12-09T07:03:28.383Z"
   },
   {
    "duration": 3,
    "start_time": "2023-12-09T07:03:28.391Z"
   },
   {
    "duration": 9,
    "start_time": "2023-12-09T07:03:28.395Z"
   },
   {
    "duration": 19,
    "start_time": "2023-12-09T07:03:28.405Z"
   },
   {
    "duration": 14,
    "start_time": "2023-12-09T07:03:28.425Z"
   },
   {
    "duration": 3,
    "start_time": "2023-12-09T07:03:28.440Z"
   },
   {
    "duration": 10,
    "start_time": "2023-12-09T07:03:28.444Z"
   },
   {
    "duration": 7,
    "start_time": "2023-12-09T07:03:28.456Z"
   },
   {
    "duration": 3,
    "start_time": "2023-12-09T07:03:28.464Z"
   },
   {
    "duration": 7,
    "start_time": "2023-12-09T07:03:28.469Z"
   },
   {
    "duration": 6,
    "start_time": "2023-12-09T07:03:28.478Z"
   },
   {
    "duration": 30,
    "start_time": "2023-12-09T07:03:28.485Z"
   },
   {
    "duration": 14,
    "start_time": "2023-12-09T07:03:28.516Z"
   },
   {
    "duration": 3,
    "start_time": "2023-12-09T07:03:28.531Z"
   },
   {
    "duration": 4,
    "start_time": "2023-12-09T07:03:28.535Z"
   },
   {
    "duration": 55,
    "start_time": "2023-12-09T07:03:28.540Z"
   },
   {
    "duration": 4,
    "start_time": "2023-12-09T07:03:28.614Z"
   },
   {
    "duration": 229,
    "start_time": "2023-12-09T07:03:28.619Z"
   },
   {
    "duration": 0,
    "start_time": "2023-12-09T07:03:28.849Z"
   },
   {
    "duration": 0,
    "start_time": "2023-12-09T07:03:28.850Z"
   },
   {
    "duration": 0,
    "start_time": "2023-12-09T07:03:28.851Z"
   },
   {
    "duration": 0,
    "start_time": "2023-12-09T07:03:28.851Z"
   },
   {
    "duration": 0,
    "start_time": "2023-12-09T07:03:28.852Z"
   },
   {
    "duration": 0,
    "start_time": "2023-12-09T07:03:28.853Z"
   },
   {
    "duration": 0,
    "start_time": "2023-12-09T07:03:28.854Z"
   },
   {
    "duration": 0,
    "start_time": "2023-12-09T07:03:28.855Z"
   },
   {
    "duration": 1195,
    "start_time": "2023-12-09T07:04:09.621Z"
   },
   {
    "duration": 15,
    "start_time": "2023-12-09T07:04:10.817Z"
   },
   {
    "duration": 11,
    "start_time": "2023-12-09T07:04:10.834Z"
   },
   {
    "duration": 8,
    "start_time": "2023-12-09T07:04:10.847Z"
   },
   {
    "duration": 30,
    "start_time": "2023-12-09T07:04:10.857Z"
   },
   {
    "duration": 3,
    "start_time": "2023-12-09T07:04:10.888Z"
   },
   {
    "duration": 24,
    "start_time": "2023-12-09T07:04:10.892Z"
   },
   {
    "duration": 3,
    "start_time": "2023-12-09T07:04:10.917Z"
   },
   {
    "duration": 6,
    "start_time": "2023-12-09T07:04:10.921Z"
   },
   {
    "duration": 3,
    "start_time": "2023-12-09T07:04:10.929Z"
   },
   {
    "duration": 26,
    "start_time": "2023-12-09T07:04:10.933Z"
   },
   {
    "duration": 8,
    "start_time": "2023-12-09T07:04:10.960Z"
   },
   {
    "duration": 11,
    "start_time": "2023-12-09T07:04:10.969Z"
   },
   {
    "duration": 22,
    "start_time": "2023-12-09T07:04:10.982Z"
   },
   {
    "duration": 24,
    "start_time": "2023-12-09T07:04:11.006Z"
   },
   {
    "duration": 13,
    "start_time": "2023-12-09T07:04:11.031Z"
   },
   {
    "duration": 3,
    "start_time": "2023-12-09T07:04:11.045Z"
   },
   {
    "duration": 9,
    "start_time": "2023-12-09T07:04:11.049Z"
   },
   {
    "duration": 5,
    "start_time": "2023-12-09T07:04:11.059Z"
   },
   {
    "duration": 3,
    "start_time": "2023-12-09T07:04:11.065Z"
   },
   {
    "duration": 14,
    "start_time": "2023-12-09T07:04:11.069Z"
   },
   {
    "duration": 5,
    "start_time": "2023-12-09T07:04:11.084Z"
   },
   {
    "duration": 27,
    "start_time": "2023-12-09T07:04:11.090Z"
   },
   {
    "duration": 15,
    "start_time": "2023-12-09T07:04:11.118Z"
   },
   {
    "duration": 4,
    "start_time": "2023-12-09T07:04:11.134Z"
   },
   {
    "duration": 10,
    "start_time": "2023-12-09T07:04:11.139Z"
   },
   {
    "duration": 66,
    "start_time": "2023-12-09T07:04:11.150Z"
   },
   {
    "duration": 4,
    "start_time": "2023-12-09T07:04:11.218Z"
   },
   {
    "duration": 238,
    "start_time": "2023-12-09T07:04:11.223Z"
   },
   {
    "duration": 0,
    "start_time": "2023-12-09T07:04:11.462Z"
   },
   {
    "duration": 0,
    "start_time": "2023-12-09T07:04:11.464Z"
   },
   {
    "duration": 0,
    "start_time": "2023-12-09T07:04:11.464Z"
   },
   {
    "duration": 0,
    "start_time": "2023-12-09T07:04:11.465Z"
   },
   {
    "duration": 0,
    "start_time": "2023-12-09T07:04:11.466Z"
   },
   {
    "duration": 0,
    "start_time": "2023-12-09T07:04:11.467Z"
   },
   {
    "duration": 0,
    "start_time": "2023-12-09T07:04:11.468Z"
   },
   {
    "duration": 0,
    "start_time": "2023-12-09T07:04:11.468Z"
   },
   {
    "duration": 1197,
    "start_time": "2023-12-09T07:04:31.699Z"
   },
   {
    "duration": 16,
    "start_time": "2023-12-09T07:04:32.898Z"
   },
   {
    "duration": 15,
    "start_time": "2023-12-09T07:04:32.915Z"
   },
   {
    "duration": 8,
    "start_time": "2023-12-09T07:04:32.932Z"
   },
   {
    "duration": 28,
    "start_time": "2023-12-09T07:04:32.941Z"
   },
   {
    "duration": 3,
    "start_time": "2023-12-09T07:04:32.971Z"
   },
   {
    "duration": 20,
    "start_time": "2023-12-09T07:04:32.975Z"
   },
   {
    "duration": 65,
    "start_time": "2023-12-09T07:04:32.996Z"
   },
   {
    "duration": 6,
    "start_time": "2023-12-09T07:04:33.062Z"
   },
   {
    "duration": 3,
    "start_time": "2023-12-09T07:04:33.071Z"
   },
   {
    "duration": 27,
    "start_time": "2023-12-09T07:04:33.075Z"
   },
   {
    "duration": 7,
    "start_time": "2023-12-09T07:04:33.103Z"
   },
   {
    "duration": 5,
    "start_time": "2023-12-09T07:04:33.112Z"
   },
   {
    "duration": 13,
    "start_time": "2023-12-09T07:04:33.118Z"
   },
   {
    "duration": 21,
    "start_time": "2023-12-09T07:04:33.132Z"
   },
   {
    "duration": 14,
    "start_time": "2023-12-09T07:04:33.154Z"
   },
   {
    "duration": 3,
    "start_time": "2023-12-09T07:04:33.170Z"
   },
   {
    "duration": 11,
    "start_time": "2023-12-09T07:04:33.174Z"
   },
   {
    "duration": 6,
    "start_time": "2023-12-09T07:04:33.187Z"
   },
   {
    "duration": 7,
    "start_time": "2023-12-09T07:04:33.194Z"
   },
   {
    "duration": 17,
    "start_time": "2023-12-09T07:04:33.202Z"
   },
   {
    "duration": 12,
    "start_time": "2023-12-09T07:04:33.220Z"
   },
   {
    "duration": 8,
    "start_time": "2023-12-09T07:04:33.233Z"
   },
   {
    "duration": 18,
    "start_time": "2023-12-09T07:04:33.242Z"
   },
   {
    "duration": 2,
    "start_time": "2023-12-09T07:04:33.262Z"
   },
   {
    "duration": 4,
    "start_time": "2023-12-09T07:04:33.266Z"
   },
   {
    "duration": 66,
    "start_time": "2023-12-09T07:04:33.271Z"
   },
   {
    "duration": 3,
    "start_time": "2023-12-09T07:04:33.340Z"
   },
   {
    "duration": 295,
    "start_time": "2023-12-09T07:04:33.344Z"
   },
   {
    "duration": 0,
    "start_time": "2023-12-09T07:04:33.641Z"
   },
   {
    "duration": 0,
    "start_time": "2023-12-09T07:04:33.642Z"
   },
   {
    "duration": 0,
    "start_time": "2023-12-09T07:04:33.642Z"
   },
   {
    "duration": 0,
    "start_time": "2023-12-09T07:04:33.643Z"
   },
   {
    "duration": 0,
    "start_time": "2023-12-09T07:04:33.644Z"
   },
   {
    "duration": 0,
    "start_time": "2023-12-09T07:04:33.645Z"
   },
   {
    "duration": 0,
    "start_time": "2023-12-09T07:04:33.646Z"
   },
   {
    "duration": 0,
    "start_time": "2023-12-09T07:04:33.646Z"
   },
   {
    "duration": 1152,
    "start_time": "2023-12-09T07:04:47.499Z"
   },
   {
    "duration": 15,
    "start_time": "2023-12-09T07:04:48.653Z"
   },
   {
    "duration": 11,
    "start_time": "2023-12-09T07:04:48.669Z"
   },
   {
    "duration": 7,
    "start_time": "2023-12-09T07:04:48.682Z"
   },
   {
    "duration": 36,
    "start_time": "2023-12-09T07:04:48.691Z"
   },
   {
    "duration": 2,
    "start_time": "2023-12-09T07:04:48.729Z"
   },
   {
    "duration": 7,
    "start_time": "2023-12-09T07:04:48.733Z"
   },
   {
    "duration": 3,
    "start_time": "2023-12-09T07:04:48.741Z"
   },
   {
    "duration": 5,
    "start_time": "2023-12-09T07:04:48.746Z"
   },
   {
    "duration": 4,
    "start_time": "2023-12-09T07:04:48.752Z"
   },
   {
    "duration": 30,
    "start_time": "2023-12-09T07:04:48.757Z"
   },
   {
    "duration": 34,
    "start_time": "2023-12-09T07:04:48.788Z"
   },
   {
    "duration": 3,
    "start_time": "2023-12-09T07:04:48.823Z"
   },
   {
    "duration": 10,
    "start_time": "2023-12-09T07:04:48.827Z"
   },
   {
    "duration": 20,
    "start_time": "2023-12-09T07:04:48.838Z"
   },
   {
    "duration": 13,
    "start_time": "2023-12-09T07:04:48.859Z"
   },
   {
    "duration": 3,
    "start_time": "2023-12-09T07:04:48.873Z"
   },
   {
    "duration": 8,
    "start_time": "2023-12-09T07:04:48.877Z"
   },
   {
    "duration": 5,
    "start_time": "2023-12-09T07:04:48.886Z"
   },
   {
    "duration": 24,
    "start_time": "2023-12-09T07:04:48.892Z"
   },
   {
    "duration": 17,
    "start_time": "2023-12-09T07:04:48.917Z"
   },
   {
    "duration": 12,
    "start_time": "2023-12-09T07:04:48.936Z"
   },
   {
    "duration": 9,
    "start_time": "2023-12-09T07:04:48.949Z"
   },
   {
    "duration": 17,
    "start_time": "2023-12-09T07:04:48.959Z"
   },
   {
    "duration": 5,
    "start_time": "2023-12-09T07:04:48.977Z"
   },
   {
    "duration": 26,
    "start_time": "2023-12-09T07:04:48.983Z"
   },
   {
    "duration": 64,
    "start_time": "2023-12-09T07:04:49.010Z"
   },
   {
    "duration": 3,
    "start_time": "2023-12-09T07:04:49.078Z"
   },
   {
    "duration": 234,
    "start_time": "2023-12-09T07:04:49.082Z"
   },
   {
    "duration": 0,
    "start_time": "2023-12-09T07:04:49.317Z"
   },
   {
    "duration": 0,
    "start_time": "2023-12-09T07:04:49.319Z"
   },
   {
    "duration": 0,
    "start_time": "2023-12-09T07:04:49.320Z"
   },
   {
    "duration": 0,
    "start_time": "2023-12-09T07:04:49.321Z"
   },
   {
    "duration": 0,
    "start_time": "2023-12-09T07:04:49.322Z"
   },
   {
    "duration": 0,
    "start_time": "2023-12-09T07:04:49.323Z"
   },
   {
    "duration": 0,
    "start_time": "2023-12-09T07:04:49.324Z"
   },
   {
    "duration": 0,
    "start_time": "2023-12-09T07:04:49.325Z"
   },
   {
    "duration": 1130,
    "start_time": "2023-12-09T07:05:50.755Z"
   },
   {
    "duration": 15,
    "start_time": "2023-12-09T07:05:51.887Z"
   },
   {
    "duration": 11,
    "start_time": "2023-12-09T07:05:51.904Z"
   },
   {
    "duration": 7,
    "start_time": "2023-12-09T07:05:51.917Z"
   },
   {
    "duration": 27,
    "start_time": "2023-12-09T07:05:51.925Z"
   },
   {
    "duration": 2,
    "start_time": "2023-12-09T07:05:51.953Z"
   },
   {
    "duration": 10,
    "start_time": "2023-12-09T07:05:51.957Z"
   },
   {
    "duration": 4,
    "start_time": "2023-12-09T07:05:51.968Z"
   },
   {
    "duration": 5,
    "start_time": "2023-12-09T07:05:51.973Z"
   },
   {
    "duration": 4,
    "start_time": "2023-12-09T07:05:51.980Z"
   },
   {
    "duration": 52,
    "start_time": "2023-12-09T07:05:51.985Z"
   },
   {
    "duration": 7,
    "start_time": "2023-12-09T07:05:52.038Z"
   },
   {
    "duration": 12,
    "start_time": "2023-12-09T07:05:52.046Z"
   },
   {
    "duration": 24,
    "start_time": "2023-12-09T07:05:52.060Z"
   },
   {
    "duration": 25,
    "start_time": "2023-12-09T07:05:52.085Z"
   },
   {
    "duration": 15,
    "start_time": "2023-12-09T07:05:52.111Z"
   },
   {
    "duration": 3,
    "start_time": "2023-12-09T07:05:52.127Z"
   },
   {
    "duration": 19,
    "start_time": "2023-12-09T07:05:52.131Z"
   },
   {
    "duration": 7,
    "start_time": "2023-12-09T07:05:52.151Z"
   },
   {
    "duration": 9,
    "start_time": "2023-12-09T07:05:52.159Z"
   },
   {
    "duration": 11,
    "start_time": "2023-12-09T07:05:52.169Z"
   },
   {
    "duration": 6,
    "start_time": "2023-12-09T07:05:52.181Z"
   },
   {
    "duration": 10,
    "start_time": "2023-12-09T07:05:52.188Z"
   },
   {
    "duration": 23,
    "start_time": "2023-12-09T07:05:52.199Z"
   },
   {
    "duration": 3,
    "start_time": "2023-12-09T07:05:52.224Z"
   },
   {
    "duration": 10,
    "start_time": "2023-12-09T07:05:52.228Z"
   },
   {
    "duration": 60,
    "start_time": "2023-12-09T07:05:52.239Z"
   },
   {
    "duration": 4,
    "start_time": "2023-12-09T07:05:52.301Z"
   },
   {
    "duration": 224,
    "start_time": "2023-12-09T07:05:52.306Z"
   },
   {
    "duration": 0,
    "start_time": "2023-12-09T07:05:52.532Z"
   },
   {
    "duration": 0,
    "start_time": "2023-12-09T07:05:52.533Z"
   },
   {
    "duration": 0,
    "start_time": "2023-12-09T07:05:52.533Z"
   },
   {
    "duration": 0,
    "start_time": "2023-12-09T07:05:52.534Z"
   },
   {
    "duration": 0,
    "start_time": "2023-12-09T07:05:52.535Z"
   },
   {
    "duration": 1,
    "start_time": "2023-12-09T07:05:52.535Z"
   },
   {
    "duration": 0,
    "start_time": "2023-12-09T07:05:52.537Z"
   },
   {
    "duration": 0,
    "start_time": "2023-12-09T07:05:52.537Z"
   },
   {
    "duration": 1204,
    "start_time": "2023-12-09T07:12:00.315Z"
   },
   {
    "duration": 15,
    "start_time": "2023-12-09T07:12:01.521Z"
   },
   {
    "duration": 34,
    "start_time": "2023-12-09T07:12:01.537Z"
   },
   {
    "duration": 58,
    "start_time": "2023-12-09T07:12:01.573Z"
   },
   {
    "duration": 47,
    "start_time": "2023-12-09T07:12:01.632Z"
   },
   {
    "duration": 3,
    "start_time": "2023-12-09T07:12:01.680Z"
   },
   {
    "duration": 25,
    "start_time": "2023-12-09T07:12:01.684Z"
   },
   {
    "duration": 21,
    "start_time": "2023-12-09T07:12:01.710Z"
   },
   {
    "duration": 32,
    "start_time": "2023-12-09T07:12:01.732Z"
   },
   {
    "duration": 42,
    "start_time": "2023-12-09T07:12:01.766Z"
   },
   {
    "duration": 51,
    "start_time": "2023-12-09T07:12:01.809Z"
   },
   {
    "duration": 9,
    "start_time": "2023-12-09T07:12:01.861Z"
   },
   {
    "duration": 24,
    "start_time": "2023-12-09T07:12:01.872Z"
   },
   {
    "duration": 40,
    "start_time": "2023-12-09T07:12:01.897Z"
   },
   {
    "duration": 27,
    "start_time": "2023-12-09T07:12:01.938Z"
   },
   {
    "duration": 18,
    "start_time": "2023-12-09T07:12:01.966Z"
   },
   {
    "duration": 8,
    "start_time": "2023-12-09T07:12:01.985Z"
   },
   {
    "duration": 22,
    "start_time": "2023-12-09T07:12:01.994Z"
   },
   {
    "duration": 24,
    "start_time": "2023-12-09T07:12:02.017Z"
   },
   {
    "duration": 5,
    "start_time": "2023-12-09T07:12:02.042Z"
   },
   {
    "duration": 20,
    "start_time": "2023-12-09T07:12:02.048Z"
   },
   {
    "duration": 38,
    "start_time": "2023-12-09T07:12:02.070Z"
   },
   {
    "duration": 18,
    "start_time": "2023-12-09T07:12:02.109Z"
   },
   {
    "duration": 20,
    "start_time": "2023-12-09T07:12:02.129Z"
   },
   {
    "duration": 12,
    "start_time": "2023-12-09T07:12:02.150Z"
   },
   {
    "duration": 33,
    "start_time": "2023-12-09T07:12:02.163Z"
   },
   {
    "duration": 70,
    "start_time": "2023-12-09T07:12:02.197Z"
   },
   {
    "duration": 8,
    "start_time": "2023-12-09T07:12:02.270Z"
   },
   {
    "duration": 254,
    "start_time": "2023-12-09T07:12:02.279Z"
   },
   {
    "duration": 0,
    "start_time": "2023-12-09T07:12:02.534Z"
   },
   {
    "duration": 0,
    "start_time": "2023-12-09T07:12:02.535Z"
   },
   {
    "duration": 0,
    "start_time": "2023-12-09T07:12:02.536Z"
   },
   {
    "duration": 0,
    "start_time": "2023-12-09T07:12:02.537Z"
   },
   {
    "duration": 0,
    "start_time": "2023-12-09T07:12:02.537Z"
   },
   {
    "duration": 0,
    "start_time": "2023-12-09T07:12:02.538Z"
   },
   {
    "duration": 0,
    "start_time": "2023-12-09T07:12:02.539Z"
   },
   {
    "duration": 0,
    "start_time": "2023-12-09T07:12:02.540Z"
   },
   {
    "duration": 1202,
    "start_time": "2023-12-09T07:12:29.701Z"
   },
   {
    "duration": 16,
    "start_time": "2023-12-09T07:12:30.904Z"
   },
   {
    "duration": 58,
    "start_time": "2023-12-09T07:12:30.922Z"
   },
   {
    "duration": 61,
    "start_time": "2023-12-09T07:12:30.982Z"
   },
   {
    "duration": 68,
    "start_time": "2023-12-09T07:12:31.045Z"
   },
   {
    "duration": 25,
    "start_time": "2023-12-09T07:12:31.114Z"
   },
   {
    "duration": 54,
    "start_time": "2023-12-09T07:12:31.140Z"
   },
   {
    "duration": 64,
    "start_time": "2023-12-09T07:12:31.196Z"
   },
   {
    "duration": 36,
    "start_time": "2023-12-09T07:12:31.262Z"
   },
   {
    "duration": 28,
    "start_time": "2023-12-09T07:12:31.301Z"
   },
   {
    "duration": 49,
    "start_time": "2023-12-09T07:12:31.331Z"
   },
   {
    "duration": 8,
    "start_time": "2023-12-09T07:12:31.382Z"
   },
   {
    "duration": 16,
    "start_time": "2023-12-09T07:12:31.391Z"
   },
   {
    "duration": 41,
    "start_time": "2023-12-09T07:12:31.409Z"
   },
   {
    "duration": 44,
    "start_time": "2023-12-09T07:12:31.452Z"
   },
   {
    "duration": 66,
    "start_time": "2023-12-09T07:12:31.498Z"
   },
   {
    "duration": 9,
    "start_time": "2023-12-09T07:12:31.566Z"
   },
   {
    "duration": 32,
    "start_time": "2023-12-09T07:12:31.576Z"
   },
   {
    "duration": 36,
    "start_time": "2023-12-09T07:12:31.610Z"
   },
   {
    "duration": 18,
    "start_time": "2023-12-09T07:12:31.647Z"
   },
   {
    "duration": 25,
    "start_time": "2023-12-09T07:12:31.666Z"
   },
   {
    "duration": 15,
    "start_time": "2023-12-09T07:12:31.692Z"
   },
   {
    "duration": 27,
    "start_time": "2023-12-09T07:12:31.709Z"
   },
   {
    "duration": 37,
    "start_time": "2023-12-09T07:12:31.738Z"
   },
   {
    "duration": 14,
    "start_time": "2023-12-09T07:12:31.776Z"
   },
   {
    "duration": 44,
    "start_time": "2023-12-09T07:12:31.791Z"
   },
   {
    "duration": 113,
    "start_time": "2023-12-09T07:12:31.836Z"
   },
   {
    "duration": 3,
    "start_time": "2023-12-09T07:12:31.953Z"
   },
   {
    "duration": 163,
    "start_time": "2023-12-09T07:12:31.958Z"
   },
   {
    "duration": 5,
    "start_time": "2023-12-09T07:12:32.123Z"
   },
   {
    "duration": 66,
    "start_time": "2023-12-09T07:12:32.130Z"
   },
   {
    "duration": 158,
    "start_time": "2023-12-09T07:12:32.197Z"
   },
   {
    "duration": 25,
    "start_time": "2023-12-09T07:12:32.357Z"
   },
   {
    "duration": 159,
    "start_time": "2023-12-09T07:12:32.383Z"
   },
   {
    "duration": 6,
    "start_time": "2023-12-09T07:12:32.543Z"
   },
   {
    "duration": 27,
    "start_time": "2023-12-09T07:12:32.550Z"
   },
   {
    "duration": 169,
    "start_time": "2023-12-09T07:12:32.579Z"
   },
   {
    "duration": 1122,
    "start_time": "2023-12-09T07:14:33.784Z"
   },
   {
    "duration": 16,
    "start_time": "2023-12-09T07:14:34.907Z"
   },
   {
    "duration": 12,
    "start_time": "2023-12-09T07:14:34.924Z"
   },
   {
    "duration": 7,
    "start_time": "2023-12-09T07:14:34.937Z"
   },
   {
    "duration": 35,
    "start_time": "2023-12-09T07:14:34.945Z"
   },
   {
    "duration": 3,
    "start_time": "2023-12-09T07:14:34.981Z"
   },
   {
    "duration": 10,
    "start_time": "2023-12-09T07:14:34.985Z"
   },
   {
    "duration": 11,
    "start_time": "2023-12-09T07:14:34.996Z"
   },
   {
    "duration": 7,
    "start_time": "2023-12-09T07:14:35.008Z"
   },
   {
    "duration": 16,
    "start_time": "2023-12-09T07:14:35.018Z"
   },
   {
    "duration": 39,
    "start_time": "2023-12-09T07:14:35.035Z"
   },
   {
    "duration": 8,
    "start_time": "2023-12-09T07:14:35.076Z"
   },
   {
    "duration": 15,
    "start_time": "2023-12-09T07:14:35.085Z"
   },
   {
    "duration": 34,
    "start_time": "2023-12-09T07:14:35.101Z"
   },
   {
    "duration": 41,
    "start_time": "2023-12-09T07:14:35.137Z"
   },
   {
    "duration": 32,
    "start_time": "2023-12-09T07:14:35.179Z"
   },
   {
    "duration": 7,
    "start_time": "2023-12-09T07:14:35.212Z"
   },
   {
    "duration": 14,
    "start_time": "2023-12-09T07:14:35.221Z"
   },
   {
    "duration": 47,
    "start_time": "2023-12-09T07:14:35.237Z"
   },
   {
    "duration": 9,
    "start_time": "2023-12-09T07:14:35.285Z"
   },
   {
    "duration": 8,
    "start_time": "2023-12-09T07:14:35.295Z"
   },
   {
    "duration": 16,
    "start_time": "2023-12-09T07:14:35.305Z"
   },
   {
    "duration": 25,
    "start_time": "2023-12-09T07:14:35.322Z"
   },
   {
    "duration": 32,
    "start_time": "2023-12-09T07:14:35.348Z"
   },
   {
    "duration": 13,
    "start_time": "2023-12-09T07:14:35.382Z"
   },
   {
    "duration": 21,
    "start_time": "2023-12-09T07:14:35.396Z"
   },
   {
    "duration": 72,
    "start_time": "2023-12-09T07:14:35.418Z"
   },
   {
    "duration": 3,
    "start_time": "2023-12-09T07:14:35.493Z"
   },
   {
    "duration": 224,
    "start_time": "2023-12-09T07:14:35.497Z"
   },
   {
    "duration": 0,
    "start_time": "2023-12-09T07:14:35.722Z"
   },
   {
    "duration": 0,
    "start_time": "2023-12-09T07:14:35.723Z"
   },
   {
    "duration": 0,
    "start_time": "2023-12-09T07:14:35.724Z"
   },
   {
    "duration": 0,
    "start_time": "2023-12-09T07:14:35.725Z"
   },
   {
    "duration": 0,
    "start_time": "2023-12-09T07:14:35.726Z"
   },
   {
    "duration": 0,
    "start_time": "2023-12-09T07:14:35.726Z"
   },
   {
    "duration": 0,
    "start_time": "2023-12-09T07:14:35.727Z"
   },
   {
    "duration": 0,
    "start_time": "2023-12-09T07:14:35.728Z"
   },
   {
    "duration": 1134,
    "start_time": "2023-12-09T07:14:57.175Z"
   },
   {
    "duration": 16,
    "start_time": "2023-12-09T07:14:58.311Z"
   },
   {
    "duration": 11,
    "start_time": "2023-12-09T07:14:58.328Z"
   },
   {
    "duration": 7,
    "start_time": "2023-12-09T07:14:58.341Z"
   },
   {
    "duration": 29,
    "start_time": "2023-12-09T07:14:58.349Z"
   },
   {
    "duration": 2,
    "start_time": "2023-12-09T07:14:58.379Z"
   },
   {
    "duration": 9,
    "start_time": "2023-12-09T07:14:58.382Z"
   },
   {
    "duration": 24,
    "start_time": "2023-12-09T07:14:58.392Z"
   },
   {
    "duration": 5,
    "start_time": "2023-12-09T07:14:58.417Z"
   },
   {
    "duration": 3,
    "start_time": "2023-12-09T07:14:58.425Z"
   },
   {
    "duration": 28,
    "start_time": "2023-12-09T07:14:58.429Z"
   },
   {
    "duration": 8,
    "start_time": "2023-12-09T07:14:58.458Z"
   },
   {
    "duration": 3,
    "start_time": "2023-12-09T07:14:58.467Z"
   },
   {
    "duration": 9,
    "start_time": "2023-12-09T07:14:58.471Z"
   },
   {
    "duration": 42,
    "start_time": "2023-12-09T07:14:58.482Z"
   },
   {
    "duration": 15,
    "start_time": "2023-12-09T07:14:58.525Z"
   },
   {
    "duration": 3,
    "start_time": "2023-12-09T07:14:58.541Z"
   },
   {
    "duration": 16,
    "start_time": "2023-12-09T07:14:58.545Z"
   },
   {
    "duration": 7,
    "start_time": "2023-12-09T07:14:58.563Z"
   },
   {
    "duration": 3,
    "start_time": "2023-12-09T07:14:58.571Z"
   },
   {
    "duration": 8,
    "start_time": "2023-12-09T07:14:58.576Z"
   },
   {
    "duration": 11,
    "start_time": "2023-12-09T07:14:58.585Z"
   },
   {
    "duration": 4,
    "start_time": "2023-12-09T07:14:58.597Z"
   },
   {
    "duration": 26,
    "start_time": "2023-12-09T07:14:58.602Z"
   },
   {
    "duration": 3,
    "start_time": "2023-12-09T07:14:58.629Z"
   },
   {
    "duration": 3,
    "start_time": "2023-12-09T07:14:58.634Z"
   },
   {
    "duration": 58,
    "start_time": "2023-12-09T07:14:58.638Z"
   },
   {
    "duration": 3,
    "start_time": "2023-12-09T07:14:58.715Z"
   },
   {
    "duration": 155,
    "start_time": "2023-12-09T07:14:58.719Z"
   },
   {
    "duration": 5,
    "start_time": "2023-12-09T07:14:58.876Z"
   },
   {
    "duration": 34,
    "start_time": "2023-12-09T07:14:58.882Z"
   },
   {
    "duration": 166,
    "start_time": "2023-12-09T07:14:58.917Z"
   },
   {
    "duration": 32,
    "start_time": "2023-12-09T07:14:59.084Z"
   },
   {
    "duration": 153,
    "start_time": "2023-12-09T07:14:59.117Z"
   },
   {
    "duration": 6,
    "start_time": "2023-12-09T07:14:59.272Z"
   },
   {
    "duration": 40,
    "start_time": "2023-12-09T07:14:59.279Z"
   },
   {
    "duration": 156,
    "start_time": "2023-12-09T07:14:59.320Z"
   },
   {
    "duration": 1161,
    "start_time": "2023-12-09T07:15:43.931Z"
   },
   {
    "duration": 17,
    "start_time": "2023-12-09T07:15:45.094Z"
   },
   {
    "duration": 24,
    "start_time": "2023-12-09T07:15:45.114Z"
   },
   {
    "duration": 21,
    "start_time": "2023-12-09T07:15:45.139Z"
   },
   {
    "duration": 38,
    "start_time": "2023-12-09T07:15:45.161Z"
   },
   {
    "duration": 3,
    "start_time": "2023-12-09T07:15:45.200Z"
   },
   {
    "duration": 10,
    "start_time": "2023-12-09T07:15:45.204Z"
   },
   {
    "duration": 41,
    "start_time": "2023-12-09T07:15:45.215Z"
   },
   {
    "duration": 28,
    "start_time": "2023-12-09T07:15:45.259Z"
   },
   {
    "duration": 8,
    "start_time": "2023-12-09T07:15:45.288Z"
   },
   {
    "duration": 34,
    "start_time": "2023-12-09T07:15:45.297Z"
   },
   {
    "duration": 7,
    "start_time": "2023-12-09T07:15:45.332Z"
   },
   {
    "duration": 20,
    "start_time": "2023-12-09T07:15:45.340Z"
   },
   {
    "duration": 11,
    "start_time": "2023-12-09T07:15:45.361Z"
   },
   {
    "duration": 19,
    "start_time": "2023-12-09T07:15:45.373Z"
   },
   {
    "duration": 14,
    "start_time": "2023-12-09T07:15:45.394Z"
   },
   {
    "duration": 3,
    "start_time": "2023-12-09T07:15:45.409Z"
   },
   {
    "duration": 9,
    "start_time": "2023-12-09T07:15:45.413Z"
   },
   {
    "duration": 18,
    "start_time": "2023-12-09T07:15:45.423Z"
   },
   {
    "duration": 17,
    "start_time": "2023-12-09T07:15:45.442Z"
   },
   {
    "duration": 22,
    "start_time": "2023-12-09T07:15:45.460Z"
   },
   {
    "duration": 35,
    "start_time": "2023-12-09T07:15:45.483Z"
   },
   {
    "duration": 29,
    "start_time": "2023-12-09T07:15:45.519Z"
   },
   {
    "duration": 14,
    "start_time": "2023-12-09T07:15:45.549Z"
   },
   {
    "duration": 3,
    "start_time": "2023-12-09T07:15:45.564Z"
   },
   {
    "duration": 18,
    "start_time": "2023-12-09T07:15:45.568Z"
   },
   {
    "duration": 55,
    "start_time": "2023-12-09T07:15:45.589Z"
   },
   {
    "duration": 3,
    "start_time": "2023-12-09T07:15:45.645Z"
   },
   {
    "duration": 150,
    "start_time": "2023-12-09T07:15:45.649Z"
   },
   {
    "duration": 5,
    "start_time": "2023-12-09T07:15:45.801Z"
   },
   {
    "duration": 32,
    "start_time": "2023-12-09T07:15:45.807Z"
   },
   {
    "duration": 161,
    "start_time": "2023-12-09T07:15:45.840Z"
   },
   {
    "duration": 30,
    "start_time": "2023-12-09T07:15:46.002Z"
   },
   {
    "duration": 137,
    "start_time": "2023-12-09T07:15:46.034Z"
   },
   {
    "duration": 5,
    "start_time": "2023-12-09T07:15:46.173Z"
   },
   {
    "duration": 43,
    "start_time": "2023-12-09T07:15:46.179Z"
   },
   {
    "duration": 161,
    "start_time": "2023-12-09T07:15:46.223Z"
   },
   {
    "duration": 1085,
    "start_time": "2023-12-09T07:16:42.820Z"
   },
   {
    "duration": 15,
    "start_time": "2023-12-09T07:16:43.907Z"
   },
   {
    "duration": 12,
    "start_time": "2023-12-09T07:16:43.924Z"
   },
   {
    "duration": 11,
    "start_time": "2023-12-09T07:16:43.938Z"
   },
   {
    "duration": 29,
    "start_time": "2023-12-09T07:16:43.950Z"
   },
   {
    "duration": 3,
    "start_time": "2023-12-09T07:16:43.980Z"
   },
   {
    "duration": 9,
    "start_time": "2023-12-09T07:16:43.984Z"
   },
   {
    "duration": 21,
    "start_time": "2023-12-09T07:16:43.995Z"
   },
   {
    "duration": 8,
    "start_time": "2023-12-09T07:16:44.017Z"
   },
   {
    "duration": 4,
    "start_time": "2023-12-09T07:16:44.027Z"
   },
   {
    "duration": 52,
    "start_time": "2023-12-09T07:16:44.032Z"
   },
   {
    "duration": 8,
    "start_time": "2023-12-09T07:16:44.086Z"
   },
   {
    "duration": 3,
    "start_time": "2023-12-09T07:16:44.095Z"
   },
   {
    "duration": 23,
    "start_time": "2023-12-09T07:16:44.100Z"
   },
   {
    "duration": 24,
    "start_time": "2023-12-09T07:16:44.124Z"
   },
   {
    "duration": 13,
    "start_time": "2023-12-09T07:16:44.149Z"
   },
   {
    "duration": 3,
    "start_time": "2023-12-09T07:16:44.163Z"
   },
   {
    "duration": 9,
    "start_time": "2023-12-09T07:16:44.167Z"
   },
   {
    "duration": 6,
    "start_time": "2023-12-09T07:16:44.177Z"
   },
   {
    "duration": 4,
    "start_time": "2023-12-09T07:16:44.184Z"
   },
   {
    "duration": 26,
    "start_time": "2023-12-09T07:16:44.189Z"
   },
   {
    "duration": 13,
    "start_time": "2023-12-09T07:16:44.216Z"
   },
   {
    "duration": 10,
    "start_time": "2023-12-09T07:16:44.231Z"
   },
   {
    "duration": 17,
    "start_time": "2023-12-09T07:16:44.242Z"
   },
   {
    "duration": 2,
    "start_time": "2023-12-09T07:16:44.261Z"
   },
   {
    "duration": 3,
    "start_time": "2023-12-09T07:16:44.264Z"
   },
   {
    "duration": 70,
    "start_time": "2023-12-09T07:16:44.268Z"
   },
   {
    "duration": 3,
    "start_time": "2023-12-09T07:16:44.341Z"
   },
   {
    "duration": 151,
    "start_time": "2023-12-09T07:16:44.345Z"
   },
   {
    "duration": 6,
    "start_time": "2023-12-09T07:16:44.497Z"
   },
   {
    "duration": 32,
    "start_time": "2023-12-09T07:16:44.504Z"
   },
   {
    "duration": 165,
    "start_time": "2023-12-09T07:16:44.537Z"
   },
   {
    "duration": 35,
    "start_time": "2023-12-09T07:16:44.703Z"
   },
   {
    "duration": 140,
    "start_time": "2023-12-09T07:16:44.740Z"
   },
   {
    "duration": 5,
    "start_time": "2023-12-09T07:16:44.882Z"
   },
   {
    "duration": 36,
    "start_time": "2023-12-09T07:16:44.888Z"
   },
   {
    "duration": 157,
    "start_time": "2023-12-09T07:16:44.925Z"
   },
   {
    "duration": 1112,
    "start_time": "2023-12-09T07:17:22.970Z"
   },
   {
    "duration": 15,
    "start_time": "2023-12-09T07:17:24.084Z"
   },
   {
    "duration": 26,
    "start_time": "2023-12-09T07:17:24.101Z"
   },
   {
    "duration": 20,
    "start_time": "2023-12-09T07:17:24.129Z"
   },
   {
    "duration": 50,
    "start_time": "2023-12-09T07:17:24.150Z"
   },
   {
    "duration": 3,
    "start_time": "2023-12-09T07:17:24.201Z"
   },
   {
    "duration": 14,
    "start_time": "2023-12-09T07:17:24.205Z"
   },
   {
    "duration": 15,
    "start_time": "2023-12-09T07:17:24.220Z"
   },
   {
    "duration": 12,
    "start_time": "2023-12-09T07:17:24.237Z"
   },
   {
    "duration": 19,
    "start_time": "2023-12-09T07:17:24.251Z"
   },
   {
    "duration": 37,
    "start_time": "2023-12-09T07:17:24.271Z"
   },
   {
    "duration": 7,
    "start_time": "2023-12-09T07:17:24.309Z"
   },
   {
    "duration": 22,
    "start_time": "2023-12-09T07:17:24.317Z"
   },
   {
    "duration": 22,
    "start_time": "2023-12-09T07:17:24.340Z"
   },
   {
    "duration": 17,
    "start_time": "2023-12-09T07:17:24.363Z"
   },
   {
    "duration": 13,
    "start_time": "2023-12-09T07:17:24.381Z"
   },
   {
    "duration": 2,
    "start_time": "2023-12-09T07:17:24.396Z"
   },
   {
    "duration": 10,
    "start_time": "2023-12-09T07:17:24.399Z"
   },
   {
    "duration": 19,
    "start_time": "2023-12-09T07:17:24.410Z"
   },
   {
    "duration": 14,
    "start_time": "2023-12-09T07:17:24.430Z"
   },
   {
    "duration": 9,
    "start_time": "2023-12-09T07:17:24.445Z"
   },
   {
    "duration": 4,
    "start_time": "2023-12-09T07:17:24.455Z"
   },
   {
    "duration": 3,
    "start_time": "2023-12-09T07:17:24.461Z"
   },
   {
    "duration": 19,
    "start_time": "2023-12-09T07:17:24.465Z"
   },
   {
    "duration": 2,
    "start_time": "2023-12-09T07:17:24.485Z"
   },
   {
    "duration": 10,
    "start_time": "2023-12-09T07:17:24.489Z"
   },
   {
    "duration": 56,
    "start_time": "2023-12-09T07:17:24.500Z"
   },
   {
    "duration": 3,
    "start_time": "2023-12-09T07:17:24.559Z"
   },
   {
    "duration": 229,
    "start_time": "2023-12-09T07:17:24.563Z"
   },
   {
    "duration": 0,
    "start_time": "2023-12-09T07:17:24.793Z"
   },
   {
    "duration": 0,
    "start_time": "2023-12-09T07:17:24.794Z"
   },
   {
    "duration": 0,
    "start_time": "2023-12-09T07:17:24.796Z"
   },
   {
    "duration": 0,
    "start_time": "2023-12-09T07:17:24.797Z"
   },
   {
    "duration": 0,
    "start_time": "2023-12-09T07:17:24.797Z"
   },
   {
    "duration": 0,
    "start_time": "2023-12-09T07:17:24.798Z"
   },
   {
    "duration": 0,
    "start_time": "2023-12-09T07:17:24.799Z"
   },
   {
    "duration": 0,
    "start_time": "2023-12-09T07:17:24.815Z"
   },
   {
    "duration": 1095,
    "start_time": "2023-12-09T07:17:35.515Z"
   },
   {
    "duration": 16,
    "start_time": "2023-12-09T07:17:36.611Z"
   },
   {
    "duration": 29,
    "start_time": "2023-12-09T07:17:36.628Z"
   },
   {
    "duration": 22,
    "start_time": "2023-12-09T07:17:36.659Z"
   },
   {
    "duration": 36,
    "start_time": "2023-12-09T07:17:36.682Z"
   },
   {
    "duration": 3,
    "start_time": "2023-12-09T07:17:36.719Z"
   },
   {
    "duration": 24,
    "start_time": "2023-12-09T07:17:36.723Z"
   },
   {
    "duration": 11,
    "start_time": "2023-12-09T07:17:36.748Z"
   },
   {
    "duration": 13,
    "start_time": "2023-12-09T07:17:36.760Z"
   },
   {
    "duration": 12,
    "start_time": "2023-12-09T07:17:36.775Z"
   },
   {
    "duration": 30,
    "start_time": "2023-12-09T07:17:36.788Z"
   },
   {
    "duration": 8,
    "start_time": "2023-12-09T07:17:36.819Z"
   },
   {
    "duration": 2,
    "start_time": "2023-12-09T07:17:36.829Z"
   },
   {
    "duration": 25,
    "start_time": "2023-12-09T07:17:36.833Z"
   },
   {
    "duration": 17,
    "start_time": "2023-12-09T07:17:36.859Z"
   },
   {
    "duration": 14,
    "start_time": "2023-12-09T07:17:36.877Z"
   },
   {
    "duration": 2,
    "start_time": "2023-12-09T07:17:36.892Z"
   },
   {
    "duration": 20,
    "start_time": "2023-12-09T07:17:36.896Z"
   },
   {
    "duration": 20,
    "start_time": "2023-12-09T07:17:36.917Z"
   },
   {
    "duration": 7,
    "start_time": "2023-12-09T07:17:36.938Z"
   },
   {
    "duration": 10,
    "start_time": "2023-12-09T07:17:36.946Z"
   },
   {
    "duration": 8,
    "start_time": "2023-12-09T07:17:36.957Z"
   },
   {
    "duration": 19,
    "start_time": "2023-12-09T07:17:36.966Z"
   },
   {
    "duration": 31,
    "start_time": "2023-12-09T07:17:36.986Z"
   },
   {
    "duration": 21,
    "start_time": "2023-12-09T07:17:37.018Z"
   },
   {
    "duration": 26,
    "start_time": "2023-12-09T07:17:37.041Z"
   },
   {
    "duration": 59,
    "start_time": "2023-12-09T07:17:37.068Z"
   },
   {
    "duration": 3,
    "start_time": "2023-12-09T07:17:37.130Z"
   },
   {
    "duration": 173,
    "start_time": "2023-12-09T07:17:37.134Z"
   },
   {
    "duration": 9,
    "start_time": "2023-12-09T07:17:37.308Z"
   },
   {
    "duration": 38,
    "start_time": "2023-12-09T07:17:37.319Z"
   },
   {
    "duration": 159,
    "start_time": "2023-12-09T07:17:37.358Z"
   },
   {
    "duration": 25,
    "start_time": "2023-12-09T07:17:37.519Z"
   },
   {
    "duration": 150,
    "start_time": "2023-12-09T07:17:37.546Z"
   },
   {
    "duration": 6,
    "start_time": "2023-12-09T07:17:37.697Z"
   },
   {
    "duration": 35,
    "start_time": "2023-12-09T07:17:37.704Z"
   },
   {
    "duration": 162,
    "start_time": "2023-12-09T07:17:37.741Z"
   },
   {
    "duration": 1161,
    "start_time": "2023-12-09T07:18:25.341Z"
   },
   {
    "duration": 17,
    "start_time": "2023-12-09T07:18:26.504Z"
   },
   {
    "duration": 12,
    "start_time": "2023-12-09T07:18:26.522Z"
   },
   {
    "duration": 12,
    "start_time": "2023-12-09T07:18:26.536Z"
   },
   {
    "duration": 32,
    "start_time": "2023-12-09T07:18:26.549Z"
   },
   {
    "duration": 3,
    "start_time": "2023-12-09T07:18:26.582Z"
   },
   {
    "duration": 9,
    "start_time": "2023-12-09T07:18:26.586Z"
   },
   {
    "duration": 10,
    "start_time": "2023-12-09T07:18:26.596Z"
   },
   {
    "duration": 11,
    "start_time": "2023-12-09T07:18:26.607Z"
   },
   {
    "duration": 3,
    "start_time": "2023-12-09T07:18:26.620Z"
   },
   {
    "duration": 35,
    "start_time": "2023-12-09T07:18:26.624Z"
   },
   {
    "duration": 6,
    "start_time": "2023-12-09T07:18:26.661Z"
   },
   {
    "duration": 2,
    "start_time": "2023-12-09T07:18:26.669Z"
   },
   {
    "duration": 11,
    "start_time": "2023-12-09T07:18:26.673Z"
   },
   {
    "duration": 20,
    "start_time": "2023-12-09T07:18:26.685Z"
   },
   {
    "duration": 21,
    "start_time": "2023-12-09T07:18:26.706Z"
   },
   {
    "duration": 3,
    "start_time": "2023-12-09T07:18:26.728Z"
   },
   {
    "duration": 11,
    "start_time": "2023-12-09T07:18:26.732Z"
   },
   {
    "duration": 18,
    "start_time": "2023-12-09T07:18:26.744Z"
   },
   {
    "duration": 3,
    "start_time": "2023-12-09T07:18:26.764Z"
   },
   {
    "duration": 17,
    "start_time": "2023-12-09T07:18:26.768Z"
   },
   {
    "duration": 9,
    "start_time": "2023-12-09T07:18:26.786Z"
   },
   {
    "duration": 4,
    "start_time": "2023-12-09T07:18:26.797Z"
   },
   {
    "duration": 12,
    "start_time": "2023-12-09T07:18:26.802Z"
   },
   {
    "duration": 3,
    "start_time": "2023-12-09T07:18:26.815Z"
   },
   {
    "duration": 4,
    "start_time": "2023-12-09T07:18:26.820Z"
   },
   {
    "duration": 60,
    "start_time": "2023-12-09T07:18:26.825Z"
   },
   {
    "duration": 4,
    "start_time": "2023-12-09T07:18:26.887Z"
   },
   {
    "duration": 159,
    "start_time": "2023-12-09T07:18:26.892Z"
   },
   {
    "duration": 6,
    "start_time": "2023-12-09T07:18:27.052Z"
   },
   {
    "duration": 29,
    "start_time": "2023-12-09T07:18:27.059Z"
   },
   {
    "duration": 175,
    "start_time": "2023-12-09T07:18:27.089Z"
   },
   {
    "duration": 234,
    "start_time": "2023-12-09T07:18:27.265Z"
   },
   {
    "duration": 0,
    "start_time": "2023-12-09T07:18:27.500Z"
   },
   {
    "duration": 0,
    "start_time": "2023-12-09T07:18:27.501Z"
   },
   {
    "duration": 0,
    "start_time": "2023-12-09T07:18:27.502Z"
   },
   {
    "duration": 0,
    "start_time": "2023-12-09T07:18:27.503Z"
   },
   {
    "duration": 0,
    "start_time": "2023-12-09T07:18:27.503Z"
   },
   {
    "duration": 1139,
    "start_time": "2023-12-09T07:20:09.955Z"
   },
   {
    "duration": 16,
    "start_time": "2023-12-09T07:20:11.096Z"
   },
   {
    "duration": 12,
    "start_time": "2023-12-09T07:20:11.113Z"
   },
   {
    "duration": 8,
    "start_time": "2023-12-09T07:20:11.127Z"
   },
   {
    "duration": 26,
    "start_time": "2023-12-09T07:20:11.136Z"
   },
   {
    "duration": 3,
    "start_time": "2023-12-09T07:20:11.163Z"
   },
   {
    "duration": 8,
    "start_time": "2023-12-09T07:20:11.167Z"
   },
   {
    "duration": 40,
    "start_time": "2023-12-09T07:20:11.176Z"
   },
   {
    "duration": 5,
    "start_time": "2023-12-09T07:20:11.218Z"
   },
   {
    "duration": 3,
    "start_time": "2023-12-09T07:20:11.225Z"
   },
   {
    "duration": 27,
    "start_time": "2023-12-09T07:20:11.229Z"
   },
   {
    "duration": 7,
    "start_time": "2023-12-09T07:20:11.257Z"
   },
   {
    "duration": 2,
    "start_time": "2023-12-09T07:20:11.265Z"
   },
   {
    "duration": 10,
    "start_time": "2023-12-09T07:20:11.268Z"
   },
   {
    "duration": 17,
    "start_time": "2023-12-09T07:20:11.279Z"
   },
   {
    "duration": 21,
    "start_time": "2023-12-09T07:20:11.297Z"
   },
   {
    "duration": 3,
    "start_time": "2023-12-09T07:20:11.319Z"
   },
   {
    "duration": 9,
    "start_time": "2023-12-09T07:20:11.323Z"
   },
   {
    "duration": 7,
    "start_time": "2023-12-09T07:20:11.333Z"
   },
   {
    "duration": 9,
    "start_time": "2023-12-09T07:20:11.341Z"
   },
   {
    "duration": 15,
    "start_time": "2023-12-09T07:20:11.351Z"
   },
   {
    "duration": 20,
    "start_time": "2023-12-09T07:20:11.368Z"
   },
   {
    "duration": 6,
    "start_time": "2023-12-09T07:20:11.389Z"
   },
   {
    "duration": 13,
    "start_time": "2023-12-09T07:20:11.396Z"
   },
   {
    "duration": 3,
    "start_time": "2023-12-09T07:20:11.410Z"
   },
   {
    "duration": 4,
    "start_time": "2023-12-09T07:20:11.414Z"
   },
   {
    "duration": 57,
    "start_time": "2023-12-09T07:20:11.419Z"
   },
   {
    "duration": 3,
    "start_time": "2023-12-09T07:20:11.478Z"
   },
   {
    "duration": 311,
    "start_time": "2023-12-09T07:20:11.482Z"
   },
   {
    "duration": 0,
    "start_time": "2023-12-09T07:20:11.815Z"
   },
   {
    "duration": 0,
    "start_time": "2023-12-09T07:20:11.816Z"
   },
   {
    "duration": 0,
    "start_time": "2023-12-09T07:20:11.817Z"
   },
   {
    "duration": 0,
    "start_time": "2023-12-09T07:20:11.818Z"
   },
   {
    "duration": 0,
    "start_time": "2023-12-09T07:20:11.818Z"
   },
   {
    "duration": 0,
    "start_time": "2023-12-09T07:20:11.819Z"
   },
   {
    "duration": 0,
    "start_time": "2023-12-09T07:20:11.820Z"
   },
   {
    "duration": 0,
    "start_time": "2023-12-09T07:20:11.820Z"
   },
   {
    "duration": 1146,
    "start_time": "2023-12-09T07:22:22.336Z"
   },
   {
    "duration": 15,
    "start_time": "2023-12-09T07:22:23.484Z"
   },
   {
    "duration": 27,
    "start_time": "2023-12-09T07:22:23.500Z"
   },
   {
    "duration": 10,
    "start_time": "2023-12-09T07:22:23.528Z"
   },
   {
    "duration": 34,
    "start_time": "2023-12-09T07:22:23.539Z"
   },
   {
    "duration": 3,
    "start_time": "2023-12-09T07:22:23.574Z"
   },
   {
    "duration": 26,
    "start_time": "2023-12-09T07:22:23.578Z"
   },
   {
    "duration": 6,
    "start_time": "2023-12-09T07:22:23.605Z"
   },
   {
    "duration": 9,
    "start_time": "2023-12-09T07:22:23.612Z"
   },
   {
    "duration": 6,
    "start_time": "2023-12-09T07:22:23.623Z"
   },
   {
    "duration": 46,
    "start_time": "2023-12-09T07:22:23.630Z"
   },
   {
    "duration": 7,
    "start_time": "2023-12-09T07:22:23.677Z"
   },
   {
    "duration": 8,
    "start_time": "2023-12-09T07:22:23.685Z"
   },
   {
    "duration": 10,
    "start_time": "2023-12-09T07:22:23.694Z"
   },
   {
    "duration": 27,
    "start_time": "2023-12-09T07:22:23.705Z"
   },
   {
    "duration": 15,
    "start_time": "2023-12-09T07:22:23.733Z"
   },
   {
    "duration": 5,
    "start_time": "2023-12-09T07:22:23.749Z"
   },
   {
    "duration": 20,
    "start_time": "2023-12-09T07:22:23.755Z"
   },
   {
    "duration": 17,
    "start_time": "2023-12-09T07:22:23.776Z"
   },
   {
    "duration": 11,
    "start_time": "2023-12-09T07:22:23.795Z"
   },
   {
    "duration": 38,
    "start_time": "2023-12-09T07:22:23.807Z"
   },
   {
    "duration": 21,
    "start_time": "2023-12-09T07:22:23.847Z"
   },
   {
    "duration": 7,
    "start_time": "2023-12-09T07:22:23.869Z"
   },
   {
    "duration": 24,
    "start_time": "2023-12-09T07:22:23.877Z"
   },
   {
    "duration": 9,
    "start_time": "2023-12-09T07:22:23.902Z"
   },
   {
    "duration": 14,
    "start_time": "2023-12-09T07:22:23.912Z"
   },
   {
    "duration": 68,
    "start_time": "2023-12-09T07:22:23.928Z"
   },
   {
    "duration": 3,
    "start_time": "2023-12-09T07:22:23.999Z"
   },
   {
    "duration": 237,
    "start_time": "2023-12-09T07:22:24.004Z"
   },
   {
    "duration": 0,
    "start_time": "2023-12-09T07:22:24.243Z"
   },
   {
    "duration": 0,
    "start_time": "2023-12-09T07:22:24.244Z"
   },
   {
    "duration": 0,
    "start_time": "2023-12-09T07:22:24.245Z"
   },
   {
    "duration": 0,
    "start_time": "2023-12-09T07:22:24.247Z"
   },
   {
    "duration": 0,
    "start_time": "2023-12-09T07:22:24.248Z"
   },
   {
    "duration": 0,
    "start_time": "2023-12-09T07:22:24.249Z"
   },
   {
    "duration": 0,
    "start_time": "2023-12-09T07:22:24.250Z"
   },
   {
    "duration": 0,
    "start_time": "2023-12-09T07:22:24.251Z"
   },
   {
    "duration": 1122,
    "start_time": "2023-12-09T07:22:46.558Z"
   },
   {
    "duration": 16,
    "start_time": "2023-12-09T07:22:47.682Z"
   },
   {
    "duration": 12,
    "start_time": "2023-12-09T07:22:47.699Z"
   },
   {
    "duration": 8,
    "start_time": "2023-12-09T07:22:47.712Z"
   },
   {
    "duration": 30,
    "start_time": "2023-12-09T07:22:47.721Z"
   },
   {
    "duration": 2,
    "start_time": "2023-12-09T07:22:47.752Z"
   },
   {
    "duration": 8,
    "start_time": "2023-12-09T07:22:47.755Z"
   },
   {
    "duration": 8,
    "start_time": "2023-12-09T07:22:47.765Z"
   },
   {
    "duration": 8,
    "start_time": "2023-12-09T07:22:47.774Z"
   },
   {
    "duration": 5,
    "start_time": "2023-12-09T07:22:47.784Z"
   },
   {
    "duration": 52,
    "start_time": "2023-12-09T07:22:47.790Z"
   },
   {
    "duration": 7,
    "start_time": "2023-12-09T07:22:47.844Z"
   },
   {
    "duration": 4,
    "start_time": "2023-12-09T07:22:47.852Z"
   },
   {
    "duration": 20,
    "start_time": "2023-12-09T07:22:47.857Z"
   },
   {
    "duration": 19,
    "start_time": "2023-12-09T07:22:47.878Z"
   },
   {
    "duration": 25,
    "start_time": "2023-12-09T07:22:47.898Z"
   },
   {
    "duration": 3,
    "start_time": "2023-12-09T07:22:47.924Z"
   },
   {
    "duration": 13,
    "start_time": "2023-12-09T07:22:47.928Z"
   },
   {
    "duration": 16,
    "start_time": "2023-12-09T07:22:47.942Z"
   },
   {
    "duration": 12,
    "start_time": "2023-12-09T07:22:47.959Z"
   },
   {
    "duration": 9,
    "start_time": "2023-12-09T07:22:47.972Z"
   },
   {
    "duration": 6,
    "start_time": "2023-12-09T07:22:47.983Z"
   },
   {
    "duration": 14,
    "start_time": "2023-12-09T07:22:47.990Z"
   },
   {
    "duration": 21,
    "start_time": "2023-12-09T07:22:48.005Z"
   },
   {
    "duration": 3,
    "start_time": "2023-12-09T07:22:48.027Z"
   },
   {
    "duration": 4,
    "start_time": "2023-12-09T07:22:48.031Z"
   },
   {
    "duration": 69,
    "start_time": "2023-12-09T07:22:48.036Z"
   },
   {
    "duration": 3,
    "start_time": "2023-12-09T07:22:48.108Z"
   },
   {
    "duration": 243,
    "start_time": "2023-12-09T07:22:48.113Z"
   },
   {
    "duration": 0,
    "start_time": "2023-12-09T07:22:48.357Z"
   },
   {
    "duration": 0,
    "start_time": "2023-12-09T07:22:48.358Z"
   },
   {
    "duration": 0,
    "start_time": "2023-12-09T07:22:48.359Z"
   },
   {
    "duration": 0,
    "start_time": "2023-12-09T07:22:48.360Z"
   },
   {
    "duration": 0,
    "start_time": "2023-12-09T07:22:48.361Z"
   },
   {
    "duration": 0,
    "start_time": "2023-12-09T07:22:48.361Z"
   },
   {
    "duration": 0,
    "start_time": "2023-12-09T07:22:48.362Z"
   },
   {
    "duration": 0,
    "start_time": "2023-12-09T07:22:48.363Z"
   },
   {
    "duration": 1146,
    "start_time": "2023-12-09T07:25:28.258Z"
   },
   {
    "duration": 16,
    "start_time": "2023-12-09T07:25:29.406Z"
   },
   {
    "duration": 17,
    "start_time": "2023-12-09T07:25:29.423Z"
   },
   {
    "duration": 7,
    "start_time": "2023-12-09T07:25:29.442Z"
   },
   {
    "duration": 41,
    "start_time": "2023-12-09T07:25:29.450Z"
   },
   {
    "duration": 3,
    "start_time": "2023-12-09T07:25:29.492Z"
   },
   {
    "duration": 34,
    "start_time": "2023-12-09T07:25:29.496Z"
   },
   {
    "duration": 12,
    "start_time": "2023-12-09T07:25:29.531Z"
   },
   {
    "duration": 13,
    "start_time": "2023-12-09T07:25:29.544Z"
   },
   {
    "duration": 3,
    "start_time": "2023-12-09T07:25:29.559Z"
   },
   {
    "duration": 26,
    "start_time": "2023-12-09T07:25:29.564Z"
   },
   {
    "duration": 8,
    "start_time": "2023-12-09T07:25:29.591Z"
   },
   {
    "duration": 3,
    "start_time": "2023-12-09T07:25:29.600Z"
   },
   {
    "duration": 9,
    "start_time": "2023-12-09T07:25:29.604Z"
   },
   {
    "duration": 17,
    "start_time": "2023-12-09T07:25:29.614Z"
   },
   {
    "duration": 30,
    "start_time": "2023-12-09T07:25:29.632Z"
   },
   {
    "duration": 3,
    "start_time": "2023-12-09T07:25:29.663Z"
   },
   {
    "duration": 15,
    "start_time": "2023-12-09T07:25:29.667Z"
   },
   {
    "duration": 15,
    "start_time": "2023-12-09T07:25:29.683Z"
   },
   {
    "duration": 4,
    "start_time": "2023-12-09T07:25:29.699Z"
   },
   {
    "duration": 26,
    "start_time": "2023-12-09T07:25:29.704Z"
   },
   {
    "duration": 15,
    "start_time": "2023-12-09T07:25:29.731Z"
   },
   {
    "duration": 4,
    "start_time": "2023-12-09T07:25:29.747Z"
   },
   {
    "duration": 17,
    "start_time": "2023-12-09T07:25:29.752Z"
   },
   {
    "duration": 3,
    "start_time": "2023-12-09T07:25:29.771Z"
   },
   {
    "duration": 4,
    "start_time": "2023-12-09T07:25:29.775Z"
   },
   {
    "duration": 69,
    "start_time": "2023-12-09T07:25:29.780Z"
   },
   {
    "duration": 4,
    "start_time": "2023-12-09T07:25:29.852Z"
   },
   {
    "duration": 229,
    "start_time": "2023-12-09T07:25:29.857Z"
   },
   {
    "duration": 0,
    "start_time": "2023-12-09T07:25:30.087Z"
   },
   {
    "duration": 0,
    "start_time": "2023-12-09T07:25:30.088Z"
   },
   {
    "duration": 0,
    "start_time": "2023-12-09T07:25:30.089Z"
   },
   {
    "duration": 0,
    "start_time": "2023-12-09T07:25:30.090Z"
   },
   {
    "duration": 0,
    "start_time": "2023-12-09T07:25:30.091Z"
   },
   {
    "duration": 0,
    "start_time": "2023-12-09T07:25:30.091Z"
   },
   {
    "duration": 0,
    "start_time": "2023-12-09T07:25:30.092Z"
   },
   {
    "duration": 0,
    "start_time": "2023-12-09T07:25:30.093Z"
   },
   {
    "duration": 5,
    "start_time": "2023-12-09T07:26:15.178Z"
   },
   {
    "duration": 1166,
    "start_time": "2023-12-09T07:26:20.261Z"
   },
   {
    "duration": 16,
    "start_time": "2023-12-09T07:26:21.429Z"
   },
   {
    "duration": 28,
    "start_time": "2023-12-09T07:26:21.447Z"
   },
   {
    "duration": 7,
    "start_time": "2023-12-09T07:26:21.477Z"
   },
   {
    "duration": 41,
    "start_time": "2023-12-09T07:26:21.485Z"
   },
   {
    "duration": 2,
    "start_time": "2023-12-09T07:26:21.528Z"
   },
   {
    "duration": 21,
    "start_time": "2023-12-09T07:26:21.532Z"
   },
   {
    "duration": 14,
    "start_time": "2023-12-09T07:26:21.555Z"
   },
   {
    "duration": 10,
    "start_time": "2023-12-09T07:26:21.571Z"
   },
   {
    "duration": 13,
    "start_time": "2023-12-09T07:26:21.584Z"
   },
   {
    "duration": 40,
    "start_time": "2023-12-09T07:26:21.598Z"
   },
   {
    "duration": 8,
    "start_time": "2023-12-09T07:26:21.639Z"
   },
   {
    "duration": 11,
    "start_time": "2023-12-09T07:26:21.648Z"
   },
   {
    "duration": 25,
    "start_time": "2023-12-09T07:26:21.660Z"
   },
   {
    "duration": 53,
    "start_time": "2023-12-09T07:26:21.687Z"
   },
   {
    "duration": 16,
    "start_time": "2023-12-09T07:26:21.741Z"
   },
   {
    "duration": 13,
    "start_time": "2023-12-09T07:26:21.758Z"
   },
   {
    "duration": 17,
    "start_time": "2023-12-09T07:26:21.772Z"
   },
   {
    "duration": 12,
    "start_time": "2023-12-09T07:26:21.790Z"
   },
   {
    "duration": 23,
    "start_time": "2023-12-09T07:26:21.803Z"
   },
   {
    "duration": 13,
    "start_time": "2023-12-09T07:26:21.827Z"
   },
   {
    "duration": 11,
    "start_time": "2023-12-09T07:26:21.841Z"
   },
   {
    "duration": 20,
    "start_time": "2023-12-09T07:26:21.853Z"
   },
   {
    "duration": 27,
    "start_time": "2023-12-09T07:26:21.874Z"
   },
   {
    "duration": 3,
    "start_time": "2023-12-09T07:26:21.902Z"
   },
   {
    "duration": 20,
    "start_time": "2023-12-09T07:26:21.906Z"
   },
   {
    "duration": 80,
    "start_time": "2023-12-09T07:26:21.927Z"
   },
   {
    "duration": 3,
    "start_time": "2023-12-09T07:26:22.010Z"
   },
   {
    "duration": 251,
    "start_time": "2023-12-09T07:26:22.014Z"
   },
   {
    "duration": 0,
    "start_time": "2023-12-09T07:26:22.267Z"
   },
   {
    "duration": 0,
    "start_time": "2023-12-09T07:26:22.268Z"
   },
   {
    "duration": 0,
    "start_time": "2023-12-09T07:26:22.269Z"
   },
   {
    "duration": 0,
    "start_time": "2023-12-09T07:26:22.270Z"
   },
   {
    "duration": 0,
    "start_time": "2023-12-09T07:26:22.271Z"
   },
   {
    "duration": 0,
    "start_time": "2023-12-09T07:26:22.273Z"
   },
   {
    "duration": 0,
    "start_time": "2023-12-09T07:26:22.274Z"
   },
   {
    "duration": 0,
    "start_time": "2023-12-09T07:26:22.275Z"
   },
   {
    "duration": 1187,
    "start_time": "2023-12-09T07:26:34.106Z"
   },
   {
    "duration": 16,
    "start_time": "2023-12-09T07:26:35.295Z"
   },
   {
    "duration": 17,
    "start_time": "2023-12-09T07:26:35.313Z"
   },
   {
    "duration": 9,
    "start_time": "2023-12-09T07:26:35.332Z"
   },
   {
    "duration": 28,
    "start_time": "2023-12-09T07:26:35.343Z"
   },
   {
    "duration": 3,
    "start_time": "2023-12-09T07:26:35.373Z"
   },
   {
    "duration": 11,
    "start_time": "2023-12-09T07:26:35.377Z"
   },
   {
    "duration": 5,
    "start_time": "2023-12-09T07:26:35.389Z"
   },
   {
    "duration": 20,
    "start_time": "2023-12-09T07:26:35.395Z"
   },
   {
    "duration": 13,
    "start_time": "2023-12-09T07:26:35.418Z"
   },
   {
    "duration": 37,
    "start_time": "2023-12-09T07:26:35.432Z"
   },
   {
    "duration": 8,
    "start_time": "2023-12-09T07:26:35.470Z"
   },
   {
    "duration": 2,
    "start_time": "2023-12-09T07:26:35.479Z"
   },
   {
    "duration": 12,
    "start_time": "2023-12-09T07:26:35.482Z"
   },
   {
    "duration": 21,
    "start_time": "2023-12-09T07:26:35.495Z"
   },
   {
    "duration": 18,
    "start_time": "2023-12-09T07:26:35.518Z"
   },
   {
    "duration": 3,
    "start_time": "2023-12-09T07:26:35.537Z"
   },
   {
    "duration": 11,
    "start_time": "2023-12-09T07:26:35.542Z"
   },
   {
    "duration": 14,
    "start_time": "2023-12-09T07:26:35.554Z"
   },
   {
    "duration": 3,
    "start_time": "2023-12-09T07:26:35.569Z"
   },
   {
    "duration": 17,
    "start_time": "2023-12-09T07:26:35.573Z"
   },
   {
    "duration": 5,
    "start_time": "2023-12-09T07:26:35.591Z"
   },
   {
    "duration": 18,
    "start_time": "2023-12-09T07:26:35.597Z"
   },
   {
    "duration": 20,
    "start_time": "2023-12-09T07:26:35.616Z"
   },
   {
    "duration": 3,
    "start_time": "2023-12-09T07:26:35.638Z"
   },
   {
    "duration": 8,
    "start_time": "2023-12-09T07:26:35.642Z"
   },
   {
    "duration": 77,
    "start_time": "2023-12-09T07:26:35.651Z"
   },
   {
    "duration": 5,
    "start_time": "2023-12-09T07:26:35.735Z"
   },
   {
    "duration": 240,
    "start_time": "2023-12-09T07:26:35.741Z"
   },
   {
    "duration": 0,
    "start_time": "2023-12-09T07:26:35.982Z"
   },
   {
    "duration": 0,
    "start_time": "2023-12-09T07:26:35.983Z"
   },
   {
    "duration": 0,
    "start_time": "2023-12-09T07:26:35.984Z"
   },
   {
    "duration": 0,
    "start_time": "2023-12-09T07:26:35.984Z"
   },
   {
    "duration": 0,
    "start_time": "2023-12-09T07:26:35.985Z"
   },
   {
    "duration": 0,
    "start_time": "2023-12-09T07:26:35.986Z"
   },
   {
    "duration": 0,
    "start_time": "2023-12-09T07:26:35.987Z"
   },
   {
    "duration": 0,
    "start_time": "2023-12-09T07:26:35.987Z"
   },
   {
    "duration": 1077,
    "start_time": "2023-12-09T07:26:58.527Z"
   },
   {
    "duration": 16,
    "start_time": "2023-12-09T07:26:59.605Z"
   },
   {
    "duration": 11,
    "start_time": "2023-12-09T07:26:59.622Z"
   },
   {
    "duration": 7,
    "start_time": "2023-12-09T07:26:59.635Z"
   },
   {
    "duration": 25,
    "start_time": "2023-12-09T07:26:59.644Z"
   },
   {
    "duration": 3,
    "start_time": "2023-12-09T07:26:59.670Z"
   },
   {
    "duration": 14,
    "start_time": "2023-12-09T07:26:59.674Z"
   },
   {
    "duration": 6,
    "start_time": "2023-12-09T07:26:59.689Z"
   },
   {
    "duration": 38,
    "start_time": "2023-12-09T07:26:59.696Z"
   },
   {
    "duration": 3,
    "start_time": "2023-12-09T07:26:59.735Z"
   },
   {
    "duration": 35,
    "start_time": "2023-12-09T07:26:59.739Z"
   },
   {
    "duration": 7,
    "start_time": "2023-12-09T07:26:59.775Z"
   },
   {
    "duration": 20,
    "start_time": "2023-12-09T07:26:59.784Z"
   },
   {
    "duration": 25,
    "start_time": "2023-12-09T07:26:59.807Z"
   },
   {
    "duration": 31,
    "start_time": "2023-12-09T07:26:59.833Z"
   },
   {
    "duration": 13,
    "start_time": "2023-12-09T07:26:59.865Z"
   },
   {
    "duration": 2,
    "start_time": "2023-12-09T07:26:59.880Z"
   },
   {
    "duration": 16,
    "start_time": "2023-12-09T07:26:59.884Z"
   },
   {
    "duration": 14,
    "start_time": "2023-12-09T07:26:59.901Z"
   },
   {
    "duration": 8,
    "start_time": "2023-12-09T07:26:59.916Z"
   },
   {
    "duration": 27,
    "start_time": "2023-12-09T07:26:59.925Z"
   },
   {
    "duration": 7,
    "start_time": "2023-12-09T07:26:59.954Z"
   },
   {
    "duration": 16,
    "start_time": "2023-12-09T07:26:59.962Z"
   },
   {
    "duration": 19,
    "start_time": "2023-12-09T07:26:59.979Z"
   },
   {
    "duration": 12,
    "start_time": "2023-12-09T07:26:59.999Z"
   },
   {
    "duration": 64,
    "start_time": "2023-12-09T07:27:00.012Z"
   },
   {
    "duration": 85,
    "start_time": "2023-12-09T07:27:00.078Z"
   },
   {
    "duration": 9,
    "start_time": "2023-12-09T07:27:00.165Z"
   },
   {
    "duration": 195,
    "start_time": "2023-12-09T07:27:00.175Z"
   },
   {
    "duration": 8,
    "start_time": "2023-12-09T07:27:00.372Z"
   },
   {
    "duration": 52,
    "start_time": "2023-12-09T07:27:00.382Z"
   },
   {
    "duration": 173,
    "start_time": "2023-12-09T07:27:00.435Z"
   },
   {
    "duration": 25,
    "start_time": "2023-12-09T07:27:00.614Z"
   },
   {
    "duration": 209,
    "start_time": "2023-12-09T07:27:00.641Z"
   },
   {
    "duration": 6,
    "start_time": "2023-12-09T07:27:00.851Z"
   },
   {
    "duration": 68,
    "start_time": "2023-12-09T07:27:00.858Z"
   },
   {
    "duration": 170,
    "start_time": "2023-12-09T07:27:00.928Z"
   },
   {
    "duration": 1099,
    "start_time": "2023-12-09T07:27:21.462Z"
   },
   {
    "duration": 15,
    "start_time": "2023-12-09T07:27:22.563Z"
   },
   {
    "duration": 29,
    "start_time": "2023-12-09T07:27:22.580Z"
   },
   {
    "duration": 17,
    "start_time": "2023-12-09T07:27:22.611Z"
   },
   {
    "duration": 59,
    "start_time": "2023-12-09T07:27:22.629Z"
   },
   {
    "duration": 2,
    "start_time": "2023-12-09T07:27:22.689Z"
   },
   {
    "duration": 16,
    "start_time": "2023-12-09T07:27:22.692Z"
   },
   {
    "duration": 12,
    "start_time": "2023-12-09T07:27:22.709Z"
   },
   {
    "duration": 18,
    "start_time": "2023-12-09T07:27:22.722Z"
   },
   {
    "duration": 5,
    "start_time": "2023-12-09T07:27:22.742Z"
   },
   {
    "duration": 27,
    "start_time": "2023-12-09T07:27:22.749Z"
   },
   {
    "duration": 7,
    "start_time": "2023-12-09T07:27:22.777Z"
   },
   {
    "duration": 21,
    "start_time": "2023-12-09T07:27:22.785Z"
   },
   {
    "duration": 23,
    "start_time": "2023-12-09T07:27:22.807Z"
   },
   {
    "duration": 32,
    "start_time": "2023-12-09T07:27:22.831Z"
   },
   {
    "duration": 13,
    "start_time": "2023-12-09T07:27:22.864Z"
   },
   {
    "duration": 18,
    "start_time": "2023-12-09T07:27:22.878Z"
   },
   {
    "duration": 13,
    "start_time": "2023-12-09T07:27:22.897Z"
   },
   {
    "duration": 24,
    "start_time": "2023-12-09T07:27:22.911Z"
   },
   {
    "duration": 18,
    "start_time": "2023-12-09T07:27:22.936Z"
   },
   {
    "duration": 26,
    "start_time": "2023-12-09T07:27:22.956Z"
   },
   {
    "duration": 20,
    "start_time": "2023-12-09T07:27:22.983Z"
   },
   {
    "duration": 42,
    "start_time": "2023-12-09T07:27:23.004Z"
   },
   {
    "duration": 43,
    "start_time": "2023-12-09T07:27:23.047Z"
   },
   {
    "duration": 13,
    "start_time": "2023-12-09T07:27:23.091Z"
   },
   {
    "duration": 25,
    "start_time": "2023-12-09T07:27:23.105Z"
   },
   {
    "duration": 80,
    "start_time": "2023-12-09T07:27:23.131Z"
   },
   {
    "duration": 4,
    "start_time": "2023-12-09T07:27:23.214Z"
   },
   {
    "duration": 179,
    "start_time": "2023-12-09T07:27:23.219Z"
   },
   {
    "duration": 5,
    "start_time": "2023-12-09T07:27:23.400Z"
   },
   {
    "duration": 47,
    "start_time": "2023-12-09T07:27:23.406Z"
   },
   {
    "duration": 169,
    "start_time": "2023-12-09T07:27:23.454Z"
   },
   {
    "duration": 25,
    "start_time": "2023-12-09T07:27:23.624Z"
   },
   {
    "duration": 146,
    "start_time": "2023-12-09T07:27:23.650Z"
   },
   {
    "duration": 6,
    "start_time": "2023-12-09T07:27:23.797Z"
   },
   {
    "duration": 52,
    "start_time": "2023-12-09T07:27:23.804Z"
   },
   {
    "duration": 154,
    "start_time": "2023-12-09T07:27:23.858Z"
   },
   {
    "duration": 1092,
    "start_time": "2023-12-09T07:28:21.022Z"
   },
   {
    "duration": 15,
    "start_time": "2023-12-09T07:28:22.116Z"
   },
   {
    "duration": 27,
    "start_time": "2023-12-09T07:28:22.131Z"
   },
   {
    "duration": 7,
    "start_time": "2023-12-09T07:28:22.159Z"
   },
   {
    "duration": 38,
    "start_time": "2023-12-09T07:28:22.167Z"
   },
   {
    "duration": 3,
    "start_time": "2023-12-09T07:28:22.206Z"
   },
   {
    "duration": 9,
    "start_time": "2023-12-09T07:28:22.210Z"
   },
   {
    "duration": 2,
    "start_time": "2023-12-09T07:28:22.220Z"
   },
   {
    "duration": 9,
    "start_time": "2023-12-09T07:28:22.223Z"
   },
   {
    "duration": 3,
    "start_time": "2023-12-09T07:28:22.234Z"
   },
   {
    "duration": 26,
    "start_time": "2023-12-09T07:28:22.238Z"
   },
   {
    "duration": 7,
    "start_time": "2023-12-09T07:28:22.265Z"
   },
   {
    "duration": 21,
    "start_time": "2023-12-09T07:28:22.273Z"
   },
   {
    "duration": 10,
    "start_time": "2023-12-09T07:28:22.296Z"
   },
   {
    "duration": 16,
    "start_time": "2023-12-09T07:28:22.307Z"
   },
   {
    "duration": 15,
    "start_time": "2023-12-09T07:28:22.324Z"
   },
   {
    "duration": 3,
    "start_time": "2023-12-09T07:28:22.340Z"
   },
   {
    "duration": 13,
    "start_time": "2023-12-09T07:28:22.344Z"
   },
   {
    "duration": 4,
    "start_time": "2023-12-09T07:28:22.359Z"
   },
   {
    "duration": 3,
    "start_time": "2023-12-09T07:28:22.364Z"
   },
   {
    "duration": 8,
    "start_time": "2023-12-09T07:28:22.368Z"
   },
   {
    "duration": 6,
    "start_time": "2023-12-09T07:28:22.378Z"
   },
   {
    "duration": 6,
    "start_time": "2023-12-09T07:28:22.385Z"
   },
   {
    "duration": 27,
    "start_time": "2023-12-09T07:28:22.392Z"
   },
   {
    "duration": 3,
    "start_time": "2023-12-09T07:28:22.420Z"
   },
   {
    "duration": 4,
    "start_time": "2023-12-09T07:28:22.424Z"
   },
   {
    "duration": 57,
    "start_time": "2023-12-09T07:28:22.429Z"
   },
   {
    "duration": 67,
    "start_time": "2023-12-09T07:28:22.487Z"
   },
   {
    "duration": 0,
    "start_time": "2023-12-09T07:28:22.555Z"
   },
   {
    "duration": 0,
    "start_time": "2023-12-09T07:28:22.556Z"
   },
   {
    "duration": 0,
    "start_time": "2023-12-09T07:28:22.557Z"
   },
   {
    "duration": 0,
    "start_time": "2023-12-09T07:28:22.558Z"
   },
   {
    "duration": 0,
    "start_time": "2023-12-09T07:28:22.559Z"
   },
   {
    "duration": 0,
    "start_time": "2023-12-09T07:28:22.560Z"
   },
   {
    "duration": 0,
    "start_time": "2023-12-09T07:28:22.561Z"
   },
   {
    "duration": 0,
    "start_time": "2023-12-09T07:28:22.562Z"
   },
   {
    "duration": 0,
    "start_time": "2023-12-09T07:28:22.563Z"
   },
   {
    "duration": 1175,
    "start_time": "2023-12-09T07:28:59.200Z"
   },
   {
    "duration": 18,
    "start_time": "2023-12-09T07:29:00.377Z"
   },
   {
    "duration": 37,
    "start_time": "2023-12-09T07:29:00.400Z"
   },
   {
    "duration": 27,
    "start_time": "2023-12-09T07:29:00.439Z"
   },
   {
    "duration": 71,
    "start_time": "2023-12-09T07:29:00.468Z"
   },
   {
    "duration": 3,
    "start_time": "2023-12-09T07:29:00.540Z"
   },
   {
    "duration": 28,
    "start_time": "2023-12-09T07:29:00.544Z"
   },
   {
    "duration": 30,
    "start_time": "2023-12-09T07:29:00.573Z"
   },
   {
    "duration": 35,
    "start_time": "2023-12-09T07:29:00.605Z"
   },
   {
    "duration": 32,
    "start_time": "2023-12-09T07:29:00.641Z"
   },
   {
    "duration": 76,
    "start_time": "2023-12-09T07:29:00.675Z"
   },
   {
    "duration": 34,
    "start_time": "2023-12-09T07:29:00.753Z"
   },
   {
    "duration": 40,
    "start_time": "2023-12-09T07:29:00.788Z"
   },
   {
    "duration": 50,
    "start_time": "2023-12-09T07:29:00.829Z"
   },
   {
    "duration": 58,
    "start_time": "2023-12-09T07:29:00.880Z"
   },
   {
    "duration": 38,
    "start_time": "2023-12-09T07:29:00.939Z"
   },
   {
    "duration": 17,
    "start_time": "2023-12-09T07:29:00.979Z"
   },
   {
    "duration": 49,
    "start_time": "2023-12-09T07:29:00.997Z"
   },
   {
    "duration": 49,
    "start_time": "2023-12-09T07:29:01.047Z"
   },
   {
    "duration": 33,
    "start_time": "2023-12-09T07:29:01.098Z"
   },
   {
    "duration": 42,
    "start_time": "2023-12-09T07:29:01.132Z"
   },
   {
    "duration": 34,
    "start_time": "2023-12-09T07:29:01.175Z"
   },
   {
    "duration": 20,
    "start_time": "2023-12-09T07:29:01.211Z"
   },
   {
    "duration": 40,
    "start_time": "2023-12-09T07:29:01.232Z"
   },
   {
    "duration": 22,
    "start_time": "2023-12-09T07:29:01.273Z"
   },
   {
    "duration": 24,
    "start_time": "2023-12-09T07:29:01.297Z"
   },
   {
    "duration": 77,
    "start_time": "2023-12-09T07:29:01.324Z"
   },
   {
    "duration": 7,
    "start_time": "2023-12-09T07:29:01.403Z"
   },
   {
    "duration": 236,
    "start_time": "2023-12-09T07:29:01.411Z"
   },
   {
    "duration": 0,
    "start_time": "2023-12-09T07:29:01.648Z"
   },
   {
    "duration": 0,
    "start_time": "2023-12-09T07:29:01.649Z"
   },
   {
    "duration": 0,
    "start_time": "2023-12-09T07:29:01.650Z"
   },
   {
    "duration": 0,
    "start_time": "2023-12-09T07:29:01.651Z"
   },
   {
    "duration": 0,
    "start_time": "2023-12-09T07:29:01.652Z"
   },
   {
    "duration": 0,
    "start_time": "2023-12-09T07:29:01.653Z"
   },
   {
    "duration": 0,
    "start_time": "2023-12-09T07:29:01.654Z"
   },
   {
    "duration": 0,
    "start_time": "2023-12-09T07:29:01.655Z"
   },
   {
    "duration": 1157,
    "start_time": "2023-12-09T07:29:20.250Z"
   },
   {
    "duration": 16,
    "start_time": "2023-12-09T07:29:21.408Z"
   },
   {
    "duration": 11,
    "start_time": "2023-12-09T07:29:21.425Z"
   },
   {
    "duration": 7,
    "start_time": "2023-12-09T07:29:21.438Z"
   },
   {
    "duration": 37,
    "start_time": "2023-12-09T07:29:21.446Z"
   },
   {
    "duration": 9,
    "start_time": "2023-12-09T07:29:21.485Z"
   },
   {
    "duration": 13,
    "start_time": "2023-12-09T07:29:21.495Z"
   },
   {
    "duration": 4,
    "start_time": "2023-12-09T07:29:21.509Z"
   },
   {
    "duration": 13,
    "start_time": "2023-12-09T07:29:21.514Z"
   },
   {
    "duration": 16,
    "start_time": "2023-12-09T07:29:21.528Z"
   },
   {
    "duration": 35,
    "start_time": "2023-12-09T07:29:21.546Z"
   },
   {
    "duration": 8,
    "start_time": "2023-12-09T07:29:21.582Z"
   },
   {
    "duration": 15,
    "start_time": "2023-12-09T07:29:21.591Z"
   },
   {
    "duration": 20,
    "start_time": "2023-12-09T07:29:21.609Z"
   },
   {
    "duration": 16,
    "start_time": "2023-12-09T07:29:21.630Z"
   },
   {
    "duration": 19,
    "start_time": "2023-12-09T07:29:21.647Z"
   },
   {
    "duration": 3,
    "start_time": "2023-12-09T07:29:21.667Z"
   },
   {
    "duration": 51,
    "start_time": "2023-12-09T07:29:21.671Z"
   },
   {
    "duration": 20,
    "start_time": "2023-12-09T07:29:21.723Z"
   },
   {
    "duration": 14,
    "start_time": "2023-12-09T07:29:21.744Z"
   },
   {
    "duration": 26,
    "start_time": "2023-12-09T07:29:21.759Z"
   },
   {
    "duration": 32,
    "start_time": "2023-12-09T07:29:21.786Z"
   },
   {
    "duration": 26,
    "start_time": "2023-12-09T07:29:21.819Z"
   },
   {
    "duration": 21,
    "start_time": "2023-12-09T07:29:21.846Z"
   },
   {
    "duration": 3,
    "start_time": "2023-12-09T07:29:21.868Z"
   },
   {
    "duration": 6,
    "start_time": "2023-12-09T07:29:21.872Z"
   },
   {
    "duration": 64,
    "start_time": "2023-12-09T07:29:21.879Z"
   },
   {
    "duration": 3,
    "start_time": "2023-12-09T07:29:21.944Z"
   },
   {
    "duration": 231,
    "start_time": "2023-12-09T07:29:21.949Z"
   },
   {
    "duration": 0,
    "start_time": "2023-12-09T07:29:22.182Z"
   },
   {
    "duration": 0,
    "start_time": "2023-12-09T07:29:22.183Z"
   },
   {
    "duration": 0,
    "start_time": "2023-12-09T07:29:22.183Z"
   },
   {
    "duration": 0,
    "start_time": "2023-12-09T07:29:22.184Z"
   },
   {
    "duration": 0,
    "start_time": "2023-12-09T07:29:22.185Z"
   },
   {
    "duration": 0,
    "start_time": "2023-12-09T07:29:22.186Z"
   },
   {
    "duration": 0,
    "start_time": "2023-12-09T07:29:22.187Z"
   },
   {
    "duration": 0,
    "start_time": "2023-12-09T07:29:22.188Z"
   },
   {
    "duration": 1122,
    "start_time": "2023-12-09T07:29:39.072Z"
   },
   {
    "duration": 17,
    "start_time": "2023-12-09T07:29:40.195Z"
   },
   {
    "duration": 12,
    "start_time": "2023-12-09T07:29:40.215Z"
   },
   {
    "duration": 8,
    "start_time": "2023-12-09T07:29:40.228Z"
   },
   {
    "duration": 34,
    "start_time": "2023-12-09T07:29:40.237Z"
   },
   {
    "duration": 3,
    "start_time": "2023-12-09T07:29:40.272Z"
   },
   {
    "duration": 8,
    "start_time": "2023-12-09T07:29:40.275Z"
   },
   {
    "duration": 4,
    "start_time": "2023-12-09T07:29:40.285Z"
   },
   {
    "duration": 27,
    "start_time": "2023-12-09T07:29:40.292Z"
   },
   {
    "duration": 4,
    "start_time": "2023-12-09T07:29:40.320Z"
   },
   {
    "duration": 35,
    "start_time": "2023-12-09T07:29:40.325Z"
   },
   {
    "duration": 9,
    "start_time": "2023-12-09T07:29:40.362Z"
   },
   {
    "duration": 4,
    "start_time": "2023-12-09T07:29:40.372Z"
   },
   {
    "duration": 40,
    "start_time": "2023-12-09T07:29:40.377Z"
   },
   {
    "duration": 17,
    "start_time": "2023-12-09T07:29:40.418Z"
   },
   {
    "duration": 14,
    "start_time": "2023-12-09T07:29:40.436Z"
   },
   {
    "duration": 2,
    "start_time": "2023-12-09T07:29:40.452Z"
   },
   {
    "duration": 15,
    "start_time": "2023-12-09T07:29:40.455Z"
   },
   {
    "duration": 5,
    "start_time": "2023-12-09T07:29:40.471Z"
   },
   {
    "duration": 10,
    "start_time": "2023-12-09T07:29:40.477Z"
   },
   {
    "duration": 23,
    "start_time": "2023-12-09T07:29:40.488Z"
   },
   {
    "duration": 7,
    "start_time": "2023-12-09T07:29:40.512Z"
   },
   {
    "duration": 8,
    "start_time": "2023-12-09T07:29:40.521Z"
   },
   {
    "duration": 12,
    "start_time": "2023-12-09T07:29:40.530Z"
   },
   {
    "duration": 3,
    "start_time": "2023-12-09T07:29:40.543Z"
   },
   {
    "duration": 4,
    "start_time": "2023-12-09T07:29:40.547Z"
   },
   {
    "duration": 64,
    "start_time": "2023-12-09T07:29:40.553Z"
   },
   {
    "duration": 3,
    "start_time": "2023-12-09T07:29:40.618Z"
   },
   {
    "duration": 223,
    "start_time": "2023-12-09T07:29:40.622Z"
   },
   {
    "duration": 0,
    "start_time": "2023-12-09T07:29:40.847Z"
   },
   {
    "duration": 0,
    "start_time": "2023-12-09T07:29:40.847Z"
   },
   {
    "duration": 0,
    "start_time": "2023-12-09T07:29:40.848Z"
   },
   {
    "duration": 0,
    "start_time": "2023-12-09T07:29:40.849Z"
   },
   {
    "duration": 0,
    "start_time": "2023-12-09T07:29:40.850Z"
   },
   {
    "duration": 0,
    "start_time": "2023-12-09T07:29:40.851Z"
   },
   {
    "duration": 0,
    "start_time": "2023-12-09T07:29:40.852Z"
   },
   {
    "duration": 0,
    "start_time": "2023-12-09T07:29:40.853Z"
   },
   {
    "duration": 1125,
    "start_time": "2023-12-09T07:29:54.547Z"
   },
   {
    "duration": 15,
    "start_time": "2023-12-09T07:29:55.674Z"
   },
   {
    "duration": 22,
    "start_time": "2023-12-09T07:29:55.690Z"
   },
   {
    "duration": 14,
    "start_time": "2023-12-09T07:29:55.713Z"
   },
   {
    "duration": 41,
    "start_time": "2023-12-09T07:29:55.728Z"
   },
   {
    "duration": 14,
    "start_time": "2023-12-09T07:29:55.771Z"
   },
   {
    "duration": 44,
    "start_time": "2023-12-09T07:29:55.786Z"
   },
   {
    "duration": 33,
    "start_time": "2023-12-09T07:29:55.832Z"
   },
   {
    "duration": 42,
    "start_time": "2023-12-09T07:29:55.866Z"
   },
   {
    "duration": 31,
    "start_time": "2023-12-09T07:29:55.910Z"
   },
   {
    "duration": 29,
    "start_time": "2023-12-09T07:29:55.942Z"
   },
   {
    "duration": 7,
    "start_time": "2023-12-09T07:29:55.972Z"
   },
   {
    "duration": 8,
    "start_time": "2023-12-09T07:29:55.980Z"
   },
   {
    "duration": 16,
    "start_time": "2023-12-09T07:29:55.990Z"
   },
   {
    "duration": 28,
    "start_time": "2023-12-09T07:29:56.007Z"
   },
   {
    "duration": 14,
    "start_time": "2023-12-09T07:29:56.036Z"
   },
   {
    "duration": 3,
    "start_time": "2023-12-09T07:29:56.051Z"
   },
   {
    "duration": 16,
    "start_time": "2023-12-09T07:29:56.055Z"
   },
   {
    "duration": 17,
    "start_time": "2023-12-09T07:29:56.073Z"
   },
   {
    "duration": 10,
    "start_time": "2023-12-09T07:29:56.091Z"
   },
   {
    "duration": 15,
    "start_time": "2023-12-09T07:29:56.102Z"
   },
   {
    "duration": 8,
    "start_time": "2023-12-09T07:29:56.118Z"
   },
   {
    "duration": 10,
    "start_time": "2023-12-09T07:29:56.127Z"
   },
   {
    "duration": 15,
    "start_time": "2023-12-09T07:29:56.138Z"
   },
   {
    "duration": 8,
    "start_time": "2023-12-09T07:29:56.154Z"
   },
   {
    "duration": 10,
    "start_time": "2023-12-09T07:29:56.163Z"
   },
   {
    "duration": 73,
    "start_time": "2023-12-09T07:29:56.174Z"
   },
   {
    "duration": 3,
    "start_time": "2023-12-09T07:29:56.250Z"
   },
   {
    "duration": 229,
    "start_time": "2023-12-09T07:29:56.254Z"
   },
   {
    "duration": 0,
    "start_time": "2023-12-09T07:29:56.484Z"
   },
   {
    "duration": 0,
    "start_time": "2023-12-09T07:29:56.485Z"
   },
   {
    "duration": 0,
    "start_time": "2023-12-09T07:29:56.486Z"
   },
   {
    "duration": 0,
    "start_time": "2023-12-09T07:29:56.487Z"
   },
   {
    "duration": 0,
    "start_time": "2023-12-09T07:29:56.488Z"
   },
   {
    "duration": 0,
    "start_time": "2023-12-09T07:29:56.489Z"
   },
   {
    "duration": 0,
    "start_time": "2023-12-09T07:29:56.490Z"
   },
   {
    "duration": 0,
    "start_time": "2023-12-09T07:29:56.491Z"
   },
   {
    "duration": 1089,
    "start_time": "2023-12-09T07:30:13.753Z"
   },
   {
    "duration": 15,
    "start_time": "2023-12-09T07:30:14.844Z"
   },
   {
    "duration": 17,
    "start_time": "2023-12-09T07:30:14.861Z"
   },
   {
    "duration": 23,
    "start_time": "2023-12-09T07:30:14.880Z"
   },
   {
    "duration": 30,
    "start_time": "2023-12-09T07:30:14.904Z"
   },
   {
    "duration": 3,
    "start_time": "2023-12-09T07:30:14.935Z"
   },
   {
    "duration": 11,
    "start_time": "2023-12-09T07:30:14.939Z"
   },
   {
    "duration": 3,
    "start_time": "2023-12-09T07:30:14.951Z"
   },
   {
    "duration": 6,
    "start_time": "2023-12-09T07:30:14.955Z"
   },
   {
    "duration": 11,
    "start_time": "2023-12-09T07:30:14.963Z"
   },
   {
    "duration": 28,
    "start_time": "2023-12-09T07:30:14.975Z"
   },
   {
    "duration": 14,
    "start_time": "2023-12-09T07:30:15.004Z"
   },
   {
    "duration": 45,
    "start_time": "2023-12-09T07:30:15.019Z"
   },
   {
    "duration": 62,
    "start_time": "2023-12-09T07:30:15.066Z"
   },
   {
    "duration": 61,
    "start_time": "2023-12-09T07:30:15.130Z"
   },
   {
    "duration": 14,
    "start_time": "2023-12-09T07:30:15.193Z"
   },
   {
    "duration": 3,
    "start_time": "2023-12-09T07:30:15.209Z"
   },
   {
    "duration": 37,
    "start_time": "2023-12-09T07:30:15.213Z"
   },
   {
    "duration": 8,
    "start_time": "2023-12-09T07:30:15.252Z"
   },
   {
    "duration": 15,
    "start_time": "2023-12-09T07:30:15.261Z"
   },
   {
    "duration": 20,
    "start_time": "2023-12-09T07:30:15.277Z"
   },
   {
    "duration": 21,
    "start_time": "2023-12-09T07:30:15.298Z"
   },
   {
    "duration": 7,
    "start_time": "2023-12-09T07:30:15.321Z"
   },
   {
    "duration": 22,
    "start_time": "2023-12-09T07:30:15.329Z"
   },
   {
    "duration": 16,
    "start_time": "2023-12-09T07:30:15.352Z"
   },
   {
    "duration": 9,
    "start_time": "2023-12-09T07:30:15.370Z"
   },
   {
    "duration": 65,
    "start_time": "2023-12-09T07:30:15.380Z"
   },
   {
    "duration": 3,
    "start_time": "2023-12-09T07:30:15.447Z"
   },
   {
    "duration": 247,
    "start_time": "2023-12-09T07:30:15.451Z"
   },
   {
    "duration": 0,
    "start_time": "2023-12-09T07:30:15.699Z"
   },
   {
    "duration": 0,
    "start_time": "2023-12-09T07:30:15.700Z"
   },
   {
    "duration": 0,
    "start_time": "2023-12-09T07:30:15.701Z"
   },
   {
    "duration": 0,
    "start_time": "2023-12-09T07:30:15.702Z"
   },
   {
    "duration": 0,
    "start_time": "2023-12-09T07:30:15.702Z"
   },
   {
    "duration": 0,
    "start_time": "2023-12-09T07:30:15.703Z"
   },
   {
    "duration": 0,
    "start_time": "2023-12-09T07:30:15.704Z"
   },
   {
    "duration": 0,
    "start_time": "2023-12-09T07:30:15.705Z"
   },
   {
    "duration": 1116,
    "start_time": "2023-12-09T07:30:37.768Z"
   },
   {
    "duration": 17,
    "start_time": "2023-12-09T07:30:38.885Z"
   },
   {
    "duration": 11,
    "start_time": "2023-12-09T07:30:38.903Z"
   },
   {
    "duration": 8,
    "start_time": "2023-12-09T07:30:38.916Z"
   },
   {
    "duration": 27,
    "start_time": "2023-12-09T07:30:38.925Z"
   },
   {
    "duration": 3,
    "start_time": "2023-12-09T07:30:38.953Z"
   },
   {
    "duration": 7,
    "start_time": "2023-12-09T07:30:38.957Z"
   },
   {
    "duration": 7,
    "start_time": "2023-12-09T07:30:38.966Z"
   },
   {
    "duration": 13,
    "start_time": "2023-12-09T07:30:38.974Z"
   },
   {
    "duration": 5,
    "start_time": "2023-12-09T07:30:38.989Z"
   },
   {
    "duration": 42,
    "start_time": "2023-12-09T07:30:38.995Z"
   },
   {
    "duration": 7,
    "start_time": "2023-12-09T07:30:39.038Z"
   },
   {
    "duration": 2,
    "start_time": "2023-12-09T07:30:39.047Z"
   },
   {
    "duration": 13,
    "start_time": "2023-12-09T07:30:39.050Z"
   },
   {
    "duration": 18,
    "start_time": "2023-12-09T07:30:39.064Z"
   },
   {
    "duration": 14,
    "start_time": "2023-12-09T07:30:39.083Z"
   },
   {
    "duration": 17,
    "start_time": "2023-12-09T07:30:39.098Z"
   },
   {
    "duration": 8,
    "start_time": "2023-12-09T07:30:39.116Z"
   },
   {
    "duration": 6,
    "start_time": "2023-12-09T07:30:39.125Z"
   },
   {
    "duration": 5,
    "start_time": "2023-12-09T07:30:39.132Z"
   },
   {
    "duration": 10,
    "start_time": "2023-12-09T07:30:39.138Z"
   },
   {
    "duration": 4,
    "start_time": "2023-12-09T07:30:39.149Z"
   },
   {
    "duration": 6,
    "start_time": "2023-12-09T07:30:39.154Z"
   },
   {
    "duration": 17,
    "start_time": "2023-12-09T07:30:39.161Z"
   },
   {
    "duration": 3,
    "start_time": "2023-12-09T07:30:39.179Z"
   },
   {
    "duration": 29,
    "start_time": "2023-12-09T07:30:39.183Z"
   },
   {
    "duration": 59,
    "start_time": "2023-12-09T07:30:39.215Z"
   },
   {
    "duration": 3,
    "start_time": "2023-12-09T07:30:39.276Z"
   },
   {
    "duration": 235,
    "start_time": "2023-12-09T07:30:39.280Z"
   },
   {
    "duration": 0,
    "start_time": "2023-12-09T07:30:39.516Z"
   },
   {
    "duration": 0,
    "start_time": "2023-12-09T07:30:39.517Z"
   },
   {
    "duration": 0,
    "start_time": "2023-12-09T07:30:39.518Z"
   },
   {
    "duration": 0,
    "start_time": "2023-12-09T07:30:39.519Z"
   },
   {
    "duration": 0,
    "start_time": "2023-12-09T07:30:39.520Z"
   },
   {
    "duration": 0,
    "start_time": "2023-12-09T07:30:39.521Z"
   },
   {
    "duration": 0,
    "start_time": "2023-12-09T07:30:39.522Z"
   },
   {
    "duration": 0,
    "start_time": "2023-12-09T07:30:39.522Z"
   },
   {
    "duration": 1124,
    "start_time": "2023-12-09T07:30:54.348Z"
   },
   {
    "duration": 16,
    "start_time": "2023-12-09T07:30:55.473Z"
   },
   {
    "duration": 12,
    "start_time": "2023-12-09T07:30:55.491Z"
   },
   {
    "duration": 8,
    "start_time": "2023-12-09T07:30:55.505Z"
   },
   {
    "duration": 27,
    "start_time": "2023-12-09T07:30:55.515Z"
   },
   {
    "duration": 2,
    "start_time": "2023-12-09T07:30:55.544Z"
   },
   {
    "duration": 7,
    "start_time": "2023-12-09T07:30:55.548Z"
   },
   {
    "duration": 3,
    "start_time": "2023-12-09T07:30:55.557Z"
   },
   {
    "duration": 9,
    "start_time": "2023-12-09T07:30:55.562Z"
   },
   {
    "duration": 3,
    "start_time": "2023-12-09T07:30:55.574Z"
   },
   {
    "duration": 56,
    "start_time": "2023-12-09T07:30:55.579Z"
   },
   {
    "duration": 8,
    "start_time": "2023-12-09T07:30:55.637Z"
   },
   {
    "duration": 3,
    "start_time": "2023-12-09T07:30:55.646Z"
   },
   {
    "duration": 10,
    "start_time": "2023-12-09T07:30:55.650Z"
   },
   {
    "duration": 20,
    "start_time": "2023-12-09T07:30:55.661Z"
   },
   {
    "duration": 33,
    "start_time": "2023-12-09T07:30:55.682Z"
   },
   {
    "duration": 3,
    "start_time": "2023-12-09T07:30:55.716Z"
   },
   {
    "duration": 9,
    "start_time": "2023-12-09T07:30:55.721Z"
   },
   {
    "duration": 12,
    "start_time": "2023-12-09T07:30:55.731Z"
   },
   {
    "duration": 4,
    "start_time": "2023-12-09T07:30:55.744Z"
   },
   {
    "duration": 14,
    "start_time": "2023-12-09T07:30:55.749Z"
   },
   {
    "duration": 8,
    "start_time": "2023-12-09T07:30:55.765Z"
   },
   {
    "duration": 6,
    "start_time": "2023-12-09T07:30:55.774Z"
   },
   {
    "duration": 15,
    "start_time": "2023-12-09T07:30:55.781Z"
   },
   {
    "duration": 3,
    "start_time": "2023-12-09T07:30:55.797Z"
   },
   {
    "duration": 13,
    "start_time": "2023-12-09T07:30:55.802Z"
   },
   {
    "duration": 66,
    "start_time": "2023-12-09T07:30:55.816Z"
   },
   {
    "duration": 3,
    "start_time": "2023-12-09T07:30:55.885Z"
   },
   {
    "duration": 232,
    "start_time": "2023-12-09T07:30:55.890Z"
   },
   {
    "duration": 0,
    "start_time": "2023-12-09T07:30:56.124Z"
   },
   {
    "duration": 0,
    "start_time": "2023-12-09T07:30:56.125Z"
   },
   {
    "duration": 0,
    "start_time": "2023-12-09T07:30:56.126Z"
   },
   {
    "duration": 0,
    "start_time": "2023-12-09T07:30:56.127Z"
   },
   {
    "duration": 0,
    "start_time": "2023-12-09T07:30:56.128Z"
   },
   {
    "duration": 0,
    "start_time": "2023-12-09T07:30:56.129Z"
   },
   {
    "duration": 0,
    "start_time": "2023-12-09T07:30:56.129Z"
   },
   {
    "duration": 0,
    "start_time": "2023-12-09T07:30:56.130Z"
   },
   {
    "duration": 1108,
    "start_time": "2023-12-09T07:31:40.289Z"
   },
   {
    "duration": 17,
    "start_time": "2023-12-09T07:31:41.399Z"
   },
   {
    "duration": 13,
    "start_time": "2023-12-09T07:31:41.417Z"
   },
   {
    "duration": 15,
    "start_time": "2023-12-09T07:31:41.431Z"
   },
   {
    "duration": 26,
    "start_time": "2023-12-09T07:31:41.448Z"
   },
   {
    "duration": 3,
    "start_time": "2023-12-09T07:31:41.475Z"
   },
   {
    "duration": 7,
    "start_time": "2023-12-09T07:31:41.479Z"
   },
   {
    "duration": 13,
    "start_time": "2023-12-09T07:31:41.487Z"
   },
   {
    "duration": 15,
    "start_time": "2023-12-09T07:31:41.501Z"
   },
   {
    "duration": 11,
    "start_time": "2023-12-09T07:31:41.517Z"
   },
   {
    "duration": 26,
    "start_time": "2023-12-09T07:31:41.530Z"
   },
   {
    "duration": 7,
    "start_time": "2023-12-09T07:31:41.557Z"
   },
   {
    "duration": 6,
    "start_time": "2023-12-09T07:31:41.565Z"
   },
   {
    "duration": 13,
    "start_time": "2023-12-09T07:31:41.574Z"
   },
   {
    "duration": 18,
    "start_time": "2023-12-09T07:31:41.588Z"
   },
   {
    "duration": 19,
    "start_time": "2023-12-09T07:31:41.607Z"
   },
   {
    "duration": 3,
    "start_time": "2023-12-09T07:31:41.628Z"
   },
   {
    "duration": 12,
    "start_time": "2023-12-09T07:31:41.632Z"
   },
   {
    "duration": 38,
    "start_time": "2023-12-09T07:31:41.646Z"
   },
   {
    "duration": 8,
    "start_time": "2023-12-09T07:31:41.685Z"
   },
   {
    "duration": 13,
    "start_time": "2023-12-09T07:31:41.694Z"
   },
   {
    "duration": 4,
    "start_time": "2023-12-09T07:31:41.708Z"
   },
   {
    "duration": 21,
    "start_time": "2023-12-09T07:31:41.713Z"
   },
   {
    "duration": 12,
    "start_time": "2023-12-09T07:31:41.735Z"
   },
   {
    "duration": 3,
    "start_time": "2023-12-09T07:31:41.748Z"
   },
   {
    "duration": 7,
    "start_time": "2023-12-09T07:31:41.752Z"
   },
   {
    "duration": 70,
    "start_time": "2023-12-09T07:31:41.760Z"
   },
   {
    "duration": 3,
    "start_time": "2023-12-09T07:31:41.832Z"
   },
   {
    "duration": 233,
    "start_time": "2023-12-09T07:31:41.837Z"
   },
   {
    "duration": 0,
    "start_time": "2023-12-09T07:31:42.071Z"
   },
   {
    "duration": 0,
    "start_time": "2023-12-09T07:31:42.072Z"
   },
   {
    "duration": 0,
    "start_time": "2023-12-09T07:31:42.073Z"
   },
   {
    "duration": 0,
    "start_time": "2023-12-09T07:31:42.074Z"
   },
   {
    "duration": 0,
    "start_time": "2023-12-09T07:31:42.075Z"
   },
   {
    "duration": 0,
    "start_time": "2023-12-09T07:31:42.076Z"
   },
   {
    "duration": 0,
    "start_time": "2023-12-09T07:31:42.076Z"
   },
   {
    "duration": 0,
    "start_time": "2023-12-09T07:31:42.077Z"
   },
   {
    "duration": 1172,
    "start_time": "2023-12-09T07:50:50.505Z"
   },
   {
    "duration": 14,
    "start_time": "2023-12-09T07:50:51.679Z"
   },
   {
    "duration": 11,
    "start_time": "2023-12-09T07:50:51.695Z"
   },
   {
    "duration": 7,
    "start_time": "2023-12-09T07:50:51.708Z"
   },
   {
    "duration": 30,
    "start_time": "2023-12-09T07:50:51.716Z"
   },
   {
    "duration": 3,
    "start_time": "2023-12-09T07:50:51.747Z"
   },
   {
    "duration": 19,
    "start_time": "2023-12-09T07:50:51.751Z"
   },
   {
    "duration": 7,
    "start_time": "2023-12-09T07:50:51.772Z"
   },
   {
    "duration": 16,
    "start_time": "2023-12-09T07:50:51.780Z"
   },
   {
    "duration": 11,
    "start_time": "2023-12-09T07:50:51.798Z"
   },
   {
    "duration": 26,
    "start_time": "2023-12-09T07:50:51.810Z"
   },
   {
    "duration": 7,
    "start_time": "2023-12-09T07:50:51.837Z"
   },
   {
    "duration": 4,
    "start_time": "2023-12-09T07:50:51.846Z"
   },
   {
    "duration": 9,
    "start_time": "2023-12-09T07:50:51.853Z"
   },
   {
    "duration": 36,
    "start_time": "2023-12-09T07:50:51.863Z"
   },
   {
    "duration": 16,
    "start_time": "2023-12-09T07:50:51.900Z"
   },
   {
    "duration": 3,
    "start_time": "2023-12-09T07:50:51.917Z"
   },
   {
    "duration": 26,
    "start_time": "2023-12-09T07:50:51.922Z"
   },
   {
    "duration": 17,
    "start_time": "2023-12-09T07:50:51.949Z"
   },
   {
    "duration": 2,
    "start_time": "2023-12-09T07:50:51.968Z"
   },
   {
    "duration": 10,
    "start_time": "2023-12-09T07:50:51.971Z"
   },
   {
    "duration": 8,
    "start_time": "2023-12-09T07:50:51.982Z"
   },
   {
    "duration": 5,
    "start_time": "2023-12-09T07:50:51.992Z"
   },
   {
    "duration": 29,
    "start_time": "2023-12-09T07:50:51.998Z"
   },
   {
    "duration": 7,
    "start_time": "2023-12-09T07:50:52.028Z"
   },
   {
    "duration": 8,
    "start_time": "2023-12-09T07:50:52.037Z"
   },
   {
    "duration": 59,
    "start_time": "2023-12-09T07:50:52.046Z"
   },
   {
    "duration": 3,
    "start_time": "2023-12-09T07:50:52.106Z"
   },
   {
    "duration": 15,
    "start_time": "2023-12-09T07:50:52.111Z"
   },
   {
    "duration": 10,
    "start_time": "2023-12-09T07:50:52.127Z"
   },
   {
    "duration": 24,
    "start_time": "2023-12-09T07:50:52.138Z"
   },
   {
    "duration": 165,
    "start_time": "2023-12-09T07:50:52.164Z"
   },
   {
    "duration": 23,
    "start_time": "2023-12-09T07:50:52.330Z"
   },
   {
    "duration": 143,
    "start_time": "2023-12-09T07:50:52.354Z"
   },
   {
    "duration": 6,
    "start_time": "2023-12-09T07:50:52.498Z"
   },
   {
    "duration": 25,
    "start_time": "2023-12-09T07:50:52.515Z"
   },
   {
    "duration": 158,
    "start_time": "2023-12-09T07:50:52.542Z"
   },
   {
    "duration": 1129,
    "start_time": "2023-12-09T09:23:48.073Z"
   },
   {
    "duration": 16,
    "start_time": "2023-12-09T09:23:49.204Z"
   },
   {
    "duration": 11,
    "start_time": "2023-12-09T09:23:49.222Z"
   },
   {
    "duration": 7,
    "start_time": "2023-12-09T09:23:49.235Z"
   },
   {
    "duration": 26,
    "start_time": "2023-12-09T09:23:49.244Z"
   },
   {
    "duration": 2,
    "start_time": "2023-12-09T09:23:49.271Z"
   },
   {
    "duration": 9,
    "start_time": "2023-12-09T09:23:49.274Z"
   },
   {
    "duration": 3,
    "start_time": "2023-12-09T09:23:49.284Z"
   },
   {
    "duration": 31,
    "start_time": "2023-12-09T09:23:49.288Z"
   },
   {
    "duration": 3,
    "start_time": "2023-12-09T09:23:49.321Z"
   },
   {
    "duration": 27,
    "start_time": "2023-12-09T09:23:49.325Z"
   },
   {
    "duration": 8,
    "start_time": "2023-12-09T09:23:49.353Z"
   },
   {
    "duration": 16,
    "start_time": "2023-12-09T09:23:49.362Z"
   },
   {
    "duration": 11,
    "start_time": "2023-12-09T09:23:49.379Z"
   },
   {
    "duration": 23,
    "start_time": "2023-12-09T09:23:49.392Z"
   },
   {
    "duration": 15,
    "start_time": "2023-12-09T09:23:49.416Z"
   },
   {
    "duration": 3,
    "start_time": "2023-12-09T09:23:49.432Z"
   },
   {
    "duration": 14,
    "start_time": "2023-12-09T09:23:49.436Z"
   },
   {
    "duration": 7,
    "start_time": "2023-12-09T09:23:49.451Z"
   },
   {
    "duration": 3,
    "start_time": "2023-12-09T09:23:49.459Z"
   },
   {
    "duration": 16,
    "start_time": "2023-12-09T09:23:49.463Z"
   },
   {
    "duration": 7,
    "start_time": "2023-12-09T09:23:49.480Z"
   },
   {
    "duration": 12,
    "start_time": "2023-12-09T09:23:49.488Z"
   },
   {
    "duration": 19,
    "start_time": "2023-12-09T09:23:49.501Z"
   },
   {
    "duration": 2,
    "start_time": "2023-12-09T09:23:49.521Z"
   },
   {
    "duration": 6,
    "start_time": "2023-12-09T09:23:49.524Z"
   },
   {
    "duration": 65,
    "start_time": "2023-12-09T09:23:49.531Z"
   },
   {
    "duration": 3,
    "start_time": "2023-12-09T09:23:49.599Z"
   },
   {
    "duration": 5,
    "start_time": "2023-12-09T09:23:49.603Z"
   },
   {
    "duration": 11,
    "start_time": "2023-12-09T09:23:49.609Z"
   },
   {
    "duration": 39,
    "start_time": "2023-12-09T09:23:49.621Z"
   },
   {
    "duration": 170,
    "start_time": "2023-12-09T09:23:49.661Z"
   },
   {
    "duration": 24,
    "start_time": "2023-12-09T09:23:49.832Z"
   },
   {
    "duration": 158,
    "start_time": "2023-12-09T09:23:49.858Z"
   },
   {
    "duration": 6,
    "start_time": "2023-12-09T09:23:50.017Z"
   },
   {
    "duration": 29,
    "start_time": "2023-12-09T09:23:50.024Z"
   },
   {
    "duration": 179,
    "start_time": "2023-12-09T09:23:50.054Z"
   },
   {
    "duration": 1111,
    "start_time": "2023-12-09T09:25:22.723Z"
   },
   {
    "duration": 16,
    "start_time": "2023-12-09T09:25:23.835Z"
   },
   {
    "duration": 12,
    "start_time": "2023-12-09T09:25:23.853Z"
   },
   {
    "duration": 10,
    "start_time": "2023-12-09T09:25:23.867Z"
   },
   {
    "duration": 45,
    "start_time": "2023-12-09T09:25:23.878Z"
   },
   {
    "duration": 3,
    "start_time": "2023-12-09T09:25:23.924Z"
   },
   {
    "duration": 7,
    "start_time": "2023-12-09T09:25:23.929Z"
   },
   {
    "duration": 3,
    "start_time": "2023-12-09T09:25:23.938Z"
   },
   {
    "duration": 13,
    "start_time": "2023-12-09T09:25:23.942Z"
   },
   {
    "duration": 17,
    "start_time": "2023-12-09T09:25:23.957Z"
   },
   {
    "duration": 32,
    "start_time": "2023-12-09T09:25:23.975Z"
   },
   {
    "duration": 7,
    "start_time": "2023-12-09T09:25:24.010Z"
   },
   {
    "duration": 4,
    "start_time": "2023-12-09T09:25:24.018Z"
   },
   {
    "duration": 10,
    "start_time": "2023-12-09T09:25:24.023Z"
   },
   {
    "duration": 19,
    "start_time": "2023-12-09T09:25:24.034Z"
   },
   {
    "duration": 13,
    "start_time": "2023-12-09T09:25:24.054Z"
   },
   {
    "duration": 3,
    "start_time": "2023-12-09T09:25:24.068Z"
   },
   {
    "duration": 14,
    "start_time": "2023-12-09T09:25:24.072Z"
   },
   {
    "duration": 25,
    "start_time": "2023-12-09T09:25:24.087Z"
   },
   {
    "duration": 5,
    "start_time": "2023-12-09T09:25:24.113Z"
   },
   {
    "duration": 28,
    "start_time": "2023-12-09T09:25:24.119Z"
   },
   {
    "duration": 13,
    "start_time": "2023-12-09T09:25:24.149Z"
   },
   {
    "duration": 13,
    "start_time": "2023-12-09T09:25:24.163Z"
   },
   {
    "duration": 20,
    "start_time": "2023-12-09T09:25:24.177Z"
   },
   {
    "duration": 29,
    "start_time": "2023-12-09T09:25:24.198Z"
   },
   {
    "duration": 16,
    "start_time": "2023-12-09T09:25:24.228Z"
   },
   {
    "duration": 63,
    "start_time": "2023-12-09T09:25:24.245Z"
   },
   {
    "duration": 3,
    "start_time": "2023-12-09T09:25:24.311Z"
   },
   {
    "duration": 18,
    "start_time": "2023-12-09T09:25:24.316Z"
   },
   {
    "duration": 7,
    "start_time": "2023-12-09T09:25:24.335Z"
   },
   {
    "duration": 28,
    "start_time": "2023-12-09T09:25:24.343Z"
   },
   {
    "duration": 165,
    "start_time": "2023-12-09T09:25:24.373Z"
   },
   {
    "duration": 24,
    "start_time": "2023-12-09T09:25:24.539Z"
   },
   {
    "duration": 144,
    "start_time": "2023-12-09T09:25:24.564Z"
   },
   {
    "duration": 6,
    "start_time": "2023-12-09T09:25:24.714Z"
   },
   {
    "duration": 33,
    "start_time": "2023-12-09T09:25:24.721Z"
   },
   {
    "duration": 167,
    "start_time": "2023-12-09T09:25:24.755Z"
   },
   {
    "duration": 1129,
    "start_time": "2023-12-09T09:32:34.978Z"
   },
   {
    "duration": 15,
    "start_time": "2023-12-09T09:32:36.109Z"
   },
   {
    "duration": 20,
    "start_time": "2023-12-09T09:32:36.126Z"
   },
   {
    "duration": 6,
    "start_time": "2023-12-09T09:32:36.148Z"
   },
   {
    "duration": 33,
    "start_time": "2023-12-09T09:32:36.156Z"
   },
   {
    "duration": 5,
    "start_time": "2023-12-09T09:32:36.190Z"
   },
   {
    "duration": 7,
    "start_time": "2023-12-09T09:32:36.196Z"
   },
   {
    "duration": 7,
    "start_time": "2023-12-09T09:32:36.204Z"
   },
   {
    "duration": 24,
    "start_time": "2023-12-09T09:32:36.214Z"
   },
   {
    "duration": 9,
    "start_time": "2023-12-09T09:32:36.241Z"
   },
   {
    "duration": 28,
    "start_time": "2023-12-09T09:32:36.251Z"
   },
   {
    "duration": 7,
    "start_time": "2023-12-09T09:32:36.280Z"
   },
   {
    "duration": 4,
    "start_time": "2023-12-09T09:32:36.288Z"
   },
   {
    "duration": 22,
    "start_time": "2023-12-09T09:32:36.294Z"
   },
   {
    "duration": 25,
    "start_time": "2023-12-09T09:32:36.317Z"
   },
   {
    "duration": 14,
    "start_time": "2023-12-09T09:32:36.343Z"
   },
   {
    "duration": 4,
    "start_time": "2023-12-09T09:32:36.358Z"
   },
   {
    "duration": 9,
    "start_time": "2023-12-09T09:32:36.363Z"
   },
   {
    "duration": 7,
    "start_time": "2023-12-09T09:32:36.373Z"
   },
   {
    "duration": 4,
    "start_time": "2023-12-09T09:32:36.381Z"
   },
   {
    "duration": 24,
    "start_time": "2023-12-09T09:32:36.386Z"
   },
   {
    "duration": 5,
    "start_time": "2023-12-09T09:32:36.411Z"
   },
   {
    "duration": 17,
    "start_time": "2023-12-09T09:32:36.417Z"
   },
   {
    "duration": 19,
    "start_time": "2023-12-09T09:32:36.435Z"
   },
   {
    "duration": 7,
    "start_time": "2023-12-09T09:32:36.455Z"
   },
   {
    "duration": 8,
    "start_time": "2023-12-09T09:32:36.463Z"
   },
   {
    "duration": 68,
    "start_time": "2023-12-09T09:32:36.471Z"
   },
   {
    "duration": 3,
    "start_time": "2023-12-09T09:32:36.541Z"
   },
   {
    "duration": 143,
    "start_time": "2023-12-09T09:32:36.545Z"
   },
   {
    "duration": 5,
    "start_time": "2023-12-09T09:32:36.690Z"
   },
   {
    "duration": 36,
    "start_time": "2023-12-09T09:32:36.696Z"
   },
   {
    "duration": 166,
    "start_time": "2023-12-09T09:32:36.733Z"
   },
   {
    "duration": 31,
    "start_time": "2023-12-09T09:32:36.900Z"
   },
   {
    "duration": 154,
    "start_time": "2023-12-09T09:32:36.932Z"
   },
   {
    "duration": 6,
    "start_time": "2023-12-09T09:32:37.087Z"
   },
   {
    "duration": 38,
    "start_time": "2023-12-09T09:32:37.094Z"
   },
   {
    "duration": 174,
    "start_time": "2023-12-09T09:32:37.133Z"
   },
   {
    "duration": 1074,
    "start_time": "2023-12-09T09:34:58.819Z"
   },
   {
    "duration": 15,
    "start_time": "2023-12-09T09:34:59.894Z"
   },
   {
    "duration": 13,
    "start_time": "2023-12-09T09:34:59.910Z"
   },
   {
    "duration": 8,
    "start_time": "2023-12-09T09:34:59.925Z"
   },
   {
    "duration": 31,
    "start_time": "2023-12-09T09:34:59.934Z"
   },
   {
    "duration": 3,
    "start_time": "2023-12-09T09:34:59.967Z"
   },
   {
    "duration": 12,
    "start_time": "2023-12-09T09:34:59.971Z"
   },
   {
    "duration": 4,
    "start_time": "2023-12-09T09:34:59.984Z"
   },
   {
    "duration": 26,
    "start_time": "2023-12-09T09:34:59.989Z"
   },
   {
    "duration": 4,
    "start_time": "2023-12-09T09:35:00.018Z"
   },
   {
    "duration": 29,
    "start_time": "2023-12-09T09:35:00.023Z"
   },
   {
    "duration": 30,
    "start_time": "2023-12-09T09:35:00.053Z"
   },
   {
    "duration": 36,
    "start_time": "2023-12-09T09:35:00.085Z"
   },
   {
    "duration": 31,
    "start_time": "2023-12-09T09:35:00.122Z"
   },
   {
    "duration": 35,
    "start_time": "2023-12-09T09:35:00.154Z"
   },
   {
    "duration": 15,
    "start_time": "2023-12-09T09:35:00.190Z"
   },
   {
    "duration": 14,
    "start_time": "2023-12-09T09:35:00.206Z"
   },
   {
    "duration": 37,
    "start_time": "2023-12-09T09:35:00.221Z"
   },
   {
    "duration": 23,
    "start_time": "2023-12-09T09:35:00.259Z"
   },
   {
    "duration": 29,
    "start_time": "2023-12-09T09:35:00.283Z"
   },
   {
    "duration": 45,
    "start_time": "2023-12-09T09:35:00.313Z"
   },
   {
    "duration": 53,
    "start_time": "2023-12-09T09:35:00.359Z"
   },
   {
    "duration": 55,
    "start_time": "2023-12-09T09:35:00.413Z"
   },
   {
    "duration": 58,
    "start_time": "2023-12-09T09:35:00.469Z"
   },
   {
    "duration": 30,
    "start_time": "2023-12-09T09:35:00.529Z"
   },
   {
    "duration": 51,
    "start_time": "2023-12-09T09:35:00.560Z"
   },
   {
    "duration": 103,
    "start_time": "2023-12-09T09:35:00.613Z"
   },
   {
    "duration": 3,
    "start_time": "2023-12-09T09:35:00.719Z"
   },
   {
    "duration": 166,
    "start_time": "2023-12-09T09:35:00.723Z"
   },
   {
    "duration": 6,
    "start_time": "2023-12-09T09:35:00.890Z"
   },
   {
    "duration": 71,
    "start_time": "2023-12-09T09:35:00.897Z"
   },
   {
    "duration": 157,
    "start_time": "2023-12-09T09:35:00.969Z"
   },
   {
    "duration": 25,
    "start_time": "2023-12-09T09:35:01.127Z"
   },
   {
    "duration": 162,
    "start_time": "2023-12-09T09:35:01.154Z"
   },
   {
    "duration": 6,
    "start_time": "2023-12-09T09:35:01.318Z"
   },
   {
    "duration": 53,
    "start_time": "2023-12-09T09:35:01.325Z"
   },
   {
    "duration": 180,
    "start_time": "2023-12-09T09:35:01.379Z"
   },
   {
    "duration": 1148,
    "start_time": "2023-12-09T09:35:13.445Z"
   },
   {
    "duration": 16,
    "start_time": "2023-12-09T09:35:14.594Z"
   },
   {
    "duration": 12,
    "start_time": "2023-12-09T09:35:14.611Z"
   },
   {
    "duration": 7,
    "start_time": "2023-12-09T09:35:14.625Z"
   },
   {
    "duration": 28,
    "start_time": "2023-12-09T09:35:14.633Z"
   },
   {
    "duration": 3,
    "start_time": "2023-12-09T09:35:14.662Z"
   },
   {
    "duration": 9,
    "start_time": "2023-12-09T09:35:14.666Z"
   },
   {
    "duration": 3,
    "start_time": "2023-12-09T09:35:14.676Z"
   },
   {
    "duration": 11,
    "start_time": "2023-12-09T09:35:14.680Z"
   },
   {
    "duration": 3,
    "start_time": "2023-12-09T09:35:14.693Z"
   },
   {
    "duration": 44,
    "start_time": "2023-12-09T09:35:14.697Z"
   },
   {
    "duration": 8,
    "start_time": "2023-12-09T09:35:14.743Z"
   },
   {
    "duration": 3,
    "start_time": "2023-12-09T09:35:14.753Z"
   },
   {
    "duration": 11,
    "start_time": "2023-12-09T09:35:14.757Z"
   },
   {
    "duration": 35,
    "start_time": "2023-12-09T09:35:14.769Z"
   },
   {
    "duration": 19,
    "start_time": "2023-12-09T09:35:14.805Z"
   },
   {
    "duration": 3,
    "start_time": "2023-12-09T09:35:14.826Z"
   },
   {
    "duration": 9,
    "start_time": "2023-12-09T09:35:14.830Z"
   },
   {
    "duration": 4,
    "start_time": "2023-12-09T09:35:14.840Z"
   },
   {
    "duration": 3,
    "start_time": "2023-12-09T09:35:14.845Z"
   },
   {
    "duration": 10,
    "start_time": "2023-12-09T09:35:14.850Z"
   },
   {
    "duration": 6,
    "start_time": "2023-12-09T09:35:14.861Z"
   },
   {
    "duration": 4,
    "start_time": "2023-12-09T09:35:14.868Z"
   },
   {
    "duration": 13,
    "start_time": "2023-12-09T09:35:14.873Z"
   },
   {
    "duration": 29,
    "start_time": "2023-12-09T09:35:14.887Z"
   },
   {
    "duration": 56,
    "start_time": "2023-12-09T09:35:14.917Z"
   },
   {
    "duration": 56,
    "start_time": "2023-12-09T09:35:14.975Z"
   },
   {
    "duration": 3,
    "start_time": "2023-12-09T09:35:15.034Z"
   },
   {
    "duration": 319,
    "start_time": "2023-12-09T09:35:15.039Z"
   },
   {
    "duration": 5,
    "start_time": "2023-12-09T09:35:15.360Z"
   },
   {
    "duration": 52,
    "start_time": "2023-12-09T09:35:15.366Z"
   },
   {
    "duration": 162,
    "start_time": "2023-12-09T09:35:15.419Z"
   },
   {
    "duration": 34,
    "start_time": "2023-12-09T09:35:15.582Z"
   },
   {
    "duration": 142,
    "start_time": "2023-12-09T09:35:15.617Z"
   },
   {
    "duration": 6,
    "start_time": "2023-12-09T09:35:15.760Z"
   },
   {
    "duration": 26,
    "start_time": "2023-12-09T09:35:15.767Z"
   },
   {
    "duration": 165,
    "start_time": "2023-12-09T09:35:15.795Z"
   },
   {
    "duration": 1156,
    "start_time": "2023-12-09T09:37:34.146Z"
   },
   {
    "duration": 16,
    "start_time": "2023-12-09T09:37:35.304Z"
   },
   {
    "duration": 17,
    "start_time": "2023-12-09T09:37:35.321Z"
   },
   {
    "duration": 18,
    "start_time": "2023-12-09T09:37:35.339Z"
   },
   {
    "duration": 32,
    "start_time": "2023-12-09T09:37:35.358Z"
   },
   {
    "duration": 3,
    "start_time": "2023-12-09T09:37:35.391Z"
   },
   {
    "duration": 14,
    "start_time": "2023-12-09T09:37:35.395Z"
   },
   {
    "duration": 7,
    "start_time": "2023-12-09T09:37:35.410Z"
   },
   {
    "duration": 22,
    "start_time": "2023-12-09T09:37:35.418Z"
   },
   {
    "duration": 3,
    "start_time": "2023-12-09T09:37:35.442Z"
   },
   {
    "duration": 31,
    "start_time": "2023-12-09T09:37:35.446Z"
   },
   {
    "duration": 8,
    "start_time": "2023-12-09T09:37:35.478Z"
   },
   {
    "duration": 3,
    "start_time": "2023-12-09T09:37:35.487Z"
   },
   {
    "duration": 10,
    "start_time": "2023-12-09T09:37:35.491Z"
   },
   {
    "duration": 24,
    "start_time": "2023-12-09T09:37:35.502Z"
   },
   {
    "duration": 14,
    "start_time": "2023-12-09T09:37:35.527Z"
   },
   {
    "duration": 4,
    "start_time": "2023-12-09T09:37:35.542Z"
   },
   {
    "duration": 12,
    "start_time": "2023-12-09T09:37:35.547Z"
   },
   {
    "duration": 13,
    "start_time": "2023-12-09T09:37:35.560Z"
   },
   {
    "duration": 4,
    "start_time": "2023-12-09T09:37:35.574Z"
   },
   {
    "duration": 16,
    "start_time": "2023-12-09T09:37:35.579Z"
   },
   {
    "duration": 12,
    "start_time": "2023-12-09T09:37:35.596Z"
   },
   {
    "duration": 4,
    "start_time": "2023-12-09T09:37:35.615Z"
   },
   {
    "duration": 17,
    "start_time": "2023-12-09T09:37:35.621Z"
   },
   {
    "duration": 9,
    "start_time": "2023-12-09T09:37:35.639Z"
   },
   {
    "duration": 5,
    "start_time": "2023-12-09T09:37:35.649Z"
   },
   {
    "duration": 66,
    "start_time": "2023-12-09T09:37:35.655Z"
   },
   {
    "duration": 3,
    "start_time": "2023-12-09T09:37:35.724Z"
   },
   {
    "duration": 143,
    "start_time": "2023-12-09T09:37:35.729Z"
   },
   {
    "duration": 6,
    "start_time": "2023-12-09T09:37:35.874Z"
   },
   {
    "duration": 40,
    "start_time": "2023-12-09T09:37:35.882Z"
   },
   {
    "duration": 140,
    "start_time": "2023-12-09T09:37:35.923Z"
   },
   {
    "duration": 26,
    "start_time": "2023-12-09T09:37:36.064Z"
   },
   {
    "duration": 157,
    "start_time": "2023-12-09T09:37:36.091Z"
   },
   {
    "duration": 5,
    "start_time": "2023-12-09T09:37:36.250Z"
   },
   {
    "duration": 41,
    "start_time": "2023-12-09T09:37:36.257Z"
   },
   {
    "duration": 166,
    "start_time": "2023-12-09T09:37:36.299Z"
   },
   {
    "duration": 1177,
    "start_time": "2023-12-09T09:37:59.541Z"
   },
   {
    "duration": 17,
    "start_time": "2023-12-09T09:38:00.720Z"
   },
   {
    "duration": 43,
    "start_time": "2023-12-09T09:38:00.739Z"
   },
   {
    "duration": 34,
    "start_time": "2023-12-09T09:38:00.785Z"
   },
   {
    "duration": 57,
    "start_time": "2023-12-09T09:38:00.821Z"
   },
   {
    "duration": 4,
    "start_time": "2023-12-09T09:38:00.879Z"
   },
   {
    "duration": 42,
    "start_time": "2023-12-09T09:38:00.884Z"
   },
   {
    "duration": 29,
    "start_time": "2023-12-09T09:38:00.927Z"
   },
   {
    "duration": 48,
    "start_time": "2023-12-09T09:38:00.957Z"
   },
   {
    "duration": 25,
    "start_time": "2023-12-09T09:38:01.007Z"
   },
   {
    "duration": 48,
    "start_time": "2023-12-09T09:38:01.033Z"
   },
   {
    "duration": 21,
    "start_time": "2023-12-09T09:38:01.082Z"
   },
   {
    "duration": 43,
    "start_time": "2023-12-09T09:38:01.104Z"
   },
   {
    "duration": 67,
    "start_time": "2023-12-09T09:38:01.149Z"
   },
   {
    "duration": 66,
    "start_time": "2023-12-09T09:38:01.218Z"
   },
   {
    "duration": 34,
    "start_time": "2023-12-09T09:38:01.285Z"
   },
   {
    "duration": 28,
    "start_time": "2023-12-09T09:38:01.321Z"
   },
   {
    "duration": 68,
    "start_time": "2023-12-09T09:38:01.350Z"
   },
   {
    "duration": 86,
    "start_time": "2023-12-09T09:38:01.420Z"
   },
   {
    "duration": 41,
    "start_time": "2023-12-09T09:38:01.507Z"
   },
   {
    "duration": 31,
    "start_time": "2023-12-09T09:38:01.549Z"
   },
   {
    "duration": 57,
    "start_time": "2023-12-09T09:38:01.581Z"
   },
   {
    "duration": 62,
    "start_time": "2023-12-09T09:38:01.639Z"
   },
   {
    "duration": 77,
    "start_time": "2023-12-09T09:38:01.703Z"
   },
   {
    "duration": 49,
    "start_time": "2023-12-09T09:38:01.781Z"
   },
   {
    "duration": 48,
    "start_time": "2023-12-09T09:38:01.831Z"
   },
   {
    "duration": 67,
    "start_time": "2023-12-09T09:38:01.880Z"
   },
   {
    "duration": 3,
    "start_time": "2023-12-09T09:38:01.950Z"
   },
   {
    "duration": 166,
    "start_time": "2023-12-09T09:38:01.954Z"
   },
   {
    "duration": 6,
    "start_time": "2023-12-09T09:38:02.121Z"
   },
   {
    "duration": 40,
    "start_time": "2023-12-09T09:38:02.129Z"
   },
   {
    "duration": 137,
    "start_time": "2023-12-09T09:38:02.170Z"
   },
   {
    "duration": 28,
    "start_time": "2023-12-09T09:38:02.309Z"
   },
   {
    "duration": 145,
    "start_time": "2023-12-09T09:38:02.338Z"
   },
   {
    "duration": 5,
    "start_time": "2023-12-09T09:38:02.484Z"
   },
   {
    "duration": 52,
    "start_time": "2023-12-09T09:38:02.490Z"
   },
   {
    "duration": 157,
    "start_time": "2023-12-09T09:38:02.543Z"
   },
   {
    "duration": 1182,
    "start_time": "2023-12-09T09:39:27.420Z"
   },
   {
    "duration": 16,
    "start_time": "2023-12-09T09:39:28.604Z"
   },
   {
    "duration": 13,
    "start_time": "2023-12-09T09:39:28.621Z"
   },
   {
    "duration": 7,
    "start_time": "2023-12-09T09:39:28.636Z"
   },
   {
    "duration": 27,
    "start_time": "2023-12-09T09:39:28.644Z"
   },
   {
    "duration": 2,
    "start_time": "2023-12-09T09:39:28.672Z"
   },
   {
    "duration": 8,
    "start_time": "2023-12-09T09:39:28.676Z"
   },
   {
    "duration": 10,
    "start_time": "2023-12-09T09:39:28.685Z"
   },
   {
    "duration": 22,
    "start_time": "2023-12-09T09:39:28.696Z"
   },
   {
    "duration": 10,
    "start_time": "2023-12-09T09:39:28.719Z"
   },
   {
    "duration": 29,
    "start_time": "2023-12-09T09:39:28.730Z"
   },
   {
    "duration": 8,
    "start_time": "2023-12-09T09:39:28.760Z"
   },
   {
    "duration": 4,
    "start_time": "2023-12-09T09:39:28.769Z"
   },
   {
    "duration": 13,
    "start_time": "2023-12-09T09:39:28.774Z"
   },
   {
    "duration": 33,
    "start_time": "2023-12-09T09:39:28.788Z"
   },
   {
    "duration": 14,
    "start_time": "2023-12-09T09:39:28.822Z"
   },
   {
    "duration": 12,
    "start_time": "2023-12-09T09:39:28.838Z"
   },
   {
    "duration": 13,
    "start_time": "2023-12-09T09:39:28.851Z"
   },
   {
    "duration": 4,
    "start_time": "2023-12-09T09:39:28.865Z"
   },
   {
    "duration": 3,
    "start_time": "2023-12-09T09:39:28.871Z"
   },
   {
    "duration": 8,
    "start_time": "2023-12-09T09:39:28.875Z"
   },
   {
    "duration": 5,
    "start_time": "2023-12-09T09:39:28.884Z"
   },
   {
    "duration": 25,
    "start_time": "2023-12-09T09:39:28.890Z"
   },
   {
    "duration": 20,
    "start_time": "2023-12-09T09:39:28.917Z"
   },
   {
    "duration": 2,
    "start_time": "2023-12-09T09:39:28.939Z"
   },
   {
    "duration": 8,
    "start_time": "2023-12-09T09:39:28.942Z"
   },
   {
    "duration": 65,
    "start_time": "2023-12-09T09:39:28.951Z"
   },
   {
    "duration": 4,
    "start_time": "2023-12-09T09:39:29.018Z"
   },
   {
    "duration": 150,
    "start_time": "2023-12-09T09:39:29.023Z"
   },
   {
    "duration": 9,
    "start_time": "2023-12-09T09:39:29.175Z"
   },
   {
    "duration": 42,
    "start_time": "2023-12-09T09:39:29.186Z"
   },
   {
    "duration": 149,
    "start_time": "2023-12-09T09:39:29.230Z"
   },
   {
    "duration": 24,
    "start_time": "2023-12-09T09:39:29.381Z"
   },
   {
    "duration": 145,
    "start_time": "2023-12-09T09:39:29.406Z"
   },
   {
    "duration": 5,
    "start_time": "2023-12-09T09:39:29.553Z"
   },
   {
    "duration": 29,
    "start_time": "2023-12-09T09:39:29.560Z"
   },
   {
    "duration": 149,
    "start_time": "2023-12-09T09:39:29.591Z"
   },
   {
    "duration": 1146,
    "start_time": "2023-12-09T09:40:58.270Z"
   },
   {
    "duration": 20,
    "start_time": "2023-12-09T09:40:59.418Z"
   },
   {
    "duration": 11,
    "start_time": "2023-12-09T09:40:59.439Z"
   },
   {
    "duration": 7,
    "start_time": "2023-12-09T09:40:59.452Z"
   },
   {
    "duration": 26,
    "start_time": "2023-12-09T09:40:59.460Z"
   },
   {
    "duration": 2,
    "start_time": "2023-12-09T09:40:59.487Z"
   },
   {
    "duration": 28,
    "start_time": "2023-12-09T09:40:59.490Z"
   },
   {
    "duration": 3,
    "start_time": "2023-12-09T09:40:59.519Z"
   },
   {
    "duration": 6,
    "start_time": "2023-12-09T09:40:59.523Z"
   },
   {
    "duration": 3,
    "start_time": "2023-12-09T09:40:59.532Z"
   },
   {
    "duration": 32,
    "start_time": "2023-12-09T09:40:59.537Z"
   },
   {
    "duration": 7,
    "start_time": "2023-12-09T09:40:59.571Z"
   },
   {
    "duration": 5,
    "start_time": "2023-12-09T09:40:59.579Z"
   },
   {
    "duration": 29,
    "start_time": "2023-12-09T09:40:59.586Z"
   },
   {
    "duration": 24,
    "start_time": "2023-12-09T09:40:59.617Z"
   },
   {
    "duration": 13,
    "start_time": "2023-12-09T09:40:59.642Z"
   },
   {
    "duration": 3,
    "start_time": "2023-12-09T09:40:59.656Z"
   },
   {
    "duration": 10,
    "start_time": "2023-12-09T09:40:59.661Z"
   },
   {
    "duration": 6,
    "start_time": "2023-12-09T09:40:59.672Z"
   },
   {
    "duration": 9,
    "start_time": "2023-12-09T09:40:59.679Z"
   },
   {
    "duration": 26,
    "start_time": "2023-12-09T09:40:59.690Z"
   },
   {
    "duration": 5,
    "start_time": "2023-12-09T09:40:59.725Z"
   },
   {
    "duration": 7,
    "start_time": "2023-12-09T09:40:59.731Z"
   },
   {
    "duration": 14,
    "start_time": "2023-12-09T09:40:59.739Z"
   },
   {
    "duration": 2,
    "start_time": "2023-12-09T09:40:59.754Z"
   },
   {
    "duration": 19,
    "start_time": "2023-12-09T09:40:59.758Z"
   },
   {
    "duration": 64,
    "start_time": "2023-12-09T09:40:59.778Z"
   },
   {
    "duration": 3,
    "start_time": "2023-12-09T09:40:59.844Z"
   },
   {
    "duration": 162,
    "start_time": "2023-12-09T09:40:59.848Z"
   },
   {
    "duration": 20,
    "start_time": "2023-12-09T09:41:00.011Z"
   },
   {
    "duration": 94,
    "start_time": "2023-12-09T09:41:00.033Z"
   },
   {
    "duration": 232,
    "start_time": "2023-12-09T09:41:00.129Z"
   },
   {
    "duration": 35,
    "start_time": "2023-12-09T09:41:00.363Z"
   },
   {
    "duration": 149,
    "start_time": "2023-12-09T09:41:00.399Z"
   },
   {
    "duration": 7,
    "start_time": "2023-12-09T09:41:00.550Z"
   },
   {
    "duration": 84,
    "start_time": "2023-12-09T09:41:00.558Z"
   },
   {
    "duration": 182,
    "start_time": "2023-12-09T09:41:00.643Z"
   },
   {
    "duration": 1155,
    "start_time": "2023-12-09T09:42:00.549Z"
   },
   {
    "duration": 16,
    "start_time": "2023-12-09T09:42:01.706Z"
   },
   {
    "duration": 43,
    "start_time": "2023-12-09T09:42:01.723Z"
   },
   {
    "duration": 32,
    "start_time": "2023-12-09T09:42:01.768Z"
   },
   {
    "duration": 73,
    "start_time": "2023-12-09T09:42:01.801Z"
   },
   {
    "duration": 24,
    "start_time": "2023-12-09T09:42:01.875Z"
   },
   {
    "duration": 40,
    "start_time": "2023-12-09T09:42:01.900Z"
   },
   {
    "duration": 27,
    "start_time": "2023-12-09T09:42:01.941Z"
   },
   {
    "duration": 28,
    "start_time": "2023-12-09T09:42:01.969Z"
   },
   {
    "duration": 19,
    "start_time": "2023-12-09T09:42:01.999Z"
   },
   {
    "duration": 57,
    "start_time": "2023-12-09T09:42:02.019Z"
   },
   {
    "duration": 9,
    "start_time": "2023-12-09T09:42:02.077Z"
   },
   {
    "duration": 31,
    "start_time": "2023-12-09T09:42:02.087Z"
   },
   {
    "duration": 36,
    "start_time": "2023-12-09T09:42:02.119Z"
   },
   {
    "duration": 29,
    "start_time": "2023-12-09T09:42:02.156Z"
   },
   {
    "duration": 40,
    "start_time": "2023-12-09T09:42:02.186Z"
   },
   {
    "duration": 28,
    "start_time": "2023-12-09T09:42:02.227Z"
   },
   {
    "duration": 24,
    "start_time": "2023-12-09T09:42:02.256Z"
   },
   {
    "duration": 25,
    "start_time": "2023-12-09T09:42:02.281Z"
   },
   {
    "duration": 31,
    "start_time": "2023-12-09T09:42:02.307Z"
   },
   {
    "duration": 49,
    "start_time": "2023-12-09T09:42:02.339Z"
   },
   {
    "duration": 17,
    "start_time": "2023-12-09T09:42:02.389Z"
   },
   {
    "duration": 30,
    "start_time": "2023-12-09T09:42:02.407Z"
   },
   {
    "duration": 56,
    "start_time": "2023-12-09T09:42:02.438Z"
   },
   {
    "duration": 12,
    "start_time": "2023-12-09T09:42:02.496Z"
   },
   {
    "duration": 20,
    "start_time": "2023-12-09T09:42:02.509Z"
   },
   {
    "duration": 66,
    "start_time": "2023-12-09T09:42:02.530Z"
   },
   {
    "duration": 3,
    "start_time": "2023-12-09T09:42:02.598Z"
   },
   {
    "duration": 176,
    "start_time": "2023-12-09T09:42:02.603Z"
   },
   {
    "duration": 6,
    "start_time": "2023-12-09T09:42:02.781Z"
   },
   {
    "duration": 35,
    "start_time": "2023-12-09T09:42:02.789Z"
   },
   {
    "duration": 151,
    "start_time": "2023-12-09T09:42:02.825Z"
   },
   {
    "duration": 24,
    "start_time": "2023-12-09T09:42:02.977Z"
   },
   {
    "duration": 156,
    "start_time": "2023-12-09T09:42:03.003Z"
   },
   {
    "duration": 7,
    "start_time": "2023-12-09T09:42:03.160Z"
   },
   {
    "duration": 38,
    "start_time": "2023-12-09T09:42:03.169Z"
   },
   {
    "duration": 150,
    "start_time": "2023-12-09T09:42:03.215Z"
   },
   {
    "duration": 1159,
    "start_time": "2023-12-09T09:44:15.398Z"
   },
   {
    "duration": 15,
    "start_time": "2023-12-09T09:44:16.559Z"
   },
   {
    "duration": 12,
    "start_time": "2023-12-09T09:44:16.577Z"
   },
   {
    "duration": 6,
    "start_time": "2023-12-09T09:44:16.590Z"
   },
   {
    "duration": 41,
    "start_time": "2023-12-09T09:44:16.597Z"
   },
   {
    "duration": 3,
    "start_time": "2023-12-09T09:44:16.639Z"
   },
   {
    "duration": 12,
    "start_time": "2023-12-09T09:44:16.643Z"
   },
   {
    "duration": 7,
    "start_time": "2023-12-09T09:44:16.656Z"
   },
   {
    "duration": 5,
    "start_time": "2023-12-09T09:44:16.665Z"
   },
   {
    "duration": 3,
    "start_time": "2023-12-09T09:44:16.671Z"
   },
   {
    "duration": 40,
    "start_time": "2023-12-09T09:44:16.675Z"
   },
   {
    "duration": 7,
    "start_time": "2023-12-09T09:44:16.716Z"
   },
   {
    "duration": 9,
    "start_time": "2023-12-09T09:44:16.724Z"
   },
   {
    "duration": 19,
    "start_time": "2023-12-09T09:44:16.735Z"
   },
   {
    "duration": 20,
    "start_time": "2023-12-09T09:44:16.755Z"
   },
   {
    "duration": 14,
    "start_time": "2023-12-09T09:44:16.776Z"
   },
   {
    "duration": 10,
    "start_time": "2023-12-09T09:44:16.792Z"
   },
   {
    "duration": 15,
    "start_time": "2023-12-09T09:44:16.803Z"
   },
   {
    "duration": 10,
    "start_time": "2023-12-09T09:44:16.819Z"
   },
   {
    "duration": 9,
    "start_time": "2023-12-09T09:44:16.830Z"
   },
   {
    "duration": 3,
    "start_time": "2023-12-09T09:44:16.840Z"
   },
   {
    "duration": 20,
    "start_time": "2023-12-09T09:44:16.844Z"
   },
   {
    "duration": 15,
    "start_time": "2023-12-09T09:44:16.866Z"
   },
   {
    "duration": 4,
    "start_time": "2023-12-09T09:44:16.882Z"
   },
   {
    "duration": 29,
    "start_time": "2023-12-09T09:44:16.887Z"
   },
   {
    "duration": 27,
    "start_time": "2023-12-09T09:44:16.918Z"
   },
   {
    "duration": 5,
    "start_time": "2023-12-09T09:44:16.947Z"
   },
   {
    "duration": 60,
    "start_time": "2023-12-09T09:44:16.953Z"
   },
   {
    "duration": 3,
    "start_time": "2023-12-09T09:44:17.014Z"
   },
   {
    "duration": 187,
    "start_time": "2023-12-09T09:44:17.019Z"
   },
   {
    "duration": 10,
    "start_time": "2023-12-09T09:44:17.208Z"
   },
   {
    "duration": 33,
    "start_time": "2023-12-09T09:44:17.219Z"
   },
   {
    "duration": 165,
    "start_time": "2023-12-09T09:44:17.253Z"
   },
   {
    "duration": 26,
    "start_time": "2023-12-09T09:44:17.419Z"
   },
   {
    "duration": 147,
    "start_time": "2023-12-09T09:44:17.446Z"
   },
   {
    "duration": 5,
    "start_time": "2023-12-09T09:44:17.595Z"
   },
   {
    "duration": 37,
    "start_time": "2023-12-09T09:44:17.602Z"
   },
   {
    "duration": 146,
    "start_time": "2023-12-09T09:44:17.640Z"
   },
   {
    "duration": 1157,
    "start_time": "2023-12-09T09:45:37.541Z"
   },
   {
    "duration": 16,
    "start_time": "2023-12-09T09:45:38.699Z"
   },
   {
    "duration": 12,
    "start_time": "2023-12-09T09:45:38.717Z"
   },
   {
    "duration": 8,
    "start_time": "2023-12-09T09:45:38.730Z"
   },
   {
    "duration": 33,
    "start_time": "2023-12-09T09:45:38.739Z"
   },
   {
    "duration": 2,
    "start_time": "2023-12-09T09:45:38.774Z"
   },
   {
    "duration": 8,
    "start_time": "2023-12-09T09:45:38.777Z"
   },
   {
    "duration": 10,
    "start_time": "2023-12-09T09:45:38.786Z"
   },
   {
    "duration": 19,
    "start_time": "2023-12-09T09:45:38.797Z"
   },
   {
    "duration": 4,
    "start_time": "2023-12-09T09:45:38.818Z"
   },
   {
    "duration": 41,
    "start_time": "2023-12-09T09:45:38.823Z"
   },
   {
    "duration": 7,
    "start_time": "2023-12-09T09:45:38.866Z"
   },
   {
    "duration": 16,
    "start_time": "2023-12-09T09:45:38.874Z"
   },
   {
    "duration": 31,
    "start_time": "2023-12-09T09:45:38.891Z"
   },
   {
    "duration": 18,
    "start_time": "2023-12-09T09:45:38.923Z"
   },
   {
    "duration": 13,
    "start_time": "2023-12-09T09:45:38.943Z"
   },
   {
    "duration": 4,
    "start_time": "2023-12-09T09:45:38.957Z"
   },
   {
    "duration": 10,
    "start_time": "2023-12-09T09:45:38.962Z"
   },
   {
    "duration": 6,
    "start_time": "2023-12-09T09:45:38.973Z"
   },
   {
    "duration": 13,
    "start_time": "2023-12-09T09:45:38.980Z"
   },
   {
    "duration": 10,
    "start_time": "2023-12-09T09:45:38.994Z"
   },
   {
    "duration": 12,
    "start_time": "2023-12-09T09:45:39.005Z"
   },
   {
    "duration": 9,
    "start_time": "2023-12-09T09:45:39.018Z"
   },
   {
    "duration": 13,
    "start_time": "2023-12-09T09:45:39.028Z"
   },
   {
    "duration": 2,
    "start_time": "2023-12-09T09:45:39.043Z"
   },
   {
    "duration": 20,
    "start_time": "2023-12-09T09:45:39.046Z"
   },
   {
    "duration": 61,
    "start_time": "2023-12-09T09:45:39.067Z"
   },
   {
    "duration": 3,
    "start_time": "2023-12-09T09:45:39.130Z"
   },
   {
    "duration": 168,
    "start_time": "2023-12-09T09:45:39.134Z"
   },
   {
    "duration": 6,
    "start_time": "2023-12-09T09:45:39.303Z"
   },
   {
    "duration": 28,
    "start_time": "2023-12-09T09:45:39.310Z"
   },
   {
    "duration": 155,
    "start_time": "2023-12-09T09:45:39.339Z"
   },
   {
    "duration": 30,
    "start_time": "2023-12-09T09:45:39.495Z"
   },
   {
    "duration": 138,
    "start_time": "2023-12-09T09:45:39.526Z"
   },
   {
    "duration": 6,
    "start_time": "2023-12-09T09:45:39.665Z"
   },
   {
    "duration": 27,
    "start_time": "2023-12-09T09:45:39.672Z"
   },
   {
    "duration": 152,
    "start_time": "2023-12-09T09:45:39.700Z"
   },
   {
    "duration": 1174,
    "start_time": "2023-12-09T09:46:37.211Z"
   },
   {
    "duration": 16,
    "start_time": "2023-12-09T09:46:38.387Z"
   },
   {
    "duration": 22,
    "start_time": "2023-12-09T09:46:38.406Z"
   },
   {
    "duration": 8,
    "start_time": "2023-12-09T09:46:38.430Z"
   },
   {
    "duration": 29,
    "start_time": "2023-12-09T09:46:38.439Z"
   },
   {
    "duration": 3,
    "start_time": "2023-12-09T09:46:38.469Z"
   },
   {
    "duration": 16,
    "start_time": "2023-12-09T09:46:38.473Z"
   },
   {
    "duration": 4,
    "start_time": "2023-12-09T09:46:38.490Z"
   },
   {
    "duration": 23,
    "start_time": "2023-12-09T09:46:38.496Z"
   },
   {
    "duration": 13,
    "start_time": "2023-12-09T09:46:38.520Z"
   },
   {
    "duration": 49,
    "start_time": "2023-12-09T09:46:38.534Z"
   },
   {
    "duration": 7,
    "start_time": "2023-12-09T09:46:38.584Z"
   },
   {
    "duration": 20,
    "start_time": "2023-12-09T09:46:38.594Z"
   },
   {
    "duration": 27,
    "start_time": "2023-12-09T09:46:38.615Z"
   },
   {
    "duration": 35,
    "start_time": "2023-12-09T09:46:38.643Z"
   },
   {
    "duration": 14,
    "start_time": "2023-12-09T09:46:38.679Z"
   },
   {
    "duration": 23,
    "start_time": "2023-12-09T09:46:38.694Z"
   },
   {
    "duration": 18,
    "start_time": "2023-12-09T09:46:38.718Z"
   },
   {
    "duration": 12,
    "start_time": "2023-12-09T09:46:38.737Z"
   },
   {
    "duration": 4,
    "start_time": "2023-12-09T09:46:38.750Z"
   },
   {
    "duration": 36,
    "start_time": "2023-12-09T09:46:38.755Z"
   },
   {
    "duration": 12,
    "start_time": "2023-12-09T09:46:38.792Z"
   },
   {
    "duration": 6,
    "start_time": "2023-12-09T09:46:38.805Z"
   },
   {
    "duration": 13,
    "start_time": "2023-12-09T09:46:38.812Z"
   },
   {
    "duration": 2,
    "start_time": "2023-12-09T09:46:38.826Z"
   },
   {
    "duration": 16,
    "start_time": "2023-12-09T09:46:38.830Z"
   },
   {
    "duration": 59,
    "start_time": "2023-12-09T09:46:38.847Z"
   },
   {
    "duration": 3,
    "start_time": "2023-12-09T09:46:38.907Z"
   },
   {
    "duration": 172,
    "start_time": "2023-12-09T09:46:38.911Z"
   },
   {
    "duration": 6,
    "start_time": "2023-12-09T09:46:39.084Z"
   },
   {
    "duration": 20,
    "start_time": "2023-12-09T09:46:39.091Z"
   },
   {
    "duration": 30,
    "start_time": "2023-12-09T09:46:39.111Z"
   },
   {
    "duration": 160,
    "start_time": "2023-12-09T09:46:39.142Z"
   },
   {
    "duration": 27,
    "start_time": "2023-12-09T09:46:39.304Z"
   },
   {
    "duration": 143,
    "start_time": "2023-12-09T09:46:39.332Z"
   },
   {
    "duration": 5,
    "start_time": "2023-12-09T09:46:39.477Z"
   },
   {
    "duration": 34,
    "start_time": "2023-12-09T09:46:39.483Z"
   },
   {
    "duration": 148,
    "start_time": "2023-12-09T09:46:39.518Z"
   },
   {
    "duration": 1458,
    "start_time": "2023-12-09T11:25:30.832Z"
   },
   {
    "duration": 18,
    "start_time": "2023-12-09T11:25:32.292Z"
   },
   {
    "duration": 26,
    "start_time": "2023-12-09T11:25:32.312Z"
   },
   {
    "duration": 18,
    "start_time": "2023-12-09T11:25:32.340Z"
   },
   {
    "duration": 47,
    "start_time": "2023-12-09T11:25:32.359Z"
   },
   {
    "duration": 3,
    "start_time": "2023-12-09T11:25:32.408Z"
   },
   {
    "duration": 29,
    "start_time": "2023-12-09T11:25:32.412Z"
   },
   {
    "duration": 3,
    "start_time": "2023-12-09T11:25:32.443Z"
   },
   {
    "duration": 14,
    "start_time": "2023-12-09T11:25:32.448Z"
   },
   {
    "duration": 4,
    "start_time": "2023-12-09T11:25:32.464Z"
   },
   {
    "duration": 35,
    "start_time": "2023-12-09T11:25:32.470Z"
   },
   {
    "duration": 12,
    "start_time": "2023-12-09T11:25:32.506Z"
   },
   {
    "duration": 7,
    "start_time": "2023-12-09T11:25:32.520Z"
   },
   {
    "duration": 23,
    "start_time": "2023-12-09T11:25:32.529Z"
   },
   {
    "duration": 32,
    "start_time": "2023-12-09T11:25:32.553Z"
   },
   {
    "duration": 16,
    "start_time": "2023-12-09T11:25:32.587Z"
   },
   {
    "duration": 4,
    "start_time": "2023-12-09T11:25:32.604Z"
   },
   {
    "duration": 24,
    "start_time": "2023-12-09T11:25:32.609Z"
   },
   {
    "duration": 13,
    "start_time": "2023-12-09T11:25:32.635Z"
   },
   {
    "duration": 10,
    "start_time": "2023-12-09T11:25:32.650Z"
   },
   {
    "duration": 17,
    "start_time": "2023-12-09T11:25:32.661Z"
   },
   {
    "duration": 11,
    "start_time": "2023-12-09T11:25:32.680Z"
   },
   {
    "duration": 18,
    "start_time": "2023-12-09T11:25:32.693Z"
   },
   {
    "duration": 24,
    "start_time": "2023-12-09T11:25:32.713Z"
   },
   {
    "duration": 5,
    "start_time": "2023-12-09T11:25:32.739Z"
   },
   {
    "duration": 8,
    "start_time": "2023-12-09T11:25:32.745Z"
   },
   {
    "duration": 90,
    "start_time": "2023-12-09T11:25:32.754Z"
   },
   {
    "duration": 3,
    "start_time": "2023-12-09T11:25:32.847Z"
   },
   {
    "duration": 205,
    "start_time": "2023-12-09T11:25:32.852Z"
   },
   {
    "duration": 8,
    "start_time": "2023-12-09T11:25:33.058Z"
   },
   {
    "duration": 23,
    "start_time": "2023-12-09T11:25:33.067Z"
   },
   {
    "duration": 57,
    "start_time": "2023-12-09T11:25:33.092Z"
   },
   {
    "duration": 191,
    "start_time": "2023-12-09T11:25:33.151Z"
   },
   {
    "duration": 30,
    "start_time": "2023-12-09T11:25:33.343Z"
   },
   {
    "duration": 175,
    "start_time": "2023-12-09T11:25:33.375Z"
   },
   {
    "duration": 6,
    "start_time": "2023-12-09T11:25:33.552Z"
   },
   {
    "duration": 34,
    "start_time": "2023-12-09T11:25:33.560Z"
   },
   {
    "duration": 186,
    "start_time": "2023-12-09T11:25:33.595Z"
   }
  ],
  "colab": {
   "name": "dpp_template_part2.ipynb",
   "provenance": []
  },
  "kernelspec": {
   "display_name": "Python 3 (ipykernel)",
   "language": "python",
   "name": "python3"
  },
  "language_info": {
   "codemirror_mode": {
    "name": "ipython",
    "version": 3
   },
   "file_extension": ".py",
   "mimetype": "text/x-python",
   "name": "python",
   "nbconvert_exporter": "python",
   "pygments_lexer": "ipython3",
   "version": "3.9.5"
  },
  "toc": {
   "base_numbering": 1,
   "nav_menu": {},
   "number_sections": true,
   "sideBar": true,
   "skip_h1_title": true,
   "title_cell": "Table of Contents",
   "title_sidebar": "Contents",
   "toc_cell": false,
   "toc_position": {},
   "toc_section_display": true,
   "toc_window_display": false
  }
 },
 "nbformat": 4,
 "nbformat_minor": 5
}
