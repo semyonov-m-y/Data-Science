{
 "cells": [
  {
   "cell_type": "markdown",
   "id": "0c41edb7",
   "metadata": {},
   "source": [
    "# Анализ сервиса аренды самокатов GoFast"
   ]
  },
  {
   "cell_type": "markdown",
   "id": "78ecd9e7",
   "metadata": {},
   "source": [
    "**Описание проекта**\n",
    "Вы аналитик популярного сервиса аренды самокатов GoFast. Вам передали данные о некоторых пользователях из нескольких городов, а также об их поездках. Проанализируйте данные и проверьте некоторые гипотезы, которые могут помочь бизнесу вырасти.\n",
    "Чтобы совершать поездки по городу, пользователи сервиса GoFast пользуются мобильным приложением. Сервисом можно пользоваться:\n",
    "\n",
    "*без подписки:*\n",
    "\n",
    "    - абонентская плата отсутствует;\n",
    "    - стоимость одной минуты поездки — 8 рублей;\n",
    "    - стоимость старта (начала поездки) — 50 рублей;\n",
    "*с подпиской Ultra:*\n",
    "\n",
    "    - абонентская плата — 199 рублей в месяц;\n",
    "    - стоимость одной минуты поездки — 6 рублей;\n",
    "    - стоимость старта — бесплатно.\n",
    "\n",
    "**Описание данных**\n",
    "В основных данных есть информация о пользователях, их поездках и подписках.\n",
    "\n",
    "*Пользователи* — users_go.csv:\n",
    "\n",
    "    - user_id\tуникальный идентификатор пользователя\n",
    "    - name\tимя пользователя\n",
    "    - age\tвозраст\n",
    "    - city\tгород\n",
    "    - subscription_type\tтип подписки (free, ultra)\n",
    "\n",
    "*Поездки* — rides_go.csv:\n",
    "\n",
    "    - user_id\tуникальный идентификатор пользователя\n",
    "    - distance\tрасстояние, которое пользователь проехал в текущей сессии (в метрах)\n",
    "    - duration\tпродолжительность сессии (в минутах) — время с того момента, как пользователь нажал кнопку «Начать поездку» до момента, как он нажал кнопку «Завершить поездку»\n",
    "    - date\tдата совершения поездки\n",
    "\n",
    "*Подписки* — subscriptions_go.csv:\n",
    "\n",
    "    - subscription_type\tтип подписки\n",
    "    - minute_price\tстоимость одной минуты поездки по данной подписке\n",
    "    - start_ride_price\tстоимость начала поездки\n",
    "    - subscription_fee\tстоимость ежемесячного платежа\n",
    "    \n",
    "\n",
    "**Порядок исследования**\n",
    "\n",
    "Входные данные получены из разных файло. Качество предоставляемых данных никто гарантировать не может. Поэтому перед тем, как отвечать на вопрсоы исследования и делать вывод, понадобится обзор данных.\n",
    "\n",
    "Проверим данные на пропуски, выбросы, дубли и оценим их влияние на исследование. Затем, на этапе предобработки, поищем возможность исправить самые критичные ошибки данных.\n",
    "\n",
    "После ответа на поставленные цели исследования, сделаем общий вывод.\n",
    "\n",
    "Таким образом, исследование пройдёт этапы:\n",
    "\n",
    "    1) Обзор данных\n",
    "    2) Предобработка данных\n",
    "    3) Исследовательский анализ данных\n",
    "    4) Объединение данных\n",
    "    5) Подсчёт выручки\n",
    "    6) Проверка гипотез\n",
    "    7) Распределения\n",
    "    8) Выводы"
   ]
  },
  {
   "cell_type": "code",
   "execution_count": 1,
   "id": "07bee8d9",
   "metadata": {},
   "outputs": [],
   "source": [
    "import pandas as pd\n",
    "import matplotlib.pyplot as plt\n",
    "import seaborn as sns\n",
    "import plotly.express as px\n",
    "import numpy as np\n",
    "from scipy import stats as st\n",
    "from math import factorial\n",
    "\n",
    "pd.options.display.max_columns = 20"
   ]
  },
  {
   "cell_type": "markdown",
   "id": "72a8ce46",
   "metadata": {},
   "source": [
    "# Шаг 1. Загрузка данных"
   ]
  },
  {
   "cell_type": "code",
   "execution_count": 2,
   "id": "57f208d4",
   "metadata": {},
   "outputs": [],
   "source": [
    "try:\n",
    "    users_go = pd.read_csv('/datasets/users_go.csv') \n",
    "    rides_go = pd.read_csv('/datasets/rides_go.csv') \n",
    "    subscriptions_go = pd.read_csv('/datasets/subscriptions_go.csv') \n",
    "except:\n",
    "    users_go = pd.read_csv('datasets/users_go.csv') \n",
    "    rides_go = pd.read_csv('datasets/rides_go.csv') \n",
    "    subscriptions_go = pd.read_csv('datasets/subscriptions_go.csv') "
   ]
  },
  {
   "cell_type": "markdown",
   "id": "07c3f9c6",
   "metadata": {},
   "source": [
    "**Проверяем, что данные загружены**"
   ]
  },
  {
   "cell_type": "code",
   "execution_count": 3,
   "id": "44627ea8",
   "metadata": {},
   "outputs": [
    {
     "data": {
      "text/html": [
       "<div>\n",
       "<style scoped>\n",
       "    .dataframe tbody tr th:only-of-type {\n",
       "        vertical-align: middle;\n",
       "    }\n",
       "\n",
       "    .dataframe tbody tr th {\n",
       "        vertical-align: top;\n",
       "    }\n",
       "\n",
       "    .dataframe thead th {\n",
       "        text-align: right;\n",
       "    }\n",
       "</style>\n",
       "<table border=\"1\" class=\"dataframe\">\n",
       "  <thead>\n",
       "    <tr style=\"text-align: right;\">\n",
       "      <th></th>\n",
       "      <th>user_id</th>\n",
       "      <th>name</th>\n",
       "      <th>age</th>\n",
       "      <th>city</th>\n",
       "      <th>subscription_type</th>\n",
       "    </tr>\n",
       "  </thead>\n",
       "  <tbody>\n",
       "    <tr>\n",
       "      <th>0</th>\n",
       "      <td>1</td>\n",
       "      <td>Кира</td>\n",
       "      <td>22</td>\n",
       "      <td>Тюмень</td>\n",
       "      <td>ultra</td>\n",
       "    </tr>\n",
       "    <tr>\n",
       "      <th>1</th>\n",
       "      <td>2</td>\n",
       "      <td>Станислав</td>\n",
       "      <td>31</td>\n",
       "      <td>Омск</td>\n",
       "      <td>ultra</td>\n",
       "    </tr>\n",
       "    <tr>\n",
       "      <th>2</th>\n",
       "      <td>3</td>\n",
       "      <td>Алексей</td>\n",
       "      <td>20</td>\n",
       "      <td>Москва</td>\n",
       "      <td>ultra</td>\n",
       "    </tr>\n",
       "    <tr>\n",
       "      <th>3</th>\n",
       "      <td>4</td>\n",
       "      <td>Константин</td>\n",
       "      <td>26</td>\n",
       "      <td>Ростов-на-Дону</td>\n",
       "      <td>ultra</td>\n",
       "    </tr>\n",
       "    <tr>\n",
       "      <th>4</th>\n",
       "      <td>5</td>\n",
       "      <td>Адель</td>\n",
       "      <td>28</td>\n",
       "      <td>Омск</td>\n",
       "      <td>ultra</td>\n",
       "    </tr>\n",
       "    <tr>\n",
       "      <th>5</th>\n",
       "      <td>6</td>\n",
       "      <td>Регина</td>\n",
       "      <td>25</td>\n",
       "      <td>Краснодар</td>\n",
       "      <td>ultra</td>\n",
       "    </tr>\n",
       "    <tr>\n",
       "      <th>6</th>\n",
       "      <td>7</td>\n",
       "      <td>Игорь</td>\n",
       "      <td>23</td>\n",
       "      <td>Омск</td>\n",
       "      <td>ultra</td>\n",
       "    </tr>\n",
       "    <tr>\n",
       "      <th>7</th>\n",
       "      <td>8</td>\n",
       "      <td>Юрий</td>\n",
       "      <td>23</td>\n",
       "      <td>Краснодар</td>\n",
       "      <td>ultra</td>\n",
       "    </tr>\n",
       "    <tr>\n",
       "      <th>8</th>\n",
       "      <td>9</td>\n",
       "      <td>Ян</td>\n",
       "      <td>21</td>\n",
       "      <td>Пятигорск</td>\n",
       "      <td>ultra</td>\n",
       "    </tr>\n",
       "    <tr>\n",
       "      <th>9</th>\n",
       "      <td>10</td>\n",
       "      <td>Валерий</td>\n",
       "      <td>18</td>\n",
       "      <td>Екатеринбург</td>\n",
       "      <td>ultra</td>\n",
       "    </tr>\n",
       "  </tbody>\n",
       "</table>\n",
       "</div>"
      ],
      "text/plain": [
       "   user_id        name  age            city subscription_type\n",
       "0        1        Кира   22          Тюмень             ultra\n",
       "1        2   Станислав   31            Омск             ultra\n",
       "2        3     Алексей   20          Москва             ultra\n",
       "3        4  Константин   26  Ростов-на-Дону             ultra\n",
       "4        5       Адель   28            Омск             ultra\n",
       "5        6      Регина   25       Краснодар             ultra\n",
       "6        7       Игорь   23            Омск             ultra\n",
       "7        8        Юрий   23       Краснодар             ultra\n",
       "8        9          Ян   21       Пятигорск             ultra\n",
       "9       10     Валерий   18    Екатеринбург             ultra"
      ]
     },
     "execution_count": 3,
     "metadata": {},
     "output_type": "execute_result"
    }
   ],
   "source": [
    "users_go.head(10)"
   ]
  },
  {
   "cell_type": "code",
   "execution_count": 4,
   "id": "432af66d",
   "metadata": {},
   "outputs": [
    {
     "name": "stdout",
     "output_type": "stream",
     "text": [
      "<class 'pandas.core.frame.DataFrame'>\n",
      "RangeIndex: 1565 entries, 0 to 1564\n",
      "Data columns (total 5 columns):\n",
      " #   Column             Non-Null Count  Dtype \n",
      "---  ------             --------------  ----- \n",
      " 0   user_id            1565 non-null   int64 \n",
      " 1   name               1565 non-null   object\n",
      " 2   age                1565 non-null   int64 \n",
      " 3   city               1565 non-null   object\n",
      " 4   subscription_type  1565 non-null   object\n",
      "dtypes: int64(2), object(3)\n",
      "memory usage: 412.6 KB\n"
     ]
    }
   ],
   "source": [
    "users_go.info(memory_usage='deep')"
   ]
  },
  {
   "cell_type": "markdown",
   "id": "7a82e343",
   "metadata": {},
   "source": [
    "Датафрейм ‘users_go’ имеет 5 столбцов и 1565 строк без пропусков и выбросов. Вес датафрейма 412,6 Кб. Типы столбцов ‘user_id’, ‘age’, ‘subscription_type’ имеют не оптимальные типы данных, их корректировка может снизить вес датафрейма. Названия столбцов соответствуют ‘змеиному’ стилю. "
   ]
  },
  {
   "cell_type": "code",
   "execution_count": 5,
   "id": "3a621d16",
   "metadata": {},
   "outputs": [
    {
     "data": {
      "text/html": [
       "<div>\n",
       "<style scoped>\n",
       "    .dataframe tbody tr th:only-of-type {\n",
       "        vertical-align: middle;\n",
       "    }\n",
       "\n",
       "    .dataframe tbody tr th {\n",
       "        vertical-align: top;\n",
       "    }\n",
       "\n",
       "    .dataframe thead th {\n",
       "        text-align: right;\n",
       "    }\n",
       "</style>\n",
       "<table border=\"1\" class=\"dataframe\">\n",
       "  <thead>\n",
       "    <tr style=\"text-align: right;\">\n",
       "      <th></th>\n",
       "      <th>user_id</th>\n",
       "      <th>distance</th>\n",
       "      <th>duration</th>\n",
       "      <th>date</th>\n",
       "    </tr>\n",
       "  </thead>\n",
       "  <tbody>\n",
       "    <tr>\n",
       "      <th>0</th>\n",
       "      <td>1</td>\n",
       "      <td>4409.919140</td>\n",
       "      <td>25.599769</td>\n",
       "      <td>2021-01-01</td>\n",
       "    </tr>\n",
       "    <tr>\n",
       "      <th>1</th>\n",
       "      <td>1</td>\n",
       "      <td>2617.592153</td>\n",
       "      <td>15.816871</td>\n",
       "      <td>2021-01-18</td>\n",
       "    </tr>\n",
       "    <tr>\n",
       "      <th>2</th>\n",
       "      <td>1</td>\n",
       "      <td>754.159807</td>\n",
       "      <td>6.232113</td>\n",
       "      <td>2021-04-20</td>\n",
       "    </tr>\n",
       "    <tr>\n",
       "      <th>3</th>\n",
       "      <td>1</td>\n",
       "      <td>2694.783254</td>\n",
       "      <td>18.511000</td>\n",
       "      <td>2021-08-11</td>\n",
       "    </tr>\n",
       "    <tr>\n",
       "      <th>4</th>\n",
       "      <td>1</td>\n",
       "      <td>4028.687306</td>\n",
       "      <td>26.265803</td>\n",
       "      <td>2021-08-28</td>\n",
       "    </tr>\n",
       "    <tr>\n",
       "      <th>5</th>\n",
       "      <td>1</td>\n",
       "      <td>2770.890808</td>\n",
       "      <td>16.650138</td>\n",
       "      <td>2021-10-09</td>\n",
       "    </tr>\n",
       "    <tr>\n",
       "      <th>6</th>\n",
       "      <td>1</td>\n",
       "      <td>3039.020292</td>\n",
       "      <td>14.927879</td>\n",
       "      <td>2021-10-19</td>\n",
       "    </tr>\n",
       "    <tr>\n",
       "      <th>7</th>\n",
       "      <td>1</td>\n",
       "      <td>2842.118050</td>\n",
       "      <td>23.117468</td>\n",
       "      <td>2021-11-06</td>\n",
       "    </tr>\n",
       "    <tr>\n",
       "      <th>8</th>\n",
       "      <td>1</td>\n",
       "      <td>3412.690668</td>\n",
       "      <td>15.238072</td>\n",
       "      <td>2021-11-14</td>\n",
       "    </tr>\n",
       "    <tr>\n",
       "      <th>9</th>\n",
       "      <td>1</td>\n",
       "      <td>748.690645</td>\n",
       "      <td>15.041884</td>\n",
       "      <td>2021-11-22</td>\n",
       "    </tr>\n",
       "  </tbody>\n",
       "</table>\n",
       "</div>"
      ],
      "text/plain": [
       "   user_id     distance   duration        date\n",
       "0        1  4409.919140  25.599769  2021-01-01\n",
       "1        1  2617.592153  15.816871  2021-01-18\n",
       "2        1   754.159807   6.232113  2021-04-20\n",
       "3        1  2694.783254  18.511000  2021-08-11\n",
       "4        1  4028.687306  26.265803  2021-08-28\n",
       "5        1  2770.890808  16.650138  2021-10-09\n",
       "6        1  3039.020292  14.927879  2021-10-19\n",
       "7        1  2842.118050  23.117468  2021-11-06\n",
       "8        1  3412.690668  15.238072  2021-11-14\n",
       "9        1   748.690645  15.041884  2021-11-22"
      ]
     },
     "execution_count": 5,
     "metadata": {},
     "output_type": "execute_result"
    }
   ],
   "source": [
    "rides_go.head(10)"
   ]
  },
  {
   "cell_type": "code",
   "execution_count": 6,
   "id": "8783c71d",
   "metadata": {},
   "outputs": [
    {
     "name": "stdout",
     "output_type": "stream",
     "text": [
      "<class 'pandas.core.frame.DataFrame'>\n",
      "RangeIndex: 18068 entries, 0 to 18067\n",
      "Data columns (total 4 columns):\n",
      " #   Column    Non-Null Count  Dtype  \n",
      "---  ------    --------------  -----  \n",
      " 0   user_id   18068 non-null  int64  \n",
      " 1   distance  18068 non-null  float64\n",
      " 2   duration  18068 non-null  float64\n",
      " 3   date      18068 non-null  object \n",
      "dtypes: float64(2), int64(1), object(1)\n",
      "memory usage: 1.6 MB\n"
     ]
    }
   ],
   "source": [
    "rides_go.info(memory_usage='deep')"
   ]
  },
  {
   "cell_type": "markdown",
   "id": "9e456199",
   "metadata": {},
   "source": [
    "В датафрейме ‘rides_go’ обнаружены 4 столбца и 18068 строк без пропусков. Вес датафрейма 1,6 Мб. Типы столбцов ‘user_id’ и ‘date’ не оптимальны. Корректировка типов этих столбцов снизит потребление памяти и позволит раскрыть их потенциал. Названия столбцов соответствуют ‘змеиному’ стилю. Возможно наличие выбросов в столбцах ‘distance’ и ‘duration’. Необходим анализ."
   ]
  },
  {
   "cell_type": "code",
   "execution_count": 7,
   "id": "44506a7e",
   "metadata": {},
   "outputs": [
    {
     "data": {
      "text/html": [
       "<div>\n",
       "<style scoped>\n",
       "    .dataframe tbody tr th:only-of-type {\n",
       "        vertical-align: middle;\n",
       "    }\n",
       "\n",
       "    .dataframe tbody tr th {\n",
       "        vertical-align: top;\n",
       "    }\n",
       "\n",
       "    .dataframe thead th {\n",
       "        text-align: right;\n",
       "    }\n",
       "</style>\n",
       "<table border=\"1\" class=\"dataframe\">\n",
       "  <thead>\n",
       "    <tr style=\"text-align: right;\">\n",
       "      <th></th>\n",
       "      <th>subscription_type</th>\n",
       "      <th>minute_price</th>\n",
       "      <th>start_ride_price</th>\n",
       "      <th>subscription_fee</th>\n",
       "    </tr>\n",
       "  </thead>\n",
       "  <tbody>\n",
       "    <tr>\n",
       "      <th>0</th>\n",
       "      <td>free</td>\n",
       "      <td>8</td>\n",
       "      <td>50</td>\n",
       "      <td>0</td>\n",
       "    </tr>\n",
       "    <tr>\n",
       "      <th>1</th>\n",
       "      <td>ultra</td>\n",
       "      <td>6</td>\n",
       "      <td>0</td>\n",
       "      <td>199</td>\n",
       "    </tr>\n",
       "  </tbody>\n",
       "</table>\n",
       "</div>"
      ],
      "text/plain": [
       "  subscription_type  minute_price  start_ride_price  subscription_fee\n",
       "0              free             8                50                 0\n",
       "1             ultra             6                 0               199"
      ]
     },
     "execution_count": 7,
     "metadata": {},
     "output_type": "execute_result"
    }
   ],
   "source": [
    "subscriptions_go.head(10)"
   ]
  },
  {
   "cell_type": "code",
   "execution_count": 8,
   "id": "dbc1bbe1",
   "metadata": {},
   "outputs": [
    {
     "name": "stdout",
     "output_type": "stream",
     "text": [
      "<class 'pandas.core.frame.DataFrame'>\n",
      "RangeIndex: 2 entries, 0 to 1\n",
      "Data columns (total 4 columns):\n",
      " #   Column             Non-Null Count  Dtype \n",
      "---  ------             --------------  ----- \n",
      " 0   subscription_type  2 non-null      object\n",
      " 1   minute_price       2 non-null      int64 \n",
      " 2   start_ride_price   2 non-null      int64 \n",
      " 3   subscription_fee   2 non-null      int64 \n",
      "dtypes: int64(3), object(1)\n",
      "memory usage: 299.0 bytes\n"
     ]
    }
   ],
   "source": [
    "subscriptions_go.info(memory_usage='deep')"
   ]
  },
  {
   "cell_type": "markdown",
   "id": "1e254a47",
   "metadata": {},
   "source": [
    "В датафрейме обнаружены 4 столбца и 2 строки без пропусков. Не оптимальные типы данных во всех столбцах. Это не является критичным при весе датафрейма в 299 байт. Если тип данных в столбце ‘subscription_type’ датафрейма ‘users_go’ будет изменён, то и в данном датафрейме одноимённый столбец требуется привести в соответствие. Названия столбцов соответствуют ‘змеиному’ стилю."
   ]
  },
  {
   "cell_type": "markdown",
   "id": "95fc45f0",
   "metadata": {},
   "source": [
    "# Шаг 2. Предобработка данных"
   ]
  },
  {
   "cell_type": "markdown",
   "id": "3bc39f16",
   "metadata": {},
   "source": [
    "**Рассмотрим количество пропусков в таблицах**"
   ]
  },
  {
   "cell_type": "code",
   "execution_count": 9,
   "id": "0024a119",
   "metadata": {},
   "outputs": [
    {
     "data": {
      "text/plain": [
       "user_id              0\n",
       "name                 0\n",
       "age                  0\n",
       "city                 0\n",
       "subscription_type    0\n",
       "dtype: int64"
      ]
     },
     "execution_count": 9,
     "metadata": {},
     "output_type": "execute_result"
    }
   ],
   "source": [
    "users_go.isna().sum()"
   ]
  },
  {
   "cell_type": "code",
   "execution_count": 10,
   "id": "e37d50df",
   "metadata": {},
   "outputs": [
    {
     "data": {
      "text/plain": [
       "user_id     0\n",
       "distance    0\n",
       "duration    0\n",
       "date        0\n",
       "dtype: int64"
      ]
     },
     "execution_count": 10,
     "metadata": {},
     "output_type": "execute_result"
    }
   ],
   "source": [
    "rides_go.isna().sum()"
   ]
  },
  {
   "cell_type": "code",
   "execution_count": 11,
   "id": "ff34e9bc",
   "metadata": {},
   "outputs": [
    {
     "data": {
      "text/plain": [
       "subscription_type    0\n",
       "minute_price         0\n",
       "start_ride_price     0\n",
       "subscription_fee     0\n",
       "dtype: int64"
      ]
     },
     "execution_count": 11,
     "metadata": {},
     "output_type": "execute_result"
    }
   ],
   "source": [
    "subscriptions_go.isna().sum()"
   ]
  },
  {
   "cell_type": "markdown",
   "id": "345e312a",
   "metadata": {},
   "source": [
    "**Поменяем тип данных там, где это возможно**"
   ]
  },
  {
   "cell_type": "code",
   "execution_count": 12,
   "id": "cac4d3c1",
   "metadata": {},
   "outputs": [],
   "source": [
    "# Корректировка столбцов в 'users_go'\n",
    "users_go['user_id'] = users_go['user_id'].astype('uint16')\n",
    "users_go['age'] = users_go['age'].astype('uint8')"
   ]
  },
  {
   "cell_type": "code",
   "execution_count": 13,
   "id": "97b1f6ed",
   "metadata": {},
   "outputs": [],
   "source": [
    "#Приведем столбец date из датафрейма data_riders к типу даты.\n",
    "rides_go['date'] = pd.to_datetime(rides_go['date'], format = '%Y-%m-%d')"
   ]
  },
  {
   "cell_type": "code",
   "execution_count": 14,
   "id": "f2405a93",
   "metadata": {},
   "outputs": [
    {
     "data": {
      "text/plain": [
       "0   2021-01-01\n",
       "1   2021-01-18\n",
       "2   2021-04-20\n",
       "3   2021-08-11\n",
       "4   2021-08-28\n",
       "5   2021-10-09\n",
       "6   2021-10-19\n",
       "7   2021-11-06\n",
       "8   2021-11-14\n",
       "9   2021-11-22\n",
       "Name: date, dtype: datetime64[ns]"
      ]
     },
     "execution_count": 14,
     "metadata": {},
     "output_type": "execute_result"
    }
   ],
   "source": [
    "rides_go['date'].head(10)"
   ]
  },
  {
   "cell_type": "code",
   "execution_count": 15,
   "id": "16b4b6f3",
   "metadata": {},
   "outputs": [
    {
     "data": {
      "text/plain": [
       "array([2021])"
      ]
     },
     "execution_count": 15,
     "metadata": {},
     "output_type": "execute_result"
    }
   ],
   "source": [
    "#Проверим, за какой период предоставлены данные. \n",
    "rides_go['date'].dt.year.unique()"
   ]
  },
  {
   "cell_type": "code",
   "execution_count": 16,
   "id": "99b53ce7",
   "metadata": {},
   "outputs": [],
   "source": [
    "#Добавим номер месяца\n",
    "rides_go['month'] = rides_go['date'].dt.month"
   ]
  },
  {
   "cell_type": "code",
   "execution_count": 17,
   "id": "acf3f5b6",
   "metadata": {},
   "outputs": [
    {
     "data": {
      "text/plain": [
       "0     1\n",
       "1     1\n",
       "2     4\n",
       "3     8\n",
       "4     8\n",
       "5    10\n",
       "6    10\n",
       "7    11\n",
       "8    11\n",
       "9    11\n",
       "Name: month, dtype: int64"
      ]
     },
     "execution_count": 17,
     "metadata": {},
     "output_type": "execute_result"
    }
   ],
   "source": [
    "rides_go['month'].head(10)"
   ]
  },
  {
   "cell_type": "markdown",
   "id": "0791c8b5",
   "metadata": {},
   "source": [
    "**Обработаем дубликаты**"
   ]
  },
  {
   "cell_type": "code",
   "execution_count": 18,
   "id": "5338a271",
   "metadata": {},
   "outputs": [
    {
     "data": {
      "text/plain": [
       "31"
      ]
     },
     "execution_count": 18,
     "metadata": {},
     "output_type": "execute_result"
    }
   ],
   "source": [
    "users_go.duplicated().sum()"
   ]
  },
  {
   "cell_type": "code",
   "execution_count": 19,
   "id": "06e93fc0",
   "metadata": {},
   "outputs": [],
   "source": [
    "users_go.drop_duplicates(inplace=True)"
   ]
  },
  {
   "cell_type": "code",
   "execution_count": 20,
   "id": "fd1d8b56",
   "metadata": {},
   "outputs": [
    {
     "data": {
      "text/plain": [
       "0"
      ]
     },
     "execution_count": 20,
     "metadata": {},
     "output_type": "execute_result"
    }
   ],
   "source": [
    "users_go.duplicated().sum()"
   ]
  },
  {
   "cell_type": "code",
   "execution_count": 21,
   "id": "4b53970b",
   "metadata": {},
   "outputs": [
    {
     "data": {
      "text/plain": [
       "0"
      ]
     },
     "execution_count": 21,
     "metadata": {},
     "output_type": "execute_result"
    }
   ],
   "source": [
    "rides_go.duplicated().sum()"
   ]
  },
  {
   "cell_type": "code",
   "execution_count": 22,
   "id": "291ffff0",
   "metadata": {},
   "outputs": [
    {
     "data": {
      "text/plain": [
       "0"
      ]
     },
     "execution_count": 22,
     "metadata": {},
     "output_type": "execute_result"
    }
   ],
   "source": [
    "subscriptions_go.duplicated().sum()"
   ]
  },
  {
   "cell_type": "markdown",
   "id": "0b9972a6",
   "metadata": {},
   "source": [
    "**Итог**\n",
    "1) Пропущенных данных в таблицах не обнаружено.\n",
    "\n",
    "2) Удалены дубликаты в данных.\n",
    "\n",
    "3) Добавлен столбец `month` с номер месяца."
   ]
  },
  {
   "cell_type": "markdown",
   "id": "7882cc55",
   "metadata": {},
   "source": [
    "# Шаг 3. Исследовательский анализ данных"
   ]
  },
  {
   "cell_type": "markdown",
   "id": "6b4bf357",
   "metadata": {},
   "source": [
    "**Используем функцию описательной статистики, чтобы посмотреть основные данные о наших датафреймах**"
   ]
  },
  {
   "cell_type": "code",
   "execution_count": 23,
   "id": "75162387",
   "metadata": {},
   "outputs": [
    {
     "data": {
      "text/html": [
       "<div>\n",
       "<style scoped>\n",
       "    .dataframe tbody tr th:only-of-type {\n",
       "        vertical-align: middle;\n",
       "    }\n",
       "\n",
       "    .dataframe tbody tr th {\n",
       "        vertical-align: top;\n",
       "    }\n",
       "\n",
       "    .dataframe thead th {\n",
       "        text-align: right;\n",
       "    }\n",
       "</style>\n",
       "<table border=\"1\" class=\"dataframe\">\n",
       "  <thead>\n",
       "    <tr style=\"text-align: right;\">\n",
       "      <th></th>\n",
       "      <th>user_id</th>\n",
       "      <th>age</th>\n",
       "    </tr>\n",
       "  </thead>\n",
       "  <tbody>\n",
       "    <tr>\n",
       "      <th>count</th>\n",
       "      <td>1534.000000</td>\n",
       "      <td>1534.000000</td>\n",
       "    </tr>\n",
       "    <tr>\n",
       "      <th>mean</th>\n",
       "      <td>767.500000</td>\n",
       "      <td>24.903520</td>\n",
       "    </tr>\n",
       "    <tr>\n",
       "      <th>std</th>\n",
       "      <td>442.971971</td>\n",
       "      <td>4.572367</td>\n",
       "    </tr>\n",
       "    <tr>\n",
       "      <th>min</th>\n",
       "      <td>1.000000</td>\n",
       "      <td>12.000000</td>\n",
       "    </tr>\n",
       "    <tr>\n",
       "      <th>25%</th>\n",
       "      <td>384.250000</td>\n",
       "      <td>22.000000</td>\n",
       "    </tr>\n",
       "    <tr>\n",
       "      <th>50%</th>\n",
       "      <td>767.500000</td>\n",
       "      <td>25.000000</td>\n",
       "    </tr>\n",
       "    <tr>\n",
       "      <th>75%</th>\n",
       "      <td>1150.750000</td>\n",
       "      <td>28.000000</td>\n",
       "    </tr>\n",
       "    <tr>\n",
       "      <th>max</th>\n",
       "      <td>1534.000000</td>\n",
       "      <td>43.000000</td>\n",
       "    </tr>\n",
       "  </tbody>\n",
       "</table>\n",
       "</div>"
      ],
      "text/plain": [
       "           user_id          age\n",
       "count  1534.000000  1534.000000\n",
       "mean    767.500000    24.903520\n",
       "std     442.971971     4.572367\n",
       "min       1.000000    12.000000\n",
       "25%     384.250000    22.000000\n",
       "50%     767.500000    25.000000\n",
       "75%    1150.750000    28.000000\n",
       "max    1534.000000    43.000000"
      ]
     },
     "execution_count": 23,
     "metadata": {},
     "output_type": "execute_result"
    }
   ],
   "source": [
    "users_go.describe()"
   ]
  },
  {
   "cell_type": "code",
   "execution_count": 24,
   "id": "6c3032fd",
   "metadata": {},
   "outputs": [
    {
     "data": {
      "text/html": [
       "<div>\n",
       "<style scoped>\n",
       "    .dataframe tbody tr th:only-of-type {\n",
       "        vertical-align: middle;\n",
       "    }\n",
       "\n",
       "    .dataframe tbody tr th {\n",
       "        vertical-align: top;\n",
       "    }\n",
       "\n",
       "    .dataframe thead th {\n",
       "        text-align: right;\n",
       "    }\n",
       "</style>\n",
       "<table border=\"1\" class=\"dataframe\">\n",
       "  <thead>\n",
       "    <tr style=\"text-align: right;\">\n",
       "      <th></th>\n",
       "      <th>user_id</th>\n",
       "      <th>distance</th>\n",
       "      <th>duration</th>\n",
       "      <th>month</th>\n",
       "    </tr>\n",
       "  </thead>\n",
       "  <tbody>\n",
       "    <tr>\n",
       "      <th>count</th>\n",
       "      <td>18068.000000</td>\n",
       "      <td>18068.000000</td>\n",
       "      <td>18068.000000</td>\n",
       "      <td>18068.000000</td>\n",
       "    </tr>\n",
       "    <tr>\n",
       "      <th>mean</th>\n",
       "      <td>842.869936</td>\n",
       "      <td>3070.659976</td>\n",
       "      <td>17.805011</td>\n",
       "      <td>6.486772</td>\n",
       "    </tr>\n",
       "    <tr>\n",
       "      <th>std</th>\n",
       "      <td>434.734317</td>\n",
       "      <td>1116.831209</td>\n",
       "      <td>6.091051</td>\n",
       "      <td>3.437410</td>\n",
       "    </tr>\n",
       "    <tr>\n",
       "      <th>min</th>\n",
       "      <td>1.000000</td>\n",
       "      <td>0.855683</td>\n",
       "      <td>0.500000</td>\n",
       "      <td>1.000000</td>\n",
       "    </tr>\n",
       "    <tr>\n",
       "      <th>25%</th>\n",
       "      <td>487.000000</td>\n",
       "      <td>2543.226360</td>\n",
       "      <td>13.597563</td>\n",
       "      <td>4.000000</td>\n",
       "    </tr>\n",
       "    <tr>\n",
       "      <th>50%</th>\n",
       "      <td>889.000000</td>\n",
       "      <td>3133.609994</td>\n",
       "      <td>17.678395</td>\n",
       "      <td>6.000000</td>\n",
       "    </tr>\n",
       "    <tr>\n",
       "      <th>75%</th>\n",
       "      <td>1213.250000</td>\n",
       "      <td>3776.222735</td>\n",
       "      <td>21.724800</td>\n",
       "      <td>9.000000</td>\n",
       "    </tr>\n",
       "    <tr>\n",
       "      <th>max</th>\n",
       "      <td>1534.000000</td>\n",
       "      <td>7211.007745</td>\n",
       "      <td>40.823963</td>\n",
       "      <td>12.000000</td>\n",
       "    </tr>\n",
       "  </tbody>\n",
       "</table>\n",
       "</div>"
      ],
      "text/plain": [
       "            user_id      distance      duration         month\n",
       "count  18068.000000  18068.000000  18068.000000  18068.000000\n",
       "mean     842.869936   3070.659976     17.805011      6.486772\n",
       "std      434.734317   1116.831209      6.091051      3.437410\n",
       "min        1.000000      0.855683      0.500000      1.000000\n",
       "25%      487.000000   2543.226360     13.597563      4.000000\n",
       "50%      889.000000   3133.609994     17.678395      6.000000\n",
       "75%     1213.250000   3776.222735     21.724800      9.000000\n",
       "max     1534.000000   7211.007745     40.823963     12.000000"
      ]
     },
     "execution_count": 24,
     "metadata": {},
     "output_type": "execute_result"
    }
   ],
   "source": [
    "rides_go.describe()"
   ]
  },
  {
   "cell_type": "code",
   "execution_count": 25,
   "id": "4eca4737",
   "metadata": {},
   "outputs": [
    {
     "data": {
      "text/html": [
       "<div>\n",
       "<style scoped>\n",
       "    .dataframe tbody tr th:only-of-type {\n",
       "        vertical-align: middle;\n",
       "    }\n",
       "\n",
       "    .dataframe tbody tr th {\n",
       "        vertical-align: top;\n",
       "    }\n",
       "\n",
       "    .dataframe thead th {\n",
       "        text-align: right;\n",
       "    }\n",
       "</style>\n",
       "<table border=\"1\" class=\"dataframe\">\n",
       "  <thead>\n",
       "    <tr style=\"text-align: right;\">\n",
       "      <th></th>\n",
       "      <th>minute_price</th>\n",
       "      <th>start_ride_price</th>\n",
       "      <th>subscription_fee</th>\n",
       "    </tr>\n",
       "  </thead>\n",
       "  <tbody>\n",
       "    <tr>\n",
       "      <th>count</th>\n",
       "      <td>2.000000</td>\n",
       "      <td>2.000000</td>\n",
       "      <td>2.000000</td>\n",
       "    </tr>\n",
       "    <tr>\n",
       "      <th>mean</th>\n",
       "      <td>7.000000</td>\n",
       "      <td>25.000000</td>\n",
       "      <td>99.500000</td>\n",
       "    </tr>\n",
       "    <tr>\n",
       "      <th>std</th>\n",
       "      <td>1.414214</td>\n",
       "      <td>35.355339</td>\n",
       "      <td>140.714249</td>\n",
       "    </tr>\n",
       "    <tr>\n",
       "      <th>min</th>\n",
       "      <td>6.000000</td>\n",
       "      <td>0.000000</td>\n",
       "      <td>0.000000</td>\n",
       "    </tr>\n",
       "    <tr>\n",
       "      <th>25%</th>\n",
       "      <td>6.500000</td>\n",
       "      <td>12.500000</td>\n",
       "      <td>49.750000</td>\n",
       "    </tr>\n",
       "    <tr>\n",
       "      <th>50%</th>\n",
       "      <td>7.000000</td>\n",
       "      <td>25.000000</td>\n",
       "      <td>99.500000</td>\n",
       "    </tr>\n",
       "    <tr>\n",
       "      <th>75%</th>\n",
       "      <td>7.500000</td>\n",
       "      <td>37.500000</td>\n",
       "      <td>149.250000</td>\n",
       "    </tr>\n",
       "    <tr>\n",
       "      <th>max</th>\n",
       "      <td>8.000000</td>\n",
       "      <td>50.000000</td>\n",
       "      <td>199.000000</td>\n",
       "    </tr>\n",
       "  </tbody>\n",
       "</table>\n",
       "</div>"
      ],
      "text/plain": [
       "       minute_price  start_ride_price  subscription_fee\n",
       "count      2.000000          2.000000          2.000000\n",
       "mean       7.000000         25.000000         99.500000\n",
       "std        1.414214         35.355339        140.714249\n",
       "min        6.000000          0.000000          0.000000\n",
       "25%        6.500000         12.500000         49.750000\n",
       "50%        7.000000         25.000000         99.500000\n",
       "75%        7.500000         37.500000        149.250000\n",
       "max        8.000000         50.000000        199.000000"
      ]
     },
     "execution_count": 25,
     "metadata": {},
     "output_type": "execute_result"
    }
   ],
   "source": [
    "subscriptions_go.describe()"
   ]
  },
  {
   "cell_type": "markdown",
   "id": "7f2811c3",
   "metadata": {},
   "source": [
    "**Посмотрим как распределены пользователи по городам**"
   ]
  },
  {
   "cell_type": "code",
   "execution_count": 26,
   "id": "a181c01e",
   "metadata": {},
   "outputs": [
    {
     "data": {
      "text/plain": [
       "Пятигорск         219\n",
       "Екатеринбург      204\n",
       "Ростов-на-Дону    198\n",
       "Краснодар         193\n",
       "Сочи              189\n",
       "Омск              183\n",
       "Тюмень            180\n",
       "Москва            168\n",
       "Name: city, dtype: int64"
      ]
     },
     "execution_count": 26,
     "metadata": {},
     "output_type": "execute_result"
    }
   ],
   "source": [
    "count_users_by_city = users_go['city'].value_counts()\n",
    "count_users_by_city"
   ]
  },
  {
   "cell_type": "code",
   "execution_count": 27,
   "id": "7a1e1ebf",
   "metadata": {},
   "outputs": [
    {
     "data": {
      "text/plain": [
       "Пятигорск         14.0\n",
       "Екатеринбург      13.0\n",
       "Ростов-на-Дону    13.0\n",
       "Краснодар         13.0\n",
       "Сочи              12.0\n",
       "Омск              12.0\n",
       "Тюмень            12.0\n",
       "Москва            11.0\n",
       "Name: city, dtype: float64"
      ]
     },
     "execution_count": 27,
     "metadata": {},
     "output_type": "execute_result"
    }
   ],
   "source": [
    "count_users_by_city['rate'] = round(users_go['city'].value_counts() / count_users_by_city.sum(), 2) * 100\n",
    "count_users_by_city['rate']"
   ]
  },
  {
   "cell_type": "code",
   "execution_count": 28,
   "id": "b081ac85",
   "metadata": {},
   "outputs": [],
   "source": [
    "#Создадим функцию для вывода круговой диаграммы для users_go\n",
    "def pie_function(column, title):\n",
    "    users_go[column].value_counts().plot(kind='pie', y=count_users_by_city, autopct='%1.0f%%', figsize=(7,7), title=title)"
   ]
  },
  {
   "cell_type": "code",
   "execution_count": 29,
   "id": "84f990fd",
   "metadata": {},
   "outputs": [],
   "source": [
    "#Создадим функцию для вывода гистограммы для users_go\n",
    "def barh_function(column, title, xlabel, ylabel):\n",
    "    users_go[column].value_counts(ascending=True).plot(kind='barh', y=count_users_by_city, figsize=(7,7), title=title)\n",
    "    plt.xlabel(xlabel)\n",
    "    plt.ylabel(ylabel)"
   ]
  },
  {
   "cell_type": "code",
   "execution_count": 30,
   "id": "d17acef4",
   "metadata": {},
   "outputs": [
    {
     "data": {
      "image/png": "[encoded data removed]",
      "text/plain": [
       "<Figure size 504x504 with 1 Axes>"
      ]
     },
     "metadata": {
      "needs_background": "light"
     },
     "output_type": "display_data"
    }
   ],
   "source": [
    "barh_function('city', 'Количественное распределение пользователей по городам', 'Количество пользователей', 'Город')"
   ]
  },
  {
   "cell_type": "markdown",
   "id": "136053ec",
   "metadata": {},
   "source": [
    "**Посмотрим на соотношение пользователей с подпиской и без подписки**"
   ]
  },
  {
   "cell_type": "code",
   "execution_count": 31,
   "id": "0bec58a9",
   "metadata": {},
   "outputs": [
    {
     "data": {
      "text/plain": [
       "free     835\n",
       "ultra    699\n",
       "Name: subscription_type, dtype: int64"
      ]
     },
     "execution_count": 31,
     "metadata": {},
     "output_type": "execute_result"
    }
   ],
   "source": [
    "count_sub = users_go['subscription_type'].value_counts()\n",
    "count_sub"
   ]
  },
  {
   "cell_type": "code",
   "execution_count": 32,
   "id": "48403f70",
   "metadata": {},
   "outputs": [
    {
     "data": {
      "image/png": "[encoded data removed]",
      "text/plain": [
       "<Figure size 504x504 with 1 Axes>"
      ]
     },
     "metadata": {},
     "output_type": "display_data"
    }
   ],
   "source": [
    "pie_function('subscription_type', 'Процентное соотношение пользователей в зависимости от тарифа')"
   ]
  },
  {
   "cell_type": "code",
   "execution_count": 33,
   "id": "842bc20a",
   "metadata": {},
   "outputs": [
    {
     "data": {
      "image/png": "[encoded data removed]",
      "text/plain": [
       "<Figure size 504x504 with 1 Axes>"
      ]
     },
     "metadata": {
      "needs_background": "light"
     },
     "output_type": "display_data"
    }
   ],
   "source": [
    "barh_function('subscription_type', 'Количественное соотношение пользователей в зависимости от тарифа', \n",
    "              'Количество пользователей', 'Тариф')"
   ]
  },
  {
   "cell_type": "markdown",
   "id": "f58fcbf4",
   "metadata": {},
   "source": [
    "**Посмотрим на распределение возрастов пользователей**"
   ]
  },
  {
   "cell_type": "code",
   "execution_count": 34,
   "id": "d6d6248f",
   "metadata": {},
   "outputs": [],
   "source": [
    "#Создадим универсальную функцию распределения с построением гистограммы\n",
    "def hist_function(data, title, xlabel, ylabel):\n",
    "    plt.hist(data, bins = 30)\n",
    "    plt.title(title)\n",
    "    plt.xlabel(xlabel)\n",
    "    plt.ylabel(ylabel)\n",
    "    plt.grid()\n",
    "    plt.show()"
   ]
  },
  {
   "cell_type": "code",
   "execution_count": 35,
   "id": "e80fbd1c",
   "metadata": {},
   "outputs": [
    {
     "data": {
      "image/png": "[encoded data removed]",
      "text/plain": [
       "<Figure size 432x288 with 1 Axes>"
      ]
     },
     "metadata": {
      "needs_background": "light"
     },
     "output_type": "display_data"
    }
   ],
   "source": [
    "hist_function(users_go['age'], 'Возраст пользователей', 'Возраст', 'Количество пользователей')"
   ]
  },
  {
   "cell_type": "markdown",
   "id": "13defc9d",
   "metadata": {},
   "source": [
    "**Оценим расстояние, которое пользователь преодолел за одну поездку**"
   ]
  },
  {
   "cell_type": "code",
   "execution_count": 36,
   "id": "60ff57de",
   "metadata": {},
   "outputs": [],
   "source": [
    "#Создадим универсальную функцию ящика с усами\n",
    "def boxplot_function(column, title, xlabel):\n",
    "    sns.boxplot(x=rides_go[column], color='blue')\n",
    "    plt.title(title)\n",
    "    plt.xlabel(xlabel)"
   ]
  },
  {
   "cell_type": "code",
   "execution_count": 37,
   "id": "fdf5816a",
   "metadata": {},
   "outputs": [
    {
     "data": {
      "image/png": "[encoded data removed]",
      "text/plain": [
       "<Figure size 432x288 with 1 Axes>"
      ]
     },
     "metadata": {
      "needs_background": "light"
     },
     "output_type": "display_data"
    }
   ],
   "source": [
    "boxplot_function('distance', 'Расстояние, преодоленное за одну поездку', 'Расстояние, м')"
   ]
  },
  {
   "cell_type": "code",
   "execution_count": 38,
   "id": "31fa545e",
   "metadata": {},
   "outputs": [
    {
     "data": {
      "image/png": "[encoded data removed]",
      "text/plain": [
       "<Figure size 432x288 with 1 Axes>"
      ]
     },
     "metadata": {
      "needs_background": "light"
     },
     "output_type": "display_data"
    }
   ],
   "source": [
    "hist_function(rides_go['distance'], 'Распределение количества поездок по их дистанции', 'Дистанция одной поездки', \n",
    "              'Количество поездок')"
   ]
  },
  {
   "cell_type": "markdown",
   "id": "cd4f5c50",
   "metadata": {},
   "source": [
    "Как мы видим, кроме основного распределения есть ещё и небольшой пик в начале графика. Это может быть связано с неверными данными или техническими сбоями в процессе взятия самоката. Также в ходе исследования было выяснено, что такое малое расстояние часто проезжают на платном тарифе, возможно чтобы быстро добраться из мест с плохой транспортной доступностью"
   ]
  },
  {
   "cell_type": "markdown",
   "id": "31245f6a",
   "metadata": {},
   "source": [
    "**Оценим продолжительность поездок**"
   ]
  },
  {
   "cell_type": "code",
   "execution_count": 39,
   "id": "c6e72dad",
   "metadata": {},
   "outputs": [
    {
     "data": {
      "text/html": [
       "<div>\n",
       "<style scoped>\n",
       "    .dataframe tbody tr th:only-of-type {\n",
       "        vertical-align: middle;\n",
       "    }\n",
       "\n",
       "    .dataframe tbody tr th {\n",
       "        vertical-align: top;\n",
       "    }\n",
       "\n",
       "    .dataframe thead th {\n",
       "        text-align: right;\n",
       "    }\n",
       "</style>\n",
       "<table border=\"1\" class=\"dataframe\">\n",
       "  <thead>\n",
       "    <tr style=\"text-align: right;\">\n",
       "      <th></th>\n",
       "      <th>distance</th>\n",
       "      <th>duration</th>\n",
       "      <th>month</th>\n",
       "    </tr>\n",
       "    <tr>\n",
       "      <th>user_id</th>\n",
       "      <th></th>\n",
       "      <th></th>\n",
       "      <th></th>\n",
       "    </tr>\n",
       "  </thead>\n",
       "  <tbody>\n",
       "    <tr>\n",
       "      <th>1</th>\n",
       "      <td>34070.182066</td>\n",
       "      <td>204.604909</td>\n",
       "      <td>99</td>\n",
       "    </tr>\n",
       "    <tr>\n",
       "      <th>2</th>\n",
       "      <td>33964.058614</td>\n",
       "      <td>197.644279</td>\n",
       "      <td>67</td>\n",
       "    </tr>\n",
       "    <tr>\n",
       "      <th>3</th>\n",
       "      <td>36907.597866</td>\n",
       "      <td>233.193513</td>\n",
       "      <td>66</td>\n",
       "    </tr>\n",
       "    <tr>\n",
       "      <th>4</th>\n",
       "      <td>44837.189916</td>\n",
       "      <td>288.563581</td>\n",
       "      <td>107</td>\n",
       "    </tr>\n",
       "    <tr>\n",
       "      <th>5</th>\n",
       "      <td>35556.949649</td>\n",
       "      <td>174.073932</td>\n",
       "      <td>51</td>\n",
       "    </tr>\n",
       "    <tr>\n",
       "      <th>...</th>\n",
       "      <td>...</td>\n",
       "      <td>...</td>\n",
       "      <td>...</td>\n",
       "    </tr>\n",
       "    <tr>\n",
       "      <th>1530</th>\n",
       "      <td>46758.469822</td>\n",
       "      <td>292.366839</td>\n",
       "      <td>104</td>\n",
       "    </tr>\n",
       "    <tr>\n",
       "      <th>1531</th>\n",
       "      <td>67054.794222</td>\n",
       "      <td>408.192206</td>\n",
       "      <td>142</td>\n",
       "    </tr>\n",
       "    <tr>\n",
       "      <th>1532</th>\n",
       "      <td>33902.203192</td>\n",
       "      <td>212.160144</td>\n",
       "      <td>111</td>\n",
       "    </tr>\n",
       "    <tr>\n",
       "      <th>1533</th>\n",
       "      <td>36890.192211</td>\n",
       "      <td>240.580297</td>\n",
       "      <td>65</td>\n",
       "    </tr>\n",
       "    <tr>\n",
       "      <th>1534</th>\n",
       "      <td>41898.442847</td>\n",
       "      <td>229.835127</td>\n",
       "      <td>100</td>\n",
       "    </tr>\n",
       "  </tbody>\n",
       "</table>\n",
       "<p>1534 rows × 3 columns</p>\n",
       "</div>"
      ],
      "text/plain": [
       "             distance    duration  month\n",
       "user_id                                 \n",
       "1        34070.182066  204.604909     99\n",
       "2        33964.058614  197.644279     67\n",
       "3        36907.597866  233.193513     66\n",
       "4        44837.189916  288.563581    107\n",
       "5        35556.949649  174.073932     51\n",
       "...               ...         ...    ...\n",
       "1530     46758.469822  292.366839    104\n",
       "1531     67054.794222  408.192206    142\n",
       "1532     33902.203192  212.160144    111\n",
       "1533     36890.192211  240.580297     65\n",
       "1534     41898.442847  229.835127    100\n",
       "\n",
       "[1534 rows x 3 columns]"
      ]
     },
     "execution_count": 39,
     "metadata": {},
     "output_type": "execute_result"
    }
   ],
   "source": [
    "rides_go.groupby(['user_id']).sum(numeric_only = True)"
   ]
  },
  {
   "cell_type": "code",
   "execution_count": 40,
   "id": "df9b7455",
   "metadata": {},
   "outputs": [
    {
     "data": {
      "image/png": "[encoded data removed]",
      "text/plain": [
       "<Figure size 432x288 with 1 Axes>"
      ]
     },
     "metadata": {
      "needs_background": "light"
     },
     "output_type": "display_data"
    }
   ],
   "source": [
    "boxplot_function('duration', 'Время, проведенное в поездке', 'Время, минуты')"
   ]
  },
  {
   "cell_type": "code",
   "execution_count": 41,
   "id": "7cd311f4",
   "metadata": {},
   "outputs": [
    {
     "data": {
      "image/png": "[encoded data removed]",
      "text/plain": [
       "<Figure size 432x288 with 1 Axes>"
      ]
     },
     "metadata": {
      "needs_background": "light"
     },
     "output_type": "display_data"
    }
   ],
   "source": [
    "hist_function(rides_go['duration'], 'Распределение количества поездок по их продолжительности', \n",
    "              'Продолжительность одной поездки', 'Количество поездок')"
   ]
  },
  {
   "cell_type": "markdown",
   "id": "b25fc9ca",
   "metadata": {},
   "source": [
    "**В самом начале графика виден пик. Проанализируем его на аномалии**"
   ]
  },
  {
   "cell_type": "code",
   "execution_count": 42,
   "id": "1215fd37",
   "metadata": {},
   "outputs": [
    {
     "data": {
      "image/png": "[encoded data removed]",
      "text/plain": [
       "<Figure size 432x288 with 1 Axes>"
      ]
     },
     "metadata": {
      "needs_background": "light"
     },
     "output_type": "display_data"
    }
   ],
   "source": [
    "#Уменьшим анализируемый интервал\n",
    "plt.hist(rides_go['duration'], bins = 30, range=(0, 5))\n",
    "plt.title('Распределение количества поездок по их продолжительности')\n",
    "plt.xlabel('Продолжительность одной поездки')\n",
    "plt.ylabel('Количество поездок')\n",
    "plt.grid()\n",
    "plt.show()"
   ]
  },
  {
   "cell_type": "code",
   "execution_count": 43,
   "id": "4fa53697",
   "metadata": {},
   "outputs": [
    {
     "data": {
      "text/plain": [
       "17.678394530393803"
      ]
     },
     "execution_count": 43,
     "metadata": {},
     "output_type": "execute_result"
    }
   ],
   "source": [
    "#Посмотрим на медиану датасета по столбцу duration\n",
    "rides_go['duration'].median()"
   ]
  },
  {
   "cell_type": "code",
   "execution_count": 44,
   "id": "49ecd1c8",
   "metadata": {},
   "outputs": [
    {
     "data": {
      "text/html": [
       "<div>\n",
       "<style scoped>\n",
       "    .dataframe tbody tr th:only-of-type {\n",
       "        vertical-align: middle;\n",
       "    }\n",
       "\n",
       "    .dataframe tbody tr th {\n",
       "        vertical-align: top;\n",
       "    }\n",
       "\n",
       "    .dataframe thead th {\n",
       "        text-align: right;\n",
       "    }\n",
       "</style>\n",
       "<table border=\"1\" class=\"dataframe\">\n",
       "  <thead>\n",
       "    <tr style=\"text-align: right;\">\n",
       "      <th></th>\n",
       "      <th>user_id</th>\n",
       "      <th>distance</th>\n",
       "      <th>duration</th>\n",
       "      <th>month</th>\n",
       "    </tr>\n",
       "  </thead>\n",
       "  <tbody>\n",
       "    <tr>\n",
       "      <th>count</th>\n",
       "      <td>95.000000</td>\n",
       "      <td>95.000000</td>\n",
       "      <td>95.0</td>\n",
       "      <td>95.000000</td>\n",
       "    </tr>\n",
       "    <tr>\n",
       "      <th>mean</th>\n",
       "      <td>1092.210526</td>\n",
       "      <td>5113.176549</td>\n",
       "      <td>0.5</td>\n",
       "      <td>6.484211</td>\n",
       "    </tr>\n",
       "    <tr>\n",
       "      <th>std</th>\n",
       "      <td>244.028551</td>\n",
       "      <td>658.254104</td>\n",
       "      <td>0.0</td>\n",
       "      <td>3.709858</td>\n",
       "    </tr>\n",
       "    <tr>\n",
       "      <th>min</th>\n",
       "      <td>701.000000</td>\n",
       "      <td>4030.308008</td>\n",
       "      <td>0.5</td>\n",
       "      <td>1.000000</td>\n",
       "    </tr>\n",
       "    <tr>\n",
       "      <th>25%</th>\n",
       "      <td>901.000000</td>\n",
       "      <td>4611.510820</td>\n",
       "      <td>0.5</td>\n",
       "      <td>3.000000</td>\n",
       "    </tr>\n",
       "    <tr>\n",
       "      <th>50%</th>\n",
       "      <td>1069.000000</td>\n",
       "      <td>5052.769411</td>\n",
       "      <td>0.5</td>\n",
       "      <td>6.000000</td>\n",
       "    </tr>\n",
       "    <tr>\n",
       "      <th>75%</th>\n",
       "      <td>1310.500000</td>\n",
       "      <td>5488.459099</td>\n",
       "      <td>0.5</td>\n",
       "      <td>10.000000</td>\n",
       "    </tr>\n",
       "    <tr>\n",
       "      <th>max</th>\n",
       "      <td>1524.000000</td>\n",
       "      <td>7211.007745</td>\n",
       "      <td>0.5</td>\n",
       "      <td>12.000000</td>\n",
       "    </tr>\n",
       "  </tbody>\n",
       "</table>\n",
       "</div>"
      ],
      "text/plain": [
       "           user_id     distance  duration      month\n",
       "count    95.000000    95.000000      95.0  95.000000\n",
       "mean   1092.210526  5113.176549       0.5   6.484211\n",
       "std     244.028551   658.254104       0.0   3.709858\n",
       "min     701.000000  4030.308008       0.5   1.000000\n",
       "25%     901.000000  4611.510820       0.5   3.000000\n",
       "50%    1069.000000  5052.769411       0.5   6.000000\n",
       "75%    1310.500000  5488.459099       0.5  10.000000\n",
       "max    1524.000000  7211.007745       0.5  12.000000"
      ]
     },
     "execution_count": 44,
     "metadata": {},
     "output_type": "execute_result"
    }
   ],
   "source": [
    "#Посмотрим на вышеописанный выброс в длительности внимательнее\n",
    "zero_duration = rides_go.loc[rides_go['duration'] < 2]\n",
    "zero_duration.describe()"
   ]
  },
  {
   "cell_type": "markdown",
   "id": "ff171b47",
   "metadata": {},
   "source": [
    "Как мы видим, 95 поездок имеют продолжительность меньше 1 минуты, однако большую дистанцию - среднее и медиану более 5 км. Возможно таким образом была реализована какая-нибудь акция с бесплатными минутами и эти поездки нужно учитывать при расчете выручки как есть. Для анализа не достаточно данных, оставляем как есть."
   ]
  },
  {
   "cell_type": "markdown",
   "id": "8a5b5ce3",
   "metadata": {},
   "source": [
    "**Вывод**\n",
    "\n",
    "**Частота встречаемости городов**\n",
    "\n",
    "Лидером по частотности является Пятигорск (219 строк). Следом идут Екатеринбург (204 строки) и Ростов-на-Дону (198 строк). Антилидер — Москва (168 строк). По данным не ясно верна ли выборка, но судя по ним компании стоит наращивать продвижение своего сервиса в Москве, как одном из крупнейших \"потребителей\" сервисов самокатов.\n",
    "\n",
    "**Соотношение пользователей с подпиской и без подписки**\n",
    "\n",
    "Пользователей с подпиской «free» всего 835, что составляет 54.43% от общего количества и на 136 больше, чем с подпиской «ultra» (699). Возможно компании стоит провести рекламную акцию для повышения доли подписчиков. Конечно это зависит от сезона и политики компании в отношении подписок, а также того, кто является бесплатным пользователем. Возможно это сотрудники компании или льготная группа граждан.\n",
    "\n",
    "**Возраст пользователей**\n",
    "\n",
    "Самыми младшими являются пользователи 12, 13 лет.\n",
    "\n",
    "Самыми старшими - 43, 39.\n",
    "\n",
    "Распределение возрастной кривой имеет нормальное распределение. Максимальное количество пользователей в возрасте 25 лет, этот же возраст является медианным.\n",
    "\n",
    "В целом, основной возраст пользователей приложения укладывается в промежуток от 20 до 30 лет. \n",
    "\n",
    "**Расстояние, которое пользователь преодолел за одну поездку**\n",
    "\n",
    "Самая короткая дистанция - 0.86 км.\n",
    "\n",
    "Самая длинная - 7.2 км.\n",
    "\n",
    "В основном пользователи проезжают от 2.5 км до 4 км, что соответствует как прогулочному маршруту, так и количество киллометров, которое обычному жителю города требуется, чтобы куда-то добраться.\n",
    "\n",
    "В общем же, за одну поездку пользователи преодолевают от 1 до 7211 метров. Медиана всех значений равна 3133 метров. Наблюдаются два пика. Малый пик около 700 метров, большой пик около 3200 метров.\n",
    "\n",
    "**Продолжительность поездок**\n",
    "\n",
    "Самые короткие поездки - по пол минуты. Возможно была акция с бесплатными минутами. Для анализа не достаточно данных, оставляем как есть.\n",
    "\n",
    "Самая длинная поездка заняла 40 минут.\n",
    "\n",
    "В основном же длительность поездки состовляет 13 - 22 минуты. "
   ]
  },
  {
   "cell_type": "markdown",
   "id": "b77ad40f",
   "metadata": {},
   "source": [
    "# Шаг 4. Объединение данных"
   ]
  },
  {
   "cell_type": "markdown",
   "id": "483c3585",
   "metadata": {},
   "source": [
    "**Объединим данные в единый датафрейм**"
   ]
  },
  {
   "cell_type": "code",
   "execution_count": 45,
   "id": "8050ef74",
   "metadata": {},
   "outputs": [
    {
     "data": {
      "text/html": [
       "<div>\n",
       "<style scoped>\n",
       "    .dataframe tbody tr th:only-of-type {\n",
       "        vertical-align: middle;\n",
       "    }\n",
       "\n",
       "    .dataframe tbody tr th {\n",
       "        vertical-align: top;\n",
       "    }\n",
       "\n",
       "    .dataframe thead th {\n",
       "        text-align: right;\n",
       "    }\n",
       "</style>\n",
       "<table border=\"1\" class=\"dataframe\">\n",
       "  <thead>\n",
       "    <tr style=\"text-align: right;\">\n",
       "      <th></th>\n",
       "      <th>user_id</th>\n",
       "      <th>name</th>\n",
       "      <th>age</th>\n",
       "      <th>city</th>\n",
       "      <th>subscription_type</th>\n",
       "      <th>distance</th>\n",
       "      <th>duration</th>\n",
       "      <th>date</th>\n",
       "      <th>month</th>\n",
       "      <th>minute_price</th>\n",
       "      <th>start_ride_price</th>\n",
       "      <th>subscription_fee</th>\n",
       "    </tr>\n",
       "  </thead>\n",
       "  <tbody>\n",
       "    <tr>\n",
       "      <th>0</th>\n",
       "      <td>1</td>\n",
       "      <td>Кира</td>\n",
       "      <td>22</td>\n",
       "      <td>Тюмень</td>\n",
       "      <td>ultra</td>\n",
       "      <td>4409.919140</td>\n",
       "      <td>25.599769</td>\n",
       "      <td>2021-01-01</td>\n",
       "      <td>1</td>\n",
       "      <td>6</td>\n",
       "      <td>0</td>\n",
       "      <td>199</td>\n",
       "    </tr>\n",
       "    <tr>\n",
       "      <th>1</th>\n",
       "      <td>1</td>\n",
       "      <td>Кира</td>\n",
       "      <td>22</td>\n",
       "      <td>Тюмень</td>\n",
       "      <td>ultra</td>\n",
       "      <td>2617.592153</td>\n",
       "      <td>15.816871</td>\n",
       "      <td>2021-01-18</td>\n",
       "      <td>1</td>\n",
       "      <td>6</td>\n",
       "      <td>0</td>\n",
       "      <td>199</td>\n",
       "    </tr>\n",
       "    <tr>\n",
       "      <th>2</th>\n",
       "      <td>1</td>\n",
       "      <td>Кира</td>\n",
       "      <td>22</td>\n",
       "      <td>Тюмень</td>\n",
       "      <td>ultra</td>\n",
       "      <td>754.159807</td>\n",
       "      <td>6.232113</td>\n",
       "      <td>2021-04-20</td>\n",
       "      <td>4</td>\n",
       "      <td>6</td>\n",
       "      <td>0</td>\n",
       "      <td>199</td>\n",
       "    </tr>\n",
       "    <tr>\n",
       "      <th>3</th>\n",
       "      <td>1</td>\n",
       "      <td>Кира</td>\n",
       "      <td>22</td>\n",
       "      <td>Тюмень</td>\n",
       "      <td>ultra</td>\n",
       "      <td>2694.783254</td>\n",
       "      <td>18.511000</td>\n",
       "      <td>2021-08-11</td>\n",
       "      <td>8</td>\n",
       "      <td>6</td>\n",
       "      <td>0</td>\n",
       "      <td>199</td>\n",
       "    </tr>\n",
       "    <tr>\n",
       "      <th>4</th>\n",
       "      <td>1</td>\n",
       "      <td>Кира</td>\n",
       "      <td>22</td>\n",
       "      <td>Тюмень</td>\n",
       "      <td>ultra</td>\n",
       "      <td>4028.687306</td>\n",
       "      <td>26.265803</td>\n",
       "      <td>2021-08-28</td>\n",
       "      <td>8</td>\n",
       "      <td>6</td>\n",
       "      <td>0</td>\n",
       "      <td>199</td>\n",
       "    </tr>\n",
       "  </tbody>\n",
       "</table>\n",
       "</div>"
      ],
      "text/plain": [
       "   user_id  name  age    city subscription_type     distance   duration  \\\n",
       "0        1  Кира   22  Тюмень             ultra  4409.919140  25.599769   \n",
       "1        1  Кира   22  Тюмень             ultra  2617.592153  15.816871   \n",
       "2        1  Кира   22  Тюмень             ultra   754.159807   6.232113   \n",
       "3        1  Кира   22  Тюмень             ultra  2694.783254  18.511000   \n",
       "4        1  Кира   22  Тюмень             ultra  4028.687306  26.265803   \n",
       "\n",
       "        date  month  minute_price  start_ride_price  subscription_fee  \n",
       "0 2021-01-01      1             6                 0               199  \n",
       "1 2021-01-18      1             6                 0               199  \n",
       "2 2021-04-20      4             6                 0               199  \n",
       "3 2021-08-11      8             6                 0               199  \n",
       "4 2021-08-28      8             6                 0               199  "
      ]
     },
     "execution_count": 45,
     "metadata": {},
     "output_type": "execute_result"
    }
   ],
   "source": [
    "full_data = users_go.merge(rides_go, on='user_id').merge(subscriptions_go, on='subscription_type')\n",
    "full_data.head()"
   ]
  },
  {
   "cell_type": "code",
   "execution_count": 46,
   "id": "c7feba6c",
   "metadata": {},
   "outputs": [
    {
     "name": "stdout",
     "output_type": "stream",
     "text": [
      "<class 'pandas.core.frame.DataFrame'>\n",
      "Int64Index: 18068 entries, 0 to 18067\n",
      "Data columns (total 12 columns):\n",
      " #   Column             Non-Null Count  Dtype         \n",
      "---  ------             --------------  -----         \n",
      " 0   user_id            18068 non-null  uint16        \n",
      " 1   name               18068 non-null  object        \n",
      " 2   age                18068 non-null  uint8         \n",
      " 3   city               18068 non-null  object        \n",
      " 4   subscription_type  18068 non-null  object        \n",
      " 5   distance           18068 non-null  float64       \n",
      " 6   duration           18068 non-null  float64       \n",
      " 7   date               18068 non-null  datetime64[ns]\n",
      " 8   month              18068 non-null  int64         \n",
      " 9   minute_price       18068 non-null  int64         \n",
      " 10  start_ride_price   18068 non-null  int64         \n",
      " 11  subscription_fee   18068 non-null  int64         \n",
      "dtypes: datetime64[ns](1), float64(2), int64(4), object(3), uint16(1), uint8(1)\n",
      "memory usage: 1.6+ MB\n"
     ]
    }
   ],
   "source": [
    "full_data.info()"
   ]
  },
  {
   "cell_type": "code",
   "execution_count": 47,
   "id": "2111bb4d",
   "metadata": {},
   "outputs": [
    {
     "data": {
      "text/plain": [
       "18068"
      ]
     },
     "execution_count": 47,
     "metadata": {},
     "output_type": "execute_result"
    }
   ],
   "source": [
    "len(full_data)"
   ]
  },
  {
   "cell_type": "code",
   "execution_count": 48,
   "id": "37489975",
   "metadata": {},
   "outputs": [
    {
     "data": {
      "text/plain": [
       "19604"
      ]
     },
     "execution_count": 48,
     "metadata": {},
     "output_type": "execute_result"
    }
   ],
   "source": [
    "len(users_go) + len(rides_go) + len(subscriptions_go)"
   ]
  },
  {
   "cell_type": "code",
   "execution_count": 49,
   "id": "ce5fe8e1",
   "metadata": {},
   "outputs": [
    {
     "data": {
      "text/html": [
       "<div>\n",
       "<style scoped>\n",
       "    .dataframe tbody tr th:only-of-type {\n",
       "        vertical-align: middle;\n",
       "    }\n",
       "\n",
       "    .dataframe tbody tr th {\n",
       "        vertical-align: top;\n",
       "    }\n",
       "\n",
       "    .dataframe thead th {\n",
       "        text-align: right;\n",
       "    }\n",
       "</style>\n",
       "<table border=\"1\" class=\"dataframe\">\n",
       "  <thead>\n",
       "    <tr style=\"text-align: right;\">\n",
       "      <th></th>\n",
       "      <th>user_id</th>\n",
       "      <th>name</th>\n",
       "      <th>age</th>\n",
       "      <th>city</th>\n",
       "      <th>subscription_type</th>\n",
       "      <th>distance</th>\n",
       "      <th>duration</th>\n",
       "      <th>date</th>\n",
       "      <th>month</th>\n",
       "      <th>minute_price</th>\n",
       "      <th>start_ride_price</th>\n",
       "      <th>subscription_fee</th>\n",
       "    </tr>\n",
       "  </thead>\n",
       "  <tbody>\n",
       "    <tr>\n",
       "      <th>6500</th>\n",
       "      <td>700</td>\n",
       "      <td>Айдар</td>\n",
       "      <td>22</td>\n",
       "      <td>Омск</td>\n",
       "      <td>free</td>\n",
       "      <td>2515.690719</td>\n",
       "      <td>14.944286</td>\n",
       "      <td>2021-01-02</td>\n",
       "      <td>1</td>\n",
       "      <td>8</td>\n",
       "      <td>50</td>\n",
       "      <td>0</td>\n",
       "    </tr>\n",
       "    <tr>\n",
       "      <th>6501</th>\n",
       "      <td>700</td>\n",
       "      <td>Айдар</td>\n",
       "      <td>22</td>\n",
       "      <td>Омск</td>\n",
       "      <td>free</td>\n",
       "      <td>846.932642</td>\n",
       "      <td>16.234663</td>\n",
       "      <td>2021-02-01</td>\n",
       "      <td>2</td>\n",
       "      <td>8</td>\n",
       "      <td>50</td>\n",
       "      <td>0</td>\n",
       "    </tr>\n",
       "    <tr>\n",
       "      <th>6502</th>\n",
       "      <td>700</td>\n",
       "      <td>Айдар</td>\n",
       "      <td>22</td>\n",
       "      <td>Омск</td>\n",
       "      <td>free</td>\n",
       "      <td>4004.434142</td>\n",
       "      <td>20.016628</td>\n",
       "      <td>2021-02-04</td>\n",
       "      <td>2</td>\n",
       "      <td>8</td>\n",
       "      <td>50</td>\n",
       "      <td>0</td>\n",
       "    </tr>\n",
       "    <tr>\n",
       "      <th>6503</th>\n",
       "      <td>700</td>\n",
       "      <td>Айдар</td>\n",
       "      <td>22</td>\n",
       "      <td>Омск</td>\n",
       "      <td>free</td>\n",
       "      <td>1205.911290</td>\n",
       "      <td>9.782872</td>\n",
       "      <td>2021-02-10</td>\n",
       "      <td>2</td>\n",
       "      <td>8</td>\n",
       "      <td>50</td>\n",
       "      <td>0</td>\n",
       "    </tr>\n",
       "    <tr>\n",
       "      <th>6504</th>\n",
       "      <td>700</td>\n",
       "      <td>Айдар</td>\n",
       "      <td>22</td>\n",
       "      <td>Омск</td>\n",
       "      <td>free</td>\n",
       "      <td>3047.379435</td>\n",
       "      <td>17.427673</td>\n",
       "      <td>2021-02-14</td>\n",
       "      <td>2</td>\n",
       "      <td>8</td>\n",
       "      <td>50</td>\n",
       "      <td>0</td>\n",
       "    </tr>\n",
       "  </tbody>\n",
       "</table>\n",
       "</div>"
      ],
      "text/plain": [
       "      user_id   name  age  city subscription_type     distance   duration  \\\n",
       "6500      700  Айдар   22  Омск              free  2515.690719  14.944286   \n",
       "6501      700  Айдар   22  Омск              free   846.932642  16.234663   \n",
       "6502      700  Айдар   22  Омск              free  4004.434142  20.016628   \n",
       "6503      700  Айдар   22  Омск              free  1205.911290   9.782872   \n",
       "6504      700  Айдар   22  Омск              free  3047.379435  17.427673   \n",
       "\n",
       "           date  month  minute_price  start_ride_price  subscription_fee  \n",
       "6500 2021-01-02      1             8                50                 0  \n",
       "6501 2021-02-01      2             8                50                 0  \n",
       "6502 2021-02-04      2             8                50                 0  \n",
       "6503 2021-02-10      2             8                50                 0  \n",
       "6504 2021-02-14      2             8                50                 0  "
      ]
     },
     "execution_count": 49,
     "metadata": {},
     "output_type": "execute_result"
    }
   ],
   "source": [
    "#Создадим датафрейм с данными о пользователях без подписки\n",
    "free_sub = full_data.query(\"`subscription_type` == 'free'\")\n",
    "free_sub.head()"
   ]
  },
  {
   "cell_type": "code",
   "execution_count": 50,
   "id": "3427bf6f",
   "metadata": {},
   "outputs": [
    {
     "data": {
      "text/html": [
       "<div>\n",
       "<style scoped>\n",
       "    .dataframe tbody tr th:only-of-type {\n",
       "        vertical-align: middle;\n",
       "    }\n",
       "\n",
       "    .dataframe tbody tr th {\n",
       "        vertical-align: top;\n",
       "    }\n",
       "\n",
       "    .dataframe thead th {\n",
       "        text-align: right;\n",
       "    }\n",
       "</style>\n",
       "<table border=\"1\" class=\"dataframe\">\n",
       "  <thead>\n",
       "    <tr style=\"text-align: right;\">\n",
       "      <th></th>\n",
       "      <th>user_id</th>\n",
       "      <th>age</th>\n",
       "      <th>distance</th>\n",
       "      <th>duration</th>\n",
       "      <th>month</th>\n",
       "      <th>minute_price</th>\n",
       "      <th>start_ride_price</th>\n",
       "      <th>subscription_fee</th>\n",
       "    </tr>\n",
       "  </thead>\n",
       "  <tbody>\n",
       "    <tr>\n",
       "      <th>count</th>\n",
       "      <td>11568.000000</td>\n",
       "      <td>11568.000000</td>\n",
       "      <td>11568.000000</td>\n",
       "      <td>11568.000000</td>\n",
       "      <td>11568.000000</td>\n",
       "      <td>11568.0</td>\n",
       "      <td>11568.0</td>\n",
       "      <td>11568.0</td>\n",
       "    </tr>\n",
       "    <tr>\n",
       "      <th>mean</th>\n",
       "      <td>1120.527230</td>\n",
       "      <td>24.893326</td>\n",
       "      <td>3045.495282</td>\n",
       "      <td>17.390909</td>\n",
       "      <td>6.522994</td>\n",
       "      <td>8.0</td>\n",
       "      <td>50.0</td>\n",
       "      <td>0.0</td>\n",
       "    </tr>\n",
       "    <tr>\n",
       "      <th>std</th>\n",
       "      <td>241.165628</td>\n",
       "      <td>4.481100</td>\n",
       "      <td>1246.173806</td>\n",
       "      <td>6.326803</td>\n",
       "      <td>3.449770</td>\n",
       "      <td>0.0</td>\n",
       "      <td>0.0</td>\n",
       "      <td>0.0</td>\n",
       "    </tr>\n",
       "    <tr>\n",
       "      <th>min</th>\n",
       "      <td>700.000000</td>\n",
       "      <td>12.000000</td>\n",
       "      <td>0.855683</td>\n",
       "      <td>0.500000</td>\n",
       "      <td>1.000000</td>\n",
       "      <td>8.0</td>\n",
       "      <td>50.0</td>\n",
       "      <td>0.0</td>\n",
       "    </tr>\n",
       "    <tr>\n",
       "      <th>25%</th>\n",
       "      <td>915.000000</td>\n",
       "      <td>22.000000</td>\n",
       "      <td>2366.562689</td>\n",
       "      <td>12.958437</td>\n",
       "      <td>4.000000</td>\n",
       "      <td>8.0</td>\n",
       "      <td>50.0</td>\n",
       "      <td>0.0</td>\n",
       "    </tr>\n",
       "    <tr>\n",
       "      <th>50%</th>\n",
       "      <td>1123.000000</td>\n",
       "      <td>25.000000</td>\n",
       "      <td>3114.648465</td>\n",
       "      <td>17.326890</td>\n",
       "      <td>7.000000</td>\n",
       "      <td>8.0</td>\n",
       "      <td>50.0</td>\n",
       "      <td>0.0</td>\n",
       "    </tr>\n",
       "    <tr>\n",
       "      <th>75%</th>\n",
       "      <td>1328.000000</td>\n",
       "      <td>28.000000</td>\n",
       "      <td>3905.697894</td>\n",
       "      <td>21.594071</td>\n",
       "      <td>9.000000</td>\n",
       "      <td>8.0</td>\n",
       "      <td>50.0</td>\n",
       "      <td>0.0</td>\n",
       "    </tr>\n",
       "    <tr>\n",
       "      <th>max</th>\n",
       "      <td>1534.000000</td>\n",
       "      <td>43.000000</td>\n",
       "      <td>7211.007745</td>\n",
       "      <td>34.948498</td>\n",
       "      <td>12.000000</td>\n",
       "      <td>8.0</td>\n",
       "      <td>50.0</td>\n",
       "      <td>0.0</td>\n",
       "    </tr>\n",
       "  </tbody>\n",
       "</table>\n",
       "</div>"
      ],
      "text/plain": [
       "            user_id           age      distance      duration         month  \\\n",
       "count  11568.000000  11568.000000  11568.000000  11568.000000  11568.000000   \n",
       "mean    1120.527230     24.893326   3045.495282     17.390909      6.522994   \n",
       "std      241.165628      4.481100   1246.173806      6.326803      3.449770   \n",
       "min      700.000000     12.000000      0.855683      0.500000      1.000000   \n",
       "25%      915.000000     22.000000   2366.562689     12.958437      4.000000   \n",
       "50%     1123.000000     25.000000   3114.648465     17.326890      7.000000   \n",
       "75%     1328.000000     28.000000   3905.697894     21.594071      9.000000   \n",
       "max     1534.000000     43.000000   7211.007745     34.948498     12.000000   \n",
       "\n",
       "       minute_price  start_ride_price  subscription_fee  \n",
       "count       11568.0           11568.0           11568.0  \n",
       "mean            8.0              50.0               0.0  \n",
       "std             0.0               0.0               0.0  \n",
       "min             8.0              50.0               0.0  \n",
       "25%             8.0              50.0               0.0  \n",
       "50%             8.0              50.0               0.0  \n",
       "75%             8.0              50.0               0.0  \n",
       "max             8.0              50.0               0.0  "
      ]
     },
     "execution_count": 50,
     "metadata": {},
     "output_type": "execute_result"
    }
   ],
   "source": [
    "free_sub.describe()"
   ]
  },
  {
   "cell_type": "code",
   "execution_count": 51,
   "id": "67980066",
   "metadata": {
    "scrolled": true
   },
   "outputs": [
    {
     "data": {
      "image/png": "[encoded data removed]",
      "text/plain": [
       "<Figure size 432x288 with 1 Axes>"
      ]
     },
     "metadata": {
      "needs_background": "light"
     },
     "output_type": "display_data"
    }
   ],
   "source": [
    "#Визуализируем информацию о возрасте на бесплатном тарифе\n",
    "hist_function(free_sub['age'], 'Количество использований сервиса в зависимости от возраста', \n",
    "              'Возраст, годы', 'Количество использований сервиса')"
   ]
  },
  {
   "cell_type": "code",
   "execution_count": 52,
   "id": "30a78846",
   "metadata": {},
   "outputs": [
    {
     "data": {
      "image/png": "[encoded data removed]",
      "text/plain": [
       "<Figure size 432x288 with 1 Axes>"
      ]
     },
     "metadata": {
      "needs_background": "light"
     },
     "output_type": "display_data"
    }
   ],
   "source": [
    "#Визуализируем информацию о расстоянии на бесплатном тарифе\n",
    "hist_function(free_sub['distance'], 'Расстояние, бесплатный тариф', \n",
    "              'Расстояние, м', 'Количество поездок')"
   ]
  },
  {
   "cell_type": "code",
   "execution_count": 53,
   "id": "fa9fbc9b",
   "metadata": {},
   "outputs": [
    {
     "data": {
      "image/png": "[encoded data removed]",
      "text/plain": [
       "<Figure size 432x288 with 1 Axes>"
      ]
     },
     "metadata": {
      "needs_background": "light"
     },
     "output_type": "display_data"
    }
   ],
   "source": [
    "#Визуализируем информацию о времени на бесплатном тарифе\n",
    "hist_function(free_sub['duration'], 'Время, бесплатный тариф', 'Время поездки, минуты', 'Количество поездок')"
   ]
  },
  {
   "cell_type": "code",
   "execution_count": 54,
   "id": "e9ea90b1",
   "metadata": {
    "scrolled": true
   },
   "outputs": [
    {
     "data": {
      "text/html": [
       "<div>\n",
       "<style scoped>\n",
       "    .dataframe tbody tr th:only-of-type {\n",
       "        vertical-align: middle;\n",
       "    }\n",
       "\n",
       "    .dataframe tbody tr th {\n",
       "        vertical-align: top;\n",
       "    }\n",
       "\n",
       "    .dataframe thead th {\n",
       "        text-align: right;\n",
       "    }\n",
       "</style>\n",
       "<table border=\"1\" class=\"dataframe\">\n",
       "  <thead>\n",
       "    <tr style=\"text-align: right;\">\n",
       "      <th></th>\n",
       "      <th>user_id</th>\n",
       "      <th>name</th>\n",
       "      <th>age</th>\n",
       "      <th>city</th>\n",
       "      <th>subscription_type</th>\n",
       "      <th>distance</th>\n",
       "      <th>duration</th>\n",
       "      <th>date</th>\n",
       "      <th>month</th>\n",
       "      <th>minute_price</th>\n",
       "      <th>start_ride_price</th>\n",
       "      <th>subscription_fee</th>\n",
       "    </tr>\n",
       "  </thead>\n",
       "  <tbody>\n",
       "    <tr>\n",
       "      <th>0</th>\n",
       "      <td>1</td>\n",
       "      <td>Кира</td>\n",
       "      <td>22</td>\n",
       "      <td>Тюмень</td>\n",
       "      <td>ultra</td>\n",
       "      <td>4409.919140</td>\n",
       "      <td>25.599769</td>\n",
       "      <td>2021-01-01</td>\n",
       "      <td>1</td>\n",
       "      <td>6</td>\n",
       "      <td>0</td>\n",
       "      <td>199</td>\n",
       "    </tr>\n",
       "    <tr>\n",
       "      <th>1</th>\n",
       "      <td>1</td>\n",
       "      <td>Кира</td>\n",
       "      <td>22</td>\n",
       "      <td>Тюмень</td>\n",
       "      <td>ultra</td>\n",
       "      <td>2617.592153</td>\n",
       "      <td>15.816871</td>\n",
       "      <td>2021-01-18</td>\n",
       "      <td>1</td>\n",
       "      <td>6</td>\n",
       "      <td>0</td>\n",
       "      <td>199</td>\n",
       "    </tr>\n",
       "    <tr>\n",
       "      <th>2</th>\n",
       "      <td>1</td>\n",
       "      <td>Кира</td>\n",
       "      <td>22</td>\n",
       "      <td>Тюмень</td>\n",
       "      <td>ultra</td>\n",
       "      <td>754.159807</td>\n",
       "      <td>6.232113</td>\n",
       "      <td>2021-04-20</td>\n",
       "      <td>4</td>\n",
       "      <td>6</td>\n",
       "      <td>0</td>\n",
       "      <td>199</td>\n",
       "    </tr>\n",
       "    <tr>\n",
       "      <th>3</th>\n",
       "      <td>1</td>\n",
       "      <td>Кира</td>\n",
       "      <td>22</td>\n",
       "      <td>Тюмень</td>\n",
       "      <td>ultra</td>\n",
       "      <td>2694.783254</td>\n",
       "      <td>18.511000</td>\n",
       "      <td>2021-08-11</td>\n",
       "      <td>8</td>\n",
       "      <td>6</td>\n",
       "      <td>0</td>\n",
       "      <td>199</td>\n",
       "    </tr>\n",
       "    <tr>\n",
       "      <th>4</th>\n",
       "      <td>1</td>\n",
       "      <td>Кира</td>\n",
       "      <td>22</td>\n",
       "      <td>Тюмень</td>\n",
       "      <td>ultra</td>\n",
       "      <td>4028.687306</td>\n",
       "      <td>26.265803</td>\n",
       "      <td>2021-08-28</td>\n",
       "      <td>8</td>\n",
       "      <td>6</td>\n",
       "      <td>0</td>\n",
       "      <td>199</td>\n",
       "    </tr>\n",
       "  </tbody>\n",
       "</table>\n",
       "</div>"
      ],
      "text/plain": [
       "   user_id  name  age    city subscription_type     distance   duration  \\\n",
       "0        1  Кира   22  Тюмень             ultra  4409.919140  25.599769   \n",
       "1        1  Кира   22  Тюмень             ultra  2617.592153  15.816871   \n",
       "2        1  Кира   22  Тюмень             ultra   754.159807   6.232113   \n",
       "3        1  Кира   22  Тюмень             ultra  2694.783254  18.511000   \n",
       "4        1  Кира   22  Тюмень             ultra  4028.687306  26.265803   \n",
       "\n",
       "        date  month  minute_price  start_ride_price  subscription_fee  \n",
       "0 2021-01-01      1             6                 0               199  \n",
       "1 2021-01-18      1             6                 0               199  \n",
       "2 2021-04-20      4             6                 0               199  \n",
       "3 2021-08-11      8             6                 0               199  \n",
       "4 2021-08-28      8             6                 0               199  "
      ]
     },
     "execution_count": 54,
     "metadata": {},
     "output_type": "execute_result"
    }
   ],
   "source": [
    "#Создадим датафрейм с данными о пользователях с подпиской\n",
    "ultra_sub = full_data.query(\"`subscription_type` == 'ultra'\")\n",
    "ultra_sub.head()"
   ]
  },
  {
   "cell_type": "code",
   "execution_count": 55,
   "id": "b4fc8c86",
   "metadata": {},
   "outputs": [
    {
     "data": {
      "text/html": [
       "<div>\n",
       "<style scoped>\n",
       "    .dataframe tbody tr th:only-of-type {\n",
       "        vertical-align: middle;\n",
       "    }\n",
       "\n",
       "    .dataframe tbody tr th {\n",
       "        vertical-align: top;\n",
       "    }\n",
       "\n",
       "    .dataframe thead th {\n",
       "        text-align: right;\n",
       "    }\n",
       "</style>\n",
       "<table border=\"1\" class=\"dataframe\">\n",
       "  <thead>\n",
       "    <tr style=\"text-align: right;\">\n",
       "      <th></th>\n",
       "      <th>user_id</th>\n",
       "      <th>age</th>\n",
       "      <th>distance</th>\n",
       "      <th>duration</th>\n",
       "      <th>month</th>\n",
       "      <th>minute_price</th>\n",
       "      <th>start_ride_price</th>\n",
       "      <th>subscription_fee</th>\n",
       "    </tr>\n",
       "  </thead>\n",
       "  <tbody>\n",
       "    <tr>\n",
       "      <th>count</th>\n",
       "      <td>6500.000000</td>\n",
       "      <td>6500.000000</td>\n",
       "      <td>6500.000000</td>\n",
       "      <td>6500.000000</td>\n",
       "      <td>6500.000000</td>\n",
       "      <td>6500.0</td>\n",
       "      <td>6500.0</td>\n",
       "      <td>6500.0</td>\n",
       "    </tr>\n",
       "    <tr>\n",
       "      <th>mean</th>\n",
       "      <td>348.725385</td>\n",
       "      <td>24.892615</td>\n",
       "      <td>3115.445388</td>\n",
       "      <td>18.541985</td>\n",
       "      <td>6.422308</td>\n",
       "      <td>6.0</td>\n",
       "      <td>0.0</td>\n",
       "      <td>199.0</td>\n",
       "    </tr>\n",
       "    <tr>\n",
       "      <th>std</th>\n",
       "      <td>201.099339</td>\n",
       "      <td>4.757208</td>\n",
       "      <td>836.895330</td>\n",
       "      <td>5.572048</td>\n",
       "      <td>3.414616</td>\n",
       "      <td>0.0</td>\n",
       "      <td>0.0</td>\n",
       "      <td>0.0</td>\n",
       "    </tr>\n",
       "    <tr>\n",
       "      <th>min</th>\n",
       "      <td>1.000000</td>\n",
       "      <td>12.000000</td>\n",
       "      <td>244.210438</td>\n",
       "      <td>3.760353</td>\n",
       "      <td>1.000000</td>\n",
       "      <td>6.0</td>\n",
       "      <td>0.0</td>\n",
       "      <td>199.0</td>\n",
       "    </tr>\n",
       "    <tr>\n",
       "      <th>25%</th>\n",
       "      <td>175.000000</td>\n",
       "      <td>22.000000</td>\n",
       "      <td>2785.444017</td>\n",
       "      <td>14.524654</td>\n",
       "      <td>4.000000</td>\n",
       "      <td>6.0</td>\n",
       "      <td>0.0</td>\n",
       "      <td>199.0</td>\n",
       "    </tr>\n",
       "    <tr>\n",
       "      <th>50%</th>\n",
       "      <td>351.000000</td>\n",
       "      <td>25.000000</td>\n",
       "      <td>3148.637229</td>\n",
       "      <td>18.178153</td>\n",
       "      <td>6.000000</td>\n",
       "      <td>6.0</td>\n",
       "      <td>0.0</td>\n",
       "      <td>199.0</td>\n",
       "    </tr>\n",
       "    <tr>\n",
       "      <th>75%</th>\n",
       "      <td>525.000000</td>\n",
       "      <td>28.000000</td>\n",
       "      <td>3560.574425</td>\n",
       "      <td>21.884129</td>\n",
       "      <td>9.000000</td>\n",
       "      <td>6.0</td>\n",
       "      <td>0.0</td>\n",
       "      <td>199.0</td>\n",
       "    </tr>\n",
       "    <tr>\n",
       "      <th>max</th>\n",
       "      <td>699.000000</td>\n",
       "      <td>38.000000</td>\n",
       "      <td>5699.769662</td>\n",
       "      <td>40.823963</td>\n",
       "      <td>12.000000</td>\n",
       "      <td>6.0</td>\n",
       "      <td>0.0</td>\n",
       "      <td>199.0</td>\n",
       "    </tr>\n",
       "  </tbody>\n",
       "</table>\n",
       "</div>"
      ],
      "text/plain": [
       "           user_id          age     distance     duration        month  \\\n",
       "count  6500.000000  6500.000000  6500.000000  6500.000000  6500.000000   \n",
       "mean    348.725385    24.892615  3115.445388    18.541985     6.422308   \n",
       "std     201.099339     4.757208   836.895330     5.572048     3.414616   \n",
       "min       1.000000    12.000000   244.210438     3.760353     1.000000   \n",
       "25%     175.000000    22.000000  2785.444017    14.524654     4.000000   \n",
       "50%     351.000000    25.000000  3148.637229    18.178153     6.000000   \n",
       "75%     525.000000    28.000000  3560.574425    21.884129     9.000000   \n",
       "max     699.000000    38.000000  5699.769662    40.823963    12.000000   \n",
       "\n",
       "       minute_price  start_ride_price  subscription_fee  \n",
       "count        6500.0            6500.0            6500.0  \n",
       "mean            6.0               0.0             199.0  \n",
       "std             0.0               0.0               0.0  \n",
       "min             6.0               0.0             199.0  \n",
       "25%             6.0               0.0             199.0  \n",
       "50%             6.0               0.0             199.0  \n",
       "75%             6.0               0.0             199.0  \n",
       "max             6.0               0.0             199.0  "
      ]
     },
     "execution_count": 55,
     "metadata": {},
     "output_type": "execute_result"
    }
   ],
   "source": [
    "ultra_sub.describe()"
   ]
  },
  {
   "cell_type": "code",
   "execution_count": 56,
   "id": "09146ac9",
   "metadata": {},
   "outputs": [
    {
     "data": {
      "image/png": "[encoded data removed]",
      "text/plain": [
       "<Figure size 432x288 with 1 Axes>"
      ]
     },
     "metadata": {
      "needs_background": "light"
     },
     "output_type": "display_data"
    }
   ],
   "source": [
    "#Визуализируем информацию о возрасте на платном тарифе\n",
    "hist_function(ultra_sub['age'], 'Количество использований сервиса в зависимости от возраста', \n",
    "              'Возраст, годы', 'Количество использований сервиса')"
   ]
  },
  {
   "cell_type": "code",
   "execution_count": 57,
   "id": "6698ad1d",
   "metadata": {},
   "outputs": [
    {
     "data": {
      "image/png": "[encoded data removed]",
      "text/plain": [
       "<Figure size 432x288 with 1 Axes>"
      ]
     },
     "metadata": {
      "needs_background": "light"
     },
     "output_type": "display_data"
    }
   ],
   "source": [
    "#Визуализируем информацию о расстоянии на платном тарифе\n",
    "hist_function(ultra_sub['distance'], 'Расстояние, платный тариф', 'Расстояние, м', 'Количество поездок')"
   ]
  },
  {
   "cell_type": "code",
   "execution_count": 58,
   "id": "3506bd7a",
   "metadata": {},
   "outputs": [
    {
     "data": {
      "image/png": "[encoded data removed]",
      "text/plain": [
       "<Figure size 432x288 with 1 Axes>"
      ]
     },
     "metadata": {
      "needs_background": "light"
     },
     "output_type": "display_data"
    }
   ],
   "source": [
    "#Визуализируем информацию о времени на платном тарифе\n",
    "hist_function(ultra_sub['duration'], 'Время, платный тариф', 'Время поездки, минуты', 'Количество поездок')"
   ]
  },
  {
   "cell_type": "markdown",
   "id": "c2969472",
   "metadata": {},
   "source": [
    "**Для наглядности, объединим группы разных показателей:**"
   ]
  },
  {
   "cell_type": "code",
   "execution_count": 59,
   "id": "04367acc",
   "metadata": {},
   "outputs": [],
   "source": [
    "# Функция сравнения одинаковых столбцов \n",
    "# с количественными данными в разных датафреймах\n",
    "def quantity_go_comparison(data1, data2, column, bins_num, xlabel, ylabel, title, dataname1, dataname2):\n",
    "    print('Сравнение столбцов:', column)\n",
    "    \n",
    "    data1.rename(columns = {column:dataname1})[dataname1].plot.hist(\n",
    "        bins=bins_num, \n",
    "        #xlim=(data_min, data_max),\n",
    "        alpha=.5, \n",
    "        legend=True,\n",
    "        grid=True\n",
    "    )\n",
    "    data2.rename(columns = {column:dataname2})[dataname2].plot.hist(\n",
    "        bins=bins_num, \n",
    "        #xlim=(data_min, data_max),\n",
    "        alpha=.5, \n",
    "        legend=True,\n",
    "        grid=True\n",
    "    )\n",
    "    \n",
    "    plt.gca().set(xlabel=f'${xlabel}$', ylabel=f'${ylabel}$')\n",
    "    plt.title(f'{title}')\n",
    "    plt.show()\n",
    "    \n",
    "    print(f\"Описание датафрейма 'go_{dataname1}':\")\n",
    "    print(data1[column].describe().round(0))\n",
    "    \n",
    "    print(f\"\\nОписание датафрейма 'go_{dataname2}':\")\n",
    "    print(data2[column].describe().round(0))"
   ]
  },
  {
   "cell_type": "code",
   "execution_count": 60,
   "id": "72591c10",
   "metadata": {},
   "outputs": [],
   "source": [
    "# Функции сравнения одинаковых столбцов \n",
    "# с качественными данными в разных датафреймах\n",
    "def quality_go_comparison(data1, data2, column, xlabel, ylabel, title, dataname1, dataname2, sort=False):\n",
    "    print('Сравнение столбцов:', column)\n",
    "    \n",
    "    go_count = pd.DataFrame([\n",
    "        data1.groupby(column)[column].agg('count'), \n",
    "        data2.groupby(column)[column].agg('count')\n",
    "    ])\n",
    "    go_count.index = [dataname1, dataname2]\n",
    "    go_count = go_count.transpose()\n",
    "    if sort == True:\n",
    "        if go_count[dataname1].sum() >= go_count[dataname2].sum():\n",
    "            go_count = go_count.sort_values(by=dataname1)\n",
    "        else:\n",
    "            go_count = go_count.sort_values(by=dataname2)\n",
    "    \n",
    "    go_count.plot.barh(grid=True)\n",
    "    plt.gca().set(xlabel=f'${xlabel}$', ylabel=f'${ylabel}$')\n",
    "    plt.title(f'{title}')\n",
    "    plt.show()\n",
    "    \n",
    "    go_percent_sum = go_count[dataname1].sum() + go_count[dataname2].sum()\n",
    "    go_percent = go_count / go_percent_sum\n",
    "    \n",
    "    print('Значения датафрейма:')\n",
    "    print(go_count)\n",
    "    print('\\nРаспределение долей всего датафрейма:')\n",
    "    print(go_percent)\n",
    "    print('\\nОписание датафрейма:')\n",
    "    print(go_count.describe())"
   ]
  },
  {
   "cell_type": "code",
   "execution_count": 61,
   "id": "3e663468",
   "metadata": {},
   "outputs": [
    {
     "name": "stdout",
     "output_type": "stream",
     "text": [
      "Сравнение столбцов: age\n"
     ]
    },
    {
     "data": {
      "image/png": "[encoded data removed]",
      "text/plain": [
       "<Figure size 432x288 with 1 Axes>"
      ]
     },
     "metadata": {
      "needs_background": "light"
     },
     "output_type": "display_data"
    },
    {
     "name": "stdout",
     "output_type": "stream",
     "text": [
      "Описание датафрейма 'go_ultra':\n",
      "count    6500.0\n",
      "mean       25.0\n",
      "std         5.0\n",
      "min        12.0\n",
      "25%        22.0\n",
      "50%        25.0\n",
      "75%        28.0\n",
      "max        38.0\n",
      "Name: age, dtype: float64\n",
      "\n",
      "Описание датафрейма 'go_free':\n",
      "count    11568.0\n",
      "mean        25.0\n",
      "std          4.0\n",
      "min         12.0\n",
      "25%         22.0\n",
      "50%         25.0\n",
      "75%         28.0\n",
      "max         43.0\n",
      "Name: age, dtype: float64\n"
     ]
    }
   ],
   "source": [
    "# Срвнение столбцов 'age' в 'ultra_sub' и 'free_sub'\n",
    "quantity_go_comparison(ultra_sub, free_sub, 'age', int(free_sub['age'].max()), 'Возраст', 'Количество_ использований_ сервиса', \n",
    "    'Количество использований сервиса в зависимости от возраста', 'ultra', 'free'\n",
    ")"
   ]
  },
  {
   "cell_type": "markdown",
   "id": "bae61e0d",
   "metadata": {},
   "source": [
    "Возрастные показатели пользователей с разным типом подписки в целом схожи, за исключением максимального возраста, который на 5 лет больше у пользователей с подпиской ‘free’ и равен 43 годам."
   ]
  },
  {
   "cell_type": "code",
   "execution_count": 62,
   "id": "ee3356b1",
   "metadata": {},
   "outputs": [
    {
     "name": "stdout",
     "output_type": "stream",
     "text": [
      "Сравнение столбцов: city\n"
     ]
    },
    {
     "data": {
      "image/png": "[encoded data removed]",
      "text/plain": [
       "<Figure size 432x288 with 1 Axes>"
      ]
     },
     "metadata": {
      "needs_background": "light"
     },
     "output_type": "display_data"
    },
    {
     "name": "stdout",
     "output_type": "stream",
     "text": [
      "Значения датафрейма:\n",
      "                ultra  free\n",
      "city                       \n",
      "Москва            700  1175\n",
      "Омск              827  1250\n",
      "Тюмень            767  1354\n",
      "Сочи              813  1446\n",
      "Краснодар         780  1521\n",
      "Ростов-на-Дону    885  1565\n",
      "Екатеринбург      876  1585\n",
      "Пятигорск         852  1672\n",
      "\n",
      "Распределение долей всего датафрейма:\n",
      "                   ultra      free\n",
      "city                              \n",
      "Москва          0.038743  0.065032\n",
      "Омск            0.045772  0.069183\n",
      "Тюмень          0.042451  0.074939\n",
      "Сочи            0.044997  0.080031\n",
      "Краснодар       0.043170  0.084182\n",
      "Ростов-на-Дону  0.048982  0.086617\n",
      "Екатеринбург    0.048484  0.087724\n",
      "Пятигорск       0.047155  0.092539\n",
      "\n",
      "Описание датафрейма:\n",
      "            ultra         free\n",
      "count    8.000000     8.000000\n",
      "mean   812.500000  1446.000000\n",
      "std     61.923916   173.412802\n",
      "min    700.000000  1175.000000\n",
      "25%    776.750000  1328.000000\n",
      "50%    820.000000  1483.500000\n",
      "75%    858.000000  1570.000000\n",
      "max    885.000000  1672.000000\n"
     ]
    }
   ],
   "source": [
    "# Срвнение столбцов 'city' в 'ultra_sub' и 'free_sub'\n",
    "quality_go_comparison(ultra_sub, free_sub, 'city', 'Город', 'Количество_ использований_ сервиса', \n",
    "    'Количество использований сервиса в зависимости от города', 'ultra', 'free', True\n",
    ")"
   ]
  },
  {
   "cell_type": "markdown",
   "id": "b35c3a66",
   "metadata": {},
   "source": [
    "Во всех городах доминирует подписка ‘free’. Пятигорск является лидером по использованию этиго типа подписки (1672 поездок, это 9.25% от общего количества поездок). Ростов-на-Дону является лидером по использованию подписки ‘ultra’ (885 поездок, это 4.9% от общего количества поездок). Минимальное количество поездок совершено в Москве с использованием подписки ‘ultra’ (700 поездок, это 3.87% от общего количества поездок)."
   ]
  },
  {
   "cell_type": "code",
   "execution_count": 63,
   "id": "f01f393f",
   "metadata": {},
   "outputs": [
    {
     "name": "stdout",
     "output_type": "stream",
     "text": [
      "Сравнение столбцов: distance\n"
     ]
    },
    {
     "data": {
      "image/png": "[encoded data removed]",
      "text/plain": [
       "<Figure size 432x288 with 1 Axes>"
      ]
     },
     "metadata": {
      "needs_background": "light"
     },
     "output_type": "display_data"
    },
    {
     "name": "stdout",
     "output_type": "stream",
     "text": [
      "Описание датафрейма 'go_ultra':\n",
      "count    6500.0\n",
      "mean     3115.0\n",
      "std       837.0\n",
      "min       244.0\n",
      "25%      2785.0\n",
      "50%      3149.0\n",
      "75%      3561.0\n",
      "max      5700.0\n",
      "Name: distance, dtype: float64\n",
      "\n",
      "Описание датафрейма 'go_free':\n",
      "count    11568.0\n",
      "mean      3045.0\n",
      "std       1246.0\n",
      "min          1.0\n",
      "25%       2367.0\n",
      "50%       3115.0\n",
      "75%       3906.0\n",
      "max       7211.0\n",
      "Name: distance, dtype: float64\n"
     ]
    }
   ],
   "source": [
    "# Срвнение столбцов 'distance' в 'ultra_sub' и 'free_sub'\n",
    "quantity_go_comparison(ultra_sub, free_sub, 'distance', int(free_sub['distance'].max()/100), 'Расстояние', \n",
    "    'Количество_ использований сервиса', 'Количество использований сервиса в зависимости от расстояния поездки', 'ultra', 'free'\n",
    ")"
   ]
  },
  {
   "cell_type": "markdown",
   "id": "cea7ad70",
   "metadata": {},
   "source": [
    "Дистанция поездок при использовании подписки ‘free’ более разнообразна. Так максимальная дистанция больше на 1511 метров, а минимальная на 243 метра меньше, чем при использовании подписки ‘ultra’. Об этом же свидетельствует и стандартное отклонение, которое при использовании подписки ‘free’ больше на 409 метров, чем при использовании подписки ‘ultra’. Средняя дистанция при использовании подписки ‘free’ короче. Это следует из того, что среднее значениее на 70 метров, а медиана на 34 метра, меньше, чем при использовании ‘ultra’.\n",
    "\n",
    "При использовании обоих подписок наблюдается два пика. Первый небольшой пик на меньших дистанциях и второй основной пик на больших дистанциях. Так меньший пик ‘ultra’ находится в районе 1000 метров, а основной в районе 3100 метров с небольшой коррекцией около 4000 метров. Меншьй пик ‘free’ в районе 700 метров, а основной 2500-3500 метров. В целом пики ‘ultra’ более выраженные и имеют меньший разрбос."
   ]
  },
  {
   "cell_type": "code",
   "execution_count": 64,
   "id": "f1f114cd",
   "metadata": {},
   "outputs": [
    {
     "name": "stdout",
     "output_type": "stream",
     "text": [
      "Сравнение столбцов: duration\n"
     ]
    },
    {
     "data": {
      "image/png": "[encoded data removed]",
      "text/plain": [
       "<Figure size 432x288 with 1 Axes>"
      ]
     },
     "metadata": {
      "needs_background": "light"
     },
     "output_type": "display_data"
    },
    {
     "name": "stdout",
     "output_type": "stream",
     "text": [
      "Описание датафрейма 'go_ultra':\n",
      "count    6500.0\n",
      "mean       19.0\n",
      "std         6.0\n",
      "min         4.0\n",
      "25%        15.0\n",
      "50%        18.0\n",
      "75%        22.0\n",
      "max        41.0\n",
      "Name: duration, dtype: float64\n",
      "\n",
      "Описание датафрейма 'go_free':\n",
      "count    11568.0\n",
      "mean        17.0\n",
      "std          6.0\n",
      "min          0.0\n",
      "25%         13.0\n",
      "50%         17.0\n",
      "75%         22.0\n",
      "max         35.0\n",
      "Name: duration, dtype: float64\n"
     ]
    }
   ],
   "source": [
    "# Срвнение столбцов 'duration' в 'ultra_sub' и 'free_sub'\n",
    "quantity_go_comparison(ultra_sub, free_sub, 'duration', int(free_sub['duration'].max()), 'Продоложительность', \n",
    "    'Количество_ использований_ сервиса', 'Количество использований сервиса в зависимости от продолжительности поездки', \n",
    "    'ultra', 'free'\n",
    ")"
   ]
  },
  {
   "cell_type": "markdown",
   "id": "e42deb0e",
   "metadata": {},
   "source": [
    "Продолжительность поездок при использовании подписки ‘free’ немного меньше по всем показателям, чем при использовании ‘ultra’. Например, минимальное время меньше на 3.26 минут, а максимальное меньше на 5.88 минут. В обоих случаях количество поездок относительно нормально распределено в зависимости от их продолжительности. Пик количества поездок приходится на 17-18 минут. При использовании подписки ‘free’ наблюдается пик в около 100 поездок с продолжительностью около 1 минуты."
   ]
  },
  {
   "cell_type": "code",
   "execution_count": 65,
   "id": "8029f3c9",
   "metadata": {},
   "outputs": [
    {
     "name": "stdout",
     "output_type": "stream",
     "text": [
      "Сравнение столбцов: month\n"
     ]
    },
    {
     "data": {
      "image/png": "[encoded data removed]",
      "text/plain": [
       "<Figure size 432x288 with 1 Axes>"
      ]
     },
     "metadata": {
      "needs_background": "light"
     },
     "output_type": "display_data"
    },
    {
     "name": "stdout",
     "output_type": "stream",
     "text": [
      "Значения датафрейма:\n",
      "       ultra  free\n",
      "month             \n",
      "1        584  1001\n",
      "2        468   868\n",
      "3        561   983\n",
      "4        551   955\n",
      "5        597   963\n",
      "6        565   988\n",
      "7        574   955\n",
      "8        540   978\n",
      "9        515  1002\n",
      "10       529   946\n",
      "11       492   926\n",
      "12       524  1003\n",
      "\n",
      "Распределение долей всего датафрейма:\n",
      "          ultra      free\n",
      "month                    \n",
      "1      0.032322  0.055402\n",
      "2      0.025902  0.048041\n",
      "3      0.031049  0.054406\n",
      "4      0.030496  0.052856\n",
      "5      0.033042  0.053299\n",
      "6      0.031271  0.054682\n",
      "7      0.031769  0.052856\n",
      "8      0.029887  0.054129\n",
      "9      0.028503  0.055457\n",
      "10     0.029278  0.052358\n",
      "11     0.027230  0.051251\n",
      "12     0.029002  0.055513\n",
      "\n",
      "Описание датафрейма:\n",
      "            ultra         free\n",
      "count   12.000000    12.000000\n",
      "mean   541.666667   964.000000\n",
      "std     38.120224    38.863397\n",
      "min    468.000000   868.000000\n",
      "25%    521.750000   952.750000\n",
      "50%    545.500000   970.500000\n",
      "75%    567.250000   991.250000\n",
      "max    597.000000  1003.000000\n"
     ]
    }
   ],
   "source": [
    "# Срвнение столбцов 'month' в 'ultra_sub' и 'free_sub'\n",
    "quality_go_comparison(ultra_sub, free_sub, 'month', 'Месяц', 'Количество_ использований_ сервиса', \n",
    "    'Количество использований сервиса в зависимости от месяца', 'ultra', 'free',\n",
    ")"
   ]
  },
  {
   "cell_type": "markdown",
   "id": "2300209f",
   "metadata": {},
   "source": [
    "Сезонность использования разного типа подписки схожа за исключением медианы, которая у подписчиков ‘ultra’ приходится на июнь, а у подписчиков ‘free’ на июль. При использовании обоих типов подписок наблюдаются спады пользовательской активности в феврале и ноябре. Максимум поездок с подпиской ‘ultra’ в мае (597 поездок, это 3.3% от всех поездок). Максимумы поездок с подпиской ‘free’ в январе (1001 поездка, это 5.54% от всех поездок), сентябре (1002 поездки) и декабре (1003 поездки). При использовании подписки ‘free’ нет выраженной сезонности, кроме спдов в феврале и ноябре. При использовании подписки ‘ultra’ наблюдается более выраженная сезонность. Количество поездок растет с февраля по май, а затем медленно снижается до ноября."
   ]
  },
  {
   "cell_type": "markdown",
   "id": "da734a4f",
   "metadata": {},
   "source": [
    "**Вывод**\n",
    "\n",
    "Объединили данные о пользователях, поездках и тарифах в один датафрейм - `full_data`.\n",
    "\n",
    "Выделили два датафрейма на основе `full_data`:\n",
    "- `free_sub` - Информация о пользователях с бесплатным тарифом\n",
    "- `ultra_sub` - Информация о пользователях с платным тарифом\n",
    "\n",
    "Визуализировали информацию о расстоянии и времени для каждого из тарифов.\n",
    "\n",
    "Для бесплатного тарифа время поездки составляет от 10 до 25 минут, и проезжают от 2 до 4,5 км, есть пользователи, которые проехали даже 6, 6.5 км.\n",
    "\n",
    "Платный тариф. В основном время укладывается в промежуток от 13 до 23 минут. Пик расстояния приходится на 3км.\n",
    "\n",
    "Таким образом, можно сделать вывод, что пользователи с бесплатным тарифом в целом совершают более долгие поездки, а также проезжают большее расстояние, чем пользователи на платном тарифе. \n",
    "\n",
    "Общее количество поездок с исползьзованием подписки ‘free’ на 5068 больше, чем с использованием подписки ‘ultra’, и составляет 11568.\n",
    "\n",
    "Возрастные показатели пользователей с разным типом подписки в целом схожи, за исключением максимального возраста, который на 5 лет больше у пользователей с подпиской ‘free’.\n",
    "\n",
    "Дистанция поездок при использовании подписки ‘free’ более разнообразна. Так максимальная дистанция больше на 1512 метров, а минимальная на 243 метра меньше, чем при использовании подписки ‘ultra’. Об этом же свидетельствует и стандартное отклонение, которое при использовании подписки ‘free’ больше на 409 метров, чем при использовании подписки ‘ultra’. Средняя дистанция при использовании подписки ‘free’ короче. Это следует из того, что среднее значениее на 70 метров, а медиана на 34 метра, меньше, чем при использовании ‘ultra’.\n",
    "\n",
    "Продолжительность поездок при использовании подписки ‘free’ немного меньше по всем показателям, чем при использовании ‘ultra’. Например, минимальное время меньше на 3.2 минут, а максимальное меньше на 5.8 минут.\n",
    "\n",
    "Сезонность использования разного типа подписки схожа за исключением медианы, которая у подписчиков ‘ultra’ приходится на июнь, а у подписчиков ‘free’ на июль. При использовании обоих типов подписок наблюдаются спады пользовательской активности в феврале и ноябре. Максимум поездок с подпиской ‘ultra’ в мае (597 поездок, это 3.3% от всех поездок). Максимумы поездок с подпиской ‘free’ в январе (1001 поездка, это 5.54% от всех поездок), сентябре (1002 поездки) и декабре (1003 поездки). При использовании подписки ‘free’ нет выраженной сезонности, кроме спдов в феврале и ноябре. При использовании подписки ‘ultra’ наблюдается более выраженная сезонность. Количество поездок растет с февраля по май, а затем медленно снижается до ноября.\n",
    "\n",
    "Во всех городах доминирует подписка ‘free’. Пятигорск является лидером по использованию этиго типа подписки (1672 поездок). Ростов-на-Дону является лидером по использованию подписки ‘ultra’ (885 поездок)."
   ]
  },
  {
   "cell_type": "markdown",
   "id": "81e8faa2",
   "metadata": {},
   "source": [
    "# Шаг 5. Подсчёт выручки"
   ]
  },
  {
   "cell_type": "markdown",
   "id": "630f362a",
   "metadata": {},
   "source": [
    "**Создание датафрейма, агрегированного по пользователям, на основе ‘full_data’**\n",
    "\n",
    "Требуется найти для каждого пользователя за каждый месяц:\n",
    "\n",
    "- Суммарное расстояние;\n",
    "- Количество поездок;\n",
    "- Суммарное время."
   ]
  },
  {
   "cell_type": "code",
   "execution_count": 66,
   "id": "e7b725c1",
   "metadata": {},
   "outputs": [
    {
     "data": {
      "text/html": [
       "<div>\n",
       "<style scoped>\n",
       "    .dataframe tbody tr th:only-of-type {\n",
       "        vertical-align: middle;\n",
       "    }\n",
       "\n",
       "    .dataframe tbody tr th {\n",
       "        vertical-align: top;\n",
       "    }\n",
       "\n",
       "    .dataframe thead th {\n",
       "        text-align: right;\n",
       "    }\n",
       "</style>\n",
       "<table border=\"1\" class=\"dataframe\">\n",
       "  <thead>\n",
       "    <tr style=\"text-align: right;\">\n",
       "      <th></th>\n",
       "      <th></th>\n",
       "      <th>count</th>\n",
       "      <th>distance</th>\n",
       "      <th>duration</th>\n",
       "      <th>minute_price</th>\n",
       "      <th>start_ride_price</th>\n",
       "      <th>subscription_fee</th>\n",
       "    </tr>\n",
       "    <tr>\n",
       "      <th>user_id</th>\n",
       "      <th>month</th>\n",
       "      <th></th>\n",
       "      <th></th>\n",
       "      <th></th>\n",
       "      <th></th>\n",
       "      <th></th>\n",
       "      <th></th>\n",
       "    </tr>\n",
       "  </thead>\n",
       "  <tbody>\n",
       "    <tr>\n",
       "      <th rowspan=\"5\" valign=\"top\">1</th>\n",
       "      <th>1</th>\n",
       "      <td>2</td>\n",
       "      <td>7027.511294</td>\n",
       "      <td>42.0</td>\n",
       "      <td>6.0</td>\n",
       "      <td>0.0</td>\n",
       "      <td>199.0</td>\n",
       "    </tr>\n",
       "    <tr>\n",
       "      <th>4</th>\n",
       "      <td>1</td>\n",
       "      <td>754.159807</td>\n",
       "      <td>7.0</td>\n",
       "      <td>6.0</td>\n",
       "      <td>0.0</td>\n",
       "      <td>199.0</td>\n",
       "    </tr>\n",
       "    <tr>\n",
       "      <th>8</th>\n",
       "      <td>2</td>\n",
       "      <td>6723.470560</td>\n",
       "      <td>46.0</td>\n",
       "      <td>6.0</td>\n",
       "      <td>0.0</td>\n",
       "      <td>199.0</td>\n",
       "    </tr>\n",
       "    <tr>\n",
       "      <th>10</th>\n",
       "      <td>2</td>\n",
       "      <td>5809.911100</td>\n",
       "      <td>32.0</td>\n",
       "      <td>6.0</td>\n",
       "      <td>0.0</td>\n",
       "      <td>199.0</td>\n",
       "    </tr>\n",
       "    <tr>\n",
       "      <th>11</th>\n",
       "      <td>3</td>\n",
       "      <td>7003.499363</td>\n",
       "      <td>56.0</td>\n",
       "      <td>6.0</td>\n",
       "      <td>0.0</td>\n",
       "      <td>199.0</td>\n",
       "    </tr>\n",
       "    <tr>\n",
       "      <th>...</th>\n",
       "      <th>...</th>\n",
       "      <td>...</td>\n",
       "      <td>...</td>\n",
       "      <td>...</td>\n",
       "      <td>...</td>\n",
       "      <td>...</td>\n",
       "      <td>...</td>\n",
       "    </tr>\n",
       "    <tr>\n",
       "      <th rowspan=\"5\" valign=\"top\">1534</th>\n",
       "      <th>6</th>\n",
       "      <td>2</td>\n",
       "      <td>3409.468534</td>\n",
       "      <td>26.0</td>\n",
       "      <td>8.0</td>\n",
       "      <td>50.0</td>\n",
       "      <td>0.0</td>\n",
       "    </tr>\n",
       "    <tr>\n",
       "      <th>8</th>\n",
       "      <td>2</td>\n",
       "      <td>7622.453034</td>\n",
       "      <td>48.0</td>\n",
       "      <td>8.0</td>\n",
       "      <td>50.0</td>\n",
       "      <td>0.0</td>\n",
       "    </tr>\n",
       "    <tr>\n",
       "      <th>9</th>\n",
       "      <td>1</td>\n",
       "      <td>4928.173852</td>\n",
       "      <td>23.0</td>\n",
       "      <td>8.0</td>\n",
       "      <td>50.0</td>\n",
       "      <td>0.0</td>\n",
       "    </tr>\n",
       "    <tr>\n",
       "      <th>11</th>\n",
       "      <td>4</td>\n",
       "      <td>13350.015305</td>\n",
       "      <td>78.0</td>\n",
       "      <td>8.0</td>\n",
       "      <td>50.0</td>\n",
       "      <td>0.0</td>\n",
       "    </tr>\n",
       "    <tr>\n",
       "      <th>12</th>\n",
       "      <td>1</td>\n",
       "      <td>2371.711192</td>\n",
       "      <td>16.0</td>\n",
       "      <td>8.0</td>\n",
       "      <td>50.0</td>\n",
       "      <td>0.0</td>\n",
       "    </tr>\n",
       "  </tbody>\n",
       "</table>\n",
       "<p>11331 rows × 6 columns</p>\n",
       "</div>"
      ],
      "text/plain": [
       "               count      distance  duration  minute_price  start_ride_price  \\\n",
       "user_id month                                                                  \n",
       "1       1          2   7027.511294      42.0           6.0               0.0   \n",
       "        4          1    754.159807       7.0           6.0               0.0   \n",
       "        8          2   6723.470560      46.0           6.0               0.0   \n",
       "        10         2   5809.911100      32.0           6.0               0.0   \n",
       "        11         3   7003.499363      56.0           6.0               0.0   \n",
       "...              ...           ...       ...           ...               ...   \n",
       "1534    6          2   3409.468534      26.0           8.0              50.0   \n",
       "        8          2   7622.453034      48.0           8.0              50.0   \n",
       "        9          1   4928.173852      23.0           8.0              50.0   \n",
       "        11         4  13350.015305      78.0           8.0              50.0   \n",
       "        12         1   2371.711192      16.0           8.0              50.0   \n",
       "\n",
       "               subscription_fee  \n",
       "user_id month                    \n",
       "1       1                 199.0  \n",
       "        4                 199.0  \n",
       "        8                 199.0  \n",
       "        10                199.0  \n",
       "        11                199.0  \n",
       "...                         ...  \n",
       "1534    6                   0.0  \n",
       "        8                   0.0  \n",
       "        9                   0.0  \n",
       "        11                  0.0  \n",
       "        12                  0.0  \n",
       "\n",
       "[11331 rows x 6 columns]"
      ]
     },
     "execution_count": 66,
     "metadata": {},
     "output_type": "execute_result"
    }
   ],
   "source": [
    "# Округление продолжительности поездок в duration в общей таблице 'total_go'\n",
    "full_data['duration'] = np.ceil(full_data['duration'])\n",
    "\n",
    "# Создание сводной таблицы\n",
    "users_months_go = full_data.pivot_table(\n",
    "    index=('user_id', 'month'), \n",
    "    values=('distance', 'duration', 'minute_price', 'start_ride_price', 'subscription_fee'), \n",
    "    aggfunc=('count', 'sum'))\n",
    "\n",
    "# Переименование \"двухэтажных\" названий столбцов\n",
    "users_months_go.columns = [\n",
    "    'count', 'distance', \n",
    "    'count2', 'duration', \n",
    "    'count3', 'minute_price',\n",
    "    'count4', 'start_ride_price', \n",
    "    'count5', 'subscription_fee'\n",
    "]\n",
    "\n",
    "# Удаление дублирующих столбцов с подсчитанным количеством строк \n",
    "users_months_go = users_months_go.drop(['count2', 'count3', 'count4', 'count5'], axis=1)\n",
    "\n",
    "# Приведение столбцов с ценами к целевому состоянию\n",
    "users_months_go['start_ride_price'] = users_months_go['start_ride_price'] / users_months_go['count']\n",
    "users_months_go['minute_price'] = users_months_go['minute_price'] / users_months_go['count']\n",
    "\n",
    "#users_months_go.loc[users_months_go['minute_price'] > 0] = 8\n",
    "users_months_go['subscription_fee'] = users_months_go['subscription_fee'] / users_months_go['count']\n",
    "\n",
    "users_months_go"
   ]
  },
  {
   "cell_type": "markdown",
   "id": "a8eceda1",
   "metadata": {},
   "source": [
    "Добавление столбца в агрегированный датафрейм с помесечной выручкой по каждому пользователю\n",
    "\n",
    "Найдём суммарное расстояние, кличество поездок и суммарное время для каждого пользователя за каждый месяц."
   ]
  },
  {
   "cell_type": "code",
   "execution_count": 67,
   "id": "25fccd17",
   "metadata": {},
   "outputs": [
    {
     "data": {
      "text/html": [
       "<div>\n",
       "<style scoped>\n",
       "    .dataframe tbody tr th:only-of-type {\n",
       "        vertical-align: middle;\n",
       "    }\n",
       "\n",
       "    .dataframe tbody tr th {\n",
       "        vertical-align: top;\n",
       "    }\n",
       "\n",
       "    .dataframe thead th {\n",
       "        text-align: right;\n",
       "    }\n",
       "</style>\n",
       "<table border=\"1\" class=\"dataframe\">\n",
       "  <thead>\n",
       "    <tr style=\"text-align: right;\">\n",
       "      <th></th>\n",
       "      <th></th>\n",
       "      <th>count</th>\n",
       "      <th>distance</th>\n",
       "      <th>duration</th>\n",
       "      <th>subscription_fee</th>\n",
       "      <th>revenue</th>\n",
       "    </tr>\n",
       "    <tr>\n",
       "      <th>user_id</th>\n",
       "      <th>month</th>\n",
       "      <th></th>\n",
       "      <th></th>\n",
       "      <th></th>\n",
       "      <th></th>\n",
       "      <th></th>\n",
       "    </tr>\n",
       "  </thead>\n",
       "  <tbody>\n",
       "    <tr>\n",
       "      <th rowspan=\"6\" valign=\"top\">1</th>\n",
       "      <th>1</th>\n",
       "      <td>2</td>\n",
       "      <td>7027.511294</td>\n",
       "      <td>42.0</td>\n",
       "      <td>199.0</td>\n",
       "      <td>451</td>\n",
       "    </tr>\n",
       "    <tr>\n",
       "      <th>4</th>\n",
       "      <td>1</td>\n",
       "      <td>754.159807</td>\n",
       "      <td>7.0</td>\n",
       "      <td>199.0</td>\n",
       "      <td>241</td>\n",
       "    </tr>\n",
       "    <tr>\n",
       "      <th>8</th>\n",
       "      <td>2</td>\n",
       "      <td>6723.470560</td>\n",
       "      <td>46.0</td>\n",
       "      <td>199.0</td>\n",
       "      <td>475</td>\n",
       "    </tr>\n",
       "    <tr>\n",
       "      <th>10</th>\n",
       "      <td>2</td>\n",
       "      <td>5809.911100</td>\n",
       "      <td>32.0</td>\n",
       "      <td>199.0</td>\n",
       "      <td>391</td>\n",
       "    </tr>\n",
       "    <tr>\n",
       "      <th>11</th>\n",
       "      <td>3</td>\n",
       "      <td>7003.499363</td>\n",
       "      <td>56.0</td>\n",
       "      <td>199.0</td>\n",
       "      <td>535</td>\n",
       "    </tr>\n",
       "    <tr>\n",
       "      <th>12</th>\n",
       "      <td>2</td>\n",
       "      <td>6751.629942</td>\n",
       "      <td>28.0</td>\n",
       "      <td>199.0</td>\n",
       "      <td>367</td>\n",
       "    </tr>\n",
       "    <tr>\n",
       "      <th rowspan=\"4\" valign=\"top\">2</th>\n",
       "      <th>3</th>\n",
       "      <td>3</td>\n",
       "      <td>10187.723006</td>\n",
       "      <td>63.0</td>\n",
       "      <td>199.0</td>\n",
       "      <td>577</td>\n",
       "    </tr>\n",
       "    <tr>\n",
       "      <th>4</th>\n",
       "      <td>2</td>\n",
       "      <td>6164.381824</td>\n",
       "      <td>40.0</td>\n",
       "      <td>199.0</td>\n",
       "      <td>439</td>\n",
       "    </tr>\n",
       "    <tr>\n",
       "      <th>6</th>\n",
       "      <td>1</td>\n",
       "      <td>3255.338202</td>\n",
       "      <td>14.0</td>\n",
       "      <td>199.0</td>\n",
       "      <td>283</td>\n",
       "    </tr>\n",
       "    <tr>\n",
       "      <th>7</th>\n",
       "      <td>2</td>\n",
       "      <td>6780.722964</td>\n",
       "      <td>48.0</td>\n",
       "      <td>199.0</td>\n",
       "      <td>487</td>\n",
       "    </tr>\n",
       "  </tbody>\n",
       "</table>\n",
       "</div>"
      ],
      "text/plain": [
       "               count      distance  duration  subscription_fee  revenue\n",
       "user_id month                                                          \n",
       "1       1          2   7027.511294      42.0             199.0      451\n",
       "        4          1    754.159807       7.0             199.0      241\n",
       "        8          2   6723.470560      46.0             199.0      475\n",
       "        10         2   5809.911100      32.0             199.0      391\n",
       "        11         3   7003.499363      56.0             199.0      535\n",
       "        12         2   6751.629942      28.0             199.0      367\n",
       "2       3          3  10187.723006      63.0             199.0      577\n",
       "        4          2   6164.381824      40.0             199.0      439\n",
       "        6          1   3255.338202      14.0             199.0      283\n",
       "        7          2   6780.722964      48.0             199.0      487"
      ]
     },
     "execution_count": 67,
     "metadata": {},
     "output_type": "execute_result"
    }
   ],
   "source": [
    "# Расчет и округление выручки\n",
    "users_months_go['revenue'] = (\n",
    "    (users_months_go['start_ride_price'] * users_months_go['count']) \n",
    "    + (users_months_go['minute_price'] * users_months_go['duration']) \n",
    "    + users_months_go['subscription_fee']\n",
    ")\n",
    "users_months_go['revenue'] = users_months_go['revenue'].astype('uint16')\n",
    "\n",
    "# Удаление столбцов со вспомогательными данными\n",
    "users_months_go = users_months_go.drop(['start_ride_price', 'minute_price'], axis=1)\n",
    "\n",
    "users_months_go.head(10)"
   ]
  },
  {
   "cell_type": "markdown",
   "id": "0dfd0f49",
   "metadata": {},
   "source": [
    "**Итог**\n",
    "\n",
    "Создали новый датафрейм с агрегированными данными на основе датафрейма с объединенными данными (`full_data`).\n",
    "\n",
    "Нашли суммарное расстояние, количество поездок и суммарное время для каждого пользователя за каждый месяц.\n",
    "Также добавили столбец с помесячной выручкой, которую принес каждый пользователь."
   ]
  },
  {
   "cell_type": "markdown",
   "id": "dba23427",
   "metadata": {},
   "source": [
    "# Шаг 6. Проверка гипотез"
   ]
  },
  {
   "cell_type": "markdown",
   "id": "1f23c936",
   "metadata": {},
   "source": [
    "1) Проверим гипотезу: пользователи с подпиской тратят больше времени на поездки, чем пользователи на бесплатном тарифе.\n",
    "Если гипотеза подтвердится, то пользователи с подпиской могут быть «выгоднее» для компании.\n",
    "\n",
    "H_0: Время (`duration`) пользователей на подписке `ultra` = время (`duration`) пользователей на подписке `free`\n",
    "\n",
    "H_1: Время (`duration`) пользователей на подписке `ultra` > время (`duration`) пользователей на подписке `free`\n",
    "\n",
    "Выберем уровень статистической значимости 5%:\n",
    "alpha = 0.05"
   ]
  },
  {
   "cell_type": "code",
   "execution_count": 68,
   "id": "a8ae0e22",
   "metadata": {},
   "outputs": [
    {
     "name": "stdout",
     "output_type": "stream",
     "text": [
      "1.2804098316645618e-34\n",
      "Отвергаем нулевую гипотезу\n"
     ]
    }
   ],
   "source": [
    "ultra = ultra_sub['duration'] \n",
    "free = free_sub['duration']\n",
    "results = st.ttest_ind(ultra, free, alternative = 'greater')\n",
    "\n",
    "alpha = 0.05\n",
    "\n",
    "print(results.pvalue)\n",
    "\n",
    "if results.pvalue < alpha:\n",
    "    print('Отвергаем нулевую гипотезу')\n",
    "else:\n",
    "    print('Не удалось отвергнуть нулевую гипотезу')"
   ]
  },
  {
   "cell_type": "code",
   "execution_count": 69,
   "id": "a4e6ff5e",
   "metadata": {},
   "outputs": [
    {
     "data": {
      "image/png": "[encoded data removed]",
      "text/plain": [
       "<Figure size 432x288 with 1 Axes>"
      ]
     },
     "metadata": {
      "needs_background": "light"
     },
     "output_type": "display_data"
    }
   ],
   "source": [
    "ax = sns.barplot(x = 'month', y = 'duration', hue = \"subscription_type\", data = full_data, palette = ['green', 'blue'])\n",
    "ax.set_title('Распределение продолжительности поездок по видам подписок и месяцам')\n",
    "ax.set(xlabel='Номер месяца', ylabel='Продолжительность поездок');"
   ]
  },
  {
   "cell_type": "markdown",
   "id": "50e90aad",
   "metadata": {},
   "source": [
    "**Вывод**\n",
    "\n",
    "Проверили гипотезу, отвергли гипотезу о том, что время поездки пользователей на тарифе `ultra` равно времени поездки пользователей на тарифе `free`. Из графика видно, что верна гипотеза H1: Время (duration) пользователей на подписке ultra > время (duration) пользователей на подписке free"
   ]
  },
  {
   "cell_type": "markdown",
   "id": "aece5ff9",
   "metadata": {},
   "source": [
    "2) Расстояние одной поездки в 3130 метров — оптимальное с точки зрения износа самоката. Можно ли сказать, что расстояние, которое проезжают пользователи с подпиской за одну поездку, не превышает 3130 метров?\n",
    "\n",
    "Проверим гипотезу: пользователи с подпиской проезжают расстояние, не превышающее 3130 метров за одну поездку.\n",
    "\n",
    "H_0: Расстояние (`distance`) пользователей на подписке `ultra` = 3130 метров\n",
    "\n",
    "H_1: Расстояние (`distance`) пользователей на подписке `ultra` > 3130 метров\n",
    "\n",
    "Выберем уровень статистической значимости 5%:\n",
    "alpha = 0.05"
   ]
  },
  {
   "cell_type": "code",
   "execution_count": 70,
   "id": "9e4b53e7",
   "metadata": {},
   "outputs": [
    {
     "name": "stdout",
     "output_type": "stream",
     "text": [
      "0.9195368847849785\n",
      "Не удалось отвергнуть нулевую гипотезу\n"
     ]
    }
   ],
   "source": [
    "ultra_dist = ultra_sub['distance']\n",
    "interested_value = 3130.0\n",
    "alpha = 0.05\n",
    "\n",
    "results = st.ttest_1samp(ultra_dist, interested_value, alternative = 'greater')\n",
    "    \n",
    "print(results.pvalue)\n",
    "\n",
    "if (results.pvalue < alpha):\n",
    "    print('Отвергаем нулевую гипотезу')\n",
    "else:\n",
    "    print('Не удалось отвергнуть нулевую гипотезу')"
   ]
  },
  {
   "cell_type": "markdown",
   "id": "ffd853db",
   "metadata": {},
   "source": [
    "**Вывод**\n",
    "\n",
    "Проверили гипотезу, и мы не можем утверждать, что расстояние, которое проехали пользователи на тарифе `ultra` больше 3130 метров."
   ]
  },
  {
   "cell_type": "markdown",
   "id": "7ff4b1bc",
   "metadata": {},
   "source": [
    "3) Проверим гипотезу: помесячная выручка от пользователей с подпиской выше, чем выручка от пользователей без подписки\n",
    "\n",
    "H_0: Средняя выручка от поездок с разной подпиской равна.\n",
    "\n",
    "H_1: Средняя выручка от поездок с использованием подписки ‘ultra’ выше, чем выручка с ипользованием подписки ‘free’.\n",
    "\n",
    "Выберем уровень статистической значимости 5%:\n",
    "alpha = 0.05"
   ]
  },
  {
   "cell_type": "code",
   "execution_count": 71,
   "id": "dac62219",
   "metadata": {},
   "outputs": [
    {
     "name": "stdout",
     "output_type": "stream",
     "text": [
      "8.874140893976874e-40\n",
      "Отвергаем нулевую гипотезу\n"
     ]
    }
   ],
   "source": [
    "results = st.ttest_ind(\n",
    "    users_months_go.loc[users_months_go['subscription_fee'] > 0, 'revenue'],\n",
    "    users_months_go.loc[users_months_go['subscription_fee'] == 0, 'revenue'],\n",
    "    equal_var = False,\n",
    "    alternative = 'greater'\n",
    ")\n",
    "\n",
    "print(results.pvalue)\n",
    "if results.pvalue < 0.05:\n",
    "    print('Отвергаем нулевую гипотезу')\n",
    "else:\n",
    "    print('Не получилось отвергнуть нулевую гипотезу')"
   ]
  },
  {
   "cell_type": "markdown",
   "id": "cf66a0c1",
   "metadata": {},
   "source": [
    "**Вывод**\n",
    "\n",
    "Не получилось отвергнуть нулевую гипотезу о том, что средняя выручка от поездок с использованием подписки ‘ultra’ (больше или) равна средней выручке с ипользованием подписки ‘free’.\n",
    "\n",
    "Значит, как минимум, выручка от подписки ‘ultra’ не меньше, чем от плитки ‘free’, и её следует развивать."
   ]
  },
  {
   "cell_type": "markdown",
   "id": "5032e470",
   "metadata": {},
   "source": [
    "4) Представьте такую ситуацию: техническая команда сервиса обновила сервера, с которыми взаимодействует мобильное приложение. Она надеется, что из-за этого количество обращений в техподдержку значимо снизилось. Некоторый файл содержит для каждого пользователя данные о количестве обращений до обновления и после него. Какой тест вам понадобился бы для проверки этой гипотезы?\n",
    "\n",
    "Сначала требуется провести сравнение выборок на предмет соответствия уникальных пользователей в них.\n",
    "\n",
    "Если списки уникальных пользователей в них совпадают, то выборки зависимы и для проверки гипотезы потребуется тест st.ttest_rel(before, after, alternative=’greater’)"
   ]
  },
  {
   "cell_type": "markdown",
   "id": "811241e0",
   "metadata": {},
   "source": [
    "# Шаг 7. Распределения"
   ]
  },
  {
   "cell_type": "markdown",
   "id": "80321fe4",
   "metadata": {},
   "source": [
    "**Задача №1.** Требуется выполнить план по продлению подписки 100 клиентами путем рассылки промокодов. Ранее вероятность продления была 10%. Требуется обеспечить выполнение плана с вероятностью неуспеха не более 5%. Построить график и ответить на вопрос. Сколько нужно разослать промокодов?"
   ]
  },
  {
   "cell_type": "code",
   "execution_count": 72,
   "id": "ef4e6d8a",
   "metadata": {},
   "outputs": [],
   "source": [
    "# Функция расчета количества успешных экспериментов Бернулли\n",
    "# путем аппроксимации биномиального распределения нормальным\n",
    "def cnsbe(n, p, x):\n",
    "    # Расшифровка названия функции:\n",
    "    # cnsbe - calculation of the number of successful Bernoulli experiments \n",
    "    # by approximating the binomial distribution by the normal\n",
    "    # (расчет количества успешных экспериментов Бернулли \n",
    "    # путем аппроксимации биномиального распределения нормальным)\n",
    "    \n",
    "    # Параметры биноминального распределения:\n",
    "    # n - количество экспериментов\n",
    "    # p - вероятность успеха\n",
    "    \n",
    "    # x - вероятность расчитываемого значения\n",
    "    \n",
    "    # Расчет параметров нормального распределения\n",
    "    mu = n * p\n",
    "    sigma = (n * p * (1 - p))**.5\n",
    "    # Расчет нормального распределения\n",
    "    distr = st.norm(mu, sigma)\n",
    "    \n",
    "    # Расчет значения для заданной вероятности x\n",
    "    result = distr.ppf(x)\n",
    "    \n",
    "    # Построение графика\n",
    "    arange = np.arange(\n",
    "        (mu - 4 * sigma), \n",
    "        (mu + 4 * sigma), \n",
    "        1\n",
    "    )\n",
    "    plt.plot(arange, st.norm.pdf(arange, mu, sigma), 'b-')\n",
    "    plt.axvline(x=result, color='red')\n",
    "    plt.show()\n",
    "    \n",
    "    return result"
   ]
  },
  {
   "cell_type": "code",
   "execution_count": 73,
   "id": "cf6f68a2",
   "metadata": {},
   "outputs": [
    {
     "data": {
      "image/png": "[encoded data removed]",
      "text/plain": [
       "<Figure size 432x288 with 1 Axes>"
      ]
     },
     "metadata": {
      "needs_background": "light"
     },
     "output_type": "display_data"
    },
    {
     "data": {
      "text/plain": [
       "100.02841955223582"
      ]
     },
     "execution_count": 73,
     "metadata": {},
     "output_type": "execute_result"
    }
   ],
   "source": [
    "cnsbe(1169, 0.1, 0.05)"
   ]
  },
  {
   "cell_type": "markdown",
   "id": "954decbd",
   "metadata": {},
   "source": [
    "Требуется разослать 1169 промокодов, которые приводят к продлению подписки с вероятностью 10%, чтобы 100 клиентов продлили подписку с вероятностью неуспеха не более 5%.\n",
    "\n",
    "\n",
    "**Альтернативное решение**"
   ]
  },
  {
   "cell_type": "code",
   "execution_count": 74,
   "id": "628f4130",
   "metadata": {},
   "outputs": [
    {
     "data": {
      "image/png": "[encoded data removed]",
      "text/plain": [
       "<Figure size 432x288 with 1 Axes>"
      ]
     },
     "metadata": {
      "needs_background": "light"
     },
     "output_type": "display_data"
    },
    {
     "name": "stdout",
     "output_type": "stream",
     "text": [
      "Требуется произвести 142 действиядля получения 10 успешных результатов с вероятностью 95.0% при вероятности успеха 10.0%.\n"
     ]
    }
   ],
   "source": [
    "# Функция поиска количества всех попыток экспериментов Бернули n\n",
    "# которые приводят к желаемому количеству успешных попыток kn\n",
    "# с определенной вероятностью kp при вероятносте успеха p\n",
    "def search_binom_n(kn, kp, p):\n",
    "    # kn - требуемое количество успешных попыток\n",
    "    # p  - известная вероятность успешных попыток\n",
    "    # kp - с какой вероятностью нужно получить kn\n",
    "    kp = 1 - kp\n",
    "    \n",
    "    # Общее количество попыток n должно быть не менее \n",
    "    # количества успешных попыток kn\n",
    "    n = kn\n",
    "    # Тригер успеха\n",
    "    result = False\n",
    "    \n",
    "    # Повторять цикл, пока количество всех попыток n не станет достаточным \n",
    "    # для получения требуемого количества успешных попыток kn с вероятностью kp\n",
    "    while result == False:\n",
    "        # Вероятности\n",
    "        distr = []\n",
    "        # Значения\n",
    "        k_nums = []\n",
    "        \n",
    "        # Построение биноминального распределения\n",
    "        for k in range(0, n + 1):\n",
    "            choose = factorial(n) / (factorial(k) * factorial(n - k))\n",
    "            prob = choose * p**k * (1 - p)**(n - k)\n",
    "            distr.append(prob)\n",
    "            k_nums.append(k)\n",
    "        \n",
    "        # Проверка параметров распределения\n",
    "        # на соответствие условиям\n",
    "        p_sum = 0\n",
    "        j = 0\n",
    "        # Сложение вероятностей полученного биноминального распределения\n",
    "        # до получения значения \n",
    "        for i in distr:\n",
    "            p_sum += i\n",
    "            j += 1\n",
    "            # Если сумма сложенных вероятностей равна \n",
    "            # ожидаемой вероятности pk получения pn, \n",
    "            # то завершить цикл сложения\n",
    "            if p_sum >= kp: break\n",
    "        \n",
    "        # Если значением k при вероятности kp меньше kn,\n",
    "        # то увеличить n и продолжить расчеты\n",
    "        if k_nums[j] < kn:\n",
    "            n += 1\n",
    "        # Если найдено такое n, которое дает результат kn \n",
    "        # с вероятностью kp, то завершить расчеты \n",
    "        else:\n",
    "            result = True\n",
    "            plt.bar(k_nums, distr);\n",
    "            plt.show()\n",
    "            break\n",
    "    \n",
    "    return n\n",
    "\n",
    "k = 10\n",
    "kp = 0.95\n",
    "p = 0.1\n",
    "print(f'Требуется произвести {search_binom_n(k, kp, p)} действия\\\n",
    "для получения {k} успешных результатов с вероятностью {kp*100}% при вероятности успеха {p*100}%.')"
   ]
  },
  {
   "cell_type": "markdown",
   "id": "eae756cd",
   "metadata": {},
   "source": [
    "Требуется произвести 142 действия для получения 10 успешных результатов с вероятностью 95.0% при вероятности успеха 10.0%.\n",
    "Идея фунцкии верная. Однако, для получения результата не хватает вычислительных ресурсов при расчете факториалов с заданными параметрами. Вероятно, есть схожая схема расчета, менее требовательная к вычислительным ресурсам.\n",
    "\n",
    "\n",
    "С помощью созданной функции получилось произвести расчеты для выполнения плана в 10 раз меньше. Для 10 продлений подписки с вероятностью 95%, требуется разослать 142 промокода, которые приводят к продлению подписки с вероятностью 10%. Исходя из полученного результата можно предположить, что при увеличении количества плановых продлений в 10 раз, также увеличится количество разосланных промокодов приблизительно в 10 раз. Если это так, то требуется разослать 1420 промокодов.\n",
    "\n",
    "\n",
    "**Задача №2.** Планируется разослать клиентам 1 млн. уведомлений, которые клиенты открывают с вероятностью 40%. Требуется с помощью аппроксимации построить график распределения и оценить вероятность того, что не более 399.5 тыс. клиентов откроют уведомления."
   ]
  },
  {
   "cell_type": "code",
   "execution_count": 75,
   "id": "b646cfa3",
   "metadata": {},
   "outputs": [],
   "source": [
    "# Функция расчета вероятности проведения успешных экспериментов Бернули\n",
    "# путем аппроксимации биномиального распределения нормальным\n",
    "def cpsbe(n, p, x):\n",
    "    # Расшифровка названия функции:\n",
    "    # cpsbe - calculation of the probability of successful Bernoulli experiments\n",
    "    # by approximating the binomial distribution by the normal\n",
    "    # (расчет вероятности проведения успешных экспериментов Бернули \n",
    "    # путем аппроксимации биномиального распределения нормальным)\n",
    "    \n",
    "    # Параметры биноминального распределения:\n",
    "    # n - количество экспериментов\n",
    "    # p - вероятность успеха\n",
    "    \n",
    "    # x - заданное значение, для которого расчитывается вероятность\n",
    "    \n",
    "    # Расчет параметров нормального распределения\n",
    "    mu = n * p\n",
    "    sigma = (n * p * (1 - p))**.5\n",
    "    # Расчет нормального распределения\n",
    "    distr = st.norm(mu, sigma)\n",
    "    \n",
    "    # Расчет вероятности для заданного значения x\n",
    "    result = distr.cdf(x)\n",
    "    \n",
    "    # Построение графика\n",
    "    arange = np.arange(\n",
    "        (mu - 4 * sigma), \n",
    "        (mu + 4 * sigma), \n",
    "        1\n",
    "    )\n",
    "    plt.plot(arange, st.norm.pdf(arange, mu, sigma), 'b-')\n",
    "    plt.axvline(x=x, color='red')\n",
    "    plt.show()\n",
    "    \n",
    "    return result"
   ]
  },
  {
   "cell_type": "code",
   "execution_count": 76,
   "id": "1ef4eb2f",
   "metadata": {},
   "outputs": [
    {
     "data": {
      "image/png": "[encoded data removed]",
      "text/plain": [
       "<Figure size 432x288 with 1 Axes>"
      ]
     },
     "metadata": {
      "needs_background": "light"
     },
     "output_type": "display_data"
    },
    {
     "data": {
      "text/plain": [
       "0.15371708296369768"
      ]
     },
     "execution_count": 76,
     "metadata": {},
     "output_type": "execute_result"
    }
   ],
   "source": [
    "cpsbe(1000000, .4, 399500)"
   ]
  },
  {
   "cell_type": "markdown",
   "id": "27b8a78a",
   "metadata": {},
   "source": [
    "**Вывод**\n",
    "\n",
    "Не более 399.5 тыс. клиентов откроют уведомления с вероятностью 15.37%, если разослать 1 млн. уведомлений, которые открывают клиенты с вероятностью 40%."
   ]
  },
  {
   "cell_type": "markdown",
   "id": "8b70d6c3",
   "metadata": {},
   "source": [
    "# Шаг 8. Выводы"
   ]
  },
  {
   "cell_type": "markdown",
   "id": "049613e2",
   "metadata": {},
   "source": [
    "Основная цель проекта достигнута. Проанализированы данные сервиса аренды самокатов GoFast и проверены некоторые гипотезы, которые могут помочь бизнесу вырасти.\n",
    "\n",
    "**Проделанная работа**\n",
    "\n",
    "Загрузили 3 датафрейма: с пользователями, информацией о поездках, информацией о подписках. \n",
    "\n",
    "Дальше проверили данные на пропуски, их не оказалось ни в одной таблице. Поменяли тип данных у столбца `date` из датафрейма `data_riders` к типу даты. Также добавили столбец `month` с номером месяца. И удалили дубликаты строк из датафрейма с пользователями.\n",
    "\n",
    "Провели исследовательский анализ данных:\n",
    "\n",
    "- Вывели, что количество пользователей по городам распределено примерно одинаково, нет выдающихся значений. Лидером по количеству пользователей является Пятигорск - 219 пользователей. Меньше всего пользователей в Москве - 168. \n",
    "- Пользователей, использующих бесплатную подписку больше - 835 человек, что является ~54% от общего числа пользователей. На платной подписке сидит 699 пользователей, что соответственно является ~46%.\n",
    "- Возраст пользователей укладывается в промежуток от 20 до 30 лет\n",
    "- В основном пользователи проезжают от 2.5 км до 4 км.\n",
    "- Чаще всего длительность поездки состовляет 13 - 22 минут\n",
    "\n",
    "Объединили данные о пользователях, поездках и подписках в один датафрейм. На основе объединенного датафрейма создали еще 2 датафрейма:\n",
    "- Для пользователей с `ultra` подпиской\n",
    "- Для пользователей с `free` подпиской\n",
    "\n",
    "Дальше визуализировали информацию о расстоянии и времени поездки для пользоватей каждого тарифа.\n",
    "\n",
    "- Для бесплатного тарифа время поездки составляет от 10 до 25 минут, и проезжают от 2 до 4,5 км, есть пользователи, которые проехали даже 6, 6.5 км.\n",
    "- Платный тариф. В основном время укладывается в промежуток от 13 до 23 минут. Пик расстояния приходится на 3км.\n",
    "\n",
    "Нашли суммарное расстояние, количество поездок и суммарное время для каждого пользователя за каждый месяц - вывели все данные в отдельный датафрейм.\n",
    "Добавили в датафрейм столбец с помесячной выручкой.\n",
    "\n",
    "Проверили гипотезы:\n",
    "\n",
    "- Пользователи с подпиской тратят больше времени на поездки, чем пользователи на бесплатном тарифе\n",
    "    - Отвергли нулевую гипотезу\n",
    "- Пользователи с подпиской проезжают расстояние больше 3130 метров за одну поездку\n",
    "    - Не удалось отвергнуть нулевую гипотезу\n",
    "- Помесячная выручка от пользователей с подпиской выше, чем выручка от пользователей без подписки\n",
    "    - Не удалось отвергнуть нулевую гипотезу\n",
    "    \n",
    "Построены распределения:\n",
    "\n",
    "- Требуется разослать 1169 промокодов, которые приводят к продлению подписки с вероятностью 10%, чтобы 100 клиентов продлили подписку с вероятностью неуспеха не более 5%.\n",
    "- 399.5 тыс. клиентов откроют уведомления с вероятностью 15.37%, если разослать 1 млн. уведомлений, которые открывают клиенты с вероятностью 40%."
   ]
  }
 ],
 "metadata": {
  "ExecuteTimeLog": [
   {
    "duration": 1382,
    "start_time": "2023-12-22T22:05:32.972Z"
   },
   {
    "duration": 193,
    "start_time": "2023-12-22T22:05:34.356Z"
   },
   {
    "duration": 1261,
    "start_time": "2023-12-22T22:10:02.148Z"
   },
   {
    "duration": 69,
    "start_time": "2023-12-22T22:10:03.411Z"
   },
   {
    "duration": 10,
    "start_time": "2023-12-22T22:10:03.482Z"
   },
   {
    "duration": 18,
    "start_time": "2023-12-22T22:10:03.494Z"
   },
   {
    "duration": 9,
    "start_time": "2023-12-22T22:10:03.514Z"
   },
   {
    "duration": 25,
    "start_time": "2023-12-22T22:10:03.525Z"
   },
   {
    "duration": 9,
    "start_time": "2023-12-22T22:10:03.551Z"
   },
   {
    "duration": 35,
    "start_time": "2023-12-22T22:10:03.561Z"
   },
   {
    "duration": 1225,
    "start_time": "2023-12-23T05:49:58.393Z"
   },
   {
    "duration": 198,
    "start_time": "2023-12-23T05:49:59.620Z"
   },
   {
    "duration": 12,
    "start_time": "2023-12-23T05:49:59.819Z"
   },
   {
    "duration": 13,
    "start_time": "2023-12-23T05:49:59.832Z"
   },
   {
    "duration": 12,
    "start_time": "2023-12-23T05:49:59.846Z"
   },
   {
    "duration": 5,
    "start_time": "2023-12-23T05:49:59.860Z"
   },
   {
    "duration": 6,
    "start_time": "2023-12-23T05:49:59.867Z"
   },
   {
    "duration": 5,
    "start_time": "2023-12-23T05:49:59.874Z"
   },
   {
    "duration": 7,
    "start_time": "2023-12-23T05:49:59.915Z"
   },
   {
    "duration": 16,
    "start_time": "2023-12-23T05:49:59.924Z"
   },
   {
    "duration": 7,
    "start_time": "2023-12-23T05:49:59.941Z"
   },
   {
    "duration": 4,
    "start_time": "2023-12-23T05:49:59.950Z"
   },
   {
    "duration": 9,
    "start_time": "2023-12-23T05:49:59.956Z"
   },
   {
    "duration": 6,
    "start_time": "2023-12-23T05:49:59.966Z"
   },
   {
    "duration": 5,
    "start_time": "2023-12-23T05:49:59.973Z"
   },
   {
    "duration": 39,
    "start_time": "2023-12-23T05:49:59.979Z"
   },
   {
    "duration": 12,
    "start_time": "2023-12-23T05:50:00.020Z"
   },
   {
    "duration": 45,
    "start_time": "2023-12-23T05:50:00.034Z"
   },
   {
    "duration": 34,
    "start_time": "2023-12-23T05:50:00.081Z"
   },
   {
    "duration": 37,
    "start_time": "2023-12-23T05:50:00.117Z"
   },
   {
    "duration": 180,
    "start_time": "2023-12-23T05:50:00.156Z"
   },
   {
    "duration": 102,
    "start_time": "2023-12-23T05:50:00.337Z"
   },
   {
    "duration": 0,
    "start_time": "2023-12-23T05:50:00.442Z"
   },
   {
    "duration": 0,
    "start_time": "2023-12-23T05:50:00.444Z"
   },
   {
    "duration": 0,
    "start_time": "2023-12-23T05:50:00.445Z"
   },
   {
    "duration": 0,
    "start_time": "2023-12-23T05:50:00.446Z"
   },
   {
    "duration": 0,
    "start_time": "2023-12-23T05:50:00.448Z"
   },
   {
    "duration": 0,
    "start_time": "2023-12-23T05:50:00.449Z"
   },
   {
    "duration": 0,
    "start_time": "2023-12-23T05:50:00.450Z"
   },
   {
    "duration": 0,
    "start_time": "2023-12-23T05:50:00.452Z"
   },
   {
    "duration": 0,
    "start_time": "2023-12-23T05:50:00.453Z"
   },
   {
    "duration": 0,
    "start_time": "2023-12-23T05:50:00.454Z"
   },
   {
    "duration": 0,
    "start_time": "2023-12-23T05:50:00.456Z"
   },
   {
    "duration": 0,
    "start_time": "2023-12-23T05:50:00.457Z"
   },
   {
    "duration": 0,
    "start_time": "2023-12-23T05:50:00.458Z"
   },
   {
    "duration": 0,
    "start_time": "2023-12-23T05:50:00.459Z"
   },
   {
    "duration": 0,
    "start_time": "2023-12-23T05:50:00.461Z"
   },
   {
    "duration": 0,
    "start_time": "2023-12-23T05:50:00.462Z"
   },
   {
    "duration": 0,
    "start_time": "2023-12-23T05:50:00.463Z"
   },
   {
    "duration": 0,
    "start_time": "2023-12-23T05:50:00.464Z"
   },
   {
    "duration": 0,
    "start_time": "2023-12-23T05:50:00.465Z"
   },
   {
    "duration": 0,
    "start_time": "2023-12-23T05:50:00.467Z"
   },
   {
    "duration": 0,
    "start_time": "2023-12-23T05:50:00.468Z"
   },
   {
    "duration": 0,
    "start_time": "2023-12-23T05:50:00.469Z"
   },
   {
    "duration": 0,
    "start_time": "2023-12-23T05:50:00.515Z"
   },
   {
    "duration": 0,
    "start_time": "2023-12-23T05:50:00.516Z"
   },
   {
    "duration": 0,
    "start_time": "2023-12-23T05:50:00.517Z"
   },
   {
    "duration": 0,
    "start_time": "2023-12-23T05:50:00.519Z"
   },
   {
    "duration": 0,
    "start_time": "2023-12-23T05:50:00.520Z"
   },
   {
    "duration": 0,
    "start_time": "2023-12-23T05:50:00.522Z"
   },
   {
    "duration": 0,
    "start_time": "2023-12-23T05:50:00.523Z"
   },
   {
    "duration": 0,
    "start_time": "2023-12-23T05:50:00.524Z"
   },
   {
    "duration": 0,
    "start_time": "2023-12-23T05:50:00.525Z"
   },
   {
    "duration": 0,
    "start_time": "2023-12-23T05:50:00.526Z"
   },
   {
    "duration": 0,
    "start_time": "2023-12-23T05:50:00.528Z"
   },
   {
    "duration": 0,
    "start_time": "2023-12-23T05:50:00.529Z"
   },
   {
    "duration": 0,
    "start_time": "2023-12-23T05:50:00.530Z"
   },
   {
    "duration": 0,
    "start_time": "2023-12-23T05:50:00.532Z"
   },
   {
    "duration": 0,
    "start_time": "2023-12-23T05:50:00.533Z"
   },
   {
    "duration": 0,
    "start_time": "2023-12-23T05:50:00.534Z"
   },
   {
    "duration": 0,
    "start_time": "2023-12-23T05:50:00.535Z"
   },
   {
    "duration": 0,
    "start_time": "2023-12-23T05:50:00.536Z"
   },
   {
    "duration": 0,
    "start_time": "2023-12-23T05:50:00.538Z"
   },
   {
    "duration": 0,
    "start_time": "2023-12-23T05:50:00.539Z"
   },
   {
    "duration": 1280,
    "start_time": "2023-12-23T05:51:30.363Z"
   },
   {
    "duration": 69,
    "start_time": "2023-12-23T05:51:31.645Z"
   },
   {
    "duration": 12,
    "start_time": "2023-12-23T05:51:31.715Z"
   },
   {
    "duration": 21,
    "start_time": "2023-12-23T05:51:31.729Z"
   },
   {
    "duration": 26,
    "start_time": "2023-12-23T05:51:31.751Z"
   },
   {
    "duration": 21,
    "start_time": "2023-12-23T05:51:31.778Z"
   },
   {
    "duration": 28,
    "start_time": "2023-12-23T05:51:31.800Z"
   },
   {
    "duration": 7,
    "start_time": "2023-12-23T05:51:31.830Z"
   },
   {
    "duration": 8,
    "start_time": "2023-12-23T05:51:31.839Z"
   },
   {
    "duration": 24,
    "start_time": "2023-12-23T05:51:31.849Z"
   },
   {
    "duration": 21,
    "start_time": "2023-12-23T05:51:31.874Z"
   },
   {
    "duration": 33,
    "start_time": "2023-12-23T05:51:31.897Z"
   },
   {
    "duration": 31,
    "start_time": "2023-12-23T05:51:31.932Z"
   },
   {
    "duration": 21,
    "start_time": "2023-12-23T05:51:31.965Z"
   },
   {
    "duration": 58,
    "start_time": "2023-12-23T05:51:31.987Z"
   },
   {
    "duration": 51,
    "start_time": "2023-12-23T05:51:32.047Z"
   },
   {
    "duration": 22,
    "start_time": "2023-12-23T05:51:32.100Z"
   },
   {
    "duration": 42,
    "start_time": "2023-12-23T05:51:32.124Z"
   },
   {
    "duration": 18,
    "start_time": "2023-12-23T05:51:32.168Z"
   },
   {
    "duration": 45,
    "start_time": "2023-12-23T05:51:32.187Z"
   },
   {
    "duration": 176,
    "start_time": "2023-12-23T05:51:32.234Z"
   },
   {
    "duration": 96,
    "start_time": "2023-12-23T05:51:32.411Z"
   },
   {
    "duration": 0,
    "start_time": "2023-12-23T05:51:32.509Z"
   },
   {
    "duration": 0,
    "start_time": "2023-12-23T05:51:32.515Z"
   },
   {
    "duration": 0,
    "start_time": "2023-12-23T05:51:32.516Z"
   },
   {
    "duration": 0,
    "start_time": "2023-12-23T05:51:32.518Z"
   },
   {
    "duration": 0,
    "start_time": "2023-12-23T05:51:32.519Z"
   },
   {
    "duration": 0,
    "start_time": "2023-12-23T05:51:32.520Z"
   },
   {
    "duration": 0,
    "start_time": "2023-12-23T05:51:32.522Z"
   },
   {
    "duration": 0,
    "start_time": "2023-12-23T05:51:32.524Z"
   },
   {
    "duration": 0,
    "start_time": "2023-12-23T05:51:32.526Z"
   },
   {
    "duration": 0,
    "start_time": "2023-12-23T05:51:32.527Z"
   },
   {
    "duration": 0,
    "start_time": "2023-12-23T05:51:32.528Z"
   },
   {
    "duration": 0,
    "start_time": "2023-12-23T05:51:32.530Z"
   },
   {
    "duration": 0,
    "start_time": "2023-12-23T05:51:32.531Z"
   },
   {
    "duration": 0,
    "start_time": "2023-12-23T05:51:32.533Z"
   },
   {
    "duration": 0,
    "start_time": "2023-12-23T05:51:32.534Z"
   },
   {
    "duration": 0,
    "start_time": "2023-12-23T05:51:32.535Z"
   },
   {
    "duration": 0,
    "start_time": "2023-12-23T05:51:32.536Z"
   },
   {
    "duration": 0,
    "start_time": "2023-12-23T05:51:32.537Z"
   },
   {
    "duration": 0,
    "start_time": "2023-12-23T05:51:32.538Z"
   },
   {
    "duration": 0,
    "start_time": "2023-12-23T05:51:32.539Z"
   },
   {
    "duration": 0,
    "start_time": "2023-12-23T05:51:32.540Z"
   },
   {
    "duration": 0,
    "start_time": "2023-12-23T05:51:32.541Z"
   },
   {
    "duration": 0,
    "start_time": "2023-12-23T05:51:32.542Z"
   },
   {
    "duration": 0,
    "start_time": "2023-12-23T05:51:32.543Z"
   },
   {
    "duration": 0,
    "start_time": "2023-12-23T05:51:32.544Z"
   },
   {
    "duration": 0,
    "start_time": "2023-12-23T05:51:32.545Z"
   },
   {
    "duration": 0,
    "start_time": "2023-12-23T05:51:32.546Z"
   },
   {
    "duration": 0,
    "start_time": "2023-12-23T05:51:32.547Z"
   },
   {
    "duration": 0,
    "start_time": "2023-12-23T05:51:32.548Z"
   },
   {
    "duration": 0,
    "start_time": "2023-12-23T05:51:32.549Z"
   },
   {
    "duration": 0,
    "start_time": "2023-12-23T05:51:32.550Z"
   },
   {
    "duration": 0,
    "start_time": "2023-12-23T05:51:32.551Z"
   },
   {
    "duration": 0,
    "start_time": "2023-12-23T05:51:32.552Z"
   },
   {
    "duration": 0,
    "start_time": "2023-12-23T05:51:32.553Z"
   },
   {
    "duration": 0,
    "start_time": "2023-12-23T05:51:32.615Z"
   },
   {
    "duration": 0,
    "start_time": "2023-12-23T05:51:32.616Z"
   },
   {
    "duration": 0,
    "start_time": "2023-12-23T05:51:32.619Z"
   },
   {
    "duration": 0,
    "start_time": "2023-12-23T05:51:32.620Z"
   },
   {
    "duration": 0,
    "start_time": "2023-12-23T05:51:32.622Z"
   },
   {
    "duration": 0,
    "start_time": "2023-12-23T05:51:32.624Z"
   },
   {
    "duration": 0,
    "start_time": "2023-12-23T05:51:32.625Z"
   },
   {
    "duration": 0,
    "start_time": "2023-12-23T05:51:32.628Z"
   },
   {
    "duration": 0,
    "start_time": "2023-12-23T05:51:32.630Z"
   },
   {
    "duration": 1306,
    "start_time": "2023-12-23T05:52:17.123Z"
   },
   {
    "duration": 70,
    "start_time": "2023-12-23T05:52:18.431Z"
   },
   {
    "duration": 13,
    "start_time": "2023-12-23T05:52:18.502Z"
   },
   {
    "duration": 10,
    "start_time": "2023-12-23T05:52:18.516Z"
   },
   {
    "duration": 21,
    "start_time": "2023-12-23T05:52:18.527Z"
   },
   {
    "duration": 25,
    "start_time": "2023-12-23T05:52:18.550Z"
   },
   {
    "duration": 28,
    "start_time": "2023-12-23T05:52:18.576Z"
   },
   {
    "duration": 20,
    "start_time": "2023-12-23T05:52:18.606Z"
   },
   {
    "duration": 10,
    "start_time": "2023-12-23T05:52:18.628Z"
   },
   {
    "duration": 5,
    "start_time": "2023-12-23T05:52:18.641Z"
   },
   {
    "duration": 14,
    "start_time": "2023-12-23T05:52:18.647Z"
   },
   {
    "duration": 8,
    "start_time": "2023-12-23T05:52:18.662Z"
   },
   {
    "duration": 16,
    "start_time": "2023-12-23T05:52:18.671Z"
   },
   {
    "duration": 12,
    "start_time": "2023-12-23T05:52:18.688Z"
   },
   {
    "duration": 20,
    "start_time": "2023-12-23T05:52:18.701Z"
   },
   {
    "duration": 9,
    "start_time": "2023-12-23T05:52:18.723Z"
   },
   {
    "duration": 8,
    "start_time": "2023-12-23T05:52:18.734Z"
   },
   {
    "duration": 5,
    "start_time": "2023-12-23T05:52:18.743Z"
   },
   {
    "duration": 15,
    "start_time": "2023-12-23T05:52:18.749Z"
   },
   {
    "duration": 20,
    "start_time": "2023-12-23T05:52:18.765Z"
   },
   {
    "duration": 195,
    "start_time": "2023-12-23T05:52:18.786Z"
   },
   {
    "duration": 5,
    "start_time": "2023-12-23T05:52:18.983Z"
   },
   {
    "duration": 179,
    "start_time": "2023-12-23T05:52:18.989Z"
   },
   {
    "duration": 5,
    "start_time": "2023-12-23T05:52:19.169Z"
   },
   {
    "duration": 97,
    "start_time": "2023-12-23T05:52:19.176Z"
   },
   {
    "duration": 8,
    "start_time": "2023-12-23T05:52:19.274Z"
   },
   {
    "duration": 24,
    "start_time": "2023-12-23T05:52:19.283Z"
   },
   {
    "duration": 22,
    "start_time": "2023-12-23T05:52:19.311Z"
   },
   {
    "duration": 5,
    "start_time": "2023-12-23T05:52:19.335Z"
   },
   {
    "duration": 36,
    "start_time": "2023-12-23T05:52:19.342Z"
   },
   {
    "duration": 14,
    "start_time": "2023-12-23T05:52:19.379Z"
   },
   {
    "duration": 23,
    "start_time": "2023-12-23T05:52:19.395Z"
   },
   {
    "duration": 40,
    "start_time": "2023-12-23T05:52:19.419Z"
   },
   {
    "duration": 17,
    "start_time": "2023-12-23T05:52:19.460Z"
   },
   {
    "duration": 6,
    "start_time": "2023-12-23T05:52:19.478Z"
   },
   {
    "duration": 23,
    "start_time": "2023-12-23T05:52:19.486Z"
   },
   {
    "duration": 12,
    "start_time": "2023-12-23T05:52:19.510Z"
   },
   {
    "duration": 153,
    "start_time": "2023-12-23T05:52:19.524Z"
   },
   {
    "duration": 5,
    "start_time": "2023-12-23T05:52:19.679Z"
   },
   {
    "duration": 105,
    "start_time": "2023-12-23T05:52:19.685Z"
   },
   {
    "duration": 144,
    "start_time": "2023-12-23T05:52:19.791Z"
   },
   {
    "duration": 107,
    "start_time": "2023-12-23T05:52:19.937Z"
   },
   {
    "duration": 13,
    "start_time": "2023-12-23T05:52:20.046Z"
   },
   {
    "duration": 174,
    "start_time": "2023-12-23T05:52:20.060Z"
   },
   {
    "duration": 8,
    "start_time": "2023-12-23T05:52:20.236Z"
   },
   {
    "duration": 21,
    "start_time": "2023-12-23T05:52:20.246Z"
   },
   {
    "duration": 20,
    "start_time": "2023-12-23T05:52:20.268Z"
   },
   {
    "duration": 215,
    "start_time": "2023-12-23T05:52:20.290Z"
   },
   {
    "duration": 189,
    "start_time": "2023-12-23T05:52:20.506Z"
   },
   {
    "duration": 31,
    "start_time": "2023-12-23T05:52:20.697Z"
   },
   {
    "duration": 196,
    "start_time": "2023-12-23T05:52:20.730Z"
   },
   {
    "duration": 175,
    "start_time": "2023-12-23T05:52:20.928Z"
   },
   {
    "duration": 900,
    "start_time": "2023-12-23T05:52:21.105Z"
   },
   {
    "duration": 8,
    "start_time": "2023-12-23T05:52:22.006Z"
   },
   {
    "duration": 79,
    "start_time": "2023-12-23T05:52:22.016Z"
   },
   {
    "duration": 28,
    "start_time": "2023-12-23T05:52:22.096Z"
   },
   {
    "duration": 19,
    "start_time": "2023-12-23T05:52:22.126Z"
   },
   {
    "duration": 32,
    "start_time": "2023-12-23T05:52:22.146Z"
   },
   {
    "duration": 168,
    "start_time": "2023-12-23T05:52:22.179Z"
   },
   {
    "duration": 7,
    "start_time": "2023-12-23T05:52:22.349Z"
   },
   {
    "duration": 22,
    "start_time": "2023-12-23T05:52:22.357Z"
   },
   {
    "duration": 15,
    "start_time": "2023-12-23T05:52:22.381Z"
   },
   {
    "duration": 840,
    "start_time": "2023-12-23T05:52:22.398Z"
   },
   {
    "duration": 5,
    "start_time": "2023-12-23T05:52:23.240Z"
   },
   {
    "duration": 120,
    "start_time": "2023-12-23T05:52:23.246Z"
   },
   {
    "duration": 1240,
    "start_time": "2023-12-23T07:40:10.374Z"
   },
   {
    "duration": 70,
    "start_time": "2023-12-23T07:40:11.616Z"
   },
   {
    "duration": 12,
    "start_time": "2023-12-23T07:40:11.688Z"
   },
   {
    "duration": 15,
    "start_time": "2023-12-23T07:40:11.701Z"
   },
   {
    "duration": 9,
    "start_time": "2023-12-23T07:40:11.718Z"
   },
   {
    "duration": 7,
    "start_time": "2023-12-23T07:40:11.729Z"
   },
   {
    "duration": 7,
    "start_time": "2023-12-23T07:40:11.738Z"
   },
   {
    "duration": 13,
    "start_time": "2023-12-23T07:40:11.746Z"
   },
   {
    "duration": 9,
    "start_time": "2023-12-23T07:40:11.761Z"
   },
   {
    "duration": 5,
    "start_time": "2023-12-23T07:40:11.772Z"
   },
   {
    "duration": 7,
    "start_time": "2023-12-23T07:40:11.778Z"
   },
   {
    "duration": 30,
    "start_time": "2023-12-23T07:40:11.786Z"
   },
   {
    "duration": 5,
    "start_time": "2023-12-23T07:40:11.818Z"
   },
   {
    "duration": 9,
    "start_time": "2023-12-23T07:40:11.824Z"
   },
   {
    "duration": 6,
    "start_time": "2023-12-23T07:40:11.836Z"
   },
   {
    "duration": 7,
    "start_time": "2023-12-23T07:40:11.844Z"
   },
   {
    "duration": 7,
    "start_time": "2023-12-23T07:40:11.852Z"
   },
   {
    "duration": 5,
    "start_time": "2023-12-23T07:40:11.861Z"
   },
   {
    "duration": 51,
    "start_time": "2023-12-23T07:40:11.868Z"
   },
   {
    "duration": 16,
    "start_time": "2023-12-23T07:40:11.921Z"
   },
   {
    "duration": 170,
    "start_time": "2023-12-23T07:40:11.939Z"
   },
   {
    "duration": 6,
    "start_time": "2023-12-23T07:40:12.115Z"
   },
   {
    "duration": 163,
    "start_time": "2023-12-23T07:40:12.123Z"
   },
   {
    "duration": 6,
    "start_time": "2023-12-23T07:40:12.288Z"
   },
   {
    "duration": 104,
    "start_time": "2023-12-23T07:40:12.295Z"
   },
   {
    "duration": 20,
    "start_time": "2023-12-23T07:40:12.400Z"
   },
   {
    "duration": 30,
    "start_time": "2023-12-23T07:40:12.421Z"
   },
   {
    "duration": 38,
    "start_time": "2023-12-23T07:40:12.454Z"
   },
   {
    "duration": 4,
    "start_time": "2023-12-23T07:40:12.494Z"
   },
   {
    "duration": 33,
    "start_time": "2023-12-23T07:40:12.500Z"
   },
   {
    "duration": 29,
    "start_time": "2023-12-23T07:40:12.535Z"
   },
   {
    "duration": 23,
    "start_time": "2023-12-23T07:40:12.565Z"
   },
   {
    "duration": 49,
    "start_time": "2023-12-23T07:40:12.590Z"
   },
   {
    "duration": 17,
    "start_time": "2023-12-23T07:40:12.641Z"
   },
   {
    "duration": 10,
    "start_time": "2023-12-23T07:40:12.660Z"
   },
   {
    "duration": 17,
    "start_time": "2023-12-23T07:40:12.672Z"
   },
   {
    "duration": 8,
    "start_time": "2023-12-23T07:40:12.690Z"
   },
   {
    "duration": 161,
    "start_time": "2023-12-23T07:40:12.700Z"
   },
   {
    "duration": 23339,
    "start_time": "2023-12-23T07:40:12.863Z"
   },
   {
    "duration": 12,
    "start_time": "2023-12-23T07:40:36.203Z"
   },
   {
    "duration": 102,
    "start_time": "2023-12-23T07:40:36.217Z"
   },
   {
    "duration": 175,
    "start_time": "2023-12-23T07:40:36.320Z"
   },
   {
    "duration": 124,
    "start_time": "2023-12-23T07:40:36.497Z"
   },
   {
    "duration": 14,
    "start_time": "2023-12-23T07:40:36.624Z"
   },
   {
    "duration": 115,
    "start_time": "2023-12-23T07:40:36.640Z"
   },
   {
    "duration": 10,
    "start_time": "2023-12-23T07:40:36.756Z"
   },
   {
    "duration": 27,
    "start_time": "2023-12-23T07:40:36.768Z"
   },
   {
    "duration": 51,
    "start_time": "2023-12-23T07:40:36.797Z"
   },
   {
    "duration": 212,
    "start_time": "2023-12-23T07:40:36.850Z"
   },
   {
    "duration": 196,
    "start_time": "2023-12-23T07:40:37.064Z"
   },
   {
    "duration": 20,
    "start_time": "2023-12-23T07:40:37.262Z"
   },
   {
    "duration": 200,
    "start_time": "2023-12-23T07:40:37.284Z"
   },
   {
    "duration": 177,
    "start_time": "2023-12-23T07:40:37.486Z"
   },
   {
    "duration": 956,
    "start_time": "2023-12-23T07:40:37.664Z"
   },
   {
    "duration": 3,
    "start_time": "2023-12-23T07:40:38.621Z"
   },
   {
    "duration": 13,
    "start_time": "2023-12-23T07:40:38.626Z"
   },
   {
    "duration": 13,
    "start_time": "2023-12-23T07:40:38.641Z"
   },
   {
    "duration": 11,
    "start_time": "2023-12-23T07:40:38.655Z"
   },
   {
    "duration": 3,
    "start_time": "2023-12-23T07:40:38.668Z"
   },
   {
    "duration": 570,
    "start_time": "2023-12-23T07:40:38.672Z"
   },
   {
    "duration": 6,
    "start_time": "2023-12-23T07:40:39.244Z"
   },
   {
    "duration": 13,
    "start_time": "2023-12-23T07:40:39.252Z"
   },
   {
    "duration": 5,
    "start_time": "2023-12-23T07:40:39.266Z"
   },
   {
    "duration": 927,
    "start_time": "2023-12-23T07:40:39.273Z"
   },
   {
    "duration": 12,
    "start_time": "2023-12-23T07:40:40.202Z"
   },
   {
    "duration": 14,
    "start_time": "2023-12-23T07:40:40.216Z"
   },
   {
    "duration": 114,
    "start_time": "2023-12-23T07:43:31.937Z"
   },
   {
    "duration": 141,
    "start_time": "2023-12-23T07:43:44.303Z"
   },
   {
    "duration": 159,
    "start_time": "2023-12-23T07:44:05.064Z"
   },
   {
    "duration": 141,
    "start_time": "2023-12-23T07:44:14.168Z"
   },
   {
    "duration": 1283,
    "start_time": "2023-12-23T08:00:28.120Z"
   },
   {
    "duration": 76,
    "start_time": "2023-12-23T08:00:29.405Z"
   },
   {
    "duration": 12,
    "start_time": "2023-12-23T08:00:29.482Z"
   },
   {
    "duration": 10,
    "start_time": "2023-12-23T08:00:29.496Z"
   },
   {
    "duration": 6,
    "start_time": "2023-12-23T08:00:29.508Z"
   },
   {
    "duration": 19,
    "start_time": "2023-12-23T08:00:29.515Z"
   },
   {
    "duration": 7,
    "start_time": "2023-12-23T08:00:29.535Z"
   },
   {
    "duration": 5,
    "start_time": "2023-12-23T08:00:29.543Z"
   },
   {
    "duration": 8,
    "start_time": "2023-12-23T08:00:29.549Z"
   },
   {
    "duration": 5,
    "start_time": "2023-12-23T08:00:29.559Z"
   },
   {
    "duration": 15,
    "start_time": "2023-12-23T08:00:29.566Z"
   },
   {
    "duration": 13,
    "start_time": "2023-12-23T08:00:29.582Z"
   },
   {
    "duration": 11,
    "start_time": "2023-12-23T08:00:29.596Z"
   },
   {
    "duration": 17,
    "start_time": "2023-12-23T08:00:29.614Z"
   },
   {
    "duration": 5,
    "start_time": "2023-12-23T08:00:29.633Z"
   },
   {
    "duration": 11,
    "start_time": "2023-12-23T08:00:29.639Z"
   },
   {
    "duration": 26,
    "start_time": "2023-12-23T08:00:29.652Z"
   },
   {
    "duration": 5,
    "start_time": "2023-12-23T08:00:29.680Z"
   },
   {
    "duration": 25,
    "start_time": "2023-12-23T08:00:29.687Z"
   },
   {
    "duration": 22,
    "start_time": "2023-12-23T08:00:29.713Z"
   },
   {
    "duration": 6,
    "start_time": "2023-12-23T08:00:29.737Z"
   },
   {
    "duration": 26,
    "start_time": "2023-12-23T08:00:29.744Z"
   },
   {
    "duration": 14,
    "start_time": "2023-12-23T08:00:29.772Z"
   },
   {
    "duration": 14,
    "start_time": "2023-12-23T08:00:29.788Z"
   },
   {
    "duration": 31,
    "start_time": "2023-12-23T08:00:29.804Z"
   },
   {
    "duration": 3,
    "start_time": "2023-12-23T08:00:29.837Z"
   },
   {
    "duration": 16,
    "start_time": "2023-12-23T08:00:29.841Z"
   },
   {
    "duration": 12,
    "start_time": "2023-12-23T08:00:29.860Z"
   },
   {
    "duration": 13,
    "start_time": "2023-12-23T08:00:29.873Z"
   },
   {
    "duration": 20,
    "start_time": "2023-12-23T08:00:29.888Z"
   },
   {
    "duration": 23,
    "start_time": "2023-12-23T08:00:29.910Z"
   },
   {
    "duration": 24,
    "start_time": "2023-12-23T08:00:29.934Z"
   },
   {
    "duration": 9,
    "start_time": "2023-12-23T08:00:29.959Z"
   },
   {
    "duration": 8,
    "start_time": "2023-12-23T08:00:29.970Z"
   },
   {
    "duration": 160,
    "start_time": "2023-12-23T08:00:29.980Z"
   },
   {
    "duration": 153,
    "start_time": "2023-12-23T08:00:30.141Z"
   },
   {
    "duration": 5,
    "start_time": "2023-12-23T08:00:30.296Z"
   },
   {
    "duration": 99,
    "start_time": "2023-12-23T08:00:30.315Z"
   },
   {
    "duration": 150,
    "start_time": "2023-12-23T08:00:30.416Z"
   },
   {
    "duration": 118,
    "start_time": "2023-12-23T08:00:30.568Z"
   },
   {
    "duration": 14,
    "start_time": "2023-12-23T08:00:30.688Z"
   },
   {
    "duration": 142,
    "start_time": "2023-12-23T08:00:30.705Z"
   },
   {
    "duration": 12,
    "start_time": "2023-12-23T08:00:30.850Z"
   },
   {
    "duration": 58,
    "start_time": "2023-12-23T08:00:30.864Z"
   },
   {
    "duration": 30,
    "start_time": "2023-12-23T08:00:30.924Z"
   },
   {
    "duration": 225,
    "start_time": "2023-12-23T08:00:30.956Z"
   },
   {
    "duration": 245,
    "start_time": "2023-12-23T08:00:31.182Z"
   },
   {
    "duration": 19,
    "start_time": "2023-12-23T08:00:31.428Z"
   },
   {
    "duration": 201,
    "start_time": "2023-12-23T08:00:31.449Z"
   },
   {
    "duration": 185,
    "start_time": "2023-12-23T08:00:31.652Z"
   },
   {
    "duration": 878,
    "start_time": "2023-12-23T08:00:31.838Z"
   },
   {
    "duration": 3,
    "start_time": "2023-12-23T08:00:32.718Z"
   },
   {
    "duration": 5,
    "start_time": "2023-12-23T08:00:32.722Z"
   },
   {
    "duration": 13,
    "start_time": "2023-12-23T08:00:32.729Z"
   },
   {
    "duration": 11,
    "start_time": "2023-12-23T08:00:32.743Z"
   },
   {
    "duration": 4,
    "start_time": "2023-12-23T08:00:32.755Z"
   },
   {
    "duration": 172,
    "start_time": "2023-12-23T08:00:32.760Z"
   },
   {
    "duration": 7,
    "start_time": "2023-12-23T08:00:32.933Z"
   },
   {
    "duration": 34,
    "start_time": "2023-12-23T08:00:32.941Z"
   },
   {
    "duration": 5,
    "start_time": "2023-12-23T08:00:32.977Z"
   },
   {
    "duration": 835,
    "start_time": "2023-12-23T08:00:32.983Z"
   },
   {
    "duration": 5,
    "start_time": "2023-12-23T08:00:33.820Z"
   },
   {
    "duration": 33,
    "start_time": "2023-12-23T08:00:33.826Z"
   },
   {
    "duration": 203,
    "start_time": "2023-12-23T08:02:34.227Z"
   },
   {
    "duration": 119,
    "start_time": "2023-12-23T08:03:05.078Z"
   },
   {
    "duration": 145,
    "start_time": "2023-12-23T08:08:32.734Z"
   },
   {
    "duration": 192,
    "start_time": "2023-12-23T08:08:40.544Z"
   },
   {
    "duration": 177,
    "start_time": "2023-12-23T08:08:50.294Z"
   },
   {
    "duration": 267,
    "start_time": "2023-12-23T08:10:06.958Z"
   },
   {
    "duration": 207,
    "start_time": "2023-12-23T08:11:53.799Z"
   },
   {
    "duration": 154,
    "start_time": "2023-12-23T08:29:16.451Z"
   },
   {
    "duration": 1152,
    "start_time": "2023-12-23T08:34:21.451Z"
   },
   {
    "duration": 69,
    "start_time": "2023-12-23T08:34:22.605Z"
   },
   {
    "duration": 11,
    "start_time": "2023-12-23T08:34:22.675Z"
   },
   {
    "duration": 15,
    "start_time": "2023-12-23T08:34:22.688Z"
   },
   {
    "duration": 19,
    "start_time": "2023-12-23T08:34:22.704Z"
   },
   {
    "duration": 9,
    "start_time": "2023-12-23T08:34:22.724Z"
   },
   {
    "duration": 12,
    "start_time": "2023-12-23T08:34:22.735Z"
   },
   {
    "duration": 7,
    "start_time": "2023-12-23T08:34:22.748Z"
   },
   {
    "duration": 13,
    "start_time": "2023-12-23T08:34:22.756Z"
   },
   {
    "duration": 7,
    "start_time": "2023-12-23T08:34:22.770Z"
   },
   {
    "duration": 14,
    "start_time": "2023-12-23T08:34:22.778Z"
   },
   {
    "duration": 5,
    "start_time": "2023-12-23T08:34:22.794Z"
   },
   {
    "duration": 4,
    "start_time": "2023-12-23T08:34:22.801Z"
   },
   {
    "duration": 7,
    "start_time": "2023-12-23T08:34:22.814Z"
   },
   {
    "duration": 5,
    "start_time": "2023-12-23T08:34:22.823Z"
   },
   {
    "duration": 6,
    "start_time": "2023-12-23T08:34:22.829Z"
   },
   {
    "duration": 12,
    "start_time": "2023-12-23T08:34:22.837Z"
   },
   {
    "duration": 5,
    "start_time": "2023-12-23T08:34:22.859Z"
   },
   {
    "duration": 11,
    "start_time": "2023-12-23T08:34:22.865Z"
   },
   {
    "duration": 38,
    "start_time": "2023-12-23T08:34:22.877Z"
   },
   {
    "duration": 5,
    "start_time": "2023-12-23T08:34:22.917Z"
   },
   {
    "duration": 5,
    "start_time": "2023-12-23T08:34:22.923Z"
   },
   {
    "duration": 9,
    "start_time": "2023-12-23T08:34:22.929Z"
   },
   {
    "duration": 11,
    "start_time": "2023-12-23T08:34:22.940Z"
   },
   {
    "duration": 23,
    "start_time": "2023-12-23T08:34:22.952Z"
   },
   {
    "duration": 3,
    "start_time": "2023-12-23T08:34:22.977Z"
   },
   {
    "duration": 37,
    "start_time": "2023-12-23T08:34:22.981Z"
   },
   {
    "duration": 17,
    "start_time": "2023-12-23T08:34:23.020Z"
   },
   {
    "duration": 14,
    "start_time": "2023-12-23T08:34:23.039Z"
   },
   {
    "duration": 20,
    "start_time": "2023-12-23T08:34:23.055Z"
   },
   {
    "duration": 7,
    "start_time": "2023-12-23T08:34:23.077Z"
   },
   {
    "duration": 6,
    "start_time": "2023-12-23T08:34:23.086Z"
   },
   {
    "duration": 25,
    "start_time": "2023-12-23T08:34:23.093Z"
   },
   {
    "duration": 26,
    "start_time": "2023-12-23T08:34:23.119Z"
   },
   {
    "duration": 150,
    "start_time": "2023-12-23T08:34:23.146Z"
   },
   {
    "duration": 151,
    "start_time": "2023-12-23T08:34:23.297Z"
   },
   {
    "duration": 5,
    "start_time": "2023-12-23T08:34:23.450Z"
   },
   {
    "duration": 103,
    "start_time": "2023-12-23T08:34:23.456Z"
   },
   {
    "duration": 126,
    "start_time": "2023-12-23T08:34:23.560Z"
   },
   {
    "duration": 170,
    "start_time": "2023-12-23T08:34:23.688Z"
   },
   {
    "duration": 113,
    "start_time": "2023-12-23T08:34:23.862Z"
   },
   {
    "duration": 207,
    "start_time": "2023-12-23T08:34:23.976Z"
   },
   {
    "duration": 12,
    "start_time": "2023-12-23T08:34:24.185Z"
   },
   {
    "duration": 176,
    "start_time": "2023-12-23T08:34:24.199Z"
   },
   {
    "duration": 200,
    "start_time": "2023-12-23T08:34:24.376Z"
   },
   {
    "duration": 10,
    "start_time": "2023-12-23T08:34:24.578Z"
   },
   {
    "duration": 34,
    "start_time": "2023-12-23T08:34:24.589Z"
   },
   {
    "duration": 21,
    "start_time": "2023-12-23T08:34:24.625Z"
   },
   {
    "duration": 196,
    "start_time": "2023-12-23T08:34:24.648Z"
   },
   {
    "duration": 170,
    "start_time": "2023-12-23T08:34:24.845Z"
   },
   {
    "duration": 20,
    "start_time": "2023-12-23T08:34:25.016Z"
   },
   {
    "duration": 186,
    "start_time": "2023-12-23T08:34:25.037Z"
   },
   {
    "duration": 176,
    "start_time": "2023-12-23T08:34:25.224Z"
   },
   {
    "duration": 845,
    "start_time": "2023-12-23T08:34:25.402Z"
   },
   {
    "duration": 4,
    "start_time": "2023-12-23T08:34:26.248Z"
   },
   {
    "duration": 6,
    "start_time": "2023-12-23T08:34:26.254Z"
   },
   {
    "duration": 12,
    "start_time": "2023-12-23T08:34:26.262Z"
   },
   {
    "duration": 10,
    "start_time": "2023-12-23T08:34:26.276Z"
   },
   {
    "duration": 28,
    "start_time": "2023-12-23T08:34:26.288Z"
   },
   {
    "duration": 136,
    "start_time": "2023-12-23T08:34:26.318Z"
   },
   {
    "duration": 7,
    "start_time": "2023-12-23T08:34:26.456Z"
   },
   {
    "duration": 14,
    "start_time": "2023-12-23T08:34:26.464Z"
   },
   {
    "duration": 6,
    "start_time": "2023-12-23T08:34:26.479Z"
   },
   {
    "duration": 836,
    "start_time": "2023-12-23T08:34:26.487Z"
   },
   {
    "duration": 6,
    "start_time": "2023-12-23T08:34:27.325Z"
   },
   {
    "duration": 15,
    "start_time": "2023-12-23T08:34:27.332Z"
   },
   {
    "duration": 84,
    "start_time": "2023-12-23T08:34:27.348Z"
   },
   {
    "duration": 1206,
    "start_time": "2023-12-23T08:34:57.401Z"
   },
   {
    "duration": 68,
    "start_time": "2023-12-23T08:34:58.614Z"
   },
   {
    "duration": 12,
    "start_time": "2023-12-23T08:34:58.684Z"
   },
   {
    "duration": 8,
    "start_time": "2023-12-23T08:34:58.698Z"
   },
   {
    "duration": 7,
    "start_time": "2023-12-23T08:34:58.708Z"
   },
   {
    "duration": 6,
    "start_time": "2023-12-23T08:34:58.716Z"
   },
   {
    "duration": 8,
    "start_time": "2023-12-23T08:34:58.723Z"
   },
   {
    "duration": 12,
    "start_time": "2023-12-23T08:34:58.732Z"
   },
   {
    "duration": 7,
    "start_time": "2023-12-23T08:34:58.746Z"
   },
   {
    "duration": 9,
    "start_time": "2023-12-23T08:34:58.754Z"
   },
   {
    "duration": 7,
    "start_time": "2023-12-23T08:34:58.764Z"
   },
   {
    "duration": 4,
    "start_time": "2023-12-23T08:34:58.772Z"
   },
   {
    "duration": 5,
    "start_time": "2023-12-23T08:34:58.777Z"
   },
   {
    "duration": 32,
    "start_time": "2023-12-23T08:34:58.783Z"
   },
   {
    "duration": 5,
    "start_time": "2023-12-23T08:34:58.817Z"
   },
   {
    "duration": 6,
    "start_time": "2023-12-23T08:34:58.823Z"
   },
   {
    "duration": 9,
    "start_time": "2023-12-23T08:34:58.831Z"
   },
   {
    "duration": 5,
    "start_time": "2023-12-23T08:34:58.841Z"
   },
   {
    "duration": 12,
    "start_time": "2023-12-23T08:34:58.847Z"
   },
   {
    "duration": 19,
    "start_time": "2023-12-23T08:34:58.861Z"
   },
   {
    "duration": 37,
    "start_time": "2023-12-23T08:34:58.881Z"
   },
   {
    "duration": 13,
    "start_time": "2023-12-23T08:34:58.919Z"
   },
   {
    "duration": 10,
    "start_time": "2023-12-23T08:34:58.933Z"
   },
   {
    "duration": 10,
    "start_time": "2023-12-23T08:34:58.944Z"
   },
   {
    "duration": 20,
    "start_time": "2023-12-23T08:34:58.956Z"
   },
   {
    "duration": 4,
    "start_time": "2023-12-23T08:34:58.977Z"
   },
   {
    "duration": 31,
    "start_time": "2023-12-23T08:34:58.984Z"
   },
   {
    "duration": 9,
    "start_time": "2023-12-23T08:34:59.016Z"
   },
   {
    "duration": 10,
    "start_time": "2023-12-23T08:34:59.027Z"
   },
   {
    "duration": 16,
    "start_time": "2023-12-23T08:34:59.038Z"
   },
   {
    "duration": 8,
    "start_time": "2023-12-23T08:34:59.055Z"
   },
   {
    "duration": 19,
    "start_time": "2023-12-23T08:34:59.064Z"
   },
   {
    "duration": 11,
    "start_time": "2023-12-23T08:34:59.084Z"
   },
   {
    "duration": 19,
    "start_time": "2023-12-23T08:34:59.096Z"
   },
   {
    "duration": 159,
    "start_time": "2023-12-23T08:34:59.116Z"
   },
   {
    "duration": 148,
    "start_time": "2023-12-23T08:34:59.276Z"
   },
   {
    "duration": 5,
    "start_time": "2023-12-23T08:34:59.426Z"
   },
   {
    "duration": 103,
    "start_time": "2023-12-23T08:34:59.432Z"
   },
   {
    "duration": 130,
    "start_time": "2023-12-23T08:34:59.537Z"
   },
   {
    "duration": 165,
    "start_time": "2023-12-23T08:34:59.668Z"
   },
   {
    "duration": 107,
    "start_time": "2023-12-23T08:34:59.835Z"
   },
   {
    "duration": 199,
    "start_time": "2023-12-23T08:34:59.944Z"
   },
   {
    "duration": 13,
    "start_time": "2023-12-23T08:35:00.144Z"
   },
   {
    "duration": 180,
    "start_time": "2023-12-23T08:35:00.159Z"
   },
   {
    "duration": 217,
    "start_time": "2023-12-23T08:35:00.341Z"
   },
   {
    "duration": 10,
    "start_time": "2023-12-23T08:35:00.560Z"
   },
   {
    "duration": 44,
    "start_time": "2023-12-23T08:35:00.572Z"
   },
   {
    "duration": 28,
    "start_time": "2023-12-23T08:35:00.618Z"
   },
   {
    "duration": 246,
    "start_time": "2023-12-23T08:35:00.647Z"
   },
   {
    "duration": 172,
    "start_time": "2023-12-23T08:35:00.895Z"
   },
   {
    "duration": 19,
    "start_time": "2023-12-23T08:35:01.069Z"
   },
   {
    "duration": 204,
    "start_time": "2023-12-23T08:35:01.090Z"
   },
   {
    "duration": 166,
    "start_time": "2023-12-23T08:35:01.296Z"
   },
   {
    "duration": 859,
    "start_time": "2023-12-23T08:35:01.464Z"
   },
   {
    "duration": 3,
    "start_time": "2023-12-23T08:35:02.325Z"
   },
   {
    "duration": 65,
    "start_time": "2023-12-23T08:35:02.330Z"
   },
   {
    "duration": 27,
    "start_time": "2023-12-23T08:35:02.397Z"
   },
   {
    "duration": 12,
    "start_time": "2023-12-23T08:35:02.426Z"
   },
   {
    "duration": 30,
    "start_time": "2023-12-23T08:35:02.439Z"
   },
   {
    "duration": 177,
    "start_time": "2023-12-23T08:35:02.470Z"
   },
   {
    "duration": 7,
    "start_time": "2023-12-23T08:35:02.649Z"
   },
   {
    "duration": 13,
    "start_time": "2023-12-23T08:35:02.658Z"
   },
   {
    "duration": 5,
    "start_time": "2023-12-23T08:35:02.673Z"
   },
   {
    "duration": 817,
    "start_time": "2023-12-23T08:35:02.679Z"
   },
   {
    "duration": 5,
    "start_time": "2023-12-23T08:35:03.498Z"
   },
   {
    "duration": 34,
    "start_time": "2023-12-23T08:35:03.504Z"
   },
   {
    "duration": 86,
    "start_time": "2023-12-23T08:35:03.539Z"
   },
   {
    "duration": 1259,
    "start_time": "2023-12-23T08:36:22.535Z"
   },
   {
    "duration": 71,
    "start_time": "2023-12-23T08:36:23.796Z"
   },
   {
    "duration": 12,
    "start_time": "2023-12-23T08:36:23.868Z"
   },
   {
    "duration": 18,
    "start_time": "2023-12-23T08:36:23.883Z"
   },
   {
    "duration": 10,
    "start_time": "2023-12-23T08:36:23.904Z"
   },
   {
    "duration": 7,
    "start_time": "2023-12-23T08:36:23.915Z"
   },
   {
    "duration": 30,
    "start_time": "2023-12-23T08:36:23.924Z"
   },
   {
    "duration": 5,
    "start_time": "2023-12-23T08:36:23.955Z"
   },
   {
    "duration": 7,
    "start_time": "2023-12-23T08:36:23.961Z"
   },
   {
    "duration": 8,
    "start_time": "2023-12-23T08:36:23.969Z"
   },
   {
    "duration": 10,
    "start_time": "2023-12-23T08:36:23.979Z"
   },
   {
    "duration": 8,
    "start_time": "2023-12-23T08:36:23.990Z"
   },
   {
    "duration": 20,
    "start_time": "2023-12-23T08:36:24.000Z"
   },
   {
    "duration": 10,
    "start_time": "2023-12-23T08:36:24.022Z"
   },
   {
    "duration": 5,
    "start_time": "2023-12-23T08:36:24.033Z"
   },
   {
    "duration": 6,
    "start_time": "2023-12-23T08:36:24.039Z"
   },
   {
    "duration": 7,
    "start_time": "2023-12-23T08:36:24.046Z"
   },
   {
    "duration": 4,
    "start_time": "2023-12-23T08:36:24.055Z"
   },
   {
    "duration": 12,
    "start_time": "2023-12-23T08:36:24.060Z"
   },
   {
    "duration": 17,
    "start_time": "2023-12-23T08:36:24.073Z"
   },
   {
    "duration": 5,
    "start_time": "2023-12-23T08:36:24.115Z"
   },
   {
    "duration": 5,
    "start_time": "2023-12-23T08:36:24.121Z"
   },
   {
    "duration": 8,
    "start_time": "2023-12-23T08:36:24.128Z"
   },
   {
    "duration": 13,
    "start_time": "2023-12-23T08:36:24.138Z"
   },
   {
    "duration": 19,
    "start_time": "2023-12-23T08:36:24.153Z"
   },
   {
    "duration": 14,
    "start_time": "2023-12-23T08:36:24.174Z"
   },
   {
    "duration": 27,
    "start_time": "2023-12-23T08:36:24.189Z"
   },
   {
    "duration": 8,
    "start_time": "2023-12-23T08:36:24.218Z"
   },
   {
    "duration": 17,
    "start_time": "2023-12-23T08:36:24.228Z"
   },
   {
    "duration": 21,
    "start_time": "2023-12-23T08:36:24.246Z"
   },
   {
    "duration": 19,
    "start_time": "2023-12-23T08:36:24.269Z"
   },
   {
    "duration": 6,
    "start_time": "2023-12-23T08:36:24.290Z"
   },
   {
    "duration": 8,
    "start_time": "2023-12-23T08:36:24.298Z"
   },
   {
    "duration": 12,
    "start_time": "2023-12-23T08:36:24.307Z"
   },
   {
    "duration": 159,
    "start_time": "2023-12-23T08:36:24.320Z"
   },
   {
    "duration": 149,
    "start_time": "2023-12-23T08:36:24.480Z"
   },
   {
    "duration": 6,
    "start_time": "2023-12-23T08:36:24.630Z"
   },
   {
    "duration": 109,
    "start_time": "2023-12-23T08:36:24.638Z"
   },
   {
    "duration": 132,
    "start_time": "2023-12-23T08:36:24.749Z"
   },
   {
    "duration": 165,
    "start_time": "2023-12-23T08:36:24.883Z"
   },
   {
    "duration": 110,
    "start_time": "2023-12-23T08:36:25.052Z"
   },
   {
    "duration": 200,
    "start_time": "2023-12-23T08:36:25.163Z"
   },
   {
    "duration": 14,
    "start_time": "2023-12-23T08:36:25.364Z"
   },
   {
    "duration": 169,
    "start_time": "2023-12-23T08:36:25.380Z"
   },
   {
    "duration": 202,
    "start_time": "2023-12-23T08:36:25.551Z"
   },
   {
    "duration": 11,
    "start_time": "2023-12-23T08:36:25.755Z"
   },
   {
    "duration": 40,
    "start_time": "2023-12-23T08:36:25.768Z"
   },
   {
    "duration": 25,
    "start_time": "2023-12-23T08:36:25.814Z"
   },
   {
    "duration": 207,
    "start_time": "2023-12-23T08:36:25.841Z"
   },
   {
    "duration": 179,
    "start_time": "2023-12-23T08:36:26.050Z"
   },
   {
    "duration": 19,
    "start_time": "2023-12-23T08:36:26.231Z"
   },
   {
    "duration": 197,
    "start_time": "2023-12-23T08:36:26.251Z"
   },
   {
    "duration": 170,
    "start_time": "2023-12-23T08:36:26.450Z"
   },
   {
    "duration": 850,
    "start_time": "2023-12-23T08:36:26.622Z"
   },
   {
    "duration": 3,
    "start_time": "2023-12-23T08:36:27.473Z"
   },
   {
    "duration": 7,
    "start_time": "2023-12-23T08:36:27.478Z"
   },
   {
    "duration": 17,
    "start_time": "2023-12-23T08:36:27.486Z"
   },
   {
    "duration": 18,
    "start_time": "2023-12-23T08:36:27.505Z"
   },
   {
    "duration": 3,
    "start_time": "2023-12-23T08:36:27.525Z"
   },
   {
    "duration": 148,
    "start_time": "2023-12-23T08:36:27.529Z"
   },
   {
    "duration": 6,
    "start_time": "2023-12-23T08:36:27.679Z"
   },
   {
    "duration": 11,
    "start_time": "2023-12-23T08:36:27.687Z"
   },
   {
    "duration": 18,
    "start_time": "2023-12-23T08:36:27.700Z"
   },
   {
    "duration": 862,
    "start_time": "2023-12-23T08:36:27.720Z"
   },
   {
    "duration": 6,
    "start_time": "2023-12-23T08:36:28.583Z"
   },
   {
    "duration": 16,
    "start_time": "2023-12-23T08:36:28.590Z"
   },
   {
    "duration": 68,
    "start_time": "2023-12-23T08:36:28.615Z"
   },
   {
    "duration": 7,
    "start_time": "2023-12-23T08:44:22.757Z"
   },
   {
    "duration": 173,
    "start_time": "2023-12-23T08:54:17.047Z"
   },
   {
    "duration": 174,
    "start_time": "2023-12-23T08:54:28.160Z"
   },
   {
    "duration": 160,
    "start_time": "2023-12-23T08:54:33.848Z"
   },
   {
    "duration": 172,
    "start_time": "2023-12-23T08:54:39.904Z"
   },
   {
    "duration": 193,
    "start_time": "2023-12-23T08:55:53.625Z"
   },
   {
    "duration": 112,
    "start_time": "2023-12-23T09:02:21.316Z"
   },
   {
    "duration": 195,
    "start_time": "2023-12-23T09:02:47.842Z"
   },
   {
    "duration": 23,
    "start_time": "2023-12-23T09:02:54.841Z"
   },
   {
    "duration": 13,
    "start_time": "2023-12-23T10:20:09.484Z"
   },
   {
    "duration": 9,
    "start_time": "2023-12-23T10:20:21.362Z"
   },
   {
    "duration": 7,
    "start_time": "2023-12-23T10:20:27.028Z"
   },
   {
    "duration": 15,
    "start_time": "2023-12-23T10:20:29.040Z"
   },
   {
    "duration": 11,
    "start_time": "2023-12-23T10:20:50.059Z"
   },
   {
    "duration": 12,
    "start_time": "2023-12-23T10:21:03.531Z"
   },
   {
    "duration": 13,
    "start_time": "2023-12-23T10:21:42.211Z"
   },
   {
    "duration": 14,
    "start_time": "2023-12-23T10:22:22.043Z"
   },
   {
    "duration": 19,
    "start_time": "2023-12-23T10:23:45.455Z"
   },
   {
    "duration": 23,
    "start_time": "2023-12-23T10:24:34.444Z"
   },
   {
    "duration": 306,
    "start_time": "2023-12-23T10:24:43.379Z"
   },
   {
    "duration": 11,
    "start_time": "2023-12-23T10:25:14.573Z"
   },
   {
    "duration": 5,
    "start_time": "2023-12-23T10:25:18.284Z"
   },
   {
    "duration": 9,
    "start_time": "2023-12-23T10:25:38.596Z"
   },
   {
    "duration": 110,
    "start_time": "2023-12-23T10:26:27.348Z"
   },
   {
    "duration": 112,
    "start_time": "2023-12-23T10:26:44.124Z"
   },
   {
    "duration": 109,
    "start_time": "2023-12-23T10:26:59.676Z"
   },
   {
    "duration": 192,
    "start_time": "2023-12-23T10:27:13.949Z"
   },
   {
    "duration": 9,
    "start_time": "2023-12-23T10:27:24.836Z"
   },
   {
    "duration": 194,
    "start_time": "2023-12-23T10:28:02.501Z"
   },
   {
    "duration": 326,
    "start_time": "2023-12-23T10:28:22.517Z"
   },
   {
    "duration": 520,
    "start_time": "2023-12-23T10:28:29.244Z"
   },
   {
    "duration": 15,
    "start_time": "2023-12-23T10:30:39.261Z"
   },
   {
    "duration": 14,
    "start_time": "2023-12-23T10:30:40.585Z"
   },
   {
    "duration": 5,
    "start_time": "2023-12-23T10:30:41.301Z"
   },
   {
    "duration": 558,
    "start_time": "2023-12-23T10:30:42.572Z"
   },
   {
    "duration": 15,
    "start_time": "2023-12-23T10:32:55.117Z"
   },
   {
    "duration": 18,
    "start_time": "2023-12-23T10:32:56.069Z"
   },
   {
    "duration": 28,
    "start_time": "2023-12-23T10:33:05.599Z"
   },
   {
    "duration": 21,
    "start_time": "2023-12-23T10:33:22.944Z"
   },
   {
    "duration": 12,
    "start_time": "2023-12-23T10:33:42.045Z"
   },
   {
    "duration": 7,
    "start_time": "2023-12-23T10:34:34.384Z"
   },
   {
    "duration": 14,
    "start_time": "2023-12-23T10:34:50.030Z"
   },
   {
    "duration": 12,
    "start_time": "2023-12-23T10:34:51.239Z"
   },
   {
    "duration": 5,
    "start_time": "2023-12-23T10:34:51.670Z"
   },
   {
    "duration": 8,
    "start_time": "2023-12-23T10:34:52.126Z"
   },
   {
    "duration": 5,
    "start_time": "2023-12-23T10:35:40.766Z"
   },
   {
    "duration": 137,
    "start_time": "2023-12-23T10:35:41.383Z"
   },
   {
    "duration": 194,
    "start_time": "2023-12-23T10:41:54.871Z"
   },
   {
    "duration": 186,
    "start_time": "2023-12-23T10:42:35.120Z"
   },
   {
    "duration": 188,
    "start_time": "2023-12-23T10:42:43.640Z"
   },
   {
    "duration": 11,
    "start_time": "2023-12-23T10:44:13.168Z"
   },
   {
    "duration": 33,
    "start_time": "2023-12-23T10:44:24.336Z"
   },
   {
    "duration": 32,
    "start_time": "2023-12-23T10:45:05.528Z"
   },
   {
    "duration": 8,
    "start_time": "2023-12-23T10:55:30.293Z"
   },
   {
    "duration": 195,
    "start_time": "2023-12-23T11:37:47.452Z"
   },
   {
    "duration": 163,
    "start_time": "2023-12-23T11:37:59.156Z"
   },
   {
    "duration": 1320,
    "start_time": "2023-12-23T11:38:07.743Z"
   },
   {
    "duration": 74,
    "start_time": "2023-12-23T11:38:09.065Z"
   },
   {
    "duration": 12,
    "start_time": "2023-12-23T11:38:09.140Z"
   },
   {
    "duration": 8,
    "start_time": "2023-12-23T11:38:09.154Z"
   },
   {
    "duration": 20,
    "start_time": "2023-12-23T11:38:09.163Z"
   },
   {
    "duration": 21,
    "start_time": "2023-12-23T11:38:09.184Z"
   },
   {
    "duration": 20,
    "start_time": "2023-12-23T11:38:09.207Z"
   },
   {
    "duration": 7,
    "start_time": "2023-12-23T11:38:09.230Z"
   },
   {
    "duration": 10,
    "start_time": "2023-12-23T11:38:09.239Z"
   },
   {
    "duration": 14,
    "start_time": "2023-12-23T11:38:09.252Z"
   },
   {
    "duration": 21,
    "start_time": "2023-12-23T11:38:09.267Z"
   },
   {
    "duration": 4,
    "start_time": "2023-12-23T11:38:09.289Z"
   },
   {
    "duration": 4,
    "start_time": "2023-12-23T11:38:09.295Z"
   },
   {
    "duration": 13,
    "start_time": "2023-12-23T11:38:09.300Z"
   },
   {
    "duration": 8,
    "start_time": "2023-12-23T11:38:09.315Z"
   },
   {
    "duration": 10,
    "start_time": "2023-12-23T11:38:09.325Z"
   },
   {
    "duration": 9,
    "start_time": "2023-12-23T11:38:09.336Z"
   },
   {
    "duration": 5,
    "start_time": "2023-12-23T11:38:09.346Z"
   },
   {
    "duration": 11,
    "start_time": "2023-12-23T11:38:09.352Z"
   },
   {
    "duration": 12,
    "start_time": "2023-12-23T11:38:09.364Z"
   },
   {
    "duration": 43,
    "start_time": "2023-12-23T11:38:09.378Z"
   },
   {
    "duration": 12,
    "start_time": "2023-12-23T11:38:09.424Z"
   },
   {
    "duration": 40,
    "start_time": "2023-12-23T11:38:09.438Z"
   },
   {
    "duration": 21,
    "start_time": "2023-12-23T11:38:09.479Z"
   },
   {
    "duration": 21,
    "start_time": "2023-12-23T11:38:09.502Z"
   },
   {
    "duration": 4,
    "start_time": "2023-12-23T11:38:09.524Z"
   },
   {
    "duration": 76,
    "start_time": "2023-12-23T11:38:09.530Z"
   },
   {
    "duration": 18,
    "start_time": "2023-12-23T11:38:09.610Z"
   },
   {
    "duration": 19,
    "start_time": "2023-12-23T11:38:09.630Z"
   },
   {
    "duration": 21,
    "start_time": "2023-12-23T11:38:09.650Z"
   },
   {
    "duration": 11,
    "start_time": "2023-12-23T11:38:09.672Z"
   },
   {
    "duration": 21,
    "start_time": "2023-12-23T11:38:09.684Z"
   },
   {
    "duration": 21,
    "start_time": "2023-12-23T11:38:09.707Z"
   },
   {
    "duration": 13,
    "start_time": "2023-12-23T11:38:09.730Z"
   },
   {
    "duration": 164,
    "start_time": "2023-12-23T11:38:09.745Z"
   },
   {
    "duration": 166,
    "start_time": "2023-12-23T11:38:09.910Z"
   },
   {
    "duration": 6,
    "start_time": "2023-12-23T11:38:10.077Z"
   },
   {
    "duration": 115,
    "start_time": "2023-12-23T11:38:10.084Z"
   },
   {
    "duration": 155,
    "start_time": "2023-12-23T11:38:10.200Z"
   },
   {
    "duration": 192,
    "start_time": "2023-12-23T11:38:10.356Z"
   },
   {
    "duration": 121,
    "start_time": "2023-12-23T11:38:10.549Z"
   },
   {
    "duration": 226,
    "start_time": "2023-12-23T11:38:10.671Z"
   },
   {
    "duration": 21,
    "start_time": "2023-12-23T11:38:10.899Z"
   },
   {
    "duration": 198,
    "start_time": "2023-12-23T11:38:10.922Z"
   },
   {
    "duration": 201,
    "start_time": "2023-12-23T11:38:11.122Z"
   },
   {
    "duration": 25,
    "start_time": "2023-12-23T11:38:11.324Z"
   },
   {
    "duration": 13,
    "start_time": "2023-12-23T11:38:11.350Z"
   },
   {
    "duration": 24,
    "start_time": "2023-12-23T11:38:11.364Z"
   },
   {
    "duration": 47,
    "start_time": "2023-12-23T11:38:11.389Z"
   },
   {
    "duration": 188,
    "start_time": "2023-12-23T11:38:11.438Z"
   },
   {
    "duration": 193,
    "start_time": "2023-12-23T11:38:11.628Z"
   },
   {
    "duration": 204,
    "start_time": "2023-12-23T11:38:11.823Z"
   },
   {
    "duration": 20,
    "start_time": "2023-12-23T11:38:12.030Z"
   },
   {
    "duration": 28,
    "start_time": "2023-12-23T11:38:12.051Z"
   },
   {
    "duration": 242,
    "start_time": "2023-12-23T11:38:12.080Z"
   },
   {
    "duration": 220,
    "start_time": "2023-12-23T11:38:12.325Z"
   },
   {
    "duration": 183,
    "start_time": "2023-12-23T11:38:12.547Z"
   },
   {
    "duration": 883,
    "start_time": "2023-12-23T11:38:12.732Z"
   },
   {
    "duration": 5,
    "start_time": "2023-12-23T11:38:13.618Z"
   },
   {
    "duration": 10,
    "start_time": "2023-12-23T11:38:13.625Z"
   },
   {
    "duration": 12,
    "start_time": "2023-12-23T11:38:13.637Z"
   },
   {
    "duration": 10,
    "start_time": "2023-12-23T11:38:13.650Z"
   },
   {
    "duration": 3,
    "start_time": "2023-12-23T11:38:13.661Z"
   },
   {
    "duration": 159,
    "start_time": "2023-12-23T11:38:13.666Z"
   },
   {
    "duration": 10,
    "start_time": "2023-12-23T11:38:13.827Z"
   },
   {
    "duration": 26,
    "start_time": "2023-12-23T11:38:13.839Z"
   },
   {
    "duration": 10,
    "start_time": "2023-12-23T11:38:13.916Z"
   },
   {
    "duration": 1040,
    "start_time": "2023-12-23T11:38:13.928Z"
   },
   {
    "duration": 5,
    "start_time": "2023-12-23T11:38:14.969Z"
   },
   {
    "duration": 9,
    "start_time": "2023-12-23T11:38:14.975Z"
   },
   {
    "duration": 87,
    "start_time": "2023-12-23T11:38:14.985Z"
   },
   {
    "duration": 4,
    "start_time": "2023-12-23T11:41:35.182Z"
   },
   {
    "duration": 172,
    "start_time": "2023-12-23T11:41:35.999Z"
   },
   {
    "duration": 151,
    "start_time": "2023-12-23T11:42:24.822Z"
   },
   {
    "duration": 109,
    "start_time": "2023-12-23T11:42:48.157Z"
   },
   {
    "duration": 3,
    "start_time": "2023-12-23T11:45:33.127Z"
   },
   {
    "duration": 101,
    "start_time": "2023-12-23T11:46:12.349Z"
   },
   {
    "duration": 5,
    "start_time": "2023-12-23T11:46:18.014Z"
   },
   {
    "duration": 207,
    "start_time": "2023-12-23T11:46:18.469Z"
   },
   {
    "duration": 131,
    "start_time": "2023-12-23T11:46:18.869Z"
   },
   {
    "duration": 150,
    "start_time": "2023-12-23T11:46:31.232Z"
   },
   {
    "duration": 160,
    "start_time": "2023-12-23T11:46:32.397Z"
   },
   {
    "duration": 118,
    "start_time": "2023-12-23T11:46:52.485Z"
   },
   {
    "duration": 1195,
    "start_time": "2023-12-23T11:47:07.169Z"
   },
   {
    "duration": 71,
    "start_time": "2023-12-23T11:47:08.366Z"
   },
   {
    "duration": 13,
    "start_time": "2023-12-23T11:47:08.438Z"
   },
   {
    "duration": 21,
    "start_time": "2023-12-23T11:47:08.453Z"
   },
   {
    "duration": 18,
    "start_time": "2023-12-23T11:47:08.475Z"
   },
   {
    "duration": 31,
    "start_time": "2023-12-23T11:47:08.494Z"
   },
   {
    "duration": 7,
    "start_time": "2023-12-23T11:47:08.527Z"
   },
   {
    "duration": 10,
    "start_time": "2023-12-23T11:47:08.536Z"
   },
   {
    "duration": 12,
    "start_time": "2023-12-23T11:47:08.548Z"
   },
   {
    "duration": 4,
    "start_time": "2023-12-23T11:47:08.564Z"
   },
   {
    "duration": 20,
    "start_time": "2023-12-23T11:47:08.570Z"
   },
   {
    "duration": 7,
    "start_time": "2023-12-23T11:47:08.591Z"
   },
   {
    "duration": 16,
    "start_time": "2023-12-23T11:47:08.599Z"
   },
   {
    "duration": 9,
    "start_time": "2023-12-23T11:47:08.617Z"
   },
   {
    "duration": 6,
    "start_time": "2023-12-23T11:47:08.628Z"
   },
   {
    "duration": 13,
    "start_time": "2023-12-23T11:47:08.635Z"
   },
   {
    "duration": 8,
    "start_time": "2023-12-23T11:47:08.649Z"
   },
   {
    "duration": 5,
    "start_time": "2023-12-23T11:47:08.659Z"
   },
   {
    "duration": 15,
    "start_time": "2023-12-23T11:47:08.666Z"
   },
   {
    "duration": 41,
    "start_time": "2023-12-23T11:47:08.683Z"
   },
   {
    "duration": 5,
    "start_time": "2023-12-23T11:47:08.726Z"
   },
   {
    "duration": 8,
    "start_time": "2023-12-23T11:47:08.733Z"
   },
   {
    "duration": 10,
    "start_time": "2023-12-23T11:47:08.742Z"
   },
   {
    "duration": 10,
    "start_time": "2023-12-23T11:47:08.754Z"
   },
   {
    "duration": 55,
    "start_time": "2023-12-23T11:47:08.766Z"
   },
   {
    "duration": 5,
    "start_time": "2023-12-23T11:47:08.823Z"
   },
   {
    "duration": 20,
    "start_time": "2023-12-23T11:47:08.829Z"
   },
   {
    "duration": 10,
    "start_time": "2023-12-23T11:47:08.852Z"
   },
   {
    "duration": 18,
    "start_time": "2023-12-23T11:47:08.863Z"
   },
   {
    "duration": 16,
    "start_time": "2023-12-23T11:47:08.883Z"
   },
   {
    "duration": 14,
    "start_time": "2023-12-23T11:47:08.901Z"
   },
   {
    "duration": 5,
    "start_time": "2023-12-23T11:47:08.917Z"
   },
   {
    "duration": 6,
    "start_time": "2023-12-23T11:47:08.924Z"
   },
   {
    "duration": 9,
    "start_time": "2023-12-23T11:47:08.931Z"
   },
   {
    "duration": 2,
    "start_time": "2023-12-23T11:47:08.942Z"
   },
   {
    "duration": 4,
    "start_time": "2023-12-23T11:47:08.946Z"
   },
   {
    "duration": 191,
    "start_time": "2023-12-23T11:47:08.951Z"
   },
   {
    "duration": 146,
    "start_time": "2023-12-23T11:47:09.144Z"
   },
   {
    "duration": 5,
    "start_time": "2023-12-23T11:47:09.292Z"
   },
   {
    "duration": 107,
    "start_time": "2023-12-23T11:47:09.299Z"
   },
   {
    "duration": 135,
    "start_time": "2023-12-23T11:47:09.408Z"
   },
   {
    "duration": 169,
    "start_time": "2023-12-23T11:47:09.544Z"
   },
   {
    "duration": 107,
    "start_time": "2023-12-23T11:47:09.715Z"
   },
   {
    "duration": 193,
    "start_time": "2023-12-23T11:47:09.823Z"
   },
   {
    "duration": 12,
    "start_time": "2023-12-23T11:47:10.018Z"
   },
   {
    "duration": 175,
    "start_time": "2023-12-23T11:47:10.031Z"
   },
   {
    "duration": 192,
    "start_time": "2023-12-23T11:47:10.208Z"
   },
   {
    "duration": 32,
    "start_time": "2023-12-23T11:47:10.401Z"
   },
   {
    "duration": 12,
    "start_time": "2023-12-23T11:47:10.434Z"
   },
   {
    "duration": 15,
    "start_time": "2023-12-23T11:47:10.448Z"
   },
   {
    "duration": 51,
    "start_time": "2023-12-23T11:47:10.464Z"
   },
   {
    "duration": 183,
    "start_time": "2023-12-23T11:47:10.517Z"
   },
   {
    "duration": 185,
    "start_time": "2023-12-23T11:47:10.701Z"
   },
   {
    "duration": 175,
    "start_time": "2023-12-23T11:47:10.887Z"
   },
   {
    "duration": 13,
    "start_time": "2023-12-23T11:47:11.064Z"
   },
   {
    "duration": 48,
    "start_time": "2023-12-23T11:47:11.078Z"
   },
   {
    "duration": 191,
    "start_time": "2023-12-23T11:47:11.127Z"
   },
   {
    "duration": 179,
    "start_time": "2023-12-23T11:47:11.319Z"
   },
   {
    "duration": 193,
    "start_time": "2023-12-23T11:47:11.500Z"
   },
   {
    "duration": 931,
    "start_time": "2023-12-23T11:47:11.697Z"
   },
   {
    "duration": 4,
    "start_time": "2023-12-23T11:47:12.629Z"
   },
   {
    "duration": 5,
    "start_time": "2023-12-23T11:47:12.635Z"
   },
   {
    "duration": 14,
    "start_time": "2023-12-23T11:47:12.642Z"
   },
   {
    "duration": 11,
    "start_time": "2023-12-23T11:47:12.658Z"
   },
   {
    "duration": 3,
    "start_time": "2023-12-23T11:47:12.670Z"
   },
   {
    "duration": 173,
    "start_time": "2023-12-23T11:47:12.675Z"
   },
   {
    "duration": 6,
    "start_time": "2023-12-23T11:47:12.850Z"
   },
   {
    "duration": 16,
    "start_time": "2023-12-23T11:47:12.858Z"
   },
   {
    "duration": 5,
    "start_time": "2023-12-23T11:47:12.875Z"
   },
   {
    "duration": 803,
    "start_time": "2023-12-23T11:47:12.881Z"
   },
   {
    "duration": 4,
    "start_time": "2023-12-23T11:47:13.686Z"
   },
   {
    "duration": 9,
    "start_time": "2023-12-23T11:47:13.692Z"
   },
   {
    "duration": 111,
    "start_time": "2023-12-23T11:47:13.715Z"
   },
   {
    "duration": 175,
    "start_time": "2023-12-23T11:49:24.462Z"
   },
   {
    "duration": 245,
    "start_time": "2023-12-23T11:49:33.663Z"
   },
   {
    "duration": 3,
    "start_time": "2023-12-23T11:53:26.911Z"
   },
   {
    "duration": 171,
    "start_time": "2023-12-23T11:53:27.863Z"
   },
   {
    "duration": 1260,
    "start_time": "2023-12-23T11:54:08.551Z"
   },
   {
    "duration": 1297,
    "start_time": "2023-12-23T11:54:52.988Z"
   },
   {
    "duration": 69,
    "start_time": "2023-12-23T11:54:54.287Z"
   },
   {
    "duration": 11,
    "start_time": "2023-12-23T11:54:54.358Z"
   },
   {
    "duration": 8,
    "start_time": "2023-12-23T11:54:54.372Z"
   },
   {
    "duration": 19,
    "start_time": "2023-12-23T11:54:54.381Z"
   },
   {
    "duration": 18,
    "start_time": "2023-12-23T11:54:54.402Z"
   },
   {
    "duration": 8,
    "start_time": "2023-12-23T11:54:54.421Z"
   },
   {
    "duration": 12,
    "start_time": "2023-12-23T11:54:54.430Z"
   },
   {
    "duration": 7,
    "start_time": "2023-12-23T11:54:54.443Z"
   },
   {
    "duration": 4,
    "start_time": "2023-12-23T11:54:54.453Z"
   },
   {
    "duration": 6,
    "start_time": "2023-12-23T11:54:54.458Z"
   },
   {
    "duration": 9,
    "start_time": "2023-12-23T11:54:54.466Z"
   },
   {
    "duration": 3,
    "start_time": "2023-12-23T11:54:54.477Z"
   },
   {
    "duration": 33,
    "start_time": "2023-12-23T11:54:54.482Z"
   },
   {
    "duration": 5,
    "start_time": "2023-12-23T11:54:54.516Z"
   },
   {
    "duration": 8,
    "start_time": "2023-12-23T11:54:54.522Z"
   },
   {
    "duration": 22,
    "start_time": "2023-12-23T11:54:54.531Z"
   },
   {
    "duration": 7,
    "start_time": "2023-12-23T11:54:54.554Z"
   },
   {
    "duration": 12,
    "start_time": "2023-12-23T11:54:54.563Z"
   },
   {
    "duration": 17,
    "start_time": "2023-12-23T11:54:54.576Z"
   },
   {
    "duration": 7,
    "start_time": "2023-12-23T11:54:54.614Z"
   },
   {
    "duration": 6,
    "start_time": "2023-12-23T11:54:54.624Z"
   },
   {
    "duration": 10,
    "start_time": "2023-12-23T11:54:54.632Z"
   },
   {
    "duration": 13,
    "start_time": "2023-12-23T11:54:54.643Z"
   },
   {
    "duration": 22,
    "start_time": "2023-12-23T11:54:54.657Z"
   },
   {
    "duration": 41,
    "start_time": "2023-12-23T11:54:54.680Z"
   },
   {
    "duration": 7,
    "start_time": "2023-12-23T11:54:54.723Z"
   },
   {
    "duration": 9,
    "start_time": "2023-12-23T11:54:54.734Z"
   },
   {
    "duration": 25,
    "start_time": "2023-12-23T11:54:54.744Z"
   },
   {
    "duration": 23,
    "start_time": "2023-12-23T11:54:54.770Z"
   },
   {
    "duration": 15,
    "start_time": "2023-12-23T11:54:54.794Z"
   },
   {
    "duration": 9,
    "start_time": "2023-12-23T11:54:54.815Z"
   },
   {
    "duration": 10,
    "start_time": "2023-12-23T11:54:54.826Z"
   },
   {
    "duration": 11,
    "start_time": "2023-12-23T11:54:54.838Z"
   },
   {
    "duration": 8,
    "start_time": "2023-12-23T11:54:54.850Z"
   },
   {
    "duration": 20,
    "start_time": "2023-12-23T11:54:54.860Z"
   },
   {
    "duration": 158,
    "start_time": "2023-12-23T11:54:54.882Z"
   },
   {
    "duration": 151,
    "start_time": "2023-12-23T11:54:55.041Z"
   },
   {
    "duration": 6,
    "start_time": "2023-12-23T11:54:55.193Z"
   },
   {
    "duration": 105,
    "start_time": "2023-12-23T11:54:55.201Z"
   },
   {
    "duration": 127,
    "start_time": "2023-12-23T11:54:55.308Z"
   },
   {
    "duration": 4,
    "start_time": "2023-12-23T11:54:55.437Z"
   },
   {
    "duration": 182,
    "start_time": "2023-12-23T11:54:55.443Z"
   },
   {
    "duration": 116,
    "start_time": "2023-12-23T11:54:55.627Z"
   },
   {
    "duration": 1246,
    "start_time": "2023-12-23T11:54:55.744Z"
   },
   {
    "duration": 0,
    "start_time": "2023-12-23T11:54:56.991Z"
   },
   {
    "duration": 0,
    "start_time": "2023-12-23T11:54:56.993Z"
   },
   {
    "duration": 0,
    "start_time": "2023-12-23T11:54:56.994Z"
   },
   {
    "duration": 0,
    "start_time": "2023-12-23T11:54:56.995Z"
   },
   {
    "duration": 0,
    "start_time": "2023-12-23T11:54:56.996Z"
   },
   {
    "duration": 0,
    "start_time": "2023-12-23T11:54:56.997Z"
   },
   {
    "duration": 0,
    "start_time": "2023-12-23T11:54:56.998Z"
   },
   {
    "duration": 0,
    "start_time": "2023-12-23T11:54:56.999Z"
   },
   {
    "duration": 0,
    "start_time": "2023-12-23T11:54:57.001Z"
   },
   {
    "duration": 0,
    "start_time": "2023-12-23T11:54:57.002Z"
   },
   {
    "duration": 0,
    "start_time": "2023-12-23T11:54:57.004Z"
   },
   {
    "duration": 0,
    "start_time": "2023-12-23T11:54:57.005Z"
   },
   {
    "duration": 0,
    "start_time": "2023-12-23T11:54:57.006Z"
   },
   {
    "duration": 0,
    "start_time": "2023-12-23T11:54:57.008Z"
   },
   {
    "duration": 0,
    "start_time": "2023-12-23T11:54:57.009Z"
   },
   {
    "duration": 0,
    "start_time": "2023-12-23T11:54:57.011Z"
   },
   {
    "duration": 0,
    "start_time": "2023-12-23T11:54:57.012Z"
   },
   {
    "duration": 0,
    "start_time": "2023-12-23T11:54:57.012Z"
   },
   {
    "duration": 0,
    "start_time": "2023-12-23T11:54:57.013Z"
   },
   {
    "duration": 0,
    "start_time": "2023-12-23T11:54:57.014Z"
   },
   {
    "duration": 0,
    "start_time": "2023-12-23T11:54:57.015Z"
   },
   {
    "duration": 0,
    "start_time": "2023-12-23T11:54:57.017Z"
   },
   {
    "duration": 0,
    "start_time": "2023-12-23T11:54:57.019Z"
   },
   {
    "duration": 0,
    "start_time": "2023-12-23T11:54:57.020Z"
   },
   {
    "duration": 0,
    "start_time": "2023-12-23T11:54:57.021Z"
   },
   {
    "duration": 0,
    "start_time": "2023-12-23T11:54:57.022Z"
   },
   {
    "duration": 0,
    "start_time": "2023-12-23T11:54:57.023Z"
   },
   {
    "duration": 0,
    "start_time": "2023-12-23T11:54:57.024Z"
   },
   {
    "duration": 0,
    "start_time": "2023-12-23T11:54:57.025Z"
   },
   {
    "duration": 20,
    "start_time": "2023-12-23T11:56:44.353Z"
   },
   {
    "duration": 21,
    "start_time": "2023-12-23T11:56:54.024Z"
   },
   {
    "duration": 3,
    "start_time": "2023-12-23T11:57:12.932Z"
   },
   {
    "duration": 166,
    "start_time": "2023-12-23T11:57:13.650Z"
   },
   {
    "duration": 174,
    "start_time": "2023-12-23T11:57:15.040Z"
   },
   {
    "duration": 178,
    "start_time": "2023-12-23T11:57:15.888Z"
   },
   {
    "duration": 195,
    "start_time": "2023-12-23T11:57:37.864Z"
   },
   {
    "duration": 1221,
    "start_time": "2023-12-23T11:57:50.874Z"
   },
   {
    "duration": 68,
    "start_time": "2023-12-23T11:57:52.097Z"
   },
   {
    "duration": 12,
    "start_time": "2023-12-23T11:57:52.166Z"
   },
   {
    "duration": 19,
    "start_time": "2023-12-23T11:57:52.180Z"
   },
   {
    "duration": 24,
    "start_time": "2023-12-23T11:57:52.200Z"
   },
   {
    "duration": 11,
    "start_time": "2023-12-23T11:57:52.225Z"
   },
   {
    "duration": 49,
    "start_time": "2023-12-23T11:57:52.237Z"
   },
   {
    "duration": 5,
    "start_time": "2023-12-23T11:57:52.287Z"
   },
   {
    "duration": 15,
    "start_time": "2023-12-23T11:57:52.294Z"
   },
   {
    "duration": 4,
    "start_time": "2023-12-23T11:57:52.312Z"
   },
   {
    "duration": 10,
    "start_time": "2023-12-23T11:57:52.317Z"
   },
   {
    "duration": 14,
    "start_time": "2023-12-23T11:57:52.328Z"
   },
   {
    "duration": 5,
    "start_time": "2023-12-23T11:57:52.343Z"
   },
   {
    "duration": 21,
    "start_time": "2023-12-23T11:57:52.350Z"
   },
   {
    "duration": 16,
    "start_time": "2023-12-23T11:57:52.372Z"
   },
   {
    "duration": 12,
    "start_time": "2023-12-23T11:57:52.390Z"
   },
   {
    "duration": 7,
    "start_time": "2023-12-23T11:57:52.403Z"
   },
   {
    "duration": 10,
    "start_time": "2023-12-23T11:57:52.412Z"
   },
   {
    "duration": 28,
    "start_time": "2023-12-23T11:57:52.424Z"
   },
   {
    "duration": 16,
    "start_time": "2023-12-23T11:57:52.454Z"
   },
   {
    "duration": 4,
    "start_time": "2023-12-23T11:57:52.472Z"
   },
   {
    "duration": 12,
    "start_time": "2023-12-23T11:57:52.477Z"
   },
   {
    "duration": 28,
    "start_time": "2023-12-23T11:57:52.490Z"
   },
   {
    "duration": 13,
    "start_time": "2023-12-23T11:57:52.519Z"
   },
   {
    "duration": 20,
    "start_time": "2023-12-23T11:57:52.534Z"
   },
   {
    "duration": 3,
    "start_time": "2023-12-23T11:57:52.556Z"
   },
   {
    "duration": 6,
    "start_time": "2023-12-23T11:57:52.560Z"
   },
   {
    "duration": 9,
    "start_time": "2023-12-23T11:57:52.570Z"
   },
   {
    "duration": 27,
    "start_time": "2023-12-23T11:57:52.580Z"
   },
   {
    "duration": 28,
    "start_time": "2023-12-23T11:57:52.608Z"
   },
   {
    "duration": 9,
    "start_time": "2023-12-23T11:57:52.638Z"
   },
   {
    "duration": 17,
    "start_time": "2023-12-23T11:57:52.648Z"
   },
   {
    "duration": 23,
    "start_time": "2023-12-23T11:57:52.666Z"
   },
   {
    "duration": 14,
    "start_time": "2023-12-23T11:57:52.690Z"
   },
   {
    "duration": 3,
    "start_time": "2023-12-23T11:57:52.706Z"
   },
   {
    "duration": 10,
    "start_time": "2023-12-23T11:57:52.711Z"
   },
   {
    "duration": 170,
    "start_time": "2023-12-23T11:57:52.723Z"
   },
   {
    "duration": 135,
    "start_time": "2023-12-23T11:57:52.895Z"
   },
   {
    "duration": 5,
    "start_time": "2023-12-23T11:57:53.032Z"
   },
   {
    "duration": 102,
    "start_time": "2023-12-23T11:57:53.038Z"
   },
   {
    "duration": 124,
    "start_time": "2023-12-23T11:57:53.142Z"
   },
   {
    "duration": 3,
    "start_time": "2023-12-23T11:57:53.268Z"
   },
   {
    "duration": 190,
    "start_time": "2023-12-23T11:57:53.272Z"
   },
   {
    "duration": 109,
    "start_time": "2023-12-23T11:57:53.464Z"
   },
   {
    "duration": 184,
    "start_time": "2023-12-23T11:57:53.574Z"
   },
   {
    "duration": 12,
    "start_time": "2023-12-23T11:57:53.760Z"
   },
   {
    "duration": 175,
    "start_time": "2023-12-23T11:57:53.773Z"
   },
   {
    "duration": 176,
    "start_time": "2023-12-23T11:57:53.950Z"
   },
   {
    "duration": 22,
    "start_time": "2023-12-23T11:57:54.128Z"
   },
   {
    "duration": 13,
    "start_time": "2023-12-23T11:57:54.151Z"
   },
   {
    "duration": 15,
    "start_time": "2023-12-23T11:57:54.165Z"
   },
   {
    "duration": 53,
    "start_time": "2023-12-23T11:57:54.182Z"
   },
   {
    "duration": 181,
    "start_time": "2023-12-23T11:57:54.237Z"
   },
   {
    "duration": 196,
    "start_time": "2023-12-23T11:57:54.419Z"
   },
   {
    "duration": 184,
    "start_time": "2023-12-23T11:57:54.616Z"
   },
   {
    "duration": 26,
    "start_time": "2023-12-23T11:57:54.802Z"
   },
   {
    "duration": 30,
    "start_time": "2023-12-23T11:57:54.830Z"
   },
   {
    "duration": 201,
    "start_time": "2023-12-23T11:57:54.861Z"
   },
   {
    "duration": 182,
    "start_time": "2023-12-23T11:57:55.064Z"
   },
   {
    "duration": 170,
    "start_time": "2023-12-23T11:57:55.248Z"
   },
   {
    "duration": 866,
    "start_time": "2023-12-23T11:57:55.420Z"
   },
   {
    "duration": 2,
    "start_time": "2023-12-23T11:57:56.288Z"
   },
   {
    "duration": 6,
    "start_time": "2023-12-23T11:57:56.292Z"
   },
   {
    "duration": 19,
    "start_time": "2023-12-23T11:57:56.299Z"
   },
   {
    "duration": 11,
    "start_time": "2023-12-23T11:57:56.319Z"
   },
   {
    "duration": 9,
    "start_time": "2023-12-23T11:57:56.331Z"
   },
   {
    "duration": 158,
    "start_time": "2023-12-23T11:57:56.341Z"
   },
   {
    "duration": 6,
    "start_time": "2023-12-23T11:57:56.501Z"
   },
   {
    "duration": 26,
    "start_time": "2023-12-23T11:57:56.514Z"
   },
   {
    "duration": 4,
    "start_time": "2023-12-23T11:57:56.542Z"
   },
   {
    "duration": 798,
    "start_time": "2023-12-23T11:57:56.547Z"
   },
   {
    "duration": 4,
    "start_time": "2023-12-23T11:57:57.347Z"
   },
   {
    "duration": 17,
    "start_time": "2023-12-23T11:57:57.353Z"
   },
   {
    "duration": 80,
    "start_time": "2023-12-23T11:57:57.371Z"
   },
   {
    "duration": 1202,
    "start_time": "2023-12-23T11:58:58.404Z"
   },
   {
    "duration": 1181,
    "start_time": "2023-12-23T11:59:14.119Z"
   },
   {
    "duration": 71,
    "start_time": "2023-12-23T11:59:15.302Z"
   },
   {
    "duration": 12,
    "start_time": "2023-12-23T11:59:15.375Z"
   },
   {
    "duration": 10,
    "start_time": "2023-12-23T11:59:15.388Z"
   },
   {
    "duration": 15,
    "start_time": "2023-12-23T11:59:15.400Z"
   },
   {
    "duration": 5,
    "start_time": "2023-12-23T11:59:15.417Z"
   },
   {
    "duration": 11,
    "start_time": "2023-12-23T11:59:15.424Z"
   },
   {
    "duration": 15,
    "start_time": "2023-12-23T11:59:15.436Z"
   },
   {
    "duration": 10,
    "start_time": "2023-12-23T11:59:15.452Z"
   },
   {
    "duration": 13,
    "start_time": "2023-12-23T11:59:15.464Z"
   },
   {
    "duration": 24,
    "start_time": "2023-12-23T11:59:15.479Z"
   },
   {
    "duration": 7,
    "start_time": "2023-12-23T11:59:15.504Z"
   },
   {
    "duration": 4,
    "start_time": "2023-12-23T11:59:15.512Z"
   },
   {
    "duration": 6,
    "start_time": "2023-12-23T11:59:15.519Z"
   },
   {
    "duration": 4,
    "start_time": "2023-12-23T11:59:15.527Z"
   },
   {
    "duration": 6,
    "start_time": "2023-12-23T11:59:15.533Z"
   },
   {
    "duration": 20,
    "start_time": "2023-12-23T11:59:15.540Z"
   },
   {
    "duration": 5,
    "start_time": "2023-12-23T11:59:15.562Z"
   },
   {
    "duration": 18,
    "start_time": "2023-12-23T11:59:15.568Z"
   },
   {
    "duration": 30,
    "start_time": "2023-12-23T11:59:15.588Z"
   },
   {
    "duration": 5,
    "start_time": "2023-12-23T11:59:15.620Z"
   },
   {
    "duration": 21,
    "start_time": "2023-12-23T11:59:15.626Z"
   },
   {
    "duration": 13,
    "start_time": "2023-12-23T11:59:15.648Z"
   },
   {
    "duration": 11,
    "start_time": "2023-12-23T11:59:15.662Z"
   },
   {
    "duration": 22,
    "start_time": "2023-12-23T11:59:15.674Z"
   },
   {
    "duration": 4,
    "start_time": "2023-12-23T11:59:15.714Z"
   },
   {
    "duration": 10,
    "start_time": "2023-12-23T11:59:15.720Z"
   },
   {
    "duration": 10,
    "start_time": "2023-12-23T11:59:15.732Z"
   },
   {
    "duration": 12,
    "start_time": "2023-12-23T11:59:15.743Z"
   },
   {
    "duration": 33,
    "start_time": "2023-12-23T11:59:15.756Z"
   },
   {
    "duration": 29,
    "start_time": "2023-12-23T11:59:15.791Z"
   },
   {
    "duration": 16,
    "start_time": "2023-12-23T11:59:15.822Z"
   },
   {
    "duration": 11,
    "start_time": "2023-12-23T11:59:15.840Z"
   },
   {
    "duration": 10,
    "start_time": "2023-12-23T11:59:15.853Z"
   },
   {
    "duration": 4,
    "start_time": "2023-12-23T11:59:15.864Z"
   },
   {
    "duration": 17,
    "start_time": "2023-12-23T11:59:15.870Z"
   },
   {
    "duration": 166,
    "start_time": "2023-12-23T11:59:15.888Z"
   },
   {
    "duration": 150,
    "start_time": "2023-12-23T11:59:16.055Z"
   },
   {
    "duration": 10,
    "start_time": "2023-12-23T11:59:16.206Z"
   },
   {
    "duration": 99,
    "start_time": "2023-12-23T11:59:16.217Z"
   },
   {
    "duration": 124,
    "start_time": "2023-12-23T11:59:16.321Z"
   },
   {
    "duration": 3,
    "start_time": "2023-12-23T11:59:16.447Z"
   },
   {
    "duration": 182,
    "start_time": "2023-12-23T11:59:16.452Z"
   },
   {
    "duration": 110,
    "start_time": "2023-12-23T11:59:16.636Z"
   },
   {
    "duration": 195,
    "start_time": "2023-12-23T11:59:16.748Z"
   },
   {
    "duration": 11,
    "start_time": "2023-12-23T11:59:16.945Z"
   },
   {
    "duration": 179,
    "start_time": "2023-12-23T11:59:16.958Z"
   },
   {
    "duration": 1300,
    "start_time": "2023-12-23T11:59:17.139Z"
   },
   {
    "duration": 0,
    "start_time": "2023-12-23T11:59:18.441Z"
   },
   {
    "duration": 0,
    "start_time": "2023-12-23T11:59:18.442Z"
   },
   {
    "duration": 0,
    "start_time": "2023-12-23T11:59:18.443Z"
   },
   {
    "duration": 0,
    "start_time": "2023-12-23T11:59:18.444Z"
   },
   {
    "duration": 0,
    "start_time": "2023-12-23T11:59:18.445Z"
   },
   {
    "duration": 0,
    "start_time": "2023-12-23T11:59:18.446Z"
   },
   {
    "duration": 0,
    "start_time": "2023-12-23T11:59:18.447Z"
   },
   {
    "duration": 0,
    "start_time": "2023-12-23T11:59:18.448Z"
   },
   {
    "duration": 0,
    "start_time": "2023-12-23T11:59:18.449Z"
   },
   {
    "duration": 0,
    "start_time": "2023-12-23T11:59:18.449Z"
   },
   {
    "duration": 0,
    "start_time": "2023-12-23T11:59:18.450Z"
   },
   {
    "duration": 0,
    "start_time": "2023-12-23T11:59:18.451Z"
   },
   {
    "duration": 0,
    "start_time": "2023-12-23T11:59:18.452Z"
   },
   {
    "duration": 0,
    "start_time": "2023-12-23T11:59:18.453Z"
   },
   {
    "duration": 0,
    "start_time": "2023-12-23T11:59:18.454Z"
   },
   {
    "duration": 0,
    "start_time": "2023-12-23T11:59:18.455Z"
   },
   {
    "duration": 0,
    "start_time": "2023-12-23T11:59:18.456Z"
   },
   {
    "duration": 0,
    "start_time": "2023-12-23T11:59:18.457Z"
   },
   {
    "duration": 0,
    "start_time": "2023-12-23T11:59:18.458Z"
   },
   {
    "duration": 0,
    "start_time": "2023-12-23T11:59:18.459Z"
   },
   {
    "duration": 0,
    "start_time": "2023-12-23T11:59:18.460Z"
   },
   {
    "duration": 0,
    "start_time": "2023-12-23T11:59:18.461Z"
   },
   {
    "duration": 0,
    "start_time": "2023-12-23T11:59:18.462Z"
   },
   {
    "duration": 0,
    "start_time": "2023-12-23T11:59:18.463Z"
   },
   {
    "duration": 0,
    "start_time": "2023-12-23T11:59:18.463Z"
   },
   {
    "duration": 0,
    "start_time": "2023-12-23T11:59:18.465Z"
   },
   {
    "duration": 184,
    "start_time": "2023-12-23T11:59:34.737Z"
   },
   {
    "duration": 1224,
    "start_time": "2023-12-23T11:59:44.521Z"
   },
   {
    "duration": 71,
    "start_time": "2023-12-23T11:59:45.746Z"
   },
   {
    "duration": 11,
    "start_time": "2023-12-23T11:59:45.819Z"
   },
   {
    "duration": 20,
    "start_time": "2023-12-23T11:59:45.832Z"
   },
   {
    "duration": 13,
    "start_time": "2023-12-23T11:59:45.853Z"
   },
   {
    "duration": 29,
    "start_time": "2023-12-23T11:59:45.868Z"
   },
   {
    "duration": 23,
    "start_time": "2023-12-23T11:59:45.898Z"
   },
   {
    "duration": 14,
    "start_time": "2023-12-23T11:59:45.923Z"
   },
   {
    "duration": 12,
    "start_time": "2023-12-23T11:59:45.938Z"
   },
   {
    "duration": 13,
    "start_time": "2023-12-23T11:59:45.952Z"
   },
   {
    "duration": 17,
    "start_time": "2023-12-23T11:59:45.967Z"
   },
   {
    "duration": 42,
    "start_time": "2023-12-23T11:59:45.986Z"
   },
   {
    "duration": 25,
    "start_time": "2023-12-23T11:59:46.029Z"
   },
   {
    "duration": 24,
    "start_time": "2023-12-23T11:59:46.055Z"
   },
   {
    "duration": 35,
    "start_time": "2023-12-23T11:59:46.080Z"
   },
   {
    "duration": 29,
    "start_time": "2023-12-23T11:59:46.117Z"
   },
   {
    "duration": 20,
    "start_time": "2023-12-23T11:59:46.147Z"
   },
   {
    "duration": 19,
    "start_time": "2023-12-23T11:59:46.169Z"
   },
   {
    "duration": 31,
    "start_time": "2023-12-23T11:59:46.190Z"
   },
   {
    "duration": 18,
    "start_time": "2023-12-23T11:59:46.223Z"
   },
   {
    "duration": 18,
    "start_time": "2023-12-23T11:59:46.243Z"
   },
   {
    "duration": 28,
    "start_time": "2023-12-23T11:59:46.262Z"
   },
   {
    "duration": 10,
    "start_time": "2023-12-23T11:59:46.291Z"
   },
   {
    "duration": 18,
    "start_time": "2023-12-23T11:59:46.303Z"
   },
   {
    "duration": 35,
    "start_time": "2023-12-23T11:59:46.322Z"
   },
   {
    "duration": 4,
    "start_time": "2023-12-23T11:59:46.359Z"
   },
   {
    "duration": 31,
    "start_time": "2023-12-23T11:59:46.365Z"
   },
   {
    "duration": 24,
    "start_time": "2023-12-23T11:59:46.400Z"
   },
   {
    "duration": 13,
    "start_time": "2023-12-23T11:59:46.426Z"
   },
   {
    "duration": 17,
    "start_time": "2023-12-23T11:59:46.440Z"
   },
   {
    "duration": 17,
    "start_time": "2023-12-23T11:59:46.459Z"
   },
   {
    "duration": 34,
    "start_time": "2023-12-23T11:59:46.478Z"
   },
   {
    "duration": 17,
    "start_time": "2023-12-23T11:59:46.514Z"
   },
   {
    "duration": 19,
    "start_time": "2023-12-23T11:59:46.533Z"
   },
   {
    "duration": 25,
    "start_time": "2023-12-23T11:59:46.553Z"
   },
   {
    "duration": 8,
    "start_time": "2023-12-23T11:59:46.580Z"
   },
   {
    "duration": 159,
    "start_time": "2023-12-23T11:59:46.590Z"
   },
   {
    "duration": 145,
    "start_time": "2023-12-23T11:59:46.751Z"
   },
   {
    "duration": 6,
    "start_time": "2023-12-23T11:59:46.898Z"
   },
   {
    "duration": 100,
    "start_time": "2023-12-23T11:59:46.906Z"
   },
   {
    "duration": 125,
    "start_time": "2023-12-23T11:59:47.014Z"
   },
   {
    "duration": 4,
    "start_time": "2023-12-23T11:59:47.141Z"
   },
   {
    "duration": 182,
    "start_time": "2023-12-23T11:59:47.147Z"
   },
   {
    "duration": 111,
    "start_time": "2023-12-23T11:59:47.331Z"
   },
   {
    "duration": 212,
    "start_time": "2023-12-23T11:59:47.443Z"
   },
   {
    "duration": 13,
    "start_time": "2023-12-23T11:59:47.657Z"
   },
   {
    "duration": 180,
    "start_time": "2023-12-23T11:59:47.672Z"
   },
   {
    "duration": 184,
    "start_time": "2023-12-23T11:59:47.854Z"
   },
   {
    "duration": 22,
    "start_time": "2023-12-23T11:59:48.039Z"
   },
   {
    "duration": 13,
    "start_time": "2023-12-23T11:59:48.062Z"
   },
   {
    "duration": 39,
    "start_time": "2023-12-23T11:59:48.076Z"
   },
   {
    "duration": 33,
    "start_time": "2023-12-23T11:59:48.117Z"
   },
   {
    "duration": 201,
    "start_time": "2023-12-23T11:59:48.152Z"
   },
   {
    "duration": 182,
    "start_time": "2023-12-23T11:59:48.355Z"
   },
   {
    "duration": 186,
    "start_time": "2023-12-23T11:59:48.539Z"
   },
   {
    "duration": 15,
    "start_time": "2023-12-23T11:59:48.727Z"
   },
   {
    "duration": 31,
    "start_time": "2023-12-23T11:59:48.744Z"
   },
   {
    "duration": 210,
    "start_time": "2023-12-23T11:59:48.776Z"
   },
   {
    "duration": 181,
    "start_time": "2023-12-23T11:59:48.987Z"
   },
   {
    "duration": 168,
    "start_time": "2023-12-23T11:59:49.170Z"
   },
   {
    "duration": 850,
    "start_time": "2023-12-23T11:59:49.339Z"
   },
   {
    "duration": 3,
    "start_time": "2023-12-23T11:59:50.191Z"
   },
   {
    "duration": 12,
    "start_time": "2023-12-23T11:59:50.195Z"
   },
   {
    "duration": 25,
    "start_time": "2023-12-23T11:59:50.208Z"
   },
   {
    "duration": 10,
    "start_time": "2023-12-23T11:59:50.234Z"
   },
   {
    "duration": 3,
    "start_time": "2023-12-23T11:59:50.246Z"
   },
   {
    "duration": 138,
    "start_time": "2023-12-23T11:59:50.250Z"
   },
   {
    "duration": 6,
    "start_time": "2023-12-23T11:59:50.389Z"
   },
   {
    "duration": 19,
    "start_time": "2023-12-23T11:59:50.397Z"
   },
   {
    "duration": 7,
    "start_time": "2023-12-23T11:59:50.418Z"
   },
   {
    "duration": 782,
    "start_time": "2023-12-23T11:59:50.426Z"
   },
   {
    "duration": 7,
    "start_time": "2023-12-23T11:59:51.209Z"
   },
   {
    "duration": 32,
    "start_time": "2023-12-23T11:59:51.217Z"
   },
   {
    "duration": 78,
    "start_time": "2023-12-23T11:59:51.250Z"
   },
   {
    "duration": 173,
    "start_time": "2023-12-23T12:01:06.859Z"
   },
   {
    "duration": 253,
    "start_time": "2023-12-23T12:02:50.354Z"
   },
   {
    "duration": 180,
    "start_time": "2023-12-23T12:03:31.666Z"
   },
   {
    "duration": 172,
    "start_time": "2023-12-23T12:04:03.074Z"
   },
   {
    "duration": 169,
    "start_time": "2023-12-23T12:04:44.403Z"
   },
   {
    "duration": 174,
    "start_time": "2023-12-23T12:06:30.710Z"
   },
   {
    "duration": 170,
    "start_time": "2023-12-23T12:07:16.339Z"
   },
   {
    "duration": 1306,
    "start_time": "2023-12-23T12:07:47.018Z"
   },
   {
    "duration": 69,
    "start_time": "2023-12-23T12:07:48.326Z"
   },
   {
    "duration": 12,
    "start_time": "2023-12-23T12:07:48.396Z"
   },
   {
    "duration": 14,
    "start_time": "2023-12-23T12:07:48.410Z"
   },
   {
    "duration": 19,
    "start_time": "2023-12-23T12:07:48.425Z"
   },
   {
    "duration": 5,
    "start_time": "2023-12-23T12:07:48.446Z"
   },
   {
    "duration": 11,
    "start_time": "2023-12-23T12:07:48.453Z"
   },
   {
    "duration": 7,
    "start_time": "2023-12-23T12:07:48.466Z"
   },
   {
    "duration": 9,
    "start_time": "2023-12-23T12:07:48.475Z"
   },
   {
    "duration": 4,
    "start_time": "2023-12-23T12:07:48.487Z"
   },
   {
    "duration": 15,
    "start_time": "2023-12-23T12:07:48.493Z"
   },
   {
    "duration": 5,
    "start_time": "2023-12-23T12:07:48.509Z"
   },
   {
    "duration": 5,
    "start_time": "2023-12-23T12:07:48.515Z"
   },
   {
    "duration": 5,
    "start_time": "2023-12-23T12:07:48.521Z"
   },
   {
    "duration": 4,
    "start_time": "2023-12-23T12:07:48.528Z"
   },
   {
    "duration": 11,
    "start_time": "2023-12-23T12:07:48.534Z"
   },
   {
    "duration": 16,
    "start_time": "2023-12-23T12:07:48.547Z"
   },
   {
    "duration": 4,
    "start_time": "2023-12-23T12:07:48.564Z"
   },
   {
    "duration": 29,
    "start_time": "2023-12-23T12:07:48.570Z"
   },
   {
    "duration": 24,
    "start_time": "2023-12-23T12:07:48.600Z"
   },
   {
    "duration": 4,
    "start_time": "2023-12-23T12:07:48.626Z"
   },
   {
    "duration": 9,
    "start_time": "2023-12-23T12:07:48.632Z"
   },
   {
    "duration": 10,
    "start_time": "2023-12-23T12:07:48.642Z"
   },
   {
    "duration": 10,
    "start_time": "2023-12-23T12:07:48.653Z"
   },
   {
    "duration": 22,
    "start_time": "2023-12-23T12:07:48.664Z"
   },
   {
    "duration": 4,
    "start_time": "2023-12-23T12:07:48.687Z"
   },
   {
    "duration": 28,
    "start_time": "2023-12-23T12:07:48.692Z"
   },
   {
    "duration": 9,
    "start_time": "2023-12-23T12:07:48.724Z"
   },
   {
    "duration": 12,
    "start_time": "2023-12-23T12:07:48.734Z"
   },
   {
    "duration": 14,
    "start_time": "2023-12-23T12:07:48.748Z"
   },
   {
    "duration": 5,
    "start_time": "2023-12-23T12:07:48.764Z"
   },
   {
    "duration": 9,
    "start_time": "2023-12-23T12:07:48.771Z"
   },
   {
    "duration": 33,
    "start_time": "2023-12-23T12:07:48.782Z"
   },
   {
    "duration": 26,
    "start_time": "2023-12-23T12:07:48.817Z"
   },
   {
    "duration": 4,
    "start_time": "2023-12-23T12:07:48.844Z"
   },
   {
    "duration": 14,
    "start_time": "2023-12-23T12:07:48.849Z"
   },
   {
    "duration": 155,
    "start_time": "2023-12-23T12:07:48.865Z"
   },
   {
    "duration": 144,
    "start_time": "2023-12-23T12:07:49.022Z"
   },
   {
    "duration": 7,
    "start_time": "2023-12-23T12:07:49.168Z"
   },
   {
    "duration": 106,
    "start_time": "2023-12-23T12:07:49.176Z"
   },
   {
    "duration": 131,
    "start_time": "2023-12-23T12:07:49.284Z"
   },
   {
    "duration": 4,
    "start_time": "2023-12-23T12:07:49.417Z"
   },
   {
    "duration": 172,
    "start_time": "2023-12-23T12:07:49.423Z"
   },
   {
    "duration": 114,
    "start_time": "2023-12-23T12:07:49.597Z"
   },
   {
    "duration": 180,
    "start_time": "2023-12-23T12:07:49.713Z"
   },
   {
    "duration": 24,
    "start_time": "2023-12-23T12:07:49.895Z"
   },
   {
    "duration": 193,
    "start_time": "2023-12-23T12:07:49.921Z"
   },
   {
    "duration": 193,
    "start_time": "2023-12-23T12:07:50.115Z"
   },
   {
    "duration": 26,
    "start_time": "2023-12-23T12:07:50.314Z"
   },
   {
    "duration": 14,
    "start_time": "2023-12-23T12:07:50.341Z"
   },
   {
    "duration": 16,
    "start_time": "2023-12-23T12:07:50.357Z"
   },
   {
    "duration": 55,
    "start_time": "2023-12-23T12:07:50.375Z"
   },
   {
    "duration": 166,
    "start_time": "2023-12-23T12:07:50.432Z"
   },
   {
    "duration": 165,
    "start_time": "2023-12-23T12:07:50.600Z"
   },
   {
    "duration": 178,
    "start_time": "2023-12-23T12:07:50.766Z"
   },
   {
    "duration": 15,
    "start_time": "2023-12-23T12:07:50.946Z"
   },
   {
    "duration": 36,
    "start_time": "2023-12-23T12:07:50.963Z"
   },
   {
    "duration": 170,
    "start_time": "2023-12-23T12:07:51.000Z"
   },
   {
    "duration": 161,
    "start_time": "2023-12-23T12:07:51.171Z"
   },
   {
    "duration": 164,
    "start_time": "2023-12-23T12:07:51.333Z"
   },
   {
    "duration": 833,
    "start_time": "2023-12-23T12:07:51.499Z"
   },
   {
    "duration": 3,
    "start_time": "2023-12-23T12:07:52.334Z"
   },
   {
    "duration": 16,
    "start_time": "2023-12-23T12:07:52.338Z"
   },
   {
    "duration": 27,
    "start_time": "2023-12-23T12:07:52.355Z"
   },
   {
    "duration": 19,
    "start_time": "2023-12-23T12:07:52.384Z"
   },
   {
    "duration": 3,
    "start_time": "2023-12-23T12:07:52.405Z"
   },
   {
    "duration": 131,
    "start_time": "2023-12-23T12:07:52.409Z"
   },
   {
    "duration": 6,
    "start_time": "2023-12-23T12:07:52.541Z"
   },
   {
    "duration": 17,
    "start_time": "2023-12-23T12:07:52.548Z"
   },
   {
    "duration": 5,
    "start_time": "2023-12-23T12:07:52.566Z"
   },
   {
    "duration": 779,
    "start_time": "2023-12-23T12:07:52.572Z"
   },
   {
    "duration": 4,
    "start_time": "2023-12-23T12:07:53.353Z"
   },
   {
    "duration": 17,
    "start_time": "2023-12-23T12:07:53.359Z"
   },
   {
    "duration": 81,
    "start_time": "2023-12-23T12:07:53.377Z"
   },
   {
    "duration": 3,
    "start_time": "2023-12-23T12:11:30.670Z"
   },
   {
    "duration": 181,
    "start_time": "2023-12-23T12:11:33.212Z"
   },
   {
    "duration": 96,
    "start_time": "2023-12-23T12:12:11.932Z"
   },
   {
    "duration": 7,
    "start_time": "2023-12-23T12:20:01.039Z"
   },
   {
    "duration": 225,
    "start_time": "2023-12-23T12:20:15.759Z"
   },
   {
    "duration": 87,
    "start_time": "2023-12-23T12:22:00.726Z"
   },
   {
    "duration": 104,
    "start_time": "2023-12-23T12:22:05.818Z"
   },
   {
    "duration": 1239,
    "start_time": "2023-12-23T12:25:16.784Z"
   },
   {
    "duration": 65,
    "start_time": "2023-12-23T12:25:18.025Z"
   },
   {
    "duration": 11,
    "start_time": "2023-12-23T12:25:18.092Z"
   },
   {
    "duration": 8,
    "start_time": "2023-12-23T12:25:18.105Z"
   },
   {
    "duration": 14,
    "start_time": "2023-12-23T12:25:18.115Z"
   },
   {
    "duration": 12,
    "start_time": "2023-12-23T12:25:18.131Z"
   },
   {
    "duration": 39,
    "start_time": "2023-12-23T12:25:18.144Z"
   },
   {
    "duration": 17,
    "start_time": "2023-12-23T12:25:18.184Z"
   },
   {
    "duration": 18,
    "start_time": "2023-12-23T12:25:18.203Z"
   },
   {
    "duration": 5,
    "start_time": "2023-12-23T12:25:18.223Z"
   },
   {
    "duration": 10,
    "start_time": "2023-12-23T12:25:18.229Z"
   },
   {
    "duration": 13,
    "start_time": "2023-12-23T12:25:18.241Z"
   },
   {
    "duration": 10,
    "start_time": "2023-12-23T12:25:18.255Z"
   },
   {
    "duration": 15,
    "start_time": "2023-12-23T12:25:18.266Z"
   },
   {
    "duration": 13,
    "start_time": "2023-12-23T12:25:18.283Z"
   },
   {
    "duration": 11,
    "start_time": "2023-12-23T12:25:18.298Z"
   },
   {
    "duration": 11,
    "start_time": "2023-12-23T12:25:18.310Z"
   },
   {
    "duration": 5,
    "start_time": "2023-12-23T12:25:18.322Z"
   },
   {
    "duration": 13,
    "start_time": "2023-12-23T12:25:18.328Z"
   },
   {
    "duration": 12,
    "start_time": "2023-12-23T12:25:18.343Z"
   },
   {
    "duration": 4,
    "start_time": "2023-12-23T12:25:18.357Z"
   },
   {
    "duration": 7,
    "start_time": "2023-12-23T12:25:18.363Z"
   },
   {
    "duration": 22,
    "start_time": "2023-12-23T12:25:18.372Z"
   },
   {
    "duration": 25,
    "start_time": "2023-12-23T12:25:18.396Z"
   },
   {
    "duration": 39,
    "start_time": "2023-12-23T12:25:18.423Z"
   },
   {
    "duration": 4,
    "start_time": "2023-12-23T12:25:18.464Z"
   },
   {
    "duration": 12,
    "start_time": "2023-12-23T12:25:18.470Z"
   },
   {
    "duration": 10,
    "start_time": "2023-12-23T12:25:18.487Z"
   },
   {
    "duration": 17,
    "start_time": "2023-12-23T12:25:18.498Z"
   },
   {
    "duration": 17,
    "start_time": "2023-12-23T12:25:18.517Z"
   },
   {
    "duration": 14,
    "start_time": "2023-12-23T12:25:18.535Z"
   },
   {
    "duration": 10,
    "start_time": "2023-12-23T12:25:18.550Z"
   },
   {
    "duration": 8,
    "start_time": "2023-12-23T12:25:18.561Z"
   },
   {
    "duration": 36,
    "start_time": "2023-12-23T12:25:18.570Z"
   },
   {
    "duration": 4,
    "start_time": "2023-12-23T12:25:18.608Z"
   },
   {
    "duration": 10,
    "start_time": "2023-12-23T12:25:18.614Z"
   },
   {
    "duration": 158,
    "start_time": "2023-12-23T12:25:18.626Z"
   },
   {
    "duration": 148,
    "start_time": "2023-12-23T12:25:18.785Z"
   },
   {
    "duration": 5,
    "start_time": "2023-12-23T12:25:18.935Z"
   },
   {
    "duration": 109,
    "start_time": "2023-12-23T12:25:18.941Z"
   },
   {
    "duration": 117,
    "start_time": "2023-12-23T12:25:19.052Z"
   },
   {
    "duration": 3,
    "start_time": "2023-12-23T12:25:19.171Z"
   },
   {
    "duration": 177,
    "start_time": "2023-12-23T12:25:19.175Z"
   },
   {
    "duration": 3,
    "start_time": "2023-12-23T12:25:19.354Z"
   },
   {
    "duration": 110,
    "start_time": "2023-12-23T12:25:19.358Z"
   },
   {
    "duration": 180,
    "start_time": "2023-12-23T12:25:19.469Z"
   },
   {
    "duration": 12,
    "start_time": "2023-12-23T12:25:19.651Z"
   },
   {
    "duration": 203,
    "start_time": "2023-12-23T12:25:19.665Z"
   },
   {
    "duration": 185,
    "start_time": "2023-12-23T12:25:19.869Z"
   },
   {
    "duration": 23,
    "start_time": "2023-12-23T12:25:20.056Z"
   },
   {
    "duration": 16,
    "start_time": "2023-12-23T12:25:20.080Z"
   },
   {
    "duration": 40,
    "start_time": "2023-12-23T12:25:20.098Z"
   },
   {
    "duration": 34,
    "start_time": "2023-12-23T12:25:20.139Z"
   },
   {
    "duration": 160,
    "start_time": "2023-12-23T12:25:20.175Z"
   },
   {
    "duration": 158,
    "start_time": "2023-12-23T12:25:20.336Z"
   },
   {
    "duration": 180,
    "start_time": "2023-12-23T12:25:20.496Z"
   },
   {
    "duration": 16,
    "start_time": "2023-12-23T12:25:20.678Z"
   },
   {
    "duration": 43,
    "start_time": "2023-12-23T12:25:20.696Z"
   },
   {
    "duration": 181,
    "start_time": "2023-12-23T12:25:20.741Z"
   },
   {
    "duration": 154,
    "start_time": "2023-12-23T12:25:20.923Z"
   },
   {
    "duration": 172,
    "start_time": "2023-12-23T12:25:21.079Z"
   },
   {
    "duration": 825,
    "start_time": "2023-12-23T12:25:21.252Z"
   },
   {
    "duration": 3,
    "start_time": "2023-12-23T12:25:22.079Z"
   },
   {
    "duration": 7,
    "start_time": "2023-12-23T12:25:22.083Z"
   },
   {
    "duration": 24,
    "start_time": "2023-12-23T12:25:22.091Z"
   },
   {
    "duration": 12,
    "start_time": "2023-12-23T12:25:22.117Z"
   },
   {
    "duration": 16,
    "start_time": "2023-12-23T12:25:22.130Z"
   },
   {
    "duration": 147,
    "start_time": "2023-12-23T12:25:22.147Z"
   },
   {
    "duration": 5,
    "start_time": "2023-12-23T12:25:22.296Z"
   },
   {
    "duration": 17,
    "start_time": "2023-12-23T12:25:22.303Z"
   },
   {
    "duration": 5,
    "start_time": "2023-12-23T12:25:22.321Z"
   },
   {
    "duration": 809,
    "start_time": "2023-12-23T12:25:22.327Z"
   },
   {
    "duration": 5,
    "start_time": "2023-12-23T12:25:23.138Z"
   },
   {
    "duration": 12,
    "start_time": "2023-12-23T12:25:23.144Z"
   },
   {
    "duration": 4,
    "start_time": "2023-12-23T12:25:23.158Z"
   },
   {
    "duration": 310,
    "start_time": "2023-12-23T12:25:23.163Z"
   },
   {
    "duration": 305,
    "start_time": "2023-12-23T12:25:23.475Z"
   },
   {
    "duration": 5,
    "start_time": "2023-12-23T12:25:23.781Z"
   },
   {
    "duration": 270,
    "start_time": "2023-12-23T12:25:23.787Z"
   },
   {
    "duration": 76,
    "start_time": "2023-12-23T12:25:41.767Z"
   },
   {
    "duration": 292,
    "start_time": "2023-12-23T12:25:49.256Z"
   },
   {
    "duration": 292,
    "start_time": "2023-12-23T12:26:42.328Z"
   },
   {
    "duration": 389,
    "start_time": "2023-12-23T12:26:52.616Z"
   },
   {
    "duration": 296,
    "start_time": "2023-12-23T12:27:02.192Z"
   },
   {
    "duration": 282,
    "start_time": "2023-12-23T12:27:07.728Z"
   },
   {
    "duration": 299,
    "start_time": "2023-12-23T12:27:19.496Z"
   },
   {
    "duration": 1223,
    "start_time": "2023-12-23T13:42:41.845Z"
   },
   {
    "duration": 70,
    "start_time": "2023-12-23T13:42:43.070Z"
   },
   {
    "duration": 13,
    "start_time": "2023-12-23T13:42:43.142Z"
   },
   {
    "duration": 11,
    "start_time": "2023-12-23T13:42:43.156Z"
   },
   {
    "duration": 15,
    "start_time": "2023-12-23T13:42:43.169Z"
   },
   {
    "duration": 20,
    "start_time": "2023-12-23T13:42:43.185Z"
   },
   {
    "duration": 21,
    "start_time": "2023-12-23T13:42:43.207Z"
   },
   {
    "duration": 6,
    "start_time": "2023-12-23T13:42:43.229Z"
   },
   {
    "duration": 18,
    "start_time": "2023-12-23T13:42:43.236Z"
   },
   {
    "duration": 9,
    "start_time": "2023-12-23T13:42:43.257Z"
   },
   {
    "duration": 8,
    "start_time": "2023-12-23T13:42:43.268Z"
   },
   {
    "duration": 4,
    "start_time": "2023-12-23T13:42:43.277Z"
   },
   {
    "duration": 20,
    "start_time": "2023-12-23T13:42:43.282Z"
   },
   {
    "duration": 23,
    "start_time": "2023-12-23T13:42:43.304Z"
   },
   {
    "duration": 4,
    "start_time": "2023-12-23T13:42:43.329Z"
   },
   {
    "duration": 16,
    "start_time": "2023-12-23T13:42:43.334Z"
   },
   {
    "duration": 10,
    "start_time": "2023-12-23T13:42:43.351Z"
   },
   {
    "duration": 5,
    "start_time": "2023-12-23T13:42:43.362Z"
   },
   {
    "duration": 15,
    "start_time": "2023-12-23T13:42:43.369Z"
   },
   {
    "duration": 15,
    "start_time": "2023-12-23T13:42:43.386Z"
   },
   {
    "duration": 25,
    "start_time": "2023-12-23T13:42:43.402Z"
   },
   {
    "duration": 8,
    "start_time": "2023-12-23T13:42:43.429Z"
   },
   {
    "duration": 18,
    "start_time": "2023-12-23T13:42:43.438Z"
   },
   {
    "duration": 14,
    "start_time": "2023-12-23T13:42:43.457Z"
   },
   {
    "duration": 30,
    "start_time": "2023-12-23T13:42:43.473Z"
   },
   {
    "duration": 4,
    "start_time": "2023-12-23T13:42:43.505Z"
   },
   {
    "duration": 12,
    "start_time": "2023-12-23T13:42:43.511Z"
   },
   {
    "duration": 12,
    "start_time": "2023-12-23T13:42:43.531Z"
   },
   {
    "duration": 11,
    "start_time": "2023-12-23T13:42:43.545Z"
   },
   {
    "duration": 21,
    "start_time": "2023-12-23T13:42:43.557Z"
   },
   {
    "duration": 11,
    "start_time": "2023-12-23T13:42:43.579Z"
   },
   {
    "duration": 36,
    "start_time": "2023-12-23T13:42:43.592Z"
   },
   {
    "duration": 13,
    "start_time": "2023-12-23T13:42:43.631Z"
   },
   {
    "duration": 58,
    "start_time": "2023-12-23T13:42:43.646Z"
   },
   {
    "duration": 3,
    "start_time": "2023-12-23T13:42:43.705Z"
   },
   {
    "duration": 17,
    "start_time": "2023-12-23T13:42:43.709Z"
   },
   {
    "duration": 158,
    "start_time": "2023-12-23T13:42:43.728Z"
   },
   {
    "duration": 142,
    "start_time": "2023-12-23T13:42:43.888Z"
   },
   {
    "duration": 5,
    "start_time": "2023-12-23T13:42:44.032Z"
   },
   {
    "duration": 112,
    "start_time": "2023-12-23T13:42:44.038Z"
   },
   {
    "duration": 132,
    "start_time": "2023-12-23T13:42:44.151Z"
   },
   {
    "duration": 4,
    "start_time": "2023-12-23T13:42:44.284Z"
   },
   {
    "duration": 187,
    "start_time": "2023-12-23T13:42:44.289Z"
   },
   {
    "duration": 3,
    "start_time": "2023-12-23T13:42:44.478Z"
   },
   {
    "duration": 116,
    "start_time": "2023-12-23T13:42:44.483Z"
   },
   {
    "duration": 186,
    "start_time": "2023-12-23T13:42:44.601Z"
   },
   {
    "duration": 12,
    "start_time": "2023-12-23T13:42:44.788Z"
   },
   {
    "duration": 185,
    "start_time": "2023-12-23T13:42:44.802Z"
   },
   {
    "duration": 202,
    "start_time": "2023-12-23T13:42:44.989Z"
   },
   {
    "duration": 34,
    "start_time": "2023-12-23T13:42:45.193Z"
   },
   {
    "duration": 12,
    "start_time": "2023-12-23T13:42:45.229Z"
   },
   {
    "duration": 27,
    "start_time": "2023-12-23T13:42:45.242Z"
   },
   {
    "duration": 30,
    "start_time": "2023-12-23T13:42:45.271Z"
   },
   {
    "duration": 174,
    "start_time": "2023-12-23T13:42:45.312Z"
   },
   {
    "duration": 184,
    "start_time": "2023-12-23T13:42:45.488Z"
   },
   {
    "duration": 208,
    "start_time": "2023-12-23T13:42:45.674Z"
   },
   {
    "duration": 16,
    "start_time": "2023-12-23T13:42:45.884Z"
   },
   {
    "duration": 41,
    "start_time": "2023-12-23T13:42:45.914Z"
   },
   {
    "duration": 183,
    "start_time": "2023-12-23T13:42:45.957Z"
   },
   {
    "duration": 165,
    "start_time": "2023-12-23T13:42:46.142Z"
   },
   {
    "duration": 182,
    "start_time": "2023-12-23T13:42:46.308Z"
   },
   {
    "duration": 926,
    "start_time": "2023-12-23T13:42:46.492Z"
   },
   {
    "duration": 3,
    "start_time": "2023-12-23T13:42:47.425Z"
   },
   {
    "duration": 15,
    "start_time": "2023-12-23T13:42:47.429Z"
   },
   {
    "duration": 19,
    "start_time": "2023-12-23T13:42:47.446Z"
   },
   {
    "duration": 17,
    "start_time": "2023-12-23T13:42:47.466Z"
   },
   {
    "duration": 8,
    "start_time": "2023-12-23T13:42:47.484Z"
   },
   {
    "duration": 158,
    "start_time": "2023-12-23T13:42:47.494Z"
   },
   {
    "duration": 7,
    "start_time": "2023-12-23T13:42:47.654Z"
   },
   {
    "duration": 14,
    "start_time": "2023-12-23T13:42:47.662Z"
   },
   {
    "duration": 5,
    "start_time": "2023-12-23T13:42:47.678Z"
   },
   {
    "duration": 891,
    "start_time": "2023-12-23T13:42:47.684Z"
   },
   {
    "duration": 6,
    "start_time": "2023-12-23T13:42:48.577Z"
   },
   {
    "duration": 12,
    "start_time": "2023-12-23T13:42:48.585Z"
   },
   {
    "duration": 14,
    "start_time": "2023-12-23T13:42:48.612Z"
   },
   {
    "duration": 341,
    "start_time": "2023-12-23T13:42:48.628Z"
   },
   {
    "duration": 309,
    "start_time": "2023-12-23T13:42:48.971Z"
   },
   {
    "duration": 5,
    "start_time": "2023-12-23T13:42:49.282Z"
   },
   {
    "duration": 298,
    "start_time": "2023-12-23T13:42:49.289Z"
   },
   {
    "duration": 1109,
    "start_time": "2023-12-23T13:54:53.555Z"
   },
   {
    "duration": 64,
    "start_time": "2023-12-23T13:54:54.666Z"
   },
   {
    "duration": 12,
    "start_time": "2023-12-23T13:54:54.732Z"
   },
   {
    "duration": 10,
    "start_time": "2023-12-23T13:54:54.746Z"
   },
   {
    "duration": 7,
    "start_time": "2023-12-23T13:54:54.757Z"
   },
   {
    "duration": 6,
    "start_time": "2023-12-23T13:54:54.765Z"
   },
   {
    "duration": 6,
    "start_time": "2023-12-23T13:54:54.772Z"
   },
   {
    "duration": 5,
    "start_time": "2023-12-23T13:54:54.779Z"
   },
   {
    "duration": 26,
    "start_time": "2023-12-23T13:54:54.785Z"
   },
   {
    "duration": 5,
    "start_time": "2023-12-23T13:54:54.813Z"
   },
   {
    "duration": 17,
    "start_time": "2023-12-23T13:54:54.819Z"
   },
   {
    "duration": 4,
    "start_time": "2023-12-23T13:54:54.837Z"
   },
   {
    "duration": 5,
    "start_time": "2023-12-23T13:54:54.843Z"
   },
   {
    "duration": 7,
    "start_time": "2023-12-23T13:54:54.850Z"
   },
   {
    "duration": 7,
    "start_time": "2023-12-23T13:54:54.859Z"
   },
   {
    "duration": 10,
    "start_time": "2023-12-23T13:54:54.867Z"
   },
   {
    "duration": 10,
    "start_time": "2023-12-23T13:54:54.878Z"
   },
   {
    "duration": 23,
    "start_time": "2023-12-23T13:54:54.889Z"
   },
   {
    "duration": 10,
    "start_time": "2023-12-23T13:54:54.913Z"
   },
   {
    "duration": 23,
    "start_time": "2023-12-23T13:54:54.925Z"
   },
   {
    "duration": 5,
    "start_time": "2023-12-23T13:54:54.949Z"
   },
   {
    "duration": 7,
    "start_time": "2023-12-23T13:54:54.955Z"
   },
   {
    "duration": 8,
    "start_time": "2023-12-23T13:54:54.963Z"
   },
   {
    "duration": 13,
    "start_time": "2023-12-23T13:54:54.972Z"
   },
   {
    "duration": 38,
    "start_time": "2023-12-23T13:54:54.987Z"
   },
   {
    "duration": 3,
    "start_time": "2023-12-23T13:54:55.027Z"
   },
   {
    "duration": 10,
    "start_time": "2023-12-23T13:54:55.031Z"
   },
   {
    "duration": 8,
    "start_time": "2023-12-23T13:54:55.044Z"
   },
   {
    "duration": 16,
    "start_time": "2023-12-23T13:54:55.054Z"
   },
   {
    "duration": 17,
    "start_time": "2023-12-23T13:54:55.071Z"
   },
   {
    "duration": 22,
    "start_time": "2023-12-23T13:54:55.089Z"
   },
   {
    "duration": 6,
    "start_time": "2023-12-23T13:54:55.113Z"
   },
   {
    "duration": 7,
    "start_time": "2023-12-23T13:54:55.120Z"
   },
   {
    "duration": 23,
    "start_time": "2023-12-23T13:54:55.129Z"
   },
   {
    "duration": 5,
    "start_time": "2023-12-23T13:54:55.153Z"
   },
   {
    "duration": 22,
    "start_time": "2023-12-23T13:54:55.160Z"
   },
   {
    "duration": 165,
    "start_time": "2023-12-23T13:54:55.184Z"
   },
   {
    "duration": 136,
    "start_time": "2023-12-23T13:54:55.351Z"
   },
   {
    "duration": 5,
    "start_time": "2023-12-23T13:54:55.488Z"
   },
   {
    "duration": 104,
    "start_time": "2023-12-23T13:54:55.494Z"
   },
   {
    "duration": 123,
    "start_time": "2023-12-23T13:54:55.600Z"
   },
   {
    "duration": 3,
    "start_time": "2023-12-23T13:54:55.725Z"
   },
   {
    "duration": 166,
    "start_time": "2023-12-23T13:54:55.730Z"
   },
   {
    "duration": 4,
    "start_time": "2023-12-23T13:54:55.898Z"
   },
   {
    "duration": 109,
    "start_time": "2023-12-23T13:54:55.903Z"
   },
   {
    "duration": 181,
    "start_time": "2023-12-23T13:54:56.014Z"
   },
   {
    "duration": 27,
    "start_time": "2023-12-23T13:54:56.197Z"
   },
   {
    "duration": 181,
    "start_time": "2023-12-23T13:54:56.225Z"
   },
   {
    "duration": 171,
    "start_time": "2023-12-23T13:54:56.410Z"
   },
   {
    "duration": 29,
    "start_time": "2023-12-23T13:54:56.583Z"
   },
   {
    "duration": 13,
    "start_time": "2023-12-23T13:54:56.613Z"
   },
   {
    "duration": 25,
    "start_time": "2023-12-23T13:54:56.627Z"
   },
   {
    "duration": 29,
    "start_time": "2023-12-23T13:54:56.653Z"
   },
   {
    "duration": 171,
    "start_time": "2023-12-23T13:54:56.684Z"
   },
   {
    "duration": 158,
    "start_time": "2023-12-23T13:54:56.857Z"
   },
   {
    "duration": 166,
    "start_time": "2023-12-23T13:54:57.016Z"
   },
   {
    "duration": 14,
    "start_time": "2023-12-23T13:54:57.184Z"
   },
   {
    "duration": 58,
    "start_time": "2023-12-23T13:54:57.210Z"
   },
   {
    "duration": 150,
    "start_time": "2023-12-23T13:54:57.269Z"
   },
   {
    "duration": 153,
    "start_time": "2023-12-23T13:54:57.421Z"
   },
   {
    "duration": 173,
    "start_time": "2023-12-23T13:54:57.576Z"
   },
   {
    "duration": 841,
    "start_time": "2023-12-23T13:54:57.751Z"
   },
   {
    "duration": 3,
    "start_time": "2023-12-23T13:54:58.593Z"
   },
   {
    "duration": 9,
    "start_time": "2023-12-23T13:54:58.597Z"
   },
   {
    "duration": 18,
    "start_time": "2023-12-23T13:54:58.607Z"
   },
   {
    "duration": 10,
    "start_time": "2023-12-23T13:54:58.627Z"
   },
   {
    "duration": 3,
    "start_time": "2023-12-23T13:54:58.638Z"
   },
   {
    "duration": 159,
    "start_time": "2023-12-23T13:54:58.642Z"
   },
   {
    "duration": 10,
    "start_time": "2023-12-23T13:54:58.803Z"
   },
   {
    "duration": 15,
    "start_time": "2023-12-23T13:54:58.814Z"
   },
   {
    "duration": 5,
    "start_time": "2023-12-23T13:54:58.830Z"
   },
   {
    "duration": 767,
    "start_time": "2023-12-23T13:54:58.836Z"
   },
   {
    "duration": 9,
    "start_time": "2023-12-23T13:54:59.605Z"
   },
   {
    "duration": 9,
    "start_time": "2023-12-23T13:54:59.616Z"
   },
   {
    "duration": 4,
    "start_time": "2023-12-23T13:54:59.626Z"
   },
   {
    "duration": 318,
    "start_time": "2023-12-23T13:54:59.631Z"
   },
   {
    "duration": 288,
    "start_time": "2023-12-23T13:54:59.951Z"
   },
   {
    "duration": 4,
    "start_time": "2023-12-23T13:55:00.241Z"
   },
   {
    "duration": 284,
    "start_time": "2023-12-23T13:55:00.247Z"
   },
   {
    "duration": 1362,
    "start_time": "2023-12-24T02:52:00.165Z"
   },
   {
    "duration": 182,
    "start_time": "2023-12-24T02:52:01.529Z"
   },
   {
    "duration": 50,
    "start_time": "2023-12-24T02:52:01.713Z"
   },
   {
    "duration": 37,
    "start_time": "2023-12-24T02:52:01.765Z"
   },
   {
    "duration": 78,
    "start_time": "2023-12-24T02:52:01.804Z"
   },
   {
    "duration": 125,
    "start_time": "2023-12-24T02:52:01.884Z"
   },
   {
    "duration": 30,
    "start_time": "2023-12-24T02:52:02.011Z"
   },
   {
    "duration": 23,
    "start_time": "2023-12-24T02:52:02.042Z"
   },
   {
    "duration": 47,
    "start_time": "2023-12-24T02:52:02.066Z"
   },
   {
    "duration": 26,
    "start_time": "2023-12-24T02:52:02.115Z"
   },
   {
    "duration": 27,
    "start_time": "2023-12-24T02:52:02.143Z"
   },
   {
    "duration": 34,
    "start_time": "2023-12-24T02:52:02.171Z"
   },
   {
    "duration": 19,
    "start_time": "2023-12-24T02:52:02.207Z"
   },
   {
    "duration": 15,
    "start_time": "2023-12-24T02:52:02.228Z"
   },
   {
    "duration": 11,
    "start_time": "2023-12-24T02:52:02.244Z"
   },
   {
    "duration": 6,
    "start_time": "2023-12-24T02:52:02.256Z"
   },
   {
    "duration": 10,
    "start_time": "2023-12-24T02:52:02.263Z"
   },
   {
    "duration": 28,
    "start_time": "2023-12-24T02:52:02.274Z"
   },
   {
    "duration": 5,
    "start_time": "2023-12-24T02:52:02.304Z"
   },
   {
    "duration": 12,
    "start_time": "2023-12-24T02:52:02.311Z"
   },
   {
    "duration": 6,
    "start_time": "2023-12-24T02:52:02.325Z"
   },
   {
    "duration": 22,
    "start_time": "2023-12-24T02:52:02.332Z"
   },
   {
    "duration": 5,
    "start_time": "2023-12-24T02:52:02.355Z"
   },
   {
    "duration": 17,
    "start_time": "2023-12-24T02:52:02.361Z"
   },
   {
    "duration": 17,
    "start_time": "2023-12-24T02:52:02.380Z"
   },
   {
    "duration": 23,
    "start_time": "2023-12-24T02:52:02.399Z"
   },
   {
    "duration": 4,
    "start_time": "2023-12-24T02:52:02.423Z"
   },
   {
    "duration": 24,
    "start_time": "2023-12-24T02:52:02.431Z"
   },
   {
    "duration": 15,
    "start_time": "2023-12-24T02:52:02.456Z"
   },
   {
    "duration": 36,
    "start_time": "2023-12-24T02:52:02.472Z"
   },
   {
    "duration": 20,
    "start_time": "2023-12-24T02:52:02.509Z"
   },
   {
    "duration": 13,
    "start_time": "2023-12-24T02:52:02.530Z"
   },
   {
    "duration": 11,
    "start_time": "2023-12-24T02:52:02.544Z"
   },
   {
    "duration": 10,
    "start_time": "2023-12-24T02:52:02.556Z"
   },
   {
    "duration": 10,
    "start_time": "2023-12-24T02:52:02.567Z"
   },
   {
    "duration": 5,
    "start_time": "2023-12-24T02:52:02.578Z"
   },
   {
    "duration": 155,
    "start_time": "2023-12-24T02:52:02.584Z"
   },
   {
    "duration": 137,
    "start_time": "2023-12-24T02:52:02.740Z"
   },
   {
    "duration": 5,
    "start_time": "2023-12-24T02:52:02.878Z"
   },
   {
    "duration": 99,
    "start_time": "2023-12-24T02:52:02.885Z"
   },
   {
    "duration": 127,
    "start_time": "2023-12-24T02:52:02.985Z"
   },
   {
    "duration": 3,
    "start_time": "2023-12-24T02:52:03.114Z"
   },
   {
    "duration": 156,
    "start_time": "2023-12-24T02:52:03.118Z"
   },
   {
    "duration": 3,
    "start_time": "2023-12-24T02:52:03.276Z"
   },
   {
    "duration": 105,
    "start_time": "2023-12-24T02:52:03.280Z"
   },
   {
    "duration": 179,
    "start_time": "2023-12-24T02:52:03.387Z"
   },
   {
    "duration": 14,
    "start_time": "2023-12-24T02:52:03.568Z"
   },
   {
    "duration": 175,
    "start_time": "2023-12-24T02:52:03.583Z"
   },
   {
    "duration": 191,
    "start_time": "2023-12-24T02:52:03.759Z"
   },
   {
    "duration": 25,
    "start_time": "2023-12-24T02:52:03.952Z"
   },
   {
    "duration": 14,
    "start_time": "2023-12-24T02:52:03.979Z"
   },
   {
    "duration": 17,
    "start_time": "2023-12-24T02:52:04.015Z"
   },
   {
    "duration": 29,
    "start_time": "2023-12-24T02:52:04.033Z"
   },
   {
    "duration": 176,
    "start_time": "2023-12-24T02:52:04.064Z"
   },
   {
    "duration": 169,
    "start_time": "2023-12-24T02:52:04.242Z"
   },
   {
    "duration": 175,
    "start_time": "2023-12-24T02:52:04.412Z"
   },
   {
    "duration": 26,
    "start_time": "2023-12-24T02:52:04.589Z"
   },
   {
    "duration": 29,
    "start_time": "2023-12-24T02:52:04.617Z"
   },
   {
    "duration": 181,
    "start_time": "2023-12-24T02:52:04.648Z"
   },
   {
    "duration": 152,
    "start_time": "2023-12-24T02:52:04.831Z"
   },
   {
    "duration": 168,
    "start_time": "2023-12-24T02:52:04.985Z"
   },
   {
    "duration": 863,
    "start_time": "2023-12-24T02:52:05.155Z"
   },
   {
    "duration": 4,
    "start_time": "2023-12-24T02:52:06.020Z"
   },
   {
    "duration": 11,
    "start_time": "2023-12-24T02:52:06.025Z"
   },
   {
    "duration": 14,
    "start_time": "2023-12-24T02:52:06.038Z"
   },
   {
    "duration": 13,
    "start_time": "2023-12-24T02:52:06.053Z"
   },
   {
    "duration": 5,
    "start_time": "2023-12-24T02:52:06.067Z"
   },
   {
    "duration": 164,
    "start_time": "2023-12-24T02:52:06.074Z"
   },
   {
    "duration": 7,
    "start_time": "2023-12-24T02:52:06.240Z"
   },
   {
    "duration": 13,
    "start_time": "2023-12-24T02:52:06.249Z"
   },
   {
    "duration": 5,
    "start_time": "2023-12-24T02:52:06.264Z"
   },
   {
    "duration": 786,
    "start_time": "2023-12-24T02:52:06.271Z"
   },
   {
    "duration": 6,
    "start_time": "2023-12-24T02:52:07.059Z"
   },
   {
    "duration": 15,
    "start_time": "2023-12-24T02:52:07.067Z"
   },
   {
    "duration": 20,
    "start_time": "2023-12-24T02:52:07.084Z"
   },
   {
    "duration": 378,
    "start_time": "2023-12-24T02:52:07.105Z"
   },
   {
    "duration": 298,
    "start_time": "2023-12-24T02:52:07.484Z"
   },
   {
    "duration": 4,
    "start_time": "2023-12-24T02:52:07.784Z"
   },
   {
    "duration": 263,
    "start_time": "2023-12-24T02:52:07.790Z"
   },
   {
    "duration": 8,
    "start_time": "2023-12-24T02:55:51.122Z"
   },
   {
    "duration": 1201,
    "start_time": "2023-12-24T02:57:24.420Z"
   },
   {
    "duration": 64,
    "start_time": "2023-12-24T02:57:25.623Z"
   },
   {
    "duration": 11,
    "start_time": "2023-12-24T02:57:25.688Z"
   },
   {
    "duration": 18,
    "start_time": "2023-12-24T02:57:25.701Z"
   },
   {
    "duration": 16,
    "start_time": "2023-12-24T02:57:25.720Z"
   },
   {
    "duration": 35,
    "start_time": "2023-12-24T02:57:25.737Z"
   },
   {
    "duration": 8,
    "start_time": "2023-12-24T02:57:25.774Z"
   },
   {
    "duration": 15,
    "start_time": "2023-12-24T02:57:25.783Z"
   },
   {
    "duration": 13,
    "start_time": "2023-12-24T02:57:25.799Z"
   },
   {
    "duration": 10,
    "start_time": "2023-12-24T02:57:25.816Z"
   },
   {
    "duration": 13,
    "start_time": "2023-12-24T02:57:25.828Z"
   },
   {
    "duration": 19,
    "start_time": "2023-12-24T02:57:25.842Z"
   },
   {
    "duration": 15,
    "start_time": "2023-12-24T02:57:25.862Z"
   },
   {
    "duration": 30,
    "start_time": "2023-12-24T02:57:25.879Z"
   },
   {
    "duration": 23,
    "start_time": "2023-12-24T02:57:25.910Z"
   },
   {
    "duration": 6,
    "start_time": "2023-12-24T02:57:25.935Z"
   },
   {
    "duration": 22,
    "start_time": "2023-12-24T02:57:25.943Z"
   },
   {
    "duration": 8,
    "start_time": "2023-12-24T02:57:25.966Z"
   },
   {
    "duration": 16,
    "start_time": "2023-12-24T02:57:25.975Z"
   },
   {
    "duration": 8,
    "start_time": "2023-12-24T02:57:25.992Z"
   },
   {
    "duration": 6,
    "start_time": "2023-12-24T02:57:26.001Z"
   },
   {
    "duration": 16,
    "start_time": "2023-12-24T02:57:26.008Z"
   },
   {
    "duration": 13,
    "start_time": "2023-12-24T02:57:26.025Z"
   },
   {
    "duration": 7,
    "start_time": "2023-12-24T02:57:26.039Z"
   },
   {
    "duration": 10,
    "start_time": "2023-12-24T02:57:26.048Z"
   },
   {
    "duration": 29,
    "start_time": "2023-12-24T02:57:26.059Z"
   },
   {
    "duration": 5,
    "start_time": "2023-12-24T02:57:26.090Z"
   },
   {
    "duration": 15,
    "start_time": "2023-12-24T02:57:26.099Z"
   },
   {
    "duration": 11,
    "start_time": "2023-12-24T02:57:26.116Z"
   },
   {
    "duration": 28,
    "start_time": "2023-12-24T02:57:26.128Z"
   },
   {
    "duration": 12,
    "start_time": "2023-12-24T02:57:26.158Z"
   },
   {
    "duration": 13,
    "start_time": "2023-12-24T02:57:26.171Z"
   },
   {
    "duration": 18,
    "start_time": "2023-12-24T02:57:26.185Z"
   },
   {
    "duration": 48,
    "start_time": "2023-12-24T02:57:26.204Z"
   },
   {
    "duration": 13,
    "start_time": "2023-12-24T02:57:26.253Z"
   },
   {
    "duration": 18,
    "start_time": "2023-12-24T02:57:26.267Z"
   },
   {
    "duration": 160,
    "start_time": "2023-12-24T02:57:26.286Z"
   },
   {
    "duration": 129,
    "start_time": "2023-12-24T02:57:26.447Z"
   },
   {
    "duration": 5,
    "start_time": "2023-12-24T02:57:26.578Z"
   },
   {
    "duration": 100,
    "start_time": "2023-12-24T02:57:26.584Z"
   },
   {
    "duration": 123,
    "start_time": "2023-12-24T02:57:26.685Z"
   },
   {
    "duration": 3,
    "start_time": "2023-12-24T02:57:26.815Z"
   },
   {
    "duration": 165,
    "start_time": "2023-12-24T02:57:26.820Z"
   },
   {
    "duration": 2,
    "start_time": "2023-12-24T02:57:26.987Z"
   },
   {
    "duration": 110,
    "start_time": "2023-12-24T02:57:26.991Z"
   },
   {
    "duration": 193,
    "start_time": "2023-12-24T02:57:27.102Z"
   },
   {
    "duration": 22,
    "start_time": "2023-12-24T02:57:27.296Z"
   },
   {
    "duration": 171,
    "start_time": "2023-12-24T02:57:27.320Z"
   },
   {
    "duration": 183,
    "start_time": "2023-12-24T02:57:27.493Z"
   },
   {
    "duration": 23,
    "start_time": "2023-12-24T02:57:27.678Z"
   },
   {
    "duration": 14,
    "start_time": "2023-12-24T02:57:27.715Z"
   },
   {
    "duration": 15,
    "start_time": "2023-12-24T02:57:27.730Z"
   },
   {
    "duration": 30,
    "start_time": "2023-12-24T02:57:27.747Z"
   },
   {
    "duration": 184,
    "start_time": "2023-12-24T02:57:27.779Z"
   },
   {
    "duration": 180,
    "start_time": "2023-12-24T02:57:27.965Z"
   },
   {
    "duration": 200,
    "start_time": "2023-12-24T02:57:28.146Z"
   },
   {
    "duration": 14,
    "start_time": "2023-12-24T02:57:28.348Z"
   },
   {
    "duration": 29,
    "start_time": "2023-12-24T02:57:28.364Z"
   },
   {
    "duration": 187,
    "start_time": "2023-12-24T02:57:28.394Z"
   },
   {
    "duration": 158,
    "start_time": "2023-12-24T02:57:28.582Z"
   },
   {
    "duration": 174,
    "start_time": "2023-12-24T02:57:28.742Z"
   },
   {
    "duration": 870,
    "start_time": "2023-12-24T02:57:28.918Z"
   },
   {
    "duration": 3,
    "start_time": "2023-12-24T02:57:29.790Z"
   },
   {
    "duration": 6,
    "start_time": "2023-12-24T02:57:29.794Z"
   },
   {
    "duration": 24,
    "start_time": "2023-12-24T02:57:29.801Z"
   },
   {
    "duration": 11,
    "start_time": "2023-12-24T02:57:29.826Z"
   },
   {
    "duration": 3,
    "start_time": "2023-12-24T02:57:29.838Z"
   },
   {
    "duration": 145,
    "start_time": "2023-12-24T02:57:29.842Z"
   },
   {
    "duration": 6,
    "start_time": "2023-12-24T02:57:29.988Z"
   },
   {
    "duration": 43,
    "start_time": "2023-12-24T02:57:29.996Z"
   },
   {
    "duration": 35,
    "start_time": "2023-12-24T02:57:30.041Z"
   },
   {
    "duration": 817,
    "start_time": "2023-12-24T02:57:30.078Z"
   },
   {
    "duration": 5,
    "start_time": "2023-12-24T02:57:30.896Z"
   },
   {
    "duration": 29,
    "start_time": "2023-12-24T02:57:30.914Z"
   },
   {
    "duration": 70,
    "start_time": "2023-12-24T02:57:30.945Z"
   },
   {
    "duration": 348,
    "start_time": "2023-12-24T02:57:31.017Z"
   },
   {
    "duration": 323,
    "start_time": "2023-12-24T02:57:31.367Z"
   },
   {
    "duration": 5,
    "start_time": "2023-12-24T02:57:31.692Z"
   },
   {
    "duration": 269,
    "start_time": "2023-12-24T02:57:31.698Z"
   },
   {
    "duration": 1340,
    "start_time": "2023-12-24T03:00:00.769Z"
   },
   {
    "duration": 64,
    "start_time": "2023-12-24T03:00:02.111Z"
   },
   {
    "duration": 12,
    "start_time": "2023-12-24T03:00:02.177Z"
   },
   {
    "duration": 44,
    "start_time": "2023-12-24T03:00:02.191Z"
   },
   {
    "duration": 93,
    "start_time": "2023-12-24T03:00:02.237Z"
   },
   {
    "duration": 12,
    "start_time": "2023-12-24T03:00:02.331Z"
   },
   {
    "duration": 6,
    "start_time": "2023-12-24T03:00:02.344Z"
   },
   {
    "duration": 37,
    "start_time": "2023-12-24T03:00:02.352Z"
   },
   {
    "duration": 14,
    "start_time": "2023-12-24T03:00:02.391Z"
   },
   {
    "duration": 12,
    "start_time": "2023-12-24T03:00:02.407Z"
   },
   {
    "duration": 8,
    "start_time": "2023-12-24T03:00:02.420Z"
   },
   {
    "duration": 26,
    "start_time": "2023-12-24T03:00:02.429Z"
   },
   {
    "duration": 5,
    "start_time": "2023-12-24T03:00:02.457Z"
   },
   {
    "duration": 14,
    "start_time": "2023-12-24T03:00:02.463Z"
   },
   {
    "duration": 8,
    "start_time": "2023-12-24T03:00:02.479Z"
   },
   {
    "duration": 4,
    "start_time": "2023-12-24T03:00:02.489Z"
   },
   {
    "duration": 17,
    "start_time": "2023-12-24T03:00:02.494Z"
   },
   {
    "duration": 4,
    "start_time": "2023-12-24T03:00:02.513Z"
   },
   {
    "duration": 12,
    "start_time": "2023-12-24T03:00:02.519Z"
   },
   {
    "duration": 12,
    "start_time": "2023-12-24T03:00:02.532Z"
   },
   {
    "duration": 10,
    "start_time": "2023-12-24T03:00:02.546Z"
   },
   {
    "duration": 21,
    "start_time": "2023-12-24T03:00:02.557Z"
   },
   {
    "duration": 8,
    "start_time": "2023-12-24T03:00:02.579Z"
   },
   {
    "duration": 16,
    "start_time": "2023-12-24T03:00:02.589Z"
   },
   {
    "duration": 20,
    "start_time": "2023-12-24T03:00:02.607Z"
   },
   {
    "duration": 37,
    "start_time": "2023-12-24T03:00:02.628Z"
   },
   {
    "duration": 4,
    "start_time": "2023-12-24T03:00:02.667Z"
   },
   {
    "duration": 8,
    "start_time": "2023-12-24T03:00:02.676Z"
   },
   {
    "duration": 10,
    "start_time": "2023-12-24T03:00:02.685Z"
   },
   {
    "duration": 30,
    "start_time": "2023-12-24T03:00:02.696Z"
   },
   {
    "duration": 11,
    "start_time": "2023-12-24T03:00:02.728Z"
   },
   {
    "duration": 22,
    "start_time": "2023-12-24T03:00:02.741Z"
   },
   {
    "duration": 8,
    "start_time": "2023-12-24T03:00:02.765Z"
   },
   {
    "duration": 19,
    "start_time": "2023-12-24T03:00:02.774Z"
   },
   {
    "duration": 12,
    "start_time": "2023-12-24T03:00:02.795Z"
   },
   {
    "duration": 31,
    "start_time": "2023-12-24T03:00:02.808Z"
   },
   {
    "duration": 168,
    "start_time": "2023-12-24T03:00:02.841Z"
   },
   {
    "duration": 140,
    "start_time": "2023-12-24T03:00:03.011Z"
   },
   {
    "duration": 5,
    "start_time": "2023-12-24T03:00:03.153Z"
   },
   {
    "duration": 103,
    "start_time": "2023-12-24T03:00:03.159Z"
   },
   {
    "duration": 135,
    "start_time": "2023-12-24T03:00:03.264Z"
   },
   {
    "duration": 3,
    "start_time": "2023-12-24T03:00:03.401Z"
   },
   {
    "duration": 173,
    "start_time": "2023-12-24T03:00:03.405Z"
   },
   {
    "duration": 3,
    "start_time": "2023-12-24T03:00:03.580Z"
   },
   {
    "duration": 112,
    "start_time": "2023-12-24T03:00:03.584Z"
   },
   {
    "duration": 184,
    "start_time": "2023-12-24T03:00:03.698Z"
   },
   {
    "duration": 13,
    "start_time": "2023-12-24T03:00:03.883Z"
   },
   {
    "duration": 182,
    "start_time": "2023-12-24T03:00:03.898Z"
   },
   {
    "duration": 190,
    "start_time": "2023-12-24T03:00:04.081Z"
   },
   {
    "duration": 24,
    "start_time": "2023-12-24T03:00:04.273Z"
   },
   {
    "duration": 28,
    "start_time": "2023-12-24T03:00:04.299Z"
   },
   {
    "duration": 17,
    "start_time": "2023-12-24T03:00:04.328Z"
   },
   {
    "duration": 31,
    "start_time": "2023-12-24T03:00:04.346Z"
   },
   {
    "duration": 191,
    "start_time": "2023-12-24T03:00:04.379Z"
   },
   {
    "duration": 174,
    "start_time": "2023-12-24T03:00:04.571Z"
   },
   {
    "duration": 184,
    "start_time": "2023-12-24T03:00:04.746Z"
   },
   {
    "duration": 14,
    "start_time": "2023-12-24T03:00:04.931Z"
   },
   {
    "duration": 31,
    "start_time": "2023-12-24T03:00:04.946Z"
   },
   {
    "duration": 171,
    "start_time": "2023-12-24T03:00:04.979Z"
   },
   {
    "duration": 152,
    "start_time": "2023-12-24T03:00:05.151Z"
   },
   {
    "duration": 168,
    "start_time": "2023-12-24T03:00:05.304Z"
   },
   {
    "duration": 864,
    "start_time": "2023-12-24T03:00:05.474Z"
   },
   {
    "duration": 4,
    "start_time": "2023-12-24T03:00:06.340Z"
   },
   {
    "duration": 8,
    "start_time": "2023-12-24T03:00:06.345Z"
   },
   {
    "duration": 13,
    "start_time": "2023-12-24T03:00:06.355Z"
   },
   {
    "duration": 11,
    "start_time": "2023-12-24T03:00:06.370Z"
   },
   {
    "duration": 4,
    "start_time": "2023-12-24T03:00:06.383Z"
   },
   {
    "duration": 172,
    "start_time": "2023-12-24T03:00:06.388Z"
   },
   {
    "duration": 7,
    "start_time": "2023-12-24T03:00:06.562Z"
   },
   {
    "duration": 14,
    "start_time": "2023-12-24T03:00:06.570Z"
   },
   {
    "duration": 6,
    "start_time": "2023-12-24T03:00:06.586Z"
   },
   {
    "duration": 825,
    "start_time": "2023-12-24T03:00:06.593Z"
   },
   {
    "duration": 5,
    "start_time": "2023-12-24T03:00:07.420Z"
   },
   {
    "duration": 11,
    "start_time": "2023-12-24T03:00:07.426Z"
   },
   {
    "duration": 5,
    "start_time": "2023-12-24T03:00:07.438Z"
   },
   {
    "duration": 323,
    "start_time": "2023-12-24T03:00:07.444Z"
   },
   {
    "duration": 308,
    "start_time": "2023-12-24T03:00:07.769Z"
   },
   {
    "duration": 4,
    "start_time": "2023-12-24T03:00:08.079Z"
   },
   {
    "duration": 292,
    "start_time": "2023-12-24T03:00:08.085Z"
   },
   {
    "duration": 4,
    "start_time": "2023-12-24T03:07:19.133Z"
   },
   {
    "duration": 1226,
    "start_time": "2023-12-24T03:09:38.083Z"
   },
   {
    "duration": 65,
    "start_time": "2023-12-24T03:09:39.311Z"
   },
   {
    "duration": 12,
    "start_time": "2023-12-24T03:09:39.378Z"
   },
   {
    "duration": 39,
    "start_time": "2023-12-24T03:09:39.393Z"
   },
   {
    "duration": 15,
    "start_time": "2023-12-24T03:09:39.433Z"
   },
   {
    "duration": 23,
    "start_time": "2023-12-24T03:09:39.449Z"
   },
   {
    "duration": 10,
    "start_time": "2023-12-24T03:09:39.474Z"
   },
   {
    "duration": 22,
    "start_time": "2023-12-24T03:09:39.485Z"
   },
   {
    "duration": 9,
    "start_time": "2023-12-24T03:09:39.508Z"
   },
   {
    "duration": 13,
    "start_time": "2023-12-24T03:09:39.519Z"
   },
   {
    "duration": 5,
    "start_time": "2023-12-24T03:09:39.533Z"
   },
   {
    "duration": 15,
    "start_time": "2023-12-24T03:09:39.539Z"
   },
   {
    "duration": 9,
    "start_time": "2023-12-24T03:09:39.555Z"
   },
   {
    "duration": 12,
    "start_time": "2023-12-24T03:09:39.565Z"
   },
   {
    "duration": 10,
    "start_time": "2023-12-24T03:09:39.578Z"
   },
   {
    "duration": 13,
    "start_time": "2023-12-24T03:09:39.589Z"
   },
   {
    "duration": 10,
    "start_time": "2023-12-24T03:09:39.603Z"
   },
   {
    "duration": 7,
    "start_time": "2023-12-24T03:09:39.615Z"
   },
   {
    "duration": 5,
    "start_time": "2023-12-24T03:09:39.623Z"
   },
   {
    "duration": 10,
    "start_time": "2023-12-24T03:09:39.630Z"
   },
   {
    "duration": 16,
    "start_time": "2023-12-24T03:09:39.641Z"
   },
   {
    "duration": 9,
    "start_time": "2023-12-24T03:09:39.659Z"
   },
   {
    "duration": 16,
    "start_time": "2023-12-24T03:09:39.670Z"
   },
   {
    "duration": 6,
    "start_time": "2023-12-24T03:09:39.687Z"
   },
   {
    "duration": 20,
    "start_time": "2023-12-24T03:09:39.695Z"
   },
   {
    "duration": 9,
    "start_time": "2023-12-24T03:09:39.717Z"
   },
   {
    "duration": 24,
    "start_time": "2023-12-24T03:09:39.727Z"
   },
   {
    "duration": 5,
    "start_time": "2023-12-24T03:09:39.755Z"
   },
   {
    "duration": 7,
    "start_time": "2023-12-24T03:09:39.761Z"
   },
   {
    "duration": 9,
    "start_time": "2023-12-24T03:09:39.769Z"
   },
   {
    "duration": 52,
    "start_time": "2023-12-24T03:09:39.780Z"
   },
   {
    "duration": 15,
    "start_time": "2023-12-24T03:09:39.834Z"
   },
   {
    "duration": 12,
    "start_time": "2023-12-24T03:09:39.851Z"
   },
   {
    "duration": 5,
    "start_time": "2023-12-24T03:09:39.865Z"
   },
   {
    "duration": 12,
    "start_time": "2023-12-24T03:09:39.872Z"
   },
   {
    "duration": 9,
    "start_time": "2023-12-24T03:09:39.886Z"
   },
   {
    "duration": 4,
    "start_time": "2023-12-24T03:09:39.915Z"
   },
   {
    "duration": 155,
    "start_time": "2023-12-24T03:09:39.921Z"
   },
   {
    "duration": 140,
    "start_time": "2023-12-24T03:09:40.079Z"
   },
   {
    "duration": 6,
    "start_time": "2023-12-24T03:09:40.221Z"
   },
   {
    "duration": 107,
    "start_time": "2023-12-24T03:09:40.229Z"
   },
   {
    "duration": 128,
    "start_time": "2023-12-24T03:09:40.338Z"
   },
   {
    "duration": 3,
    "start_time": "2023-12-24T03:09:40.470Z"
   },
   {
    "duration": 181,
    "start_time": "2023-12-24T03:09:40.475Z"
   },
   {
    "duration": 4,
    "start_time": "2023-12-24T03:09:40.657Z"
   },
   {
    "duration": 108,
    "start_time": "2023-12-24T03:09:40.663Z"
   },
   {
    "duration": 182,
    "start_time": "2023-12-24T03:09:40.773Z"
   },
   {
    "duration": 14,
    "start_time": "2023-12-24T03:09:40.957Z"
   },
   {
    "duration": 177,
    "start_time": "2023-12-24T03:09:40.973Z"
   },
   {
    "duration": 197,
    "start_time": "2023-12-24T03:09:41.151Z"
   },
   {
    "duration": 20,
    "start_time": "2023-12-24T03:09:41.349Z"
   },
   {
    "duration": 9,
    "start_time": "2023-12-24T03:09:41.370Z"
   },
   {
    "duration": 18,
    "start_time": "2023-12-24T03:09:41.380Z"
   },
   {
    "duration": 39,
    "start_time": "2023-12-24T03:09:41.400Z"
   },
   {
    "duration": 174,
    "start_time": "2023-12-24T03:09:41.441Z"
   },
   {
    "duration": 158,
    "start_time": "2023-12-24T03:09:41.617Z"
   },
   {
    "duration": 161,
    "start_time": "2023-12-24T03:09:41.777Z"
   },
   {
    "duration": 10,
    "start_time": "2023-12-24T03:09:41.940Z"
   },
   {
    "duration": 30,
    "start_time": "2023-12-24T03:09:41.952Z"
   },
   {
    "duration": 169,
    "start_time": "2023-12-24T03:09:41.984Z"
   },
   {
    "duration": 157,
    "start_time": "2023-12-24T03:09:42.155Z"
   },
   {
    "duration": 157,
    "start_time": "2023-12-24T03:09:42.315Z"
   },
   {
    "duration": 12,
    "start_time": "2023-12-24T03:09:42.474Z"
   },
   {
    "duration": 13,
    "start_time": "2023-12-24T03:09:42.487Z"
   },
   {
    "duration": 1320,
    "start_time": "2023-12-24T03:09:42.501Z"
   },
   {
    "duration": 0,
    "start_time": "2023-12-24T03:09:43.822Z"
   },
   {
    "duration": 0,
    "start_time": "2023-12-24T03:09:43.823Z"
   },
   {
    "duration": 0,
    "start_time": "2023-12-24T03:09:43.824Z"
   },
   {
    "duration": 0,
    "start_time": "2023-12-24T03:09:43.826Z"
   },
   {
    "duration": 1,
    "start_time": "2023-12-24T03:09:43.826Z"
   },
   {
    "duration": 0,
    "start_time": "2023-12-24T03:09:43.827Z"
   },
   {
    "duration": 0,
    "start_time": "2023-12-24T03:09:43.829Z"
   },
   {
    "duration": 0,
    "start_time": "2023-12-24T03:09:43.830Z"
   },
   {
    "duration": 0,
    "start_time": "2023-12-24T03:09:43.831Z"
   },
   {
    "duration": 0,
    "start_time": "2023-12-24T03:09:43.832Z"
   },
   {
    "duration": 0,
    "start_time": "2023-12-24T03:09:43.833Z"
   },
   {
    "duration": 1,
    "start_time": "2023-12-24T03:09:43.834Z"
   },
   {
    "duration": 0,
    "start_time": "2023-12-24T03:09:43.836Z"
   },
   {
    "duration": 0,
    "start_time": "2023-12-24T03:09:43.837Z"
   },
   {
    "duration": 0,
    "start_time": "2023-12-24T03:09:43.838Z"
   },
   {
    "duration": 1164,
    "start_time": "2023-12-24T03:11:31.956Z"
   },
   {
    "duration": 67,
    "start_time": "2023-12-24T03:11:33.122Z"
   },
   {
    "duration": 12,
    "start_time": "2023-12-24T03:11:33.191Z"
   },
   {
    "duration": 20,
    "start_time": "2023-12-24T03:11:33.205Z"
   },
   {
    "duration": 10,
    "start_time": "2023-12-24T03:11:33.227Z"
   },
   {
    "duration": 11,
    "start_time": "2023-12-24T03:11:33.238Z"
   },
   {
    "duration": 6,
    "start_time": "2023-12-24T03:11:33.251Z"
   },
   {
    "duration": 9,
    "start_time": "2023-12-24T03:11:33.258Z"
   },
   {
    "duration": 20,
    "start_time": "2023-12-24T03:11:33.268Z"
   },
   {
    "duration": 12,
    "start_time": "2023-12-24T03:11:33.290Z"
   },
   {
    "duration": 13,
    "start_time": "2023-12-24T03:11:33.304Z"
   },
   {
    "duration": 4,
    "start_time": "2023-12-24T03:11:33.319Z"
   },
   {
    "duration": 21,
    "start_time": "2023-12-24T03:11:33.324Z"
   },
   {
    "duration": 4,
    "start_time": "2023-12-24T03:11:33.347Z"
   },
   {
    "duration": 10,
    "start_time": "2023-12-24T03:11:33.352Z"
   },
   {
    "duration": 7,
    "start_time": "2023-12-24T03:11:33.363Z"
   },
   {
    "duration": 7,
    "start_time": "2023-12-24T03:11:33.371Z"
   },
   {
    "duration": 6,
    "start_time": "2023-12-24T03:11:33.380Z"
   },
   {
    "duration": 5,
    "start_time": "2023-12-24T03:11:33.388Z"
   },
   {
    "duration": 22,
    "start_time": "2023-12-24T03:11:33.395Z"
   },
   {
    "duration": 8,
    "start_time": "2023-12-24T03:11:33.419Z"
   },
   {
    "duration": 5,
    "start_time": "2023-12-24T03:11:33.429Z"
   },
   {
    "duration": 13,
    "start_time": "2023-12-24T03:11:33.436Z"
   },
   {
    "duration": 5,
    "start_time": "2023-12-24T03:11:33.451Z"
   },
   {
    "duration": 6,
    "start_time": "2023-12-24T03:11:33.458Z"
   },
   {
    "duration": 49,
    "start_time": "2023-12-24T03:11:33.466Z"
   },
   {
    "duration": 28,
    "start_time": "2023-12-24T03:11:33.517Z"
   },
   {
    "duration": 4,
    "start_time": "2023-12-24T03:11:33.550Z"
   },
   {
    "duration": 7,
    "start_time": "2023-12-24T03:11:33.556Z"
   },
   {
    "duration": 11,
    "start_time": "2023-12-24T03:11:33.565Z"
   },
   {
    "duration": 20,
    "start_time": "2023-12-24T03:11:33.578Z"
   },
   {
    "duration": 21,
    "start_time": "2023-12-24T03:11:33.600Z"
   },
   {
    "duration": 8,
    "start_time": "2023-12-24T03:11:33.623Z"
   },
   {
    "duration": 6,
    "start_time": "2023-12-24T03:11:33.633Z"
   },
   {
    "duration": 8,
    "start_time": "2023-12-24T03:11:33.641Z"
   },
   {
    "duration": 3,
    "start_time": "2023-12-24T03:11:33.651Z"
   },
   {
    "duration": 3,
    "start_time": "2023-12-24T03:11:33.656Z"
   },
   {
    "duration": 186,
    "start_time": "2023-12-24T03:11:33.661Z"
   },
   {
    "duration": 146,
    "start_time": "2023-12-24T03:11:33.849Z"
   },
   {
    "duration": 6,
    "start_time": "2023-12-24T03:11:33.997Z"
   },
   {
    "duration": 101,
    "start_time": "2023-12-24T03:11:34.015Z"
   },
   {
    "duration": 130,
    "start_time": "2023-12-24T03:11:34.117Z"
   },
   {
    "duration": 3,
    "start_time": "2023-12-24T03:11:34.248Z"
   },
   {
    "duration": 168,
    "start_time": "2023-12-24T03:11:34.253Z"
   },
   {
    "duration": 3,
    "start_time": "2023-12-24T03:11:34.422Z"
   },
   {
    "duration": 108,
    "start_time": "2023-12-24T03:11:34.427Z"
   },
   {
    "duration": 179,
    "start_time": "2023-12-24T03:11:34.537Z"
   },
   {
    "duration": 12,
    "start_time": "2023-12-24T03:11:34.718Z"
   },
   {
    "duration": 179,
    "start_time": "2023-12-24T03:11:34.732Z"
   },
   {
    "duration": 180,
    "start_time": "2023-12-24T03:11:34.914Z"
   },
   {
    "duration": 31,
    "start_time": "2023-12-24T03:11:35.096Z"
   },
   {
    "duration": 12,
    "start_time": "2023-12-24T03:11:35.129Z"
   },
   {
    "duration": 61,
    "start_time": "2023-12-24T03:11:35.143Z"
   },
   {
    "duration": 50,
    "start_time": "2023-12-24T03:11:35.206Z"
   },
   {
    "duration": 161,
    "start_time": "2023-12-24T03:11:35.257Z"
   },
   {
    "duration": 168,
    "start_time": "2023-12-24T03:11:35.419Z"
   },
   {
    "duration": 190,
    "start_time": "2023-12-24T03:11:35.589Z"
   },
   {
    "duration": 21,
    "start_time": "2023-12-24T03:11:35.780Z"
   },
   {
    "duration": 30,
    "start_time": "2023-12-24T03:11:35.814Z"
   },
   {
    "duration": 173,
    "start_time": "2023-12-24T03:11:35.846Z"
   },
   {
    "duration": 165,
    "start_time": "2023-12-24T03:11:36.021Z"
   },
   {
    "duration": 170,
    "start_time": "2023-12-24T03:11:36.188Z"
   },
   {
    "duration": 899,
    "start_time": "2023-12-24T03:11:36.360Z"
   },
   {
    "duration": 3,
    "start_time": "2023-12-24T03:11:37.261Z"
   },
   {
    "duration": 11,
    "start_time": "2023-12-24T03:11:37.265Z"
   },
   {
    "duration": 18,
    "start_time": "2023-12-24T03:11:37.278Z"
   },
   {
    "duration": 10,
    "start_time": "2023-12-24T03:11:37.298Z"
   },
   {
    "duration": 7,
    "start_time": "2023-12-24T03:11:37.315Z"
   },
   {
    "duration": 133,
    "start_time": "2023-12-24T03:11:37.324Z"
   },
   {
    "duration": 5,
    "start_time": "2023-12-24T03:11:37.458Z"
   },
   {
    "duration": 14,
    "start_time": "2023-12-24T03:11:37.465Z"
   },
   {
    "duration": 5,
    "start_time": "2023-12-24T03:11:37.480Z"
   },
   {
    "duration": 789,
    "start_time": "2023-12-24T03:11:37.486Z"
   },
   {
    "duration": 5,
    "start_time": "2023-12-24T03:11:38.276Z"
   },
   {
    "duration": 12,
    "start_time": "2023-12-24T03:11:38.282Z"
   },
   {
    "duration": 19,
    "start_time": "2023-12-24T03:11:38.296Z"
   },
   {
    "duration": 332,
    "start_time": "2023-12-24T03:11:38.317Z"
   },
   {
    "duration": 328,
    "start_time": "2023-12-24T03:11:38.651Z"
   },
   {
    "duration": 6,
    "start_time": "2023-12-24T03:11:38.981Z"
   },
   {
    "duration": 282,
    "start_time": "2023-12-24T03:11:38.988Z"
   },
   {
    "duration": 1230,
    "start_time": "2023-12-24T03:18:09.927Z"
   },
   {
    "duration": 66,
    "start_time": "2023-12-24T03:18:11.159Z"
   },
   {
    "duration": 13,
    "start_time": "2023-12-24T03:18:11.229Z"
   },
   {
    "duration": 13,
    "start_time": "2023-12-24T03:18:11.243Z"
   },
   {
    "duration": 14,
    "start_time": "2023-12-24T03:18:11.257Z"
   },
   {
    "duration": 12,
    "start_time": "2023-12-24T03:18:11.273Z"
   },
   {
    "duration": 7,
    "start_time": "2023-12-24T03:18:11.286Z"
   },
   {
    "duration": 8,
    "start_time": "2023-12-24T03:18:11.315Z"
   },
   {
    "duration": 6,
    "start_time": "2023-12-24T03:18:11.326Z"
   },
   {
    "duration": 9,
    "start_time": "2023-12-24T03:18:11.334Z"
   },
   {
    "duration": 6,
    "start_time": "2023-12-24T03:18:11.345Z"
   },
   {
    "duration": 9,
    "start_time": "2023-12-24T03:18:11.353Z"
   },
   {
    "duration": 13,
    "start_time": "2023-12-24T03:18:11.363Z"
   },
   {
    "duration": 10,
    "start_time": "2023-12-24T03:18:11.378Z"
   },
   {
    "duration": 30,
    "start_time": "2023-12-24T03:18:11.389Z"
   },
   {
    "duration": 9,
    "start_time": "2023-12-24T03:18:11.421Z"
   },
   {
    "duration": 7,
    "start_time": "2023-12-24T03:18:11.432Z"
   },
   {
    "duration": 11,
    "start_time": "2023-12-24T03:18:11.440Z"
   },
   {
    "duration": 4,
    "start_time": "2023-12-24T03:18:11.453Z"
   },
   {
    "duration": 5,
    "start_time": "2023-12-24T03:18:11.459Z"
   },
   {
    "duration": 11,
    "start_time": "2023-12-24T03:18:11.465Z"
   },
   {
    "duration": 7,
    "start_time": "2023-12-24T03:18:11.477Z"
   },
   {
    "duration": 38,
    "start_time": "2023-12-24T03:18:11.486Z"
   },
   {
    "duration": 8,
    "start_time": "2023-12-24T03:18:11.525Z"
   },
   {
    "duration": 20,
    "start_time": "2023-12-24T03:18:11.534Z"
   },
   {
    "duration": 9,
    "start_time": "2023-12-24T03:18:11.556Z"
   },
   {
    "duration": 20,
    "start_time": "2023-12-24T03:18:11.570Z"
   },
   {
    "duration": 4,
    "start_time": "2023-12-24T03:18:11.591Z"
   },
   {
    "duration": 20,
    "start_time": "2023-12-24T03:18:11.596Z"
   },
   {
    "duration": 8,
    "start_time": "2023-12-24T03:18:11.618Z"
   },
   {
    "duration": 21,
    "start_time": "2023-12-24T03:18:11.627Z"
   },
   {
    "duration": 6,
    "start_time": "2023-12-24T03:18:11.649Z"
   },
   {
    "duration": 5,
    "start_time": "2023-12-24T03:18:11.656Z"
   },
   {
    "duration": 13,
    "start_time": "2023-12-24T03:18:11.663Z"
   },
   {
    "duration": 11,
    "start_time": "2023-12-24T03:18:11.677Z"
   },
   {
    "duration": 3,
    "start_time": "2023-12-24T03:18:11.689Z"
   },
   {
    "duration": 21,
    "start_time": "2023-12-24T03:18:11.694Z"
   },
   {
    "duration": 155,
    "start_time": "2023-12-24T03:18:11.717Z"
   },
   {
    "duration": 137,
    "start_time": "2023-12-24T03:18:11.873Z"
   },
   {
    "duration": 6,
    "start_time": "2023-12-24T03:18:12.011Z"
   },
   {
    "duration": 101,
    "start_time": "2023-12-24T03:18:12.018Z"
   },
   {
    "duration": 119,
    "start_time": "2023-12-24T03:18:12.120Z"
   },
   {
    "duration": 3,
    "start_time": "2023-12-24T03:18:12.241Z"
   },
   {
    "duration": 170,
    "start_time": "2023-12-24T03:18:12.246Z"
   },
   {
    "duration": 3,
    "start_time": "2023-12-24T03:18:12.418Z"
   },
   {
    "duration": 109,
    "start_time": "2023-12-24T03:18:12.422Z"
   },
   {
    "duration": 174,
    "start_time": "2023-12-24T03:18:12.533Z"
   },
   {
    "duration": 14,
    "start_time": "2023-12-24T03:18:12.709Z"
   },
   {
    "duration": 179,
    "start_time": "2023-12-24T03:18:12.724Z"
   },
   {
    "duration": 184,
    "start_time": "2023-12-24T03:18:12.904Z"
   },
   {
    "duration": 31,
    "start_time": "2023-12-24T03:18:13.090Z"
   },
   {
    "duration": 13,
    "start_time": "2023-12-24T03:18:13.122Z"
   },
   {
    "duration": 15,
    "start_time": "2023-12-24T03:18:13.136Z"
   },
   {
    "duration": 31,
    "start_time": "2023-12-24T03:18:13.152Z"
   },
   {
    "duration": 191,
    "start_time": "2023-12-24T03:18:13.184Z"
   },
   {
    "duration": 177,
    "start_time": "2023-12-24T03:18:13.377Z"
   },
   {
    "duration": 174,
    "start_time": "2023-12-24T03:18:13.556Z"
   },
   {
    "duration": 14,
    "start_time": "2023-12-24T03:18:13.731Z"
   },
   {
    "duration": 29,
    "start_time": "2023-12-24T03:18:13.746Z"
   },
   {
    "duration": 177,
    "start_time": "2023-12-24T03:18:13.776Z"
   },
   {
    "duration": 155,
    "start_time": "2023-12-24T03:18:13.954Z"
   },
   {
    "duration": 168,
    "start_time": "2023-12-24T03:18:14.114Z"
   },
   {
    "duration": 915,
    "start_time": "2023-12-24T03:18:14.284Z"
   },
   {
    "duration": 3,
    "start_time": "2023-12-24T03:18:15.200Z"
   },
   {
    "duration": 17,
    "start_time": "2023-12-24T03:18:15.205Z"
   },
   {
    "duration": 34,
    "start_time": "2023-12-24T03:18:15.223Z"
   },
   {
    "duration": 29,
    "start_time": "2023-12-24T03:18:15.259Z"
   },
   {
    "duration": 23,
    "start_time": "2023-12-24T03:18:15.290Z"
   },
   {
    "duration": 186,
    "start_time": "2023-12-24T03:18:15.315Z"
   },
   {
    "duration": 6,
    "start_time": "2023-12-24T03:18:15.503Z"
   },
   {
    "duration": 43,
    "start_time": "2023-12-24T03:18:15.510Z"
   },
   {
    "duration": 35,
    "start_time": "2023-12-24T03:18:15.554Z"
   },
   {
    "duration": 848,
    "start_time": "2023-12-24T03:18:15.591Z"
   },
   {
    "duration": 5,
    "start_time": "2023-12-24T03:18:16.441Z"
   },
   {
    "duration": 33,
    "start_time": "2023-12-24T03:18:16.447Z"
   },
   {
    "duration": 5,
    "start_time": "2023-12-24T03:18:16.482Z"
   },
   {
    "duration": 369,
    "start_time": "2023-12-24T03:18:16.488Z"
   },
   {
    "duration": 345,
    "start_time": "2023-12-24T03:18:16.858Z"
   },
   {
    "duration": 9,
    "start_time": "2023-12-24T03:18:17.205Z"
   },
   {
    "duration": 316,
    "start_time": "2023-12-24T03:18:17.216Z"
   },
   {
    "duration": 4,
    "start_time": "2023-12-24T03:22:12.000Z"
   },
   {
    "duration": 136,
    "start_time": "2023-12-24T03:22:14.352Z"
   },
   {
    "duration": 3,
    "start_time": "2023-12-24T03:26:27.274Z"
   },
   {
    "duration": 136,
    "start_time": "2023-12-24T03:26:28.538Z"
   },
   {
    "duration": 1223,
    "start_time": "2023-12-24T03:26:45.566Z"
   },
   {
    "duration": 65,
    "start_time": "2023-12-24T03:26:46.790Z"
   },
   {
    "duration": 12,
    "start_time": "2023-12-24T03:26:46.857Z"
   },
   {
    "duration": 9,
    "start_time": "2023-12-24T03:26:46.871Z"
   },
   {
    "duration": 10,
    "start_time": "2023-12-24T03:26:46.881Z"
   },
   {
    "duration": 12,
    "start_time": "2023-12-24T03:26:46.893Z"
   },
   {
    "duration": 6,
    "start_time": "2023-12-24T03:26:46.906Z"
   },
   {
    "duration": 18,
    "start_time": "2023-12-24T03:26:46.914Z"
   },
   {
    "duration": 6,
    "start_time": "2023-12-24T03:26:46.933Z"
   },
   {
    "duration": 6,
    "start_time": "2023-12-24T03:26:46.941Z"
   },
   {
    "duration": 5,
    "start_time": "2023-12-24T03:26:46.948Z"
   },
   {
    "duration": 11,
    "start_time": "2023-12-24T03:26:46.954Z"
   },
   {
    "duration": 8,
    "start_time": "2023-12-24T03:26:46.967Z"
   },
   {
    "duration": 6,
    "start_time": "2023-12-24T03:26:46.976Z"
   },
   {
    "duration": 8,
    "start_time": "2023-12-24T03:26:46.983Z"
   },
   {
    "duration": 4,
    "start_time": "2023-12-24T03:26:46.992Z"
   },
   {
    "duration": 20,
    "start_time": "2023-12-24T03:26:46.998Z"
   },
   {
    "duration": 7,
    "start_time": "2023-12-24T03:26:47.019Z"
   },
   {
    "duration": 5,
    "start_time": "2023-12-24T03:26:47.027Z"
   },
   {
    "duration": 8,
    "start_time": "2023-12-24T03:26:47.033Z"
   },
   {
    "duration": 9,
    "start_time": "2023-12-24T03:26:47.043Z"
   },
   {
    "duration": 4,
    "start_time": "2023-12-24T03:26:47.054Z"
   },
   {
    "duration": 12,
    "start_time": "2023-12-24T03:26:47.060Z"
   },
   {
    "duration": 5,
    "start_time": "2023-12-24T03:26:47.074Z"
   },
   {
    "duration": 39,
    "start_time": "2023-12-24T03:26:47.080Z"
   },
   {
    "duration": 9,
    "start_time": "2023-12-24T03:26:47.120Z"
   },
   {
    "duration": 22,
    "start_time": "2023-12-24T03:26:47.131Z"
   },
   {
    "duration": 5,
    "start_time": "2023-12-24T03:26:47.158Z"
   },
   {
    "duration": 8,
    "start_time": "2023-12-24T03:26:47.164Z"
   },
   {
    "duration": 21,
    "start_time": "2023-12-24T03:26:47.173Z"
   },
   {
    "duration": 35,
    "start_time": "2023-12-24T03:26:47.195Z"
   },
   {
    "duration": 8,
    "start_time": "2023-12-24T03:26:47.231Z"
   },
   {
    "duration": 7,
    "start_time": "2023-12-24T03:26:47.241Z"
   },
   {
    "duration": 7,
    "start_time": "2023-12-24T03:26:47.249Z"
   },
   {
    "duration": 9,
    "start_time": "2023-12-24T03:26:47.257Z"
   },
   {
    "duration": 3,
    "start_time": "2023-12-24T03:26:47.268Z"
   },
   {
    "duration": 3,
    "start_time": "2023-12-24T03:26:47.272Z"
   },
   {
    "duration": 184,
    "start_time": "2023-12-24T03:26:47.276Z"
   },
   {
    "duration": 5,
    "start_time": "2023-12-24T03:26:47.461Z"
   },
   {
    "duration": 98,
    "start_time": "2023-12-24T03:26:47.468Z"
   },
   {
    "duration": 104,
    "start_time": "2023-12-24T03:26:47.569Z"
   },
   {
    "duration": 0,
    "start_time": "2023-12-24T03:26:47.674Z"
   },
   {
    "duration": 0,
    "start_time": "2023-12-24T03:26:47.676Z"
   },
   {
    "duration": 0,
    "start_time": "2023-12-24T03:26:47.677Z"
   },
   {
    "duration": 0,
    "start_time": "2023-12-24T03:26:47.678Z"
   },
   {
    "duration": 0,
    "start_time": "2023-12-24T03:26:47.679Z"
   },
   {
    "duration": 0,
    "start_time": "2023-12-24T03:26:47.680Z"
   },
   {
    "duration": 0,
    "start_time": "2023-12-24T03:26:47.681Z"
   },
   {
    "duration": 0,
    "start_time": "2023-12-24T03:26:47.682Z"
   },
   {
    "duration": 0,
    "start_time": "2023-12-24T03:26:47.683Z"
   },
   {
    "duration": 0,
    "start_time": "2023-12-24T03:26:47.684Z"
   },
   {
    "duration": 0,
    "start_time": "2023-12-24T03:26:47.685Z"
   },
   {
    "duration": 0,
    "start_time": "2023-12-24T03:26:47.686Z"
   },
   {
    "duration": 0,
    "start_time": "2023-12-24T03:26:47.715Z"
   },
   {
    "duration": 0,
    "start_time": "2023-12-24T03:26:47.716Z"
   },
   {
    "duration": 0,
    "start_time": "2023-12-24T03:26:47.717Z"
   },
   {
    "duration": 0,
    "start_time": "2023-12-24T03:26:47.718Z"
   },
   {
    "duration": 0,
    "start_time": "2023-12-24T03:26:47.719Z"
   },
   {
    "duration": 0,
    "start_time": "2023-12-24T03:26:47.720Z"
   },
   {
    "duration": 0,
    "start_time": "2023-12-24T03:26:47.721Z"
   },
   {
    "duration": 0,
    "start_time": "2023-12-24T03:26:47.722Z"
   },
   {
    "duration": 0,
    "start_time": "2023-12-24T03:26:47.723Z"
   },
   {
    "duration": 1,
    "start_time": "2023-12-24T03:26:47.723Z"
   },
   {
    "duration": 0,
    "start_time": "2023-12-24T03:26:47.725Z"
   },
   {
    "duration": 0,
    "start_time": "2023-12-24T03:26:47.725Z"
   },
   {
    "duration": 0,
    "start_time": "2023-12-24T03:26:47.726Z"
   },
   {
    "duration": 0,
    "start_time": "2023-12-24T03:26:47.727Z"
   },
   {
    "duration": 0,
    "start_time": "2023-12-24T03:26:47.728Z"
   },
   {
    "duration": 0,
    "start_time": "2023-12-24T03:26:47.729Z"
   },
   {
    "duration": 0,
    "start_time": "2023-12-24T03:26:47.730Z"
   },
   {
    "duration": 0,
    "start_time": "2023-12-24T03:26:47.731Z"
   },
   {
    "duration": 0,
    "start_time": "2023-12-24T03:26:47.732Z"
   },
   {
    "duration": 0,
    "start_time": "2023-12-24T03:26:47.733Z"
   },
   {
    "duration": 0,
    "start_time": "2023-12-24T03:26:47.734Z"
   },
   {
    "duration": 0,
    "start_time": "2023-12-24T03:26:47.735Z"
   },
   {
    "duration": 0,
    "start_time": "2023-12-24T03:26:47.736Z"
   },
   {
    "duration": 0,
    "start_time": "2023-12-24T03:26:47.736Z"
   },
   {
    "duration": 0,
    "start_time": "2023-12-24T03:26:47.737Z"
   },
   {
    "duration": 0,
    "start_time": "2023-12-24T03:26:47.738Z"
   },
   {
    "duration": 3,
    "start_time": "2023-12-24T03:31:03.154Z"
   },
   {
    "duration": 144,
    "start_time": "2023-12-24T03:31:04.083Z"
   },
   {
    "duration": 3,
    "start_time": "2023-12-24T03:31:22.675Z"
   },
   {
    "duration": 154,
    "start_time": "2023-12-24T03:31:23.835Z"
   },
   {
    "duration": 8,
    "start_time": "2023-12-24T03:32:51.451Z"
   },
   {
    "duration": 3,
    "start_time": "2023-12-24T03:32:54.187Z"
   },
   {
    "duration": 139,
    "start_time": "2023-12-24T03:32:55.443Z"
   },
   {
    "duration": 4,
    "start_time": "2023-12-24T03:34:16.741Z"
   },
   {
    "duration": 9,
    "start_time": "2023-12-24T03:34:18.077Z"
   },
   {
    "duration": 3,
    "start_time": "2023-12-24T03:34:26.628Z"
   },
   {
    "duration": 145,
    "start_time": "2023-12-24T03:34:27.469Z"
   },
   {
    "duration": 4,
    "start_time": "2023-12-24T03:35:41.420Z"
   },
   {
    "duration": 142,
    "start_time": "2023-12-24T03:35:42.388Z"
   },
   {
    "duration": 208,
    "start_time": "2023-12-24T03:36:17.853Z"
   },
   {
    "duration": 124,
    "start_time": "2023-12-24T03:37:26.854Z"
   },
   {
    "duration": 130,
    "start_time": "2023-12-24T03:37:32.453Z"
   },
   {
    "duration": 1229,
    "start_time": "2023-12-24T03:37:48.362Z"
   },
   {
    "duration": 64,
    "start_time": "2023-12-24T03:37:49.593Z"
   },
   {
    "duration": 13,
    "start_time": "2023-12-24T03:37:49.659Z"
   },
   {
    "duration": 9,
    "start_time": "2023-12-24T03:37:49.674Z"
   },
   {
    "duration": 16,
    "start_time": "2023-12-24T03:37:49.685Z"
   },
   {
    "duration": 14,
    "start_time": "2023-12-24T03:37:49.702Z"
   },
   {
    "duration": 13,
    "start_time": "2023-12-24T03:37:49.717Z"
   },
   {
    "duration": 17,
    "start_time": "2023-12-24T03:37:49.731Z"
   },
   {
    "duration": 9,
    "start_time": "2023-12-24T03:37:49.749Z"
   },
   {
    "duration": 7,
    "start_time": "2023-12-24T03:37:49.760Z"
   },
   {
    "duration": 5,
    "start_time": "2023-12-24T03:37:49.768Z"
   },
   {
    "duration": 14,
    "start_time": "2023-12-24T03:37:49.774Z"
   },
   {
    "duration": 13,
    "start_time": "2023-12-24T03:37:49.789Z"
   },
   {
    "duration": 5,
    "start_time": "2023-12-24T03:37:49.803Z"
   },
   {
    "duration": 8,
    "start_time": "2023-12-24T03:37:49.809Z"
   },
   {
    "duration": 17,
    "start_time": "2023-12-24T03:37:49.818Z"
   },
   {
    "duration": 5,
    "start_time": "2023-12-24T03:37:49.837Z"
   },
   {
    "duration": 7,
    "start_time": "2023-12-24T03:37:49.843Z"
   },
   {
    "duration": 6,
    "start_time": "2023-12-24T03:37:49.852Z"
   },
   {
    "duration": 6,
    "start_time": "2023-12-24T03:37:49.859Z"
   },
   {
    "duration": 8,
    "start_time": "2023-12-24T03:37:49.866Z"
   },
   {
    "duration": 4,
    "start_time": "2023-12-24T03:37:49.875Z"
   },
   {
    "duration": 50,
    "start_time": "2023-12-24T03:37:49.881Z"
   },
   {
    "duration": 6,
    "start_time": "2023-12-24T03:37:49.933Z"
   },
   {
    "duration": 7,
    "start_time": "2023-12-24T03:37:49.940Z"
   },
   {
    "duration": 15,
    "start_time": "2023-12-24T03:37:49.948Z"
   },
   {
    "duration": 22,
    "start_time": "2023-12-24T03:37:49.964Z"
   },
   {
    "duration": 5,
    "start_time": "2023-12-24T03:37:50.015Z"
   },
   {
    "duration": 12,
    "start_time": "2023-12-24T03:37:50.022Z"
   },
   {
    "duration": 22,
    "start_time": "2023-12-24T03:37:50.036Z"
   },
   {
    "duration": 23,
    "start_time": "2023-12-24T03:37:50.059Z"
   },
   {
    "duration": 10,
    "start_time": "2023-12-24T03:37:50.084Z"
   },
   {
    "duration": 13,
    "start_time": "2023-12-24T03:37:50.096Z"
   },
   {
    "duration": 24,
    "start_time": "2023-12-24T03:37:50.110Z"
   },
   {
    "duration": 8,
    "start_time": "2023-12-24T03:37:50.136Z"
   },
   {
    "duration": 3,
    "start_time": "2023-12-24T03:37:50.145Z"
   },
   {
    "duration": 4,
    "start_time": "2023-12-24T03:37:50.150Z"
   },
   {
    "duration": 162,
    "start_time": "2023-12-24T03:37:50.155Z"
   },
   {
    "duration": 6,
    "start_time": "2023-12-24T03:37:50.318Z"
   },
   {
    "duration": 103,
    "start_time": "2023-12-24T03:37:50.325Z"
   },
   {
    "duration": 134,
    "start_time": "2023-12-24T03:37:50.430Z"
   },
   {
    "duration": 3,
    "start_time": "2023-12-24T03:37:50.566Z"
   },
   {
    "duration": 168,
    "start_time": "2023-12-24T03:37:50.571Z"
   },
   {
    "duration": 3,
    "start_time": "2023-12-24T03:37:50.740Z"
   },
   {
    "duration": 123,
    "start_time": "2023-12-24T03:37:50.744Z"
   },
   {
    "duration": 180,
    "start_time": "2023-12-24T03:37:50.868Z"
   },
   {
    "duration": 12,
    "start_time": "2023-12-24T03:37:51.050Z"
   },
   {
    "duration": 111,
    "start_time": "2023-12-24T03:37:51.064Z"
   },
   {
    "duration": 252,
    "start_time": "2023-12-24T03:37:51.176Z"
   },
   {
    "duration": 22,
    "start_time": "2023-12-24T03:37:51.430Z"
   },
   {
    "duration": 12,
    "start_time": "2023-12-24T03:37:51.454Z"
   },
   {
    "duration": 27,
    "start_time": "2023-12-24T03:37:51.468Z"
   },
   {
    "duration": 42,
    "start_time": "2023-12-24T03:37:51.497Z"
   },
   {
    "duration": 166,
    "start_time": "2023-12-24T03:37:51.540Z"
   },
   {
    "duration": 168,
    "start_time": "2023-12-24T03:37:51.708Z"
   },
   {
    "duration": 172,
    "start_time": "2023-12-24T03:37:51.877Z"
   },
   {
    "duration": 14,
    "start_time": "2023-12-24T03:37:52.051Z"
   },
   {
    "duration": 29,
    "start_time": "2023-12-24T03:37:52.067Z"
   },
   {
    "duration": 160,
    "start_time": "2023-12-24T03:37:52.114Z"
   },
   {
    "duration": 152,
    "start_time": "2023-12-24T03:37:52.275Z"
   },
   {
    "duration": 165,
    "start_time": "2023-12-24T03:37:52.428Z"
   },
   {
    "duration": 867,
    "start_time": "2023-12-24T03:37:52.594Z"
   },
   {
    "duration": 3,
    "start_time": "2023-12-24T03:37:53.462Z"
   },
   {
    "duration": 5,
    "start_time": "2023-12-24T03:37:53.467Z"
   },
   {
    "duration": 26,
    "start_time": "2023-12-24T03:37:53.473Z"
   },
   {
    "duration": 15,
    "start_time": "2023-12-24T03:37:53.500Z"
   },
   {
    "duration": 4,
    "start_time": "2023-12-24T03:37:53.516Z"
   },
   {
    "duration": 139,
    "start_time": "2023-12-24T03:37:53.521Z"
   },
   {
    "duration": 7,
    "start_time": "2023-12-24T03:37:53.661Z"
   },
   {
    "duration": 13,
    "start_time": "2023-12-24T03:37:53.669Z"
   },
   {
    "duration": 5,
    "start_time": "2023-12-24T03:37:53.683Z"
   },
   {
    "duration": 798,
    "start_time": "2023-12-24T03:37:53.689Z"
   },
   {
    "duration": 5,
    "start_time": "2023-12-24T03:37:54.489Z"
   },
   {
    "duration": 19,
    "start_time": "2023-12-24T03:37:54.495Z"
   },
   {
    "duration": 12,
    "start_time": "2023-12-24T03:37:54.516Z"
   },
   {
    "duration": 245,
    "start_time": "2023-12-24T03:37:54.529Z"
   },
   {
    "duration": 399,
    "start_time": "2023-12-24T03:37:54.775Z"
   },
   {
    "duration": 4,
    "start_time": "2023-12-24T03:37:55.175Z"
   },
   {
    "duration": 271,
    "start_time": "2023-12-24T03:37:55.181Z"
   },
   {
    "duration": 1224,
    "start_time": "2023-12-24T03:48:37.067Z"
   },
   {
    "duration": 64,
    "start_time": "2023-12-24T03:48:38.293Z"
   },
   {
    "duration": 12,
    "start_time": "2023-12-24T03:48:38.358Z"
   },
   {
    "duration": 9,
    "start_time": "2023-12-24T03:48:38.372Z"
   },
   {
    "duration": 12,
    "start_time": "2023-12-24T03:48:38.383Z"
   },
   {
    "duration": 11,
    "start_time": "2023-12-24T03:48:38.396Z"
   },
   {
    "duration": 6,
    "start_time": "2023-12-24T03:48:38.408Z"
   },
   {
    "duration": 7,
    "start_time": "2023-12-24T03:48:38.415Z"
   },
   {
    "duration": 11,
    "start_time": "2023-12-24T03:48:38.424Z"
   },
   {
    "duration": 9,
    "start_time": "2023-12-24T03:48:38.438Z"
   },
   {
    "duration": 5,
    "start_time": "2023-12-24T03:48:38.448Z"
   },
   {
    "duration": 4,
    "start_time": "2023-12-24T03:48:38.455Z"
   },
   {
    "duration": 11,
    "start_time": "2023-12-24T03:48:38.461Z"
   },
   {
    "duration": 11,
    "start_time": "2023-12-24T03:48:38.473Z"
   },
   {
    "duration": 7,
    "start_time": "2023-12-24T03:48:38.486Z"
   },
   {
    "duration": 21,
    "start_time": "2023-12-24T03:48:38.494Z"
   },
   {
    "duration": 5,
    "start_time": "2023-12-24T03:48:38.516Z"
   },
   {
    "duration": 17,
    "start_time": "2023-12-24T03:48:38.522Z"
   },
   {
    "duration": 5,
    "start_time": "2023-12-24T03:48:38.541Z"
   },
   {
    "duration": 5,
    "start_time": "2023-12-24T03:48:38.547Z"
   },
   {
    "duration": 13,
    "start_time": "2023-12-24T03:48:38.554Z"
   },
   {
    "duration": 4,
    "start_time": "2023-12-24T03:48:38.568Z"
   },
   {
    "duration": 16,
    "start_time": "2023-12-24T03:48:38.573Z"
   },
   {
    "duration": 27,
    "start_time": "2023-12-24T03:48:38.591Z"
   },
   {
    "duration": 7,
    "start_time": "2023-12-24T03:48:38.620Z"
   },
   {
    "duration": 9,
    "start_time": "2023-12-24T03:48:38.628Z"
   },
   {
    "duration": 21,
    "start_time": "2023-12-24T03:48:38.638Z"
   },
   {
    "duration": 4,
    "start_time": "2023-12-24T03:48:38.663Z"
   },
   {
    "duration": 7,
    "start_time": "2023-12-24T03:48:38.669Z"
   },
   {
    "duration": 39,
    "start_time": "2023-12-24T03:48:38.677Z"
   },
   {
    "duration": 24,
    "start_time": "2023-12-24T03:48:38.717Z"
   },
   {
    "duration": 13,
    "start_time": "2023-12-24T03:48:38.743Z"
   },
   {
    "duration": 23,
    "start_time": "2023-12-24T03:48:38.757Z"
   },
   {
    "duration": 22,
    "start_time": "2023-12-24T03:48:38.781Z"
   },
   {
    "duration": 10,
    "start_time": "2023-12-24T03:48:38.805Z"
   },
   {
    "duration": 3,
    "start_time": "2023-12-24T03:48:38.817Z"
   },
   {
    "duration": 12,
    "start_time": "2023-12-24T03:48:38.822Z"
   },
   {
    "duration": 160,
    "start_time": "2023-12-24T03:48:38.836Z"
   },
   {
    "duration": 5,
    "start_time": "2023-12-24T03:48:38.998Z"
   },
   {
    "duration": 98,
    "start_time": "2023-12-24T03:48:39.004Z"
   },
   {
    "duration": 149,
    "start_time": "2023-12-24T03:48:39.103Z"
   },
   {
    "duration": 3,
    "start_time": "2023-12-24T03:48:39.253Z"
   },
   {
    "duration": 168,
    "start_time": "2023-12-24T03:48:39.258Z"
   },
   {
    "duration": 3,
    "start_time": "2023-12-24T03:48:39.428Z"
   },
   {
    "duration": 107,
    "start_time": "2023-12-24T03:48:39.433Z"
   },
   {
    "duration": 188,
    "start_time": "2023-12-24T03:48:39.542Z"
   },
   {
    "duration": 14,
    "start_time": "2023-12-24T03:48:39.732Z"
   },
   {
    "duration": 123,
    "start_time": "2023-12-24T03:48:39.748Z"
   },
   {
    "duration": 265,
    "start_time": "2023-12-24T03:48:39.873Z"
   },
   {
    "duration": 23,
    "start_time": "2023-12-24T03:48:40.140Z"
   },
   {
    "duration": 13,
    "start_time": "2023-12-24T03:48:40.164Z"
   },
   {
    "duration": 37,
    "start_time": "2023-12-24T03:48:40.179Z"
   },
   {
    "duration": 32,
    "start_time": "2023-12-24T03:48:40.218Z"
   },
   {
    "duration": 185,
    "start_time": "2023-12-24T03:48:40.252Z"
   },
   {
    "duration": 171,
    "start_time": "2023-12-24T03:48:40.438Z"
   },
   {
    "duration": 190,
    "start_time": "2023-12-24T03:48:40.611Z"
   },
   {
    "duration": 24,
    "start_time": "2023-12-24T03:48:40.803Z"
   },
   {
    "duration": 37,
    "start_time": "2023-12-24T03:48:40.829Z"
   },
   {
    "duration": 167,
    "start_time": "2023-12-24T03:48:40.868Z"
   },
   {
    "duration": 158,
    "start_time": "2023-12-24T03:48:41.037Z"
   },
   {
    "duration": 171,
    "start_time": "2023-12-24T03:48:41.197Z"
   },
   {
    "duration": 841,
    "start_time": "2023-12-24T03:48:41.370Z"
   },
   {
    "duration": 3,
    "start_time": "2023-12-24T03:48:42.215Z"
   },
   {
    "duration": 5,
    "start_time": "2023-12-24T03:48:42.219Z"
   },
   {
    "duration": 23,
    "start_time": "2023-12-24T03:48:42.226Z"
   },
   {
    "duration": 10,
    "start_time": "2023-12-24T03:48:42.251Z"
   },
   {
    "duration": 4,
    "start_time": "2023-12-24T03:48:42.262Z"
   },
   {
    "duration": 145,
    "start_time": "2023-12-24T03:48:42.267Z"
   },
   {
    "duration": 7,
    "start_time": "2023-12-24T03:48:42.413Z"
   },
   {
    "duration": 12,
    "start_time": "2023-12-24T03:48:42.421Z"
   },
   {
    "duration": 6,
    "start_time": "2023-12-24T03:48:42.434Z"
   },
   {
    "duration": 805,
    "start_time": "2023-12-24T03:48:42.441Z"
   },
   {
    "duration": 4,
    "start_time": "2023-12-24T03:48:43.248Z"
   },
   {
    "duration": 9,
    "start_time": "2023-12-24T03:48:43.254Z"
   },
   {
    "duration": 5,
    "start_time": "2023-12-24T03:48:43.264Z"
   },
   {
    "duration": 205,
    "start_time": "2023-12-24T03:48:43.270Z"
   },
   {
    "duration": 389,
    "start_time": "2023-12-24T03:48:43.476Z"
   },
   {
    "duration": 4,
    "start_time": "2023-12-24T03:48:43.867Z"
   },
   {
    "duration": 211,
    "start_time": "2023-12-24T03:48:43.872Z"
   },
   {
    "duration": 1186,
    "start_time": "2023-12-24T03:56:53.506Z"
   },
   {
    "duration": 64,
    "start_time": "2023-12-24T03:56:54.693Z"
   },
   {
    "duration": 12,
    "start_time": "2023-12-24T03:56:54.759Z"
   },
   {
    "duration": 9,
    "start_time": "2023-12-24T03:56:54.773Z"
   },
   {
    "duration": 10,
    "start_time": "2023-12-24T03:56:54.784Z"
   },
   {
    "duration": 26,
    "start_time": "2023-12-24T03:56:54.796Z"
   },
   {
    "duration": 6,
    "start_time": "2023-12-24T03:56:54.824Z"
   },
   {
    "duration": 27,
    "start_time": "2023-12-24T03:56:54.832Z"
   },
   {
    "duration": 8,
    "start_time": "2023-12-24T03:56:54.861Z"
   },
   {
    "duration": 7,
    "start_time": "2023-12-24T03:56:54.872Z"
   },
   {
    "duration": 7,
    "start_time": "2023-12-24T03:56:54.881Z"
   },
   {
    "duration": 7,
    "start_time": "2023-12-24T03:56:54.890Z"
   },
   {
    "duration": 17,
    "start_time": "2023-12-24T03:56:54.898Z"
   },
   {
    "duration": 6,
    "start_time": "2023-12-24T03:56:54.916Z"
   },
   {
    "duration": 6,
    "start_time": "2023-12-24T03:56:54.923Z"
   },
   {
    "duration": 4,
    "start_time": "2023-12-24T03:56:54.930Z"
   },
   {
    "duration": 4,
    "start_time": "2023-12-24T03:56:54.936Z"
   },
   {
    "duration": 12,
    "start_time": "2023-12-24T03:56:54.942Z"
   },
   {
    "duration": 5,
    "start_time": "2023-12-24T03:56:54.956Z"
   },
   {
    "duration": 5,
    "start_time": "2023-12-24T03:56:54.963Z"
   },
   {
    "duration": 45,
    "start_time": "2023-12-24T03:56:54.969Z"
   },
   {
    "duration": 4,
    "start_time": "2023-12-24T03:56:55.016Z"
   },
   {
    "duration": 17,
    "start_time": "2023-12-24T03:56:55.022Z"
   },
   {
    "duration": 19,
    "start_time": "2023-12-24T03:56:55.040Z"
   },
   {
    "duration": 14,
    "start_time": "2023-12-24T03:56:55.061Z"
   },
   {
    "duration": 4,
    "start_time": "2023-12-24T03:56:55.077Z"
   },
   {
    "duration": 38,
    "start_time": "2023-12-24T03:56:55.082Z"
   },
   {
    "duration": 2,
    "start_time": "2023-12-24T03:56:55.124Z"
   },
   {
    "duration": 5,
    "start_time": "2023-12-24T03:56:55.128Z"
   },
   {
    "duration": 163,
    "start_time": "2023-12-24T03:56:55.134Z"
   },
   {
    "duration": 5,
    "start_time": "2023-12-24T03:56:55.299Z"
   },
   {
    "duration": 88,
    "start_time": "2023-12-24T03:56:55.314Z"
   },
   {
    "duration": 141,
    "start_time": "2023-12-24T03:56:55.404Z"
   },
   {
    "duration": 4,
    "start_time": "2023-12-24T03:56:55.546Z"
   },
   {
    "duration": 178,
    "start_time": "2023-12-24T03:56:55.551Z"
   },
   {
    "duration": 3,
    "start_time": "2023-12-24T03:56:55.730Z"
   },
   {
    "duration": 117,
    "start_time": "2023-12-24T03:56:55.734Z"
   },
   {
    "duration": 180,
    "start_time": "2023-12-24T03:56:55.852Z"
   },
   {
    "duration": 11,
    "start_time": "2023-12-24T03:56:56.034Z"
   },
   {
    "duration": 109,
    "start_time": "2023-12-24T03:56:56.046Z"
   },
   {
    "duration": 251,
    "start_time": "2023-12-24T03:56:56.157Z"
   },
   {
    "duration": 24,
    "start_time": "2023-12-24T03:56:56.409Z"
   },
   {
    "duration": 12,
    "start_time": "2023-12-24T03:56:56.434Z"
   },
   {
    "duration": 14,
    "start_time": "2023-12-24T03:56:56.448Z"
   },
   {
    "duration": 52,
    "start_time": "2023-12-24T03:56:56.463Z"
   },
   {
    "duration": 165,
    "start_time": "2023-12-24T03:56:56.517Z"
   },
   {
    "duration": 171,
    "start_time": "2023-12-24T03:56:56.684Z"
   },
   {
    "duration": 172,
    "start_time": "2023-12-24T03:56:56.857Z"
   },
   {
    "duration": 16,
    "start_time": "2023-12-24T03:56:57.031Z"
   },
   {
    "duration": 29,
    "start_time": "2023-12-24T03:56:57.048Z"
   },
   {
    "duration": 182,
    "start_time": "2023-12-24T03:56:57.078Z"
   },
   {
    "duration": 154,
    "start_time": "2023-12-24T03:56:57.262Z"
   },
   {
    "duration": 164,
    "start_time": "2023-12-24T03:56:57.418Z"
   },
   {
    "duration": 890,
    "start_time": "2023-12-24T03:56:57.584Z"
   },
   {
    "duration": 3,
    "start_time": "2023-12-24T03:56:58.475Z"
   },
   {
    "duration": 8,
    "start_time": "2023-12-24T03:56:58.480Z"
   },
   {
    "duration": 17,
    "start_time": "2023-12-24T03:56:58.489Z"
   },
   {
    "duration": 15,
    "start_time": "2023-12-24T03:56:58.507Z"
   },
   {
    "duration": 3,
    "start_time": "2023-12-24T03:56:58.524Z"
   },
   {
    "duration": 161,
    "start_time": "2023-12-24T03:56:58.528Z"
   },
   {
    "duration": 6,
    "start_time": "2023-12-24T03:56:58.691Z"
   },
   {
    "duration": 22,
    "start_time": "2023-12-24T03:56:58.698Z"
   },
   {
    "duration": 5,
    "start_time": "2023-12-24T03:56:58.722Z"
   },
   {
    "duration": 806,
    "start_time": "2023-12-24T03:56:58.728Z"
   },
   {
    "duration": 6,
    "start_time": "2023-12-24T03:56:59.535Z"
   },
   {
    "duration": 8,
    "start_time": "2023-12-24T03:56:59.542Z"
   },
   {
    "duration": 5,
    "start_time": "2023-12-24T03:56:59.551Z"
   },
   {
    "duration": 210,
    "start_time": "2023-12-24T03:56:59.557Z"
   },
   {
    "duration": 400,
    "start_time": "2023-12-24T03:56:59.769Z"
   },
   {
    "duration": 5,
    "start_time": "2023-12-24T03:57:00.170Z"
   },
   {
    "duration": 285,
    "start_time": "2023-12-24T03:57:00.176Z"
   },
   {
    "duration": 99,
    "start_time": "2023-12-24T04:00:55.833Z"
   },
   {
    "duration": 155,
    "start_time": "2023-12-24T04:01:28.859Z"
   },
   {
    "duration": 14,
    "start_time": "2023-12-24T04:06:27.060Z"
   },
   {
    "duration": 11,
    "start_time": "2023-12-24T04:06:51.555Z"
   },
   {
    "duration": 23,
    "start_time": "2023-12-24T04:07:08.147Z"
   },
   {
    "duration": 20,
    "start_time": "2023-12-24T04:25:01.096Z"
   },
   {
    "duration": 18,
    "start_time": "2023-12-24T04:25:06.735Z"
   },
   {
    "duration": 19,
    "start_time": "2023-12-24T04:25:12.808Z"
   },
   {
    "duration": 21,
    "start_time": "2023-12-24T04:25:49.873Z"
   },
   {
    "duration": 21,
    "start_time": "2023-12-24T04:39:40.155Z"
   },
   {
    "duration": 150,
    "start_time": "2023-12-24T04:47:15.630Z"
   },
   {
    "duration": 80,
    "start_time": "2023-12-24T04:51:26.960Z"
   },
   {
    "duration": 4,
    "start_time": "2023-12-24T04:52:13.726Z"
   },
   {
    "duration": 11,
    "start_time": "2023-12-24T04:52:20.577Z"
   },
   {
    "duration": 5,
    "start_time": "2023-12-24T04:52:34.439Z"
   },
   {
    "duration": 17,
    "start_time": "2023-12-24T04:53:09.335Z"
   },
   {
    "duration": 1292,
    "start_time": "2023-12-24T04:53:14.635Z"
   },
   {
    "duration": 65,
    "start_time": "2023-12-24T04:53:15.928Z"
   },
   {
    "duration": 12,
    "start_time": "2023-12-24T04:53:15.994Z"
   },
   {
    "duration": 9,
    "start_time": "2023-12-24T04:53:16.007Z"
   },
   {
    "duration": 9,
    "start_time": "2023-12-24T04:53:16.018Z"
   },
   {
    "duration": 13,
    "start_time": "2023-12-24T04:53:16.028Z"
   },
   {
    "duration": 7,
    "start_time": "2023-12-24T04:53:16.042Z"
   },
   {
    "duration": 7,
    "start_time": "2023-12-24T04:53:16.050Z"
   },
   {
    "duration": 5,
    "start_time": "2023-12-24T04:53:16.059Z"
   },
   {
    "duration": 7,
    "start_time": "2023-12-24T04:53:16.066Z"
   },
   {
    "duration": 5,
    "start_time": "2023-12-24T04:53:16.075Z"
   },
   {
    "duration": 3,
    "start_time": "2023-12-24T04:53:16.115Z"
   },
   {
    "duration": 15,
    "start_time": "2023-12-24T04:53:16.120Z"
   },
   {
    "duration": 4,
    "start_time": "2023-12-24T04:53:16.137Z"
   },
   {
    "duration": 5,
    "start_time": "2023-12-24T04:53:16.143Z"
   },
   {
    "duration": 4,
    "start_time": "2023-12-24T04:53:16.150Z"
   },
   {
    "duration": 5,
    "start_time": "2023-12-24T04:53:16.155Z"
   },
   {
    "duration": 6,
    "start_time": "2023-12-24T04:53:16.161Z"
   },
   {
    "duration": 5,
    "start_time": "2023-12-24T04:53:16.168Z"
   },
   {
    "duration": 49,
    "start_time": "2023-12-24T04:53:16.174Z"
   },
   {
    "duration": 8,
    "start_time": "2023-12-24T04:53:16.224Z"
   },
   {
    "duration": 26,
    "start_time": "2023-12-24T04:53:16.234Z"
   },
   {
    "duration": 75,
    "start_time": "2023-12-24T04:53:16.261Z"
   },
   {
    "duration": 0,
    "start_time": "2023-12-24T04:53:16.340Z"
   },
   {
    "duration": 0,
    "start_time": "2023-12-24T04:53:16.341Z"
   },
   {
    "duration": 0,
    "start_time": "2023-12-24T04:53:16.343Z"
   },
   {
    "duration": 0,
    "start_time": "2023-12-24T04:53:16.344Z"
   },
   {
    "duration": 0,
    "start_time": "2023-12-24T04:53:16.345Z"
   },
   {
    "duration": 0,
    "start_time": "2023-12-24T04:53:16.347Z"
   },
   {
    "duration": 0,
    "start_time": "2023-12-24T04:53:16.348Z"
   },
   {
    "duration": 0,
    "start_time": "2023-12-24T04:53:16.349Z"
   },
   {
    "duration": 0,
    "start_time": "2023-12-24T04:53:16.351Z"
   },
   {
    "duration": 0,
    "start_time": "2023-12-24T04:53:16.352Z"
   },
   {
    "duration": 0,
    "start_time": "2023-12-24T04:53:16.354Z"
   },
   {
    "duration": 0,
    "start_time": "2023-12-24T04:53:16.355Z"
   },
   {
    "duration": 0,
    "start_time": "2023-12-24T04:53:16.356Z"
   },
   {
    "duration": 0,
    "start_time": "2023-12-24T04:53:16.358Z"
   },
   {
    "duration": 0,
    "start_time": "2023-12-24T04:53:16.359Z"
   },
   {
    "duration": 0,
    "start_time": "2023-12-24T04:53:16.361Z"
   },
   {
    "duration": 0,
    "start_time": "2023-12-24T04:53:16.362Z"
   },
   {
    "duration": 0,
    "start_time": "2023-12-24T04:53:16.363Z"
   },
   {
    "duration": 0,
    "start_time": "2023-12-24T04:53:16.364Z"
   },
   {
    "duration": 0,
    "start_time": "2023-12-24T04:53:16.366Z"
   },
   {
    "duration": 0,
    "start_time": "2023-12-24T04:53:16.368Z"
   },
   {
    "duration": 0,
    "start_time": "2023-12-24T04:53:16.369Z"
   },
   {
    "duration": 0,
    "start_time": "2023-12-24T04:53:16.370Z"
   },
   {
    "duration": 0,
    "start_time": "2023-12-24T04:53:16.372Z"
   },
   {
    "duration": 0,
    "start_time": "2023-12-24T04:53:16.373Z"
   },
   {
    "duration": 0,
    "start_time": "2023-12-24T04:53:16.374Z"
   },
   {
    "duration": 0,
    "start_time": "2023-12-24T04:53:16.376Z"
   },
   {
    "duration": 0,
    "start_time": "2023-12-24T04:53:16.377Z"
   },
   {
    "duration": 0,
    "start_time": "2023-12-24T04:53:16.415Z"
   },
   {
    "duration": 0,
    "start_time": "2023-12-24T04:53:16.417Z"
   },
   {
    "duration": 0,
    "start_time": "2023-12-24T04:53:16.418Z"
   },
   {
    "duration": 0,
    "start_time": "2023-12-24T04:53:16.419Z"
   },
   {
    "duration": 0,
    "start_time": "2023-12-24T04:53:16.420Z"
   },
   {
    "duration": 0,
    "start_time": "2023-12-24T04:53:16.421Z"
   },
   {
    "duration": 0,
    "start_time": "2023-12-24T04:53:16.422Z"
   },
   {
    "duration": 0,
    "start_time": "2023-12-24T04:53:16.423Z"
   },
   {
    "duration": 0,
    "start_time": "2023-12-24T04:53:16.424Z"
   },
   {
    "duration": 0,
    "start_time": "2023-12-24T04:53:16.425Z"
   },
   {
    "duration": 0,
    "start_time": "2023-12-24T04:53:16.426Z"
   },
   {
    "duration": 0,
    "start_time": "2023-12-24T04:53:16.427Z"
   },
   {
    "duration": 0,
    "start_time": "2023-12-24T04:53:16.428Z"
   },
   {
    "duration": 0,
    "start_time": "2023-12-24T04:53:16.429Z"
   },
   {
    "duration": 0,
    "start_time": "2023-12-24T04:53:16.430Z"
   },
   {
    "duration": 0,
    "start_time": "2023-12-24T04:53:16.432Z"
   },
   {
    "duration": 0,
    "start_time": "2023-12-24T04:53:16.433Z"
   },
   {
    "duration": 0,
    "start_time": "2023-12-24T04:53:16.435Z"
   },
   {
    "duration": 0,
    "start_time": "2023-12-24T04:53:16.436Z"
   },
   {
    "duration": 0,
    "start_time": "2023-12-24T04:53:16.437Z"
   },
   {
    "duration": 0,
    "start_time": "2023-12-24T04:53:16.439Z"
   },
   {
    "duration": 0,
    "start_time": "2023-12-24T04:53:16.440Z"
   },
   {
    "duration": 0,
    "start_time": "2023-12-24T04:53:16.441Z"
   },
   {
    "duration": 0,
    "start_time": "2023-12-24T04:53:16.443Z"
   },
   {
    "duration": 0,
    "start_time": "2023-12-24T04:53:16.444Z"
   },
   {
    "duration": 0,
    "start_time": "2023-12-24T04:53:16.446Z"
   },
   {
    "duration": 1183,
    "start_time": "2023-12-24T04:53:47.495Z"
   },
   {
    "duration": 63,
    "start_time": "2023-12-24T04:53:48.680Z"
   },
   {
    "duration": 12,
    "start_time": "2023-12-24T04:53:48.744Z"
   },
   {
    "duration": 20,
    "start_time": "2023-12-24T04:53:48.758Z"
   },
   {
    "duration": 30,
    "start_time": "2023-12-24T04:53:48.779Z"
   },
   {
    "duration": 17,
    "start_time": "2023-12-24T04:53:48.810Z"
   },
   {
    "duration": 12,
    "start_time": "2023-12-24T04:53:48.829Z"
   },
   {
    "duration": 22,
    "start_time": "2023-12-24T04:53:48.843Z"
   },
   {
    "duration": 7,
    "start_time": "2023-12-24T04:53:48.867Z"
   },
   {
    "duration": 6,
    "start_time": "2023-12-24T04:53:48.876Z"
   },
   {
    "duration": 17,
    "start_time": "2023-12-24T04:53:48.884Z"
   },
   {
    "duration": 4,
    "start_time": "2023-12-24T04:53:48.902Z"
   },
   {
    "duration": 7,
    "start_time": "2023-12-24T04:53:48.907Z"
   },
   {
    "duration": 5,
    "start_time": "2023-12-24T04:53:48.915Z"
   },
   {
    "duration": 6,
    "start_time": "2023-12-24T04:53:48.922Z"
   },
   {
    "duration": 17,
    "start_time": "2023-12-24T04:53:48.929Z"
   },
   {
    "duration": 9,
    "start_time": "2023-12-24T04:53:48.947Z"
   },
   {
    "duration": 8,
    "start_time": "2023-12-24T04:53:48.957Z"
   },
   {
    "duration": 30,
    "start_time": "2023-12-24T04:53:48.966Z"
   },
   {
    "duration": 6,
    "start_time": "2023-12-24T04:53:48.997Z"
   },
   {
    "duration": 20,
    "start_time": "2023-12-24T04:53:49.004Z"
   },
   {
    "duration": 19,
    "start_time": "2023-12-24T04:53:49.026Z"
   },
   {
    "duration": 22,
    "start_time": "2023-12-24T04:53:49.046Z"
   },
   {
    "duration": 20,
    "start_time": "2023-12-24T04:53:49.069Z"
   },
   {
    "duration": 14,
    "start_time": "2023-12-24T04:53:49.090Z"
   },
   {
    "duration": 6,
    "start_time": "2023-12-24T04:53:49.106Z"
   },
   {
    "duration": 19,
    "start_time": "2023-12-24T04:53:49.114Z"
   },
   {
    "duration": 3,
    "start_time": "2023-12-24T04:53:49.136Z"
   },
   {
    "duration": 12,
    "start_time": "2023-12-24T04:53:49.140Z"
   },
   {
    "duration": 159,
    "start_time": "2023-12-24T04:53:49.154Z"
   },
   {
    "duration": 5,
    "start_time": "2023-12-24T04:53:49.315Z"
   },
   {
    "duration": 106,
    "start_time": "2023-12-24T04:53:49.321Z"
   },
   {
    "duration": 133,
    "start_time": "2023-12-24T04:53:49.428Z"
   },
   {
    "duration": 3,
    "start_time": "2023-12-24T04:53:49.562Z"
   },
   {
    "duration": 166,
    "start_time": "2023-12-24T04:53:49.567Z"
   },
   {
    "duration": 2,
    "start_time": "2023-12-24T04:53:49.735Z"
   },
   {
    "duration": 116,
    "start_time": "2023-12-24T04:53:49.738Z"
   },
   {
    "duration": 179,
    "start_time": "2023-12-24T04:53:49.855Z"
   },
   {
    "duration": 14,
    "start_time": "2023-12-24T04:53:50.035Z"
   },
   {
    "duration": 118,
    "start_time": "2023-12-24T04:53:50.050Z"
   },
   {
    "duration": 254,
    "start_time": "2023-12-24T04:53:50.170Z"
   },
   {
    "duration": 78,
    "start_time": "2023-12-24T04:53:50.426Z"
   },
   {
    "duration": 0,
    "start_time": "2023-12-24T04:53:50.505Z"
   },
   {
    "duration": 0,
    "start_time": "2023-12-24T04:53:50.506Z"
   },
   {
    "duration": 0,
    "start_time": "2023-12-24T04:53:50.507Z"
   },
   {
    "duration": 0,
    "start_time": "2023-12-24T04:53:50.508Z"
   },
   {
    "duration": 0,
    "start_time": "2023-12-24T04:53:50.509Z"
   },
   {
    "duration": 0,
    "start_time": "2023-12-24T04:53:50.510Z"
   },
   {
    "duration": 0,
    "start_time": "2023-12-24T04:53:50.511Z"
   },
   {
    "duration": 0,
    "start_time": "2023-12-24T04:53:50.512Z"
   },
   {
    "duration": 0,
    "start_time": "2023-12-24T04:53:50.512Z"
   },
   {
    "duration": 0,
    "start_time": "2023-12-24T04:53:50.513Z"
   },
   {
    "duration": 0,
    "start_time": "2023-12-24T04:53:50.514Z"
   },
   {
    "duration": 0,
    "start_time": "2023-12-24T04:53:50.515Z"
   },
   {
    "duration": 0,
    "start_time": "2023-12-24T04:53:50.516Z"
   },
   {
    "duration": 0,
    "start_time": "2023-12-24T04:53:50.517Z"
   },
   {
    "duration": 0,
    "start_time": "2023-12-24T04:53:50.518Z"
   },
   {
    "duration": 0,
    "start_time": "2023-12-24T04:53:50.519Z"
   },
   {
    "duration": 0,
    "start_time": "2023-12-24T04:53:50.520Z"
   },
   {
    "duration": 0,
    "start_time": "2023-12-24T04:53:50.521Z"
   },
   {
    "duration": 0,
    "start_time": "2023-12-24T04:53:50.521Z"
   },
   {
    "duration": 0,
    "start_time": "2023-12-24T04:53:50.522Z"
   },
   {
    "duration": 0,
    "start_time": "2023-12-24T04:53:50.523Z"
   },
   {
    "duration": 0,
    "start_time": "2023-12-24T04:53:50.524Z"
   },
   {
    "duration": 0,
    "start_time": "2023-12-24T04:53:50.525Z"
   },
   {
    "duration": 0,
    "start_time": "2023-12-24T04:53:50.525Z"
   },
   {
    "duration": 0,
    "start_time": "2023-12-24T04:53:50.526Z"
   },
   {
    "duration": 0,
    "start_time": "2023-12-24T04:53:50.527Z"
   },
   {
    "duration": 0,
    "start_time": "2023-12-24T04:53:50.528Z"
   },
   {
    "duration": 0,
    "start_time": "2023-12-24T04:53:50.529Z"
   },
   {
    "duration": 0,
    "start_time": "2023-12-24T04:53:50.530Z"
   },
   {
    "duration": 0,
    "start_time": "2023-12-24T04:53:50.531Z"
   },
   {
    "duration": 0,
    "start_time": "2023-12-24T04:53:50.532Z"
   },
   {
    "duration": 0,
    "start_time": "2023-12-24T04:53:50.533Z"
   },
   {
    "duration": 0,
    "start_time": "2023-12-24T04:53:50.533Z"
   },
   {
    "duration": 0,
    "start_time": "2023-12-24T04:53:50.534Z"
   },
   {
    "duration": 1189,
    "start_time": "2023-12-24T04:54:05.499Z"
   },
   {
    "duration": 63,
    "start_time": "2023-12-24T04:54:06.690Z"
   },
   {
    "duration": 11,
    "start_time": "2023-12-24T04:54:06.756Z"
   },
   {
    "duration": 19,
    "start_time": "2023-12-24T04:54:06.769Z"
   },
   {
    "duration": 9,
    "start_time": "2023-12-24T04:54:06.790Z"
   },
   {
    "duration": 10,
    "start_time": "2023-12-24T04:54:06.800Z"
   },
   {
    "duration": 6,
    "start_time": "2023-12-24T04:54:06.811Z"
   },
   {
    "duration": 11,
    "start_time": "2023-12-24T04:54:06.818Z"
   },
   {
    "duration": 21,
    "start_time": "2023-12-24T04:54:06.831Z"
   },
   {
    "duration": 13,
    "start_time": "2023-12-24T04:54:06.853Z"
   },
   {
    "duration": 14,
    "start_time": "2023-12-24T04:54:06.867Z"
   },
   {
    "duration": 4,
    "start_time": "2023-12-24T04:54:06.882Z"
   },
   {
    "duration": 8,
    "start_time": "2023-12-24T04:54:06.889Z"
   },
   {
    "duration": 7,
    "start_time": "2023-12-24T04:54:06.899Z"
   },
   {
    "duration": 7,
    "start_time": "2023-12-24T04:54:06.908Z"
   },
   {
    "duration": 6,
    "start_time": "2023-12-24T04:54:06.916Z"
   },
   {
    "duration": 4,
    "start_time": "2023-12-24T04:54:06.923Z"
   },
   {
    "duration": 8,
    "start_time": "2023-12-24T04:54:06.928Z"
   },
   {
    "duration": 6,
    "start_time": "2023-12-24T04:54:06.938Z"
   },
   {
    "duration": 6,
    "start_time": "2023-12-24T04:54:06.946Z"
   },
   {
    "duration": 8,
    "start_time": "2023-12-24T04:54:06.953Z"
   },
   {
    "duration": 5,
    "start_time": "2023-12-24T04:54:06.963Z"
   },
   {
    "duration": 51,
    "start_time": "2023-12-24T04:54:06.970Z"
   },
   {
    "duration": 22,
    "start_time": "2023-12-24T04:54:07.022Z"
   },
   {
    "duration": 16,
    "start_time": "2023-12-24T04:54:07.045Z"
   },
   {
    "duration": 5,
    "start_time": "2023-12-24T04:54:07.062Z"
   },
   {
    "duration": 29,
    "start_time": "2023-12-24T04:54:07.069Z"
   },
   {
    "duration": 3,
    "start_time": "2023-12-24T04:54:07.114Z"
   },
   {
    "duration": 3,
    "start_time": "2023-12-24T04:54:07.119Z"
   },
   {
    "duration": 164,
    "start_time": "2023-12-24T04:54:07.124Z"
   },
   {
    "duration": 6,
    "start_time": "2023-12-24T04:54:07.290Z"
   },
   {
    "duration": 104,
    "start_time": "2023-12-24T04:54:07.297Z"
   },
   {
    "duration": 141,
    "start_time": "2023-12-24T04:54:07.402Z"
   },
   {
    "duration": 4,
    "start_time": "2023-12-24T04:54:07.545Z"
   },
   {
    "duration": 174,
    "start_time": "2023-12-24T04:54:07.551Z"
   },
   {
    "duration": 4,
    "start_time": "2023-12-24T04:54:07.727Z"
   },
   {
    "duration": 112,
    "start_time": "2023-12-24T04:54:07.732Z"
   },
   {
    "duration": 174,
    "start_time": "2023-12-24T04:54:07.846Z"
   },
   {
    "duration": 12,
    "start_time": "2023-12-24T04:54:08.022Z"
   },
   {
    "duration": 125,
    "start_time": "2023-12-24T04:54:08.038Z"
   },
   {
    "duration": 262,
    "start_time": "2023-12-24T04:54:08.164Z"
   },
   {
    "duration": 155,
    "start_time": "2023-12-24T04:54:08.427Z"
   },
   {
    "duration": 32,
    "start_time": "2023-12-24T04:54:08.584Z"
   },
   {
    "duration": 20,
    "start_time": "2023-12-24T04:54:08.617Z"
   },
   {
    "duration": 5,
    "start_time": "2023-12-24T04:54:08.639Z"
   },
   {
    "duration": 26,
    "start_time": "2023-12-24T04:54:08.645Z"
   },
   {
    "duration": 14,
    "start_time": "2023-12-24T04:54:08.672Z"
   },
   {
    "duration": 42,
    "start_time": "2023-12-24T04:54:08.687Z"
   },
   {
    "duration": 30,
    "start_time": "2023-12-24T04:54:08.730Z"
   },
   {
    "duration": 180,
    "start_time": "2023-12-24T04:54:08.762Z"
   },
   {
    "duration": 164,
    "start_time": "2023-12-24T04:54:08.944Z"
   },
   {
    "duration": 158,
    "start_time": "2023-12-24T04:54:09.110Z"
   },
   {
    "duration": 15,
    "start_time": "2023-12-24T04:54:09.270Z"
   },
   {
    "duration": 50,
    "start_time": "2023-12-24T04:54:09.287Z"
   },
   {
    "duration": 164,
    "start_time": "2023-12-24T04:54:09.339Z"
   },
   {
    "duration": 161,
    "start_time": "2023-12-24T04:54:09.505Z"
   },
   {
    "duration": 178,
    "start_time": "2023-12-24T04:54:09.668Z"
   },
   {
    "duration": 966,
    "start_time": "2023-12-24T04:54:09.848Z"
   },
   {
    "duration": 4,
    "start_time": "2023-12-24T04:54:10.816Z"
   },
   {
    "duration": 30,
    "start_time": "2023-12-24T04:54:10.822Z"
   },
   {
    "duration": 20,
    "start_time": "2023-12-24T04:54:10.853Z"
   },
   {
    "duration": 11,
    "start_time": "2023-12-24T04:54:10.875Z"
   },
   {
    "duration": 5,
    "start_time": "2023-12-24T04:54:10.888Z"
   },
   {
    "duration": 165,
    "start_time": "2023-12-24T04:54:10.894Z"
   },
   {
    "duration": 7,
    "start_time": "2023-12-24T04:54:11.061Z"
   },
   {
    "duration": 12,
    "start_time": "2023-12-24T04:54:11.069Z"
   },
   {
    "duration": 6,
    "start_time": "2023-12-24T04:54:11.083Z"
   },
   {
    "duration": 829,
    "start_time": "2023-12-24T04:54:11.090Z"
   },
   {
    "duration": 5,
    "start_time": "2023-12-24T04:54:11.921Z"
   },
   {
    "duration": 18,
    "start_time": "2023-12-24T04:54:11.928Z"
   },
   {
    "duration": 20,
    "start_time": "2023-12-24T04:54:11.947Z"
   },
   {
    "duration": 309,
    "start_time": "2023-12-24T04:54:11.968Z"
   },
   {
    "duration": 308,
    "start_time": "2023-12-24T04:54:12.279Z"
   },
   {
    "duration": 4,
    "start_time": "2023-12-24T04:54:12.589Z"
   },
   {
    "duration": 288,
    "start_time": "2023-12-24T04:54:12.595Z"
   },
   {
    "duration": 15,
    "start_time": "2023-12-24T04:56:53.071Z"
   },
   {
    "duration": 8,
    "start_time": "2023-12-24T04:57:28.552Z"
   },
   {
    "duration": 8,
    "start_time": "2023-12-24T04:59:16.809Z"
   },
   {
    "duration": 7,
    "start_time": "2023-12-24T04:59:23.128Z"
   },
   {
    "duration": 9,
    "start_time": "2023-12-24T05:00:30.362Z"
   },
   {
    "duration": 1223,
    "start_time": "2023-12-24T05:00:46.212Z"
   },
   {
    "duration": 64,
    "start_time": "2023-12-24T05:00:47.437Z"
   },
   {
    "duration": 12,
    "start_time": "2023-12-24T05:00:47.502Z"
   },
   {
    "duration": 12,
    "start_time": "2023-12-24T05:00:47.515Z"
   },
   {
    "duration": 8,
    "start_time": "2023-12-24T05:00:47.528Z"
   },
   {
    "duration": 11,
    "start_time": "2023-12-24T05:00:47.538Z"
   },
   {
    "duration": 6,
    "start_time": "2023-12-24T05:00:47.551Z"
   },
   {
    "duration": 8,
    "start_time": "2023-12-24T05:00:47.559Z"
   },
   {
    "duration": 6,
    "start_time": "2023-12-24T05:00:47.568Z"
   },
   {
    "duration": 6,
    "start_time": "2023-12-24T05:00:47.576Z"
   },
   {
    "duration": 5,
    "start_time": "2023-12-24T05:00:47.615Z"
   },
   {
    "duration": 9,
    "start_time": "2023-12-24T05:00:47.622Z"
   },
   {
    "duration": 20,
    "start_time": "2023-12-24T05:00:47.632Z"
   },
   {
    "duration": 14,
    "start_time": "2023-12-24T05:00:47.653Z"
   },
   {
    "duration": 12,
    "start_time": "2023-12-24T05:00:47.669Z"
   },
   {
    "duration": 5,
    "start_time": "2023-12-24T05:00:47.682Z"
   },
   {
    "duration": 19,
    "start_time": "2023-12-24T05:00:47.688Z"
   },
   {
    "duration": 8,
    "start_time": "2023-12-24T05:00:47.709Z"
   },
   {
    "duration": 4,
    "start_time": "2023-12-24T05:00:47.719Z"
   },
   {
    "duration": 7,
    "start_time": "2023-12-24T05:00:47.725Z"
   },
   {
    "duration": 8,
    "start_time": "2023-12-24T05:00:47.733Z"
   },
   {
    "duration": 5,
    "start_time": "2023-12-24T05:00:47.742Z"
   },
   {
    "duration": 14,
    "start_time": "2023-12-24T05:00:47.748Z"
   },
   {
    "duration": 20,
    "start_time": "2023-12-24T05:00:47.763Z"
   },
   {
    "duration": 46,
    "start_time": "2023-12-24T05:00:47.784Z"
   },
   {
    "duration": 6,
    "start_time": "2023-12-24T05:00:47.832Z"
   },
   {
    "duration": 21,
    "start_time": "2023-12-24T05:00:47.840Z"
   },
   {
    "duration": 4,
    "start_time": "2023-12-24T05:00:47.867Z"
   },
   {
    "duration": 14,
    "start_time": "2023-12-24T05:00:47.872Z"
   },
   {
    "duration": 168,
    "start_time": "2023-12-24T05:00:47.888Z"
   },
   {
    "duration": 6,
    "start_time": "2023-12-24T05:00:48.058Z"
   },
   {
    "duration": 117,
    "start_time": "2023-12-24T05:00:48.066Z"
   },
   {
    "duration": 133,
    "start_time": "2023-12-24T05:00:48.185Z"
   },
   {
    "duration": 3,
    "start_time": "2023-12-24T05:00:48.319Z"
   },
   {
    "duration": 161,
    "start_time": "2023-12-24T05:00:48.323Z"
   },
   {
    "duration": 3,
    "start_time": "2023-12-24T05:00:48.485Z"
   },
   {
    "duration": 110,
    "start_time": "2023-12-24T05:00:48.489Z"
   },
   {
    "duration": 192,
    "start_time": "2023-12-24T05:00:48.600Z"
   },
   {
    "duration": 13,
    "start_time": "2023-12-24T05:00:48.793Z"
   },
   {
    "duration": 108,
    "start_time": "2023-12-24T05:00:48.814Z"
   },
   {
    "duration": 252,
    "start_time": "2023-12-24T05:00:48.923Z"
   },
   {
    "duration": 161,
    "start_time": "2023-12-24T05:00:49.176Z"
   },
   {
    "duration": 20,
    "start_time": "2023-12-24T05:00:49.338Z"
   },
   {
    "duration": 18,
    "start_time": "2023-12-24T05:00:49.360Z"
   },
   {
    "duration": 7,
    "start_time": "2023-12-24T05:00:49.380Z"
   },
   {
    "duration": 48,
    "start_time": "2023-12-24T05:00:49.388Z"
   },
   {
    "duration": 17,
    "start_time": "2023-12-24T05:00:49.437Z"
   },
   {
    "duration": 22,
    "start_time": "2023-12-24T05:00:49.455Z"
   },
   {
    "duration": 46,
    "start_time": "2023-12-24T05:00:49.479Z"
   },
   {
    "duration": 180,
    "start_time": "2023-12-24T05:00:49.527Z"
   },
   {
    "duration": 174,
    "start_time": "2023-12-24T05:00:49.708Z"
   },
   {
    "duration": 176,
    "start_time": "2023-12-24T05:00:49.884Z"
   },
   {
    "duration": 16,
    "start_time": "2023-12-24T05:00:50.061Z"
   },
   {
    "duration": 45,
    "start_time": "2023-12-24T05:00:50.079Z"
   },
   {
    "duration": 185,
    "start_time": "2023-12-24T05:00:50.125Z"
   },
   {
    "duration": 166,
    "start_time": "2023-12-24T05:00:50.314Z"
   },
   {
    "duration": 178,
    "start_time": "2023-12-24T05:00:50.482Z"
   },
   {
    "duration": 847,
    "start_time": "2023-12-24T05:00:50.661Z"
   },
   {
    "duration": 4,
    "start_time": "2023-12-24T05:00:51.510Z"
   },
   {
    "duration": 36,
    "start_time": "2023-12-24T05:00:51.516Z"
   },
   {
    "duration": 17,
    "start_time": "2023-12-24T05:00:51.554Z"
   },
   {
    "duration": 42,
    "start_time": "2023-12-24T05:00:51.573Z"
   },
   {
    "duration": 9,
    "start_time": "2023-12-24T05:00:51.616Z"
   },
   {
    "duration": 147,
    "start_time": "2023-12-24T05:00:51.626Z"
   },
   {
    "duration": 6,
    "start_time": "2023-12-24T05:00:51.775Z"
   },
   {
    "duration": 18,
    "start_time": "2023-12-24T05:00:51.782Z"
   },
   {
    "duration": 13,
    "start_time": "2023-12-24T05:00:51.802Z"
   },
   {
    "duration": 802,
    "start_time": "2023-12-24T05:00:51.817Z"
   },
   {
    "duration": 5,
    "start_time": "2023-12-24T05:00:52.621Z"
   },
   {
    "duration": 9,
    "start_time": "2023-12-24T05:00:52.627Z"
   },
   {
    "duration": 5,
    "start_time": "2023-12-24T05:00:52.638Z"
   },
   {
    "duration": 322,
    "start_time": "2023-12-24T05:00:52.645Z"
   },
   {
    "duration": 313,
    "start_time": "2023-12-24T05:00:52.968Z"
   },
   {
    "duration": 5,
    "start_time": "2023-12-24T05:00:53.283Z"
   },
   {
    "duration": 273,
    "start_time": "2023-12-24T05:00:53.290Z"
   },
   {
    "duration": 19,
    "start_time": "2023-12-24T05:01:39.690Z"
   },
   {
    "duration": 9,
    "start_time": "2023-12-24T05:02:00.834Z"
   },
   {
    "duration": 6,
    "start_time": "2023-12-24T05:02:09.218Z"
   },
   {
    "duration": 7,
    "start_time": "2023-12-24T05:02:17.545Z"
   },
   {
    "duration": 4,
    "start_time": "2023-12-24T05:10:37.188Z"
   },
   {
    "duration": 18,
    "start_time": "2023-12-24T05:11:50.835Z"
   },
   {
    "duration": 18,
    "start_time": "2023-12-24T05:12:00.211Z"
   },
   {
    "duration": 5,
    "start_time": "2023-12-24T05:12:03.611Z"
   },
   {
    "duration": 18,
    "start_time": "2023-12-24T05:12:04.179Z"
   },
   {
    "duration": 1245,
    "start_time": "2023-12-24T05:12:18.735Z"
   },
   {
    "duration": 67,
    "start_time": "2023-12-24T05:12:19.982Z"
   },
   {
    "duration": 12,
    "start_time": "2023-12-24T05:12:20.050Z"
   },
   {
    "duration": 42,
    "start_time": "2023-12-24T05:12:20.064Z"
   },
   {
    "duration": 21,
    "start_time": "2023-12-24T05:12:20.110Z"
   },
   {
    "duration": 20,
    "start_time": "2023-12-24T05:12:20.133Z"
   },
   {
    "duration": 8,
    "start_time": "2023-12-24T05:12:20.155Z"
   },
   {
    "duration": 11,
    "start_time": "2023-12-24T05:12:20.165Z"
   },
   {
    "duration": 12,
    "start_time": "2023-12-24T05:12:20.178Z"
   },
   {
    "duration": 14,
    "start_time": "2023-12-24T05:12:20.192Z"
   },
   {
    "duration": 9,
    "start_time": "2023-12-24T05:12:20.208Z"
   },
   {
    "duration": 18,
    "start_time": "2023-12-24T05:12:20.219Z"
   },
   {
    "duration": 13,
    "start_time": "2023-12-24T05:12:20.238Z"
   },
   {
    "duration": 5,
    "start_time": "2023-12-24T05:12:20.255Z"
   },
   {
    "duration": 13,
    "start_time": "2023-12-24T05:12:20.262Z"
   },
   {
    "duration": 8,
    "start_time": "2023-12-24T05:12:20.277Z"
   },
   {
    "duration": 7,
    "start_time": "2023-12-24T05:12:20.287Z"
   },
   {
    "duration": 8,
    "start_time": "2023-12-24T05:12:20.296Z"
   },
   {
    "duration": 11,
    "start_time": "2023-12-24T05:12:20.306Z"
   },
   {
    "duration": 13,
    "start_time": "2023-12-24T05:12:20.319Z"
   },
   {
    "duration": 10,
    "start_time": "2023-12-24T05:12:20.334Z"
   },
   {
    "duration": 9,
    "start_time": "2023-12-24T05:12:20.346Z"
   },
   {
    "duration": 34,
    "start_time": "2023-12-24T05:12:20.356Z"
   },
   {
    "duration": 25,
    "start_time": "2023-12-24T05:12:20.391Z"
   },
   {
    "duration": 17,
    "start_time": "2023-12-24T05:12:20.418Z"
   },
   {
    "duration": 15,
    "start_time": "2023-12-24T05:12:20.437Z"
   },
   {
    "duration": 17,
    "start_time": "2023-12-24T05:12:20.454Z"
   },
   {
    "duration": 3,
    "start_time": "2023-12-24T05:12:20.472Z"
   },
   {
    "duration": 15,
    "start_time": "2023-12-24T05:12:20.476Z"
   },
   {
    "duration": 166,
    "start_time": "2023-12-24T05:12:20.493Z"
   },
   {
    "duration": 6,
    "start_time": "2023-12-24T05:12:20.660Z"
   },
   {
    "duration": 107,
    "start_time": "2023-12-24T05:12:20.667Z"
   },
   {
    "duration": 147,
    "start_time": "2023-12-24T05:12:20.776Z"
   },
   {
    "duration": 3,
    "start_time": "2023-12-24T05:12:20.925Z"
   },
   {
    "duration": 178,
    "start_time": "2023-12-24T05:12:20.929Z"
   },
   {
    "duration": 3,
    "start_time": "2023-12-24T05:12:21.108Z"
   },
   {
    "duration": 107,
    "start_time": "2023-12-24T05:12:21.114Z"
   },
   {
    "duration": 198,
    "start_time": "2023-12-24T05:12:21.223Z"
   },
   {
    "duration": 13,
    "start_time": "2023-12-24T05:12:21.422Z"
   },
   {
    "duration": 118,
    "start_time": "2023-12-24T05:12:21.436Z"
   },
   {
    "duration": 262,
    "start_time": "2023-12-24T05:12:21.558Z"
   },
   {
    "duration": 160,
    "start_time": "2023-12-24T05:12:21.821Z"
   },
   {
    "duration": 5,
    "start_time": "2023-12-24T05:12:21.983Z"
   },
   {
    "duration": 46,
    "start_time": "2023-12-24T05:12:21.989Z"
   },
   {
    "duration": 27,
    "start_time": "2023-12-24T05:12:22.036Z"
   },
   {
    "duration": 48,
    "start_time": "2023-12-24T05:12:22.064Z"
   },
   {
    "duration": 37,
    "start_time": "2023-12-24T05:12:22.113Z"
   },
   {
    "duration": 47,
    "start_time": "2023-12-24T05:12:22.152Z"
   },
   {
    "duration": 23,
    "start_time": "2023-12-24T05:12:22.200Z"
   },
   {
    "duration": 18,
    "start_time": "2023-12-24T05:12:22.225Z"
   },
   {
    "duration": 65,
    "start_time": "2023-12-24T05:12:22.244Z"
   },
   {
    "duration": 490,
    "start_time": "2023-12-24T05:12:22.311Z"
   },
   {
    "duration": 169,
    "start_time": "2023-12-24T05:12:22.802Z"
   },
   {
    "duration": 154,
    "start_time": "2023-12-24T05:12:22.972Z"
   },
   {
    "duration": 14,
    "start_time": "2023-12-24T05:12:23.127Z"
   },
   {
    "duration": 28,
    "start_time": "2023-12-24T05:12:23.142Z"
   },
   {
    "duration": 174,
    "start_time": "2023-12-24T05:12:23.171Z"
   },
   {
    "duration": 150,
    "start_time": "2023-12-24T05:12:23.346Z"
   },
   {
    "duration": 171,
    "start_time": "2023-12-24T05:12:23.498Z"
   },
   {
    "duration": 833,
    "start_time": "2023-12-24T05:12:23.670Z"
   },
   {
    "duration": 3,
    "start_time": "2023-12-24T05:12:24.505Z"
   },
   {
    "duration": 11,
    "start_time": "2023-12-24T05:12:24.514Z"
   },
   {
    "duration": 13,
    "start_time": "2023-12-24T05:12:24.526Z"
   },
   {
    "duration": 11,
    "start_time": "2023-12-24T05:12:24.540Z"
   },
   {
    "duration": 6,
    "start_time": "2023-12-24T05:12:24.552Z"
   },
   {
    "duration": 151,
    "start_time": "2023-12-24T05:12:24.559Z"
   },
   {
    "duration": 7,
    "start_time": "2023-12-24T05:12:24.714Z"
   },
   {
    "duration": 25,
    "start_time": "2023-12-24T05:12:24.723Z"
   },
   {
    "duration": 6,
    "start_time": "2023-12-24T05:12:24.750Z"
   },
   {
    "duration": 797,
    "start_time": "2023-12-24T05:12:24.758Z"
   },
   {
    "duration": 5,
    "start_time": "2023-12-24T05:12:25.557Z"
   },
   {
    "duration": 23,
    "start_time": "2023-12-24T05:12:25.563Z"
   },
   {
    "duration": 7,
    "start_time": "2023-12-24T05:12:25.587Z"
   },
   {
    "duration": 345,
    "start_time": "2023-12-24T05:12:25.596Z"
   },
   {
    "duration": 312,
    "start_time": "2023-12-24T05:12:25.942Z"
   },
   {
    "duration": 5,
    "start_time": "2023-12-24T05:12:26.255Z"
   },
   {
    "duration": 231,
    "start_time": "2023-12-24T05:12:26.261Z"
   },
   {
    "duration": 18,
    "start_time": "2023-12-24T05:12:50.556Z"
   },
   {
    "duration": 18,
    "start_time": "2023-12-24T05:12:57.579Z"
   },
   {
    "duration": 1235,
    "start_time": "2023-12-24T05:13:02.866Z"
   },
   {
    "duration": 65,
    "start_time": "2023-12-24T05:13:04.103Z"
   },
   {
    "duration": 11,
    "start_time": "2023-12-24T05:13:04.170Z"
   },
   {
    "duration": 20,
    "start_time": "2023-12-24T05:13:04.182Z"
   },
   {
    "duration": 11,
    "start_time": "2023-12-24T05:13:04.204Z"
   },
   {
    "duration": 11,
    "start_time": "2023-12-24T05:13:04.217Z"
   },
   {
    "duration": 11,
    "start_time": "2023-12-24T05:13:04.230Z"
   },
   {
    "duration": 10,
    "start_time": "2023-12-24T05:13:04.242Z"
   },
   {
    "duration": 36,
    "start_time": "2023-12-24T05:13:04.253Z"
   },
   {
    "duration": 22,
    "start_time": "2023-12-24T05:13:04.291Z"
   },
   {
    "duration": 18,
    "start_time": "2023-12-24T05:13:04.315Z"
   },
   {
    "duration": 9,
    "start_time": "2023-12-24T05:13:04.335Z"
   },
   {
    "duration": 21,
    "start_time": "2023-12-24T05:13:04.345Z"
   },
   {
    "duration": 5,
    "start_time": "2023-12-24T05:13:04.370Z"
   },
   {
    "duration": 7,
    "start_time": "2023-12-24T05:13:04.376Z"
   },
   {
    "duration": 12,
    "start_time": "2023-12-24T05:13:04.385Z"
   },
   {
    "duration": 5,
    "start_time": "2023-12-24T05:13:04.398Z"
   },
   {
    "duration": 8,
    "start_time": "2023-12-24T05:13:04.404Z"
   },
   {
    "duration": 12,
    "start_time": "2023-12-24T05:13:04.414Z"
   },
   {
    "duration": 8,
    "start_time": "2023-12-24T05:13:04.428Z"
   },
   {
    "duration": 8,
    "start_time": "2023-12-24T05:13:04.437Z"
   },
   {
    "duration": 4,
    "start_time": "2023-12-24T05:13:04.446Z"
   },
   {
    "duration": 14,
    "start_time": "2023-12-24T05:13:04.451Z"
   },
   {
    "duration": 21,
    "start_time": "2023-12-24T05:13:04.466Z"
   },
   {
    "duration": 36,
    "start_time": "2023-12-24T05:13:04.488Z"
   },
   {
    "duration": 5,
    "start_time": "2023-12-24T05:13:04.526Z"
   },
   {
    "duration": 14,
    "start_time": "2023-12-24T05:13:04.532Z"
   },
   {
    "duration": 3,
    "start_time": "2023-12-24T05:13:04.547Z"
   },
   {
    "duration": 7,
    "start_time": "2023-12-24T05:13:04.551Z"
   },
   {
    "duration": 173,
    "start_time": "2023-12-24T05:13:04.559Z"
   },
   {
    "duration": 6,
    "start_time": "2023-12-24T05:13:04.733Z"
   },
   {
    "duration": 111,
    "start_time": "2023-12-24T05:13:04.740Z"
   },
   {
    "duration": 142,
    "start_time": "2023-12-24T05:13:04.852Z"
   },
   {
    "duration": 3,
    "start_time": "2023-12-24T05:13:04.995Z"
   },
   {
    "duration": 173,
    "start_time": "2023-12-24T05:13:05.000Z"
   },
   {
    "duration": 2,
    "start_time": "2023-12-24T05:13:05.175Z"
   },
   {
    "duration": 114,
    "start_time": "2023-12-24T05:13:05.179Z"
   },
   {
    "duration": 193,
    "start_time": "2023-12-24T05:13:05.294Z"
   },
   {
    "duration": 14,
    "start_time": "2023-12-24T05:13:05.488Z"
   },
   {
    "duration": 118,
    "start_time": "2023-12-24T05:13:05.503Z"
   },
   {
    "duration": 272,
    "start_time": "2023-12-24T05:13:05.625Z"
   },
   {
    "duration": 167,
    "start_time": "2023-12-24T05:13:05.899Z"
   },
   {
    "duration": 6,
    "start_time": "2023-12-24T05:13:06.068Z"
   },
   {
    "duration": 20,
    "start_time": "2023-12-24T05:13:06.075Z"
   },
   {
    "duration": 8,
    "start_time": "2023-12-24T05:13:06.115Z"
   },
   {
    "duration": 23,
    "start_time": "2023-12-24T05:13:06.125Z"
   },
   {
    "duration": 20,
    "start_time": "2023-12-24T05:13:06.150Z"
   },
   {
    "duration": 22,
    "start_time": "2023-12-24T05:13:06.172Z"
   },
   {
    "duration": 23,
    "start_time": "2023-12-24T05:13:06.195Z"
   },
   {
    "duration": 15,
    "start_time": "2023-12-24T05:13:06.220Z"
   },
   {
    "duration": 30,
    "start_time": "2023-12-24T05:13:06.237Z"
   },
   {
    "duration": 190,
    "start_time": "2023-12-24T05:13:06.269Z"
   },
   {
    "duration": 164,
    "start_time": "2023-12-24T05:13:06.461Z"
   },
   {
    "duration": 145,
    "start_time": "2023-12-24T05:13:06.626Z"
   },
   {
    "duration": 14,
    "start_time": "2023-12-24T05:13:06.773Z"
   },
   {
    "duration": 45,
    "start_time": "2023-12-24T05:13:06.789Z"
   },
   {
    "duration": 159,
    "start_time": "2023-12-24T05:13:06.836Z"
   },
   {
    "duration": 157,
    "start_time": "2023-12-24T05:13:06.996Z"
   },
   {
    "duration": 162,
    "start_time": "2023-12-24T05:13:07.155Z"
   },
   {
    "duration": 857,
    "start_time": "2023-12-24T05:13:07.318Z"
   },
   {
    "duration": 3,
    "start_time": "2023-12-24T05:13:08.176Z"
   },
   {
    "duration": 6,
    "start_time": "2023-12-24T05:13:08.180Z"
   },
   {
    "duration": 14,
    "start_time": "2023-12-24T05:13:08.187Z"
   },
   {
    "duration": 18,
    "start_time": "2023-12-24T05:13:08.203Z"
   },
   {
    "duration": 5,
    "start_time": "2023-12-24T05:13:08.222Z"
   },
   {
    "duration": 138,
    "start_time": "2023-12-24T05:13:08.228Z"
   },
   {
    "duration": 5,
    "start_time": "2023-12-24T05:13:08.368Z"
   },
   {
    "duration": 12,
    "start_time": "2023-12-24T05:13:08.375Z"
   },
   {
    "duration": 5,
    "start_time": "2023-12-24T05:13:08.388Z"
   },
   {
    "duration": 798,
    "start_time": "2023-12-24T05:13:08.394Z"
   },
   {
    "duration": 5,
    "start_time": "2023-12-24T05:13:09.193Z"
   },
   {
    "duration": 19,
    "start_time": "2023-12-24T05:13:09.199Z"
   },
   {
    "duration": 4,
    "start_time": "2023-12-24T05:13:09.220Z"
   },
   {
    "duration": 331,
    "start_time": "2023-12-24T05:13:09.226Z"
   },
   {
    "duration": 315,
    "start_time": "2023-12-24T05:13:09.558Z"
   },
   {
    "duration": 5,
    "start_time": "2023-12-24T05:13:09.874Z"
   },
   {
    "duration": 260,
    "start_time": "2023-12-24T05:13:09.880Z"
   },
   {
    "duration": 100,
    "start_time": "2023-12-24T05:15:11.740Z"
   },
   {
    "duration": 10,
    "start_time": "2023-12-24T05:15:19.412Z"
   },
   {
    "duration": 8,
    "start_time": "2023-12-24T05:15:23.332Z"
   },
   {
    "duration": 3,
    "start_time": "2023-12-24T05:19:18.100Z"
   },
   {
    "duration": 186,
    "start_time": "2023-12-24T05:20:31.629Z"
   },
   {
    "duration": 4,
    "start_time": "2023-12-24T05:20:40.636Z"
   },
   {
    "duration": 4,
    "start_time": "2023-12-24T05:20:53.901Z"
   },
   {
    "duration": 4,
    "start_time": "2023-12-24T05:21:35.980Z"
   },
   {
    "duration": 11,
    "start_time": "2023-12-24T05:29:57.200Z"
   },
   {
    "duration": 10,
    "start_time": "2023-12-24T05:31:04.152Z"
   },
   {
    "duration": 58,
    "start_time": "2023-12-24T05:32:53.945Z"
   },
   {
    "duration": 17,
    "start_time": "2023-12-24T05:33:38.690Z"
   },
   {
    "duration": 45,
    "start_time": "2023-12-24T13:17:54.511Z"
   },
   {
    "duration": 1354,
    "start_time": "2023-12-24T13:18:02.612Z"
   },
   {
    "duration": 187,
    "start_time": "2023-12-24T13:18:03.969Z"
   },
   {
    "duration": 12,
    "start_time": "2023-12-24T13:18:04.158Z"
   },
   {
    "duration": 10,
    "start_time": "2023-12-24T13:18:04.173Z"
   },
   {
    "duration": 9,
    "start_time": "2023-12-24T13:18:04.184Z"
   },
   {
    "duration": 10,
    "start_time": "2023-12-24T13:18:04.195Z"
   },
   {
    "duration": 6,
    "start_time": "2023-12-24T13:18:04.207Z"
   },
   {
    "duration": 10,
    "start_time": "2023-12-24T13:18:04.215Z"
   },
   {
    "duration": 9,
    "start_time": "2023-12-24T13:18:04.226Z"
   },
   {
    "duration": 7,
    "start_time": "2023-12-24T13:18:04.265Z"
   },
   {
    "duration": 9,
    "start_time": "2023-12-24T13:18:04.274Z"
   },
   {
    "duration": 11,
    "start_time": "2023-12-24T13:18:04.284Z"
   },
   {
    "duration": 8,
    "start_time": "2023-12-24T13:18:04.297Z"
   },
   {
    "duration": 5,
    "start_time": "2023-12-24T13:18:04.307Z"
   },
   {
    "duration": 10,
    "start_time": "2023-12-24T13:18:04.314Z"
   },
   {
    "duration": 4,
    "start_time": "2023-12-24T13:18:04.325Z"
   },
   {
    "duration": 4,
    "start_time": "2023-12-24T13:18:04.331Z"
   },
   {
    "duration": 30,
    "start_time": "2023-12-24T13:18:04.336Z"
   },
   {
    "duration": 6,
    "start_time": "2023-12-24T13:18:04.367Z"
   },
   {
    "duration": 6,
    "start_time": "2023-12-24T13:18:04.374Z"
   },
   {
    "duration": 15,
    "start_time": "2023-12-24T13:18:04.381Z"
   },
   {
    "duration": 11,
    "start_time": "2023-12-24T13:18:04.397Z"
   },
   {
    "duration": 18,
    "start_time": "2023-12-24T13:18:04.409Z"
   },
   {
    "duration": 42,
    "start_time": "2023-12-24T13:18:04.429Z"
   },
   {
    "duration": 15,
    "start_time": "2023-12-24T13:18:04.473Z"
   },
   {
    "duration": 31,
    "start_time": "2023-12-24T13:18:04.490Z"
   },
   {
    "duration": 20,
    "start_time": "2023-12-24T13:18:04.523Z"
   },
   {
    "duration": 3,
    "start_time": "2023-12-24T13:18:04.547Z"
   },
   {
    "duration": 16,
    "start_time": "2023-12-24T13:18:04.552Z"
   },
   {
    "duration": 159,
    "start_time": "2023-12-24T13:18:04.570Z"
   },
   {
    "duration": 6,
    "start_time": "2023-12-24T13:18:04.730Z"
   },
   {
    "duration": 101,
    "start_time": "2023-12-24T13:18:04.738Z"
   },
   {
    "duration": 137,
    "start_time": "2023-12-24T13:18:04.841Z"
   },
   {
    "duration": 3,
    "start_time": "2023-12-24T13:18:04.980Z"
   },
   {
    "duration": 176,
    "start_time": "2023-12-24T13:18:04.985Z"
   },
   {
    "duration": 3,
    "start_time": "2023-12-24T13:18:05.163Z"
   },
   {
    "duration": 120,
    "start_time": "2023-12-24T13:18:05.167Z"
   },
   {
    "duration": 181,
    "start_time": "2023-12-24T13:18:05.288Z"
   },
   {
    "duration": 12,
    "start_time": "2023-12-24T13:18:05.471Z"
   },
   {
    "duration": 109,
    "start_time": "2023-12-24T13:18:05.484Z"
   },
   {
    "duration": 256,
    "start_time": "2023-12-24T13:18:05.594Z"
   },
   {
    "duration": 157,
    "start_time": "2023-12-24T13:18:05.852Z"
   },
   {
    "duration": 5,
    "start_time": "2023-12-24T13:18:06.011Z"
   },
   {
    "duration": 24,
    "start_time": "2023-12-24T13:18:06.017Z"
   },
   {
    "duration": 24,
    "start_time": "2023-12-24T13:18:06.043Z"
   },
   {
    "duration": 5,
    "start_time": "2023-12-24T13:18:06.069Z"
   },
   {
    "duration": 21,
    "start_time": "2023-12-24T13:18:06.075Z"
   },
   {
    "duration": 22,
    "start_time": "2023-12-24T13:18:06.097Z"
   },
   {
    "duration": 12,
    "start_time": "2023-12-24T13:18:06.120Z"
   },
   {
    "duration": 40,
    "start_time": "2023-12-24T13:18:06.134Z"
   },
   {
    "duration": 31,
    "start_time": "2023-12-24T13:18:06.175Z"
   },
   {
    "duration": 177,
    "start_time": "2023-12-24T13:18:06.208Z"
   },
   {
    "duration": 162,
    "start_time": "2023-12-24T13:18:06.387Z"
   },
   {
    "duration": 158,
    "start_time": "2023-12-24T13:18:06.551Z"
   },
   {
    "duration": 16,
    "start_time": "2023-12-24T13:18:06.710Z"
   },
   {
    "duration": 47,
    "start_time": "2023-12-24T13:18:06.728Z"
   },
   {
    "duration": 164,
    "start_time": "2023-12-24T13:18:06.776Z"
   },
   {
    "duration": 150,
    "start_time": "2023-12-24T13:18:06.942Z"
   },
   {
    "duration": 176,
    "start_time": "2023-12-24T13:18:07.094Z"
   },
   {
    "duration": 62,
    "start_time": "2023-12-24T13:18:07.271Z"
   },
   {
    "duration": 33,
    "start_time": "2023-12-24T13:18:07.335Z"
   },
   {
    "duration": 108,
    "start_time": "2023-12-24T13:18:07.370Z"
   },
   {
    "duration": 0,
    "start_time": "2023-12-24T13:18:07.480Z"
   },
   {
    "duration": 0,
    "start_time": "2023-12-24T13:18:07.481Z"
   },
   {
    "duration": 0,
    "start_time": "2023-12-24T13:18:07.483Z"
   },
   {
    "duration": 0,
    "start_time": "2023-12-24T13:18:07.484Z"
   },
   {
    "duration": 0,
    "start_time": "2023-12-24T13:18:07.485Z"
   },
   {
    "duration": 0,
    "start_time": "2023-12-24T13:18:07.487Z"
   },
   {
    "duration": 0,
    "start_time": "2023-12-24T13:18:07.488Z"
   },
   {
    "duration": 0,
    "start_time": "2023-12-24T13:18:07.489Z"
   },
   {
    "duration": 0,
    "start_time": "2023-12-24T13:18:07.490Z"
   },
   {
    "duration": 0,
    "start_time": "2023-12-24T13:18:07.492Z"
   },
   {
    "duration": 0,
    "start_time": "2023-12-24T13:18:07.493Z"
   },
   {
    "duration": 0,
    "start_time": "2023-12-24T13:18:07.494Z"
   },
   {
    "duration": 0,
    "start_time": "2023-12-24T13:18:07.496Z"
   },
   {
    "duration": 0,
    "start_time": "2023-12-24T13:18:07.497Z"
   },
   {
    "duration": 0,
    "start_time": "2023-12-24T13:18:07.499Z"
   },
   {
    "duration": 0,
    "start_time": "2023-12-24T13:18:07.500Z"
   },
   {
    "duration": 0,
    "start_time": "2023-12-24T13:18:07.501Z"
   },
   {
    "duration": 1245,
    "start_time": "2023-12-24T13:18:30.164Z"
   },
   {
    "duration": 67,
    "start_time": "2023-12-24T13:18:31.410Z"
   },
   {
    "duration": 11,
    "start_time": "2023-12-24T13:18:31.478Z"
   },
   {
    "duration": 35,
    "start_time": "2023-12-24T13:18:31.491Z"
   },
   {
    "duration": 31,
    "start_time": "2023-12-24T13:18:31.528Z"
   },
   {
    "duration": 46,
    "start_time": "2023-12-24T13:18:31.560Z"
   },
   {
    "duration": 26,
    "start_time": "2023-12-24T13:18:31.608Z"
   },
   {
    "duration": 47,
    "start_time": "2023-12-24T13:18:31.635Z"
   },
   {
    "duration": 28,
    "start_time": "2023-12-24T13:18:31.683Z"
   },
   {
    "duration": 66,
    "start_time": "2023-12-24T13:18:31.713Z"
   },
   {
    "duration": 29,
    "start_time": "2023-12-24T13:18:31.780Z"
   },
   {
    "duration": 28,
    "start_time": "2023-12-24T13:18:31.811Z"
   },
   {
    "duration": 13,
    "start_time": "2023-12-24T13:18:31.841Z"
   },
   {
    "duration": 9,
    "start_time": "2023-12-24T13:18:31.856Z"
   },
   {
    "duration": 14,
    "start_time": "2023-12-24T13:18:31.867Z"
   },
   {
    "duration": 19,
    "start_time": "2023-12-24T13:18:31.882Z"
   },
   {
    "duration": 18,
    "start_time": "2023-12-24T13:18:31.902Z"
   },
   {
    "duration": 19,
    "start_time": "2023-12-24T13:18:31.922Z"
   },
   {
    "duration": 19,
    "start_time": "2023-12-24T13:18:31.943Z"
   },
   {
    "duration": 20,
    "start_time": "2023-12-24T13:18:31.964Z"
   },
   {
    "duration": 10,
    "start_time": "2023-12-24T13:18:31.985Z"
   },
   {
    "duration": 6,
    "start_time": "2023-12-24T13:18:31.997Z"
   },
   {
    "duration": 32,
    "start_time": "2023-12-24T13:18:32.005Z"
   },
   {
    "duration": 21,
    "start_time": "2023-12-24T13:18:32.039Z"
   },
   {
    "duration": 17,
    "start_time": "2023-12-24T13:18:32.061Z"
   },
   {
    "duration": 10,
    "start_time": "2023-12-24T13:18:32.080Z"
   },
   {
    "duration": 29,
    "start_time": "2023-12-24T13:18:32.092Z"
   },
   {
    "duration": 3,
    "start_time": "2023-12-24T13:18:32.125Z"
   },
   {
    "duration": 6,
    "start_time": "2023-12-24T13:18:32.129Z"
   },
   {
    "duration": 168,
    "start_time": "2023-12-24T13:18:32.136Z"
   },
   {
    "duration": 5,
    "start_time": "2023-12-24T13:18:32.306Z"
   },
   {
    "duration": 107,
    "start_time": "2023-12-24T13:18:32.312Z"
   },
   {
    "duration": 129,
    "start_time": "2023-12-24T13:18:32.420Z"
   },
   {
    "duration": 4,
    "start_time": "2023-12-24T13:18:32.550Z"
   },
   {
    "duration": 159,
    "start_time": "2023-12-24T13:18:32.565Z"
   },
   {
    "duration": 3,
    "start_time": "2023-12-24T13:18:32.726Z"
   },
   {
    "duration": 115,
    "start_time": "2023-12-24T13:18:32.730Z"
   },
   {
    "duration": 178,
    "start_time": "2023-12-24T13:18:32.847Z"
   },
   {
    "duration": 13,
    "start_time": "2023-12-24T13:18:33.027Z"
   },
   {
    "duration": 111,
    "start_time": "2023-12-24T13:18:33.042Z"
   },
   {
    "duration": 266,
    "start_time": "2023-12-24T13:18:33.155Z"
   },
   {
    "duration": 153,
    "start_time": "2023-12-24T13:18:33.422Z"
   },
   {
    "duration": 5,
    "start_time": "2023-12-24T13:18:33.576Z"
   },
   {
    "duration": 23,
    "start_time": "2023-12-24T13:18:33.582Z"
   },
   {
    "duration": 7,
    "start_time": "2023-12-24T13:18:33.606Z"
   },
   {
    "duration": 5,
    "start_time": "2023-12-24T13:18:33.614Z"
   },
   {
    "duration": 45,
    "start_time": "2023-12-24T13:18:33.621Z"
   },
   {
    "duration": 21,
    "start_time": "2023-12-24T13:18:33.667Z"
   },
   {
    "duration": 12,
    "start_time": "2023-12-24T13:18:33.689Z"
   },
   {
    "duration": 15,
    "start_time": "2023-12-24T13:18:33.703Z"
   },
   {
    "duration": 57,
    "start_time": "2023-12-24T13:18:33.720Z"
   },
   {
    "duration": 204,
    "start_time": "2023-12-24T13:18:33.778Z"
   },
   {
    "duration": 169,
    "start_time": "2023-12-24T13:18:33.984Z"
   },
   {
    "duration": 170,
    "start_time": "2023-12-24T13:18:34.155Z"
   },
   {
    "duration": 16,
    "start_time": "2023-12-24T13:18:34.327Z"
   },
   {
    "duration": 45,
    "start_time": "2023-12-24T13:18:34.344Z"
   },
   {
    "duration": 170,
    "start_time": "2023-12-24T13:18:34.391Z"
   },
   {
    "duration": 151,
    "start_time": "2023-12-24T13:18:34.563Z"
   },
   {
    "duration": 162,
    "start_time": "2023-12-24T13:18:34.715Z"
   },
   {
    "duration": 57,
    "start_time": "2023-12-24T13:18:34.878Z"
   },
   {
    "duration": 28,
    "start_time": "2023-12-24T13:18:34.937Z"
   },
   {
    "duration": 3,
    "start_time": "2023-12-24T13:18:34.966Z"
   },
   {
    "duration": 844,
    "start_time": "2023-12-24T13:18:34.970Z"
   },
   {
    "duration": 3,
    "start_time": "2023-12-24T13:18:35.816Z"
   },
   {
    "duration": 13,
    "start_time": "2023-12-24T13:18:35.820Z"
   },
   {
    "duration": 21,
    "start_time": "2023-12-24T13:18:35.835Z"
   },
   {
    "duration": 9,
    "start_time": "2023-12-24T13:18:35.857Z"
   },
   {
    "duration": 142,
    "start_time": "2023-12-24T13:18:35.867Z"
   },
   {
    "duration": 9,
    "start_time": "2023-12-24T13:18:36.011Z"
   },
   {
    "duration": 52,
    "start_time": "2023-12-24T13:18:36.022Z"
   },
   {
    "duration": 5,
    "start_time": "2023-12-24T13:18:36.076Z"
   },
   {
    "duration": 772,
    "start_time": "2023-12-24T13:18:36.082Z"
   },
   {
    "duration": 9,
    "start_time": "2023-12-24T13:18:36.856Z"
   },
   {
    "duration": 9,
    "start_time": "2023-12-24T13:18:36.867Z"
   },
   {
    "duration": 4,
    "start_time": "2023-12-24T13:18:36.877Z"
   },
   {
    "duration": 330,
    "start_time": "2023-12-24T13:18:36.883Z"
   },
   {
    "duration": 280,
    "start_time": "2023-12-24T13:18:37.215Z"
   },
   {
    "duration": 4,
    "start_time": "2023-12-24T13:18:37.497Z"
   },
   {
    "duration": 243,
    "start_time": "2023-12-24T13:18:37.503Z"
   },
   {
    "duration": 107,
    "start_time": "2023-12-24T13:28:55.847Z"
   },
   {
    "duration": 14,
    "start_time": "2023-12-24T13:31:20.976Z"
   },
   {
    "duration": 12,
    "start_time": "2023-12-24T13:32:33.391Z"
   },
   {
    "duration": 13,
    "start_time": "2023-12-24T13:32:38.663Z"
   },
   {
    "duration": 1207,
    "start_time": "2023-12-24T13:33:25.561Z"
   },
   {
    "duration": 75,
    "start_time": "2023-12-24T13:33:26.770Z"
   },
   {
    "duration": 12,
    "start_time": "2023-12-24T13:33:26.846Z"
   },
   {
    "duration": 14,
    "start_time": "2023-12-24T13:33:26.859Z"
   },
   {
    "duration": 8,
    "start_time": "2023-12-24T13:33:26.874Z"
   },
   {
    "duration": 16,
    "start_time": "2023-12-24T13:33:26.884Z"
   },
   {
    "duration": 5,
    "start_time": "2023-12-24T13:33:26.902Z"
   },
   {
    "duration": 8,
    "start_time": "2023-12-24T13:33:26.909Z"
   },
   {
    "duration": 9,
    "start_time": "2023-12-24T13:33:26.919Z"
   },
   {
    "duration": 7,
    "start_time": "2023-12-24T13:33:26.931Z"
   },
   {
    "duration": 28,
    "start_time": "2023-12-24T13:33:26.940Z"
   },
   {
    "duration": 5,
    "start_time": "2023-12-24T13:33:26.969Z"
   },
   {
    "duration": 8,
    "start_time": "2023-12-24T13:33:26.976Z"
   },
   {
    "duration": 26,
    "start_time": "2023-12-24T13:33:26.985Z"
   },
   {
    "duration": 7,
    "start_time": "2023-12-24T13:33:27.012Z"
   },
   {
    "duration": 6,
    "start_time": "2023-12-24T13:33:27.020Z"
   },
   {
    "duration": 5,
    "start_time": "2023-12-24T13:33:27.027Z"
   },
   {
    "duration": 23,
    "start_time": "2023-12-24T13:33:27.033Z"
   },
   {
    "duration": 7,
    "start_time": "2023-12-24T13:33:27.058Z"
   },
   {
    "duration": 7,
    "start_time": "2023-12-24T13:33:27.066Z"
   },
   {
    "duration": 7,
    "start_time": "2023-12-24T13:33:27.075Z"
   },
   {
    "duration": 4,
    "start_time": "2023-12-24T13:33:27.083Z"
   },
   {
    "duration": 20,
    "start_time": "2023-12-24T13:33:27.088Z"
   },
   {
    "duration": 20,
    "start_time": "2023-12-24T13:33:27.109Z"
   },
   {
    "duration": 41,
    "start_time": "2023-12-24T13:33:27.130Z"
   },
   {
    "duration": 5,
    "start_time": "2023-12-24T13:33:27.173Z"
   },
   {
    "duration": 17,
    "start_time": "2023-12-24T13:33:27.180Z"
   },
   {
    "duration": 3,
    "start_time": "2023-12-24T13:33:27.202Z"
   },
   {
    "duration": 3,
    "start_time": "2023-12-24T13:33:27.207Z"
   },
   {
    "duration": 178,
    "start_time": "2023-12-24T13:33:27.212Z"
   },
   {
    "duration": 5,
    "start_time": "2023-12-24T13:33:27.391Z"
   },
   {
    "duration": 104,
    "start_time": "2023-12-24T13:33:27.398Z"
   },
   {
    "duration": 133,
    "start_time": "2023-12-24T13:33:27.504Z"
   },
   {
    "duration": 4,
    "start_time": "2023-12-24T13:33:27.638Z"
   },
   {
    "duration": 192,
    "start_time": "2023-12-24T13:33:27.643Z"
   },
   {
    "duration": 3,
    "start_time": "2023-12-24T13:33:27.837Z"
   },
   {
    "duration": 112,
    "start_time": "2023-12-24T13:33:27.842Z"
   },
   {
    "duration": 177,
    "start_time": "2023-12-24T13:33:27.956Z"
   },
   {
    "duration": 12,
    "start_time": "2023-12-24T13:33:28.135Z"
   },
   {
    "duration": 117,
    "start_time": "2023-12-24T13:33:28.149Z"
   },
   {
    "duration": 269,
    "start_time": "2023-12-24T13:33:28.268Z"
   },
   {
    "duration": 152,
    "start_time": "2023-12-24T13:33:28.539Z"
   },
   {
    "duration": 5,
    "start_time": "2023-12-24T13:33:28.692Z"
   },
   {
    "duration": 31,
    "start_time": "2023-12-24T13:33:28.698Z"
   },
   {
    "duration": 7,
    "start_time": "2023-12-24T13:33:28.731Z"
   },
   {
    "duration": 18,
    "start_time": "2023-12-24T13:33:28.740Z"
   },
   {
    "duration": 21,
    "start_time": "2023-12-24T13:33:28.759Z"
   },
   {
    "duration": 21,
    "start_time": "2023-12-24T13:33:28.782Z"
   },
   {
    "duration": 13,
    "start_time": "2023-12-24T13:33:28.804Z"
   },
   {
    "duration": 15,
    "start_time": "2023-12-24T13:33:28.818Z"
   },
   {
    "duration": 63,
    "start_time": "2023-12-24T13:33:28.834Z"
   },
   {
    "duration": 195,
    "start_time": "2023-12-24T13:33:28.899Z"
   },
   {
    "duration": 167,
    "start_time": "2023-12-24T13:33:29.096Z"
   },
   {
    "duration": 155,
    "start_time": "2023-12-24T13:33:29.264Z"
   },
   {
    "duration": 15,
    "start_time": "2023-12-24T13:33:29.420Z"
   },
   {
    "duration": 48,
    "start_time": "2023-12-24T13:33:29.436Z"
   },
   {
    "duration": 161,
    "start_time": "2023-12-24T13:33:29.485Z"
   },
   {
    "duration": 147,
    "start_time": "2023-12-24T13:33:29.647Z"
   },
   {
    "duration": 157,
    "start_time": "2023-12-24T13:33:29.796Z"
   },
   {
    "duration": 103,
    "start_time": "2023-12-24T13:33:29.955Z"
   },
   {
    "duration": 0,
    "start_time": "2023-12-24T13:33:30.059Z"
   },
   {
    "duration": 0,
    "start_time": "2023-12-24T13:33:30.065Z"
   },
   {
    "duration": 0,
    "start_time": "2023-12-24T13:33:30.066Z"
   },
   {
    "duration": 0,
    "start_time": "2023-12-24T13:33:30.067Z"
   },
   {
    "duration": 0,
    "start_time": "2023-12-24T13:33:30.068Z"
   },
   {
    "duration": 0,
    "start_time": "2023-12-24T13:33:30.069Z"
   },
   {
    "duration": 0,
    "start_time": "2023-12-24T13:33:30.070Z"
   },
   {
    "duration": 0,
    "start_time": "2023-12-24T13:33:30.071Z"
   },
   {
    "duration": 0,
    "start_time": "2023-12-24T13:33:30.072Z"
   },
   {
    "duration": 0,
    "start_time": "2023-12-24T13:33:30.073Z"
   },
   {
    "duration": 0,
    "start_time": "2023-12-24T13:33:30.074Z"
   },
   {
    "duration": 1143,
    "start_time": "2023-12-24T13:34:26.491Z"
   },
   {
    "duration": 67,
    "start_time": "2023-12-24T13:34:27.636Z"
   },
   {
    "duration": 11,
    "start_time": "2023-12-24T13:34:27.704Z"
   },
   {
    "duration": 16,
    "start_time": "2023-12-24T13:34:27.717Z"
   },
   {
    "duration": 9,
    "start_time": "2023-12-24T13:34:27.735Z"
   },
   {
    "duration": 12,
    "start_time": "2023-12-24T13:34:27.745Z"
   },
   {
    "duration": 6,
    "start_time": "2023-12-24T13:34:27.759Z"
   },
   {
    "duration": 10,
    "start_time": "2023-12-24T13:34:27.767Z"
   },
   {
    "duration": 28,
    "start_time": "2023-12-24T13:34:27.779Z"
   },
   {
    "duration": 6,
    "start_time": "2023-12-24T13:34:27.809Z"
   },
   {
    "duration": 11,
    "start_time": "2023-12-24T13:34:27.816Z"
   },
   {
    "duration": 5,
    "start_time": "2023-12-24T13:34:27.828Z"
   },
   {
    "duration": 9,
    "start_time": "2023-12-24T13:34:27.834Z"
   },
   {
    "duration": 14,
    "start_time": "2023-12-24T13:34:27.844Z"
   },
   {
    "duration": 8,
    "start_time": "2023-12-24T13:34:27.859Z"
   },
   {
    "duration": 4,
    "start_time": "2023-12-24T13:34:27.868Z"
   },
   {
    "duration": 14,
    "start_time": "2023-12-24T13:34:27.874Z"
   },
   {
    "duration": 21,
    "start_time": "2023-12-24T13:34:27.889Z"
   },
   {
    "duration": 5,
    "start_time": "2023-12-24T13:34:27.911Z"
   },
   {
    "duration": 5,
    "start_time": "2023-12-24T13:34:27.917Z"
   },
   {
    "duration": 7,
    "start_time": "2023-12-24T13:34:27.923Z"
   },
   {
    "duration": 3,
    "start_time": "2023-12-24T13:34:27.932Z"
   },
   {
    "duration": 30,
    "start_time": "2023-12-24T13:34:27.938Z"
   },
   {
    "duration": 21,
    "start_time": "2023-12-24T13:34:27.969Z"
   },
   {
    "duration": 15,
    "start_time": "2023-12-24T13:34:27.991Z"
   },
   {
    "duration": 6,
    "start_time": "2023-12-24T13:34:28.007Z"
   },
   {
    "duration": 12,
    "start_time": "2023-12-24T13:34:28.014Z"
   },
   {
    "duration": 3,
    "start_time": "2023-12-24T13:34:28.029Z"
   },
   {
    "duration": 32,
    "start_time": "2023-12-24T13:34:28.033Z"
   },
   {
    "duration": 166,
    "start_time": "2023-12-24T13:34:28.067Z"
   },
   {
    "duration": 6,
    "start_time": "2023-12-24T13:34:28.234Z"
   },
   {
    "duration": 99,
    "start_time": "2023-12-24T13:34:28.241Z"
   },
   {
    "duration": 138,
    "start_time": "2023-12-24T13:34:28.342Z"
   },
   {
    "duration": 3,
    "start_time": "2023-12-24T13:34:28.482Z"
   },
   {
    "duration": 166,
    "start_time": "2023-12-24T13:34:28.487Z"
   },
   {
    "duration": 10,
    "start_time": "2023-12-24T13:34:28.655Z"
   },
   {
    "duration": 104,
    "start_time": "2023-12-24T13:34:28.666Z"
   },
   {
    "duration": 194,
    "start_time": "2023-12-24T13:34:28.771Z"
   },
   {
    "duration": 13,
    "start_time": "2023-12-24T13:34:28.967Z"
   },
   {
    "duration": 108,
    "start_time": "2023-12-24T13:34:28.982Z"
   },
   {
    "duration": 250,
    "start_time": "2023-12-24T13:34:29.091Z"
   },
   {
    "duration": 165,
    "start_time": "2023-12-24T13:34:29.343Z"
   },
   {
    "duration": 5,
    "start_time": "2023-12-24T13:34:29.510Z"
   },
   {
    "duration": 30,
    "start_time": "2023-12-24T13:34:29.516Z"
   },
   {
    "duration": 7,
    "start_time": "2023-12-24T13:34:29.548Z"
   },
   {
    "duration": 6,
    "start_time": "2023-12-24T13:34:29.565Z"
   },
   {
    "duration": 22,
    "start_time": "2023-12-24T13:34:29.573Z"
   },
   {
    "duration": 21,
    "start_time": "2023-12-24T13:34:29.597Z"
   },
   {
    "duration": 13,
    "start_time": "2023-12-24T13:34:29.620Z"
   },
   {
    "duration": 38,
    "start_time": "2023-12-24T13:34:29.635Z"
   },
   {
    "duration": 29,
    "start_time": "2023-12-24T13:34:29.674Z"
   },
   {
    "duration": 172,
    "start_time": "2023-12-24T13:34:29.705Z"
   },
   {
    "duration": 163,
    "start_time": "2023-12-24T13:34:29.879Z"
   },
   {
    "duration": 160,
    "start_time": "2023-12-24T13:34:30.043Z"
   },
   {
    "duration": 16,
    "start_time": "2023-12-24T13:34:30.204Z"
   },
   {
    "duration": 49,
    "start_time": "2023-12-24T13:34:30.222Z"
   },
   {
    "duration": 178,
    "start_time": "2023-12-24T13:34:30.273Z"
   },
   {
    "duration": 153,
    "start_time": "2023-12-24T13:34:30.453Z"
   },
   {
    "duration": 169,
    "start_time": "2023-12-24T13:34:30.607Z"
   },
   {
    "duration": 2020,
    "start_time": "2023-12-24T13:34:30.778Z"
   },
   {
    "duration": 0,
    "start_time": "2023-12-24T13:34:32.799Z"
   },
   {
    "duration": 0,
    "start_time": "2023-12-24T13:34:32.800Z"
   },
   {
    "duration": 0,
    "start_time": "2023-12-24T13:34:32.801Z"
   },
   {
    "duration": 0,
    "start_time": "2023-12-24T13:34:32.803Z"
   },
   {
    "duration": 0,
    "start_time": "2023-12-24T13:34:32.804Z"
   },
   {
    "duration": 0,
    "start_time": "2023-12-24T13:34:32.805Z"
   },
   {
    "duration": 0,
    "start_time": "2023-12-24T13:34:32.807Z"
   },
   {
    "duration": 0,
    "start_time": "2023-12-24T13:34:32.808Z"
   },
   {
    "duration": 0,
    "start_time": "2023-12-24T13:34:32.809Z"
   },
   {
    "duration": 0,
    "start_time": "2023-12-24T13:34:32.811Z"
   },
   {
    "duration": 0,
    "start_time": "2023-12-24T13:34:32.812Z"
   },
   {
    "duration": 57,
    "start_time": "2023-12-24T13:36:37.520Z"
   },
   {
    "duration": 15,
    "start_time": "2023-12-24T13:38:58.610Z"
   },
   {
    "duration": 11,
    "start_time": "2023-12-24T13:41:39.891Z"
   },
   {
    "duration": 59,
    "start_time": "2023-12-24T13:41:52.193Z"
   },
   {
    "duration": 1220,
    "start_time": "2023-12-24T13:42:56.336Z"
   },
   {
    "duration": 66,
    "start_time": "2023-12-24T13:42:57.557Z"
   },
   {
    "duration": 12,
    "start_time": "2023-12-24T13:42:57.625Z"
   },
   {
    "duration": 10,
    "start_time": "2023-12-24T13:42:57.638Z"
   },
   {
    "duration": 30,
    "start_time": "2023-12-24T13:42:57.650Z"
   },
   {
    "duration": 12,
    "start_time": "2023-12-24T13:42:57.681Z"
   },
   {
    "duration": 6,
    "start_time": "2023-12-24T13:42:57.694Z"
   },
   {
    "duration": 35,
    "start_time": "2023-12-24T13:42:57.702Z"
   },
   {
    "duration": 22,
    "start_time": "2023-12-24T13:42:57.739Z"
   },
   {
    "duration": 12,
    "start_time": "2023-12-24T13:42:57.764Z"
   },
   {
    "duration": 6,
    "start_time": "2023-12-24T13:42:57.777Z"
   },
   {
    "duration": 4,
    "start_time": "2023-12-24T13:42:57.785Z"
   },
   {
    "duration": 11,
    "start_time": "2023-12-24T13:42:57.790Z"
   },
   {
    "duration": 4,
    "start_time": "2023-12-24T13:42:57.803Z"
   },
   {
    "duration": 5,
    "start_time": "2023-12-24T13:42:57.809Z"
   },
   {
    "duration": 4,
    "start_time": "2023-12-24T13:42:57.816Z"
   },
   {
    "duration": 5,
    "start_time": "2023-12-24T13:42:57.821Z"
   },
   {
    "duration": 39,
    "start_time": "2023-12-24T13:42:57.827Z"
   },
   {
    "duration": 6,
    "start_time": "2023-12-24T13:42:57.868Z"
   },
   {
    "duration": 6,
    "start_time": "2023-12-24T13:42:57.875Z"
   },
   {
    "duration": 7,
    "start_time": "2023-12-24T13:42:57.883Z"
   },
   {
    "duration": 6,
    "start_time": "2023-12-24T13:42:57.892Z"
   },
   {
    "duration": 12,
    "start_time": "2023-12-24T13:42:57.900Z"
   },
   {
    "duration": 54,
    "start_time": "2023-12-24T13:42:57.914Z"
   },
   {
    "duration": 15,
    "start_time": "2023-12-24T13:42:57.969Z"
   },
   {
    "duration": 5,
    "start_time": "2023-12-24T13:42:57.985Z"
   },
   {
    "duration": 9,
    "start_time": "2023-12-24T13:42:57.991Z"
   },
   {
    "duration": 3,
    "start_time": "2023-12-24T13:42:58.003Z"
   },
   {
    "duration": 9,
    "start_time": "2023-12-24T13:42:58.007Z"
   },
   {
    "duration": 172,
    "start_time": "2023-12-24T13:42:58.017Z"
   },
   {
    "duration": 6,
    "start_time": "2023-12-24T13:42:58.191Z"
   },
   {
    "duration": 102,
    "start_time": "2023-12-24T13:42:58.198Z"
   },
   {
    "duration": 130,
    "start_time": "2023-12-24T13:42:58.302Z"
   },
   {
    "duration": 3,
    "start_time": "2023-12-24T13:42:58.433Z"
   },
   {
    "duration": 164,
    "start_time": "2023-12-24T13:42:58.438Z"
   },
   {
    "duration": 3,
    "start_time": "2023-12-24T13:42:58.604Z"
   },
   {
    "duration": 98,
    "start_time": "2023-12-24T13:42:58.608Z"
   },
   {
    "duration": 176,
    "start_time": "2023-12-24T13:42:58.707Z"
   },
   {
    "duration": 14,
    "start_time": "2023-12-24T13:42:58.884Z"
   },
   {
    "duration": 151,
    "start_time": "2023-12-24T13:42:58.900Z"
   },
   {
    "duration": 254,
    "start_time": "2023-12-24T13:42:59.053Z"
   },
   {
    "duration": 152,
    "start_time": "2023-12-24T13:42:59.308Z"
   },
   {
    "duration": 7,
    "start_time": "2023-12-24T13:42:59.461Z"
   },
   {
    "duration": 24,
    "start_time": "2023-12-24T13:42:59.469Z"
   },
   {
    "duration": 6,
    "start_time": "2023-12-24T13:42:59.495Z"
   },
   {
    "duration": 5,
    "start_time": "2023-12-24T13:42:59.502Z"
   },
   {
    "duration": 24,
    "start_time": "2023-12-24T13:42:59.509Z"
   },
   {
    "duration": 43,
    "start_time": "2023-12-24T13:42:59.534Z"
   },
   {
    "duration": 12,
    "start_time": "2023-12-24T13:42:59.579Z"
   },
   {
    "duration": 15,
    "start_time": "2023-12-24T13:42:59.593Z"
   },
   {
    "duration": 30,
    "start_time": "2023-12-24T13:42:59.609Z"
   },
   {
    "duration": 178,
    "start_time": "2023-12-24T13:42:59.640Z"
   },
   {
    "duration": 159,
    "start_time": "2023-12-24T13:42:59.820Z"
   },
   {
    "duration": 152,
    "start_time": "2023-12-24T13:42:59.980Z"
   },
   {
    "duration": 15,
    "start_time": "2023-12-24T13:43:00.133Z"
   },
   {
    "duration": 47,
    "start_time": "2023-12-24T13:43:00.150Z"
   },
   {
    "duration": 175,
    "start_time": "2023-12-24T13:43:00.199Z"
   },
   {
    "duration": 148,
    "start_time": "2023-12-24T13:43:00.376Z"
   },
   {
    "duration": 179,
    "start_time": "2023-12-24T13:43:00.526Z"
   },
   {
    "duration": 75,
    "start_time": "2023-12-24T13:43:00.707Z"
   },
   {
    "duration": 15,
    "start_time": "2023-12-24T13:43:00.784Z"
   },
   {
    "duration": 57,
    "start_time": "2023-12-24T13:43:00.800Z"
   },
   {
    "duration": 886,
    "start_time": "2023-12-24T13:43:00.859Z"
   },
   {
    "duration": 5,
    "start_time": "2023-12-24T13:43:01.747Z"
   },
   {
    "duration": 129,
    "start_time": "2023-12-24T13:43:01.754Z"
   },
   {
    "duration": 0,
    "start_time": "2023-12-24T13:43:01.885Z"
   },
   {
    "duration": 0,
    "start_time": "2023-12-24T13:43:01.886Z"
   },
   {
    "duration": 0,
    "start_time": "2023-12-24T13:43:01.887Z"
   },
   {
    "duration": 0,
    "start_time": "2023-12-24T13:43:01.889Z"
   },
   {
    "duration": 0,
    "start_time": "2023-12-24T13:43:01.890Z"
   },
   {
    "duration": 1202,
    "start_time": "2023-12-24T13:43:43.843Z"
   },
   {
    "duration": 65,
    "start_time": "2023-12-24T13:43:45.047Z"
   },
   {
    "duration": 12,
    "start_time": "2023-12-24T13:43:45.114Z"
   },
   {
    "duration": 19,
    "start_time": "2023-12-24T13:43:45.127Z"
   },
   {
    "duration": 13,
    "start_time": "2023-12-24T13:43:45.147Z"
   },
   {
    "duration": 14,
    "start_time": "2023-12-24T13:43:45.161Z"
   },
   {
    "duration": 6,
    "start_time": "2023-12-24T13:43:45.176Z"
   },
   {
    "duration": 12,
    "start_time": "2023-12-24T13:43:45.184Z"
   },
   {
    "duration": 6,
    "start_time": "2023-12-24T13:43:45.197Z"
   },
   {
    "duration": 6,
    "start_time": "2023-12-24T13:43:45.205Z"
   },
   {
    "duration": 7,
    "start_time": "2023-12-24T13:43:45.212Z"
   },
   {
    "duration": 5,
    "start_time": "2023-12-24T13:43:45.220Z"
   },
   {
    "duration": 7,
    "start_time": "2023-12-24T13:43:45.226Z"
   },
   {
    "duration": 31,
    "start_time": "2023-12-24T13:43:45.234Z"
   },
   {
    "duration": 5,
    "start_time": "2023-12-24T13:43:45.267Z"
   },
   {
    "duration": 4,
    "start_time": "2023-12-24T13:43:45.274Z"
   },
   {
    "duration": 5,
    "start_time": "2023-12-24T13:43:45.279Z"
   },
   {
    "duration": 6,
    "start_time": "2023-12-24T13:43:45.285Z"
   },
   {
    "duration": 5,
    "start_time": "2023-12-24T13:43:45.292Z"
   },
   {
    "duration": 5,
    "start_time": "2023-12-24T13:43:45.298Z"
   },
   {
    "duration": 15,
    "start_time": "2023-12-24T13:43:45.305Z"
   },
   {
    "duration": 6,
    "start_time": "2023-12-24T13:43:45.322Z"
   },
   {
    "duration": 46,
    "start_time": "2023-12-24T13:43:45.330Z"
   },
   {
    "duration": 23,
    "start_time": "2023-12-24T13:43:45.377Z"
   },
   {
    "duration": 15,
    "start_time": "2023-12-24T13:43:45.402Z"
   },
   {
    "duration": 6,
    "start_time": "2023-12-24T13:43:45.418Z"
   },
   {
    "duration": 9,
    "start_time": "2023-12-24T13:43:45.425Z"
   },
   {
    "duration": 2,
    "start_time": "2023-12-24T13:43:45.465Z"
   },
   {
    "duration": 5,
    "start_time": "2023-12-24T13:43:45.469Z"
   },
   {
    "duration": 166,
    "start_time": "2023-12-24T13:43:45.476Z"
   },
   {
    "duration": 6,
    "start_time": "2023-12-24T13:43:45.643Z"
   },
   {
    "duration": 90,
    "start_time": "2023-12-24T13:43:45.664Z"
   },
   {
    "duration": 129,
    "start_time": "2023-12-24T13:43:45.764Z"
   },
   {
    "duration": 3,
    "start_time": "2023-12-24T13:43:45.895Z"
   },
   {
    "duration": 165,
    "start_time": "2023-12-24T13:43:45.900Z"
   },
   {
    "duration": 4,
    "start_time": "2023-12-24T13:43:46.067Z"
   },
   {
    "duration": 101,
    "start_time": "2023-12-24T13:43:46.072Z"
   },
   {
    "duration": 172,
    "start_time": "2023-12-24T13:43:46.176Z"
   },
   {
    "duration": 22,
    "start_time": "2023-12-24T13:43:46.349Z"
   },
   {
    "duration": 97,
    "start_time": "2023-12-24T13:43:46.372Z"
   },
   {
    "duration": 251,
    "start_time": "2023-12-24T13:43:46.470Z"
   },
   {
    "duration": 159,
    "start_time": "2023-12-24T13:43:46.723Z"
   },
   {
    "duration": 5,
    "start_time": "2023-12-24T13:43:46.883Z"
   },
   {
    "duration": 31,
    "start_time": "2023-12-24T13:43:46.889Z"
   },
   {
    "duration": 11,
    "start_time": "2023-12-24T13:43:46.921Z"
   },
   {
    "duration": 7,
    "start_time": "2023-12-24T13:43:46.934Z"
   },
   {
    "duration": 28,
    "start_time": "2023-12-24T13:43:46.942Z"
   },
   {
    "duration": 21,
    "start_time": "2023-12-24T13:43:46.972Z"
   },
   {
    "duration": 13,
    "start_time": "2023-12-24T13:43:46.995Z"
   },
   {
    "duration": 15,
    "start_time": "2023-12-24T13:43:47.010Z"
   },
   {
    "duration": 55,
    "start_time": "2023-12-24T13:43:47.027Z"
   },
   {
    "duration": 177,
    "start_time": "2023-12-24T13:43:47.084Z"
   },
   {
    "duration": 165,
    "start_time": "2023-12-24T13:43:47.265Z"
   },
   {
    "duration": 165,
    "start_time": "2023-12-24T13:43:47.431Z"
   },
   {
    "duration": 14,
    "start_time": "2023-12-24T13:43:47.597Z"
   },
   {
    "duration": 59,
    "start_time": "2023-12-24T13:43:47.613Z"
   },
   {
    "duration": 172,
    "start_time": "2023-12-24T13:43:47.674Z"
   },
   {
    "duration": 159,
    "start_time": "2023-12-24T13:43:47.848Z"
   },
   {
    "duration": 270,
    "start_time": "2023-12-24T13:43:48.009Z"
   },
   {
    "duration": 108,
    "start_time": "2023-12-24T13:43:48.280Z"
   },
   {
    "duration": 14,
    "start_time": "2023-12-24T13:43:48.390Z"
   },
   {
    "duration": 5,
    "start_time": "2023-12-24T13:43:48.405Z"
   },
   {
    "duration": 831,
    "start_time": "2023-12-24T13:43:48.411Z"
   },
   {
    "duration": 4,
    "start_time": "2023-12-24T13:43:49.244Z"
   },
   {
    "duration": 1367,
    "start_time": "2023-12-24T13:43:49.250Z"
   },
   {
    "duration": 0,
    "start_time": "2023-12-24T13:43:50.620Z"
   },
   {
    "duration": 0,
    "start_time": "2023-12-24T13:43:50.622Z"
   },
   {
    "duration": 0,
    "start_time": "2023-12-24T13:43:50.623Z"
   },
   {
    "duration": 0,
    "start_time": "2023-12-24T13:43:50.624Z"
   },
   {
    "duration": 0,
    "start_time": "2023-12-24T13:43:50.626Z"
   },
   {
    "duration": 1272,
    "start_time": "2023-12-24T13:46:08.575Z"
   },
   {
    "duration": 65,
    "start_time": "2023-12-24T13:46:09.848Z"
   },
   {
    "duration": 12,
    "start_time": "2023-12-24T13:46:09.914Z"
   },
   {
    "duration": 13,
    "start_time": "2023-12-24T13:46:09.927Z"
   },
   {
    "duration": 8,
    "start_time": "2023-12-24T13:46:09.941Z"
   },
   {
    "duration": 9,
    "start_time": "2023-12-24T13:46:09.951Z"
   },
   {
    "duration": 5,
    "start_time": "2023-12-24T13:46:09.962Z"
   },
   {
    "duration": 7,
    "start_time": "2023-12-24T13:46:09.969Z"
   },
   {
    "duration": 5,
    "start_time": "2023-12-24T13:46:09.978Z"
   },
   {
    "duration": 7,
    "start_time": "2023-12-24T13:46:09.986Z"
   },
   {
    "duration": 8,
    "start_time": "2023-12-24T13:46:09.994Z"
   },
   {
    "duration": 10,
    "start_time": "2023-12-24T13:46:10.004Z"
   },
   {
    "duration": 12,
    "start_time": "2023-12-24T13:46:10.015Z"
   },
   {
    "duration": 24,
    "start_time": "2023-12-24T13:46:10.029Z"
   },
   {
    "duration": 16,
    "start_time": "2023-12-24T13:46:10.054Z"
   },
   {
    "duration": 7,
    "start_time": "2023-12-24T13:46:10.072Z"
   },
   {
    "duration": 13,
    "start_time": "2023-12-24T13:46:10.081Z"
   },
   {
    "duration": 8,
    "start_time": "2023-12-24T13:46:10.095Z"
   },
   {
    "duration": 7,
    "start_time": "2023-12-24T13:46:10.104Z"
   },
   {
    "duration": 6,
    "start_time": "2023-12-24T13:46:10.112Z"
   },
   {
    "duration": 16,
    "start_time": "2023-12-24T13:46:10.120Z"
   },
   {
    "duration": 23,
    "start_time": "2023-12-24T13:46:10.138Z"
   },
   {
    "duration": 28,
    "start_time": "2023-12-24T13:46:10.162Z"
   },
   {
    "duration": 19,
    "start_time": "2023-12-24T13:46:10.191Z"
   },
   {
    "duration": 15,
    "start_time": "2023-12-24T13:46:10.212Z"
   },
   {
    "duration": 14,
    "start_time": "2023-12-24T13:46:10.228Z"
   },
   {
    "duration": 31,
    "start_time": "2023-12-24T13:46:10.243Z"
   },
   {
    "duration": 10,
    "start_time": "2023-12-24T13:46:10.278Z"
   },
   {
    "duration": 9,
    "start_time": "2023-12-24T13:46:10.289Z"
   },
   {
    "duration": 159,
    "start_time": "2023-12-24T13:46:10.299Z"
   },
   {
    "duration": 7,
    "start_time": "2023-12-24T13:46:10.460Z"
   },
   {
    "duration": 121,
    "start_time": "2023-12-24T13:46:10.469Z"
   },
   {
    "duration": 128,
    "start_time": "2023-12-24T13:46:10.592Z"
   },
   {
    "duration": 3,
    "start_time": "2023-12-24T13:46:10.722Z"
   },
   {
    "duration": 174,
    "start_time": "2023-12-24T13:46:10.726Z"
   },
   {
    "duration": 3,
    "start_time": "2023-12-24T13:46:10.901Z"
   },
   {
    "duration": 105,
    "start_time": "2023-12-24T13:46:10.906Z"
   },
   {
    "duration": 176,
    "start_time": "2023-12-24T13:46:11.012Z"
   },
   {
    "duration": 12,
    "start_time": "2023-12-24T13:46:11.189Z"
   },
   {
    "duration": 102,
    "start_time": "2023-12-24T13:46:11.202Z"
   },
   {
    "duration": 251,
    "start_time": "2023-12-24T13:46:11.305Z"
   },
   {
    "duration": 150,
    "start_time": "2023-12-24T13:46:11.557Z"
   },
   {
    "duration": 4,
    "start_time": "2023-12-24T13:46:11.709Z"
   },
   {
    "duration": 25,
    "start_time": "2023-12-24T13:46:11.715Z"
   },
   {
    "duration": 23,
    "start_time": "2023-12-24T13:46:11.742Z"
   },
   {
    "duration": 5,
    "start_time": "2023-12-24T13:46:11.767Z"
   },
   {
    "duration": 19,
    "start_time": "2023-12-24T13:46:11.773Z"
   },
   {
    "duration": 41,
    "start_time": "2023-12-24T13:46:11.794Z"
   },
   {
    "duration": 13,
    "start_time": "2023-12-24T13:46:11.836Z"
   },
   {
    "duration": 20,
    "start_time": "2023-12-24T13:46:11.851Z"
   },
   {
    "duration": 29,
    "start_time": "2023-12-24T13:46:11.873Z"
   },
   {
    "duration": 192,
    "start_time": "2023-12-24T13:46:11.903Z"
   },
   {
    "duration": 181,
    "start_time": "2023-12-24T13:46:12.097Z"
   },
   {
    "duration": 163,
    "start_time": "2023-12-24T13:46:12.279Z"
   },
   {
    "duration": 21,
    "start_time": "2023-12-24T13:46:12.444Z"
   },
   {
    "duration": 28,
    "start_time": "2023-12-24T13:46:12.467Z"
   },
   {
    "duration": 172,
    "start_time": "2023-12-24T13:46:12.497Z"
   },
   {
    "duration": 156,
    "start_time": "2023-12-24T13:46:12.671Z"
   },
   {
    "duration": 166,
    "start_time": "2023-12-24T13:46:12.829Z"
   },
   {
    "duration": 81,
    "start_time": "2023-12-24T13:46:12.997Z"
   },
   {
    "duration": 23,
    "start_time": "2023-12-24T13:46:13.080Z"
   },
   {
    "duration": 7,
    "start_time": "2023-12-24T13:46:13.104Z"
   },
   {
    "duration": 804,
    "start_time": "2023-12-24T13:46:13.112Z"
   },
   {
    "duration": 6,
    "start_time": "2023-12-24T13:46:13.917Z"
   },
   {
    "duration": 1317,
    "start_time": "2023-12-24T13:46:13.924Z"
   },
   {
    "duration": 0,
    "start_time": "2023-12-24T13:46:15.243Z"
   },
   {
    "duration": 0,
    "start_time": "2023-12-24T13:46:15.244Z"
   },
   {
    "duration": 0,
    "start_time": "2023-12-24T13:46:15.245Z"
   },
   {
    "duration": 0,
    "start_time": "2023-12-24T13:46:15.246Z"
   },
   {
    "duration": 0,
    "start_time": "2023-12-24T13:46:15.247Z"
   },
   {
    "duration": 8,
    "start_time": "2023-12-24T13:46:37.883Z"
   },
   {
    "duration": 5,
    "start_time": "2023-12-24T13:47:10.803Z"
   },
   {
    "duration": 5,
    "start_time": "2023-12-24T13:47:24.513Z"
   },
   {
    "duration": 1300,
    "start_time": "2023-12-24T14:41:30.153Z"
   },
   {
    "duration": 8,
    "start_time": "2023-12-24T14:47:08.778Z"
   },
   {
    "duration": 1221,
    "start_time": "2023-12-24T14:47:29.865Z"
   },
   {
    "duration": 7,
    "start_time": "2023-12-24T14:47:36.881Z"
   },
   {
    "duration": 4,
    "start_time": "2023-12-24T15:00:53.269Z"
   },
   {
    "duration": 5,
    "start_time": "2023-12-24T15:01:28.309Z"
   },
   {
    "duration": 1197,
    "start_time": "2023-12-24T15:18:37.351Z"
   },
   {
    "duration": 66,
    "start_time": "2023-12-24T15:18:38.550Z"
   },
   {
    "duration": 12,
    "start_time": "2023-12-24T15:18:38.618Z"
   },
   {
    "duration": 8,
    "start_time": "2023-12-24T15:18:38.632Z"
   },
   {
    "duration": 16,
    "start_time": "2023-12-24T15:18:38.642Z"
   },
   {
    "duration": 12,
    "start_time": "2023-12-24T15:18:38.660Z"
   },
   {
    "duration": 6,
    "start_time": "2023-12-24T15:18:38.673Z"
   },
   {
    "duration": 8,
    "start_time": "2023-12-24T15:18:38.680Z"
   },
   {
    "duration": 7,
    "start_time": "2023-12-24T15:18:38.690Z"
   },
   {
    "duration": 6,
    "start_time": "2023-12-24T15:18:38.700Z"
   },
   {
    "duration": 13,
    "start_time": "2023-12-24T15:18:38.707Z"
   },
   {
    "duration": 5,
    "start_time": "2023-12-24T15:18:38.721Z"
   },
   {
    "duration": 9,
    "start_time": "2023-12-24T15:18:38.727Z"
   },
   {
    "duration": 28,
    "start_time": "2023-12-24T15:18:38.738Z"
   },
   {
    "duration": 7,
    "start_time": "2023-12-24T15:18:38.767Z"
   },
   {
    "duration": 5,
    "start_time": "2023-12-24T15:18:38.775Z"
   },
   {
    "duration": 4,
    "start_time": "2023-12-24T15:18:38.781Z"
   },
   {
    "duration": 8,
    "start_time": "2023-12-24T15:18:38.787Z"
   },
   {
    "duration": 4,
    "start_time": "2023-12-24T15:18:38.796Z"
   },
   {
    "duration": 6,
    "start_time": "2023-12-24T15:18:38.802Z"
   },
   {
    "duration": 7,
    "start_time": "2023-12-24T15:18:38.809Z"
   },
   {
    "duration": 7,
    "start_time": "2023-12-24T15:18:38.817Z"
   },
   {
    "duration": 49,
    "start_time": "2023-12-24T15:18:38.825Z"
   },
   {
    "duration": 20,
    "start_time": "2023-12-24T15:18:38.875Z"
   },
   {
    "duration": 18,
    "start_time": "2023-12-24T15:18:38.897Z"
   },
   {
    "duration": 7,
    "start_time": "2023-12-24T15:18:38.916Z"
   },
   {
    "duration": 9,
    "start_time": "2023-12-24T15:18:38.924Z"
   },
   {
    "duration": 3,
    "start_time": "2023-12-24T15:18:38.967Z"
   },
   {
    "duration": 11,
    "start_time": "2023-12-24T15:18:38.972Z"
   },
   {
    "duration": 152,
    "start_time": "2023-12-24T15:18:38.984Z"
   },
   {
    "duration": 5,
    "start_time": "2023-12-24T15:18:39.137Z"
   },
   {
    "duration": 98,
    "start_time": "2023-12-24T15:18:39.143Z"
   },
   {
    "duration": 144,
    "start_time": "2023-12-24T15:18:39.242Z"
   },
   {
    "duration": 3,
    "start_time": "2023-12-24T15:18:39.388Z"
   },
   {
    "duration": 159,
    "start_time": "2023-12-24T15:18:39.392Z"
   },
   {
    "duration": 3,
    "start_time": "2023-12-24T15:18:39.553Z"
   },
   {
    "duration": 102,
    "start_time": "2023-12-24T15:18:39.564Z"
   },
   {
    "duration": 199,
    "start_time": "2023-12-24T15:18:39.668Z"
   },
   {
    "duration": 12,
    "start_time": "2023-12-24T15:18:39.868Z"
   },
   {
    "duration": 111,
    "start_time": "2023-12-24T15:18:39.881Z"
   },
   {
    "duration": 239,
    "start_time": "2023-12-24T15:18:39.993Z"
   },
   {
    "duration": 153,
    "start_time": "2023-12-24T15:18:40.233Z"
   },
   {
    "duration": 5,
    "start_time": "2023-12-24T15:18:40.388Z"
   },
   {
    "duration": 47,
    "start_time": "2023-12-24T15:18:40.394Z"
   },
   {
    "duration": 19,
    "start_time": "2023-12-24T15:18:40.442Z"
   },
   {
    "duration": 12,
    "start_time": "2023-12-24T15:18:40.462Z"
   },
   {
    "duration": 34,
    "start_time": "2023-12-24T15:18:40.476Z"
   },
   {
    "duration": 27,
    "start_time": "2023-12-24T15:18:40.512Z"
   },
   {
    "duration": 26,
    "start_time": "2023-12-24T15:18:40.541Z"
   },
   {
    "duration": 15,
    "start_time": "2023-12-24T15:18:40.568Z"
   },
   {
    "duration": 4,
    "start_time": "2023-12-24T15:18:40.585Z"
   },
   {
    "duration": 20,
    "start_time": "2023-12-24T15:18:40.590Z"
   },
   {
    "duration": 33,
    "start_time": "2023-12-24T15:18:40.611Z"
   },
   {
    "duration": 154,
    "start_time": "2023-12-24T15:18:40.646Z"
   },
   {
    "duration": 166,
    "start_time": "2023-12-24T15:18:40.802Z"
   },
   {
    "duration": 148,
    "start_time": "2023-12-24T15:18:40.970Z"
   },
   {
    "duration": 14,
    "start_time": "2023-12-24T15:18:41.119Z"
   },
   {
    "duration": 41,
    "start_time": "2023-12-24T15:18:41.135Z"
   },
   {
    "duration": 155,
    "start_time": "2023-12-24T15:18:41.178Z"
   },
   {
    "duration": 138,
    "start_time": "2023-12-24T15:18:41.335Z"
   },
   {
    "duration": 166,
    "start_time": "2023-12-24T15:18:41.475Z"
   },
   {
    "duration": 70,
    "start_time": "2023-12-24T15:18:41.642Z"
   },
   {
    "duration": 15,
    "start_time": "2023-12-24T15:18:41.713Z"
   },
   {
    "duration": 5,
    "start_time": "2023-12-24T15:18:41.730Z"
   },
   {
    "duration": 800,
    "start_time": "2023-12-24T15:18:41.736Z"
   },
   {
    "duration": 4,
    "start_time": "2023-12-24T15:18:42.538Z"
   },
   {
    "duration": 8,
    "start_time": "2023-12-24T15:18:42.543Z"
   },
   {
    "duration": 5,
    "start_time": "2023-12-24T15:18:42.565Z"
   },
   {
    "duration": 234,
    "start_time": "2023-12-24T15:18:42.571Z"
   },
   {
    "duration": 379,
    "start_time": "2023-12-24T15:18:42.806Z"
   },
   {
    "duration": 5,
    "start_time": "2023-12-24T15:18:43.186Z"
   },
   {
    "duration": 231,
    "start_time": "2023-12-24T15:18:43.192Z"
   },
   {
    "duration": 1202,
    "start_time": "2023-12-24T15:23:55.358Z"
   },
   {
    "duration": 67,
    "start_time": "2023-12-24T15:23:56.562Z"
   },
   {
    "duration": 13,
    "start_time": "2023-12-24T15:23:56.630Z"
   },
   {
    "duration": 9,
    "start_time": "2023-12-24T15:23:56.645Z"
   },
   {
    "duration": 14,
    "start_time": "2023-12-24T15:23:56.656Z"
   },
   {
    "duration": 11,
    "start_time": "2023-12-24T15:23:56.671Z"
   },
   {
    "duration": 6,
    "start_time": "2023-12-24T15:23:56.683Z"
   },
   {
    "duration": 9,
    "start_time": "2023-12-24T15:23:56.691Z"
   },
   {
    "duration": 8,
    "start_time": "2023-12-24T15:23:56.701Z"
   },
   {
    "duration": 7,
    "start_time": "2023-12-24T15:23:56.711Z"
   },
   {
    "duration": 5,
    "start_time": "2023-12-24T15:23:56.719Z"
   },
   {
    "duration": 4,
    "start_time": "2023-12-24T15:23:56.725Z"
   },
   {
    "duration": 8,
    "start_time": "2023-12-24T15:23:56.730Z"
   },
   {
    "duration": 5,
    "start_time": "2023-12-24T15:23:56.765Z"
   },
   {
    "duration": 16,
    "start_time": "2023-12-24T15:23:56.771Z"
   },
   {
    "duration": 18,
    "start_time": "2023-12-24T15:23:56.789Z"
   },
   {
    "duration": 7,
    "start_time": "2023-12-24T15:23:56.809Z"
   },
   {
    "duration": 24,
    "start_time": "2023-12-24T15:23:56.818Z"
   },
   {
    "duration": 22,
    "start_time": "2023-12-24T15:23:56.844Z"
   },
   {
    "duration": 18,
    "start_time": "2023-12-24T15:23:56.867Z"
   },
   {
    "duration": 14,
    "start_time": "2023-12-24T15:23:56.886Z"
   },
   {
    "duration": 23,
    "start_time": "2023-12-24T15:23:56.901Z"
   },
   {
    "duration": 28,
    "start_time": "2023-12-24T15:23:56.925Z"
   },
   {
    "duration": 22,
    "start_time": "2023-12-24T15:23:56.955Z"
   },
   {
    "duration": 15,
    "start_time": "2023-12-24T15:23:56.979Z"
   },
   {
    "duration": 15,
    "start_time": "2023-12-24T15:23:56.996Z"
   },
   {
    "duration": 23,
    "start_time": "2023-12-24T15:23:57.012Z"
   },
   {
    "duration": 5,
    "start_time": "2023-12-24T15:23:57.040Z"
   },
   {
    "duration": 19,
    "start_time": "2023-12-24T15:23:57.047Z"
   },
   {
    "duration": 174,
    "start_time": "2023-12-24T15:23:57.067Z"
   },
   {
    "duration": 5,
    "start_time": "2023-12-24T15:23:57.243Z"
   },
   {
    "duration": 100,
    "start_time": "2023-12-24T15:23:57.250Z"
   },
   {
    "duration": 130,
    "start_time": "2023-12-24T15:23:57.352Z"
   },
   {
    "duration": 4,
    "start_time": "2023-12-24T15:23:57.483Z"
   },
   {
    "duration": 171,
    "start_time": "2023-12-24T15:23:57.489Z"
   },
   {
    "duration": 3,
    "start_time": "2023-12-24T15:23:57.662Z"
   },
   {
    "duration": 116,
    "start_time": "2023-12-24T15:23:57.667Z"
   },
   {
    "duration": 183,
    "start_time": "2023-12-24T15:23:57.784Z"
   },
   {
    "duration": 13,
    "start_time": "2023-12-24T15:23:57.968Z"
   },
   {
    "duration": 111,
    "start_time": "2023-12-24T15:23:57.982Z"
   },
   {
    "duration": 241,
    "start_time": "2023-12-24T15:23:58.094Z"
   },
   {
    "duration": 154,
    "start_time": "2023-12-24T15:23:58.336Z"
   },
   {
    "duration": 4,
    "start_time": "2023-12-24T15:23:58.491Z"
   },
   {
    "duration": 27,
    "start_time": "2023-12-24T15:23:58.496Z"
   },
   {
    "duration": 7,
    "start_time": "2023-12-24T15:23:58.525Z"
   },
   {
    "duration": 5,
    "start_time": "2023-12-24T15:23:58.533Z"
   },
   {
    "duration": 39,
    "start_time": "2023-12-24T15:23:58.539Z"
   },
   {
    "duration": 22,
    "start_time": "2023-12-24T15:23:58.580Z"
   },
   {
    "duration": 17,
    "start_time": "2023-12-24T15:23:58.603Z"
   },
   {
    "duration": 3,
    "start_time": "2023-12-24T15:23:58.621Z"
   },
   {
    "duration": 24,
    "start_time": "2023-12-24T15:23:58.625Z"
   },
   {
    "duration": 25,
    "start_time": "2023-12-24T15:23:58.650Z"
   },
   {
    "duration": 36,
    "start_time": "2023-12-24T15:23:58.677Z"
   },
   {
    "duration": 172,
    "start_time": "2023-12-24T15:23:58.715Z"
   },
   {
    "duration": 195,
    "start_time": "2023-12-24T15:23:58.889Z"
   },
   {
    "duration": 151,
    "start_time": "2023-12-24T15:23:59.086Z"
   },
   {
    "duration": 15,
    "start_time": "2023-12-24T15:23:59.238Z"
   },
   {
    "duration": 33,
    "start_time": "2023-12-24T15:23:59.264Z"
   },
   {
    "duration": 163,
    "start_time": "2023-12-24T15:23:59.298Z"
   },
   {
    "duration": 150,
    "start_time": "2023-12-24T15:23:59.465Z"
   },
   {
    "duration": 168,
    "start_time": "2023-12-24T15:23:59.617Z"
   },
   {
    "duration": 63,
    "start_time": "2023-12-24T15:23:59.786Z"
   },
   {
    "duration": 27,
    "start_time": "2023-12-24T15:23:59.850Z"
   },
   {
    "duration": 5,
    "start_time": "2023-12-24T15:23:59.878Z"
   },
   {
    "duration": 755,
    "start_time": "2023-12-24T15:23:59.884Z"
   },
   {
    "duration": 5,
    "start_time": "2023-12-24T15:24:00.641Z"
   },
   {
    "duration": 21,
    "start_time": "2023-12-24T15:24:00.647Z"
   },
   {
    "duration": 43,
    "start_time": "2023-12-24T15:24:00.670Z"
   },
   {
    "duration": 287,
    "start_time": "2023-12-24T15:24:00.715Z"
   },
   {
    "duration": 398,
    "start_time": "2023-12-24T15:24:01.004Z"
   },
   {
    "duration": 5,
    "start_time": "2023-12-24T15:24:01.403Z"
   },
   {
    "duration": 300,
    "start_time": "2023-12-24T15:24:01.409Z"
   },
   {
    "duration": 7,
    "start_time": "2023-12-24T16:12:56.944Z"
   },
   {
    "duration": 6,
    "start_time": "2023-12-24T16:13:51.767Z"
   },
   {
    "duration": 95,
    "start_time": "2023-12-24T16:14:04.968Z"
   },
   {
    "duration": 9,
    "start_time": "2023-12-24T16:15:07.616Z"
   },
   {
    "duration": 8,
    "start_time": "2023-12-24T16:15:31.552Z"
   },
   {
    "duration": 399,
    "start_time": "2023-12-24T16:15:40.281Z"
   },
   {
    "duration": 8,
    "start_time": "2023-12-24T16:19:43.329Z"
   },
   {
    "duration": 242,
    "start_time": "2023-12-24T16:19:55.680Z"
   },
   {
    "duration": 11,
    "start_time": "2023-12-24T16:21:16.266Z"
   },
   {
    "duration": 498,
    "start_time": "2023-12-24T16:21:26.113Z"
   },
   {
    "duration": 322,
    "start_time": "2023-12-24T16:22:15.994Z"
   },
   {
    "duration": 241,
    "start_time": "2023-12-24T16:23:05.130Z"
   },
   {
    "duration": 66,
    "start_time": "2023-12-24T16:27:17.507Z"
   },
   {
    "duration": 309,
    "start_time": "2023-12-24T16:27:54.651Z"
   },
   {
    "duration": 324,
    "start_time": "2023-12-24T16:28:22.884Z"
   },
   {
    "duration": 1290,
    "start_time": "2023-12-24T16:29:47.018Z"
   },
   {
    "duration": 108,
    "start_time": "2023-12-24T16:29:48.310Z"
   },
   {
    "duration": 10,
    "start_time": "2023-12-24T16:29:48.420Z"
   },
   {
    "duration": 13,
    "start_time": "2023-12-24T16:29:48.432Z"
   },
   {
    "duration": 14,
    "start_time": "2023-12-24T16:29:48.447Z"
   },
   {
    "duration": 19,
    "start_time": "2023-12-24T16:29:48.462Z"
   },
   {
    "duration": 6,
    "start_time": "2023-12-24T16:29:48.483Z"
   },
   {
    "duration": 12,
    "start_time": "2023-12-24T16:29:48.491Z"
   },
   {
    "duration": 8,
    "start_time": "2023-12-24T16:29:48.504Z"
   },
   {
    "duration": 53,
    "start_time": "2023-12-24T16:29:48.514Z"
   },
   {
    "duration": 5,
    "start_time": "2023-12-24T16:29:48.569Z"
   },
   {
    "duration": 5,
    "start_time": "2023-12-24T16:29:48.576Z"
   },
   {
    "duration": 7,
    "start_time": "2023-12-24T16:29:48.582Z"
   },
   {
    "duration": 4,
    "start_time": "2023-12-24T16:29:48.591Z"
   },
   {
    "duration": 6,
    "start_time": "2023-12-24T16:29:48.597Z"
   },
   {
    "duration": 5,
    "start_time": "2023-12-24T16:29:48.604Z"
   },
   {
    "duration": 3,
    "start_time": "2023-12-24T16:29:48.611Z"
   },
   {
    "duration": 9,
    "start_time": "2023-12-24T16:29:48.616Z"
   },
   {
    "duration": 42,
    "start_time": "2023-12-24T16:29:48.626Z"
   },
   {
    "duration": 6,
    "start_time": "2023-12-24T16:29:48.669Z"
   },
   {
    "duration": 7,
    "start_time": "2023-12-24T16:29:48.676Z"
   },
   {
    "duration": 4,
    "start_time": "2023-12-24T16:29:48.684Z"
   },
   {
    "duration": 13,
    "start_time": "2023-12-24T16:29:48.690Z"
   },
   {
    "duration": 19,
    "start_time": "2023-12-24T16:29:48.705Z"
   },
   {
    "duration": 52,
    "start_time": "2023-12-24T16:29:48.726Z"
   },
   {
    "duration": 6,
    "start_time": "2023-12-24T16:29:48.780Z"
   },
   {
    "duration": 7,
    "start_time": "2023-12-24T16:29:48.788Z"
   },
   {
    "duration": 2,
    "start_time": "2023-12-24T16:29:48.799Z"
   },
   {
    "duration": 6,
    "start_time": "2023-12-24T16:29:48.803Z"
   },
   {
    "duration": 206,
    "start_time": "2023-12-24T16:29:48.811Z"
   },
   {
    "duration": 5,
    "start_time": "2023-12-24T16:29:49.019Z"
   },
   {
    "duration": 97,
    "start_time": "2023-12-24T16:29:49.025Z"
   },
   {
    "duration": 132,
    "start_time": "2023-12-24T16:29:49.123Z"
   },
   {
    "duration": 8,
    "start_time": "2023-12-24T16:29:49.257Z"
   },
   {
    "duration": 165,
    "start_time": "2023-12-24T16:29:49.267Z"
   },
   {
    "duration": 2,
    "start_time": "2023-12-24T16:29:49.434Z"
   },
   {
    "duration": 106,
    "start_time": "2023-12-24T16:29:49.438Z"
   },
   {
    "duration": 176,
    "start_time": "2023-12-24T16:29:49.546Z"
   },
   {
    "duration": 13,
    "start_time": "2023-12-24T16:29:49.724Z"
   },
   {
    "duration": 110,
    "start_time": "2023-12-24T16:29:49.738Z"
   },
   {
    "duration": 239,
    "start_time": "2023-12-24T16:29:49.850Z"
   },
   {
    "duration": 145,
    "start_time": "2023-12-24T16:29:50.091Z"
   },
   {
    "duration": 5,
    "start_time": "2023-12-24T16:29:50.237Z"
   },
   {
    "duration": 40,
    "start_time": "2023-12-24T16:29:50.244Z"
   },
   {
    "duration": 7,
    "start_time": "2023-12-24T16:29:50.286Z"
   },
   {
    "duration": 6,
    "start_time": "2023-12-24T16:29:50.295Z"
   },
   {
    "duration": 30,
    "start_time": "2023-12-24T16:29:50.302Z"
   },
   {
    "duration": 21,
    "start_time": "2023-12-24T16:29:50.333Z"
   },
   {
    "duration": 22,
    "start_time": "2023-12-24T16:29:50.356Z"
   },
   {
    "duration": 22,
    "start_time": "2023-12-24T16:29:50.379Z"
   },
   {
    "duration": 11,
    "start_time": "2023-12-24T16:29:50.402Z"
   },
   {
    "duration": 28,
    "start_time": "2023-12-24T16:29:50.414Z"
   },
   {
    "duration": 41,
    "start_time": "2023-12-24T16:29:50.443Z"
   },
   {
    "duration": 161,
    "start_time": "2023-12-24T16:29:50.485Z"
   },
   {
    "duration": 154,
    "start_time": "2023-12-24T16:29:50.647Z"
   },
   {
    "duration": 145,
    "start_time": "2023-12-24T16:29:50.802Z"
   },
   {
    "duration": 19,
    "start_time": "2023-12-24T16:29:50.949Z"
   },
   {
    "duration": 28,
    "start_time": "2023-12-24T16:29:50.969Z"
   },
   {
    "duration": 170,
    "start_time": "2023-12-24T16:29:50.998Z"
   },
   {
    "duration": 149,
    "start_time": "2023-12-24T16:29:51.169Z"
   },
   {
    "duration": 158,
    "start_time": "2023-12-24T16:29:51.319Z"
   },
   {
    "duration": 4,
    "start_time": "2023-12-24T16:29:51.479Z"
   },
   {
    "duration": 6,
    "start_time": "2023-12-24T16:29:51.484Z"
   },
   {
    "duration": 506,
    "start_time": "2023-12-24T16:29:51.491Z"
   },
   {
    "duration": 238,
    "start_time": "2023-12-24T16:29:51.999Z"
   },
   {
    "duration": 443,
    "start_time": "2023-12-24T16:29:52.238Z"
   },
   {
    "duration": 410,
    "start_time": "2023-12-24T16:29:52.683Z"
   },
   {
    "duration": 243,
    "start_time": "2023-12-24T16:29:53.095Z"
   },
   {
    "duration": 60,
    "start_time": "2023-12-24T16:29:53.340Z"
   },
   {
    "duration": 14,
    "start_time": "2023-12-24T16:29:53.401Z"
   },
   {
    "duration": 5,
    "start_time": "2023-12-24T16:29:53.416Z"
   },
   {
    "duration": 815,
    "start_time": "2023-12-24T16:29:53.422Z"
   },
   {
    "duration": 5,
    "start_time": "2023-12-24T16:29:54.239Z"
   },
   {
    "duration": 12,
    "start_time": "2023-12-24T16:29:54.245Z"
   },
   {
    "duration": 4,
    "start_time": "2023-12-24T16:29:54.265Z"
   },
   {
    "duration": 233,
    "start_time": "2023-12-24T16:29:54.271Z"
   },
   {
    "duration": 301,
    "start_time": "2023-12-24T16:29:54.505Z"
   },
   {
    "duration": 5,
    "start_time": "2023-12-24T16:29:54.807Z"
   },
   {
    "duration": 319,
    "start_time": "2023-12-24T16:29:54.813Z"
   },
   {
    "duration": 1665,
    "start_time": "2023-12-24T17:06:17.006Z"
   },
   {
    "duration": 790,
    "start_time": "2023-12-24T17:06:37.511Z"
   },
   {
    "duration": 810,
    "start_time": "2023-12-24T17:07:01.380Z"
   },
   {
    "duration": 1291,
    "start_time": "2023-12-25T08:40:51.453Z"
   },
   {
    "duration": 68,
    "start_time": "2023-12-25T08:40:52.746Z"
   },
   {
    "duration": 13,
    "start_time": "2023-12-25T08:40:52.816Z"
   },
   {
    "duration": 28,
    "start_time": "2023-12-25T08:40:52.831Z"
   },
   {
    "duration": 36,
    "start_time": "2023-12-25T08:40:52.861Z"
   },
   {
    "duration": 40,
    "start_time": "2023-12-25T08:40:52.899Z"
   },
   {
    "duration": 10,
    "start_time": "2023-12-25T08:40:52.941Z"
   },
   {
    "duration": 30,
    "start_time": "2023-12-25T08:40:52.953Z"
   },
   {
    "duration": 23,
    "start_time": "2023-12-25T08:40:52.985Z"
   },
   {
    "duration": 28,
    "start_time": "2023-12-25T08:40:53.010Z"
   },
   {
    "duration": 23,
    "start_time": "2023-12-25T08:40:53.040Z"
   },
   {
    "duration": 41,
    "start_time": "2023-12-25T08:40:53.065Z"
   },
   {
    "duration": 32,
    "start_time": "2023-12-25T08:40:53.107Z"
   },
   {
    "duration": 28,
    "start_time": "2023-12-25T08:40:53.142Z"
   },
   {
    "duration": 20,
    "start_time": "2023-12-25T08:40:53.172Z"
   },
   {
    "duration": 13,
    "start_time": "2023-12-25T08:40:53.194Z"
   },
   {
    "duration": 24,
    "start_time": "2023-12-25T08:40:53.208Z"
   },
   {
    "duration": 29,
    "start_time": "2023-12-25T08:40:53.233Z"
   },
   {
    "duration": 31,
    "start_time": "2023-12-25T08:40:53.263Z"
   },
   {
    "duration": 19,
    "start_time": "2023-12-25T08:40:53.295Z"
   },
   {
    "duration": 14,
    "start_time": "2023-12-25T08:40:53.315Z"
   },
   {
    "duration": 24,
    "start_time": "2023-12-25T08:40:53.330Z"
   },
   {
    "duration": 47,
    "start_time": "2023-12-25T08:40:53.355Z"
   },
   {
    "duration": 35,
    "start_time": "2023-12-25T08:40:53.404Z"
   },
   {
    "duration": 15,
    "start_time": "2023-12-25T08:40:53.441Z"
   },
   {
    "duration": 43,
    "start_time": "2023-12-25T08:40:53.458Z"
   },
   {
    "duration": 37,
    "start_time": "2023-12-25T08:40:53.502Z"
   },
   {
    "duration": 27,
    "start_time": "2023-12-25T08:40:53.541Z"
   },
   {
    "duration": 58,
    "start_time": "2023-12-25T08:40:53.569Z"
   },
   {
    "duration": 183,
    "start_time": "2023-12-25T08:40:53.629Z"
   },
   {
    "duration": 6,
    "start_time": "2023-12-25T08:40:53.813Z"
   },
   {
    "duration": 117,
    "start_time": "2023-12-25T08:40:53.820Z"
   },
   {
    "duration": 125,
    "start_time": "2023-12-25T08:40:53.939Z"
   },
   {
    "duration": 4,
    "start_time": "2023-12-25T08:40:54.066Z"
   },
   {
    "duration": 286,
    "start_time": "2023-12-25T08:40:54.071Z"
   },
   {
    "duration": 4,
    "start_time": "2023-12-25T08:40:54.358Z"
   },
   {
    "duration": 139,
    "start_time": "2023-12-25T08:40:54.363Z"
   },
   {
    "duration": 203,
    "start_time": "2023-12-25T08:40:54.503Z"
   },
   {
    "duration": 16,
    "start_time": "2023-12-25T08:40:54.707Z"
   },
   {
    "duration": 128,
    "start_time": "2023-12-25T08:40:54.725Z"
   },
   {
    "duration": 275,
    "start_time": "2023-12-25T08:40:54.857Z"
   },
   {
    "duration": 190,
    "start_time": "2023-12-25T08:40:55.134Z"
   },
   {
    "duration": 18,
    "start_time": "2023-12-25T08:40:55.326Z"
   },
   {
    "duration": 40,
    "start_time": "2023-12-25T08:40:55.346Z"
   },
   {
    "duration": 14,
    "start_time": "2023-12-25T08:40:55.387Z"
   },
   {
    "duration": 49,
    "start_time": "2023-12-25T08:40:55.403Z"
   },
   {
    "duration": 44,
    "start_time": "2023-12-25T08:40:55.454Z"
   },
   {
    "duration": 62,
    "start_time": "2023-12-25T08:40:55.500Z"
   },
   {
    "duration": 50,
    "start_time": "2023-12-25T08:40:55.563Z"
   },
   {
    "duration": 39,
    "start_time": "2023-12-25T08:40:55.614Z"
   },
   {
    "duration": 45,
    "start_time": "2023-12-25T08:40:55.655Z"
   },
   {
    "duration": 52,
    "start_time": "2023-12-25T08:40:55.702Z"
   },
   {
    "duration": 65,
    "start_time": "2023-12-25T08:40:55.755Z"
   },
   {
    "duration": 177,
    "start_time": "2023-12-25T08:40:55.821Z"
   },
   {
    "duration": 176,
    "start_time": "2023-12-25T08:40:55.999Z"
   },
   {
    "duration": 171,
    "start_time": "2023-12-25T08:40:56.177Z"
   },
   {
    "duration": 15,
    "start_time": "2023-12-25T08:40:56.349Z"
   },
   {
    "duration": 45,
    "start_time": "2023-12-25T08:40:56.366Z"
   },
   {
    "duration": 176,
    "start_time": "2023-12-25T08:40:56.412Z"
   },
   {
    "duration": 155,
    "start_time": "2023-12-25T08:40:56.589Z"
   },
   {
    "duration": 182,
    "start_time": "2023-12-25T08:40:56.746Z"
   },
   {
    "duration": 5,
    "start_time": "2023-12-25T08:40:56.932Z"
   },
   {
    "duration": 33,
    "start_time": "2023-12-25T08:40:56.941Z"
   },
   {
    "duration": 547,
    "start_time": "2023-12-25T08:40:56.976Z"
   },
   {
    "duration": 256,
    "start_time": "2023-12-25T08:40:57.525Z"
   },
   {
    "duration": 484,
    "start_time": "2023-12-25T08:40:57.783Z"
   },
   {
    "duration": 457,
    "start_time": "2023-12-25T08:40:58.269Z"
   },
   {
    "duration": 265,
    "start_time": "2023-12-25T08:40:58.727Z"
   },
   {
    "duration": 72,
    "start_time": "2023-12-25T08:40:58.993Z"
   },
   {
    "duration": 15,
    "start_time": "2023-12-25T08:40:59.066Z"
   },
   {
    "duration": 5,
    "start_time": "2023-12-25T08:40:59.083Z"
   },
   {
    "duration": 877,
    "start_time": "2023-12-25T08:40:59.090Z"
   },
   {
    "duration": 5,
    "start_time": "2023-12-25T08:40:59.969Z"
   },
   {
    "duration": 17,
    "start_time": "2023-12-25T08:40:59.975Z"
   },
   {
    "duration": 5,
    "start_time": "2023-12-25T08:40:59.993Z"
   },
   {
    "duration": 277,
    "start_time": "2023-12-25T08:40:59.999Z"
   },
   {
    "duration": 315,
    "start_time": "2023-12-25T08:41:00.278Z"
   },
   {
    "duration": 5,
    "start_time": "2023-12-25T08:41:00.594Z"
   },
   {
    "duration": 403,
    "start_time": "2023-12-25T08:41:00.601Z"
   },
   {
    "duration": 109,
    "start_time": "2023-12-25T08:47:39.740Z"
   },
   {
    "duration": 6,
    "start_time": "2023-12-25T08:47:46.204Z"
   },
   {
    "duration": 1339,
    "start_time": "2023-12-25T08:53:03.931Z"
   },
   {
    "duration": 68,
    "start_time": "2023-12-25T08:53:05.272Z"
   },
   {
    "duration": 12,
    "start_time": "2023-12-25T08:53:05.341Z"
   },
   {
    "duration": 25,
    "start_time": "2023-12-25T08:53:05.355Z"
   },
   {
    "duration": 32,
    "start_time": "2023-12-25T08:53:05.382Z"
   },
   {
    "duration": 24,
    "start_time": "2023-12-25T08:53:05.415Z"
   },
   {
    "duration": 18,
    "start_time": "2023-12-25T08:53:05.441Z"
   },
   {
    "duration": 22,
    "start_time": "2023-12-25T08:53:05.461Z"
   },
   {
    "duration": 29,
    "start_time": "2023-12-25T08:53:05.484Z"
   },
   {
    "duration": 31,
    "start_time": "2023-12-25T08:53:05.514Z"
   },
   {
    "duration": 23,
    "start_time": "2023-12-25T08:53:05.547Z"
   },
   {
    "duration": 30,
    "start_time": "2023-12-25T08:53:05.572Z"
   },
   {
    "duration": 20,
    "start_time": "2023-12-25T08:53:05.603Z"
   },
   {
    "duration": 13,
    "start_time": "2023-12-25T08:53:05.626Z"
   },
   {
    "duration": 34,
    "start_time": "2023-12-25T08:53:05.640Z"
   },
   {
    "duration": 38,
    "start_time": "2023-12-25T08:53:05.676Z"
   },
   {
    "duration": 28,
    "start_time": "2023-12-25T08:53:05.716Z"
   },
   {
    "duration": 38,
    "start_time": "2023-12-25T08:53:05.746Z"
   },
   {
    "duration": 22,
    "start_time": "2023-12-25T08:53:05.786Z"
   },
   {
    "duration": 37,
    "start_time": "2023-12-25T08:53:05.809Z"
   },
   {
    "duration": 8,
    "start_time": "2023-12-25T08:53:05.848Z"
   },
   {
    "duration": 5,
    "start_time": "2023-12-25T08:53:05.858Z"
   },
   {
    "duration": 15,
    "start_time": "2023-12-25T08:53:05.864Z"
   },
   {
    "duration": 23,
    "start_time": "2023-12-25T08:53:05.881Z"
   },
   {
    "duration": 47,
    "start_time": "2023-12-25T08:53:05.906Z"
   },
   {
    "duration": 6,
    "start_time": "2023-12-25T08:53:05.954Z"
   },
   {
    "duration": 20,
    "start_time": "2023-12-25T08:53:05.962Z"
   },
   {
    "duration": 3,
    "start_time": "2023-12-25T08:53:05.984Z"
   },
   {
    "duration": 3,
    "start_time": "2023-12-25T08:53:05.989Z"
   },
   {
    "duration": 176,
    "start_time": "2023-12-25T08:53:05.994Z"
   },
   {
    "duration": 6,
    "start_time": "2023-12-25T08:53:06.172Z"
   },
   {
    "duration": 117,
    "start_time": "2023-12-25T08:53:06.180Z"
   },
   {
    "duration": 157,
    "start_time": "2023-12-25T08:53:06.299Z"
   },
   {
    "duration": 3,
    "start_time": "2023-12-25T08:53:06.458Z"
   },
   {
    "duration": 168,
    "start_time": "2023-12-25T08:53:06.463Z"
   },
   {
    "duration": 10,
    "start_time": "2023-12-25T08:53:06.633Z"
   },
   {
    "duration": 101,
    "start_time": "2023-12-25T08:53:06.644Z"
   },
   {
    "duration": 182,
    "start_time": "2023-12-25T08:53:06.746Z"
   },
   {
    "duration": 17,
    "start_time": "2023-12-25T08:53:06.930Z"
   },
   {
    "duration": 114,
    "start_time": "2023-12-25T08:53:06.949Z"
   },
   {
    "duration": 253,
    "start_time": "2023-12-25T08:53:07.067Z"
   },
   {
    "duration": 166,
    "start_time": "2023-12-25T08:53:07.321Z"
   },
   {
    "duration": 5,
    "start_time": "2023-12-25T08:53:07.489Z"
   },
   {
    "duration": 46,
    "start_time": "2023-12-25T08:53:07.497Z"
   },
   {
    "duration": 9,
    "start_time": "2023-12-25T08:53:07.546Z"
   },
   {
    "duration": 7,
    "start_time": "2023-12-25T08:53:07.557Z"
   },
   {
    "duration": 24,
    "start_time": "2023-12-25T08:53:07.566Z"
   },
   {
    "duration": 52,
    "start_time": "2023-12-25T08:53:07.592Z"
   },
   {
    "duration": 19,
    "start_time": "2023-12-25T08:53:07.646Z"
   },
   {
    "duration": 5,
    "start_time": "2023-12-25T08:53:07.667Z"
   },
   {
    "duration": 6,
    "start_time": "2023-12-25T08:53:07.673Z"
   },
   {
    "duration": 26,
    "start_time": "2023-12-25T08:53:07.680Z"
   },
   {
    "duration": 52,
    "start_time": "2023-12-25T08:53:07.708Z"
   },
   {
    "duration": 197,
    "start_time": "2023-12-25T08:53:07.762Z"
   },
   {
    "duration": 171,
    "start_time": "2023-12-25T08:53:07.961Z"
   },
   {
    "duration": 156,
    "start_time": "2023-12-25T08:53:08.143Z"
   },
   {
    "duration": 16,
    "start_time": "2023-12-25T08:53:08.301Z"
   },
   {
    "duration": 45,
    "start_time": "2023-12-25T08:53:08.318Z"
   },
   {
    "duration": 177,
    "start_time": "2023-12-25T08:53:08.365Z"
   },
   {
    "duration": 174,
    "start_time": "2023-12-25T08:53:08.544Z"
   },
   {
    "duration": 220,
    "start_time": "2023-12-25T08:53:08.719Z"
   },
   {
    "duration": 4,
    "start_time": "2023-12-25T08:53:08.942Z"
   },
   {
    "duration": 23,
    "start_time": "2023-12-25T08:53:08.948Z"
   },
   {
    "duration": 526,
    "start_time": "2023-12-25T08:53:08.973Z"
   },
   {
    "duration": 292,
    "start_time": "2023-12-25T08:53:09.500Z"
   },
   {
    "duration": 495,
    "start_time": "2023-12-25T08:53:09.794Z"
   },
   {
    "duration": 447,
    "start_time": "2023-12-25T08:53:10.290Z"
   },
   {
    "duration": 280,
    "start_time": "2023-12-25T08:53:10.742Z"
   },
   {
    "duration": 72,
    "start_time": "2023-12-25T08:53:11.024Z"
   },
   {
    "duration": 19,
    "start_time": "2023-12-25T08:53:11.098Z"
   },
   {
    "duration": 24,
    "start_time": "2023-12-25T08:53:11.119Z"
   },
   {
    "duration": 852,
    "start_time": "2023-12-25T08:53:11.145Z"
   },
   {
    "duration": 5,
    "start_time": "2023-12-25T08:53:11.999Z"
   },
   {
    "duration": 11,
    "start_time": "2023-12-25T08:53:12.005Z"
   },
   {
    "duration": 5,
    "start_time": "2023-12-25T08:53:12.017Z"
   },
   {
    "duration": 267,
    "start_time": "2023-12-25T08:53:12.023Z"
   },
   {
    "duration": 358,
    "start_time": "2023-12-25T08:53:12.292Z"
   },
   {
    "duration": 5,
    "start_time": "2023-12-25T08:53:12.652Z"
   },
   {
    "duration": 360,
    "start_time": "2023-12-25T08:53:12.658Z"
   },
   {
    "duration": 1361,
    "start_time": "2023-12-25T09:26:49.735Z"
   },
   {
    "duration": 196,
    "start_time": "2023-12-25T09:26:51.097Z"
   },
   {
    "duration": 12,
    "start_time": "2023-12-25T09:26:51.294Z"
   },
   {
    "duration": 29,
    "start_time": "2023-12-25T09:26:51.307Z"
   },
   {
    "duration": 18,
    "start_time": "2023-12-25T09:26:51.338Z"
   },
   {
    "duration": 20,
    "start_time": "2023-12-25T09:26:51.357Z"
   },
   {
    "duration": 6,
    "start_time": "2023-12-25T09:26:51.378Z"
   },
   {
    "duration": 18,
    "start_time": "2023-12-25T09:26:51.385Z"
   },
   {
    "duration": 16,
    "start_time": "2023-12-25T09:26:51.404Z"
   },
   {
    "duration": 10,
    "start_time": "2023-12-25T09:26:51.422Z"
   },
   {
    "duration": 10,
    "start_time": "2023-12-25T09:26:51.433Z"
   },
   {
    "duration": 4,
    "start_time": "2023-12-25T09:26:51.444Z"
   },
   {
    "duration": 8,
    "start_time": "2023-12-25T09:26:51.449Z"
   },
   {
    "duration": 5,
    "start_time": "2023-12-25T09:26:51.458Z"
   },
   {
    "duration": 7,
    "start_time": "2023-12-25T09:26:51.464Z"
   },
   {
    "duration": 9,
    "start_time": "2023-12-25T09:26:51.472Z"
   },
   {
    "duration": 4,
    "start_time": "2023-12-25T09:26:51.483Z"
   },
   {
    "duration": 25,
    "start_time": "2023-12-25T09:26:51.488Z"
   },
   {
    "duration": 4,
    "start_time": "2023-12-25T09:26:51.515Z"
   },
   {
    "duration": 17,
    "start_time": "2023-12-25T09:26:51.521Z"
   },
   {
    "duration": 7,
    "start_time": "2023-12-25T09:26:51.540Z"
   },
   {
    "duration": 4,
    "start_time": "2023-12-25T09:26:51.549Z"
   },
   {
    "duration": 21,
    "start_time": "2023-12-25T09:26:51.554Z"
   },
   {
    "duration": 20,
    "start_time": "2023-12-25T09:26:51.576Z"
   },
   {
    "duration": 19,
    "start_time": "2023-12-25T09:26:51.611Z"
   },
   {
    "duration": 6,
    "start_time": "2023-12-25T09:26:51.631Z"
   },
   {
    "duration": 11,
    "start_time": "2023-12-25T09:26:51.638Z"
   },
   {
    "duration": 2,
    "start_time": "2023-12-25T09:26:51.655Z"
   },
   {
    "duration": 24,
    "start_time": "2023-12-25T09:26:51.659Z"
   },
   {
    "duration": 168,
    "start_time": "2023-12-25T09:26:51.684Z"
   },
   {
    "duration": 6,
    "start_time": "2023-12-25T09:26:51.853Z"
   },
   {
    "duration": 108,
    "start_time": "2023-12-25T09:26:51.860Z"
   },
   {
    "duration": 159,
    "start_time": "2023-12-25T09:26:51.970Z"
   },
   {
    "duration": 3,
    "start_time": "2023-12-25T09:26:52.131Z"
   },
   {
    "duration": 174,
    "start_time": "2023-12-25T09:26:52.135Z"
   },
   {
    "duration": 4,
    "start_time": "2023-12-25T09:26:52.311Z"
   },
   {
    "duration": 113,
    "start_time": "2023-12-25T09:26:52.316Z"
   },
   {
    "duration": 181,
    "start_time": "2023-12-25T09:26:52.430Z"
   },
   {
    "duration": 13,
    "start_time": "2023-12-25T09:26:52.612Z"
   },
   {
    "duration": 115,
    "start_time": "2023-12-25T09:26:52.626Z"
   },
   {
    "duration": 256,
    "start_time": "2023-12-25T09:26:52.742Z"
   },
   {
    "duration": 153,
    "start_time": "2023-12-25T09:26:53.000Z"
   },
   {
    "duration": 4,
    "start_time": "2023-12-25T09:26:53.154Z"
   },
   {
    "duration": 18,
    "start_time": "2023-12-25T09:26:53.160Z"
   },
   {
    "duration": 46,
    "start_time": "2023-12-25T09:26:53.180Z"
   },
   {
    "duration": 18,
    "start_time": "2023-12-25T09:26:53.227Z"
   },
   {
    "duration": 5,
    "start_time": "2023-12-25T09:26:53.247Z"
   },
   {
    "duration": 4,
    "start_time": "2023-12-25T09:26:53.254Z"
   },
   {
    "duration": 16,
    "start_time": "2023-12-25T09:26:53.260Z"
   },
   {
    "duration": 59,
    "start_time": "2023-12-25T09:26:53.278Z"
   },
   {
    "duration": 165,
    "start_time": "2023-12-25T09:26:53.339Z"
   },
   {
    "duration": 170,
    "start_time": "2023-12-25T09:26:53.506Z"
   },
   {
    "duration": 185,
    "start_time": "2023-12-25T09:26:53.677Z"
   },
   {
    "duration": 14,
    "start_time": "2023-12-25T09:26:53.864Z"
   },
   {
    "duration": 40,
    "start_time": "2023-12-25T09:26:53.880Z"
   },
   {
    "duration": 163,
    "start_time": "2023-12-25T09:26:53.922Z"
   },
   {
    "duration": 152,
    "start_time": "2023-12-25T09:26:54.086Z"
   },
   {
    "duration": 172,
    "start_time": "2023-12-25T09:26:54.240Z"
   },
   {
    "duration": 5,
    "start_time": "2023-12-25T09:26:54.414Z"
   },
   {
    "duration": 8,
    "start_time": "2023-12-25T09:26:54.421Z"
   },
   {
    "duration": 523,
    "start_time": "2023-12-25T09:26:54.431Z"
   },
   {
    "duration": 255,
    "start_time": "2023-12-25T09:26:54.956Z"
   },
   {
    "duration": 449,
    "start_time": "2023-12-25T09:26:55.213Z"
   },
   {
    "duration": 428,
    "start_time": "2023-12-25T09:26:55.663Z"
   },
   {
    "duration": 250,
    "start_time": "2023-12-25T09:26:56.093Z"
   },
   {
    "duration": 70,
    "start_time": "2023-12-25T09:26:56.345Z"
   },
   {
    "duration": 15,
    "start_time": "2023-12-25T09:26:56.416Z"
   },
   {
    "duration": 5,
    "start_time": "2023-12-25T09:26:56.432Z"
   },
   {
    "duration": 789,
    "start_time": "2023-12-25T09:26:56.438Z"
   },
   {
    "duration": 5,
    "start_time": "2023-12-25T09:26:57.228Z"
   },
   {
    "duration": 28,
    "start_time": "2023-12-25T09:26:57.234Z"
   },
   {
    "duration": 15,
    "start_time": "2023-12-25T09:26:57.264Z"
   },
   {
    "duration": 301,
    "start_time": "2023-12-25T09:26:57.281Z"
   },
   {
    "duration": 325,
    "start_time": "2023-12-25T09:26:57.583Z"
   },
   {
    "duration": 5,
    "start_time": "2023-12-25T09:26:57.909Z"
   },
   {
    "duration": 371,
    "start_time": "2023-12-25T09:26:57.916Z"
   },
   {
    "duration": 1346,
    "start_time": "2023-12-25T11:50:48.754Z"
   },
   {
    "duration": 68,
    "start_time": "2023-12-25T11:50:50.102Z"
   },
   {
    "duration": 12,
    "start_time": "2023-12-25T11:50:50.172Z"
   },
   {
    "duration": 9,
    "start_time": "2023-12-25T11:50:50.186Z"
   },
   {
    "duration": 20,
    "start_time": "2023-12-25T11:50:50.197Z"
   },
   {
    "duration": 25,
    "start_time": "2023-12-25T11:50:50.219Z"
   },
   {
    "duration": 7,
    "start_time": "2023-12-25T11:50:50.245Z"
   },
   {
    "duration": 14,
    "start_time": "2023-12-25T11:50:50.253Z"
   },
   {
    "duration": 19,
    "start_time": "2023-12-25T11:50:50.269Z"
   },
   {
    "duration": 6,
    "start_time": "2023-12-25T11:50:50.291Z"
   },
   {
    "duration": 13,
    "start_time": "2023-12-25T11:50:50.299Z"
   },
   {
    "duration": 5,
    "start_time": "2023-12-25T11:50:50.314Z"
   },
   {
    "duration": 8,
    "start_time": "2023-12-25T11:50:50.321Z"
   },
   {
    "duration": 7,
    "start_time": "2023-12-25T11:50:50.330Z"
   },
   {
    "duration": 17,
    "start_time": "2023-12-25T11:50:50.339Z"
   },
   {
    "duration": 12,
    "start_time": "2023-12-25T11:50:50.358Z"
   },
   {
    "duration": 32,
    "start_time": "2023-12-25T11:50:50.371Z"
   },
   {
    "duration": 11,
    "start_time": "2023-12-25T11:50:50.404Z"
   },
   {
    "duration": 23,
    "start_time": "2023-12-25T11:50:50.417Z"
   },
   {
    "duration": 15,
    "start_time": "2023-12-25T11:50:50.442Z"
   },
   {
    "duration": 9,
    "start_time": "2023-12-25T11:50:50.458Z"
   },
   {
    "duration": 12,
    "start_time": "2023-12-25T11:50:50.468Z"
   },
   {
    "duration": 29,
    "start_time": "2023-12-25T11:50:50.481Z"
   },
   {
    "duration": 21,
    "start_time": "2023-12-25T11:50:50.511Z"
   },
   {
    "duration": 16,
    "start_time": "2023-12-25T11:50:50.534Z"
   },
   {
    "duration": 10,
    "start_time": "2023-12-25T11:50:50.551Z"
   },
   {
    "duration": 22,
    "start_time": "2023-12-25T11:50:50.562Z"
   },
   {
    "duration": 22,
    "start_time": "2023-12-25T11:50:50.588Z"
   },
   {
    "duration": 4,
    "start_time": "2023-12-25T11:50:50.612Z"
   },
   {
    "duration": 176,
    "start_time": "2023-12-25T11:50:50.617Z"
   },
   {
    "duration": 6,
    "start_time": "2023-12-25T11:50:50.794Z"
   },
   {
    "duration": 105,
    "start_time": "2023-12-25T11:50:50.801Z"
   },
   {
    "duration": 140,
    "start_time": "2023-12-25T11:50:50.907Z"
   },
   {
    "duration": 3,
    "start_time": "2023-12-25T11:50:51.048Z"
   },
   {
    "duration": 172,
    "start_time": "2023-12-25T11:50:51.052Z"
   },
   {
    "duration": 3,
    "start_time": "2023-12-25T11:50:51.225Z"
   },
   {
    "duration": 118,
    "start_time": "2023-12-25T11:50:51.229Z"
   },
   {
    "duration": 189,
    "start_time": "2023-12-25T11:50:51.348Z"
   },
   {
    "duration": 13,
    "start_time": "2023-12-25T11:50:51.539Z"
   },
   {
    "duration": 123,
    "start_time": "2023-12-25T11:50:51.554Z"
   },
   {
    "duration": 270,
    "start_time": "2023-12-25T11:50:51.679Z"
   },
   {
    "duration": 183,
    "start_time": "2023-12-25T11:50:51.951Z"
   },
   {
    "duration": 6,
    "start_time": "2023-12-25T11:50:52.136Z"
   },
   {
    "duration": 26,
    "start_time": "2023-12-25T11:50:52.144Z"
   },
   {
    "duration": 36,
    "start_time": "2023-12-25T11:50:52.172Z"
   },
   {
    "duration": 14,
    "start_time": "2023-12-25T11:50:52.210Z"
   },
   {
    "duration": 13,
    "start_time": "2023-12-25T11:50:52.226Z"
   },
   {
    "duration": 7,
    "start_time": "2023-12-25T11:50:52.241Z"
   },
   {
    "duration": 27,
    "start_time": "2023-12-25T11:50:52.249Z"
   },
   {
    "duration": 32,
    "start_time": "2023-12-25T11:50:52.287Z"
   },
   {
    "duration": 183,
    "start_time": "2023-12-25T11:50:52.321Z"
   },
   {
    "duration": 179,
    "start_time": "2023-12-25T11:50:52.506Z"
   },
   {
    "duration": 194,
    "start_time": "2023-12-25T11:50:52.688Z"
   },
   {
    "duration": 15,
    "start_time": "2023-12-25T11:50:52.888Z"
   },
   {
    "duration": 30,
    "start_time": "2023-12-25T11:50:52.905Z"
   },
   {
    "duration": 186,
    "start_time": "2023-12-25T11:50:52.937Z"
   },
   {
    "duration": 170,
    "start_time": "2023-12-25T11:50:53.124Z"
   },
   {
    "duration": 192,
    "start_time": "2023-12-25T11:50:53.296Z"
   },
   {
    "duration": 6,
    "start_time": "2023-12-25T11:50:53.489Z"
   },
   {
    "duration": 8,
    "start_time": "2023-12-25T11:50:53.496Z"
   },
   {
    "duration": 547,
    "start_time": "2023-12-25T11:50:53.505Z"
   },
   {
    "duration": 260,
    "start_time": "2023-12-25T11:50:54.053Z"
   },
   {
    "duration": 476,
    "start_time": "2023-12-25T11:50:54.315Z"
   },
   {
    "duration": 448,
    "start_time": "2023-12-25T11:50:54.793Z"
   },
   {
    "duration": 268,
    "start_time": "2023-12-25T11:50:55.242Z"
   },
   {
    "duration": 62,
    "start_time": "2023-12-25T11:50:55.511Z"
   },
   {
    "duration": 15,
    "start_time": "2023-12-25T11:50:55.588Z"
   },
   {
    "duration": 5,
    "start_time": "2023-12-25T11:50:55.605Z"
   },
   {
    "duration": 869,
    "start_time": "2023-12-25T11:50:55.612Z"
   },
   {
    "duration": 6,
    "start_time": "2023-12-25T11:50:56.483Z"
   },
   {
    "duration": 32,
    "start_time": "2023-12-25T11:50:56.491Z"
   },
   {
    "duration": 14,
    "start_time": "2023-12-25T11:50:56.525Z"
   },
   {
    "duration": 270,
    "start_time": "2023-12-25T11:50:56.541Z"
   },
   {
    "duration": 318,
    "start_time": "2023-12-25T11:50:56.812Z"
   },
   {
    "duration": 5,
    "start_time": "2023-12-25T11:50:57.132Z"
   },
   {
    "duration": 326,
    "start_time": "2023-12-25T11:50:57.139Z"
   },
   {
    "duration": 1340,
    "start_time": "2023-12-25T11:54:30.465Z"
   },
   {
    "duration": 67,
    "start_time": "2023-12-25T11:54:31.807Z"
   },
   {
    "duration": 12,
    "start_time": "2023-12-25T11:54:31.876Z"
   },
   {
    "duration": 10,
    "start_time": "2023-12-25T11:54:31.889Z"
   },
   {
    "duration": 26,
    "start_time": "2023-12-25T11:54:31.901Z"
   },
   {
    "duration": 48,
    "start_time": "2023-12-25T11:54:31.928Z"
   },
   {
    "duration": 21,
    "start_time": "2023-12-25T11:54:31.977Z"
   },
   {
    "duration": 24,
    "start_time": "2023-12-25T11:54:32.000Z"
   },
   {
    "duration": 24,
    "start_time": "2023-12-25T11:54:32.026Z"
   },
   {
    "duration": 14,
    "start_time": "2023-12-25T11:54:32.052Z"
   },
   {
    "duration": 16,
    "start_time": "2023-12-25T11:54:32.068Z"
   },
   {
    "duration": 7,
    "start_time": "2023-12-25T11:54:32.085Z"
   },
   {
    "duration": 17,
    "start_time": "2023-12-25T11:54:32.094Z"
   },
   {
    "duration": 5,
    "start_time": "2023-12-25T11:54:32.116Z"
   },
   {
    "duration": 31,
    "start_time": "2023-12-25T11:54:32.122Z"
   },
   {
    "duration": 25,
    "start_time": "2023-12-25T11:54:32.155Z"
   },
   {
    "duration": 16,
    "start_time": "2023-12-25T11:54:32.181Z"
   },
   {
    "duration": 40,
    "start_time": "2023-12-25T11:54:32.199Z"
   },
   {
    "duration": 4,
    "start_time": "2023-12-25T11:54:32.241Z"
   },
   {
    "duration": 12,
    "start_time": "2023-12-25T11:54:32.247Z"
   },
   {
    "duration": 37,
    "start_time": "2023-12-25T11:54:32.261Z"
   },
   {
    "duration": 16,
    "start_time": "2023-12-25T11:54:32.299Z"
   },
   {
    "duration": 61,
    "start_time": "2023-12-25T11:54:32.316Z"
   },
   {
    "duration": 21,
    "start_time": "2023-12-25T11:54:32.379Z"
   },
   {
    "duration": 17,
    "start_time": "2023-12-25T11:54:32.401Z"
   },
   {
    "duration": 7,
    "start_time": "2023-12-25T11:54:32.419Z"
   },
   {
    "duration": 11,
    "start_time": "2023-12-25T11:54:32.427Z"
   },
   {
    "duration": 8,
    "start_time": "2023-12-25T11:54:32.440Z"
   },
   {
    "duration": 15,
    "start_time": "2023-12-25T11:54:32.450Z"
   },
   {
    "duration": 180,
    "start_time": "2023-12-25T11:54:32.466Z"
   },
   {
    "duration": 6,
    "start_time": "2023-12-25T11:54:32.648Z"
   },
   {
    "duration": 119,
    "start_time": "2023-12-25T11:54:32.656Z"
   },
   {
    "duration": 150,
    "start_time": "2023-12-25T11:54:32.777Z"
   },
   {
    "duration": 3,
    "start_time": "2023-12-25T11:54:32.929Z"
   },
   {
    "duration": 204,
    "start_time": "2023-12-25T11:54:32.934Z"
   },
   {
    "duration": 4,
    "start_time": "2023-12-25T11:54:33.140Z"
   },
   {
    "duration": 125,
    "start_time": "2023-12-25T11:54:33.146Z"
   },
   {
    "duration": 206,
    "start_time": "2023-12-25T11:54:33.273Z"
   },
   {
    "duration": 18,
    "start_time": "2023-12-25T11:54:33.481Z"
   },
   {
    "duration": 129,
    "start_time": "2023-12-25T11:54:33.501Z"
   },
   {
    "duration": 288,
    "start_time": "2023-12-25T11:54:33.636Z"
   },
   {
    "duration": 175,
    "start_time": "2023-12-25T11:54:33.926Z"
   },
   {
    "duration": 6,
    "start_time": "2023-12-25T11:54:34.103Z"
   },
   {
    "duration": 38,
    "start_time": "2023-12-25T11:54:34.111Z"
   },
   {
    "duration": 35,
    "start_time": "2023-12-25T11:54:34.150Z"
   },
   {
    "duration": 15,
    "start_time": "2023-12-25T11:54:34.186Z"
   },
   {
    "duration": 10,
    "start_time": "2023-12-25T11:54:34.202Z"
   },
   {
    "duration": 10,
    "start_time": "2023-12-25T11:54:34.213Z"
   },
   {
    "duration": 23,
    "start_time": "2023-12-25T11:54:34.224Z"
   },
   {
    "duration": 41,
    "start_time": "2023-12-25T11:54:34.248Z"
   },
   {
    "duration": 180,
    "start_time": "2023-12-25T11:54:34.290Z"
   },
   {
    "duration": 184,
    "start_time": "2023-12-25T11:54:34.471Z"
   },
   {
    "duration": 199,
    "start_time": "2023-12-25T11:54:34.656Z"
   },
   {
    "duration": 16,
    "start_time": "2023-12-25T11:54:34.856Z"
   },
   {
    "duration": 43,
    "start_time": "2023-12-25T11:54:34.873Z"
   },
   {
    "duration": 179,
    "start_time": "2023-12-25T11:54:34.918Z"
   },
   {
    "duration": 162,
    "start_time": "2023-12-25T11:54:35.099Z"
   },
   {
    "duration": 179,
    "start_time": "2023-12-25T11:54:35.262Z"
   },
   {
    "duration": 6,
    "start_time": "2023-12-25T11:54:35.442Z"
   },
   {
    "duration": 13,
    "start_time": "2023-12-25T11:54:35.450Z"
   },
   {
    "duration": 536,
    "start_time": "2023-12-25T11:54:35.464Z"
   },
   {
    "duration": 267,
    "start_time": "2023-12-25T11:54:36.001Z"
   },
   {
    "duration": 475,
    "start_time": "2023-12-25T11:54:36.269Z"
   },
   {
    "duration": 435,
    "start_time": "2023-12-25T11:54:36.746Z"
   },
   {
    "duration": 264,
    "start_time": "2023-12-25T11:54:37.183Z"
   },
   {
    "duration": 70,
    "start_time": "2023-12-25T11:54:37.449Z"
   },
   {
    "duration": 15,
    "start_time": "2023-12-25T11:54:37.521Z"
   },
   {
    "duration": 6,
    "start_time": "2023-12-25T11:54:37.538Z"
   },
   {
    "duration": 873,
    "start_time": "2023-12-25T11:54:37.546Z"
   },
   {
    "duration": 6,
    "start_time": "2023-12-25T11:54:38.421Z"
   },
   {
    "duration": 12,
    "start_time": "2023-12-25T11:54:38.429Z"
   },
   {
    "duration": 6,
    "start_time": "2023-12-25T11:54:38.442Z"
   },
   {
    "duration": 271,
    "start_time": "2023-12-25T11:54:38.449Z"
   },
   {
    "duration": 320,
    "start_time": "2023-12-25T11:54:38.722Z"
   },
   {
    "duration": 5,
    "start_time": "2023-12-25T11:54:39.044Z"
   },
   {
    "duration": 356,
    "start_time": "2023-12-25T11:54:39.050Z"
   },
   {
    "duration": 45,
    "start_time": "2023-12-25T12:01:10.892Z"
   },
   {
    "duration": 1348,
    "start_time": "2023-12-25T12:02:31.554Z"
   },
   {
    "duration": 196,
    "start_time": "2023-12-25T12:02:32.904Z"
   },
   {
    "duration": 12,
    "start_time": "2023-12-25T12:02:33.101Z"
   },
   {
    "duration": 10,
    "start_time": "2023-12-25T12:02:33.115Z"
   },
   {
    "duration": 8,
    "start_time": "2023-12-25T12:02:33.127Z"
   },
   {
    "duration": 10,
    "start_time": "2023-12-25T12:02:33.137Z"
   },
   {
    "duration": 17,
    "start_time": "2023-12-25T12:02:33.148Z"
   },
   {
    "duration": 8,
    "start_time": "2023-12-25T12:02:33.167Z"
   },
   {
    "duration": 9,
    "start_time": "2023-12-25T12:02:33.177Z"
   },
   {
    "duration": 10,
    "start_time": "2023-12-25T12:02:33.188Z"
   },
   {
    "duration": 23,
    "start_time": "2023-12-25T12:02:33.199Z"
   },
   {
    "duration": 10,
    "start_time": "2023-12-25T12:02:33.223Z"
   },
   {
    "duration": 25,
    "start_time": "2023-12-25T12:02:33.235Z"
   },
   {
    "duration": 4,
    "start_time": "2023-12-25T12:02:33.262Z"
   },
   {
    "duration": 6,
    "start_time": "2023-12-25T12:02:33.268Z"
   },
   {
    "duration": 4,
    "start_time": "2023-12-25T12:02:33.275Z"
   },
   {
    "duration": 9,
    "start_time": "2023-12-25T12:02:33.281Z"
   },
   {
    "duration": 8,
    "start_time": "2023-12-25T12:02:33.291Z"
   },
   {
    "duration": 9,
    "start_time": "2023-12-25T12:02:33.300Z"
   },
   {
    "duration": 11,
    "start_time": "2023-12-25T12:02:33.310Z"
   },
   {
    "duration": 7,
    "start_time": "2023-12-25T12:02:33.322Z"
   },
   {
    "duration": 4,
    "start_time": "2023-12-25T12:02:33.331Z"
   },
   {
    "duration": 15,
    "start_time": "2023-12-25T12:02:33.337Z"
   },
   {
    "duration": 21,
    "start_time": "2023-12-25T12:02:33.354Z"
   },
   {
    "duration": 40,
    "start_time": "2023-12-25T12:02:33.376Z"
   },
   {
    "duration": 5,
    "start_time": "2023-12-25T12:02:33.418Z"
   },
   {
    "duration": 11,
    "start_time": "2023-12-25T12:02:33.425Z"
   },
   {
    "duration": 3,
    "start_time": "2023-12-25T12:02:33.440Z"
   },
   {
    "duration": 14,
    "start_time": "2023-12-25T12:02:33.445Z"
   },
   {
    "duration": 172,
    "start_time": "2023-12-25T12:02:33.461Z"
   },
   {
    "duration": 5,
    "start_time": "2023-12-25T12:02:33.635Z"
   },
   {
    "duration": 112,
    "start_time": "2023-12-25T12:02:33.642Z"
   },
   {
    "duration": 146,
    "start_time": "2023-12-25T12:02:33.756Z"
   },
   {
    "duration": 3,
    "start_time": "2023-12-25T12:02:33.904Z"
   },
   {
    "duration": 175,
    "start_time": "2023-12-25T12:02:33.908Z"
   },
   {
    "duration": 3,
    "start_time": "2023-12-25T12:02:34.085Z"
   },
   {
    "duration": 112,
    "start_time": "2023-12-25T12:02:34.090Z"
   },
   {
    "duration": 190,
    "start_time": "2023-12-25T12:02:34.204Z"
   },
   {
    "duration": 19,
    "start_time": "2023-12-25T12:02:34.396Z"
   },
   {
    "duration": 104,
    "start_time": "2023-12-25T12:02:34.417Z"
   },
   {
    "duration": 276,
    "start_time": "2023-12-25T12:02:34.522Z"
   },
   {
    "duration": 161,
    "start_time": "2023-12-25T12:02:34.799Z"
   },
   {
    "duration": 4,
    "start_time": "2023-12-25T12:02:34.961Z"
   },
   {
    "duration": 37,
    "start_time": "2023-12-25T12:02:34.967Z"
   },
   {
    "duration": 20,
    "start_time": "2023-12-25T12:02:35.005Z"
   },
   {
    "duration": 11,
    "start_time": "2023-12-25T12:02:35.027Z"
   },
   {
    "duration": 5,
    "start_time": "2023-12-25T12:02:35.040Z"
   },
   {
    "duration": 15,
    "start_time": "2023-12-25T12:02:35.046Z"
   },
   {
    "duration": 15,
    "start_time": "2023-12-25T12:02:35.062Z"
   },
   {
    "duration": 41,
    "start_time": "2023-12-25T12:02:35.079Z"
   },
   {
    "duration": 165,
    "start_time": "2023-12-25T12:02:35.121Z"
   },
   {
    "duration": 164,
    "start_time": "2023-12-25T12:02:35.288Z"
   },
   {
    "duration": 172,
    "start_time": "2023-12-25T12:02:35.453Z"
   },
   {
    "duration": 14,
    "start_time": "2023-12-25T12:02:35.626Z"
   },
   {
    "duration": 29,
    "start_time": "2023-12-25T12:02:35.642Z"
   },
   {
    "duration": 195,
    "start_time": "2023-12-25T12:02:35.672Z"
   },
   {
    "duration": 160,
    "start_time": "2023-12-25T12:02:35.869Z"
   },
   {
    "duration": 179,
    "start_time": "2023-12-25T12:02:36.030Z"
   },
   {
    "duration": 5,
    "start_time": "2023-12-25T12:02:36.211Z"
   },
   {
    "duration": 7,
    "start_time": "2023-12-25T12:02:36.218Z"
   },
   {
    "duration": 514,
    "start_time": "2023-12-25T12:02:36.227Z"
   },
   {
    "duration": 267,
    "start_time": "2023-12-25T12:02:36.743Z"
   },
   {
    "duration": 462,
    "start_time": "2023-12-25T12:02:37.015Z"
   },
   {
    "duration": 425,
    "start_time": "2023-12-25T12:02:37.478Z"
   },
   {
    "duration": 269,
    "start_time": "2023-12-25T12:02:37.904Z"
   },
   {
    "duration": 68,
    "start_time": "2023-12-25T12:02:38.174Z"
   },
   {
    "duration": 15,
    "start_time": "2023-12-25T12:02:38.243Z"
   },
   {
    "duration": 5,
    "start_time": "2023-12-25T12:02:38.259Z"
   },
   {
    "duration": 802,
    "start_time": "2023-12-25T12:02:38.265Z"
   },
   {
    "duration": 6,
    "start_time": "2023-12-25T12:02:39.068Z"
   },
   {
    "duration": 9,
    "start_time": "2023-12-25T12:02:39.075Z"
   },
   {
    "duration": 5,
    "start_time": "2023-12-25T12:02:39.086Z"
   },
   {
    "duration": 305,
    "start_time": "2023-12-25T12:02:39.092Z"
   },
   {
    "duration": 306,
    "start_time": "2023-12-25T12:02:39.399Z"
   },
   {
    "duration": 9,
    "start_time": "2023-12-25T12:02:39.707Z"
   },
   {
    "duration": 354,
    "start_time": "2023-12-25T12:02:39.717Z"
   },
   {
    "duration": 15,
    "start_time": "2023-12-25T12:04:21.443Z"
   },
   {
    "duration": 11,
    "start_time": "2023-12-25T12:06:41.468Z"
   },
   {
    "duration": 11,
    "start_time": "2023-12-25T12:07:04.165Z"
   },
   {
    "duration": 1169,
    "start_time": "2023-12-25T12:07:19.026Z"
   },
   {
    "duration": 70,
    "start_time": "2023-12-25T12:07:20.196Z"
   },
   {
    "duration": 12,
    "start_time": "2023-12-25T12:07:20.267Z"
   },
   {
    "duration": 19,
    "start_time": "2023-12-25T12:07:20.281Z"
   },
   {
    "duration": 13,
    "start_time": "2023-12-25T12:07:20.302Z"
   },
   {
    "duration": 13,
    "start_time": "2023-12-25T12:07:20.316Z"
   },
   {
    "duration": 6,
    "start_time": "2023-12-25T12:07:20.331Z"
   },
   {
    "duration": 16,
    "start_time": "2023-12-25T12:07:20.339Z"
   },
   {
    "duration": 8,
    "start_time": "2023-12-25T12:07:20.357Z"
   },
   {
    "duration": 6,
    "start_time": "2023-12-25T12:07:20.367Z"
   },
   {
    "duration": 7,
    "start_time": "2023-12-25T12:07:20.374Z"
   },
   {
    "duration": 16,
    "start_time": "2023-12-25T12:07:20.382Z"
   },
   {
    "duration": 17,
    "start_time": "2023-12-25T12:07:20.399Z"
   },
   {
    "duration": 5,
    "start_time": "2023-12-25T12:07:20.417Z"
   },
   {
    "duration": 11,
    "start_time": "2023-12-25T12:07:20.423Z"
   },
   {
    "duration": 5,
    "start_time": "2023-12-25T12:07:20.436Z"
   },
   {
    "duration": 16,
    "start_time": "2023-12-25T12:07:20.442Z"
   },
   {
    "duration": 10,
    "start_time": "2023-12-25T12:07:20.459Z"
   },
   {
    "duration": 12,
    "start_time": "2023-12-25T12:07:20.470Z"
   },
   {
    "duration": 7,
    "start_time": "2023-12-25T12:07:20.484Z"
   },
   {
    "duration": 23,
    "start_time": "2023-12-25T12:07:20.493Z"
   },
   {
    "duration": 6,
    "start_time": "2023-12-25T12:07:20.518Z"
   },
   {
    "duration": 17,
    "start_time": "2023-12-25T12:07:20.526Z"
   },
   {
    "duration": 22,
    "start_time": "2023-12-25T12:07:20.544Z"
   },
   {
    "duration": 16,
    "start_time": "2023-12-25T12:07:20.568Z"
   },
   {
    "duration": 34,
    "start_time": "2023-12-25T12:07:20.586Z"
   },
   {
    "duration": 16,
    "start_time": "2023-12-25T12:07:20.622Z"
   },
   {
    "duration": 3,
    "start_time": "2023-12-25T12:07:20.642Z"
   },
   {
    "duration": 10,
    "start_time": "2023-12-25T12:07:20.646Z"
   },
   {
    "duration": 173,
    "start_time": "2023-12-25T12:07:20.657Z"
   },
   {
    "duration": 6,
    "start_time": "2023-12-25T12:07:20.832Z"
   },
   {
    "duration": 107,
    "start_time": "2023-12-25T12:07:20.840Z"
   },
   {
    "duration": 128,
    "start_time": "2023-12-25T12:07:20.949Z"
   },
   {
    "duration": 4,
    "start_time": "2023-12-25T12:07:21.079Z"
   },
   {
    "duration": 167,
    "start_time": "2023-12-25T12:07:21.085Z"
   },
   {
    "duration": 3,
    "start_time": "2023-12-25T12:07:21.254Z"
   },
   {
    "duration": 108,
    "start_time": "2023-12-25T12:07:21.259Z"
   },
   {
    "duration": 178,
    "start_time": "2023-12-25T12:07:21.368Z"
   },
   {
    "duration": 13,
    "start_time": "2023-12-25T12:07:21.547Z"
   },
   {
    "duration": 114,
    "start_time": "2023-12-25T12:07:21.561Z"
   },
   {
    "duration": 250,
    "start_time": "2023-12-25T12:07:21.676Z"
   },
   {
    "duration": 168,
    "start_time": "2023-12-25T12:07:21.927Z"
   },
   {
    "duration": 5,
    "start_time": "2023-12-25T12:07:22.097Z"
   },
   {
    "duration": 39,
    "start_time": "2023-12-25T12:07:22.103Z"
   },
   {
    "duration": 33,
    "start_time": "2023-12-25T12:07:22.143Z"
   },
   {
    "duration": 18,
    "start_time": "2023-12-25T12:07:22.178Z"
   },
   {
    "duration": 10,
    "start_time": "2023-12-25T12:07:22.198Z"
   },
   {
    "duration": 26,
    "start_time": "2023-12-25T12:07:22.210Z"
   },
   {
    "duration": 36,
    "start_time": "2023-12-25T12:07:22.238Z"
   },
   {
    "duration": 37,
    "start_time": "2023-12-25T12:07:22.276Z"
   },
   {
    "duration": 170,
    "start_time": "2023-12-25T12:07:22.314Z"
   },
   {
    "duration": 167,
    "start_time": "2023-12-25T12:07:22.486Z"
   },
   {
    "duration": 178,
    "start_time": "2023-12-25T12:07:22.654Z"
   },
   {
    "duration": 16,
    "start_time": "2023-12-25T12:07:22.834Z"
   },
   {
    "duration": 55,
    "start_time": "2023-12-25T12:07:22.852Z"
   },
   {
    "duration": 161,
    "start_time": "2023-12-25T12:07:22.909Z"
   },
   {
    "duration": 154,
    "start_time": "2023-12-25T12:07:23.071Z"
   },
   {
    "duration": 173,
    "start_time": "2023-12-25T12:07:23.227Z"
   },
   {
    "duration": 5,
    "start_time": "2023-12-25T12:07:23.401Z"
   },
   {
    "duration": 30,
    "start_time": "2023-12-25T12:07:23.415Z"
   },
   {
    "duration": 541,
    "start_time": "2023-12-25T12:07:23.447Z"
   },
   {
    "duration": 263,
    "start_time": "2023-12-25T12:07:23.989Z"
   },
   {
    "duration": 448,
    "start_time": "2023-12-25T12:07:24.254Z"
   },
   {
    "duration": 438,
    "start_time": "2023-12-25T12:07:24.703Z"
   },
   {
    "duration": 260,
    "start_time": "2023-12-25T12:07:25.143Z"
   },
   {
    "duration": 62,
    "start_time": "2023-12-25T12:07:25.405Z"
   },
   {
    "duration": 16,
    "start_time": "2023-12-25T12:07:25.469Z"
   },
   {
    "duration": 29,
    "start_time": "2023-12-25T12:07:25.486Z"
   },
   {
    "duration": 853,
    "start_time": "2023-12-25T12:07:25.516Z"
   },
   {
    "duration": 5,
    "start_time": "2023-12-25T12:07:26.371Z"
   },
   {
    "duration": 19,
    "start_time": "2023-12-25T12:07:26.377Z"
   },
   {
    "duration": 23,
    "start_time": "2023-12-25T12:07:26.398Z"
   },
   {
    "duration": 5,
    "start_time": "2023-12-25T12:07:26.423Z"
   },
   {
    "duration": 227,
    "start_time": "2023-12-25T12:07:26.429Z"
   },
   {
    "duration": 308,
    "start_time": "2023-12-25T12:07:26.657Z"
   },
   {
    "duration": 5,
    "start_time": "2023-12-25T12:07:26.966Z"
   },
   {
    "duration": 351,
    "start_time": "2023-12-25T12:07:26.972Z"
   },
   {
    "duration": 8,
    "start_time": "2023-12-25T12:10:48.205Z"
   },
   {
    "duration": 8,
    "start_time": "2023-12-25T12:11:55.117Z"
   },
   {
    "duration": 8,
    "start_time": "2023-12-25T12:12:04.357Z"
   },
   {
    "duration": 16,
    "start_time": "2023-12-25T12:12:39.845Z"
   },
   {
    "duration": 7,
    "start_time": "2023-12-25T12:12:53.582Z"
   },
   {
    "duration": 1258,
    "start_time": "2023-12-25T12:59:56.030Z"
   },
   {
    "duration": 69,
    "start_time": "2023-12-25T12:59:57.290Z"
   },
   {
    "duration": 13,
    "start_time": "2023-12-25T12:59:57.360Z"
   },
   {
    "duration": 10,
    "start_time": "2023-12-25T12:59:57.375Z"
   },
   {
    "duration": 21,
    "start_time": "2023-12-25T12:59:57.387Z"
   },
   {
    "duration": 12,
    "start_time": "2023-12-25T12:59:57.409Z"
   },
   {
    "duration": 7,
    "start_time": "2023-12-25T12:59:57.423Z"
   },
   {
    "duration": 19,
    "start_time": "2023-12-25T12:59:57.431Z"
   },
   {
    "duration": 27,
    "start_time": "2023-12-25T12:59:57.452Z"
   },
   {
    "duration": 13,
    "start_time": "2023-12-25T12:59:57.481Z"
   },
   {
    "duration": 32,
    "start_time": "2023-12-25T12:59:57.495Z"
   },
   {
    "duration": 24,
    "start_time": "2023-12-25T12:59:57.529Z"
   },
   {
    "duration": 10,
    "start_time": "2023-12-25T12:59:57.555Z"
   },
   {
    "duration": 17,
    "start_time": "2023-12-25T12:59:57.567Z"
   },
   {
    "duration": 12,
    "start_time": "2023-12-25T12:59:57.585Z"
   },
   {
    "duration": 9,
    "start_time": "2023-12-25T12:59:57.599Z"
   },
   {
    "duration": 11,
    "start_time": "2023-12-25T12:59:57.609Z"
   },
   {
    "duration": 15,
    "start_time": "2023-12-25T12:59:57.622Z"
   },
   {
    "duration": 18,
    "start_time": "2023-12-25T12:59:57.639Z"
   },
   {
    "duration": 22,
    "start_time": "2023-12-25T12:59:57.659Z"
   },
   {
    "duration": 46,
    "start_time": "2023-12-25T12:59:57.683Z"
   },
   {
    "duration": 110,
    "start_time": "2023-12-25T12:59:57.731Z"
   },
   {
    "duration": 111,
    "start_time": "2023-12-25T12:59:57.843Z"
   },
   {
    "duration": 24,
    "start_time": "2023-12-25T12:59:57.956Z"
   },
   {
    "duration": 17,
    "start_time": "2023-12-25T12:59:57.981Z"
   },
   {
    "duration": 50,
    "start_time": "2023-12-25T12:59:57.999Z"
   },
   {
    "duration": 34,
    "start_time": "2023-12-25T12:59:58.051Z"
   },
   {
    "duration": 23,
    "start_time": "2023-12-25T12:59:58.089Z"
   },
   {
    "duration": 29,
    "start_time": "2023-12-25T12:59:58.114Z"
   },
   {
    "duration": 184,
    "start_time": "2023-12-25T12:59:58.144Z"
   },
   {
    "duration": 6,
    "start_time": "2023-12-25T12:59:58.329Z"
   },
   {
    "duration": 106,
    "start_time": "2023-12-25T12:59:58.337Z"
   },
   {
    "duration": 145,
    "start_time": "2023-12-25T12:59:58.445Z"
   },
   {
    "duration": 4,
    "start_time": "2023-12-25T12:59:58.592Z"
   },
   {
    "duration": 192,
    "start_time": "2023-12-25T12:59:58.598Z"
   },
   {
    "duration": 3,
    "start_time": "2023-12-25T12:59:58.792Z"
   },
   {
    "duration": 198,
    "start_time": "2023-12-25T12:59:58.797Z"
   },
   {
    "duration": 203,
    "start_time": "2023-12-25T12:59:58.997Z"
   },
   {
    "duration": 14,
    "start_time": "2023-12-25T12:59:59.202Z"
   },
   {
    "duration": 197,
    "start_time": "2023-12-25T12:59:59.218Z"
   },
   {
    "duration": 260,
    "start_time": "2023-12-25T12:59:59.417Z"
   },
   {
    "duration": 176,
    "start_time": "2023-12-25T12:59:59.679Z"
   },
   {
    "duration": 5,
    "start_time": "2023-12-25T12:59:59.857Z"
   },
   {
    "duration": 34,
    "start_time": "2023-12-25T12:59:59.863Z"
   },
   {
    "duration": 28,
    "start_time": "2023-12-25T12:59:59.898Z"
   },
   {
    "duration": 13,
    "start_time": "2023-12-25T12:59:59.927Z"
   },
   {
    "duration": 22,
    "start_time": "2023-12-25T12:59:59.942Z"
   },
   {
    "duration": 24,
    "start_time": "2023-12-25T12:59:59.966Z"
   },
   {
    "duration": 64,
    "start_time": "2023-12-25T12:59:59.991Z"
   },
   {
    "duration": 237,
    "start_time": "2023-12-25T13:00:00.057Z"
   },
   {
    "duration": 269,
    "start_time": "2023-12-25T13:00:00.295Z"
   },
   {
    "duration": 254,
    "start_time": "2023-12-25T13:00:00.566Z"
   },
   {
    "duration": 1092,
    "start_time": "2023-12-25T13:00:00.822Z"
   },
   {
    "duration": 151,
    "start_time": "2023-12-25T13:00:01.915Z"
   },
   {
    "duration": 237,
    "start_time": "2023-12-25T13:00:02.068Z"
   },
   {
    "duration": 191,
    "start_time": "2023-12-25T13:00:02.307Z"
   },
   {
    "duration": 166,
    "start_time": "2023-12-25T13:00:02.500Z"
   },
   {
    "duration": 184,
    "start_time": "2023-12-25T13:00:02.668Z"
   },
   {
    "duration": 6,
    "start_time": "2023-12-25T13:00:02.854Z"
   },
   {
    "duration": 94,
    "start_time": "2023-12-25T13:00:02.862Z"
   },
   {
    "duration": 677,
    "start_time": "2023-12-25T13:00:02.958Z"
   },
   {
    "duration": 269,
    "start_time": "2023-12-25T13:00:03.637Z"
   },
   {
    "duration": 473,
    "start_time": "2023-12-25T13:00:03.907Z"
   },
   {
    "duration": 461,
    "start_time": "2023-12-25T13:00:04.387Z"
   },
   {
    "duration": 269,
    "start_time": "2023-12-25T13:00:04.850Z"
   },
   {
    "duration": 69,
    "start_time": "2023-12-25T13:00:05.121Z"
   },
   {
    "duration": 15,
    "start_time": "2023-12-25T13:00:05.191Z"
   },
   {
    "duration": 34,
    "start_time": "2023-12-25T13:00:05.208Z"
   },
   {
    "duration": 903,
    "start_time": "2023-12-25T13:00:05.243Z"
   },
   {
    "duration": 5,
    "start_time": "2023-12-25T13:00:06.148Z"
   },
   {
    "duration": 36,
    "start_time": "2023-12-25T13:00:06.154Z"
   },
   {
    "duration": 35,
    "start_time": "2023-12-25T13:00:06.192Z"
   },
   {
    "duration": 293,
    "start_time": "2023-12-25T13:00:06.228Z"
   },
   {
    "duration": 331,
    "start_time": "2023-12-25T13:00:06.523Z"
   },
   {
    "duration": 5,
    "start_time": "2023-12-25T13:00:06.856Z"
   },
   {
    "duration": 389,
    "start_time": "2023-12-25T13:00:06.862Z"
   }
  ],
  "kernelspec": {
   "display_name": "Python 3 (ipykernel)",
   "language": "python",
   "name": "python3"
  },
  "language_info": {
   "codemirror_mode": {
    "name": "ipython",
    "version": 3
   },
   "file_extension": ".py",
   "mimetype": "text/x-python",
   "name": "python",
   "nbconvert_exporter": "python",
   "pygments_lexer": "ipython3",
   "version": "3.12.0"
  },
  "toc": {
   "base_numbering": 1,
   "nav_menu": {},
   "number_sections": true,
   "sideBar": true,
   "skip_h1_title": true,
   "title_cell": "Table of Contents",
   "title_sidebar": "Contents",
   "toc_cell": false,
   "toc_position": {},
   "toc_section_display": true,
   "toc_window_display": false
  }
 },
 "nbformat": 4,
 "nbformat_minor": 5
}
