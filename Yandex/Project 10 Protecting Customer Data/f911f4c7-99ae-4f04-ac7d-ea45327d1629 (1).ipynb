{
 "cells": [
  {
   "cell_type": "markdown",
   "metadata": {
    "toc": true
   },
   "source": [
    "<h1>Содержание<span class=\"tocSkip\"></span></h1>\n",
    "<div class=\"toc\"><ul class=\"toc-item\"><li><span><a href=\"#Загрузка-данных\" data-toc-modified-id=\"Загрузка-данных-1\"><span class=\"toc-item-num\">1&nbsp;&nbsp;</span>Загрузка данных</a></span></li><li><span><a href=\"#Умножение-матриц\" data-toc-modified-id=\"Умножение-матриц-2\"><span class=\"toc-item-num\">2&nbsp;&nbsp;</span>Умножение матриц</a></span></li><li><span><a href=\"#Алгоритм-преобразования\" data-toc-modified-id=\"Алгоритм-преобразования-3\"><span class=\"toc-item-num\">3&nbsp;&nbsp;</span>Алгоритм преобразования</a></span></li><li><span><a href=\"#Проверка-алгоритма\" data-toc-modified-id=\"Проверка-алгоритма-4\"><span class=\"toc-item-num\">4&nbsp;&nbsp;</span>Проверка алгоритма</a></span></li><li><span><a href=\"#Итоговый-вывод\" data-toc-modified-id=\"Итоговый-вывод-5\"><span class=\"toc-item-num\">5&nbsp;&nbsp;</span>Итоговый вывод</a></span></li><li><span><a href=\"#Чек-лист-проверки\" data-toc-modified-id=\"Чек-лист-проверки-6\"><span class=\"toc-item-num\">6&nbsp;&nbsp;</span>Чек-лист проверки</a></span></li></ul></div>"
   ]
  },
  {
   "cell_type": "markdown",
   "metadata": {},
   "source": [
    "# Защита персональных данных клиентов"
   ]
  },
  {
   "cell_type": "markdown",
   "metadata": {},
   "source": [
    "**Описание проекта**\n",
    "\n",
    "Вам нужно защитить данные клиентов страховой компании «Хоть потоп». Разработайте такой метод преобразования данных, чтобы по ним было сложно восстановить персональную информацию. Обоснуйте корректность его работы.\n",
    "Нужно защитить данные, чтобы при преобразовании качество моделей машинного обучения не ухудшилось. Подбирать наилучшую модель не требуется.\n",
    "\n",
    "**Инструкция по выполнению проекта**\n",
    "\n",
    "- Загрузите и изучите данные.\n",
    "- Ответьте на вопрос и обоснуйте решение. \n",
    " Признаки умножают на обратимую матрицу. Изменится ли качество линейной регрессии? (Её можно обучить заново.)\n",
    "\n",
    "    a. Изменится. Приведите примеры матриц.\n",
    "\n",
    "    b. Не изменится. Укажите, как связаны параметры линейной регрессии в исходной задаче и в преобразованной.\n",
    "    \n",
    "- Предложите алгоритм преобразования данных для решения задачи. Обоснуйте, почему качество линейной регрессии не поменяется.\n",
    "- Запрограммируйте этот алгоритм, применив матричные операции. Проверьте, что качество линейной регрессии из sklearn не отличается до и после преобразования. Примените метрику R2.\n",
    "\n",
    "**Описание данных**\n",
    "\n",
    "- Набор данных находится в файле /datasets/insurance.csv. Скачать датасет.\n",
    "- Признаки: пол, возраст и зарплата застрахованного, количество членов его семьи.\n",
    "- Целевой признак: количество страховых выплат клиенту за последние 5 лет."
   ]
  },
  {
   "cell_type": "markdown",
   "metadata": {},
   "source": [
    "## Загрузка данных"
   ]
  },
  {
   "cell_type": "code",
   "execution_count": 1,
   "metadata": {},
   "outputs": [],
   "source": [
    "! pip install -q phik"
   ]
  },
  {
   "cell_type": "code",
   "execution_count": 2,
   "metadata": {},
   "outputs": [
    {
     "ename": "ModuleNotFoundError",
     "evalue": "No module named 'ydata_profiling'",
     "output_type": "error",
     "traceback": [
      "\u001b[0;31m---------------------------------------------------------------------------\u001b[0m",
      "\u001b[0;31mModuleNotFoundError\u001b[0m                       Traceback (most recent call last)",
      "\u001b[0;32m/tmp/ipykernel_48/2768346389.py\u001b[0m in \u001b[0;36m<module>\u001b[0;34m\u001b[0m\n\u001b[1;32m      5\u001b[0m \u001b[0;32mimport\u001b[0m \u001b[0mseaborn\u001b[0m \u001b[0;32mas\u001b[0m \u001b[0msns\u001b[0m\u001b[0;34m\u001b[0m\u001b[0;34m\u001b[0m\u001b[0m\n\u001b[1;32m      6\u001b[0m \u001b[0;32mimport\u001b[0m \u001b[0mwarnings\u001b[0m\u001b[0;34m\u001b[0m\u001b[0;34m\u001b[0m\u001b[0m\n\u001b[0;32m----> 7\u001b[0;31m \u001b[0;32mfrom\u001b[0m \u001b[0mydata_profiling\u001b[0m \u001b[0;32mimport\u001b[0m \u001b[0mProfileReport\u001b[0m\u001b[0;34m\u001b[0m\u001b[0;34m\u001b[0m\u001b[0m\n\u001b[0m\u001b[1;32m      8\u001b[0m \u001b[0;32mfrom\u001b[0m \u001b[0msklearn\u001b[0m\u001b[0;34m.\u001b[0m\u001b[0mmetrics\u001b[0m \u001b[0;32mimport\u001b[0m \u001b[0mr2_score\u001b[0m\u001b[0;34m\u001b[0m\u001b[0;34m\u001b[0m\u001b[0m\n\u001b[1;32m      9\u001b[0m \u001b[0;32mfrom\u001b[0m \u001b[0msklearn\u001b[0m\u001b[0;34m.\u001b[0m\u001b[0mlinear_model\u001b[0m \u001b[0;32mimport\u001b[0m \u001b[0mLinearRegression\u001b[0m\u001b[0;34m\u001b[0m\u001b[0;34m\u001b[0m\u001b[0m\n",
      "\u001b[0;31mModuleNotFoundError\u001b[0m: No module named 'ydata_profiling'"
     ]
    }
   ],
   "source": [
    "# Импортируем необходимые модули\n",
    "import pandas as pd\n",
    "import numpy as np\n",
    "import matplotlib.pyplot as plt\n",
    "import seaborn as sns\n",
    "import warnings\n",
    "from ydata_profiling import ProfileReport\n",
    "from sklearn.metrics import r2_score\n",
    "from sklearn.linear_model import LinearRegression\n",
    "from sklearn.model_selection import train_test_split\n",
    "from sklearn.preprocessing import StandardScaler\n",
    "from sklearn.pipeline import Pipeline"
   ]
  },
  {
   "cell_type": "code",
   "execution_count": null,
   "metadata": {},
   "outputs": [],
   "source": [
    "# Снимем ограничение на количество столбцов\n",
    "pd.set_option('display.max_columns', None)\n",
    "\n",
    "# Снимем ограничение на ширину столбцов\n",
    "pd.set_option('display.max_colwidth', None)\n",
    "\n",
    "# Игнорируем предупреждения\n",
    "pd.set_option('chained_assignment', None)"
   ]
  },
  {
   "cell_type": "code",
   "execution_count": null,
   "metadata": {},
   "outputs": [],
   "source": [
    "# Загрузим данные\n",
    "try:\n",
    "    data = pd.read_csv('/datasets/insurance.csv')\n",
    "except:\n",
    "    data = pd.read_csv('insurance.csv')"
   ]
  },
  {
   "cell_type": "code",
   "execution_count": null,
   "metadata": {},
   "outputs": [],
   "source": [
    "print(data.head(3))\n",
    "print()\n",
    "print('Информация датасета:')\n",
    "print(data.info())\n",
    "print()\n",
    "print('Описание датасета:')\n",
    "print(data.describe())\n",
    "print()\n",
    "print(f'Количествово пропусков:{data.isna().sum()}') \n",
    "print()\n",
    "print(f'Количествово дубликатов:{data.duplicated().sum()}')\n",
    "print()\n",
    "print('Уникальные значения датасета:')\n",
    "print(data.nunique())"
   ]
  },
  {
   "cell_type": "code",
   "execution_count": null,
   "metadata": {},
   "outputs": [],
   "source": [
    "corr_matrix = data.corr()\n",
    "print(corr_matrix)\n",
    "fig, ax = plt.subplots(figsize=(50, 50))\n",
    "sns.heatmap(corr_matrix, annot=True, cmap=\"Spectral\", annot_kws={\"fontsize\":38})\n",
    "fig.suptitle('Тепловая карта', fontsize=40)\n",
    "plt.xticks(fontsize=30, rotation=45)\n",
    "plt.yticks(fontsize=30, rotation=300)\n",
    "plt.show();"
   ]
  },
  {
   "cell_type": "markdown",
   "metadata": {},
   "source": [
    "Существуют разные коэффициенты корреляции, и не все из них универсальны. Например, корреляция Пирсона не подходит для категориальных признаков. Есть и более гибкие инструменты: так, коэффициент корреляции Фи находит взаимосвязь между категориальными, порядковыми и интервальными признаками. Чем ближе его значение по модулю к 1, тем сильнее связь. Используем этот передовой метод определения корреляции."
   ]
  },
  {
   "cell_type": "code",
   "execution_count": null,
   "metadata": {},
   "outputs": [],
   "source": [
    "data.phik_matrix() "
   ]
  },
  {
   "cell_type": "markdown",
   "metadata": {},
   "source": [
    "Хотя используя phik_matrix лучше вручную указать столбцы с количественными признаками через interval_cols, а то он иногда путается"
   ]
  },
  {
   "cell_type": "code",
   "execution_count": null,
   "metadata": {},
   "outputs": [],
   "source": [
    "data.phik_matrix(interval_cols=['Страховые выплаты', 'Возраст', 'Зарплата', 'Члены семьи'])"
   ]
  },
  {
   "cell_type": "code",
   "execution_count": null,
   "metadata": {},
   "outputs": [],
   "source": [
    "graph = sns.pairplot(data, hue='Страховые выплаты', diag_kind=\"hist\")\n",
    "graph.fig.suptitle(\"Матрица рассеяния параметров датасета\", y=1);"
   ]
  },
  {
   "cell_type": "code",
   "execution_count": null,
   "metadata": {},
   "outputs": [],
   "source": [
    "plt.figure(figsize=(15,5))\n",
    "sns.boxplot(data=data['Зарплата'], palette='BrBG_r', orient='h')\n",
    "plt.title('Зарплата')\n",
    "plt.show();"
   ]
  },
  {
   "cell_type": "code",
   "execution_count": null,
   "metadata": {},
   "outputs": [],
   "source": [
    "columns = ['Возраст', 'Страховые выплаты', 'Члены семьи']\n",
    "for col in columns:\n",
    "    sns.boxplot(data=data[col], palette='BrBG_r', orient='h')\n",
    "    plt.title(col)\n",
    "    plt.show();"
   ]
  },
  {
   "cell_type": "code",
   "execution_count": null,
   "metadata": {},
   "outputs": [],
   "source": [
    "# Для сравнения распределений выборок с разным размером используем kde\n",
    "columns = ['Возраст', 'Зарплата', 'Страховые выплаты', 'Члены семьи']\n",
    "for col in columns:\n",
    "    plt.rcParams['figure.figsize'] = (15, 5)\n",
    "    ax = sns.distplot(a=data[col], label=data[col], hist=True, kde=True, rug=False, \n",
    "                      bins=100, hist_kws={\"color\":\"red\", \"alpha\":1})\n",
    "    ax.set_ylabel('Плотность')\n",
    "    sns.set(rc={'figure.figsize':(20,5)})\n",
    "    plt.show();"
   ]
  },
  {
   "cell_type": "markdown",
   "metadata": {},
   "source": [
    "Видим что в столбцах Возраст и Зарплата тип данных float, хотя значения целые, так что поменяем их для уменьшения памяти и быстродеятсвия программы."
   ]
  },
  {
   "cell_type": "code",
   "execution_count": null,
   "metadata": {},
   "outputs": [],
   "source": [
    "# Также изучить данные можно подобным способом\n",
    "ProfileReport(data, title=\"Данные датасета\")"
   ]
  },
  {
   "cell_type": "code",
   "execution_count": null,
   "metadata": {},
   "outputs": [],
   "source": [
    "data['Возраст'] = pd.to_numeric(data['Возраст'], downcast='integer')\n",
    "data['Зарплата'] = pd.to_numeric(data['Зарплата'], downcast='integer')\n",
    "data[['Зарплата', 'Возраст']] = data[['Зарплата', 'Возраст']].astype('int64')"
   ]
  },
  {
   "cell_type": "markdown",
   "metadata": {},
   "source": [
    "**Итоги:** \n",
    "\n",
    "Загрузили и предобработали данные:\n",
    "- Пропусков нет.\n",
    "- Есть некоторые выбросы.\n",
    "- От дубликатов избавляться не будем, вдруг это совпадающие признаки разных клиентов. Да и в принципе, учитывая конечную цель проекта, манипуляции с данными не целесообразны. Данные оставляем в исходном виде.\n",
    "- Заменили типы данных в столбцах Возраст и Зарплата на более подходящий int.\n",
    "- В таблице соблюден почти поровну мужчинам и женщин. \n",
    "- Средний возраст застрахованного = 31 год, а медиана = 30. \n",
    "- Судя по данным компания не занимается страхованием лиц в возрасте менее 18 и старше 65 лет. \n",
    "- Медиана зарплаты составляет чуть более 40 000 рублей.\n",
    "- Видим, что Возраст и Страховые выплаты зависимы между собой больше всего."
   ]
  },
  {
   "cell_type": "markdown",
   "metadata": {},
   "source": [
    "В данных есть выбросы. Значимые нарушения не выявлены.\n"
   ]
  },
  {
   "cell_type": "markdown",
   "metadata": {},
   "source": [
    "Итоги анализа загруженных данных\n",
    "\n",
    "Датафрейм содержит 5000 объектов и 5 числовых признаков.\n",
    "В данных нет пропусков.\n",
    "Целевой признак содержит 6 категорий от 0 до 5. Вероятнее всего, категории обозначают количество страховых выплат. По мере увеличения значения категории уменьшается количество объектов в ней. Так, в категории 0 содержится 4436 объектов, в категории 1 только 423 объекта, а в категории 5 всего 1 объект.\n",
    "По мере увеличения количества страховых выплат увеличивается возраст застрахован лица. Эти два показателя имеют сильную положительную корреляцию. При этом, количество страховых выплат почти не зависит от пола и других имеющихся признаков застрахованного лица.\n",
    "Признаки имеют значительное различие в разбросе числовых значений. Для эффективного использования в обучении их следует стандартизировать."
   ]
  },
  {
   "cell_type": "markdown",
   "metadata": {},
   "source": [
    "## Умножение матриц"
   ]
  },
  {
   "cell_type": "markdown",
   "metadata": {},
   "source": [
    "Обозначения:\n",
    "\n",
    "- $X$ — матрица признаков (нулевой столбец состоит из единиц)\n",
    "\n",
    "- $y$ — вектор целевого признака\n",
    "\n",
    "- $P$ — матрица, на которую умножаются признаки\n",
    "\n",
    "- $w$ — вектор весов линейной регрессии (нулевой элемент равен сдвигу)"
   ]
  },
  {
   "cell_type": "markdown",
   "metadata": {},
   "source": [
    "Предсказания:\n",
    "\n",
    "$$\n",
    "a = Xw\n",
    "$$\n",
    "\n",
    "Задача обучения:\n",
    "\n",
    "$$\n",
    "w = \\arg\\min_w MSE(Xw, y)\n",
    "$$\n",
    "\n",
    "Формула обучения:\n",
    "\n",
    "$$\n",
    "w = (X^T X)^{-1} X^T y\n",
    "$$"
   ]
  },
  {
   "cell_type": "markdown",
   "metadata": {},
   "source": [
    "**Вопрос:** Признаки умножают на обратимую матрицу. Изменится ли качество линейной регрессии?\n",
    "\n",
    "**Ответ:** Не изменится.\n",
    "\n",
    "**Обоснование:** \n",
    "\n",
    "Так как в задании сказано, что матрица признаков умножается на обратимую матрицу, то матрица P - квадратная. Умноженная матрица будет иметь вид X * P. Тогда фомула предсказаний:\n",
    "\n",
    "$$\n",
    "a' = XP'w\n",
    "$$\n",
    "\n",
    "$$\n",
    "a' = X'w' = XPw'\n",
    "$$\n",
    "\n",
    "$$\n",
    "w' = (X'^T X')^{-1} X'^T y = ((XP)^TXP)^{-1})(XP)^Ty\n",
    "$$\n",
    "\n",
    "Используем её в вычислениях:\n",
    "\n",
    "$$\n",
    "a' = XP((XP)^TXP)^{-1})(XP)^Ty\n",
    "$$\n",
    "\n",
    "Воспользуемся свойствами матриц:\n",
    "\n",
    "$$\n",
    "(AB)^{-1} = B^{-1}A^{-1}\n",
    "$$\n",
    "$$\n",
    "(AB)^T = B^TA^T\n",
    "$$\n",
    "$$\n",
    "AA^{-1} = E\n",
    "$$\n",
    "$$\n",
    "AE = EA = A\n",
    "$$\n",
    "$$\n",
    "𝐴(𝐵𝐶)=(𝐴𝐵)𝐶\n",
    "$$\n",
    "\n",
    "Получаем уравнение:\n",
    "\n",
    "$$\n",
    "a' = XP(P^TX^TXP)^{-1})P^TX^Ty = XPP^{-1}(P^TX^TX)^{-1}P^TX^Ty = XPP^{-1}(X^TX)^{-1}(P^T)^{-1}P^TX^Ty\n",
    "$$\n",
    "\n",
    "$PP^{-1}$ и $(P^T)^{-1}P^T$ дают единичные матрицы, которые исключаем из уровнения. Получаем следующее:\n",
    "\n",
    "$$\n",
    "a' = X^TX^{-1}X^Ty = Xw\n",
    "$$\n",
    "\n",
    "Следовательно:\n",
    "$$\n",
    "a = a' = Xw ==> 𝑋𝑃𝑤𝑝=𝑋𝑤\n",
    "$$\n",
    "\n",
    "Теперь, чтобы было верно это:\n",
    "    \n",
    "    \n",
    "$$\n",
    "XP w_p = X w\n",
    "$$    \n",
    "    \n",
    "    \n",
    "Нужно чтобы было верно это:   \n",
    "    \n",
    "    \n",
    "    \n",
    "$$\n",
    "P w_p = w\n",
    "$$    \n",
    "       \n",
    "    \n",
    "Перемножим обе части равенства на $P^{-1}$, и получим что   $\n",
    "w_p = P^{-1}w\n",
    "$    \n",
    "\n",
    "\n",
    "Вот и нашли соотношение наших весов.   \n",
    "\n",
    "**Итоги:** \n",
    "\n",
    "Значение предсказания не меняется если просходит перемножение признаков на обратимую матрицу."
   ]
  },
  {
   "cell_type": "markdown",
   "metadata": {},
   "source": [
    "## Алгоритм преобразования"
   ]
  },
  {
   "cell_type": "markdown",
   "metadata": {},
   "source": [
    "**Алгоритм**\n",
    "\n",
    "1. В качестве алгоритма преобразования мы примем домножение обучающих признаков X на случайную обратимую матрицу P размером 4х4. Будем генерировать рандомную матрицу пока не получим обратимую. Ведь если матрица будет необратима, мы не сможем расшифровать наши данные. \n",
    "2. Затем мы создадим модель линейной регрессии до преобразования и посчитаем метрику R2. \n",
    "3. После этого мы умножим исходные признаки на обратимую матрицу P и на основе полученных значений вновь посчитаем метрику R2.\n",
    "4. Ожидается, что метрики R2 до и после преобразования будут равны. \n",
    "5. Для возврата к исходной матрице, умножим новую матрицу на обратную матрицу."
   ]
  },
  {
   "cell_type": "markdown",
   "metadata": {},
   "source": [
    "**Обоснование**\n",
    "\n",
    "На основании выводов, полученных в пункте 2 данного проекта предполагается, что умножение треннировочной выборки с нецелевыми аттрибутами и аналогичной тестовой выборки на случайную обратимую матрицу даст такой же результат, что и без умножения на подобную матрицу."
   ]
  },
  {
   "cell_type": "markdown",
   "metadata": {},
   "source": [
    "**Итоги:**\n",
    "\n",
    "Написали и обосновали алгоритм преобразования исходных данных, чтобы по ним было сложно восстановить персональную информацию, без ухудшения качества моделей машинного обучения."
   ]
  },
  {
   "cell_type": "markdown",
   "metadata": {},
   "source": [
    "## Проверка алгоритма"
   ]
  },
  {
   "cell_type": "code",
   "execution_count": null,
   "metadata": {},
   "outputs": [],
   "source": [
    "# Разделим наши данные\n",
    "features = data.drop([\"Страховые выплаты\"], axis=1)\n",
    "target = data[\"Страховые выплаты\"]\n",
    "features.shape, target.shape"
   ]
  },
  {
   "cell_type": "code",
   "execution_count": null,
   "metadata": {},
   "outputs": [],
   "source": [
    "# Создаем выборки обуч и тест\n",
    "features_train, features_test, target_train, target_test = train_test_split(\n",
    "    features, target, test_size=0.25, random_state=777)"
   ]
  },
  {
   "cell_type": "code",
   "execution_count": null,
   "metadata": {},
   "outputs": [],
   "source": [
    "def func(dim):\n",
    "    global transform_matrix\n",
    "    global inv_matrix\n",
    "    transform_matrix = np.random.rand(dim, dim)\n",
    "    try: \n",
    "        inv_matrix = np.linalg.inv(transform_matrix)\n",
    "        return transform_matrix, inv_matrix\n",
    "    except:\n",
    "        func(dim) "
   ]
  },
  {
   "cell_type": "code",
   "execution_count": null,
   "metadata": {},
   "outputs": [],
   "source": [
    "# Проверим её на обратимость\n",
    "try:\n",
    "    func(4)\n",
    "    print('\\nОбратная матрица к заданной существует')\n",
    "except:\n",
    "    print('\\nОбратная матрица к заданной не существует')"
   ]
  },
  {
   "cell_type": "code",
   "execution_count": null,
   "metadata": {},
   "outputs": [],
   "source": [
    "inv_matrix"
   ]
  },
  {
   "cell_type": "code",
   "execution_count": null,
   "metadata": {},
   "outputs": [],
   "source": [
    "features.head(3)"
   ]
  },
  {
   "cell_type": "code",
   "execution_count": null,
   "metadata": {},
   "outputs": [],
   "source": [
    "model = LinearRegression(normalize=True).fit(features_train, target_train)\n",
    "predictions = model.predict(features_test)\n",
    "r2_score_value = r2_score(target_test, predictions)\n",
    "print(f\"R2_score: {r2_score_value:.2f}\")"
   ]
  },
  {
   "cell_type": "code",
   "execution_count": null,
   "metadata": {},
   "outputs": [],
   "source": [
    "# Создадим датасет, в котором умножим данные на обратимую матрицу\n",
    "features_matrix = features_train @ inv_matrix\n",
    "features_matrix.head(3)"
   ]
  },
  {
   "cell_type": "code",
   "execution_count": null,
   "metadata": {},
   "outputs": [],
   "source": [
    "model = LinearRegression(normalize = True).fit(features_matrix, target_train)\n",
    "predictions = model.predict(features_matrix)\n",
    "r2_score_value = r2_score(target_train, predictions)\n",
    "print(f\"R2_score: {r2_score_value:.2f}\")"
   ]
  },
  {
   "cell_type": "markdown",
   "metadata": {},
   "source": [
    "**Итоги:**\n",
    "\n",
    "Поскольку значения метрики R2 сошлись, мы можем считать, что успешно защитили данные пользователей, применив умножение на матрицу, при этом не потеряв качество модели."
   ]
  },
  {
   "cell_type": "markdown",
   "metadata": {},
   "source": [
    "## Итоговый вывод"
   ]
  },
  {
   "cell_type": "markdown",
   "metadata": {},
   "source": [
    "В результате выполнения проекта решена задача и достигнута цель - разработан такой метод преобразования данных, чтобы по ним было сложно восстановить персональную информацию. Обоснована корректность его работы. При преобразовании данных качество модели машинного обучения не ухудшилось.\n",
    "\n",
    "**Выполнены следующие этапы:**\n",
    "\n",
    "1. Загрузили и предобработали данные:\n",
    "- Пропусков нет.\n",
    "- Есть некоторые выбросы.\n",
    "- От дубликатов избавляться не будем, вдруг это совпадающие признаки разных клиентов. Да и в принципе, учитывая конечную цель проекта, манипуляции с данными не целесообразны. Данные оставляем в исходном виде.\n",
    "- Заменили типы данных в столбцах Возраст и Зарплата на более подходящий int.\n",
    "- В таблице соблюден почти поровну мужчинам и женщин. \n",
    "- Средний возраст застрахованного = 31 год, а медиана = 30. \n",
    "- Судя по данным компания не занимается страхованием лиц в возрасте менее 18 и старше 65 лет. \n",
    "- Медиана зарплаты составляет чуть более 40 000 рублей.\n",
    "- Видим, что Возраст и Страховые выплаты зависимы между собой больше всего.\n",
    "\n",
    "2. Выяснили, что значение предсказания не меняется если просходит перемножение признаков на обратимую матрицу.\n",
    "\n",
    "\n",
    "3. Написали и обосновали алгоритм преобразования исходных данных, чтобы по ним было сложно восстановить персональную информацию, без ухудшения качества моделей машинного обучения.\n",
    "\n",
    "4. Проверили алгоритм:\n",
    "- Данные разбили.\n",
    "- Умножили данные на обратную матрицу.\n",
    "- Обучили модель линейной регрессии.\n",
    "- Поскольку значения метрики R2 сошлись, мы можем считать, что успешно защитили данные пользователей, применив умножение на матрицу, при этом не потеряв качество модели."
   ]
  },
  {
   "cell_type": "markdown",
   "metadata": {},
   "source": [
    "## Чек-лист проверки"
   ]
  },
  {
   "cell_type": "markdown",
   "metadata": {},
   "source": [
    "Поставьте 'x' в выполненных пунктах. Далее нажмите Shift+Enter."
   ]
  },
  {
   "cell_type": "markdown",
   "metadata": {},
   "source": [
    "- [x]  Jupyter Notebook открыт\n",
    "- [x]  Весь код выполняется без ошибок\n",
    "- [x]  Ячейки с кодом расположены в порядке исполнения\n",
    "- [x]  Выполнен шаг 1: данные загружены\n",
    "- [x]  Выполнен шаг 2: получен ответ на вопрос об умножении матриц\n",
    "    - [x]  Указан правильный вариант ответа\n",
    "    - [x]  Вариант обоснован\n",
    "- [x]  Выполнен шаг 3: предложен алгоритм преобразования\n",
    "    - [x]  Алгоритм описан\n",
    "    - [x]  Алгоритм обоснован\n",
    "- [x]  Выполнен шаг 4: алгоритм проверен\n",
    "    - [x]  Алгоритм реализован\n",
    "    - [x]  Проведено сравнение качества моделей до и после преобразования"
   ]
  }
 ],
 "metadata": {
  "ExecuteTimeLog": [
   {
    "duration": 1065,
    "start_time": "2024-02-19T13:53:12.052Z"
   },
   {
    "duration": 3,
    "start_time": "2024-02-19T13:53:13.119Z"
   },
   {
    "duration": 112,
    "start_time": "2024-02-19T13:53:13.124Z"
   },
   {
    "duration": 132,
    "start_time": "2024-02-19T13:53:13.237Z"
   },
   {
    "duration": 1586,
    "start_time": "2024-02-19T13:53:50.370Z"
   },
   {
    "duration": 3,
    "start_time": "2024-02-19T13:53:51.958Z"
   },
   {
    "duration": 35,
    "start_time": "2024-02-19T13:53:51.962Z"
   },
   {
    "duration": 824,
    "start_time": "2024-02-19T13:53:51.999Z"
   },
   {
    "duration": 1335,
    "start_time": "2024-02-19T13:54:15.390Z"
   },
   {
    "duration": 2,
    "start_time": "2024-02-19T13:54:16.729Z"
   },
   {
    "duration": 33,
    "start_time": "2024-02-19T13:54:16.734Z"
   },
   {
    "duration": 2686,
    "start_time": "2024-02-19T13:54:16.769Z"
   },
   {
    "duration": 2796,
    "start_time": "2024-02-19T13:55:12.934Z"
   },
   {
    "duration": 2686,
    "start_time": "2024-02-19T13:55:34.767Z"
   },
   {
    "duration": 2576,
    "start_time": "2024-02-19T13:55:51.848Z"
   },
   {
    "duration": 34,
    "start_time": "2024-02-19T13:56:39.827Z"
   },
   {
    "duration": 2744,
    "start_time": "2024-02-19T13:56:43.775Z"
   },
   {
    "duration": 860,
    "start_time": "2024-02-19T13:57:15.752Z"
   },
   {
    "duration": 1726,
    "start_time": "2024-02-19T13:57:20.320Z"
   },
   {
    "duration": 845,
    "start_time": "2024-02-19T13:57:45.505Z"
   },
   {
    "duration": 825,
    "start_time": "2024-02-19T13:59:27.121Z"
   },
   {
    "duration": 828,
    "start_time": "2024-02-19T13:59:33.418Z"
   },
   {
    "duration": 870,
    "start_time": "2024-02-19T13:59:42.610Z"
   },
   {
    "duration": 998,
    "start_time": "2024-02-19T14:00:06.574Z"
   },
   {
    "duration": 974,
    "start_time": "2024-02-19T14:00:18.090Z"
   },
   {
    "duration": 820,
    "start_time": "2024-02-19T14:02:15.824Z"
   },
   {
    "duration": 905,
    "start_time": "2024-02-19T14:03:16.098Z"
   },
   {
    "duration": 1200,
    "start_time": "2024-02-19T14:04:39.779Z"
   },
   {
    "duration": 3201,
    "start_time": "2024-02-19T14:04:49.683Z"
   },
   {
    "duration": 1810,
    "start_time": "2024-02-19T14:05:04.501Z"
   },
   {
    "duration": 1371,
    "start_time": "2024-02-19T14:05:32.640Z"
   },
   {
    "duration": 1981,
    "start_time": "2024-02-19T14:06:23.958Z"
   },
   {
    "duration": 1958,
    "start_time": "2024-02-19T14:06:41.412Z"
   },
   {
    "duration": 1845,
    "start_time": "2024-02-19T14:06:48.804Z"
   },
   {
    "duration": 1974,
    "start_time": "2024-02-19T14:07:01.444Z"
   },
   {
    "duration": 1943,
    "start_time": "2024-02-19T14:07:11.229Z"
   },
   {
    "duration": 1815,
    "start_time": "2024-02-19T14:07:19.684Z"
   },
   {
    "duration": 9,
    "start_time": "2024-02-19T14:09:06.561Z"
   },
   {
    "duration": 6,
    "start_time": "2024-02-19T14:09:18.589Z"
   },
   {
    "duration": 7,
    "start_time": "2024-02-19T14:09:34.158Z"
   },
   {
    "duration": 302,
    "start_time": "2024-02-19T14:13:51.745Z"
   },
   {
    "duration": 16,
    "start_time": "2024-02-19T14:14:32.159Z"
   },
   {
    "duration": 131,
    "start_time": "2024-02-19T14:14:50.232Z"
   },
   {
    "duration": 12,
    "start_time": "2024-02-19T14:20:37.397Z"
   },
   {
    "duration": 19,
    "start_time": "2024-02-19T14:20:45.211Z"
   },
   {
    "duration": 12,
    "start_time": "2024-02-19T14:22:20.101Z"
   },
   {
    "duration": 1054,
    "start_time": "2024-02-19T14:22:34.142Z"
   },
   {
    "duration": 1227,
    "start_time": "2024-02-19T14:22:46.327Z"
   },
   {
    "duration": 1069,
    "start_time": "2024-02-19T14:23:20.038Z"
   },
   {
    "duration": 960,
    "start_time": "2024-02-19T14:23:36.783Z"
   },
   {
    "duration": 1444,
    "start_time": "2024-02-19T14:24:03.786Z"
   },
   {
    "duration": 913,
    "start_time": "2024-02-19T14:24:21.174Z"
   },
   {
    "duration": 13,
    "start_time": "2024-02-19T14:24:40.927Z"
   },
   {
    "duration": 1035,
    "start_time": "2024-02-19T14:25:01.462Z"
   },
   {
    "duration": 924,
    "start_time": "2024-02-19T14:25:48.839Z"
   },
   {
    "duration": 878,
    "start_time": "2024-02-19T14:26:23.799Z"
   },
   {
    "duration": 1284,
    "start_time": "2024-02-19T14:26:27.991Z"
   },
   {
    "duration": 1058,
    "start_time": "2024-02-19T14:26:34.112Z"
   },
   {
    "duration": 15355,
    "start_time": "2024-02-19T14:26:40.943Z"
   },
   {
    "duration": 4736,
    "start_time": "2024-02-19T14:27:00.439Z"
   },
   {
    "duration": 974,
    "start_time": "2024-02-19T14:27:18.007Z"
   },
   {
    "duration": 698,
    "start_time": "2024-02-19T14:42:18.911Z"
   },
   {
    "duration": 864,
    "start_time": "2024-02-19T14:42:35.174Z"
   },
   {
    "duration": 787,
    "start_time": "2024-02-19T14:42:49.254Z"
   },
   {
    "duration": 768,
    "start_time": "2024-02-19T14:43:11.558Z"
   },
   {
    "duration": 703,
    "start_time": "2024-02-19T14:43:38.118Z"
   },
   {
    "duration": 3134,
    "start_time": "2024-02-19T14:44:33.551Z"
   },
   {
    "duration": 2109,
    "start_time": "2024-02-19T14:44:50.015Z"
   },
   {
    "duration": 1853,
    "start_time": "2024-02-19T14:45:49.441Z"
   },
   {
    "duration": 1896,
    "start_time": "2024-02-19T14:46:19.879Z"
   },
   {
    "duration": 1415,
    "start_time": "2024-02-19T14:46:37.192Z"
   },
   {
    "duration": 1306,
    "start_time": "2024-02-19T14:47:42.793Z"
   },
   {
    "duration": 1372,
    "start_time": "2024-02-19T14:47:48.932Z"
   },
   {
    "duration": 1316,
    "start_time": "2024-02-19T14:47:54.704Z"
   },
   {
    "duration": 1280,
    "start_time": "2024-02-19T14:48:03.832Z"
   },
   {
    "duration": 1372,
    "start_time": "2024-02-19T14:48:08.513Z"
   },
   {
    "duration": 864,
    "start_time": "2024-02-19T14:49:40.136Z"
   },
   {
    "duration": 1457,
    "start_time": "2024-02-19T14:50:12.604Z"
   },
   {
    "duration": 1596,
    "start_time": "2024-02-19T14:50:22.272Z"
   },
   {
    "duration": 1816,
    "start_time": "2024-02-19T14:50:41.655Z"
   },
   {
    "duration": 1039,
    "start_time": "2024-02-19T14:50:51.496Z"
   },
   {
    "duration": 1760,
    "start_time": "2024-02-19T14:50:57.120Z"
   },
   {
    "duration": 1702,
    "start_time": "2024-02-19T14:51:21.208Z"
   },
   {
    "duration": 1581,
    "start_time": "2024-02-19T14:51:34.520Z"
   },
   {
    "duration": 1576,
    "start_time": "2024-02-19T14:51:39.695Z"
   },
   {
    "duration": 1671,
    "start_time": "2024-02-19T14:51:45.168Z"
   },
   {
    "duration": 1602,
    "start_time": "2024-02-19T14:51:51.072Z"
   },
   {
    "duration": 1358,
    "start_time": "2024-02-19T14:51:56.280Z"
   },
   {
    "duration": 3,
    "start_time": "2024-02-19T14:51:57.642Z"
   },
   {
    "duration": 53,
    "start_time": "2024-02-19T14:51:57.646Z"
   },
   {
    "duration": 35,
    "start_time": "2024-02-19T14:51:57.701Z"
   },
   {
    "duration": 1086,
    "start_time": "2024-02-19T14:51:57.738Z"
   },
   {
    "duration": 1932,
    "start_time": "2024-02-19T14:51:58.826Z"
   },
   {
    "duration": 1609,
    "start_time": "2024-02-19T14:52:00.759Z"
   },
   {
    "duration": 1755,
    "start_time": "2024-02-19T14:52:02.369Z"
   },
   {
    "duration": 7,
    "start_time": "2024-02-19T14:52:04.126Z"
   },
   {
    "duration": 1716,
    "start_time": "2024-02-19T14:52:14.066Z"
   },
   {
    "duration": 1375,
    "start_time": "2024-02-19T14:52:19.561Z"
   },
   {
    "duration": 3,
    "start_time": "2024-02-19T14:52:20.939Z"
   },
   {
    "duration": 57,
    "start_time": "2024-02-19T14:52:20.944Z"
   },
   {
    "duration": 37,
    "start_time": "2024-02-19T14:52:21.003Z"
   },
   {
    "duration": 1218,
    "start_time": "2024-02-19T14:52:21.041Z"
   },
   {
    "duration": 1882,
    "start_time": "2024-02-19T14:52:22.261Z"
   },
   {
    "duration": 1511,
    "start_time": "2024-02-19T14:52:24.145Z"
   },
   {
    "duration": 1749,
    "start_time": "2024-02-19T14:52:25.658Z"
   },
   {
    "duration": 8,
    "start_time": "2024-02-19T14:52:27.409Z"
   },
   {
    "duration": 1375,
    "start_time": "2024-02-19T14:52:50.251Z"
   },
   {
    "duration": 3,
    "start_time": "2024-02-19T14:52:51.629Z"
   },
   {
    "duration": 45,
    "start_time": "2024-02-19T14:52:51.634Z"
   },
   {
    "duration": 36,
    "start_time": "2024-02-19T14:52:51.681Z"
   },
   {
    "duration": 1223,
    "start_time": "2024-02-19T14:52:51.719Z"
   },
   {
    "duration": 1898,
    "start_time": "2024-02-19T14:52:52.943Z"
   },
   {
    "duration": 1520,
    "start_time": "2024-02-19T14:52:54.843Z"
   },
   {
    "duration": 1771,
    "start_time": "2024-02-19T14:52:56.365Z"
   },
   {
    "duration": 8,
    "start_time": "2024-02-19T14:52:58.138Z"
   },
   {
    "duration": 1829,
    "start_time": "2024-02-19T14:53:13.567Z"
   },
   {
    "duration": 1879,
    "start_time": "2024-02-19T14:53:19.344Z"
   },
   {
    "duration": 1842,
    "start_time": "2024-02-19T14:53:26.002Z"
   },
   {
    "duration": 1875,
    "start_time": "2024-02-19T14:53:43.000Z"
   },
   {
    "duration": 1229,
    "start_time": "2024-02-19T14:54:08.817Z"
   },
   {
    "duration": 1716,
    "start_time": "2024-02-19T14:55:04.344Z"
   },
   {
    "duration": 1331,
    "start_time": "2024-02-19T14:55:15.259Z"
   },
   {
    "duration": 1033,
    "start_time": "2024-02-19T17:25:12.954Z"
   },
   {
    "duration": 1836,
    "start_time": "2024-02-19T17:26:21.040Z"
   },
   {
    "duration": 1475,
    "start_time": "2024-02-19T17:26:31.530Z"
   },
   {
    "duration": 3,
    "start_time": "2024-02-19T17:26:33.008Z"
   },
   {
    "duration": 51,
    "start_time": "2024-02-19T17:26:33.012Z"
   },
   {
    "duration": 41,
    "start_time": "2024-02-19T17:26:33.065Z"
   },
   {
    "duration": 1156,
    "start_time": "2024-02-19T17:26:33.108Z"
   },
   {
    "duration": 1390,
    "start_time": "2024-02-19T17:26:34.266Z"
   },
   {
    "duration": 117,
    "start_time": "2024-02-19T17:26:35.657Z"
   },
   {
    "duration": 0,
    "start_time": "2024-02-19T17:26:35.775Z"
   },
   {
    "duration": 984,
    "start_time": "2024-02-19T17:26:50.753Z"
   },
   {
    "duration": 1215,
    "start_time": "2024-02-19T17:26:59.049Z"
   },
   {
    "duration": 1411,
    "start_time": "2024-02-19T17:27:15.210Z"
   },
   {
    "duration": 1454,
    "start_time": "2024-02-19T17:27:20.720Z"
   },
   {
    "duration": 3,
    "start_time": "2024-02-19T17:27:22.178Z"
   },
   {
    "duration": 48,
    "start_time": "2024-02-19T17:27:22.183Z"
   },
   {
    "duration": 53,
    "start_time": "2024-02-19T17:27:22.232Z"
   },
   {
    "duration": 1189,
    "start_time": "2024-02-19T17:27:22.287Z"
   },
   {
    "duration": 1423,
    "start_time": "2024-02-19T17:27:23.478Z"
   },
   {
    "duration": 139,
    "start_time": "2024-02-19T17:27:24.902Z"
   },
   {
    "duration": 0,
    "start_time": "2024-02-19T17:27:25.043Z"
   },
   {
    "duration": 1406,
    "start_time": "2024-02-19T17:29:44.819Z"
   },
   {
    "duration": 210,
    "start_time": "2024-02-19T17:31:07.426Z"
   },
   {
    "duration": 212,
    "start_time": "2024-02-19T17:34:18.689Z"
   },
   {
    "duration": 223,
    "start_time": "2024-02-19T17:34:39.904Z"
   },
   {
    "duration": 146,
    "start_time": "2024-02-19T17:39:21.735Z"
   },
   {
    "duration": 1051,
    "start_time": "2024-02-19T17:39:45.431Z"
   },
   {
    "duration": 438,
    "start_time": "2024-02-19T17:40:46.601Z"
   },
   {
    "duration": 432,
    "start_time": "2024-02-19T17:41:00.409Z"
   },
   {
    "duration": 61,
    "start_time": "2024-02-20T10:23:06.269Z"
   },
   {
    "duration": 1790,
    "start_time": "2024-02-20T10:29:59.352Z"
   },
   {
    "duration": 3,
    "start_time": "2024-02-20T10:30:01.146Z"
   },
   {
    "duration": 555,
    "start_time": "2024-02-20T10:30:01.152Z"
   },
   {
    "duration": 499,
    "start_time": "2024-02-20T10:30:01.709Z"
   },
   {
    "duration": 1738,
    "start_time": "2024-02-20T10:30:02.210Z"
   },
   {
    "duration": 162,
    "start_time": "2024-02-20T10:30:03.950Z"
   },
   {
    "duration": 430,
    "start_time": "2024-02-20T10:30:04.114Z"
   },
   {
    "duration": 1458,
    "start_time": "2024-02-20T10:30:04.546Z"
   },
   {
    "duration": 10,
    "start_time": "2024-02-20T10:30:06.006Z"
   },
   {
    "duration": 7,
    "start_time": "2024-02-20T10:30:06.019Z"
   },
   {
    "duration": 12,
    "start_time": "2024-02-20T10:30:06.028Z"
   },
   {
    "duration": 4,
    "start_time": "2024-02-20T10:30:06.042Z"
   },
   {
    "duration": 147,
    "start_time": "2024-02-20T10:30:06.048Z"
   },
   {
    "duration": 0,
    "start_time": "2024-02-20T10:30:06.197Z"
   },
   {
    "duration": 0,
    "start_time": "2024-02-20T10:30:06.198Z"
   },
   {
    "duration": 0,
    "start_time": "2024-02-20T10:30:06.199Z"
   },
   {
    "duration": 0,
    "start_time": "2024-02-20T10:30:06.200Z"
   },
   {
    "duration": 1480,
    "start_time": "2024-02-20T10:31:49.924Z"
   },
   {
    "duration": 4,
    "start_time": "2024-02-20T10:31:51.407Z"
   },
   {
    "duration": 37,
    "start_time": "2024-02-20T10:31:51.412Z"
   },
   {
    "duration": 41,
    "start_time": "2024-02-20T10:31:51.451Z"
   },
   {
    "duration": 1234,
    "start_time": "2024-02-20T10:31:51.494Z"
   },
   {
    "duration": 158,
    "start_time": "2024-02-20T10:31:52.730Z"
   },
   {
    "duration": 404,
    "start_time": "2024-02-20T10:31:52.890Z"
   },
   {
    "duration": 1428,
    "start_time": "2024-02-20T10:31:53.296Z"
   },
   {
    "duration": 9,
    "start_time": "2024-02-20T10:31:54.725Z"
   },
   {
    "duration": 14,
    "start_time": "2024-02-20T10:31:54.736Z"
   },
   {
    "duration": 7,
    "start_time": "2024-02-20T10:31:54.752Z"
   },
   {
    "duration": 9,
    "start_time": "2024-02-20T10:31:54.760Z"
   },
   {
    "duration": 25,
    "start_time": "2024-02-20T10:31:54.770Z"
   },
   {
    "duration": 12,
    "start_time": "2024-02-20T10:31:54.797Z"
   },
   {
    "duration": 80,
    "start_time": "2024-02-20T10:31:54.811Z"
   },
   {
    "duration": 96,
    "start_time": "2024-02-20T10:31:54.896Z"
   },
   {
    "duration": 97,
    "start_time": "2024-02-20T10:31:54.994Z"
   },
   {
    "duration": 1563,
    "start_time": "2024-02-20T10:49:12.869Z"
   },
   {
    "duration": 4,
    "start_time": "2024-02-20T10:49:14.437Z"
   },
   {
    "duration": 51,
    "start_time": "2024-02-20T10:49:14.443Z"
   },
   {
    "duration": 43,
    "start_time": "2024-02-20T10:49:14.496Z"
   },
   {
    "duration": 1278,
    "start_time": "2024-02-20T10:49:14.542Z"
   },
   {
    "duration": 176,
    "start_time": "2024-02-20T10:49:15.822Z"
   },
   {
    "duration": 434,
    "start_time": "2024-02-20T10:49:16.000Z"
   },
   {
    "duration": 1417,
    "start_time": "2024-02-20T10:49:16.435Z"
   },
   {
    "duration": 8,
    "start_time": "2024-02-20T10:49:17.854Z"
   },
   {
    "duration": 27,
    "start_time": "2024-02-20T10:49:17.864Z"
   },
   {
    "duration": 12,
    "start_time": "2024-02-20T10:49:17.892Z"
   },
   {
    "duration": 7,
    "start_time": "2024-02-20T10:49:17.906Z"
   },
   {
    "duration": 11,
    "start_time": "2024-02-20T10:49:17.915Z"
   },
   {
    "duration": 9,
    "start_time": "2024-02-20T10:49:17.929Z"
   },
   {
    "duration": 55,
    "start_time": "2024-02-20T10:49:17.940Z"
   },
   {
    "duration": 108,
    "start_time": "2024-02-20T10:49:17.997Z"
   },
   {
    "duration": 14,
    "start_time": "2024-02-20T10:49:18.107Z"
   },
   {
    "duration": 1492,
    "start_time": "2024-02-20T10:51:02.325Z"
   },
   {
    "duration": 4,
    "start_time": "2024-02-20T10:51:03.821Z"
   },
   {
    "duration": 108,
    "start_time": "2024-02-20T10:51:03.827Z"
   },
   {
    "duration": 154,
    "start_time": "2024-02-20T10:51:03.936Z"
   },
   {
    "duration": 1264,
    "start_time": "2024-02-20T10:51:04.092Z"
   },
   {
    "duration": 179,
    "start_time": "2024-02-20T10:51:05.358Z"
   },
   {
    "duration": 434,
    "start_time": "2024-02-20T10:51:05.539Z"
   },
   {
    "duration": 1445,
    "start_time": "2024-02-20T10:51:05.974Z"
   },
   {
    "duration": 8,
    "start_time": "2024-02-20T10:51:07.421Z"
   },
   {
    "duration": 6,
    "start_time": "2024-02-20T10:51:07.430Z"
   },
   {
    "duration": 6,
    "start_time": "2024-02-20T10:51:07.438Z"
   },
   {
    "duration": 9,
    "start_time": "2024-02-20T10:51:07.445Z"
   },
   {
    "duration": 8,
    "start_time": "2024-02-20T10:51:07.493Z"
   },
   {
    "duration": 94,
    "start_time": "2024-02-20T10:51:07.504Z"
   },
   {
    "duration": 26,
    "start_time": "2024-02-20T10:51:07.600Z"
   },
   {
    "duration": 4,
    "start_time": "2024-02-20T10:51:07.691Z"
   },
   {
    "duration": 105,
    "start_time": "2024-02-20T10:51:07.697Z"
   },
   {
    "duration": 1604,
    "start_time": "2024-02-20T10:55:40.940Z"
   },
   {
    "duration": 4,
    "start_time": "2024-02-20T10:55:42.547Z"
   },
   {
    "duration": 34,
    "start_time": "2024-02-20T10:55:42.553Z"
   },
   {
    "duration": 54,
    "start_time": "2024-02-20T10:55:42.589Z"
   },
   {
    "duration": 1335,
    "start_time": "2024-02-20T10:55:42.645Z"
   },
   {
    "duration": 174,
    "start_time": "2024-02-20T10:55:43.982Z"
   },
   {
    "duration": 445,
    "start_time": "2024-02-20T10:55:44.158Z"
   },
   {
    "duration": 1567,
    "start_time": "2024-02-20T10:55:44.605Z"
   },
   {
    "duration": 19,
    "start_time": "2024-02-20T10:55:46.174Z"
   },
   {
    "duration": 6,
    "start_time": "2024-02-20T10:55:46.195Z"
   },
   {
    "duration": 8,
    "start_time": "2024-02-20T10:55:46.203Z"
   },
   {
    "duration": 10,
    "start_time": "2024-02-20T10:55:46.213Z"
   },
   {
    "duration": 78,
    "start_time": "2024-02-20T10:55:46.226Z"
   },
   {
    "duration": 97,
    "start_time": "2024-02-20T10:55:46.309Z"
   },
   {
    "duration": 185,
    "start_time": "2024-02-20T10:55:46.408Z"
   },
   {
    "duration": 19,
    "start_time": "2024-02-20T10:55:46.595Z"
   },
   {
    "duration": 1597,
    "start_time": "2024-02-20T10:56:56.641Z"
   },
   {
    "duration": 3,
    "start_time": "2024-02-20T10:56:58.242Z"
   },
   {
    "duration": 56,
    "start_time": "2024-02-20T10:56:58.247Z"
   },
   {
    "duration": 42,
    "start_time": "2024-02-20T10:56:58.305Z"
   },
   {
    "duration": 1263,
    "start_time": "2024-02-20T10:56:58.349Z"
   },
   {
    "duration": 155,
    "start_time": "2024-02-20T10:56:59.614Z"
   },
   {
    "duration": 445,
    "start_time": "2024-02-20T10:56:59.771Z"
   },
   {
    "duration": 1423,
    "start_time": "2024-02-20T10:57:00.218Z"
   },
   {
    "duration": 9,
    "start_time": "2024-02-20T10:57:01.643Z"
   },
   {
    "duration": 48,
    "start_time": "2024-02-20T10:57:01.654Z"
   },
   {
    "duration": 72,
    "start_time": "2024-02-20T10:57:01.704Z"
   },
   {
    "duration": 22,
    "start_time": "2024-02-20T10:57:01.778Z"
   },
   {
    "duration": 99,
    "start_time": "2024-02-20T10:57:01.803Z"
   },
   {
    "duration": 259,
    "start_time": "2024-02-20T10:57:01.905Z"
   },
   {
    "duration": 115,
    "start_time": "2024-02-20T10:57:02.191Z"
   },
   {
    "duration": 36,
    "start_time": "2024-02-20T10:57:02.308Z"
   },
   {
    "duration": 1546,
    "start_time": "2024-02-20T11:01:52.862Z"
   },
   {
    "duration": 3,
    "start_time": "2024-02-20T11:01:54.411Z"
   },
   {
    "duration": 50,
    "start_time": "2024-02-20T11:01:54.416Z"
   },
   {
    "duration": 43,
    "start_time": "2024-02-20T11:01:54.469Z"
   },
   {
    "duration": 1258,
    "start_time": "2024-02-20T11:01:54.514Z"
   },
   {
    "duration": 165,
    "start_time": "2024-02-20T11:01:55.774Z"
   },
   {
    "duration": 448,
    "start_time": "2024-02-20T11:01:55.941Z"
   },
   {
    "duration": 1483,
    "start_time": "2024-02-20T11:01:56.391Z"
   },
   {
    "duration": 24,
    "start_time": "2024-02-20T11:01:57.876Z"
   },
   {
    "duration": 6,
    "start_time": "2024-02-20T11:01:57.905Z"
   },
   {
    "duration": 8,
    "start_time": "2024-02-20T11:01:57.913Z"
   },
   {
    "duration": 18,
    "start_time": "2024-02-20T11:01:57.923Z"
   },
   {
    "duration": 58,
    "start_time": "2024-02-20T11:01:57.944Z"
   },
   {
    "duration": 103,
    "start_time": "2024-02-20T11:01:58.004Z"
   },
   {
    "duration": 99,
    "start_time": "2024-02-20T11:01:58.109Z"
   },
   {
    "duration": 86,
    "start_time": "2024-02-20T11:01:58.211Z"
   },
   {
    "duration": 1522,
    "start_time": "2024-02-20T11:02:12.702Z"
   },
   {
    "duration": 3,
    "start_time": "2024-02-20T11:02:14.228Z"
   },
   {
    "duration": 31,
    "start_time": "2024-02-20T11:02:14.235Z"
   },
   {
    "duration": 42,
    "start_time": "2024-02-20T11:02:14.268Z"
   },
   {
    "duration": 1256,
    "start_time": "2024-02-20T11:02:14.312Z"
   },
   {
    "duration": 164,
    "start_time": "2024-02-20T11:02:15.570Z"
   },
   {
    "duration": 441,
    "start_time": "2024-02-20T11:02:15.736Z"
   },
   {
    "duration": 1466,
    "start_time": "2024-02-20T11:02:16.179Z"
   },
   {
    "duration": 8,
    "start_time": "2024-02-20T11:02:17.647Z"
   },
   {
    "duration": 8,
    "start_time": "2024-02-20T11:02:17.657Z"
   },
   {
    "duration": 15,
    "start_time": "2024-02-20T11:02:17.667Z"
   },
   {
    "duration": 11,
    "start_time": "2024-02-20T11:02:17.699Z"
   },
   {
    "duration": 88,
    "start_time": "2024-02-20T11:02:17.713Z"
   },
   {
    "duration": 100,
    "start_time": "2024-02-20T11:02:17.803Z"
   },
   {
    "duration": 105,
    "start_time": "2024-02-20T11:02:17.905Z"
   },
   {
    "duration": 82,
    "start_time": "2024-02-20T11:02:18.012Z"
   },
   {
    "duration": 627,
    "start_time": "2024-02-20T11:02:41.404Z"
   },
   {
    "duration": 534,
    "start_time": "2024-02-20T11:03:04.205Z"
   },
   {
    "duration": 165,
    "start_time": "2024-02-20T11:04:32.360Z"
   },
   {
    "duration": 182,
    "start_time": "2024-02-20T11:04:40.134Z"
   },
   {
    "duration": 1073,
    "start_time": "2024-02-20T11:09:38.961Z"
   },
   {
    "duration": 1304,
    "start_time": "2024-02-20T11:09:52.200Z"
   },
   {
    "duration": 1303,
    "start_time": "2024-02-20T11:10:02.513Z"
   },
   {
    "duration": 1383,
    "start_time": "2024-02-20T11:10:20.471Z"
   },
   {
    "duration": 1309,
    "start_time": "2024-02-20T11:10:35.176Z"
   },
   {
    "duration": 1418,
    "start_time": "2024-02-20T11:10:47.680Z"
   },
   {
    "duration": 1532,
    "start_time": "2024-02-20T11:11:07.985Z"
   },
   {
    "duration": 3,
    "start_time": "2024-02-20T11:11:09.521Z"
   },
   {
    "duration": 33,
    "start_time": "2024-02-20T11:11:09.526Z"
   },
   {
    "duration": 41,
    "start_time": "2024-02-20T11:11:09.561Z"
   },
   {
    "duration": 1236,
    "start_time": "2024-02-20T11:11:09.604Z"
   },
   {
    "duration": 157,
    "start_time": "2024-02-20T11:11:10.841Z"
   },
   {
    "duration": 429,
    "start_time": "2024-02-20T11:11:11.000Z"
   },
   {
    "duration": 1388,
    "start_time": "2024-02-20T11:11:11.430Z"
   },
   {
    "duration": 8,
    "start_time": "2024-02-20T11:11:12.820Z"
   },
   {
    "duration": 12,
    "start_time": "2024-02-20T11:11:12.830Z"
   },
   {
    "duration": 6,
    "start_time": "2024-02-20T11:11:12.844Z"
   },
   {
    "duration": 9,
    "start_time": "2024-02-20T11:11:12.851Z"
   },
   {
    "duration": 12,
    "start_time": "2024-02-20T11:11:12.891Z"
   },
   {
    "duration": 90,
    "start_time": "2024-02-20T11:11:12.905Z"
   },
   {
    "duration": 103,
    "start_time": "2024-02-20T11:11:12.998Z"
   },
   {
    "duration": 100,
    "start_time": "2024-02-20T11:11:13.104Z"
   },
   {
    "duration": 1505,
    "start_time": "2024-02-20T11:11:24.794Z"
   },
   {
    "duration": 3,
    "start_time": "2024-02-20T11:11:26.303Z"
   },
   {
    "duration": 34,
    "start_time": "2024-02-20T11:11:26.308Z"
   },
   {
    "duration": 39,
    "start_time": "2024-02-20T11:11:26.344Z"
   },
   {
    "duration": 1291,
    "start_time": "2024-02-20T11:11:26.385Z"
   },
   {
    "duration": 151,
    "start_time": "2024-02-20T11:11:27.678Z"
   },
   {
    "duration": 424,
    "start_time": "2024-02-20T11:11:27.830Z"
   },
   {
    "duration": 1417,
    "start_time": "2024-02-20T11:11:28.256Z"
   },
   {
    "duration": 16,
    "start_time": "2024-02-20T11:11:29.675Z"
   },
   {
    "duration": 7,
    "start_time": "2024-02-20T11:11:29.693Z"
   },
   {
    "duration": 12,
    "start_time": "2024-02-20T11:11:29.701Z"
   },
   {
    "duration": 12,
    "start_time": "2024-02-20T11:11:29.715Z"
   },
   {
    "duration": 72,
    "start_time": "2024-02-20T11:11:29.729Z"
   },
   {
    "duration": 98,
    "start_time": "2024-02-20T11:11:29.805Z"
   },
   {
    "duration": 189,
    "start_time": "2024-02-20T11:11:29.904Z"
   },
   {
    "duration": 94,
    "start_time": "2024-02-20T11:11:30.095Z"
   },
   {
    "duration": 1502,
    "start_time": "2024-02-20T11:11:52.739Z"
   },
   {
    "duration": 4,
    "start_time": "2024-02-20T11:11:54.245Z"
   },
   {
    "duration": 48,
    "start_time": "2024-02-20T11:11:54.251Z"
   },
   {
    "duration": 40,
    "start_time": "2024-02-20T11:11:54.301Z"
   },
   {
    "duration": 1296,
    "start_time": "2024-02-20T11:11:54.344Z"
   },
   {
    "duration": 151,
    "start_time": "2024-02-20T11:11:55.642Z"
   },
   {
    "duration": 414,
    "start_time": "2024-02-20T11:11:55.795Z"
   },
   {
    "duration": 1397,
    "start_time": "2024-02-20T11:11:56.211Z"
   },
   {
    "duration": 11,
    "start_time": "2024-02-20T11:11:57.610Z"
   },
   {
    "duration": 25,
    "start_time": "2024-02-20T11:11:57.623Z"
   },
   {
    "duration": 12,
    "start_time": "2024-02-20T11:11:57.650Z"
   },
   {
    "duration": 27,
    "start_time": "2024-02-20T11:11:57.664Z"
   },
   {
    "duration": 104,
    "start_time": "2024-02-20T11:11:57.693Z"
   },
   {
    "duration": 94,
    "start_time": "2024-02-20T11:11:57.800Z"
   },
   {
    "duration": 102,
    "start_time": "2024-02-20T11:11:57.896Z"
   },
   {
    "duration": 91,
    "start_time": "2024-02-20T11:11:58.000Z"
   },
   {
    "duration": 1525,
    "start_time": "2024-02-20T11:12:27.776Z"
   },
   {
    "duration": 3,
    "start_time": "2024-02-20T11:12:29.305Z"
   },
   {
    "duration": 52,
    "start_time": "2024-02-20T11:12:29.310Z"
   },
   {
    "duration": 41,
    "start_time": "2024-02-20T11:12:29.363Z"
   },
   {
    "duration": 1262,
    "start_time": "2024-02-20T11:12:29.406Z"
   },
   {
    "duration": 193,
    "start_time": "2024-02-20T11:12:30.670Z"
   },
   {
    "duration": 660,
    "start_time": "2024-02-20T11:12:30.865Z"
   },
   {
    "duration": 1578,
    "start_time": "2024-02-20T11:12:31.527Z"
   },
   {
    "duration": 7,
    "start_time": "2024-02-20T11:12:33.107Z"
   },
   {
    "duration": 46,
    "start_time": "2024-02-20T11:12:33.116Z"
   },
   {
    "duration": 28,
    "start_time": "2024-02-20T11:12:33.164Z"
   },
   {
    "duration": 29,
    "start_time": "2024-02-20T11:12:33.193Z"
   },
   {
    "duration": 73,
    "start_time": "2024-02-20T11:12:33.225Z"
   },
   {
    "duration": 94,
    "start_time": "2024-02-20T11:12:33.301Z"
   },
   {
    "duration": 125,
    "start_time": "2024-02-20T11:12:33.397Z"
   },
   {
    "duration": 44,
    "start_time": "2024-02-20T11:12:33.523Z"
   },
   {
    "duration": 1605,
    "start_time": "2024-02-20T11:12:45.459Z"
   },
   {
    "duration": 4,
    "start_time": "2024-02-20T11:12:47.068Z"
   },
   {
    "duration": 79,
    "start_time": "2024-02-20T11:12:47.073Z"
   },
   {
    "duration": 42,
    "start_time": "2024-02-20T11:12:47.154Z"
   },
   {
    "duration": 1014,
    "start_time": "2024-02-20T11:12:47.198Z"
   },
   {
    "duration": 136,
    "start_time": "2024-02-20T11:12:48.214Z"
   },
   {
    "duration": 358,
    "start_time": "2024-02-20T11:12:48.352Z"
   },
   {
    "duration": 1392,
    "start_time": "2024-02-20T11:12:48.712Z"
   },
   {
    "duration": 9,
    "start_time": "2024-02-20T11:12:50.106Z"
   },
   {
    "duration": 34,
    "start_time": "2024-02-20T11:12:50.117Z"
   },
   {
    "duration": 32,
    "start_time": "2024-02-20T11:12:50.153Z"
   },
   {
    "duration": 10,
    "start_time": "2024-02-20T11:12:50.187Z"
   },
   {
    "duration": 12,
    "start_time": "2024-02-20T11:12:50.199Z"
   },
   {
    "duration": 87,
    "start_time": "2024-02-20T11:12:50.215Z"
   },
   {
    "duration": 192,
    "start_time": "2024-02-20T11:12:50.304Z"
   },
   {
    "duration": 21,
    "start_time": "2024-02-20T11:12:50.498Z"
   },
   {
    "duration": 1083,
    "start_time": "2024-02-20T11:13:51.633Z"
   },
   {
    "duration": 1479,
    "start_time": "2024-02-20T11:14:03.820Z"
   },
   {
    "duration": 3,
    "start_time": "2024-02-20T11:14:05.302Z"
   },
   {
    "duration": 38,
    "start_time": "2024-02-20T11:14:05.307Z"
   },
   {
    "duration": 42,
    "start_time": "2024-02-20T11:14:05.347Z"
   },
   {
    "duration": 1097,
    "start_time": "2024-02-20T11:14:05.391Z"
   },
   {
    "duration": 132,
    "start_time": "2024-02-20T11:14:06.490Z"
   },
   {
    "duration": 403,
    "start_time": "2024-02-20T11:14:06.624Z"
   },
   {
    "duration": 1336,
    "start_time": "2024-02-20T11:14:07.028Z"
   },
   {
    "duration": 8,
    "start_time": "2024-02-20T11:14:08.366Z"
   },
   {
    "duration": 17,
    "start_time": "2024-02-20T11:14:08.376Z"
   },
   {
    "duration": 9,
    "start_time": "2024-02-20T11:14:08.394Z"
   },
   {
    "duration": 6,
    "start_time": "2024-02-20T11:14:08.404Z"
   },
   {
    "duration": 81,
    "start_time": "2024-02-20T11:14:08.412Z"
   },
   {
    "duration": 97,
    "start_time": "2024-02-20T11:14:08.497Z"
   },
   {
    "duration": 96,
    "start_time": "2024-02-20T11:14:08.601Z"
   },
   {
    "duration": 11,
    "start_time": "2024-02-20T11:14:08.699Z"
   },
   {
    "duration": 1524,
    "start_time": "2024-02-20T11:14:20.638Z"
   },
   {
    "duration": 3,
    "start_time": "2024-02-20T11:14:22.166Z"
   },
   {
    "duration": 42,
    "start_time": "2024-02-20T11:14:22.171Z"
   },
   {
    "duration": 43,
    "start_time": "2024-02-20T11:14:22.215Z"
   },
   {
    "duration": 1129,
    "start_time": "2024-02-20T11:14:22.259Z"
   },
   {
    "duration": 128,
    "start_time": "2024-02-20T11:14:23.389Z"
   },
   {
    "duration": 352,
    "start_time": "2024-02-20T11:14:23.518Z"
   },
   {
    "duration": 1380,
    "start_time": "2024-02-20T11:14:23.872Z"
   },
   {
    "duration": 9,
    "start_time": "2024-02-20T11:14:25.254Z"
   },
   {
    "duration": 9,
    "start_time": "2024-02-20T11:14:25.266Z"
   },
   {
    "duration": 11,
    "start_time": "2024-02-20T11:14:25.292Z"
   },
   {
    "duration": 18,
    "start_time": "2024-02-20T11:14:25.305Z"
   },
   {
    "duration": 67,
    "start_time": "2024-02-20T11:14:25.325Z"
   },
   {
    "duration": 100,
    "start_time": "2024-02-20T11:14:25.394Z"
   },
   {
    "duration": 111,
    "start_time": "2024-02-20T11:14:25.496Z"
   },
   {
    "duration": 14,
    "start_time": "2024-02-20T11:14:25.608Z"
   },
   {
    "duration": 1055,
    "start_time": "2024-02-20T11:15:01.874Z"
   },
   {
    "duration": 1034,
    "start_time": "2024-02-20T11:15:08.818Z"
   },
   {
    "duration": 1046,
    "start_time": "2024-02-20T11:18:22.329Z"
   },
   {
    "duration": 1027,
    "start_time": "2024-02-20T11:19:35.460Z"
   },
   {
    "duration": 1561,
    "start_time": "2024-02-20T11:19:50.023Z"
   },
   {
    "duration": 3,
    "start_time": "2024-02-20T11:19:51.591Z"
   },
   {
    "duration": 35,
    "start_time": "2024-02-20T11:19:51.597Z"
   },
   {
    "duration": 40,
    "start_time": "2024-02-20T11:19:51.635Z"
   },
   {
    "duration": 1096,
    "start_time": "2024-02-20T11:19:51.676Z"
   },
   {
    "duration": 148,
    "start_time": "2024-02-20T11:19:52.774Z"
   },
   {
    "duration": 394,
    "start_time": "2024-02-20T11:19:52.924Z"
   },
   {
    "duration": 1459,
    "start_time": "2024-02-20T11:19:53.320Z"
   },
   {
    "duration": 19,
    "start_time": "2024-02-20T11:19:54.781Z"
   },
   {
    "duration": 40,
    "start_time": "2024-02-20T11:19:54.803Z"
   },
   {
    "duration": 28,
    "start_time": "2024-02-20T11:19:54.845Z"
   },
   {
    "duration": 10,
    "start_time": "2024-02-20T11:19:54.875Z"
   },
   {
    "duration": 16,
    "start_time": "2024-02-20T11:19:54.887Z"
   },
   {
    "duration": 94,
    "start_time": "2024-02-20T11:19:54.905Z"
   },
   {
    "duration": 111,
    "start_time": "2024-02-20T11:19:55.002Z"
   },
   {
    "duration": 82,
    "start_time": "2024-02-20T11:19:55.115Z"
   },
   {
    "duration": 877,
    "start_time": "2024-02-20T11:26:29.010Z"
   },
   {
    "duration": 827,
    "start_time": "2024-02-20T11:26:40.683Z"
   },
   {
    "duration": 893,
    "start_time": "2024-02-20T11:26:46.955Z"
   },
   {
    "duration": 984,
    "start_time": "2024-02-20T11:26:53.082Z"
   },
   {
    "duration": 1064,
    "start_time": "2024-02-20T11:30:43.316Z"
   },
   {
    "duration": 1339,
    "start_time": "2024-02-20T11:32:48.771Z"
   },
   {
    "duration": 1334,
    "start_time": "2024-02-20T11:33:55.803Z"
   },
   {
    "duration": 1372,
    "start_time": "2024-02-20T11:34:07.043Z"
   },
   {
    "duration": 1379,
    "start_time": "2024-02-20T11:34:22.852Z"
   },
   {
    "duration": 1476,
    "start_time": "2024-02-20T11:34:52.148Z"
   },
   {
    "duration": 1529,
    "start_time": "2024-02-20T11:35:09.021Z"
   },
   {
    "duration": 4,
    "start_time": "2024-02-20T11:35:10.553Z"
   },
   {
    "duration": 50,
    "start_time": "2024-02-20T11:35:10.559Z"
   },
   {
    "duration": 44,
    "start_time": "2024-02-20T11:35:10.611Z"
   },
   {
    "duration": 1495,
    "start_time": "2024-02-20T11:35:10.657Z"
   },
   {
    "duration": 126,
    "start_time": "2024-02-20T11:35:12.154Z"
   },
   {
    "duration": 379,
    "start_time": "2024-02-20T11:35:12.283Z"
   },
   {
    "duration": 1411,
    "start_time": "2024-02-20T11:35:12.664Z"
   },
   {
    "duration": 26,
    "start_time": "2024-02-20T11:35:14.077Z"
   },
   {
    "duration": 12,
    "start_time": "2024-02-20T11:35:14.105Z"
   },
   {
    "duration": 25,
    "start_time": "2024-02-20T11:35:14.118Z"
   },
   {
    "duration": 23,
    "start_time": "2024-02-20T11:35:14.145Z"
   },
   {
    "duration": 28,
    "start_time": "2024-02-20T11:35:14.170Z"
   },
   {
    "duration": 103,
    "start_time": "2024-02-20T11:35:14.206Z"
   },
   {
    "duration": 12,
    "start_time": "2024-02-20T11:35:14.399Z"
   },
   {
    "duration": 31,
    "start_time": "2024-02-20T11:35:14.413Z"
   },
   {
    "duration": 1435,
    "start_time": "2024-02-20T11:35:47.667Z"
   },
   {
    "duration": 1496,
    "start_time": "2024-02-20T11:35:57.370Z"
   },
   {
    "duration": 1620,
    "start_time": "2024-02-20T11:36:13.518Z"
   },
   {
    "duration": 1466,
    "start_time": "2024-02-20T11:36:23.347Z"
   },
   {
    "duration": 3292,
    "start_time": "2024-02-20T13:18:56.782Z"
   },
   {
    "duration": 3,
    "start_time": "2024-02-20T13:19:00.077Z"
   },
   {
    "duration": 111,
    "start_time": "2024-02-20T13:19:00.082Z"
   },
   {
    "duration": 38,
    "start_time": "2024-02-20T13:19:00.195Z"
   },
   {
    "duration": 1448,
    "start_time": "2024-02-20T13:19:00.235Z"
   },
   {
    "duration": 111,
    "start_time": "2024-02-20T13:19:01.685Z"
   },
   {
    "duration": 335,
    "start_time": "2024-02-20T13:19:01.797Z"
   },
   {
    "duration": 1178,
    "start_time": "2024-02-20T13:19:02.134Z"
   },
   {
    "duration": 7,
    "start_time": "2024-02-20T13:19:03.314Z"
   },
   {
    "duration": 290,
    "start_time": "2024-02-20T13:19:03.323Z"
   },
   {
    "duration": 6,
    "start_time": "2024-02-20T13:19:03.615Z"
   },
   {
    "duration": 8,
    "start_time": "2024-02-20T13:19:03.623Z"
   },
   {
    "duration": 12,
    "start_time": "2024-02-20T13:19:03.633Z"
   },
   {
    "duration": 13,
    "start_time": "2024-02-20T13:19:03.660Z"
   },
   {
    "duration": 102,
    "start_time": "2024-02-20T13:19:03.758Z"
   },
   {
    "duration": 15,
    "start_time": "2024-02-20T13:19:03.861Z"
   },
   {
    "duration": 1579,
    "start_time": "2024-02-20T14:25:22.652Z"
   },
   {
    "duration": 4,
    "start_time": "2024-02-20T14:25:24.235Z"
   },
   {
    "duration": 46,
    "start_time": "2024-02-20T14:25:24.241Z"
   },
   {
    "duration": 130,
    "start_time": "2024-02-20T14:25:24.289Z"
   },
   {
    "duration": 0,
    "start_time": "2024-02-20T14:25:24.421Z"
   },
   {
    "duration": 0,
    "start_time": "2024-02-20T14:25:24.422Z"
   },
   {
    "duration": 0,
    "start_time": "2024-02-20T14:25:24.424Z"
   },
   {
    "duration": 0,
    "start_time": "2024-02-20T14:25:24.425Z"
   },
   {
    "duration": 0,
    "start_time": "2024-02-20T14:25:24.426Z"
   },
   {
    "duration": 0,
    "start_time": "2024-02-20T14:25:24.427Z"
   },
   {
    "duration": 0,
    "start_time": "2024-02-20T14:25:24.428Z"
   },
   {
    "duration": 0,
    "start_time": "2024-02-20T14:25:24.429Z"
   },
   {
    "duration": 0,
    "start_time": "2024-02-20T14:25:24.430Z"
   },
   {
    "duration": 0,
    "start_time": "2024-02-20T14:25:24.431Z"
   },
   {
    "duration": 0,
    "start_time": "2024-02-20T14:25:24.432Z"
   },
   {
    "duration": 0,
    "start_time": "2024-02-20T14:25:24.434Z"
   },
   {
    "duration": 0,
    "start_time": "2024-02-20T14:25:24.435Z"
   },
   {
    "duration": 1618,
    "start_time": "2024-02-20T14:25:41.733Z"
   },
   {
    "duration": 3,
    "start_time": "2024-02-20T14:25:43.355Z"
   },
   {
    "duration": 69,
    "start_time": "2024-02-20T14:25:43.360Z"
   },
   {
    "duration": 137,
    "start_time": "2024-02-20T14:25:43.430Z"
   },
   {
    "duration": 0,
    "start_time": "2024-02-20T14:25:43.569Z"
   },
   {
    "duration": 0,
    "start_time": "2024-02-20T14:25:43.571Z"
   },
   {
    "duration": 0,
    "start_time": "2024-02-20T14:25:43.572Z"
   },
   {
    "duration": 0,
    "start_time": "2024-02-20T14:25:43.573Z"
   },
   {
    "duration": 0,
    "start_time": "2024-02-20T14:25:43.575Z"
   },
   {
    "duration": 0,
    "start_time": "2024-02-20T14:25:43.576Z"
   },
   {
    "duration": 0,
    "start_time": "2024-02-20T14:25:43.577Z"
   },
   {
    "duration": 0,
    "start_time": "2024-02-20T14:25:43.578Z"
   },
   {
    "duration": 0,
    "start_time": "2024-02-20T14:25:43.580Z"
   },
   {
    "duration": 0,
    "start_time": "2024-02-20T14:25:43.581Z"
   },
   {
    "duration": 0,
    "start_time": "2024-02-20T14:25:43.595Z"
   },
   {
    "duration": 0,
    "start_time": "2024-02-20T14:25:43.598Z"
   },
   {
    "duration": 0,
    "start_time": "2024-02-20T14:25:43.602Z"
   },
   {
    "duration": 29203,
    "start_time": "2024-02-20T14:26:12.684Z"
   },
   {
    "duration": 1509,
    "start_time": "2024-02-20T14:26:41.889Z"
   },
   {
    "duration": 3,
    "start_time": "2024-02-20T14:26:43.400Z"
   },
   {
    "duration": 55,
    "start_time": "2024-02-20T14:26:43.405Z"
   },
   {
    "duration": 1212,
    "start_time": "2024-02-20T14:26:43.462Z"
   },
   {
    "duration": 44,
    "start_time": "2024-02-20T14:26:44.675Z"
   },
   {
    "duration": 1423,
    "start_time": "2024-02-20T14:26:44.721Z"
   },
   {
    "duration": 134,
    "start_time": "2024-02-20T14:26:46.145Z"
   },
   {
    "duration": 290,
    "start_time": "2024-02-20T14:26:46.280Z"
   },
   {
    "duration": 1491,
    "start_time": "2024-02-20T14:26:46.573Z"
   },
   {
    "duration": 9,
    "start_time": "2024-02-20T14:26:48.066Z"
   },
   {
    "duration": 19,
    "start_time": "2024-02-20T14:26:48.076Z"
   },
   {
    "duration": 21,
    "start_time": "2024-02-20T14:26:48.097Z"
   },
   {
    "duration": 18,
    "start_time": "2024-02-20T14:26:48.120Z"
   },
   {
    "duration": 57,
    "start_time": "2024-02-20T14:26:48.140Z"
   },
   {
    "duration": 100,
    "start_time": "2024-02-20T14:26:48.199Z"
   },
   {
    "duration": 10,
    "start_time": "2024-02-20T14:26:48.391Z"
   },
   {
    "duration": 27,
    "start_time": "2024-02-20T14:26:48.402Z"
   },
   {
    "duration": 3565,
    "start_time": "2024-02-20T14:27:38.671Z"
   },
   {
    "duration": 1582,
    "start_time": "2024-02-20T14:27:42.239Z"
   },
   {
    "duration": 4,
    "start_time": "2024-02-20T14:27:43.824Z"
   },
   {
    "duration": 49,
    "start_time": "2024-02-20T14:27:43.830Z"
   },
   {
    "duration": 1247,
    "start_time": "2024-02-20T14:27:43.881Z"
   },
   {
    "duration": 43,
    "start_time": "2024-02-20T14:27:45.130Z"
   },
   {
    "duration": 1433,
    "start_time": "2024-02-20T14:27:45.175Z"
   },
   {
    "duration": 125,
    "start_time": "2024-02-20T14:27:46.610Z"
   },
   {
    "duration": 299,
    "start_time": "2024-02-20T14:27:46.737Z"
   },
   {
    "duration": 1467,
    "start_time": "2024-02-20T14:27:47.039Z"
   },
   {
    "duration": 9,
    "start_time": "2024-02-20T14:27:48.508Z"
   },
   {
    "duration": 12,
    "start_time": "2024-02-20T14:27:48.518Z"
   },
   {
    "duration": 26,
    "start_time": "2024-02-20T14:27:48.531Z"
   },
   {
    "duration": 7,
    "start_time": "2024-02-20T14:27:48.558Z"
   },
   {
    "duration": 29,
    "start_time": "2024-02-20T14:27:48.566Z"
   },
   {
    "duration": 98,
    "start_time": "2024-02-20T14:27:48.597Z"
   },
   {
    "duration": 101,
    "start_time": "2024-02-20T14:27:48.697Z"
   },
   {
    "duration": 12,
    "start_time": "2024-02-20T14:27:48.800Z"
   },
   {
    "duration": 7163,
    "start_time": "2024-02-20T14:28:55.584Z"
   },
   {
    "duration": 6257,
    "start_time": "2024-02-20T14:32:15.534Z"
   },
   {
    "duration": 2930,
    "start_time": "2024-02-20T14:34:31.983Z"
   },
   {
    "duration": 7,
    "start_time": "2024-02-20T14:41:02.866Z"
   },
   {
    "duration": 6601,
    "start_time": "2024-02-20T14:41:24.844Z"
   },
   {
    "duration": 3063,
    "start_time": "2024-02-20T14:44:30.339Z"
   },
   {
    "duration": 3536,
    "start_time": "2024-02-20T14:44:33.405Z"
   },
   {
    "duration": 4,
    "start_time": "2024-02-20T14:44:36.943Z"
   },
   {
    "duration": 38,
    "start_time": "2024-02-20T14:44:36.949Z"
   },
   {
    "duration": 47,
    "start_time": "2024-02-20T14:44:36.989Z"
   },
   {
    "duration": 1618,
    "start_time": "2024-02-20T14:44:37.038Z"
   },
   {
    "duration": 121,
    "start_time": "2024-02-20T14:44:38.659Z"
   },
   {
    "duration": 206,
    "start_time": "2024-02-20T14:44:38.782Z"
   },
   {
    "duration": 0,
    "start_time": "2024-02-20T14:44:38.995Z"
   },
   {
    "duration": 0,
    "start_time": "2024-02-20T14:44:38.997Z"
   },
   {
    "duration": 0,
    "start_time": "2024-02-20T14:44:38.998Z"
   },
   {
    "duration": 0,
    "start_time": "2024-02-20T14:44:38.999Z"
   },
   {
    "duration": 0,
    "start_time": "2024-02-20T14:44:38.999Z"
   },
   {
    "duration": 0,
    "start_time": "2024-02-20T14:44:39.000Z"
   },
   {
    "duration": 0,
    "start_time": "2024-02-20T14:44:39.001Z"
   },
   {
    "duration": 0,
    "start_time": "2024-02-20T14:44:39.006Z"
   },
   {
    "duration": 0,
    "start_time": "2024-02-20T14:44:39.008Z"
   },
   {
    "duration": 0,
    "start_time": "2024-02-20T14:44:39.011Z"
   },
   {
    "duration": 0,
    "start_time": "2024-02-20T14:44:39.013Z"
   },
   {
    "duration": 0,
    "start_time": "2024-02-20T14:44:39.015Z"
   },
   {
    "duration": 2871,
    "start_time": "2024-02-20T14:45:21.026Z"
   },
   {
    "duration": 3301,
    "start_time": "2024-02-20T14:45:23.900Z"
   },
   {
    "duration": 4,
    "start_time": "2024-02-20T14:45:27.204Z"
   },
   {
    "duration": 113,
    "start_time": "2024-02-20T14:45:27.210Z"
   },
   {
    "duration": 87,
    "start_time": "2024-02-20T14:45:27.325Z"
   },
   {
    "duration": 1783,
    "start_time": "2024-02-20T14:45:27.413Z"
   },
   {
    "duration": 113,
    "start_time": "2024-02-20T14:45:29.198Z"
   },
   {
    "duration": 9495,
    "start_time": "2024-02-20T14:45:29.312Z"
   },
   {
    "duration": 151,
    "start_time": "2024-02-20T14:45:38.810Z"
   },
   {
    "duration": 314,
    "start_time": "2024-02-20T14:45:38.964Z"
   },
   {
    "duration": 1661,
    "start_time": "2024-02-20T14:45:39.280Z"
   },
   {
    "duration": 7716,
    "start_time": "2024-02-20T14:45:40.943Z"
   },
   {
    "duration": 9,
    "start_time": "2024-02-20T14:45:48.660Z"
   },
   {
    "duration": 26,
    "start_time": "2024-02-20T14:45:48.670Z"
   },
   {
    "duration": 13,
    "start_time": "2024-02-20T14:45:48.697Z"
   },
   {
    "duration": 9,
    "start_time": "2024-02-20T14:45:48.712Z"
   },
   {
    "duration": 73,
    "start_time": "2024-02-20T14:45:48.723Z"
   },
   {
    "duration": 294,
    "start_time": "2024-02-20T14:45:48.798Z"
   },
   {
    "duration": 13,
    "start_time": "2024-02-20T14:45:49.093Z"
   },
   {
    "duration": 89,
    "start_time": "2024-02-20T14:45:49.107Z"
   },
   {
    "duration": 4,
    "start_time": "2024-02-20T17:30:04.960Z"
   },
   {
    "duration": 2764,
    "start_time": "2024-02-20T17:30:20.916Z"
   },
   {
    "duration": 2852,
    "start_time": "2024-02-20T17:30:23.683Z"
   },
   {
    "duration": 3,
    "start_time": "2024-02-20T17:30:26.537Z"
   },
   {
    "duration": 64,
    "start_time": "2024-02-20T17:30:26.542Z"
   },
   {
    "duration": 42,
    "start_time": "2024-02-20T17:30:26.608Z"
   },
   {
    "duration": 1476,
    "start_time": "2024-02-20T17:30:26.652Z"
   },
   {
    "duration": 113,
    "start_time": "2024-02-20T17:30:28.130Z"
   },
   {
    "duration": 9138,
    "start_time": "2024-02-20T17:30:28.245Z"
   },
   {
    "duration": 134,
    "start_time": "2024-02-20T17:30:37.384Z"
   },
   {
    "duration": 306,
    "start_time": "2024-02-20T17:30:37.521Z"
   },
   {
    "duration": 1528,
    "start_time": "2024-02-20T17:30:37.829Z"
   },
   {
    "duration": 7022,
    "start_time": "2024-02-20T17:30:39.359Z"
   },
   {
    "duration": 8,
    "start_time": "2024-02-20T17:30:46.392Z"
   },
   {
    "duration": 19,
    "start_time": "2024-02-20T17:30:46.402Z"
   },
   {
    "duration": 16,
    "start_time": "2024-02-20T17:30:46.423Z"
   },
   {
    "duration": 15,
    "start_time": "2024-02-20T17:30:46.441Z"
   },
   {
    "duration": 35,
    "start_time": "2024-02-20T17:30:46.458Z"
   },
   {
    "duration": 97,
    "start_time": "2024-02-20T17:30:46.496Z"
   },
   {
    "duration": 98,
    "start_time": "2024-02-20T17:30:46.596Z"
   },
   {
    "duration": 106,
    "start_time": "2024-02-20T17:30:46.696Z"
   },
   {
    "duration": 38,
    "start_time": "2024-02-20T17:30:46.803Z"
   },
   {
    "duration": 2703,
    "start_time": "2024-02-20T17:43:42.255Z"
   },
   {
    "duration": 2759,
    "start_time": "2024-02-20T17:43:44.960Z"
   },
   {
    "duration": 4,
    "start_time": "2024-02-20T17:43:47.721Z"
   },
   {
    "duration": 32,
    "start_time": "2024-02-20T17:43:47.727Z"
   },
   {
    "duration": 41,
    "start_time": "2024-02-20T17:43:47.760Z"
   },
   {
    "duration": 1393,
    "start_time": "2024-02-20T17:43:47.803Z"
   },
   {
    "duration": 110,
    "start_time": "2024-02-20T17:43:49.198Z"
   },
   {
    "duration": 9122,
    "start_time": "2024-02-20T17:43:49.310Z"
   },
   {
    "duration": 141,
    "start_time": "2024-02-20T17:43:58.434Z"
   },
   {
    "duration": 301,
    "start_time": "2024-02-20T17:43:58.578Z"
   },
   {
    "duration": 1513,
    "start_time": "2024-02-20T17:43:58.881Z"
   },
   {
    "duration": 7083,
    "start_time": "2024-02-20T17:44:00.395Z"
   },
   {
    "duration": 8,
    "start_time": "2024-02-20T17:44:07.492Z"
   },
   {
    "duration": 13,
    "start_time": "2024-02-20T17:44:07.502Z"
   },
   {
    "duration": 31,
    "start_time": "2024-02-20T17:44:07.516Z"
   },
   {
    "duration": 45,
    "start_time": "2024-02-20T17:44:07.549Z"
   },
   {
    "duration": 23,
    "start_time": "2024-02-20T17:44:07.598Z"
   },
   {
    "duration": 71,
    "start_time": "2024-02-20T17:44:07.623Z"
   },
   {
    "duration": 97,
    "start_time": "2024-02-20T17:44:07.695Z"
   },
   {
    "duration": 194,
    "start_time": "2024-02-20T17:44:07.794Z"
   },
   {
    "duration": 0,
    "start_time": "2024-02-20T17:44:07.990Z"
   },
   {
    "duration": 13,
    "start_time": "2024-02-20T17:44:39.482Z"
   },
   {
    "duration": 2746,
    "start_time": "2024-02-20T17:44:47.512Z"
   },
   {
    "duration": 2789,
    "start_time": "2024-02-20T17:44:50.261Z"
   },
   {
    "duration": 3,
    "start_time": "2024-02-20T17:44:53.051Z"
   },
   {
    "duration": 44,
    "start_time": "2024-02-20T17:44:53.056Z"
   },
   {
    "duration": 41,
    "start_time": "2024-02-20T17:44:53.102Z"
   },
   {
    "duration": 1444,
    "start_time": "2024-02-20T17:44:53.144Z"
   },
   {
    "duration": 101,
    "start_time": "2024-02-20T17:44:54.590Z"
   },
   {
    "duration": 8952,
    "start_time": "2024-02-20T17:44:54.693Z"
   },
   {
    "duration": 139,
    "start_time": "2024-02-20T17:45:03.647Z"
   },
   {
    "duration": 313,
    "start_time": "2024-02-20T17:45:03.791Z"
   },
   {
    "duration": 1518,
    "start_time": "2024-02-20T17:45:04.106Z"
   },
   {
    "duration": 7046,
    "start_time": "2024-02-20T17:45:05.625Z"
   },
   {
    "duration": 18,
    "start_time": "2024-02-20T17:45:12.673Z"
   },
   {
    "duration": 5,
    "start_time": "2024-02-20T17:45:12.695Z"
   },
   {
    "duration": 44,
    "start_time": "2024-02-20T17:45:12.702Z"
   },
   {
    "duration": 6,
    "start_time": "2024-02-20T17:45:12.748Z"
   },
   {
    "duration": 37,
    "start_time": "2024-02-20T17:45:12.755Z"
   },
   {
    "duration": 103,
    "start_time": "2024-02-20T17:45:12.795Z"
   },
   {
    "duration": 16,
    "start_time": "2024-02-20T17:45:12.899Z"
   },
   {
    "duration": 227,
    "start_time": "2024-02-20T17:45:12.916Z"
   },
   {
    "duration": 0,
    "start_time": "2024-02-20T17:45:13.145Z"
   },
   {
    "duration": 2783,
    "start_time": "2024-02-20T17:48:08.831Z"
   },
   {
    "duration": 2669,
    "start_time": "2024-02-20T17:48:11.617Z"
   },
   {
    "duration": 4,
    "start_time": "2024-02-20T17:48:14.288Z"
   },
   {
    "duration": 58,
    "start_time": "2024-02-20T17:48:14.294Z"
   },
   {
    "duration": 52,
    "start_time": "2024-02-20T17:48:14.354Z"
   },
   {
    "duration": 1428,
    "start_time": "2024-02-20T17:48:14.408Z"
   },
   {
    "duration": 109,
    "start_time": "2024-02-20T17:48:15.838Z"
   },
   {
    "duration": 8947,
    "start_time": "2024-02-20T17:48:15.949Z"
   },
   {
    "duration": 135,
    "start_time": "2024-02-20T17:48:24.898Z"
   },
   {
    "duration": 297,
    "start_time": "2024-02-20T17:48:25.036Z"
   },
   {
    "duration": 1473,
    "start_time": "2024-02-20T17:48:25.335Z"
   },
   {
    "duration": 7040,
    "start_time": "2024-02-20T17:48:26.809Z"
   },
   {
    "duration": 8,
    "start_time": "2024-02-20T17:48:33.850Z"
   },
   {
    "duration": 43,
    "start_time": "2024-02-20T17:48:33.860Z"
   },
   {
    "duration": 9,
    "start_time": "2024-02-20T17:48:33.904Z"
   },
   {
    "duration": 6,
    "start_time": "2024-02-20T17:48:33.914Z"
   },
   {
    "duration": 6,
    "start_time": "2024-02-20T17:48:33.921Z"
   },
   {
    "duration": 69,
    "start_time": "2024-02-20T17:48:33.929Z"
   },
   {
    "duration": 97,
    "start_time": "2024-02-20T17:48:34.000Z"
   },
   {
    "duration": 199,
    "start_time": "2024-02-20T17:48:34.098Z"
   },
   {
    "duration": 0,
    "start_time": "2024-02-20T17:48:34.299Z"
   },
   {
    "duration": 15,
    "start_time": "2024-02-20T17:52:41.074Z"
   },
   {
    "duration": 4,
    "start_time": "2024-02-20T17:57:37.748Z"
   },
   {
    "duration": 2895,
    "start_time": "2024-02-20T18:00:14.455Z"
   },
   {
    "duration": 2873,
    "start_time": "2024-02-20T18:00:17.353Z"
   },
   {
    "duration": 3,
    "start_time": "2024-02-20T18:00:20.228Z"
   },
   {
    "duration": 32,
    "start_time": "2024-02-20T18:00:20.233Z"
   },
   {
    "duration": 48,
    "start_time": "2024-02-20T18:00:20.266Z"
   },
   {
    "duration": 1512,
    "start_time": "2024-02-20T18:00:20.316Z"
   },
   {
    "duration": 112,
    "start_time": "2024-02-20T18:00:21.830Z"
   },
   {
    "duration": 9372,
    "start_time": "2024-02-20T18:00:21.944Z"
   },
   {
    "duration": 143,
    "start_time": "2024-02-20T18:00:31.318Z"
   },
   {
    "duration": 304,
    "start_time": "2024-02-20T18:00:31.463Z"
   },
   {
    "duration": 1572,
    "start_time": "2024-02-20T18:00:31.768Z"
   },
   {
    "duration": 7373,
    "start_time": "2024-02-20T18:00:33.342Z"
   },
   {
    "duration": 11,
    "start_time": "2024-02-20T18:00:40.717Z"
   },
   {
    "duration": 74,
    "start_time": "2024-02-20T18:00:40.730Z"
   },
   {
    "duration": 25,
    "start_time": "2024-02-20T18:00:40.806Z"
   },
   {
    "duration": 15,
    "start_time": "2024-02-20T18:00:40.833Z"
   },
   {
    "duration": 28,
    "start_time": "2024-02-20T18:00:40.850Z"
   },
   {
    "duration": 51,
    "start_time": "2024-02-20T18:00:40.880Z"
   },
   {
    "duration": 241,
    "start_time": "2024-02-20T18:00:40.933Z"
   },
   {
    "duration": 0,
    "start_time": "2024-02-20T18:00:41.176Z"
   },
   {
    "duration": 0,
    "start_time": "2024-02-20T18:00:41.178Z"
   },
   {
    "duration": 0,
    "start_time": "2024-02-20T18:00:41.180Z"
   },
   {
    "duration": 2690,
    "start_time": "2024-02-20T18:02:21.452Z"
   },
   {
    "duration": 2685,
    "start_time": "2024-02-20T18:02:24.144Z"
   },
   {
    "duration": 4,
    "start_time": "2024-02-20T18:02:26.835Z"
   },
   {
    "duration": 43,
    "start_time": "2024-02-20T18:02:26.843Z"
   },
   {
    "duration": 40,
    "start_time": "2024-02-20T18:02:26.888Z"
   },
   {
    "duration": 1446,
    "start_time": "2024-02-20T18:02:26.929Z"
   },
   {
    "duration": 101,
    "start_time": "2024-02-20T18:02:28.376Z"
   },
   {
    "duration": 9038,
    "start_time": "2024-02-20T18:02:28.479Z"
   },
   {
    "duration": 142,
    "start_time": "2024-02-20T18:02:37.520Z"
   },
   {
    "duration": 310,
    "start_time": "2024-02-20T18:02:37.664Z"
   },
   {
    "duration": 1494,
    "start_time": "2024-02-20T18:02:37.975Z"
   },
   {
    "duration": 7298,
    "start_time": "2024-02-20T18:02:39.470Z"
   },
   {
    "duration": 23,
    "start_time": "2024-02-20T18:02:46.770Z"
   },
   {
    "duration": 16,
    "start_time": "2024-02-20T18:02:46.795Z"
   },
   {
    "duration": 16,
    "start_time": "2024-02-20T18:02:46.813Z"
   },
   {
    "duration": 7,
    "start_time": "2024-02-20T18:02:46.831Z"
   },
   {
    "duration": 52,
    "start_time": "2024-02-20T18:02:46.840Z"
   },
   {
    "duration": 34,
    "start_time": "2024-02-20T18:02:46.894Z"
   },
   {
    "duration": 20,
    "start_time": "2024-02-20T18:02:46.930Z"
   },
   {
    "duration": 19,
    "start_time": "2024-02-20T18:02:46.952Z"
   },
   {
    "duration": 209,
    "start_time": "2024-02-20T18:02:46.973Z"
   },
   {
    "duration": 0,
    "start_time": "2024-02-20T18:02:47.184Z"
   },
   {
    "duration": 16,
    "start_time": "2024-02-20T18:02:59.550Z"
   },
   {
    "duration": 105,
    "start_time": "2024-02-20T18:12:00.425Z"
   },
   {
    "duration": 4,
    "start_time": "2024-02-20T18:12:53.465Z"
   },
   {
    "duration": 3,
    "start_time": "2024-02-20T18:12:54.601Z"
   },
   {
    "duration": 5,
    "start_time": "2024-02-20T18:12:55.504Z"
   },
   {
    "duration": 2825,
    "start_time": "2024-02-20T18:13:14.096Z"
   },
   {
    "duration": 2675,
    "start_time": "2024-02-20T18:13:16.924Z"
   },
   {
    "duration": 4,
    "start_time": "2024-02-20T18:13:19.600Z"
   },
   {
    "duration": 45,
    "start_time": "2024-02-20T18:13:19.605Z"
   },
   {
    "duration": 51,
    "start_time": "2024-02-20T18:13:19.652Z"
   },
   {
    "duration": 1448,
    "start_time": "2024-02-20T18:13:19.704Z"
   },
   {
    "duration": 132,
    "start_time": "2024-02-20T18:13:21.155Z"
   },
   {
    "duration": 8985,
    "start_time": "2024-02-20T18:13:21.289Z"
   },
   {
    "duration": 137,
    "start_time": "2024-02-20T18:13:30.276Z"
   },
   {
    "duration": 295,
    "start_time": "2024-02-20T18:13:30.415Z"
   },
   {
    "duration": 1547,
    "start_time": "2024-02-20T18:13:30.712Z"
   },
   {
    "duration": 7000,
    "start_time": "2024-02-20T18:13:32.261Z"
   },
   {
    "duration": 8,
    "start_time": "2024-02-20T18:13:39.263Z"
   },
   {
    "duration": 6,
    "start_time": "2024-02-20T18:13:39.291Z"
   },
   {
    "duration": 15,
    "start_time": "2024-02-20T18:13:39.298Z"
   },
   {
    "duration": 15,
    "start_time": "2024-02-20T18:13:39.315Z"
   },
   {
    "duration": 55,
    "start_time": "2024-02-20T18:13:39.331Z"
   },
   {
    "duration": 53,
    "start_time": "2024-02-20T18:13:39.388Z"
   },
   {
    "duration": 16,
    "start_time": "2024-02-20T18:13:39.442Z"
   },
   {
    "duration": 20,
    "start_time": "2024-02-20T18:13:39.459Z"
   },
   {
    "duration": 221,
    "start_time": "2024-02-20T18:13:39.481Z"
   },
   {
    "duration": 0,
    "start_time": "2024-02-20T18:13:39.703Z"
   },
   {
    "duration": 5,
    "start_time": "2024-02-20T18:16:41.020Z"
   },
   {
    "duration": 6,
    "start_time": "2024-02-20T18:16:41.866Z"
   },
   {
    "duration": 4,
    "start_time": "2024-02-20T18:16:44.302Z"
   },
   {
    "duration": 11,
    "start_time": "2024-02-20T18:16:50.476Z"
   },
   {
    "duration": 12,
    "start_time": "2024-02-20T18:16:51.252Z"
   },
   {
    "duration": 15,
    "start_time": "2024-02-20T18:16:52.348Z"
   },
   {
    "duration": 3089,
    "start_time": "2024-02-20T18:17:01.599Z"
   },
   {
    "duration": 2803,
    "start_time": "2024-02-20T18:17:04.692Z"
   },
   {
    "duration": 4,
    "start_time": "2024-02-20T18:17:07.496Z"
   },
   {
    "duration": 42,
    "start_time": "2024-02-20T18:17:07.502Z"
   },
   {
    "duration": 40,
    "start_time": "2024-02-20T18:17:07.546Z"
   },
   {
    "duration": 1461,
    "start_time": "2024-02-20T18:17:07.587Z"
   },
   {
    "duration": 124,
    "start_time": "2024-02-20T18:17:09.050Z"
   },
   {
    "duration": 9101,
    "start_time": "2024-02-20T18:17:09.175Z"
   },
   {
    "duration": 137,
    "start_time": "2024-02-20T18:17:18.278Z"
   },
   {
    "duration": 293,
    "start_time": "2024-02-20T18:17:18.417Z"
   },
   {
    "duration": 1496,
    "start_time": "2024-02-20T18:17:18.712Z"
   },
   {
    "duration": 7199,
    "start_time": "2024-02-20T18:17:20.209Z"
   },
   {
    "duration": 9,
    "start_time": "2024-02-20T18:17:27.410Z"
   },
   {
    "duration": 38,
    "start_time": "2024-02-20T18:17:27.421Z"
   },
   {
    "duration": 7,
    "start_time": "2024-02-20T18:17:27.493Z"
   },
   {
    "duration": 36,
    "start_time": "2024-02-20T18:17:27.503Z"
   },
   {
    "duration": 33,
    "start_time": "2024-02-20T18:17:27.540Z"
   },
   {
    "duration": 32,
    "start_time": "2024-02-20T18:17:27.576Z"
   },
   {
    "duration": 83,
    "start_time": "2024-02-20T18:17:27.610Z"
   },
   {
    "duration": 20,
    "start_time": "2024-02-20T18:17:27.695Z"
   },
   {
    "duration": 216,
    "start_time": "2024-02-20T18:17:27.717Z"
   },
   {
    "duration": 0,
    "start_time": "2024-02-20T18:17:27.936Z"
   },
   {
    "duration": 2830,
    "start_time": "2024-02-20T18:18:14.252Z"
   },
   {
    "duration": 2743,
    "start_time": "2024-02-20T18:18:17.085Z"
   },
   {
    "duration": 3,
    "start_time": "2024-02-20T18:18:19.831Z"
   },
   {
    "duration": 35,
    "start_time": "2024-02-20T18:18:19.837Z"
   },
   {
    "duration": 54,
    "start_time": "2024-02-20T18:18:19.874Z"
   },
   {
    "duration": 1502,
    "start_time": "2024-02-20T18:18:19.930Z"
   },
   {
    "duration": 103,
    "start_time": "2024-02-20T18:18:21.434Z"
   },
   {
    "duration": 9105,
    "start_time": "2024-02-20T18:18:21.539Z"
   },
   {
    "duration": 134,
    "start_time": "2024-02-20T18:18:30.645Z"
   },
   {
    "duration": 295,
    "start_time": "2024-02-20T18:18:30.781Z"
   },
   {
    "duration": 1594,
    "start_time": "2024-02-20T18:18:31.078Z"
   },
   {
    "duration": 7445,
    "start_time": "2024-02-20T18:18:32.674Z"
   },
   {
    "duration": 8,
    "start_time": "2024-02-20T18:18:40.120Z"
   },
   {
    "duration": 10,
    "start_time": "2024-02-20T18:18:40.130Z"
   },
   {
    "duration": 9,
    "start_time": "2024-02-20T18:18:40.142Z"
   },
   {
    "duration": 39,
    "start_time": "2024-02-20T18:18:40.153Z"
   },
   {
    "duration": 10,
    "start_time": "2024-02-20T18:18:40.193Z"
   },
   {
    "duration": 88,
    "start_time": "2024-02-20T18:18:40.205Z"
   },
   {
    "duration": 11,
    "start_time": "2024-02-20T18:18:40.295Z"
   },
   {
    "duration": 94,
    "start_time": "2024-02-20T18:18:40.308Z"
   },
   {
    "duration": 14,
    "start_time": "2024-02-20T18:18:40.404Z"
   },
   {
    "duration": 344,
    "start_time": "2024-02-20T18:18:40.420Z"
   },
   {
    "duration": 9,
    "start_time": "2024-02-20T18:19:50.540Z"
   },
   {
    "duration": 2789,
    "start_time": "2024-02-20T18:20:26.365Z"
   },
   {
    "duration": 2811,
    "start_time": "2024-02-20T18:20:29.157Z"
   },
   {
    "duration": 4,
    "start_time": "2024-02-20T18:20:31.970Z"
   },
   {
    "duration": 67,
    "start_time": "2024-02-20T18:20:31.976Z"
   },
   {
    "duration": 67,
    "start_time": "2024-02-20T18:20:32.045Z"
   },
   {
    "duration": 1438,
    "start_time": "2024-02-20T18:20:32.114Z"
   },
   {
    "duration": 105,
    "start_time": "2024-02-20T18:20:33.554Z"
   },
   {
    "duration": 9388,
    "start_time": "2024-02-20T18:20:33.661Z"
   },
   {
    "duration": 146,
    "start_time": "2024-02-20T18:20:43.050Z"
   },
   {
    "duration": 312,
    "start_time": "2024-02-20T18:20:43.200Z"
   },
   {
    "duration": 1544,
    "start_time": "2024-02-20T18:20:43.514Z"
   },
   {
    "duration": 7141,
    "start_time": "2024-02-20T18:20:45.060Z"
   },
   {
    "duration": 9,
    "start_time": "2024-02-20T18:20:52.203Z"
   },
   {
    "duration": 38,
    "start_time": "2024-02-20T18:20:52.214Z"
   },
   {
    "duration": 38,
    "start_time": "2024-02-20T18:20:52.254Z"
   },
   {
    "duration": 23,
    "start_time": "2024-02-20T18:20:52.294Z"
   },
   {
    "duration": 44,
    "start_time": "2024-02-20T18:20:52.319Z"
   },
   {
    "duration": 37,
    "start_time": "2024-02-20T18:20:52.365Z"
   },
   {
    "duration": 14,
    "start_time": "2024-02-20T18:20:52.405Z"
   },
   {
    "duration": 10,
    "start_time": "2024-02-20T18:20:52.492Z"
   },
   {
    "duration": 40,
    "start_time": "2024-02-20T18:20:52.504Z"
   },
   {
    "duration": 51,
    "start_time": "2024-02-20T18:20:52.545Z"
   },
   {
    "duration": 2824,
    "start_time": "2024-02-20T18:29:25.642Z"
   },
   {
    "duration": 2809,
    "start_time": "2024-02-20T18:29:28.468Z"
   },
   {
    "duration": 5,
    "start_time": "2024-02-20T18:29:31.280Z"
   },
   {
    "duration": 223,
    "start_time": "2024-02-20T18:29:31.291Z"
   },
   {
    "duration": 191,
    "start_time": "2024-02-20T18:29:31.515Z"
   },
   {
    "duration": 1556,
    "start_time": "2024-02-20T18:29:31.708Z"
   },
   {
    "duration": 109,
    "start_time": "2024-02-20T18:29:33.266Z"
   },
   {
    "duration": 9385,
    "start_time": "2024-02-20T18:29:33.376Z"
   },
   {
    "duration": 138,
    "start_time": "2024-02-20T18:29:42.763Z"
   },
   {
    "duration": 296,
    "start_time": "2024-02-20T18:29:42.903Z"
   },
   {
    "duration": 1609,
    "start_time": "2024-02-20T18:29:43.201Z"
   },
   {
    "duration": 7633,
    "start_time": "2024-02-20T18:29:44.811Z"
   },
   {
    "duration": 11,
    "start_time": "2024-02-20T18:29:52.446Z"
   },
   {
    "duration": 66,
    "start_time": "2024-02-20T18:29:52.458Z"
   },
   {
    "duration": 43,
    "start_time": "2024-02-20T18:29:52.526Z"
   },
   {
    "duration": 14,
    "start_time": "2024-02-20T18:29:52.572Z"
   },
   {
    "duration": 34,
    "start_time": "2024-02-20T18:29:52.588Z"
   },
   {
    "duration": 72,
    "start_time": "2024-02-20T18:29:52.625Z"
   },
   {
    "duration": 96,
    "start_time": "2024-02-20T18:29:52.701Z"
   },
   {
    "duration": 74,
    "start_time": "2024-02-20T18:29:52.799Z"
   },
   {
    "duration": 49,
    "start_time": "2024-02-20T18:29:52.875Z"
   },
   {
    "duration": 53,
    "start_time": "2024-02-20T18:29:52.926Z"
   },
   {
    "duration": 379,
    "start_time": "2024-02-20T18:36:24.823Z"
   },
   {
    "duration": 21,
    "start_time": "2024-02-20T18:36:50.738Z"
   },
   {
    "duration": 23,
    "start_time": "2024-02-20T18:37:21.111Z"
   },
   {
    "duration": 10,
    "start_time": "2024-02-20T18:37:24.384Z"
   },
   {
    "duration": 10,
    "start_time": "2024-02-20T18:37:27.216Z"
   },
   {
    "duration": 12,
    "start_time": "2024-02-20T18:37:27.807Z"
   },
   {
    "duration": 11,
    "start_time": "2024-02-20T18:52:12.081Z"
   },
   {
    "duration": 81,
    "start_time": "2024-02-20T18:55:12.425Z"
   },
   {
    "duration": 11,
    "start_time": "2024-02-20T18:55:23.632Z"
   },
   {
    "duration": 9,
    "start_time": "2024-02-20T18:55:37.568Z"
   },
   {
    "duration": 11,
    "start_time": "2024-02-20T18:55:41.712Z"
   },
   {
    "duration": 84,
    "start_time": "2024-02-20T18:55:42.208Z"
   },
   {
    "duration": 3174,
    "start_time": "2024-02-20T18:56:54.761Z"
   },
   {
    "duration": 3186,
    "start_time": "2024-02-20T18:56:57.938Z"
   },
   {
    "duration": 4,
    "start_time": "2024-02-20T18:57:01.126Z"
   },
   {
    "duration": 98,
    "start_time": "2024-02-20T18:57:01.132Z"
   },
   {
    "duration": 111,
    "start_time": "2024-02-20T18:57:01.232Z"
   },
   {
    "duration": 1883,
    "start_time": "2024-02-20T18:57:01.345Z"
   },
   {
    "duration": 197,
    "start_time": "2024-02-20T18:57:03.230Z"
   },
   {
    "duration": 11759,
    "start_time": "2024-02-20T18:57:03.429Z"
   },
   {
    "duration": 163,
    "start_time": "2024-02-20T18:57:15.190Z"
   },
   {
    "duration": 336,
    "start_time": "2024-02-20T18:57:15.356Z"
   },
   {
    "duration": 1968,
    "start_time": "2024-02-20T18:57:15.694Z"
   },
   {
    "duration": 8327,
    "start_time": "2024-02-20T18:57:17.665Z"
   },
   {
    "duration": 10,
    "start_time": "2024-02-20T18:57:25.994Z"
   },
   {
    "duration": 13,
    "start_time": "2024-02-20T18:57:26.006Z"
   },
   {
    "duration": 24,
    "start_time": "2024-02-20T18:57:26.021Z"
   },
   {
    "duration": 4,
    "start_time": "2024-02-20T18:57:26.092Z"
   },
   {
    "duration": 2833,
    "start_time": "2024-02-20T19:06:50.484Z"
   },
   {
    "duration": 2766,
    "start_time": "2024-02-20T19:06:53.319Z"
   },
   {
    "duration": 5,
    "start_time": "2024-02-20T19:06:56.087Z"
   },
   {
    "duration": 42,
    "start_time": "2024-02-20T19:06:56.094Z"
   },
   {
    "duration": 44,
    "start_time": "2024-02-20T19:06:56.138Z"
   },
   {
    "duration": 1544,
    "start_time": "2024-02-20T19:06:56.184Z"
   },
   {
    "duration": 108,
    "start_time": "2024-02-20T19:06:57.729Z"
   },
   {
    "duration": 9664,
    "start_time": "2024-02-20T19:06:57.839Z"
   },
   {
    "duration": 164,
    "start_time": "2024-02-20T19:07:07.506Z"
   },
   {
    "duration": 323,
    "start_time": "2024-02-20T19:07:07.672Z"
   },
   {
    "duration": 1771,
    "start_time": "2024-02-20T19:07:07.997Z"
   },
   {
    "duration": 7313,
    "start_time": "2024-02-20T19:07:09.770Z"
   },
   {
    "duration": 9,
    "start_time": "2024-02-20T19:07:17.092Z"
   },
   {
    "duration": 11,
    "start_time": "2024-02-20T19:07:17.103Z"
   },
   {
    "duration": 8,
    "start_time": "2024-02-20T19:07:17.115Z"
   },
   {
    "duration": 5,
    "start_time": "2024-02-20T19:07:17.126Z"
   },
   {
    "duration": 2717,
    "start_time": "2024-02-20T19:08:32.169Z"
   },
   {
    "duration": 2738,
    "start_time": "2024-02-20T19:08:34.888Z"
   },
   {
    "duration": 3,
    "start_time": "2024-02-20T19:08:37.628Z"
   },
   {
    "duration": 33,
    "start_time": "2024-02-20T19:08:37.633Z"
   },
   {
    "duration": 40,
    "start_time": "2024-02-20T19:08:37.667Z"
   },
   {
    "duration": 1440,
    "start_time": "2024-02-20T19:08:37.708Z"
   },
   {
    "duration": 104,
    "start_time": "2024-02-20T19:08:39.149Z"
   },
   {
    "duration": 9101,
    "start_time": "2024-02-20T19:08:39.255Z"
   },
   {
    "duration": 143,
    "start_time": "2024-02-20T19:08:48.357Z"
   },
   {
    "duration": 298,
    "start_time": "2024-02-20T19:08:48.503Z"
   },
   {
    "duration": 1677,
    "start_time": "2024-02-20T19:08:48.803Z"
   },
   {
    "duration": 7081,
    "start_time": "2024-02-20T19:08:50.482Z"
   },
   {
    "duration": 26,
    "start_time": "2024-02-20T19:08:57.565Z"
   },
   {
    "duration": 7,
    "start_time": "2024-02-20T19:08:57.593Z"
   },
   {
    "duration": 6,
    "start_time": "2024-02-20T19:08:57.603Z"
   },
   {
    "duration": 13,
    "start_time": "2024-02-20T19:08:57.610Z"
   },
   {
    "duration": 50,
    "start_time": "2024-02-20T19:11:01.835Z"
   },
   {
    "duration": 2882,
    "start_time": "2024-02-20T19:12:07.030Z"
   },
   {
    "duration": 2880,
    "start_time": "2024-02-20T19:12:09.915Z"
   },
   {
    "duration": 4,
    "start_time": "2024-02-20T19:12:12.797Z"
   },
   {
    "duration": 64,
    "start_time": "2024-02-20T19:12:12.803Z"
   },
   {
    "duration": 147,
    "start_time": "2024-02-20T19:12:12.870Z"
   },
   {
    "duration": 1493,
    "start_time": "2024-02-20T19:12:13.019Z"
   },
   {
    "duration": 105,
    "start_time": "2024-02-20T19:12:14.514Z"
   },
   {
    "duration": 10010,
    "start_time": "2024-02-20T19:12:14.621Z"
   },
   {
    "duration": 154,
    "start_time": "2024-02-20T19:12:24.633Z"
   },
   {
    "duration": 358,
    "start_time": "2024-02-20T19:12:24.791Z"
   },
   {
    "duration": 1641,
    "start_time": "2024-02-20T19:12:25.151Z"
   },
   {
    "duration": 7410,
    "start_time": "2024-02-20T19:12:26.794Z"
   },
   {
    "duration": 10,
    "start_time": "2024-02-20T19:12:34.206Z"
   },
   {
    "duration": 19,
    "start_time": "2024-02-20T19:12:34.220Z"
   },
   {
    "duration": 6,
    "start_time": "2024-02-20T19:12:34.241Z"
   },
   {
    "duration": 5,
    "start_time": "2024-02-20T19:12:34.291Z"
   },
   {
    "duration": 2914,
    "start_time": "2024-02-20T19:29:04.786Z"
   },
   {
    "duration": 2975,
    "start_time": "2024-02-20T19:29:07.704Z"
   },
   {
    "duration": 4,
    "start_time": "2024-02-20T19:29:10.681Z"
   },
   {
    "duration": 30,
    "start_time": "2024-02-20T19:29:10.695Z"
   },
   {
    "duration": 42,
    "start_time": "2024-02-20T19:29:10.727Z"
   },
   {
    "duration": 1780,
    "start_time": "2024-02-20T19:29:10.771Z"
   },
   {
    "duration": 0,
    "start_time": "2024-02-20T19:29:12.555Z"
   },
   {
    "duration": 0,
    "start_time": "2024-02-20T19:29:12.556Z"
   },
   {
    "duration": 0,
    "start_time": "2024-02-20T19:29:12.558Z"
   },
   {
    "duration": 0,
    "start_time": "2024-02-20T19:29:12.559Z"
   },
   {
    "duration": 0,
    "start_time": "2024-02-20T19:29:12.561Z"
   },
   {
    "duration": 0,
    "start_time": "2024-02-20T19:29:12.563Z"
   },
   {
    "duration": 0,
    "start_time": "2024-02-20T19:29:12.564Z"
   },
   {
    "duration": 0,
    "start_time": "2024-02-20T19:29:12.565Z"
   },
   {
    "duration": 0,
    "start_time": "2024-02-20T19:29:12.566Z"
   },
   {
    "duration": 0,
    "start_time": "2024-02-20T19:29:12.568Z"
   },
   {
    "duration": 0,
    "start_time": "2024-02-20T19:29:12.568Z"
   },
   {
    "duration": 0,
    "start_time": "2024-02-20T19:29:12.592Z"
   },
   {
    "duration": 0,
    "start_time": "2024-02-20T19:29:12.600Z"
   },
   {
    "duration": 0,
    "start_time": "2024-02-20T19:29:12.604Z"
   },
   {
    "duration": 0,
    "start_time": "2024-02-20T19:29:12.607Z"
   },
   {
    "duration": 0,
    "start_time": "2024-02-20T19:29:12.609Z"
   },
   {
    "duration": 3006,
    "start_time": "2024-02-20T19:29:38.942Z"
   },
   {
    "duration": 2836,
    "start_time": "2024-02-20T19:29:41.951Z"
   },
   {
    "duration": 5,
    "start_time": "2024-02-20T19:29:44.797Z"
   },
   {
    "duration": 37,
    "start_time": "2024-02-20T19:29:44.804Z"
   },
   {
    "duration": 43,
    "start_time": "2024-02-20T19:29:44.843Z"
   },
   {
    "duration": 1560,
    "start_time": "2024-02-20T19:29:44.888Z"
   },
   {
    "duration": 115,
    "start_time": "2024-02-20T19:29:46.450Z"
   },
   {
    "duration": 9800,
    "start_time": "2024-02-20T19:29:46.566Z"
   },
   {
    "duration": 139,
    "start_time": "2024-02-20T19:29:56.369Z"
   },
   {
    "duration": 318,
    "start_time": "2024-02-20T19:29:56.510Z"
   },
   {
    "duration": 1611,
    "start_time": "2024-02-20T19:29:56.830Z"
   },
   {
    "duration": 7789,
    "start_time": "2024-02-20T19:29:58.443Z"
   },
   {
    "duration": 8,
    "start_time": "2024-02-20T19:30:06.234Z"
   },
   {
    "duration": 8,
    "start_time": "2024-02-20T19:30:06.244Z"
   },
   {
    "duration": 42,
    "start_time": "2024-02-20T19:30:06.253Z"
   },
   {
    "duration": 16,
    "start_time": "2024-02-20T19:30:06.297Z"
   },
   {
    "duration": 2976,
    "start_time": "2024-02-20T19:31:09.136Z"
   },
   {
    "duration": 2948,
    "start_time": "2024-02-20T19:31:12.115Z"
   },
   {
    "duration": 3,
    "start_time": "2024-02-20T19:31:15.065Z"
   },
   {
    "duration": 79,
    "start_time": "2024-02-20T19:31:15.071Z"
   },
   {
    "duration": 46,
    "start_time": "2024-02-20T19:31:15.152Z"
   },
   {
    "duration": 1591,
    "start_time": "2024-02-20T19:31:15.201Z"
   },
   {
    "duration": 137,
    "start_time": "2024-02-20T19:31:16.795Z"
   },
   {
    "duration": 9810,
    "start_time": "2024-02-20T19:31:16.934Z"
   },
   {
    "duration": 156,
    "start_time": "2024-02-20T19:31:26.746Z"
   },
   {
    "duration": 289,
    "start_time": "2024-02-20T19:31:26.905Z"
   },
   {
    "duration": 1522,
    "start_time": "2024-02-20T19:31:27.195Z"
   },
   {
    "duration": 7685,
    "start_time": "2024-02-20T19:31:28.720Z"
   },
   {
    "duration": 11,
    "start_time": "2024-02-20T19:31:36.408Z"
   },
   {
    "duration": 10,
    "start_time": "2024-02-20T19:31:36.421Z"
   },
   {
    "duration": 18,
    "start_time": "2024-02-20T19:31:36.433Z"
   },
   {
    "duration": 6,
    "start_time": "2024-02-20T19:31:36.493Z"
   },
   {
    "duration": 2706,
    "start_time": "2024-02-20T19:32:41.294Z"
   },
   {
    "duration": 2764,
    "start_time": "2024-02-20T19:32:44.002Z"
   },
   {
    "duration": 4,
    "start_time": "2024-02-20T19:32:46.771Z"
   },
   {
    "duration": 57,
    "start_time": "2024-02-20T19:32:46.776Z"
   },
   {
    "duration": 47,
    "start_time": "2024-02-20T19:32:46.835Z"
   },
   {
    "duration": 1456,
    "start_time": "2024-02-20T19:32:46.884Z"
   },
   {
    "duration": 114,
    "start_time": "2024-02-20T19:32:48.342Z"
   },
   {
    "duration": 9170,
    "start_time": "2024-02-20T19:32:48.458Z"
   },
   {
    "duration": 138,
    "start_time": "2024-02-20T19:32:57.632Z"
   },
   {
    "duration": 307,
    "start_time": "2024-02-20T19:32:57.771Z"
   },
   {
    "duration": 1535,
    "start_time": "2024-02-20T19:32:58.080Z"
   },
   {
    "duration": 7276,
    "start_time": "2024-02-20T19:32:59.617Z"
   },
   {
    "duration": 8,
    "start_time": "2024-02-20T19:33:06.894Z"
   },
   {
    "duration": 26,
    "start_time": "2024-02-20T19:33:06.904Z"
   },
   {
    "duration": 12,
    "start_time": "2024-02-20T19:33:06.931Z"
   },
   {
    "duration": 23,
    "start_time": "2024-02-20T19:33:06.945Z"
   },
   {
    "duration": 10,
    "start_time": "2024-02-20T19:33:06.991Z"
   },
   {
    "duration": 10,
    "start_time": "2024-02-20T19:33:07.002Z"
   },
   {
    "duration": 80,
    "start_time": "2024-02-20T19:33:07.013Z"
   },
   {
    "duration": 101,
    "start_time": "2024-02-20T19:33:07.095Z"
   },
   {
    "duration": 10,
    "start_time": "2024-02-20T19:33:07.198Z"
   },
   {
    "duration": 354,
    "start_time": "2024-02-20T19:33:07.210Z"
   },
   {
    "duration": 11,
    "start_time": "2024-02-20T19:33:15.787Z"
   },
   {
    "duration": 87,
    "start_time": "2024-02-21T05:06:33.156Z"
   },
   {
    "duration": 3375,
    "start_time": "2024-02-21T07:04:28.224Z"
   },
   {
    "duration": 1413,
    "start_time": "2024-02-21T07:04:31.601Z"
   },
   {
    "duration": 0,
    "start_time": "2024-02-21T07:04:33.017Z"
   },
   {
    "duration": 0,
    "start_time": "2024-02-21T07:04:33.019Z"
   },
   {
    "duration": 0,
    "start_time": "2024-02-21T07:04:33.020Z"
   },
   {
    "duration": 0,
    "start_time": "2024-02-21T07:04:33.020Z"
   },
   {
    "duration": 0,
    "start_time": "2024-02-21T07:04:33.022Z"
   },
   {
    "duration": 0,
    "start_time": "2024-02-21T07:04:33.023Z"
   },
   {
    "duration": 0,
    "start_time": "2024-02-21T07:04:33.024Z"
   },
   {
    "duration": 0,
    "start_time": "2024-02-21T07:04:33.024Z"
   },
   {
    "duration": 0,
    "start_time": "2024-02-21T07:04:33.025Z"
   },
   {
    "duration": 0,
    "start_time": "2024-02-21T07:04:33.027Z"
   },
   {
    "duration": 0,
    "start_time": "2024-02-21T07:04:33.028Z"
   },
   {
    "duration": 0,
    "start_time": "2024-02-21T07:04:33.029Z"
   },
   {
    "duration": 0,
    "start_time": "2024-02-21T07:04:33.029Z"
   },
   {
    "duration": 0,
    "start_time": "2024-02-21T07:04:33.030Z"
   },
   {
    "duration": 0,
    "start_time": "2024-02-21T07:04:33.031Z"
   },
   {
    "duration": 0,
    "start_time": "2024-02-21T07:04:33.032Z"
   },
   {
    "duration": 0,
    "start_time": "2024-02-21T07:04:33.033Z"
   },
   {
    "duration": 0,
    "start_time": "2024-02-21T07:04:33.035Z"
   },
   {
    "duration": 0,
    "start_time": "2024-02-21T07:04:33.036Z"
   },
   {
    "duration": 0,
    "start_time": "2024-02-21T07:04:33.037Z"
   },
   {
    "duration": 2320,
    "start_time": "2024-02-21T09:26:36.339Z"
   },
   {
    "duration": 1588,
    "start_time": "2024-02-21T09:26:38.661Z"
   },
   {
    "duration": 0,
    "start_time": "2024-02-21T09:26:40.251Z"
   },
   {
    "duration": 0,
    "start_time": "2024-02-21T09:26:40.252Z"
   },
   {
    "duration": 0,
    "start_time": "2024-02-21T09:26:40.253Z"
   },
   {
    "duration": 0,
    "start_time": "2024-02-21T09:26:40.254Z"
   },
   {
    "duration": 0,
    "start_time": "2024-02-21T09:26:40.255Z"
   },
   {
    "duration": 0,
    "start_time": "2024-02-21T09:26:40.256Z"
   },
   {
    "duration": 0,
    "start_time": "2024-02-21T09:26:40.257Z"
   },
   {
    "duration": 0,
    "start_time": "2024-02-21T09:26:40.258Z"
   },
   {
    "duration": 0,
    "start_time": "2024-02-21T09:26:40.259Z"
   },
   {
    "duration": 0,
    "start_time": "2024-02-21T09:26:40.260Z"
   },
   {
    "duration": 0,
    "start_time": "2024-02-21T09:26:40.261Z"
   },
   {
    "duration": 0,
    "start_time": "2024-02-21T09:26:40.262Z"
   },
   {
    "duration": 0,
    "start_time": "2024-02-21T09:26:40.263Z"
   },
   {
    "duration": 0,
    "start_time": "2024-02-21T09:26:40.318Z"
   },
   {
    "duration": 0,
    "start_time": "2024-02-21T09:26:40.320Z"
   },
   {
    "duration": 0,
    "start_time": "2024-02-21T09:26:40.321Z"
   },
   {
    "duration": 0,
    "start_time": "2024-02-21T09:26:40.322Z"
   },
   {
    "duration": 0,
    "start_time": "2024-02-21T09:26:40.323Z"
   },
   {
    "duration": 0,
    "start_time": "2024-02-21T09:26:40.324Z"
   },
   {
    "duration": 0,
    "start_time": "2024-02-21T09:26:40.325Z"
   },
   {
    "duration": 0,
    "start_time": "2024-02-21T09:26:40.326Z"
   },
   {
    "duration": 2381,
    "start_time": "2024-02-21T09:27:02.438Z"
   },
   {
    "duration": 24527,
    "start_time": "2024-02-21T09:27:04.821Z"
   },
   {
    "duration": 1197,
    "start_time": "2024-02-21T09:27:29.350Z"
   },
   {
    "duration": 0,
    "start_time": "2024-02-21T09:27:30.549Z"
   },
   {
    "duration": 0,
    "start_time": "2024-02-21T09:27:30.551Z"
   },
   {
    "duration": 0,
    "start_time": "2024-02-21T09:27:30.552Z"
   },
   {
    "duration": 0,
    "start_time": "2024-02-21T09:27:30.554Z"
   },
   {
    "duration": 0,
    "start_time": "2024-02-21T09:27:30.556Z"
   },
   {
    "duration": 0,
    "start_time": "2024-02-21T09:27:30.557Z"
   },
   {
    "duration": 0,
    "start_time": "2024-02-21T09:27:30.559Z"
   },
   {
    "duration": 0,
    "start_time": "2024-02-21T09:27:30.560Z"
   },
   {
    "duration": 0,
    "start_time": "2024-02-21T09:27:30.562Z"
   },
   {
    "duration": 0,
    "start_time": "2024-02-21T09:27:30.564Z"
   },
   {
    "duration": 0,
    "start_time": "2024-02-21T09:27:30.565Z"
   },
   {
    "duration": 0,
    "start_time": "2024-02-21T09:27:30.566Z"
   },
   {
    "duration": 0,
    "start_time": "2024-02-21T09:27:30.568Z"
   },
   {
    "duration": 0,
    "start_time": "2024-02-21T09:27:30.569Z"
   },
   {
    "duration": 0,
    "start_time": "2024-02-21T09:27:30.571Z"
   },
   {
    "duration": 0,
    "start_time": "2024-02-21T09:27:30.573Z"
   },
   {
    "duration": 0,
    "start_time": "2024-02-21T09:27:30.574Z"
   },
   {
    "duration": 0,
    "start_time": "2024-02-21T09:27:30.576Z"
   },
   {
    "duration": 0,
    "start_time": "2024-02-21T09:27:30.618Z"
   },
   {
    "duration": 0,
    "start_time": "2024-02-21T09:27:30.620Z"
   },
   {
    "duration": 0,
    "start_time": "2024-02-21T09:27:30.621Z"
   },
   {
    "duration": 2373,
    "start_time": "2024-02-21T09:29:50.407Z"
   },
   {
    "duration": 2481,
    "start_time": "2024-02-21T09:29:52.782Z"
   },
   {
    "duration": 4,
    "start_time": "2024-02-21T09:29:55.264Z"
   },
   {
    "duration": 99,
    "start_time": "2024-02-21T09:29:55.271Z"
   },
   {
    "duration": 36,
    "start_time": "2024-02-21T09:29:55.371Z"
   },
   {
    "duration": 1294,
    "start_time": "2024-02-21T09:29:55.409Z"
   },
   {
    "duration": 90,
    "start_time": "2024-02-21T09:29:56.704Z"
   },
   {
    "duration": 97,
    "start_time": "2024-02-21T09:29:56.796Z"
   },
   {
    "duration": 7785,
    "start_time": "2024-02-21T09:29:56.895Z"
   },
   {
    "duration": 131,
    "start_time": "2024-02-21T09:30:04.683Z"
   },
   {
    "duration": 255,
    "start_time": "2024-02-21T09:30:04.815Z"
   },
   {
    "duration": 1321,
    "start_time": "2024-02-21T09:30:05.072Z"
   },
   {
    "duration": 6340,
    "start_time": "2024-02-21T09:30:06.394Z"
   },
   {
    "duration": 7,
    "start_time": "2024-02-21T09:30:12.736Z"
   },
   {
    "duration": 5,
    "start_time": "2024-02-21T09:30:12.745Z"
   },
   {
    "duration": 5,
    "start_time": "2024-02-21T09:30:12.751Z"
   },
   {
    "duration": 5,
    "start_time": "2024-02-21T09:30:12.758Z"
   },
   {
    "duration": 54,
    "start_time": "2024-02-21T09:30:12.764Z"
   },
   {
    "duration": 5,
    "start_time": "2024-02-21T09:30:12.820Z"
   },
   {
    "duration": 95,
    "start_time": "2024-02-21T09:30:12.827Z"
   },
   {
    "duration": 13,
    "start_time": "2024-02-21T09:30:12.923Z"
   },
   {
    "duration": 15,
    "start_time": "2024-02-21T09:30:12.937Z"
   },
   {
    "duration": 17,
    "start_time": "2024-02-21T09:30:12.954Z"
   },
   {
    "duration": 160,
    "start_time": "2024-02-21T09:36:35.867Z"
   },
   {
    "duration": 166,
    "start_time": "2024-02-21T09:38:20.107Z"
   },
   {
    "duration": 434,
    "start_time": "2024-02-21T09:38:35.401Z"
   },
   {
    "duration": 86,
    "start_time": "2024-02-21T09:39:08.610Z"
   },
   {
    "duration": 2327,
    "start_time": "2024-02-21T09:39:15.837Z"
   },
   {
    "duration": 2376,
    "start_time": "2024-02-21T09:39:18.167Z"
   },
   {
    "duration": 4,
    "start_time": "2024-02-21T09:39:20.544Z"
   },
   {
    "duration": 39,
    "start_time": "2024-02-21T09:39:20.549Z"
   },
   {
    "duration": 36,
    "start_time": "2024-02-21T09:39:20.589Z"
   },
   {
    "duration": 1305,
    "start_time": "2024-02-21T09:39:20.626Z"
   },
   {
    "duration": 108,
    "start_time": "2024-02-21T09:39:21.933Z"
   },
   {
    "duration": 88,
    "start_time": "2024-02-21T09:39:22.042Z"
   },
   {
    "duration": 7796,
    "start_time": "2024-02-21T09:39:22.132Z"
   },
   {
    "duration": 114,
    "start_time": "2024-02-21T09:39:29.930Z"
   },
   {
    "duration": 249,
    "start_time": "2024-02-21T09:39:30.046Z"
   },
   {
    "duration": 1304,
    "start_time": "2024-02-21T09:39:30.296Z"
   },
   {
    "duration": 6232,
    "start_time": "2024-02-21T09:39:31.602Z"
   },
   {
    "duration": 7,
    "start_time": "2024-02-21T09:39:37.835Z"
   },
   {
    "duration": 4,
    "start_time": "2024-02-21T09:39:37.844Z"
   },
   {
    "duration": 5,
    "start_time": "2024-02-21T09:39:37.849Z"
   },
   {
    "duration": 3,
    "start_time": "2024-02-21T09:39:37.855Z"
   },
   {
    "duration": 7,
    "start_time": "2024-02-21T09:39:37.859Z"
   },
   {
    "duration": 53,
    "start_time": "2024-02-21T09:39:37.867Z"
   },
   {
    "duration": 11,
    "start_time": "2024-02-21T09:39:37.922Z"
   },
   {
    "duration": 89,
    "start_time": "2024-02-21T09:39:37.935Z"
   },
   {
    "duration": 8,
    "start_time": "2024-02-21T09:39:38.025Z"
   },
   {
    "duration": 88,
    "start_time": "2024-02-21T09:39:38.034Z"
   },
   {
    "duration": 2404,
    "start_time": "2024-02-21T20:02:27.245Z"
   },
   {
    "duration": 2655,
    "start_time": "2024-02-21T20:02:29.651Z"
   },
   {
    "duration": 4,
    "start_time": "2024-02-21T20:02:32.307Z"
   },
   {
    "duration": 31,
    "start_time": "2024-02-21T20:02:32.313Z"
   },
   {
    "duration": 36,
    "start_time": "2024-02-21T20:02:32.345Z"
   },
   {
    "duration": 1288,
    "start_time": "2024-02-21T20:02:32.383Z"
   },
   {
    "duration": 88,
    "start_time": "2024-02-21T20:02:33.672Z"
   },
   {
    "duration": 89,
    "start_time": "2024-02-21T20:02:33.762Z"
   },
   {
    "duration": 7752,
    "start_time": "2024-02-21T20:02:33.853Z"
   },
   {
    "duration": 118,
    "start_time": "2024-02-21T20:02:41.607Z"
   },
   {
    "duration": 258,
    "start_time": "2024-02-21T20:02:41.727Z"
   },
   {
    "duration": 1299,
    "start_time": "2024-02-21T20:02:41.987Z"
   },
   {
    "duration": 6230,
    "start_time": "2024-02-21T20:02:43.288Z"
   },
   {
    "duration": 7,
    "start_time": "2024-02-21T20:02:49.520Z"
   },
   {
    "duration": 5,
    "start_time": "2024-02-21T20:02:49.529Z"
   },
   {
    "duration": 4,
    "start_time": "2024-02-21T20:02:49.535Z"
   },
   {
    "duration": 3,
    "start_time": "2024-02-21T20:02:49.540Z"
   },
   {
    "duration": 7,
    "start_time": "2024-02-21T20:02:49.545Z"
   },
   {
    "duration": 6,
    "start_time": "2024-02-21T20:02:49.618Z"
   },
   {
    "duration": 92,
    "start_time": "2024-02-21T20:02:49.626Z"
   },
   {
    "duration": 12,
    "start_time": "2024-02-21T20:02:49.720Z"
   },
   {
    "duration": 8,
    "start_time": "2024-02-21T20:02:49.733Z"
   },
   {
    "duration": 77,
    "start_time": "2024-02-21T20:02:49.742Z"
   },
   {
    "duration": 3741,
    "start_time": "2024-02-22T09:15:34.872Z"
   },
   {
    "duration": 1478,
    "start_time": "2024-02-22T09:15:38.616Z"
   },
   {
    "duration": 0,
    "start_time": "2024-02-22T09:15:40.096Z"
   },
   {
    "duration": 0,
    "start_time": "2024-02-22T09:15:40.098Z"
   },
   {
    "duration": 0,
    "start_time": "2024-02-22T09:15:40.099Z"
   },
   {
    "duration": 0,
    "start_time": "2024-02-22T09:15:40.100Z"
   },
   {
    "duration": 0,
    "start_time": "2024-02-22T09:15:40.101Z"
   },
   {
    "duration": 0,
    "start_time": "2024-02-22T09:15:40.102Z"
   },
   {
    "duration": 1,
    "start_time": "2024-02-22T09:15:40.103Z"
   },
   {
    "duration": 0,
    "start_time": "2024-02-22T09:15:40.104Z"
   },
   {
    "duration": 0,
    "start_time": "2024-02-22T09:15:40.105Z"
   },
   {
    "duration": 0,
    "start_time": "2024-02-22T09:15:40.106Z"
   },
   {
    "duration": 0,
    "start_time": "2024-02-22T09:15:40.108Z"
   },
   {
    "duration": 0,
    "start_time": "2024-02-22T09:15:40.109Z"
   },
   {
    "duration": 0,
    "start_time": "2024-02-22T09:15:40.110Z"
   },
   {
    "duration": 0,
    "start_time": "2024-02-22T09:15:40.111Z"
   },
   {
    "duration": 0,
    "start_time": "2024-02-22T09:15:40.112Z"
   },
   {
    "duration": 0,
    "start_time": "2024-02-22T09:15:40.113Z"
   },
   {
    "duration": 0,
    "start_time": "2024-02-22T09:15:40.114Z"
   },
   {
    "duration": 0,
    "start_time": "2024-02-22T09:15:40.115Z"
   },
   {
    "duration": 0,
    "start_time": "2024-02-22T09:15:40.116Z"
   },
   {
    "duration": 0,
    "start_time": "2024-02-22T09:15:40.117Z"
   },
   {
    "duration": 0,
    "start_time": "2024-02-22T09:15:40.118Z"
   }
  ],
  "kernelspec": {
   "display_name": "Python 3 (ipykernel)",
   "language": "python",
   "name": "python3"
  },
  "language_info": {
   "codemirror_mode": {
    "name": "ipython",
    "version": 3
   },
   "file_extension": ".py",
   "mimetype": "text/x-python",
   "name": "python",
   "nbconvert_exporter": "python",
   "pygments_lexer": "ipython3",
   "version": "3.9.5"
  },
  "toc": {
   "base_numbering": 1,
   "nav_menu": {},
   "number_sections": true,
   "sideBar": true,
   "skip_h1_title": true,
   "title_cell": "Содержание",
   "title_sidebar": "Contents",
   "toc_cell": true,
   "toc_position": {
    "height": "calc(100% - 180px)",
    "left": "10px",
    "top": "150px",
    "width": "408.212px"
   },
   "toc_section_display": true,
   "toc_window_display": false
  }
 },
 "nbformat": 4,
 "nbformat_minor": 2
}
