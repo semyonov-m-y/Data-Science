{
  "nbformat": 4,
  "nbformat_minor": 0,
  "metadata": {
    "colab": {
      "provenance": []
    },
    "kernelspec": {
      "name": "python3",
      "display_name": "Python 3"
    },
    "language_info": {
      "name": "python"
    }
  },
  "cells": [
    {
      "cell_type": "markdown",
      "source": [
        "# Определение тональности отзывов на банки с помощью классических алгоритмов машинного обучения\n",
        "\n",
        "Используем логистическую регрессию и мешок слов.\n",
        "\n"
      ],
      "metadata": {
        "id": "2nqxFEmUEJtN"
      }
    },
    {
      "cell_type": "code",
      "source": [
        "!pip install pymorphy3"
      ],
      "metadata": {
        "colab": {
          "base_uri": "https://localhost:8080/"
        },
        "id": "KZo_JvvFsy1V",
        "outputId": "a1001532-5480-4b73-a909-6916578806ec"
      },
      "execution_count": null,
      "outputs": [
        {
          "output_type": "stream",
          "name": "stdout",
          "text": [
            "Collecting pymorphy3\n",
            "  Downloading pymorphy3-1.2.1-py3-none-any.whl (55 kB)\n",
            "\u001b[?25l     \u001b[90m━━━━━━━━━━━━━━━━━━━━━━━━━━━━━━━━━━━━━━━━\u001b[0m \u001b[32m0.0/55.4 kB\u001b[0m \u001b[31m?\u001b[0m eta \u001b[36m-:--:--\u001b[0m\r\u001b[2K     \u001b[90m━━━━━━━━━━━━━━━━━━━━━━━━━━━━━━━━━━━━━━━━\u001b[0m \u001b[32m55.4/55.4 kB\u001b[0m \u001b[31m1.9 MB/s\u001b[0m eta \u001b[36m0:00:00\u001b[0m\n",
            "\u001b[?25hCollecting dawg-python>=0.7.1 (from pymorphy3)\n",
            "  Downloading DAWG_Python-0.7.2-py2.py3-none-any.whl (11 kB)\n",
            "Collecting docopt-ng>=0.6 (from pymorphy3)\n",
            "  Downloading docopt_ng-0.9.0-py3-none-any.whl (16 kB)\n",
            "Collecting pymorphy3-dicts-ru (from pymorphy3)\n",
            "  Downloading pymorphy3_dicts_ru-2.4.417150.4580142-py2.py3-none-any.whl (8.4 MB)\n",
            "\u001b[2K     \u001b[90m━━━━━━━━━━━━━━━━━━━━━━━━━━━━━━━━━━━━━━━━\u001b[0m \u001b[32m8.4/8.4 MB\u001b[0m \u001b[31m41.8 MB/s\u001b[0m eta \u001b[36m0:00:00\u001b[0m\n",
            "\u001b[?25hInstalling collected packages: pymorphy3-dicts-ru, dawg-python, docopt-ng, pymorphy3\n",
            "Successfully installed dawg-python-0.7.2 docopt-ng-0.9.0 pymorphy3-1.2.1 pymorphy3-dicts-ru-2.4.417150.4580142\n"
          ]
        }
      ]
    },
    {
      "cell_type": "code",
      "source": [
        "import pandas as pd\n",
        "import numpy as np\n",
        "import pymorphy3\n",
        "import nltk\n",
        "from nltk.tokenize import word_tokenize\n",
        "from nltk.corpus import stopwords\n",
        "from sklearn.linear_model import LogisticRegression\n",
        "from sklearn.model_selection import train_test_split\n",
        "from collections import Counter"
      ],
      "metadata": {
        "id": "29_zjsOiEVbw"
      },
      "execution_count": null,
      "outputs": []
    },
    {
      "cell_type": "code",
      "source": [
        "nltk.download('punkt')\n",
        "nltk.download('stopwords')"
      ],
      "metadata": {
        "colab": {
          "base_uri": "https://localhost:8080/"
        },
        "id": "7KYR3C6BnTZJ",
        "outputId": "3f0037e7-df37-46cc-b9b2-bf1aa7def7c4"
      },
      "execution_count": null,
      "outputs": [
        {
          "output_type": "stream",
          "name": "stderr",
          "text": [
            "[nltk_data] Downloading package punkt to /root/nltk_data...\n",
            "[nltk_data]   Unzipping tokenizers/punkt.zip.\n",
            "[nltk_data] Downloading package stopwords to /root/nltk_data...\n",
            "[nltk_data]   Unzipping corpora/stopwords.zip.\n"
          ]
        },
        {
          "output_type": "execute_result",
          "data": {
            "text/plain": [
              "True"
            ]
          },
          "metadata": {},
          "execution_count": 3
        }
      ]
    },
    {
      "cell_type": "markdown",
      "source": [
        "Константы"
      ],
      "metadata": {
        "id": "8etz_oQ0aKoV"
      }
    },
    {
      "cell_type": "code",
      "source": [
        "max_words = 10000\n",
        "random_state = 42"
      ],
      "metadata": {
        "id": "MmtoD1fpaJJB"
      },
      "execution_count": null,
      "outputs": []
    },
    {
      "cell_type": "markdown",
      "source": [
        "## Загружаем и готовим набор данных"
      ],
      "metadata": {
        "id": "2e6G1MDEf7cW"
      }
    },
    {
      "cell_type": "code",
      "source": [
        "!wget https://www.dropbox.com/s/a9r0b2yj3vqvi13/banks.csv?dl=1 -O banks.csv"
      ],
      "metadata": {
        "colab": {
          "base_uri": "https://localhost:8080/"
        },
        "id": "7JXJr-AXgA6X",
        "outputId": "77727445-c3e3-4fc5-fbf4-70a235beb003"
      },
      "execution_count": null,
      "outputs": [
        {
          "output_type": "stream",
          "name": "stdout",
          "text": [
            "--2023-10-21 06:56:09--  https://www.dropbox.com/s/a9r0b2yj3vqvi13/banks.csv?dl=1\n",
            "Resolving www.dropbox.com (www.dropbox.com)... 162.125.6.18, 2620:100:6018:18::a27d:312\n",
            "Connecting to www.dropbox.com (www.dropbox.com)|162.125.6.18|:443... connected.\n",
            "HTTP request sent, awaiting response... 302 Found\n",
            "Location: /s/dl/a9r0b2yj3vqvi13/banks.csv [following]\n",
            "--2023-10-21 06:56:10--  https://www.dropbox.com/s/dl/a9r0b2yj3vqvi13/banks.csv\n",
            "Reusing existing connection to www.dropbox.com:443.\n",
            "HTTP request sent, awaiting response... 302 Found\n",
            "Location: https://uc736b0b56a94342d5e2ddb75767.dl.dropboxusercontent.com/cd/0/get/CGAoSbSyZBow9JEPmKWmgMZ1YnQgpyvSpB2KMTksjpQA9ISv4W0Floehk96YXbXzW3GTonNq1yGyq-j0RMML6c1C_Smmd2VwXPy1_ZkR_sFwU74PcI0HysLV8Sn05N99EaJ4hm0F712nhM1lmgCAhwtp/file?dl=1# [following]\n",
            "--2023-10-21 06:56:10--  https://uc736b0b56a94342d5e2ddb75767.dl.dropboxusercontent.com/cd/0/get/CGAoSbSyZBow9JEPmKWmgMZ1YnQgpyvSpB2KMTksjpQA9ISv4W0Floehk96YXbXzW3GTonNq1yGyq-j0RMML6c1C_Smmd2VwXPy1_ZkR_sFwU74PcI0HysLV8Sn05N99EaJ4hm0F712nhM1lmgCAhwtp/file?dl=1\n",
            "Resolving uc736b0b56a94342d5e2ddb75767.dl.dropboxusercontent.com (uc736b0b56a94342d5e2ddb75767.dl.dropboxusercontent.com)... 162.125.4.15, 2620:100:601b:15::a27d:80f\n",
            "Connecting to uc736b0b56a94342d5e2ddb75767.dl.dropboxusercontent.com (uc736b0b56a94342d5e2ddb75767.dl.dropboxusercontent.com)|162.125.4.15|:443... connected.\n",
            "HTTP request sent, awaiting response... 200 OK\n",
            "Length: 40746652 (39M) [application/binary]\n",
            "Saving to: ‘banks.csv’\n",
            "\n",
            "banks.csv           100%[===================>]  38.86M  55.2MB/s    in 0.7s    \n",
            "\n",
            "2023-10-21 06:56:11 (55.2 MB/s) - ‘banks.csv’ saved [40746652/40746652]\n",
            "\n"
          ]
        }
      ]
    },
    {
      "cell_type": "code",
      "source": [
        "banks = pd.read_csv('banks.csv', sep='\\t', index_col='idx');"
      ],
      "metadata": {
        "id": "i9XvxDmWhHPm"
      },
      "execution_count": null,
      "outputs": []
    },
    {
      "cell_type": "code",
      "source": [
        "def preprocess(text, stop_words, punctuation_marks, morph):\n",
        "    tokens = word_tokenize(text.lower())\n",
        "    preprocessed_text = []\n",
        "    for token in tokens:\n",
        "        if token not in punctuation_marks:\n",
        "            lemma = morph.parse(token)[0].normal_form\n",
        "            if lemma not in stop_words:\n",
        "                preprocessed_text.append(lemma)\n",
        "    return preprocessed_text"
      ],
      "metadata": {
        "id": "bhnSU0F6wUZp"
      },
      "execution_count": null,
      "outputs": []
    },
    {
      "cell_type": "code",
      "source": [
        "punctuation_marks = ['!', ',', '(', ')', ':', '-', '?', '.', '..', '...', '«', '»', ';', '–', '--']\n",
        "stop_words = stopwords.words(\"russian\")\n",
        "morph = pymorphy3.MorphAnalyzer()"
      ],
      "metadata": {
        "id": "Ic2qusuK7_3r"
      },
      "execution_count": null,
      "outputs": []
    },
    {
      "cell_type": "code",
      "source": [
        "banks['Preprocessed_texts'] = banks.apply(lambda row: preprocess(row['Text'], punctuation_marks, stop_words, morph), axis=1)"
      ],
      "metadata": {
        "id": "4kCef9Kkx2ai"
      },
      "execution_count": null,
      "outputs": []
    },
    {
      "cell_type": "code",
      "source": [
        "banks"
      ],
      "metadata": {
        "colab": {
          "base_uri": "https://localhost:8080/",
          "height": 628
        },
        "id": "oUqlQ-LEDwxR",
        "outputId": "b16dd04b-8e40-4a02-aa6b-eb281b1b7569"
      },
      "execution_count": null,
      "outputs": [
        {
          "output_type": "execute_result",
          "data": {
            "text/plain": [
              "       Score                                               Text  \\\n",
              "idx                                                               \n",
              "0          1  В Альфа-Банке работает замечательная девушка -...   \n",
              "1          0  Оформляя рассрочку в м. Видео в меге тёплый ст...   \n",
              "2          1  Очень порадовала оперативность работы в банке....   \n",
              "3          0  Имела неосторожность оформить потреб. кредит в...   \n",
              "4          0  Небольшая предыстория: Нашел на сайте MDM банк...   \n",
              "...      ...                                                ...   \n",
              "13994      1  О высокой надёжности МКБ, порядочности и добро...   \n",
              "13995      1  Обслуживаюсь в офисе на Чернореченской 42а, ка...   \n",
              "13996      1  Попала сегодня в очень неприятную ситуацию. Ре...   \n",
              "13997      1  Добрый день! Давно являюсь клиентом банка Русс...   \n",
              "13998      0  Сначала было все банально. Взял в кредит mp3 п...   \n",
              "\n",
              "                                      Preprocessed_texts  \\\n",
              "idx                                                        \n",
              "0      [альфа-банк, работать, замечательный, девушка,...   \n",
              "1      [оформлять, рассрочка, м., видео, мег, тёплый,...   \n",
              "2      [очень, порадовать, оперативность, работа, бан...   \n",
              "3      [иметь, неосторожность, оформить, потреба, кре...   \n",
              "4      [небольшой, предыстория, найти, сайт, mdm, бан...   \n",
              "...                                                  ...   \n",
              "13994  [высокий, надёжность, мкб, порядочность, добро...   \n",
              "13995  [обслуживаться, офис, чернореченский, 42а, физ...   \n",
              "13996  [попасть, сегодня, очень, неприятный, ситуация...   \n",
              "13997  [добрый, день, давно, являться, клиент, банк, ...   \n",
              "13998  [сначала, банально, взять, кредит, mp3, плеер,...   \n",
              "\n",
              "                                               Sequences  \n",
              "idx                                                       \n",
              "0      [62, 43, 916, 78, 204, 1867, 357, 2710, 409, 1...  \n",
              "1      [267, 855, 1178, 3214, 3891, 2981, 7345, 171, ...  \n",
              "2      [18, 1055, 910, 29, 2, 475, 183, 3, 628, 1768,...  \n",
              "3      [118, 4817, 72, 2368, 9, 62, 18, 2664, 1287, 3...  \n",
              "4      [418, 3850, 275, 87, 2, 648, 3, 4893, 2, 296, ...  \n",
              "...                                                  ...  \n",
              "13994  [401, 2321, 809, 5027, 8157, 7, 3098, 126, 441...  \n",
              "13995  [362, 24, 9494, 2151, 201, 14, 24, 95, 141, 66...  \n",
              "13996  [517, 109, 18, 992, 53, 38, 224, 233, 3, 46, 3...  \n",
              "13997  [181, 5, 397, 86, 13, 2, 674, 691, 118, 343, 3...  \n",
              "13998  [438, 4110, 127, 9, 460, 2037, 202, 660, 3983,...  \n",
              "\n",
              "[13999 rows x 4 columns]"
            ],
            "text/html": [
              "\n",
              "  <div id=\"df-0cb56faa-8e31-49f8-9af1-9e4c91237ff9\" class=\"colab-df-container\">\n",
              "    <div>\n",
              "<style scoped>\n",
              "    .dataframe tbody tr th:only-of-type {\n",
              "        vertical-align: middle;\n",
              "    }\n",
              "\n",
              "    .dataframe tbody tr th {\n",
              "        vertical-align: top;\n",
              "    }\n",
              "\n",
              "    .dataframe thead th {\n",
              "        text-align: right;\n",
              "    }\n",
              "</style>\n",
              "<table border=\"1\" class=\"dataframe\">\n",
              "  <thead>\n",
              "    <tr style=\"text-align: right;\">\n",
              "      <th></th>\n",
              "      <th>Score</th>\n",
              "      <th>Text</th>\n",
              "      <th>Preprocessed_texts</th>\n",
              "      <th>Sequences</th>\n",
              "    </tr>\n",
              "    <tr>\n",
              "      <th>idx</th>\n",
              "      <th></th>\n",
              "      <th></th>\n",
              "      <th></th>\n",
              "      <th></th>\n",
              "    </tr>\n",
              "  </thead>\n",
              "  <tbody>\n",
              "    <tr>\n",
              "      <th>0</th>\n",
              "      <td>1</td>\n",
              "      <td>В Альфа-Банке работает замечательная девушка -...</td>\n",
              "      <td>[альфа-банк, работать, замечательный, девушка,...</td>\n",
              "      <td>[62, 43, 916, 78, 204, 1867, 357, 2710, 409, 1...</td>\n",
              "    </tr>\n",
              "    <tr>\n",
              "      <th>1</th>\n",
              "      <td>0</td>\n",
              "      <td>Оформляя рассрочку в м. Видео в меге тёплый ст...</td>\n",
              "      <td>[оформлять, рассрочка, м., видео, мег, тёплый,...</td>\n",
              "      <td>[267, 855, 1178, 3214, 3891, 2981, 7345, 171, ...</td>\n",
              "    </tr>\n",
              "    <tr>\n",
              "      <th>2</th>\n",
              "      <td>1</td>\n",
              "      <td>Очень порадовала оперативность работы в банке....</td>\n",
              "      <td>[очень, порадовать, оперативность, работа, бан...</td>\n",
              "      <td>[18, 1055, 910, 29, 2, 475, 183, 3, 628, 1768,...</td>\n",
              "    </tr>\n",
              "    <tr>\n",
              "      <th>3</th>\n",
              "      <td>0</td>\n",
              "      <td>Имела неосторожность оформить потреб. кредит в...</td>\n",
              "      <td>[иметь, неосторожность, оформить, потреба, кре...</td>\n",
              "      <td>[118, 4817, 72, 2368, 9, 62, 18, 2664, 1287, 3...</td>\n",
              "    </tr>\n",
              "    <tr>\n",
              "      <th>4</th>\n",
              "      <td>0</td>\n",
              "      <td>Небольшая предыстория: Нашел на сайте MDM банк...</td>\n",
              "      <td>[небольшой, предыстория, найти, сайт, mdm, бан...</td>\n",
              "      <td>[418, 3850, 275, 87, 2, 648, 3, 4893, 2, 296, ...</td>\n",
              "    </tr>\n",
              "    <tr>\n",
              "      <th>...</th>\n",
              "      <td>...</td>\n",
              "      <td>...</td>\n",
              "      <td>...</td>\n",
              "      <td>...</td>\n",
              "    </tr>\n",
              "    <tr>\n",
              "      <th>13994</th>\n",
              "      <td>1</td>\n",
              "      <td>О высокой надёжности МКБ, порядочности и добро...</td>\n",
              "      <td>[высокий, надёжность, мкб, порядочность, добро...</td>\n",
              "      <td>[401, 2321, 809, 5027, 8157, 7, 3098, 126, 441...</td>\n",
              "    </tr>\n",
              "    <tr>\n",
              "      <th>13995</th>\n",
              "      <td>1</td>\n",
              "      <td>Обслуживаюсь в офисе на Чернореченской 42а, ка...</td>\n",
              "      <td>[обслуживаться, офис, чернореченский, 42а, физ...</td>\n",
              "      <td>[362, 24, 9494, 2151, 201, 14, 24, 95, 141, 66...</td>\n",
              "    </tr>\n",
              "    <tr>\n",
              "      <th>13996</th>\n",
              "      <td>1</td>\n",
              "      <td>Попала сегодня в очень неприятную ситуацию. Ре...</td>\n",
              "      <td>[попасть, сегодня, очень, неприятный, ситуация...</td>\n",
              "      <td>[517, 109, 18, 992, 53, 38, 224, 233, 3, 46, 3...</td>\n",
              "    </tr>\n",
              "    <tr>\n",
              "      <th>13997</th>\n",
              "      <td>1</td>\n",
              "      <td>Добрый день! Давно являюсь клиентом банка Русс...</td>\n",
              "      <td>[добрый, день, давно, являться, клиент, банк, ...</td>\n",
              "      <td>[181, 5, 397, 86, 13, 2, 674, 691, 118, 343, 3...</td>\n",
              "    </tr>\n",
              "    <tr>\n",
              "      <th>13998</th>\n",
              "      <td>0</td>\n",
              "      <td>Сначала было все банально. Взял в кредит mp3 п...</td>\n",
              "      <td>[сначала, банально, взять, кредит, mp3, плеер,...</td>\n",
              "      <td>[438, 4110, 127, 9, 460, 2037, 202, 660, 3983,...</td>\n",
              "    </tr>\n",
              "  </tbody>\n",
              "</table>\n",
              "<p>13999 rows × 4 columns</p>\n",
              "</div>\n",
              "    <div class=\"colab-df-buttons\">\n",
              "\n",
              "  <div class=\"colab-df-container\">\n",
              "    <button class=\"colab-df-convert\" onclick=\"convertToInteractive('df-0cb56faa-8e31-49f8-9af1-9e4c91237ff9')\"\n",
              "            title=\"Convert this dataframe to an interactive table.\"\n",
              "            style=\"display:none;\">\n",
              "\n",
              "  <svg xmlns=\"http://www.w3.org/2000/svg\" height=\"24px\" viewBox=\"0 -960 960 960\">\n",
              "    <path d=\"M120-120v-720h720v720H120Zm60-500h600v-160H180v160Zm220 220h160v-160H400v160Zm0 220h160v-160H400v160ZM180-400h160v-160H180v160Zm440 0h160v-160H620v160ZM180-180h160v-160H180v160Zm440 0h160v-160H620v160Z\"/>\n",
              "  </svg>\n",
              "    </button>\n",
              "\n",
              "  <style>\n",
              "    .colab-df-container {\n",
              "      display:flex;\n",
              "      gap: 12px;\n",
              "    }\n",
              "\n",
              "    .colab-df-convert {\n",
              "      background-color: #E8F0FE;\n",
              "      border: none;\n",
              "      border-radius: 50%;\n",
              "      cursor: pointer;\n",
              "      display: none;\n",
              "      fill: #1967D2;\n",
              "      height: 32px;\n",
              "      padding: 0 0 0 0;\n",
              "      width: 32px;\n",
              "    }\n",
              "\n",
              "    .colab-df-convert:hover {\n",
              "      background-color: #E2EBFA;\n",
              "      box-shadow: 0px 1px 2px rgba(60, 64, 67, 0.3), 0px 1px 3px 1px rgba(60, 64, 67, 0.15);\n",
              "      fill: #174EA6;\n",
              "    }\n",
              "\n",
              "    .colab-df-buttons div {\n",
              "      margin-bottom: 4px;\n",
              "    }\n",
              "\n",
              "    [theme=dark] .colab-df-convert {\n",
              "      background-color: #3B4455;\n",
              "      fill: #D2E3FC;\n",
              "    }\n",
              "\n",
              "    [theme=dark] .colab-df-convert:hover {\n",
              "      background-color: #434B5C;\n",
              "      box-shadow: 0px 1px 3px 1px rgba(0, 0, 0, 0.15);\n",
              "      filter: drop-shadow(0px 1px 2px rgba(0, 0, 0, 0.3));\n",
              "      fill: #FFFFFF;\n",
              "    }\n",
              "  </style>\n",
              "\n",
              "    <script>\n",
              "      const buttonEl =\n",
              "        document.querySelector('#df-0cb56faa-8e31-49f8-9af1-9e4c91237ff9 button.colab-df-convert');\n",
              "      buttonEl.style.display =\n",
              "        google.colab.kernel.accessAllowed ? 'block' : 'none';\n",
              "\n",
              "      async function convertToInteractive(key) {\n",
              "        const element = document.querySelector('#df-0cb56faa-8e31-49f8-9af1-9e4c91237ff9');\n",
              "        const dataTable =\n",
              "          await google.colab.kernel.invokeFunction('convertToInteractive',\n",
              "                                                    [key], {});\n",
              "        if (!dataTable) return;\n",
              "\n",
              "        const docLinkHtml = 'Like what you see? Visit the ' +\n",
              "          '<a target=\"_blank\" href=https://colab.research.google.com/notebooks/data_table.ipynb>data table notebook</a>'\n",
              "          + ' to learn more about interactive tables.';\n",
              "        element.innerHTML = '';\n",
              "        dataTable['output_type'] = 'display_data';\n",
              "        await google.colab.output.renderOutput(dataTable, element);\n",
              "        const docLink = document.createElement('div');\n",
              "        docLink.innerHTML = docLinkHtml;\n",
              "        element.appendChild(docLink);\n",
              "      }\n",
              "    </script>\n",
              "  </div>\n",
              "\n",
              "\n",
              "<div id=\"df-f0529be5-f178-4ade-a27b-fa431be34e38\">\n",
              "  <button class=\"colab-df-quickchart\" onclick=\"quickchart('df-f0529be5-f178-4ade-a27b-fa431be34e38')\"\n",
              "            title=\"Suggest charts.\"\n",
              "            style=\"display:none;\">\n",
              "\n",
              "<svg xmlns=\"http://www.w3.org/2000/svg\" height=\"24px\"viewBox=\"0 0 24 24\"\n",
              "     width=\"24px\">\n",
              "    <g>\n",
              "        <path d=\"M19 3H5c-1.1 0-2 .9-2 2v14c0 1.1.9 2 2 2h14c1.1 0 2-.9 2-2V5c0-1.1-.9-2-2-2zM9 17H7v-7h2v7zm4 0h-2V7h2v10zm4 0h-2v-4h2v4z\"/>\n",
              "    </g>\n",
              "</svg>\n",
              "  </button>\n",
              "\n",
              "<style>\n",
              "  .colab-df-quickchart {\n",
              "      --bg-color: #E8F0FE;\n",
              "      --fill-color: #1967D2;\n",
              "      --hover-bg-color: #E2EBFA;\n",
              "      --hover-fill-color: #174EA6;\n",
              "      --disabled-fill-color: #AAA;\n",
              "      --disabled-bg-color: #DDD;\n",
              "  }\n",
              "\n",
              "  [theme=dark] .colab-df-quickchart {\n",
              "      --bg-color: #3B4455;\n",
              "      --fill-color: #D2E3FC;\n",
              "      --hover-bg-color: #434B5C;\n",
              "      --hover-fill-color: #FFFFFF;\n",
              "      --disabled-bg-color: #3B4455;\n",
              "      --disabled-fill-color: #666;\n",
              "  }\n",
              "\n",
              "  .colab-df-quickchart {\n",
              "    background-color: var(--bg-color);\n",
              "    border: none;\n",
              "    border-radius: 50%;\n",
              "    cursor: pointer;\n",
              "    display: none;\n",
              "    fill: var(--fill-color);\n",
              "    height: 32px;\n",
              "    padding: 0;\n",
              "    width: 32px;\n",
              "  }\n",
              "\n",
              "  .colab-df-quickchart:hover {\n",
              "    background-color: var(--hover-bg-color);\n",
              "    box-shadow: 0 1px 2px rgba(60, 64, 67, 0.3), 0 1px 3px 1px rgba(60, 64, 67, 0.15);\n",
              "    fill: var(--button-hover-fill-color);\n",
              "  }\n",
              "\n",
              "  .colab-df-quickchart-complete:disabled,\n",
              "  .colab-df-quickchart-complete:disabled:hover {\n",
              "    background-color: var(--disabled-bg-color);\n",
              "    fill: var(--disabled-fill-color);\n",
              "    box-shadow: none;\n",
              "  }\n",
              "\n",
              "  .colab-df-spinner {\n",
              "    border: 2px solid var(--fill-color);\n",
              "    border-color: transparent;\n",
              "    border-bottom-color: var(--fill-color);\n",
              "    animation:\n",
              "      spin 1s steps(1) infinite;\n",
              "  }\n",
              "\n",
              "  @keyframes spin {\n",
              "    0% {\n",
              "      border-color: transparent;\n",
              "      border-bottom-color: var(--fill-color);\n",
              "      border-left-color: var(--fill-color);\n",
              "    }\n",
              "    20% {\n",
              "      border-color: transparent;\n",
              "      border-left-color: var(--fill-color);\n",
              "      border-top-color: var(--fill-color);\n",
              "    }\n",
              "    30% {\n",
              "      border-color: transparent;\n",
              "      border-left-color: var(--fill-color);\n",
              "      border-top-color: var(--fill-color);\n",
              "      border-right-color: var(--fill-color);\n",
              "    }\n",
              "    40% {\n",
              "      border-color: transparent;\n",
              "      border-right-color: var(--fill-color);\n",
              "      border-top-color: var(--fill-color);\n",
              "    }\n",
              "    60% {\n",
              "      border-color: transparent;\n",
              "      border-right-color: var(--fill-color);\n",
              "    }\n",
              "    80% {\n",
              "      border-color: transparent;\n",
              "      border-right-color: var(--fill-color);\n",
              "      border-bottom-color: var(--fill-color);\n",
              "    }\n",
              "    90% {\n",
              "      border-color: transparent;\n",
              "      border-bottom-color: var(--fill-color);\n",
              "    }\n",
              "  }\n",
              "</style>\n",
              "\n",
              "  <script>\n",
              "    async function quickchart(key) {\n",
              "      const quickchartButtonEl =\n",
              "        document.querySelector('#' + key + ' button');\n",
              "      quickchartButtonEl.disabled = true;  // To prevent multiple clicks.\n",
              "      quickchartButtonEl.classList.add('colab-df-spinner');\n",
              "      try {\n",
              "        const charts = await google.colab.kernel.invokeFunction(\n",
              "            'suggestCharts', [key], {});\n",
              "      } catch (error) {\n",
              "        console.error('Error during call to suggestCharts:', error);\n",
              "      }\n",
              "      quickchartButtonEl.classList.remove('colab-df-spinner');\n",
              "      quickchartButtonEl.classList.add('colab-df-quickchart-complete');\n",
              "    }\n",
              "    (() => {\n",
              "      let quickchartButtonEl =\n",
              "        document.querySelector('#df-f0529be5-f178-4ade-a27b-fa431be34e38 button');\n",
              "      quickchartButtonEl.style.display =\n",
              "        google.colab.kernel.accessAllowed ? 'block' : 'none';\n",
              "    })();\n",
              "  </script>\n",
              "</div>\n",
              "    </div>\n",
              "  </div>\n"
            ]
          },
          "metadata": {},
          "execution_count": 54
        }
      ]
    },
    {
      "cell_type": "markdown",
      "source": [
        "Считаем частоту слов во всех отзывах"
      ],
      "metadata": {
        "id": "u6qbrT57X1pj"
      }
    },
    {
      "cell_type": "code",
      "source": [
        "words = Counter()"
      ],
      "metadata": {
        "id": "xeL0KiDxXDS2"
      },
      "execution_count": null,
      "outputs": []
    },
    {
      "cell_type": "code",
      "source": [
        "for txt in banks['Preprocessed_texts']:\n",
        "    words.update(txt)"
      ],
      "metadata": {
        "id": "5sJuUJmiWu3h"
      },
      "execution_count": null,
      "outputs": []
    },
    {
      "cell_type": "markdown",
      "source": [
        "Создаем словарь, упорядоченный по частоте\n",
        "\n",
        "В словаре будем использовать 2 специальных кода:\n",
        "- Код заполнитель: 0\n",
        "- Неизвестное слово: 1\n",
        "\n",
        "Нумерация слов в словаре начинается с 2."
      ],
      "metadata": {
        "id": "xvMGD3wPY0Jo"
      }
    },
    {
      "cell_type": "code",
      "source": [
        "# Словарь, отображающий слова в коды\n",
        "word_to_index = dict()\n",
        "# Словарь, отображающий коды в слова\n",
        "index_to_word = dict()"
      ],
      "metadata": {
        "id": "YHNfN0QoY51K"
      },
      "execution_count": null,
      "outputs": []
    },
    {
      "cell_type": "markdown",
      "source": [
        "Создаем словари"
      ],
      "metadata": {
        "id": "ZXc73aNPaSX7"
      }
    },
    {
      "cell_type": "code",
      "source": [
        "for i, word in enumerate(words.most_common(max_words - 2)):\n",
        "    word_to_index[word[0]] = i + 2\n",
        "    index_to_word[i + 2] = word[0]"
      ],
      "metadata": {
        "id": "8m6ZXwixrMf-"
      },
      "execution_count": null,
      "outputs": []
    },
    {
      "cell_type": "markdown",
      "source": [
        "Функция для преобразования списка слов в список кодов"
      ],
      "metadata": {
        "id": "tjgxtx4ThPiE"
      }
    },
    {
      "cell_type": "code",
      "source": [
        "def text_to_sequence(txt, word_to_index):\n",
        "    seq = []\n",
        "    for word in txt:\n",
        "        index = word_to_index.get(word, 1) # 1 означает неизвестное слово\n",
        "        # Неизвестные слова не добавляем в выходную последовательность\n",
        "        if index != 1:\n",
        "            seq.append(index)\n",
        "    return seq"
      ],
      "metadata": {
        "id": "aaFcC87ifsjO"
      },
      "execution_count": null,
      "outputs": []
    },
    {
      "cell_type": "markdown",
      "source": [
        "Преобразуем все тексты в последовательность кодов слов"
      ],
      "metadata": {
        "id": "9WbPzZwCjIgK"
      }
    },
    {
      "cell_type": "code",
      "source": [
        "banks['Sequences'] = banks.apply(lambda row: text_to_sequence(row['Preprocessed_texts'], word_to_index), axis=1)"
      ],
      "metadata": {
        "id": "t92mWXLVjQof"
      },
      "execution_count": null,
      "outputs": []
    },
    {
      "cell_type": "code",
      "source": [
        "banks"
      ],
      "metadata": {
        "colab": {
          "base_uri": "https://localhost:8080/",
          "height": 628
        },
        "id": "y10HHUPGkC5z",
        "outputId": "49fbfcfe-dc83-4517-8028-5690e23c3888"
      },
      "execution_count": null,
      "outputs": [
        {
          "output_type": "execute_result",
          "data": {
            "text/plain": [
              "       Score                                               Text  \\\n",
              "idx                                                               \n",
              "0          1  В Альфа-Банке работает замечательная девушка -...   \n",
              "1          0  Оформляя рассрочку в м. Видео в меге тёплый ст...   \n",
              "2          1  Очень порадовала оперативность работы в банке....   \n",
              "3          0  Имела неосторожность оформить потреб. кредит в...   \n",
              "4          0  Небольшая предыстория: Нашел на сайте MDM банк...   \n",
              "...      ...                                                ...   \n",
              "13994      1  О высокой надёжности МКБ, порядочности и добро...   \n",
              "13995      1  Обслуживаюсь в офисе на Чернореченской 42а, ка...   \n",
              "13996      1  Попала сегодня в очень неприятную ситуацию. Ре...   \n",
              "13997      1  Добрый день! Давно являюсь клиентом банка Русс...   \n",
              "13998      0  Сначала было все банально. Взял в кредит mp3 п...   \n",
              "\n",
              "                                      Preprocessed_texts  \\\n",
              "idx                                                        \n",
              "0      [альфа-банк, работать, замечательный, девушка,...   \n",
              "1      [оформлять, рассрочка, м., видео, мег, тёплый,...   \n",
              "2      [очень, порадовать, оперативность, работа, бан...   \n",
              "3      [иметь, неосторожность, оформить, потреба, кре...   \n",
              "4      [небольшой, предыстория, найти, сайт, mdm, бан...   \n",
              "...                                                  ...   \n",
              "13994  [высокий, надёжность, мкб, порядочность, добро...   \n",
              "13995  [обслуживаться, офис, чернореченский, 42а, физ...   \n",
              "13996  [попасть, сегодня, очень, неприятный, ситуация...   \n",
              "13997  [добрый, день, давно, являться, клиент, банк, ...   \n",
              "13998  [сначала, банально, взять, кредит, mp3, плеер,...   \n",
              "\n",
              "                                               Sequences  \n",
              "idx                                                       \n",
              "0      [62, 43, 916, 78, 204, 1867, 357, 2710, 409, 1...  \n",
              "1      [267, 855, 1178, 3214, 3891, 2981, 7345, 171, ...  \n",
              "2      [18, 1055, 910, 29, 2, 475, 183, 3, 628, 1768,...  \n",
              "3      [118, 4817, 72, 2368, 9, 62, 18, 2664, 1287, 3...  \n",
              "4      [418, 3850, 275, 87, 2, 648, 3, 4893, 2, 296, ...  \n",
              "...                                                  ...  \n",
              "13994  [401, 2321, 809, 5027, 8157, 7, 3098, 126, 441...  \n",
              "13995  [362, 24, 9494, 2151, 201, 14, 24, 95, 141, 66...  \n",
              "13996  [517, 109, 18, 992, 53, 38, 224, 233, 3, 46, 3...  \n",
              "13997  [181, 5, 397, 86, 13, 2, 674, 691, 118, 343, 3...  \n",
              "13998  [438, 4110, 127, 9, 460, 2037, 202, 660, 3983,...  \n",
              "\n",
              "[13999 rows x 4 columns]"
            ],
            "text/html": [
              "\n",
              "  <div id=\"df-9abf44d0-13bd-4890-b4dd-c496f42e9a9c\" class=\"colab-df-container\">\n",
              "    <div>\n",
              "<style scoped>\n",
              "    .dataframe tbody tr th:only-of-type {\n",
              "        vertical-align: middle;\n",
              "    }\n",
              "\n",
              "    .dataframe tbody tr th {\n",
              "        vertical-align: top;\n",
              "    }\n",
              "\n",
              "    .dataframe thead th {\n",
              "        text-align: right;\n",
              "    }\n",
              "</style>\n",
              "<table border=\"1\" class=\"dataframe\">\n",
              "  <thead>\n",
              "    <tr style=\"text-align: right;\">\n",
              "      <th></th>\n",
              "      <th>Score</th>\n",
              "      <th>Text</th>\n",
              "      <th>Preprocessed_texts</th>\n",
              "      <th>Sequences</th>\n",
              "    </tr>\n",
              "    <tr>\n",
              "      <th>idx</th>\n",
              "      <th></th>\n",
              "      <th></th>\n",
              "      <th></th>\n",
              "      <th></th>\n",
              "    </tr>\n",
              "  </thead>\n",
              "  <tbody>\n",
              "    <tr>\n",
              "      <th>0</th>\n",
              "      <td>1</td>\n",
              "      <td>В Альфа-Банке работает замечательная девушка -...</td>\n",
              "      <td>[альфа-банк, работать, замечательный, девушка,...</td>\n",
              "      <td>[62, 43, 916, 78, 204, 1867, 357, 2710, 409, 1...</td>\n",
              "    </tr>\n",
              "    <tr>\n",
              "      <th>1</th>\n",
              "      <td>0</td>\n",
              "      <td>Оформляя рассрочку в м. Видео в меге тёплый ст...</td>\n",
              "      <td>[оформлять, рассрочка, м., видео, мег, тёплый,...</td>\n",
              "      <td>[267, 855, 1178, 3214, 3891, 2981, 7345, 171, ...</td>\n",
              "    </tr>\n",
              "    <tr>\n",
              "      <th>2</th>\n",
              "      <td>1</td>\n",
              "      <td>Очень порадовала оперативность работы в банке....</td>\n",
              "      <td>[очень, порадовать, оперативность, работа, бан...</td>\n",
              "      <td>[18, 1055, 910, 29, 2, 475, 183, 3, 628, 1768,...</td>\n",
              "    </tr>\n",
              "    <tr>\n",
              "      <th>3</th>\n",
              "      <td>0</td>\n",
              "      <td>Имела неосторожность оформить потреб. кредит в...</td>\n",
              "      <td>[иметь, неосторожность, оформить, потреба, кре...</td>\n",
              "      <td>[118, 4817, 72, 2368, 9, 62, 18, 2664, 1287, 3...</td>\n",
              "    </tr>\n",
              "    <tr>\n",
              "      <th>4</th>\n",
              "      <td>0</td>\n",
              "      <td>Небольшая предыстория: Нашел на сайте MDM банк...</td>\n",
              "      <td>[небольшой, предыстория, найти, сайт, mdm, бан...</td>\n",
              "      <td>[418, 3850, 275, 87, 2, 648, 3, 4893, 2, 296, ...</td>\n",
              "    </tr>\n",
              "    <tr>\n",
              "      <th>...</th>\n",
              "      <td>...</td>\n",
              "      <td>...</td>\n",
              "      <td>...</td>\n",
              "      <td>...</td>\n",
              "    </tr>\n",
              "    <tr>\n",
              "      <th>13994</th>\n",
              "      <td>1</td>\n",
              "      <td>О высокой надёжности МКБ, порядочности и добро...</td>\n",
              "      <td>[высокий, надёжность, мкб, порядочность, добро...</td>\n",
              "      <td>[401, 2321, 809, 5027, 8157, 7, 3098, 126, 441...</td>\n",
              "    </tr>\n",
              "    <tr>\n",
              "      <th>13995</th>\n",
              "      <td>1</td>\n",
              "      <td>Обслуживаюсь в офисе на Чернореченской 42а, ка...</td>\n",
              "      <td>[обслуживаться, офис, чернореченский, 42а, физ...</td>\n",
              "      <td>[362, 24, 9494, 2151, 201, 14, 24, 95, 141, 66...</td>\n",
              "    </tr>\n",
              "    <tr>\n",
              "      <th>13996</th>\n",
              "      <td>1</td>\n",
              "      <td>Попала сегодня в очень неприятную ситуацию. Ре...</td>\n",
              "      <td>[попасть, сегодня, очень, неприятный, ситуация...</td>\n",
              "      <td>[517, 109, 18, 992, 53, 38, 224, 233, 3, 46, 3...</td>\n",
              "    </tr>\n",
              "    <tr>\n",
              "      <th>13997</th>\n",
              "      <td>1</td>\n",
              "      <td>Добрый день! Давно являюсь клиентом банка Русс...</td>\n",
              "      <td>[добрый, день, давно, являться, клиент, банк, ...</td>\n",
              "      <td>[181, 5, 397, 86, 13, 2, 674, 691, 118, 343, 3...</td>\n",
              "    </tr>\n",
              "    <tr>\n",
              "      <th>13998</th>\n",
              "      <td>0</td>\n",
              "      <td>Сначала было все банально. Взял в кредит mp3 п...</td>\n",
              "      <td>[сначала, банально, взять, кредит, mp3, плеер,...</td>\n",
              "      <td>[438, 4110, 127, 9, 460, 2037, 202, 660, 3983,...</td>\n",
              "    </tr>\n",
              "  </tbody>\n",
              "</table>\n",
              "<p>13999 rows × 4 columns</p>\n",
              "</div>\n",
              "    <div class=\"colab-df-buttons\">\n",
              "\n",
              "  <div class=\"colab-df-container\">\n",
              "    <button class=\"colab-df-convert\" onclick=\"convertToInteractive('df-9abf44d0-13bd-4890-b4dd-c496f42e9a9c')\"\n",
              "            title=\"Convert this dataframe to an interactive table.\"\n",
              "            style=\"display:none;\">\n",
              "\n",
              "  <svg xmlns=\"http://www.w3.org/2000/svg\" height=\"24px\" viewBox=\"0 -960 960 960\">\n",
              "    <path d=\"M120-120v-720h720v720H120Zm60-500h600v-160H180v160Zm220 220h160v-160H400v160Zm0 220h160v-160H400v160ZM180-400h160v-160H180v160Zm440 0h160v-160H620v160ZM180-180h160v-160H180v160Zm440 0h160v-160H620v160Z\"/>\n",
              "  </svg>\n",
              "    </button>\n",
              "\n",
              "  <style>\n",
              "    .colab-df-container {\n",
              "      display:flex;\n",
              "      gap: 12px;\n",
              "    }\n",
              "\n",
              "    .colab-df-convert {\n",
              "      background-color: #E8F0FE;\n",
              "      border: none;\n",
              "      border-radius: 50%;\n",
              "      cursor: pointer;\n",
              "      display: none;\n",
              "      fill: #1967D2;\n",
              "      height: 32px;\n",
              "      padding: 0 0 0 0;\n",
              "      width: 32px;\n",
              "    }\n",
              "\n",
              "    .colab-df-convert:hover {\n",
              "      background-color: #E2EBFA;\n",
              "      box-shadow: 0px 1px 2px rgba(60, 64, 67, 0.3), 0px 1px 3px 1px rgba(60, 64, 67, 0.15);\n",
              "      fill: #174EA6;\n",
              "    }\n",
              "\n",
              "    .colab-df-buttons div {\n",
              "      margin-bottom: 4px;\n",
              "    }\n",
              "\n",
              "    [theme=dark] .colab-df-convert {\n",
              "      background-color: #3B4455;\n",
              "      fill: #D2E3FC;\n",
              "    }\n",
              "\n",
              "    [theme=dark] .colab-df-convert:hover {\n",
              "      background-color: #434B5C;\n",
              "      box-shadow: 0px 1px 3px 1px rgba(0, 0, 0, 0.15);\n",
              "      filter: drop-shadow(0px 1px 2px rgba(0, 0, 0, 0.3));\n",
              "      fill: #FFFFFF;\n",
              "    }\n",
              "  </style>\n",
              "\n",
              "    <script>\n",
              "      const buttonEl =\n",
              "        document.querySelector('#df-9abf44d0-13bd-4890-b4dd-c496f42e9a9c button.colab-df-convert');\n",
              "      buttonEl.style.display =\n",
              "        google.colab.kernel.accessAllowed ? 'block' : 'none';\n",
              "\n",
              "      async function convertToInteractive(key) {\n",
              "        const element = document.querySelector('#df-9abf44d0-13bd-4890-b4dd-c496f42e9a9c');\n",
              "        const dataTable =\n",
              "          await google.colab.kernel.invokeFunction('convertToInteractive',\n",
              "                                                    [key], {});\n",
              "        if (!dataTable) return;\n",
              "\n",
              "        const docLinkHtml = 'Like what you see? Visit the ' +\n",
              "          '<a target=\"_blank\" href=https://colab.research.google.com/notebooks/data_table.ipynb>data table notebook</a>'\n",
              "          + ' to learn more about interactive tables.';\n",
              "        element.innerHTML = '';\n",
              "        dataTable['output_type'] = 'display_data';\n",
              "        await google.colab.output.renderOutput(dataTable, element);\n",
              "        const docLink = document.createElement('div');\n",
              "        docLink.innerHTML = docLinkHtml;\n",
              "        element.appendChild(docLink);\n",
              "      }\n",
              "    </script>\n",
              "  </div>\n",
              "\n",
              "\n",
              "<div id=\"df-ffc65526-b49b-4af6-bb45-192cb34033b8\">\n",
              "  <button class=\"colab-df-quickchart\" onclick=\"quickchart('df-ffc65526-b49b-4af6-bb45-192cb34033b8')\"\n",
              "            title=\"Suggest charts.\"\n",
              "            style=\"display:none;\">\n",
              "\n",
              "<svg xmlns=\"http://www.w3.org/2000/svg\" height=\"24px\"viewBox=\"0 0 24 24\"\n",
              "     width=\"24px\">\n",
              "    <g>\n",
              "        <path d=\"M19 3H5c-1.1 0-2 .9-2 2v14c0 1.1.9 2 2 2h14c1.1 0 2-.9 2-2V5c0-1.1-.9-2-2-2zM9 17H7v-7h2v7zm4 0h-2V7h2v10zm4 0h-2v-4h2v4z\"/>\n",
              "    </g>\n",
              "</svg>\n",
              "  </button>\n",
              "\n",
              "<style>\n",
              "  .colab-df-quickchart {\n",
              "      --bg-color: #E8F0FE;\n",
              "      --fill-color: #1967D2;\n",
              "      --hover-bg-color: #E2EBFA;\n",
              "      --hover-fill-color: #174EA6;\n",
              "      --disabled-fill-color: #AAA;\n",
              "      --disabled-bg-color: #DDD;\n",
              "  }\n",
              "\n",
              "  [theme=dark] .colab-df-quickchart {\n",
              "      --bg-color: #3B4455;\n",
              "      --fill-color: #D2E3FC;\n",
              "      --hover-bg-color: #434B5C;\n",
              "      --hover-fill-color: #FFFFFF;\n",
              "      --disabled-bg-color: #3B4455;\n",
              "      --disabled-fill-color: #666;\n",
              "  }\n",
              "\n",
              "  .colab-df-quickchart {\n",
              "    background-color: var(--bg-color);\n",
              "    border: none;\n",
              "    border-radius: 50%;\n",
              "    cursor: pointer;\n",
              "    display: none;\n",
              "    fill: var(--fill-color);\n",
              "    height: 32px;\n",
              "    padding: 0;\n",
              "    width: 32px;\n",
              "  }\n",
              "\n",
              "  .colab-df-quickchart:hover {\n",
              "    background-color: var(--hover-bg-color);\n",
              "    box-shadow: 0 1px 2px rgba(60, 64, 67, 0.3), 0 1px 3px 1px rgba(60, 64, 67, 0.15);\n",
              "    fill: var(--button-hover-fill-color);\n",
              "  }\n",
              "\n",
              "  .colab-df-quickchart-complete:disabled,\n",
              "  .colab-df-quickchart-complete:disabled:hover {\n",
              "    background-color: var(--disabled-bg-color);\n",
              "    fill: var(--disabled-fill-color);\n",
              "    box-shadow: none;\n",
              "  }\n",
              "\n",
              "  .colab-df-spinner {\n",
              "    border: 2px solid var(--fill-color);\n",
              "    border-color: transparent;\n",
              "    border-bottom-color: var(--fill-color);\n",
              "    animation:\n",
              "      spin 1s steps(1) infinite;\n",
              "  }\n",
              "\n",
              "  @keyframes spin {\n",
              "    0% {\n",
              "      border-color: transparent;\n",
              "      border-bottom-color: var(--fill-color);\n",
              "      border-left-color: var(--fill-color);\n",
              "    }\n",
              "    20% {\n",
              "      border-color: transparent;\n",
              "      border-left-color: var(--fill-color);\n",
              "      border-top-color: var(--fill-color);\n",
              "    }\n",
              "    30% {\n",
              "      border-color: transparent;\n",
              "      border-left-color: var(--fill-color);\n",
              "      border-top-color: var(--fill-color);\n",
              "      border-right-color: var(--fill-color);\n",
              "    }\n",
              "    40% {\n",
              "      border-color: transparent;\n",
              "      border-right-color: var(--fill-color);\n",
              "      border-top-color: var(--fill-color);\n",
              "    }\n",
              "    60% {\n",
              "      border-color: transparent;\n",
              "      border-right-color: var(--fill-color);\n",
              "    }\n",
              "    80% {\n",
              "      border-color: transparent;\n",
              "      border-right-color: var(--fill-color);\n",
              "      border-bottom-color: var(--fill-color);\n",
              "    }\n",
              "    90% {\n",
              "      border-color: transparent;\n",
              "      border-bottom-color: var(--fill-color);\n",
              "    }\n",
              "  }\n",
              "</style>\n",
              "\n",
              "  <script>\n",
              "    async function quickchart(key) {\n",
              "      const quickchartButtonEl =\n",
              "        document.querySelector('#' + key + ' button');\n",
              "      quickchartButtonEl.disabled = true;  // To prevent multiple clicks.\n",
              "      quickchartButtonEl.classList.add('colab-df-spinner');\n",
              "      try {\n",
              "        const charts = await google.colab.kernel.invokeFunction(\n",
              "            'suggestCharts', [key], {});\n",
              "      } catch (error) {\n",
              "        console.error('Error during call to suggestCharts:', error);\n",
              "      }\n",
              "      quickchartButtonEl.classList.remove('colab-df-spinner');\n",
              "      quickchartButtonEl.classList.add('colab-df-quickchart-complete');\n",
              "    }\n",
              "    (() => {\n",
              "      let quickchartButtonEl =\n",
              "        document.querySelector('#df-ffc65526-b49b-4af6-bb45-192cb34033b8 button');\n",
              "      quickchartButtonEl.style.display =\n",
              "        google.colab.kernel.accessAllowed ? 'block' : 'none';\n",
              "    })();\n",
              "  </script>\n",
              "</div>\n",
              "    </div>\n",
              "  </div>\n"
            ]
          },
          "metadata": {},
          "execution_count": 64
        }
      ]
    },
    {
      "cell_type": "markdown",
      "source": [
        "## Готовим данные для обучения"
      ],
      "metadata": {
        "id": "tSo9Q59pQEVm"
      }
    },
    {
      "cell_type": "markdown",
      "source": [
        "Преобразуем текстовые метки классов в числовые"
      ],
      "metadata": {
        "id": "6qgk9QzIQH8m"
      }
    },
    {
      "cell_type": "code",
      "source": [
        "mapping = {'Negative': 0, 'Positive': 1}"
      ],
      "metadata": {
        "id": "RSc0tTcrQDw0"
      },
      "execution_count": null,
      "outputs": []
    },
    {
      "cell_type": "code",
      "source": [
        "banks.replace({'Score': mapping}, inplace=True)"
      ],
      "metadata": {
        "id": "Z_-OK2pAQOg3"
      },
      "execution_count": null,
      "outputs": []
    },
    {
      "cell_type": "code",
      "source": [
        "banks"
      ],
      "metadata": {
        "colab": {
          "base_uri": "https://localhost:8080/",
          "height": 628
        },
        "id": "JQP4M7FGQUD6",
        "outputId": "3b595f41-ad97-4804-a609-b552f0b3c5e3"
      },
      "execution_count": null,
      "outputs": [
        {
          "output_type": "execute_result",
          "data": {
            "text/plain": [
              "       Score                                               Text  \\\n",
              "idx                                                               \n",
              "0          1  В Альфа-Банке работает замечательная девушка -...   \n",
              "1          0  Оформляя рассрочку в м. Видео в меге тёплый ст...   \n",
              "2          1  Очень порадовала оперативность работы в банке....   \n",
              "3          0  Имела неосторожность оформить потреб. кредит в...   \n",
              "4          0  Небольшая предыстория: Нашел на сайте MDM банк...   \n",
              "...      ...                                                ...   \n",
              "13994      1  О высокой надёжности МКБ, порядочности и добро...   \n",
              "13995      1  Обслуживаюсь в офисе на Чернореченской 42а, ка...   \n",
              "13996      1  Попала сегодня в очень неприятную ситуацию. Ре...   \n",
              "13997      1  Добрый день! Давно являюсь клиентом банка Русс...   \n",
              "13998      0  Сначала было все банально. Взял в кредит mp3 п...   \n",
              "\n",
              "                                      Preprocessed_texts  \\\n",
              "idx                                                        \n",
              "0      [альфа-банк, работать, замечательный, девушка,...   \n",
              "1      [оформлять, рассрочка, м., видео, мег, тёплый,...   \n",
              "2      [очень, порадовать, оперативность, работа, бан...   \n",
              "3      [иметь, неосторожность, оформить, потреба, кре...   \n",
              "4      [небольшой, предыстория, найти, сайт, mdm, бан...   \n",
              "...                                                  ...   \n",
              "13994  [высокий, надёжность, мкб, порядочность, добро...   \n",
              "13995  [обслуживаться, офис, чернореченский, 42а, физ...   \n",
              "13996  [попасть, сегодня, очень, неприятный, ситуация...   \n",
              "13997  [добрый, день, давно, являться, клиент, банк, ...   \n",
              "13998  [сначала, банально, взять, кредит, mp3, плеер,...   \n",
              "\n",
              "                                               Sequences  \n",
              "idx                                                       \n",
              "0      [62, 43, 916, 78, 204, 1867, 357, 2710, 409, 1...  \n",
              "1      [267, 855, 1178, 3214, 3891, 2981, 7345, 171, ...  \n",
              "2      [18, 1055, 910, 29, 2, 475, 183, 3, 628, 1768,...  \n",
              "3      [118, 4817, 72, 2368, 9, 62, 18, 2664, 1287, 3...  \n",
              "4      [418, 3850, 275, 87, 2, 648, 3, 4893, 2, 296, ...  \n",
              "...                                                  ...  \n",
              "13994  [401, 2321, 809, 5027, 8157, 7, 3098, 126, 441...  \n",
              "13995  [362, 24, 9494, 2151, 201, 14, 24, 95, 141, 66...  \n",
              "13996  [517, 109, 18, 992, 53, 38, 224, 233, 3, 46, 3...  \n",
              "13997  [181, 5, 397, 86, 13, 2, 674, 691, 118, 343, 3...  \n",
              "13998  [438, 4110, 127, 9, 460, 2037, 202, 660, 3983,...  \n",
              "\n",
              "[13999 rows x 4 columns]"
            ],
            "text/html": [
              "\n",
              "  <div id=\"df-e865d3ba-a48d-45ae-9478-910d6bfaec80\" class=\"colab-df-container\">\n",
              "    <div>\n",
              "<style scoped>\n",
              "    .dataframe tbody tr th:only-of-type {\n",
              "        vertical-align: middle;\n",
              "    }\n",
              "\n",
              "    .dataframe tbody tr th {\n",
              "        vertical-align: top;\n",
              "    }\n",
              "\n",
              "    .dataframe thead th {\n",
              "        text-align: right;\n",
              "    }\n",
              "</style>\n",
              "<table border=\"1\" class=\"dataframe\">\n",
              "  <thead>\n",
              "    <tr style=\"text-align: right;\">\n",
              "      <th></th>\n",
              "      <th>Score</th>\n",
              "      <th>Text</th>\n",
              "      <th>Preprocessed_texts</th>\n",
              "      <th>Sequences</th>\n",
              "    </tr>\n",
              "    <tr>\n",
              "      <th>idx</th>\n",
              "      <th></th>\n",
              "      <th></th>\n",
              "      <th></th>\n",
              "      <th></th>\n",
              "    </tr>\n",
              "  </thead>\n",
              "  <tbody>\n",
              "    <tr>\n",
              "      <th>0</th>\n",
              "      <td>1</td>\n",
              "      <td>В Альфа-Банке работает замечательная девушка -...</td>\n",
              "      <td>[альфа-банк, работать, замечательный, девушка,...</td>\n",
              "      <td>[62, 43, 916, 78, 204, 1867, 357, 2710, 409, 1...</td>\n",
              "    </tr>\n",
              "    <tr>\n",
              "      <th>1</th>\n",
              "      <td>0</td>\n",
              "      <td>Оформляя рассрочку в м. Видео в меге тёплый ст...</td>\n",
              "      <td>[оформлять, рассрочка, м., видео, мег, тёплый,...</td>\n",
              "      <td>[267, 855, 1178, 3214, 3891, 2981, 7345, 171, ...</td>\n",
              "    </tr>\n",
              "    <tr>\n",
              "      <th>2</th>\n",
              "      <td>1</td>\n",
              "      <td>Очень порадовала оперативность работы в банке....</td>\n",
              "      <td>[очень, порадовать, оперативность, работа, бан...</td>\n",
              "      <td>[18, 1055, 910, 29, 2, 475, 183, 3, 628, 1768,...</td>\n",
              "    </tr>\n",
              "    <tr>\n",
              "      <th>3</th>\n",
              "      <td>0</td>\n",
              "      <td>Имела неосторожность оформить потреб. кредит в...</td>\n",
              "      <td>[иметь, неосторожность, оформить, потреба, кре...</td>\n",
              "      <td>[118, 4817, 72, 2368, 9, 62, 18, 2664, 1287, 3...</td>\n",
              "    </tr>\n",
              "    <tr>\n",
              "      <th>4</th>\n",
              "      <td>0</td>\n",
              "      <td>Небольшая предыстория: Нашел на сайте MDM банк...</td>\n",
              "      <td>[небольшой, предыстория, найти, сайт, mdm, бан...</td>\n",
              "      <td>[418, 3850, 275, 87, 2, 648, 3, 4893, 2, 296, ...</td>\n",
              "    </tr>\n",
              "    <tr>\n",
              "      <th>...</th>\n",
              "      <td>...</td>\n",
              "      <td>...</td>\n",
              "      <td>...</td>\n",
              "      <td>...</td>\n",
              "    </tr>\n",
              "    <tr>\n",
              "      <th>13994</th>\n",
              "      <td>1</td>\n",
              "      <td>О высокой надёжности МКБ, порядочности и добро...</td>\n",
              "      <td>[высокий, надёжность, мкб, порядочность, добро...</td>\n",
              "      <td>[401, 2321, 809, 5027, 8157, 7, 3098, 126, 441...</td>\n",
              "    </tr>\n",
              "    <tr>\n",
              "      <th>13995</th>\n",
              "      <td>1</td>\n",
              "      <td>Обслуживаюсь в офисе на Чернореченской 42а, ка...</td>\n",
              "      <td>[обслуживаться, офис, чернореченский, 42а, физ...</td>\n",
              "      <td>[362, 24, 9494, 2151, 201, 14, 24, 95, 141, 66...</td>\n",
              "    </tr>\n",
              "    <tr>\n",
              "      <th>13996</th>\n",
              "      <td>1</td>\n",
              "      <td>Попала сегодня в очень неприятную ситуацию. Ре...</td>\n",
              "      <td>[попасть, сегодня, очень, неприятный, ситуация...</td>\n",
              "      <td>[517, 109, 18, 992, 53, 38, 224, 233, 3, 46, 3...</td>\n",
              "    </tr>\n",
              "    <tr>\n",
              "      <th>13997</th>\n",
              "      <td>1</td>\n",
              "      <td>Добрый день! Давно являюсь клиентом банка Русс...</td>\n",
              "      <td>[добрый, день, давно, являться, клиент, банк, ...</td>\n",
              "      <td>[181, 5, 397, 86, 13, 2, 674, 691, 118, 343, 3...</td>\n",
              "    </tr>\n",
              "    <tr>\n",
              "      <th>13998</th>\n",
              "      <td>0</td>\n",
              "      <td>Сначала было все банально. Взял в кредит mp3 п...</td>\n",
              "      <td>[сначала, банально, взять, кредит, mp3, плеер,...</td>\n",
              "      <td>[438, 4110, 127, 9, 460, 2037, 202, 660, 3983,...</td>\n",
              "    </tr>\n",
              "  </tbody>\n",
              "</table>\n",
              "<p>13999 rows × 4 columns</p>\n",
              "</div>\n",
              "    <div class=\"colab-df-buttons\">\n",
              "\n",
              "  <div class=\"colab-df-container\">\n",
              "    <button class=\"colab-df-convert\" onclick=\"convertToInteractive('df-e865d3ba-a48d-45ae-9478-910d6bfaec80')\"\n",
              "            title=\"Convert this dataframe to an interactive table.\"\n",
              "            style=\"display:none;\">\n",
              "\n",
              "  <svg xmlns=\"http://www.w3.org/2000/svg\" height=\"24px\" viewBox=\"0 -960 960 960\">\n",
              "    <path d=\"M120-120v-720h720v720H120Zm60-500h600v-160H180v160Zm220 220h160v-160H400v160Zm0 220h160v-160H400v160ZM180-400h160v-160H180v160Zm440 0h160v-160H620v160ZM180-180h160v-160H180v160Zm440 0h160v-160H620v160Z\"/>\n",
              "  </svg>\n",
              "    </button>\n",
              "\n",
              "  <style>\n",
              "    .colab-df-container {\n",
              "      display:flex;\n",
              "      gap: 12px;\n",
              "    }\n",
              "\n",
              "    .colab-df-convert {\n",
              "      background-color: #E8F0FE;\n",
              "      border: none;\n",
              "      border-radius: 50%;\n",
              "      cursor: pointer;\n",
              "      display: none;\n",
              "      fill: #1967D2;\n",
              "      height: 32px;\n",
              "      padding: 0 0 0 0;\n",
              "      width: 32px;\n",
              "    }\n",
              "\n",
              "    .colab-df-convert:hover {\n",
              "      background-color: #E2EBFA;\n",
              "      box-shadow: 0px 1px 2px rgba(60, 64, 67, 0.3), 0px 1px 3px 1px rgba(60, 64, 67, 0.15);\n",
              "      fill: #174EA6;\n",
              "    }\n",
              "\n",
              "    .colab-df-buttons div {\n",
              "      margin-bottom: 4px;\n",
              "    }\n",
              "\n",
              "    [theme=dark] .colab-df-convert {\n",
              "      background-color: #3B4455;\n",
              "      fill: #D2E3FC;\n",
              "    }\n",
              "\n",
              "    [theme=dark] .colab-df-convert:hover {\n",
              "      background-color: #434B5C;\n",
              "      box-shadow: 0px 1px 3px 1px rgba(0, 0, 0, 0.15);\n",
              "      filter: drop-shadow(0px 1px 2px rgba(0, 0, 0, 0.3));\n",
              "      fill: #FFFFFF;\n",
              "    }\n",
              "  </style>\n",
              "\n",
              "    <script>\n",
              "      const buttonEl =\n",
              "        document.querySelector('#df-e865d3ba-a48d-45ae-9478-910d6bfaec80 button.colab-df-convert');\n",
              "      buttonEl.style.display =\n",
              "        google.colab.kernel.accessAllowed ? 'block' : 'none';\n",
              "\n",
              "      async function convertToInteractive(key) {\n",
              "        const element = document.querySelector('#df-e865d3ba-a48d-45ae-9478-910d6bfaec80');\n",
              "        const dataTable =\n",
              "          await google.colab.kernel.invokeFunction('convertToInteractive',\n",
              "                                                    [key], {});\n",
              "        if (!dataTable) return;\n",
              "\n",
              "        const docLinkHtml = 'Like what you see? Visit the ' +\n",
              "          '<a target=\"_blank\" href=https://colab.research.google.com/notebooks/data_table.ipynb>data table notebook</a>'\n",
              "          + ' to learn more about interactive tables.';\n",
              "        element.innerHTML = '';\n",
              "        dataTable['output_type'] = 'display_data';\n",
              "        await google.colab.output.renderOutput(dataTable, element);\n",
              "        const docLink = document.createElement('div');\n",
              "        docLink.innerHTML = docLinkHtml;\n",
              "        element.appendChild(docLink);\n",
              "      }\n",
              "    </script>\n",
              "  </div>\n",
              "\n",
              "\n",
              "<div id=\"df-16d59ad9-384b-49e1-ac20-57c69059f34c\">\n",
              "  <button class=\"colab-df-quickchart\" onclick=\"quickchart('df-16d59ad9-384b-49e1-ac20-57c69059f34c')\"\n",
              "            title=\"Suggest charts.\"\n",
              "            style=\"display:none;\">\n",
              "\n",
              "<svg xmlns=\"http://www.w3.org/2000/svg\" height=\"24px\"viewBox=\"0 0 24 24\"\n",
              "     width=\"24px\">\n",
              "    <g>\n",
              "        <path d=\"M19 3H5c-1.1 0-2 .9-2 2v14c0 1.1.9 2 2 2h14c1.1 0 2-.9 2-2V5c0-1.1-.9-2-2-2zM9 17H7v-7h2v7zm4 0h-2V7h2v10zm4 0h-2v-4h2v4z\"/>\n",
              "    </g>\n",
              "</svg>\n",
              "  </button>\n",
              "\n",
              "<style>\n",
              "  .colab-df-quickchart {\n",
              "      --bg-color: #E8F0FE;\n",
              "      --fill-color: #1967D2;\n",
              "      --hover-bg-color: #E2EBFA;\n",
              "      --hover-fill-color: #174EA6;\n",
              "      --disabled-fill-color: #AAA;\n",
              "      --disabled-bg-color: #DDD;\n",
              "  }\n",
              "\n",
              "  [theme=dark] .colab-df-quickchart {\n",
              "      --bg-color: #3B4455;\n",
              "      --fill-color: #D2E3FC;\n",
              "      --hover-bg-color: #434B5C;\n",
              "      --hover-fill-color: #FFFFFF;\n",
              "      --disabled-bg-color: #3B4455;\n",
              "      --disabled-fill-color: #666;\n",
              "  }\n",
              "\n",
              "  .colab-df-quickchart {\n",
              "    background-color: var(--bg-color);\n",
              "    border: none;\n",
              "    border-radius: 50%;\n",
              "    cursor: pointer;\n",
              "    display: none;\n",
              "    fill: var(--fill-color);\n",
              "    height: 32px;\n",
              "    padding: 0;\n",
              "    width: 32px;\n",
              "  }\n",
              "\n",
              "  .colab-df-quickchart:hover {\n",
              "    background-color: var(--hover-bg-color);\n",
              "    box-shadow: 0 1px 2px rgba(60, 64, 67, 0.3), 0 1px 3px 1px rgba(60, 64, 67, 0.15);\n",
              "    fill: var(--button-hover-fill-color);\n",
              "  }\n",
              "\n",
              "  .colab-df-quickchart-complete:disabled,\n",
              "  .colab-df-quickchart-complete:disabled:hover {\n",
              "    background-color: var(--disabled-bg-color);\n",
              "    fill: var(--disabled-fill-color);\n",
              "    box-shadow: none;\n",
              "  }\n",
              "\n",
              "  .colab-df-spinner {\n",
              "    border: 2px solid var(--fill-color);\n",
              "    border-color: transparent;\n",
              "    border-bottom-color: var(--fill-color);\n",
              "    animation:\n",
              "      spin 1s steps(1) infinite;\n",
              "  }\n",
              "\n",
              "  @keyframes spin {\n",
              "    0% {\n",
              "      border-color: transparent;\n",
              "      border-bottom-color: var(--fill-color);\n",
              "      border-left-color: var(--fill-color);\n",
              "    }\n",
              "    20% {\n",
              "      border-color: transparent;\n",
              "      border-left-color: var(--fill-color);\n",
              "      border-top-color: var(--fill-color);\n",
              "    }\n",
              "    30% {\n",
              "      border-color: transparent;\n",
              "      border-left-color: var(--fill-color);\n",
              "      border-top-color: var(--fill-color);\n",
              "      border-right-color: var(--fill-color);\n",
              "    }\n",
              "    40% {\n",
              "      border-color: transparent;\n",
              "      border-right-color: var(--fill-color);\n",
              "      border-top-color: var(--fill-color);\n",
              "    }\n",
              "    60% {\n",
              "      border-color: transparent;\n",
              "      border-right-color: var(--fill-color);\n",
              "    }\n",
              "    80% {\n",
              "      border-color: transparent;\n",
              "      border-right-color: var(--fill-color);\n",
              "      border-bottom-color: var(--fill-color);\n",
              "    }\n",
              "    90% {\n",
              "      border-color: transparent;\n",
              "      border-bottom-color: var(--fill-color);\n",
              "    }\n",
              "  }\n",
              "</style>\n",
              "\n",
              "  <script>\n",
              "    async function quickchart(key) {\n",
              "      const quickchartButtonEl =\n",
              "        document.querySelector('#' + key + ' button');\n",
              "      quickchartButtonEl.disabled = true;  // To prevent multiple clicks.\n",
              "      quickchartButtonEl.classList.add('colab-df-spinner');\n",
              "      try {\n",
              "        const charts = await google.colab.kernel.invokeFunction(\n",
              "            'suggestCharts', [key], {});\n",
              "      } catch (error) {\n",
              "        console.error('Error during call to suggestCharts:', error);\n",
              "      }\n",
              "      quickchartButtonEl.classList.remove('colab-df-spinner');\n",
              "      quickchartButtonEl.classList.add('colab-df-quickchart-complete');\n",
              "    }\n",
              "    (() => {\n",
              "      let quickchartButtonEl =\n",
              "        document.querySelector('#df-16d59ad9-384b-49e1-ac20-57c69059f34c button');\n",
              "      quickchartButtonEl.style.display =\n",
              "        google.colab.kernel.accessAllowed ? 'block' : 'none';\n",
              "    })();\n",
              "  </script>\n",
              "</div>\n",
              "    </div>\n",
              "  </div>\n"
            ]
          },
          "metadata": {},
          "execution_count": 20
        }
      ]
    },
    {
      "cell_type": "markdown",
      "source": [
        "### Выделяем данные для обучения и тестирования"
      ],
      "metadata": {
        "id": "FrD9el8pQYEJ"
      }
    },
    {
      "cell_type": "code",
      "source": [
        "train, test = train_test_split(banks, test_size=0.2)"
      ],
      "metadata": {
        "id": "XlaVMvgGQdZU"
      },
      "execution_count": null,
      "outputs": []
    },
    {
      "cell_type": "code",
      "source": [
        "train"
      ],
      "metadata": {
        "colab": {
          "base_uri": "https://localhost:8080/",
          "height": 628
        },
        "id": "8NJOp_GAQ_El",
        "outputId": "b81869e3-fbec-4729-b1a4-25dffb1a22f3"
      },
      "execution_count": null,
      "outputs": [
        {
          "output_type": "execute_result",
          "data": {
            "text/plain": [
              "       Score                                               Text  \\\n",
              "idx                                                               \n",
              "13024      0  Вообще банк этот очень клиентоорентирован. Ког...   \n",
              "6213       1  ...пока не удавалось.А про БИН-банк (дополните...   \n",
              "4859       1  Я клиент банка в течение 3-х лет. Началось все...   \n",
              "10463      1  Добрый день! С тех пор как в нашем городе появ...   \n",
              "1006       1  Хочу поделиться своим положительным опытом раб...   \n",
              "...      ...                                                ...   \n",
              "4070       1  Пользуюсь услугами банка Русский Стандарт уже ...   \n",
              "881        0  Сегодня, посмотрев выписку в ИБ обнаружил таку...   \n",
              "12884      1  Ребята, у вас отличный банк! Это проявилось им...   \n",
              "3365       1  Получал возмещение вклада в офисе на Павелецко...   \n",
              "9930       1  Здравствуйте! Хочу выразить благодарность спец...   \n",
              "\n",
              "                                      Preprocessed_texts  \\\n",
              "idx                                                        \n",
              "13024  [вообще, банк, очень, клиентоорентировать, я, ...   \n",
              "6213   [пока, удавалось., бин-банк, дополнительный, о...   \n",
              "4859   [клиент, банк, течение, 3-й, год, начаться, ав...   \n",
              "10463  [добрый, день, тот, пора, наш, город, появитьс...   \n",
              "1006   [хотеть, поделиться, свой, положительный, опыт...   \n",
              "...                                                  ...   \n",
              "4070   [пользоваться, услуга, банк, русский, стандарт...   \n",
              "881    [сегодня, посмотреть, выписка, иб, обнаружить,...   \n",
              "12884  [ребята, отличный, банк, это, проявиться, имен...   \n",
              "3365   [получать, возмещение, вклад, офис, павелецкий...   \n",
              "9930   [здравствуйте, хотеть, выразить, благодарность...   \n",
              "\n",
              "                                               Sequences  \n",
              "idx                                                       \n",
              "13024  [138, 2, 18, 90, 19, 699, 9, 1520, 641, 353, 3...  \n",
              "6213   [153, 2408, 273, 24, 4711, 1972, 39, 15, 115, ...  \n",
              "4859   [13, 2, 107, 920, 14, 414, 729, 91, 52, 137, 7...  \n",
              "10463  [181, 5, 106, 303, 133, 291, 497, 344, 1076, 6...  \n",
              "1006   [39, 999, 17, 203, 449, 29, 2472, 2, 13, 2, 11...  \n",
              "...                                                  ...  \n",
              "4070   [77, 44, 2, 674, 691, 397, 438, 4, 446, 9, 8, ...  \n",
              "881    [109, 436, 255, 847, 613, 25, 3944, 5877, 1163...  \n",
              "12884  [1328, 604, 2, 4, 8411, 172, 113, 133, 5874, 1...  \n",
              "3365   [179, 1775, 47, 24, 2498, 6504, 66, 8, 3345, 3...  \n",
              "9930   [525, 39, 472, 283, 101, 1712, 1091, 9860, 972...  \n",
              "\n",
              "[11199 rows x 4 columns]"
            ],
            "text/html": [
              "\n",
              "  <div id=\"df-5cde024e-94b1-4f29-a723-3412f527c2ad\" class=\"colab-df-container\">\n",
              "    <div>\n",
              "<style scoped>\n",
              "    .dataframe tbody tr th:only-of-type {\n",
              "        vertical-align: middle;\n",
              "    }\n",
              "\n",
              "    .dataframe tbody tr th {\n",
              "        vertical-align: top;\n",
              "    }\n",
              "\n",
              "    .dataframe thead th {\n",
              "        text-align: right;\n",
              "    }\n",
              "</style>\n",
              "<table border=\"1\" class=\"dataframe\">\n",
              "  <thead>\n",
              "    <tr style=\"text-align: right;\">\n",
              "      <th></th>\n",
              "      <th>Score</th>\n",
              "      <th>Text</th>\n",
              "      <th>Preprocessed_texts</th>\n",
              "      <th>Sequences</th>\n",
              "    </tr>\n",
              "    <tr>\n",
              "      <th>idx</th>\n",
              "      <th></th>\n",
              "      <th></th>\n",
              "      <th></th>\n",
              "      <th></th>\n",
              "    </tr>\n",
              "  </thead>\n",
              "  <tbody>\n",
              "    <tr>\n",
              "      <th>13024</th>\n",
              "      <td>0</td>\n",
              "      <td>Вообще банк этот очень клиентоорентирован. Ког...</td>\n",
              "      <td>[вообще, банк, очень, клиентоорентировать, я, ...</td>\n",
              "      <td>[138, 2, 18, 90, 19, 699, 9, 1520, 641, 353, 3...</td>\n",
              "    </tr>\n",
              "    <tr>\n",
              "      <th>6213</th>\n",
              "      <td>1</td>\n",
              "      <td>...пока не удавалось.А про БИН-банк (дополните...</td>\n",
              "      <td>[пока, удавалось., бин-банк, дополнительный, о...</td>\n",
              "      <td>[153, 2408, 273, 24, 4711, 1972, 39, 15, 115, ...</td>\n",
              "    </tr>\n",
              "    <tr>\n",
              "      <th>4859</th>\n",
              "      <td>1</td>\n",
              "      <td>Я клиент банка в течение 3-х лет. Началось все...</td>\n",
              "      <td>[клиент, банк, течение, 3-й, год, начаться, ав...</td>\n",
              "      <td>[13, 2, 107, 920, 14, 414, 729, 91, 52, 137, 7...</td>\n",
              "    </tr>\n",
              "    <tr>\n",
              "      <th>10463</th>\n",
              "      <td>1</td>\n",
              "      <td>Добрый день! С тех пор как в нашем городе появ...</td>\n",
              "      <td>[добрый, день, тот, пора, наш, город, появитьс...</td>\n",
              "      <td>[181, 5, 106, 303, 133, 291, 497, 344, 1076, 6...</td>\n",
              "    </tr>\n",
              "    <tr>\n",
              "      <th>1006</th>\n",
              "      <td>1</td>\n",
              "      <td>Хочу поделиться своим положительным опытом раб...</td>\n",
              "      <td>[хотеть, поделиться, свой, положительный, опыт...</td>\n",
              "      <td>[39, 999, 17, 203, 449, 29, 2472, 2, 13, 2, 11...</td>\n",
              "    </tr>\n",
              "    <tr>\n",
              "      <th>...</th>\n",
              "      <td>...</td>\n",
              "      <td>...</td>\n",
              "      <td>...</td>\n",
              "      <td>...</td>\n",
              "    </tr>\n",
              "    <tr>\n",
              "      <th>4070</th>\n",
              "      <td>1</td>\n",
              "      <td>Пользуюсь услугами банка Русский Стандарт уже ...</td>\n",
              "      <td>[пользоваться, услуга, банк, русский, стандарт...</td>\n",
              "      <td>[77, 44, 2, 674, 691, 397, 438, 4, 446, 9, 8, ...</td>\n",
              "    </tr>\n",
              "    <tr>\n",
              "      <th>881</th>\n",
              "      <td>0</td>\n",
              "      <td>Сегодня, посмотрев выписку в ИБ обнаружил таку...</td>\n",
              "      <td>[сегодня, посмотреть, выписка, иб, обнаружить,...</td>\n",
              "      <td>[109, 436, 255, 847, 613, 25, 3944, 5877, 1163...</td>\n",
              "    </tr>\n",
              "    <tr>\n",
              "      <th>12884</th>\n",
              "      <td>1</td>\n",
              "      <td>Ребята, у вас отличный банк! Это проявилось им...</td>\n",
              "      <td>[ребята, отличный, банк, это, проявиться, имен...</td>\n",
              "      <td>[1328, 604, 2, 4, 8411, 172, 113, 133, 5874, 1...</td>\n",
              "    </tr>\n",
              "    <tr>\n",
              "      <th>3365</th>\n",
              "      <td>1</td>\n",
              "      <td>Получал возмещение вклада в офисе на Павелецко...</td>\n",
              "      <td>[получать, возмещение, вклад, офис, павелецкий...</td>\n",
              "      <td>[179, 1775, 47, 24, 2498, 6504, 66, 8, 3345, 3...</td>\n",
              "    </tr>\n",
              "    <tr>\n",
              "      <th>9930</th>\n",
              "      <td>1</td>\n",
              "      <td>Здравствуйте! Хочу выразить благодарность спец...</td>\n",
              "      <td>[здравствуйте, хотеть, выразить, благодарность...</td>\n",
              "      <td>[525, 39, 472, 283, 101, 1712, 1091, 9860, 972...</td>\n",
              "    </tr>\n",
              "  </tbody>\n",
              "</table>\n",
              "<p>11199 rows × 4 columns</p>\n",
              "</div>\n",
              "    <div class=\"colab-df-buttons\">\n",
              "\n",
              "  <div class=\"colab-df-container\">\n",
              "    <button class=\"colab-df-convert\" onclick=\"convertToInteractive('df-5cde024e-94b1-4f29-a723-3412f527c2ad')\"\n",
              "            title=\"Convert this dataframe to an interactive table.\"\n",
              "            style=\"display:none;\">\n",
              "\n",
              "  <svg xmlns=\"http://www.w3.org/2000/svg\" height=\"24px\" viewBox=\"0 -960 960 960\">\n",
              "    <path d=\"M120-120v-720h720v720H120Zm60-500h600v-160H180v160Zm220 220h160v-160H400v160Zm0 220h160v-160H400v160ZM180-400h160v-160H180v160Zm440 0h160v-160H620v160ZM180-180h160v-160H180v160Zm440 0h160v-160H620v160Z\"/>\n",
              "  </svg>\n",
              "    </button>\n",
              "\n",
              "  <style>\n",
              "    .colab-df-container {\n",
              "      display:flex;\n",
              "      gap: 12px;\n",
              "    }\n",
              "\n",
              "    .colab-df-convert {\n",
              "      background-color: #E8F0FE;\n",
              "      border: none;\n",
              "      border-radius: 50%;\n",
              "      cursor: pointer;\n",
              "      display: none;\n",
              "      fill: #1967D2;\n",
              "      height: 32px;\n",
              "      padding: 0 0 0 0;\n",
              "      width: 32px;\n",
              "    }\n",
              "\n",
              "    .colab-df-convert:hover {\n",
              "      background-color: #E2EBFA;\n",
              "      box-shadow: 0px 1px 2px rgba(60, 64, 67, 0.3), 0px 1px 3px 1px rgba(60, 64, 67, 0.15);\n",
              "      fill: #174EA6;\n",
              "    }\n",
              "\n",
              "    .colab-df-buttons div {\n",
              "      margin-bottom: 4px;\n",
              "    }\n",
              "\n",
              "    [theme=dark] .colab-df-convert {\n",
              "      background-color: #3B4455;\n",
              "      fill: #D2E3FC;\n",
              "    }\n",
              "\n",
              "    [theme=dark] .colab-df-convert:hover {\n",
              "      background-color: #434B5C;\n",
              "      box-shadow: 0px 1px 3px 1px rgba(0, 0, 0, 0.15);\n",
              "      filter: drop-shadow(0px 1px 2px rgba(0, 0, 0, 0.3));\n",
              "      fill: #FFFFFF;\n",
              "    }\n",
              "  </style>\n",
              "\n",
              "    <script>\n",
              "      const buttonEl =\n",
              "        document.querySelector('#df-5cde024e-94b1-4f29-a723-3412f527c2ad button.colab-df-convert');\n",
              "      buttonEl.style.display =\n",
              "        google.colab.kernel.accessAllowed ? 'block' : 'none';\n",
              "\n",
              "      async function convertToInteractive(key) {\n",
              "        const element = document.querySelector('#df-5cde024e-94b1-4f29-a723-3412f527c2ad');\n",
              "        const dataTable =\n",
              "          await google.colab.kernel.invokeFunction('convertToInteractive',\n",
              "                                                    [key], {});\n",
              "        if (!dataTable) return;\n",
              "\n",
              "        const docLinkHtml = 'Like what you see? Visit the ' +\n",
              "          '<a target=\"_blank\" href=https://colab.research.google.com/notebooks/data_table.ipynb>data table notebook</a>'\n",
              "          + ' to learn more about interactive tables.';\n",
              "        element.innerHTML = '';\n",
              "        dataTable['output_type'] = 'display_data';\n",
              "        await google.colab.output.renderOutput(dataTable, element);\n",
              "        const docLink = document.createElement('div');\n",
              "        docLink.innerHTML = docLinkHtml;\n",
              "        element.appendChild(docLink);\n",
              "      }\n",
              "    </script>\n",
              "  </div>\n",
              "\n",
              "\n",
              "<div id=\"df-77ad5e2d-4200-4f98-87e7-8dfe5e6d1073\">\n",
              "  <button class=\"colab-df-quickchart\" onclick=\"quickchart('df-77ad5e2d-4200-4f98-87e7-8dfe5e6d1073')\"\n",
              "            title=\"Suggest charts.\"\n",
              "            style=\"display:none;\">\n",
              "\n",
              "<svg xmlns=\"http://www.w3.org/2000/svg\" height=\"24px\"viewBox=\"0 0 24 24\"\n",
              "     width=\"24px\">\n",
              "    <g>\n",
              "        <path d=\"M19 3H5c-1.1 0-2 .9-2 2v14c0 1.1.9 2 2 2h14c1.1 0 2-.9 2-2V5c0-1.1-.9-2-2-2zM9 17H7v-7h2v7zm4 0h-2V7h2v10zm4 0h-2v-4h2v4z\"/>\n",
              "    </g>\n",
              "</svg>\n",
              "  </button>\n",
              "\n",
              "<style>\n",
              "  .colab-df-quickchart {\n",
              "      --bg-color: #E8F0FE;\n",
              "      --fill-color: #1967D2;\n",
              "      --hover-bg-color: #E2EBFA;\n",
              "      --hover-fill-color: #174EA6;\n",
              "      --disabled-fill-color: #AAA;\n",
              "      --disabled-bg-color: #DDD;\n",
              "  }\n",
              "\n",
              "  [theme=dark] .colab-df-quickchart {\n",
              "      --bg-color: #3B4455;\n",
              "      --fill-color: #D2E3FC;\n",
              "      --hover-bg-color: #434B5C;\n",
              "      --hover-fill-color: #FFFFFF;\n",
              "      --disabled-bg-color: #3B4455;\n",
              "      --disabled-fill-color: #666;\n",
              "  }\n",
              "\n",
              "  .colab-df-quickchart {\n",
              "    background-color: var(--bg-color);\n",
              "    border: none;\n",
              "    border-radius: 50%;\n",
              "    cursor: pointer;\n",
              "    display: none;\n",
              "    fill: var(--fill-color);\n",
              "    height: 32px;\n",
              "    padding: 0;\n",
              "    width: 32px;\n",
              "  }\n",
              "\n",
              "  .colab-df-quickchart:hover {\n",
              "    background-color: var(--hover-bg-color);\n",
              "    box-shadow: 0 1px 2px rgba(60, 64, 67, 0.3), 0 1px 3px 1px rgba(60, 64, 67, 0.15);\n",
              "    fill: var(--button-hover-fill-color);\n",
              "  }\n",
              "\n",
              "  .colab-df-quickchart-complete:disabled,\n",
              "  .colab-df-quickchart-complete:disabled:hover {\n",
              "    background-color: var(--disabled-bg-color);\n",
              "    fill: var(--disabled-fill-color);\n",
              "    box-shadow: none;\n",
              "  }\n",
              "\n",
              "  .colab-df-spinner {\n",
              "    border: 2px solid var(--fill-color);\n",
              "    border-color: transparent;\n",
              "    border-bottom-color: var(--fill-color);\n",
              "    animation:\n",
              "      spin 1s steps(1) infinite;\n",
              "  }\n",
              "\n",
              "  @keyframes spin {\n",
              "    0% {\n",
              "      border-color: transparent;\n",
              "      border-bottom-color: var(--fill-color);\n",
              "      border-left-color: var(--fill-color);\n",
              "    }\n",
              "    20% {\n",
              "      border-color: transparent;\n",
              "      border-left-color: var(--fill-color);\n",
              "      border-top-color: var(--fill-color);\n",
              "    }\n",
              "    30% {\n",
              "      border-color: transparent;\n",
              "      border-left-color: var(--fill-color);\n",
              "      border-top-color: var(--fill-color);\n",
              "      border-right-color: var(--fill-color);\n",
              "    }\n",
              "    40% {\n",
              "      border-color: transparent;\n",
              "      border-right-color: var(--fill-color);\n",
              "      border-top-color: var(--fill-color);\n",
              "    }\n",
              "    60% {\n",
              "      border-color: transparent;\n",
              "      border-right-color: var(--fill-color);\n",
              "    }\n",
              "    80% {\n",
              "      border-color: transparent;\n",
              "      border-right-color: var(--fill-color);\n",
              "      border-bottom-color: var(--fill-color);\n",
              "    }\n",
              "    90% {\n",
              "      border-color: transparent;\n",
              "      border-bottom-color: var(--fill-color);\n",
              "    }\n",
              "  }\n",
              "</style>\n",
              "\n",
              "  <script>\n",
              "    async function quickchart(key) {\n",
              "      const quickchartButtonEl =\n",
              "        document.querySelector('#' + key + ' button');\n",
              "      quickchartButtonEl.disabled = true;  // To prevent multiple clicks.\n",
              "      quickchartButtonEl.classList.add('colab-df-spinner');\n",
              "      try {\n",
              "        const charts = await google.colab.kernel.invokeFunction(\n",
              "            'suggestCharts', [key], {});\n",
              "      } catch (error) {\n",
              "        console.error('Error during call to suggestCharts:', error);\n",
              "      }\n",
              "      quickchartButtonEl.classList.remove('colab-df-spinner');\n",
              "      quickchartButtonEl.classList.add('colab-df-quickchart-complete');\n",
              "    }\n",
              "    (() => {\n",
              "      let quickchartButtonEl =\n",
              "        document.querySelector('#df-77ad5e2d-4200-4f98-87e7-8dfe5e6d1073 button');\n",
              "      quickchartButtonEl.style.display =\n",
              "        google.colab.kernel.accessAllowed ? 'block' : 'none';\n",
              "    })();\n",
              "  </script>\n",
              "</div>\n",
              "    </div>\n",
              "  </div>\n"
            ]
          },
          "metadata": {},
          "execution_count": 65
        }
      ]
    },
    {
      "cell_type": "code",
      "source": [
        "test"
      ],
      "metadata": {
        "colab": {
          "base_uri": "https://localhost:8080/",
          "height": 628
        },
        "id": "CNSudRogRjUL",
        "outputId": "641f29d0-1bd9-4a80-a924-eb5a76d6d4d7"
      },
      "execution_count": null,
      "outputs": [
        {
          "output_type": "execute_result",
          "data": {
            "text/plain": [
              "       Score                                               Text  \\\n",
              "idx                                                               \n",
              "10241      1  У моей конторы (моей в смысле я хозяин и ген.д...   \n",
              "9612       0  В ЛК интернет-банка «Альфа-Клик» воспользовалс...   \n",
              "2998       0  27 марта 2014 г. было оставлено заявление, осп...   \n",
              "11176      1  Пришел сегодня в допофис №6901/01668 Сбербанка...   \n",
              "10527      1  В феврале прошлого года взяла кредит в Русфина...   \n",
              "...      ...                                                ...   \n",
              "6135       1  С Хоум Кредитом работаю только полгода. Впервы...   \n",
              "9828       1  Почитав отзывы о работе кредитных специалистов...   \n",
              "2618       0  Я напишу свою историю открыто, со всеми цифрам...   \n",
              "12718      1  Хочу выразить благодарность Потураевой Евгении...   \n",
              "8194       1  Был в Германии в начале декабря, брал на прока...   \n",
              "\n",
              "                                      Preprocessed_texts  \\\n",
              "idx                                                        \n",
              "10241  [мой, контора, мой, смысл, хозяин, ген.дир, сч...   \n",
              "9612   [лк, интернет-банка, альфа-клик, воспользовать...   \n",
              "2998   [27, март, 2014, г., оставить, заявление, оспа...   \n",
              "11176  [прийти, сегодня, допофис, №6901/01668, сберба...   \n",
              "10527  [февраль, прошлое, год, взять, кредит, русфина...   \n",
              "...                                                  ...   \n",
              "6135   [хоум, кредит, работать, полгода, впервые, усл...   \n",
              "9828   [почитать, отзыв, работа, кредитный, специалис...   \n",
              "2618   [написать, история, открыто, весь, цифра, поня...   \n",
              "12718  [хотеть, выразить, благодарность, потураев, ев...   \n",
              "8194   [германия, начало, декабрь, брать, прокат, авт...   \n",
              "\n",
              "                                               Sequences  \n",
              "idx                                                       \n",
              "10241  [6, 2007, 6, 996, 5584, 11, 4532, 344, 18, 128...  \n",
              "9612   [5154, 552, 894, 437, 150, 30, 1063, 341, 115,...  \n",
              "2998   [1381, 321, 635, 126, 207, 27, 3793, 80, 3, 17...  \n",
              "11176  [46, 109, 2612, 143, 126, 197, 1315, 43, 1819,...  \n",
              "10527  [468, 1587, 14, 127, 9, 3102, 267, 32, 100, 36...  \n",
              "...                                                  ...  \n",
              "6135   [970, 9, 43, 786, 1093, 764, 2, 397, 2704, 127...  \n",
              "9828   [1322, 93, 29, 21, 101, 46, 854, 412, 1859, 9,...  \n",
              "2618   [51, 169, 3422, 64, 1083, 473, 944, 4468, 279,...  \n",
              "12718  [39, 472, 283, 3637, 1830, 161, 848, 468, 1225...  \n",
              "8194   [4183, 284, 318, 170, 6293, 1439, 3957, 215, 3...  \n",
              "\n",
              "[2800 rows x 4 columns]"
            ],
            "text/html": [
              "\n",
              "  <div id=\"df-b6241b98-f4f4-4071-9962-4081bf8ae66c\" class=\"colab-df-container\">\n",
              "    <div>\n",
              "<style scoped>\n",
              "    .dataframe tbody tr th:only-of-type {\n",
              "        vertical-align: middle;\n",
              "    }\n",
              "\n",
              "    .dataframe tbody tr th {\n",
              "        vertical-align: top;\n",
              "    }\n",
              "\n",
              "    .dataframe thead th {\n",
              "        text-align: right;\n",
              "    }\n",
              "</style>\n",
              "<table border=\"1\" class=\"dataframe\">\n",
              "  <thead>\n",
              "    <tr style=\"text-align: right;\">\n",
              "      <th></th>\n",
              "      <th>Score</th>\n",
              "      <th>Text</th>\n",
              "      <th>Preprocessed_texts</th>\n",
              "      <th>Sequences</th>\n",
              "    </tr>\n",
              "    <tr>\n",
              "      <th>idx</th>\n",
              "      <th></th>\n",
              "      <th></th>\n",
              "      <th></th>\n",
              "      <th></th>\n",
              "    </tr>\n",
              "  </thead>\n",
              "  <tbody>\n",
              "    <tr>\n",
              "      <th>10241</th>\n",
              "      <td>1</td>\n",
              "      <td>У моей конторы (моей в смысле я хозяин и ген.д...</td>\n",
              "      <td>[мой, контора, мой, смысл, хозяин, ген.дир, сч...</td>\n",
              "      <td>[6, 2007, 6, 996, 5584, 11, 4532, 344, 18, 128...</td>\n",
              "    </tr>\n",
              "    <tr>\n",
              "      <th>9612</th>\n",
              "      <td>0</td>\n",
              "      <td>В ЛК интернет-банка «Альфа-Клик» воспользовалс...</td>\n",
              "      <td>[лк, интернет-банка, альфа-клик, воспользовать...</td>\n",
              "      <td>[5154, 552, 894, 437, 150, 30, 1063, 341, 115,...</td>\n",
              "    </tr>\n",
              "    <tr>\n",
              "      <th>2998</th>\n",
              "      <td>0</td>\n",
              "      <td>27 марта 2014 г. было оставлено заявление, осп...</td>\n",
              "      <td>[27, март, 2014, г., оставить, заявление, оспа...</td>\n",
              "      <td>[1381, 321, 635, 126, 207, 27, 3793, 80, 3, 17...</td>\n",
              "    </tr>\n",
              "    <tr>\n",
              "      <th>11176</th>\n",
              "      <td>1</td>\n",
              "      <td>Пришел сегодня в допофис №6901/01668 Сбербанка...</td>\n",
              "      <td>[прийти, сегодня, допофис, №6901/01668, сберба...</td>\n",
              "      <td>[46, 109, 2612, 143, 126, 197, 1315, 43, 1819,...</td>\n",
              "    </tr>\n",
              "    <tr>\n",
              "      <th>10527</th>\n",
              "      <td>1</td>\n",
              "      <td>В феврале прошлого года взяла кредит в Русфина...</td>\n",
              "      <td>[февраль, прошлое, год, взять, кредит, русфина...</td>\n",
              "      <td>[468, 1587, 14, 127, 9, 3102, 267, 32, 100, 36...</td>\n",
              "    </tr>\n",
              "    <tr>\n",
              "      <th>...</th>\n",
              "      <td>...</td>\n",
              "      <td>...</td>\n",
              "      <td>...</td>\n",
              "      <td>...</td>\n",
              "    </tr>\n",
              "    <tr>\n",
              "      <th>6135</th>\n",
              "      <td>1</td>\n",
              "      <td>С Хоум Кредитом работаю только полгода. Впервы...</td>\n",
              "      <td>[хоум, кредит, работать, полгода, впервые, усл...</td>\n",
              "      <td>[970, 9, 43, 786, 1093, 764, 2, 397, 2704, 127...</td>\n",
              "    </tr>\n",
              "    <tr>\n",
              "      <th>9828</th>\n",
              "      <td>1</td>\n",
              "      <td>Почитав отзывы о работе кредитных специалистов...</td>\n",
              "      <td>[почитать, отзыв, работа, кредитный, специалис...</td>\n",
              "      <td>[1322, 93, 29, 21, 101, 46, 854, 412, 1859, 9,...</td>\n",
              "    </tr>\n",
              "    <tr>\n",
              "      <th>2618</th>\n",
              "      <td>0</td>\n",
              "      <td>Я напишу свою историю открыто, со всеми цифрам...</td>\n",
              "      <td>[написать, история, открыто, весь, цифра, поня...</td>\n",
              "      <td>[51, 169, 3422, 64, 1083, 473, 944, 4468, 279,...</td>\n",
              "    </tr>\n",
              "    <tr>\n",
              "      <th>12718</th>\n",
              "      <td>1</td>\n",
              "      <td>Хочу выразить благодарность Потураевой Евгении...</td>\n",
              "      <td>[хотеть, выразить, благодарность, потураев, ев...</td>\n",
              "      <td>[39, 472, 283, 3637, 1830, 161, 848, 468, 1225...</td>\n",
              "    </tr>\n",
              "    <tr>\n",
              "      <th>8194</th>\n",
              "      <td>1</td>\n",
              "      <td>Был в Германии в начале декабря, брал на прока...</td>\n",
              "      <td>[германия, начало, декабрь, брать, прокат, авт...</td>\n",
              "      <td>[4183, 284, 318, 170, 6293, 1439, 3957, 215, 3...</td>\n",
              "    </tr>\n",
              "  </tbody>\n",
              "</table>\n",
              "<p>2800 rows × 4 columns</p>\n",
              "</div>\n",
              "    <div class=\"colab-df-buttons\">\n",
              "\n",
              "  <div class=\"colab-df-container\">\n",
              "    <button class=\"colab-df-convert\" onclick=\"convertToInteractive('df-b6241b98-f4f4-4071-9962-4081bf8ae66c')\"\n",
              "            title=\"Convert this dataframe to an interactive table.\"\n",
              "            style=\"display:none;\">\n",
              "\n",
              "  <svg xmlns=\"http://www.w3.org/2000/svg\" height=\"24px\" viewBox=\"0 -960 960 960\">\n",
              "    <path d=\"M120-120v-720h720v720H120Zm60-500h600v-160H180v160Zm220 220h160v-160H400v160Zm0 220h160v-160H400v160ZM180-400h160v-160H180v160Zm440 0h160v-160H620v160ZM180-180h160v-160H180v160Zm440 0h160v-160H620v160Z\"/>\n",
              "  </svg>\n",
              "    </button>\n",
              "\n",
              "  <style>\n",
              "    .colab-df-container {\n",
              "      display:flex;\n",
              "      gap: 12px;\n",
              "    }\n",
              "\n",
              "    .colab-df-convert {\n",
              "      background-color: #E8F0FE;\n",
              "      border: none;\n",
              "      border-radius: 50%;\n",
              "      cursor: pointer;\n",
              "      display: none;\n",
              "      fill: #1967D2;\n",
              "      height: 32px;\n",
              "      padding: 0 0 0 0;\n",
              "      width: 32px;\n",
              "    }\n",
              "\n",
              "    .colab-df-convert:hover {\n",
              "      background-color: #E2EBFA;\n",
              "      box-shadow: 0px 1px 2px rgba(60, 64, 67, 0.3), 0px 1px 3px 1px rgba(60, 64, 67, 0.15);\n",
              "      fill: #174EA6;\n",
              "    }\n",
              "\n",
              "    .colab-df-buttons div {\n",
              "      margin-bottom: 4px;\n",
              "    }\n",
              "\n",
              "    [theme=dark] .colab-df-convert {\n",
              "      background-color: #3B4455;\n",
              "      fill: #D2E3FC;\n",
              "    }\n",
              "\n",
              "    [theme=dark] .colab-df-convert:hover {\n",
              "      background-color: #434B5C;\n",
              "      box-shadow: 0px 1px 3px 1px rgba(0, 0, 0, 0.15);\n",
              "      filter: drop-shadow(0px 1px 2px rgba(0, 0, 0, 0.3));\n",
              "      fill: #FFFFFF;\n",
              "    }\n",
              "  </style>\n",
              "\n",
              "    <script>\n",
              "      const buttonEl =\n",
              "        document.querySelector('#df-b6241b98-f4f4-4071-9962-4081bf8ae66c button.colab-df-convert');\n",
              "      buttonEl.style.display =\n",
              "        google.colab.kernel.accessAllowed ? 'block' : 'none';\n",
              "\n",
              "      async function convertToInteractive(key) {\n",
              "        const element = document.querySelector('#df-b6241b98-f4f4-4071-9962-4081bf8ae66c');\n",
              "        const dataTable =\n",
              "          await google.colab.kernel.invokeFunction('convertToInteractive',\n",
              "                                                    [key], {});\n",
              "        if (!dataTable) return;\n",
              "\n",
              "        const docLinkHtml = 'Like what you see? Visit the ' +\n",
              "          '<a target=\"_blank\" href=https://colab.research.google.com/notebooks/data_table.ipynb>data table notebook</a>'\n",
              "          + ' to learn more about interactive tables.';\n",
              "        element.innerHTML = '';\n",
              "        dataTable['output_type'] = 'display_data';\n",
              "        await google.colab.output.renderOutput(dataTable, element);\n",
              "        const docLink = document.createElement('div');\n",
              "        docLink.innerHTML = docLinkHtml;\n",
              "        element.appendChild(docLink);\n",
              "      }\n",
              "    </script>\n",
              "  </div>\n",
              "\n",
              "\n",
              "<div id=\"df-f5037241-9dc1-4578-9a6c-3b38f9d63e53\">\n",
              "  <button class=\"colab-df-quickchart\" onclick=\"quickchart('df-f5037241-9dc1-4578-9a6c-3b38f9d63e53')\"\n",
              "            title=\"Suggest charts.\"\n",
              "            style=\"display:none;\">\n",
              "\n",
              "<svg xmlns=\"http://www.w3.org/2000/svg\" height=\"24px\"viewBox=\"0 0 24 24\"\n",
              "     width=\"24px\">\n",
              "    <g>\n",
              "        <path d=\"M19 3H5c-1.1 0-2 .9-2 2v14c0 1.1.9 2 2 2h14c1.1 0 2-.9 2-2V5c0-1.1-.9-2-2-2zM9 17H7v-7h2v7zm4 0h-2V7h2v10zm4 0h-2v-4h2v4z\"/>\n",
              "    </g>\n",
              "</svg>\n",
              "  </button>\n",
              "\n",
              "<style>\n",
              "  .colab-df-quickchart {\n",
              "      --bg-color: #E8F0FE;\n",
              "      --fill-color: #1967D2;\n",
              "      --hover-bg-color: #E2EBFA;\n",
              "      --hover-fill-color: #174EA6;\n",
              "      --disabled-fill-color: #AAA;\n",
              "      --disabled-bg-color: #DDD;\n",
              "  }\n",
              "\n",
              "  [theme=dark] .colab-df-quickchart {\n",
              "      --bg-color: #3B4455;\n",
              "      --fill-color: #D2E3FC;\n",
              "      --hover-bg-color: #434B5C;\n",
              "      --hover-fill-color: #FFFFFF;\n",
              "      --disabled-bg-color: #3B4455;\n",
              "      --disabled-fill-color: #666;\n",
              "  }\n",
              "\n",
              "  .colab-df-quickchart {\n",
              "    background-color: var(--bg-color);\n",
              "    border: none;\n",
              "    border-radius: 50%;\n",
              "    cursor: pointer;\n",
              "    display: none;\n",
              "    fill: var(--fill-color);\n",
              "    height: 32px;\n",
              "    padding: 0;\n",
              "    width: 32px;\n",
              "  }\n",
              "\n",
              "  .colab-df-quickchart:hover {\n",
              "    background-color: var(--hover-bg-color);\n",
              "    box-shadow: 0 1px 2px rgba(60, 64, 67, 0.3), 0 1px 3px 1px rgba(60, 64, 67, 0.15);\n",
              "    fill: var(--button-hover-fill-color);\n",
              "  }\n",
              "\n",
              "  .colab-df-quickchart-complete:disabled,\n",
              "  .colab-df-quickchart-complete:disabled:hover {\n",
              "    background-color: var(--disabled-bg-color);\n",
              "    fill: var(--disabled-fill-color);\n",
              "    box-shadow: none;\n",
              "  }\n",
              "\n",
              "  .colab-df-spinner {\n",
              "    border: 2px solid var(--fill-color);\n",
              "    border-color: transparent;\n",
              "    border-bottom-color: var(--fill-color);\n",
              "    animation:\n",
              "      spin 1s steps(1) infinite;\n",
              "  }\n",
              "\n",
              "  @keyframes spin {\n",
              "    0% {\n",
              "      border-color: transparent;\n",
              "      border-bottom-color: var(--fill-color);\n",
              "      border-left-color: var(--fill-color);\n",
              "    }\n",
              "    20% {\n",
              "      border-color: transparent;\n",
              "      border-left-color: var(--fill-color);\n",
              "      border-top-color: var(--fill-color);\n",
              "    }\n",
              "    30% {\n",
              "      border-color: transparent;\n",
              "      border-left-color: var(--fill-color);\n",
              "      border-top-color: var(--fill-color);\n",
              "      border-right-color: var(--fill-color);\n",
              "    }\n",
              "    40% {\n",
              "      border-color: transparent;\n",
              "      border-right-color: var(--fill-color);\n",
              "      border-top-color: var(--fill-color);\n",
              "    }\n",
              "    60% {\n",
              "      border-color: transparent;\n",
              "      border-right-color: var(--fill-color);\n",
              "    }\n",
              "    80% {\n",
              "      border-color: transparent;\n",
              "      border-right-color: var(--fill-color);\n",
              "      border-bottom-color: var(--fill-color);\n",
              "    }\n",
              "    90% {\n",
              "      border-color: transparent;\n",
              "      border-bottom-color: var(--fill-color);\n",
              "    }\n",
              "  }\n",
              "</style>\n",
              "\n",
              "  <script>\n",
              "    async function quickchart(key) {\n",
              "      const quickchartButtonEl =\n",
              "        document.querySelector('#' + key + ' button');\n",
              "      quickchartButtonEl.disabled = true;  // To prevent multiple clicks.\n",
              "      quickchartButtonEl.classList.add('colab-df-spinner');\n",
              "      try {\n",
              "        const charts = await google.colab.kernel.invokeFunction(\n",
              "            'suggestCharts', [key], {});\n",
              "      } catch (error) {\n",
              "        console.error('Error during call to suggestCharts:', error);\n",
              "      }\n",
              "      quickchartButtonEl.classList.remove('colab-df-spinner');\n",
              "      quickchartButtonEl.classList.add('colab-df-quickchart-complete');\n",
              "    }\n",
              "    (() => {\n",
              "      let quickchartButtonEl =\n",
              "        document.querySelector('#df-f5037241-9dc1-4578-9a6c-3b38f9d63e53 button');\n",
              "      quickchartButtonEl.style.display =\n",
              "        google.colab.kernel.accessAllowed ? 'block' : 'none';\n",
              "    })();\n",
              "  </script>\n",
              "</div>\n",
              "    </div>\n",
              "  </div>\n"
            ]
          },
          "metadata": {},
          "execution_count": 66
        }
      ]
    },
    {
      "cell_type": "markdown",
      "source": [
        "### Разделяем метки классов и данные для обучения"
      ],
      "metadata": {
        "id": "vdin3TyORreE"
      }
    },
    {
      "cell_type": "markdown",
      "source": [
        "Данные для обучения"
      ],
      "metadata": {
        "id": "zwqYdYujSPIb"
      }
    },
    {
      "cell_type": "code",
      "source": [
        "x_train_seq = train['Sequences']\n",
        "y_train = train['Score']"
      ],
      "metadata": {
        "id": "QmVVgp8BRxpZ"
      },
      "execution_count": null,
      "outputs": []
    },
    {
      "cell_type": "code",
      "source": [
        "x_train_seq"
      ],
      "metadata": {
        "colab": {
          "base_uri": "https://localhost:8080/"
        },
        "id": "0r4qjru0R_Z5",
        "outputId": "16d1e3f7-6061-4c37-85d0-6dab19b25c10"
      },
      "execution_count": null,
      "outputs": [
        {
          "output_type": "execute_result",
          "data": {
            "text/plain": [
              "idx\n",
              "13024    [138, 2, 18, 90, 19, 699, 9, 1520, 641, 353, 3...\n",
              "6213     [153, 2408, 273, 24, 4711, 1972, 39, 15, 115, ...\n",
              "4859     [13, 2, 107, 920, 14, 414, 729, 91, 52, 137, 7...\n",
              "10463    [181, 5, 106, 303, 133, 291, 497, 344, 1076, 6...\n",
              "1006     [39, 999, 17, 203, 449, 29, 2472, 2, 13, 2, 11...\n",
              "                               ...                        \n",
              "4070     [77, 44, 2, 674, 691, 397, 438, 4, 446, 9, 8, ...\n",
              "881      [109, 436, 255, 847, 613, 25, 3944, 5877, 1163...\n",
              "12884    [1328, 604, 2, 4, 8411, 172, 113, 133, 5874, 1...\n",
              "3365     [179, 1775, 47, 24, 2498, 6504, 66, 8, 3345, 3...\n",
              "9930     [525, 39, 472, 283, 101, 1712, 1091, 9860, 972...\n",
              "Name: Sequences, Length: 11199, dtype: object"
            ]
          },
          "metadata": {},
          "execution_count": 68
        }
      ]
    },
    {
      "cell_type": "code",
      "source": [
        "y_train"
      ],
      "metadata": {
        "colab": {
          "base_uri": "https://localhost:8080/"
        },
        "id": "SP5ljjhESDNI",
        "outputId": "32fa0b16-003d-41f9-9f26-d527f034d168"
      },
      "execution_count": null,
      "outputs": [
        {
          "output_type": "execute_result",
          "data": {
            "text/plain": [
              "idx\n",
              "13024    0\n",
              "6213     1\n",
              "4859     1\n",
              "10463    1\n",
              "1006     1\n",
              "        ..\n",
              "4070     1\n",
              "881      0\n",
              "12884    1\n",
              "3365     1\n",
              "9930     1\n",
              "Name: Score, Length: 11199, dtype: int64"
            ]
          },
          "metadata": {},
          "execution_count": 69
        }
      ]
    },
    {
      "cell_type": "markdown",
      "source": [
        "Данные для тестирования"
      ],
      "metadata": {
        "id": "xuG4RvMjSSbY"
      }
    },
    {
      "cell_type": "code",
      "source": [
        "x_test_seq = test['Sequences']\n",
        "y_test = test['Score']"
      ],
      "metadata": {
        "id": "PCJJMYLnSW_n"
      },
      "execution_count": null,
      "outputs": []
    },
    {
      "cell_type": "code",
      "source": [
        "x_test_seq"
      ],
      "metadata": {
        "colab": {
          "base_uri": "https://localhost:8080/"
        },
        "id": "8SsYE9FPSdTA",
        "outputId": "2a815ff9-b4c2-44fb-f52f-374b628a3ad6"
      },
      "execution_count": null,
      "outputs": [
        {
          "output_type": "execute_result",
          "data": {
            "text/plain": [
              "idx\n",
              "10241    [6, 2007, 6, 996, 5584, 11, 4532, 344, 18, 128...\n",
              "9612     [5154, 552, 894, 437, 150, 30, 1063, 341, 115,...\n",
              "2998     [1381, 321, 635, 126, 207, 27, 3793, 80, 3, 17...\n",
              "11176    [46, 109, 2612, 143, 126, 197, 1315, 43, 1819,...\n",
              "10527    [468, 1587, 14, 127, 9, 3102, 267, 32, 100, 36...\n",
              "                               ...                        \n",
              "6135     [970, 9, 43, 786, 1093, 764, 2, 397, 2704, 127...\n",
              "9828     [1322, 93, 29, 21, 101, 46, 854, 412, 1859, 9,...\n",
              "2618     [51, 169, 3422, 64, 1083, 473, 944, 4468, 279,...\n",
              "12718    [39, 472, 283, 3637, 1830, 161, 848, 468, 1225...\n",
              "8194     [4183, 284, 318, 170, 6293, 1439, 3957, 215, 3...\n",
              "Name: Sequences, Length: 2800, dtype: object"
            ]
          },
          "metadata": {},
          "execution_count": 72
        }
      ]
    },
    {
      "cell_type": "code",
      "source": [
        "y_test"
      ],
      "metadata": {
        "colab": {
          "base_uri": "https://localhost:8080/"
        },
        "id": "w9JqW2WtSfqV",
        "outputId": "936eb257-3f2f-45da-a678-b3dee5e23561"
      },
      "execution_count": null,
      "outputs": [
        {
          "output_type": "execute_result",
          "data": {
            "text/plain": [
              "idx\n",
              "10241    1\n",
              "9612     0\n",
              "2998     0\n",
              "11176    1\n",
              "10527    1\n",
              "        ..\n",
              "6135     1\n",
              "9828     1\n",
              "2618     0\n",
              "12718    1\n",
              "8194     1\n",
              "Name: Score, Length: 2800, dtype: int64"
            ]
          },
          "metadata": {},
          "execution_count": 73
        }
      ]
    },
    {
      "cell_type": "markdown",
      "source": [
        "## Создаем мешок слов"
      ],
      "metadata": {
        "id": "LZ5E_sd6X945"
      }
    },
    {
      "cell_type": "code",
      "source": [
        "def vectorize_sequences(sequences, dimension=10000):\n",
        "    results = np.zeros((len(sequences), dimension))\n",
        "    for i, sequence in enumerate(sequences):\n",
        "        for index in sequence:\n",
        "            results[i, index] += 1.\n",
        "    return results"
      ],
      "metadata": {
        "id": "hbPcLZAok_wf"
      },
      "execution_count": null,
      "outputs": []
    },
    {
      "cell_type": "code",
      "source": [
        "x_train = vectorize_sequences(x_train_seq, max_words)"
      ],
      "metadata": {
        "id": "xkMU-sKYl62K"
      },
      "execution_count": null,
      "outputs": []
    },
    {
      "cell_type": "code",
      "source": [
        "x_test = vectorize_sequences(x_test_seq, max_words)"
      ],
      "metadata": {
        "id": "V2zUvuwGSrHI"
      },
      "execution_count": null,
      "outputs": []
    },
    {
      "cell_type": "code",
      "source": [
        "x_train[0][:100]"
      ],
      "metadata": {
        "colab": {
          "base_uri": "https://localhost:8080/"
        },
        "id": "EY3r6KMdm4ce",
        "outputId": "8a906d1c-c0dc-41be-bdb2-3a14d8aa43d8"
      },
      "execution_count": null,
      "outputs": [
        {
          "output_type": "execute_result",
          "data": {
            "text/plain": [
              "array([ 0.,  0., 11.,  0.,  5.,  4.,  1.,  1.,  2.,  2.,  0.,  1.,  0.,\n",
              "        0.,  0.,  0.,  0.,  2.,  1.,  2.,  0.,  0.,  2.,  1.,  1.,  1.,\n",
              "        1.,  0.,  0.,  0.,  2.,  0.,  1.,  0.,  0.,  0.,  0.,  1.,  1.,\n",
              "        1.,  0.,  0.,  0.,  1.,  0.,  1.,  0.,  0.,  0.,  0.,  0.,  1.,\n",
              "        0.,  0.,  0.,  1.,  1.,  0.,  0.,  0.,  1.,  0.,  0.,  0.,  0.,\n",
              "        1.,  0.,  1.,  0.,  0.,  0.,  2.,  0.,  1.,  2.,  0.,  1.,  0.,\n",
              "        0.,  0.,  0.,  0.,  0.,  0.,  1.,  0.,  0.,  0.,  0.,  0.,  3.,\n",
              "        0.,  0.,  0.,  0.,  0.,  0.,  0.,  0.,  0.])"
            ]
          },
          "metadata": {},
          "execution_count": 77
        }
      ]
    },
    {
      "cell_type": "code",
      "source": [
        "len(x_train[0])"
      ],
      "metadata": {
        "colab": {
          "base_uri": "https://localhost:8080/"
        },
        "id": "9XF0zMIqm9dC",
        "outputId": "47f28878-b22a-4632-90cd-a8c32bcd7760"
      },
      "execution_count": null,
      "outputs": [
        {
          "output_type": "execute_result",
          "data": {
            "text/plain": [
              "10000"
            ]
          },
          "metadata": {},
          "execution_count": 78
        }
      ]
    },
    {
      "cell_type": "markdown",
      "source": [
        "## Создаем модель машинного обучения"
      ],
      "metadata": {
        "id": "2JjAx-4iS14d"
      }
    },
    {
      "cell_type": "code",
      "source": [
        "lr = LogisticRegression(random_state=random_state, max_iter=500)"
      ],
      "metadata": {
        "id": "5riQenkMdIz3"
      },
      "execution_count": null,
      "outputs": []
    },
    {
      "cell_type": "markdown",
      "source": [
        "## Обучаем модель машинного обучения"
      ],
      "metadata": {
        "id": "VNiz55OBTKnV"
      }
    },
    {
      "cell_type": "code",
      "source": [
        "lr.fit(x_train, y_train)"
      ],
      "metadata": {
        "colab": {
          "base_uri": "https://localhost:8080/",
          "height": 74
        },
        "id": "cnpiCQ2JdVwR",
        "outputId": "48fac692-0521-4f3a-e04a-0436bfce677f"
      },
      "execution_count": null,
      "outputs": [
        {
          "output_type": "execute_result",
          "data": {
            "text/plain": [
              "LogisticRegression(max_iter=500, random_state=42)"
            ],
            "text/html": [
              "<style>#sk-container-id-2 {color: black;background-color: white;}#sk-container-id-2 pre{padding: 0;}#sk-container-id-2 div.sk-toggleable {background-color: white;}#sk-container-id-2 label.sk-toggleable__label {cursor: pointer;display: block;width: 100%;margin-bottom: 0;padding: 0.3em;box-sizing: border-box;text-align: center;}#sk-container-id-2 label.sk-toggleable__label-arrow:before {content: \"▸\";float: left;margin-right: 0.25em;color: #696969;}#sk-container-id-2 label.sk-toggleable__label-arrow:hover:before {color: black;}#sk-container-id-2 div.sk-estimator:hover label.sk-toggleable__label-arrow:before {color: black;}#sk-container-id-2 div.sk-toggleable__content {max-height: 0;max-width: 0;overflow: hidden;text-align: left;background-color: #f0f8ff;}#sk-container-id-2 div.sk-toggleable__content pre {margin: 0.2em;color: black;border-radius: 0.25em;background-color: #f0f8ff;}#sk-container-id-2 input.sk-toggleable__control:checked~div.sk-toggleable__content {max-height: 200px;max-width: 100%;overflow: auto;}#sk-container-id-2 input.sk-toggleable__control:checked~label.sk-toggleable__label-arrow:before {content: \"▾\";}#sk-container-id-2 div.sk-estimator input.sk-toggleable__control:checked~label.sk-toggleable__label {background-color: #d4ebff;}#sk-container-id-2 div.sk-label input.sk-toggleable__control:checked~label.sk-toggleable__label {background-color: #d4ebff;}#sk-container-id-2 input.sk-hidden--visually {border: 0;clip: rect(1px 1px 1px 1px);clip: rect(1px, 1px, 1px, 1px);height: 1px;margin: -1px;overflow: hidden;padding: 0;position: absolute;width: 1px;}#sk-container-id-2 div.sk-estimator {font-family: monospace;background-color: #f0f8ff;border: 1px dotted black;border-radius: 0.25em;box-sizing: border-box;margin-bottom: 0.5em;}#sk-container-id-2 div.sk-estimator:hover {background-color: #d4ebff;}#sk-container-id-2 div.sk-parallel-item::after {content: \"\";width: 100%;border-bottom: 1px solid gray;flex-grow: 1;}#sk-container-id-2 div.sk-label:hover label.sk-toggleable__label {background-color: #d4ebff;}#sk-container-id-2 div.sk-serial::before {content: \"\";position: absolute;border-left: 1px solid gray;box-sizing: border-box;top: 0;bottom: 0;left: 50%;z-index: 0;}#sk-container-id-2 div.sk-serial {display: flex;flex-direction: column;align-items: center;background-color: white;padding-right: 0.2em;padding-left: 0.2em;position: relative;}#sk-container-id-2 div.sk-item {position: relative;z-index: 1;}#sk-container-id-2 div.sk-parallel {display: flex;align-items: stretch;justify-content: center;background-color: white;position: relative;}#sk-container-id-2 div.sk-item::before, #sk-container-id-2 div.sk-parallel-item::before {content: \"\";position: absolute;border-left: 1px solid gray;box-sizing: border-box;top: 0;bottom: 0;left: 50%;z-index: -1;}#sk-container-id-2 div.sk-parallel-item {display: flex;flex-direction: column;z-index: 1;position: relative;background-color: white;}#sk-container-id-2 div.sk-parallel-item:first-child::after {align-self: flex-end;width: 50%;}#sk-container-id-2 div.sk-parallel-item:last-child::after {align-self: flex-start;width: 50%;}#sk-container-id-2 div.sk-parallel-item:only-child::after {width: 0;}#sk-container-id-2 div.sk-dashed-wrapped {border: 1px dashed gray;margin: 0 0.4em 0.5em 0.4em;box-sizing: border-box;padding-bottom: 0.4em;background-color: white;}#sk-container-id-2 div.sk-label label {font-family: monospace;font-weight: bold;display: inline-block;line-height: 1.2em;}#sk-container-id-2 div.sk-label-container {text-align: center;}#sk-container-id-2 div.sk-container {/* jupyter's `normalize.less` sets `[hidden] { display: none; }` but bootstrap.min.css set `[hidden] { display: none !important; }` so we also need the `!important` here to be able to override the default hidden behavior on the sphinx rendered scikit-learn.org. See: https://github.com/scikit-learn/scikit-learn/issues/21755 */display: inline-block !important;position: relative;}#sk-container-id-2 div.sk-text-repr-fallback {display: none;}</style><div id=\"sk-container-id-2\" class=\"sk-top-container\"><div class=\"sk-text-repr-fallback\"><pre>LogisticRegression(max_iter=500, random_state=42)</pre><b>In a Jupyter environment, please rerun this cell to show the HTML representation or trust the notebook. <br />On GitHub, the HTML representation is unable to render, please try loading this page with nbviewer.org.</b></div><div class=\"sk-container\" hidden><div class=\"sk-item\"><div class=\"sk-estimator sk-toggleable\"><input class=\"sk-toggleable__control sk-hidden--visually\" id=\"sk-estimator-id-2\" type=\"checkbox\" checked><label for=\"sk-estimator-id-2\" class=\"sk-toggleable__label sk-toggleable__label-arrow\">LogisticRegression</label><div class=\"sk-toggleable__content\"><pre>LogisticRegression(max_iter=500, random_state=42)</pre></div></div></div></div></div>"
            ]
          },
          "metadata": {},
          "execution_count": 81
        }
      ]
    },
    {
      "cell_type": "markdown",
      "source": [
        "## Оцениваем качество обучения на тестовом наборе данных"
      ],
      "metadata": {
        "id": "1pZ4iYXAcSnE"
      }
    },
    {
      "cell_type": "markdown",
      "source": [
        "Определяем долю правильных ответов (accuracy) на тестовом наборе данных"
      ],
      "metadata": {
        "id": "Kf5pEuAGcojj"
      }
    },
    {
      "cell_type": "code",
      "source": [
        "lr.score(x_test, y_test)"
      ],
      "metadata": {
        "colab": {
          "base_uri": "https://localhost:8080/"
        },
        "id": "7dAGLK-_d6Ut",
        "outputId": "62dca821-c49b-4324-db88-b2a07fef5401"
      },
      "execution_count": null,
      "outputs": [
        {
          "output_type": "execute_result",
          "data": {
            "text/plain": [
              "0.9460714285714286"
            ]
          },
          "metadata": {},
          "execution_count": 82
        }
      ]
    },
    {
      "cell_type": "markdown",
      "source": [
        "## Применяем модель для определения тональности отзыва на банк"
      ],
      "metadata": {
        "id": "5HNdGjOuc0P7"
      }
    },
    {
      "cell_type": "markdown",
      "source": [
        "**Позитивный отзыв**"
      ],
      "metadata": {
        "id": "pFr1P1dcc_Tf"
      }
    },
    {
      "cell_type": "code",
      "source": [
        "positive_text = \"\"\"Брал кредит в Мегабанке на автомобиль. Выдали за один день. Никаких скрытых комиссий и переплат.\n",
        "У банка удобное мобильное приложение, через которое можно быстро отправить ежемесячный платеж.\n",
        "Досрочное гасить начал через три месяца. Я доволен оперативностью и удобством. Огромное спасибо!\n",
        "\"\"\""
      ],
      "metadata": {
        "id": "jSXOhJvRczmQ"
      },
      "execution_count": null,
      "outputs": []
    },
    {
      "cell_type": "markdown",
      "source": [
        "Подготовка текста к обработке"
      ],
      "metadata": {
        "id": "QJ4DcyaQgHuf"
      }
    },
    {
      "cell_type": "code",
      "source": [
        "positive_preprocessed_text = preprocess(positive_text, stop_words, punctuation_marks, morph)"
      ],
      "metadata": {
        "id": "xWVnIw5We-vr"
      },
      "execution_count": null,
      "outputs": []
    },
    {
      "cell_type": "code",
      "source": [
        "positive_preprocessed_text"
      ],
      "metadata": {
        "colab": {
          "base_uri": "https://localhost:8080/"
        },
        "id": "1m5v4pKpfOCb",
        "outputId": "608c5e7e-9d8b-49c0-843d-e3bc20762548"
      },
      "execution_count": null,
      "outputs": [
        {
          "output_type": "execute_result",
          "data": {
            "text/plain": [
              "['брать',\n",
              " 'кредит',\n",
              " 'мегабанк',\n",
              " 'автомобиль',\n",
              " 'выдать',\n",
              " 'день',\n",
              " 'никакой',\n",
              " 'скрытый',\n",
              " 'комиссия',\n",
              " 'переплата',\n",
              " 'банк',\n",
              " 'удобный',\n",
              " 'мобильный',\n",
              " 'приложение',\n",
              " 'который',\n",
              " 'быстро',\n",
              " 'отправить',\n",
              " 'ежемесячный',\n",
              " 'платёж',\n",
              " 'досрочный',\n",
              " 'гасить',\n",
              " 'начать',\n",
              " 'месяц',\n",
              " 'довольный',\n",
              " 'оперативность',\n",
              " 'удобство',\n",
              " 'огромный',\n",
              " 'спасибо']"
            ]
          },
          "metadata": {},
          "execution_count": 85
        }
      ]
    },
    {
      "cell_type": "code",
      "source": [
        "positive_seq = text_to_sequence(positive_preprocessed_text, word_to_index)"
      ],
      "metadata": {
        "id": "b2RY-EDVfUy_"
      },
      "execution_count": null,
      "outputs": []
    },
    {
      "cell_type": "code",
      "source": [
        "positive_seq"
      ],
      "metadata": {
        "colab": {
          "base_uri": "https://localhost:8080/"
        },
        "id": "-XHmvBhffiou",
        "outputId": "8c437442-d8c6-47bb-e1aa-5dfd293101d8"
      },
      "execution_count": null,
      "outputs": [
        {
          "output_type": "execute_result",
          "data": {
            "text/plain": [
              "[170,\n",
              " 9,\n",
              " 963,\n",
              " 136,\n",
              " 5,\n",
              " 81,\n",
              " 1891,\n",
              " 80,\n",
              " 1028,\n",
              " 2,\n",
              " 287,\n",
              " 305,\n",
              " 763,\n",
              " 8,\n",
              " 128,\n",
              " 205,\n",
              " 489,\n",
              " 30,\n",
              " 358,\n",
              " 1422,\n",
              " 279,\n",
              " 34,\n",
              " 299,\n",
              " 910,\n",
              " 1316,\n",
              " 312,\n",
              " 75]"
            ]
          },
          "metadata": {},
          "execution_count": 87
        }
      ]
    },
    {
      "cell_type": "code",
      "source": [
        "positive_bow = vectorize_sequences([positive_seq], max_words)"
      ],
      "metadata": {
        "id": "bSAf7HXMfwVC"
      },
      "execution_count": null,
      "outputs": []
    },
    {
      "cell_type": "code",
      "source": [
        "positive_bow[0][0:100]"
      ],
      "metadata": {
        "colab": {
          "base_uri": "https://localhost:8080/"
        },
        "id": "FDJoCeaaf-OY",
        "outputId": "0687aadb-6f91-47c9-c601-0d47418904b9"
      },
      "execution_count": null,
      "outputs": [
        {
          "output_type": "execute_result",
          "data": {
            "text/plain": [
              "array([0., 0., 1., 0., 0., 1., 0., 0., 1., 1., 0., 0., 0., 0., 0., 0., 0.,\n",
              "       0., 0., 0., 0., 0., 0., 0., 0., 0., 0., 0., 0., 0., 1., 0., 0., 0.,\n",
              "       1., 0., 0., 0., 0., 0., 0., 0., 0., 0., 0., 0., 0., 0., 0., 0., 0.,\n",
              "       0., 0., 0., 0., 0., 0., 0., 0., 0., 0., 0., 0., 0., 0., 0., 0., 0.,\n",
              "       0., 0., 0., 0., 0., 0., 0., 1., 0., 0., 0., 0., 1., 1., 0., 0., 0.,\n",
              "       0., 0., 0., 0., 0., 0., 0., 0., 0., 0., 0., 0., 0., 0., 0.])"
            ]
          },
          "metadata": {},
          "execution_count": 89
        }
      ]
    },
    {
      "cell_type": "markdown",
      "source": [
        "Выполняем распознавание"
      ],
      "metadata": {
        "id": "n5K4rGNagLih"
      }
    },
    {
      "cell_type": "code",
      "source": [
        "result = lr.predict(positive_bow)"
      ],
      "metadata": {
        "id": "BhRAVQTUgPGX"
      },
      "execution_count": null,
      "outputs": []
    },
    {
      "cell_type": "code",
      "source": [
        "result"
      ],
      "metadata": {
        "colab": {
          "base_uri": "https://localhost:8080/"
        },
        "id": "BRGoBtDBgUyM",
        "outputId": "d1f5f578-2266-4fc8-88a9-ec71295116c2"
      },
      "execution_count": null,
      "outputs": [
        {
          "output_type": "execute_result",
          "data": {
            "text/plain": [
              "array([1])"
            ]
          },
          "metadata": {},
          "execution_count": 91
        }
      ]
    },
    {
      "cell_type": "markdown",
      "source": [
        "**Негативный отзыв**"
      ],
      "metadata": {
        "id": "3K6awLQigq-D"
      }
    },
    {
      "cell_type": "code",
      "source": [
        "negative_text = \"\"\"Взял кредит в ТакСебеБанке на автомобиль. В договор включили обязательный контракт\n",
        "на помощь на дороге, который мне не нужен. Узнал об этом только во время подписания договора, иначе бы отказался.\n",
        "Альтернативы была страхование жизни, но мне это даже не предложили. Скорее всего, менеджер продвигает\n",
        "продажи услуг этой компании в ущерб интересов клиента. Как минимум, непорядочно и непрофессионально.\n",
        "У банка ужасное мобильное приложение, из-за которого с меня взяли штраф 10 тыс.руб. По требованиям\n",
        "банка после покупки автомобиля в приложении нужно загрузить ПТС. Я загрузил и проверил, что ПТС в приложении есть.\n",
        "Но через некоторое время ПТС из приложения пропал и с меня взяли штраф. Никому не рекомендую связываться с ТакСебеБанком.\n",
        "\"\"\""
      ],
      "metadata": {
        "id": "ZqUkDs21guEN"
      },
      "execution_count": null,
      "outputs": []
    },
    {
      "cell_type": "code",
      "source": [
        "negative_preprocessed_text = preprocess(negative_text, stop_words, punctuation_marks, morph)\n",
        "negative_seq = text_to_sequence(negative_preprocessed_text, word_to_index)\n",
        "negative_bow = vectorize_sequences([negative_seq], max_words)"
      ],
      "metadata": {
        "id": "AiBvb3Qqh8ep"
      },
      "execution_count": null,
      "outputs": []
    },
    {
      "cell_type": "code",
      "source": [
        "negative_bow[0][0:100]"
      ],
      "metadata": {
        "colab": {
          "base_uri": "https://localhost:8080/"
        },
        "id": "CsrzbhKZnISz",
        "outputId": "ac299c80-0c83-48ba-d814-c58a231667cc"
      },
      "execution_count": null,
      "outputs": [
        {
          "output_type": "execute_result",
          "data": {
            "text/plain": [
              "array([0., 0., 2., 0., 2., 0., 0., 0., 2., 1., 0., 0., 0., 1., 0., 0., 0.,\n",
              "       0., 0., 2., 0., 0., 0., 0., 0., 0., 0., 0., 2., 0., 0., 0., 0., 0.,\n",
              "       0., 0., 0., 0., 0., 0., 0., 0., 0., 0., 1., 0., 0., 0., 0., 0., 0.,\n",
              "       0., 0., 0., 0., 0., 0., 0., 0., 0., 0., 0., 0., 0., 1., 0., 0., 0.,\n",
              "       0., 0., 0., 0., 0., 0., 0., 0., 0., 0., 0., 0., 0., 0., 0., 0., 1.,\n",
              "       0., 0., 0., 0., 0., 0., 0., 0., 0., 0., 0., 0., 1., 0., 0.])"
            ]
          },
          "metadata": {},
          "execution_count": 94
        }
      ]
    },
    {
      "cell_type": "code",
      "source": [
        "result = lr.predict(negative_bow)"
      ],
      "metadata": {
        "id": "576AFyxQii_S"
      },
      "execution_count": null,
      "outputs": []
    },
    {
      "cell_type": "code",
      "source": [
        "result"
      ],
      "metadata": {
        "colab": {
          "base_uri": "https://localhost:8080/"
        },
        "id": "o-c25tMrioT7",
        "outputId": "abeb5d95-6f53-49ea-a7c9-ffe483c00b72"
      },
      "execution_count": null,
      "outputs": [
        {
          "output_type": "execute_result",
          "data": {
            "text/plain": [
              "array([0])"
            ]
          },
          "metadata": {},
          "execution_count": 96
        }
      ]
    },
    {
      "cell_type": "code",
      "source": [
        "result = lr.predict_proba(negative_bow)"
      ],
      "metadata": {
        "id": "mo2-L3cQj4Ho"
      },
      "execution_count": null,
      "outputs": []
    },
    {
      "cell_type": "code",
      "source": [
        "result"
      ],
      "metadata": {
        "colab": {
          "base_uri": "https://localhost:8080/"
        },
        "id": "Mme2NEeAj7ZC",
        "outputId": "df06c30d-5e10-44eb-e098-22d9222e51dc"
      },
      "execution_count": null,
      "outputs": [
        {
          "output_type": "execute_result",
          "data": {
            "text/plain": [
              "array([[0.99677403, 0.00322597]])"
            ]
          },
          "metadata": {},
          "execution_count": 98
        }
      ]
    }
  ]
}