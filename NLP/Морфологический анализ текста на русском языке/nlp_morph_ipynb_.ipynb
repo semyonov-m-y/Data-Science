{
  "nbformat": 4,
  "nbformat_minor": 0,
  "metadata": {
    "colab": {
      "provenance": []
    },
    "kernelspec": {
      "name": "python3",
      "display_name": "Python 3"
    },
    "language_info": {
      "name": "python"
    }
  },
  "cells": [
    {
      "cell_type": "markdown",
      "source": [
        "## Морфологический анализ текста на русском языке"
      ],
      "metadata": {
        "id": "xfhUqLGcCJ4b"
      }
    },
    {
      "cell_type": "markdown",
      "source": [
        "## Библиотека [pymorphy2](https://pymorphy2.readthedocs.io/en/stable/user/index.html).\n",
        "\n",
        "Установка библиотеки"
      ],
      "metadata": {
        "id": "nxPYp8bsCiaR"
      }
    },
    {
      "cell_type": "code",
      "source": [
        "!pip install pymorphy2[fast]"
      ],
      "metadata": {
        "colab": {
          "base_uri": "https://localhost:8080/"
        },
        "id": "cikkrgs2CPFg",
        "outputId": "26753398-4d25-4296-8ef5-b92c46877895"
      },
      "execution_count": null,
      "outputs": [
        {
          "output_type": "stream",
          "name": "stdout",
          "text": [
            "Collecting pymorphy2[fast]\n",
            "  Using cached pymorphy2-0.9.1-py3-none-any.whl (55 kB)\n",
            "Collecting dawg-python>=0.7.1 (from pymorphy2[fast])\n",
            "  Using cached DAWG_Python-0.7.2-py2.py3-none-any.whl (11 kB)\n",
            "Collecting pymorphy2-dicts-ru<3.0,>=2.4 (from pymorphy2[fast])\n",
            "  Using cached pymorphy2_dicts_ru-2.4.417127.4579844-py2.py3-none-any.whl (8.2 MB)\n",
            "Collecting docopt>=0.6 (from pymorphy2[fast])\n",
            "  Using cached docopt-0.6.2-py2.py3-none-any.whl\n",
            "Collecting DAWG>=0.8 (from pymorphy2[fast])\n",
            "  Using cached DAWG-0.8.0.tar.gz (371 kB)\n",
            "  Preparing metadata (setup.py) ... \u001b[?25l\u001b[?25hdone\n",
            "Building wheels for collected packages: DAWG\n"
          ]
        }
      ]
    },
    {
      "cell_type": "markdown",
      "source": [
        "Подключение библиотеки"
      ],
      "metadata": {
        "id": "-aP8IroiCysw"
      }
    },
    {
      "cell_type": "code",
      "execution_count": null,
      "metadata": {
        "id": "EruMxe9XBsb3"
      },
      "outputs": [],
      "source": [
        "import pymorphy2"
      ]
    },
    {
      "cell_type": "markdown",
      "source": [
        "Создаем морфологический анализатор pymorphy2"
      ],
      "metadata": {
        "id": "Ik68E3aSC0zX"
      }
    },
    {
      "cell_type": "code",
      "source": [
        "morph = pymorphy2.MorphAnalyzer()"
      ],
      "metadata": {
        "id": "f9V_Uw3qC4OZ"
      },
      "execution_count": null,
      "outputs": []
    },
    {
      "cell_type": "markdown",
      "source": [
        "Выполняем морфологический разбор"
      ],
      "metadata": {
        "id": "ztiFp0aMDBcQ"
      }
    },
    {
      "cell_type": "code",
      "source": [
        "morph.parse('деревья')"
      ],
      "metadata": {
        "id": "hNrx56quC9kE"
      },
      "execution_count": null,
      "outputs": []
    },
    {
      "cell_type": "code",
      "source": [
        "morph.parse('родился')"
      ],
      "metadata": {
        "id": "v02yDI7tDYTl"
      },
      "execution_count": null,
      "outputs": []
    },
    {
      "cell_type": "markdown",
      "source": [
        "Неоднозначное слово"
      ],
      "metadata": {
        "id": "A2I1bamlDe2E"
      }
    },
    {
      "cell_type": "code",
      "source": [
        "morph.parse('стали')"
      ],
      "metadata": {
        "id": "taLaE1STDg-y"
      },
      "execution_count": null,
      "outputs": []
    },
    {
      "cell_type": "markdown",
      "source": [
        "Сложное слово"
      ],
      "metadata": {
        "id": "XxSeAx_DDq_9"
      }
    },
    {
      "cell_type": "code",
      "source": [
        "morph.parse('физико-математической')"
      ],
      "metadata": {
        "id": "jRp40121DrSc"
      },
      "execution_count": null,
      "outputs": []
    },
    {
      "cell_type": "markdown",
      "source": [
        "Местоимение"
      ],
      "metadata": {
        "id": "cMtmarzED5W_"
      }
    },
    {
      "cell_type": "code",
      "source": [
        "morph.parse('его')"
      ],
      "metadata": {
        "id": "ax7pNpk4D3lc"
      },
      "execution_count": null,
      "outputs": []
    },
    {
      "cell_type": "markdown",
      "source": [
        "Числительное"
      ],
      "metadata": {
        "id": "mX5zezbjEgHf"
      }
    },
    {
      "cell_type": "code",
      "source": [
        "morph.parse('1981')"
      ],
      "metadata": {
        "id": "R5wgytaTEh-5"
      },
      "execution_count": null,
      "outputs": []
    },
    {
      "cell_type": "markdown",
      "source": [
        "Знак препинания"
      ],
      "metadata": {
        "id": "R0zSk72aE1rN"
      }
    },
    {
      "cell_type": "code",
      "source": [
        "morph.parse('.')"
      ],
      "metadata": {
        "id": "gDVFyg2uE4VR"
      },
      "execution_count": null,
      "outputs": []
    },
    {
      "cell_type": "markdown",
      "source": [
        "Незнакомые слова"
      ],
      "metadata": {
        "id": "rgl81rAvE9Gu"
      }
    },
    {
      "cell_type": "code",
      "source": [
        "morph.parse('варкалось')"
      ],
      "metadata": {
        "id": "jNWR8etkE8dm"
      },
      "execution_count": null,
      "outputs": []
    },
    {
      "cell_type": "code",
      "source": [
        "morph.parse('хливкие')"
      ],
      "metadata": {
        "id": "YITjINtSFK6H"
      },
      "execution_count": null,
      "outputs": []
    },
    {
      "cell_type": "code",
      "source": [
        "morph.parse('шорьки')"
      ],
      "metadata": {
        "id": "s0v9_NdeFZF8"
      },
      "execution_count": null,
      "outputs": []
    },
    {
      "cell_type": "markdown",
      "source": [
        "Склонение слов"
      ],
      "metadata": {
        "id": "AJFkGGeJHMot"
      }
    },
    {
      "cell_type": "code",
      "source": [
        "m = morph.parse('кот')[0]"
      ],
      "metadata": {
        "id": "pHZ0pAAVHPR2"
      },
      "execution_count": null,
      "outputs": []
    },
    {
      "cell_type": "code",
      "source": [
        "m"
      ],
      "metadata": {
        "id": "eIMlEwDEHfeN"
      },
      "execution_count": null,
      "outputs": []
    },
    {
      "cell_type": "code",
      "source": [
        "m.inflect({'gent'})"
      ],
      "metadata": {
        "id": "W_Oh6nsqHhEz"
      },
      "execution_count": null,
      "outputs": []
    },
    {
      "cell_type": "code",
      "source": [
        "m.inflect({'datv'})"
      ],
      "metadata": {
        "id": "ds5WBNLnH26y"
      },
      "execution_count": null,
      "outputs": []
    },
    {
      "cell_type": "code",
      "source": [
        "last_name = morph.parse('Сегалович')[0]"
      ],
      "metadata": {
        "id": "xMFyk4psICK2"
      },
      "execution_count": null,
      "outputs": []
    },
    {
      "cell_type": "code",
      "source": [
        "last_name.inflect({'gent'})"
      ],
      "metadata": {
        "id": "EZpJbqL7IGTL"
      },
      "execution_count": null,
      "outputs": []
    },
    {
      "cell_type": "markdown",
      "source": [
        "## Полезные ссылки\n",
        "\n",
        "1. [Библиотека pymorphy2](https://pymorphy2.readthedocs.io/en/stable/index.html).\n",
        "2. [Открытый корпус текстов OpenCorpora](http://opencorpora.org/).\n",
        "\n",
       ],
      "metadata": {
        "id": "bYJZDtfVMVDk"
      }
    }
  ]
}
