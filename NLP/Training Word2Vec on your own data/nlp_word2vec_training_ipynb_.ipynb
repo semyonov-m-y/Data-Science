{
  "nbformat": 4,
  "nbformat_minor": 0,
  "metadata": {
    "colab": {
      "provenance": []
    },
    "kernelspec": {
      "name": "python3",
      "display_name": "Python 3"
    },
    "language_info": {
      "name": "python"
    }
  },
  "cells": [
    {
      "cell_type": "markdown",
      "source": [
        "# Обучение Word2Vec на своих данных"
      ],
      "metadata": {
        "id": "am-zxC3b5Dph"
      }
    },
    {
      "cell_type": "markdown",
      "source": [
        "### Загружаем и готовим данные отзывов на банки"
      ],
      "metadata": {
        "id": "NfYhM78d9D3u"
      }
    },
    {
      "cell_type": "code",
      "source": [
        "!pip install pymorphy2[fast]"
      ],
      "metadata": {
        "colab": {
          "base_uri": "https://localhost:8080/"
        },
        "id": "Qk6ujTN_9QHC",
        "outputId": "67162e77-5f44-4ed3-9467-a12dcd9f7b94"
      },
      "execution_count": null,
      "outputs": [
        {
          "output_type": "stream",
          "name": "stdout",
          "text": [
            "Looking in indexes: https://pypi.org/simple, https://us-python.pkg.dev/colab-wheels/public/simple/\n",
            "Collecting pymorphy2[fast]\n",
            "  Downloading pymorphy2-0.9.1-py3-none-any.whl (55 kB)\n",
            "\u001b[2K     \u001b[90m━━━━━━━━━━━━━━━━━━━━━━━━━━━━━━━━━━━━━━━━\u001b[0m \u001b[32m55.5/55.5 KB\u001b[0m \u001b[31m1.2 MB/s\u001b[0m eta \u001b[36m0:00:00\u001b[0m\n",
            "\u001b[?25hCollecting docopt>=0.6\n",
            "  Downloading docopt-0.6.2.tar.gz (25 kB)\n",
            "  Preparing metadata (setup.py) ... \u001b[?25l\u001b[?25hdone\n",
            "Collecting pymorphy2-dicts-ru<3.0,>=2.4\n",
            "  Downloading pymorphy2_dicts_ru-2.4.417127.4579844-py2.py3-none-any.whl (8.2 MB)\n",
            "\u001b[2K     \u001b[90m━━━━━━━━━━━━━━━━━━━━━━━━━━━━━━━━━━━━━━━━\u001b[0m \u001b[32m8.2/8.2 MB\u001b[0m \u001b[31m44.2 MB/s\u001b[0m eta \u001b[36m0:00:00\u001b[0m\n",
            "\u001b[?25hCollecting dawg-python>=0.7.1\n",
            "  Downloading DAWG_Python-0.7.2-py2.py3-none-any.whl (11 kB)\n",
            "Collecting DAWG>=0.8\n",
            "  Downloading DAWG-0.8.0.tar.gz (371 kB)\n",
            "\u001b[2K     \u001b[90m━━━━━━━━━━━━━━━━━━━━━━━━━━━━━━━━━━━━━━\u001b[0m \u001b[32m371.1/371.1 KB\u001b[0m \u001b[31m24.2 MB/s\u001b[0m eta \u001b[36m0:00:00\u001b[0m\n",
            "\u001b[?25h  Preparing metadata (setup.py) ... \u001b[?25l\u001b[?25hdone\n",
            "Building wheels for collected packages: DAWG, docopt\n",
            "  Building wheel for DAWG (setup.py) ... \u001b[?25l\u001b[?25hdone\n",
            "  Created wheel for DAWG: filename=DAWG-0.8.0-cp39-cp39-linux_x86_64.whl size=1272146 sha256=7e5a33f1c8e689fefca64431646ba632beceb81854b50dcedf53ac08156e0961\n",
            "  Stored in directory: /root/.cache/pip/wheels/ca/92/6b/42b536c832a800acdabe5ad23487a60206c1f46ae5a0a2c76d\n",
            "  Building wheel for docopt (setup.py) ... \u001b[?25l\u001b[?25hdone\n",
            "  Created wheel for docopt: filename=docopt-0.6.2-py2.py3-none-any.whl size=13721 sha256=6983358b9aec50bcdb7e0d25734dc3266b121d07e3a7172223e788896abd04de\n",
            "  Stored in directory: /root/.cache/pip/wheels/70/4a/46/1309fc853b8d395e60bafaf1b6df7845bdd82c95fd59dd8d2b\n",
            "Successfully built DAWG docopt\n",
            "Installing collected packages: pymorphy2-dicts-ru, docopt, dawg-python, DAWG, pymorphy2\n",
            "Successfully installed DAWG-0.8.0 dawg-python-0.7.2 docopt-0.6.2 pymorphy2-0.9.1 pymorphy2-dicts-ru-2.4.417127.4579844\n"
          ]
        }
      ]
    },
    {
      "cell_type": "code",
      "source": [
        "import pandas as pd\n",
        "import pymorphy2\n",
        "import nltk\n",
        "from nltk.tokenize import word_tokenize\n",
        "from nltk.corpus import stopwords"
      ],
      "metadata": {
        "id": "7BGHAIRc9XEX"
      },
      "execution_count": null,
      "outputs": []
    },
    {
      "cell_type": "code",
      "source": [
        "nltk.download('punkt')\n",
        "nltk.download('stopwords')"
      ],
      "metadata": {
        "colab": {
          "base_uri": "https://localhost:8080/"
        },
        "id": "McleApuC9d4S",
        "outputId": "b548a115-5219-4e4c-b6df-15d6435dc9cf"
      },
      "execution_count": null,
      "outputs": [
        {
          "output_type": "stream",
          "name": "stderr",
          "text": [
            "[nltk_data] Downloading package punkt to /root/nltk_data...\n",
            "[nltk_data]   Unzipping tokenizers/punkt.zip.\n",
            "[nltk_data] Downloading package stopwords to /root/nltk_data...\n",
            "[nltk_data]   Unzipping corpora/stopwords.zip.\n"
          ]
        },
        {
          "output_type": "execute_result",
          "data": {
            "text/plain": [
              "True"
            ]
          },
          "metadata": {},
          "execution_count": 3
        }
      ]
    },
    {
      "cell_type": "code",
      "source": [
        "def preprocess(text, stop_words, punctuation_marks, morph):\n",
        "    tokens = word_tokenize(text.lower())\n",
        "    preprocessed_text = []\n",
        "    for token in tokens:\n",
        "        if token not in punctuation_marks:\n",
        "            lemma = morph.parse(token)[0].normal_form\n",
        "            if lemma not in stop_words:\n",
        "                preprocessed_text.append(lemma)\n",
        "    return preprocessed_text"
      ],
      "metadata": {
        "id": "6djhDUbN99lv"
      },
      "execution_count": null,
      "outputs": []
    },
    {
      "cell_type": "code",
      "source": [
        "punctuation_marks = ['!', ',', '(', ')', ':', '-', '?', '.', '..', '...']\n",
        "stop_words = stopwords.words(\"russian\")\n",
        "morph = pymorphy2.MorphAnalyzer()"
      ],
      "metadata": {
        "id": "0oi3JCSz9-ex"
      },
      "execution_count": null,
      "outputs": []
    },
    {
      "cell_type": "code",
      "source": [
        "!wget https://www.dropbox.com/s/a9r0b2yj3vqvi13/banks.csv?dl=1 -O banks.csv"
      ],
      "metadata": {
        "colab": {
          "base_uri": "https://localhost:8080/"
        },
        "id": "yVeE69hG9gIT",
        "outputId": "321f7caa-52a9-4eb5-d668-f8c943f48652"
      },
      "execution_count": null,
      "outputs": [
        {
          "output_type": "stream",
          "name": "stdout",
          "text": [
            "--2023-04-08 11:14:43--  https://www.dropbox.com/s/a9r0b2yj3vqvi13/banks.csv?dl=1\n",
            "Resolving www.dropbox.com (www.dropbox.com)... 162.125.5.18, 2620:100:601d:18::a27d:512\n",
            "Connecting to www.dropbox.com (www.dropbox.com)|162.125.5.18|:443... connected.\n",
            "HTTP request sent, awaiting response... 302 Found\n",
            "Location: /s/dl/a9r0b2yj3vqvi13/banks.csv [following]\n",
            "--2023-04-08 11:14:43--  https://www.dropbox.com/s/dl/a9r0b2yj3vqvi13/banks.csv\n",
            "Reusing existing connection to www.dropbox.com:443.\n",
            "HTTP request sent, awaiting response... 302 Found\n",
            "Location: https://uca12a7af19d1bf5b2f95791cc46.dl.dropboxusercontent.com/cd/0/get/B5wQKvKWFNEK3TYUHVQkqPzdXGeHLBV_JbXzFZ52nqv6Pqb-MZNSMEViplDKeDuObdBkRwdDT7wrnhMvbMD2QuVNJV92kuiVfcH9UFSQkmoJDwnfA4JmEU2aO0fW3XcImpwiumqql7e2jNHk5kc0_ZJGqzhRkoM4xqGfsv-8pikNUA/file?dl=1# [following]\n",
            "--2023-04-08 11:14:43--  https://uca12a7af19d1bf5b2f95791cc46.dl.dropboxusercontent.com/cd/0/get/B5wQKvKWFNEK3TYUHVQkqPzdXGeHLBV_JbXzFZ52nqv6Pqb-MZNSMEViplDKeDuObdBkRwdDT7wrnhMvbMD2QuVNJV92kuiVfcH9UFSQkmoJDwnfA4JmEU2aO0fW3XcImpwiumqql7e2jNHk5kc0_ZJGqzhRkoM4xqGfsv-8pikNUA/file?dl=1\n",
            "Resolving uca12a7af19d1bf5b2f95791cc46.dl.dropboxusercontent.com (uca12a7af19d1bf5b2f95791cc46.dl.dropboxusercontent.com)... 162.125.5.15, 2620:100:601d:15::a27d:50f\n",
            "Connecting to uca12a7af19d1bf5b2f95791cc46.dl.dropboxusercontent.com (uca12a7af19d1bf5b2f95791cc46.dl.dropboxusercontent.com)|162.125.5.15|:443... connected.\n",
            "HTTP request sent, awaiting response... 200 OK\n",
            "Length: 40746652 (39M) [application/binary]\n",
            "Saving to: ‘banks.csv’\n",
            "\n",
            "banks.csv           100%[===================>]  38.86M  73.0MB/s    in 0.5s    \n",
            "\n",
            "2023-04-08 11:14:44 (73.0 MB/s) - ‘banks.csv’ saved [40746652/40746652]\n",
            "\n"
          ]
        }
      ]
    },
    {
      "cell_type": "code",
      "source": [
        "banks = pd.read_csv('banks.csv', sep='\\t', index_col='idx');"
      ],
      "metadata": {
        "id": "I3bToSmz9zYn"
      },
      "execution_count": null,
      "outputs": []
    },
    {
      "cell_type": "code",
      "source": [
        "banks"
      ],
      "metadata": {
        "colab": {
          "base_uri": "https://localhost:8080/",
          "height": 455
        },
        "id": "haWbnlgB-F1F",
        "outputId": "ab5aba45-4661-4d14-ef44-8bc766d92ef6"
      },
      "execution_count": null,
      "outputs": [
        {
          "output_type": "execute_result",
          "data": {
            "text/plain": [
              "          Score                                               Text\n",
              "idx                                                               \n",
              "0      Positive  В Альфа-Банке работает замечательная девушка -...\n",
              "1      Negative  Оформляя рассрочку в м. Видео в меге тёплый ст...\n",
              "2      Positive  Очень порадовала оперативность работы в банке....\n",
              "3      Negative  Имела неосторожность оформить потреб. кредит в...\n",
              "4      Negative  Небольшая предыстория: Нашел на сайте MDM банк...\n",
              "...         ...                                                ...\n",
              "13994  Positive  О высокой надёжности МКБ, порядочности и добро...\n",
              "13995  Positive  Обслуживаюсь в офисе на Чернореченской 42а, ка...\n",
              "13996  Positive  Попала сегодня в очень неприятную ситуацию. Ре...\n",
              "13997  Positive  Добрый день! Давно являюсь клиентом банка Русс...\n",
              "13998  Negative  Сначала было все банально. Взял в кредит mp3 п...\n",
              "\n",
              "[13999 rows x 2 columns]"
            ],
            "text/html": [
              "\n",
              "  <div id=\"df-fa730699-38bc-4f78-9b9f-68fb07797d87\">\n",
              "    <div class=\"colab-df-container\">\n",
              "      <div>\n",
              "<style scoped>\n",
              "    .dataframe tbody tr th:only-of-type {\n",
              "        vertical-align: middle;\n",
              "    }\n",
              "\n",
              "    .dataframe tbody tr th {\n",
              "        vertical-align: top;\n",
              "    }\n",
              "\n",
              "    .dataframe thead th {\n",
              "        text-align: right;\n",
              "    }\n",
              "</style>\n",
              "<table border=\"1\" class=\"dataframe\">\n",
              "  <thead>\n",
              "    <tr style=\"text-align: right;\">\n",
              "      <th></th>\n",
              "      <th>Score</th>\n",
              "      <th>Text</th>\n",
              "    </tr>\n",
              "    <tr>\n",
              "      <th>idx</th>\n",
              "      <th></th>\n",
              "      <th></th>\n",
              "    </tr>\n",
              "  </thead>\n",
              "  <tbody>\n",
              "    <tr>\n",
              "      <th>0</th>\n",
              "      <td>Positive</td>\n",
              "      <td>В Альфа-Банке работает замечательная девушка -...</td>\n",
              "    </tr>\n",
              "    <tr>\n",
              "      <th>1</th>\n",
              "      <td>Negative</td>\n",
              "      <td>Оформляя рассрочку в м. Видео в меге тёплый ст...</td>\n",
              "    </tr>\n",
              "    <tr>\n",
              "      <th>2</th>\n",
              "      <td>Positive</td>\n",
              "      <td>Очень порадовала оперативность работы в банке....</td>\n",
              "    </tr>\n",
              "    <tr>\n",
              "      <th>3</th>\n",
              "      <td>Negative</td>\n",
              "      <td>Имела неосторожность оформить потреб. кредит в...</td>\n",
              "    </tr>\n",
              "    <tr>\n",
              "      <th>4</th>\n",
              "      <td>Negative</td>\n",
              "      <td>Небольшая предыстория: Нашел на сайте MDM банк...</td>\n",
              "    </tr>\n",
              "    <tr>\n",
              "      <th>...</th>\n",
              "      <td>...</td>\n",
              "      <td>...</td>\n",
              "    </tr>\n",
              "    <tr>\n",
              "      <th>13994</th>\n",
              "      <td>Positive</td>\n",
              "      <td>О высокой надёжности МКБ, порядочности и добро...</td>\n",
              "    </tr>\n",
              "    <tr>\n",
              "      <th>13995</th>\n",
              "      <td>Positive</td>\n",
              "      <td>Обслуживаюсь в офисе на Чернореченской 42а, ка...</td>\n",
              "    </tr>\n",
              "    <tr>\n",
              "      <th>13996</th>\n",
              "      <td>Positive</td>\n",
              "      <td>Попала сегодня в очень неприятную ситуацию. Ре...</td>\n",
              "    </tr>\n",
              "    <tr>\n",
              "      <th>13997</th>\n",
              "      <td>Positive</td>\n",
              "      <td>Добрый день! Давно являюсь клиентом банка Русс...</td>\n",
              "    </tr>\n",
              "    <tr>\n",
              "      <th>13998</th>\n",
              "      <td>Negative</td>\n",
              "      <td>Сначала было все банально. Взял в кредит mp3 п...</td>\n",
              "    </tr>\n",
              "  </tbody>\n",
              "</table>\n",
              "<p>13999 rows × 2 columns</p>\n",
              "</div>\n",
              "      <button class=\"colab-df-convert\" onclick=\"convertToInteractive('df-fa730699-38bc-4f78-9b9f-68fb07797d87')\"\n",
              "              title=\"Convert this dataframe to an interactive table.\"\n",
              "              style=\"display:none;\">\n",
              "        \n",
              "  <svg xmlns=\"http://www.w3.org/2000/svg\" height=\"24px\"viewBox=\"0 0 24 24\"\n",
              "       width=\"24px\">\n",
              "    <path d=\"M0 0h24v24H0V0z\" fill=\"none\"/>\n",
              "    <path d=\"M18.56 5.44l.94 2.06.94-2.06 2.06-.94-2.06-.94-.94-2.06-.94 2.06-2.06.94zm-11 1L8.5 8.5l.94-2.06 2.06-.94-2.06-.94L8.5 2.5l-.94 2.06-2.06.94zm10 10l.94 2.06.94-2.06 2.06-.94-2.06-.94-.94-2.06-.94 2.06-2.06.94z\"/><path d=\"M17.41 7.96l-1.37-1.37c-.4-.4-.92-.59-1.43-.59-.52 0-1.04.2-1.43.59L10.3 9.45l-7.72 7.72c-.78.78-.78 2.05 0 2.83L4 21.41c.39.39.9.59 1.41.59.51 0 1.02-.2 1.41-.59l7.78-7.78 2.81-2.81c.8-.78.8-2.07 0-2.86zM5.41 20L4 18.59l7.72-7.72 1.47 1.35L5.41 20z\"/>\n",
              "  </svg>\n",
              "      </button>\n",
              "      \n",
              "  <style>\n",
              "    .colab-df-container {\n",
              "      display:flex;\n",
              "      flex-wrap:wrap;\n",
              "      gap: 12px;\n",
              "    }\n",
              "\n",
              "    .colab-df-convert {\n",
              "      background-color: #E8F0FE;\n",
              "      border: none;\n",
              "      border-radius: 50%;\n",
              "      cursor: pointer;\n",
              "      display: none;\n",
              "      fill: #1967D2;\n",
              "      height: 32px;\n",
              "      padding: 0 0 0 0;\n",
              "      width: 32px;\n",
              "    }\n",
              "\n",
              "    .colab-df-convert:hover {\n",
              "      background-color: #E2EBFA;\n",
              "      box-shadow: 0px 1px 2px rgba(60, 64, 67, 0.3), 0px 1px 3px 1px rgba(60, 64, 67, 0.15);\n",
              "      fill: #174EA6;\n",
              "    }\n",
              "\n",
              "    [theme=dark] .colab-df-convert {\n",
              "      background-color: #3B4455;\n",
              "      fill: #D2E3FC;\n",
              "    }\n",
              "\n",
              "    [theme=dark] .colab-df-convert:hover {\n",
              "      background-color: #434B5C;\n",
              "      box-shadow: 0px 1px 3px 1px rgba(0, 0, 0, 0.15);\n",
              "      filter: drop-shadow(0px 1px 2px rgba(0, 0, 0, 0.3));\n",
              "      fill: #FFFFFF;\n",
              "    }\n",
              "  </style>\n",
              "\n",
              "      <script>\n",
              "        const buttonEl =\n",
              "          document.querySelector('#df-fa730699-38bc-4f78-9b9f-68fb07797d87 button.colab-df-convert');\n",
              "        buttonEl.style.display =\n",
              "          google.colab.kernel.accessAllowed ? 'block' : 'none';\n",
              "\n",
              "        async function convertToInteractive(key) {\n",
              "          const element = document.querySelector('#df-fa730699-38bc-4f78-9b9f-68fb07797d87');\n",
              "          const dataTable =\n",
              "            await google.colab.kernel.invokeFunction('convertToInteractive',\n",
              "                                                     [key], {});\n",
              "          if (!dataTable) return;\n",
              "\n",
              "          const docLinkHtml = 'Like what you see? Visit the ' +\n",
              "            '<a target=\"_blank\" href=https://colab.research.google.com/notebooks/data_table.ipynb>data table notebook</a>'\n",
              "            + ' to learn more about interactive tables.';\n",
              "          element.innerHTML = '';\n",
              "          dataTable['output_type'] = 'display_data';\n",
              "          await google.colab.output.renderOutput(dataTable, element);\n",
              "          const docLink = document.createElement('div');\n",
              "          docLink.innerHTML = docLinkHtml;\n",
              "          element.appendChild(docLink);\n",
              "        }\n",
              "      </script>\n",
              "    </div>\n",
              "  </div>\n",
              "  "
            ]
          },
          "metadata": {},
          "execution_count": 8
        }
      ]
    },
    {
      "cell_type": "code",
      "source": [
        "banks['Preprocessed_texts'] = banks.apply(lambda row: preprocess(row['Text'], punctuation_marks, stop_words, morph), axis=1)"
      ],
      "metadata": {
        "id": "xESzC3x_JI4_"
      },
      "execution_count": null,
      "outputs": []
    },
    {
      "cell_type": "code",
      "source": [
        "banks"
      ],
      "metadata": {
        "colab": {
          "base_uri": "https://localhost:8080/",
          "height": 455
        },
        "id": "2ifHbDadJbCA",
        "outputId": "0dd7358f-742b-4170-9bf5-5fdab365c824"
      },
      "execution_count": null,
      "outputs": [
        {
          "output_type": "execute_result",
          "data": {
            "text/plain": [
              "          Score                                               Text  \\\n",
              "idx                                                                  \n",
              "0      Positive  В Альфа-Банке работает замечательная девушка -...   \n",
              "1      Negative  Оформляя рассрочку в м. Видео в меге тёплый ст...   \n",
              "2      Positive  Очень порадовала оперативность работы в банке....   \n",
              "3      Negative  Имела неосторожность оформить потреб. кредит в...   \n",
              "4      Negative  Небольшая предыстория: Нашел на сайте MDM банк...   \n",
              "...         ...                                                ...   \n",
              "13994  Positive  О высокой надёжности МКБ, порядочности и добро...   \n",
              "13995  Positive  Обслуживаюсь в офисе на Чернореченской 42а, ка...   \n",
              "13996  Positive  Попала сегодня в очень неприятную ситуацию. Ре...   \n",
              "13997  Positive  Добрый день! Давно являюсь клиентом банка Русс...   \n",
              "13998  Negative  Сначала было все банально. Взял в кредит mp3 п...   \n",
              "\n",
              "                                      Preprocessed_texts  \n",
              "idx                                                       \n",
              "0      [альфа-банк, работать, замечательный, девушка,...  \n",
              "1      [оформлять, рассрочка, м., видео, мег, тёплый,...  \n",
              "2      [очень, порадовать, оперативность, работа, бан...  \n",
              "3      [иметь, неосторожность, оформить, потреба, кре...  \n",
              "4      [небольшой, предыстория, найти, сайт, mdm, бан...  \n",
              "...                                                  ...  \n",
              "13994  [высокий, надёжность, мкб, порядочность, добро...  \n",
              "13995  [обслуживаться, офис, чернореченский, 42а, физ...  \n",
              "13996  [попасть, сегодня, очень, неприятный, ситуация...  \n",
              "13997  [добрый, день, давно, являться, клиент, банк, ...  \n",
              "13998  [сначала, банально, взять, кредит, mp3, плеер,...  \n",
              "\n",
              "[13999 rows x 3 columns]"
            ],
            "text/html": [
              "\n",
              "  <div id=\"df-b6fcca89-ecef-4999-a570-6bbfbdb67c07\">\n",
              "    <div class=\"colab-df-container\">\n",
              "      <div>\n",
              "<style scoped>\n",
              "    .dataframe tbody tr th:only-of-type {\n",
              "        vertical-align: middle;\n",
              "    }\n",
              "\n",
              "    .dataframe tbody tr th {\n",
              "        vertical-align: top;\n",
              "    }\n",
              "\n",
              "    .dataframe thead th {\n",
              "        text-align: right;\n",
              "    }\n",
              "</style>\n",
              "<table border=\"1\" class=\"dataframe\">\n",
              "  <thead>\n",
              "    <tr style=\"text-align: right;\">\n",
              "      <th></th>\n",
              "      <th>Score</th>\n",
              "      <th>Text</th>\n",
              "      <th>Preprocessed_texts</th>\n",
              "    </tr>\n",
              "    <tr>\n",
              "      <th>idx</th>\n",
              "      <th></th>\n",
              "      <th></th>\n",
              "      <th></th>\n",
              "    </tr>\n",
              "  </thead>\n",
              "  <tbody>\n",
              "    <tr>\n",
              "      <th>0</th>\n",
              "      <td>Positive</td>\n",
              "      <td>В Альфа-Банке работает замечательная девушка -...</td>\n",
              "      <td>[альфа-банк, работать, замечательный, девушка,...</td>\n",
              "    </tr>\n",
              "    <tr>\n",
              "      <th>1</th>\n",
              "      <td>Negative</td>\n",
              "      <td>Оформляя рассрочку в м. Видео в меге тёплый ст...</td>\n",
              "      <td>[оформлять, рассрочка, м., видео, мег, тёплый,...</td>\n",
              "    </tr>\n",
              "    <tr>\n",
              "      <th>2</th>\n",
              "      <td>Positive</td>\n",
              "      <td>Очень порадовала оперативность работы в банке....</td>\n",
              "      <td>[очень, порадовать, оперативность, работа, бан...</td>\n",
              "    </tr>\n",
              "    <tr>\n",
              "      <th>3</th>\n",
              "      <td>Negative</td>\n",
              "      <td>Имела неосторожность оформить потреб. кредит в...</td>\n",
              "      <td>[иметь, неосторожность, оформить, потреба, кре...</td>\n",
              "    </tr>\n",
              "    <tr>\n",
              "      <th>4</th>\n",
              "      <td>Negative</td>\n",
              "      <td>Небольшая предыстория: Нашел на сайте MDM банк...</td>\n",
              "      <td>[небольшой, предыстория, найти, сайт, mdm, бан...</td>\n",
              "    </tr>\n",
              "    <tr>\n",
              "      <th>...</th>\n",
              "      <td>...</td>\n",
              "      <td>...</td>\n",
              "      <td>...</td>\n",
              "    </tr>\n",
              "    <tr>\n",
              "      <th>13994</th>\n",
              "      <td>Positive</td>\n",
              "      <td>О высокой надёжности МКБ, порядочности и добро...</td>\n",
              "      <td>[высокий, надёжность, мкб, порядочность, добро...</td>\n",
              "    </tr>\n",
              "    <tr>\n",
              "      <th>13995</th>\n",
              "      <td>Positive</td>\n",
              "      <td>Обслуживаюсь в офисе на Чернореченской 42а, ка...</td>\n",
              "      <td>[обслуживаться, офис, чернореченский, 42а, физ...</td>\n",
              "    </tr>\n",
              "    <tr>\n",
              "      <th>13996</th>\n",
              "      <td>Positive</td>\n",
              "      <td>Попала сегодня в очень неприятную ситуацию. Ре...</td>\n",
              "      <td>[попасть, сегодня, очень, неприятный, ситуация...</td>\n",
              "    </tr>\n",
              "    <tr>\n",
              "      <th>13997</th>\n",
              "      <td>Positive</td>\n",
              "      <td>Добрый день! Давно являюсь клиентом банка Русс...</td>\n",
              "      <td>[добрый, день, давно, являться, клиент, банк, ...</td>\n",
              "    </tr>\n",
              "    <tr>\n",
              "      <th>13998</th>\n",
              "      <td>Negative</td>\n",
              "      <td>Сначала было все банально. Взял в кредит mp3 п...</td>\n",
              "      <td>[сначала, банально, взять, кредит, mp3, плеер,...</td>\n",
              "    </tr>\n",
              "  </tbody>\n",
              "</table>\n",
              "<p>13999 rows × 3 columns</p>\n",
              "</div>\n",
              "      <button class=\"colab-df-convert\" onclick=\"convertToInteractive('df-b6fcca89-ecef-4999-a570-6bbfbdb67c07')\"\n",
              "              title=\"Convert this dataframe to an interactive table.\"\n",
              "              style=\"display:none;\">\n",
              "        \n",
              "  <svg xmlns=\"http://www.w3.org/2000/svg\" height=\"24px\"viewBox=\"0 0 24 24\"\n",
              "       width=\"24px\">\n",
              "    <path d=\"M0 0h24v24H0V0z\" fill=\"none\"/>\n",
              "    <path d=\"M18.56 5.44l.94 2.06.94-2.06 2.06-.94-2.06-.94-.94-2.06-.94 2.06-2.06.94zm-11 1L8.5 8.5l.94-2.06 2.06-.94-2.06-.94L8.5 2.5l-.94 2.06-2.06.94zm10 10l.94 2.06.94-2.06 2.06-.94-2.06-.94-.94-2.06-.94 2.06-2.06.94z\"/><path d=\"M17.41 7.96l-1.37-1.37c-.4-.4-.92-.59-1.43-.59-.52 0-1.04.2-1.43.59L10.3 9.45l-7.72 7.72c-.78.78-.78 2.05 0 2.83L4 21.41c.39.39.9.59 1.41.59.51 0 1.02-.2 1.41-.59l7.78-7.78 2.81-2.81c.8-.78.8-2.07 0-2.86zM5.41 20L4 18.59l7.72-7.72 1.47 1.35L5.41 20z\"/>\n",
              "  </svg>\n",
              "      </button>\n",
              "      \n",
              "  <style>\n",
              "    .colab-df-container {\n",
              "      display:flex;\n",
              "      flex-wrap:wrap;\n",
              "      gap: 12px;\n",
              "    }\n",
              "\n",
              "    .colab-df-convert {\n",
              "      background-color: #E8F0FE;\n",
              "      border: none;\n",
              "      border-radius: 50%;\n",
              "      cursor: pointer;\n",
              "      display: none;\n",
              "      fill: #1967D2;\n",
              "      height: 32px;\n",
              "      padding: 0 0 0 0;\n",
              "      width: 32px;\n",
              "    }\n",
              "\n",
              "    .colab-df-convert:hover {\n",
              "      background-color: #E2EBFA;\n",
              "      box-shadow: 0px 1px 2px rgba(60, 64, 67, 0.3), 0px 1px 3px 1px rgba(60, 64, 67, 0.15);\n",
              "      fill: #174EA6;\n",
              "    }\n",
              "\n",
              "    [theme=dark] .colab-df-convert {\n",
              "      background-color: #3B4455;\n",
              "      fill: #D2E3FC;\n",
              "    }\n",
              "\n",
              "    [theme=dark] .colab-df-convert:hover {\n",
              "      background-color: #434B5C;\n",
              "      box-shadow: 0px 1px 3px 1px rgba(0, 0, 0, 0.15);\n",
              "      filter: drop-shadow(0px 1px 2px rgba(0, 0, 0, 0.3));\n",
              "      fill: #FFFFFF;\n",
              "    }\n",
              "  </style>\n",
              "\n",
              "      <script>\n",
              "        const buttonEl =\n",
              "          document.querySelector('#df-b6fcca89-ecef-4999-a570-6bbfbdb67c07 button.colab-df-convert');\n",
              "        buttonEl.style.display =\n",
              "          google.colab.kernel.accessAllowed ? 'block' : 'none';\n",
              "\n",
              "        async function convertToInteractive(key) {\n",
              "          const element = document.querySelector('#df-b6fcca89-ecef-4999-a570-6bbfbdb67c07');\n",
              "          const dataTable =\n",
              "            await google.colab.kernel.invokeFunction('convertToInteractive',\n",
              "                                                     [key], {});\n",
              "          if (!dataTable) return;\n",
              "\n",
              "          const docLinkHtml = 'Like what you see? Visit the ' +\n",
              "            '<a target=\"_blank\" href=https://colab.research.google.com/notebooks/data_table.ipynb>data table notebook</a>'\n",
              "            + ' to learn more about interactive tables.';\n",
              "          element.innerHTML = '';\n",
              "          dataTable['output_type'] = 'display_data';\n",
              "          await google.colab.output.renderOutput(dataTable, element);\n",
              "          const docLink = document.createElement('div');\n",
              "          docLink.innerHTML = docLinkHtml;\n",
              "          element.appendChild(docLink);\n",
              "        }\n",
              "      </script>\n",
              "    </div>\n",
              "  </div>\n",
              "  "
            ]
          },
          "metadata": {},
          "execution_count": 10
        }
      ]
    },
    {
      "cell_type": "markdown",
      "source": [
        "## Обучение Word2Vec на отзывах на банки"
      ],
      "metadata": {
        "id": "hrFJZ9rsJITw"
      }
    },
    {
      "cell_type": "code",
      "source": [
        "import gensim.models"
      ],
      "metadata": {
        "id": "rJ9GbO29Jkdq"
      },
      "execution_count": null,
      "outputs": []
    },
    {
      "cell_type": "code",
      "source": [
        "model = gensim.models.Word2Vec(sentences=banks['Preprocessed_texts'],\n",
        "                               # Используем только слова, встречающиеся минимум 5 раз и в любом случае, если слово используется редко, то сложно понять его смысл\n",
        "                               min_count=5,\n",
        "                               vector_size=100)"
      ],
      "metadata": {
        "id": "Bk2Phyi1Jpn4"
      },
      "execution_count": null,
      "outputs": []
    },
    {
      "cell_type": "code",
      "source": [
        "model.wv['альфа-банк']"
      ],
      "metadata": {
        "colab": {
          "base_uri": "https://localhost:8080/"
        },
        "id": "Iz8DGArxLCCK",
        "outputId": "e795e813-c19a-446d-b98c-4326cfe9600e"
      },
      "execution_count": null,
      "outputs": [
        {
          "output_type": "execute_result",
          "data": {
            "text/plain": [
              "array([-0.25089076, -0.65877676,  0.5147335 ,  0.92979896, -1.064438  ,\n",
              "       -1.1806476 ,  0.22694483,  0.89967453, -0.5941724 ,  1.0317999 ,\n",
              "        1.0201598 , -0.22397493, -0.5596784 , -0.88198763, -0.43373162,\n",
              "       -0.5547372 , -0.09502857, -0.43976268, -0.1576873 , -0.485755  ,\n",
              "       -1.1975471 ,  0.7229492 ,  0.52628785,  0.05852138,  0.13857621,\n",
              "       -1.6400115 , -1.0203139 ,  0.72240645, -0.7048731 , -0.5188238 ,\n",
              "       -0.17077187, -0.7935835 ,  1.3439844 , -0.55809987, -1.5541853 ,\n",
              "       -0.9900477 ,  1.5649211 , -0.9317926 ,  0.35660362, -1.1632097 ,\n",
              "        0.7336595 ,  0.9510679 , -0.05715861,  0.7839336 ,  0.37505236,\n",
              "        1.3531667 ,  0.74608594,  0.5400542 ,  0.02779879,  0.42284262,\n",
              "       -0.6549035 ,  0.22599271,  0.6500962 , -1.1732337 ,  0.20349202,\n",
              "       -0.77509016,  1.5029048 ,  0.44757253, -0.43032676, -0.02084845,\n",
              "       -0.95356554, -0.3573223 , -0.17432714,  0.38665158,  1.033842  ,\n",
              "        0.47573698,  0.7818817 ,  1.7582484 , -0.41403112, -0.49012157,\n",
              "       -0.0997555 ,  1.7754228 ,  0.1401302 ,  0.6651942 , -0.47293508,\n",
              "       -0.0511594 ,  0.698431  , -0.9931224 ,  1.1819571 , -0.5758145 ,\n",
              "       -1.1720593 ,  1.1487652 , -0.02378768,  0.6416433 ,  1.6090702 ,\n",
              "       -0.06669551,  0.9386326 , -1.0837277 , -0.12066181,  1.3487705 ,\n",
              "       -1.2361337 ,  0.7889731 ,  1.0459468 ,  1.3898851 ,  1.589341  ,\n",
              "        1.2195939 , -1.9421694 ,  0.13130015,  0.84120554, -0.05811134],\n",
              "      dtype=float32)"
            ]
          },
          "metadata": {},
          "execution_count": 19
        }
      ]
    },
    {
      "cell_type": "code",
      "source": [
        "model.wv['работать']"
      ],
      "metadata": {
        "colab": {
          "base_uri": "https://localhost:8080/"
        },
        "id": "dUeMD8Q2K0EZ",
        "outputId": "07cdca34-2b8b-4711-c95d-1cdf3593a38f"
      },
      "execution_count": null,
      "outputs": [
        {
          "output_type": "execute_result",
          "data": {
            "text/plain": [
              "array([-0.10175087, -1.0809928 ,  2.108006  , -2.486412  ,  0.9196213 ,\n",
              "       -1.4626027 , -0.21060044,  0.8756251 , -1.1829846 ,  0.29253986,\n",
              "        0.9716915 , -1.8375353 ,  0.21940854,  1.0647212 , -1.3188096 ,\n",
              "       -2.0270655 ,  1.5214329 , -1.4050672 , -0.998928  ,  0.4807411 ,\n",
              "        1.5911163 ,  0.06308132, -0.5794307 , -0.29872635,  0.4041926 ,\n",
              "        1.3993962 ,  1.1623596 , -0.92349285, -0.15602101, -1.2537895 ,\n",
              "       -0.91006106, -0.6138517 , -0.07856853,  1.4482253 ,  0.66916853,\n",
              "        2.3700216 ,  1.4052576 , -0.20275462,  2.3438592 , -1.0315827 ,\n",
              "       -0.59384686,  0.50704604,  1.8725182 , -0.74886465, -2.1523476 ,\n",
              "        0.74585223, -0.75162435, -0.37324363, -1.0254221 , -0.91119355,\n",
              "        0.10711198, -0.55019647, -0.8051673 ,  0.6939517 ,  0.10643438,\n",
              "       -0.3512112 ,  0.04656842,  0.21654834, -2.7612953 , -0.19400752,\n",
              "        0.741294  , -1.7558118 , -0.09971482, -1.0906675 ,  0.06469075,\n",
              "       -2.9385962 ,  0.49728748, -0.858944  ,  0.47176296,  1.0061342 ,\n",
              "        0.46376002,  0.8005239 ,  0.622149  , -0.45643342, -1.7625697 ,\n",
              "        0.11286656, -2.7747343 , -1.1512142 ,  0.35218796, -1.7369121 ,\n",
              "        0.80553836,  0.9919106 , -2.3869882 , -1.048753  , -0.40396813,\n",
              "        0.16398455, -0.05876215,  0.79415923, -1.1412921 , -0.17201011,\n",
              "        2.0697694 ,  2.4000843 , -1.3311251 , -1.8073468 , -0.9138113 ,\n",
              "        1.6615034 ,  0.26373884, -1.6085068 , -0.23807597, -2.377088  ],\n",
              "      dtype=float32)"
            ]
          },
          "metadata": {},
          "execution_count": 20
        }
      ]
    },
    {
      "cell_type": "code",
      "source": [
        "model.wv['замечательный']"
      ],
      "metadata": {
        "colab": {
          "base_uri": "https://localhost:8080/"
        },
        "id": "7teZFAHemRip",
        "outputId": "5835d7cb-d885-48a0-bf99-16e05f02d23c"
      },
      "execution_count": null,
      "outputs": [
        {
          "output_type": "execute_result",
          "data": {
            "text/plain": [
              "array([-0.8730825 , -0.47168142,  1.0432241 , -0.6416336 ,  0.05238728,\n",
              "       -0.5432315 ,  1.1219734 , -0.2129176 ,  0.02228874,  0.02450718,\n",
              "       -0.9726496 , -0.8511167 ,  0.40730917, -0.548813  ,  0.2380059 ,\n",
              "       -0.4824895 , -0.06937856,  0.04602629, -0.23005596, -0.80491364,\n",
              "        0.6730905 , -0.13042723,  0.544956  , -0.28090075, -0.2804369 ,\n",
              "        0.53933316,  0.06290711,  0.25830248, -0.3058899 ,  0.18012337,\n",
              "       -0.38275272, -0.41012093, -0.753202  ,  0.26304454, -0.74885386,\n",
              "        0.52303267,  0.22779746, -0.6058196 ,  0.01166278, -0.73342   ,\n",
              "       -0.05113549,  0.4113305 ,  0.2075743 , -0.65207016, -0.0584805 ,\n",
              "       -0.05863456,  0.02648681,  0.57240814, -0.20739637,  0.60122174,\n",
              "        0.13498734, -1.1715037 , -0.47627613,  0.08168343, -0.47841012,\n",
              "        0.14343655,  0.5263094 ,  0.6050259 , -0.9302115 ,  0.85871226,\n",
              "       -0.7627511 , -1.0218766 , -0.12033543, -0.7765567 ,  0.20139004,\n",
              "        0.6807579 , -0.17919402, -0.0060102 ,  0.3547247 ,  0.47516322,\n",
              "        0.39002147,  0.81369144,  0.10934316, -0.43142813, -0.84837943,\n",
              "        0.55562496, -0.41643903, -0.2863621 ,  0.11179703,  0.28129545,\n",
              "       -0.6943973 ,  0.5074558 , -0.17513946, -0.22859755,  0.5662937 ,\n",
              "        0.63799506,  0.31650633,  0.2510866 ,  0.15428835,  0.06268893,\n",
              "       -0.02324835,  0.0158396 ,  0.06518542, -0.6140557 , -0.6089245 ,\n",
              "        0.34638295,  1.3141011 , -0.48789325,  0.6542465 , -0.31695786],\n",
              "      dtype=float32)"
            ]
          },
          "metadata": {},
          "execution_count": 21
        }
      ]
    },
    {
      "cell_type": "code",
      "source": [
        "model.wv.most_similar('замечательный')"
      ],
      "metadata": {
        "colab": {
          "base_uri": "https://localhost:8080/"
        },
        "id": "8rxpdNHPLpIW",
        "outputId": "90c7709c-3c81-41ed-8444-3546c86ffda8"
      },
      "execution_count": null,
      "outputs": [
        {
          "output_type": "execute_result",
          "data": {
            "text/plain": [
              "[('прекрасный', 0.757600724697113),\n",
              " ('отличный', 0.7105039358139038),\n",
              " ('достойный', 0.6932812929153442),\n",
              " ('молодец', 0.69072026014328),\n",
              " ('псб', 0.6794296503067017),\n",
              " ('тёплый', 0.6666871905326843),\n",
              " ('великолепный', 0.6629226207733154),\n",
              " ('клиентоориентировать', 0.6602783203125),\n",
              " ('позитивный', 0.6602382063865662),\n",
              " ('выручить', 0.6591485738754272)]"
            ]
          },
          "metadata": {},
          "execution_count": 22
        }
      ]
    },
    {
      "cell_type": "code",
      "source": [
        "model.wv.most_similar('стрессовый')"
      ],
      "metadata": {
        "colab": {
          "base_uri": "https://localhost:8080/"
        },
        "id": "ZXbVAG00L3Qz",
        "outputId": "db602637-4441-4475-931a-5fae7ab0c60d"
      },
      "execution_count": null,
      "outputs": [
        {
          "output_type": "execute_result",
          "data": {
            "text/plain": [
              "[('конфликтный', 0.8973307013511658),\n",
              " ('прояснение', 0.8952047228813171),\n",
              " ('абсурдность', 0.8785838484764099),\n",
              " ('нештатный', 0.8760561943054199),\n",
              " ('безвыходный', 0.8679152131080627),\n",
              " ('абсурдный', 0.8563932180404663),\n",
              " ('затруднительный', 0.8544430136680603),\n",
              " ('тупиковый', 0.8543331623077393),\n",
              " ('разбор', 0.8514256477355957),\n",
              " ('критический', 0.8501579165458679)]"
            ]
          },
          "metadata": {},
          "execution_count": 23
        }
      ]
    },
    {
      "cell_type": "markdown",
      "source": [
        "## Сохранение обученной модели"
      ],
      "metadata": {
        "id": "_AZhtI2_MQr9"
      }
    },
    {
      "cell_type": "code",
      "source": [
        "model.save('word2vec-banki.ru-50')"
      ],
      "metadata": {
        "id": "1vIqrI9NMTnN"
      },
      "execution_count": null,
      "outputs": []
    },
    {
      "cell_type": "code",
      "source": [
        "!ls -lh"
      ],
      "metadata": {
        "colab": {
          "base_uri": "https://localhost:8080/"
        },
        "id": "GBReJc3EOYkY",
        "outputId": "ae8c13b1-3161-41a0-9418-37adf0275163"
      },
      "execution_count": null,
      "outputs": [
        {
          "output_type": "stream",
          "name": "stdout",
          "text": [
            "total 51M\n",
            "-rw-r--r-- 1 root root  39M Apr  8 11:14 banks.csv\n",
            "drwxr-xr-x 1 root root 4.0K Apr  6 13:39 sample_data\n",
            "-rw-r--r-- 1 root root  12M Apr  8 11:27 word2vec-banki.ru-50\n"
          ]
        }
      ]
    },
    {
      "cell_type": "markdown",
      "source": [
        "## Загрузка сохраненной модели"
      ],
      "metadata": {
        "id": "Zv8BLVNXOWeR"
      }
    },
    {
      "cell_type": "code",
      "source": [
        "new_model = gensim.models.Word2Vec.load('word2vec-banki.ru-50')"
      ],
      "metadata": {
        "id": "RO5IbTE4OV28"
      },
      "execution_count": null,
      "outputs": []
    },
    {
      "cell_type": "code",
      "source": [
        "new_model.wv['работать']"
      ],
      "metadata": {
        "colab": {
          "base_uri": "https://localhost:8080/"
        },
        "id": "-wcPbHQ9Opb3",
        "outputId": "70badf32-63f0-4bd3-b69f-680f5dafa166"
      },
      "execution_count": null,
      "outputs": [
        {
          "output_type": "execute_result",
          "data": {
            "text/plain": [
              "array([-0.10175087, -1.0809928 ,  2.108006  , -2.486412  ,  0.9196213 ,\n",
              "       -1.4626027 , -0.21060044,  0.8756251 , -1.1829846 ,  0.29253986,\n",
              "        0.9716915 , -1.8375353 ,  0.21940854,  1.0647212 , -1.3188096 ,\n",
              "       -2.0270655 ,  1.5214329 , -1.4050672 , -0.998928  ,  0.4807411 ,\n",
              "        1.5911163 ,  0.06308132, -0.5794307 , -0.29872635,  0.4041926 ,\n",
              "        1.3993962 ,  1.1623596 , -0.92349285, -0.15602101, -1.2537895 ,\n",
              "       -0.91006106, -0.6138517 , -0.07856853,  1.4482253 ,  0.66916853,\n",
              "        2.3700216 ,  1.4052576 , -0.20275462,  2.3438592 , -1.0315827 ,\n",
              "       -0.59384686,  0.50704604,  1.8725182 , -0.74886465, -2.1523476 ,\n",
              "        0.74585223, -0.75162435, -0.37324363, -1.0254221 , -0.91119355,\n",
              "        0.10711198, -0.55019647, -0.8051673 ,  0.6939517 ,  0.10643438,\n",
              "       -0.3512112 ,  0.04656842,  0.21654834, -2.7612953 , -0.19400752,\n",
              "        0.741294  , -1.7558118 , -0.09971482, -1.0906675 ,  0.06469075,\n",
              "       -2.9385962 ,  0.49728748, -0.858944  ,  0.47176296,  1.0061342 ,\n",
              "        0.46376002,  0.8005239 ,  0.622149  , -0.45643342, -1.7625697 ,\n",
              "        0.11286656, -2.7747343 , -1.1512142 ,  0.35218796, -1.7369121 ,\n",
              "        0.80553836,  0.9919106 , -2.3869882 , -1.048753  , -0.40396813,\n",
              "        0.16398455, -0.05876215,  0.79415923, -1.1412921 , -0.17201011,\n",
              "        2.0697694 ,  2.4000843 , -1.3311251 , -1.8073468 , -0.9138113 ,\n",
              "        1.6615034 ,  0.26373884, -1.6085068 , -0.23807597, -2.377088  ],\n",
              "      dtype=float32)"
            ]
          },
          "metadata": {},
          "execution_count": 27
        }
      ]
    },
    {
      "cell_type": "markdown",
      "source": [
        "## Полезные ссылки\n",
        "\n",
        "1. [Библиотека Gensim](https://radimrehurek.com/gensim/index.html).\n",
        "2. [Word2Vec в Gensim](https://radimrehurek.com/gensim/auto_examples/tutorials/run_word2vec.html).\n"
      ],
      "metadata": {
        "id": "agjDpcaV0dUf"
      }
    }
  ]
}